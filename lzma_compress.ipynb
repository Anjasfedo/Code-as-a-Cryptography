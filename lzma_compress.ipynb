{
  "nbformat": 4,
  "nbformat_minor": 0,
  "metadata": {
    "colab": {
      "provenance": [],
      "authorship_tag": "ABX9TyPRrTFMifoUGwKtwF/156kx",
      "include_colab_link": true
    },
    "kernelspec": {
      "name": "python3",
      "display_name": "Python 3"
    },
    "language_info": {
      "name": "python"
    }
  },
  "cells": [
    {
      "cell_type": "markdown",
      "metadata": {
        "id": "view-in-github",
        "colab_type": "text"
      },
      "source": [
        "<a href=\"https://colab.research.google.com/github/Anjasfedo/Code-as-a-Cryptography/blob/main/lzma_compress.ipynb\" target=\"_parent\"><img src=\"https://colab.research.google.com/assets/colab-badge.svg\" alt=\"Open In Colab\"/></a>"
      ]
    },
    {
      "cell_type": "code",
      "execution_count": 2,
      "metadata": {
        "colab": {
          "base_uri": "https://localhost:8080/"
        },
        "id": "Nv90gzFuJ6cK",
        "outputId": "0407059c-3558-4e1b-af6a-18196e41fe4f"
      },
      "outputs": [
        {
          "output_type": "stream",
          "name": "stdout",
          "text": [
            "Original data size 260\n",
            "Compressed data size 96\n",
            "Compressed in 0.01934075355529785 seconds\n"
          ]
        }
      ],
      "source": [
        "import time\n",
        "import lzma\n",
        "\n",
        "data = b'lorem ipsum dolor sit amet' * 10\n",
        "\n",
        "print(f'Original data size {len(data)}')\n",
        "\n",
        "start = time.time()\n",
        "\n",
        "compressed_data_lzma = lzma.compress(data)\n",
        "\n",
        "print(f'Compressed data size {len(compressed_data_lzma)}')\n",
        "\n",
        "end = time.time()\n",
        "\n",
        "print(f'Compressed in {end - start} seconds')"
      ]
    },
    {
      "cell_type": "code",
      "source": [
        "data"
      ],
      "metadata": {
        "colab": {
          "base_uri": "https://localhost:8080/"
        },
        "id": "SwwBI00dKA5b",
        "outputId": "f1de9e32-97bc-4fd3-da38-82bde9ec1312"
      },
      "execution_count": 3,
      "outputs": [
        {
          "output_type": "execute_result",
          "data": {
            "text/plain": [
              "b'lorem ipsum dolor sit ametlorem ipsum dolor sit ametlorem ipsum dolor sit ametlorem ipsum dolor sit ametlorem ipsum dolor sit ametlorem ipsum dolor sit ametlorem ipsum dolor sit ametlorem ipsum dolor sit ametlorem ipsum dolor sit ametlorem ipsum dolor sit amet'"
            ]
          },
          "metadata": {},
          "execution_count": 3
        }
      ]
    },
    {
      "cell_type": "code",
      "source": [
        "compressed_data_lzma"
      ],
      "metadata": {
        "colab": {
          "base_uri": "https://localhost:8080/"
        },
        "id": "nkAjy301KC1I",
        "outputId": "740afb74-f9fb-4c36-bff6-abfb1f6cf7c7"
      },
      "execution_count": 4,
      "outputs": [
        {
          "output_type": "execute_result",
          "data": {
            "text/plain": [
              "b'\\xfd7zXZ\\x00\\x00\\x04\\xe6\\xd6\\xb4F\\x02\\x00!\\x01\\x16\\x00\\x00\\x00t/\\xe5\\xa3\\xe0\\x01\\x03\\x00 ]\\x006\\x1b\\xca\\xaa\\xe8\\n67z\\xd6\\x07\\xef\\\\\\xcaj\\xc3M\\t\\r^s\\x84\\xa1=\\x8e\\xb4\\x93\\x8b\\xd5\\xdc\\x00\\x00\\x00\\xfa\\xa5\\x1a\\xda\\x8a\\xb4\\xe9\\xc0\\x00\\x01<\\x84\\x02\\x00\\x00\\x00\\xd2\\xcd\\x82^\\xb1\\xc4g\\xfb\\x02\\x00\\x00\\x00\\x00\\x04YZ'"
            ]
          },
          "metadata": {},
          "execution_count": 4
        }
      ]
    },
    {
      "cell_type": "code",
      "source": [
        "import time\n",
        "import lzma\n",
        "\n",
        "# Data asli yang berupa string (diubah menjadi byte string untuk dikompresi)\n",
        "content = 'lorem ipsum dolor sit amet' * 10\n",
        "data = content.encode()\n",
        "\n",
        "# Ukuran data asli\n",
        "print(f'Original data size: {len(data)} bytes')\n",
        "\n",
        "# Waktu mulai kompresi\n",
        "start = time.time()\n",
        "\n",
        "# Kompresi data\n",
        "compressed_data_lzma = lzma.compress(data)\n",
        "\n",
        "# Ukuran data setelah kompresi\n",
        "print(f'Compressed data size: {len(compressed_data_lzma)} bytes')\n",
        "\n",
        "# Waktu akhir kompresi\n",
        "end = time.time()\n",
        "\n",
        "# Waktu yang diperlukan untuk kompresi\n",
        "print(f'Compressed in {end - start} seconds')\n",
        "\n",
        "# Dekompresi data yang telah dikompresi\n",
        "decompressed_data = lzma.decompress(compressed_data_lzma)\n",
        "\n",
        "# Konversi byte data yang didekompresi kembali menjadi string\n",
        "text = decompressed_data.decode()\n",
        "\n",
        "# Cetak hasil dekompresi (teks asli)\n",
        "print(\"Decompressed data (as text):\")\n",
        "print(text)"
      ],
      "metadata": {
        "colab": {
          "base_uri": "https://localhost:8080/"
        },
        "id": "zxjQf5WbKDvk",
        "outputId": "0a5fee68-c94f-49e0-bc1b-0baa5e418349"
      },
      "execution_count": 5,
      "outputs": [
        {
          "output_type": "stream",
          "name": "stdout",
          "text": [
            "Original data size: 260 bytes\n",
            "Compressed data size: 96 bytes\n",
            "Compressed in 0.003416776657104492 seconds\n",
            "Decompressed data (as text):\n",
            "lorem ipsum dolor sit ametlorem ipsum dolor sit ametlorem ipsum dolor sit ametlorem ipsum dolor sit ametlorem ipsum dolor sit ametlorem ipsum dolor sit ametlorem ipsum dolor sit ametlorem ipsum dolor sit ametlorem ipsum dolor sit ametlorem ipsum dolor sit amet\n"
          ]
        }
      ]
    },
    {
      "cell_type": "code",
      "source": [
        "content == text"
      ],
      "metadata": {
        "colab": {
          "base_uri": "https://localhost:8080/"
        },
        "id": "YknseAcIKErj",
        "outputId": "1f7d8371-a215-4daa-a2f2-ad899620e822"
      },
      "execution_count": 6,
      "outputs": [
        {
          "output_type": "execute_result",
          "data": {
            "text/plain": [
              "True"
            ]
          },
          "metadata": {},
          "execution_count": 6
        }
      ]
    },
    {
      "cell_type": "code",
      "source": [
        "content_data_as_int = int.from_bytes(content.encode(), byteorder='big')\n",
        "content_data_as_bits = bin(content_data_as_int)\n",
        "\n",
        "content_data_as_int, content_data_as_bits"
      ],
      "metadata": {
        "colab": {
          "base_uri": "https://localhost:8080/"
        },
        "id": "nonImiqdKE9T",
        "outputId": "579f8c1a-ef5c-4008-9b01-9144c31efa67"
      },
      "execution_count": 7,
      "outputs": [
        {
          "output_type": "execute_result",
          "data": {
            "text/plain": [
              "(58792490612519670758805604418886682211440408333286278126758637131065502144792427816599105124215802447961350486374200054433251987124032215662485052341760840670924155071514733761062562034288382089761713425263652091766096689413296097616408359999043325772300728031597783013010719492340061175813872652955925556482173008164907739049908445859698559559506723762348489302896932078201496345768008555630383132318265984749653337973300418280930520157950077217429358987807802833693074982558698670754296888622800394676144841334520110220326264559777214390917672411753731910098202989064035363787575874254858671684325513290947010773198811522420,\n",
              " '0b110110001101111011100100110010101101101001000000110100101110000011100110111010101101101001000000110010001101111011011000110111101110010001000000111001101101001011101000010000001100001011011010110010101110100011011000110111101110010011001010110110100100000011010010111000001110011011101010110110100100000011001000110111101101100011011110111001000100000011100110110100101110100001000000110000101101101011001010111010001101100011011110111001001100101011011010010000001101001011100000111001101110101011011010010000001100100011011110110110001101111011100100010000001110011011010010111010000100000011000010110110101100101011101000110110001101111011100100110010101101101001000000110100101110000011100110111010101101101001000000110010001101111011011000110111101110010001000000111001101101001011101000010000001100001011011010110010101110100011011000110111101110010011001010110110100100000011010010111000001110011011101010110110100100000011001000110111101101100011011110111001000100000011100110110100101110100001000000110000101101101011001010111010001101100011011110111001001100101011011010010000001101001011100000111001101110101011011010010000001100100011011110110110001101111011100100010000001110011011010010111010000100000011000010110110101100101011101000110110001101111011100100110010101101101001000000110100101110000011100110111010101101101001000000110010001101111011011000110111101110010001000000111001101101001011101000010000001100001011011010110010101110100011011000110111101110010011001010110110100100000011010010111000001110011011101010110110100100000011001000110111101101100011011110111001000100000011100110110100101110100001000000110000101101101011001010111010001101100011011110111001001100101011011010010000001101001011100000111001101110101011011010010000001100100011011110110110001101111011100100010000001110011011010010111010000100000011000010110110101100101011101000110110001101111011100100110010101101101001000000110100101110000011100110111010101101101001000000110010001101111011011000110111101110010001000000111001101101001011101000010000001100001011011010110010101110100')"
            ]
          },
          "metadata": {},
          "execution_count": 7
        }
      ]
    },
    {
      "cell_type": "code",
      "source": [],
      "metadata": {
        "id": "KRXExks4KF8L"
      },
      "execution_count": 7,
      "outputs": []
    },
    {
      "cell_type": "code",
      "source": [
        "# Tampilkan compressed_data_lzma sebagai integer\n",
        "compressed_data_as_int = int.from_bytes(compressed_data_lzma, byteorder='big')\n",
        "\n",
        "# Tampilkan compressed_data_lzma sebagai bit (biner)\n",
        "compressed_data_as_bits = bin(compressed_data_as_int)\n",
        "\n",
        "compressed_data_as_int, compressed_data_as_bits"
      ],
      "metadata": {
        "colab": {
          "base_uri": "https://localhost:8080/"
        },
        "id": "unNDb-LzKG0U",
        "outputId": "da8d6c7d-b615-4feb-e40b-c190352c5cba"
      },
      "execution_count": 8,
      "outputs": [
        {
          "output_type": "execute_result",
          "data": {
            "text/plain": [
              "(1535638767427377762028063218566954999062587639768487114177309335927008794791641950441717326423510357472032254931421929814062870891891603573636754774697719932481582758366849321474052654211745689119570526985457713243907944054014630234,\n",
              " '0b111111010011011101111010010110000101101000000000000000000000010011100110110101101011010001000110000000100000000000100001000000010001011000000000000000000000000001110100001011111110010110100011111000000000000100000011000000000010000001011101000000000011011000011011110010101010101011101000000010100011011000110111011110101101011000000111111011110101110011001010011010101100001101001101000010010000110101011110011100111000010010100001001111011000111010110100100100111000101111010101110111000000000000000000000000001111101010100101000110101101101010001010101101001110100111000000000000000000000100111100100001000000001000000000000000000000000011010010110011011000001001011110101100011100010001100111111110110000001000000000000000000000000000000000000001000101100101011010')"
            ]
          },
          "metadata": {},
          "execution_count": 8
        }
      ]
    },
    {
      "cell_type": "code",
      "source": [
        "len(content_data_as_bits), len(compressed_data_as_bits)"
      ],
      "metadata": {
        "colab": {
          "base_uri": "https://localhost:8080/"
        },
        "id": "46-QUhhEKHtN",
        "outputId": "81e8cd34-426a-4d88-c28c-81a4fb315f33"
      },
      "execution_count": 9,
      "outputs": [
        {
          "output_type": "execute_result",
          "data": {
            "text/plain": [
              "(2081, 770)"
            ]
          },
          "metadata": {},
          "execution_count": 9
        }
      ]
    },
    {
      "cell_type": "code",
      "source": [
        "# Fungsi untuk mengonversi ciphertext ke bit\n",
        "def points_to_bits(ciphertext):\n",
        "    bits = ''\n",
        "    for point1, point2 in ciphertext:\n",
        "        # Ubah masing-masing koordinat dari point1 (x, y) menjadi biner\n",
        "        bits += f'{point1[0]:020b}'  # Gunakan 20 bit untuk menyimpan x\n",
        "        bits += f'{point1[1]:020b}'  # Gunakan 20 bit untuk menyimpan y\n",
        "\n",
        "        # Ubah masing-masing koordinat dari point2 (x, y) menjadi biner\n",
        "        bits += f'{point2[0]:020b}'  # Gunakan 20 bit untuk menyimpan x\n",
        "        bits += f'{point2[1]:020b}'  # Gunakan 20 bit untuk menyimpan y\n",
        "    return bits\n",
        "\n",
        "# Fungsi untuk mengonversi bit kembali ke ciphertext (list of points)\n",
        "def bits_to_points(bits):\n",
        "    ciphertext = []\n",
        "    for i in range(0, len(bits), 80):  # Setiap point terdiri dari 80 bit (4 angka masing-masing 20 bit)\n",
        "        x1 = int(bits[i:i+20], 2)\n",
        "        y1 = int(bits[i+20:i+40], 2)\n",
        "        x2 = int(bits[i+40:i+60], 2)\n",
        "        y2 = int(bits[i+60:i+80], 2)\n",
        "        ciphertext.append(((x1, y1), (x2, y2)))\n",
        "    return ciphertext\n",
        "\n",
        "# Ciphertext yang akan diubah menjadi bit\n",
        "ciphertext = [((29, 448), (637, 481)),\n",
        "              ((74, 376), (474, 337)),\n",
        "              ((29, 448), (737, 7)),\n",
        "              ((29, 571), (876, 146)),\n",
        "              ((767, 120), (753, 526))]\n",
        "\n",
        "# Mengonversi ciphertext ke bit\n",
        "ciphertext_bits = points_to_bits(ciphertext)\n",
        "print(f\"Ciphertext as bits: {ciphertext_bits}\")\n",
        "\n",
        "# Mengonversi bit kembali ke ciphertext\n",
        "recovered_ciphertext = bits_to_points(ciphertext_bits)\n",
        "print(f\"Recovered ciphertext: {recovered_ciphertext}\")\n"
      ],
      "metadata": {
        "colab": {
          "base_uri": "https://localhost:8080/"
        },
        "id": "_XiBrsDRKIhi",
        "outputId": "1f13be97-761d-42b9-c1d1-d5bc2a31154b"
      },
      "execution_count": 10,
      "outputs": [
        {
          "output_type": "stream",
          "name": "stdout",
          "text": [
            "Ciphertext as bits: 0000000000000001110100000000000111000000000000000010011111010000000000011110000100000000000001001010000000000001011110000000000000011101101000000000000101010001000000000000000111010000000000011100000000000000001011100001000000000000000001110000000000000001110100000000001000111011000000000011011011000000000000001001001000000000001011111111000000000000011110000000000000101111000100000000001000001110\n",
            "Recovered ciphertext: [((29, 448), (637, 481)), ((74, 376), (474, 337)), ((29, 448), (737, 7)), ((29, 571), (876, 146)), ((767, 120), (753, 526))]\n"
          ]
        }
      ]
    },
    {
      "cell_type": "code",
      "source": [
        "type(ciphertext_bits)"
      ],
      "metadata": {
        "colab": {
          "base_uri": "https://localhost:8080/"
        },
        "id": "52r-rDTZKJep",
        "outputId": "e21a63a0-36d4-4f76-9162-476147e589e3"
      },
      "execution_count": 11,
      "outputs": [
        {
          "output_type": "execute_result",
          "data": {
            "text/plain": [
              "str"
            ]
          },
          "metadata": {},
          "execution_count": 11
        }
      ]
    },
    {
      "cell_type": "code",
      "source": [
        "# Fungsi untuk mengonversi string bit menjadi byte string dan kemudian ke char string\n",
        "def bits_to_string(bits):\n",
        "    # Ubah string bit menjadi byte string\n",
        "    byte_string = int(bits, 2).to_bytes((len(bits) + 7) // 8, byteorder='big')\n",
        "    # Konversi byte string ke char string dengan encoding latin1\n",
        "    return byte_string.decode('latin-1')\n",
        "\n",
        "# Konversi bit string ke string atau char\n",
        "char_string = bits_to_string(ciphertext_bits)\n",
        "char_string"
      ],
      "metadata": {
        "colab": {
          "base_uri": "https://localhost:8080/",
          "height": 35
        },
        "id": "9bPjoz9_KTiS",
        "outputId": "60fb2636-103e-4b1f-f8a5-71f7ddcf9750"
      },
      "execution_count": 12,
      "outputs": [
        {
          "output_type": "execute_result",
          "data": {
            "text/plain": [
              "\"\\x00\\x01Ð\\x01À\\x00'Ð\\x01á\\x00\\x04\\xa0\\x01x\\x00\\x1d\\xa0\\x01Q\\x00\\x01Ð\\x01À\\x00.\\x10\\x00\\x07\\x00\\x01Ð\\x02;\\x006À\\x00\\x92\\x00/ð\\x00x\\x00/\\x10\\x02\\x0e\""
            ],
            "application/vnd.google.colaboratory.intrinsic+json": {
              "type": "string"
            }
          },
          "metadata": {},
          "execution_count": 12
        }
      ]
    }
  ]
}