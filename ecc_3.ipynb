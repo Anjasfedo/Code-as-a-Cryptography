{
  "nbformat": 4,
  "nbformat_minor": 0,
  "metadata": {
    "colab": {
      "provenance": [],
      "authorship_tag": "ABX9TyPrHr/rW+5lDaMQdubi0TAj",
      "include_colab_link": true
    },
    "kernelspec": {
      "name": "python3",
      "display_name": "Python 3"
    },
    "language_info": {
      "name": "python"
    }
  },
  "cells": [
    {
      "cell_type": "markdown",
      "metadata": {
        "id": "view-in-github",
        "colab_type": "text"
      },
      "source": [
        "<a href=\"https://colab.research.google.com/github/Anjasfedo/Code-as-a-Cryptography/blob/main/ecc_3.ipynb\" target=\"_parent\"><img src=\"https://colab.research.google.com/assets/colab-badge.svg\" alt=\"Open In Colab\"/></a>"
      ]
    },
    {
      "cell_type": "code",
      "execution_count": 20,
      "metadata": {
        "id": "YQOe8-lIFU42"
      },
      "outputs": [],
      "source": [
        "# y^2 = x^3 + 7 mod 17\n",
        "def curve_equation(x, a=0, b=7, p=17):\n",
        "    \"\"\"Elliptic curve equation y^2 = x^3 + ax + b mod p.\"\"\"\n",
        "    return (x**3 + a*x + b) % p\n",
        "\n",
        "def is_curve_point(x, y, a=0, b=7, p=17):\n",
        "    \"\"\"Check if the point (x, y) satisfies the elliptic curve equation mod p.\"\"\"\n",
        "    return curve_equation(x, a, b, p) == (y**2) % p"
      ]
    },
    {
      "cell_type": "code",
      "source": [
        "def mod_inverse(a, p):\n",
        "    \"\"\"Returns the modular inverse of a under modulo p using Fermat's Little Theorem.\"\"\"\n",
        "    return pow(a, p - 2, p)\n",
        "\n",
        "def calculate_slope_mod(P, Q, p, a):\n",
        "    x1, y1 = P\n",
        "    x2, y2 = Q\n",
        "    if x1 == x2 and y1 == y2:\n",
        "        # Use the formula for point doubling when P == Q\n",
        "        numerator = (3 * x1**2 + a) % p\n",
        "        denominator = (2 * y1) % p\n",
        "    else:\n",
        "        # Use the formula for regular slope when P != Q\n",
        "        numerator = (y2 - y1) % p\n",
        "        denominator = (x2 - x1) % p\n",
        "\n",
        "    if denominator == 0:\n",
        "        raise ValueError(\"Slope is undefined (denominator is zero).\")\n",
        "\n",
        "    # Compute the slope as (numerator / denominator) % p, which is\n",
        "    # numerator * mod_inverse(denominator, p) % p\n",
        "    slope = (numerator * mod_inverse(denominator, p)) % p\n",
        "    return slope"
      ],
      "metadata": {
        "id": "Rs7eM4k1LHdE"
      },
      "execution_count": 21,
      "outputs": []
    },
    {
      "cell_type": "markdown",
      "source": [
        "# Point Addition"
      ],
      "metadata": {
        "id": "SNmAO9JyLCXU"
      }
    },
    {
      "cell_type": "code",
      "source": [
        "def calculate_add_xr_mod(P, Q, m, p):\n",
        "    x1, y1 = P\n",
        "    x2, y2 = Q\n",
        "    xr = (m**2 - x1 - x2) % p\n",
        "    return xr"
      ],
      "metadata": {
        "id": "UUMLArOmLEVi"
      },
      "execution_count": 22,
      "outputs": []
    },
    {
      "cell_type": "code",
      "source": [
        "def calculate_add_yr_mod(P, Q, m, xr, p):\n",
        "    x1, y1 = P\n",
        "    x2, y2 = Q\n",
        "    yr = (m * (x1 - xr) - y1) % p\n",
        "    return yr"
      ],
      "metadata": {
        "id": "FXy2TiSQLJmq"
      },
      "execution_count": 23,
      "outputs": []
    },
    {
      "cell_type": "code",
      "source": [
        "def calculate_point_add(P, Q, p, a):\n",
        "  print(f'P: {P}')\n",
        "  print(f'Q: {Q}')\n",
        "  print(f'p: {p}')\n",
        "\n",
        "  m = calculate_slope_mod(P, Q, p, a)\n",
        "  print(f'slope: {m}')\n",
        "\n",
        "  xr = calculate_add_xr_mod(P, Q, m, p)\n",
        "  print(f'xr: {xr}')\n",
        "\n",
        "  yr = calculate_add_yr_mod(P, Q, m, xr, p)\n",
        "  print(f'yr: {yr}')\n",
        "\n",
        "  R = (xr, yr)\n",
        "  print(f'R: {R}')\n",
        "\n",
        "  print(f'is R on curve: {is_curve_point(R[0], R[1], p)}')\n",
        "\n",
        "  return R"
      ],
      "metadata": {
        "id": "-i5mC-tvLMUC"
      },
      "execution_count": 24,
      "outputs": []
    },
    {
      "cell_type": "markdown",
      "source": [
        "# Point Multiplication"
      ],
      "metadata": {
        "id": "Qxyn6Xn8K2zc"
      }
    },
    {
      "cell_type": "code",
      "source": [
        "def calculate_mul_xr_mod(P, Q, slope, p):\n",
        "    x1, y1 = P\n",
        "    x2, y2 = Q\n",
        "    xr = (slope**2 - (2 * x1)) % p\n",
        "    return xr"
      ],
      "metadata": {
        "id": "UlhHPmm6K6hj"
      },
      "execution_count": 25,
      "outputs": []
    },
    {
      "cell_type": "code",
      "source": [
        "def calculate_mul_yr_mod(P, Q, slope, xr, p):\n",
        "    x1, y1 = P\n",
        "    yr = (slope * (x1 - xr) - y1) % p\n",
        "    return yr"
      ],
      "metadata": {
        "id": "sWAiewWmK7qT"
      },
      "execution_count": 26,
      "outputs": []
    },
    {
      "cell_type": "code",
      "source": [
        "def calculate_point_mul(P, p, a):\n",
        "  print(f'P: {P}')\n",
        "  print(f'p: {p}')\n",
        "\n",
        "  m = calculate_slope_mod(P, P, p, a)\n",
        "  print(f'slope: {m}')\n",
        "\n",
        "  xr = calculate_mul_xr_mod(P, P, m, p)\n",
        "  print(f'xr: {xr}')\n",
        "\n",
        "  yr = calculate_mul_yr_mod(P, P, m, xr, p)\n",
        "  print(f'yr: {yr}')\n",
        "\n",
        "  R = (xr, yr)\n",
        "  print(f'R: {R}')\n",
        "\n",
        "  print(f'is R on curve: {is_curve_point(R[0], R[1], p)}')\n",
        "\n",
        "  return R"
      ],
      "metadata": {
        "id": "RZqZYNTaLA-C"
      },
      "execution_count": 27,
      "outputs": []
    },
    {
      "cell_type": "markdown",
      "source": [
        "# Test"
      ],
      "metadata": {
        "id": "SaHA-wz0LQhD"
      }
    },
    {
      "cell_type": "code",
      "source": [
        "# y^2 = x^3 + x + 6\n",
        "def curve_equation(x, p, a=1, b=6):\n",
        "    \"\"\"Elliptic curve equation y^2 = x^3 + ax + b mod p.\"\"\"\n",
        "    return (x**3 + a*x + b) % p\n",
        "\n",
        "def is_curve_point(x, y, p=11):\n",
        "    \"\"\"Check if the point (x, y) satisfies the elliptic curve equation mod p.\"\"\"\n",
        "    return curve_equation(x, p=p) == (y**2) % p"
      ],
      "metadata": {
        "id": "u3F6Tg56LSI7"
      },
      "execution_count": 28,
      "outputs": []
    },
    {
      "cell_type": "code",
      "source": [
        "P = (2, 4)\n",
        "Q = (5, 9)\n",
        "\n",
        "R = calculate_point_add(P, Q, 11, 1)"
      ],
      "metadata": {
        "colab": {
          "base_uri": "https://localhost:8080/"
        },
        "id": "zWXY5tIpLZUy",
        "outputId": "7a61e3a6-263c-40a2-a74a-c9a509afbdf1"
      },
      "execution_count": 29,
      "outputs": [
        {
          "output_type": "stream",
          "name": "stdout",
          "text": [
            "P: (2, 4)\n",
            "Q: (5, 9)\n",
            "p: 11\n",
            "slope: 9\n",
            "xr: 8\n",
            "yr: 8\n",
            "R: (8, 8)\n",
            "is R on curve: True\n"
          ]
        }
      ]
    },
    {
      "cell_type": "code",
      "source": [
        "_R = calculate_point_mul(P, 11, 1)"
      ],
      "metadata": {
        "colab": {
          "base_uri": "https://localhost:8080/"
        },
        "id": "ScS16c6sNExi",
        "outputId": "47a8950a-4b65-4bde-ace0-2b9abff79b9d"
      },
      "execution_count": 30,
      "outputs": [
        {
          "output_type": "stream",
          "name": "stdout",
          "text": [
            "P: (2, 4)\n",
            "p: 11\n",
            "slope: 3\n",
            "xr: 5\n",
            "yr: 9\n",
            "R: (5, 9)\n",
            "is R on curve: True\n"
          ]
        }
      ]
    },
    {
      "cell_type": "markdown",
      "source": [
        "# Elliptic Curve Diffie Hellman"
      ],
      "metadata": {
        "id": "ipnVXCxB6Ytr"
      }
    },
    {
      "cell_type": "code",
      "source": [
        "def curve_equation(x, p, a=2, b=1):\n",
        "    \"\"\"Elliptic curve equation y^2 = x^3 + ax + b mod p.\"\"\"\n",
        "    return (x**3 + a*x + b) % p\n",
        "\n",
        "def is_curve_point(x, y, p=5):\n",
        "    \"\"\"Check if the point (x, y) satisfies the elliptic curve equation mod p.\"\"\"\n",
        "    return curve_equation(x, p=p) == (y**2) % p"
      ],
      "metadata": {
        "id": "ge-IAtKs-yex"
      },
      "execution_count": 31,
      "outputs": []
    },
    {
      "cell_type": "code",
      "source": [
        "# y^2 = x^3 + 2x + 1\n",
        "a = 2\n",
        "# b = 1\n",
        "\n",
        "p = 5\n",
        "P1 = (0, 1)\n",
        "\n",
        "PA = calculate_point_mul(P, p, a)"
      ],
      "metadata": {
        "colab": {
          "base_uri": "https://localhost:8080/"
        },
        "id": "pCeUnESF5zW4",
        "outputId": "d81f6e05-6438-449f-91ad-d384f2621baa"
      },
      "execution_count": 32,
      "outputs": [
        {
          "output_type": "stream",
          "name": "stdout",
          "text": [
            "P: (2, 4)\n",
            "p: 5\n",
            "slope: 3\n",
            "xr: 0\n",
            "yr: 2\n",
            "R: (0, 2)\n",
            "is R on curve: False\n"
          ]
        }
      ]
    },
    {
      "cell_type": "code",
      "source": [
        "PB = calculate_point_add(P1, PA, p, a)"
      ],
      "metadata": {
        "colab": {
          "base_uri": "https://localhost:8080/",
          "height": 339
        },
        "id": "OsgHPT7d-c6W",
        "outputId": "1601dd49-8b9b-42ef-84db-88a981b5e561"
      },
      "execution_count": 33,
      "outputs": [
        {
          "output_type": "stream",
          "name": "stdout",
          "text": [
            "P: (0, 1)\n",
            "Q: (0, 2)\n",
            "p: 5\n"
          ]
        },
        {
          "output_type": "error",
          "ename": "ValueError",
          "evalue": "Slope is undefined (denominator is zero).",
          "traceback": [
            "\u001b[0;31m---------------------------------------------------------------------------\u001b[0m",
            "\u001b[0;31mValueError\u001b[0m                                Traceback (most recent call last)",
            "\u001b[0;32m<ipython-input-33-e9e56afc1760>\u001b[0m in \u001b[0;36m<cell line: 1>\u001b[0;34m()\u001b[0m\n\u001b[0;32m----> 1\u001b[0;31m \u001b[0mPB\u001b[0m \u001b[0;34m=\u001b[0m \u001b[0mcalculate_point_add\u001b[0m\u001b[0;34m(\u001b[0m\u001b[0mP1\u001b[0m\u001b[0;34m,\u001b[0m \u001b[0mPA\u001b[0m\u001b[0;34m,\u001b[0m \u001b[0mp\u001b[0m\u001b[0;34m,\u001b[0m \u001b[0ma\u001b[0m\u001b[0;34m)\u001b[0m\u001b[0;34m\u001b[0m\u001b[0;34m\u001b[0m\u001b[0m\n\u001b[0m",
            "\u001b[0;32m<ipython-input-24-95a19e8604f0>\u001b[0m in \u001b[0;36mcalculate_point_add\u001b[0;34m(P, Q, p, a)\u001b[0m\n\u001b[1;32m      4\u001b[0m   \u001b[0mprint\u001b[0m\u001b[0;34m(\u001b[0m\u001b[0;34mf'p: {p}'\u001b[0m\u001b[0;34m)\u001b[0m\u001b[0;34m\u001b[0m\u001b[0;34m\u001b[0m\u001b[0m\n\u001b[1;32m      5\u001b[0m \u001b[0;34m\u001b[0m\u001b[0m\n\u001b[0;32m----> 6\u001b[0;31m   \u001b[0mm\u001b[0m \u001b[0;34m=\u001b[0m \u001b[0mcalculate_slope_mod\u001b[0m\u001b[0;34m(\u001b[0m\u001b[0mP\u001b[0m\u001b[0;34m,\u001b[0m \u001b[0mQ\u001b[0m\u001b[0;34m,\u001b[0m \u001b[0mp\u001b[0m\u001b[0;34m,\u001b[0m \u001b[0ma\u001b[0m\u001b[0;34m)\u001b[0m\u001b[0;34m\u001b[0m\u001b[0;34m\u001b[0m\u001b[0m\n\u001b[0m\u001b[1;32m      7\u001b[0m   \u001b[0mprint\u001b[0m\u001b[0;34m(\u001b[0m\u001b[0;34mf'slope: {m}'\u001b[0m\u001b[0;34m)\u001b[0m\u001b[0;34m\u001b[0m\u001b[0;34m\u001b[0m\u001b[0m\n\u001b[1;32m      8\u001b[0m \u001b[0;34m\u001b[0m\u001b[0m\n",
            "\u001b[0;32m<ipython-input-21-c0b54bca86bf>\u001b[0m in \u001b[0;36mcalculate_slope_mod\u001b[0;34m(P, Q, p, a)\u001b[0m\n\u001b[1;32m     16\u001b[0m \u001b[0;34m\u001b[0m\u001b[0m\n\u001b[1;32m     17\u001b[0m     \u001b[0;32mif\u001b[0m \u001b[0mdenominator\u001b[0m \u001b[0;34m==\u001b[0m \u001b[0;36m0\u001b[0m\u001b[0;34m:\u001b[0m\u001b[0;34m\u001b[0m\u001b[0;34m\u001b[0m\u001b[0m\n\u001b[0;32m---> 18\u001b[0;31m         \u001b[0;32mraise\u001b[0m \u001b[0mValueError\u001b[0m\u001b[0;34m(\u001b[0m\u001b[0;34m\"Slope is undefined (denominator is zero).\"\u001b[0m\u001b[0;34m)\u001b[0m\u001b[0;34m\u001b[0m\u001b[0;34m\u001b[0m\u001b[0m\n\u001b[0m\u001b[1;32m     19\u001b[0m \u001b[0;34m\u001b[0m\u001b[0m\n\u001b[1;32m     20\u001b[0m     \u001b[0;31m# Compute the slope as (numerator / denominator) % p, which is\u001b[0m\u001b[0;34m\u001b[0m\u001b[0;34m\u001b[0m\u001b[0m\n",
            "\u001b[0;31mValueError\u001b[0m: Slope is undefined (denominator is zero)."
          ]
        }
      ]
    },
    {
      "cell_type": "code",
      "source": [
        "KA = calculate_point_mul(PB, p, a)"
      ],
      "metadata": {
        "id": "aIwwdX4D-4Gl"
      },
      "execution_count": null,
      "outputs": []
    },
    {
      "cell_type": "code",
      "source": [
        "KB_1 = calculate_point_mul(PA, p, a)"
      ],
      "metadata": {
        "id": "ioI4HG6w_p0Z"
      },
      "execution_count": null,
      "outputs": []
    },
    {
      "cell_type": "code",
      "source": [
        "KB_2 = calculate_point_add(P ,KB_1, p, a)"
      ],
      "metadata": {
        "id": "jk5JJSRiAfMn"
      },
      "execution_count": null,
      "outputs": []
    },
    {
      "cell_type": "code",
      "source": [
        "KB_3 = calculate_point_add(P, KB_2, p, a)"
      ],
      "metadata": {
        "id": "k68RcBeM_ys2"
      },
      "execution_count": null,
      "outputs": []
    },
    {
      "cell_type": "code",
      "source": [
        "import numpy as np\n",
        "import matplotlib.pyplot as plt\n",
        "\n",
        "# Function to plot a generalized elliptic curve with a callback equation\n",
        "def plot_elliptic_curve(a, b, equation_callback, x_range=(-10, 10), num_points=100000, curve_label=None):\n",
        "    \"\"\"\n",
        "    Plot an elliptic curve given an equation as a callback.\n",
        "\n",
        "    Parameters:\n",
        "    a (float): The 'a' coefficient to pass into the elliptic curve equation.\n",
        "    b (float): The 'b' coefficient to pass into the elliptic curve equation.\n",
        "    equation_callback (function): A callback function defining the elliptic curve equation.\n",
        "    x_range (tuple): The range of x values for plotting (default is from -10 to 10).\n",
        "    num_points (int): The number of points to plot (default is 100000).\n",
        "    curve_label (str): A custom label for the curve plot (default uses the equation).\n",
        "    \"\"\"\n",
        "    # Generate a set of x values for plotting the elliptic curve\n",
        "    x = np.linspace(x_range[0], x_range[1], num_points)\n",
        "\n",
        "    # Calculate the corresponding y^2 values using the provided callback function\n",
        "    y_squared = equation_callback(x, a, b)\n",
        "\n",
        "    # Mask values where y^2 is negative (because sqrt can't be applied to negative numbers)\n",
        "    valid_mask = y_squared >= 0\n",
        "    y_squared_valid = y_squared[valid_mask]\n",
        "    x_valid = x[valid_mask]\n",
        "\n",
        "    # Calculate y values (positive and negative branches) from valid y^2 values\n",
        "    y_positive = np.sqrt(y_squared_valid)\n",
        "    y_negative = -np.sqrt(y_squared_valid)\n",
        "\n",
        "    # If no label is provided, use the default equation format in the label\n",
        "    if curve_label is None:\n",
        "        curve_label = rf'$y = \\sqrt{{x^3 + {a}x + {b}}}$'\n",
        "\n",
        "    # Plot the elliptic curve\n",
        "    plt.figure(figsize=(8, 8))\n",
        "    plt.plot(x_valid, y_positive, label=curve_label, color='blue')  # Upper half of the curve\n",
        "    plt.plot(x_valid, y_negative, color='blue')  # Lower half of the curve\n",
        "\n",
        "    # Set equal aspect ratio to ensure x and y scales are the same\n",
        "    plt.gca().set_aspect('equal', adjustable='box')\n",
        "\n",
        "    # Add labels, title, and grid\n",
        "    plt.title(f\"Elliptic Curve: {curve_label}\")\n",
        "    plt.xlabel('x')\n",
        "    plt.ylabel('y')\n",
        "    plt.axhline(0, color='black', linewidth=0.5)\n",
        "    plt.axvline(0, color='black', linewidth=0.5)\n",
        "\n",
        "    plt.xticks(np.arange(-10, 11, 2))\n",
        "    plt.yticks(np.arange(-10, 11, 2))\n",
        "    plt.grid(True)\n",
        "    plt.legend()\n",
        "\n",
        "    # Show the plot\n",
        "    plt.show()\n",
        "\n",
        "# Example callback function for the elliptic curve equation y^2 = x^3 + ax + b\n",
        "def equation_elliptic_example(x, a, b):\n",
        "    return x**3 + a*x + b\n",
        "\n",
        "# Example usage with parameters a = 3, b = 5, and the equation callback\n",
        "plot_elliptic_curve(a=2, b=1, equation_callback=equation_elliptic_example, curve_label='x**3 + a*x + b')"
      ],
      "metadata": {
        "id": "9jDpASwA9-Ko"
      },
      "execution_count": null,
      "outputs": []
    },
    {
      "cell_type": "markdown",
      "source": [
        "## Calculate Point"
      ],
      "metadata": {
        "id": "lGSQ-wcxxODF"
      }
    },
    {
      "cell_type": "code",
      "source": [
        "def calculate_slope_mod(P, Q, p):\n",
        "    \"\"\"Calculate the slope for two points P and Q on the elliptic curve mod p.\"\"\"\n",
        "    x1, y1 = P\n",
        "    x2, y2 = Q\n",
        "\n",
        "    if P == Q:\n",
        "        # Slope for point doubling\n",
        "        return ((3 * x1**2) * pow(2 * y1, -1, p)) % p\n",
        "    else:\n",
        "        # Slope for point addition\n",
        "        return ((y2 - y1) * pow(x2 - x1, -1, p)) % p\n",
        "\n",
        "def point_mul_add(P, k, p):\n",
        "    \"\"\"Performs scalar multiplication of point P by scalar k and saves each step to an array.\"\"\"\n",
        "    current_point = P\n",
        "    result_point = None  # This will hold the final result\n",
        "    steps = []  # Array to store each intermediate step\n",
        "\n",
        "    # Double-and-add algorithm for elliptic curve scalar multiplication\n",
        "    for i in range(k.bit_length(), -1, -1):\n",
        "        if result_point is not None:\n",
        "            # Point doubling step\n",
        "            slope = calculate_slope_mod(result_point, result_point, p)\n",
        "            xr = calculate_mul_xr_mod(result_point, result_point, slope, p)\n",
        "            yr = calculate_mul_yr_mod(result_point, result_point, slope, xr, p)\n",
        "            result_point = (xr, yr)\n",
        "            steps.append(('Double', result_point))\n",
        "\n",
        "        if k & (1 << i):\n",
        "            if result_point is None:\n",
        "                result_point = current_point\n",
        "            else:\n",
        "                # Point addition step\n",
        "                slope = calculate_slope_mod(result_point, current_point, p)\n",
        "                xr = calculate_add_xr_mod(result_point, current_point, slope, p)\n",
        "                yr = calculate_add_yr_mod(result_point, current_point, slope, xr, p)\n",
        "                result_point = (xr, yr)\n",
        "                steps.append(('Add', result_point))\n",
        "\n",
        "    return steps\n",
        "\n",
        "# Example usage:\n",
        "P = (15, 13)\n",
        "k = 5\n",
        "p = 17\n",
        "\n",
        "steps = point_mul_add(P, k, p)\n",
        "\n",
        "# Print steps\n",
        "for step in steps:\n",
        "    print(step)"
      ],
      "metadata": {
        "colab": {
          "base_uri": "https://localhost:8080/"
        },
        "id": "pWxPQbD6xVuS",
        "outputId": "2fbf41b0-c40a-4c87-b1c5-c4979958d239"
      },
      "execution_count": 37,
      "outputs": [
        {
          "output_type": "stream",
          "name": "stdout",
          "text": [
            "('Double', (2, 10))\n",
            "('Double', (12, 1))\n",
            "('Add', (6, 6))\n"
          ]
        }
      ]
    },
    {
      "cell_type": "code",
      "source": [
        "def calculate_slope_mod(P, Q, a, p):\n",
        "    \"\"\"Calculate the slope for two points P and Q on the elliptic curve mod p.\"\"\"\n",
        "    x1, y1 = P\n",
        "    x2, y2 = Q\n",
        "\n",
        "    if P == Q:\n",
        "        # Slope for point doubling\n",
        "        denominator = (2 * y1) % p\n",
        "        if denominator == 0:\n",
        "            return None  # This represents the point at infinity\n",
        "        try:\n",
        "            inverse_denominator = pow(denominator, -1, p)\n",
        "        except ValueError:\n",
        "            raise ValueError(f\"Denominator {denominator} is not invertible modulo {p}\")\n",
        "        return ((3 * x1**2 + a) * inverse_denominator) % p\n",
        "    else:\n",
        "        # Slope for point addition\n",
        "        denominator = (x2 - x1) % p\n",
        "        if denominator == 0:\n",
        "            return None  # This represents the point at infinity\n",
        "        try:\n",
        "            inverse_denominator = pow(denominator, -1, p)\n",
        "        except ValueError:\n",
        "            raise ValueError(f\"Denominator {denominator} is not invertible modulo {p}\")\n",
        "        return ((y2 - y1) * inverse_denominator) % p\n",
        "\n",
        "def point_mul_add(P, k, n, p, a):\n",
        "    \"\"\"Performs scalar multiplication of point P by scalar k modulo n and returns point or (None, None) at step n.\"\"\"\n",
        "    if k == 0:\n",
        "        return (None, None)\n",
        "    if k == 1:\n",
        "        return P  # Return the base point for k = 1\n",
        "\n",
        "    current_point = P\n",
        "    steps = []  # Array to store each intermediate step\n",
        "\n",
        "    k_mod_n = k % n  # Wrap the value of k around the group order\n",
        "\n",
        "    # Perform first point doubling (multiplication)\n",
        "    slope = calculate_slope_mod(current_point, current_point, a, p)\n",
        "    if slope is None:\n",
        "        return (None, None)  # Point at infinity\n",
        "\n",
        "    xr = calculate_mul_xr_mod(current_point, current_point, slope, p)\n",
        "    yr = calculate_mul_yr_mod(current_point, current_point, slope, xr, p)\n",
        "    result_point = (xr, yr)\n",
        "    current_point = result_point  # Update current_point to the result\n",
        "\n",
        "    # Perform point additions for k > 1\n",
        "    for _ in range(k_mod_n - 2):  # -2 because we already doubled once and counted the base point\n",
        "        slope = calculate_slope_mod(result_point, P, a, p)\n",
        "        if slope is None:\n",
        "            return (None, None)  # Point at infinity\n",
        "\n",
        "        xr = calculate_add_xr_mod(result_point, P, slope, p)\n",
        "        yr = calculate_add_yr_mod(result_point, P, slope, xr, p)\n",
        "        result_point = (xr, yr)\n",
        "        current_point = result_point  # Update current_point for the next iteration\n",
        "\n",
        "    return result_point\n",
        "\n",
        "# Example usage:\n",
        "P = (0, 1)\n",
        "n = 7  # This is the order of the curve\n",
        "p = 5\n",
        "a = 2  # The coefficient 'a' from the elliptic curve equation y^2 = x^3 + ax + b\n",
        "\n",
        "# Simulate the behavior for k in range 0 to 25\n",
        "for k in range(0, 25):\n",
        "    if k == n:\n",
        "        # Return (None, None) at step n\n",
        "        result = (None, None)\n",
        "    else:\n",
        "        # Wrap around for k > n\n",
        "        result = point_mul_add(P, k, n, p, a)\n",
        "    print(f\"{k} * G = {result}\")"
      ],
      "metadata": {
        "id": "92avECBK-Jsp",
        "colab": {
          "base_uri": "https://localhost:8080/"
        },
        "outputId": "d48103aa-4b8b-4180-9e44-a0e9f08884d9"
      },
      "execution_count": 53,
      "outputs": [
        {
          "output_type": "stream",
          "name": "stdout",
          "text": [
            "0 * G = (None, None)\n",
            "1 * G = (0, 1)\n",
            "2 * G = (1, 3)\n",
            "3 * G = (3, 3)\n",
            "4 * G = (3, 2)\n",
            "5 * G = (1, 2)\n",
            "6 * G = (0, 4)\n",
            "7 * G = (None, None)\n",
            "8 * G = (1, 3)\n",
            "9 * G = (1, 3)\n",
            "10 * G = (3, 3)\n",
            "11 * G = (3, 2)\n",
            "12 * G = (1, 2)\n",
            "13 * G = (0, 4)\n",
            "14 * G = (1, 3)\n",
            "15 * G = (1, 3)\n",
            "16 * G = (1, 3)\n",
            "17 * G = (3, 3)\n",
            "18 * G = (3, 2)\n",
            "19 * G = (1, 2)\n",
            "20 * G = (0, 4)\n",
            "21 * G = (1, 3)\n",
            "22 * G = (1, 3)\n",
            "23 * G = (1, 3)\n",
            "24 * G = (3, 3)\n"
          ]
        }
      ]
    },
    {
      "cell_type": "code",
      "source": [
        "# private 1 * public 2 mod\n",
        "2*3 % 7"
      ],
      "metadata": {
        "colab": {
          "base_uri": "https://localhost:8080/"
        },
        "id": "Lw84TupBzHeD",
        "outputId": "011d54be-58fc-4819-ad40-3897b488b3f3"
      },
      "execution_count": 60,
      "outputs": [
        {
          "output_type": "execute_result",
          "data": {
            "text/plain": [
              "6"
            ]
          },
          "metadata": {},
          "execution_count": 60
        }
      ]
    },
    {
      "cell_type": "code",
      "source": [
        "# private 2 * public 1 mod\n",
        "3*2 % 7"
      ],
      "metadata": {
        "colab": {
          "base_uri": "https://localhost:8080/"
        },
        "id": "lj-Qf5GAzLuL",
        "outputId": "4bfe4621-53b2-4818-abab-b6e54f8aed0b"
      },
      "execution_count": 61,
      "outputs": [
        {
          "output_type": "execute_result",
          "data": {
            "text/plain": [
              "6"
            ]
          },
          "metadata": {},
          "execution_count": 61
        }
      ]
    },
    {
      "cell_type": "code",
      "source": [
        "# priv1 = 3\n",
        "# pub1 = 5\n",
        "\n",
        "# priv2 = 2\n",
        "# pub2 = 4"
      ],
      "metadata": {
        "id": "o0VrLNYAz0mK"
      },
      "execution_count": 63,
      "outputs": []
    },
    {
      "cell_type": "code",
      "source": [
        "# basis * private = public\n",
        "# basis * private = public\n",
        "# G * d = Q"
      ],
      "metadata": {
        "id": "KDqWKtZs1CN7"
      },
      "execution_count": 66,
      "outputs": []
    },
    {
      "cell_type": "code",
      "source": [
        "G = 1\n",
        "\n",
        "# d = private\n",
        "d1 = 12\n",
        "d2 = 2\n",
        "\n",
        "# Q = public\n",
        "Q1 = d1 * G % 7\n",
        "Q2 = d2 * G % 7\n",
        "\n",
        "print(f'Q1: {Q1}')\n",
        "print(f'Q2: {Q2}')\n",
        "\n",
        "#\n",
        "\n",
        "# C = same val\n",
        "C1 = d1 * Q2 % 7\n",
        "C2 = d2 * Q1 % 7\n",
        "\n",
        "print(f'C1: {C1}')\n",
        "print(f'C2: {C2}')"
      ],
      "metadata": {
        "colab": {
          "base_uri": "https://localhost:8080/"
        },
        "id": "EMb0z4Sg1U27",
        "outputId": "81737549-5a9f-4d6a-dd2c-ab93cb1d6491"
      },
      "execution_count": 73,
      "outputs": [
        {
          "output_type": "stream",
          "name": "stdout",
          "text": [
            "Q1: 5\n",
            "Q2: 2\n",
            "C1: 3\n",
            "C2: 3\n"
          ]
        }
      ]
    },
    {
      "cell_type": "code",
      "source": [],
      "metadata": {
        "id": "XTGztkSK1iOv"
      },
      "execution_count": null,
      "outputs": []
    },
    {
      "cell_type": "code",
      "source": [
        "# Example usage:\n",
        "P = (0, 1)\n",
        "k = 2\n",
        "p = 5\n",
        "\n",
        "steps = point_mul_add(P, k, p)\n",
        "\n",
        "# Print steps\n",
        "for step in steps:\n",
        "    print(step)"
      ],
      "metadata": {
        "colab": {
          "base_uri": "https://localhost:8080/"
        },
        "id": "_AHHNaESxwwq",
        "outputId": "e947b709-8cc4-4898-9d3f-50160ee3a018"
      },
      "execution_count": 42,
      "outputs": [
        {
          "output_type": "stream",
          "name": "stdout",
          "text": [
            "('Double', (0, 4))\n"
          ]
        }
      ]
    },
    {
      "cell_type": "code",
      "source": [
        "# Example usage:\n",
        "P = (0, 1)\n",
        "k = 2\n",
        "p = 5\n",
        "\n",
        "steps = point_mul_add(P, k, p)\n",
        "\n",
        "# Print steps\n",
        "for step in steps:\n",
        "    print(step)"
      ],
      "metadata": {
        "id": "rq_dHWlOyPg6"
      },
      "execution_count": null,
      "outputs": []
    },
    {
      "cell_type": "code",
      "source": [],
      "metadata": {
        "id": "tV_8jZ9_x1Uy"
      },
      "execution_count": null,
      "outputs": []
    }
  ]
}