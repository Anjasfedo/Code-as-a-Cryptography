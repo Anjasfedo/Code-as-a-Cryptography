{
  "nbformat": 4,
  "nbformat_minor": 0,
  "metadata": {
    "colab": {
      "provenance": [],
      "authorship_tag": "ABX9TyNe2Rl0yX6CD7ya6PKty90h",
      "include_colab_link": true
    },
    "kernelspec": {
      "name": "python3",
      "display_name": "Python 3"
    },
    "language_info": {
      "name": "python"
    }
  },
  "cells": [
    {
      "cell_type": "markdown",
      "metadata": {
        "id": "view-in-github",
        "colab_type": "text"
      },
      "source": [
        "<a href=\"https://colab.research.google.com/github/Anjasfedo/Code-as-a-Cryptography/blob/main/ecc_3.ipynb\" target=\"_parent\"><img src=\"https://colab.research.google.com/assets/colab-badge.svg\" alt=\"Open In Colab\"/></a>"
      ]
    },
    {
      "cell_type": "code",
      "execution_count": null,
      "metadata": {
        "id": "YQOe8-lIFU42"
      },
      "outputs": [],
      "source": [
        "# y^2 = x^3 + 7 mod 17\n",
        "def curve_equation(x, a=0, b=7, p=17):\n",
        "    \"\"\"Elliptic curve equation y^2 = x^3 + ax + b mod p.\"\"\"\n",
        "    return (x**3 + a*x + b) % p\n",
        "\n",
        "def is_curve_point(x, y, a=0, b=7, p=17):\n",
        "    \"\"\"Check if the point (x, y) satisfies the elliptic curve equation mod p.\"\"\"\n",
        "    return curve_equation(x, a, b, p) == (y**2) % p"
      ]
    },
    {
      "cell_type": "code",
      "source": [
        "def mod_inverse(a, p):\n",
        "    \"\"\"Returns the modular inverse of a under modulo p using Fermat's Little Theorem.\"\"\"\n",
        "    return pow(a, p - 2, p)\n",
        "\n",
        "def calculate_slope_mod(P, Q, p, a):\n",
        "    x1, y1 = P\n",
        "    x2, y2 = Q\n",
        "    if x1 == x2 and y1 == y2:\n",
        "        # Use the formula for point doubling when P == Q\n",
        "        numerator = (3 * x1**2 + a) % p\n",
        "        denominator = (2 * y1) % p\n",
        "    else:\n",
        "        # Use the formula for regular slope when P != Q\n",
        "        numerator = (y2 - y1) % p\n",
        "        denominator = (x2 - x1) % p\n",
        "\n",
        "    if denominator == 0:\n",
        "        raise ValueError(\"Slope is undefined (denominator is zero).\")\n",
        "\n",
        "    # Compute the slope as (numerator / denominator) % p, which is\n",
        "    # numerator * mod_inverse(denominator, p) % p\n",
        "    slope = (numerator * mod_inverse(denominator, p)) % p\n",
        "    return slope"
      ],
      "metadata": {
        "id": "Rs7eM4k1LHdE"
      },
      "execution_count": null,
      "outputs": []
    },
    {
      "cell_type": "markdown",
      "source": [
        "# Point Addition"
      ],
      "metadata": {
        "id": "SNmAO9JyLCXU"
      }
    },
    {
      "cell_type": "code",
      "source": [
        "def calculate_add_xr_mod(P, Q, m, p):\n",
        "    x1, y1 = P\n",
        "    x2, y2 = Q\n",
        "    xr = (m**2 - x1 - x2) % p\n",
        "    return xr"
      ],
      "metadata": {
        "id": "UUMLArOmLEVi"
      },
      "execution_count": null,
      "outputs": []
    },
    {
      "cell_type": "code",
      "source": [
        "def calculate_add_yr_mod(P, Q, m, xr, p):\n",
        "    x1, y1 = P\n",
        "    x2, y2 = Q\n",
        "    yr = (m * (x1 - xr) - y1) % p\n",
        "    return yr"
      ],
      "metadata": {
        "id": "FXy2TiSQLJmq"
      },
      "execution_count": null,
      "outputs": []
    },
    {
      "cell_type": "code",
      "source": [
        "def calculate_point_add(P, Q, p, a):\n",
        "  print(f'P: {P}')\n",
        "  print(f'Q: {Q}')\n",
        "  print(f'p: {p}')\n",
        "\n",
        "  m = calculate_slope_mod(P, Q, p, a)\n",
        "  print(f'slope: {m}')\n",
        "\n",
        "  xr = calculate_add_xr_mod(P, Q, m, p)\n",
        "  print(f'xr: {xr}')\n",
        "\n",
        "  yr = calculate_add_yr_mod(P, Q, m, xr, p)\n",
        "  print(f'yr: {yr}')\n",
        "\n",
        "  R = (xr, yr)\n",
        "  print(f'R: {R}')\n",
        "\n",
        "  print(f'is R on curve: {is_curve_point(R[0], R[1], p)}')\n",
        "\n",
        "  return R"
      ],
      "metadata": {
        "id": "-i5mC-tvLMUC"
      },
      "execution_count": null,
      "outputs": []
    },
    {
      "cell_type": "markdown",
      "source": [
        "# Point Multiplication"
      ],
      "metadata": {
        "id": "Qxyn6Xn8K2zc"
      }
    },
    {
      "cell_type": "code",
      "source": [
        "def calculate_mul_xr_mod(P, Q, slope, p):\n",
        "    x1, y1 = P\n",
        "    x2, y2 = Q\n",
        "    xr = (slope**2 - (2 * x1)) % p\n",
        "    return xr"
      ],
      "metadata": {
        "id": "UlhHPmm6K6hj"
      },
      "execution_count": null,
      "outputs": []
    },
    {
      "cell_type": "code",
      "source": [
        "def calculate_mul_yr_mod(P, Q, slope, xr, p):\n",
        "    x1, y1 = P\n",
        "    yr = (slope * (x1 - xr) - y1) % p\n",
        "    return yr"
      ],
      "metadata": {
        "id": "sWAiewWmK7qT"
      },
      "execution_count": null,
      "outputs": []
    },
    {
      "cell_type": "code",
      "source": [
        "def calculate_point_mul(P, p, a):\n",
        "  print(f'P: {P}')\n",
        "  print(f'p: {p}')\n",
        "\n",
        "  m = calculate_slope_mod(P, P, p, a)\n",
        "  print(f'slope: {m}')\n",
        "\n",
        "  xr = calculate_mul_xr_mod(P, P, m, p)\n",
        "  print(f'xr: {xr}')\n",
        "\n",
        "  yr = calculate_mul_yr_mod(P, P, m, xr, p)\n",
        "  print(f'yr: {yr}')\n",
        "\n",
        "  R = (xr, yr)\n",
        "  print(f'R: {R}')\n",
        "\n",
        "  print(f'is R on curve: {is_curve_point(R[0], R[1], p)}')\n",
        "\n",
        "  return R"
      ],
      "metadata": {
        "id": "RZqZYNTaLA-C"
      },
      "execution_count": null,
      "outputs": []
    },
    {
      "cell_type": "markdown",
      "source": [
        "# Test"
      ],
      "metadata": {
        "id": "SaHA-wz0LQhD"
      }
    },
    {
      "cell_type": "code",
      "source": [
        "# y^2 = x^3 + x + 6\n",
        "def curve_equation(x, p, a=1, b=6):\n",
        "    \"\"\"Elliptic curve equation y^2 = x^3 + ax + b mod p.\"\"\"\n",
        "    return (x**3 + a*x + b) % p\n",
        "\n",
        "def is_curve_point(x, y, p=11):\n",
        "    \"\"\"Check if the point (x, y) satisfies the elliptic curve equation mod p.\"\"\"\n",
        "    return curve_equation(x, p=p) == (y**2) % p"
      ],
      "metadata": {
        "id": "u3F6Tg56LSI7"
      },
      "execution_count": null,
      "outputs": []
    },
    {
      "cell_type": "code",
      "source": [
        "P = (2, 4)\n",
        "Q = (5, 9)\n",
        "\n",
        "R = calculate_point_add(P, Q, 11, 1)"
      ],
      "metadata": {
        "colab": {
          "base_uri": "https://localhost:8080/"
        },
        "id": "zWXY5tIpLZUy",
        "outputId": "e2d8de76-53a4-4787-b385-e280e34a02ed"
      },
      "execution_count": null,
      "outputs": [
        {
          "output_type": "stream",
          "name": "stdout",
          "text": [
            "P: (2, 4)\n",
            "Q: (5, 9)\n",
            "p: 11\n",
            "slope: 9\n",
            "xr: 8\n",
            "yr: 8\n",
            "R: (8, 8)\n",
            "is R on curve: True\n"
          ]
        }
      ]
    },
    {
      "cell_type": "code",
      "source": [
        "_R = calculate_point_mul(P, 11, 1)"
      ],
      "metadata": {
        "colab": {
          "base_uri": "https://localhost:8080/"
        },
        "id": "ScS16c6sNExi",
        "outputId": "0e3f3e0a-f5e1-4fc1-cc66-a00124672b73"
      },
      "execution_count": null,
      "outputs": [
        {
          "output_type": "stream",
          "name": "stdout",
          "text": [
            "P: (2, 4)\n",
            "p: 11\n",
            "slope: 3\n",
            "xr: 5\n",
            "yr: 9\n",
            "R: (5, 9)\n",
            "is R on curve: True\n"
          ]
        }
      ]
    },
    {
      "cell_type": "markdown",
      "source": [
        "# Elliptic Curve Diffie Hellman"
      ],
      "metadata": {
        "id": "ipnVXCxB6Ytr"
      }
    },
    {
      "cell_type": "code",
      "source": [
        "def curve_equation(x, p, a=2, b=1):\n",
        "    \"\"\"Elliptic curve equation y^2 = x^3 + ax + b mod p.\"\"\"\n",
        "    return (x**3 + a*x + b) % p\n",
        "\n",
        "def is_curve_point(x, y, p=5):\n",
        "    \"\"\"Check if the point (x, y) satisfies the elliptic curve equation mod p.\"\"\"\n",
        "    return curve_equation(x, p=p) == (y**2) % p"
      ],
      "metadata": {
        "id": "ge-IAtKs-yex"
      },
      "execution_count": null,
      "outputs": []
    },
    {
      "cell_type": "code",
      "source": [
        "# y^2 = x^3 + 2x + 1\n",
        "a = 2\n",
        "# b = 1\n",
        "\n",
        "p = 5\n",
        "P1 = (0, 1)\n",
        "\n",
        "PA = calculate_point_mul(P, p, a)"
      ],
      "metadata": {
        "colab": {
          "base_uri": "https://localhost:8080/"
        },
        "id": "pCeUnESF5zW4",
        "outputId": "78be64a9-19a4-444a-8242-a29a22c1d55f"
      },
      "execution_count": null,
      "outputs": [
        {
          "output_type": "stream",
          "name": "stdout",
          "text": [
            "P: (0, 1)\n",
            "p: 5\n",
            "slope: 1\n",
            "xr: 1\n",
            "yr: 3\n",
            "R: (1, 3)\n",
            "is R on curve: True\n"
          ]
        }
      ]
    },
    {
      "cell_type": "code",
      "source": [
        "PB = calculate_point_add(P1, P2, p, a)"
      ],
      "metadata": {
        "colab": {
          "base_uri": "https://localhost:8080/"
        },
        "id": "OsgHPT7d-c6W",
        "outputId": "71a1934d-5508-4baa-dd0e-56e669b1fdbe"
      },
      "execution_count": null,
      "outputs": [
        {
          "output_type": "stream",
          "name": "stdout",
          "text": [
            "P: (0, 1)\n",
            "Q: (1, 3)\n",
            "p: 5\n",
            "slope: 2\n",
            "xr: 3\n",
            "yr: 3\n",
            "R: (3, 3)\n",
            "is R on curve: True\n"
          ]
        }
      ]
    },
    {
      "cell_type": "code",
      "source": [
        "KA = calculate_point_mul(PB, p, a)"
      ],
      "metadata": {
        "colab": {
          "base_uri": "https://localhost:8080/"
        },
        "id": "aIwwdX4D-4Gl",
        "outputId": "aa0ff01d-0825-4a4c-b824-02f95d2c0b07"
      },
      "execution_count": null,
      "outputs": [
        {
          "output_type": "stream",
          "name": "stdout",
          "text": [
            "P: (3, 3)\n",
            "p: 5\n",
            "slope: 4\n",
            "xr: 0\n",
            "yr: 4\n",
            "R: (0, 4)\n",
            "is R on curve: True\n"
          ]
        }
      ]
    },
    {
      "cell_type": "code",
      "source": [
        "KB_1 = calculate_point_mul(PA, p, a)"
      ],
      "metadata": {
        "colab": {
          "base_uri": "https://localhost:8080/"
        },
        "id": "ioI4HG6w_p0Z",
        "outputId": "72ccec52-6b91-41ba-b12d-4a0b4379199c"
      },
      "execution_count": null,
      "outputs": [
        {
          "output_type": "stream",
          "name": "stdout",
          "text": [
            "P: (1, 3)\n",
            "p: 5\n",
            "slope: 0\n",
            "xr: 3\n",
            "yr: 2\n",
            "R: (3, 2)\n",
            "is R on curve: True\n"
          ]
        }
      ]
    },
    {
      "cell_type": "code",
      "source": [
        "KB_2 = calculate_point_add(P ,KB_1, p, a)"
      ],
      "metadata": {
        "colab": {
          "base_uri": "https://localhost:8080/"
        },
        "id": "jk5JJSRiAfMn",
        "outputId": "04908a5b-43bb-4e67-9c24-193e4e85a6c1"
      },
      "execution_count": null,
      "outputs": [
        {
          "output_type": "stream",
          "name": "stdout",
          "text": [
            "P: (0, 1)\n",
            "Q: (3, 2)\n",
            "p: 5\n",
            "slope: 2\n",
            "xr: 1\n",
            "yr: 2\n",
            "R: (1, 2)\n",
            "is R on curve: True\n"
          ]
        }
      ]
    },
    {
      "cell_type": "code",
      "source": [
        "KB_3 = calculate_point_add(P, KB_2, p, a)"
      ],
      "metadata": {
        "colab": {
          "base_uri": "https://localhost:8080/"
        },
        "id": "k68RcBeM_ys2",
        "outputId": "4fbb48b2-3ef1-4c18-aa21-302013d191dc"
      },
      "execution_count": null,
      "outputs": [
        {
          "output_type": "stream",
          "name": "stdout",
          "text": [
            "P: (0, 1)\n",
            "Q: (1, 2)\n",
            "p: 5\n",
            "slope: 1\n",
            "xr: 0\n",
            "yr: 4\n",
            "R: (0, 4)\n",
            "is R on curve: True\n"
          ]
        }
      ]
    },
    {
      "cell_type": "code",
      "source": [
        "import numpy as np\n",
        "import matplotlib.pyplot as plt\n",
        "\n",
        "# Function to plot a generalized elliptic curve with a callback equation\n",
        "def plot_elliptic_curve(a, b, equation_callback, x_range=(-10, 10), num_points=100000, curve_label=None):\n",
        "    \"\"\"\n",
        "    Plot an elliptic curve given an equation as a callback.\n",
        "\n",
        "    Parameters:\n",
        "    a (float): The 'a' coefficient to pass into the elliptic curve equation.\n",
        "    b (float): The 'b' coefficient to pass into the elliptic curve equation.\n",
        "    equation_callback (function): A callback function defining the elliptic curve equation.\n",
        "    x_range (tuple): The range of x values for plotting (default is from -10 to 10).\n",
        "    num_points (int): The number of points to plot (default is 100000).\n",
        "    curve_label (str): A custom label for the curve plot (default uses the equation).\n",
        "    \"\"\"\n",
        "    # Generate a set of x values for plotting the elliptic curve\n",
        "    x = np.linspace(x_range[0], x_range[1], num_points)\n",
        "\n",
        "    # Calculate the corresponding y^2 values using the provided callback function\n",
        "    y_squared = equation_callback(x, a, b)\n",
        "\n",
        "    # Mask values where y^2 is negative (because sqrt can't be applied to negative numbers)\n",
        "    valid_mask = y_squared >= 0\n",
        "    y_squared_valid = y_squared[valid_mask]\n",
        "    x_valid = x[valid_mask]\n",
        "\n",
        "    # Calculate y values (positive and negative branches) from valid y^2 values\n",
        "    y_positive = np.sqrt(y_squared_valid)\n",
        "    y_negative = -np.sqrt(y_squared_valid)\n",
        "\n",
        "    # If no label is provided, use the default equation format in the label\n",
        "    if curve_label is None:\n",
        "        curve_label = rf'$y = \\sqrt{{x^3 + {a}x + {b}}}$'\n",
        "\n",
        "    # Plot the elliptic curve\n",
        "    plt.figure(figsize=(8, 8))\n",
        "    plt.plot(x_valid, y_positive, label=curve_label, color='blue')  # Upper half of the curve\n",
        "    plt.plot(x_valid, y_negative, color='blue')  # Lower half of the curve\n",
        "\n",
        "    # Set equal aspect ratio to ensure x and y scales are the same\n",
        "    plt.gca().set_aspect('equal', adjustable='box')\n",
        "\n",
        "    # Add labels, title, and grid\n",
        "    plt.title(f\"Elliptic Curve: {curve_label}\")\n",
        "    plt.xlabel('x')\n",
        "    plt.ylabel('y')\n",
        "    plt.axhline(0, color='black', linewidth=0.5)\n",
        "    plt.axvline(0, color='black', linewidth=0.5)\n",
        "\n",
        "    plt.xticks(np.arange(-10, 11, 2))\n",
        "    plt.yticks(np.arange(-10, 11, 2))\n",
        "    plt.grid(True)\n",
        "    plt.legend()\n",
        "\n",
        "    # Show the plot\n",
        "    plt.show()\n",
        "\n",
        "# Example callback function for the elliptic curve equation y^2 = x^3 + ax + b\n",
        "def equation_elliptic_example(x, a, b):\n",
        "    return x**3 + a*x + b\n",
        "\n",
        "# Example usage with parameters a = 3, b = 5, and the equation callback\n",
        "plot_elliptic_curve(a=2, b=1, equation_callback=equation_elliptic_example, curve_label='x**3 + a*x + b')"
      ],
      "metadata": {
        "colab": {
          "base_uri": "https://localhost:8080/",
          "height": 718
        },
        "id": "9jDpASwA9-Ko",
        "outputId": "241b38a2-b6d4-4ce9-ac39-702939b2b22e"
      },
      "execution_count": null,
      "outputs": [
        {
          "output_type": "display_data",
          "data": {
            "text/plain": [
              "<Figure size 800x800 with 1 Axes>"
            ],
            "image/png": "[encoded data removed]"
          },
          "metadata": {}
        }
      ]
    },
    {
      "cell_type": "code",
      "source": [
        "!git clone https://github.com/RobinDavid/LSB-Steganography && cd LSB-Steganography && ls && pip install -r requirements.txt"
      ],
      "metadata": {
        "colab": {
          "base_uri": "https://localhost:8080/"
        },
        "id": "tPUo5n7O-Cv5",
        "outputId": "37f12d0e-d894-43f9-8cff-98502982ac71"
      },
      "execution_count": null,
      "outputs": [
        {
          "output_type": "stream",
          "name": "stdout",
          "text": [
            "Cloning into 'LSB-Steganography'...\n",
            "remote: Enumerating objects: 75, done.\u001b[K\n",
            "remote: Counting objects: 100% (7/7), done.\u001b[K\n",
            "remote: Compressing objects: 100% (7/7), done.\u001b[K\n",
            "remote: Total 75 (delta 1), reused 2 (delta 0), pack-reused 68 (from 1)\u001b[K\n",
            "Receiving objects: 100% (75/75), 19.72 KiB | 3.29 MiB/s, done.\n",
            "Resolving deltas: 100% (26/26), done.\n",
            "LICENCE  LSBSteg.py  README.md\trequirements.txt\n",
            "Requirement already satisfied: opencv-python in /usr/local/lib/python3.10/dist-packages (from -r requirements.txt (line 1)) (4.10.0.84)\n",
            "Collecting docopt (from -r requirements.txt (line 2))\n",
            "  Downloading docopt-0.6.2.tar.gz (25 kB)\n",
            "  Preparing metadata (setup.py) ... \u001b[?25l\u001b[?25hdone\n",
            "Requirement already satisfied: numpy in /usr/local/lib/python3.10/dist-packages (from -r requirements.txt (line 3)) (1.26.4)\n",
            "Building wheels for collected packages: docopt\n",
            "  Building wheel for docopt (setup.py) ... \u001b[?25l\u001b[?25hdone\n",
            "  Created wheel for docopt: filename=docopt-0.6.2-py2.py3-none-any.whl size=13704 sha256=19f5aa7b3f0b4c4b2800a33ff332960492ef2569f6362210385bb27c1c33f604\n",
            "  Stored in directory: /root/.cache/pip/wheels/fc/ab/d4/5da2067ac95b36618c629a5f93f809425700506f72c9732fac\n",
            "Successfully built docopt\n",
            "Installing collected packages: docopt\n",
            "Successfully installed docopt-0.6.2\n"
          ]
        }
      ]
    },
    {
      "cell_type": "code",
      "source": [
        "#!/usr/bin/env python\n",
        "# coding:UTF-8\n",
        "\"\"\"LSBSteg.py\n",
        "\n",
        "Usage:\n",
        "  LSBSteg.py encode -i <input> -o <output> -f <file>\n",
        "  LSBSteg.py decode -i <input> -o <output>\n",
        "\n",
        "Options:\n",
        "  -h, --help                Show this help\n",
        "  --version                 Show the version\n",
        "  -f,--file=<file>          File to hide\n",
        "  -i,--in=<input>           Input image (carrier)\n",
        "  -o,--out=<output>         Output image (or extracted file)\n",
        "\"\"\"\n",
        "\n",
        "import cv2\n",
        "import docopt\n",
        "import numpy as np\n",
        "\n",
        "\n",
        "class SteganographyException(Exception):\n",
        "    pass\n",
        "\n",
        "\n",
        "class LSBSteg():\n",
        "    def __init__(self, im):\n",
        "        self.image = im\n",
        "        self.height, self.width, self.nbchannels = im.shape\n",
        "        self.size = self.width * self.height\n",
        "\n",
        "        self.maskONEValues = [1,2,4,8,16,32,64,128]\n",
        "        #Mask used to put one ex:1->00000001, 2->00000010 .. associated with OR bitwise\n",
        "        self.maskONE = self.maskONEValues.pop(0) #Will be used to do bitwise operations\n",
        "\n",
        "        self.maskZEROValues = [254,253,251,247,239,223,191,127]\n",
        "        #Mak used to put zero ex:254->11111110, 253->11111101 .. associated with AND bitwise\n",
        "        self.maskZERO = self.maskZEROValues.pop(0)\n",
        "\n",
        "        self.curwidth = 0  # Current width position\n",
        "        self.curheight = 0 # Current height position\n",
        "        self.curchan = 0   # Current channel position\n",
        "\n",
        "    def put_binary_value(self, bits): #Put the bits in the image\n",
        "        for c in bits:\n",
        "            val = list(self.image[self.curheight,self.curwidth]) #Get the pixel value as a list\n",
        "            if int(c) == 1:\n",
        "                val[self.curchan] = int(val[self.curchan]) | self.maskONE #OR with maskONE\n",
        "            else:\n",
        "                val[self.curchan] = int(val[self.curchan]) & self.maskZERO #AND with maskZERO\n",
        "\n",
        "            self.image[self.curheight,self.curwidth] = tuple(val)\n",
        "            self.next_slot() #Move \"cursor\" to the next space\n",
        "\n",
        "    def next_slot(self):#Move to the next slot were information can be taken or put\n",
        "        if self.curchan == self.nbchannels-1: #Next Space is the following channel\n",
        "            self.curchan = 0\n",
        "            if self.curwidth == self.width-1: #Or the first channel of the next pixel of the same line\n",
        "                self.curwidth = 0\n",
        "                if self.curheight == self.height-1:#Or the first channel of the first pixel of the next line\n",
        "                    self.curheight = 0\n",
        "                    if self.maskONE == 128: #Mask 1000000, so the last mask\n",
        "                        raise SteganographyException(\"No available slot remaining (image filled)\")\n",
        "                    else: #Or instead of using the first bit start using the second and so on..\n",
        "                        self.maskONE = self.maskONEValues.pop(0)\n",
        "                        self.maskZERO = self.maskZEROValues.pop(0)\n",
        "                else:\n",
        "                    self.curheight +=1\n",
        "            else:\n",
        "                self.curwidth +=1\n",
        "        else:\n",
        "            self.curchan +=1\n",
        "\n",
        "    def read_bit(self): #Read a single bit int the image\n",
        "        val = self.image[self.curheight,self.curwidth][self.curchan]\n",
        "        val = int(val) & self.maskONE\n",
        "        self.next_slot()\n",
        "        if val > 0:\n",
        "            return \"1\"\n",
        "        else:\n",
        "            return \"0\"\n",
        "\n",
        "    def read_byte(self):\n",
        "        return self.read_bits(8)\n",
        "\n",
        "    def read_bits(self, nb): #Read the given number of bits\n",
        "        bits = \"\"\n",
        "        for i in range(nb):\n",
        "            bits += self.read_bit()\n",
        "        return bits\n",
        "\n",
        "    def byteValue(self, val):\n",
        "        return self.binary_value(val, 8)\n",
        "\n",
        "    def binary_value(self, val, bitsize): #Return the binary value of an int as a byte\n",
        "        binval = bin(val)[2:]\n",
        "        if len(binval) > bitsize:\n",
        "            raise SteganographyException(\"binary value larger than the expected size\")\n",
        "        while len(binval) < bitsize:\n",
        "            binval = \"0\"+binval\n",
        "        return binval\n",
        "\n",
        "    def encode_text(self, txt):\n",
        "        l = len(txt)\n",
        "        binl = self.binary_value(l, 16) #Length coded on 2 bytes so the text size can be up to 65536 bytes long\n",
        "        self.put_binary_value(binl) #Put text length coded on 4 bytes\n",
        "        for char in txt: #And put all the chars\n",
        "            c = ord(char)\n",
        "            self.put_binary_value(self.byteValue(c))\n",
        "        return self.image\n",
        "\n",
        "    def decode_text(self):\n",
        "        ls = self.read_bits(16) #Read the text size in bytes\n",
        "        l = int(ls,2)\n",
        "        i = 0\n",
        "        unhideTxt = \"\"\n",
        "        while i < l: #Read all bytes of the text\n",
        "            tmp = self.read_byte() #So one byte\n",
        "            i += 1\n",
        "            unhideTxt += chr(int(tmp,2)) #Every chars concatenated to str\n",
        "        return unhideTxt\n",
        "\n",
        "    def encode_image(self, imtohide):\n",
        "        w = imtohide.width\n",
        "        h = imtohide.height\n",
        "        if self.width*self.height*self.nbchannels < w*h*imtohide.channels:\n",
        "            raise SteganographyException(\"Carrier image not big enough to hold all the datas to steganography\")\n",
        "        binw = self.binary_value(w, 16) #Width coded on to byte so width up to 65536\n",
        "        binh = self.binary_value(h, 16)\n",
        "        self.put_binary_value(binw) #Put width\n",
        "        self.put_binary_value(binh) #Put height\n",
        "        for h in range(imtohide.height): #Iterate the hole image to put every pixel values\n",
        "            for w in range(imtohide.width):\n",
        "                for chan in range(imtohide.channels):\n",
        "                    val = imtohide[h,w][chan]\n",
        "                    self.put_binary_value(self.byteValue(int(val)))\n",
        "        return self.image\n",
        "\n",
        "\n",
        "    def decode_image(self):\n",
        "        width = int(self.read_bits(16),2) #Read 16bits and convert it in int\n",
        "        height = int(self.read_bits(16),2)\n",
        "        unhideimg = np.zeros((width,height, 3), np.uint8) #Create an image in which we will put all the pixels read\n",
        "        for h in range(height):\n",
        "            for w in range(width):\n",
        "                for chan in range(unhideimg.channels):\n",
        "                    val = list(unhideimg[h,w])\n",
        "                    val[chan] = int(self.read_byte(),2) #Read the value\n",
        "                    unhideimg[h,w] = tuple(val)\n",
        "        return unhideimg\n",
        "\n",
        "    def encode_binary(self, data):\n",
        "        l = len(data)\n",
        "        if self.width*self.height*self.nbchannels < l+64:\n",
        "            raise SteganographyException(\"Carrier image not big enough to hold all the datas to steganography\")\n",
        "        self.put_binary_value(self.binary_value(l, 64))\n",
        "        for byte in data:\n",
        "            byte = byte if isinstance(byte, int) else ord(byte) # Compat py2/py3\n",
        "            self.put_binary_value(self.byteValue(byte))\n",
        "        return self.image\n",
        "\n",
        "    def decode_binary(self):\n",
        "        l = int(self.read_bits(64), 2)\n",
        "        output = b\"\"\n",
        "        for i in range(l):\n",
        "            output += bytearray([int(self.read_byte(),2)])\n",
        "        return output\n",
        "\n",
        "\n",
        "def main():\n",
        "    args = docopt.docopt(__doc__, version=\"0.2\")\n",
        "    in_f = args[\"--in\"]\n",
        "    out_f = args[\"--out\"]\n",
        "    in_img = cv2.imread(in_f)\n",
        "    steg = LSBSteg(in_img)\n",
        "    lossy_formats = [\"jpeg\", \"jpg\"]\n",
        "\n",
        "    if args['encode']:\n",
        "        #Handling lossy format\n",
        "        out_f, out_ext = out_f.split(\".\")\n",
        "        if out_ext in lossy_formats:\n",
        "            out_f = out_f + \".png\"\n",
        "            print(\"Output file changed to \", out_f)\n",
        "\n",
        "        data = open(args[\"--file\"], \"rb\").read()\n",
        "        res = steg.encode_binary(data)\n",
        "        cv2.imwrite(out_f, res)\n",
        "\n",
        "    elif args[\"decode\"]:\n",
        "        raw = steg.decode_binary()\n",
        "        with open(out_f, \"wb\") as f:\n",
        "            f.write(raw)\n",
        "\n",
        "# if __name__==\"__main__\":\n",
        "#     main()"
      ],
      "metadata": {
        "id": "Bw1w-DwS-Fsn"
      },
      "execution_count": null,
      "outputs": []
    },
    {
      "cell_type": "code",
      "source": [
        "im = cv2.imread(\"/content/lsb_w_ECC_LZW_package.png\")\n",
        "steg = LSBSteg(im)\n",
        "bytess = steg.decode_text()\n",
        "print(bytess.encode())"
      ],
      "metadata": {
        "colab": {
          "base_uri": "https://localhost:8080/"
        },
        "id": "-FG-rTO393Rr",
        "outputId": "01864b1f-d823-485d-d327-18e9556a8855"
      },
      "execution_count": null,
      "outputs": [
        {
          "output_type": "stream",
          "name": "stdout",
          "text": [
            "b'\\x18\\r\\x06\\xc2\\x83a\\xc2\\xb9\\xc2\\x84lc\\x19\\xc2\\x8cL#\\x18)\\xc2\\x88l5\\x18\\xc3\\x80\\xc2\\xa1\\xc2\\xa6\\x11\\xc2\\xa9\\xc2\\x88\\xc3\\x8a82\\xc2\\x99\\xc2\\x8c\\xc3\\x83A\\xc2\\x89\\xc2\\x98f41\\x0c\\xc2\\x8c#\\xc2\\x83\\x08\\xc3\\x9c\\xc3\\x84f\\x1c\\r\\xc2\\x87\\x03\\xc2\\x81\\xc3\\x88\\xc3\\x8c\\xc3\\x8cd\\xc2\\x98\\x0c\\xc3\\x86\\x06!\\xc3\\x80\\xc3\\x8c\\xc3\\x841\\x18\\xc2\\x8eF\\xc2\\x86a\\xc2\\x88\\xc3\\x88\\xc3\\x867\\x18\\xc2\\x98\\xc2\\x86qa\\xc3\\x88\\xc3\\xa4nc3N\\xc3\\xa7\\xc3\\x831\\xc3\\x8d\\x00\\xc3\\x8b1\\x1c\\xc2\\x8c\\xc2\\x8c\\xc2\\xb2\\xc2\\xb1\\xc2\\xb0\\xc3\\x84jd\\xc2\\xa7\\xc2\\x98L#\\xc2\\x98Y\\xc2\\x94h7\\xc2\\xa3\\r\\xc2\\xa2\\x161\\xc2\\xa1\\xc2\\x8e\\\\0\\x1cJFs\\x11\\xc2\\x99\\xc2\\x8cqC\\xc2\\xacN\\x0c\\xc2\\x92\\xc2\\x89\\xc3\\x90\\xc3\\x88d9\\x1b\\x0c\\xc3\\xa8\\xc2\\x86\\x11\\xc2\\x90\\xc3\\x98\\xc3\\x8dH3\\x19Lc\\x01\\xc2\\x91\\xc2\\x88\\xc3\\x885\\xc2\\x99\\xc2\\x8dF\\xc3\\x90<\\x10\\xc3\\x8cn0\\x18V\\xc3\\xae\\x06a\\xc2\\xadl`5\\x1c\\xc2\\x99+\\xc2\\xb1\\xc2\\x8b\\xc3\\x94n\\xc2\\xa1w\\x1a\\xc3\\x8f\\xc3\\x8cw\\xc2\\x88\\xc3\\xb0\\xc3\\x82\\x0cc2\\xc3\\x80\\xc2\\xa1Fc\\x158p2\\x1a\\xc3\\x8b/\\xc3\\x95}P\\xc3\\xa6\\xc3\\x93\\xc2\\xa9\\x18\\xc3\\xa2\\x0c\\xc3\\x83\\t\\xc2\\x88\\xc3\\x9cm\\x18\\xc3\\x88\\x0c\\xc3\\x86X\\n5\\x18\\xc3\\x8a5\\xc2\\x90\\xc3\\x90\"7\\xc3\\xaa\\xc2\\xa0\\xc3\\x86xb\\xc3\\x92Y\\xc2\\x8c\\xc3\\x98l\\x04\\xc2\\xafo\\xc2\\x98\\xc2\\xb5Mz#)}d`e1\\x18m2\\xc2\\xbf\\x08\\xc3\\x92\\xc2\\xb8a2\\r(\\xc2\\x9a\\xc3\\xa1\\xc2\\xacj\\xc2\\x9490\\xc3\\xb0\\xc3\\x87\\x14)\\xc2\\xac\\xc2\\x98\\xc3\\x8b#\\x18\\xc3\\x89m\\xc3\\x83z\\xc3\\x86\\xc2\\x905R\\x03\\xc2\\x85\\xc3\\x91\\xc2\\xbfB\\xc2\\x90a\\xc2\\x906V\\xc3\\x98v\\xc2\\xb9\\xc2\\xbdF\\xc3\\x90\\xc2\\x86\\x0c2oF\\x15\\xc2\\xbcb\\x0c\\x14\\x06\\xc2\\xa53^\\xc2\\x83\\xc2\\x80\\xc3\\x803J\\xc2\\x95\\xc3\\x85\\xc3\\xad\\xc3\\x80_\\xc2\\x98\\xc2\\x94\\xc3\\xa9\\x1ej_\\xc2\\x81\\xc2\\x91Y\\x18\\xc3\\x9a\\xc2\\x95\\x185BQ\\xc2\\xa0\\xc3\\x9d\\x03z\\xc3\\x83\\xc2\\x94`8d\\x16t\\x11\\xc3\\x89]\\xc3\\x92p\\xc3\\x90dO\\xc2\\x98\\xc2\\xb8R\\x10\\xc2\\x89\\xc3\\x92p\\xc3\\x81\\x1bq\\x06\\x14b(A\\xc3\\x86\\'L5\\xc2\\x90\\xc3\\x98\\xc3\\x85\\xc3\\xa5\\x0cNS\\x04teU\\xc3\\x91&&\\x10J\\x12\\xc3\\xa0\\xc3\\x89\\xc3\\xbdk\\xc2\\x90\\xc2\\xa5\\x1c7G\\xc3\\x86@\\xc3\\x82\\x19wS`\\xc3\\x91\\xc3\\x88\\x19C\\xc2\\x97\\xc2\\xb97BT\\x16e;\\x18\\xc3\\x86\\x11\\xc2\\x99\\x00'\n"
          ]
        }
      ]
    },
    {
      "cell_type": "code",
      "source": [],
      "metadata": {
        "id": "92avECBK-Jsp"
      },
      "execution_count": null,
      "outputs": []
    }
  ]
}