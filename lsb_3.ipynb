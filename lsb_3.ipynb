{
  "nbformat": 4,
  "nbformat_minor": 0,
  "metadata": {
    "colab": {
      "provenance": [],
      "authorship_tag": "ABX9TyNu6VEAdPtO1AqSrwN1+v/6",
      "include_colab_link": true
    },
    "kernelspec": {
      "name": "python3",
      "display_name": "Python 3"
    },
    "language_info": {
      "name": "python"
    }
  },
  "cells": [
    {
      "cell_type": "markdown",
      "metadata": {
        "id": "view-in-github",
        "colab_type": "text"
      },
      "source": [
        "<a href=\"https://colab.research.google.com/github/Anjasfedo/Code-as-a-Cryptography/blob/main/lsb_3.ipynb\" target=\"_parent\"><img src=\"https://colab.research.google.com/assets/colab-badge.svg\" alt=\"Open In Colab\"/></a>"
      ]
    },
    {
      "cell_type": "code",
      "execution_count": 8,
      "metadata": {
        "id": "KNr86ECB5SX8",
        "colab": {
          "base_uri": "https://localhost:8080/",
          "height": 428
        },
        "outputId": "405f2f46-4fa6-4405-a798-7b6f3dd3e5a7"
      },
      "outputs": [
        {
          "output_type": "display_data",
          "data": {
            "text/plain": [
              "<Figure size 640x480 with 1 Axes>"
            ],
            "image/png": "[encoded data removed]"
          },
          "metadata": {}
        }
      ],
      "source": [
        "from PIL import Image\n",
        "import numpy as np\n",
        "import matplotlib.pyplot as plt\n",
        "\n",
        "# Fungsi untuk menampilkan gambar\n",
        "def display_image(image, title=\"Gambar\"):\n",
        "    plt.imshow(image)\n",
        "    plt.title(title)\n",
        "    plt.axis('off')  # Hilangkan sumbu\n",
        "    plt.show()\n",
        "\n",
        "# Contoh penggunaan\n",
        "# Buat gambar 3x3 dengan warna putih\n",
        "image = Image.new('RGB', (3, 3), color=(255, 255, 255))\n",
        "\n",
        "# Define RGB values for each pixel (3x3 grid)\n",
        "pixels = [\n",
        "    (255, 0, 0), (0, 255, 0), (0, 0, 255),   # Red, Green, Blue\n",
        "    (255, 255, 0), (0, 255, 255), (255, 0, 255), # Yellow, Cyan, Magenta\n",
        "    (0, 0, 0), (128, 128, 128), (255, 255, 255) # Black, Gray, White\n",
        "]\n",
        "\n",
        "# Update the image with these pixel values\n",
        "image.putdata(pixels)\n",
        "\n",
        "display_image(image, \"Gambar Asli\")"
      ]
    },
    {
      "cell_type": "code",
      "source": [
        "# Fungsi untuk menampilkan RGB dan nilai biner setiap piksel\n",
        "def display_pixel_values(image):\n",
        "    # Dapatkan data piksel dari gambar\n",
        "    pixels = list(image.getdata())\n",
        "\n",
        "    print(\"RGB dan Nilai Biner untuk setiap piksel:\")\n",
        "    for i, pixel in enumerate(pixels):\n",
        "        # Pisahkan nilai R, G, B\n",
        "        r, g, b = pixel\n",
        "\n",
        "        # Konversi nilai R, G, B ke biner\n",
        "        r_bin = f'{r:08b}'\n",
        "        g_bin = f'{g:08b}'\n",
        "        b_bin = f'{b:08b}'\n",
        "\n",
        "        print(f\"Piksel {i+1}: RGB ({r}, {g}, {b}) - Biner (R: {r_bin}, G: {g_bin}, B: {b_bin})\")\n",
        "\n",
        "display_pixel_values(image)"
      ],
      "metadata": {
        "colab": {
          "base_uri": "https://localhost:8080/"
        },
        "id": "OMhxBI_CqINq",
        "outputId": "36b43174-4628-455c-b7b2-f9f2f3b7b56f"
      },
      "execution_count": 9,
      "outputs": [
        {
          "output_type": "stream",
          "name": "stdout",
          "text": [
            "RGB dan Nilai Biner untuk setiap piksel:\n",
            "Piksel 1: RGB (255, 0, 0) - Biner (R: 11111111, G: 00000000, B: 00000000)\n",
            "Piksel 2: RGB (0, 255, 0) - Biner (R: 00000000, G: 11111111, B: 00000000)\n",
            "Piksel 3: RGB (0, 0, 255) - Biner (R: 00000000, G: 00000000, B: 11111111)\n",
            "Piksel 4: RGB (255, 255, 0) - Biner (R: 11111111, G: 11111111, B: 00000000)\n",
            "Piksel 5: RGB (0, 255, 255) - Biner (R: 00000000, G: 11111111, B: 11111111)\n",
            "Piksel 6: RGB (255, 0, 255) - Biner (R: 11111111, G: 00000000, B: 11111111)\n",
            "Piksel 7: RGB (0, 0, 0) - Biner (R: 00000000, G: 00000000, B: 00000000)\n",
            "Piksel 8: RGB (128, 128, 128) - Biner (R: 10000000, G: 10000000, B: 10000000)\n",
            "Piksel 9: RGB (255, 255, 255) - Biner (R: 11111111, G: 11111111, B: 11111111)\n"
          ]
        }
      ]
    },
    {
      "cell_type": "code",
      "source": [
        "def get_lsb_from_num(value):\n",
        "    lsb = value & 1\n",
        "    return lsb\n",
        "\n",
        "def get_lsb_from_bits(bit_str):\n",
        "    return int(bit_str[-1])\n",
        "\n",
        "def num_to_bit(num):\n",
        "    return bin(num)[2:]\n",
        "\n",
        "char = \"A\"\n",
        "value = ord(char)\n",
        "bit = num_to_bit(value)\n",
        "lsb1 = get_lsb_from_num(value)\n",
        "lsb2 = get_lsb_from_bits(bit)\n",
        "print(lsb1 == lsb2)\n",
        "print(f\"Char: {char} (ASCII: {value}) (binary: {bit}) (LSB: {lsb1})\")"
      ],
      "metadata": {
        "colab": {
          "base_uri": "https://localhost:8080/"
        },
        "id": "0ALqMhq4tSTE",
        "outputId": "b094a2a5-de78-41d3-a4d6-7e43f15e3bee"
      },
      "execution_count": 18,
      "outputs": [
        {
          "output_type": "stream",
          "name": "stdout",
          "text": [
            "True\n",
            "Char: A (ASCII: 65) (binary: 1000001) (LSB: 1)\n"
          ]
        }
      ]
    },
    {
      "cell_type": "code",
      "source": [
        "def change_lsb(value, new_lsb):\n",
        "    if new_lsb not in [0, 1, '0', '1']:\n",
        "        raise ValueError(\"new_lsb must be either 0 or 1.\")\n",
        "\n",
        "    new_lsb = int(new_lsb)\n",
        "\n",
        "    # Clear the current LSB using bitwise AND with ~1 (which is -2 in binary)\n",
        "    value = value & ~1\n",
        "\n",
        "    # Set the new LSB using bitwise OR if new_lsb is 1\n",
        "    value = value | new_lsb\n",
        "\n",
        "    return value\n",
        "\n",
        "# Other functions (unchanged)\n",
        "def get_lsb_from_num(value):\n",
        "    lsb = value & 1\n",
        "    return lsb\n",
        "\n",
        "def get_lsb_from_bits(bit_str):\n",
        "    return int(bit_str[-1])\n",
        "\n",
        "def num_to_bit(num):\n",
        "    return bin(num)[2:]\n",
        "\n",
        "def num_to_binary(num):\n",
        "    return bin(num)[2:].zfill(8)\n",
        "\n",
        "# Example usage\n",
        "char = \"A\"\n",
        "value = ord(char)\n",
        "bit = num_to_bit(value)\n",
        "lsb1 = get_lsb_from_num(value)\n",
        "lsb2 = get_lsb_from_bits(bit)\n",
        "\n",
        "# Changing the LSB to 1\n",
        "new_value = change_lsb(value, 1)\n",
        "new_bit = num_to_bit(new_value)\n",
        "new_lsb = get_lsb_from_num(new_value)\n",
        "\n",
        "print(f\"Original char: {char} (ASCII: {value}) (binary: {bit}) (LSB: {lsb1})\")\n",
        "print(f\"Modified value: {new_value} (binary: {new_bit}) (New LSB: {new_lsb})\")\n",
        "\n",
        "# Changing the LSB back to 0\n",
        "new_value_0 = change_lsb(value, 0)\n",
        "new_bit_0 = num_to_bit(new_value_0)\n",
        "new_lsb_0 = get_lsb_from_num(new_value_0)\n",
        "\n",
        "print(f\"Modified value (LSB 0): {chr(new_value_0)} (ASCII: {new_value_0}) (binary: {new_bit_0}) (New LSB: {new_lsb_0})\")"
      ],
      "metadata": {
        "colab": {
          "base_uri": "https://localhost:8080/"
        },
        "id": "r8_Zsk8juvSH",
        "outputId": "a19fdfdb-8d72-414d-a507-4c0ab695d6e9"
      },
      "execution_count": 41,
      "outputs": [
        {
          "output_type": "stream",
          "name": "stdout",
          "text": [
            "Original char: A (ASCII: 65) (binary: 1000001) (LSB: 1)\n",
            "Modified value: 65 (binary: 1000001) (New LSB: 1)\n",
            "Modified value (LSB 0): @ (ASCII: 64) (binary: 1000000) (New LSB: 0)\n"
          ]
        }
      ]
    },
    {
      "cell_type": "code",
      "source": [
        "bit"
      ],
      "metadata": {
        "colab": {
          "base_uri": "https://localhost:8080/",
          "height": 35
        },
        "id": "_ypUXk21vksx",
        "outputId": "1b824de4-719d-40b9-ec26-9bd45286b088"
      },
      "execution_count": 23,
      "outputs": [
        {
          "output_type": "execute_result",
          "data": {
            "text/plain": [
              "'1000001'"
            ],
            "application/vnd.google.colaboratory.intrinsic+json": {
              "type": "string"
            }
          },
          "metadata": {},
          "execution_count": 23
        }
      ]
    },
    {
      "cell_type": "code",
      "source": [
        "def embbed(image, message):\n",
        "    pixels = list(image.getdata())\n",
        "    new_pixels = []\n",
        "\n",
        "    message_bits = ''.join(num_to_binary(ord(char)) for char in message)\n",
        "    print(message_bits)\n",
        "    message_bits_len = len(message_bits)\n",
        "    length_bits = num_to_binary(message_bits_len)\n",
        "\n",
        "    message_bits = length_bits + message_bits\n",
        "\n",
        "    msg_idx = 0\n",
        "    for i, pixel in enumerate(pixels):\n",
        "      new_pixel = []\n",
        "      for j in pixel:\n",
        "        if msg_idx < len(message_bits):\n",
        "            old_lsb = j\n",
        "\n",
        "            new_lsb = change_lsb(j, message_bits[msg_idx])\n",
        "\n",
        "            j = new_lsb\n",
        "\n",
        "            new_pixel.append(new_lsb)\n",
        "\n",
        "            msg_idx += 1\n",
        "            binary = num_to_binary(j)\n",
        "\n",
        "        else:\n",
        "          new_pixel.append(j)\n",
        "\n",
        "        print(f'binary: {binary}; hex: {j}; value before: {old_lsb}; value after: {new_lsb}')\n",
        "\n",
        "      new_pixels.append(tuple(new_pixel))\n",
        "\n",
        "    new_image = Image.new(image.mode, image.size)\n",
        "    new_image.putdata(new_pixels)\n",
        "\n",
        "    return new_image\n",
        "\n",
        "new_image = embbed(image, 'A')"
      ],
      "metadata": {
        "colab": {
          "base_uri": "https://localhost:8080/"
        },
        "id": "Mxg_eT7IvXsQ",
        "outputId": "83d3ddde-5ce1-4b59-bc08-2422fb0a575a"
      },
      "execution_count": 83,
      "outputs": [
        {
          "output_type": "stream",
          "name": "stdout",
          "text": [
            "01000001\n",
            "binary: 11111110; hex: 254; value before: 255; value after: 254\n",
            "binary: 00000000; hex: 0; value before: 0; value after: 0\n",
            "binary: 00000000; hex: 0; value before: 0; value after: 0\n",
            "binary: 00000000; hex: 0; value before: 0; value after: 0\n",
            "binary: 11111111; hex: 255; value before: 255; value after: 255\n",
            "binary: 00000000; hex: 0; value before: 0; value after: 0\n",
            "binary: 00000000; hex: 0; value before: 0; value after: 0\n",
            "binary: 00000000; hex: 0; value before: 0; value after: 0\n",
            "binary: 11111110; hex: 254; value before: 255; value after: 254\n",
            "binary: 11111111; hex: 255; value before: 255; value after: 255\n",
            "binary: 11111110; hex: 254; value before: 255; value after: 254\n",
            "binary: 00000000; hex: 0; value before: 0; value after: 0\n",
            "binary: 00000000; hex: 0; value before: 0; value after: 0\n",
            "binary: 11111110; hex: 254; value before: 255; value after: 254\n",
            "binary: 11111110; hex: 254; value before: 255; value after: 254\n",
            "binary: 11111111; hex: 255; value before: 255; value after: 255\n",
            "binary: 11111111; hex: 0; value before: 255; value after: 255\n",
            "binary: 11111111; hex: 255; value before: 255; value after: 255\n",
            "binary: 11111111; hex: 0; value before: 255; value after: 255\n",
            "binary: 11111111; hex: 0; value before: 255; value after: 255\n",
            "binary: 11111111; hex: 0; value before: 255; value after: 255\n",
            "binary: 11111111; hex: 128; value before: 255; value after: 255\n",
            "binary: 11111111; hex: 128; value before: 255; value after: 255\n",
            "binary: 11111111; hex: 128; value before: 255; value after: 255\n",
            "binary: 11111111; hex: 255; value before: 255; value after: 255\n",
            "binary: 11111111; hex: 255; value before: 255; value after: 255\n",
            "binary: 11111111; hex: 255; value before: 255; value after: 255\n"
          ]
        }
      ]
    },
    {
      "cell_type": "code",
      "source": [
        "display_image(new_image, \"lorem\")"
      ],
      "metadata": {
        "colab": {
          "base_uri": "https://localhost:8080/",
          "height": 428
        },
        "id": "8fqFa9-w5rxM",
        "outputId": "66878679-66c1-401a-f6e3-40209892e438"
      },
      "execution_count": 84,
      "outputs": [
        {
          "output_type": "display_data",
          "data": {
            "text/plain": [
              "<Figure size 640x480 with 1 Axes>"
            ],
            "image/png": "[encoded data removed]"
          },
          "metadata": {}
        }
      ]
    },
    {
      "cell_type": "code",
      "source": [
        "display_pixel_values(new_image)"
      ],
      "metadata": {
        "colab": {
          "base_uri": "https://localhost:8080/"
        },
        "id": "X4APJT5V3V84",
        "outputId": "f590fc7b-d36c-4fce-c17f-fb8a6c93aec5"
      },
      "execution_count": 85,
      "outputs": [
        {
          "output_type": "stream",
          "name": "stdout",
          "text": [
            "RGB dan Nilai Biner untuk setiap piksel:\n",
            "Piksel 1: RGB (254, 0, 0) - Biner (R: 11111110, G: 00000000, B: 00000000)\n",
            "Piksel 2: RGB (0, 255, 0) - Biner (R: 00000000, G: 11111111, B: 00000000)\n",
            "Piksel 3: RGB (0, 0, 254) - Biner (R: 00000000, G: 00000000, B: 11111110)\n",
            "Piksel 4: RGB (255, 254, 0) - Biner (R: 11111111, G: 11111110, B: 00000000)\n",
            "Piksel 5: RGB (0, 254, 254) - Biner (R: 00000000, G: 11111110, B: 11111110)\n",
            "Piksel 6: RGB (255, 0, 255) - Biner (R: 11111111, G: 00000000, B: 11111111)\n",
            "Piksel 7: RGB (0, 0, 0) - Biner (R: 00000000, G: 00000000, B: 00000000)\n",
            "Piksel 8: RGB (128, 128, 128) - Biner (R: 10000000, G: 10000000, B: 10000000)\n",
            "Piksel 9: RGB (255, 255, 255) - Biner (R: 11111111, G: 11111111, B: 11111111)\n"
          ]
        }
      ]
    },
    {
      "cell_type": "code",
      "source": [
        "def extract(image):\n",
        "    pixels = list(image.getdata())\n",
        "\n",
        "    length_bits = []\n",
        "    msg_idx = 0\n",
        "\n",
        "    for i, pixel in enumerate(pixels):\n",
        "        for j in pixel:\n",
        "            if msg_idx < 8:  # Only need 8 bits for the length\n",
        "                length_bits.append(str(get_lsb_from_num(j)))\n",
        "                msg_idx += 1\n",
        "            else:\n",
        "                break\n",
        "        if msg_idx >= 8:\n",
        "            break\n",
        "\n",
        "    # Convert the length bits to an integer\n",
        "    length_bin_str = ''.join(length_bits)\n",
        "    message_len = int(length_bin_str, 2)\n",
        "    print(f\"Extracted message length (in bits): {message_len}\")\n",
        "\n",
        "    # Now extract the actual message based on the extracted length\n",
        "    message_bits = []\n",
        "    msg_idx = 0  # Reset message index\n",
        "\n",
        "    for i, pixel in enumerate(pixels):\n",
        "        if i == 0:  # Skip the first pixel since it contains the length\n",
        "            continue\n",
        "\n",
        "        for j in pixel:\n",
        "            if msg_idx < message_len:\n",
        "                message_bits.append(str(get_lsb_from_num(j)))\n",
        "                msg_idx += 1\n",
        "            if msg_idx >= message_len:\n",
        "                break\n",
        "        if msg_idx >= message_len:\n",
        "            break\n",
        "\n",
        "    print(message_bits)\n",
        "\n",
        "    # Group the message bits into 8-bit chunks and convert to characters\n",
        "    extracted_message = ''\n",
        "    for i in range(0, len(message_bits), 8):\n",
        "        byte = ''.join(message_bits[i:i+8])\n",
        "        extracted_message += chr(int(byte, 2))\n",
        "\n",
        "    return extracted_message\n",
        "\n",
        "extracted_message = extract(new_image)\n",
        "print(f\"Extracted message: {extracted_message}\")"
      ],
      "metadata": {
        "colab": {
          "base_uri": "https://localhost:8080/"
        },
        "id": "u8L4zyW059Bk",
        "outputId": "11e8ea17-9abf-42b5-ea32-48922809c20e"
      },
      "execution_count": 86,
      "outputs": [
        {
          "output_type": "stream",
          "name": "stdout",
          "text": [
            "Extracted message length (in bits): 8\n",
            "['0', '1', '0', '0', '0', '0', '1', '0']\n",
            "Extracted message: B\n"
          ]
        }
      ]
    }
  ]
}