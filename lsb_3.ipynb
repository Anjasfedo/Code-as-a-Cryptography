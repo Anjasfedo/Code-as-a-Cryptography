{
  "nbformat": 4,
  "nbformat_minor": 0,
  "metadata": {
    "colab": {
      "provenance": [],
      "authorship_tag": "ABX9TyPN9Yvd26ExQQZ1jH7DW8Qs",
      "include_colab_link": true
    },
    "kernelspec": {
      "name": "python3",
      "display_name": "Python 3"
    },
    "language_info": {
      "name": "python"
    }
  },
  "cells": [
    {
      "cell_type": "markdown",
      "metadata": {
        "id": "view-in-github",
        "colab_type": "text"
      },
      "source": [
        "<a href=\"https://colab.research.google.com/github/Anjasfedo/Code-as-a-Cryptography/blob/main/lsb_3.ipynb\" target=\"_parent\"><img src=\"https://colab.research.google.com/assets/colab-badge.svg\" alt=\"Open In Colab\"/></a>"
      ]
    },
    {
      "cell_type": "code",
      "execution_count": 8,
      "metadata": {
        "id": "KNr86ECB5SX8",
        "colab": {
          "base_uri": "https://localhost:8080/",
          "height": 428
        },
        "outputId": "405f2f46-4fa6-4405-a798-7b6f3dd3e5a7"
      },
      "outputs": [
        {
          "output_type": "display_data",
          "data": {
            "text/plain": [
              "<Figure size 640x480 with 1 Axes>"
            ],
            "image/png": "[encoded data removed]"
          },
          "metadata": {}
        }
      ],
      "source": [
        "from PIL import Image\n",
        "import numpy as np\n",
        "import matplotlib.pyplot as plt\n",
        "\n",
        "# Fungsi untuk menampilkan gambar\n",
        "def display_image(image, title=\"Gambar\"):\n",
        "    plt.imshow(image)\n",
        "    plt.title(title)\n",
        "    plt.axis('off')  # Hilangkan sumbu\n",
        "    plt.show()\n",
        "\n",
        "# Contoh penggunaan\n",
        "# Buat gambar 3x3 dengan warna putih\n",
        "image = Image.new('RGB', (3, 3), color=(255, 255, 255))\n",
        "\n",
        "# Define RGB values for each pixel (3x3 grid)\n",
        "pixels = [\n",
        "    (255, 0, 0), (0, 255, 0), (0, 0, 255),   # Red, Green, Blue\n",
        "    (255, 255, 0), (0, 255, 255), (255, 0, 255), # Yellow, Cyan, Magenta\n",
        "    (0, 0, 0), (128, 128, 128), (255, 255, 255) # Black, Gray, White\n",
        "]\n",
        "\n",
        "# Update the image with these pixel values\n",
        "image.putdata(pixels)\n",
        "\n",
        "display_image(image, \"Gambar Asli\")"
      ]
    },
    {
      "cell_type": "code",
      "source": [
        "# Fungsi untuk menampilkan RGB dan nilai biner setiap piksel\n",
        "def display_pixel_values(image):\n",
        "    # Dapatkan data piksel dari gambar\n",
        "    pixels = list(image.getdata())\n",
        "\n",
        "    print(\"RGB dan Nilai Biner untuk setiap piksel:\")\n",
        "    for i, pixel in enumerate(pixels):\n",
        "        # Pisahkan nilai R, G, B\n",
        "        r, g, b = pixel\n",
        "\n",
        "        # Konversi nilai R, G, B ke biner\n",
        "        r_bin = f'{r:08b}'\n",
        "        g_bin = f'{g:08b}'\n",
        "        b_bin = f'{b:08b}'\n",
        "\n",
        "        print(f\"Piksel {i+1}: RGB ({r}, {g}, {b}) - Biner (R: {r_bin}, G: {g_bin}, B: {b_bin})\")\n",
        "\n",
        "display_pixel_values(image)"
      ],
      "metadata": {
        "colab": {
          "base_uri": "https://localhost:8080/"
        },
        "id": "OMhxBI_CqINq",
        "outputId": "36b43174-4628-455c-b7b2-f9f2f3b7b56f"
      },
      "execution_count": 9,
      "outputs": [
        {
          "output_type": "stream",
          "name": "stdout",
          "text": [
            "RGB dan Nilai Biner untuk setiap piksel:\n",
            "Piksel 1: RGB (255, 0, 0) - Biner (R: 11111111, G: 00000000, B: 00000000)\n",
            "Piksel 2: RGB (0, 255, 0) - Biner (R: 00000000, G: 11111111, B: 00000000)\n",
            "Piksel 3: RGB (0, 0, 255) - Biner (R: 00000000, G: 00000000, B: 11111111)\n",
            "Piksel 4: RGB (255, 255, 0) - Biner (R: 11111111, G: 11111111, B: 00000000)\n",
            "Piksel 5: RGB (0, 255, 255) - Biner (R: 00000000, G: 11111111, B: 11111111)\n",
            "Piksel 6: RGB (255, 0, 255) - Biner (R: 11111111, G: 00000000, B: 11111111)\n",
            "Piksel 7: RGB (0, 0, 0) - Biner (R: 00000000, G: 00000000, B: 00000000)\n",
            "Piksel 8: RGB (128, 128, 128) - Biner (R: 10000000, G: 10000000, B: 10000000)\n",
            "Piksel 9: RGB (255, 255, 255) - Biner (R: 11111111, G: 11111111, B: 11111111)\n"
          ]
        }
      ]
    },
    {
      "cell_type": "code",
      "source": [
        "def get_lsb_from_num(value):\n",
        "    lsb = value & 1\n",
        "    return lsb\n",
        "\n",
        "def get_lsb_from_bits(bit_str):\n",
        "    return int(bit_str[-1])\n",
        "\n",
        "def num_to_bit(num):\n",
        "    return bin(num)[2:]\n",
        "\n",
        "char = \"A\"\n",
        "value = ord(char)\n",
        "bit = num_to_bit(value)\n",
        "lsb1 = get_lsb_from_num(value)\n",
        "lsb2 = get_lsb_from_bits(bit)\n",
        "print(lsb1 == lsb2)\n",
        "print(f\"Char: {char} (ASCII: {value}) (binary: {bit}) (LSB: {lsb1})\")"
      ],
      "metadata": {
        "colab": {
          "base_uri": "https://localhost:8080/"
        },
        "id": "0ALqMhq4tSTE",
        "outputId": "b094a2a5-de78-41d3-a4d6-7e43f15e3bee"
      },
      "execution_count": 18,
      "outputs": [
        {
          "output_type": "stream",
          "name": "stdout",
          "text": [
            "True\n",
            "Char: A (ASCII: 65) (binary: 1000001) (LSB: 1)\n"
          ]
        }
      ]
    },
    {
      "cell_type": "code",
      "source": [
        "def change_lsb(value, new_lsb):\n",
        "    \"\"\"\n",
        "    Change the least significant bit (LSB) of a given number.\n",
        "\n",
        "    Args:\n",
        "    value (int): The original number.\n",
        "    new_lsb (int): The desired value for the LSB (either 0 or 1).\n",
        "\n",
        "    Returns:\n",
        "    int: The modified number with the new LSB.\n",
        "    \"\"\"\n",
        "    if new_lsb not in [0, 1]:\n",
        "        raise ValueError(\"new_lsb must be either 0 or 1.\")\n",
        "\n",
        "    # Clear the current LSB using bitwise AND with ~1 (which is -2 in binary)\n",
        "    value = value & ~1\n",
        "\n",
        "    # Set the new LSB using bitwise OR if new_lsb is 1\n",
        "    value = value | new_lsb\n",
        "\n",
        "    return value\n",
        "\n",
        "# Other functions (unchanged)\n",
        "def get_lsb_from_num(value):\n",
        "    lsb = value & 1\n",
        "    return lsb\n",
        "\n",
        "def get_lsb_from_bits(bit_str):\n",
        "    return int(bit_str[-1])\n",
        "\n",
        "def num_to_bit(num):\n",
        "    return bin(num)[2:]\n",
        "\n",
        "def num_to_binary(num):\n",
        "    return bin(num)[2:].zfill(8)\n",
        "\n",
        "# Example usage\n",
        "char = \"A\"\n",
        "value = ord(char)\n",
        "bit = num_to_bit(value)\n",
        "lsb1 = get_lsb_from_num(value)\n",
        "lsb2 = get_lsb_from_bits(bit)\n",
        "\n",
        "# Changing the LSB to 1\n",
        "new_value = change_lsb(value, 1)\n",
        "new_bit = num_to_bit(new_value)\n",
        "new_lsb = get_lsb_from_num(new_value)\n",
        "\n",
        "print(f\"Original char: {char} (ASCII: {value}) (binary: {bit}) (LSB: {lsb1})\")\n",
        "print(f\"Modified value: {new_value} (binary: {new_bit}) (New LSB: {new_lsb})\")\n",
        "\n",
        "# Changing the LSB back to 0\n",
        "new_value_0 = change_lsb(value, 0)\n",
        "new_bit_0 = num_to_bit(new_value_0)\n",
        "new_lsb_0 = get_lsb_from_num(new_value_0)\n",
        "\n",
        "print(f\"Modified value (LSB 0): {chr(new_value_0)} (ASCII: {new_value_0}) (binary: {new_bit_0}) (New LSB: {new_lsb_0})\")"
      ],
      "metadata": {
        "colab": {
          "base_uri": "https://localhost:8080/"
        },
        "id": "r8_Zsk8juvSH",
        "outputId": "4e1f4ef7-d4cb-43f0-bc71-bb47f24bacfc"
      },
      "execution_count": 32,
      "outputs": [
        {
          "output_type": "stream",
          "name": "stdout",
          "text": [
            "Original char: A (ASCII: 65) (binary: 1000001) (LSB: 1)\n",
            "Modified value: 65 (binary: 1000001) (New LSB: 1)\n",
            "Modified value (LSB 0): @ (ASCII: 64) (binary: 1000000) (New LSB: 0)\n"
          ]
        }
      ]
    },
    {
      "cell_type": "code",
      "source": [
        "bit"
      ],
      "metadata": {
        "colab": {
          "base_uri": "https://localhost:8080/",
          "height": 35
        },
        "id": "_ypUXk21vksx",
        "outputId": "1b824de4-719d-40b9-ec26-9bd45286b088"
      },
      "execution_count": 23,
      "outputs": [
        {
          "output_type": "execute_result",
          "data": {
            "text/plain": [
              "'1000001'"
            ],
            "application/vnd.google.colaboratory.intrinsic+json": {
              "type": "string"
            }
          },
          "metadata": {},
          "execution_count": 23
        }
      ]
    },
    {
      "cell_type": "code",
      "source": [
        "def embbed(image, message):\n",
        "    # Dapatkan data piksel dari gambar\n",
        "    pixels = list(image.getdata())\n",
        "\n",
        "    print(num_to_bit(ord(message)))\n",
        "\n",
        "    # for\n",
        "    for i, pixel in enumerate(pixels):\n",
        "        # Pisahkan nilai R, G, B\n",
        "        r, g, b = pixel\n",
        "\n",
        "        r = change_lsb(r, 1)\n",
        "\n",
        "        # Konversi nilai R, G, B ke biner\n",
        "        r_bin = num_to_binary(r)\n",
        "        g_bin = num_to_binary(g)\n",
        "        b_bin = num_to_binary(b)\n",
        "\n",
        "        print(f\"Piksel {i+1}: RGB ({r}, {g}, {b}) - Biner (R: {r_bin}, G: {g_bin}, B: {b_bin})\")\n",
        "\n",
        "embbed(image, 'A')"
      ],
      "metadata": {
        "colab": {
          "base_uri": "https://localhost:8080/"
        },
        "id": "Mxg_eT7IvXsQ",
        "outputId": "96b676f7-8be7-4c18-a9e2-f279ea66c513"
      },
      "execution_count": 36,
      "outputs": [
        {
          "output_type": "stream",
          "name": "stdout",
          "text": [
            "1000001\n",
            "Piksel 1: RGB (255, 0, 0) - Biner (R: 11111111, G: 00000000, B: 00000000)\n",
            "Piksel 2: RGB (1, 255, 0) - Biner (R: 00000001, G: 11111111, B: 00000000)\n",
            "Piksel 3: RGB (1, 0, 255) - Biner (R: 00000001, G: 00000000, B: 11111111)\n",
            "Piksel 4: RGB (255, 255, 0) - Biner (R: 11111111, G: 11111111, B: 00000000)\n",
            "Piksel 5: RGB (1, 255, 255) - Biner (R: 00000001, G: 11111111, B: 11111111)\n",
            "Piksel 6: RGB (255, 0, 255) - Biner (R: 11111111, G: 00000000, B: 11111111)\n",
            "Piksel 7: RGB (1, 0, 0) - Biner (R: 00000001, G: 00000000, B: 00000000)\n",
            "Piksel 8: RGB (129, 128, 128) - Biner (R: 10000001, G: 10000000, B: 10000000)\n",
            "Piksel 9: RGB (255, 255, 255) - Biner (R: 11111111, G: 11111111, B: 11111111)\n"
          ]
        }
      ]
    }
  ]
}