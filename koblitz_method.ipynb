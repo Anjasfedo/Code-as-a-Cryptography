{
  "nbformat": 4,
  "nbformat_minor": 0,
  "metadata": {
    "colab": {
      "provenance": [],
      "authorship_tag": "ABX9TyN7WRsxxfv7c5yC4cZh+GrY",
      "include_colab_link": true
    },
    "kernelspec": {
      "name": "python3",
      "display_name": "Python 3"
    },
    "language_info": {
      "name": "python"
    }
  },
  "cells": [
    {
      "cell_type": "markdown",
      "metadata": {
        "id": "view-in-github",
        "colab_type": "text"
      },
      "source": [
        "<a href=\"https://colab.research.google.com/github/Anjasfedo/Code-as-a-Cryptography/blob/main/koblitz_method.ipynb\" target=\"_parent\"><img src=\"https://colab.research.google.com/assets/colab-badge.svg\" alt=\"Open In Colab\"/></a>"
      ]
    },
    {
      "cell_type": "code",
      "execution_count": 14,
      "metadata": {
        "id": "C6D2QuReVwBg"
      },
      "outputs": [],
      "source": [
        "# y^2 = x^3 + 7 mod 17\n",
        "def curve_equation(x, a=-1, b=188, p=751):\n",
        "    \"\"\"Elliptic curve equation y^2 = x^3 + ax + b mod p.\"\"\"\n",
        "    print((x**3 + a*x + b) % p)\n",
        "    return (x**3 + a*x + b) % p\n",
        "\n",
        "def is_curve_point(x, y, a=-1, b=188, p=751):\n",
        "    \"\"\"Check if the point (x, y) satisfies the elliptic curve equation mod p.\"\"\"\n",
        "    print(f\"{curve_equation(x, a, b, p)} == {(y**2) % p}\")\n",
        "    return curve_equation(x, a, b, p) == (y**2) % p"
      ]
    },
    {
      "cell_type": "markdown",
      "source": [
        "## Koblitz Method"
      ],
      "metadata": {
        "id": "raUS2l4jYHDV"
      }
    },
    {
      "cell_type": "code",
      "source": [
        "is_curve_point(224, 248)"
      ],
      "metadata": {
        "colab": {
          "base_uri": "https://localhost:8080/"
        },
        "id": "HihfhSxRWneN",
        "outputId": "cb610749-da31-434b-f1a7-70111293e833"
      },
      "execution_count": 15,
      "outputs": [
        {
          "output_type": "stream",
          "name": "stdout",
          "text": [
            "673\n",
            "673 == 673\n",
            "673\n"
          ]
        },
        {
          "output_type": "execute_result",
          "data": {
            "text/plain": [
              "True"
            ]
          },
          "metadata": {},
          "execution_count": 15
        }
      ]
    },
    {
      "cell_type": "code",
      "source": [
        "m = 11\n",
        "k = 20"
      ],
      "metadata": {
        "id": "lDzKRcvQXjXG"
      },
      "execution_count": 12,
      "outputs": []
    },
    {
      "cell_type": "code",
      "source": [
        "x1 = m * k + 1\n",
        "x1"
      ],
      "metadata": {
        "colab": {
          "base_uri": "https://localhost:8080/"
        },
        "id": "T60B2EE2Xoyt",
        "outputId": "8932cbf6-31a1-452e-938c-37223e97a24c"
      },
      "execution_count": 13,
      "outputs": [
        {
          "output_type": "execute_result",
          "data": {
            "text/plain": [
              "221"
            ]
          },
          "metadata": {},
          "execution_count": 13
        }
      ]
    },
    {
      "cell_type": "code",
      "source": [
        "is_curve_point(x1, curve_equation(x1))"
      ],
      "metadata": {
        "colab": {
          "base_uri": "https://localhost:8080/"
        },
        "id": "3yd8OFazXvTG",
        "outputId": "4ec4c8cb-5e32-4bf2-d5f0-584e6a149723"
      },
      "execution_count": 17,
      "outputs": [
        {
          "output_type": "stream",
          "name": "stdout",
          "text": [
            "456\n",
            "456\n",
            "456 == 660\n",
            "456\n"
          ]
        },
        {
          "output_type": "execute_result",
          "data": {
            "text/plain": [
              "False"
            ]
          },
          "metadata": {},
          "execution_count": 17
        }
      ]
    },
    {
      "cell_type": "code",
      "source": [
        "x2 = m * k + 2\n",
        "x2"
      ],
      "metadata": {
        "colab": {
          "base_uri": "https://localhost:8080/"
        },
        "id": "uH-MOS7cYDpA",
        "outputId": "d13f6a34-9a4f-496e-d551-4540958515e6"
      },
      "execution_count": 18,
      "outputs": [
        {
          "output_type": "execute_result",
          "data": {
            "text/plain": [
              "222"
            ]
          },
          "metadata": {},
          "execution_count": 18
        }
      ]
    },
    {
      "cell_type": "code",
      "source": [
        "is_curve_point(x2, curve_equation(x2))"
      ],
      "metadata": {
        "colab": {
          "base_uri": "https://localhost:8080/"
        },
        "id": "gIpe9X9jYLW2",
        "outputId": "c865c045-ec77-41c5-eac1-3b53f762bb69"
      },
      "execution_count": 19,
      "outputs": [
        {
          "output_type": "stream",
          "name": "stdout",
          "text": [
            "446\n",
            "446\n",
            "446 == 652\n",
            "446\n"
          ]
        },
        {
          "output_type": "execute_result",
          "data": {
            "text/plain": [
              "False"
            ]
          },
          "metadata": {},
          "execution_count": 19
        }
      ]
    },
    {
      "cell_type": "code",
      "source": [
        "x3 = m * k + 3\n",
        "x3"
      ],
      "metadata": {
        "colab": {
          "base_uri": "https://localhost:8080/"
        },
        "id": "P-6-ccRgYNNt",
        "outputId": "28a08372-4ea3-4103-f519-462995c62921"
      },
      "execution_count": 20,
      "outputs": [
        {
          "output_type": "execute_result",
          "data": {
            "text/plain": [
              "223"
            ]
          },
          "metadata": {},
          "execution_count": 20
        }
      ]
    },
    {
      "cell_type": "code",
      "source": [
        "is_curve_point(x3, curve_equation(x3))"
      ],
      "metadata": {
        "colab": {
          "base_uri": "https://localhost:8080/"
        },
        "id": "ldQCEjusYO8d",
        "outputId": "ec062cd6-c3bb-4d7b-ab3a-ca8795edca3c"
      },
      "execution_count": 21,
      "outputs": [
        {
          "output_type": "stream",
          "name": "stdout",
          "text": [
            "266\n",
            "266\n",
            "266 == 162\n",
            "266\n"
          ]
        },
        {
          "output_type": "execute_result",
          "data": {
            "text/plain": [
              "False"
            ]
          },
          "metadata": {},
          "execution_count": 21
        }
      ]
    },
    {
      "cell_type": "code",
      "source": [
        "x4 = m * k + 4\n",
        "x4"
      ],
      "metadata": {
        "colab": {
          "base_uri": "https://localhost:8080/"
        },
        "id": "E3DHt3SLYQh1",
        "outputId": "51471a99-84d0-49b8-af99-d216ed13e1fa"
      },
      "execution_count": 22,
      "outputs": [
        {
          "output_type": "execute_result",
          "data": {
            "text/plain": [
              "224"
            ]
          },
          "metadata": {},
          "execution_count": 22
        }
      ]
    },
    {
      "cell_type": "code",
      "source": [
        "is_curve_point(x4, x4)"
      ],
      "metadata": {
        "colab": {
          "base_uri": "https://localhost:8080/"
        },
        "id": "f3WVMShdYSHG",
        "outputId": "324aef32-f2bd-4f9c-99be-7ba8f47cd597"
      },
      "execution_count": 24,
      "outputs": [
        {
          "output_type": "stream",
          "name": "stdout",
          "text": [
            "673\n",
            "673 == 610\n",
            "673\n"
          ]
        },
        {
          "output_type": "execute_result",
          "data": {
            "text/plain": [
              "False"
            ]
          },
          "metadata": {},
          "execution_count": 24
        }
      ]
    },
    {
      "cell_type": "code",
      "source": [
        "import sympy as sp\n",
        "\n",
        "# Parameters\n",
        "p = 751  # prime modulus\n",
        "k = 20    # chosen small integer\n",
        "a = -1    # coefficient of x in the elliptic curve\n",
        "b = 188    # constant in the elliptic curve\n",
        "\n",
        "# Elliptic curve equation: y^2 = x^3 + ax + b mod p\n",
        "def koblitz_encode(m):\n",
        "    num = 1\n",
        "    point = ()\n",
        "\n",
        "    while not point:\n",
        "      x = m * k + num\n",
        "      rhs = (x**3 + a * x + b) % p  # right-hand side of the elliptic curve equation\n",
        "\n",
        "      # Check if rhs is a quadratic residue modulo p\n",
        "      if sp.is_quad_residue(rhs, p):\n",
        "          y = sp.sqrt_mod(rhs, p)\n",
        "          point = (x, y)  # return the point (x, y)\n",
        "      else:\n",
        "          point = ()  # no valid point found, try another m\n",
        "\n",
        "      num += 1\n",
        "\n",
        "    return point\n",
        "\n",
        "# Decoding: m = (x - 1) / k\n",
        "def koblitz_decode(x):\n",
        "    return (x - 1) // k\n",
        "\n",
        "# Example: encoding message m\n",
        "message = 11\n",
        "encoded_point = koblitz_encode(message)\n",
        "\n",
        "# Output the result\n",
        "decoded_message = koblitz_decode(encoded_point[0])\n",
        "print(f\"Encoded point: {encoded_point}\")\n",
        "print(f\"Decoded message: {decoded_message}\")"
      ],
      "metadata": {
        "colab": {
          "base_uri": "https://localhost:8080/"
        },
        "id": "7SxVa9OhWgUK",
        "outputId": "4b9fabfb-bf6d-45fd-a2b9-dcbe4a0df551"
      },
      "execution_count": 34,
      "outputs": [
        {
          "output_type": "stream",
          "name": "stdout",
          "text": [
            "Encoded point: (224, 248)\n",
            "Decoded message: 11\n"
          ]
        }
      ]
    },
    {
      "cell_type": "code",
      "source": [
        "import sympy as sp\n",
        "\n",
        "# Parameters\n",
        "p = 751  # prime modulus\n",
        "k = 20   # chosen small integer\n",
        "a = -1   # coefficient of x in the elliptic curve\n",
        "b = 188  # constant in the elliptic curve\n",
        "\n",
        "# Elliptic curve equation: y^2 = x^3 + ax + b mod p\n",
        "def koblitz_encode(m, max_attempts=1000):\n",
        "    num = 1  # Start with x = m * k + 1\n",
        "    attempts = 0\n",
        "\n",
        "    while attempts < max_attempts:\n",
        "        x = m * k + num\n",
        "        rhs = (x**3 + a * x + b) % p  # right-hand side of the elliptic curve equation\n",
        "\n",
        "        # Check if rhs is a quadratic residue modulo p\n",
        "        if sp.is_quad_residue(rhs, p):\n",
        "            y = sp.sqrt_mod(rhs, p)\n",
        "            return (x, y)  # Return the point (x, y) as a tuple\n",
        "\n",
        "        num += 1  # Increment to check next x value\n",
        "        attempts += 1\n",
        "\n",
        "    # If no valid point is found after max_attempts\n",
        "    raise ValueError(f\"No valid point found after {max_attempts} attempts for message {m}.\")\n",
        "\n",
        "# Decoding: m = (x - num) / k\n",
        "def koblitz_decode(x, num=1):\n",
        "    return (x - num) // k\n",
        "\n",
        "# Example: encoding message m\n",
        "message = 11\n",
        "encoded_point = koblitz_encode(message)\n",
        "\n",
        "# Decoding message\n",
        "decoded_message = koblitz_decode(encoded_point[0])\n",
        "\n",
        "# Output the result\n",
        "print(f\"Encoded point: {encoded_point}\")\n",
        "print(f\"Decoded message: {decoded_message}\")\n"
      ],
      "metadata": {
        "colab": {
          "base_uri": "https://localhost:8080/"
        },
        "id": "udsC_3yzcSfh",
        "outputId": "dc883cad-e4dc-4812-8a3f-234d39a7a9a8"
      },
      "execution_count": 35,
      "outputs": [
        {
          "output_type": "stream",
          "name": "stdout",
          "text": [
            "Encoded point: (224, 248)\n",
            "Decoded message: 11\n"
          ]
        }
      ]
    },
    {
      "cell_type": "code",
      "source": [
        "# Extended Euclidean Algorithm to find the inverse mod p\n",
        "def mod_inverse(a, p):\n",
        "    return pow(a, p - 2, p)\n",
        "\n",
        "# Function to check if rhs is a quadratic residue mod p (Euler's criterion)\n",
        "def is_quadratic_residue(rhs, p):\n",
        "    return pow(rhs, (p - 1) // 2, p) == 1\n",
        "\n",
        "# Function to compute modular square root using Tonelli-Shanks algorithm\n",
        "def mod_sqrt(rhs, p):\n",
        "    # Special case for p == 2\n",
        "    if p == 2:\n",
        "        return rhs % 2\n",
        "\n",
        "    # Check if rhs is a quadratic residue mod p\n",
        "    if not is_quadratic_residue(rhs, p):\n",
        "        return None  # No square root exists\n",
        "\n",
        "    # For p ≡ 3 (mod 4), we can compute the square root directly\n",
        "    if p % 4 == 3:\n",
        "        return pow(rhs, (p + 1) // 4, p)\n",
        "\n",
        "    # Tonelli-Shanks algorithm for general prime p\n",
        "    # Find q and s such that p - 1 = q * 2^s with q odd\n",
        "    s = 0\n",
        "    q = p - 1\n",
        "    while q % 2 == 0:\n",
        "        q //= 2\n",
        "        s += 1\n",
        "\n",
        "    # Find a non-quadratic residue z\n",
        "    z = 2\n",
        "    while is_quadratic_residue(z, p):\n",
        "        z += 1\n",
        "\n",
        "    m = s\n",
        "    c = pow(z, q, p)\n",
        "    t = pow(rhs, q, p)\n",
        "    r = pow(rhs, (q + 1) // 2, p)\n",
        "\n",
        "    while t != 0 and t != 1:\n",
        "        t2i = t\n",
        "        i = 0\n",
        "        for i in range(1, m):\n",
        "            t2i = pow(t2i, 2, p)\n",
        "            if t2i == 1:\n",
        "                break\n",
        "\n",
        "        b = pow(c, 1 << (m - i - 1), p)\n",
        "        m = i\n",
        "        c = pow(b, 2, p)\n",
        "        t = (t * c) % p\n",
        "        r = (r * b) % p\n",
        "\n",
        "    return r\n",
        "\n",
        "# Parameters\n",
        "p = 751  # prime modulus\n",
        "k = 20   # chosen small integer\n",
        "a = -1   # coefficient of x in the elliptic curve\n",
        "b = 188  # constant in the elliptic curve\n",
        "\n",
        "# Elliptic curve equation: y^2 = x^3 + ax + b mod p\n",
        "def koblitz_encode(m, max_attempts=1000):\n",
        "    num = 1  # Start with x = m * k + 1\n",
        "    attempts = 0\n",
        "\n",
        "    while attempts < max_attempts:\n",
        "        x = m * k + num\n",
        "        rhs = (x**3 + a * x + b) % p  # right-hand side of the elliptic curve equation\n",
        "\n",
        "        # Check if rhs is a quadratic residue modulo p\n",
        "        if is_quadratic_residue(rhs, p):\n",
        "            y = mod_sqrt(rhs, p)\n",
        "            if y is not None:\n",
        "                return (x, y)  # Return the point (x, y) as a tuple\n",
        "\n",
        "        num += 1  # Increment to check next x value\n",
        "        attempts += 1\n",
        "\n",
        "    # If no valid point is found after max_attempts\n",
        "    raise ValueError(f\"No valid point found after {max_attempts} attempts for message {m}.\")\n",
        "\n",
        "# Decoding: m = (x - num) / k\n",
        "def koblitz_decode(x, num=1):\n",
        "    return (x - num) // k\n",
        "\n",
        "# Example: encoding message m\n",
        "message = 11\n",
        "encoded_point = koblitz_encode(message)\n",
        "\n",
        "# Decoding message\n",
        "decoded_message = koblitz_decode(encoded_point[0])\n",
        "\n",
        "# Output the result\n",
        "print(f\"Encoded point: {encoded_point}\")\n",
        "print(f\"Decoded message: {decoded_message}\")\n"
      ],
      "metadata": {
        "colab": {
          "base_uri": "https://localhost:8080/"
        },
        "id": "HQ9GE8YjcuNY",
        "outputId": "55a714a7-bea0-43c4-fe85-52a3bb29d600"
      },
      "execution_count": 36,
      "outputs": [
        {
          "output_type": "stream",
          "name": "stdout",
          "text": [
            "Encoded point: (224, 503)\n",
            "Decoded message: 11\n"
          ]
        }
      ]
    },
    {
      "cell_type": "code",
      "source": [
        "# Extended Euclidean Algorithm to find the inverse mod p\n",
        "def mod_inverse(a, p):\n",
        "    return a ** (p - 2) % p\n",
        "\n",
        "# Function to check if rhs is a quadratic residue mod p (Euler's criterion)\n",
        "def is_quadratic_residue(rhs, p):\n",
        "    return rhs ** ((p - 1) // 2) % p == 1\n",
        "\n",
        "# Function to compute modular square root using Tonelli-Shanks algorithm\n",
        "def mod_sqrt(rhs, p):\n",
        "    # Special case for p == 2\n",
        "    if p == 2:\n",
        "        return rhs % 2\n",
        "\n",
        "    # Check if rhs is a quadratic residue mod p\n",
        "    if not is_quadratic_residue(rhs, p):\n",
        "        return None  # No square root exists\n",
        "\n",
        "    # For p ≡ 3 (mod 4), we can compute the square root directly\n",
        "    if p % 4 == 3:\n",
        "        return rhs ** ((p + 1) // 4) % p\n",
        "\n",
        "    # Tonelli-Shanks algorithm for general prime p\n",
        "    # Find q and s such that p - 1 = q * 2^s with q odd\n",
        "    s = 0\n",
        "    q = p - 1\n",
        "    while q % 2 == 0:\n",
        "        q //= 2\n",
        "        s += 1\n",
        "\n",
        "    # Find a non-quadratic residue z\n",
        "    z = 2\n",
        "    while is_quadratic_residue(z, p):\n",
        "        z += 1\n",
        "\n",
        "    m = s\n",
        "    c = z ** q % p\n",
        "    t = rhs ** q % p\n",
        "    r = rhs ** ((q + 1) // 2) % p\n",
        "\n",
        "    while t != 0 and t != 1:\n",
        "        t2i = t\n",
        "        i = 0\n",
        "        for i in range(1, m):\n",
        "            t2i = t2i ** 2 % p\n",
        "            if t2i == 1:\n",
        "                break\n",
        "\n",
        "        b = c ** (1 << (m - i - 1)) % p\n",
        "        m = i\n",
        "        c = b ** 2 % p\n",
        "        t = (t * c) % p\n",
        "        r = (r * b) % p\n",
        "\n",
        "    return r\n",
        "\n",
        "# Parameters\n",
        "p = 751  # prime modulus\n",
        "k = 20   # chosen small integer\n",
        "a = -1   # coefficient of x in the elliptic curve\n",
        "b = 188  # constant in the elliptic curve\n",
        "\n",
        "# Elliptic curve equation: y^2 = x^3 + ax + b mod p\n",
        "def koblitz_encode(m, max_attempts=1000):\n",
        "    num = 1  # Start with x = m * k + 1\n",
        "    attempts = 0\n",
        "\n",
        "    while attempts < max_attempts:\n",
        "        x = m * k + num\n",
        "        rhs = (x**3 + a * x + b) % p  # right-hand side of the elliptic curve equation\n",
        "\n",
        "        # Check if rhs is a quadratic residue modulo p\n",
        "        if is_quadratic_residue(rhs, p):\n",
        "            y = mod_sqrt(rhs, p)\n",
        "            if y is not None:\n",
        "                return (x, y)  # Return the point (x, y) as a tuple\n",
        "\n",
        "        num += 1  # Increment to check next x value\n",
        "        attempts += 1\n",
        "\n",
        "    # If no valid point is found after max_attempts\n",
        "    raise ValueError(f\"No valid point found after {max_attempts} attempts for message {m}.\")\n",
        "\n",
        "# Decoding: m = (x - num) / k\n",
        "def koblitz_decode(x, num=1):\n",
        "    return (x - num) // k\n",
        "\n",
        "# Example: encoding message m\n",
        "message = 11\n",
        "encoded_point = koblitz_encode(message)\n",
        "\n",
        "# Decoding message\n",
        "decoded_message = koblitz_decode(encoded_point[0])\n",
        "\n",
        "# Output the result\n",
        "print(f\"Encoded point: {encoded_point}\")\n",
        "print(f\"Decoded message: {decoded_message}\")\n"
      ],
      "metadata": {
        "colab": {
          "base_uri": "https://localhost:8080/"
        },
        "id": "8iUKP0-Ac_Kz",
        "outputId": "39fd2938-8761-464b-a953-58480d64d40e"
      },
      "execution_count": 37,
      "outputs": [
        {
          "output_type": "stream",
          "name": "stdout",
          "text": [
            "Encoded point: (224, 503)\n",
            "Decoded message: 11\n"
          ]
        }
      ]
    }
  ]
}