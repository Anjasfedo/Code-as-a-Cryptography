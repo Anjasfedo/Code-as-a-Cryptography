{
  "nbformat": 4,
  "nbformat_minor": 0,
  "metadata": {
    "colab": {
      "provenance": [],
      "authorship_tag": "ABX9TyMWarwk9GtMciAHWiN4XQ7p",
      "include_colab_link": true
    },
    "kernelspec": {
      "name": "python3",
      "display_name": "Python 3"
    },
    "language_info": {
      "name": "python"
    }
  },
  "cells": [
    {
      "cell_type": "markdown",
      "metadata": {
        "id": "view-in-github",
        "colab_type": "text"
      },
      "source": [
        "<a href=\"https://colab.research.google.com/github/Anjasfedo/Code-as-a-Cryptography/blob/main/RSA_Basic.ipynb\" target=\"_parent\"><img src=\"https://colab.research.google.com/assets/colab-badge.svg\" alt=\"Open In Colab\"/></a>"
      ]
    },
    {
      "cell_type": "code",
      "execution_count": 131,
      "metadata": {
        "colab": {
          "base_uri": "https://localhost:8080/"
        },
        "id": "G3yALIbs_f-G",
        "outputId": "c355682c-d587-4e5c-8e1e-1596b5000686"
      },
      "outputs": [
        {
          "output_type": "stream",
          "name": "stdout",
          "text": [
            "{'\\x00': 0, '\\x01': 1, '\\x02': 2, '\\x03': 3, '\\x04': 4, '\\x05': 5, '\\x06': 6, '\\x07': 7, '\\x08': 8, '\\t': 9, '\\n': 10, '\\x0b': 11, '\\x0c': 12, '\\r': 13, '\\x0e': 14, '\\x0f': 15, '\\x10': 16, '\\x11': 17, '\\x12': 18, '\\x13': 19, '\\x14': 20, '\\x15': 21, '\\x16': 22, '\\x17': 23, '\\x18': 24, '\\x19': 25, '\\x1a': 26, '\\x1b': 27, '\\x1c': 28, '\\x1d': 29, '\\x1e': 30, '\\x1f': 31, ' ': 32, '!': 33, '\"': 34, '#': 35, '$': 36, '%': 37, '&': 38, \"'\": 39, '(': 40, ')': 41, '*': 42, '+': 43, ',': 44, '-': 45, '.': 46, '/': 47, '0': 48, '1': 49, '2': 50, '3': 51, '4': 52, '5': 53, '6': 54, '7': 55, '8': 56, '9': 57, ':': 58, ';': 59, '<': 60, '=': 61, '>': 62, '?': 63, '@': 64, 'A': 65, 'B': 66, 'C': 67, 'D': 68, 'E': 69, 'F': 70, 'G': 71, 'H': 72, 'I': 73, 'J': 74, 'K': 75, 'L': 76, 'M': 77, 'N': 78, 'O': 79, 'P': 80, 'Q': 81, 'R': 82, 'S': 83, 'T': 84, 'U': 85, 'V': 86, 'W': 87, 'X': 88, 'Y': 89, 'Z': 90}\n",
            "{0: '\\x00', 1: '\\x01', 2: '\\x02', 3: '\\x03', 4: '\\x04', 5: '\\x05', 6: '\\x06', 7: '\\x07', 8: '\\x08', 9: '\\t', 10: '\\n', 11: '\\x0b', 12: '\\x0c', 13: '\\r', 14: '\\x0e', 15: '\\x0f', 16: '\\x10', 17: '\\x11', 18: '\\x12', 19: '\\x13', 20: '\\x14', 21: '\\x15', 22: '\\x16', 23: '\\x17', 24: '\\x18', 25: '\\x19', 26: '\\x1a', 27: '\\x1b', 28: '\\x1c', 29: '\\x1d', 30: '\\x1e', 31: '\\x1f', 32: ' ', 33: '!', 34: '\"', 35: '#', 36: '$', 37: '%', 38: '&', 39: \"'\", 40: '(', 41: ')', 42: '*', 43: '+', 44: ',', 45: '-', 46: '.', 47: '/', 48: '0', 49: '1', 50: '2', 51: '3', 52: '4', 53: '5', 54: '6', 55: '7', 56: '8', 57: '9', 58: ':', 59: ';', 60: '<', 61: '=', 62: '>', 63: '?', 64: '@', 65: 'A', 66: 'B', 67: 'C', 68: 'D', 69: 'E', 70: 'F', 71: 'G', 72: 'H', 73: 'I', 74: 'J', 75: 'K', 76: 'L', 77: 'M', 78: 'N', 79: 'O', 80: 'P', 81: 'Q', 82: 'R', 83: 'S', 84: 'T', 85: 'U', 86: 'V', 87: 'W', 88: 'X', 89: 'Y', 90: 'Z'}\n"
          ]
        }
      ],
      "source": [
        "utf_dict = {chr(i): i for i in range(0, 91)}\n",
        "\n",
        "# Reversed dictionary to map from code back to character\n",
        "reversed_utf_dict = {v: k for k, v in utf_dict.items()}\n",
        "\n",
        "# Example of usage\n",
        "print(utf_dict)         # Will print the full dictionary of characters\n",
        "print(reversed_utf_dict)  # Will print the reversed dictionary"
      ]
    },
    {
      "cell_type": "code",
      "source": [
        "CLOUD = 'CLOUD'\n",
        "\n",
        "cloud_utf = [utf_dict[char] for char in CLOUD]\n",
        "\n",
        "print(cloud_utf)"
      ],
      "metadata": {
        "colab": {
          "base_uri": "https://localhost:8080/"
        },
        "id": "4Q8NYVLX_6RD",
        "outputId": "2885de30-fa89-4b93-ad77-3742fec39a00"
      },
      "execution_count": 132,
      "outputs": [
        {
          "output_type": "stream",
          "name": "stdout",
          "text": [
            "[67, 76, 79, 85, 68]\n"
          ]
        }
      ]
    },
    {
      "cell_type": "code",
      "source": [
        "class RSABase:\n",
        "  def __init__(self, max, pub, priv, plain, cipher):\n",
        "    self.max = max\n",
        "    self.pub = pub\n",
        "    self.priv = priv\n",
        "    self.plain = plain\n",
        "    self.cipher = cipher\n",
        "\n",
        "  def logic(self, num, max):\n",
        "    count = 0\n",
        "\n",
        "    num1 = num\n",
        "    while count < max - 1:\n",
        "      calc1 = num1 * num\n",
        "\n",
        "      if calc1 > self.max:\n",
        "        num1 = calc1 % self.max\n",
        "      else:\n",
        "        num1 = calc1\n",
        "\n",
        "      count += 1\n",
        "\n",
        "    return num1\n",
        "\n",
        "  def string_to_utf(self, strings):\n",
        "    return [utf_dict[char] for char in strings]\n",
        "\n",
        "  def utf_to_string(self, nums):\n",
        "    return ''.join([reversed_utf_dict.get(code, '?') for code in nums])\n",
        "\n",
        "  def encrypt(self):\n",
        "    cipher = [self.logic(num, self.pub) for num in self.string_to_utf(self.plain)]\n",
        "    print(cipher)\n",
        "    return self.utf_to_string(cipher)\n",
        "\n",
        "  def decrypt(self):\n",
        "    plain = [self.logic(num, self.priv) for num in self.string_to_utf(self.cipher)]\n",
        "    print(plain)\n",
        "    return self.utf_to_string(plain)"
      ],
      "metadata": {
        "id": "S_QEvKRhASly"
      },
      "execution_count": 152,
      "outputs": []
    },
    {
      "cell_type": "code",
      "source": [
        "firstRSA = RSABase(91, 5, 29, 'CLOUD', None)\n",
        "\n",
        "cipher = firstRSA.encrypt()\n",
        "print(cipher)\n",
        "\n",
        "firstRSA.cipher = cipher\n",
        "\n",
        "print(firstRSA.decrypt())"
      ],
      "metadata": {
        "colab": {
          "base_uri": "https://localhost:8080/"
        },
        "id": "3ZJdDQoZBF4P",
        "outputId": "28cd62b2-1f84-4c83-d5ab-64e220db5ef4"
      },
      "execution_count": 160,
      "outputs": [
        {
          "output_type": "stream",
          "name": "stdout",
          "text": [
            "[58, 20, 53, 50, 87]\n",
            ":\u001452W\n",
            "[67, 76, 79, 85, 68]\n",
            "CLOUD\n"
          ]
        }
      ]
    },
    {
      "cell_type": "code",
      "source": [
        "def euler_totient(a, b):\n",
        "  return (a - 1) * (b - 1)"
      ],
      "metadata": {
        "id": "Cu9zvoN_dwUf"
      },
      "execution_count": 169,
      "outputs": []
    },
    {
      "cell_type": "code",
      "source": [
        "def prime_factors(n):\n",
        "    factors = []\n",
        "\n",
        "    # Check for the number of 2s that divide n\n",
        "    while n % 2 == 0:\n",
        "        factors.append(2)\n",
        "        n = n // 2\n",
        "\n",
        "    # Check for odd factors starting from 3 up to the square root of n\n",
        "    for i in range(3, int(n**0.5) + 1, 2):\n",
        "        while n % i == 0:\n",
        "            factors.append(i)\n",
        "            n = n // i\n",
        "\n",
        "    # If n is still a prime number greater than 2\n",
        "    if n > 2:\n",
        "        factors.append(n)\n",
        "\n",
        "    return factors\n",
        "\n",
        "# Example usage\n",
        "n = 91\n",
        "factors = prime_factors(n)\n",
        "print(f\"Prime factors of {n} are: {factors}\")"
      ],
      "metadata": {
        "colab": {
          "base_uri": "https://localhost:8080/"
        },
        "id": "hmDA0_oTeNCS",
        "outputId": "58b034f2-eb68-4059-84a8-219307aaa62d"
      },
      "execution_count": 170,
      "outputs": [
        {
          "output_type": "stream",
          "name": "stdout",
          "text": [
            "Prime factors of 91 are: [7, 13]\n"
          ]
        }
      ]
    },
    {
      "cell_type": "code",
      "source": [
        "def extended_gcd(a, b):\n",
        "    # Initialize x, y, x1, and y1\n",
        "    x, y, x1, y1 = 1, 0, 0, 1\n",
        "\n",
        "    while b != 0:\n",
        "        # Perform the Euclidean algorithm step\n",
        "        q = a // b  # quotient\n",
        "        a, b = b, a % b\n",
        "\n",
        "        # Update x and y\n",
        "        x, x1 = x1, x - q * x1\n",
        "        y, y1 = y1, y - q * y1\n",
        "\n",
        "    # At the end, a will contain the GCD, and x, y will be the coefficients\n",
        "    return a, x, y\n",
        "#\n",
        "\n",
        "PUBLIC_KEY = 5\n",
        "MAX = 91\n",
        "\n",
        "params = prime_factors(MAX)\n",
        "print(params[0], params[1])\n",
        "\n",
        "phi = euler_totient(params[0], params[1])\n",
        "print(phi)\n",
        "\n",
        "# Example usage\n",
        "a = PUBLIC_KEY\n",
        "b = phi # (5-1) * (12-1) = 4 * 12\n",
        "\n",
        "gcd, x, y = extended_gcd(a, b)\n",
        "print(f\"GCD: {gcd}\")\n",
        "print(f\"Coefficients: x = {x}, y = {y}\")\n",
        "\n",
        "PRIVATE_KEY = x"
      ],
      "metadata": {
        "colab": {
          "base_uri": "https://localhost:8080/"
        },
        "id": "Iz6uC_vdcfqy",
        "outputId": "cbbeab57-3f27-417f-a256-816775208ba8"
      },
      "execution_count": 176,
      "outputs": [
        {
          "output_type": "stream",
          "name": "stdout",
          "text": [
            "7 13\n",
            "72\n",
            "GCD: 1\n",
            "Coefficients: x = 29, y = -2\n"
          ]
        }
      ]
    },
    {
      "cell_type": "code",
      "source": [
        "from math import gcd\n",
        "\n",
        "def euler_totient(a, b):\n",
        "    return (a - 1) * (b - 1)\n",
        "\n",
        "def prime_factors(n):\n",
        "    factors = []\n",
        "    while n % 2 == 0:\n",
        "        factors.append(2)\n",
        "        n = n // 2\n",
        "    for i in range(3, int(n**0.5) + 1, 2):\n",
        "        while n % i == 0:\n",
        "            factors.append(i)\n",
        "            n = n // i\n",
        "    if n > 2:\n",
        "        factors.append(n)\n",
        "    return factors\n",
        "\n",
        "def extended_gcd(a, b):\n",
        "    x, y, x1, y1 = 1, 0, 0, 1\n",
        "    while b != 0:\n",
        "        q = a // b\n",
        "        a, b = b, a % b\n",
        "        x, x1 = x1, x - q * x1\n",
        "        y, y1 = y1, y - q * y1\n",
        "    return a, x, y"
      ],
      "metadata": {
        "id": "srR1pBN6kaQV"
      },
      "execution_count": 289,
      "outputs": []
    },
    {
      "cell_type": "code",
      "source": [
        "# Define public key and MAX\n",
        "PUBLIC_KEY = 5\n",
        "MAX = 119\n",
        "\n",
        "# Find the prime factors of MAX\n",
        "params = prime_factors(MAX)\n",
        "print(f\"Prime factors of {MAX}: {params}\")\n",
        "\n",
        "# Calculate Euler's Totient\n",
        "phi = euler_totient(params[0], params[1])\n",
        "print(f\"Euler's Totient (phi): {phi}\")\n",
        "\n",
        "# Ensure that gcd(e, phi) = 1\n",
        "if gcd(PUBLIC_KEY, phi) != 1:\n",
        "    raise ValueError(f\"Public key {PUBLIC_KEY} is not coprime with φ(n) = {phi}\")\n",
        "\n",
        "# Calculate the private key using the extended Euclidean algorithm\n",
        "gcd_val, PRIVATE_KEY, _ = extended_gcd(PUBLIC_KEY, phi)\n",
        "if PRIVATE_KEY < 0:\n",
        "    PRIVATE_KEY += phi\n",
        "print(f\"Private key: {PRIVATE_KEY}\")"
      ],
      "metadata": {
        "colab": {
          "base_uri": "https://localhost:8080/"
        },
        "id": "Q4d6DvJDk7fS",
        "outputId": "f97acddd-b710-4aa7-d5b5-8bf4c48efde7"
      },
      "execution_count": 296,
      "outputs": [
        {
          "output_type": "stream",
          "name": "stdout",
          "text": [
            "Prime factors of 119: [7, 17]\n",
            "Euler's Totient (phi): 96\n",
            "Private key: 77\n"
          ]
        }
      ]
    },
    {
      "cell_type": "code",
      "source": [
        "secondRSA = RSABase(MAX, PUBLIC_KEY, PRIVATE_KEY, 'CLOUD', None)\n",
        "\n",
        "cipher = secondRSA.encrypt()\n",
        "print(cipher)\n",
        "\n",
        "secondRSA.cipher = cipher\n",
        "\n",
        "print(secondRSA.decrypt())"
      ],
      "metadata": {
        "colab": {
          "base_uri": "https://localhost:8080/"
        },
        "id": "aZ8tEsnff-NR",
        "outputId": "cf1beee1-57b2-4ff7-eb2e-330f910cf236"
      },
      "execution_count": 297,
      "outputs": [
        {
          "output_type": "stream",
          "name": "stdout",
          "text": [
            "Cipher: [16, 111, 95, 85, 17]\n",
            "\u0010o_U\u0011\n",
            "Decrypted UTF values: [67, 76, 79, 85, 68]\n",
            "CLOUD\n"
          ]
        }
      ]
    },
    {
      "cell_type": "code",
      "source": [
        "PUBLIC_KEY = 5\n",
        "MAX = 21\n",
        "\n",
        "params = prime_factors(MAX)\n",
        "print(params)\n",
        "\n",
        "phi = euler_totient(params[0], params[1])\n",
        "print(phi)\n",
        "\n",
        "gcd, PRIVATE_KEY, y = extended_gcd(PUBLIC_KEY, phi)\n",
        "print(gcd, y)\n",
        "print(PRIVATE_KEY)"
      ],
      "metadata": {
        "colab": {
          "base_uri": "https://localhost:8080/"
        },
        "id": "ZVwW-xVvfHJR",
        "outputId": "dbe7b245-63df-4cce-e9bd-24adfb474ece"
      },
      "execution_count": 286,
      "outputs": [
        {
          "output_type": "stream",
          "name": "stdout",
          "text": [
            "[3, 7]\n",
            "12\n",
            "1 -2\n",
            "5\n"
          ]
        }
      ]
    },
    {
      "cell_type": "code",
      "source": [
        "# Extended character dictionary to cover standard ASCII range\n",
        "utf_dict = {chr(i): i for i in range(0, 127)}\n",
        "\n",
        "# Reversed dictionary to map from code back to character\n",
        "reversed_utf_dict = {v: k for k, v in utf_dict.items()}\n",
        "\n",
        "# Example of usage\n",
        "print(utf_dict)         # Prints the full dictionary of characters\n",
        "print(reversed_utf_dict)  # Prints the reversed dictionary\n",
        "\n",
        "CLOUD = 'CLOUD'\n",
        "\n",
        "cloud_utf = [utf_dict[char] for char in CLOUD]\n",
        "\n",
        "print(cloud_utf)\n",
        "\n",
        "class RSABase:\n",
        "    def __init__(self, max, pub, priv, plain, cipher):\n",
        "        self.max = max\n",
        "        self.pub = pub\n",
        "        self.priv = priv\n",
        "        self.plain = plain\n",
        "        self.cipher = cipher\n",
        "\n",
        "    # Updated logic function to perform modular exponentiation efficiently\n",
        "    def logic(self, num, exponent):\n",
        "        return pow(num, exponent, self.max)\n",
        "\n",
        "    def string_to_utf(self, strings):\n",
        "        return [utf_dict[char] for char in strings]\n",
        "\n",
        "    def utf_to_string(self, nums):\n",
        "        return ''.join([reversed_utf_dict.get(code, '?') for code in nums])\n",
        "\n",
        "    def encrypt(self):\n",
        "        cipher = [self.logic(num, self.pub) for num in self.string_to_utf(self.plain)]\n",
        "        print(f\"Cipher: {cipher}\")\n",
        "        return self.utf_to_string(cipher)\n",
        "\n",
        "    def decrypt(self):\n",
        "        plain = [self.logic(num, self.priv) for num in self.string_to_utf(self.cipher)]\n",
        "        print(f\"Decrypted UTF values: {plain}\")\n",
        "        return self.utf_to_string(plain)\n",
        "\n",
        "# RSA key pair for (n = 91, e = 5, d = 29)\n",
        "firstRSA = RSABase(91, 5, 29, 'CLOUD', None)\n",
        "\n",
        "# Encrypt\n",
        "cipher = firstRSA.encrypt()\n",
        "print(f\"Encrypted message: {cipher}\")\n",
        "\n",
        "# Set the encrypted message\n",
        "firstRSA.cipher = cipher\n",
        "\n",
        "# Decrypt\n",
        "decrypted_message = firstRSA.decrypt()\n",
        "print(f\"Decrypted message: {decrypted_message}\")\n",
        "\n",
        "# Function for Euler's Totient\n",
        "def euler_totient(a, b):\n",
        "    return (a - 1) * (b - 1)\n",
        "\n",
        "# Prime factorization function\n",
        "def prime_factors(n):\n",
        "    factors = []\n",
        "\n",
        "    # Check for the number of 2s that divide n\n",
        "    while n % 2 == 0:\n",
        "        factors.append(2)\n",
        "        n = n // 2\n",
        "\n",
        "    # Check for odd factors starting from 3 up to the square root of n\n",
        "    for i in range(3, int(n**0.5) + 1, 2):\n",
        "        while n % i == 0:\n",
        "            factors.append(i)\n",
        "            n = n // i\n",
        "\n",
        "    # If n is still a prime number greater than 2\n",
        "    if n > 2:\n",
        "        factors.append(n)\n",
        "\n",
        "    return factors\n",
        "\n",
        "# Example of prime factors and Euler's Totient\n",
        "n = 91\n",
        "factors = prime_factors(n)\n",
        "print(f\"Prime factors of {n} are: {factors}\")\n",
        "\n",
        "def extended_gcd(a, b):\n",
        "    # Initialize x, y, x1, and y1\n",
        "    x, y, x1, y1 = 1, 0, 0, 1\n",
        "\n",
        "    while b != 0:\n",
        "        # Perform the Euclidean algorithm step\n",
        "        q = a // b  # quotient\n",
        "        a, b = b, a % b\n",
        "\n",
        "        # Update x and y\n",
        "        x, x1 = x1, x - q * x1\n",
        "        y, y1 = y1, y - q * y1\n",
        "\n",
        "    # At the end, a will contain the GCD, and x, y will be the coefficients\n",
        "    return a, x, y\n",
        "\n",
        "# RSA key pair generation using the Extended Euclidean Algorithm\n",
        "\n",
        "# Public key (e)\n",
        "PUBLIC_KEY = 5\n",
        "MAX = 91\n",
        "\n",
        "# Prime factors of MAX\n",
        "params = prime_factors(MAX)\n",
        "print(f\"Prime factors of {MAX}: {params}\")\n",
        "\n",
        "# Euler's Totient of MAX\n",
        "phi = euler_totient(params[0], params[1])\n",
        "print(f\"Euler's Totient (phi) of {MAX}: {phi}\")\n",
        "\n",
        "# Find the private key using the Extended Euclidean Algorithm\n",
        "gcd, PRIVATE_KEY, _ = extended_gcd(PUBLIC_KEY, phi)\n",
        "if PRIVATE_KEY < 0:\n",
        "    PRIVATE_KEY += phi\n",
        "print(f\"Private key (d): {PRIVATE_KEY}\")\n",
        "\n",
        "# Example encryption and decryption with the new RSA pair\n",
        "secondRSA = RSABase(MAX, PUBLIC_KEY, PRIVATE_KEY, 'CLOUD', None)\n",
        "\n",
        "cipher = secondRSA.encrypt()\n",
        "print(f\"Encrypted message: {cipher}\")\n",
        "\n",
        "secondRSA.cipher = cipher\n",
        "\n",
        "decrypted_message = secondRSA.decrypt()\n",
        "print(f\"Decrypted message: {decrypted_message}\")\n"
      ],
      "metadata": {
        "colab": {
          "base_uri": "https://localhost:8080/"
        },
        "id": "rzDxyEqkhjze",
        "outputId": "eba9226b-5da2-4a44-8549-776186b989c5"
      },
      "execution_count": 254,
      "outputs": [
        {
          "output_type": "stream",
          "name": "stdout",
          "text": [
            "{'\\x00': 0, '\\x01': 1, '\\x02': 2, '\\x03': 3, '\\x04': 4, '\\x05': 5, '\\x06': 6, '\\x07': 7, '\\x08': 8, '\\t': 9, '\\n': 10, '\\x0b': 11, '\\x0c': 12, '\\r': 13, '\\x0e': 14, '\\x0f': 15, '\\x10': 16, '\\x11': 17, '\\x12': 18, '\\x13': 19, '\\x14': 20, '\\x15': 21, '\\x16': 22, '\\x17': 23, '\\x18': 24, '\\x19': 25, '\\x1a': 26, '\\x1b': 27, '\\x1c': 28, '\\x1d': 29, '\\x1e': 30, '\\x1f': 31, ' ': 32, '!': 33, '\"': 34, '#': 35, '$': 36, '%': 37, '&': 38, \"'\": 39, '(': 40, ')': 41, '*': 42, '+': 43, ',': 44, '-': 45, '.': 46, '/': 47, '0': 48, '1': 49, '2': 50, '3': 51, '4': 52, '5': 53, '6': 54, '7': 55, '8': 56, '9': 57, ':': 58, ';': 59, '<': 60, '=': 61, '>': 62, '?': 63, '@': 64, 'A': 65, 'B': 66, 'C': 67, 'D': 68, 'E': 69, 'F': 70, 'G': 71, 'H': 72, 'I': 73, 'J': 74, 'K': 75, 'L': 76, 'M': 77, 'N': 78, 'O': 79, 'P': 80, 'Q': 81, 'R': 82, 'S': 83, 'T': 84, 'U': 85, 'V': 86, 'W': 87, 'X': 88, 'Y': 89, 'Z': 90, '[': 91, '\\\\': 92, ']': 93, '^': 94, '_': 95, '`': 96, 'a': 97, 'b': 98, 'c': 99, 'd': 100, 'e': 101, 'f': 102, 'g': 103, 'h': 104, 'i': 105, 'j': 106, 'k': 107, 'l': 108, 'm': 109, 'n': 110, 'o': 111, 'p': 112, 'q': 113, 'r': 114, 's': 115, 't': 116, 'u': 117, 'v': 118, 'w': 119, 'x': 120, 'y': 121, 'z': 122, '{': 123, '|': 124, '}': 125, '~': 126}\n",
            "{0: '\\x00', 1: '\\x01', 2: '\\x02', 3: '\\x03', 4: '\\x04', 5: '\\x05', 6: '\\x06', 7: '\\x07', 8: '\\x08', 9: '\\t', 10: '\\n', 11: '\\x0b', 12: '\\x0c', 13: '\\r', 14: '\\x0e', 15: '\\x0f', 16: '\\x10', 17: '\\x11', 18: '\\x12', 19: '\\x13', 20: '\\x14', 21: '\\x15', 22: '\\x16', 23: '\\x17', 24: '\\x18', 25: '\\x19', 26: '\\x1a', 27: '\\x1b', 28: '\\x1c', 29: '\\x1d', 30: '\\x1e', 31: '\\x1f', 32: ' ', 33: '!', 34: '\"', 35: '#', 36: '$', 37: '%', 38: '&', 39: \"'\", 40: '(', 41: ')', 42: '*', 43: '+', 44: ',', 45: '-', 46: '.', 47: '/', 48: '0', 49: '1', 50: '2', 51: '3', 52: '4', 53: '5', 54: '6', 55: '7', 56: '8', 57: '9', 58: ':', 59: ';', 60: '<', 61: '=', 62: '>', 63: '?', 64: '@', 65: 'A', 66: 'B', 67: 'C', 68: 'D', 69: 'E', 70: 'F', 71: 'G', 72: 'H', 73: 'I', 74: 'J', 75: 'K', 76: 'L', 77: 'M', 78: 'N', 79: 'O', 80: 'P', 81: 'Q', 82: 'R', 83: 'S', 84: 'T', 85: 'U', 86: 'V', 87: 'W', 88: 'X', 89: 'Y', 90: 'Z', 91: '[', 92: '\\\\', 93: ']', 94: '^', 95: '_', 96: '`', 97: 'a', 98: 'b', 99: 'c', 100: 'd', 101: 'e', 102: 'f', 103: 'g', 104: 'h', 105: 'i', 106: 'j', 107: 'k', 108: 'l', 109: 'm', 110: 'n', 111: 'o', 112: 'p', 113: 'q', 114: 'r', 115: 's', 116: 't', 117: 'u', 118: 'v', 119: 'w', 120: 'x', 121: 'y', 122: 'z', 123: '{', 124: '|', 125: '}', 126: '~'}\n",
            "[67, 76, 79, 85, 68]\n",
            "Cipher: [58, 20, 53, 50, 87]\n",
            "Encrypted message: :\u001452W\n",
            "Decrypted UTF values: [67, 76, 79, 85, 68]\n",
            "Decrypted message: CLOUD\n",
            "Prime factors of 91 are: [7, 13]\n",
            "Prime factors of 91: [7, 13]\n",
            "Euler's Totient (phi) of 91: 72\n",
            "Private key (d): 29\n",
            "Cipher: [58, 20, 53, 50, 87]\n",
            "Encrypted message: :\u001452W\n",
            "Decrypted UTF values: [67, 76, 79, 85, 68]\n",
            "Decrypted message: CLOUD\n"
          ]
        }
      ]
    }
  ]
}