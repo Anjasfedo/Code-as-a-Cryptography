{
  "nbformat": 4,
  "nbformat_minor": 0,
  "metadata": {
    "colab": {
      "provenance": [],
      "authorship_tag": "ABX9TyM9YxgPN+zozRPApzo86SHS",
      "include_colab_link": true
    },
    "kernelspec": {
      "name": "python3",
      "display_name": "Python 3"
    },
    "language_info": {
      "name": "python"
    }
  },
  "cells": [
    {
      "cell_type": "markdown",
      "metadata": {
        "id": "view-in-github",
        "colab_type": "text"
      },
      "source": [
        "<a href=\"https://colab.research.google.com/github/Anjasfedo/Code-as-a-Cryptography/blob/main/RSA_Basic.ipynb\" target=\"_parent\"><img src=\"https://colab.research.google.com/assets/colab-badge.svg\" alt=\"Open In Colab\"/></a>"
      ]
    },
    {
      "cell_type": "code",
      "execution_count": 131,
      "metadata": {
        "colab": {
          "base_uri": "https://localhost:8080/"
        },
        "id": "G3yALIbs_f-G",
        "outputId": "c355682c-d587-4e5c-8e1e-1596b5000686"
      },
      "outputs": [
        {
          "output_type": "stream",
          "name": "stdout",
          "text": [
            "{'\\x00': 0, '\\x01': 1, '\\x02': 2, '\\x03': 3, '\\x04': 4, '\\x05': 5, '\\x06': 6, '\\x07': 7, '\\x08': 8, '\\t': 9, '\\n': 10, '\\x0b': 11, '\\x0c': 12, '\\r': 13, '\\x0e': 14, '\\x0f': 15, '\\x10': 16, '\\x11': 17, '\\x12': 18, '\\x13': 19, '\\x14': 20, '\\x15': 21, '\\x16': 22, '\\x17': 23, '\\x18': 24, '\\x19': 25, '\\x1a': 26, '\\x1b': 27, '\\x1c': 28, '\\x1d': 29, '\\x1e': 30, '\\x1f': 31, ' ': 32, '!': 33, '\"': 34, '#': 35, '$': 36, '%': 37, '&': 38, \"'\": 39, '(': 40, ')': 41, '*': 42, '+': 43, ',': 44, '-': 45, '.': 46, '/': 47, '0': 48, '1': 49, '2': 50, '3': 51, '4': 52, '5': 53, '6': 54, '7': 55, '8': 56, '9': 57, ':': 58, ';': 59, '<': 60, '=': 61, '>': 62, '?': 63, '@': 64, 'A': 65, 'B': 66, 'C': 67, 'D': 68, 'E': 69, 'F': 70, 'G': 71, 'H': 72, 'I': 73, 'J': 74, 'K': 75, 'L': 76, 'M': 77, 'N': 78, 'O': 79, 'P': 80, 'Q': 81, 'R': 82, 'S': 83, 'T': 84, 'U': 85, 'V': 86, 'W': 87, 'X': 88, 'Y': 89, 'Z': 90}\n",
            "{0: '\\x00', 1: '\\x01', 2: '\\x02', 3: '\\x03', 4: '\\x04', 5: '\\x05', 6: '\\x06', 7: '\\x07', 8: '\\x08', 9: '\\t', 10: '\\n', 11: '\\x0b', 12: '\\x0c', 13: '\\r', 14: '\\x0e', 15: '\\x0f', 16: '\\x10', 17: '\\x11', 18: '\\x12', 19: '\\x13', 20: '\\x14', 21: '\\x15', 22: '\\x16', 23: '\\x17', 24: '\\x18', 25: '\\x19', 26: '\\x1a', 27: '\\x1b', 28: '\\x1c', 29: '\\x1d', 30: '\\x1e', 31: '\\x1f', 32: ' ', 33: '!', 34: '\"', 35: '#', 36: '$', 37: '%', 38: '&', 39: \"'\", 40: '(', 41: ')', 42: '*', 43: '+', 44: ',', 45: '-', 46: '.', 47: '/', 48: '0', 49: '1', 50: '2', 51: '3', 52: '4', 53: '5', 54: '6', 55: '7', 56: '8', 57: '9', 58: ':', 59: ';', 60: '<', 61: '=', 62: '>', 63: '?', 64: '@', 65: 'A', 66: 'B', 67: 'C', 68: 'D', 69: 'E', 70: 'F', 71: 'G', 72: 'H', 73: 'I', 74: 'J', 75: 'K', 76: 'L', 77: 'M', 78: 'N', 79: 'O', 80: 'P', 81: 'Q', 82: 'R', 83: 'S', 84: 'T', 85: 'U', 86: 'V', 87: 'W', 88: 'X', 89: 'Y', 90: 'Z'}\n"
          ]
        }
      ],
      "source": [
        "utf_dict = {chr(i): i for i in range(0, 91)}\n",
        "\n",
        "# Reversed dictionary to map from code back to character\n",
        "reversed_utf_dict = {v: k for k, v in utf_dict.items()}\n",
        "\n",
        "# Example of usage\n",
        "print(utf_dict)         # Will print the full dictionary of characters\n",
        "print(reversed_utf_dict)  # Will print the reversed dictionary"
      ]
    },
    {
      "cell_type": "code",
      "source": [
        "CLOUD = 'CLOUD'\n",
        "\n",
        "cloud_utf = [utf_dict[char] for char in CLOUD]\n",
        "\n",
        "print(cloud_utf)"
      ],
      "metadata": {
        "colab": {
          "base_uri": "https://localhost:8080/"
        },
        "id": "4Q8NYVLX_6RD",
        "outputId": "2885de30-fa89-4b93-ad77-3742fec39a00"
      },
      "execution_count": 132,
      "outputs": [
        {
          "output_type": "stream",
          "name": "stdout",
          "text": [
            "[67, 76, 79, 85, 68]\n"
          ]
        }
      ]
    },
    {
      "cell_type": "code",
      "source": [
        "class RSABase:\n",
        "  def __init__(self, max, pub, priv, plain, cipher):\n",
        "    self.max = max\n",
        "    self.pub = pub\n",
        "    self.priv = priv\n",
        "    self.plain = plain\n",
        "    self.cipher = cipher\n",
        "\n",
        "  def logic(self, num, max):\n",
        "    count = 0\n",
        "\n",
        "    num1 = num\n",
        "    while count < max - 1:\n",
        "      calc1 = num1 * num\n",
        "\n",
        "      if calc1 > self.max:\n",
        "        num1 = calc1 % self.max\n",
        "      else:\n",
        "        num1 = calc1\n",
        "\n",
        "      count += 1\n",
        "\n",
        "    return num1\n",
        "\n",
        "  def string_to_utf(self, strings):\n",
        "    return [utf_dict[char] for char in strings]\n",
        "\n",
        "  def utf_to_string(self, nums):\n",
        "    return ''.join([reversed_utf_dict.get(code, '?') for code in nums])\n",
        "\n",
        "  def encrypt(self):\n",
        "    cipher = [self.logic(num, self.pub) for num in self.string_to_utf(self.plain)]\n",
        "    return self.utf_to_string(cipher)\n",
        "\n",
        "  def decrypt(self):\n",
        "    plain = [self.logic(num, self.priv) for num in self.string_to_utf(self.cipher)]\n",
        "    return self.utf_to_string(plain)"
      ],
      "metadata": {
        "id": "S_QEvKRhASly"
      },
      "execution_count": 136,
      "outputs": []
    },
    {
      "cell_type": "code",
      "source": [
        "firstRSA = RSABase(91, 5, 29, 'CLOUD', None)\n",
        "\n",
        "print(firstRSA.encrypt())\n",
        "\n",
        "firstRSA.cipher = firstRSA.encrypt()\n",
        "\n",
        "print(firstRSA.decrypt())"
      ],
      "metadata": {
        "colab": {
          "base_uri": "https://localhost:8080/"
        },
        "id": "3ZJdDQoZBF4P",
        "outputId": "35c9d3a1-879b-4407-d8a0-6cc3c22ac442"
      },
      "execution_count": 150,
      "outputs": [
        {
          "output_type": "stream",
          "name": "stdout",
          "text": [
            ":\u001452W\n",
            "CLOUD\n"
          ]
        }
      ]
    }
  ]
}