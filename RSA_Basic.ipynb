{
  "nbformat": 4,
  "nbformat_minor": 0,
  "metadata": {
    "colab": {
      "provenance": [],
      "authorship_tag": "ABX9TyNv+rS38o/5vRDTYq/E+zTt",
      "include_colab_link": true
    },
    "kernelspec": {
      "name": "python3",
      "display_name": "Python 3"
    },
    "language_info": {
      "name": "python"
    }
  },
  "cells": [
    {
      "cell_type": "markdown",
      "metadata": {
        "id": "view-in-github",
        "colab_type": "text"
      },
      "source": [
        "<a href=\"https://colab.research.google.com/github/Anjasfedo/Code-as-a-Cryptography/blob/main/RSA_Basic.ipynb\" target=\"_parent\"><img src=\"https://colab.research.google.com/assets/colab-badge.svg\" alt=\"Open In Colab\"/></a>"
      ]
    },
    {
      "cell_type": "code",
      "execution_count": 1,
      "metadata": {
        "id": "G3yALIbs_f-G"
      },
      "outputs": [],
      "source": [
        "utf_dict = {\n",
        "    'A': 65,\n",
        "    'B': 66,\n",
        "    'C': 67,\n",
        "    'D': 68,\n",
        "    'E': 69,\n",
        "    'F': 70,\n",
        "    'G': 71,\n",
        "    'H': 72,\n",
        "    'I': 73,\n",
        "    'J': 74,\n",
        "    'K': 75,\n",
        "    'L': 76,\n",
        "    'M': 77,\n",
        "    'N': 78,\n",
        "    'O': 79,\n",
        "    'P': 80,\n",
        "    'Q': 81,\n",
        "    'R': 82,\n",
        "    'S': 83,\n",
        "    'T': 84,\n",
        "    'U': 85,\n",
        "    'V': 86,\n",
        "    'W': 87,\n",
        "    'X': 88,\n",
        "    'Y': 89,\n",
        "    'Z': 90,\n",
        "    'a': 97,\n",
        "    'b': 98,\n",
        "    'c': 99,\n",
        "    'd': 100,\n",
        "    'e': 101,\n",
        "    'f': 102,\n",
        "    'g': 103,\n",
        "    'h': 104,\n",
        "    'i': 105,\n",
        "    'j': 106,\n",
        "    'k': 107,\n",
        "    'l': 108,\n",
        "    'm': 109,\n",
        "    'n': 110,\n",
        "    'o': 111,\n",
        "    'p': 112,\n",
        "    'q': 113,\n",
        "    'r': 114,\n",
        "    's': 115,\n",
        "    't': 116,\n",
        "    'u': 117,\n",
        "    'v': 118,\n",
        "    'w': 119,\n",
        "    'x': 120,\n",
        "    'y': 121,\n",
        "    'z': 122\n",
        "}\n"
      ]
    },
    {
      "cell_type": "code",
      "source": [
        "CLOUD = 'CLOUD'\n",
        "\n",
        "cloud_utf = [utf_dict[char] for char in CLOUD]\n",
        "\n",
        "print(cloud_utf)"
      ],
      "metadata": {
        "colab": {
          "base_uri": "https://localhost:8080/"
        },
        "id": "4Q8NYVLX_6RD",
        "outputId": "9df4658c-a5bb-49e9-fd2d-0a821cb26c85"
      },
      "execution_count": 2,
      "outputs": [
        {
          "output_type": "stream",
          "name": "stdout",
          "text": [
            "[67, 76, 79, 85, 68]\n"
          ]
        }
      ]
    },
    {
      "cell_type": "code",
      "source": [
        "class RSABase:\n",
        "  def __init__(self, max, pub, priv, plain, cipher):\n",
        "    self.max = max\n",
        "    self.pub = pub\n",
        "    self.priv = priv\n",
        "    self.plain = plain\n",
        "    self.cipher = cipher\n",
        "\n",
        "  def encrypt(self):\n",
        "    count = 0\n",
        "\n",
        "    num1 = self.plain[1]\n",
        "    while count < self.pub - 1:\n",
        "      calc1 = num1 * self.plain[1]\n",
        "\n",
        "      if calc1 > self.max:\n",
        "        num1 = calc1 % self.max\n",
        "      else:\n",
        "        num1 = calc1\n",
        "\n",
        "      count += 1\n",
        "\n",
        "    return num1\n",
        "\n",
        "\n",
        "  def decrypt(self):\n",
        "    pass"
      ],
      "metadata": {
        "id": "S_QEvKRhASly"
      },
      "execution_count": 44,
      "outputs": []
    },
    {
      "cell_type": "code",
      "source": [
        "firstRSA = RSABase(91, 5, 29, cloud_utf, None)\n",
        "\n",
        "print(firstRSA.encrypt())"
      ],
      "metadata": {
        "colab": {
          "base_uri": "https://localhost:8080/"
        },
        "id": "3ZJdDQoZBF4P",
        "outputId": "f6e3aa37-ec62-489a-bb9e-b8ea88d47c03"
      },
      "execution_count": 45,
      "outputs": [
        {
          "output_type": "stream",
          "name": "stdout",
          "text": [
            "43\n",
            "83\n",
            "29\n",
            "20\n",
            "20\n"
          ]
        }
      ]
    }
  ]
}