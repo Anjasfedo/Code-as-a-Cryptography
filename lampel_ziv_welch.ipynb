{
  "nbformat": 4,
  "nbformat_minor": 0,
  "metadata": {
    "colab": {
      "provenance": [],
      "authorship_tag": "ABX9TyMmVOuc4hLsZZDLhc11qo/5",
      "include_colab_link": true
    },
    "kernelspec": {
      "name": "python3",
      "display_name": "Python 3"
    },
    "language_info": {
      "name": "python"
    }
  },
  "cells": [
    {
      "cell_type": "markdown",
      "metadata": {
        "id": "view-in-github",
        "colab_type": "text"
      },
      "source": [
        "<a href=\"https://colab.research.google.com/github/Anjasfedo/Code-as-a-Cryptography/blob/main/lampel_ziv_welch.ipynb\" target=\"_parent\"><img src=\"https://colab.research.google.com/assets/colab-badge.svg\" alt=\"Open In Colab\"/></a>"
      ]
    },
    {
      "cell_type": "code",
      "execution_count": null,
      "metadata": {
        "id": "FZFtzvyhn9Ha"
      },
      "outputs": [],
      "source": [
        "class LZW:\n",
        "    def encode(self, input_string):\n",
        "        # Create a dictionary for the LZW algorithm\n",
        "        dict_size = 256\n",
        "        dictionary = {chr(i): i for i in range(dict_size)}\n",
        "\n",
        "        w = \"\"\n",
        "        result = []\n",
        "\n",
        "        for c in input_string:\n",
        "            wc = w + c\n",
        "            if wc in dictionary:\n",
        "                w = wc\n",
        "            else:\n",
        "                result.append(dictionary[w])\n",
        "                # Add wc to the dictionary\n",
        "                dictionary[wc] = dict_size\n",
        "                dict_size += 1\n",
        "                w = c\n",
        "\n",
        "        # Output the code for w\n",
        "        if w:\n",
        "            result.append(dictionary[w])\n",
        "\n",
        "        return result\n",
        "\n",
        "    def decode(self, encoded_data):\n",
        "        dict_size = 256\n",
        "        dictionary = {i: chr(i) for i in range(dict_size)}\n",
        "\n",
        "        w = chr(encoded_data[0])\n",
        "        result = w\n",
        "\n",
        "        for k in encoded_data[1:]:\n",
        "            if k in dictionary:\n",
        "                entry = dictionary[k]\n",
        "            elif k == dict_size:\n",
        "                entry = w + w[0]\n",
        "            else:\n",
        "                raise ValueError(\"Bad compressed k: {}\".format(k))\n",
        "\n",
        "            result += entry\n",
        "\n",
        "            # Add w + entry[0] to the dictionary\n",
        "            dictionary[dict_size] = w + entry[0]\n",
        "            dict_size += 1\n",
        "\n",
        "            w = entry\n",
        "\n",
        "        return result\n"
      ]
    },
    {
      "cell_type": "code",
      "source": [
        "# Example usage\n",
        "lzw = LZW()\n",
        "\n",
        "input_string = \"TOBEORNOTTOBEORTOBEORNOT\"\n",
        "encoded_data = lzw.encode(input_string)\n",
        "decoded_string = lzw.decode(encoded_data)\n",
        "\n",
        "print(\"Original string:\", input_string)\n",
        "print(\"Encoded data:\", encoded_data)\n",
        "print(\"Decoded string:\", decoded_string)\n"
      ],
      "metadata": {
        "colab": {
          "base_uri": "https://localhost:8080/"
        },
        "id": "BMQBoDN-p-TX",
        "outputId": "9ce724f5-5566-495d-da12-146c2808edc5"
      },
      "execution_count": null,
      "outputs": [
        {
          "output_type": "stream",
          "name": "stdout",
          "text": [
            "Original string: TOBEORNOTTOBEORTOBEORNOT\n",
            "Encoded data: [84, 79, 66, 69, 79, 82, 78, 79, 84, 256, 258, 260, 265, 259, 261, 263]\n",
            "Decoded string: TOBEORNOTTOBEORTOBEORNOT\n"
          ]
        }
      ]
    },
    {
      "cell_type": "code",
      "source": [
        "class LZW:\n",
        "    def encode(self, input_string):\n",
        "        dict_size = 256\n",
        "        dictionary = {chr(i): i for i in range(dict_size)}\n",
        "\n",
        "        w = \"\"\n",
        "        result = []\n",
        "\n",
        "        for c in input_string:\n",
        "            wc = w + c\n",
        "            if wc in dictionary:\n",
        "                w = wc\n",
        "            else:\n",
        "                result.append(dictionary[w])\n",
        "                dictionary[wc] = dict_size\n",
        "                dict_size += 1\n",
        "                w = c\n",
        "\n",
        "        if w:\n",
        "            result.append(dictionary[w])\n",
        "\n",
        "        return result\n",
        "\n",
        "    def decode(self, encoded_data):\n",
        "        dict_size = 256\n",
        "        dictionary = {i: chr(i) for i in range(dict_size)}\n",
        "\n",
        "        w = chr(encoded_data[0])\n",
        "        result = w\n",
        "\n",
        "        for k in encoded_data[1:]:\n",
        "            if k in dictionary:\n",
        "                entry = dictionary[k]\n",
        "            elif k == dict_size:\n",
        "                entry = w + w[0]\n",
        "            else:\n",
        "                raise ValueError(\"Bad compressed k: {}\".format(k))\n",
        "\n",
        "            result += entry\n",
        "\n",
        "            dictionary[dict_size] = w + entry[0]\n",
        "            dict_size += 1\n",
        "\n",
        "            w = entry\n",
        "\n",
        "        return result\n",
        "\n",
        "def string_to_bits(input_string):\n",
        "    return ''.join(format(ord(c), '08b') for c in input_string)\n",
        "\n",
        "def encoded_to_bits(encoded_data):\n",
        "    return ''.join(format(num, '016b') for num in encoded_data)  # 16 bits for larger integers\n",
        "\n",
        "# Example input string\n",
        "input_string = \"TOBEORNOTTOBEORTOBEORNOT\"\n",
        "\n",
        "# Initialize LZW\n",
        "lzw = LZW()\n",
        "\n",
        "# Encoding and decoding\n",
        "encoded_data = lzw.encode(input_string)\n",
        "decoded_string = lzw.decode(encoded_data)\n",
        "\n",
        "# Bit representations\n",
        "original_bits = string_to_bits(input_string)\n",
        "encoded_bits = encoded_to_bits(encoded_data)\n",
        "decoded_bits = string_to_bits(decoded_string)\n",
        "\n",
        "# Display results\n",
        "print(\"Original String:\", input_string)\n",
        "print(\"Original Bits:\", original_bits)\n",
        "print(\"Encoded Data:\", encoded_data)\n",
        "print(\"Encoded Bits:\", encoded_bits)\n",
        "print(\"Decoded String:\", decoded_string)\n",
        "print(\"Decoded Bits:\", decoded_bits)\n",
        "\n",
        "# Check if decoded bits match original bits\n",
        "print(\"Decoded matches Original:\", original_bits == decoded_bits)\n"
      ],
      "metadata": {
        "colab": {
          "base_uri": "https://localhost:8080/"
        },
        "id": "BlVSoMO-qddA",
        "outputId": "1d9bb24a-d511-44ce-dd75-cbb4afea4ed4"
      },
      "execution_count": null,
      "outputs": [
        {
          "output_type": "stream",
          "name": "stdout",
          "text": [
            "Original String: TOBEORNOTTOBEORTOBEORNOT\n",
            "Original Bits: 010101000100111101000010010001010100111101010010010011100100111101010100010101000100111101000010010001010100111101010010010101000100111101000010010001010100111101010010010011100100111101010100\n",
            "Encoded Data: [84, 79, 66, 69, 79, 82, 78, 79, 84, 256, 258, 260, 265, 259, 261, 263]\n",
            "Encoded Bits: 0000000001010100000000000100111100000000010000100000000001000101000000000100111100000000010100100000000001001110000000000100111100000000010101000000000100000000000000010000001000000001000001000000000100001001000000010000001100000001000001010000000100000111\n",
            "Decoded String: TOBEORNOTTOBEORTOBEORNOT\n",
            "Decoded Bits: 010101000100111101000010010001010100111101010010010011100100111101010100010101000100111101000010010001010100111101010010010101000100111101000010010001010100111101010010010011100100111101010100\n",
            "Decoded matches Original: True\n"
          ]
        }
      ]
    },
    {
      "cell_type": "code",
      "source": [
        "class LZW:\n",
        "    def encode(self, input_string):\n",
        "        dict_size = 256\n",
        "        dictionary = {chr(i): i for i in range(dict_size)}\n",
        "\n",
        "        w = \"\"\n",
        "        result = []\n",
        "\n",
        "        for c in input_string:\n",
        "            wc = w + c\n",
        "            if wc in dictionary:\n",
        "                w = wc\n",
        "            else:\n",
        "                result.append(dictionary[w])\n",
        "                dictionary[wc] = dict_size\n",
        "                dict_size += 1\n",
        "                w = c\n",
        "\n",
        "        if w:\n",
        "            result.append(dictionary[w])\n",
        "\n",
        "        return result\n",
        "\n",
        "    def decode(self, encoded_data):\n",
        "        dict_size = 256\n",
        "        dictionary = {i: chr(i) for i in range(dict_size)}\n",
        "\n",
        "        w = chr(encoded_data[0])\n",
        "        result = w\n",
        "\n",
        "        for k in encoded_data[1:]:\n",
        "            if k in dictionary:\n",
        "                entry = dictionary[k]\n",
        "            elif k == dict_size:\n",
        "                entry = w + w[0]\n",
        "            else:\n",
        "                raise ValueError(\"Bad compressed k: {}\".format(k))\n",
        "\n",
        "            result += entry\n",
        "\n",
        "            dictionary[dict_size] = w + entry[0]\n",
        "            dict_size += 1\n",
        "\n",
        "            w = entry\n",
        "\n",
        "        return result\n",
        "\n",
        "def string_to_bits_size(input_string):\n",
        "    return len(input_string) * 8  # 8 bits per character\n",
        "\n",
        "def encoded_to_bits_size(encoded_data):\n",
        "    return len(encoded_data) * 16  # 16 bits per integer\n",
        "\n",
        "# Example input string\n",
        "input_string = \"d|&0%|0*6c#|8zc7c#zm8d*0*08*8p8$*cd,d+zez,|6z)8!cqzb**zzcq8jcazqz!**dkds*dcacl*n|6z)0y0/cq7)8=*ld1c#7q*9d08}0|0:7.*08w8$dacl0+zez?z=8=cbze|{cjc[db8m0]07c,0e8mzq700x*2cdc+z)c2**8dz7_c7|88p|{0|0_*78$*mza8+8=d(0i*m||7gza0jc/8=c\\\\d18f8jzqzi|9|68$7ndi7g8(|g*lcazr 0ycjdm*l0,7l07zrdi0&zec+0yd\\\\8l8m0e7r7m7!76*mclz58=z,d9z,83*ac[|%dfze0yz,dm0,09dsd+07*h0mc|zhzsHÞ\"\n",
        "\n",
        "# Initialize LZW\n",
        "lzw = LZW()\n",
        "\n",
        "# Encoding and decoding\n",
        "encoded_data = lzw.encode(input_string)\n",
        "decoded_string = lzw.decode(encoded_data)\n",
        "\n",
        "# Bit sizes\n",
        "original_bit_size = string_to_bits_size(input_string)\n",
        "encoded_bit_size = encoded_to_bits_size(encoded_data)\n",
        "decoded_bit_size = string_to_bits_size(decoded_string)\n",
        "\n",
        "# Display results\n",
        "print(\"Original String:\", input_string)\n",
        "print(\"Original Bit Size:\", original_bit_size, \"bits\")\n",
        "print(\"Encoded Data:\", encoded_data)\n",
        "print(\"Encoded Bit Size:\", encoded_bit_size, \"bits\")\n",
        "print(\"Decoded String:\", decoded_string)\n",
        "print(\"Decoded Bit Size:\", decoded_bit_size, \"bits\")\n",
        "\n",
        "# Check if decoded bit size matches original bit size\n",
        "print(\"Decoded matches Original Bit Size:\", original_bit_size == decoded_bit_size)\n"
      ],
      "metadata": {
        "colab": {
          "base_uri": "https://localhost:8080/"
        },
        "id": "swC7wBKCqvg-",
        "outputId": "1eaf82a6-62a4-406e-c4df-bf04876c4ff8"
      },
      "execution_count": null,
      "outputs": [
        {
          "output_type": "stream",
          "name": "stdout",
          "text": [
            "Original String: d|&0%|0*6c#|8zc7c#zm8d*0*08*8p8$*cd,d+zez,|6z)8!cqzb**zzcq8jcazqz!**dkds*dcacl*n|6z)0y0/cq7)8=*ld1c#7q*9d08}0|0:7.*08w8$dacl0+zez?z=8=cbze|{cjc[db8m0]07c,0e8mzq700x*2cdc+z)c2**8dz7_c7|88p|{0|0_*78$*mza8+8=d(0i*m||7gza0jc/8=c\\d18f8jzqzi|9|68$7ndi7g8(|g*lcazr 0ycjdm*l0,7l07zrdi0&zec+0yd\\8l8m0e7r7m7!76*mclz58=z,d9z,83*ac[|%dfze0yz,dm0,09dsd+07*h0mc|zhzsHÞ\n",
            "Original Bit Size: 2832 bits\n",
            "Encoded Data: [100, 124, 38, 48, 37, 124, 48, 42, 54, 99, 35, 124, 56, 122, 99, 55, 265, 122, 109, 56, 100, 42, 262, 48, 56, 42, 56, 112, 56, 36, 42, 99, 100, 44, 100, 43, 122, 101, 122, 44, 124, 54, 122, 41, 56, 33, 99, 113, 122, 98, 42, 42, 122, 269, 113, 56, 106, 99, 97, 122, 303, 33, 306, 100, 107, 100, 115, 42, 100, 313, 99, 108, 42, 110, 296, 298, 48, 121, 48, 47, 302, 55, 299, 61, 42, 108, 100, 49, 265, 55, 113, 42, 57, 100, 279, 125, 48, 261, 58, 55, 46, 277, 56, 119, 284, 100, 97, 326, 48, 291, 293, 63, 122, 61, 56, 61, 99, 98, 292, 124, 123, 99, 312, 91, 100, 98, 56, 109, 48, 93, 48, 271, 44, 48, 101, 382, 315, 55, 48, 48, 120, 42, 50, 287, 99, 291, 41, 99, 50, 306, 275, 122, 55, 95, 270, 267, 282, 375, 352, 48, 95, 42, 55, 284, 42, 109, 122, 97, 56, 43, 370, 100, 40, 48, 105, 420, 124, 124, 55, 103, 422, 48, 312, 47, 370, 99, 92, 342, 56, 102, 311, 315, 122, 105, 124, 57, 296, 284, 55, 110, 100, 105, 434, 56, 40, 124, 103, 340, 313, 122, 114, 32, 332, 377, 100, 109, 340, 48, 44, 55, 108, 386, 465, 456, 48, 38, 292, 400, 332, 100, 92, 56, 108, 382, 389, 55, 114, 55, 109, 55, 33, 55, 54, 420, 326, 122, 53, 370, 294, 100, 57, 294, 56, 51, 42, 362, 91, 124, 37, 100, 102, 292, 332, 504, 383, 388, 348, 115, 290, 386, 42, 104, 48, 109, 99, 124, 122, 104, 122, 115, 72, 222]\n",
            "Encoded Bit Size: 4512 bits\n",
            "Decoded String: d|&0%|0*6c#|8zc7c#zm8d*0*08*8p8$*cd,d+zez,|6z)8!cqzb**zzcq8jcazqz!**dkds*dcacl*n|6z)0y0/cq7)8=*ld1c#7q*9d08}0|0:7.*08w8$dacl0+zez?z=8=cbze|{cjc[db8m0]07c,0e8mzq700x*2cdc+z)c2**8dz7_c7|88p|{0|0_*78$*mza8+8=d(0i*m||7gza0jc/8=c\\d18f8jzqzi|9|68$7ndi7g8(|g*lcazr 0ycjdm*l0,7l07zrdi0&zec+0yd\\8l8m0e7r7m7!76*mclz58=z,d9z,83*ac[|%dfze0yz,dm0,09dsd+07*h0mc|zhzsHÞ\n",
            "Decoded Bit Size: 2832 bits\n",
            "Decoded matches Original Bit Size: True\n"
          ]
        }
      ]
    },
    {
      "cell_type": "code",
      "source": [
        "compression_ratio = original_bit_size / encoded_bit_size\n",
        "print(\"Compression Ratio:\", compression_ratio)\n"
      ],
      "metadata": {
        "colab": {
          "base_uri": "https://localhost:8080/"
        },
        "id": "PynxhGW_r3WW",
        "outputId": "9309827c-44b7-4c68-82c1-6eb630343575"
      },
      "execution_count": null,
      "outputs": [
        {
          "output_type": "stream",
          "name": "stdout",
          "text": [
            "Compression Ratio: 0.6276595744680851\n"
          ]
        }
      ]
    },
    {
      "cell_type": "code",
      "source": [
        "import heapq\n",
        "from collections import defaultdict, namedtuple\n",
        "\n",
        "class Node:\n",
        "    \"\"\"A node in the Huffman tree.\"\"\"\n",
        "    def __init__(self, char, freq):\n",
        "        self.char = char\n",
        "        self.freq = freq\n",
        "        self.left = None\n",
        "        self.right = None\n",
        "\n",
        "    def __lt__(self, other):\n",
        "        return self.freq < other.freq\n",
        "\n",
        "def build_huffman_tree(text):\n",
        "    \"\"\"Builds the Huffman tree and returns the root node.\"\"\"\n",
        "    frequency = defaultdict(int)\n",
        "\n",
        "    # Count frequency of each character in the input text\n",
        "    for char in text:\n",
        "        frequency[char] += 1\n",
        "\n",
        "    # Create a priority queue with the characters and their frequencies\n",
        "    priority_queue = [Node(char, freq) for char, freq in frequency.items()]\n",
        "    heapq.heapify(priority_queue)\n",
        "\n",
        "    # Build the Huffman tree\n",
        "    while len(priority_queue) > 1:\n",
        "        left = heapq.heappop(priority_queue)\n",
        "        right = heapq.heappop(priority_queue)\n",
        "        merged = Node(None, left.freq + right.freq)\n",
        "        merged.left = left\n",
        "        merged.right = right\n",
        "        heapq.heappush(priority_queue, merged)\n",
        "\n",
        "    return priority_queue[0]  # Root of the tree\n",
        "\n",
        "def generate_codes(node, prefix=\"\", codebook={}):\n",
        "    \"\"\"Generates Huffman codes for each character.\"\"\"\n",
        "    if node is not None:\n",
        "        if node.char is not None:\n",
        "            codebook[node.char] = prefix\n",
        "        generate_codes(node.left, prefix + \"0\", codebook)\n",
        "        generate_codes(node.right, prefix + \"1\", codebook)\n",
        "    return codebook\n",
        "\n",
        "def huffman_encoding(text):\n",
        "    \"\"\"Encodes the input text using Huffman coding.\"\"\"\n",
        "    if not text:\n",
        "        return \"\", None  # Return empty if text is empty\n",
        "\n",
        "    root = build_huffman_tree(text)\n",
        "    huffman_codes = generate_codes(root)\n",
        "\n",
        "    # Encode the input text\n",
        "    encoded_text = ''.join(huffman_codes[char] for char in text)\n",
        "\n",
        "    return encoded_text, huffman_codes\n",
        "\n",
        "def huffman_decoding(encoded_text, huffman_codes):\n",
        "    \"\"\"Decodes the encoded text using the Huffman codes.\"\"\"\n",
        "    # Reverse the codebook for decoding\n",
        "    reversed_codes = {v: k for k, v in huffman_codes.items()}\n",
        "\n",
        "    current_code = \"\"\n",
        "    decoded_text = \"\"\n",
        "\n",
        "    for bit in encoded_text:\n",
        "        current_code += bit\n",
        "        if current_code in reversed_codes:\n",
        "            decoded_text += reversed_codes[current_code]\n",
        "            current_code = \"\"\n",
        "\n",
        "    return decoded_text\n",
        "\n",
        "# Example usage\n",
        "text = input_string\n",
        "\n",
        "# Encoding\n",
        "encoded_text, huffman_codes = huffman_encoding(text)\n",
        "print(\"Original Text:\", text)\n",
        "print(\"Encoded Text:\", encoded_text)\n",
        "print(\"Huffman Codes:\", huffman_codes)\n",
        "\n",
        "# Decoding\n",
        "decoded_text = huffman_decoding(encoded_text, huffman_codes)\n",
        "print(\"Decoded Text:\", decoded_text)\n"
      ],
      "metadata": {
        "colab": {
          "base_uri": "https://localhost:8080/"
        },
        "id": "fhDjYxEZsHM6",
        "outputId": "b5a3dded-b423-4a0a-e387-aa8916089934"
      },
      "execution_count": null,
      "outputs": [
        {
          "output_type": "stream",
          "name": "stdout",
          "text": [
            "Original Text: d|&0%|0*6c#|8zc7c#zm8d*0*08*8p8$*cd,d+zez,|6z)8!cqzb**zzcq8jcazqz!**dkds*dcacl*n|6z)0y0/cq7)8=*ld1c#7q*9d08}0|0:7.*08w8$dacl0+zez?z=8=cbze|{cjc[db8m0]07c,0e8mzq700x*2cdc+z)c2**8dz7_c7|88p|{0|0_*78$*mza8+8=d(0i*m||7gza0jc/8=c\\d18f8jzqzi|9|68$7ndi7g8(|g*lcazr 0ycjdm*l0,7l07zrdi0&zec+0yd\\8l8m0e7r7m7!76*mclz58=z,d9z,83*ac[|%dfze0yz,dm0,09dsd+07*h0mc|zhzsHÞ\n",
            "Encoded Text: 1001010101001101110000101101011110101001110011001000101010111010011100011011001000101001011111101100110101110101011101101101011010001100110101000010101100100111111110011000110011111000011111110101011100001000100110110001001100101111001101101110101010001001110010111111010111011100101110001101111001100010010101010100100011111100110110011010100111001011101100111110101001001110101011100001000100111001000111101000001111001011110110000100110110000110101111101001100000011001000101011010111110100000101001111011011000001011100101111000011011011000011010101011101101111101111110101000010011011101100111110111010001100111110000111110111000110000111011000011100101101100111110001010100100110001110111000001010100110110111101011111110010010111110011011001111111110111100110101111001101111011011101110010010101010000011111001001110010001100100010011000000111101010101101100100101100000110110001100101110111010001100010101001001110010111100000110101001101101010000101001111001101110110110001111011000011001111101011110000001101001111010101010110101101000110111011100111011100100000111101100001110011110100100110000001101111101101101011101001101111001000001010100001001010111001101010000011001001111001000001011010110101101111101010101101101010101111101100101110001101100000011110111001000111000111011001011111010111110111011111101101111101110011000110110001001000001111001001100011111001100100011111001000110011111010011011111101101011111110111100011010110000110011110110100010001100111001010011111100111110001000111011101100001001111111100100001000111111111010001110010101011101100000101001010001011100111110110001111100111001000100111111110010111111101111111110000010100110110011001100011111001101010000000011100111111000101001000000000110110010000001100000010\n",
            "Huffman Codes: {'h': '0000000', 'Þ': '00000010', 'H': '00000011', 'i': '000001', '9': '000010', '_': '0000110', '2': '0000111', ')': '000100', '[': '0001010', '%': '0001011', 'p': '0001100', '.': '00011010', ':': '00011011', '3': '00011100', '5': '00011101', ' ': '00011110', 'k': '00011111', 'z': '001', '$': '010000', 'y': '010001', '{': '0100100', 'x': '01001010', ']': '01001011', '&': '0100110', 'n': '0100111', '|': '0101', '7': '0110', '6': '011100', 'j': '011101', 'm': '01111', '1': '1000000', '}': '10000010', '/': '10000011', '=': '100001', '!': '1000100', '#': '1000101', '+': '100011', 'd': '1001', '*': '1010', 'r': '1011000', 's': '1011001', 'g': '1011010', 'b': '1011011', 'a': '101110', 'q': '101111', 'c': '1100', '8': '1101', '0': '1110', 'e': '111100', '\\\\': '11110100', '(': '11110101', 'f': '11110110', '?': '111101110', 'w': '111101111', 'l': '111110', ',': '111111'}\n",
            "Decoded Text: d|&0%|0*6c#|8zc7c#zm8d*0*08*8p8$*cd,d+zez,|6z)8!cqzb**zzcq8jcazqz!**dkds*dcacl*n|6z)0y0/cq7)8=*ld1c#7q*9d08}0|0:7.*08w8$dacl0+zez?z=8=cbze|{cjc[db8m0]07c,0e8mzq700x*2cdc+z)c2**8dz7_c7|88p|{0|0_*78$*mza8+8=d(0i*m||7gza0jc/8=c\\d18f8jzqzi|9|68$7ndi7g8(|g*lcazr 0ycjdm*l0,7l07zrdi0&zec+0yd\\8l8m0e7r7m7!76*mclz58=z,d9z,83*ac[|%dfze0yz,dm0,09dsd+07*h0mc|zhzsHÞ\n"
          ]
        }
      ]
    },
    {
      "cell_type": "code",
      "source": [
        "import heapq\n",
        "from collections import defaultdict\n",
        "\n",
        "class Node:\n",
        "    \"\"\"A node in the Huffman tree.\"\"\"\n",
        "    def __init__(self, char, freq):\n",
        "        self.char = char\n",
        "        self.freq = freq\n",
        "        self.left = None\n",
        "        self.right = None\n",
        "\n",
        "    def __lt__(self, other):\n",
        "        return self.freq < other.freq\n",
        "\n",
        "def build_huffman_tree(text):\n",
        "    \"\"\"Builds the Huffman tree and returns the root node.\"\"\"\n",
        "    frequency = defaultdict(int)\n",
        "\n",
        "    # Count frequency of each character in the input text\n",
        "    for char in text:\n",
        "        frequency[char] += 1\n",
        "\n",
        "    # Create a priority queue with the characters and their frequencies\n",
        "    priority_queue = [Node(char, freq) for char, freq in frequency.items()]\n",
        "    heapq.heapify(priority_queue)\n",
        "\n",
        "    # Build the Huffman tree\n",
        "    while len(priority_queue) > 1:\n",
        "        left = heapq.heappop(priority_queue)\n",
        "        right = heapq.heappop(priority_queue)\n",
        "        merged = Node(None, left.freq + right.freq)\n",
        "        merged.left = left\n",
        "        merged.right = right\n",
        "        heapq.heappush(priority_queue, merged)\n",
        "\n",
        "    return priority_queue[0]  # Root of the tree\n",
        "\n",
        "def generate_codes(node, prefix=\"\", codebook={}):\n",
        "    \"\"\"Generates Huffman codes for each character.\"\"\"\n",
        "    if node is not None:\n",
        "        if node.char is not None:\n",
        "            codebook[node.char] = prefix\n",
        "        generate_codes(node.left, prefix + \"0\", codebook)\n",
        "        generate_codes(node.right, prefix + \"1\", codebook)\n",
        "    return codebook\n",
        "\n",
        "def huffman_encoding(text):\n",
        "    \"\"\"Encodes the input text using Huffman coding.\"\"\"\n",
        "    if not text:\n",
        "        return \"\", None  # Return empty if text is empty\n",
        "\n",
        "    root = build_huffman_tree(text)\n",
        "    huffman_codes = generate_codes(root)\n",
        "\n",
        "    # Encode the input text\n",
        "    encoded_text = ''.join(huffman_codes[char] for char in text)\n",
        "\n",
        "    return encoded_text, huffman_codes\n",
        "\n",
        "def huffman_decoding(encoded_text, huffman_codes):\n",
        "    \"\"\"Decodes the encoded text using the Huffman codes.\"\"\"\n",
        "    # Reverse the codebook for decoding\n",
        "    reversed_codes = {v: k for k, v in huffman_codes.items()}\n",
        "\n",
        "    current_code = \"\"\n",
        "    decoded_text = \"\"\n",
        "\n",
        "    for bit in encoded_text:\n",
        "        current_code += bit\n",
        "        if current_code in reversed_codes:\n",
        "            decoded_text += reversed_codes[current_code]\n",
        "            current_code = \"\"\n",
        "\n",
        "    return decoded_text\n",
        "\n",
        "def bit_size(text):\n",
        "    \"\"\"Calculates the bit size of the input text.\"\"\"\n",
        "    return len(text) * 8  # 8 bits per character\n",
        "\n",
        "def encoded_bit_size(encoded_text):\n",
        "    \"\"\"Calculates the bit size of the encoded text.\"\"\"\n",
        "    return len(encoded_text)  # Each bit counts as 1 bit\n",
        "\n",
        "# Example usage\n",
        "text = input_string\n",
        "\n",
        "# Encoding\n",
        "encoded_text, huffman_codes = huffman_encoding(text)\n",
        "print(\"Original Text:\", text)\n",
        "print(\"Encoded Text:\", encoded_text)\n",
        "print(\"Huffman Codes:\", huffman_codes)\n",
        "\n",
        "# Decoding\n",
        "decoded_text = huffman_decoding(encoded_text, huffman_codes)\n",
        "print(\"Decoded Text:\", decoded_text)\n",
        "\n",
        "# Bit sizes\n",
        "original_bit_size = bit_size(text)\n",
        "encoded_size = encoded_bit_size(encoded_text)\n",
        "decoded_bit_size = bit_size(decoded_text)\n",
        "\n",
        "print(\"Original Bit Size:\", original_bit_size, \"bits\")\n",
        "print(\"Encoded Bit Size:\", encoded_size, \"bits\")\n",
        "print(\"Decoded Bit Size:\", decoded_bit_size, \"bits\")\n",
        "\n",
        "# Check if decoded bit size matches original bit size\n",
        "print(\"Decoded matches Original Bit Size:\", original_bit_size == decoded_bit_size)\n"
      ],
      "metadata": {
        "colab": {
          "base_uri": "https://localhost:8080/"
        },
        "id": "5mF0RV37scBs",
        "outputId": "5458c7af-a181-4d36-df61-31b73c047c92"
      },
      "execution_count": null,
      "outputs": [
        {
          "output_type": "stream",
          "name": "stdout",
          "text": [
            "Original Text: d|&0%|0*6c#|8zc7c#zm8d*0*08*8p8$*cd,d+zez,|6z)8!cqzb**zzcq8jcazqz!**dkds*dcacl*n|6z)0y0/cq7)8=*ld1c#7q*9d08}0|0:7.*08w8$dacl0+zez?z=8=cbze|{cjc[db8m0]07c,0e8mzq700x*2cdc+z)c2**8dz7_c7|88p|{0|0_*78$*mza8+8=d(0i*m||7gza0jc/8=c\\d18f8jzqzi|9|68$7ndi7g8(|g*lcazr 0ycjdm*l0,7l07zrdi0&zec+0yd\\8l8m0e7r7m7!76*mclz58=z,d9z,83*ac[|%dfze0yz,dm0,09dsd+07*h0mc|zhzsHÞ\n",
            "Encoded Text: 1001010101001101110000101101011110101001110011001000101010111010011100011011001000101001011111101100110101110101011101101101011010001100110101000010101100100111111110011000110011111000011111110101011100001000100110110001001100101111001101101110101010001001110010111111010111011100101110001101111001100010010101010100100011111100110110011010100111001011101100111110101001001110101011100001000100111001000111101000001111001011110110000100110110000110101111101001100000011001000101011010111110100000101001111011011000001011100101111000011011011000011010101011101101111101111110101000010011011101100111110111010001100111110000111110111000110000111011000011100101101100111110001010100100110001110111000001010100110110111101011111110010010111110011011001111111110111100110101111001101111011011101110010010101010000011111001001110010001100100010011000000111101010101101100100101100000110110001100101110111010001100010101001001110010111100000110101001101101010000101001111001101110110110001111011000011001111101011110000001101001111010101010110101101000110111011100111011100100000111101100001110011110100100110000001101111101101101011101001101111001000001010100001001010111001101010000011001001111001000001011010110101101111101010101101101010101111101100101110001101100000011110111001000111000111011001011111010111110111011111101101111101110011000110110001001000001111001001100011111001100100011111001000110011111010011011111101101011111110111100011010110000110011110110100010001100111001010011111100111110001000111011101100001001111111100100001000111111111010001110010101011101100000101001010001011100111110110001111100111001000100111111110010111111101111111110000010100110110011001100011111001101010000000011100111111000101001000000000110110010000001100000010\n",
            "Huffman Codes: {'h': '0000000', 'Þ': '00000010', 'H': '00000011', 'i': '000001', '9': '000010', '_': '0000110', '2': '0000111', ')': '000100', '[': '0001010', '%': '0001011', 'p': '0001100', '.': '00011010', ':': '00011011', '3': '00011100', '5': '00011101', ' ': '00011110', 'k': '00011111', 'z': '001', '$': '010000', 'y': '010001', '{': '0100100', 'x': '01001010', ']': '01001011', '&': '0100110', 'n': '0100111', '|': '0101', '7': '0110', '6': '011100', 'j': '011101', 'm': '01111', '1': '1000000', '}': '10000010', '/': '10000011', '=': '100001', '!': '1000100', '#': '1000101', '+': '100011', 'd': '1001', '*': '1010', 'r': '1011000', 's': '1011001', 'g': '1011010', 'b': '1011011', 'a': '101110', 'q': '101111', 'c': '1100', '8': '1101', '0': '1110', 'e': '111100', '\\\\': '11110100', '(': '11110101', 'f': '11110110', '?': '111101110', 'w': '111101111', 'l': '111110', ',': '111111'}\n",
            "Decoded Text: d|&0%|0*6c#|8zc7c#zm8d*0*08*8p8$*cd,d+zez,|6z)8!cqzb**zzcq8jcazqz!**dkds*dcacl*n|6z)0y0/cq7)8=*ld1c#7q*9d08}0|0:7.*08w8$dacl0+zez?z=8=cbze|{cjc[db8m0]07c,0e8mzq700x*2cdc+z)c2**8dz7_c7|88p|{0|0_*78$*mza8+8=d(0i*m||7gza0jc/8=c\\d18f8jzqzi|9|68$7ndi7g8(|g*lcazr 0ycjdm*l0,7l07zrdi0&zec+0yd\\8l8m0e7r7m7!76*mclz58=z,d9z,83*ac[|%dfze0yz,dm0,09dsd+07*h0mc|zhzsHÞ\n",
            "Original Bit Size: 2832 bits\n",
            "Encoded Bit Size: 1753 bits\n",
            "Decoded Bit Size: 2832 bits\n",
            "Decoded matches Original Bit Size: True\n"
          ]
        }
      ]
    },
    {
      "cell_type": "code",
      "source": [
        "decoded_text.encode()"
      ],
      "metadata": {
        "colab": {
          "base_uri": "https://localhost:8080/"
        },
        "id": "IY_fiPWps5Pa",
        "outputId": "b1792231-836d-41b3-b49d-84d17880227b"
      },
      "execution_count": null,
      "outputs": [
        {
          "output_type": "execute_result",
          "data": {
            "text/plain": [
              "b'd|&0%|0*6c#|8zc7c#zm8d*0*08*8p8$*cd,d+zez,|6z)8!cqzb**zzcq8jcazqz!**dkds*dcacl*n|6z)0y0/cq7)8=*ld1c#7q*9d08}0|0:7.*08w8$dacl0+zez?z=8=cbze|{cjc[db8m0]07c,0e8mzq700x*2cdc+z)c2**8dz7_c7|88p|{0|0_*78$*mza8+8=d(0i*m||7gza0jc/8=c\\\\d18f8jzqzi|9|68$7ndi7g8(|g*lcazr 0ycjdm*l0,7l07zrdi0&zec+0yd\\\\8l8m0e7r7m7!76*mclz58=z,d9z,83*ac[|%dfze0yz,dm0,09dsd+07*h0mc|zhzsH\\xc3\\x9e'"
            ]
          },
          "metadata": {},
          "execution_count": 14
        }
      ]
    },
    {
      "cell_type": "code",
      "source": [],
      "metadata": {
        "id": "kUq_YYjgtIT7"
      },
      "execution_count": null,
      "outputs": []
    }
  ]
}