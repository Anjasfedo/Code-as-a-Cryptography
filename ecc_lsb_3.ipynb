{
  "nbformat": 4,
  "nbformat_minor": 0,
  "metadata": {
    "colab": {
      "provenance": [],
      "collapsed_sections": [
        "8_gc0zD5KD3G",
        "X90K2eYDKKzn",
        "VyyKjOhTM50z"
      ],
      "authorship_tag": "ABX9TyMvGAdbP3bZ86vImj9akm9b",
      "include_colab_link": true
    },
    "kernelspec": {
      "name": "python3",
      "display_name": "Python 3"
    },
    "language_info": {
      "name": "python"
    }
  },
  "cells": [
    {
      "cell_type": "markdown",
      "metadata": {
        "id": "view-in-github",
        "colab_type": "text"
      },
      "source": [
        "<a href=\"https://colab.research.google.com/github/Anjasfedo/Code-as-a-Cryptography/blob/main/ecc_lsb_3.ipynb\" target=\"_parent\"><img src=\"https://colab.research.google.com/assets/colab-badge.svg\" alt=\"Open In Colab\"/></a>"
      ]
    },
    {
      "cell_type": "markdown",
      "source": [
        "# ECC"
      ],
      "metadata": {
        "id": "8_gc0zD5KD3G"
      }
    },
    {
      "cell_type": "code",
      "execution_count": 1,
      "metadata": {
        "colab": {
          "base_uri": "https://localhost:8080/"
        },
        "id": "aLCcHInTJSmz",
        "outputId": "aea6273e-bc1f-455f-da41-2db1f88588c3"
      },
      "outputs": [
        {
          "output_type": "stream",
          "name": "stdout",
          "text": [
            "Collecting eciespy\n",
            "  Downloading eciespy-0.4.2-py3-none-any.whl.metadata (6.6 kB)\n",
            "Collecting coincurve<20,>=13 (from eciespy)\n",
            "  Downloading coincurve-19.0.1-cp310-cp310-manylinux_2_17_x86_64.manylinux2014_x86_64.whl.metadata (3.7 kB)\n",
            "Collecting eth-keys<0.6,>=0.4 (from eciespy)\n",
            "  Downloading eth_keys-0.5.1-py3-none-any.whl.metadata (13 kB)\n",
            "Collecting pycryptodome<4.0.0,>=3.19.1 (from eciespy)\n",
            "  Downloading pycryptodome-3.20.0-cp35-abi3-manylinux_2_17_x86_64.manylinux2014_x86_64.whl.metadata (3.4 kB)\n",
            "Collecting asn1crypto (from coincurve<20,>=13->eciespy)\n",
            "  Downloading asn1crypto-1.5.1-py2.py3-none-any.whl.metadata (13 kB)\n",
            "Requirement already satisfied: cffi>=1.3.0 in /usr/local/lib/python3.10/dist-packages (from coincurve<20,>=13->eciespy) (1.17.1)\n",
            "Collecting eth-utils>=2 (from eth-keys<0.6,>=0.4->eciespy)\n",
            "  Downloading eth_utils-5.0.0-py3-none-any.whl.metadata (5.4 kB)\n",
            "Collecting eth-typing>=3 (from eth-keys<0.6,>=0.4->eciespy)\n",
            "  Downloading eth_typing-5.0.0-py3-none-any.whl.metadata (5.1 kB)\n",
            "Requirement already satisfied: pycparser in /usr/local/lib/python3.10/dist-packages (from cffi>=1.3.0->coincurve<20,>=13->eciespy) (2.22)\n",
            "Requirement already satisfied: typing-extensions>=4.5.0 in /usr/local/lib/python3.10/dist-packages (from eth-typing>=3->eth-keys<0.6,>=0.4->eciespy) (4.12.2)\n",
            "Collecting eth-hash>=0.3.1 (from eth-utils>=2->eth-keys<0.6,>=0.4->eciespy)\n",
            "  Downloading eth_hash-0.7.0-py3-none-any.whl.metadata (5.4 kB)\n",
            "Collecting hexbytes>=1.0.0 (from eth-utils>=2->eth-keys<0.6,>=0.4->eciespy)\n",
            "  Downloading hexbytes-1.2.1-py3-none-any.whl.metadata (3.7 kB)\n",
            "Collecting cytoolz>=0.10.1 (from eth-utils>=2->eth-keys<0.6,>=0.4->eciespy)\n",
            "  Downloading cytoolz-0.12.3-cp310-cp310-manylinux_2_17_x86_64.manylinux2014_x86_64.whl.metadata (4.6 kB)\n",
            "Requirement already satisfied: toolz>=0.8.0 in /usr/local/lib/python3.10/dist-packages (from cytoolz>=0.10.1->eth-utils>=2->eth-keys<0.6,>=0.4->eciespy) (0.12.1)\n",
            "Downloading eciespy-0.4.2-py3-none-any.whl (10 kB)\n",
            "Downloading coincurve-19.0.1-cp310-cp310-manylinux_2_17_x86_64.manylinux2014_x86_64.whl (1.4 MB)\n",
            "\u001b[2K   \u001b[90m━━━━━━━━━━━━━━━━━━━━━━━━━━━━━━━━━━━━━━━━\u001b[0m \u001b[32m1.4/1.4 MB\u001b[0m \u001b[31m18.6 MB/s\u001b[0m eta \u001b[36m0:00:00\u001b[0m\n",
            "\u001b[?25hDownloading eth_keys-0.5.1-py3-none-any.whl (21 kB)\n",
            "Downloading pycryptodome-3.20.0-cp35-abi3-manylinux_2_17_x86_64.manylinux2014_x86_64.whl (2.1 MB)\n",
            "\u001b[2K   \u001b[90m━━━━━━━━━━━━━━━━━━━━━━━━━━━━━━━━━━━━━━━━\u001b[0m \u001b[32m2.1/2.1 MB\u001b[0m \u001b[31m48.7 MB/s\u001b[0m eta \u001b[36m0:00:00\u001b[0m\n",
            "\u001b[?25hDownloading eth_typing-5.0.0-py3-none-any.whl (20 kB)\n",
            "Downloading eth_utils-5.0.0-py3-none-any.whl (100 kB)\n",
            "\u001b[2K   \u001b[90m━━━━━━━━━━━━━━━━━━━━━━━━━━━━━━━━━━━━━━━━\u001b[0m \u001b[32m100.5/100.5 kB\u001b[0m \u001b[31m6.5 MB/s\u001b[0m eta \u001b[36m0:00:00\u001b[0m\n",
            "\u001b[?25hDownloading asn1crypto-1.5.1-py2.py3-none-any.whl (105 kB)\n",
            "\u001b[2K   \u001b[90m━━━━━━━━━━━━━━━━━━━━━━━━━━━━━━━━━━━━━━━━\u001b[0m \u001b[32m105.0/105.0 kB\u001b[0m \u001b[31m7.2 MB/s\u001b[0m eta \u001b[36m0:00:00\u001b[0m\n",
            "\u001b[?25hDownloading cytoolz-0.12.3-cp310-cp310-manylinux_2_17_x86_64.manylinux2014_x86_64.whl (2.0 MB)\n",
            "\u001b[2K   \u001b[90m━━━━━━━━━━━━━━━━━━━━━━━━━━━━━━━━━━━━━━━━\u001b[0m \u001b[32m2.0/2.0 MB\u001b[0m \u001b[31m55.3 MB/s\u001b[0m eta \u001b[36m0:00:00\u001b[0m\n",
            "\u001b[?25hDownloading eth_hash-0.7.0-py3-none-any.whl (8.7 kB)\n",
            "Downloading hexbytes-1.2.1-py3-none-any.whl (5.2 kB)\n",
            "Installing collected packages: asn1crypto, pycryptodome, hexbytes, eth-typing, eth-hash, cytoolz, eth-utils, coincurve, eth-keys, eciespy\n",
            "Successfully installed asn1crypto-1.5.1 coincurve-19.0.1 cytoolz-0.12.3 eciespy-0.4.2 eth-hash-0.7.0 eth-keys-0.5.1 eth-typing-5.0.0 eth-utils-5.0.0 hexbytes-1.2.1 pycryptodome-3.20.0\n"
          ]
        }
      ],
      "source": [
        "!pip install eciespy"
      ]
    },
    {
      "cell_type": "markdown",
      "source": [
        "# LSB"
      ],
      "metadata": {
        "id": "X90K2eYDKKzn"
      }
    },
    {
      "cell_type": "code",
      "source": [
        "!git clone https://github.com/RobinDavid/LSB-Steganography && cd LSB-Steganography && ls && pip install -r requirements.txt"
      ],
      "metadata": {
        "colab": {
          "base_uri": "https://localhost:8080/"
        },
        "id": "AGn3QhzXKKEX",
        "outputId": "c84e2a2c-02ec-4060-a1f3-da5b9a47f776"
      },
      "execution_count": 2,
      "outputs": [
        {
          "output_type": "stream",
          "name": "stdout",
          "text": [
            "Cloning into 'LSB-Steganography'...\n",
            "remote: Enumerating objects: 75, done.\u001b[K\n",
            "remote: Counting objects: 100% (7/7), done.\u001b[K\n",
            "remote: Compressing objects: 100% (7/7), done.\u001b[K\n",
            "remote: Total 75 (delta 1), reused 2 (delta 0), pack-reused 68 (from 1)\u001b[K\n",
            "Receiving objects: 100% (75/75), 19.72 KiB | 9.86 MiB/s, done.\n",
            "Resolving deltas: 100% (26/26), done.\n",
            "LICENCE  LSBSteg.py  README.md\trequirements.txt\n",
            "Requirement already satisfied: opencv-python in /usr/local/lib/python3.10/dist-packages (from -r requirements.txt (line 1)) (4.10.0.84)\n",
            "Collecting docopt (from -r requirements.txt (line 2))\n",
            "  Downloading docopt-0.6.2.tar.gz (25 kB)\n",
            "  Preparing metadata (setup.py) ... \u001b[?25l\u001b[?25hdone\n",
            "Requirement already satisfied: numpy in /usr/local/lib/python3.10/dist-packages (from -r requirements.txt (line 3)) (1.26.4)\n",
            "Building wheels for collected packages: docopt\n",
            "  Building wheel for docopt (setup.py) ... \u001b[?25l\u001b[?25hdone\n",
            "  Created wheel for docopt: filename=docopt-0.6.2-py2.py3-none-any.whl size=13704 sha256=cfb308100eaea315aece6778f344a78d8e6dfb4f18d41d0cf5c5c950381ee4a9\n",
            "  Stored in directory: /root/.cache/pip/wheels/fc/ab/d4/5da2067ac95b36618c629a5f93f809425700506f72c9732fac\n",
            "Successfully built docopt\n",
            "Installing collected packages: docopt\n",
            "Successfully installed docopt-0.6.2\n"
          ]
        }
      ]
    },
    {
      "cell_type": "code",
      "source": [
        "#!/usr/bin/env python\n",
        "# coding:UTF-8\n",
        "\"\"\"LSBSteg.py\n",
        "\n",
        "Usage:\n",
        "  LSBSteg.py encode -i <input> -o <output> -f <file>\n",
        "  LSBSteg.py decode -i <input> -o <output>\n",
        "\n",
        "Options:\n",
        "  -h, --help                Show this help\n",
        "  --version                 Show the version\n",
        "  -f,--file=<file>          File to hide\n",
        "  -i,--in=<input>           Input image (carrier)\n",
        "  -o,--out=<output>         Output image (or extracted file)\n",
        "\"\"\"\n",
        "\n",
        "import cv2\n",
        "import docopt\n",
        "import numpy as np\n",
        "\n",
        "\n",
        "class SteganographyException(Exception):\n",
        "    pass\n",
        "\n",
        "\n",
        "class LSBSteg():\n",
        "    def __init__(self, im):\n",
        "        self.image = im\n",
        "        self.height, self.width, self.nbchannels = im.shape\n",
        "        self.size = self.width * self.height\n",
        "\n",
        "        self.maskONEValues = [1,2,4,8,16,32,64,128]\n",
        "        #Mask used to put one ex:1->00000001, 2->00000010 .. associated with OR bitwise\n",
        "        self.maskONE = self.maskONEValues.pop(0) #Will be used to do bitwise operations\n",
        "\n",
        "        self.maskZEROValues = [254,253,251,247,239,223,191,127]\n",
        "        #Mak used to put zero ex:254->11111110, 253->11111101 .. associated with AND bitwise\n",
        "        self.maskZERO = self.maskZEROValues.pop(0)\n",
        "\n",
        "        self.curwidth = 0  # Current width position\n",
        "        self.curheight = 0 # Current height position\n",
        "        self.curchan = 0   # Current channel position\n",
        "\n",
        "    def put_binary_value(self, bits): #Put the bits in the image\n",
        "        for c in bits:\n",
        "            val = list(self.image[self.curheight,self.curwidth]) #Get the pixel value as a list\n",
        "            if int(c) == 1:\n",
        "                val[self.curchan] = int(val[self.curchan]) | self.maskONE #OR with maskONE\n",
        "            else:\n",
        "                val[self.curchan] = int(val[self.curchan]) & self.maskZERO #AND with maskZERO\n",
        "\n",
        "            self.image[self.curheight,self.curwidth] = tuple(val)\n",
        "            self.next_slot() #Move \"cursor\" to the next space\n",
        "\n",
        "    def next_slot(self):#Move to the next slot were information can be taken or put\n",
        "        if self.curchan == self.nbchannels-1: #Next Space is the following channel\n",
        "            self.curchan = 0\n",
        "            if self.curwidth == self.width-1: #Or the first channel of the next pixel of the same line\n",
        "                self.curwidth = 0\n",
        "                if self.curheight == self.height-1:#Or the first channel of the first pixel of the next line\n",
        "                    self.curheight = 0\n",
        "                    if self.maskONE == 128: #Mask 1000000, so the last mask\n",
        "                        raise SteganographyException(\"No available slot remaining (image filled)\")\n",
        "                    else: #Or instead of using the first bit start using the second and so on..\n",
        "                        self.maskONE = self.maskONEValues.pop(0)\n",
        "                        self.maskZERO = self.maskZEROValues.pop(0)\n",
        "                else:\n",
        "                    self.curheight +=1\n",
        "            else:\n",
        "                self.curwidth +=1\n",
        "        else:\n",
        "            self.curchan +=1\n",
        "\n",
        "    def read_bit(self): #Read a single bit int the image\n",
        "        val = self.image[self.curheight,self.curwidth][self.curchan]\n",
        "        val = int(val) & self.maskONE\n",
        "        self.next_slot()\n",
        "        if val > 0:\n",
        "            return \"1\"\n",
        "        else:\n",
        "            return \"0\"\n",
        "\n",
        "    def read_byte(self):\n",
        "        return self.read_bits(8)\n",
        "\n",
        "    def read_bits(self, nb): #Read the given number of bits\n",
        "        bits = \"\"\n",
        "        for i in range(nb):\n",
        "            bits += self.read_bit()\n",
        "        return bits\n",
        "\n",
        "    def byteValue(self, val):\n",
        "        return self.binary_value(val, 8)\n",
        "\n",
        "    def binary_value(self, val, bitsize): #Return the binary value of an int as a byte\n",
        "        binval = bin(val)[2:]\n",
        "        if len(binval) > bitsize:\n",
        "            raise SteganographyException(\"binary value larger than the expected size\")\n",
        "        while len(binval) < bitsize:\n",
        "            binval = \"0\"+binval\n",
        "        return binval\n",
        "\n",
        "    def encode_text(self, txt):\n",
        "        l = len(txt)\n",
        "        binl = self.binary_value(l, 16) #Length coded on 2 bytes so the text size can be up to 65536 bytes long\n",
        "        self.put_binary_value(binl) #Put text length coded on 4 bytes\n",
        "        for char in txt: #And put all the chars\n",
        "            c = ord(char)\n",
        "            self.put_binary_value(self.byteValue(c))\n",
        "        return self.image\n",
        "\n",
        "    def decode_text(self):\n",
        "        ls = self.read_bits(16) #Read the text size in bytes\n",
        "        l = int(ls,2)\n",
        "        i = 0\n",
        "        unhideTxt = \"\"\n",
        "        while i < l: #Read all bytes of the text\n",
        "            tmp = self.read_byte() #So one byte\n",
        "            i += 1\n",
        "            unhideTxt += chr(int(tmp,2)) #Every chars concatenated to str\n",
        "        return unhideTxt\n",
        "\n",
        "    def encode_image(self, imtohide):\n",
        "        w = imtohide.width\n",
        "        h = imtohide.height\n",
        "        if self.width*self.height*self.nbchannels < w*h*imtohide.channels:\n",
        "            raise SteganographyException(\"Carrier image not big enough to hold all the datas to steganography\")\n",
        "        binw = self.binary_value(w, 16) #Width coded on to byte so width up to 65536\n",
        "        binh = self.binary_value(h, 16)\n",
        "        self.put_binary_value(binw) #Put width\n",
        "        self.put_binary_value(binh) #Put height\n",
        "        for h in range(imtohide.height): #Iterate the hole image to put every pixel values\n",
        "            for w in range(imtohide.width):\n",
        "                for chan in range(imtohide.channels):\n",
        "                    val = imtohide[h,w][chan]\n",
        "                    self.put_binary_value(self.byteValue(int(val)))\n",
        "        return self.image\n",
        "\n",
        "\n",
        "    def decode_image(self):\n",
        "        width = int(self.read_bits(16),2) #Read 16bits and convert it in int\n",
        "        height = int(self.read_bits(16),2)\n",
        "        unhideimg = np.zeros((width,height, 3), np.uint8) #Create an image in which we will put all the pixels read\n",
        "        for h in range(height):\n",
        "            for w in range(width):\n",
        "                for chan in range(unhideimg.channels):\n",
        "                    val = list(unhideimg[h,w])\n",
        "                    val[chan] = int(self.read_byte(),2) #Read the value\n",
        "                    unhideimg[h,w] = tuple(val)\n",
        "        return unhideimg\n",
        "\n",
        "    def encode_binary(self, data):\n",
        "        l = len(data)\n",
        "        if self.width*self.height*self.nbchannels < l+64:\n",
        "            raise SteganographyException(\"Carrier image not big enough to hold all the datas to steganography\")\n",
        "        self.put_binary_value(self.binary_value(l, 64))\n",
        "        for byte in data:\n",
        "            byte = byte if isinstance(byte, int) else ord(byte) # Compat py2/py3\n",
        "            self.put_binary_value(self.byteValue(byte))\n",
        "        return self.image\n",
        "\n",
        "    def decode_binary(self):\n",
        "        l = int(self.read_bits(64), 2)\n",
        "        output = b\"\"\n",
        "        for i in range(l):\n",
        "            output += bytearray([int(self.read_byte(),2)])\n",
        "        return output\n",
        "\n",
        "\n",
        "def main():\n",
        "    args = docopt.docopt(__doc__, version=\"0.2\")\n",
        "    in_f = args[\"--in\"]\n",
        "    out_f = args[\"--out\"]\n",
        "    in_img = cv2.imread(in_f)\n",
        "    steg = LSBSteg(in_img)\n",
        "    lossy_formats = [\"jpeg\", \"jpg\"]\n",
        "\n",
        "    if args['encode']:\n",
        "        #Handling lossy format\n",
        "        out_f, out_ext = out_f.split(\".\")\n",
        "        if out_ext in lossy_formats:\n",
        "            out_f = out_f + \".png\"\n",
        "            print(\"Output file changed to \", out_f)\n",
        "\n",
        "        data = open(args[\"--file\"], \"rb\").read()\n",
        "        res = steg.encode_binary(data)\n",
        "        cv2.imwrite(out_f, res)\n",
        "\n",
        "    elif args[\"decode\"]:\n",
        "        raw = steg.decode_binary()\n",
        "        with open(out_f, \"wb\") as f:\n",
        "            f.write(raw)\n",
        "\n",
        "# if __name__==\"__main__\":\n",
        "#     main()"
      ],
      "metadata": {
        "id": "ThqAly0AKFmX"
      },
      "execution_count": 3,
      "outputs": []
    },
    {
      "cell_type": "code",
      "source": [
        "LENA_IMG = 'ori-image/lena.png'"
      ],
      "metadata": {
        "id": "JElu6w7gOa6f"
      },
      "execution_count": 42,
      "outputs": []
    },
    {
      "cell_type": "code",
      "source": [
        "def embed_lsb(target, content, ori_img = LENA_IMG):\n",
        "  steg = LSBSteg(cv2.imread(ori_img))\n",
        "\n",
        "  img_encoded = steg.encode_text(content)\n",
        "\n",
        "  lsb_img = f\"{stego_dir_img}/{target}\"\n",
        "\n",
        "  cv2.imwrite(lsb_img, img_encoded)"
      ],
      "metadata": {
        "id": "1fH--WhaOJnk"
      },
      "execution_count": 74,
      "outputs": []
    },
    {
      "cell_type": "code",
      "source": [
        "def extract_lsb(target):\n",
        "  im = cv2.imread(f\"{stego_dir_img}/{target}\")\n",
        "\n",
        "  steg = LSBSteg(im)\n",
        "\n",
        "  content = steg.decode_text()\n",
        "\n",
        "  return content"
      ],
      "metadata": {
        "id": "aFicCQNROPBV"
      },
      "execution_count": 99,
      "outputs": []
    },
    {
      "cell_type": "markdown",
      "source": [
        "# PSNR"
      ],
      "metadata": {
        "id": "VyyKjOhTM50z"
      }
    },
    {
      "cell_type": "code",
      "source": [
        "def calculate_psnr_2(target, ori_image = LENA_IMG):\n",
        "    # Read images\n",
        "    original = cv2.imread(ori_image)\n",
        "    stego = cv2.imread(f'{stego_dir_img}/{target}')\n",
        "\n",
        "    if original is None:\n",
        "        raise ValueError(f\"Failed to load original image from {ori_image}. Ensure the file exists and is a valid image format.\")\n",
        "    if stego is None:\n",
        "        raise ValueError(f\"Failed to load stego image from {stego_dir_img}/{target}. Ensure the file exists and is a valid image format.\")\n",
        "\n",
        "    # Calculate MSE (Mean Squared Error)\n",
        "    mse = np.mean((original - stego) ** 2)\n",
        "    if mse == 0:  # If images are identical\n",
        "        return float('inf')\n",
        "\n",
        "    # Calculate PSNR using the 10 log10 version\n",
        "    max_pixel_value = 255.0\n",
        "    psnr = 10 * np.log10((max_pixel_value ** 2) / mse)\n",
        "    print(f'PSNR: {psnr}')\n",
        "    return psnr"
      ],
      "metadata": {
        "id": "njPQpkGdM8Ea"
      },
      "execution_count": 78,
      "outputs": []
    },
    {
      "cell_type": "markdown",
      "source": [
        "# Test Image"
      ],
      "metadata": {
        "id": "-cPwueo_KfyD"
      }
    },
    {
      "cell_type": "code",
      "source": [
        "import os\n",
        "# Directory where the image will be saved\n",
        "ori_dir_img = \"ori-image\"\n",
        "\n",
        "# Create the ori_dir_img if it doesn't exist\n",
        "if not os.path.exists(ori_dir_img):\n",
        "    os.makedirs(ori_dir_img)\n",
        "\n",
        "stego_dir_img = \"stego-image\"\n",
        "\n",
        "# Create the stego_dir_img if it doesn't exist\n",
        "if not os.path.exists(stego_dir_img):\n",
        "    os.makedirs(stego_dir_img)"
      ],
      "metadata": {
        "id": "xgmPUjBmLG4I"
      },
      "execution_count": 45,
      "outputs": []
    },
    {
      "cell_type": "markdown",
      "source": [
        "## Lena Image"
      ],
      "metadata": {
        "id": "XoFySoMpKn-8"
      }
    },
    {
      "cell_type": "code",
      "source": [
        "import requests\n",
        "from PIL import Image\n",
        "import io\n",
        "\n",
        "# URL to the raw image file\n",
        "url = \"https://raw.githubusercontent.com/mikolalysenko/lena/master/lena.png\"\n",
        "\n",
        "# Download the image\n",
        "response = requests.get(url)\n",
        "if response.status_code == 200:\n",
        "    # Load the image using PIL\n",
        "    lena_image = Image.open(io.BytesIO(response.content))\n",
        "    lena_image.show()  # Display the image (optional)\n",
        "    lena_image.save(\"ori-image/lena.png\")  # Save the image locally\n",
        "else:\n",
        "    print(\"Failed to download the image.\")"
      ],
      "metadata": {
        "id": "Vm1GbtSjKnZc"
      },
      "execution_count": 46,
      "outputs": []
    },
    {
      "cell_type": "code",
      "source": [
        "LENA_IMG = 'ori-image/lena.png'\n",
        "\n",
        "if not os.path.exists(LENA_IMG):\n",
        "    raise FileNotFoundError(f\"Image not found at {LENA_IMG}\")"
      ],
      "metadata": {
        "id": "jWx68sfbLyv3"
      },
      "execution_count": 47,
      "outputs": []
    },
    {
      "cell_type": "markdown",
      "source": [
        "# LSB Only"
      ],
      "metadata": {
        "id": "JlpuiAZPLM0u"
      }
    },
    {
      "cell_type": "code",
      "source": [
        "CONTENT = \"3348610401970005#christofer*derian*budianto#tegal#1997-03-04#laki-laki#b#jl.*pala*22*no.*30#005#017#mejasem*tengah#kramat#katholik#belum*kawin#pelajar/mahasiswa#wni#seumur*hidup\"\n",
        "\n",
        "embed_lsb(\"lsb_only.png\", CONTENT)"
      ],
      "metadata": {
        "id": "DqJ3X0iJLQp9"
      },
      "execution_count": 85,
      "outputs": []
    },
    {
      "cell_type": "code",
      "source": [
        "extract_lsb(\"lsb_only.png\")"
      ],
      "metadata": {
        "colab": {
          "base_uri": "https://localhost:8080/",
          "height": 53
        },
        "id": "wLVxsKz2LVFH",
        "outputId": "82fcc4b0-d680-4101-c40b-b289ec1d9a9e"
      },
      "execution_count": 86,
      "outputs": [
        {
          "output_type": "stream",
          "name": "stdout",
          "text": [
            "3348610401970005#christofer*derian*budianto#tegal#1997-03-04#laki-laki#b#jl.*pala*22*no.*30#005#017#mejasem*tengah#kramat#katholik#belum*kawin#pelajar/mahasiswa#wni#seumur*hidup\n"
          ]
        },
        {
          "output_type": "execute_result",
          "data": {
            "text/plain": [
              "'3348610401970005#christofer*derian*budianto#tegal#1997-03-04#laki-laki#b#jl.*pala*22*no.*30#005#017#mejasem*tengah#kramat#katholik#belum*kawin#pelajar/mahasiswa#wni#seumur*hidup'"
            ],
            "application/vnd.google.colaboratory.intrinsic+json": {
              "type": "string"
            }
          },
          "metadata": {},
          "execution_count": 86
        }
      ]
    },
    {
      "cell_type": "code",
      "source": [
        "calculate_psnr_2(\"lsb_only.png\")"
      ],
      "metadata": {
        "colab": {
          "base_uri": "https://localhost:8080/"
        },
        "id": "BygPpMo1MwdC",
        "outputId": "4415978e-faa3-4467-cd96-5481a66b7d51"
      },
      "execution_count": 87,
      "outputs": [
        {
          "output_type": "stream",
          "name": "stdout",
          "text": [
            "PSNR: 78.57483188820159\n"
          ]
        },
        {
          "output_type": "execute_result",
          "data": {
            "text/plain": [
              "78.57483188820159"
            ]
          },
          "metadata": {},
          "execution_count": 87
        }
      ]
    },
    {
      "cell_type": "markdown",
      "source": [
        "# LSB with ECC"
      ],
      "metadata": {
        "id": "k6YYZo7CP2Cz"
      }
    },
    {
      "cell_type": "code",
      "source": [
        "from ecies.utils import generate_eth_key\n",
        "from ecies import encrypt, decrypt\n",
        "\n",
        "private_key = generate_eth_key()\n",
        "public_key = private_key.public_key\n",
        "\n",
        "public_key_hex = public_key.to_hex()\n",
        "private_key_hex = private_key.to_hex()\n",
        "\n",
        "print(\"Public Key:\", public_key_hex)\n",
        "print(\"Private Key:\", private_key_hex)\n",
        "\n",
        "ciphertext = encrypt(public_key_hex, CONTENT.encode())\n",
        "\n",
        "print(\"Ciphertext:\", ciphertext.hex())\n",
        "\n",
        "decrypted_message = decrypt(private_key_hex, ciphertext)\n",
        "print(\"Decrypted Message:\", decrypted_message.decode())"
      ],
      "metadata": {
        "colab": {
          "base_uri": "https://localhost:8080/"
        },
        "id": "46ExE0UqNoqE",
        "outputId": "ee4cb322-77fe-4b82-ea6b-8f43271eeb24"
      },
      "execution_count": 93,
      "outputs": [
        {
          "output_type": "stream",
          "name": "stdout",
          "text": [
            "Public Key: 0x68bf17893f3e43df538fbcc1d03cfff542ea6ed4bd206c49d03fe5557570ec1dcbab9714b174524269e2de6054764340ef704ee00183d823c394840f12365006\n",
            "Private Key: 0x71ff1eacc7fb45e7ead8539cbdadd647cb8fb24f711d9db1277e60dc8af2800f\n",
            "Ciphertext: 04c940f89e4b2fb757056cc643161db1753c9d16fb614d0b7e4a77a6bbe3fccb57d4af9b218fc98cfb3d26ed98d64b285c6440609479eecdfbc87e21b6edbdead947d6f09a34961aa50f8ca6e726ff0a73844e16f67cdf8ccff1339ab76923d5678c7e004d8461d3af6bea7b89bf0fbfa5b2214aeb43b288919e7c565463bb677b02aeb2619763622a4707cbac1460e3b8d118b243890229f450991da0907dd4c8c28bc645078ce082748f90563ffb7f3c23d973c3a3f7ea957631fa249e5193fde71c2241a801ea6899c1a18caa27ec715a218ec9a6c77eff9c798bc2a5dba6f8444dff711fe5104afe27a30c0b8b2228266561794715cceaf186bc04d6b55e0cdf3557d28ce83d9907eeb97f4129874e45\n",
            "Decrypted Message: 3348610401970005#christofer*derian*budianto#tegal#1997-03-04#laki-laki#b#jl.*pala*22*no.*30#005#017#mejasem*tengah#kramat#katholik#belum*kawin#pelajar/mahasiswa#wni#seumur*hidup\n"
          ]
        }
      ]
    },
    {
      "cell_type": "code",
      "source": [
        "print(ciphertext)\n",
        "print(ciphertext.hex())"
      ],
      "metadata": {
        "colab": {
          "base_uri": "https://localhost:8080/"
        },
        "id": "Lm1s_yTBN6-a",
        "outputId": "911dfbc3-e655-4379-a83f-b873e10174d5"
      },
      "execution_count": 95,
      "outputs": [
        {
          "output_type": "stream",
          "name": "stdout",
          "text": [
            "b'\\x04\\xc9@\\xf8\\x9eK/\\xb7W\\x05l\\xc6C\\x16\\x1d\\xb1u<\\x9d\\x16\\xfbaM\\x0b~Jw\\xa6\\xbb\\xe3\\xfc\\xcbW\\xd4\\xaf\\x9b!\\x8f\\xc9\\x8c\\xfb=&\\xed\\x98\\xd6K(\\\\d@`\\x94y\\xee\\xcd\\xfb\\xc8~!\\xb6\\xed\\xbd\\xea\\xd9G\\xd6\\xf0\\x9a4\\x96\\x1a\\xa5\\x0f\\x8c\\xa6\\xe7&\\xff\\ns\\x84N\\x16\\xf6|\\xdf\\x8c\\xcf\\xf13\\x9a\\xb7i#\\xd5g\\x8c~\\x00M\\x84a\\xd3\\xafk\\xea{\\x89\\xbf\\x0f\\xbf\\xa5\\xb2!J\\xebC\\xb2\\x88\\x91\\x9e|VTc\\xbbg{\\x02\\xae\\xb2a\\x97cb*G\\x07\\xcb\\xac\\x14`\\xe3\\xb8\\xd1\\x18\\xb2C\\x89\\x02)\\xf4P\\x99\\x1d\\xa0\\x90}\\xd4\\xc8\\xc2\\x8b\\xc6E\\x07\\x8c\\xe0\\x82t\\x8f\\x90V?\\xfb\\x7f<#\\xd9s\\xc3\\xa3\\xf7\\xea\\x95v1\\xfa$\\x9eQ\\x93\\xfd\\xe7\\x1c\"A\\xa8\\x01\\xeah\\x99\\xc1\\xa1\\x8c\\xaa\\'\\xecqZ!\\x8e\\xc9\\xa6\\xc7~\\xff\\x9cy\\x8b\\xc2\\xa5\\xdb\\xa6\\xf8DM\\xffq\\x1f\\xe5\\x10J\\xfe\\'\\xa3\\x0c\\x0b\\x8b\"(&eayG\\x15\\xcc\\xea\\xf1\\x86\\xbc\\x04\\xd6\\xb5^\\x0c\\xdf5W\\xd2\\x8c\\xe8=\\x99\\x07\\xee\\xb9\\x7fA)\\x87NE'\n",
            "04c940f89e4b2fb757056cc643161db1753c9d16fb614d0b7e4a77a6bbe3fccb57d4af9b218fc98cfb3d26ed98d64b285c6440609479eecdfbc87e21b6edbdead947d6f09a34961aa50f8ca6e726ff0a73844e16f67cdf8ccff1339ab76923d5678c7e004d8461d3af6bea7b89bf0fbfa5b2214aeb43b288919e7c565463bb677b02aeb2619763622a4707cbac1460e3b8d118b243890229f450991da0907dd4c8c28bc645078ce082748f90563ffb7f3c23d973c3a3f7ea957631fa249e5193fde71c2241a801ea6899c1a18caa27ec715a218ec9a6c77eff9c798bc2a5dba6f8444dff711fe5104afe27a30c0b8b2228266561794715cceaf186bc04d6b55e0cdf3557d28ce83d9907eeb97f4129874e45\n"
          ]
        }
      ]
    },
    {
      "cell_type": "code",
      "source": [
        "embed_lsb(\"lsb_w_ECC.png\", ciphertext.hex())"
      ],
      "metadata": {
        "id": "DEuYKwuvRJnk"
      },
      "execution_count": 97,
      "outputs": []
    },
    {
      "cell_type": "code",
      "source": [
        "extract_lsb(\"lsb_w_ECC.png\")"
      ],
      "metadata": {
        "colab": {
          "base_uri": "https://localhost:8080/",
          "height": 70
        },
        "id": "Z5pt8a0nRYEe",
        "outputId": "e6c87cf4-0d85-4a80-88c0-a6f766e78c91"
      },
      "execution_count": 100,
      "outputs": [
        {
          "output_type": "execute_result",
          "data": {
            "text/plain": [
              "'04c940f89e4b2fb757056cc643161db1753c9d16fb614d0b7e4a77a6bbe3fccb57d4af9b218fc98cfb3d26ed98d64b285c6440609479eecdfbc87e21b6edbdead947d6f09a34961aa50f8ca6e726ff0a73844e16f67cdf8ccff1339ab76923d5678c7e004d8461d3af6bea7b89bf0fbfa5b2214aeb43b288919e7c565463bb677b02aeb2619763622a4707cbac1460e3b8d118b243890229f450991da0907dd4c8c28bc645078ce082748f90563ffb7f3c23d973c3a3f7ea957631fa249e5193fde71c2241a801ea6899c1a18caa27ec715a218ec9a6c77eff9c798bc2a5dba6f8444dff711fe5104afe27a30c0b8b2228266561794715cceaf186bc04d6b55e0cdf3557d28ce83d9907eeb97f4129874e45'"
            ],
            "application/vnd.google.colaboratory.intrinsic+json": {
              "type": "string"
            }
          },
          "metadata": {},
          "execution_count": 100
        }
      ]
    },
    {
      "cell_type": "code",
      "source": [
        "calculate_psnr_2(\"lsb_w_ECC.png\")"
      ],
      "metadata": {
        "colab": {
          "base_uri": "https://localhost:8080/"
        },
        "id": "hKsElAphRlF7",
        "outputId": "1a823cce-c9d7-45ff-96d4-e72259d2d000"
      },
      "execution_count": 101,
      "outputs": [
        {
          "output_type": "stream",
          "name": "stdout",
          "text": [
            "PSNR: 73.72682259672885\n"
          ]
        },
        {
          "output_type": "execute_result",
          "data": {
            "text/plain": [
              "73.72682259672885"
            ]
          },
          "metadata": {},
          "execution_count": 101
        }
      ]
    },
    {
      "cell_type": "markdown",
      "source": [
        "# LSB with LZW"
      ],
      "metadata": {
        "id": "3XBKCFK2Rys8"
      }
    },
    {
      "cell_type": "markdown",
      "source": [
        "## LZW"
      ],
      "metadata": {
        "id": "sAZx5BP6SEP-"
      }
    },
    {
      "cell_type": "code",
      "source": [
        "import math\n",
        "\n",
        "def lzw_compress(uncompressed):\n",
        "    \"\"\"Compress the string using LZW algorithm.\"\"\"\n",
        "    dict_size = 256\n",
        "    dictionary = {chr(i): i for i in range(dict_size)}\n",
        "\n",
        "    w = \"\"\n",
        "    compressed_data = []\n",
        "\n",
        "    for c in uncompressed:\n",
        "        wc = w + c\n",
        "        if wc in dictionary:\n",
        "            w = wc\n",
        "        else:\n",
        "            compressed_data.append(dictionary[w])\n",
        "            dictionary[wc] = dict_size\n",
        "            dict_size += 1\n",
        "            w = c\n",
        "\n",
        "    if w:\n",
        "        compressed_data.append(dictionary[w])\n",
        "\n",
        "    return compressed_data, dict_size\n",
        "\n",
        "def lzw_decompress(compressed):\n",
        "    \"\"\"Decompress the LZW compressed data.\"\"\"\n",
        "    dict_size = 256\n",
        "    dictionary = {i: chr(i) for i in range(dict_size)}\n",
        "\n",
        "    w = chr(compressed.pop(0))\n",
        "    decompressed_data = w\n",
        "\n",
        "    for k in compressed:\n",
        "        if k in dictionary:\n",
        "            entry = dictionary[k]\n",
        "        elif k == dict_size:\n",
        "            entry = w + w[0]\n",
        "        else:\n",
        "            raise ValueError(f\"Bad compressed k: {k} (dictionary size: {dict_size})\")\n",
        "\n",
        "        decompressed_data += entry\n",
        "        dictionary[dict_size] = w + entry[0]\n",
        "        dict_size += 1\n",
        "        w = entry\n",
        "\n",
        "    return decompressed_data\n",
        "\n",
        "# Function to calculate size in bytes or bits\n",
        "def calculate_size(data, dict_size=None):\n",
        "    if isinstance(data, str):\n",
        "        # Size in bytes and bits for string (1 byte = 8 bits for each character)\n",
        "        size_in_bytes = len(data.encode('utf-8'))\n",
        "        size_in_bits = size_in_bytes * 8\n",
        "        return size_in_bytes, size_in_bits  # Size in bytes and bits\n",
        "    elif isinstance(data, list):\n",
        "        # Calculate the bit size for compressed data (variable bit-length encoding)\n",
        "        if dict_size is None:\n",
        "            raise ValueError(\"Dictionary size needed for proper bit calculation!\")\n",
        "        bits_needed = math.ceil(math.log2(dict_size))  # Number of bits required\n",
        "        total_bits = len(data) * bits_needed\n",
        "        return total_bits // 8, total_bits  # Returns size in bytes and bits\n",
        "\n",
        "# Example usage:\n",
        "input_string = CONTENT\n",
        "print(f\"Original String: {input_string}\")\n",
        "\n",
        "# Compress the input string\n",
        "compressed, dict_size = lzw_compress(input_string)\n",
        "decompressed = lzw_decompress(compressed)\n",
        "\n",
        "# Sizes\n",
        "original_size_bytes, original_size_bits = calculate_size(input_string)  # Original size in bytes and bits\n",
        "compressed_size_bytes, compressed_size_bits = calculate_size(compressed, dict_size)  # Compressed size in bytes and bits\n",
        "decompressed_size_bytes, decompressed_size_bits = calculate_size(decompressed)  # Decompressed size in bytes and bits\n",
        "\n",
        "print(f\"\\nOriginal String Size: {original_size_bytes} bytes ({original_size_bits} bits)\")\n",
        "print(f\"Compressed Data Size: {compressed_size_bytes} bytes ({compressed_size_bits} bits)\")\n",
        "print(f\"Decompressed String Size: {decompressed_size_bytes} bytes ({decompressed_size_bits} bits)\")\n",
        "\n",
        "# Check if decompressed string matches the original string\n",
        "if decompressed == input_string:\n",
        "    print(\"Decompression was successful!\")\n",
        "    print()\n",
        "    print(f\"Decompressed String: {decompressed}\")\n",
        "else:\n",
        "    print(\"Decompression failed.\")"
      ],
      "metadata": {
        "colab": {
          "base_uri": "https://localhost:8080/"
        },
        "id": "9KoIePk5R_f4",
        "outputId": "183b9b4b-ba6f-40df-a2ec-2b758beadca5"
      },
      "execution_count": 132,
      "outputs": [
        {
          "output_type": "stream",
          "name": "stdout",
          "text": [
            "Original String: 3348610401970005#christofer*derian*budianto#tegal#1997-03-04#laki-laki#b#jl.*pala*22*no.*30#005#017#mejasem*tengah#kramat#katholik#belum*kawin#pelajar/mahasiswa#wni#seumur*hidup\n",
            "\n",
            "Original String Size: 177 bytes (1416 bits)\n",
            "Compressed Data Size: 166 bytes (1332 bits)\n",
            "Decompressed String Size: 177 bytes (1416 bits)\n",
            "Decompression was successful!\n",
            "\n",
            "Decompressed String: 3348610401970005#christofer*derian*budianto#tegal#1997-03-04#laki-laki#b#jl.*pala*22*no.*30#005#017#mejasem*tengah#kramat#katholik#belum*kawin#pelajar/mahasiswa#wni#seumur*hidup\n"
          ]
        }
      ]
    },
    {
      "cell_type": "code",
      "source": [
        "print(compressed)"
      ],
      "metadata": {
        "colab": {
          "base_uri": "https://localhost:8080/"
        },
        "id": "yYuAkNtOSa0Q",
        "outputId": "3883f899-8023-499b-d8ff-37e993eaa42c"
      },
      "execution_count": 140,
      "outputs": [
        {
          "output_type": "stream",
          "name": "stdout",
          "text": [
            "[56, 54, 49, 48, 52, 48, 49, 57, 55, 48, 268, 53, 35, 99, 104, 114, 105, 115, 116, 111, 102, 101, 114, 42, 100, 280, 105, 97, 110, 42, 98, 117, 100, 285, 110, 277, 35, 116, 101, 103, 97, 108, 35, 265, 266, 45, 48, 51, 304, 52, 35, 108, 97, 107, 105, 45, 310, 312, 35, 98, 35, 106, 108, 46, 42, 112, 299, 97, 42, 50, 50, 42, 110, 111, 322, 51, 48, 35, 269, 336, 49, 55, 35, 109, 101, 106, 97, 115, 101, 109, 42, 296, 110, 298, 104, 35, 107, 114, 97, 109, 97, 116, 354, 359, 104, 111, 108, 105, 107, 317, 101, 108, 117, 348, 107, 97, 119, 105, 110, 35, 112, 369, 97, 344, 114, 47, 358, 104, 345, 275, 119, 97, 35, 119, 110, 105, 35, 346, 371, 117, 281, 104, 105, 100, 117, 112]\n"
          ]
        }
      ]
    },
    {
      "cell_type": "code",
      "source": [
        "compressed_str = ','.join(map(str, compressed))\n",
        "\n",
        "compressed_str"
      ],
      "metadata": {
        "colab": {
          "base_uri": "https://localhost:8080/",
          "height": 70
        },
        "id": "3RglDfk6S_5G",
        "outputId": "6cad5093-61c9-48cb-8f67-55d2550d4aeb"
      },
      "execution_count": 119,
      "outputs": [
        {
          "output_type": "execute_result",
          "data": {
            "text/plain": [
              "'51,52,56,54,49,48,52,48,49,57,55,48,268,53,35,99,104,114,105,115,116,111,102,101,114,42,100,280,105,97,110,42,98,117,100,285,110,277,35,116,101,103,97,108,35,265,266,45,48,51,304,52,35,108,97,107,105,45,310,312,35,98,35,106,108,46,42,112,299,97,42,50,50,42,110,111,322,51,48,35,269,336,49,55,35,109,101,106,97,115,101,109,42,296,110,298,104,35,107,114,97,109,97,116,354,359,104,111,108,105,107,317,101,108,117,348,107,97,119,105,110,35,112,369,97,344,114,47,358,104,345,275,119,97,35,119,110,105,35,346,371,117,281,104,105,100,117,112'"
            ],
            "application/vnd.google.colaboratory.intrinsic+json": {
              "type": "string"
            }
          },
          "metadata": {},
          "execution_count": 119
        }
      ]
    },
    {
      "cell_type": "code",
      "source": [
        "embed_lsb(\"lsb_w_LZW.png\", compressed_str)"
      ],
      "metadata": {
        "id": "Gf2CieUvSmzS"
      },
      "execution_count": 120,
      "outputs": []
    },
    {
      "cell_type": "code",
      "source": [
        "extracted_lzw_from_lsb = extract_lsb(\"lsb_w_LZW.png\")\n",
        "extracted_lzw_from_lsb"
      ],
      "metadata": {
        "colab": {
          "base_uri": "https://localhost:8080/",
          "height": 70
        },
        "id": "3uOuEMheTHWH",
        "outputId": "c0ae9dde-c407-44ee-f14d-235c3134293f"
      },
      "execution_count": 121,
      "outputs": [
        {
          "output_type": "execute_result",
          "data": {
            "text/plain": [
              "'51,52,56,54,49,48,52,48,49,57,55,48,268,53,35,99,104,114,105,115,116,111,102,101,114,42,100,280,105,97,110,42,98,117,100,285,110,277,35,116,101,103,97,108,35,265,266,45,48,51,304,52,35,108,97,107,105,45,310,312,35,98,35,106,108,46,42,112,299,97,42,50,50,42,110,111,322,51,48,35,269,336,49,55,35,109,101,106,97,115,101,109,42,296,110,298,104,35,107,114,97,109,97,116,354,359,104,111,108,105,107,317,101,108,117,348,107,97,119,105,110,35,112,369,97,344,114,47,358,104,345,275,119,97,35,119,110,105,35,346,371,117,281,104,105,100,117,112'"
            ],
            "application/vnd.google.colaboratory.intrinsic+json": {
              "type": "string"
            }
          },
          "metadata": {},
          "execution_count": 121
        }
      ]
    },
    {
      "cell_type": "code",
      "source": [
        "calculate_psnr_2(\"lsb_w_LZW.png\")"
      ],
      "metadata": {
        "colab": {
          "base_uri": "https://localhost:8080/"
        },
        "id": "B8V4WZf5WPUc",
        "outputId": "996d92ae-f7ff-4c09-abae-3842a7358d5c"
      },
      "execution_count": 170,
      "outputs": [
        {
          "output_type": "stream",
          "name": "stdout",
          "text": [
            "PSNR: 73.77314241018492\n"
          ]
        },
        {
          "output_type": "execute_result",
          "data": {
            "text/plain": [
              "73.77314241018492"
            ]
          },
          "metadata": {},
          "execution_count": 170
        }
      ]
    },
    {
      "cell_type": "code",
      "source": [
        "extracted_compressed_data = list(map(int, extracted_lzw_from_lsb.split(',')))\n",
        "extracted_compressed_data"
      ],
      "metadata": {
        "colab": {
          "base_uri": "https://localhost:8080/"
        },
        "id": "gUGVfVTVTUd5",
        "outputId": "19bef226-dcfa-4dc1-ef1c-6626d602f226"
      },
      "execution_count": 151,
      "outputs": [
        {
          "output_type": "execute_result",
          "data": {
            "text/plain": [
              "[51,\n",
              " 52,\n",
              " 56,\n",
              " 54,\n",
              " 49,\n",
              " 48,\n",
              " 52,\n",
              " 48,\n",
              " 49,\n",
              " 57,\n",
              " 55,\n",
              " 48,\n",
              " 268,\n",
              " 53,\n",
              " 35,\n",
              " 99,\n",
              " 104,\n",
              " 114,\n",
              " 105,\n",
              " 115,\n",
              " 116,\n",
              " 111,\n",
              " 102,\n",
              " 101,\n",
              " 114,\n",
              " 42,\n",
              " 100,\n",
              " 280,\n",
              " 105,\n",
              " 97,\n",
              " 110,\n",
              " 42,\n",
              " 98,\n",
              " 117,\n",
              " 100,\n",
              " 285,\n",
              " 110,\n",
              " 277,\n",
              " 35,\n",
              " 116,\n",
              " 101,\n",
              " 103,\n",
              " 97,\n",
              " 108,\n",
              " 35,\n",
              " 265,\n",
              " 266,\n",
              " 45,\n",
              " 48,\n",
              " 51,\n",
              " 304,\n",
              " 52,\n",
              " 35,\n",
              " 108,\n",
              " 97,\n",
              " 107,\n",
              " 105,\n",
              " 45,\n",
              " 310,\n",
              " 312,\n",
              " 35,\n",
              " 98,\n",
              " 35,\n",
              " 106,\n",
              " 108,\n",
              " 46,\n",
              " 42,\n",
              " 112,\n",
              " 299,\n",
              " 97,\n",
              " 42,\n",
              " 50,\n",
              " 50,\n",
              " 42,\n",
              " 110,\n",
              " 111,\n",
              " 322,\n",
              " 51,\n",
              " 48,\n",
              " 35,\n",
              " 269,\n",
              " 336,\n",
              " 49,\n",
              " 55,\n",
              " 35,\n",
              " 109,\n",
              " 101,\n",
              " 106,\n",
              " 97,\n",
              " 115,\n",
              " 101,\n",
              " 109,\n",
              " 42,\n",
              " 296,\n",
              " 110,\n",
              " 298,\n",
              " 104,\n",
              " 35,\n",
              " 107,\n",
              " 114,\n",
              " 97,\n",
              " 109,\n",
              " 97,\n",
              " 116,\n",
              " 354,\n",
              " 359,\n",
              " 104,\n",
              " 111,\n",
              " 108,\n",
              " 105,\n",
              " 107,\n",
              " 317,\n",
              " 101,\n",
              " 108,\n",
              " 117,\n",
              " 348,\n",
              " 107,\n",
              " 97,\n",
              " 119,\n",
              " 105,\n",
              " 110,\n",
              " 35,\n",
              " 112,\n",
              " 369,\n",
              " 97,\n",
              " 344,\n",
              " 114,\n",
              " 47,\n",
              " 358,\n",
              " 104,\n",
              " 345,\n",
              " 275,\n",
              " 119,\n",
              " 97,\n",
              " 35,\n",
              " 119,\n",
              " 110,\n",
              " 105,\n",
              " 35,\n",
              " 346,\n",
              " 371,\n",
              " 117,\n",
              " 281,\n",
              " 104,\n",
              " 105,\n",
              " 100,\n",
              " 117,\n",
              " 112]"
            ]
          },
          "metadata": {},
          "execution_count": 151
        }
      ]
    },
    {
      "cell_type": "code",
      "source": [
        "decompressed = lzw_decompress(extracted_compressed_data)\n",
        "decompressed"
      ],
      "metadata": {
        "colab": {
          "base_uri": "https://localhost:8080/",
          "height": 280
        },
        "id": "VHlIiKpJTMYQ",
        "outputId": "caca75ad-578d-4ddf-94b8-03f289c678d1"
      },
      "execution_count": 155,
      "outputs": [
        {
          "output_type": "error",
          "ename": "ValueError",
          "evalue": "Bad compressed k: 268 (dictionary size: 267)",
          "traceback": [
            "\u001b[0;31m---------------------------------------------------------------------------\u001b[0m",
            "\u001b[0;31mValueError\u001b[0m                                Traceback (most recent call last)",
            "\u001b[0;32m<ipython-input-155-a6cf8c61b3b1>\u001b[0m in \u001b[0;36m<cell line: 1>\u001b[0;34m()\u001b[0m\n\u001b[0;32m----> 1\u001b[0;31m \u001b[0mdecompressed\u001b[0m \u001b[0;34m=\u001b[0m \u001b[0mlzw_decompress\u001b[0m\u001b[0;34m(\u001b[0m\u001b[0mextracted_compressed_data\u001b[0m\u001b[0;34m)\u001b[0m\u001b[0;34m\u001b[0m\u001b[0;34m\u001b[0m\u001b[0m\n\u001b[0m\u001b[1;32m      2\u001b[0m \u001b[0mdecompressed\u001b[0m\u001b[0;34m\u001b[0m\u001b[0;34m\u001b[0m\u001b[0m\n",
            "\u001b[0;32m<ipython-input-132-a13a7560a704>\u001b[0m in \u001b[0;36mlzw_decompress\u001b[0;34m(compressed)\u001b[0m\n\u001b[1;32m     38\u001b[0m             \u001b[0mentry\u001b[0m \u001b[0;34m=\u001b[0m \u001b[0mw\u001b[0m \u001b[0;34m+\u001b[0m \u001b[0mw\u001b[0m\u001b[0;34m[\u001b[0m\u001b[0;36m0\u001b[0m\u001b[0;34m]\u001b[0m\u001b[0;34m\u001b[0m\u001b[0;34m\u001b[0m\u001b[0m\n\u001b[1;32m     39\u001b[0m         \u001b[0;32melse\u001b[0m\u001b[0;34m:\u001b[0m\u001b[0;34m\u001b[0m\u001b[0;34m\u001b[0m\u001b[0m\n\u001b[0;32m---> 40\u001b[0;31m             \u001b[0;32mraise\u001b[0m \u001b[0mValueError\u001b[0m\u001b[0;34m(\u001b[0m\u001b[0;34mf\"Bad compressed k: {k} (dictionary size: {dict_size})\"\u001b[0m\u001b[0;34m)\u001b[0m\u001b[0;34m\u001b[0m\u001b[0;34m\u001b[0m\u001b[0m\n\u001b[0m\u001b[1;32m     41\u001b[0m \u001b[0;34m\u001b[0m\u001b[0m\n\u001b[1;32m     42\u001b[0m         \u001b[0mdecompressed_data\u001b[0m \u001b[0;34m+=\u001b[0m \u001b[0mentry\u001b[0m\u001b[0;34m\u001b[0m\u001b[0;34m\u001b[0m\u001b[0m\n",
            "\u001b[0;31mValueError\u001b[0m: Bad compressed k: 268 (dictionary size: 267)"
          ]
        }
      ]
    },
    {
      "cell_type": "markdown",
      "source": [
        "only decompress sequenced after compress"
      ],
      "metadata": {
        "id": "_eeLgN7BVZkt"
      }
    },
    {
      "cell_type": "markdown",
      "source": [
        "## LZW Package"
      ],
      "metadata": {
        "id": "_S6T9QEnVfxa"
      }
    },
    {
      "cell_type": "code",
      "source": [
        "!git clone https://github.com/joeatwork/python-lzw"
      ],
      "metadata": {
        "colab": {
          "base_uri": "https://localhost:8080/"
        },
        "id": "69_8i9pDVhmp",
        "outputId": "89bc3ebe-c5f0-4cb9-b62e-a7a85591f285"
      },
      "execution_count": 159,
      "outputs": [
        {
          "output_type": "stream",
          "name": "stdout",
          "text": [
            "fatal: destination path 'python-lzw' already exists and is not an empty directory.\n"
          ]
        }
      ]
    },
    {
      "cell_type": "code",
      "source": [
        "!cd /content/python-lzw && mv lzw/ /content/ && python setup.py install"
      ],
      "metadata": {
        "colab": {
          "base_uri": "https://localhost:8080/"
        },
        "id": "7nKf4VgMVzmv",
        "outputId": "cd603370-e75c-4496-9e81-f52ad89211dd"
      },
      "execution_count": 160,
      "outputs": [
        {
          "output_type": "stream",
          "name": "stdout",
          "text": [
            "running install\n",
            "/usr/local/lib/python3.10/dist-packages/setuptools/_distutils/cmd.py:66: SetuptoolsDeprecationWarning: setup.py install is deprecated.\n",
            "!!\n",
            "\n",
            "        ********************************************************************************\n",
            "        Please avoid running ``setup.py`` directly.\n",
            "        Instead, use pypa/build, pypa/installer or other\n",
            "        standards-based tools.\n",
            "\n",
            "        See https://blog.ganssle.io/articles/2021/10/setup-py-deprecated.html for details.\n",
            "        ********************************************************************************\n",
            "\n",
            "!!\n",
            "  self.initialize_options()\n",
            "/usr/local/lib/python3.10/dist-packages/setuptools/_distutils/cmd.py:66: EasyInstallDeprecationWarning: easy_install command is deprecated.\n",
            "!!\n",
            "\n",
            "        ********************************************************************************\n",
            "        Please avoid running ``setup.py`` and ``easy_install``.\n",
            "        Instead, use pypa/build, pypa/installer or other\n",
            "        standards-based tools.\n",
            "\n",
            "        See https://github.com/pypa/setuptools/issues/917 for details.\n",
            "        ********************************************************************************\n",
            "\n",
            "!!\n",
            "  self.initialize_options()\n",
            "running bdist_egg\n",
            "running egg_info\n",
            "creating lzw.egg-info\n",
            "writing lzw.egg-info/PKG-INFO\n",
            "writing dependency_links to lzw.egg-info/dependency_links.txt\n",
            "writing requirements to lzw.egg-info/requires.txt\n",
            "writing top-level names to lzw.egg-info/top_level.txt\n",
            "writing manifest file 'lzw.egg-info/SOURCES.txt'\n",
            "file lzw.py (for module lzw) not found\n",
            "error: package directory 'lzw' does not exist\n"
          ]
        }
      ]
    },
    {
      "cell_type": "code",
      "source": [
        "import lzw\n",
        "\n",
        "# Example text to compress (can be any string)\n",
        "original_text = CONTENT\n",
        "\n",
        "# Convert the original text into bytes (UTF-8 encoding)\n",
        "original_bytes = original_text.encode('utf-8')\n",
        "\n",
        "# Part 1: Compression (in-memory)\n",
        "compressed = lzw.compress(original_bytes)\n",
        "\n",
        "# Convert compressed generator to a list to see its contents\n",
        "compressed_list = list(compressed)\n",
        "\n",
        "# Part 2: Decompression (in-memory)\n",
        "decompressed_chunks = lzw.decompress(compressed_list)\n",
        "\n",
        "# Join the decompressed chunks into a single byte string\n",
        "decompressed_bytes = b\"\".join(decompressed_chunks)\n",
        "\n",
        "# Convert decompressed bytes back to a string\n",
        "decompressed_text = decompressed_bytes.decode('utf-8')\n",
        "\n",
        "# Print each variable\n",
        "print(\"Original Text (String):\", original_text)\n",
        "print(\"Original Bytes:\", original_bytes)\n",
        "print(\"Compressed List (Byte Chunks):\", compressed_list)\n",
        "print(\"Decompressed Bytes:\", decompressed_bytes)\n",
        "print(\"Decompressed Text (String):\", decompressed_text)\n",
        "\n",
        "# Part 3: Print sizes and results for comparison\n",
        "original_size = len(original_bytes)\n",
        "compressed_size = len(b\"\".join(compressed_list))  # Join to get compressed byte size\n",
        "decompressed_size = len(decompressed_bytes)\n",
        "\n",
        "# Print the sizes in bytes\n",
        "print(f\"\\nOriginal size: {original_size} bytes\")\n",
        "print(f\"Compressed size: {compressed_size} bytes\")\n",
        "print(f\"Decompressed size: {decompressed_size} bytes\")\n",
        "\n",
        "# Check if decompression was successful\n",
        "if decompressed_text == original_text:\n",
        "    print(\"Decompression was successful!\")\n",
        "else:\n",
        "    print(\"Decompression failed.\")"
      ],
      "metadata": {
        "colab": {
          "base_uri": "https://localhost:8080/"
        },
        "id": "7bMYqpq9VofO",
        "outputId": "4d8c6a29-a670-46f3-9c14-6da1469250a1"
      },
      "execution_count": 161,
      "outputs": [
        {
          "output_type": "stream",
          "name": "stdout",
          "text": [
            "Original Text (String): 3348610401970005#christofer*derian*budianto#tegal#1997-03-04#laki-laki#b#jl.*pala*22*no.*30#005#017#mejasem*tengah#kramat#katholik#belum*kawin#pelajar/mahasiswa#wni#seumur*hidup\n",
            "Original Bytes: b'3348610401970005#christofer*derian*budianto#tegal#1997-03-04#laki-laki#b#jl.*pala*22*no.*30#005#017#mejasem*tengah#kramat#katholik#belum*kawin#pelajar/mahasiswa#wni#seumur*hidup'\n",
            "Compressed List (Byte Chunks): [b'\\x19', b'\\x8c', b'\\xc6', b'\\x83', b'\\x81', b'\\xb0', b'\\xc4', b'`', b'4', b'\\x18', b'\\x0c', b'G', b'#', b'q', b'\\x84', b'8', b'j', b'#', b'1', b'\\x9a', b'\\x0e', b'F', b'\\x93', b'\\x99', b'\\xd0', b'\\xde', b'f', b'2', b'\\x9c', b'\\x85', b'F', b'H', b'\\xd1', b'\\xa4', b'\\xc2', b'n', b'\\x15', b'\\x18', b'\\x8e', b'\\xa6', b'H', b'\\xf9', b'\\xba', b'.', b'#', b':', b'\\x19', b'L', b'\\xe6', b'\\x13', b'`', b'\\x8e', b'\\x17', b'\\x0c', b'\\x16', b'\\x8c', b'\\x06', b's', b'!', b'\\xa0', b'\\x8c', b'\\xd8', b'a', b'5', b'\\x9a', b'E', b'\\xb3', b'\\x89', b'\\xd0', b'\\x8c', b'\\xc4', b'#', b'5', b'\\x1b', b'\\x05', b'\\xc2', b'\\xa3', b'\\x84', b'\\xb4', b'\\xc2', b'*', b'\\x19', b'\\x0c', b'\\x85', b'F', b'\\xe3', b'}', b'\\x10', b'f', b'0', b'\\x11', b'\\xc3', b'\\xea', b'C', b'\\x11', b'\\xb8', b'\\x8c', b'\\xda', b'e', b'5', b'\\x18', b'N', b'f', b'S', b'h', b'\\xaa', b'T', b'n', b'\\x96', b'\\x1a', b'\\x04', b'f', b'\\xb3', b'\\x91', b'\\x84', b'\\xda', b'a', b':', b'Y', b'-', b'&', b'\\x83', b'y', b'\\xb0', b'\\xd2', b'k', b'\\x9f', b'\\x99', b'M', b'\\x87', b'Z', b'\\xf1', b'\\xac', b'\\xc2', b'w', b'4', b'\\x9b', b'\\x84', b'g', b'\\x0b', b'\\x99', b'\\x86', b'\\xb4', b'r', b'\\x17', b'\\xda', b'\\r', b'\\x15', b'\\xb8', b'\\xa9', b'\\xdc', b'\\xc2', b'#', b';', b'\\x9b', b'\\x8d', b'\"', b':', b'\\xe5', b'\\xd4', b'\\xeb', b'\\x1b', b'4', b'\\x1a', b'L', b'\\x87', b'S', b'\\x84', b'\\x00']\n",
            "Decompressed Bytes: b'3348610401970005#christofer*derian*budianto#tegal#1997-03-04#laki-laki#b#jl.*pala*22*no.*30#005#017#mejasem*tengah#kramat#katholik#belum*kawin#pelajar/mahasiswa#wni#seumur*hidup'\n",
            "Decompressed Text (String): 3348610401970005#christofer*derian*budianto#tegal#1997-03-04#laki-laki#b#jl.*pala*22*no.*30#005#017#mejasem*tengah#kramat#katholik#belum*kawin#pelajar/mahasiswa#wni#seumur*hidup\n",
            "\n",
            "Original size: 177 bytes\n",
            "Compressed size: 169 bytes\n",
            "Decompressed size: 177 bytes\n",
            "Decompression was successful!\n"
          ]
        }
      ]
    },
    {
      "cell_type": "code",
      "source": [
        "compressed"
      ],
      "metadata": {
        "colab": {
          "base_uri": "https://localhost:8080/"
        },
        "id": "UWMorW3TWoPe",
        "outputId": "959074d6-37f1-493e-bf02-75dfb0de3b1c"
      },
      "execution_count": 176,
      "outputs": [
        {
          "output_type": "execute_result",
          "data": {
            "text/plain": [
              "<generator object BitPacker.pack at 0x7f2dce3b7300>"
            ]
          },
          "metadata": {},
          "execution_count": 176
        }
      ]
    },
    {
      "cell_type": "code",
      "source": [
        "compressed_list"
      ],
      "metadata": {
        "colab": {
          "base_uri": "https://localhost:8080/"
        },
        "id": "G-oNzR9uV3zn",
        "outputId": "382657a8-ed49-474c-e6f9-7adad653d2dd"
      },
      "execution_count": 166,
      "outputs": [
        {
          "output_type": "execute_result",
          "data": {
            "text/plain": [
              "[b'\\x19',\n",
              " b'\\x8c',\n",
              " b'\\xc6',\n",
              " b'\\x83',\n",
              " b'\\x81',\n",
              " b'\\xb0',\n",
              " b'\\xc4',\n",
              " b'`',\n",
              " b'4',\n",
              " b'\\x18',\n",
              " b'\\x0c',\n",
              " b'G',\n",
              " b'#',\n",
              " b'q',\n",
              " b'\\x84',\n",
              " b'8',\n",
              " b'j',\n",
              " b'#',\n",
              " b'1',\n",
              " b'\\x9a',\n",
              " b'\\x0e',\n",
              " b'F',\n",
              " b'\\x93',\n",
              " b'\\x99',\n",
              " b'\\xd0',\n",
              " b'\\xde',\n",
              " b'f',\n",
              " b'2',\n",
              " b'\\x9c',\n",
              " b'\\x85',\n",
              " b'F',\n",
              " b'H',\n",
              " b'\\xd1',\n",
              " b'\\xa4',\n",
              " b'\\xc2',\n",
              " b'n',\n",
              " b'\\x15',\n",
              " b'\\x18',\n",
              " b'\\x8e',\n",
              " b'\\xa6',\n",
              " b'H',\n",
              " b'\\xf9',\n",
              " b'\\xba',\n",
              " b'.',\n",
              " b'#',\n",
              " b':',\n",
              " b'\\x19',\n",
              " b'L',\n",
              " b'\\xe6',\n",
              " b'\\x13',\n",
              " b'`',\n",
              " b'\\x8e',\n",
              " b'\\x17',\n",
              " b'\\x0c',\n",
              " b'\\x16',\n",
              " b'\\x8c',\n",
              " b'\\x06',\n",
              " b's',\n",
              " b'!',\n",
              " b'\\xa0',\n",
              " b'\\x8c',\n",
              " b'\\xd8',\n",
              " b'a',\n",
              " b'5',\n",
              " b'\\x9a',\n",
              " b'E',\n",
              " b'\\xb3',\n",
              " b'\\x89',\n",
              " b'\\xd0',\n",
              " b'\\x8c',\n",
              " b'\\xc4',\n",
              " b'#',\n",
              " b'5',\n",
              " b'\\x1b',\n",
              " b'\\x05',\n",
              " b'\\xc2',\n",
              " b'\\xa3',\n",
              " b'\\x84',\n",
              " b'\\xb4',\n",
              " b'\\xc2',\n",
              " b'*',\n",
              " b'\\x19',\n",
              " b'\\x0c',\n",
              " b'\\x85',\n",
              " b'F',\n",
              " b'\\xe3',\n",
              " b'}',\n",
              " b'\\x10',\n",
              " b'f',\n",
              " b'0',\n",
              " b'\\x11',\n",
              " b'\\xc3',\n",
              " b'\\xea',\n",
              " b'C',\n",
              " b'\\x11',\n",
              " b'\\xb8',\n",
              " b'\\x8c',\n",
              " b'\\xda',\n",
              " b'e',\n",
              " b'5',\n",
              " b'\\x18',\n",
              " b'N',\n",
              " b'f',\n",
              " b'S',\n",
              " b'h',\n",
              " b'\\xaa',\n",
              " b'T',\n",
              " b'n',\n",
              " b'\\x96',\n",
              " b'\\x1a',\n",
              " b'\\x04',\n",
              " b'f',\n",
              " b'\\xb3',\n",
              " b'\\x91',\n",
              " b'\\x84',\n",
              " b'\\xda',\n",
              " b'a',\n",
              " b':',\n",
              " b'Y',\n",
              " b'-',\n",
              " b'&',\n",
              " b'\\x83',\n",
              " b'y',\n",
              " b'\\xb0',\n",
              " b'\\xd2',\n",
              " b'k',\n",
              " b'\\x9f',\n",
              " b'\\x99',\n",
              " b'M',\n",
              " b'\\x87',\n",
              " b'Z',\n",
              " b'\\xf1',\n",
              " b'\\xac',\n",
              " b'\\xc2',\n",
              " b'w',\n",
              " b'4',\n",
              " b'\\x9b',\n",
              " b'\\x84',\n",
              " b'g',\n",
              " b'\\x0b',\n",
              " b'\\x99',\n",
              " b'\\x86',\n",
              " b'\\xb4',\n",
              " b'r',\n",
              " b'\\x17',\n",
              " b'\\xda',\n",
              " b'\\r',\n",
              " b'\\x15',\n",
              " b'\\xb8',\n",
              " b'\\xa9',\n",
              " b'\\xdc',\n",
              " b'\\xc2',\n",
              " b'#',\n",
              " b';',\n",
              " b'\\x9b',\n",
              " b'\\x8d',\n",
              " b'\"',\n",
              " b':',\n",
              " b'\\xe5',\n",
              " b'\\xd4',\n",
              " b'\\xeb',\n",
              " b'\\x1b',\n",
              " b'4',\n",
              " b'\\x1a',\n",
              " b'L',\n",
              " b'\\x87',\n",
              " b'S',\n",
              " b'\\x84',\n",
              " b'\\x00']"
            ]
          },
          "metadata": {},
          "execution_count": 166
        }
      ]
    },
    {
      "cell_type": "code",
      "source": [
        "type(compressed_list)"
      ],
      "metadata": {
        "colab": {
          "base_uri": "https://localhost:8080/"
        },
        "id": "YIrtiKqJXFyp",
        "outputId": "da95811c-27c3-4653-8ce6-cf071bdbaa04"
      },
      "execution_count": 182,
      "outputs": [
        {
          "output_type": "execute_result",
          "data": {
            "text/plain": [
              "list"
            ]
          },
          "metadata": {},
          "execution_count": 182
        }
      ]
    },
    {
      "cell_type": "code",
      "source": [
        "embed_lsb(\"lsb_w_LZW_package.png\", compressed_list)"
      ],
      "metadata": {
        "id": "a32kV9LKWD6R"
      },
      "execution_count": 177,
      "outputs": []
    },
    {
      "cell_type": "code",
      "source": [
        "extracted_data = extract_lsb(\"lsb_w_LZW_package.png\")\n",
        "extracted_data"
      ],
      "metadata": {
        "colab": {
          "base_uri": "https://localhost:8080/",
          "height": 53
        },
        "id": "H09aVjtkWGtg",
        "outputId": "f36e57d9-1f31-412b-d8f6-29fea73673ff"
      },
      "execution_count": 178,
      "outputs": [
        {
          "output_type": "execute_result",
          "data": {
            "text/plain": [
              "'\\x19\\x8cÆ\\x83\\x81°Ä`4\\x18\\x0cG#q\\x848j#1\\x9a\\x0eF\\x93\\x99ÐÞf2\\x9c\\x85FHÑ¤Ân\\x15\\x18\\x8e¦Hùº.#:\\x19Læ\\x13`\\x8e\\x17\\x0c\\x16\\x8c\\x06s!\\xa0\\x8cØa5\\x9aE³\\x89Ð\\x8cÄ#5\\x1b\\x05Â£\\x84´Â*\\x19\\x0c\\x85Fã}\\x10f0\\x11ÃêC\\x11¸\\x8cÚe5\\x18NfShªTn\\x96\\x1a\\x04f³\\x91\\x84Úa:Y-&\\x83y°Òk\\x9f\\x99M\\x87Zñ¬Âw4\\x9b\\x84g\\x0b\\x99\\x86´r\\x17Ú\\r\\x15¸©ÜÂ#;\\x9b\\x8d\":åÔë\\x1b4\\x1aL\\x87S\\x84\\x00'"
            ],
            "application/vnd.google.colaboratory.intrinsic+json": {
              "type": "string"
            }
          },
          "metadata": {},
          "execution_count": 178
        }
      ]
    },
    {
      "cell_type": "code",
      "source": [
        "output_list = [repr(byte.encode('latin1')) for byte in extracted_data]\n",
        "\n",
        "# Print in the requested format\n",
        "formatted_output = \"[\\n\" + \",\\n \".join(output_list) + \"\\n]\"\n",
        "\n",
        "print(formatted_output)"
      ],
      "metadata": {
        "colab": {
          "base_uri": "https://localhost:8080/"
        },
        "id": "N7muD9UjXYNx",
        "outputId": "0c2f011c-efd7-4dcc-c24f-e569cfbe2be0"
      },
      "execution_count": 183,
      "outputs": [
        {
          "output_type": "stream",
          "name": "stdout",
          "text": [
            "[\n",
            "b'\\x19',\n",
            " b'\\x8c',\n",
            " b'\\xc6',\n",
            " b'\\x83',\n",
            " b'\\x81',\n",
            " b'\\xb0',\n",
            " b'\\xc4',\n",
            " b'`',\n",
            " b'4',\n",
            " b'\\x18',\n",
            " b'\\x0c',\n",
            " b'G',\n",
            " b'#',\n",
            " b'q',\n",
            " b'\\x84',\n",
            " b'8',\n",
            " b'j',\n",
            " b'#',\n",
            " b'1',\n",
            " b'\\x9a',\n",
            " b'\\x0e',\n",
            " b'F',\n",
            " b'\\x93',\n",
            " b'\\x99',\n",
            " b'\\xd0',\n",
            " b'\\xde',\n",
            " b'f',\n",
            " b'2',\n",
            " b'\\x9c',\n",
            " b'\\x85',\n",
            " b'F',\n",
            " b'H',\n",
            " b'\\xd1',\n",
            " b'\\xa4',\n",
            " b'\\xc2',\n",
            " b'n',\n",
            " b'\\x15',\n",
            " b'\\x18',\n",
            " b'\\x8e',\n",
            " b'\\xa6',\n",
            " b'H',\n",
            " b'\\xf9',\n",
            " b'\\xba',\n",
            " b'.',\n",
            " b'#',\n",
            " b':',\n",
            " b'\\x19',\n",
            " b'L',\n",
            " b'\\xe6',\n",
            " b'\\x13',\n",
            " b'`',\n",
            " b'\\x8e',\n",
            " b'\\x17',\n",
            " b'\\x0c',\n",
            " b'\\x16',\n",
            " b'\\x8c',\n",
            " b'\\x06',\n",
            " b's',\n",
            " b'!',\n",
            " b'\\xa0',\n",
            " b'\\x8c',\n",
            " b'\\xd8',\n",
            " b'a',\n",
            " b'5',\n",
            " b'\\x9a',\n",
            " b'E',\n",
            " b'\\xb3',\n",
            " b'\\x89',\n",
            " b'\\xd0',\n",
            " b'\\x8c',\n",
            " b'\\xc4',\n",
            " b'#',\n",
            " b'5',\n",
            " b'\\x1b',\n",
            " b'\\x05',\n",
            " b'\\xc2',\n",
            " b'\\xa3',\n",
            " b'\\x84',\n",
            " b'\\xb4',\n",
            " b'\\xc2',\n",
            " b'*',\n",
            " b'\\x19',\n",
            " b'\\x0c',\n",
            " b'\\x85',\n",
            " b'F',\n",
            " b'\\xe3',\n",
            " b'}',\n",
            " b'\\x10',\n",
            " b'f',\n",
            " b'0',\n",
            " b'\\x11',\n",
            " b'\\xc3',\n",
            " b'\\xea',\n",
            " b'C',\n",
            " b'\\x11',\n",
            " b'\\xb8',\n",
            " b'\\x8c',\n",
            " b'\\xda',\n",
            " b'e',\n",
            " b'5',\n",
            " b'\\x18',\n",
            " b'N',\n",
            " b'f',\n",
            " b'S',\n",
            " b'h',\n",
            " b'\\xaa',\n",
            " b'T',\n",
            " b'n',\n",
            " b'\\x96',\n",
            " b'\\x1a',\n",
            " b'\\x04',\n",
            " b'f',\n",
            " b'\\xb3',\n",
            " b'\\x91',\n",
            " b'\\x84',\n",
            " b'\\xda',\n",
            " b'a',\n",
            " b':',\n",
            " b'Y',\n",
            " b'-',\n",
            " b'&',\n",
            " b'\\x83',\n",
            " b'y',\n",
            " b'\\xb0',\n",
            " b'\\xd2',\n",
            " b'k',\n",
            " b'\\x9f',\n",
            " b'\\x99',\n",
            " b'M',\n",
            " b'\\x87',\n",
            " b'Z',\n",
            " b'\\xf1',\n",
            " b'\\xac',\n",
            " b'\\xc2',\n",
            " b'w',\n",
            " b'4',\n",
            " b'\\x9b',\n",
            " b'\\x84',\n",
            " b'g',\n",
            " b'\\x0b',\n",
            " b'\\x99',\n",
            " b'\\x86',\n",
            " b'\\xb4',\n",
            " b'r',\n",
            " b'\\x17',\n",
            " b'\\xda',\n",
            " b'\\r',\n",
            " b'\\x15',\n",
            " b'\\xb8',\n",
            " b'\\xa9',\n",
            " b'\\xdc',\n",
            " b'\\xc2',\n",
            " b'#',\n",
            " b';',\n",
            " b'\\x9b',\n",
            " b'\\x8d',\n",
            " b'\"',\n",
            " b':',\n",
            " b'\\xe5',\n",
            " b'\\xd4',\n",
            " b'\\xeb',\n",
            " b'\\x1b',\n",
            " b'4',\n",
            " b'\\x1a',\n",
            " b'L',\n",
            " b'\\x87',\n",
            " b'S',\n",
            " b'\\x84',\n",
            " b'\\x00'\n",
            "]\n"
          ]
        }
      ]
    },
    {
      "cell_type": "code",
      "source": [
        "type(formatted_output)"
      ],
      "metadata": {
        "colab": {
          "base_uri": "https://localhost:8080/"
        },
        "id": "1yikICHmXf7G",
        "outputId": "9a0cff91-d32d-4e0b-9557-288a4ff153c9"
      },
      "execution_count": 185,
      "outputs": [
        {
          "output_type": "execute_result",
          "data": {
            "text/plain": [
              "str"
            ]
          },
          "metadata": {},
          "execution_count": 185
        }
      ]
    },
    {
      "cell_type": "code",
      "source": [
        "byte_list = [bytes([ord(char)]) for char in extracted_data]\n",
        "\n",
        "# Print the byte list in the required format\n",
        "print(byte_list)"
      ],
      "metadata": {
        "colab": {
          "base_uri": "https://localhost:8080/"
        },
        "id": "B6IECMfjXsA5",
        "outputId": "5c801898-96be-4ccd-957c-1cb59303439a"
      },
      "execution_count": 186,
      "outputs": [
        {
          "output_type": "stream",
          "name": "stdout",
          "text": [
            "[b'\\x19', b'\\x8c', b'\\xc6', b'\\x83', b'\\x81', b'\\xb0', b'\\xc4', b'`', b'4', b'\\x18', b'\\x0c', b'G', b'#', b'q', b'\\x84', b'8', b'j', b'#', b'1', b'\\x9a', b'\\x0e', b'F', b'\\x93', b'\\x99', b'\\xd0', b'\\xde', b'f', b'2', b'\\x9c', b'\\x85', b'F', b'H', b'\\xd1', b'\\xa4', b'\\xc2', b'n', b'\\x15', b'\\x18', b'\\x8e', b'\\xa6', b'H', b'\\xf9', b'\\xba', b'.', b'#', b':', b'\\x19', b'L', b'\\xe6', b'\\x13', b'`', b'\\x8e', b'\\x17', b'\\x0c', b'\\x16', b'\\x8c', b'\\x06', b's', b'!', b'\\xa0', b'\\x8c', b'\\xd8', b'a', b'5', b'\\x9a', b'E', b'\\xb3', b'\\x89', b'\\xd0', b'\\x8c', b'\\xc4', b'#', b'5', b'\\x1b', b'\\x05', b'\\xc2', b'\\xa3', b'\\x84', b'\\xb4', b'\\xc2', b'*', b'\\x19', b'\\x0c', b'\\x85', b'F', b'\\xe3', b'}', b'\\x10', b'f', b'0', b'\\x11', b'\\xc3', b'\\xea', b'C', b'\\x11', b'\\xb8', b'\\x8c', b'\\xda', b'e', b'5', b'\\x18', b'N', b'f', b'S', b'h', b'\\xaa', b'T', b'n', b'\\x96', b'\\x1a', b'\\x04', b'f', b'\\xb3', b'\\x91', b'\\x84', b'\\xda', b'a', b':', b'Y', b'-', b'&', b'\\x83', b'y', b'\\xb0', b'\\xd2', b'k', b'\\x9f', b'\\x99', b'M', b'\\x87', b'Z', b'\\xf1', b'\\xac', b'\\xc2', b'w', b'4', b'\\x9b', b'\\x84', b'g', b'\\x0b', b'\\x99', b'\\x86', b'\\xb4', b'r', b'\\x17', b'\\xda', b'\\r', b'\\x15', b'\\xb8', b'\\xa9', b'\\xdc', b'\\xc2', b'#', b';', b'\\x9b', b'\\x8d', b'\"', b':', b'\\xe5', b'\\xd4', b'\\xeb', b'\\x1b', b'4', b'\\x1a', b'L', b'\\x87', b'S', b'\\x84', b'\\x00']\n"
          ]
        }
      ]
    },
    {
      "cell_type": "code",
      "source": [
        "type(byte_list)"
      ],
      "metadata": {
        "colab": {
          "base_uri": "https://localhost:8080/"
        },
        "id": "sJthab17XxmC",
        "outputId": "b22b8486-e83c-4dee-c30e-3b53f9e887a8"
      },
      "execution_count": 188,
      "outputs": [
        {
          "output_type": "execute_result",
          "data": {
            "text/plain": [
              "list"
            ]
          },
          "metadata": {},
          "execution_count": 188
        }
      ]
    },
    {
      "cell_type": "code",
      "source": [
        "calculate_psnr_2(\"lsb_w_LZW_package.png\")"
      ],
      "metadata": {
        "colab": {
          "base_uri": "https://localhost:8080/"
        },
        "id": "-T530CqIWMv8",
        "outputId": "890828a5-ac42-4c2e-c3ed-bc8b1d15b8da"
      },
      "execution_count": 190,
      "outputs": [
        {
          "output_type": "stream",
          "name": "stdout",
          "text": [
            "PSNR: 78.72417421832482\n"
          ]
        },
        {
          "output_type": "execute_result",
          "data": {
            "text/plain": [
              "78.72417421832482"
            ]
          },
          "metadata": {},
          "execution_count": 190
        }
      ]
    },
    {
      "cell_type": "code",
      "source": [
        "# Part 2: Decompression (in-memory)\n",
        "decompressed_chunks = lzw.decompress(byte_list)\n",
        "\n",
        "# Join the decompressed chunks into a single byte string\n",
        "decompressed_bytes = b\"\".join(decompressed_chunks)\n",
        "\n",
        "# Convert decompressed bytes back to a string\n",
        "decompressed_text = decompressed_bytes.decode('utf-8')\n",
        "\n",
        "print(\"Decompressed Text (String):\", decompressed_text)"
      ],
      "metadata": {
        "colab": {
          "base_uri": "https://localhost:8080/"
        },
        "id": "4X5h-vVzWT3b",
        "outputId": "82a09b41-3af6-4635-de93-74ba83c6d1d2"
      },
      "execution_count": 189,
      "outputs": [
        {
          "output_type": "stream",
          "name": "stdout",
          "text": [
            "Decompressed Text (String): 3348610401970005#christofer*derian*budianto#tegal#1997-03-04#laki-laki#b#jl.*pala*22*no.*30#005#017#mejasem*tengah#kramat#katholik#belum*kawin#pelajar/mahasiswa#wni#seumur*hidup\n"
          ]
        }
      ]
    },
    {
      "cell_type": "markdown",
      "source": [
        "# LSB With Huffman Encoding"
      ],
      "metadata": {
        "id": "aWCWMb_oYNR-"
      }
    },
    {
      "cell_type": "code",
      "source": [
        "import heapq\n",
        "from collections import Counter\n",
        "\n",
        "# Class for Huffman Tree Nodes\n",
        "class HuffmanNode:\n",
        "    def __init__(self, char=None, freq=0, left=None, right=None):\n",
        "        self.char = char\n",
        "        self.freq = freq\n",
        "        self.left = left\n",
        "        self.right = right\n",
        "\n",
        "    def __lt__(self, other):\n",
        "        return self.freq < other.freq\n",
        "\n",
        "# Function to build the Huffman Tree\n",
        "def build_huffman_tree(frequency):\n",
        "    heap = [HuffmanNode(char, freq) for char, freq in frequency.items()]\n",
        "    heapq.heapify(heap)\n",
        "\n",
        "    while len(heap) > 1:\n",
        "        node1 = heapq.heappop(heap)\n",
        "        node2 = heapq.heappop(heap)\n",
        "        merged = HuffmanNode(freq=node1.freq + node2.freq, left=node1, right=node2)\n",
        "        heapq.heappush(heap, merged)\n",
        "\n",
        "    return heap[0]  # Return the root of the tree\n",
        "\n",
        "# Function to generate Huffman codes from the Huffman Tree\n",
        "def generate_huffman_codes(node, current_code=\"\", huffman_codes={}):\n",
        "    if node is None:\n",
        "        return\n",
        "\n",
        "    if node.char is not None:\n",
        "        huffman_codes[node.char] = current_code\n",
        "\n",
        "    generate_huffman_codes(node.left, current_code + \"0\", huffman_codes)\n",
        "    generate_huffman_codes(node.right, current_code + \"1\", huffman_codes)\n",
        "\n",
        "    return huffman_codes\n",
        "\n",
        "# Function to compress the data using Huffman Encoding\n",
        "def huffman_compress(data):\n",
        "    # Count the frequency of each byte\n",
        "    frequency = Counter(data)\n",
        "\n",
        "    # Build Huffman Tree\n",
        "    huffman_tree = build_huffman_tree(frequency)\n",
        "\n",
        "    # Generate Huffman Codes\n",
        "    huffman_codes = generate_huffman_codes(huffman_tree)\n",
        "\n",
        "    # Encode data into its binary representation\n",
        "    encoded_data = \"\".join(huffman_codes[byte] for byte in data)\n",
        "\n",
        "    # Pad the encoded data to make its length a multiple of 8\n",
        "    padding = 8 - len(encoded_data) % 8\n",
        "    encoded_data += \"0\" * padding\n",
        "    padding_info = \"{0:08b}\".format(padding)\n",
        "\n",
        "    # Convert binary data to bytes\n",
        "    compressed_data = bytearray()\n",
        "    compressed_data.append(int(padding_info, 2))  # First byte stores the padding information\n",
        "    for i in range(0, len(encoded_data), 8):\n",
        "        byte = encoded_data[i:i+8]\n",
        "        compressed_data.append(int(byte, 2))\n",
        "\n",
        "    return compressed_data, huffman_tree\n",
        "\n",
        "# Function to decompress the data using Huffman Encoding\n",
        "def huffman_decompress(compressed_data, huffman_tree):\n",
        "    # Convert the compressed data to binary string\n",
        "    encoded_data = \"\"\n",
        "    for byte in compressed_data[1:]:\n",
        "        encoded_data += \"{0:08b}\".format(byte)\n",
        "\n",
        "    # Get the padding information from the first byte\n",
        "    padding = compressed_data[0]\n",
        "    encoded_data = encoded_data[:-padding]  # Remove padding\n",
        "\n",
        "    # Traverse the Huffman tree to decode the binary string\n",
        "    decoded_data = bytearray()\n",
        "    node = huffman_tree\n",
        "    for bit in encoded_data:\n",
        "        if bit == \"0\":\n",
        "            node = node.left\n",
        "        else:\n",
        "            node = node.right\n",
        "\n",
        "        if node.left is None and node.right is None:  # Leaf node\n",
        "            decoded_data.append(node.char)\n",
        "            node = huffman_tree\n",
        "\n",
        "    return decoded_data\n",
        "\n",
        "\n",
        "# Example Usage of Huffman Compression/Decompression\n",
        "\n",
        "# Step 1: The original plaintext data (as a byte string)\n",
        "plaintext = CONTENT.encode()\n",
        "\n",
        "# Print the original data\n",
        "print(\"Original Data (as bytes):\", plaintext)\n",
        "print(\"Original Data (as string):\", plaintext.decode())\n",
        "\n",
        "# Step 2: Compress the plaintext data using Huffman encoding\n",
        "compressed_data, huffman_tree = huffman_compress(plaintext)\n",
        "print(\"Compressed Data (in bytes):\", compressed_data)\n",
        "\n",
        "# Step 3: Decompress the compressed data back to the original plaintext\n",
        "decompressed_data = huffman_decompress(compressed_data, huffman_tree)\n",
        "print(\"Decompressed Data (as bytes):\", decompressed_data)\n",
        "print(\"Decompressed Data (as string):\", decompressed_data.decode())\n",
        "\n",
        "# Step 4: Verify that the decompressed data matches the original data\n",
        "if decompressed_data == plaintext:\n",
        "    print(\"Decompression was successful!\")\n",
        "else:\n",
        "    print(\"Decompression failed.\")\n"
      ],
      "metadata": {
        "colab": {
          "base_uri": "https://localhost:8080/"
        },
        "id": "6BatRIQkYRFt",
        "outputId": "d0c47752-af3d-40ee-da9d-854e61a57779"
      },
      "execution_count": 192,
      "outputs": [
        {
          "output_type": "stream",
          "name": "stdout",
          "text": [
            "Original Data (as bytes): b'3348610401970005#christofer*derian*budianto#tegal#1997-03-04#laki-laki#b#jl.*pala*22*no.*30#005#017#mejasem*tengah#kramat#katholik#belum*kawin#pelajar/mahasiswa#wni#seumur*hidup'\n",
            "Original Data (as string): 3348610401970005#christofer*derian*budianto#tegal#1997-03-04#laki-laki#b#jl.*pala*22*no.*30#005#017#mejasem*tengah#kramat#katholik#belum*kawin#pelajar/mahasiswa#wni#seumur*hidup\n",
            "Compressed Data (in bytes): bytearray(b'\\x02\\xdfy>\\xa8\\x7f\\x12G\\xf7S\\x11\\x1e\\xfb\\xedYu\\xcf\\xc6)\\x91\\xd52\\xe6\\xc3\\xa3usi\\xf9\\xd3OD;\\xfb\\xae\\xa6\\xf8\\xde\\xf8\\x93\\x80\\xe1\\xef\\x03\\x87\\xed9\\x90\\xa2;\\x10#\\xf3\\xe0\\xdb\\xca#\\xbctG\\xbe\\x8f\\xe9\\xea\\xa3%iQ\\x9a[\\xd1Wc&\\xa6}\\x835x\\x0f\\x8e\\xd1\\x01\\xb5\\x1c\\x19^\\xdd\\xb2\\x01d\\xe5\\x85J\\x8a\\xddr\\x9e\\x96\\xcf\\xcbF\\xd5\\xb9\\x15>\\xad\\xd8')\n",
            "Decompressed Data (as bytes): bytearray(b'3348610401970005#christofer*derian*budianto#tegal#1997-03-04#laki-laki#b#jl.*pala*22*no.*30#005#017#mejasem*tengah#kramat#katholik#belum*kawin#pelajar/mahasiswa#wni#seumur*hidup')\n",
            "Decompressed Data (as string): 3348610401970005#christofer*derian*budianto#tegal#1997-03-04#laki-laki#b#jl.*pala*22*no.*30#005#017#mejasem*tengah#kramat#katholik#belum*kawin#pelajar/mahasiswa#wni#seumur*hidup\n",
            "Decompression was successful!\n"
          ]
        }
      ]
    },
    {
      "cell_type": "code",
      "source": [
        "compressed_data.hex()"
      ],
      "metadata": {
        "colab": {
          "base_uri": "https://localhost:8080/",
          "height": 53
        },
        "id": "yVPau7W6YXkm",
        "outputId": "b76c603d-e348-43a1-bc59-770401930832"
      },
      "execution_count": 196,
      "outputs": [
        {
          "output_type": "execute_result",
          "data": {
            "text/plain": [
              "'02df793ea87f1247f753111efbed5975cfc62991d532e6c3a3757369f9d34f443bfbaea6f8def89380e1ef0387ed3990a23b1023f3e0dbca23bc7447be8fe9eaa32569519a5bd1576326a67d8335780f8ed101b51c195eddb20164e5854a8add729e96cfcb46d5b9153eadd8'"
            ],
            "application/vnd.google.colaboratory.intrinsic+json": {
              "type": "string"
            }
          },
          "metadata": {},
          "execution_count": 196
        }
      ]
    },
    {
      "cell_type": "code",
      "source": [
        "embed_lsb(\"lsb_w_Huffman.png\", compressed_data.hex())"
      ],
      "metadata": {
        "id": "mYFi8F5PYYpZ"
      },
      "execution_count": 197,
      "outputs": []
    },
    {
      "cell_type": "code",
      "source": [
        "extracted_data = extract_lsb(\"lsb_w_Huffman.png\")\n",
        "extracted_data"
      ],
      "metadata": {
        "colab": {
          "base_uri": "https://localhost:8080/",
          "height": 53
        },
        "id": "zZh7v_G4YqtT",
        "outputId": "3df93472-48be-4edd-a7cb-04988dbab54c"
      },
      "execution_count": 198,
      "outputs": [
        {
          "output_type": "execute_result",
          "data": {
            "text/plain": [
              "'02df793ea87f1247f753111efbed5975cfc62991d532e6c3a3757369f9d34f443bfbaea6f8def89380e1ef0387ed3990a23b1023f3e0dbca23bc7447be8fe9eaa32569519a5bd1576326a67d8335780f8ed101b51c195eddb20164e5854a8add729e96cfcb46d5b9153eadd8'"
            ],
            "application/vnd.google.colaboratory.intrinsic+json": {
              "type": "string"
            }
          },
          "metadata": {},
          "execution_count": 198
        }
      ]
    },
    {
      "cell_type": "code",
      "source": [
        "calculate_psnr_2(\"lsb_w_Huffman.png\")"
      ],
      "metadata": {
        "colab": {
          "base_uri": "https://localhost:8080/"
        },
        "id": "vRrgWLCBYsDq",
        "outputId": "b8d68c22-ca44-45f8-e79d-2bbe3fece56e"
      },
      "execution_count": 199,
      "outputs": [
        {
          "output_type": "stream",
          "name": "stdout",
          "text": [
            "PSNR: 77.81371174500211\n"
          ]
        },
        {
          "output_type": "execute_result",
          "data": {
            "text/plain": [
              "77.81371174500211"
            ]
          },
          "metadata": {},
          "execution_count": 199
        }
      ]
    },
    {
      "cell_type": "code",
      "source": [
        "byte_array = bytearray.fromhex(extracted_data)\n",
        "\n",
        "# Print the bytearray\n",
        "print(byte_array)"
      ],
      "metadata": {
        "colab": {
          "base_uri": "https://localhost:8080/"
        },
        "id": "2lU9EnDeYvw-",
        "outputId": "c26c7789-d788-470a-b3f7-f61daa41b56a"
      },
      "execution_count": 201,
      "outputs": [
        {
          "output_type": "stream",
          "name": "stdout",
          "text": [
            "bytearray(b'\\x02\\xdfy>\\xa8\\x7f\\x12G\\xf7S\\x11\\x1e\\xfb\\xedYu\\xcf\\xc6)\\x91\\xd52\\xe6\\xc3\\xa3usi\\xf9\\xd3OD;\\xfb\\xae\\xa6\\xf8\\xde\\xf8\\x93\\x80\\xe1\\xef\\x03\\x87\\xed9\\x90\\xa2;\\x10#\\xf3\\xe0\\xdb\\xca#\\xbctG\\xbe\\x8f\\xe9\\xea\\xa3%iQ\\x9a[\\xd1Wc&\\xa6}\\x835x\\x0f\\x8e\\xd1\\x01\\xb5\\x1c\\x19^\\xdd\\xb2\\x01d\\xe5\\x85J\\x8a\\xddr\\x9e\\x96\\xcf\\xcbF\\xd5\\xb9\\x15>\\xad\\xd8')\n"
          ]
        }
      ]
    },
    {
      "cell_type": "code",
      "source": [
        "decompressed_data = huffman_decompress(byte_array, huffman_tree)\n",
        "print(\"Decompressed Data (as bytes):\", decompressed_data)"
      ],
      "metadata": {
        "colab": {
          "base_uri": "https://localhost:8080/"
        },
        "id": "BidLd0RXY3gH",
        "outputId": "b849a70a-6db3-4d4b-8391-dd26067684c7"
      },
      "execution_count": 202,
      "outputs": [
        {
          "output_type": "stream",
          "name": "stdout",
          "text": [
            "Decompressed Data (as bytes): bytearray(b'3348610401970005#christofer*derian*budianto#tegal#1997-03-04#laki-laki#b#jl.*pala*22*no.*30#005#017#mejasem*tengah#kramat#katholik#belum*kawin#pelajar/mahasiswa#wni#seumur*hidup')\n"
          ]
        }
      ]
    },
    {
      "cell_type": "code",
      "source": [
        "print(\"Decompressed Data (as string):\", decompressed_data.decode())"
      ],
      "metadata": {
        "colab": {
          "base_uri": "https://localhost:8080/"
        },
        "id": "oNhiWb4mZAMF",
        "outputId": "47d314ce-6463-4f0f-8b4d-7c41bf837325"
      },
      "execution_count": 203,
      "outputs": [
        {
          "output_type": "stream",
          "name": "stdout",
          "text": [
            "Decompressed Data (as string): 3348610401970005#christofer*derian*budianto#tegal#1997-03-04#laki-laki#b#jl.*pala*22*no.*30#005#017#mejasem*tengah#kramat#katholik#belum*kawin#pelajar/mahasiswa#wni#seumur*hidup\n"
          ]
        }
      ]
    }
  ]
}