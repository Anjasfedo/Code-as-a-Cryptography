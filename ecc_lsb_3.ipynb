{
  "cells": [
    {
      "cell_type": "markdown",
      "metadata": {
        "id": "view-in-github",
        "colab_type": "text"
      },
      "source": [
        "<a href=\"https://colab.research.google.com/github/Anjasfedo/Code-as-a-Cryptography/blob/main/ecc_lsb_3.ipynb\" target=\"_parent\"><img src=\"https://colab.research.google.com/assets/colab-badge.svg\" alt=\"Open In Colab\"/></a>"
      ]
    },
    {
      "cell_type": "markdown",
      "metadata": {
        "id": "8_gc0zD5KD3G"
      },
      "source": [
        "# ECC"
      ]
    },
    {
      "cell_type": "code",
      "execution_count": 1,
      "metadata": {
        "colab": {
          "base_uri": "https://localhost:8080/"
        },
        "id": "aLCcHInTJSmz",
        "outputId": "4494ad18-2c9e-4d5e-a800-70de1ba97f5e"
      },
      "outputs": [
        {
          "output_type": "stream",
          "name": "stdout",
          "text": [
            "Collecting eciespy\n",
            "  Downloading eciespy-0.4.2-py3-none-any.whl.metadata (6.6 kB)\n",
            "Collecting coincurve<20,>=13 (from eciespy)\n",
            "  Downloading coincurve-19.0.1-cp310-cp310-manylinux_2_17_x86_64.manylinux2014_x86_64.whl.metadata (3.7 kB)\n",
            "Collecting eth-keys<0.6,>=0.4 (from eciespy)\n",
            "  Downloading eth_keys-0.5.1-py3-none-any.whl.metadata (13 kB)\n",
            "Collecting pycryptodome<4.0.0,>=3.19.1 (from eciespy)\n",
            "  Downloading pycryptodome-3.20.0-cp35-abi3-manylinux_2_17_x86_64.manylinux2014_x86_64.whl.metadata (3.4 kB)\n",
            "Collecting asn1crypto (from coincurve<20,>=13->eciespy)\n",
            "  Downloading asn1crypto-1.5.1-py2.py3-none-any.whl.metadata (13 kB)\n",
            "Requirement already satisfied: cffi>=1.3.0 in /usr/local/lib/python3.10/dist-packages (from coincurve<20,>=13->eciespy) (1.17.1)\n",
            "Collecting eth-utils>=2 (from eth-keys<0.6,>=0.4->eciespy)\n",
            "  Downloading eth_utils-5.0.0-py3-none-any.whl.metadata (5.4 kB)\n",
            "Collecting eth-typing>=3 (from eth-keys<0.6,>=0.4->eciespy)\n",
            "  Downloading eth_typing-5.0.0-py3-none-any.whl.metadata (5.1 kB)\n",
            "Requirement already satisfied: pycparser in /usr/local/lib/python3.10/dist-packages (from cffi>=1.3.0->coincurve<20,>=13->eciespy) (2.22)\n",
            "Requirement already satisfied: typing-extensions>=4.5.0 in /usr/local/lib/python3.10/dist-packages (from eth-typing>=3->eth-keys<0.6,>=0.4->eciespy) (4.12.2)\n",
            "Collecting eth-hash>=0.3.1 (from eth-utils>=2->eth-keys<0.6,>=0.4->eciespy)\n",
            "  Downloading eth_hash-0.7.0-py3-none-any.whl.metadata (5.4 kB)\n",
            "Collecting hexbytes>=1.0.0 (from eth-utils>=2->eth-keys<0.6,>=0.4->eciespy)\n",
            "  Downloading hexbytes-1.2.1-py3-none-any.whl.metadata (3.7 kB)\n",
            "Collecting cytoolz>=0.10.1 (from eth-utils>=2->eth-keys<0.6,>=0.4->eciespy)\n",
            "  Downloading cytoolz-0.12.3-cp310-cp310-manylinux_2_17_x86_64.manylinux2014_x86_64.whl.metadata (4.6 kB)\n",
            "Requirement already satisfied: toolz>=0.8.0 in /usr/local/lib/python3.10/dist-packages (from cytoolz>=0.10.1->eth-utils>=2->eth-keys<0.6,>=0.4->eciespy) (0.12.1)\n",
            "Downloading eciespy-0.4.2-py3-none-any.whl (10 kB)\n",
            "Downloading coincurve-19.0.1-cp310-cp310-manylinux_2_17_x86_64.manylinux2014_x86_64.whl (1.4 MB)\n",
            "\u001b[2K   \u001b[90m━━━━━━━━━━━━━━━━━━━━━━━━━━━━━━━━━━━━━━━━\u001b[0m \u001b[32m1.4/1.4 MB\u001b[0m \u001b[31m14.5 MB/s\u001b[0m eta \u001b[36m0:00:00\u001b[0m\n",
            "\u001b[?25hDownloading eth_keys-0.5.1-py3-none-any.whl (21 kB)\n",
            "Downloading pycryptodome-3.20.0-cp35-abi3-manylinux_2_17_x86_64.manylinux2014_x86_64.whl (2.1 MB)\n",
            "\u001b[2K   \u001b[90m━━━━━━━━━━━━━━━━━━━━━━━━━━━━━━━━━━━━━━━━\u001b[0m \u001b[32m2.1/2.1 MB\u001b[0m \u001b[31m26.9 MB/s\u001b[0m eta \u001b[36m0:00:00\u001b[0m\n",
            "\u001b[?25hDownloading eth_typing-5.0.0-py3-none-any.whl (20 kB)\n",
            "Downloading eth_utils-5.0.0-py3-none-any.whl (100 kB)\n",
            "\u001b[2K   \u001b[90m━━━━━━━━━━━━━━━━━━━━━━━━━━━━━━━━━━━━━━━━\u001b[0m \u001b[32m100.5/100.5 kB\u001b[0m \u001b[31m3.0 MB/s\u001b[0m eta \u001b[36m0:00:00\u001b[0m\n",
            "\u001b[?25hDownloading asn1crypto-1.5.1-py2.py3-none-any.whl (105 kB)\n",
            "\u001b[2K   \u001b[90m━━━━━━━━━━━━━━━━━━━━━━━━━━━━━━━━━━━━━━━━\u001b[0m \u001b[32m105.0/105.0 kB\u001b[0m \u001b[31m2.7 MB/s\u001b[0m eta \u001b[36m0:00:00\u001b[0m\n",
            "\u001b[?25hDownloading cytoolz-0.12.3-cp310-cp310-manylinux_2_17_x86_64.manylinux2014_x86_64.whl (2.0 MB)\n",
            "\u001b[2K   \u001b[90m━━━━━━━━━━━━━━━━━━━━━━━━━━━━━━━━━━━━━━━━\u001b[0m \u001b[32m2.0/2.0 MB\u001b[0m \u001b[31m17.6 MB/s\u001b[0m eta \u001b[36m0:00:00\u001b[0m\n",
            "\u001b[?25hDownloading eth_hash-0.7.0-py3-none-any.whl (8.7 kB)\n",
            "Downloading hexbytes-1.2.1-py3-none-any.whl (5.2 kB)\n",
            "Installing collected packages: asn1crypto, pycryptodome, hexbytes, eth-typing, eth-hash, cytoolz, eth-utils, coincurve, eth-keys, eciespy\n",
            "Successfully installed asn1crypto-1.5.1 coincurve-19.0.1 cytoolz-0.12.3 eciespy-0.4.2 eth-hash-0.7.0 eth-keys-0.5.1 eth-typing-5.0.0 eth-utils-5.0.0 hexbytes-1.2.1 pycryptodome-3.20.0\n"
          ]
        }
      ],
      "source": [
        "!pip install eciespy"
      ]
    },
    {
      "cell_type": "markdown",
      "metadata": {
        "id": "X90K2eYDKKzn"
      },
      "source": [
        "# LSB"
      ]
    },
    {
      "cell_type": "code",
      "execution_count": 2,
      "metadata": {
        "colab": {
          "base_uri": "https://localhost:8080/"
        },
        "id": "AGn3QhzXKKEX",
        "outputId": "d117cb25-cc15-47f0-d7d2-ae0268c81c53"
      },
      "outputs": [
        {
          "output_type": "stream",
          "name": "stdout",
          "text": [
            "Cloning into 'LSB-Steganography'...\n",
            "remote: Enumerating objects: 75, done.\u001b[K\n",
            "remote: Counting objects: 100% (7/7), done.\u001b[K\n",
            "remote: Compressing objects: 100% (7/7), done.\u001b[K\n",
            "remote: Total 75 (delta 1), reused 2 (delta 0), pack-reused 68 (from 1)\u001b[K\n",
            "Receiving objects: 100% (75/75), 19.72 KiB | 9.86 MiB/s, done.\n",
            "Resolving deltas: 100% (26/26), done.\n",
            "LICENCE  LSBSteg.py  README.md\trequirements.txt\n",
            "Requirement already satisfied: opencv-python in /usr/local/lib/python3.10/dist-packages (from -r requirements.txt (line 1)) (4.10.0.84)\n",
            "Collecting docopt (from -r requirements.txt (line 2))\n",
            "  Downloading docopt-0.6.2.tar.gz (25 kB)\n",
            "  Preparing metadata (setup.py) ... \u001b[?25l\u001b[?25hdone\n",
            "Requirement already satisfied: numpy in /usr/local/lib/python3.10/dist-packages (from -r requirements.txt (line 3)) (1.26.4)\n",
            "Building wheels for collected packages: docopt\n",
            "  Building wheel for docopt (setup.py) ... \u001b[?25l\u001b[?25hdone\n",
            "  Created wheel for docopt: filename=docopt-0.6.2-py2.py3-none-any.whl size=13704 sha256=2625beabd5e7df3ae8e69362bd5e268e5bd7eff8beaaf87de9970edf69f25411\n",
            "  Stored in directory: /root/.cache/pip/wheels/fc/ab/d4/5da2067ac95b36618c629a5f93f809425700506f72c9732fac\n",
            "Successfully built docopt\n",
            "Installing collected packages: docopt\n",
            "Successfully installed docopt-0.6.2\n"
          ]
        }
      ],
      "source": [
        "!git clone https://github.com/RobinDavid/LSB-Steganography && cd LSB-Steganography && ls && pip install -r requirements.txt"
      ]
    },
    {
      "cell_type": "code",
      "execution_count": 3,
      "metadata": {
        "id": "ThqAly0AKFmX"
      },
      "outputs": [],
      "source": [
        "#!/usr/bin/env python\n",
        "# coding:UTF-8\n",
        "\"\"\"LSBSteg.py\n",
        "\n",
        "Usage:\n",
        "  LSBSteg.py encode -i <input> -o <output> -f <file>\n",
        "  LSBSteg.py decode -i <input> -o <output>\n",
        "\n",
        "Options:\n",
        "  -h, --help                Show this help\n",
        "  --version                 Show the version\n",
        "  -f,--file=<file>          File to hide\n",
        "  -i,--in=<input>           Input image (carrier)\n",
        "  -o,--out=<output>         Output image (or extracted file)\n",
        "\"\"\"\n",
        "\n",
        "import cv2\n",
        "import docopt\n",
        "import numpy as np\n",
        "\n",
        "\n",
        "class SteganographyException(Exception):\n",
        "    pass\n",
        "\n",
        "\n",
        "class LSBSteg():\n",
        "    def __init__(self, im):\n",
        "        self.image = im\n",
        "        self.height, self.width, self.nbchannels = im.shape\n",
        "        self.size = self.width * self.height\n",
        "\n",
        "        self.maskONEValues = [1,2,4,8,16,32,64,128]\n",
        "        #Mask used to put one ex:1->00000001, 2->00000010 .. associated with OR bitwise\n",
        "        self.maskONE = self.maskONEValues.pop(0) #Will be used to do bitwise operations\n",
        "\n",
        "        self.maskZEROValues = [254,253,251,247,239,223,191,127]\n",
        "        #Mak used to put zero ex:254->11111110, 253->11111101 .. associated with AND bitwise\n",
        "        self.maskZERO = self.maskZEROValues.pop(0)\n",
        "\n",
        "        self.curwidth = 0  # Current width position\n",
        "        self.curheight = 0 # Current height position\n",
        "        self.curchan = 0   # Current channel position\n",
        "\n",
        "    def put_binary_value(self, bits): #Put the bits in the image\n",
        "        for c in bits:\n",
        "            val = list(self.image[self.curheight,self.curwidth]) #Get the pixel value as a list\n",
        "            if int(c) == 1:\n",
        "                val[self.curchan] = int(val[self.curchan]) | self.maskONE #OR with maskONE\n",
        "            else:\n",
        "                val[self.curchan] = int(val[self.curchan]) & self.maskZERO #AND with maskZERO\n",
        "\n",
        "            self.image[self.curheight,self.curwidth] = tuple(val)\n",
        "            self.next_slot() #Move \"cursor\" to the next space\n",
        "\n",
        "    def next_slot(self):#Move to the next slot were information can be taken or put\n",
        "        if self.curchan == self.nbchannels-1: #Next Space is the following channel\n",
        "            self.curchan = 0\n",
        "            if self.curwidth == self.width-1: #Or the first channel of the next pixel of the same line\n",
        "                self.curwidth = 0\n",
        "                if self.curheight == self.height-1:#Or the first channel of the first pixel of the next line\n",
        "                    self.curheight = 0\n",
        "                    if self.maskONE == 128: #Mask 1000000, so the last mask\n",
        "                        raise SteganographyException(\"No available slot remaining (image filled)\")\n",
        "                    else: #Or instead of using the first bit start using the second and so on..\n",
        "                        self.maskONE = self.maskONEValues.pop(0)\n",
        "                        self.maskZERO = self.maskZEROValues.pop(0)\n",
        "                else:\n",
        "                    self.curheight +=1\n",
        "            else:\n",
        "                self.curwidth +=1\n",
        "        else:\n",
        "            self.curchan +=1\n",
        "\n",
        "    def read_bit(self): #Read a single bit int the image\n",
        "        val = self.image[self.curheight,self.curwidth][self.curchan]\n",
        "        val = int(val) & self.maskONE\n",
        "        self.next_slot()\n",
        "        if val > 0:\n",
        "            return \"1\"\n",
        "        else:\n",
        "            return \"0\"\n",
        "\n",
        "    def read_byte(self):\n",
        "        return self.read_bits(8)\n",
        "\n",
        "    def read_bits(self, nb): #Read the given number of bits\n",
        "        bits = \"\"\n",
        "        for i in range(nb):\n",
        "            bits += self.read_bit()\n",
        "        return bits\n",
        "\n",
        "    def byteValue(self, val):\n",
        "        return self.binary_value(val, 8)\n",
        "\n",
        "    def binary_value(self, val, bitsize): #Return the binary value of an int as a byte\n",
        "        binval = bin(val)[2:]\n",
        "        if len(binval) > bitsize:\n",
        "            raise SteganographyException(\"binary value larger than the expected size\")\n",
        "        while len(binval) < bitsize:\n",
        "            binval = \"0\"+binval\n",
        "        return binval\n",
        "\n",
        "    def encode_text(self, txt):\n",
        "        l = len(txt)\n",
        "        binl = self.binary_value(l, 16) #Length coded on 2 bytes so the text size can be up to 65536 bytes long\n",
        "        self.put_binary_value(binl) #Put text length coded on 4 bytes\n",
        "        for char in txt: #And put all the chars\n",
        "            c = ord(char)\n",
        "            self.put_binary_value(self.byteValue(c))\n",
        "        return self.image\n",
        "\n",
        "    def decode_text(self):\n",
        "        ls = self.read_bits(16) #Read the text size in bytes\n",
        "        l = int(ls,2)\n",
        "        i = 0\n",
        "        unhideTxt = \"\"\n",
        "        while i < l: #Read all bytes of the text\n",
        "            tmp = self.read_byte() #So one byte\n",
        "            i += 1\n",
        "            unhideTxt += chr(int(tmp,2)) #Every chars concatenated to str\n",
        "        return unhideTxt\n",
        "\n",
        "    def encode_image(self, imtohide):\n",
        "        w = imtohide.width\n",
        "        h = imtohide.height\n",
        "        if self.width*self.height*self.nbchannels < w*h*imtohide.channels:\n",
        "            raise SteganographyException(\"Carrier image not big enough to hold all the datas to steganography\")\n",
        "        binw = self.binary_value(w, 16) #Width coded on to byte so width up to 65536\n",
        "        binh = self.binary_value(h, 16)\n",
        "        self.put_binary_value(binw) #Put width\n",
        "        self.put_binary_value(binh) #Put height\n",
        "        for h in range(imtohide.height): #Iterate the hole image to put every pixel values\n",
        "            for w in range(imtohide.width):\n",
        "                for chan in range(imtohide.channels):\n",
        "                    val = imtohide[h,w][chan]\n",
        "                    self.put_binary_value(self.byteValue(int(val)))\n",
        "        return self.image\n",
        "\n",
        "\n",
        "    def decode_image(self):\n",
        "        width = int(self.read_bits(16),2) #Read 16bits and convert it in int\n",
        "        height = int(self.read_bits(16),2)\n",
        "        unhideimg = np.zeros((width,height, 3), np.uint8) #Create an image in which we will put all the pixels read\n",
        "        for h in range(height):\n",
        "            for w in range(width):\n",
        "                for chan in range(unhideimg.channels):\n",
        "                    val = list(unhideimg[h,w])\n",
        "                    val[chan] = int(self.read_byte(),2) #Read the value\n",
        "                    unhideimg[h,w] = tuple(val)\n",
        "        return unhideimg\n",
        "\n",
        "    def encode_binary(self, data):\n",
        "        l = len(data)\n",
        "        if self.width*self.height*self.nbchannels < l+64:\n",
        "            raise SteganographyException(\"Carrier image not big enough to hold all the datas to steganography\")\n",
        "        self.put_binary_value(self.binary_value(l, 64))\n",
        "        for byte in data:\n",
        "            byte = byte if isinstance(byte, int) else ord(byte) # Compat py2/py3\n",
        "            self.put_binary_value(self.byteValue(byte))\n",
        "        return self.image\n",
        "\n",
        "    def decode_binary(self):\n",
        "        l = int(self.read_bits(64), 2)\n",
        "        output = b\"\"\n",
        "        for i in range(l):\n",
        "            output += bytearray([int(self.read_byte(),2)])\n",
        "        return output\n",
        "\n",
        "\n",
        "def main():\n",
        "    args = docopt.docopt(__doc__, version=\"0.2\")\n",
        "    in_f = args[\"--in\"]\n",
        "    out_f = args[\"--out\"]\n",
        "    in_img = cv2.imread(in_f)\n",
        "    steg = LSBSteg(in_img)\n",
        "    lossy_formats = [\"jpeg\", \"jpg\"]\n",
        "\n",
        "    if args['encode']:\n",
        "        #Handling lossy format\n",
        "        out_f, out_ext = out_f.split(\".\")\n",
        "        if out_ext in lossy_formats:\n",
        "            out_f = out_f + \".png\"\n",
        "            print(\"Output file changed to \", out_f)\n",
        "\n",
        "        data = open(args[\"--file\"], \"rb\").read()\n",
        "        res = steg.encode_binary(data)\n",
        "        cv2.imwrite(out_f, res)\n",
        "\n",
        "    elif args[\"decode\"]:\n",
        "        raw = steg.decode_binary()\n",
        "        with open(out_f, \"wb\") as f:\n",
        "            f.write(raw)\n",
        "\n",
        "# if __name__==\"__main__\":\n",
        "#     main()"
      ]
    },
    {
      "cell_type": "code",
      "execution_count": 4,
      "metadata": {
        "id": "088jhkT7fFTk"
      },
      "outputs": [],
      "source": [
        "CONTENT = \"3348610401970005#christofer*derian*budianto#tegal#1997-03-04#laki-laki#b#jl.*pala*22*no.*30#005#017#mejasem*tengah#kramat#katholik#belum*kawin#pelajar/mahasiswa#wni#seumur*hidup\""
      ]
    },
    {
      "cell_type": "code",
      "execution_count": 5,
      "metadata": {
        "id": "JElu6w7gOa6f"
      },
      "outputs": [],
      "source": [
        "LENA_IMG = 'ori-image/lena.png'"
      ]
    },
    {
      "cell_type": "code",
      "execution_count": 6,
      "metadata": {
        "id": "1fH--WhaOJnk"
      },
      "outputs": [],
      "source": [
        "def embed_lsb(target, content, ori_img = LENA_IMG):\n",
        "  steg = LSBSteg(cv2.imread(ori_img))\n",
        "\n",
        "  img_encoded = steg.encode_text(content)\n",
        "\n",
        "  lsb_img = f\"{stego_dir_img}/{target}\"\n",
        "\n",
        "  cv2.imwrite(lsb_img, img_encoded)"
      ]
    },
    {
      "cell_type": "code",
      "execution_count": 7,
      "metadata": {
        "id": "aFicCQNROPBV"
      },
      "outputs": [],
      "source": [
        "def extract_lsb(target):\n",
        "  im = cv2.imread(f\"{stego_dir_img}/{target}\")\n",
        "\n",
        "  steg = LSBSteg(im)\n",
        "\n",
        "  content = steg.decode_text()\n",
        "\n",
        "  return content"
      ]
    },
    {
      "cell_type": "code",
      "execution_count": 8,
      "metadata": {
        "id": "PZpWCGNqe66q"
      },
      "outputs": [],
      "source": [
        "# embed_lsb(\"lsb_only.png\", CONTENT)"
      ]
    },
    {
      "cell_type": "code",
      "execution_count": 9,
      "metadata": {
        "id": "w8Y01hpIfQqU"
      },
      "outputs": [],
      "source": [
        "# extract_lsb(\"lsb_only.png\")"
      ]
    },
    {
      "cell_type": "code",
      "execution_count": 10,
      "metadata": {
        "id": "v5fJv9WIfS-K"
      },
      "outputs": [],
      "source": [
        "# calculate_psnr_2(\"lsb_only.png\")"
      ]
    },
    {
      "cell_type": "markdown",
      "metadata": {
        "id": "TYlYcfzMc9KY"
      },
      "source": [
        "## LSB with stego package"
      ]
    },
    {
      "cell_type": "code",
      "execution_count": 11,
      "metadata": {
        "id": "YC4ff3RndARv",
        "colab": {
          "base_uri": "https://localhost:8080/"
        },
        "outputId": "f7815914-0f17-487f-f05e-8cbc29f7c1cb"
      },
      "outputs": [
        {
          "output_type": "stream",
          "name": "stdout",
          "text": [
            "Collecting stegano\n",
            "  Downloading stegano-0.11.4-py3-none-any.whl.metadata (4.2 kB)\n",
            "Collecting crayons<0.5.0,>=0.4.0 (from stegano)\n",
            "  Downloading crayons-0.4.0-py2.py3-none-any.whl.metadata (2.8 kB)\n",
            "Requirement already satisfied: opencv-python<5.0.0.0,>=4.8.1.78 in /usr/local/lib/python3.10/dist-packages (from stegano) (4.10.0.84)\n",
            "Collecting piexif<2.0.0,>=1.1.3 (from stegano)\n",
            "  Downloading piexif-1.1.3-py2.py3-none-any.whl.metadata (3.7 kB)\n",
            "Requirement already satisfied: pillow<11.0,>=9.5 in /usr/local/lib/python3.10/dist-packages (from stegano) (10.4.0)\n",
            "Collecting colorama (from crayons<0.5.0,>=0.4.0->stegano)\n",
            "  Downloading colorama-0.4.6-py2.py3-none-any.whl.metadata (17 kB)\n",
            "Requirement already satisfied: numpy>=1.21.2 in /usr/local/lib/python3.10/dist-packages (from opencv-python<5.0.0.0,>=4.8.1.78->stegano) (1.26.4)\n",
            "Downloading stegano-0.11.4-py3-none-any.whl (61 kB)\n",
            "\u001b[2K   \u001b[90m━━━━━━━━━━━━━━━━━━━━━━━━━━━━━━━━━━━━━━━━\u001b[0m \u001b[32m61.7/61.7 kB\u001b[0m \u001b[31m2.0 MB/s\u001b[0m eta \u001b[36m0:00:00\u001b[0m\n",
            "\u001b[?25hDownloading crayons-0.4.0-py2.py3-none-any.whl (4.6 kB)\n",
            "Downloading piexif-1.1.3-py2.py3-none-any.whl (20 kB)\n",
            "Downloading colorama-0.4.6-py2.py3-none-any.whl (25 kB)\n",
            "Installing collected packages: piexif, colorama, crayons, stegano\n",
            "Successfully installed colorama-0.4.6 crayons-0.4.0 piexif-1.1.3 stegano-0.11.4\n"
          ]
        }
      ],
      "source": [
        "!pip install stegano"
      ]
    },
    {
      "cell_type": "code",
      "execution_count": 36,
      "metadata": {
        "id": "bBLlTEpNdVkb"
      },
      "outputs": [],
      "source": [
        "from stegano import lsb\n",
        "# CONTENT2=\"dˆ|&0%|0*6c#|8z ̃c7c#zm8d*0*08*8p8$*cd,d+zez,|6z)8!cq zb**zzcq8jcazqz!**dkds*dcacl*n|6z)0y0/cq7)8=*ld1c#7q *9d08}0|0:7.*08w8$dacl0+zez?z=8=cbze|{cjc[db8m0]07c, 0e8mzq700x*2cdc+z)c2**8 ̃dz7_c7|88p|{0|0_*78$*mza8+8= d(0i*m||7gza0jc/8=c\\d18f8jzqzi|9|68$7ndi7g8(|g*lcazr 0ycjdm*l0,7l07zrdi0&zec+0yd\\8l8m0e7r7m7!76*mclz58=z, d9z,83*ac[|%dfze0yz,dm0,09dsd+07*h0mc|zhzs\"\n",
        "\n",
        "# secret=lsb.hide(\"/content/ori-image/lena.png\",CONTENT2)\n",
        "\n",
        "# secret.save(\"/content/stego-image/Encoded_Image.png\")"
      ]
    },
    {
      "cell_type": "code",
      "execution_count": 13,
      "metadata": {
        "id": "ZWP8mC8udBsC"
      },
      "outputs": [],
      "source": [
        "# print(lsb.reveal(\"/content/stego-image/Encoded_Image.png\"))"
      ]
    },
    {
      "cell_type": "code",
      "execution_count": 14,
      "metadata": {
        "id": "pqtbnYg2hi7t"
      },
      "outputs": [],
      "source": [
        "# import base64\n",
        "# from stegano import lsb\n",
        "\n",
        "# # Your original content with special characters\n",
        "# CONTENT2 = \"dˆ|&0%|0*6c#|8z ̃c7c#zm8d*0*08*8p8$*cd,d+zez,|6z)8!cq zb**zzcq8jcazqz!**dkds*dcacl*n|6z)0y0/cq7)8=*ld1c#7q *9d08}0|0:7.*08w8$dacl0+zez?z=8=cbze|{cjc[db8m0]07c, 0e8mzq700x*2cdc+z)c2**8 ̃dz7_c7|88p|{0|0_*78$*mza8+8= d(0i*m||7gza0jc/8=c\\d18f8jzqzi|9|68$7ndi7g8(|g*lcazr 0ycjdm*l0,7l07zrdi0&zec+0yd\\8l8m0e7r7m7!76*mclz58=z, d9z,83*ac[|%dfze0yz,dm0,09dsd+07*h0mc|zhzs\"\n",
        "\n",
        "# # Encode CONTENT2 in base64 to make it safe for embedding\n",
        "# CONTENT2_base64 = base64.b64encode(CONTENT2.encode('utf-8')).decode('utf-8')\n",
        "# print(CONTENT2_base64)\n",
        "# print(base64.b64decode(CONTENT2_base64).decode('utf-8'))\n",
        "\n",
        "# # Hide the base64-encoded content inside the image\n",
        "# secret = lsb.hide(\"/content/ori-image/lena.png\", CONTENT2_base64)\n",
        "\n",
        "# # Save the stego image\n",
        "# secret.save(\"/content/stego-image/Encoded_Image.png\")\n",
        "\n",
        "# # Reveal the hidden content from the stego image\n",
        "# hidden_content = lsb.reveal(\"/content/stego-image/Encoded_Image.png\")\n",
        "\n",
        "# # Decode the base64 content back to the original string\n",
        "# decoded_content = base64.b64decode(hidden_content).decode('utf-8')\n",
        "\n",
        "# print(\"Decoded Content:\", decoded_content)\n"
      ]
    },
    {
      "cell_type": "code",
      "execution_count": 15,
      "metadata": {
        "id": "6NE50jqMeHQx"
      },
      "outputs": [],
      "source": [
        "# calculate_psnr_2(\"Encoded_Image.png\")"
      ]
    },
    {
      "cell_type": "code",
      "execution_count": 16,
      "metadata": {
        "id": "dwzh_Ksziv-W"
      },
      "outputs": [],
      "source": [
        "\n",
        "# from math import log10, sqrt\n",
        "# import cv2\n",
        "# import numpy as np\n",
        "\n",
        "# def PSNR(original, compressed, max_value=255):\n",
        "#     mse = np.mean((np.array(original, dtype=np.float32) - np.array(compressed, dtype=np.float32)) ** 2)\n",
        "#     if mse == 0:\n",
        "#         return 100\n",
        "#     return 20 * np.log10(max_value / (np.sqrt(mse)))\n",
        "\n",
        "\n",
        "# original = cv2.imread(\"/content/ori-image/lena.png\")\n",
        "# compressed = cv2.imread(\"/content/stego-image/Encoded_Image.png\", 1)\n",
        "# value = PSNR(original, compressed)\n",
        "# print(f\"PSNR value is {value} dB\")"
      ]
    },
    {
      "cell_type": "code",
      "execution_count": 17,
      "metadata": {
        "id": "cjWkidUcjHeA"
      },
      "outputs": [],
      "source": [
        "# import cv2\n",
        "# img1 = cv2.imread('/content/ori-image/lena.png')\n",
        "# img2 = cv2.imread('/content/stego-image/Encoded_Image.png')\n",
        "# psnr = cv2.PSNR(img1, img2)\n",
        "# psnr"
      ]
    },
    {
      "cell_type": "markdown",
      "metadata": {
        "id": "qD_sIiOCjsMH"
      },
      "source": [
        "# Huffman"
      ]
    },
    {
      "cell_type": "code",
      "execution_count": 18,
      "metadata": {
        "id": "7mkELy6rjtTf",
        "colab": {
          "base_uri": "https://localhost:8080/"
        },
        "outputId": "0a391673-19a1-43d4-d093-d6ff922d2aeb"
      },
      "outputs": [
        {
          "output_type": "stream",
          "name": "stdout",
          "text": [
            "File created at: /content/sample_file.txt\n",
            "Huffman Coding of /content/sample_file.txt: \n",
            "101000 01110 1100 01111 010 1100 01111 010 0011 0110 010 1101 10000 0011 11110 11111 1110 1101 010 0000 1100 1110 1101 10001 0001 101001 10010 0000 0000 11110 0011 0110 010 101010 0010 10011 1100 0110 101011 010 1101 10000 0011 11110 11111 1110 1101 010 1100 0110 11111 10010 101100 10001 0001 01110 1101 1110 1110 0010 010 101101 0010 101110 1110 10011 101111 0001 \n"
          ]
        }
      ],
      "source": [
        "import sys\n",
        "\n",
        "class Letter:\n",
        "    def __init__(self, letter, freq):\n",
        "        self.letter = letter\n",
        "        self.freq = freq\n",
        "        self.bitstring = \"\"\n",
        "\n",
        "    def __repr__(self):\n",
        "        return f'{self.letter}:{self.freq}'\n",
        "\n",
        "\n",
        "class TreeNode:\n",
        "    def __init__(self, freq, left, right):\n",
        "        self.freq = freq\n",
        "        self.left = left\n",
        "        self.right = right\n",
        "\n",
        "\n",
        "def parse_file(file_path):\n",
        "    \"\"\"\n",
        "    Read the file and build a dict of all letters and their\n",
        "    frequences, then convert the dict into a list of Letters.\n",
        "    \"\"\"\n",
        "    chars = {}\n",
        "    with open(file_path) as f:\n",
        "        while True:\n",
        "            c = f.read(1)\n",
        "            if not c:\n",
        "                break\n",
        "            chars[c] = chars[c] + 1 if c in chars.keys() else 1\n",
        "    return sorted([Letter(c, f) for c, f in chars.items()], key=lambda l: l.freq)\n",
        "\n",
        "def build_tree(letters):\n",
        "    \"\"\"\n",
        "    Run through the list of Letters and build the min heap\n",
        "    for the Huffman Tree.\n",
        "    \"\"\"\n",
        "    while len(letters) > 1:\n",
        "        left = letters.pop(0)\n",
        "        right = letters.pop(0)\n",
        "        total_freq = left.freq + right.freq\n",
        "        node = TreeNode(total_freq, left, right)\n",
        "        letters.append(node)\n",
        "        letters.sort(key=lambda l: l.freq)\n",
        "    return letters[0]\n",
        "\n",
        "def traverse_tree(root, bitstring):\n",
        "    \"\"\"\n",
        "    Recursively traverse the Huffman Tree to set each\n",
        "    Letter's bitstring, and return the list of Letters\n",
        "    \"\"\"\n",
        "    if type(root) is Letter:\n",
        "        root.bitstring = bitstring\n",
        "        return [root]\n",
        "    letters = []\n",
        "    letters += traverse_tree(root.left, bitstring + \"0\")\n",
        "    letters += traverse_tree(root.right, bitstring + \"1\")\n",
        "    return letters\n",
        "\n",
        "def huffman(file_path):\n",
        "    \"\"\"\n",
        "    Parse the file, build the tree, then run through the file\n",
        "    again, using the list of Letters to find and print out the\n",
        "    bitstring for each letter.\n",
        "    \"\"\"\n",
        "    letters_list = parse_file(file_path)\n",
        "    root = build_tree(letters_list)\n",
        "    letters = traverse_tree(root, \"\")\n",
        "    print(f'Huffman Coding of {file_path}: ')\n",
        "    with open(file_path) as f:\n",
        "        while True:\n",
        "            c = f.read(1)\n",
        "            if not c:\n",
        "                break\n",
        "            le = list(filter(lambda l: l.letter == c, letters))[0]\n",
        "            print(le.bitstring, end=\" \")\n",
        "    print()\n",
        "\n",
        "# Create and write to a file\n",
        "file_path = \"/content/sample_file.txt\"\n",
        "\n",
        "with open(file_path, 'w') as f:\n",
        "    f.write(\"This is an example file.\\n\")\n",
        "    f.write(\"Huffman coding example input.\\n\")\n",
        "    f.write(\"hello world!\\n\")\n",
        "\n",
        "print(f\"File created at: {file_path}\")\n",
        "\n",
        "\n",
        "huffman(\"/content/sample_file.txt\")"
      ]
    },
    {
      "cell_type": "code",
      "execution_count": 19,
      "metadata": {
        "id": "j_VuqgxdlSVw",
        "colab": {
          "base_uri": "https://localhost:8080/",
          "height": 532
        },
        "outputId": "7ab03b35-e01d-4f49-964b-058d5d4ef20e"
      },
      "outputs": [
        {
          "output_type": "stream",
          "name": "stdout",
          "text": [
            "Collecting steg\n",
            "  Downloading steg-0.1.5-py3-none-any.whl.metadata (1.4 kB)\n",
            "Collecting Pillow==8.1.2 (from steg)\n",
            "  Downloading Pillow-8.1.2.tar.gz (45.2 MB)\n",
            "\u001b[2K     \u001b[90m━━━━━━━━━━━━━━━━━━━━━━━━━━━━━━━━━━━━━━━━\u001b[0m \u001b[32m45.2/45.2 MB\u001b[0m \u001b[31m6.8 MB/s\u001b[0m eta \u001b[36m0:00:00\u001b[0m\n",
            "\u001b[?25h  Preparing metadata (setup.py) ... \u001b[?25l\u001b[?25hdone\n",
            "Downloading steg-0.1.5-py3-none-any.whl (8.5 kB)\n",
            "Building wheels for collected packages: Pillow\n",
            "  Building wheel for Pillow (setup.py) ... \u001b[?25l\u001b[?25hdone\n",
            "  Created wheel for Pillow: filename=Pillow-8.1.2-cp310-cp310-linux_x86_64.whl size=1163963 sha256=659d04daa171ca80d279a090313d6e82b2700cd4675d6f0c81ef454924181dac\n",
            "  Stored in directory: /root/.cache/pip/wheels/b1/fd/2b/ad2015f7e099ff6596b21bb829692ccaef4d111f82549448bd\n",
            "Successfully built Pillow\n",
            "Installing collected packages: Pillow, steg\n",
            "  Attempting uninstall: Pillow\n",
            "    Found existing installation: pillow 10.4.0\n",
            "    Uninstalling pillow-10.4.0:\n",
            "      Successfully uninstalled pillow-10.4.0\n",
            "\u001b[31mERROR: pip's dependency resolver does not currently take into account all the packages that are installed. This behaviour is the source of the following dependency conflicts.\n",
            "fastai 2.7.17 requires pillow>=9.0.0, but you have pillow 8.1.2 which is incompatible.\n",
            "imageio 2.35.1 requires pillow>=8.3.2, but you have pillow 8.1.2 which is incompatible.\n",
            "scikit-image 0.24.0 requires pillow>=9.1, but you have pillow 8.1.2 which is incompatible.\n",
            "stegano 0.11.4 requires pillow<11.0,>=9.5, but you have pillow 8.1.2 which is incompatible.\u001b[0m\u001b[31m\n",
            "\u001b[0mSuccessfully installed Pillow-8.1.2 steg-0.1.5\n"
          ]
        },
        {
          "output_type": "display_data",
          "data": {
            "application/vnd.colab-display-data+json": {
              "pip_warning": {
                "packages": [
                  "PIL"
                ]
              },
              "id": "78417bb4806c4fc2aee8c510615f171e"
            }
          },
          "metadata": {}
        }
      ],
      "source": [
        "!pip install steg"
      ]
    },
    {
      "cell_type": "markdown",
      "metadata": {
        "id": "VyyKjOhTM50z"
      },
      "source": [
        "# PSNR"
      ]
    },
    {
      "cell_type": "code",
      "execution_count": 20,
      "metadata": {
        "id": "njPQpkGdM8Ea"
      },
      "outputs": [],
      "source": [
        "def calculate_psnr_2(target, ori_image = LENA_IMG):\n",
        "    # Read images\n",
        "    original = cv2.imread(ori_image)\n",
        "    stego = cv2.imread(f'{stego_dir_img}/{target}')\n",
        "\n",
        "    if original is None:\n",
        "        raise ValueError(f\"Failed to load original image from {ori_image}. Ensure the file exists and is a valid image format.\")\n",
        "    if stego is None:\n",
        "        raise ValueError(f\"Failed to load stego image from {stego_dir_img}/{target}. Ensure the file exists and is a valid image format.\")\n",
        "\n",
        "    # Calculate MSE (Mean Squared Error)\n",
        "    mse = np.mean((original - stego) ** 2)\n",
        "    if mse == 0:  # If images are identical\n",
        "        return float('inf')\n",
        "\n",
        "    # Calculate PSNR using the 10 log10 version\n",
        "    max_pixel_value = 255.0\n",
        "    psnr = 10 * np.log10((max_pixel_value ** 2) / mse)\n",
        "    print(f'PSNR: {psnr}')\n",
        "    return psnr"
      ]
    },
    {
      "cell_type": "markdown",
      "metadata": {
        "id": "-cPwueo_KfyD"
      },
      "source": [
        "# Test Image"
      ]
    },
    {
      "cell_type": "code",
      "execution_count": 21,
      "metadata": {
        "id": "xgmPUjBmLG4I"
      },
      "outputs": [],
      "source": [
        "import os\n",
        "# Directory where the image will be saved\n",
        "ori_dir_img = \"ori-image\"\n",
        "\n",
        "# Create the ori_dir_img if it doesn't exist\n",
        "if not os.path.exists(ori_dir_img):\n",
        "    os.makedirs(ori_dir_img)\n",
        "\n",
        "stego_dir_img = \"stego-image\"\n",
        "\n",
        "# Create the stego_dir_img if it doesn't exist\n",
        "if not os.path.exists(stego_dir_img):\n",
        "    os.makedirs(stego_dir_img)"
      ]
    },
    {
      "cell_type": "markdown",
      "metadata": {
        "id": "XoFySoMpKn-8"
      },
      "source": [
        "## Lena Image"
      ]
    },
    {
      "cell_type": "code",
      "execution_count": 22,
      "metadata": {
        "id": "Vm1GbtSjKnZc"
      },
      "outputs": [],
      "source": [
        "import requests\n",
        "from PIL import Image\n",
        "import io\n",
        "\n",
        "# URL to the raw image file\n",
        "url = \"https://raw.githubusercontent.com/mikolalysenko/lena/master/lena.png\"\n",
        "\n",
        "# Download the image\n",
        "response = requests.get(url)\n",
        "if response.status_code == 200:\n",
        "    # Load the image using PIL\n",
        "    lena_image = Image.open(io.BytesIO(response.content))\n",
        "    lena_image.show()  # Display the image (optional)\n",
        "    lena_image.save(\"ori-image/lena.png\")  # Save the image locally\n",
        "else:\n",
        "    print(\"Failed to download the image.\")"
      ]
    },
    {
      "cell_type": "code",
      "execution_count": 23,
      "metadata": {
        "id": "jWx68sfbLyv3"
      },
      "outputs": [],
      "source": [
        "LENA_IMG = 'ori-image/lena.png'\n",
        "\n",
        "if not os.path.exists(LENA_IMG):\n",
        "    raise FileNotFoundError(f\"Image not found at {LENA_IMG}\")"
      ]
    },
    {
      "cell_type": "markdown",
      "metadata": {
        "id": "JlpuiAZPLM0u"
      },
      "source": [
        "# LSB Only"
      ]
    },
    {
      "cell_type": "code",
      "execution_count": 24,
      "metadata": {
        "id": "DqJ3X0iJLQp9"
      },
      "outputs": [],
      "source": [
        "CONTENT = \"3348610401970005#christofer*derian*budianto#tegal#1997-03-04#laki-laki#b#jl.*pala*22*no.*30#005#017#mejasem*tengah#kramat#katholik#belum*kawin#pelajar/mahasiswa#wni#seumur*hidup\"\n",
        "\n",
        "embed_lsb(\"lsb_only.png\", CONTENT)"
      ]
    },
    {
      "cell_type": "code",
      "execution_count": 25,
      "metadata": {
        "id": "wLVxsKz2LVFH",
        "colab": {
          "base_uri": "https://localhost:8080/",
          "height": 53
        },
        "outputId": "c390e18e-380e-4add-912e-f787440d00ed"
      },
      "outputs": [
        {
          "output_type": "execute_result",
          "data": {
            "text/plain": [
              "'3348610401970005#christofer*derian*budianto#tegal#1997-03-04#laki-laki#b#jl.*pala*22*no.*30#005#017#mejasem*tengah#kramat#katholik#belum*kawin#pelajar/mahasiswa#wni#seumur*hidup'"
            ],
            "application/vnd.google.colaboratory.intrinsic+json": {
              "type": "string"
            }
          },
          "metadata": {},
          "execution_count": 25
        }
      ],
      "source": [
        "extract_lsb(\"lsb_only.png\")"
      ]
    },
    {
      "cell_type": "code",
      "execution_count": 26,
      "metadata": {
        "id": "BygPpMo1MwdC",
        "colab": {
          "base_uri": "https://localhost:8080/"
        },
        "outputId": "4a721581-4c23-42d0-d244-db216cdaca04"
      },
      "outputs": [
        {
          "output_type": "stream",
          "name": "stdout",
          "text": [
            "PSNR: 78.57483188820159\n"
          ]
        },
        {
          "output_type": "execute_result",
          "data": {
            "text/plain": [
              "78.57483188820159"
            ]
          },
          "metadata": {},
          "execution_count": 26
        }
      ],
      "source": [
        "calculate_psnr_2(\"lsb_only.png\")"
      ]
    },
    {
      "cell_type": "markdown",
      "metadata": {
        "id": "k6YYZo7CP2Cz"
      },
      "source": [
        "# LSB with ECC"
      ]
    },
    {
      "cell_type": "code",
      "execution_count": 27,
      "metadata": {
        "id": "46ExE0UqNoqE",
        "colab": {
          "base_uri": "https://localhost:8080/"
        },
        "outputId": "73ad9ec6-55dd-4a5d-82fe-629857e5748f"
      },
      "outputs": [
        {
          "output_type": "stream",
          "name": "stdout",
          "text": [
            "Public Key: 0x06d3c69898a499bd3d7d83a1b0e05d05c538584c80c60e38dcb3b34895977ef33cea1406ecba85f92420559f1e5b36cd912b19c941561fb2b0f4aa244db43138\n",
            "Private Key: 0x2b7386da85f4eab078975dd2e481ff4ba913d08e5b541a04489345301750d18d\n",
            "Ciphertext: 049e00e9775dda55f9368c3e84de30071257d536427dc6bfd2de888473a7914c3bb33504c598a5b33a172f400a4590f41fb8b5da18f5804d205e8aba2f692facacb4787713de93dfaa218e952ef5c368dcee97678cc587996dcaf57644f7b89d9d6d633e83d9a15e5d0888774d3b4fe3e620b66ece887ae5df70beeba5894fc4b0674f51e8574671e747b9b8d7ef5a73e386e2e7cb1f7ba15fd8ea03aec50b09b2611d06d445333bca525e10459c8e5b1ceaa7e3deb78f9cd49d40e37d4d436c8978dbc2419fbd54d79f7f4ad3e41f6275c1e92e08cb9a7d9a71940f4f79e1d9a608edc06b1134087ba5a560a06384ec8f589f334b379d612b455e9da5ce8da353c0ac0130fa7b57779b41dbc978c13d04c0\n",
            "Decrypted Message: 3348610401970005#christofer*derian*budianto#tegal#1997-03-04#laki-laki#b#jl.*pala*22*no.*30#005#017#mejasem*tengah#kramat#katholik#belum*kawin#pelajar/mahasiswa#wni#seumur*hidup\n"
          ]
        }
      ],
      "source": [
        "from ecies.utils import generate_eth_key\n",
        "from ecies import encrypt, decrypt\n",
        "\n",
        "private_key = generate_eth_key()\n",
        "public_key = private_key.public_key\n",
        "\n",
        "public_key_hex = public_key.to_hex()\n",
        "private_key_hex = private_key.to_hex()\n",
        "\n",
        "print(\"Public Key:\", public_key_hex)\n",
        "print(\"Private Key:\", private_key_hex)\n",
        "\n",
        "ciphertext = encrypt(public_key_hex, CONTENT.encode())\n",
        "\n",
        "print(\"Ciphertext:\", ciphertext.hex())\n",
        "\n",
        "decrypted_message = decrypt(private_key_hex, ciphertext)\n",
        "print(\"Decrypted Message:\", decrypted_message.decode())"
      ]
    },
    {
      "cell_type": "code",
      "execution_count": 28,
      "metadata": {
        "id": "Lm1s_yTBN6-a",
        "colab": {
          "base_uri": "https://localhost:8080/"
        },
        "outputId": "81d26355-4ca9-49b5-f41d-8a48d455d8f1"
      },
      "outputs": [
        {
          "output_type": "stream",
          "name": "stdout",
          "text": [
            "b'\\x04\\x9e\\x00\\xe9w]\\xdaU\\xf96\\x8c>\\x84\\xde0\\x07\\x12W\\xd56B}\\xc6\\xbf\\xd2\\xde\\x88\\x84s\\xa7\\x91L;\\xb35\\x04\\xc5\\x98\\xa5\\xb3:\\x17/@\\nE\\x90\\xf4\\x1f\\xb8\\xb5\\xda\\x18\\xf5\\x80M ^\\x8a\\xba/i/\\xac\\xac\\xb4xw\\x13\\xde\\x93\\xdf\\xaa!\\x8e\\x95.\\xf5\\xc3h\\xdc\\xee\\x97g\\x8c\\xc5\\x87\\x99m\\xca\\xf5vD\\xf7\\xb8\\x9d\\x9dmc>\\x83\\xd9\\xa1^]\\x08\\x88wM;O\\xe3\\xe6 \\xb6n\\xce\\x88z\\xe5\\xdfp\\xbe\\xeb\\xa5\\x89O\\xc4\\xb0gOQ\\xe8WFq\\xe7G\\xb9\\xb8\\xd7\\xefZs\\xe3\\x86\\xe2\\xe7\\xcb\\x1f{\\xa1_\\xd8\\xea\\x03\\xae\\xc5\\x0b\\t\\xb2a\\x1d\\x06\\xd4E3;\\xcaR^\\x10E\\x9c\\x8e[\\x1c\\xea\\xa7\\xe3\\xde\\xb7\\x8f\\x9c\\xd4\\x9d@\\xe3}MCl\\x89x\\xdb\\xc2A\\x9f\\xbdT\\xd7\\x9f\\x7fJ\\xd3\\xe4\\x1fbu\\xc1\\xe9.\\x08\\xcb\\x9a}\\x9aq\\x94\\x0fOy\\xe1\\xd9\\xa6\\x08\\xed\\xc0k\\x114\\x08{\\xa5\\xa5`\\xa0c\\x84\\xec\\x8fX\\x9f3K7\\x9da+E^\\x9d\\xa5\\xce\\x8d\\xa3S\\xc0\\xac\\x010\\xfa{Ww\\x9bA\\xdb\\xc9x\\xc1=\\x04\\xc0'\n",
            "049e00e9775dda55f9368c3e84de30071257d536427dc6bfd2de888473a7914c3bb33504c598a5b33a172f400a4590f41fb8b5da18f5804d205e8aba2f692facacb4787713de93dfaa218e952ef5c368dcee97678cc587996dcaf57644f7b89d9d6d633e83d9a15e5d0888774d3b4fe3e620b66ece887ae5df70beeba5894fc4b0674f51e8574671e747b9b8d7ef5a73e386e2e7cb1f7ba15fd8ea03aec50b09b2611d06d445333bca525e10459c8e5b1ceaa7e3deb78f9cd49d40e37d4d436c8978dbc2419fbd54d79f7f4ad3e41f6275c1e92e08cb9a7d9a71940f4f79e1d9a608edc06b1134087ba5a560a06384ec8f589f334b379d612b455e9da5ce8da353c0ac0130fa7b57779b41dbc978c13d04c0\n"
          ]
        }
      ],
      "source": [
        "print(ciphertext)\n",
        "print(ciphertext.hex())"
      ]
    },
    {
      "cell_type": "code",
      "execution_count": 30,
      "metadata": {
        "id": "DEuYKwuvRJnk"
      },
      "outputs": [],
      "source": [
        "embed_lsb(\"lsb_w_ECC.png\", ciphertext.hex())"
      ]
    },
    {
      "cell_type": "code",
      "execution_count": 31,
      "metadata": {
        "id": "Z5pt8a0nRYEe",
        "colab": {
          "base_uri": "https://localhost:8080/",
          "height": 105
        },
        "outputId": "094b2494-3865-4bff-add1-7ed9d90a8521"
      },
      "outputs": [
        {
          "output_type": "execute_result",
          "data": {
            "text/plain": [
              "'049e00e9775dda55f9368c3e84de30071257d536427dc6bfd2de888473a7914c3bb33504c598a5b33a172f400a4590f41fb8b5da18f5804d205e8aba2f692facacb4787713de93dfaa218e952ef5c368dcee97678cc587996dcaf57644f7b89d9d6d633e83d9a15e5d0888774d3b4fe3e620b66ece887ae5df70beeba5894fc4b0674f51e8574671e747b9b8d7ef5a73e386e2e7cb1f7ba15fd8ea03aec50b09b2611d06d445333bca525e10459c8e5b1ceaa7e3deb78f9cd49d40e37d4d436c8978dbc2419fbd54d79f7f4ad3e41f6275c1e92e08cb9a7d9a71940f4f79e1d9a608edc06b1134087ba5a560a06384ec8f589f334b379d612b455e9da5ce8da353c0ac0130fa7b57779b41dbc978c13d04c0'"
            ],
            "application/vnd.google.colaboratory.intrinsic+json": {
              "type": "string"
            }
          },
          "metadata": {},
          "execution_count": 31
        }
      ],
      "source": [
        "extract_lsb(\"lsb_w_ECC.png\")"
      ]
    },
    {
      "cell_type": "code",
      "execution_count": 32,
      "metadata": {
        "id": "hKsElAphRlF7",
        "colab": {
          "base_uri": "https://localhost:8080/"
        },
        "outputId": "1792ed35-2a45-4067-b30c-df0270d51470"
      },
      "outputs": [
        {
          "output_type": "stream",
          "name": "stdout",
          "text": [
            "PSNR: 73.71881716622424\n"
          ]
        },
        {
          "output_type": "execute_result",
          "data": {
            "text/plain": [
              "73.71881716622424"
            ]
          },
          "metadata": {},
          "execution_count": 32
        }
      ],
      "source": [
        "calculate_psnr_2(\"lsb_w_ECC.png\")"
      ]
    },
    {
      "cell_type": "markdown",
      "metadata": {
        "id": "wFaqBJF9ePgS"
      },
      "source": [
        "## Other LSB Package"
      ]
    },
    {
      "cell_type": "code",
      "execution_count": 33,
      "metadata": {
        "id": "XJiM5ItCeRXa",
        "colab": {
          "base_uri": "https://localhost:8080/"
        },
        "outputId": "78409b90-1995-4f26-b48c-b1766edd80f4"
      },
      "outputs": [
        {
          "output_type": "stream",
          "name": "stdout",
          "text": [
            "Public Key: 0xca7f39a10fabdce85c8934987571a556392b9e20ba12e45115408b013499672511f9fadfdd635b3a7cd95cfb931b21e2b75765dec1ed55eedd842394bfa6a738\n",
            "Private Key: 0x84493dc0bf1c66198a3f8b95a5c8c620388078949e2d5260afabddd90a107dc9\n",
            "Ciphertext: 044ff0124b6dc6f03895b6880eeef1fe3ae10bef700b30f7b5c2ca613d596e7c1868d25c01ad9db3cf3ba1c40b6789867ab3430aab1d1abbeba1b355104543cb3d9317efc1be8355b5e3dbcb7da21943191300c1d04243e7a32e17d39315180caa982b5045298a87daedef79c55e8fe46afa841514eb9db5ecb1b9b3b44e406f1ed3a9f05cdc3d7d0ef08269f45520cd3f34df19e80fa3b10249ae1067e8e9bc2c0f3fbf31e106e1b7c187afd97007e6ab970ee582c9ac055ac16d2b8557bdb6c83aa7a96563b9ed624e24eed19830b84178fd0e642fd35f546ab536ccd329ffc8cddbf30fbffaa5fb150a9e0ce02552b22a979e855e24884385f470e65aa72fdfc75013d0892512dabe17cafd3687a79cea\n",
            "Decrypted Message: 3348610401970005#christofer*derian*budianto#tegal#1997-03-04#laki-laki#b#jl.*pala*22*no.*30#005#017#mejasem*tengah#kramat#katholik#belum*kawin#pelajar/mahasiswa#wni#seumur*hidup\n"
          ]
        }
      ],
      "source": [
        "from ecies.utils import generate_eth_key\n",
        "from ecies import encrypt, decrypt\n",
        "\n",
        "private_key = generate_eth_key()\n",
        "public_key = private_key.public_key\n",
        "\n",
        "public_key_hex = public_key.to_hex()\n",
        "private_key_hex = private_key.to_hex()\n",
        "\n",
        "print(\"Public Key:\", public_key_hex)\n",
        "print(\"Private Key:\", private_key_hex)\n",
        "\n",
        "ciphertext = encrypt(public_key_hex, CONTENT.encode())\n",
        "\n",
        "print(\"Ciphertext:\", ciphertext.hex())\n",
        "\n",
        "decrypted_message = decrypt(private_key_hex, ciphertext)\n",
        "print(\"Decrypted Message:\", decrypted_message.decode())"
      ]
    },
    {
      "cell_type": "code",
      "execution_count": 34,
      "metadata": {
        "id": "wicH_PC5eTaZ",
        "colab": {
          "base_uri": "https://localhost:8080/"
        },
        "outputId": "cb826a6f-67a5-45cb-bfb9-4b9c401cd142"
      },
      "outputs": [
        {
          "output_type": "stream",
          "name": "stdout",
          "text": [
            "b'\\x04O\\xf0\\x12Km\\xc6\\xf08\\x95\\xb6\\x88\\x0e\\xee\\xf1\\xfe:\\xe1\\x0b\\xefp\\x0b0\\xf7\\xb5\\xc2\\xcaa=Yn|\\x18h\\xd2\\\\\\x01\\xad\\x9d\\xb3\\xcf;\\xa1\\xc4\\x0bg\\x89\\x86z\\xb3C\\n\\xab\\x1d\\x1a\\xbb\\xeb\\xa1\\xb3U\\x10EC\\xcb=\\x93\\x17\\xef\\xc1\\xbe\\x83U\\xb5\\xe3\\xdb\\xcb}\\xa2\\x19C\\x19\\x13\\x00\\xc1\\xd0BC\\xe7\\xa3.\\x17\\xd3\\x93\\x15\\x18\\x0c\\xaa\\x98+PE)\\x8a\\x87\\xda\\xed\\xefy\\xc5^\\x8f\\xe4j\\xfa\\x84\\x15\\x14\\xeb\\x9d\\xb5\\xec\\xb1\\xb9\\xb3\\xb4N@o\\x1e\\xd3\\xa9\\xf0\\\\\\xdc=}\\x0e\\xf0\\x82i\\xf4U \\xcd?4\\xdf\\x19\\xe8\\x0f\\xa3\\xb1\\x02I\\xae\\x10g\\xe8\\xe9\\xbc,\\x0f?\\xbf1\\xe1\\x06\\xe1\\xb7\\xc1\\x87\\xaf\\xd9p\\x07\\xe6\\xab\\x97\\x0e\\xe5\\x82\\xc9\\xac\\x05Z\\xc1m+\\x85W\\xbd\\xb6\\xc8:\\xa7\\xa9ec\\xb9\\xedbN$\\xee\\xd1\\x980\\xb8Ax\\xfd\\x0ed/\\xd3_Tj\\xb56\\xcc\\xd3)\\xff\\xc8\\xcd\\xdb\\xf3\\x0f\\xbf\\xfa\\xa5\\xfb\\x15\\n\\x9e\\x0c\\xe0%R\\xb2*\\x97\\x9e\\x85^$\\x88C\\x85\\xf4p\\xe6Z\\xa7/\\xdf\\xc7P\\x13\\xd0\\x89%\\x12\\xda\\xbe\\x17\\xca\\xfd6\\x87\\xa7\\x9c\\xea'\n",
            "044ff0124b6dc6f03895b6880eeef1fe3ae10bef700b30f7b5c2ca613d596e7c1868d25c01ad9db3cf3ba1c40b6789867ab3430aab1d1abbeba1b355104543cb3d9317efc1be8355b5e3dbcb7da21943191300c1d04243e7a32e17d39315180caa982b5045298a87daedef79c55e8fe46afa841514eb9db5ecb1b9b3b44e406f1ed3a9f05cdc3d7d0ef08269f45520cd3f34df19e80fa3b10249ae1067e8e9bc2c0f3fbf31e106e1b7c187afd97007e6ab970ee582c9ac055ac16d2b8557bdb6c83aa7a96563b9ed624e24eed19830b84178fd0e642fd35f546ab536ccd329ffc8cddbf30fbffaa5fb150a9e0ce02552b22a979e855e24884385f470e65aa72fdfc75013d0892512dabe17cafd3687a79cea\n"
          ]
        }
      ],
      "source": [
        "print(ciphertext)\n",
        "print(ciphertext.hex())"
      ]
    },
    {
      "cell_type": "code",
      "execution_count": 37,
      "metadata": {
        "id": "P30ucyuFeWOh"
      },
      "outputs": [],
      "source": [
        "secret = lsb.hide(\"/content/ori-image/lena.png\", ciphertext.hex())\n",
        "\n",
        "secret.save(\"/content/stego-image/lsb_2_w_ECC.png\")"
      ]
    },
    {
      "cell_type": "code",
      "execution_count": 38,
      "metadata": {
        "id": "67STJ-x-ee0Y",
        "colab": {
          "base_uri": "https://localhost:8080/"
        },
        "outputId": "fe275e0c-e546-4dca-89c5-03e42e62456a"
      },
      "outputs": [
        {
          "output_type": "stream",
          "name": "stdout",
          "text": [
            "044ff0124b6dc6f03895b6880eeef1fe3ae10bef700b30f7b5c2ca613d596e7c1868d25c01ad9db3cf3ba1c40b6789867ab3430aab1d1abbeba1b355104543cb3d9317efc1be8355b5e3dbcb7da21943191300c1d04243e7a32e17d39315180caa982b5045298a87daedef79c55e8fe46afa841514eb9db5ecb1b9b3b44e406f1ed3a9f05cdc3d7d0ef08269f45520cd3f34df19e80fa3b10249ae1067e8e9bc2c0f3fbf31e106e1b7c187afd97007e6ab970ee582c9ac055ac16d2b8557bdb6c83aa7a96563b9ed624e24eed19830b84178fd0e642fd35f546ab536ccd329ffc8cddbf30fbffaa5fb150a9e0ce02552b22a979e855e24884385f470e65aa72fdfc75013d0892512dabe17cafd3687a79cea\n"
          ]
        }
      ],
      "source": [
        "print(lsb.reveal(\"/content/stego-image/lsb_2_w_ECC.png\"))"
      ]
    },
    {
      "cell_type": "code",
      "execution_count": 39,
      "metadata": {
        "id": "4vIxrr8Sejzh",
        "colab": {
          "base_uri": "https://localhost:8080/"
        },
        "outputId": "2033a51e-bd41-4d6c-8d9b-e04ebd99d529"
      },
      "outputs": [
        {
          "output_type": "stream",
          "name": "stdout",
          "text": [
            "PSNR: 73.51378506924091\n"
          ]
        },
        {
          "output_type": "execute_result",
          "data": {
            "text/plain": [
              "73.51378506924091"
            ]
          },
          "metadata": {},
          "execution_count": 39
        }
      ],
      "source": [
        "calculate_psnr_2(\"lsb_2_w_ECC.png\")"
      ]
    },
    {
      "cell_type": "code",
      "execution_count": 40,
      "metadata": {
        "id": "_38qduIQgLiY",
        "colab": {
          "base_uri": "https://localhost:8080/"
        },
        "outputId": "b054ddf0-e469-4325-d3d0-4d43eaa3af87"
      },
      "outputs": [
        {
          "output_type": "stream",
          "name": "stdout",
          "text": [
            "0.002895355224609375\n",
            "PSNR value: 73.51378506924091\n"
          ]
        }
      ],
      "source": [
        "import numpy as np\n",
        "import cv2\n",
        "\n",
        "def calculate_psnr(original_image, modified_image):\n",
        "    mse = np.mean((original_image - modified_image) ** 2)\n",
        "    if mse == 0:\n",
        "        return 100  # Perfect match\n",
        "    print(mse)\n",
        "    pixel_max = 255.0\n",
        "    return 20 * np.log10(pixel_max / np.sqrt(mse))\n",
        "\n",
        "# Example usage\n",
        "original_image = cv2.imread('/content/ori-image/lena.png')  # Load the original image\n",
        "modified_image = cv2.imread('/content/stego-image/lsb_2_w_ECC.png')  # Load the modified image after LSB embedding\n",
        "\n",
        "psnr_value = calculate_psnr(original_image, modified_image)\n",
        "print(f\"PSNR value: {psnr_value}\")\n"
      ]
    },
    {
      "cell_type": "markdown",
      "metadata": {
        "id": "3XBKCFK2Rys8"
      },
      "source": [
        "# LSB with LZW"
      ]
    },
    {
      "cell_type": "markdown",
      "metadata": {
        "id": "sAZx5BP6SEP-"
      },
      "source": [
        "## LZW"
      ]
    },
    {
      "cell_type": "code",
      "execution_count": 41,
      "metadata": {
        "id": "9KoIePk5R_f4",
        "colab": {
          "base_uri": "https://localhost:8080/"
        },
        "outputId": "b6a256ec-0571-4886-944f-168af5750a95"
      },
      "outputs": [
        {
          "output_type": "stream",
          "name": "stdout",
          "text": [
            "Original String: 3348610401970005#christofer*derian*budianto#tegal#1997-03-04#laki-laki#b#jl.*pala*22*no.*30#005#017#mejasem*tengah#kramat#katholik#belum*kawin#pelajar/mahasiswa#wni#seumur*hidup\n",
            "\n",
            "Original String Size: 177 bytes (1416 bits)\n",
            "Compressed Data Size: 166 bytes (1332 bits)\n",
            "Decompressed String Size: 177 bytes (1416 bits)\n",
            "Decompression was successful!\n",
            "\n",
            "Decompressed String: 3348610401970005#christofer*derian*budianto#tegal#1997-03-04#laki-laki#b#jl.*pala*22*no.*30#005#017#mejasem*tengah#kramat#katholik#belum*kawin#pelajar/mahasiswa#wni#seumur*hidup\n"
          ]
        }
      ],
      "source": [
        "import math\n",
        "\n",
        "def lzw_compress(uncompressed):\n",
        "    \"\"\"Compress the string using LZW algorithm.\"\"\"\n",
        "    dict_size = 256\n",
        "    dictionary = {chr(i): i for i in range(dict_size)}\n",
        "\n",
        "    w = \"\"\n",
        "    compressed_data = []\n",
        "\n",
        "    for c in uncompressed:\n",
        "        wc = w + c\n",
        "        if wc in dictionary:\n",
        "            w = wc\n",
        "        else:\n",
        "            compressed_data.append(dictionary[w])\n",
        "            dictionary[wc] = dict_size\n",
        "            dict_size += 1\n",
        "            w = c\n",
        "\n",
        "    if w:\n",
        "        compressed_data.append(dictionary[w])\n",
        "\n",
        "    return compressed_data, dict_size\n",
        "\n",
        "def lzw_decompress(compressed):\n",
        "    \"\"\"Decompress the LZW compressed data.\"\"\"\n",
        "    dict_size = 256\n",
        "    dictionary = {i: chr(i) for i in range(dict_size)}\n",
        "\n",
        "    w = chr(compressed.pop(0))\n",
        "    decompressed_data = w\n",
        "\n",
        "    for k in compressed:\n",
        "        if k in dictionary:\n",
        "            entry = dictionary[k]\n",
        "        elif k == dict_size:\n",
        "            entry = w + w[0]\n",
        "        else:\n",
        "            raise ValueError(f\"Bad compressed k: {k} (dictionary size: {dict_size})\")\n",
        "\n",
        "        decompressed_data += entry\n",
        "        dictionary[dict_size] = w + entry[0]\n",
        "        dict_size += 1\n",
        "        w = entry\n",
        "\n",
        "    return decompressed_data\n",
        "\n",
        "# Function to calculate size in bytes or bits\n",
        "def calculate_size(data, dict_size=None):\n",
        "    if isinstance(data, str):\n",
        "        # Size in bytes and bits for string (1 byte = 8 bits for each character)\n",
        "        size_in_bytes = len(data.encode('utf-8'))\n",
        "        size_in_bits = size_in_bytes * 8\n",
        "        return size_in_bytes, size_in_bits  # Size in bytes and bits\n",
        "    elif isinstance(data, list):\n",
        "        # Calculate the bit size for compressed data (variable bit-length encoding)\n",
        "        if dict_size is None:\n",
        "            raise ValueError(\"Dictionary size needed for proper bit calculation!\")\n",
        "        bits_needed = math.ceil(math.log2(dict_size))  # Number of bits required\n",
        "        total_bits = len(data) * bits_needed\n",
        "        return total_bits // 8, total_bits  # Returns size in bytes and bits\n",
        "\n",
        "# Example usage:\n",
        "input_string = CONTENT\n",
        "print(f\"Original String: {input_string}\")\n",
        "\n",
        "# Compress the input string\n",
        "compressed, dict_size = lzw_compress(input_string)\n",
        "decompressed = lzw_decompress(compressed)\n",
        "\n",
        "# Sizes\n",
        "original_size_bytes, original_size_bits = calculate_size(input_string)  # Original size in bytes and bits\n",
        "compressed_size_bytes, compressed_size_bits = calculate_size(compressed, dict_size)  # Compressed size in bytes and bits\n",
        "decompressed_size_bytes, decompressed_size_bits = calculate_size(decompressed)  # Decompressed size in bytes and bits\n",
        "\n",
        "print(f\"\\nOriginal String Size: {original_size_bytes} bytes ({original_size_bits} bits)\")\n",
        "print(f\"Compressed Data Size: {compressed_size_bytes} bytes ({compressed_size_bits} bits)\")\n",
        "print(f\"Decompressed String Size: {decompressed_size_bytes} bytes ({decompressed_size_bits} bits)\")\n",
        "\n",
        "# Check if decompressed string matches the original string\n",
        "if decompressed == input_string:\n",
        "    print(\"Decompression was successful!\")\n",
        "    print()\n",
        "    print(f\"Decompressed String: {decompressed}\")\n",
        "else:\n",
        "    print(\"Decompression failed.\")"
      ]
    },
    {
      "cell_type": "code",
      "execution_count": 42,
      "metadata": {
        "id": "yYuAkNtOSa0Q",
        "colab": {
          "base_uri": "https://localhost:8080/"
        },
        "outputId": "f4db84ee-80d1-4dc8-9f3f-b9a5a167c777"
      },
      "outputs": [
        {
          "output_type": "stream",
          "name": "stdout",
          "text": [
            "[51, 52, 56, 54, 49, 48, 52, 48, 49, 57, 55, 48, 268, 53, 35, 99, 104, 114, 105, 115, 116, 111, 102, 101, 114, 42, 100, 280, 105, 97, 110, 42, 98, 117, 100, 285, 110, 277, 35, 116, 101, 103, 97, 108, 35, 265, 266, 45, 48, 51, 304, 52, 35, 108, 97, 107, 105, 45, 310, 312, 35, 98, 35, 106, 108, 46, 42, 112, 299, 97, 42, 50, 50, 42, 110, 111, 322, 51, 48, 35, 269, 336, 49, 55, 35, 109, 101, 106, 97, 115, 101, 109, 42, 296, 110, 298, 104, 35, 107, 114, 97, 109, 97, 116, 354, 359, 104, 111, 108, 105, 107, 317, 101, 108, 117, 348, 107, 97, 119, 105, 110, 35, 112, 369, 97, 344, 114, 47, 358, 104, 345, 275, 119, 97, 35, 119, 110, 105, 35, 346, 371, 117, 281, 104, 105, 100, 117, 112]\n"
          ]
        }
      ],
      "source": [
        "print(compressed)"
      ]
    },
    {
      "cell_type": "code",
      "execution_count": 43,
      "metadata": {
        "id": "3RglDfk6S_5G",
        "colab": {
          "base_uri": "https://localhost:8080/",
          "height": 105
        },
        "outputId": "b9752f9e-57f8-4b68-aac2-ed629450bead"
      },
      "outputs": [
        {
          "output_type": "execute_result",
          "data": {
            "text/plain": [
              "'51,52,56,54,49,48,52,48,49,57,55,48,268,53,35,99,104,114,105,115,116,111,102,101,114,42,100,280,105,97,110,42,98,117,100,285,110,277,35,116,101,103,97,108,35,265,266,45,48,51,304,52,35,108,97,107,105,45,310,312,35,98,35,106,108,46,42,112,299,97,42,50,50,42,110,111,322,51,48,35,269,336,49,55,35,109,101,106,97,115,101,109,42,296,110,298,104,35,107,114,97,109,97,116,354,359,104,111,108,105,107,317,101,108,117,348,107,97,119,105,110,35,112,369,97,344,114,47,358,104,345,275,119,97,35,119,110,105,35,346,371,117,281,104,105,100,117,112'"
            ],
            "application/vnd.google.colaboratory.intrinsic+json": {
              "type": "string"
            }
          },
          "metadata": {},
          "execution_count": 43
        }
      ],
      "source": [
        "compressed_str = ','.join(map(str, compressed))\n",
        "\n",
        "compressed_str"
      ]
    },
    {
      "cell_type": "code",
      "execution_count": 44,
      "metadata": {
        "id": "Gf2CieUvSmzS"
      },
      "outputs": [],
      "source": [
        "embed_lsb(\"lsb_w_LZW.png\", compressed_str)"
      ]
    },
    {
      "cell_type": "code",
      "execution_count": 45,
      "metadata": {
        "id": "3uOuEMheTHWH",
        "colab": {
          "base_uri": "https://localhost:8080/",
          "height": 105
        },
        "outputId": "fc9ebfe2-5d0b-4fb3-c6c9-4ee49df29ed2"
      },
      "outputs": [
        {
          "output_type": "execute_result",
          "data": {
            "text/plain": [
              "'51,52,56,54,49,48,52,48,49,57,55,48,268,53,35,99,104,114,105,115,116,111,102,101,114,42,100,280,105,97,110,42,98,117,100,285,110,277,35,116,101,103,97,108,35,265,266,45,48,51,304,52,35,108,97,107,105,45,310,312,35,98,35,106,108,46,42,112,299,97,42,50,50,42,110,111,322,51,48,35,269,336,49,55,35,109,101,106,97,115,101,109,42,296,110,298,104,35,107,114,97,109,97,116,354,359,104,111,108,105,107,317,101,108,117,348,107,97,119,105,110,35,112,369,97,344,114,47,358,104,345,275,119,97,35,119,110,105,35,346,371,117,281,104,105,100,117,112'"
            ],
            "application/vnd.google.colaboratory.intrinsic+json": {
              "type": "string"
            }
          },
          "metadata": {},
          "execution_count": 45
        }
      ],
      "source": [
        "extracted_lzw_from_lsb = extract_lsb(\"lsb_w_LZW.png\")\n",
        "extracted_lzw_from_lsb"
      ]
    },
    {
      "cell_type": "code",
      "execution_count": 46,
      "metadata": {
        "id": "B8V4WZf5WPUc",
        "colab": {
          "base_uri": "https://localhost:8080/"
        },
        "outputId": "ebf8293e-cdfd-4de4-9b26-78e60a4e4839"
      },
      "outputs": [
        {
          "output_type": "stream",
          "name": "stdout",
          "text": [
            "PSNR: 73.77314241018492\n"
          ]
        },
        {
          "output_type": "execute_result",
          "data": {
            "text/plain": [
              "73.77314241018492"
            ]
          },
          "metadata": {},
          "execution_count": 46
        }
      ],
      "source": [
        "calculate_psnr_2(\"lsb_w_LZW.png\")"
      ]
    },
    {
      "cell_type": "code",
      "execution_count": 47,
      "metadata": {
        "id": "gUGVfVTVTUd5",
        "colab": {
          "base_uri": "https://localhost:8080/"
        },
        "outputId": "fb3b2799-75a8-49de-ace8-499832909cb4"
      },
      "outputs": [
        {
          "output_type": "execute_result",
          "data": {
            "text/plain": [
              "[51,\n",
              " 52,\n",
              " 56,\n",
              " 54,\n",
              " 49,\n",
              " 48,\n",
              " 52,\n",
              " 48,\n",
              " 49,\n",
              " 57,\n",
              " 55,\n",
              " 48,\n",
              " 268,\n",
              " 53,\n",
              " 35,\n",
              " 99,\n",
              " 104,\n",
              " 114,\n",
              " 105,\n",
              " 115,\n",
              " 116,\n",
              " 111,\n",
              " 102,\n",
              " 101,\n",
              " 114,\n",
              " 42,\n",
              " 100,\n",
              " 280,\n",
              " 105,\n",
              " 97,\n",
              " 110,\n",
              " 42,\n",
              " 98,\n",
              " 117,\n",
              " 100,\n",
              " 285,\n",
              " 110,\n",
              " 277,\n",
              " 35,\n",
              " 116,\n",
              " 101,\n",
              " 103,\n",
              " 97,\n",
              " 108,\n",
              " 35,\n",
              " 265,\n",
              " 266,\n",
              " 45,\n",
              " 48,\n",
              " 51,\n",
              " 304,\n",
              " 52,\n",
              " 35,\n",
              " 108,\n",
              " 97,\n",
              " 107,\n",
              " 105,\n",
              " 45,\n",
              " 310,\n",
              " 312,\n",
              " 35,\n",
              " 98,\n",
              " 35,\n",
              " 106,\n",
              " 108,\n",
              " 46,\n",
              " 42,\n",
              " 112,\n",
              " 299,\n",
              " 97,\n",
              " 42,\n",
              " 50,\n",
              " 50,\n",
              " 42,\n",
              " 110,\n",
              " 111,\n",
              " 322,\n",
              " 51,\n",
              " 48,\n",
              " 35,\n",
              " 269,\n",
              " 336,\n",
              " 49,\n",
              " 55,\n",
              " 35,\n",
              " 109,\n",
              " 101,\n",
              " 106,\n",
              " 97,\n",
              " 115,\n",
              " 101,\n",
              " 109,\n",
              " 42,\n",
              " 296,\n",
              " 110,\n",
              " 298,\n",
              " 104,\n",
              " 35,\n",
              " 107,\n",
              " 114,\n",
              " 97,\n",
              " 109,\n",
              " 97,\n",
              " 116,\n",
              " 354,\n",
              " 359,\n",
              " 104,\n",
              " 111,\n",
              " 108,\n",
              " 105,\n",
              " 107,\n",
              " 317,\n",
              " 101,\n",
              " 108,\n",
              " 117,\n",
              " 348,\n",
              " 107,\n",
              " 97,\n",
              " 119,\n",
              " 105,\n",
              " 110,\n",
              " 35,\n",
              " 112,\n",
              " 369,\n",
              " 97,\n",
              " 344,\n",
              " 114,\n",
              " 47,\n",
              " 358,\n",
              " 104,\n",
              " 345,\n",
              " 275,\n",
              " 119,\n",
              " 97,\n",
              " 35,\n",
              " 119,\n",
              " 110,\n",
              " 105,\n",
              " 35,\n",
              " 346,\n",
              " 371,\n",
              " 117,\n",
              " 281,\n",
              " 104,\n",
              " 105,\n",
              " 100,\n",
              " 117,\n",
              " 112]"
            ]
          },
          "metadata": {},
          "execution_count": 47
        }
      ],
      "source": [
        "extracted_compressed_data = list(map(int, extracted_lzw_from_lsb.split(',')))\n",
        "extracted_compressed_data"
      ]
    },
    {
      "cell_type": "code",
      "execution_count": 48,
      "metadata": {
        "id": "VHlIiKpJTMYQ",
        "colab": {
          "base_uri": "https://localhost:8080/",
          "height": 53
        },
        "outputId": "89991ad3-73bf-4e75-c331-f78993284715"
      },
      "outputs": [
        {
          "output_type": "execute_result",
          "data": {
            "text/plain": [
              "'3348610401970005#christofer*derian*budianto#tegal#1997-03-04#laki-laki#b#jl.*pala*22*no.*30#005#017#mejasem*tengah#kramat#katholik#belum*kawin#pelajar/mahasiswa#wni#seumur*hidup'"
            ],
            "application/vnd.google.colaboratory.intrinsic+json": {
              "type": "string"
            }
          },
          "metadata": {},
          "execution_count": 48
        }
      ],
      "source": [
        "# decompressed = lzw_decompress(extracted_compressed_data)\n",
        "decompressed"
      ]
    },
    {
      "cell_type": "markdown",
      "metadata": {
        "id": "_eeLgN7BVZkt"
      },
      "source": [
        "only decompress sequenced after compress"
      ]
    },
    {
      "cell_type": "markdown",
      "metadata": {
        "id": "_S6T9QEnVfxa"
      },
      "source": [
        "## LZW Package"
      ]
    },
    {
      "cell_type": "code",
      "execution_count": 49,
      "metadata": {
        "id": "69_8i9pDVhmp",
        "colab": {
          "base_uri": "https://localhost:8080/"
        },
        "outputId": "78a6bd22-9266-4997-dc30-e83ce7541a23"
      },
      "outputs": [
        {
          "output_type": "stream",
          "name": "stdout",
          "text": [
            "Cloning into 'python-lzw'...\n",
            "remote: Enumerating objects: 80, done.\u001b[K\n",
            "remote: Total 80 (delta 0), reused 0 (delta 0), pack-reused 80 (from 1)\u001b[K\n",
            "Receiving objects: 100% (80/80), 3.22 MiB | 15.36 MiB/s, done.\n",
            "Resolving deltas: 100% (30/30), done.\n"
          ]
        }
      ],
      "source": [
        "!git clone https://github.com/joeatwork/python-lzw"
      ]
    },
    {
      "cell_type": "code",
      "execution_count": 50,
      "metadata": {
        "id": "7nKf4VgMVzmv",
        "colab": {
          "base_uri": "https://localhost:8080/"
        },
        "outputId": "fc183fe7-be62-4f2d-bb90-82606b3d8e27"
      },
      "outputs": [
        {
          "output_type": "stream",
          "name": "stdout",
          "text": [
            "running install\n",
            "/usr/local/lib/python3.10/dist-packages/setuptools/_distutils/cmd.py:66: SetuptoolsDeprecationWarning: setup.py install is deprecated.\n",
            "!!\n",
            "\n",
            "        ********************************************************************************\n",
            "        Please avoid running ``setup.py`` directly.\n",
            "        Instead, use pypa/build, pypa/installer or other\n",
            "        standards-based tools.\n",
            "\n",
            "        See https://blog.ganssle.io/articles/2021/10/setup-py-deprecated.html for details.\n",
            "        ********************************************************************************\n",
            "\n",
            "!!\n",
            "  self.initialize_options()\n",
            "/usr/local/lib/python3.10/dist-packages/setuptools/_distutils/cmd.py:66: EasyInstallDeprecationWarning: easy_install command is deprecated.\n",
            "!!\n",
            "\n",
            "        ********************************************************************************\n",
            "        Please avoid running ``setup.py`` and ``easy_install``.\n",
            "        Instead, use pypa/build, pypa/installer or other\n",
            "        standards-based tools.\n",
            "\n",
            "        See https://github.com/pypa/setuptools/issues/917 for details.\n",
            "        ********************************************************************************\n",
            "\n",
            "!!\n",
            "  self.initialize_options()\n",
            "running bdist_egg\n",
            "running egg_info\n",
            "creating lzw.egg-info\n",
            "writing lzw.egg-info/PKG-INFO\n",
            "writing dependency_links to lzw.egg-info/dependency_links.txt\n",
            "writing requirements to lzw.egg-info/requires.txt\n",
            "writing top-level names to lzw.egg-info/top_level.txt\n",
            "writing manifest file 'lzw.egg-info/SOURCES.txt'\n",
            "file lzw.py (for module lzw) not found\n",
            "error: package directory 'lzw' does not exist\n"
          ]
        }
      ],
      "source": [
        "!cd /content/python-lzw && mv lzw/ /content/ && python setup.py install"
      ]
    },
    {
      "cell_type": "code",
      "execution_count": 51,
      "metadata": {
        "id": "7bMYqpq9VofO",
        "colab": {
          "base_uri": "https://localhost:8080/"
        },
        "outputId": "d6fdb889-c6a2-498a-eb55-00ba678d2bc2"
      },
      "outputs": [
        {
          "output_type": "stream",
          "name": "stdout",
          "text": [
            "Original Text (String): 3348610401970005#christofer*derian*budianto#tegal#1997-03-04#laki-laki#b#jl.*pala*22*no.*30#005#017#mejasem*tengah#kramat#katholik#belum*kawin#pelajar/mahasiswa#wni#seumur*hidup\n",
            "Original Bytes: b'3348610401970005#christofer*derian*budianto#tegal#1997-03-04#laki-laki#b#jl.*pala*22*no.*30#005#017#mejasem*tengah#kramat#katholik#belum*kawin#pelajar/mahasiswa#wni#seumur*hidup'\n",
            "Compressed List (Byte Chunks): [b'\\x19', b'\\x8c', b'\\xc6', b'\\x83', b'\\x81', b'\\xb0', b'\\xc4', b'`', b'4', b'\\x18', b'\\x0c', b'G', b'#', b'q', b'\\x84', b'8', b'j', b'#', b'1', b'\\x9a', b'\\x0e', b'F', b'\\x93', b'\\x99', b'\\xd0', b'\\xde', b'f', b'2', b'\\x9c', b'\\x85', b'F', b'H', b'\\xd1', b'\\xa4', b'\\xc2', b'n', b'\\x15', b'\\x18', b'\\x8e', b'\\xa6', b'H', b'\\xf9', b'\\xba', b'.', b'#', b':', b'\\x19', b'L', b'\\xe6', b'\\x13', b'`', b'\\x8e', b'\\x17', b'\\x0c', b'\\x16', b'\\x8c', b'\\x06', b's', b'!', b'\\xa0', b'\\x8c', b'\\xd8', b'a', b'5', b'\\x9a', b'E', b'\\xb3', b'\\x89', b'\\xd0', b'\\x8c', b'\\xc4', b'#', b'5', b'\\x1b', b'\\x05', b'\\xc2', b'\\xa3', b'\\x84', b'\\xb4', b'\\xc2', b'*', b'\\x19', b'\\x0c', b'\\x85', b'F', b'\\xe3', b'}', b'\\x10', b'f', b'0', b'\\x11', b'\\xc3', b'\\xea', b'C', b'\\x11', b'\\xb8', b'\\x8c', b'\\xda', b'e', b'5', b'\\x18', b'N', b'f', b'S', b'h', b'\\xaa', b'T', b'n', b'\\x96', b'\\x1a', b'\\x04', b'f', b'\\xb3', b'\\x91', b'\\x84', b'\\xda', b'a', b':', b'Y', b'-', b'&', b'\\x83', b'y', b'\\xb0', b'\\xd2', b'k', b'\\x9f', b'\\x99', b'M', b'\\x87', b'Z', b'\\xf1', b'\\xac', b'\\xc2', b'w', b'4', b'\\x9b', b'\\x84', b'g', b'\\x0b', b'\\x99', b'\\x86', b'\\xb4', b'r', b'\\x17', b'\\xda', b'\\r', b'\\x15', b'\\xb8', b'\\xa9', b'\\xdc', b'\\xc2', b'#', b';', b'\\x9b', b'\\x8d', b'\"', b':', b'\\xe5', b'\\xd4', b'\\xeb', b'\\x1b', b'4', b'\\x1a', b'L', b'\\x87', b'S', b'\\x84', b'\\x00']\n",
            "Decompressed Bytes: b'3348610401970005#christofer*derian*budianto#tegal#1997-03-04#laki-laki#b#jl.*pala*22*no.*30#005#017#mejasem*tengah#kramat#katholik#belum*kawin#pelajar/mahasiswa#wni#seumur*hidup'\n",
            "Decompressed Text (String): 3348610401970005#christofer*derian*budianto#tegal#1997-03-04#laki-laki#b#jl.*pala*22*no.*30#005#017#mejasem*tengah#kramat#katholik#belum*kawin#pelajar/mahasiswa#wni#seumur*hidup\n",
            "\n",
            "Original size: 177 bytes\n",
            "Compressed size: 169 bytes\n",
            "Decompressed size: 177 bytes\n",
            "Decompression was successful!\n"
          ]
        }
      ],
      "source": [
        "import lzw\n",
        "\n",
        "# Example text to compress (can be any string)\n",
        "original_text = CONTENT\n",
        "\n",
        "# Convert the original text into bytes (UTF-8 encoding)\n",
        "original_bytes = original_text.encode('utf-8')\n",
        "\n",
        "# Part 1: Compression (in-memory)\n",
        "compressed = lzw.compress(original_bytes)\n",
        "\n",
        "# Convert compressed generator to a list to see its contents\n",
        "compressed_list = list(compressed)\n",
        "\n",
        "# Part 2: Decompression (in-memory)\n",
        "decompressed_chunks = lzw.decompress(compressed_list)\n",
        "\n",
        "# Join the decompressed chunks into a single byte string\n",
        "decompressed_bytes = b\"\".join(decompressed_chunks)\n",
        "\n",
        "# Convert decompressed bytes back to a string\n",
        "decompressed_text = decompressed_bytes.decode('utf-8')\n",
        "\n",
        "# Print each variable\n",
        "print(\"Original Text (String):\", original_text)\n",
        "print(\"Original Bytes:\", original_bytes)\n",
        "print(\"Compressed List (Byte Chunks):\", compressed_list)\n",
        "print(\"Decompressed Bytes:\", decompressed_bytes)\n",
        "print(\"Decompressed Text (String):\", decompressed_text)\n",
        "\n",
        "# Part 3: Print sizes and results for comparison\n",
        "original_size = len(original_bytes)\n",
        "compressed_size = len(b\"\".join(compressed_list))  # Join to get compressed byte size\n",
        "decompressed_size = len(decompressed_bytes)\n",
        "\n",
        "# Print the sizes in bytes\n",
        "print(f\"\\nOriginal size: {original_size} bytes\")\n",
        "print(f\"Compressed size: {compressed_size} bytes\")\n",
        "print(f\"Decompressed size: {decompressed_size} bytes\")\n",
        "\n",
        "# Check if decompression was successful\n",
        "if decompressed_text == original_text:\n",
        "    print(\"Decompression was successful!\")\n",
        "else:\n",
        "    print(\"Decompression failed.\")"
      ]
    },
    {
      "cell_type": "code",
      "execution_count": 52,
      "metadata": {
        "id": "UWMorW3TWoPe",
        "colab": {
          "base_uri": "https://localhost:8080/"
        },
        "outputId": "aa12235a-919a-4489-9c77-222b174cbfaa"
      },
      "outputs": [
        {
          "output_type": "execute_result",
          "data": {
            "text/plain": [
              "<generator object BitPacker.pack at 0x7967435823b0>"
            ]
          },
          "metadata": {},
          "execution_count": 52
        }
      ],
      "source": [
        "compressed"
      ]
    },
    {
      "cell_type": "code",
      "execution_count": 53,
      "metadata": {
        "id": "G-oNzR9uV3zn",
        "colab": {
          "base_uri": "https://localhost:8080/"
        },
        "outputId": "62bf2015-1178-45e7-9d35-eca456befa24"
      },
      "outputs": [
        {
          "output_type": "execute_result",
          "data": {
            "text/plain": [
              "[b'\\x19',\n",
              " b'\\x8c',\n",
              " b'\\xc6',\n",
              " b'\\x83',\n",
              " b'\\x81',\n",
              " b'\\xb0',\n",
              " b'\\xc4',\n",
              " b'`',\n",
              " b'4',\n",
              " b'\\x18',\n",
              " b'\\x0c',\n",
              " b'G',\n",
              " b'#',\n",
              " b'q',\n",
              " b'\\x84',\n",
              " b'8',\n",
              " b'j',\n",
              " b'#',\n",
              " b'1',\n",
              " b'\\x9a',\n",
              " b'\\x0e',\n",
              " b'F',\n",
              " b'\\x93',\n",
              " b'\\x99',\n",
              " b'\\xd0',\n",
              " b'\\xde',\n",
              " b'f',\n",
              " b'2',\n",
              " b'\\x9c',\n",
              " b'\\x85',\n",
              " b'F',\n",
              " b'H',\n",
              " b'\\xd1',\n",
              " b'\\xa4',\n",
              " b'\\xc2',\n",
              " b'n',\n",
              " b'\\x15',\n",
              " b'\\x18',\n",
              " b'\\x8e',\n",
              " b'\\xa6',\n",
              " b'H',\n",
              " b'\\xf9',\n",
              " b'\\xba',\n",
              " b'.',\n",
              " b'#',\n",
              " b':',\n",
              " b'\\x19',\n",
              " b'L',\n",
              " b'\\xe6',\n",
              " b'\\x13',\n",
              " b'`',\n",
              " b'\\x8e',\n",
              " b'\\x17',\n",
              " b'\\x0c',\n",
              " b'\\x16',\n",
              " b'\\x8c',\n",
              " b'\\x06',\n",
              " b's',\n",
              " b'!',\n",
              " b'\\xa0',\n",
              " b'\\x8c',\n",
              " b'\\xd8',\n",
              " b'a',\n",
              " b'5',\n",
              " b'\\x9a',\n",
              " b'E',\n",
              " b'\\xb3',\n",
              " b'\\x89',\n",
              " b'\\xd0',\n",
              " b'\\x8c',\n",
              " b'\\xc4',\n",
              " b'#',\n",
              " b'5',\n",
              " b'\\x1b',\n",
              " b'\\x05',\n",
              " b'\\xc2',\n",
              " b'\\xa3',\n",
              " b'\\x84',\n",
              " b'\\xb4',\n",
              " b'\\xc2',\n",
              " b'*',\n",
              " b'\\x19',\n",
              " b'\\x0c',\n",
              " b'\\x85',\n",
              " b'F',\n",
              " b'\\xe3',\n",
              " b'}',\n",
              " b'\\x10',\n",
              " b'f',\n",
              " b'0',\n",
              " b'\\x11',\n",
              " b'\\xc3',\n",
              " b'\\xea',\n",
              " b'C',\n",
              " b'\\x11',\n",
              " b'\\xb8',\n",
              " b'\\x8c',\n",
              " b'\\xda',\n",
              " b'e',\n",
              " b'5',\n",
              " b'\\x18',\n",
              " b'N',\n",
              " b'f',\n",
              " b'S',\n",
              " b'h',\n",
              " b'\\xaa',\n",
              " b'T',\n",
              " b'n',\n",
              " b'\\x96',\n",
              " b'\\x1a',\n",
              " b'\\x04',\n",
              " b'f',\n",
              " b'\\xb3',\n",
              " b'\\x91',\n",
              " b'\\x84',\n",
              " b'\\xda',\n",
              " b'a',\n",
              " b':',\n",
              " b'Y',\n",
              " b'-',\n",
              " b'&',\n",
              " b'\\x83',\n",
              " b'y',\n",
              " b'\\xb0',\n",
              " b'\\xd2',\n",
              " b'k',\n",
              " b'\\x9f',\n",
              " b'\\x99',\n",
              " b'M',\n",
              " b'\\x87',\n",
              " b'Z',\n",
              " b'\\xf1',\n",
              " b'\\xac',\n",
              " b'\\xc2',\n",
              " b'w',\n",
              " b'4',\n",
              " b'\\x9b',\n",
              " b'\\x84',\n",
              " b'g',\n",
              " b'\\x0b',\n",
              " b'\\x99',\n",
              " b'\\x86',\n",
              " b'\\xb4',\n",
              " b'r',\n",
              " b'\\x17',\n",
              " b'\\xda',\n",
              " b'\\r',\n",
              " b'\\x15',\n",
              " b'\\xb8',\n",
              " b'\\xa9',\n",
              " b'\\xdc',\n",
              " b'\\xc2',\n",
              " b'#',\n",
              " b';',\n",
              " b'\\x9b',\n",
              " b'\\x8d',\n",
              " b'\"',\n",
              " b':',\n",
              " b'\\xe5',\n",
              " b'\\xd4',\n",
              " b'\\xeb',\n",
              " b'\\x1b',\n",
              " b'4',\n",
              " b'\\x1a',\n",
              " b'L',\n",
              " b'\\x87',\n",
              " b'S',\n",
              " b'\\x84',\n",
              " b'\\x00']"
            ]
          },
          "metadata": {},
          "execution_count": 53
        }
      ],
      "source": [
        "compressed_list"
      ]
    },
    {
      "cell_type": "code",
      "execution_count": 54,
      "metadata": {
        "id": "YIrtiKqJXFyp",
        "colab": {
          "base_uri": "https://localhost:8080/"
        },
        "outputId": "2a253fd2-0718-469b-910d-ec432cf326ed"
      },
      "outputs": [
        {
          "output_type": "execute_result",
          "data": {
            "text/plain": [
              "list"
            ]
          },
          "metadata": {},
          "execution_count": 54
        }
      ],
      "source": [
        "type(compressed_list)"
      ]
    },
    {
      "cell_type": "code",
      "execution_count": 55,
      "metadata": {
        "id": "a32kV9LKWD6R"
      },
      "outputs": [],
      "source": [
        "embed_lsb(\"lsb_w_LZW_package.png\", compressed_list)"
      ]
    },
    {
      "cell_type": "code",
      "execution_count": 56,
      "metadata": {
        "id": "H09aVjtkWGtg",
        "colab": {
          "base_uri": "https://localhost:8080/",
          "height": 70
        },
        "outputId": "7071818a-56b1-4867-b0ab-984bd172d9b9"
      },
      "outputs": [
        {
          "output_type": "execute_result",
          "data": {
            "text/plain": [
              "'\\x19\\x8cÆ\\x83\\x81°Ä`4\\x18\\x0cG#q\\x848j#1\\x9a\\x0eF\\x93\\x99ÐÞf2\\x9c\\x85FHÑ¤Ân\\x15\\x18\\x8e¦Hùº.#:\\x19Læ\\x13`\\x8e\\x17\\x0c\\x16\\x8c\\x06s!\\xa0\\x8cØa5\\x9aE³\\x89Ð\\x8cÄ#5\\x1b\\x05Â£\\x84´Â*\\x19\\x0c\\x85Fã}\\x10f0\\x11ÃêC\\x11¸\\x8cÚe5\\x18NfShªTn\\x96\\x1a\\x04f³\\x91\\x84Úa:Y-&\\x83y°Òk\\x9f\\x99M\\x87Zñ¬Âw4\\x9b\\x84g\\x0b\\x99\\x86´r\\x17Ú\\r\\x15¸©ÜÂ#;\\x9b\\x8d\":åÔë\\x1b4\\x1aL\\x87S\\x84\\x00'"
            ],
            "application/vnd.google.colaboratory.intrinsic+json": {
              "type": "string"
            }
          },
          "metadata": {},
          "execution_count": 56
        }
      ],
      "source": [
        "extracted_data = extract_lsb(\"lsb_w_LZW_package.png\")\n",
        "extracted_data"
      ]
    },
    {
      "cell_type": "code",
      "execution_count": 57,
      "metadata": {
        "id": "N7muD9UjXYNx",
        "colab": {
          "base_uri": "https://localhost:8080/"
        },
        "outputId": "59f9c9ab-5df2-4b5d-fbf4-3633a95b3eba"
      },
      "outputs": [
        {
          "output_type": "stream",
          "name": "stdout",
          "text": [
            "[\n",
            "b'\\x19',\n",
            " b'\\x8c',\n",
            " b'\\xc6',\n",
            " b'\\x83',\n",
            " b'\\x81',\n",
            " b'\\xb0',\n",
            " b'\\xc4',\n",
            " b'`',\n",
            " b'4',\n",
            " b'\\x18',\n",
            " b'\\x0c',\n",
            " b'G',\n",
            " b'#',\n",
            " b'q',\n",
            " b'\\x84',\n",
            " b'8',\n",
            " b'j',\n",
            " b'#',\n",
            " b'1',\n",
            " b'\\x9a',\n",
            " b'\\x0e',\n",
            " b'F',\n",
            " b'\\x93',\n",
            " b'\\x99',\n",
            " b'\\xd0',\n",
            " b'\\xde',\n",
            " b'f',\n",
            " b'2',\n",
            " b'\\x9c',\n",
            " b'\\x85',\n",
            " b'F',\n",
            " b'H',\n",
            " b'\\xd1',\n",
            " b'\\xa4',\n",
            " b'\\xc2',\n",
            " b'n',\n",
            " b'\\x15',\n",
            " b'\\x18',\n",
            " b'\\x8e',\n",
            " b'\\xa6',\n",
            " b'H',\n",
            " b'\\xf9',\n",
            " b'\\xba',\n",
            " b'.',\n",
            " b'#',\n",
            " b':',\n",
            " b'\\x19',\n",
            " b'L',\n",
            " b'\\xe6',\n",
            " b'\\x13',\n",
            " b'`',\n",
            " b'\\x8e',\n",
            " b'\\x17',\n",
            " b'\\x0c',\n",
            " b'\\x16',\n",
            " b'\\x8c',\n",
            " b'\\x06',\n",
            " b's',\n",
            " b'!',\n",
            " b'\\xa0',\n",
            " b'\\x8c',\n",
            " b'\\xd8',\n",
            " b'a',\n",
            " b'5',\n",
            " b'\\x9a',\n",
            " b'E',\n",
            " b'\\xb3',\n",
            " b'\\x89',\n",
            " b'\\xd0',\n",
            " b'\\x8c',\n",
            " b'\\xc4',\n",
            " b'#',\n",
            " b'5',\n",
            " b'\\x1b',\n",
            " b'\\x05',\n",
            " b'\\xc2',\n",
            " b'\\xa3',\n",
            " b'\\x84',\n",
            " b'\\xb4',\n",
            " b'\\xc2',\n",
            " b'*',\n",
            " b'\\x19',\n",
            " b'\\x0c',\n",
            " b'\\x85',\n",
            " b'F',\n",
            " b'\\xe3',\n",
            " b'}',\n",
            " b'\\x10',\n",
            " b'f',\n",
            " b'0',\n",
            " b'\\x11',\n",
            " b'\\xc3',\n",
            " b'\\xea',\n",
            " b'C',\n",
            " b'\\x11',\n",
            " b'\\xb8',\n",
            " b'\\x8c',\n",
            " b'\\xda',\n",
            " b'e',\n",
            " b'5',\n",
            " b'\\x18',\n",
            " b'N',\n",
            " b'f',\n",
            " b'S',\n",
            " b'h',\n",
            " b'\\xaa',\n",
            " b'T',\n",
            " b'n',\n",
            " b'\\x96',\n",
            " b'\\x1a',\n",
            " b'\\x04',\n",
            " b'f',\n",
            " b'\\xb3',\n",
            " b'\\x91',\n",
            " b'\\x84',\n",
            " b'\\xda',\n",
            " b'a',\n",
            " b':',\n",
            " b'Y',\n",
            " b'-',\n",
            " b'&',\n",
            " b'\\x83',\n",
            " b'y',\n",
            " b'\\xb0',\n",
            " b'\\xd2',\n",
            " b'k',\n",
            " b'\\x9f',\n",
            " b'\\x99',\n",
            " b'M',\n",
            " b'\\x87',\n",
            " b'Z',\n",
            " b'\\xf1',\n",
            " b'\\xac',\n",
            " b'\\xc2',\n",
            " b'w',\n",
            " b'4',\n",
            " b'\\x9b',\n",
            " b'\\x84',\n",
            " b'g',\n",
            " b'\\x0b',\n",
            " b'\\x99',\n",
            " b'\\x86',\n",
            " b'\\xb4',\n",
            " b'r',\n",
            " b'\\x17',\n",
            " b'\\xda',\n",
            " b'\\r',\n",
            " b'\\x15',\n",
            " b'\\xb8',\n",
            " b'\\xa9',\n",
            " b'\\xdc',\n",
            " b'\\xc2',\n",
            " b'#',\n",
            " b';',\n",
            " b'\\x9b',\n",
            " b'\\x8d',\n",
            " b'\"',\n",
            " b':',\n",
            " b'\\xe5',\n",
            " b'\\xd4',\n",
            " b'\\xeb',\n",
            " b'\\x1b',\n",
            " b'4',\n",
            " b'\\x1a',\n",
            " b'L',\n",
            " b'\\x87',\n",
            " b'S',\n",
            " b'\\x84',\n",
            " b'\\x00'\n",
            "]\n"
          ]
        }
      ],
      "source": [
        "output_list = [repr(byte.encode('latin1')) for byte in extracted_data]\n",
        "\n",
        "# Print in the requested format\n",
        "formatted_output = \"[\\n\" + \",\\n \".join(output_list) + \"\\n]\"\n",
        "\n",
        "print(formatted_output)"
      ]
    },
    {
      "cell_type": "code",
      "execution_count": 58,
      "metadata": {
        "id": "1yikICHmXf7G",
        "colab": {
          "base_uri": "https://localhost:8080/"
        },
        "outputId": "d359fa59-d01a-4cf8-99f6-b8051f0a10d2"
      },
      "outputs": [
        {
          "output_type": "execute_result",
          "data": {
            "text/plain": [
              "str"
            ]
          },
          "metadata": {},
          "execution_count": 58
        }
      ],
      "source": [
        "type(formatted_output)"
      ]
    },
    {
      "cell_type": "code",
      "execution_count": 59,
      "metadata": {
        "id": "B6IECMfjXsA5",
        "colab": {
          "base_uri": "https://localhost:8080/"
        },
        "outputId": "b45c8a42-c0d3-4878-d03a-bd2d47db2e20"
      },
      "outputs": [
        {
          "output_type": "stream",
          "name": "stdout",
          "text": [
            "[b'\\x19', b'\\x8c', b'\\xc6', b'\\x83', b'\\x81', b'\\xb0', b'\\xc4', b'`', b'4', b'\\x18', b'\\x0c', b'G', b'#', b'q', b'\\x84', b'8', b'j', b'#', b'1', b'\\x9a', b'\\x0e', b'F', b'\\x93', b'\\x99', b'\\xd0', b'\\xde', b'f', b'2', b'\\x9c', b'\\x85', b'F', b'H', b'\\xd1', b'\\xa4', b'\\xc2', b'n', b'\\x15', b'\\x18', b'\\x8e', b'\\xa6', b'H', b'\\xf9', b'\\xba', b'.', b'#', b':', b'\\x19', b'L', b'\\xe6', b'\\x13', b'`', b'\\x8e', b'\\x17', b'\\x0c', b'\\x16', b'\\x8c', b'\\x06', b's', b'!', b'\\xa0', b'\\x8c', b'\\xd8', b'a', b'5', b'\\x9a', b'E', b'\\xb3', b'\\x89', b'\\xd0', b'\\x8c', b'\\xc4', b'#', b'5', b'\\x1b', b'\\x05', b'\\xc2', b'\\xa3', b'\\x84', b'\\xb4', b'\\xc2', b'*', b'\\x19', b'\\x0c', b'\\x85', b'F', b'\\xe3', b'}', b'\\x10', b'f', b'0', b'\\x11', b'\\xc3', b'\\xea', b'C', b'\\x11', b'\\xb8', b'\\x8c', b'\\xda', b'e', b'5', b'\\x18', b'N', b'f', b'S', b'h', b'\\xaa', b'T', b'n', b'\\x96', b'\\x1a', b'\\x04', b'f', b'\\xb3', b'\\x91', b'\\x84', b'\\xda', b'a', b':', b'Y', b'-', b'&', b'\\x83', b'y', b'\\xb0', b'\\xd2', b'k', b'\\x9f', b'\\x99', b'M', b'\\x87', b'Z', b'\\xf1', b'\\xac', b'\\xc2', b'w', b'4', b'\\x9b', b'\\x84', b'g', b'\\x0b', b'\\x99', b'\\x86', b'\\xb4', b'r', b'\\x17', b'\\xda', b'\\r', b'\\x15', b'\\xb8', b'\\xa9', b'\\xdc', b'\\xc2', b'#', b';', b'\\x9b', b'\\x8d', b'\"', b':', b'\\xe5', b'\\xd4', b'\\xeb', b'\\x1b', b'4', b'\\x1a', b'L', b'\\x87', b'S', b'\\x84', b'\\x00']\n"
          ]
        }
      ],
      "source": [
        "byte_list = [bytes([ord(char)]) for char in extracted_data]\n",
        "\n",
        "# Print the byte list in the required format\n",
        "print(byte_list)"
      ]
    },
    {
      "cell_type": "code",
      "execution_count": 60,
      "metadata": {
        "id": "sJthab17XxmC",
        "colab": {
          "base_uri": "https://localhost:8080/"
        },
        "outputId": "d2fbd82e-129f-4a3d-e84a-1e6c88be5e69"
      },
      "outputs": [
        {
          "output_type": "execute_result",
          "data": {
            "text/plain": [
              "list"
            ]
          },
          "metadata": {},
          "execution_count": 60
        }
      ],
      "source": [
        "type(byte_list)"
      ]
    },
    {
      "cell_type": "code",
      "execution_count": 61,
      "metadata": {
        "id": "-T530CqIWMv8",
        "colab": {
          "base_uri": "https://localhost:8080/"
        },
        "outputId": "efa34b01-6c29-402a-c65d-ccf961d0e746"
      },
      "outputs": [
        {
          "output_type": "stream",
          "name": "stdout",
          "text": [
            "PSNR: 78.72417421832482\n"
          ]
        },
        {
          "output_type": "execute_result",
          "data": {
            "text/plain": [
              "78.72417421832482"
            ]
          },
          "metadata": {},
          "execution_count": 61
        }
      ],
      "source": [
        "calculate_psnr_2(\"lsb_w_LZW_package.png\")"
      ]
    },
    {
      "cell_type": "code",
      "execution_count": 62,
      "metadata": {
        "id": "4X5h-vVzWT3b",
        "colab": {
          "base_uri": "https://localhost:8080/"
        },
        "outputId": "b69ac6df-6ff5-476b-999d-3ceecd2ab639"
      },
      "outputs": [
        {
          "output_type": "stream",
          "name": "stdout",
          "text": [
            "Decompressed Text (String): 3348610401970005#christofer*derian*budianto#tegal#1997-03-04#laki-laki#b#jl.*pala*22*no.*30#005#017#mejasem*tengah#kramat#katholik#belum*kawin#pelajar/mahasiswa#wni#seumur*hidup\n"
          ]
        }
      ],
      "source": [
        "# Part 2: Decompression (in-memory)\n",
        "decompressed_chunks = lzw.decompress(byte_list)\n",
        "\n",
        "# Join the decompressed chunks into a single byte string\n",
        "decompressed_bytes = b\"\".join(decompressed_chunks)\n",
        "\n",
        "# Convert decompressed bytes back to a string\n",
        "decompressed_text = decompressed_bytes.decode('utf-8')\n",
        "\n",
        "print(\"Decompressed Text (String):\", decompressed_text)"
      ]
    },
    {
      "cell_type": "markdown",
      "metadata": {
        "id": "dBBjiLaNZn4h"
      },
      "source": [
        "# LSB, ECC, with LZW"
      ]
    },
    {
      "cell_type": "code",
      "execution_count": 63,
      "metadata": {
        "id": "FB9rxcKU-m58",
        "colab": {
          "base_uri": "https://localhost:8080/",
          "height": 53
        },
        "outputId": "1d85208a-4ad1-46ce-e6c1-f0ba78138616"
      },
      "outputs": [
        {
          "output_type": "execute_result",
          "data": {
            "text/plain": [
              "'3348610401970005#christofer*derian*budianto#tegal#1997-03-04#laki-laki#b#jl.*pala*22*no.*30#005#017#mejasem*tengah#kramat#katholik#belum*kawin#pelajar/mahasiswa#wni#seumur*hidup'"
            ],
            "application/vnd.google.colaboratory.intrinsic+json": {
              "type": "string"
            }
          },
          "metadata": {},
          "execution_count": 63
        }
      ],
      "source": [
        "CONTENT"
      ]
    },
    {
      "cell_type": "code",
      "execution_count": 64,
      "metadata": {
        "id": "ta_q-5vrZvEY",
        "colab": {
          "base_uri": "https://localhost:8080/"
        },
        "outputId": "e3d17acf-9d68-4847-cce7-a34eb47a9ff4"
      },
      "outputs": [
        {
          "output_type": "stream",
          "name": "stdout",
          "text": [
            "Public Key: 0xc9c55c4a06ea9f6c4348bf22b932a0b15c4e4031b060fd72d002d974eca31b09bab7acdfdfafd92cdb13a349a23cabcc4a243392b77a62763d71eab022a87aae\n",
            "Private Key: 0x865ce09b928f829b588e0e098ba34e2b5884d39f43d4765200e2414e1d37d3f1\n",
            "Ciphertext: 045e270f58e50d3e481da10129c36ff059c49468eccde52a351cf27ec30b1c3942f25a42256daeeb3c6a3c9082d1fb70c9510451246f4e605e3cf1fb7ceceeb2e08b4eb945ef9a643a85ea46a8f0a3f418e754b7202f97be3d4ab479548f59c8db9ee80a650d206f4b44aef2355c281bef9bb7a77d7f7be3860610788af369c6c970a4f8c0b22eeac519a3017286e07d1549df3dc65e163d3ffc7bbd3cfa829e95c0e32d39e8757fc971243f3f7dcd97fb3179d285aaa7150a01628d3689c8c632c0df923634dc16a36acc50bb7f3dedd16b6f58d3fa00080443e7d111bd904092fbeb49d6bcaf23615c746796f8497315d6c673b91e01f8e427800e2342afa8ade6c7442617150e761894dd83cf21d28bcb\n",
            "Decrypted Message: 3348610401970005#christofer*derian*budianto#tegal#1997-03-04#laki-laki#b#jl.*pala*22*no.*30#005#017#mejasem*tengah#kramat#katholik#belum*kawin#pelajar/mahasiswa#wni#seumur*hidup\n"
          ]
        }
      ],
      "source": [
        "from ecies.utils import generate_eth_key\n",
        "from ecies import encrypt, decrypt\n",
        "\n",
        "private_key = generate_eth_key()\n",
        "public_key = private_key.public_key\n",
        "\n",
        "public_key_hex = public_key.to_hex()\n",
        "private_key_hex = private_key.to_hex()\n",
        "\n",
        "print(\"Public Key:\", public_key_hex)\n",
        "print(\"Private Key:\", private_key_hex)\n",
        "\n",
        "ciphertext = encrypt(public_key_hex, CONTENT.encode())\n",
        "\n",
        "print(\"Ciphertext:\", ciphertext.hex())\n",
        "\n",
        "decrypted_message = decrypt(private_key_hex, ciphertext)\n",
        "print(\"Decrypted Message:\", decrypted_message.decode())"
      ]
    },
    {
      "cell_type": "code",
      "execution_count": 65,
      "metadata": {
        "id": "Wbxf_Zs-aCus",
        "colab": {
          "base_uri": "https://localhost:8080/"
        },
        "outputId": "9084a115-b394-443b-9dca-b5e99fdb3a37"
      },
      "outputs": [
        {
          "output_type": "execute_result",
          "data": {
            "text/plain": [
              "b\"\\x04^'\\x0fX\\xe5\\r>H\\x1d\\xa1\\x01)\\xc3o\\xf0Y\\xc4\\x94h\\xec\\xcd\\xe5*5\\x1c\\xf2~\\xc3\\x0b\\x1c9B\\xf2ZB%m\\xae\\xeb<j<\\x90\\x82\\xd1\\xfbp\\xc9Q\\x04Q$oN`^<\\xf1\\xfb|\\xec\\xee\\xb2\\xe0\\x8bN\\xb9E\\xef\\x9ad:\\x85\\xeaF\\xa8\\xf0\\xa3\\xf4\\x18\\xe7T\\xb7 /\\x97\\xbe=J\\xb4yT\\x8fY\\xc8\\xdb\\x9e\\xe8\\ne\\r oKD\\xae\\xf25\\\\(\\x1b\\xef\\x9b\\xb7\\xa7}\\x7f{\\xe3\\x86\\x06\\x10x\\x8a\\xf3i\\xc6\\xc9p\\xa4\\xf8\\xc0\\xb2.\\xea\\xc5\\x19\\xa3\\x01r\\x86\\xe0}\\x15I\\xdf=\\xc6^\\x16=?\\xfc{\\xbd<\\xfa\\x82\\x9e\\x95\\xc0\\xe3-9\\xe8u\\x7f\\xc9q$??}\\xcd\\x97\\xfb1y\\xd2\\x85\\xaa\\xa7\\x15\\n\\x01b\\x8d6\\x89\\xc8\\xc62\\xc0\\xdf\\x9264\\xdc\\x16\\xa3j\\xccP\\xbb\\x7f=\\xed\\xd1koX\\xd3\\xfa\\x00\\x08\\x04C\\xe7\\xd1\\x11\\xbd\\x90@\\x92\\xfb\\xebI\\xd6\\xbc\\xaf#a\\\\tg\\x96\\xf8Is\\x15\\xd6\\xc6s\\xb9\\x1e\\x01\\xf8\\xe4'\\x80\\x0e#B\\xaf\\xa8\\xad\\xe6\\xc7D&\\x17\\x15\\x0ev\\x18\\x94\\xdd\\x83\\xcf!\\xd2\\x8b\\xcb\""
            ]
          },
          "metadata": {},
          "execution_count": 65
        }
      ],
      "source": [
        "ciphertext"
      ]
    },
    {
      "cell_type": "code",
      "execution_count": 66,
      "metadata": {
        "id": "YTFRzaVkaAhk",
        "colab": {
          "base_uri": "https://localhost:8080/"
        },
        "outputId": "e8314be2-a250-4862-d8aa-08d42d6d24a5"
      },
      "outputs": [
        {
          "output_type": "stream",
          "name": "stdout",
          "text": [
            "Original Text (String): 045e270f58e50d3e481da10129c36ff059c49468eccde52a351cf27ec30b1c3942f25a42256daeeb3c6a3c9082d1fb70c9510451246f4e605e3cf1fb7ceceeb2e08b4eb945ef9a643a85ea46a8f0a3f418e754b7202f97be3d4ab479548f59c8db9ee80a650d206f4b44aef2355c281bef9bb7a77d7f7be3860610788af369c6c970a4f8c0b22eeac519a3017286e07d1549df3dc65e163d3ffc7bbd3cfa829e95c0e32d39e8757fc971243f3f7dcd97fb3179d285aaa7150a01628d3689c8c632c0df923634dc16a36acc50bb7f3dedd16b6f58d3fa00080443e7d111bd904092fbeb49d6bcaf23615c746796f8497315d6c673b91e01f8e427800e2342afa8ade6c7442617150e761894dd83cf21d28bcb\n",
            "Original Bytes: b'045e270f58e50d3e481da10129c36ff059c49468eccde52a351cf27ec30b1c3942f25a42256daeeb3c6a3c9082d1fb70c9510451246f4e605e3cf1fb7ceceeb2e08b4eb945ef9a643a85ea46a8f0a3f418e754b7202f97be3d4ab479548f59c8db9ee80a650d206f4b44aef2355c281bef9bb7a77d7f7be3860610788af369c6c970a4f8c0b22eeac519a3017286e07d1549df3dc65e163d3ffc7bbd3cfa829e95c0e32d39e8757fc971243f3f7dcd97fb3179d285aaa7150a01628d3689c8c632c0df923634dc16a36acc50bb7f3dedd16b6f58d3fa00080443e7d111bd904092fbeb49d6bcaf23615c746796f8497315d6c673b91e01f8e427800e2342afa8ade6c7442617150e761894dd83cf21d28bcb'\n",
            "Compressed List (Byte Chunks): [b'\\x18', b'\\r', b'\\x06', b'\\xa6', b'Q', b'\\x90', b'\\xdc', b'`', b'f', b'\\x1a', b'\\x8e', b'\\x0c', b'\\xa3', b'Q', b'\\x81', b'\\x90', b'f', b'e', b'\\x1a', b'\\x0e', b'\\x06', b'&', b'C', b'\\x08', b'\\xc4', b'`', b'1', b'\\x19', b'\\x0e', b'L', b'c', b'1', b'\\xb1', b'\\x98', b'\\xcc', b'0', b'\\x1a', b'\\xc6', b'\\xc6', b'\\x83', b'\\x91', b'\\xa0', b'\\xda', b'\\x16', b'c', b'1', b'\\x99', b'!', b'\\x83', b'#', b'\\x08', b'\\xcc', b'j', b'1', b'1', b'\\x99', b'\\xa0', b'\\xc6', b'X', b'\\xe0', b'\\xc0', b'\\xc5', b'1', b'\\x19', b'\\xc9', b'F', b'S', b'1', b'\\xa9', b'\\x84', b'h', b'2', b'\\x19', b'\\r', b'F', b'\\xd1', b'S', b')', b'\\x94', b'\\xc4', b'3', b'1', b'\\x8d', b'\\xa5', b'\\xc6', b'1', b'\\xc8', b'\\xc0', b'p', b'2', b'2', b'\\x0c', b'L', b'\\xc6', b'(', b'=', b'6', b'a', b'\\x02', b'\\x98', b'\\x0c', b'\\xa4', b'\\xc6', b'a', b'\\xa1', b'\\x94', b'm', b'!', b'2', b'\\xd2', b'L', b'\\xd5', b':', b'\\xa9', b'\\x8e', b'k', b'F', b'1', b'\\x0c', b'\\x8c', b'\\xb4', b'\\xf3', b'\\x15', b'x', b'\\xc5', b'%', b'\\x82', b'\\x19', b'\\x87', b'&', b'\\x11', b'\\xb0', b'\\xd0', b'f', b'a', b'\\x1c', b'A', b\"'\", b'\\xf4', b'\\xb1', b'\\xc4', b'\\x82', b']', b']', b'\\x18', b'\\xc2', b'\\xc6', b'\\xe3', b'Q', b'\\xa5', b'T', b'd', b'0', b'\\x9e', b'\\x0e', b'F', b'\\xe6', b'+', b'\\x11', b'\\x90', b'h', b'a', b'\\xb7', b'\\r', b'\\xc7', b'8', b'[', b'\\xf4', b'\\x88', b'\\xc6', b'8', b'2', b'\\\\', b'(', b'\\xc3', b'\\x81', b'\\x85', b'\\xd6', b'\\x1a', b'd', b'\\xc4', b'G', b'\\xb0', b'\\xc3', b'L', b'\\x81', b'\\x96', b'g', b'/', b'\\x1a', b'\\x98', b'\\xc6', b'Q', b'<', b'm', b'\\xcc', b'\\xc5', b'U', b'0', b'\\x8d', b'\\xc6', b'\\xe6', b'A', b'\\xb9', b'\\x9b', b'\\x19', b'b', b'\\x1c', b'X', b'\\x06', b'\\xd1', b'q', b'\\xb8', b'\\xe0', b'p', b'a', b'3', b'G', b'c', b'c', b'j', b'l', b'\\x1e', b'~', b'f', b'\\x1c', b'\\x18', b'\\xe6', b'\\xf4', b'\\x1a', b'1', b'\\x84', b'\\xc7', b'0', b'\\xba', b'\\x0c', b'\\xe3', b'\\x03', b'}', b'`', b'\\xda', b'\\xd9', b'\\xb4', b'\\x18', b'\\xe1', b'G', b'&', b'N', b'\\x11', b'\\x92', b'\\x95', b'\\x04', b'\\x18', b'\\x8d', b'\\x86', b'p', b'\\xf8', b'\\xf9', b'\\x8f', b'\\x18', b'b', b'\\x87', b'\\xcc', b'\\xaf', b'1', b'\\xa3', b'.', b'S', b'\\x97', b'b', b'\\xa8', b'\\xce', b'\\x8c', b'\\xa3', b'\\x8c', b'&', b'\\xdb', b'\\x8d', b'\\x19', b'\\xbb', b'\\xf0', b'\\xb6', b'\\xfd', b'\\xf3', b'&', b'-', b'T', b'\\x0c', b'\\xc3', b'\\x16', b'M', b'\\xa1', b'^', b'\\x86', b'\\x18', b'\\x18', b'7', b'v', b'\\x99', b'\\xe4', b'`', b'6', b'k', b'\\x10', b'\\xf4', b'\\x9d', b'\\x1b', b'r', b'\\x9e', b'0', b'\\xc9', b'\\xcb', b'w', b'C', b'\\x90', b'\\xc9', b'\\x1d', b'\\x0c', b'\\xc3', b'G', b'}', b'\\xe2', b'K', b'\\x94', b'\\xb4', b'\\xa5', b'\\r', b'l', b'\\x1b', b'g', b'\\x90', b'e', b'\\x19', b'\\x15', b' ', b'\\xd8', b'b', b'G', b'\\x90', b'\\xa7', b'\\x94', b'a', b'\\x0c', b'\"', b'\\xd6', b'u', b'\\xa5', b'D', b'\\x1d', b'\\x90', b'\\xc4', b'1', b'z', b'T', b'\\xe0', b'\\xd0', b'0', b'\\x85', b'\\x95', b'E', b'\\x1d', b'$', b'\\x19', b'\"', b'q', b'\\x8d', b'\\xc1', b'\\x85', b'\\xdb', b'\\xc6', b'\\xa8', b'7', b'I', b'\\x99', b'4', b'x', b'8', b'I', b'\\x03', b'x', b'\\x04', b'5', b'\\x8f', b'T', b'\\xa9', b')', b'p', b'\\x0c', b'V', b'\\xc5', b'M', b'\\x0b', b'P', b'\\x1b', b'\\xe8', b'\\xb5', b'\\x05', b'\\x86', b'R', b'\\xd1', b'\\x99', b'y', b'\\x18', b'R', b'\\xb7', b'\\x16', b'D', b'P', b'\\x1b', b'\\xc8', b'!', b'\\r', b'\\x19', b'C', b'v', b'\\xf0', b'8', b'I', b'b', b'P', b'\\xe1', b'c', b'\\x0c', b'\\x91', b'F', b'\\xb0', b'b', b'\\x18', b'\\xc6', b'$', b'\\x00']\n",
            "Decompressed Bytes: b'045e270f58e50d3e481da10129c36ff059c49468eccde52a351cf27ec30b1c3942f25a42256daeeb3c6a3c9082d1fb70c9510451246f4e605e3cf1fb7ceceeb2e08b4eb945ef9a643a85ea46a8f0a3f418e754b7202f97be3d4ab479548f59c8db9ee80a650d206f4b44aef2355c281bef9bb7a77d7f7be3860610788af369c6c970a4f8c0b22eeac519a3017286e07d1549df3dc65e163d3ffc7bbd3cfa829e95c0e32d39e8757fc971243f3f7dcd97fb3179d285aaa7150a01628d3689c8c632c0df923634dc16a36acc50bb7f3dedd16b6f58d3fa00080443e7d111bd904092fbeb49d6bcaf23615c746796f8497315d6c673b91e01f8e427800e2342afa8ade6c7442617150e761894dd83cf21d28bcb'\n",
            "Decompressed Text (String): 045e270f58e50d3e481da10129c36ff059c49468eccde52a351cf27ec30b1c3942f25a42256daeeb3c6a3c9082d1fb70c9510451246f4e605e3cf1fb7ceceeb2e08b4eb945ef9a643a85ea46a8f0a3f418e754b7202f97be3d4ab479548f59c8db9ee80a650d206f4b44aef2355c281bef9bb7a77d7f7be3860610788af369c6c970a4f8c0b22eeac519a3017286e07d1549df3dc65e163d3ffc7bbd3cfa829e95c0e32d39e8757fc971243f3f7dcd97fb3179d285aaa7150a01628d3689c8c632c0df923634dc16a36acc50bb7f3dedd16b6f58d3fa00080443e7d111bd904092fbeb49d6bcaf23615c746796f8497315d6c673b91e01f8e427800e2342afa8ade6c7442617150e761894dd83cf21d28bcb\n",
            "\n",
            "Original size: 548 bytes\n",
            "Compressed size: 431 bytes\n",
            "Decompressed size: 548 bytes\n",
            "Decompression was successful!\n"
          ]
        }
      ],
      "source": [
        "import lzw\n",
        "\n",
        "# Example text to compress (can be any string)\n",
        "original_text = ciphertext.hex()\n",
        "\n",
        "# Convert the original text into bytes (UTF-8 encoding)\n",
        "original_bytes = original_text.encode('utf-8')\n",
        "\n",
        "# Part 1: Compression (in-memory)\n",
        "compressed = lzw.compress(original_bytes)\n",
        "\n",
        "# Convert compressed generator to a list to see its contents\n",
        "compressed_list = list(compressed)\n",
        "\n",
        "# Part 2: Decompression (in-memory)\n",
        "decompressed_chunks = lzw.decompress(compressed_list)\n",
        "\n",
        "# Join the decompressed chunks into a single byte string\n",
        "decompressed_bytes = b\"\".join(decompressed_chunks)\n",
        "\n",
        "# Convert decompressed bytes back to a string\n",
        "decompressed_text = decompressed_bytes.decode('utf-8')\n",
        "\n",
        "# Print each variable\n",
        "print(\"Original Text (String):\", original_text)\n",
        "print(\"Original Bytes:\", original_bytes)\n",
        "print(\"Compressed List (Byte Chunks):\", compressed_list)\n",
        "print(\"Decompressed Bytes:\", decompressed_bytes)\n",
        "print(\"Decompressed Text (String):\", decompressed_text)\n",
        "\n",
        "# Part 3: Print sizes and results for comparison\n",
        "original_size = len(original_bytes)\n",
        "compressed_size = len(b\"\".join(compressed_list))  # Join to get compressed byte size\n",
        "decompressed_size = len(decompressed_bytes)\n",
        "\n",
        "# Print the sizes in bytes\n",
        "print(f\"\\nOriginal size: {original_size} bytes\")\n",
        "print(f\"Compressed size: {compressed_size} bytes\")\n",
        "print(f\"Decompressed size: {decompressed_size} bytes\")\n",
        "\n",
        "# Check if decompression was successful\n",
        "if decompressed_text == original_text:\n",
        "    print(\"Decompression was successful!\")\n",
        "else:\n",
        "    print(\"Decompression failed.\")"
      ]
    },
    {
      "cell_type": "code",
      "execution_count": 67,
      "metadata": {
        "id": "uhP1vA3CZ30D"
      },
      "outputs": [],
      "source": [
        "embed_lsb(\"lsb_w_ECC_LZW_package.png\", compressed_list)"
      ]
    },
    {
      "cell_type": "code",
      "execution_count": 68,
      "metadata": {
        "id": "myc3yl2-aRtu",
        "colab": {
          "base_uri": "https://localhost:8080/",
          "height": 140
        },
        "outputId": "42d263d2-40b8-4f77-b80e-2c09d94c8f9f"
      },
      "outputs": [
        {
          "output_type": "execute_result",
          "data": {
            "text/plain": [
              "'\\x18\\r\\x06¦Q\\x90Ü`f\\x1a\\x8e\\x0c£Q\\x81\\x90fe\\x1a\\x0e\\x06&C\\x08Ä`1\\x19\\x0eLc1±\\x98Ì0\\x1aÆÆ\\x83\\x91\\xa0Ú\\x16c1\\x99!\\x83#\\x08Ìj11\\x99\\xa0ÆXàÀÅ1\\x19ÉFS1©\\x84h2\\x19\\rFÑS)\\x94Ä31\\x8d¥Æ1ÈÀp22\\x0cLÆ(=6a\\x02\\x98\\x0c¤Æa¡\\x94m!2ÒLÕ:©\\x8ekF1\\x0c\\x8c´ó\\x15xÅ%\\x82\\x19\\x87&\\x11°Ðfa\\x1cA\\'ô±Ä\\x82]]\\x18ÂÆãQ¥Td0\\x9e\\x0eFæ+\\x11\\x90ha·\\rÇ8[ô\\x88Æ82\\\\(Ã\\x81\\x85Ö\\x1adÄG°ÃL\\x81\\x96g/\\x1a\\x98ÆQ<mÌÅU0\\x8dÆæA¹\\x9b\\x19b\\x1cX\\x06Ñq¸àpa3Gccjl\\x1e~f\\x1c\\x18æô\\x1a1\\x84Ç0º\\x0cã\\x03}`ÚÙ´\\x18áG&N\\x11\\x92\\x95\\x04\\x18\\x8d\\x86pøù\\x8f\\x18b\\x87Ì¯1£.S\\x97b¨Î\\x8c£\\x8c&Û\\x8d\\x19»ð¶ýó&-T\\x0cÃ\\x16M¡^\\x86\\x18\\x187v\\x99ä`6k\\x10ô\\x9d\\x1br\\x9e0ÉËwC\\x90É\\x1d\\x0cÃG}âK\\x94´¥\\rl\\x1bg\\x90e\\x19\\x15 ØbG\\x90§\\x94a\\x0c\"Öu¥D\\x1d\\x90Ä1zTàÐ0\\x85\\x95E\\x1d$\\x19\"q\\x8dÁ\\x85ÛÆ¨7I\\x994x8I\\x03x\\x045\\x8fT©)p\\x0cVÅM\\x0bP\\x1bèµ\\x05\\x86RÑ\\x99y\\x18R·\\x16DP\\x1bÈ!\\r\\x19Cvð8IbPác\\x0c\\x91F°b\\x18Æ$\\x00'"
            ],
            "application/vnd.google.colaboratory.intrinsic+json": {
              "type": "string"
            }
          },
          "metadata": {},
          "execution_count": 68
        }
      ],
      "source": [
        "extracted_data = extract_lsb(\"lsb_w_ECC_LZW_package.png\")\n",
        "extracted_data"
      ]
    },
    {
      "cell_type": "code",
      "execution_count": 69,
      "metadata": {
        "id": "Mz30MmafaTWY",
        "colab": {
          "base_uri": "https://localhost:8080/"
        },
        "outputId": "c1adbb41-b382-41ae-ddaf-6019caf3f313"
      },
      "outputs": [
        {
          "output_type": "stream",
          "name": "stdout",
          "text": [
            "PSNR: 74.67444150429242\n"
          ]
        },
        {
          "output_type": "execute_result",
          "data": {
            "text/plain": [
              "74.67444150429242"
            ]
          },
          "metadata": {},
          "execution_count": 69
        }
      ],
      "source": [
        "calculate_psnr_2(\"lsb_w_ECC_LZW_package.png\")"
      ]
    },
    {
      "cell_type": "code",
      "execution_count": 70,
      "metadata": {
        "id": "3Bcx91-iaYKz",
        "colab": {
          "base_uri": "https://localhost:8080/"
        },
        "outputId": "42e08f23-999a-49dc-90a4-5db6f330bfa1"
      },
      "outputs": [
        {
          "output_type": "stream",
          "name": "stdout",
          "text": [
            "[b'\\x18', b'\\r', b'\\x06', b'\\xa6', b'Q', b'\\x90', b'\\xdc', b'`', b'f', b'\\x1a', b'\\x8e', b'\\x0c', b'\\xa3', b'Q', b'\\x81', b'\\x90', b'f', b'e', b'\\x1a', b'\\x0e', b'\\x06', b'&', b'C', b'\\x08', b'\\xc4', b'`', b'1', b'\\x19', b'\\x0e', b'L', b'c', b'1', b'\\xb1', b'\\x98', b'\\xcc', b'0', b'\\x1a', b'\\xc6', b'\\xc6', b'\\x83', b'\\x91', b'\\xa0', b'\\xda', b'\\x16', b'c', b'1', b'\\x99', b'!', b'\\x83', b'#', b'\\x08', b'\\xcc', b'j', b'1', b'1', b'\\x99', b'\\xa0', b'\\xc6', b'X', b'\\xe0', b'\\xc0', b'\\xc5', b'1', b'\\x19', b'\\xc9', b'F', b'S', b'1', b'\\xa9', b'\\x84', b'h', b'2', b'\\x19', b'\\r', b'F', b'\\xd1', b'S', b')', b'\\x94', b'\\xc4', b'3', b'1', b'\\x8d', b'\\xa5', b'\\xc6', b'1', b'\\xc8', b'\\xc0', b'p', b'2', b'2', b'\\x0c', b'L', b'\\xc6', b'(', b'=', b'6', b'a', b'\\x02', b'\\x98', b'\\x0c', b'\\xa4', b'\\xc6', b'a', b'\\xa1', b'\\x94', b'm', b'!', b'2', b'\\xd2', b'L', b'\\xd5', b':', b'\\xa9', b'\\x8e', b'k', b'F', b'1', b'\\x0c', b'\\x8c', b'\\xb4', b'\\xf3', b'\\x15', b'x', b'\\xc5', b'%', b'\\x82', b'\\x19', b'\\x87', b'&', b'\\x11', b'\\xb0', b'\\xd0', b'f', b'a', b'\\x1c', b'A', b\"'\", b'\\xf4', b'\\xb1', b'\\xc4', b'\\x82', b']', b']', b'\\x18', b'\\xc2', b'\\xc6', b'\\xe3', b'Q', b'\\xa5', b'T', b'd', b'0', b'\\x9e', b'\\x0e', b'F', b'\\xe6', b'+', b'\\x11', b'\\x90', b'h', b'a', b'\\xb7', b'\\r', b'\\xc7', b'8', b'[', b'\\xf4', b'\\x88', b'\\xc6', b'8', b'2', b'\\\\', b'(', b'\\xc3', b'\\x81', b'\\x85', b'\\xd6', b'\\x1a', b'd', b'\\xc4', b'G', b'\\xb0', b'\\xc3', b'L', b'\\x81', b'\\x96', b'g', b'/', b'\\x1a', b'\\x98', b'\\xc6', b'Q', b'<', b'm', b'\\xcc', b'\\xc5', b'U', b'0', b'\\x8d', b'\\xc6', b'\\xe6', b'A', b'\\xb9', b'\\x9b', b'\\x19', b'b', b'\\x1c', b'X', b'\\x06', b'\\xd1', b'q', b'\\xb8', b'\\xe0', b'p', b'a', b'3', b'G', b'c', b'c', b'j', b'l', b'\\x1e', b'~', b'f', b'\\x1c', b'\\x18', b'\\xe6', b'\\xf4', b'\\x1a', b'1', b'\\x84', b'\\xc7', b'0', b'\\xba', b'\\x0c', b'\\xe3', b'\\x03', b'}', b'`', b'\\xda', b'\\xd9', b'\\xb4', b'\\x18', b'\\xe1', b'G', b'&', b'N', b'\\x11', b'\\x92', b'\\x95', b'\\x04', b'\\x18', b'\\x8d', b'\\x86', b'p', b'\\xf8', b'\\xf9', b'\\x8f', b'\\x18', b'b', b'\\x87', b'\\xcc', b'\\xaf', b'1', b'\\xa3', b'.', b'S', b'\\x97', b'b', b'\\xa8', b'\\xce', b'\\x8c', b'\\xa3', b'\\x8c', b'&', b'\\xdb', b'\\x8d', b'\\x19', b'\\xbb', b'\\xf0', b'\\xb6', b'\\xfd', b'\\xf3', b'&', b'-', b'T', b'\\x0c', b'\\xc3', b'\\x16', b'M', b'\\xa1', b'^', b'\\x86', b'\\x18', b'\\x18', b'7', b'v', b'\\x99', b'\\xe4', b'`', b'6', b'k', b'\\x10', b'\\xf4', b'\\x9d', b'\\x1b', b'r', b'\\x9e', b'0', b'\\xc9', b'\\xcb', b'w', b'C', b'\\x90', b'\\xc9', b'\\x1d', b'\\x0c', b'\\xc3', b'G', b'}', b'\\xe2', b'K', b'\\x94', b'\\xb4', b'\\xa5', b'\\r', b'l', b'\\x1b', b'g', b'\\x90', b'e', b'\\x19', b'\\x15', b' ', b'\\xd8', b'b', b'G', b'\\x90', b'\\xa7', b'\\x94', b'a', b'\\x0c', b'\"', b'\\xd6', b'u', b'\\xa5', b'D', b'\\x1d', b'\\x90', b'\\xc4', b'1', b'z', b'T', b'\\xe0', b'\\xd0', b'0', b'\\x85', b'\\x95', b'E', b'\\x1d', b'$', b'\\x19', b'\"', b'q', b'\\x8d', b'\\xc1', b'\\x85', b'\\xdb', b'\\xc6', b'\\xa8', b'7', b'I', b'\\x99', b'4', b'x', b'8', b'I', b'\\x03', b'x', b'\\x04', b'5', b'\\x8f', b'T', b'\\xa9', b')', b'p', b'\\x0c', b'V', b'\\xc5', b'M', b'\\x0b', b'P', b'\\x1b', b'\\xe8', b'\\xb5', b'\\x05', b'\\x86', b'R', b'\\xd1', b'\\x99', b'y', b'\\x18', b'R', b'\\xb7', b'\\x16', b'D', b'P', b'\\x1b', b'\\xc8', b'!', b'\\r', b'\\x19', b'C', b'v', b'\\xf0', b'8', b'I', b'b', b'P', b'\\xe1', b'c', b'\\x0c', b'\\x91', b'F', b'\\xb0', b'b', b'\\x18', b'\\xc6', b'$', b'\\x00']\n"
          ]
        }
      ],
      "source": [
        "byte_list = [bytes([ord(char)]) for char in extracted_data]\n",
        "\n",
        "# Print the byte list in the required format\n",
        "print(byte_list)"
      ]
    },
    {
      "cell_type": "code",
      "execution_count": 71,
      "metadata": {
        "id": "GHdEziYeadlZ",
        "colab": {
          "base_uri": "https://localhost:8080/"
        },
        "outputId": "423c0979-0ef0-4cc2-f34b-1dd565d7bc13"
      },
      "outputs": [
        {
          "output_type": "stream",
          "name": "stdout",
          "text": [
            "Decompressed Text (String): 045e270f58e50d3e481da10129c36ff059c49468eccde52a351cf27ec30b1c3942f25a42256daeeb3c6a3c9082d1fb70c9510451246f4e605e3cf1fb7ceceeb2e08b4eb945ef9a643a85ea46a8f0a3f418e754b7202f97be3d4ab479548f59c8db9ee80a650d206f4b44aef2355c281bef9bb7a77d7f7be3860610788af369c6c970a4f8c0b22eeac519a3017286e07d1549df3dc65e163d3ffc7bbd3cfa829e95c0e32d39e8757fc971243f3f7dcd97fb3179d285aaa7150a01628d3689c8c632c0df923634dc16a36acc50bb7f3dedd16b6f58d3fa00080443e7d111bd904092fbeb49d6bcaf23615c746796f8497315d6c673b91e01f8e427800e2342afa8ade6c7442617150e761894dd83cf21d28bcb\n"
          ]
        }
      ],
      "source": [
        "# Part 2: Decompression (in-memory)\n",
        "decompressed_chunks = lzw.decompress(byte_list)\n",
        "\n",
        "# Join the decompressed chunks into a single byte string\n",
        "decompressed_bytes = b\"\".join(decompressed_chunks)\n",
        "\n",
        "# Convert decompressed bytes back to a string\n",
        "decompressed_text = decompressed_bytes.decode('utf-8')\n",
        "\n",
        "print(\"Decompressed Text (String):\", decompressed_text)"
      ]
    },
    {
      "cell_type": "code",
      "execution_count": 72,
      "metadata": {
        "id": "ggnAbb_iaka7",
        "colab": {
          "base_uri": "https://localhost:8080/"
        },
        "outputId": "9f35562d-2c74-4773-9d66-e3cd4fad2024"
      },
      "outputs": [
        {
          "output_type": "execute_result",
          "data": {
            "text/plain": [
              "b'045e270f58e50d3e481da10129c36ff059c49468eccde52a351cf27ec30b1c3942f25a42256daeeb3c6a3c9082d1fb70c9510451246f4e605e3cf1fb7ceceeb2e08b4eb945ef9a643a85ea46a8f0a3f418e754b7202f97be3d4ab479548f59c8db9ee80a650d206f4b44aef2355c281bef9bb7a77d7f7be3860610788af369c6c970a4f8c0b22eeac519a3017286e07d1549df3dc65e163d3ffc7bbd3cfa829e95c0e32d39e8757fc971243f3f7dcd97fb3179d285aaa7150a01628d3689c8c632c0df923634dc16a36acc50bb7f3dedd16b6f58d3fa00080443e7d111bd904092fbeb49d6bcaf23615c746796f8497315d6c673b91e01f8e427800e2342afa8ade6c7442617150e761894dd83cf21d28bcb'"
            ]
          },
          "metadata": {},
          "execution_count": 72
        }
      ],
      "source": [
        "byte_data = decompressed_text.encode()\n",
        "byte_data"
      ]
    },
    {
      "cell_type": "code",
      "execution_count": 73,
      "metadata": {
        "id": "ved-eYmQa2qM",
        "colab": {
          "base_uri": "https://localhost:8080/"
        },
        "outputId": "22181fc2-3410-4f93-d38e-c3db3619a3ea"
      },
      "outputs": [
        {
          "output_type": "execute_result",
          "data": {
            "text/plain": [
              "bytes"
            ]
          },
          "metadata": {},
          "execution_count": 73
        }
      ],
      "source": [
        "type(byte_data)"
      ]
    },
    {
      "cell_type": "code",
      "execution_count": 74,
      "metadata": {
        "id": "d7CHFysmamg0",
        "colab": {
          "base_uri": "https://localhost:8080/"
        },
        "outputId": "b21b2694-898c-4a50-99c7-f432f5ae15f6"
      },
      "outputs": [
        {
          "output_type": "execute_result",
          "data": {
            "text/plain": [
              "bytes"
            ]
          },
          "metadata": {},
          "execution_count": 74
        }
      ],
      "source": [
        "type(ciphertext)"
      ]
    },
    {
      "cell_type": "code",
      "execution_count": 75,
      "metadata": {
        "id": "vIZTj7q0bVP6",
        "colab": {
          "base_uri": "https://localhost:8080/"
        },
        "outputId": "9b136da8-53f5-4693-e5c8-1b8327092860"
      },
      "outputs": [
        {
          "output_type": "execute_result",
          "data": {
            "text/plain": [
              "b\"\\x04^'\\x0fX\\xe5\\r>H\\x1d\\xa1\\x01)\\xc3o\\xf0Y\\xc4\\x94h\\xec\\xcd\\xe5*5\\x1c\\xf2~\\xc3\\x0b\\x1c9B\\xf2ZB%m\\xae\\xeb<j<\\x90\\x82\\xd1\\xfbp\\xc9Q\\x04Q$oN`^<\\xf1\\xfb|\\xec\\xee\\xb2\\xe0\\x8bN\\xb9E\\xef\\x9ad:\\x85\\xeaF\\xa8\\xf0\\xa3\\xf4\\x18\\xe7T\\xb7 /\\x97\\xbe=J\\xb4yT\\x8fY\\xc8\\xdb\\x9e\\xe8\\ne\\r oKD\\xae\\xf25\\\\(\\x1b\\xef\\x9b\\xb7\\xa7}\\x7f{\\xe3\\x86\\x06\\x10x\\x8a\\xf3i\\xc6\\xc9p\\xa4\\xf8\\xc0\\xb2.\\xea\\xc5\\x19\\xa3\\x01r\\x86\\xe0}\\x15I\\xdf=\\xc6^\\x16=?\\xfc{\\xbd<\\xfa\\x82\\x9e\\x95\\xc0\\xe3-9\\xe8u\\x7f\\xc9q$??}\\xcd\\x97\\xfb1y\\xd2\\x85\\xaa\\xa7\\x15\\n\\x01b\\x8d6\\x89\\xc8\\xc62\\xc0\\xdf\\x9264\\xdc\\x16\\xa3j\\xccP\\xbb\\x7f=\\xed\\xd1koX\\xd3\\xfa\\x00\\x08\\x04C\\xe7\\xd1\\x11\\xbd\\x90@\\x92\\xfb\\xebI\\xd6\\xbc\\xaf#a\\\\tg\\x96\\xf8Is\\x15\\xd6\\xc6s\\xb9\\x1e\\x01\\xf8\\xe4'\\x80\\x0e#B\\xaf\\xa8\\xad\\xe6\\xc7D&\\x17\\x15\\x0ev\\x18\\x94\\xdd\\x83\\xcf!\\xd2\\x8b\\xcb\""
            ]
          },
          "metadata": {},
          "execution_count": 75
        }
      ],
      "source": [
        "ciphertext"
      ]
    },
    {
      "cell_type": "code",
      "execution_count": 76,
      "metadata": {
        "id": "sRmKJ6QSbXGD",
        "colab": {
          "base_uri": "https://localhost:8080/"
        },
        "outputId": "7ff2cc8c-a124-4135-c013-66c3c2ed0f69"
      },
      "outputs": [
        {
          "output_type": "stream",
          "name": "stdout",
          "text": [
            "b\"\\x04^'\\x0fX\\xe5\\r>H\\x1d\\xa1\\x01)\\xc3o\\xf0Y\\xc4\\x94h\\xec\\xcd\\xe5*5\\x1c\\xf2~\\xc3\\x0b\\x1c9B\\xf2ZB%m\\xae\\xeb<j<\\x90\\x82\\xd1\\xfbp\\xc9Q\\x04Q$oN`^<\\xf1\\xfb|\\xec\\xee\\xb2\\xe0\\x8bN\\xb9E\\xef\\x9ad:\\x85\\xeaF\\xa8\\xf0\\xa3\\xf4\\x18\\xe7T\\xb7 /\\x97\\xbe=J\\xb4yT\\x8fY\\xc8\\xdb\\x9e\\xe8\\ne\\r oKD\\xae\\xf25\\\\(\\x1b\\xef\\x9b\\xb7\\xa7}\\x7f{\\xe3\\x86\\x06\\x10x\\x8a\\xf3i\\xc6\\xc9p\\xa4\\xf8\\xc0\\xb2.\\xea\\xc5\\x19\\xa3\\x01r\\x86\\xe0}\\x15I\\xdf=\\xc6^\\x16=?\\xfc{\\xbd<\\xfa\\x82\\x9e\\x95\\xc0\\xe3-9\\xe8u\\x7f\\xc9q$??}\\xcd\\x97\\xfb1y\\xd2\\x85\\xaa\\xa7\\x15\\n\\x01b\\x8d6\\x89\\xc8\\xc62\\xc0\\xdf\\x9264\\xdc\\x16\\xa3j\\xccP\\xbb\\x7f=\\xed\\xd1koX\\xd3\\xfa\\x00\\x08\\x04C\\xe7\\xd1\\x11\\xbd\\x90@\\x92\\xfb\\xebI\\xd6\\xbc\\xaf#a\\\\tg\\x96\\xf8Is\\x15\\xd6\\xc6s\\xb9\\x1e\\x01\\xf8\\xe4'\\x80\\x0e#B\\xaf\\xa8\\xad\\xe6\\xc7D&\\x17\\x15\\x0ev\\x18\\x94\\xdd\\x83\\xcf!\\xd2\\x8b\\xcb\"\n"
          ]
        }
      ],
      "source": [
        "# Convert the hex string back into a byte array\n",
        "byte_array = bytes.fromhex(decompressed_text)\n",
        "\n",
        "# Print the result as a byte string\n",
        "print(byte_array)"
      ]
    },
    {
      "cell_type": "code",
      "execution_count": 77,
      "metadata": {
        "id": "6gSgprJVae4L",
        "colab": {
          "base_uri": "https://localhost:8080/",
          "height": 53
        },
        "outputId": "c84a098e-c25b-4158-8f2f-8408dcbac013"
      },
      "outputs": [
        {
          "output_type": "execute_result",
          "data": {
            "text/plain": [
              "'3348610401970005#christofer*derian*budianto#tegal#1997-03-04#laki-laki#b#jl.*pala*22*no.*30#005#017#mejasem*tengah#kramat#katholik#belum*kawin#pelajar/mahasiswa#wni#seumur*hidup'"
            ],
            "application/vnd.google.colaboratory.intrinsic+json": {
              "type": "string"
            }
          },
          "metadata": {},
          "execution_count": 77
        }
      ],
      "source": [
        "decrypted_message = decrypt(private_key_hex, byte_array)\n",
        "decrypted_message.decode()"
      ]
    },
    {
      "cell_type": "code",
      "execution_count": 78,
      "metadata": {
        "id": "6H0r4PQSsdMf",
        "colab": {
          "base_uri": "https://localhost:8080/"
        },
        "outputId": "d68ddcce-b1db-482c-ad07-7b2e8110a02d"
      },
      "outputs": [
        {
          "output_type": "stream",
          "name": "stdout",
          "text": [
            "b'\\x18\\r\\x06\\xc2\\xa6Q\\xc2\\x90\\xc3\\x9c`f\\x1a\\xc2\\x8e\\x0c\\xc2\\xa3Q\\xc2\\x81\\xc2\\x90fe\\x1a\\x0e\\x06&C\\x08\\xc3\\x84`1\\x19\\x0eLc1\\xc2\\xb1\\xc2\\x98\\xc3\\x8c0\\x1a\\xc3\\x86\\xc3\\x86\\xc2\\x83\\xc2\\x91\\xc2\\xa0\\xc3\\x9a\\x16c1\\xc2\\x99!\\xc2\\x83#\\x08\\xc3\\x8cj11\\xc2\\x99\\xc2\\xa0\\xc3\\x86X\\xc3\\xa0\\xc3\\x80\\xc3\\x851\\x19\\xc3\\x89FS1\\xc2\\xa9\\xc2\\x84h2\\x19\\rF\\xc3\\x91S)\\xc2\\x94\\xc3\\x8431\\xc2\\x8d\\xc2\\xa5\\xc3\\x861\\xc3\\x88\\xc3\\x80p22\\x0cL\\xc3\\x86(=6a\\x02\\xc2\\x98\\x0c\\xc2\\xa4\\xc3\\x86a\\xc2\\xa1\\xc2\\x94m!2\\xc3\\x92L\\xc3\\x95:\\xc2\\xa9\\xc2\\x8ekF1\\x0c\\xc2\\x8c\\xc2\\xb4\\xc3\\xb3\\x15x\\xc3\\x85%\\xc2\\x82\\x19\\xc2\\x87&\\x11\\xc2\\xb0\\xc3\\x90fa\\x1cA\\'\\xc3\\xb4\\xc2\\xb1\\xc3\\x84\\xc2\\x82]]\\x18\\xc3\\x82\\xc3\\x86\\xc3\\xa3Q\\xc2\\xa5Td0\\xc2\\x9e\\x0eF\\xc3\\xa6+\\x11\\xc2\\x90ha\\xc2\\xb7\\r\\xc3\\x878[\\xc3\\xb4\\xc2\\x88\\xc3\\x8682\\\\(\\xc3\\x83\\xc2\\x81\\xc2\\x85\\xc3\\x96\\x1ad\\xc3\\x84G\\xc2\\xb0\\xc3\\x83L\\xc2\\x81\\xc2\\x96g/\\x1a\\xc2\\x98\\xc3\\x86Q<m\\xc3\\x8c\\xc3\\x85U0\\xc2\\x8d\\xc3\\x86\\xc3\\xa6A\\xc2\\xb9\\xc2\\x9b\\x19b\\x1cX\\x06\\xc3\\x91q\\xc2\\xb8\\xc3\\xa0pa3Gccjl\\x1e~f\\x1c\\x18\\xc3\\xa6\\xc3\\xb4\\x1a1\\xc2\\x84\\xc3\\x870\\xc2\\xba\\x0c\\xc3\\xa3\\x03}`\\xc3\\x9a\\xc3\\x99\\xc2\\xb4\\x18\\xc3\\xa1G&N\\x11\\xc2\\x92\\xc2\\x95\\x04\\x18\\xc2\\x8d\\xc2\\x86p\\xc3\\xb8\\xc3\\xb9\\xc2\\x8f\\x18b\\xc2\\x87\\xc3\\x8c\\xc2\\xaf1\\xc2\\xa3.S\\xc2\\x97b\\xc2\\xa8\\xc3\\x8e\\xc2\\x8c\\xc2\\xa3\\xc2\\x8c&\\xc3\\x9b\\xc2\\x8d\\x19\\xc2\\xbb\\xc3\\xb0\\xc2\\xb6\\xc3\\xbd\\xc3\\xb3&-T\\x0c\\xc3\\x83\\x16M\\xc2\\xa1^\\xc2\\x86\\x18\\x187v\\xc2\\x99\\xc3\\xa4`6k\\x10\\xc3\\xb4\\xc2\\x9d\\x1br\\xc2\\x9e0\\xc3\\x89\\xc3\\x8bwC\\xc2\\x90\\xc3\\x89\\x1d\\x0c\\xc3\\x83G}\\xc3\\xa2K\\xc2\\x94\\xc2\\xb4\\xc2\\xa5\\rl\\x1bg\\xc2\\x90e\\x19\\x15 \\xc3\\x98bG\\xc2\\x90\\xc2\\xa7\\xc2\\x94a\\x0c\"\\xc3\\x96u\\xc2\\xa5D\\x1d\\xc2\\x90\\xc3\\x841zT\\xc3\\xa0\\xc3\\x900\\xc2\\x85\\xc2\\x95E\\x1d$\\x19\"q\\xc2\\x8d\\xc3\\x81\\xc2\\x85\\xc3\\x9b\\xc3\\x86\\xc2\\xa87I\\xc2\\x994x8I\\x03x\\x045\\xc2\\x8fT\\xc2\\xa9)p\\x0cV\\xc3\\x85M\\x0bP\\x1b\\xc3\\xa8\\xc2\\xb5\\x05\\xc2\\x86R\\xc3\\x91\\xc2\\x99y\\x18R\\xc2\\xb7\\x16DP\\x1b\\xc3\\x88!\\r\\x19Cv\\xc3\\xb08IbP\\xc3\\xa1c\\x0c\\xc2\\x91F\\xc2\\xb0b\\x18\\xc3\\x86$\\x00'\n"
          ]
        }
      ],
      "source": [
        "im = cv2.imread(\"/content/stego-image/lsb_w_ECC_LZW_package.png\")\n",
        "steg = LSBSteg(im)\n",
        "bytess = steg.decode_text()\n",
        "print(bytess.encode())"
      ]
    },
    {
      "cell_type": "markdown",
      "metadata": {
        "id": "aWCWMb_oYNR-"
      },
      "source": [
        "# LSB With Huffman Encoding"
      ]
    },
    {
      "cell_type": "code",
      "execution_count": 79,
      "metadata": {
        "id": "6BatRIQkYRFt",
        "colab": {
          "base_uri": "https://localhost:8080/"
        },
        "outputId": "dd33e2a5-7daf-4e66-d481-04e47f88b9b8"
      },
      "outputs": [
        {
          "output_type": "stream",
          "name": "stdout",
          "text": [
            "Original Data (as bytes): b'3348610401970005#christofer*derian*budianto#tegal#1997-03-04#laki-laki#b#jl.*pala*22*no.*30#005#017#mejasem*tengah#kramat#katholik#belum*kawin#pelajar/mahasiswa#wni#seumur*hidup'\n",
            "Original Data (as string): 3348610401970005#christofer*derian*budianto#tegal#1997-03-04#laki-laki#b#jl.*pala*22*no.*30#005#017#mejasem*tengah#kramat#katholik#belum*kawin#pelajar/mahasiswa#wni#seumur*hidup\n",
            "Compressed Data (in bytes): bytearray(b'\\x02\\xdfy>\\xa8\\x7f\\x12G\\xf7S\\x11\\x1e\\xfb\\xedYu\\xcf\\xc6)\\x91\\xd52\\xe6\\xc3\\xa3usi\\xf9\\xd3OD;\\xfb\\xae\\xa6\\xf8\\xde\\xf8\\x93\\x80\\xe1\\xef\\x03\\x87\\xed9\\x90\\xa2;\\x10#\\xf3\\xe0\\xdb\\xca#\\xbctG\\xbe\\x8f\\xe9\\xea\\xa3%iQ\\x9a[\\xd1Wc&\\xa6}\\x835x\\x0f\\x8e\\xd1\\x01\\xb5\\x1c\\x19^\\xdd\\xb2\\x01d\\xe5\\x85J\\x8a\\xddr\\x9e\\x96\\xcf\\xcbF\\xd5\\xb9\\x15>\\xad\\xd8')\n",
            "Decompressed Data (as bytes): bytearray(b'3348610401970005#christofer*derian*budianto#tegal#1997-03-04#laki-laki#b#jl.*pala*22*no.*30#005#017#mejasem*tengah#kramat#katholik#belum*kawin#pelajar/mahasiswa#wni#seumur*hidup')\n",
            "Decompressed Data (as string): 3348610401970005#christofer*derian*budianto#tegal#1997-03-04#laki-laki#b#jl.*pala*22*no.*30#005#017#mejasem*tengah#kramat#katholik#belum*kawin#pelajar/mahasiswa#wni#seumur*hidup\n",
            "Decompression was successful!\n"
          ]
        }
      ],
      "source": [
        "import heapq\n",
        "from collections import Counter\n",
        "\n",
        "# Class for Huffman Tree Nodes\n",
        "class HuffmanNode:\n",
        "    def __init__(self, char=None, freq=0, left=None, right=None):\n",
        "        self.char = char\n",
        "        self.freq = freq\n",
        "        self.left = left\n",
        "        self.right = right\n",
        "\n",
        "    def __lt__(self, other):\n",
        "        return self.freq < other.freq\n",
        "\n",
        "# Function to build the Huffman Tree\n",
        "def build_huffman_tree(frequency):\n",
        "    heap = [HuffmanNode(char, freq) for char, freq in frequency.items()]\n",
        "    heapq.heapify(heap)\n",
        "\n",
        "    while len(heap) > 1:\n",
        "        node1 = heapq.heappop(heap)\n",
        "        node2 = heapq.heappop(heap)\n",
        "        merged = HuffmanNode(freq=node1.freq + node2.freq, left=node1, right=node2)\n",
        "        heapq.heappush(heap, merged)\n",
        "\n",
        "    return heap[0]  # Return the root of the tree\n",
        "\n",
        "# Function to generate Huffman codes from the Huffman Tree\n",
        "def generate_huffman_codes(node, current_code=\"\", huffman_codes={}):\n",
        "    if node is None:\n",
        "        return\n",
        "\n",
        "    if node.char is not None:\n",
        "        huffman_codes[node.char] = current_code\n",
        "\n",
        "    generate_huffman_codes(node.left, current_code + \"0\", huffman_codes)\n",
        "    generate_huffman_codes(node.right, current_code + \"1\", huffman_codes)\n",
        "\n",
        "    return huffman_codes\n",
        "\n",
        "# Function to compress the data using Huffman Encoding\n",
        "def huffman_compress(data):\n",
        "    # Count the frequency of each byte\n",
        "    frequency = Counter(data)\n",
        "\n",
        "    # Build Huffman Tree\n",
        "    huffman_tree = build_huffman_tree(frequency)\n",
        "\n",
        "    # Generate Huffman Codes\n",
        "    huffman_codes = generate_huffman_codes(huffman_tree)\n",
        "\n",
        "    # Encode data into its binary representation\n",
        "    encoded_data = \"\".join(huffman_codes[byte] for byte in data)\n",
        "\n",
        "    # Pad the encoded data to make its length a multiple of 8\n",
        "    padding = 8 - len(encoded_data) % 8\n",
        "    encoded_data += \"0\" * padding\n",
        "    padding_info = \"{0:08b}\".format(padding)\n",
        "\n",
        "    # Convert binary data to bytes\n",
        "    compressed_data = bytearray()\n",
        "    compressed_data.append(int(padding_info, 2))  # First byte stores the padding information\n",
        "    for i in range(0, len(encoded_data), 8):\n",
        "        byte = encoded_data[i:i+8]\n",
        "        compressed_data.append(int(byte, 2))\n",
        "\n",
        "    return compressed_data, huffman_tree\n",
        "\n",
        "# Function to decompress the data using Huffman Encoding\n",
        "def huffman_decompress(compressed_data, huffman_tree):\n",
        "    # Convert the compressed data to binary string\n",
        "    encoded_data = \"\"\n",
        "    for byte in compressed_data[1:]:\n",
        "        encoded_data += \"{0:08b}\".format(byte)\n",
        "\n",
        "    # Get the padding information from the first byte\n",
        "    padding = compressed_data[0]\n",
        "    encoded_data = encoded_data[:-padding]  # Remove padding\n",
        "\n",
        "    # Traverse the Huffman tree to decode the binary string\n",
        "    decoded_data = bytearray()\n",
        "    node = huffman_tree\n",
        "    for bit in encoded_data:\n",
        "        if bit == \"0\":\n",
        "            node = node.left\n",
        "        else:\n",
        "            node = node.right\n",
        "\n",
        "        if node.left is None and node.right is None:  # Leaf node\n",
        "            decoded_data.append(node.char)\n",
        "            node = huffman_tree\n",
        "\n",
        "    return decoded_data\n",
        "\n",
        "\n",
        "# Example Usage of Huffman Compression/Decompression\n",
        "\n",
        "# Step 1: The original plaintext data (as a byte string)\n",
        "plaintext = CONTENT.encode()\n",
        "\n",
        "# Print the original data\n",
        "print(\"Original Data (as bytes):\", plaintext)\n",
        "print(\"Original Data (as string):\", plaintext.decode())\n",
        "\n",
        "# Step 2: Compress the plaintext data using Huffman encoding\n",
        "compressed_data, huffman_tree = huffman_compress(plaintext)\n",
        "print(\"Compressed Data (in bytes):\", compressed_data)\n",
        "\n",
        "# Step 3: Decompress the compressed data back to the original plaintext\n",
        "decompressed_data = huffman_decompress(compressed_data, huffman_tree)\n",
        "print(\"Decompressed Data (as bytes):\", decompressed_data)\n",
        "print(\"Decompressed Data (as string):\", decompressed_data.decode())\n",
        "\n",
        "# Step 4: Verify that the decompressed data matches the original data\n",
        "if decompressed_data == plaintext:\n",
        "    print(\"Decompression was successful!\")\n",
        "else:\n",
        "    print(\"Decompression failed.\")\n"
      ]
    },
    {
      "cell_type": "code",
      "execution_count": 80,
      "metadata": {
        "id": "yVPau7W6YXkm",
        "colab": {
          "base_uri": "https://localhost:8080/",
          "height": 53
        },
        "outputId": "c781a0ac-4d51-49b8-c2fb-e55f2ae5a82d"
      },
      "outputs": [
        {
          "output_type": "execute_result",
          "data": {
            "text/plain": [
              "'02df793ea87f1247f753111efbed5975cfc62991d532e6c3a3757369f9d34f443bfbaea6f8def89380e1ef0387ed3990a23b1023f3e0dbca23bc7447be8fe9eaa32569519a5bd1576326a67d8335780f8ed101b51c195eddb20164e5854a8add729e96cfcb46d5b9153eadd8'"
            ],
            "application/vnd.google.colaboratory.intrinsic+json": {
              "type": "string"
            }
          },
          "metadata": {},
          "execution_count": 80
        }
      ],
      "source": [
        "compressed_data.hex()"
      ]
    },
    {
      "cell_type": "code",
      "execution_count": 81,
      "metadata": {
        "id": "mYFi8F5PYYpZ"
      },
      "outputs": [],
      "source": [
        "embed_lsb(\"lsb_w_Huffman.png\", compressed_data.hex())"
      ]
    },
    {
      "cell_type": "code",
      "execution_count": 82,
      "metadata": {
        "id": "zZh7v_G4YqtT",
        "colab": {
          "base_uri": "https://localhost:8080/",
          "height": 53
        },
        "outputId": "ad8307b9-d061-45ca-fc18-9c9922861d0a"
      },
      "outputs": [
        {
          "output_type": "execute_result",
          "data": {
            "text/plain": [
              "'02df793ea87f1247f753111efbed5975cfc62991d532e6c3a3757369f9d34f443bfbaea6f8def89380e1ef0387ed3990a23b1023f3e0dbca23bc7447be8fe9eaa32569519a5bd1576326a67d8335780f8ed101b51c195eddb20164e5854a8add729e96cfcb46d5b9153eadd8'"
            ],
            "application/vnd.google.colaboratory.intrinsic+json": {
              "type": "string"
            }
          },
          "metadata": {},
          "execution_count": 82
        }
      ],
      "source": [
        "extracted_data = extract_lsb(\"lsb_w_Huffman.png\")\n",
        "extracted_data"
      ]
    },
    {
      "cell_type": "code",
      "execution_count": 83,
      "metadata": {
        "id": "vRrgWLCBYsDq",
        "colab": {
          "base_uri": "https://localhost:8080/"
        },
        "outputId": "32383803-d85b-4c57-edbb-9f818b95cf6d"
      },
      "outputs": [
        {
          "output_type": "stream",
          "name": "stdout",
          "text": [
            "PSNR: 77.81371174500211\n"
          ]
        },
        {
          "output_type": "execute_result",
          "data": {
            "text/plain": [
              "77.81371174500211"
            ]
          },
          "metadata": {},
          "execution_count": 83
        }
      ],
      "source": [
        "calculate_psnr_2(\"lsb_w_Huffman.png\")"
      ]
    },
    {
      "cell_type": "code",
      "execution_count": 84,
      "metadata": {
        "id": "2lU9EnDeYvw-",
        "colab": {
          "base_uri": "https://localhost:8080/"
        },
        "outputId": "259b84bb-8b47-4965-d04e-68f5fc097b4d"
      },
      "outputs": [
        {
          "output_type": "stream",
          "name": "stdout",
          "text": [
            "bytearray(b'\\x02\\xdfy>\\xa8\\x7f\\x12G\\xf7S\\x11\\x1e\\xfb\\xedYu\\xcf\\xc6)\\x91\\xd52\\xe6\\xc3\\xa3usi\\xf9\\xd3OD;\\xfb\\xae\\xa6\\xf8\\xde\\xf8\\x93\\x80\\xe1\\xef\\x03\\x87\\xed9\\x90\\xa2;\\x10#\\xf3\\xe0\\xdb\\xca#\\xbctG\\xbe\\x8f\\xe9\\xea\\xa3%iQ\\x9a[\\xd1Wc&\\xa6}\\x835x\\x0f\\x8e\\xd1\\x01\\xb5\\x1c\\x19^\\xdd\\xb2\\x01d\\xe5\\x85J\\x8a\\xddr\\x9e\\x96\\xcf\\xcbF\\xd5\\xb9\\x15>\\xad\\xd8')\n"
          ]
        }
      ],
      "source": [
        "byte_array = bytearray.fromhex(extracted_data)\n",
        "\n",
        "# Print the bytearray\n",
        "print(byte_array)"
      ]
    },
    {
      "cell_type": "code",
      "execution_count": 85,
      "metadata": {
        "id": "BidLd0RXY3gH",
        "colab": {
          "base_uri": "https://localhost:8080/"
        },
        "outputId": "f761cd61-9b4e-4f45-de6e-050ad092316c"
      },
      "outputs": [
        {
          "output_type": "stream",
          "name": "stdout",
          "text": [
            "Decompressed Data (as bytes): bytearray(b'3348610401970005#christofer*derian*budianto#tegal#1997-03-04#laki-laki#b#jl.*pala*22*no.*30#005#017#mejasem*tengah#kramat#katholik#belum*kawin#pelajar/mahasiswa#wni#seumur*hidup')\n"
          ]
        }
      ],
      "source": [
        "decompressed_data = huffman_decompress(byte_array, huffman_tree)\n",
        "print(\"Decompressed Data (as bytes):\", decompressed_data)"
      ]
    },
    {
      "cell_type": "code",
      "execution_count": 86,
      "metadata": {
        "id": "oNhiWb4mZAMF",
        "colab": {
          "base_uri": "https://localhost:8080/"
        },
        "outputId": "5861fbc0-9ae5-4c21-df7c-81f304afa179"
      },
      "outputs": [
        {
          "output_type": "stream",
          "name": "stdout",
          "text": [
            "Decompressed Data (as string): 3348610401970005#christofer*derian*budianto#tegal#1997-03-04#laki-laki#b#jl.*pala*22*no.*30#005#017#mejasem*tengah#kramat#katholik#belum*kawin#pelajar/mahasiswa#wni#seumur*hidup\n"
          ]
        }
      ],
      "source": [
        "print(\"Decompressed Data (as string):\", decompressed_data.decode())"
      ]
    }
  ],
  "metadata": {
    "colab": {
      "collapsed_sections": [
        "qD_sIiOCjsMH",
        "JlpuiAZPLM0u"
      ],
      "toc_visible": true,
      "provenance": [],
      "authorship_tag": "ABX9TyNhgcec2tidb1uXjXj5RA22",
      "include_colab_link": true
    },
    "kernelspec": {
      "display_name": "Python 3",
      "name": "python3"
    },
    "language_info": {
      "name": "python"
    }
  },
  "nbformat": 4,
  "nbformat_minor": 0
}