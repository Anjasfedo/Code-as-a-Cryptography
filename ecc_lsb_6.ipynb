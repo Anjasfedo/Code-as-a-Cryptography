{
  "nbformat": 4,
  "nbformat_minor": 0,
  "metadata": {
    "colab": {
      "provenance": [],
      "authorship_tag": "ABX9TyNseZ1p40iLYhLRxwlFDtt+",
      "include_colab_link": true
    },
    "kernelspec": {
      "name": "python3",
      "display_name": "Python 3"
    },
    "language_info": {
      "name": "python"
    }
  },
  "cells": [
    {
      "cell_type": "markdown",
      "metadata": {
        "id": "view-in-github",
        "colab_type": "text"
      },
      "source": [
        "<a href=\"https://colab.research.google.com/github/Anjasfedo/Code-as-a-Cryptography/blob/main/ecc_lsb_6.ipynb\" target=\"_parent\"><img src=\"https://colab.research.google.com/assets/colab-badge.svg\" alt=\"Open In Colab\"/></a>"
      ]
    },
    {
      "cell_type": "code",
      "execution_count": 47,
      "metadata": {
        "id": "Yto1rwiTw013"
      },
      "outputs": [],
      "source": [
        "# Parameters\n",
        "p = 751  # prime modulus\n",
        "a = -1    # coefficient of x in the elliptic curve\n",
        "b = 188    # constant in the elliptic curve"
      ]
    },
    {
      "cell_type": "code",
      "source": [
        "import random\n",
        "import sympy as sp\n",
        "import json\n",
        "import base64\n",
        "\n",
        "class EllipticCurveElGamal:\n",
        "  def __init__(self, a, b, p, k, B=None):\n",
        "    self.p = p # primer number\n",
        "    self.a = a # alpha\n",
        "    self.b = b # beta\n",
        "\n",
        "    self.k = k\n",
        "    self.PointB = B\n",
        "\n",
        "    self.pointP = None\n",
        "    self.pointQ = None\n",
        "\n",
        "    self.char_to_num_dict = {\n",
        "    '0': 0, '1': 1, '2': 2, '3': 3, '4': 4, '5': 5, '6': 6, '7': 7, '8': 8, '9': 9,\n",
        "    'a': 10, 'b': 11, 'c': 12, 'd': 13, 'e': 14, 'f': 15, 'g': 16, 'h': 17,\n",
        "    'i': 18, 'j': 19, 'k': 20, 'l': 21, 'm': 22, 'n': 23, 'o': 24, 'p': 25,\n",
        "    'q': 26, 'r': 27, 's': 28, 't': 29, 'u': 30, 'v': 31, 'w': 32, 'x': 33,\n",
        "    'y': 34, 'z': 35, '.': 36, '#': 37, '*': 38, '/': 39, '-': 40\n",
        "    }\n",
        "\n",
        "    self.num_to_char_dict = {v: k for k, v in self.char_to_num_dict.items()}\n",
        "\n",
        "    self.k_koblitz = max(self.char_to_num_dict.values()) + 1  # max 24 for 35 char\n",
        "\n",
        "  def example_function(self):\n",
        "      print(f\"Using persistent k value: {self.k}\")\n",
        "\n",
        "  def elliptic_curve_equation(self, x):\n",
        "    return (x**3 + self.a*x + self.b) % self.p\n",
        "\n",
        "  def is_on_curve(self, x, y):\n",
        "    return self.elliptic_curve_equation(x)  == (y**2) % p\n",
        "\n",
        "  # def generate_random_number(self):\n",
        "  #   self.k = random.randint(1, self.p - 1)\n",
        "  #   return self.k\n",
        "\n",
        "  def generate_random_point(self):\n",
        "    while True:\n",
        "      x = random.randint(1, self.p - 1)\n",
        "      y = random.randint(1, self.p - 1)\n",
        "      if self.is_on_curve(x, y):\n",
        "        return (x, y)\n",
        "\n",
        "  def mod_inverse(self, a, p):\n",
        "      if a == 0:\n",
        "          raise ValueError(\"Inverse does not exist for 0.\")\n",
        "      return pow(a, p - 2, p)\n",
        "\n",
        "  def calculate_slope_mod(self, P, Q):\n",
        "    x1, y1 = P\n",
        "    x2, y2 = Q\n",
        "    if x1 == x2 and y1 == y2:\n",
        "        # Use the formula for point doubling when P == Q\n",
        "        numerator = (3 * x1**2 + self.a) % self.p\n",
        "        denominator = (2 * y1) % self.p\n",
        "    else:\n",
        "        # Use the formula for regular slope when P != Q\n",
        "        numerator = (y2 - y1) % self.p\n",
        "        denominator = (x2 - x1) % self.p\n",
        "\n",
        "    if denominator == 0:\n",
        "        raise ValueError(\"Slope is undefined (denominator is zero).\")\n",
        "\n",
        "    # Compute the slope as (numerator / denominator) % p, which is\n",
        "    # numerator * mod_inverse(denominator, p) % p\n",
        "    slope = (numerator * self.mod_inverse(denominator, self.p)) % self.p\n",
        "    return slope\n",
        "\n",
        "  def calculate_add_xr_mod(self, P, Q, m):\n",
        "    x1, y1 = P\n",
        "    x2, y2 = Q\n",
        "    xr = (m**2 - x1 - x2) % self.p\n",
        "    return xr\n",
        "\n",
        "  def calculate_add_yr_mod(self, P, Q, m, xr):\n",
        "    x1, y1 = P\n",
        "    x2, y2 = Q\n",
        "    yr = (m * (x1 - xr) - y1) % self.p\n",
        "    return yr\n",
        "\n",
        "  def calculate_point_addition(self, P, Q):\n",
        "    m = self.calculate_slope_mod(P, Q)\n",
        "\n",
        "    xr = self.calculate_add_xr_mod(P, Q, m)\n",
        "\n",
        "    yr = self.calculate_add_yr_mod(P, Q, m, xr)\n",
        "\n",
        "    R = (xr, yr)\n",
        "\n",
        "    return R\n",
        "\n",
        "  def calculate_dob_xr_mod(self, P, Q, m):\n",
        "    x1, y1 = P\n",
        "    x2, y2 = Q\n",
        "    xr = (m**2 - (2 * x1)) % self.p\n",
        "    return xr\n",
        "\n",
        "  def calculate_dob_yr_mod(self, P, Q, m, xr):\n",
        "    x1, y1 = P\n",
        "    yr = (m * (x1 - xr) - y1) % self.p\n",
        "    return yr\n",
        "\n",
        "  def calculate_point_doubling(self, P):\n",
        "\n",
        "    m = self.calculate_slope_mod(P, P)\n",
        "\n",
        "    xr = self.calculate_dob_xr_mod(P, P, m)\n",
        "\n",
        "    yr = self.calculate_dob_yr_mod(P, P, m, xr)\n",
        "\n",
        "    R = (xr, yr)\n",
        "\n",
        "    return R\n",
        "\n",
        "  def calculate_point_multiplication(self, P, k):\n",
        "    if k == 0:\n",
        "      return None\n",
        "    elif k == 1:\n",
        "      return P\n",
        "\n",
        "    # Initialize R to be the point at infinity, often represented as None in this context\n",
        "    R = None\n",
        "    Q = P  # Start with Q as P\n",
        "\n",
        "    # Double-and-add method\n",
        "    while k > 0:\n",
        "        if k % 2 == 1:  # If k is odd, add Q to the result\n",
        "            if R is None:\n",
        "                R = Q  # R is the point at infinity initially\n",
        "            else:\n",
        "                R = self.calculate_point_addition(R, Q)\n",
        "        Q = self.calculate_point_addition(Q, Q)  # Double the point Q\n",
        "        k //= 2  # Move to the next bit\n",
        "\n",
        "    return R\n",
        "\n",
        "  def calculate_point_subtract(self, P, Q):\n",
        "    # Find the inverse of point Q (x_Q, y_Q) -> (x_Q, -y_Q mod p)\n",
        "    Q_inv = (Q[0], (-Q[1]) % self.p)\n",
        "\n",
        "    # Subtract P - Q by adding P and Q_inv\n",
        "    R = self.calculate_point_addition(P, Q_inv)\n",
        "\n",
        "    return R\n",
        "\n",
        "  def generate_public_key(self, B, private_key):\n",
        "    public_key = self.calculate_point_multiplication(B, private_key)\n",
        "    return public_key\n",
        "\n",
        "  def enryption(self, M, public_key):\n",
        "    k = random.randint(1, self.p - 1) # 1 < k < p - 1\n",
        "\n",
        "    C1 = self.calculate_point_multiplication(self.PointB, k)\n",
        "    C2 = self.calculate_point_addition(M, self.calculate_point_multiplication(public_key, k))\n",
        "\n",
        "    return (C1, C2)\n",
        "\n",
        "  def decryption(self, C, private_key):\n",
        "    C1, C2 = C\n",
        "\n",
        "    _p = self.calculate_point_multiplication(C1, private_key)\n",
        "\n",
        "    plain = self.calculate_point_subtract(C2, _p)\n",
        "\n",
        "    return plain\n",
        "\n",
        "  # Function to map char to num\n",
        "  def char_to_num(self, char):\n",
        "      # Ensure the input is a string; if not, convert it\n",
        "      char = str(char)\n",
        "\n",
        "      # Check if the string exists in the dictionary\n",
        "      if char in self.char_to_num_dict:\n",
        "          return self.char_to_num_dict[char]\n",
        "      else:\n",
        "          # Handle the expanded character set (0-40)\n",
        "          raise ValueError(f\"Character '{char}' is not valid. Please use '0-9', 'a-z', or other valid characters.\")\n",
        "\n",
        "\n",
        "  # Function to map num to char\n",
        "  def num_to_char(self, num):\n",
        "      # Ensure that the input is an integer; if it's a string digit, convert to integer\n",
        "      if isinstance(num, str) and num.isdigit():\n",
        "          num = int(num)\n",
        "\n",
        "      # Now we expect num to be an integer\n",
        "      if isinstance(num, int):\n",
        "          if num in self.num_to_char_dict:  # Handle numbers 0-40 by converting them using the dictionary\n",
        "              return self.num_to_char_dict[num]\n",
        "          else:\n",
        "              raise ValueError(f\"Number '{num}' is out of the valid range (0-40).\")\n",
        "      else:\n",
        "          raise ValueError(f\"Input '{num}' is not valid. Please provide a valid number.\")\n",
        "\n",
        "\n",
        "  def message_to_koblitz(self, message):\n",
        "      # Convert the message to a list of characters\n",
        "      chars = list(message)\n",
        "\n",
        "      koblitz = []\n",
        "      for char in chars:\n",
        "          num = self.char_to_num(char)\n",
        "          koblitz.append(num)\n",
        "\n",
        "      return koblitz\n",
        "\n",
        "  def koblitz_to_message(self, koblitz):\n",
        "      message = []\n",
        "      for num in koblitz:\n",
        "          char = self.num_to_char(num)\n",
        "          message.append(char)\n",
        "\n",
        "      return ''.join(message)\n",
        "\n",
        "  def koblitz_encode(self, m, max_attempts=1000):\n",
        "    num = 1  # Start with x = m * k + 1\n",
        "    attempts = 0\n",
        "\n",
        "    while attempts < max_attempts:\n",
        "        x = m * self.k_koblitz + num\n",
        "        rhs = (x**3 + self.a * x + self.b) % self.p  # right-hand side of the elliptic curve equation\n",
        "\n",
        "        # Check if rhs is a quadratic residue modulo p\n",
        "        if sp.is_quad_residue(rhs, self.p):\n",
        "            y = sp.sqrt_mod(rhs, self.p)\n",
        "            return (x, y)  # Return the point (x, y) as a tuple\n",
        "\n",
        "        num += 1  # Increment to check next x value\n",
        "        attempts += 1\n",
        "\n",
        "    # If no valid point is found after max_attempts\n",
        "    raise ValueError(f\"No valid point found after {max_attempts} attempts for message {m}.\")\n",
        "\n",
        "  def koblitz_encode_message(self, message):\n",
        "    encoded_points = []\n",
        "    for char in message:\n",
        "      encoded_point = self.koblitz_encode(char)\n",
        "      encoded_points.append(encoded_point)\n",
        "      # print(f\"Encoded point for character '{char}': {encoded_point}\")\n",
        "\n",
        "    return encoded_points\n",
        "\n",
        "  def koblitz_decode(self, x):\n",
        "    return (x - 1) // self.k_koblitz\n",
        "\n",
        "  def koblitz_decode_message(self, points):\n",
        "      decoded_message = []\n",
        "      for point in points:\n",
        "          decoded_num = self.koblitz_decode(point[0])  # Decode the x-coordinate\n",
        "          decoded_message.append(decoded_num)\n",
        "          # print(f\"Decoded character for point {point}: {decoded_num}\")\n",
        "      return decoded_message\n",
        "\n",
        "  def encrypt_message(self, message, public_key):\n",
        "      # Encode the message into Koblitz points\n",
        "      koblitz_message = self.message_to_koblitz(message)\n",
        "      encoded_message = self.koblitz_encode_message(koblitz_message)\n",
        "      encrypted_points = []\n",
        "\n",
        "      # Encrypt each Koblitz point\n",
        "      for point in encoded_message:\n",
        "          encrypted_point = self.enryption(point, public_key)\n",
        "          encrypted_points.append(encrypted_point)\n",
        "\n",
        "      # Convert encrypted_points (a list of tuples) to a JSON string\n",
        "      encrypted_message_string = json.dumps(encrypted_points)\n",
        "\n",
        "      # Optionally, encode the string to base64 for a cleaner ciphertext\n",
        "      encrypted_message_base64 = base64.b64encode(encrypted_message_string.encode()).decode()\n",
        "\n",
        "      return encrypted_message_base64, encrypted_points  # Return as readable string\n",
        "\n",
        "  def decrypt_message(self, encrypted_message_base64, private_key):\n",
        "      # Decode the base64 string back to the JSON string\n",
        "      encrypted_message_string = base64.b64decode(encrypted_message_base64).decode()\n",
        "\n",
        "      # Convert the JSON string back to a list of encrypted points (tuples)\n",
        "      encrypted_points = json.loads(encrypted_message_string)\n",
        "\n",
        "      decrypted_message = []\n",
        "\n",
        "      # Decrypt each point\n",
        "      for point in encrypted_points:\n",
        "          decrypted_point = self.decryption(point, private_key)\n",
        "          decrypted_message.append(decrypted_point)\n",
        "\n",
        "      # Decode the Koblitz points into the original numeric values\n",
        "      decoded_koblitz_points = self.koblitz_decode_message(decrypted_message)\n",
        "\n",
        "      # Convert numeric Koblitz points to characters using num_to_char\n",
        "      plain_text_message = ''.join([self.num_to_char(num) for num in decoded_koblitz_points])\n",
        "\n",
        "      return plain_text_message"
      ],
      "metadata": {
        "id": "24y16xhYxBnT"
      },
      "execution_count": 48,
      "outputs": []
    },
    {
      "cell_type": "code",
      "source": [
        "random_num = random.randint(1, p - 1)\n",
        "print(f'random number: {random_num}')\n",
        "\n",
        "elliptic1 = EllipticCurveElGamal(a, b, p, random_num)\n",
        "\n",
        "# k = elliptic1.generate_random_number()\n",
        "# print(f'k: {k}')\n",
        "\n",
        "basis = elliptic1.generate_random_point()\n",
        "print(f'basis: {basis}')\n",
        "\n",
        "elliptic1.PointB = basis\n",
        "\n",
        "print(f'is basis on curve: {elliptic1.is_on_curve(basis[0], basis[1])}')"
      ],
      "metadata": {
        "colab": {
          "base_uri": "https://localhost:8080/"
        },
        "id": "-0Fq1A3ExQhZ",
        "outputId": "f1ea8575-3c53-4df7-c3c6-2d8c33643d4b"
      },
      "execution_count": 49,
      "outputs": [
        {
          "output_type": "stream",
          "name": "stdout",
          "text": [
            "random number: 516\n",
            "basis: (299, 568)\n",
            "is basis on curve: True\n"
          ]
        }
      ]
    },
    {
      "cell_type": "code",
      "source": [
        "private_key = random.randint(1, p - 1)\n",
        "public_key = elliptic1.generate_public_key(basis, private_key)\n",
        "\n",
        "print(f'private key: {private_key}')\n",
        "print(f'public key: {public_key}')"
      ],
      "metadata": {
        "colab": {
          "base_uri": "https://localhost:8080/"
        },
        "id": "JZ1Ank_ExS6R",
        "outputId": "b5a9310f-8ac5-49d9-f8f8-d569e4410302"
      },
      "execution_count": 50,
      "outputs": [
        {
          "output_type": "stream",
          "name": "stdout",
          "text": [
            "private key: 248\n",
            "public key: (180, 408)\n"
          ]
        }
      ]
    },
    {
      "cell_type": "code",
      "source": [
        "elliptic1.k_koblitz = 18 # max 18 if add \"-#./*\"\n",
        "\n",
        "# plaintexts = \"-#./*\"\n",
        "plaintexts = \"lorem\"\n",
        "print(f'Plaintext: {plaintexts}')\n",
        "\n",
        "ciphertexts, points_cipher = elliptic1.encrypt_message(plaintexts, public_key)\n",
        "print(f'Ciphertext: {ciphertexts}')\n",
        "\n",
        "decrypted_message = elliptic1.decrypt_message(ciphertexts, private_key)\n",
        "print(f'Decryptedtext: {decrypted_message}')"
      ],
      "metadata": {
        "colab": {
          "base_uri": "https://localhost:8080/"
        },
        "id": "PCerz1K_xS8H",
        "outputId": "c1e44b9b-629c-48e8-a42d-7708cb3b8660"
      },
      "execution_count": 51,
      "outputs": [
        {
          "output_type": "stream",
          "name": "stdout",
          "text": [
            "Plaintext: lorem\n",
            "Ciphertext: W1tbNjIyLCAyNDJdLCBbMjU3LCAxNDldXSwgW1szMjksIDM2OV0sIFsyMzksIDM3N11dLCBbWzMxNywgNTcwXSwgWzcyMSwgMjQxXV0sIFtbNjk0LCAxOTldLCBbMjYxLCAyODhdXSwgW1syODMsIDU0XSwgWzY3LCAyMl1dXQ==\n",
            "Decryptedtext: lorem\n"
          ]
        }
      ]
    },
    {
      "cell_type": "code",
      "source": [
        "points_cipher"
      ],
      "metadata": {
        "colab": {
          "base_uri": "https://localhost:8080/"
        },
        "id": "Ps_CQW_mxXuq",
        "outputId": "804057e5-5fe1-47fe-cdb2-626c24424e0f"
      },
      "execution_count": 52,
      "outputs": [
        {
          "output_type": "execute_result",
          "data": {
            "text/plain": [
              "[((622, 242), (257, 149)),\n",
              " ((329, 369), (239, 377)),\n",
              " ((317, 570), (721, 241)),\n",
              " ((694, 199), (261, 288)),\n",
              " ((283, 54), (67, 22))]"
            ]
          },
          "metadata": {},
          "execution_count": 52
        }
      ]
    },
    {
      "cell_type": "code",
      "source": [
        "# Fungsi untuk menggabungkan a dan b menjadi satu nilai c dengan modulus p^2\n",
        "def gabung_ab_modulus(a, b, p):\n",
        "    if 0 <= a < p and 0 <= b < p:\n",
        "        c = a * p + b  # Menggunakan kombinasi unik a dan b\n",
        "        return c\n",
        "    else:\n",
        "        raise ValueError(\"a dan b harus berada dalam rentang [0, p-1]\")\n",
        "\n",
        "# Fungsi untuk memisahkan c kembali menjadi a dan b\n",
        "def pisah_ab_modulus(c, p):\n",
        "    a = c // p  # Mendapatkan nilai a\n",
        "    b = c % p   # Mendapatkan nilai b\n",
        "    return a, b\n",
        "\n",
        "# Contoh penggunaan\n",
        "p = p  # Bilangan prima sebagai basis modulus\n",
        "a = 677  # Misalkan a diambil dalam rentang lebih besar, tidak masalah asalkan kurang dari p^2\n",
        "b = 419\n",
        "\n",
        "# Gabungkan a dan b menjadi c\n",
        "c = gabung_ab_modulus(a, b, p)\n",
        "print(\"Gabungan a dan b menjadi c:\", c)\n",
        "\n",
        "# Pisahkan kembali c menjadi a dan b\n",
        "a_kembali, b_kembali = pisah_ab_modulus(c, p)\n",
        "print(\"Hasil pemisahan c kembali ke a dan b:\", a_kembali, b_kembali)\n"
      ],
      "metadata": {
        "colab": {
          "base_uri": "https://localhost:8080/"
        },
        "id": "jH3DY34vxw1z",
        "outputId": "604a7730-3a51-44ab-ef27-5e913d392e42"
      },
      "execution_count": 53,
      "outputs": [
        {
          "output_type": "stream",
          "name": "stdout",
          "text": [
            "Gabungan a dan b menjadi c: 508846\n",
            "Hasil pemisahan c kembali ke a dan b: 677 419\n"
          ]
        }
      ]
    },
    {
      "cell_type": "code",
      "source": [
        "# Fungsi untuk menggabungkan a dan b menjadi satu nilai c dengan modulus p^2\n",
        "def gabung_ab_modulus(a, b, p):\n",
        "    if 0 <= a < p and 0 <= b < p:\n",
        "        c = (a * p + b) % 256  # Menggunakan modulus 256 untuk memastikan dalam rentang ASCII\n",
        "        return c\n",
        "    else:\n",
        "        raise ValueError(\"a dan b harus berada dalam rentang [0, p-1]\")\n",
        "\n",
        "# Fungsi untuk memisahkan c kembali menjadi a dan b\n",
        "def pisah_ab_modulus(c, p):\n",
        "    a = (c // p) % 256  # Mendapatkan nilai a\n",
        "    b = c % p           # Mendapatkan nilai b\n",
        "    return a, b\n",
        "\n",
        "# Contoh penggunaan\n",
        "p = p  # Misalnya p disesuaikan menjadi bilangan kecil\n",
        "a = 677  # Nilai a dalam rentang yang kecil\n",
        "b = 419  # Nilai b dalam rentang yang kecil\n",
        "\n",
        "# Gabungkan a dan b menjadi c\n",
        "c = gabung_ab_modulus(a, b, p)\n",
        "print(\"Gabungan a dan b menjadi c:\", c)\n",
        "\n",
        "# Pisahkan kembali c menjadi a dan b\n",
        "a_kembali, b_kembali = pisah_ab_modulus(c, p)\n",
        "print(\"Hasil pemisahan c kembali ke a dan b:\", a_kembali, b_kembali)\n"
      ],
      "metadata": {
        "colab": {
          "base_uri": "https://localhost:8080/"
        },
        "id": "bul-hEXp0hXW",
        "outputId": "bd4e96b5-43ea-4b93-a407-3c48c9ca1920"
      },
      "execution_count": 54,
      "outputs": [
        {
          "output_type": "stream",
          "name": "stdout",
          "text": [
            "Gabungan a dan b menjadi c: 174\n",
            "Hasil pemisahan c kembali ke a dan b: 0 174\n"
          ]
        }
      ]
    },
    {
      "cell_type": "code",
      "source": [
        "# Fungsi untuk menggabungkan a dan b menjadi satu nilai c dengan modulus p^2, kemudian dibatasi dalam rentang 0-255\n",
        "def gabung_ab_modulus_255(a, b, p):\n",
        "    if 0 <= a < p and 0 <= b < p:\n",
        "        c = (a * p + b) % 256  # Menjaga agar c berada dalam rentang 0-255\n",
        "        return c\n",
        "    else:\n",
        "        raise ValueError(\"a dan b harus berada dalam rentang [0, p-1]\")\n",
        "\n",
        "# Fungsi untuk memisahkan c kembali menjadi a dan b\n",
        "def pisah_ab_modulus_255(c, p):\n",
        "    a = c // p  # Mendapatkan nilai a\n",
        "    b = c % p   # Mendapatkan nilai b\n",
        "    return a, b\n",
        "\n",
        "# Contoh penggunaan\n",
        "p = p  # Misalnya p disesuaikan menjadi bilangan kecil\n",
        "a = 677  # Nilai a dalam rentang yang kecil\n",
        "b = 419  # Nilai b dalam rentang yang kecil\n",
        "\n",
        "# Gabungkan a dan b menjadi c\n",
        "c = gabung_ab_modulus_255(a, b, p)\n",
        "print(\"Gabungan a dan b menjadi c:\", c)\n",
        "\n",
        "# Pisahkan kembali c menjadi a dan b\n",
        "a_kembali, b_kembali = pisah_ab_modulus_255(c, p)\n",
        "print(\"Hasil pemisahan c kembali ke a dan b:\", a_kembali, b_kembali)\n"
      ],
      "metadata": {
        "colab": {
          "base_uri": "https://localhost:8080/"
        },
        "id": "AzJOo8WkAdsf",
        "outputId": "7d23c2b0-2afe-48f7-e9e9-e6fa6cc66a1c"
      },
      "execution_count": 55,
      "outputs": [
        {
          "output_type": "stream",
          "name": "stdout",
          "text": [
            "Gabungan a dan b menjadi c: 174\n",
            "Hasil pemisahan c kembali ke a dan b: 0 174\n"
          ]
        }
      ]
    },
    {
      "cell_type": "code",
      "source": [
        "# Fungsi untuk menggabungkan a dan b menjadi satu nilai c dengan modulus p^2\n",
        "def gabung_ab_modulus_p2(a, b, p):\n",
        "    if 0 <= a < p and 0 <= b < p:\n",
        "        c = (a * p + b) % (p ** 2)  # Menggunakan modulus p^2\n",
        "        return c\n",
        "    else:\n",
        "        raise ValueError(\"a dan b harus berada dalam rentang [0, p-1]\")\n",
        "\n",
        "# Fungsi untuk memisahkan c kembali menjadi a dan b\n",
        "def pisah_ab_modulus_p2(c, p):\n",
        "    a = c // p  # Mendapatkan nilai a\n",
        "    b = c % p   # Mendapatkan nilai b\n",
        "    return a, b\n",
        "\n",
        "# Contoh penggunaan\n",
        "p = p  # Misalnya p adalah bilangan prima kecil, seperti 17\n",
        "a = 677  # Nilai a dalam rentang yang kecil\n",
        "b = 419  # Nilai b dalam rentang yang kecil\n",
        "\n",
        "# Gabungkan a dan b menjadi c\n",
        "c = gabung_ab_modulus_p2(a, b, p)\n",
        "print(\"Gabungan a dan b menjadi c:\", c)\n",
        "\n",
        "# Pisahkan kembali c menjadi a dan b\n",
        "a_kembali, b_kembali = pisah_ab_modulus_p2(c, p)\n",
        "print(\"Hasil pemisahan c kembali ke a dan b:\", a_kembali, b_kembali)\n"
      ],
      "metadata": {
        "colab": {
          "base_uri": "https://localhost:8080/"
        },
        "id": "WT3vcjjRGK-p",
        "outputId": "1de3715d-ec37-4c9f-b7c4-97075b8ecebe"
      },
      "execution_count": 57,
      "outputs": [
        {
          "output_type": "stream",
          "name": "stdout",
          "text": [
            "Gabungan a dan b menjadi c: 508846\n",
            "Hasil pemisahan c kembali ke a dan b: 677 419\n"
          ]
        }
      ]
    }
  ]
}