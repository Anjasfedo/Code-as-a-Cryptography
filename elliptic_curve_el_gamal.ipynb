{
  "nbformat": 4,
  "nbformat_minor": 0,
  "metadata": {
    "colab": {
      "provenance": [],
      "authorship_tag": "ABX9TyOW84G3QBEqgPjw5n31LvLO",
      "include_colab_link": true
    },
    "kernelspec": {
      "name": "python3",
      "display_name": "Python 3"
    },
    "language_info": {
      "name": "python"
    }
  },
  "cells": [
    {
      "cell_type": "markdown",
      "metadata": {
        "id": "view-in-github",
        "colab_type": "text"
      },
      "source": [
        "<a href=\"https://colab.research.google.com/github/Anjasfedo/Code-as-a-Cryptography/blob/main/elliptic_curve_el_gamal.ipynb\" target=\"_parent\"><img src=\"https://colab.research.google.com/assets/colab-badge.svg\" alt=\"Open In Colab\"/></a>"
      ]
    },
    {
      "cell_type": "code",
      "source": [
        "def curve_equation(x, p, a=1, b=6):\n",
        "    \"\"\"Elliptic curve equation y^2 = x^3 + ax + b mod p.\"\"\"\n",
        "    return (x**3 + a*x + b) % p\n",
        "\n",
        "def is_curve_point(x, y, p=11):\n",
        "    \"\"\"Check if the point (x, y) satisfies the elliptic curve equation mod p.\"\"\"\n",
        "    return curve_equation(x, p=p) == (y**2) % p"
      ],
      "metadata": {
        "id": "tMpL1IxPJnus"
      },
      "execution_count": 134,
      "outputs": []
    },
    {
      "cell_type": "markdown",
      "source": [
        "# Point addition"
      ],
      "metadata": {
        "id": "81mZjFbSEQFp"
      }
    },
    {
      "cell_type": "code",
      "source": [
        "def mod_inverse(a, p):\n",
        "    \"\"\"Returns the modular inverse of a under modulo p using Fermat's Little Theorem.\"\"\"\n",
        "    return pow(a, p - 2, p)\n",
        "\n",
        "def calculate_slope_mod(P, Q, p, a):\n",
        "    x1, y1 = P\n",
        "    x2, y2 = Q\n",
        "    if x1 == x2 and y1 == y2:\n",
        "        # Use the formula for point doubling when P == Q\n",
        "        numerator = (3 * x1**2 + a) % p\n",
        "        denominator = (2 * y1) % p\n",
        "    else:\n",
        "        # Use the formula for regular slope when P != Q\n",
        "        numerator = (y2 - y1) % p\n",
        "        denominator = (x2 - x1) % p\n",
        "\n",
        "    if denominator == 0:\n",
        "        raise ValueError(\"Slope is undefined (denominator is zero).\")\n",
        "\n",
        "    # Compute the slope as (numerator / denominator) % p, which is\n",
        "    # numerator * mod_inverse(denominator, p) % p\n",
        "    slope = (numerator * mod_inverse(denominator, p)) % p\n",
        "    return slope"
      ],
      "metadata": {
        "id": "hGq4ilHOEKCl"
      },
      "execution_count": 135,
      "outputs": []
    },
    {
      "cell_type": "code",
      "source": [
        "def calculate_add_xr_mod(P, Q, m, p):\n",
        "    x1, y1 = P\n",
        "    x2, y2 = Q\n",
        "    xr = (m**2 - x1 - x2) % p\n",
        "    return xr\n",
        "\n",
        "def calculate_add_yr_mod(P, Q, m, xr, p):\n",
        "    x1, y1 = P\n",
        "    x2, y2 = Q\n",
        "    yr = (m * (x1 - xr) - y1) % p\n",
        "    return yr"
      ],
      "metadata": {
        "id": "Kls5TcUxELoN"
      },
      "execution_count": 136,
      "outputs": []
    },
    {
      "cell_type": "code",
      "source": [
        "def calculate_point_add(P, Q, p, a):\n",
        "  print(f'P: {P}')\n",
        "  print(f'Q: {Q}')\n",
        "  print(f'p: {p}')\n",
        "\n",
        "  m = calculate_slope_mod(P, Q, p, a)\n",
        "  print(f'slope: {m}')\n",
        "\n",
        "  xr = calculate_add_xr_mod(P, Q, m, p)\n",
        "  print(f'xr: {xr}')\n",
        "\n",
        "  yr = calculate_add_yr_mod(P, Q, m, xr, p)\n",
        "  print(f'yr: {yr}')\n",
        "\n",
        "  R = (xr, yr)\n",
        "  print(f'R: {R}')\n",
        "\n",
        "  print(f'is R on curve: {is_curve_point(R[0], R[1], p)}')\n",
        "\n",
        "  return R"
      ],
      "metadata": {
        "id": "gmbkuU9gEOe6"
      },
      "execution_count": 137,
      "outputs": []
    },
    {
      "cell_type": "markdown",
      "source": [
        "# Point Doubling"
      ],
      "metadata": {
        "id": "Vl3orhEyER0p"
      }
    },
    {
      "cell_type": "code",
      "source": [
        "def calculate_dob_xr_mod(P, Q, slope, p):\n",
        "    x1, y1 = P\n",
        "    x2, y2 = Q\n",
        "    xr = (slope**2 - (2 * x1)) % p\n",
        "    return xr\n",
        "\n",
        "def calculate_dob_yr_mod(P, Q, slope, xr, p):\n",
        "    x1, y1 = P\n",
        "    yr = (slope * (x1 - xr) - y1) % p\n",
        "    return yr"
      ],
      "metadata": {
        "id": "A5FmO6K9EtY5"
      },
      "execution_count": 138,
      "outputs": []
    },
    {
      "cell_type": "code",
      "source": [
        "def calculate_point_dob(P, p, a):\n",
        "  print(f'P: {P}')\n",
        "  print(f'p: {p}')\n",
        "\n",
        "  m = calculate_slope_mod(P, P, p, a)\n",
        "  print(f'slope: {m}')\n",
        "\n",
        "  xr = calculate_dob_xr_mod(P, P, m, p)\n",
        "  print(f'xr: {xr}')\n",
        "\n",
        "  yr = calculate_dob_yr_mod(P, P, m, xr, p)\n",
        "  print(f'yr: {yr}')\n",
        "\n",
        "  R = (xr, yr)\n",
        "  print(f'R: {R}')\n",
        "\n",
        "  print(f'is R on curve: {is_curve_point(R[0], R[1], p)}')\n",
        "\n",
        "  return R"
      ],
      "metadata": {
        "id": "aLgXvCRlEq9T"
      },
      "execution_count": 139,
      "outputs": []
    },
    {
      "cell_type": "markdown",
      "source": [
        "# Point Multiplication"
      ],
      "metadata": {
        "id": "TQJSvklYGQxy"
      }
    },
    {
      "cell_type": "code",
      "source": [
        "def calculate_point_mul(P, k, p, a):\n",
        "    # Initialize R to be the point at infinity, often represented as None in this context\n",
        "    R = None\n",
        "    Q = P  # Start with Q as P\n",
        "\n",
        "    print(f'Initial P: {P}')\n",
        "    print(f'Scalar k: {k}')\n",
        "    print(f'p: {p}')\n",
        "    print(f'a: {a}')\n",
        "\n",
        "    # Double-and-add method\n",
        "    while k > 0:\n",
        "        if k % 2 == 1:  # If k is odd, add Q to the result\n",
        "            if R is None:\n",
        "                R = Q  # R is the point at infinity initially\n",
        "            else:\n",
        "                R = calculate_point_add(R, Q, p, a)\n",
        "        Q = calculate_point_add(Q, Q, p, a)  # Double the point Q\n",
        "        k //= 2  # Move to the next bit\n",
        "\n",
        "    print(f'Final R after multiplication: {R}')\n",
        "    print()\n",
        "    return R\n"
      ],
      "metadata": {
        "id": "ZHZ-Q7zvIpSS"
      },
      "execution_count": 140,
      "outputs": []
    },
    {
      "cell_type": "markdown",
      "source": [
        "# Point Subtraction"
      ],
      "metadata": {
        "id": "GEgQrCsIN-B9"
      }
    },
    {
      "cell_type": "code",
      "source": [
        "def calculate_point_subtract(P, Q, p, a):\n",
        "    # Find the inverse of point Q (x_Q, y_Q) -> (x_Q, -y_Q mod p)\n",
        "    Q_inv = (Q[0], (-Q[1]) % p)\n",
        "\n",
        "    print(f'P: {P}')\n",
        "    print(f'Q: {Q}')\n",
        "    print(f'Q_inv (inverse of Q): {Q_inv}')\n",
        "    print(f'p: {p}')\n",
        "\n",
        "    # Subtract P - Q by adding P and Q_inv\n",
        "    R = calculate_point_add(P, Q_inv, p, a)\n",
        "\n",
        "    print(f'R after subtraction (P - Q): {R}')\n",
        "    return R\n"
      ],
      "metadata": {
        "id": "IgvogEHiOADJ"
      },
      "execution_count": 141,
      "outputs": []
    },
    {
      "cell_type": "code",
      "source": [
        "B = (2, 4)\n",
        "p = 11\n",
        "_a = 1"
      ],
      "metadata": {
        "id": "bxyzc3APE2DB"
      },
      "execution_count": 142,
      "outputs": []
    },
    {
      "cell_type": "code",
      "source": [
        "priv1 = 5\n",
        "priv2 = 3"
      ],
      "metadata": {
        "id": "Sg00kYrzJ9Yd"
      },
      "execution_count": 143,
      "outputs": []
    },
    {
      "cell_type": "code",
      "source": [
        "pub1 = calculate_point_mul(B, priv1, p, _a)\n",
        "pub2 = calculate_point_mul(B, priv2, p, _a)"
      ],
      "metadata": {
        "colab": {
          "base_uri": "https://localhost:8080/"
        },
        "id": "ZWS2sNUGIvn7",
        "outputId": "8f8a00ad-ceb6-4959-8c7b-e34c64e51d73"
      },
      "execution_count": 144,
      "outputs": [
        {
          "output_type": "stream",
          "name": "stdout",
          "text": [
            "Initial P: (2, 4)\n",
            "Scalar k: 5\n",
            "p: 11\n",
            "a: 1\n",
            "P: (2, 4)\n",
            "Q: (2, 4)\n",
            "p: 11\n",
            "slope: 3\n",
            "xr: 5\n",
            "yr: 9\n",
            "R: (5, 9)\n",
            "is R on curve: True\n",
            "P: (5, 9)\n",
            "Q: (5, 9)\n",
            "p: 11\n",
            "slope: 3\n",
            "xr: 10\n",
            "yr: 9\n",
            "R: (10, 9)\n",
            "is R on curve: True\n",
            "P: (2, 4)\n",
            "Q: (10, 9)\n",
            "p: 11\n",
            "slope: 2\n",
            "xr: 3\n",
            "yr: 5\n",
            "R: (3, 5)\n",
            "is R on curve: True\n",
            "P: (10, 9)\n",
            "Q: (10, 9)\n",
            "p: 11\n",
            "slope: 10\n",
            "xr: 3\n",
            "yr: 6\n",
            "R: (3, 6)\n",
            "is R on curve: True\n",
            "Final R after multiplication: (3, 5)\n",
            "\n",
            "Initial P: (2, 4)\n",
            "Scalar k: 3\n",
            "p: 11\n",
            "a: 1\n",
            "P: (2, 4)\n",
            "Q: (2, 4)\n",
            "p: 11\n",
            "slope: 3\n",
            "xr: 5\n",
            "yr: 9\n",
            "R: (5, 9)\n",
            "is R on curve: True\n",
            "P: (2, 4)\n",
            "Q: (5, 9)\n",
            "p: 11\n",
            "slope: 9\n",
            "xr: 8\n",
            "yr: 8\n",
            "R: (8, 8)\n",
            "is R on curve: True\n",
            "P: (5, 9)\n",
            "Q: (5, 9)\n",
            "p: 11\n",
            "slope: 3\n",
            "xr: 10\n",
            "yr: 9\n",
            "R: (10, 9)\n",
            "is R on curve: True\n",
            "Final R after multiplication: (8, 8)\n",
            "\n"
          ]
        }
      ]
    },
    {
      "cell_type": "code",
      "source": [
        "# encryption\n",
        "\n",
        "k = 7 # random number 1 < k < p - 1 / 1 till 10\n",
        "message = (8, 8) # certain point on elliptic curve that represent the number that also represent character\n",
        "\n",
        "C1 = calculate_point_mul(B, k, p, _a)\n",
        "C2 = calculate_point_add(message, calculate_point_mul(pub2, k, p, _a), p, _a)\n",
        "\n",
        "cipher = (C1, C2)\n",
        "print(f'Cipher: {cipher}')"
      ],
      "metadata": {
        "colab": {
          "base_uri": "https://localhost:8080/"
        },
        "id": "_Fd-8Mz7I9-u",
        "outputId": "3ec38de0-68af-412a-d0d7-5bdf69c3e98f"
      },
      "execution_count": 145,
      "outputs": [
        {
          "output_type": "stream",
          "name": "stdout",
          "text": [
            "Initial P: (2, 4)\n",
            "Scalar k: 7\n",
            "p: 11\n",
            "a: 1\n",
            "P: (2, 4)\n",
            "Q: (2, 4)\n",
            "p: 11\n",
            "slope: 3\n",
            "xr: 5\n",
            "yr: 9\n",
            "R: (5, 9)\n",
            "is R on curve: True\n",
            "P: (2, 4)\n",
            "Q: (5, 9)\n",
            "p: 11\n",
            "slope: 9\n",
            "xr: 8\n",
            "yr: 8\n",
            "R: (8, 8)\n",
            "is R on curve: True\n",
            "P: (5, 9)\n",
            "Q: (5, 9)\n",
            "p: 11\n",
            "slope: 3\n",
            "xr: 10\n",
            "yr: 9\n",
            "R: (10, 9)\n",
            "is R on curve: True\n",
            "P: (8, 8)\n",
            "Q: (10, 9)\n",
            "p: 11\n",
            "slope: 6\n",
            "xr: 7\n",
            "yr: 9\n",
            "R: (7, 9)\n",
            "is R on curve: True\n",
            "P: (10, 9)\n",
            "Q: (10, 9)\n",
            "p: 11\n",
            "slope: 10\n",
            "xr: 3\n",
            "yr: 6\n",
            "R: (3, 6)\n",
            "is R on curve: True\n",
            "Final R after multiplication: (7, 9)\n",
            "\n",
            "Initial P: (8, 8)\n",
            "Scalar k: 7\n",
            "p: 11\n",
            "a: 1\n",
            "P: (8, 8)\n",
            "Q: (8, 8)\n",
            "p: 11\n",
            "slope: 10\n",
            "xr: 7\n",
            "yr: 2\n",
            "R: (7, 2)\n",
            "is R on curve: True\n",
            "P: (8, 8)\n",
            "Q: (7, 2)\n",
            "p: 11\n",
            "slope: 6\n",
            "xr: 10\n",
            "yr: 2\n",
            "R: (10, 2)\n",
            "is R on curve: True\n",
            "P: (7, 2)\n",
            "Q: (7, 2)\n",
            "p: 11\n",
            "slope: 4\n",
            "xr: 2\n",
            "yr: 7\n",
            "R: (2, 7)\n",
            "is R on curve: True\n",
            "P: (10, 2)\n",
            "Q: (2, 7)\n",
            "p: 11\n",
            "slope: 9\n",
            "xr: 3\n",
            "yr: 6\n",
            "R: (3, 6)\n",
            "is R on curve: True\n",
            "P: (2, 7)\n",
            "Q: (2, 7)\n",
            "p: 11\n",
            "slope: 8\n",
            "xr: 5\n",
            "yr: 2\n",
            "R: (5, 2)\n",
            "is R on curve: True\n",
            "Final R after multiplication: (3, 6)\n",
            "\n",
            "P: (8, 8)\n",
            "Q: (3, 6)\n",
            "p: 11\n",
            "slope: 7\n",
            "xr: 5\n",
            "yr: 2\n",
            "R: (5, 2)\n",
            "is R on curve: True\n",
            "Cipher: ((7, 9), (5, 2))\n"
          ]
        }
      ]
    },
    {
      "cell_type": "code",
      "source": [
        "# decryption\n",
        "\n",
        "_p = calculate_point_mul(C1, priv2, p, _a)\n",
        "\n",
        "plain = calculate_point_subtract(C2, _p, p, _a)"
      ],
      "metadata": {
        "colab": {
          "base_uri": "https://localhost:8080/"
        },
        "id": "aZUlG6anHzaT",
        "outputId": "ac9eedcc-f0b0-4603-b015-82e624587b79"
      },
      "execution_count": 146,
      "outputs": [
        {
          "output_type": "stream",
          "name": "stdout",
          "text": [
            "Initial P: (7, 9)\n",
            "Scalar k: 3\n",
            "p: 11\n",
            "a: 1\n",
            "P: (7, 9)\n",
            "Q: (7, 9)\n",
            "p: 11\n",
            "slope: 7\n",
            "xr: 2\n",
            "yr: 4\n",
            "R: (2, 4)\n",
            "is R on curve: True\n",
            "P: (7, 9)\n",
            "Q: (2, 4)\n",
            "p: 11\n",
            "slope: 1\n",
            "xr: 3\n",
            "yr: 6\n",
            "R: (3, 6)\n",
            "is R on curve: True\n",
            "P: (2, 4)\n",
            "Q: (2, 4)\n",
            "p: 11\n",
            "slope: 3\n",
            "xr: 5\n",
            "yr: 9\n",
            "R: (5, 9)\n",
            "is R on curve: True\n",
            "Final R after multiplication: (3, 6)\n",
            "\n",
            "P: (5, 2)\n",
            "Q: (3, 6)\n",
            "Q_inv (inverse of Q): (3, 5)\n",
            "p: 11\n",
            "P: (5, 2)\n",
            "Q: (3, 5)\n",
            "p: 11\n",
            "slope: 4\n",
            "xr: 8\n",
            "yr: 8\n",
            "R: (8, 8)\n",
            "is R on curve: True\n",
            "R after subtraction (P - Q): (8, 8)\n"
          ]
        }
      ]
    },
    {
      "cell_type": "code",
      "source": [
        "print(f\"Plain: {message}\")\n",
        "print(f'Cipher: {cipher}')\n",
        "print(f'Decrypted Message: {plain}')"
      ],
      "metadata": {
        "colab": {
          "base_uri": "https://localhost:8080/"
        },
        "id": "GLo4mcIVO6N1",
        "outputId": "9133f4cb-3e2b-46c4-c768-8b3a02be0f4c"
      },
      "execution_count": 147,
      "outputs": [
        {
          "output_type": "stream",
          "name": "stdout",
          "text": [
            "Plain: (8, 8)\n",
            "Cipher: ((7, 9), (5, 2))\n",
            "Decrypted Message: (8, 8)\n"
          ]
        }
      ]
    }
  ]
}