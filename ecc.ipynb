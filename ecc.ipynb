{
  "nbformat": 4,
  "nbformat_minor": 0,
  "metadata": {
    "colab": {
      "provenance": [],
      "authorship_tag": "ABX9TyNjUxqUbLydsLadws6Em272",
      "include_colab_link": true
    },
    "kernelspec": {
      "name": "python3",
      "display_name": "Python 3"
    },
    "language_info": {
      "name": "python"
    }
  },
  "cells": [
    {
      "cell_type": "markdown",
      "metadata": {
        "id": "view-in-github",
        "colab_type": "text"
      },
      "source": [
        "<a href=\"https://colab.research.google.com/github/Anjasfedo/Code-as-a-Cryptography/blob/main/ecc.ipynb\" target=\"_parent\"><img src=\"https://colab.research.google.com/assets/colab-badge.svg\" alt=\"Open In Colab\"/></a>"
      ]
    },
    {
      "cell_type": "markdown",
      "source": [
        "# Evaluate ECC"
      ],
      "metadata": {
        "id": "gEAYI1tka10I"
      }
    },
    {
      "cell_type": "code",
      "execution_count": null,
      "metadata": {
        "colab": {
          "base_uri": "https://localhost:8080/"
        },
        "id": "WTngomGXZCyT",
        "outputId": "8b03f054-945c-40df-cc88-0f52a9ca2b5d"
      },
      "outputs": [
        {
          "output_type": "stream",
          "name": "stdout",
          "text": [
            "Collecting eciespy\n",
            "  Downloading eciespy-0.4.2-py3-none-any.whl.metadata (6.6 kB)\n",
            "Collecting coincurve<20,>=13 (from eciespy)\n",
            "  Downloading coincurve-19.0.1-cp310-cp310-manylinux_2_17_x86_64.manylinux2014_x86_64.whl.metadata (3.7 kB)\n",
            "Collecting eth-keys<0.6,>=0.4 (from eciespy)\n",
            "  Downloading eth_keys-0.5.1-py3-none-any.whl.metadata (13 kB)\n",
            "Collecting pycryptodome<4.0.0,>=3.19.1 (from eciespy)\n",
            "  Downloading pycryptodome-3.20.0-cp35-abi3-manylinux_2_17_x86_64.manylinux2014_x86_64.whl.metadata (3.4 kB)\n",
            "Collecting asn1crypto (from coincurve<20,>=13->eciespy)\n",
            "  Downloading asn1crypto-1.5.1-py2.py3-none-any.whl.metadata (13 kB)\n",
            "Requirement already satisfied: cffi>=1.3.0 in /usr/local/lib/python3.10/dist-packages (from coincurve<20,>=13->eciespy) (1.17.1)\n",
            "Collecting eth-utils>=2 (from eth-keys<0.6,>=0.4->eciespy)\n",
            "  Downloading eth_utils-5.0.0-py3-none-any.whl.metadata (5.4 kB)\n",
            "Collecting eth-typing>=3 (from eth-keys<0.6,>=0.4->eciespy)\n",
            "  Downloading eth_typing-5.0.0-py3-none-any.whl.metadata (5.1 kB)\n",
            "Requirement already satisfied: pycparser in /usr/local/lib/python3.10/dist-packages (from cffi>=1.3.0->coincurve<20,>=13->eciespy) (2.22)\n",
            "Requirement already satisfied: typing-extensions>=4.5.0 in /usr/local/lib/python3.10/dist-packages (from eth-typing>=3->eth-keys<0.6,>=0.4->eciespy) (4.12.2)\n",
            "Collecting eth-hash>=0.3.1 (from eth-utils>=2->eth-keys<0.6,>=0.4->eciespy)\n",
            "  Downloading eth_hash-0.7.0-py3-none-any.whl.metadata (5.4 kB)\n",
            "Collecting hexbytes>=1.0.0 (from eth-utils>=2->eth-keys<0.6,>=0.4->eciespy)\n",
            "  Downloading hexbytes-1.2.1-py3-none-any.whl.metadata (3.7 kB)\n",
            "Collecting cytoolz>=0.10.1 (from eth-utils>=2->eth-keys<0.6,>=0.4->eciespy)\n",
            "  Downloading cytoolz-0.12.3-cp310-cp310-manylinux_2_17_x86_64.manylinux2014_x86_64.whl.metadata (4.6 kB)\n",
            "Requirement already satisfied: toolz>=0.8.0 in /usr/local/lib/python3.10/dist-packages (from cytoolz>=0.10.1->eth-utils>=2->eth-keys<0.6,>=0.4->eciespy) (0.12.1)\n",
            "Downloading eciespy-0.4.2-py3-none-any.whl (10 kB)\n",
            "Downloading coincurve-19.0.1-cp310-cp310-manylinux_2_17_x86_64.manylinux2014_x86_64.whl (1.4 MB)\n",
            "\u001b[2K   \u001b[90m━━━━━━━━━━━━━━━━━━━━━━━━━━━━━━━━━━━━━━━━\u001b[0m \u001b[32m1.4/1.4 MB\u001b[0m \u001b[31m14.9 MB/s\u001b[0m eta \u001b[36m0:00:00\u001b[0m\n",
            "\u001b[?25hDownloading eth_keys-0.5.1-py3-none-any.whl (21 kB)\n",
            "Downloading pycryptodome-3.20.0-cp35-abi3-manylinux_2_17_x86_64.manylinux2014_x86_64.whl (2.1 MB)\n",
            "\u001b[2K   \u001b[90m━━━━━━━━━━━━━━━━━━━━━━━━━━━━━━━━━━━━━━━━\u001b[0m \u001b[32m2.1/2.1 MB\u001b[0m \u001b[31m20.4 MB/s\u001b[0m eta \u001b[36m0:00:00\u001b[0m\n",
            "\u001b[?25hDownloading eth_typing-5.0.0-py3-none-any.whl (20 kB)\n",
            "Downloading eth_utils-5.0.0-py3-none-any.whl (100 kB)\n",
            "\u001b[2K   \u001b[90m━━━━━━━━━━━━━━━━━━━━━━━━━━━━━━━━━━━━━━━━\u001b[0m \u001b[32m100.5/100.5 kB\u001b[0m \u001b[31m2.4 MB/s\u001b[0m eta \u001b[36m0:00:00\u001b[0m\n",
            "\u001b[?25hDownloading asn1crypto-1.5.1-py2.py3-none-any.whl (105 kB)\n",
            "\u001b[2K   \u001b[90m━━━━━━━━━━━━━━━━━━━━━━━━━━━━━━━━━━━━━━━━\u001b[0m \u001b[32m105.0/105.0 kB\u001b[0m \u001b[31m7.0 MB/s\u001b[0m eta \u001b[36m0:00:00\u001b[0m\n",
            "\u001b[?25hDownloading cytoolz-0.12.3-cp310-cp310-manylinux_2_17_x86_64.manylinux2014_x86_64.whl (2.0 MB)\n",
            "\u001b[2K   \u001b[90m━━━━━━━━━━━━━━━━━━━━━━━━━━━━━━━━━━━━━━━━\u001b[0m \u001b[32m2.0/2.0 MB\u001b[0m \u001b[31m26.6 MB/s\u001b[0m eta \u001b[36m0:00:00\u001b[0m\n",
            "\u001b[?25hDownloading eth_hash-0.7.0-py3-none-any.whl (8.7 kB)\n",
            "Downloading hexbytes-1.2.1-py3-none-any.whl (5.2 kB)\n",
            "Installing collected packages: asn1crypto, pycryptodome, hexbytes, eth-typing, eth-hash, cytoolz, eth-utils, coincurve, eth-keys, eciespy\n",
            "Successfully installed asn1crypto-1.5.1 coincurve-19.0.1 cytoolz-0.12.3 eciespy-0.4.2 eth-hash-0.7.0 eth-keys-0.5.1 eth-typing-5.0.0 eth-utils-5.0.0 hexbytes-1.2.1 pycryptodome-3.20.0\n"
          ]
        }
      ],
      "source": [
        "!pip install eciespy"
      ]
    },
    {
      "cell_type": "code",
      "source": [
        "import time\n",
        "import hashlib\n",
        "import math\n",
        "from ecies.utils import generate_eth_key\n",
        "from ecies import encrypt, decrypt\n",
        "\n",
        "# Function to calculate the avalanche effect by comparing two hashes\n",
        "def avalanche_effect(message1, message2):\n",
        "    hash1 = hashlib.sha256(message1.encode()).hexdigest()\n",
        "    hash2 = hashlib.sha256(message2.encode()).hexdigest()\n",
        "\n",
        "    # Compare bit differences\n",
        "    bit_difference = sum(bin(int(h1, 16) ^ int(h2, 16)).count('1') for h1, h2 in zip(hash1, hash2))\n",
        "    total_bits = len(hash1) * 4  # Each hex character is 4 bits\n",
        "    return (bit_difference / total_bits) * 100  # Percentage of differing bits\n",
        "\n",
        "# Function to evaluate encryption and decryption timing\n",
        "def evaluate_algorithm(public_key_hex, private_key_hex, content):\n",
        "    try:\n",
        "        # Timing the encryption process\n",
        "        start_time = time.time()\n",
        "        ciphertext = encrypt(public_key_hex, content.encode())\n",
        "        encryption_time = time.time() - start_time\n",
        "        print(f\"Ciphertext: {ciphertext.hex()}\")\n",
        "        print(f\"Encryption Time: {encryption_time:.6f} seconds\")\n",
        "\n",
        "        # Timing the decryption process\n",
        "        start_time = time.time()\n",
        "        decrypted_message = decrypt(private_key_hex, ciphertext)\n",
        "        decryption_time = time.time() - start_time\n",
        "        print(f\"Decrypted Message: {decrypted_message.decode()}\")\n",
        "        print(f\"Decryption Time: {decryption_time:.6f} seconds\")\n",
        "\n",
        "        # Check if the decryption is correct\n",
        "        if decrypted_message.decode() == content:\n",
        "            print(\"Decryption successful: Message matches original content.\")\n",
        "        else:\n",
        "            print(\"Decryption failed: Message does not match original content.\")\n",
        "\n",
        "    except Exception as e:\n",
        "        print(f\"Error during encryption/decryption: {e}\")\n",
        "\n",
        "    return ciphertext\n",
        "\n",
        "# Key Strength Evaluation (Binary Distribution of Key)\n",
        "def key_strength_analysis(key_hex):\n",
        "    key_bin = bin(int(key_hex, 16))[2:]  # Convert the key from hex to binary\n",
        "    bit_count = len(key_bin)\n",
        "\n",
        "    ones = key_bin.count('1')\n",
        "    zeros = bit_count - ones\n",
        "\n",
        "    print(f\"Key Strength Analysis:\")\n",
        "    print(f\"Total Bits: {bit_count}\")\n",
        "    print(f\"1's Count: {ones} ({(ones / bit_count) * 100:.2f}%)\")\n",
        "    print(f\"0's Count: {zeros} ({(zeros / bit_count) * 100:.2f}%)\\n\")\n",
        "\n",
        "# Entropy Calculation for Ciphertext\n",
        "def calculate_entropy(data):\n",
        "    \"\"\"Calculate Shannon entropy of the data.\"\"\"\n",
        "    data_bytes = data\n",
        "    frequency = {}\n",
        "    for byte in data_bytes:\n",
        "        frequency[byte] = frequency.get(byte, 0) + 1\n",
        "\n",
        "    entropy = 0\n",
        "    data_length = len(data_bytes)\n",
        "    for freq in frequency.values():\n",
        "        probability = freq / data_length\n",
        "        entropy -= probability * math.log2(probability)\n",
        "\n",
        "    return entropy\n",
        "\n",
        "# Use the provided content for encryption\n",
        "CONTENT = \"3348610401970005#christofer*derian*budianto#tegal#1997-03-04#laki-laki#b#jl.*pala*22*no.*30#005#017#mejasem*tengah#kramat#katholik#belum*kawin#pelajar/mahasiswa#wni#seumur*hidup\"\n",
        "\n",
        "# Generate keys\n",
        "private_key = generate_eth_key()\n",
        "public_key = private_key.public_key\n",
        "\n",
        "public_key_hex = public_key.to_hex()\n",
        "private_key_hex = private_key.to_hex()\n",
        "\n",
        "print(\"Public Key:\", public_key_hex)\n",
        "print(\"Private Key:\", private_key_hex)\n",
        "\n",
        "# Evaluate algorithm performance and correctness\n",
        "ciphertext = evaluate_algorithm(public_key_hex, private_key_hex, CONTENT)\n",
        "\n",
        "# Key Strength Analysis (Binary Distribution of Key)\n",
        "key_strength_analysis(public_key_hex)\n",
        "\n",
        "# Testing entropy of ciphertext\n",
        "ciphertext_entropy = calculate_entropy(ciphertext)\n",
        "print(f\"Entropy of Ciphertext: {ciphertext_entropy:.2f} bits\")\n",
        "\n",
        "# Testing avalanche effect\n",
        "# Slightly change the content (change one character or bit)\n",
        "modified_content = \"3348610401970005#christofer*derian*budianto#tegal#1997-03-04#laki-laki#b#jl.*pala*22*no.*30#005#017#mejasem*tengah#kramat#katholik#belum*kawin#pelajar/mahasiswa#wni#seumur*hidup!\"\n",
        "print(f\"\\nOriginal Message: {CONTENT}\")\n",
        "print(f\"Modified Message: {modified_content}\")\n",
        "\n",
        "avalanche_percentage = avalanche_effect(CONTENT, modified_content)\n",
        "print(f\"Avalanche Effect: {avalanche_percentage:.2f}% bit difference between original and modified message\")\n"
      ],
      "metadata": {
        "colab": {
          "base_uri": "https://localhost:8080/"
        },
        "id": "3YJ4O9kUanCM",
        "outputId": "dbee3184-9911-4d6e-cd4e-7dcbf39ade97"
      },
      "execution_count": null,
      "outputs": [
        {
          "output_type": "stream",
          "name": "stdout",
          "text": [
            "Public Key: 0x9ff522bff3f7f9772fe7b3af20a8a73d942856d7cf23bf347988828942a95d9eae9a2068c3bdde9402da1aec58eb6cbed8861f5c95f7f8f9dda04bac80322d8f\n",
            "Private Key: 0x9af5c9cafe52819188693b3f8ecbcb0f1d6f16ed49329cac3d391f46bd37e179\n",
            "Ciphertext: 04708948c195a58938be99f3f67cd3591b0592316e865c6111c144d56bea695c2e6630072a106e7cd9ea06289c0914524d6963cd119923703f4cf95d6075e1db67bddb61708e1ac99f5d40b4e05d8166ba60c3de836ba2246d8051cb1fdf6e5ea545ac62c7fe5a46813821f9c2b1c24c651202657037ab14fd2f8033976ff6c1afaeb85b5d4e6d588a699889423c42402fca6520bfa226b9ca7224cd2bb694399dad6523560f79dd58c04272eef4b0c7cccd123d28046bd1ee7e9828570dd53ed3133520701f7d0876d9696040a8c508760e698338e7dc0d7c907d0e301942aa468d165e933fecbcf771698352e4b6c1d42a3fea99eeb34e45e7f96d27d3a9b1ad7d69be4a0129153969825b8eb2be82f50e\n",
            "Encryption Time: 0.000957 seconds\n",
            "Decrypted Message: 3348610401970005#christofer*derian*budianto#tegal#1997-03-04#laki-laki#b#jl.*pala*22*no.*30#005#017#mejasem*tengah#kramat#katholik#belum*kawin#pelajar/mahasiswa#wni#seumur*hidup\n",
            "Decryption Time: 0.000814 seconds\n",
            "Decryption successful: Message matches original content.\n",
            "Key Strength Analysis:\n",
            "Total Bits: 512\n",
            "1's Count: 276 (53.91%)\n",
            "0's Count: 236 (46.09%)\n",
            "\n",
            "Entropy of Ciphertext: 7.18 bits\n",
            "\n",
            "Original Message: 3348610401970005#christofer*derian*budianto#tegal#1997-03-04#laki-laki#b#jl.*pala*22*no.*30#005#017#mejasem*tengah#kramat#katholik#belum*kawin#pelajar/mahasiswa#wni#seumur*hidup\n",
            "Modified Message: 3348610401970005#christofer*derian*budianto#tegal#1997-03-04#laki-laki#b#jl.*pala*22*no.*30#005#017#mejasem*tengah#kramat#katholik#belum*kawin#pelajar/mahasiswa#wni#seumur*hidup!\n",
            "Avalanche Effect: 44.14% bit difference between original and modified message\n"
          ]
        }
      ]
    },
    {
      "cell_type": "code",
      "source": [
        "import numpy as np\n",
        "import matplotlib.pyplot as plt\n",
        "\n",
        "# Coefficients for the elliptic curve equation y^2 = x^3 + ax + b\n",
        "a = 4\n",
        "b = 9\n",
        "\n",
        "# Function to calculate the right-hand side of the elliptic curve equation\n",
        "def elliptic_curve(x, a, b):\n",
        "    return x**3 + a*x + b\n",
        "\n",
        "# Generate a denser set of x values to make the curve smoother\n",
        "x = np.linspace(-11, 11, 1000)\n",
        "\n",
        "# Calculate y^2 values from the elliptic curve equation y^2 = x^3 + ax + b\n",
        "y_squared = elliptic_curve(x, a, b)\n",
        "\n",
        "# Mask values where y^2 is negative, as sqrt can't be applied to negative numbers in real numbers\n",
        "valid_mask = y_squared >= 0\n",
        "y_squared_valid = y_squared[valid_mask]\n",
        "x_valid = x[valid_mask]\n",
        "\n",
        "# Calculate y values (positive and negative branches) from valid y^2 values\n",
        "y_positive = np.sqrt(y_squared_valid)\n",
        "y_negative = -np.sqrt(y_squared_valid)\n",
        "\n",
        "# Plot the elliptic curve\n",
        "plt.figure(figsize=(8, 8))\n",
        "plt.plot(x_valid, y_positive, label=\"y = +sqrt(x^3 + 4x + 9)\", color='blue')\n",
        "plt.plot(x_valid, y_negative, label=\"y = -sqrt(x^3 + 4x + 9)\", color='green')\n",
        "\n",
        "# Add labels, title, and legend\n",
        "plt.title(r'Elliptic Curve: $y^2 = x^3 + 4x + 9$', fontsize=14)\n",
        "plt.xlabel('x', fontsize=12)\n",
        "plt.ylabel('y', fontsize=12)\n",
        "plt.axhline(0, color='black',linewidth=0.5)\n",
        "plt.axvline(0, color='black',linewidth=0.5)\n",
        "\n",
        "# Add grid and set limits for better visualization of the negative x-axis\n",
        "plt.grid(True)\n",
        "plt.xlim(-11, 11)\n",
        "plt.ylim(-11, 11)\n",
        "plt.legend()\n",
        "\n",
        "# Show the plot\n",
        "plt.show()"
      ],
      "metadata": {
        "colab": {
          "base_uri": "https://localhost:8080/",
          "height": 728
        },
        "id": "XChASCKB0Jho",
        "outputId": "5d86e747-6f28-4f21-f996-5b8da855823e"
      },
      "execution_count": 23,
      "outputs": [
        {
          "output_type": "display_data",
          "data": {
            "text/plain": [
              "<Figure size 800x800 with 1 Axes>"
            ],
            "image/png": "[encoded data removed]"
          },
          "metadata": {}
        }
      ]
    },
    {
      "cell_type": "code",
      "source": [],
      "metadata": {
        "id": "Jhr3jzw03AUD"
      },
      "execution_count": null,
      "outputs": []
    }
  ]
}