{
  "nbformat": 4,
  "nbformat_minor": 0,
  "metadata": {
    "colab": {
      "provenance": [],
      "authorship_tag": "ABX9TyOG3bMGL/YRHt2JW+WOUiQx",
      "include_colab_link": true
    },
    "kernelspec": {
      "name": "python3",
      "display_name": "Python 3"
    },
    "language_info": {
      "name": "python"
    }
  },
  "cells": [
    {
      "cell_type": "markdown",
      "metadata": {
        "id": "view-in-github",
        "colab_type": "text"
      },
      "source": [
        "<a href=\"https://colab.research.google.com/github/Anjasfedo/Code-as-a-Cryptography/blob/main/lsb_2.ipynb\" target=\"_parent\"><img src=\"https://colab.research.google.com/assets/colab-badge.svg\" alt=\"Open In Colab\"/></a>"
      ]
    },
    {
      "cell_type": "code",
      "execution_count": 7,
      "metadata": {
        "colab": {
          "base_uri": "https://localhost:8080/",
          "height": 1000
        },
        "id": "4OfKqBBbUd1D",
        "outputId": "46014bb1-e780-4fdc-afcc-82fd8abe0777"
      },
      "outputs": [
        {
          "output_type": "stream",
          "name": "stdout",
          "text": [
            "Gambar asli:\n"
          ]
        },
        {
          "output_type": "display_data",
          "data": {
            "text/plain": [
              "<Figure size 640x480 with 1 Axes>"
            ],
            "image/png": "[encoded data removed]"
          },
          "metadata": {}
        },
        {
          "output_type": "stream",
          "name": "stdout",
          "text": [
            "Nilai RGB dari gambar sebelum LSB:\n",
            "Koordinat: (0, 0) - R: 255, G: 255, B: 255\n",
            "Koordinat: (0, 1) - R: 255, G: 255, B: 255\n",
            "Koordinat: (0, 2) - R: 255, G: 255, B: 255\n",
            "Koordinat: (1, 0) - R: 255, G: 255, B: 255\n",
            "Koordinat: (1, 1) - R: 255, G: 255, B: 255\n",
            "Koordinat: (1, 2) - R: 255, G: 255, B: 255\n",
            "Koordinat: (2, 0) - R: 255, G: 255, B: 255\n",
            "Koordinat: (2, 1) - R: 255, G: 255, B: 255\n",
            "Koordinat: (2, 2) - R: 255, G: 255, B: 255\n",
            "Bit yang dibaca dari gambar sebelum LSB (LSB dari tiap channel):\n",
            "[1, 1, 1, 1, 1, 1, 1, 1, 1, 1, 1, 1, 1, 1, 1, 1, 1, 1, 1, 1, 1, 1, 1, 1, 1, 1, 1]\n",
            "Gambar setelah LSB (dengan pesan):\n"
          ]
        },
        {
          "output_type": "display_data",
          "data": {
            "text/plain": [
              "<Figure size 640x480 with 1 Axes>"
            ],
            "image/png": "[encoded data removed]"
          },
          "metadata": {}
        },
        {
          "output_type": "stream",
          "name": "stdout",
          "text": [
            "Nilai RGB dari gambar setelah LSB:\n",
            "Koordinat: (0, 0) - R: 254, G: 255, B: 254\n",
            "Koordinat: (0, 1) - R: 254, G: 255, B: 255\n",
            "Koordinat: (0, 2) - R: 254, G: 254, B: 254\n",
            "Koordinat: (1, 0) - R: 255, G: 255, B: 254\n",
            "Koordinat: (1, 1) - R: 255, G: 255, B: 255\n",
            "Koordinat: (1, 2) - R: 255, G: 254, B: 255\n",
            "Koordinat: (2, 0) - R: 255, G: 255, B: 254\n",
            "Koordinat: (2, 1) - R: 254, G: 255, B: 254\n",
            "Koordinat: (2, 2) - R: 254, G: 255, B: 255\n",
            "Bit yang dibaca dari gambar setelah LSB (LSB dari tiap channel):\n",
            "[0, 1, 0, 0, 1, 1, 0, 0, 0, 1, 1, 0, 1, 1, 1, 1, 0, 1, 1, 1, 0, 0, 1, 0, 0, 1, 1]\n",
            "Pesan yang diekstrak dari gambar: Lor\u0003\n"
          ]
        }
      ],
      "source": [
        "from PIL import Image\n",
        "import numpy as np\n",
        "import matplotlib.pyplot as plt\n",
        "\n",
        "# Fungsi untuk mengubah pesan ke dalam bentuk bit\n",
        "def message_to_bits(message):\n",
        "    bits = ''.join([format(ord(char), '08b') for char in message])\n",
        "    return bits\n",
        "\n",
        "# Fungsi untuk menyisipkan pesan ke dalam gambar (LSB)\n",
        "def embed_message(image, message):\n",
        "    # Konversi pesan ke dalam bit\n",
        "    message_bits = message_to_bits(message)\n",
        "    message_bits += '11111111'  # Penanda akhir pesan (delimiter)\n",
        "\n",
        "    img_data = np.array(image)\n",
        "    h, w, _ = img_data.shape\n",
        "\n",
        "    bit_idx = 0\n",
        "    total_bits = len(message_bits)\n",
        "\n",
        "    for i in range(h):\n",
        "        for j in range(w):\n",
        "            pixel = img_data[i, j]\n",
        "            for k in range(3):  # Mengiterasi RGB\n",
        "                if bit_idx < total_bits:\n",
        "                    # Ganti bit LSB dari nilai channel dengan bit pesan\n",
        "                    pixel[k] = (pixel[k] & ~1) | int(message_bits[bit_idx])\n",
        "                    bit_idx += 1\n",
        "            img_data[i, j] = pixel\n",
        "            if bit_idx >= total_bits:\n",
        "                break\n",
        "        if bit_idx >= total_bits:\n",
        "            break\n",
        "\n",
        "    return Image.fromarray(img_data)\n",
        "\n",
        "# Fungsi untuk mengekstrak pesan dari gambar\n",
        "def extract_message(image):\n",
        "    img_data = np.array(image)\n",
        "    bits = []\n",
        "\n",
        "    for i in range(img_data.shape[0]):\n",
        "        for j in range(img_data.shape[1]):\n",
        "            pixel = img_data[i, j]\n",
        "            for k in range(3):  # Iterasi RGB\n",
        "                bits.append(str(pixel[k] & 1))  # Ekstrak LSB dari setiap channel RGB\n",
        "\n",
        "    # Gabungkan bit menjadi string\n",
        "    bits = ''.join(bits)\n",
        "\n",
        "    # Ambil setiap 8 bit (1 byte) dan konversikan ke karakter\n",
        "    message = ''\n",
        "    for i in range(0, len(bits), 8):\n",
        "        byte = bits[i:i+8]\n",
        "        char = chr(int(byte, 2))\n",
        "        if char == chr(255):  # Penanda akhir pesan\n",
        "            break\n",
        "        message += char\n",
        "\n",
        "    return message\n",
        "\n",
        "# Fungsi untuk membaca bit dari gambar\n",
        "def read_bits_from_image(image):\n",
        "    img_data = np.array(image)\n",
        "    bits = []\n",
        "\n",
        "    # Iterasi setiap piksel dalam gambar\n",
        "    for i in range(img_data.shape[0]):\n",
        "        for j in range(img_data.shape[1]):\n",
        "            pixel = img_data[i, j]\n",
        "            for k in range(3):  # Iterasi untuk R, G, B\n",
        "                # Ambil bit LSB dari masing-masing channel (R, G, B)\n",
        "                bits.append(pixel[k] & 1)  # Ambil bit paling signifikan (LSB)\n",
        "\n",
        "    return bits\n",
        "\n",
        "# Fungsi untuk membaca nilai RGB dari setiap piksel gambar\n",
        "def read_rgb_from_image(image):\n",
        "    img_data = np.array(image)\n",
        "    rgb_values = []\n",
        "\n",
        "    # Iterasi setiap piksel dalam gambar\n",
        "    for i in range(img_data.shape[0]):\n",
        "        for j in range(img_data.shape[1]):\n",
        "            pixel = img_data[i, j]\n",
        "            rgb_values.append((i, j, pixel[0], pixel[1], pixel[2]))  # Simpan (x, y, R, G, B)\n",
        "\n",
        "    return rgb_values\n",
        "\n",
        "# Fungsi untuk menampilkan gambar\n",
        "def display_image(image, title=\"Gambar\"):\n",
        "    plt.imshow(image)\n",
        "    plt.title(title)\n",
        "    plt.axis('off')  # Hilangkan sumbu\n",
        "    plt.show()\n",
        "\n",
        "# Contoh penggunaan\n",
        "# Buat gambar 3x3 dengan warna putih\n",
        "image = Image.new('RGB', (3, 3), color=(255, 255, 255))\n",
        "\n",
        "# Tampilkan gambar asli\n",
        "print(\"Gambar asli:\")\n",
        "display_image(image, \"Gambar Asli\")\n",
        "\n",
        "# Baca nilai RGB dari setiap piksel sebelum LSB\n",
        "rgb_values_before = read_rgb_from_image(image)\n",
        "print(\"Nilai RGB dari gambar sebelum LSB:\")\n",
        "for rgb in rgb_values_before:\n",
        "    print(f\"Koordinat: ({rgb[0]}, {rgb[1]}) - R: {rgb[2]}, G: {rgb[3]}, B: {rgb[4]}\")\n",
        "\n",
        "# Baca bit LSB dari gambar sebelum pesan disisipkan\n",
        "bits_before = read_bits_from_image(image)\n",
        "print(\"Bit yang dibaca dari gambar sebelum LSB (LSB dari tiap channel):\")\n",
        "print(bits_before)\n",
        "\n",
        "# Pesan yang akan disisipkan\n",
        "message = \"Lorem\"\n",
        "\n",
        "# Sisipkan pesan ke dalam gambar menggunakan LSB\n",
        "encoded_image = embed_message(image, message)\n",
        "\n",
        "# Tampilkan gambar yang telah disisipi pesan\n",
        "print(\"Gambar setelah LSB (dengan pesan):\")\n",
        "display_image(encoded_image, \"Gambar Setelah LSB\")\n",
        "\n",
        "# Baca nilai RGB dari setiap piksel setelah LSB\n",
        "rgb_values_after = read_rgb_from_image(encoded_image)\n",
        "print(\"Nilai RGB dari gambar setelah LSB:\")\n",
        "for rgb in rgb_values_after:\n",
        "    print(f\"Koordinat: ({rgb[0]}, {rgb[1]}) - R: {rgb[2]}, G: {rgb[3]}, B: {rgb[4]}\")\n",
        "\n",
        "# Baca bit LSB dari gambar yang telah disisipi pesan\n",
        "bits_after = read_bits_from_image(encoded_image)\n",
        "print(\"Bit yang dibaca dari gambar setelah LSB (LSB dari tiap channel):\")\n",
        "print(bits_after)\n",
        "\n",
        "# Ekstrak pesan dari gambar yang telah disisipi pesan\n",
        "extracted_message = extract_message(encoded_image)\n",
        "print(\"Pesan yang diekstrak dari gambar:\", extracted_message)"
      ]
    },
    {
      "cell_type": "code",
      "source": [
        "len(bits_before)"
      ],
      "metadata": {
        "colab": {
          "base_uri": "https://localhost:8080/"
        },
        "id": "0rW8DPbuWEV5",
        "outputId": "2cc1cdac-9862-47c9-aa3c-07711e879ca0"
      },
      "execution_count": 4,
      "outputs": [
        {
          "output_type": "execute_result",
          "data": {
            "text/plain": [
              "27"
            ]
          },
          "metadata": {},
          "execution_count": 4
        }
      ]
    },
    {
      "cell_type": "code",
      "source": [
        "def string_to_bits(s):\n",
        "    # Mengonversi setiap karakter dalam string menjadi representasi biner 8-bit\n",
        "    bits = ''.join(format(ord(c), '08b') for c in s)\n",
        "    return bits\n",
        "\n",
        "# Contoh penggunaan\n",
        "string = \"Hi\"\n",
        "bit_string = string_to_bits(string)\n",
        "print(\"String asli:\", string)\n",
        "print(\"Representasi bit:\", bit_string)"
      ],
      "metadata": {
        "colab": {
          "base_uri": "https://localhost:8080/"
        },
        "id": "hH8fta1wVCKF",
        "outputId": "b8e2dc67-508b-41a6-bfb1-c2b0a201c453"
      },
      "execution_count": 2,
      "outputs": [
        {
          "output_type": "stream",
          "name": "stdout",
          "text": [
            "String asli: Hi\n",
            "Representasi bit: 0100100001101001\n"
          ]
        }
      ]
    },
    {
      "cell_type": "code",
      "source": [
        "import numpy as np\n",
        "from PIL import Image\n",
        "\n",
        "# Fungsi untuk menghitung MSE (Mean Squared Error) antara dua gambar\n",
        "def mse(imageA, imageB):\n",
        "    # Konversi gambar ke numpy array\n",
        "    img1 = np.array(imageA)\n",
        "    img2 = np.array(imageB)\n",
        "\n",
        "    # Hitung perbedaan antara dua gambar\n",
        "    err = np.sum((img1.astype(\"float\") - img2.astype(\"float\")) ** 2)\n",
        "\n",
        "    # Normalisasi perbedaan terhadap jumlah piksel\n",
        "    err /= float(img1.shape[0] * img1.shape[1] * img1.shape[2])\n",
        "\n",
        "    return err\n",
        "\n",
        "# Fungsi untuk menghitung PSNR (Peak Signal-to-Noise Ratio)\n",
        "def psnr(imageA, imageB):\n",
        "    mse_value = mse(imageA, imageB)\n",
        "    if mse_value == 0:\n",
        "        return float('inf')  # Jika MSE nol, maka gambar identik, dan PSNR adalah tak terhingga\n",
        "    max_pixel = 255.0\n",
        "    return 20 * np.log10(max_pixel / np.sqrt(mse_value))\n",
        "\n",
        "# Contoh penggunaan\n",
        "# Misalkan kita memiliki dua gambar: image dan encoded_image\n",
        "# Gambar asli dan gambar setelah disisipi pesan\n",
        "\n",
        "# Hitung PSNR antara gambar asli dan gambar hasil LSB\n",
        "psnr_value = psnr(image, encoded_image)\n",
        "print(f\"PSNR antara gambar asli dan encoded_image: {psnr_value} dB\")"
      ],
      "metadata": {
        "colab": {
          "base_uri": "https://localhost:8080/"
        },
        "id": "r6e6w8PyVb1Y",
        "outputId": "0122ee69-2295-49ba-8fde-23b7c501f89f"
      },
      "execution_count": 3,
      "outputs": [
        {
          "output_type": "stream",
          "name": "stdout",
          "text": [
            "PSNR antara gambar asli dan encoded_image: 52.44444125026898 dB\n"
          ]
        }
      ]
    }
  ]
}