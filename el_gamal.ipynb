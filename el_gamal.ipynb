{
  "nbformat": 4,
  "nbformat_minor": 0,
  "metadata": {
    "colab": {
      "provenance": [],
      "authorship_tag": "ABX9TyOOsPs2DJM/ajlG76liReeZ",
      "include_colab_link": true
    },
    "kernelspec": {
      "name": "python3",
      "display_name": "Python 3"
    },
    "language_info": {
      "name": "python"
    }
  },
  "cells": [
    {
      "cell_type": "markdown",
      "metadata": {
        "id": "view-in-github",
        "colab_type": "text"
      },
      "source": [
        "<a href=\"https://colab.research.google.com/github/Anjasfedo/Code-as-a-Cryptography/blob/main/el_gamal.ipynb\" target=\"_parent\"><img src=\"https://colab.research.google.com/assets/colab-badge.svg\" alt=\"Open In Colab\"/></a>"
      ]
    },
    {
      "cell_type": "code",
      "execution_count": 27,
      "metadata": {
        "id": "VIUwMaf42p0z"
      },
      "outputs": [],
      "source": [
        "# variable\n",
        "\n",
        "# p, prime number - public\n",
        "# g (g < p), random number - public\n",
        "# x (x < p), private key - private\n",
        "# y = g^x mod p, public key - public\n",
        "# m (plaintext) - private\n",
        "# a and b (ciphertext) - public"
      ]
    },
    {
      "cell_type": "code",
      "source": [
        "# select prime number for p, p can be share to team\n",
        "# select two random number for g and x, with g < p and 1 <= x <= p -2\n",
        "# calculate y = g^x mod p\n",
        "\n",
        "# public key = y (also with g and p)\n",
        "# private key = x (with p)"
      ],
      "metadata": {
        "id": "Q5sWbB_K3K5j"
      },
      "execution_count": 28,
      "outputs": []
    },
    {
      "cell_type": "code",
      "source": [
        "# encryption procedure\n",
        "\n",
        "# take block plaintext for each char (m), with block on [0, p - 1] (the integer value be represented only 1 till p - 1)\n",
        "# choose random k, where 1 <= k <= p - 2\n",
        "\n",
        "# each block m encrypted with\n",
        "# a = g^k mod p\n",
        "# b = m * y^k mod p\n",
        "# this a, b pair was the ciphertext for plaintext m, so ciphertext has 2 that represent a plaintext"
      ],
      "metadata": {
        "id": "xrje7NOU3sF9"
      },
      "execution_count": 29,
      "outputs": []
    },
    {
      "cell_type": "code",
      "source": [
        "# decryption procedure\n",
        "\n",
        "# use private key x to calculate\n",
        "# (a^x)^-1 = a^p-1-x mod p\n",
        "\n",
        "# calculate plaintext (m) with\n",
        "# m = b/a^x mod p\n",
        "# or\n",
        "# m = b (a^x)^-1 mod p"
      ],
      "metadata": {
        "id": "ECmJMmnE4VBe"
      },
      "execution_count": 30,
      "outputs": []
    },
    {
      "cell_type": "markdown",
      "source": [
        "## Example"
      ],
      "metadata": {
        "id": "Ha1LQ9gz8jVU"
      }
    },
    {
      "cell_type": "code",
      "source": [
        "p = 2357\n",
        "g = 2\n",
        "x = 1751 # private key"
      ],
      "metadata": {
        "id": "1yV5lx6w8k76"
      },
      "execution_count": 31,
      "outputs": []
    },
    {
      "cell_type": "code",
      "source": [
        "y = g**x % p # public key\n",
        "y"
      ],
      "metadata": {
        "colab": {
          "base_uri": "https://localhost:8080/"
        },
        "id": "t2tKxX008tcs",
        "outputId": "ae9586ff-b5a2-491b-ff2f-5ffaae1dd5a3"
      },
      "execution_count": 32,
      "outputs": [
        {
          "output_type": "execute_result",
          "data": {
            "text/plain": [
              "1185"
            ]
          },
          "metadata": {},
          "execution_count": 32
        }
      ]
    },
    {
      "cell_type": "code",
      "source": [
        "public_key = {\n",
        "    \"p\": p,\n",
        "    \"g\": g,\n",
        "    \"y\": y\n",
        "}\n",
        "\n",
        "print(f\"public key: {public_key}\")\n",
        "\n",
        "private_key = {\n",
        "    \"p\": p,\n",
        "    \"x\": x\n",
        "}\n",
        "print(f\"private key: {private_key}\")"
      ],
      "metadata": {
        "colab": {
          "base_uri": "https://localhost:8080/"
        },
        "id": "7Etn6vFN8xIT",
        "outputId": "b71bf5b1-0477-4a72-cb2d-f972078effbb"
      },
      "execution_count": 33,
      "outputs": [
        {
          "output_type": "stream",
          "name": "stdout",
          "text": [
            "public key: {'p': 2357, 'g': 2, 'y': 1185}\n",
            "private key: {'p': 2357, 'x': 1751}\n"
          ]
        }
      ]
    },
    {
      "cell_type": "code",
      "source": [
        "# encryption\n",
        "m = 2035 # plaintext, which on range of [0, p - 1] / [0, 2357 - 1] / [0, 2356]\n",
        "\n",
        "k = 1520 # random number also on range [0, p - 2]\n",
        "\n",
        "a = g**k % p\n",
        "b = m * y**k % p\n",
        "\n",
        "print(f\"plaintext: {m}, ciphertext: {a, b}\")"
      ],
      "metadata": {
        "colab": {
          "base_uri": "https://localhost:8080/"
        },
        "id": "NpnySUoF8-Ou",
        "outputId": "98865d05-816d-4d40-91db-fd305f6a5bc6"
      },
      "execution_count": 34,
      "outputs": [
        {
          "output_type": "stream",
          "name": "stdout",
          "text": [
            "plaintext: 2035, ciphertext: (1430, 697)\n"
          ]
        }
      ]
    },
    {
      "cell_type": "code",
      "source": [
        "# decryption\n",
        "# import numpy as np\n",
        "# # m = b/a^x mod p\n",
        "# _a = np.power(a, pows1) % p\n",
        "# _a"
      ],
      "metadata": {
        "colab": {
          "base_uri": "https://localhost:8080/"
        },
        "id": "sMHIypTl9wMI",
        "outputId": "b60bdd8f-68f0-47d9-f4d7-75fd513622a1"
      },
      "execution_count": 62,
      "outputs": [
        {
          "output_type": "execute_result",
          "data": {
            "text/plain": [
              "0"
            ]
          },
          "metadata": {},
          "execution_count": 62
        }
      ]
    },
    {
      "cell_type": "code",
      "source": [
        "pows1 = p - 1 - x\n",
        "pows1"
      ],
      "metadata": {
        "colab": {
          "base_uri": "https://localhost:8080/"
        },
        "id": "Y09khIQ0-3Ql",
        "outputId": "47823973-5805-42c5-f071-1eeddedd5165"
      },
      "execution_count": 63,
      "outputs": [
        {
          "output_type": "execute_result",
          "data": {
            "text/plain": [
              "605"
            ]
          },
          "metadata": {},
          "execution_count": 63
        }
      ]
    },
    {
      "cell_type": "code",
      "source": [
        "# _a = a**pows1 % p\n",
        "_a = a**(p - 1 - x) % p\n",
        "_a"
      ],
      "metadata": {
        "colab": {
          "base_uri": "https://localhost:8080/"
        },
        "id": "G21shCh-B9UW",
        "outputId": "ebd212f0-95eb-48f6-8f8f-94408a509b2f"
      },
      "execution_count": 64,
      "outputs": [
        {
          "output_type": "execute_result",
          "data": {
            "text/plain": [
              "872"
            ]
          },
          "metadata": {},
          "execution_count": 64
        }
      ]
    },
    {
      "cell_type": "code",
      "source": [
        "m = b * _a % p\n",
        "m"
      ],
      "metadata": {
        "colab": {
          "base_uri": "https://localhost:8080/"
        },
        "id": "jCWzhEEhCCLq",
        "outputId": "891e526f-fdd5-41ec-f3b6-0c2be6f26801"
      },
      "execution_count": 65,
      "outputs": [
        {
          "output_type": "execute_result",
          "data": {
            "text/plain": [
              "2035"
            ]
          },
          "metadata": {},
          "execution_count": 65
        }
      ]
    }
  ]
}