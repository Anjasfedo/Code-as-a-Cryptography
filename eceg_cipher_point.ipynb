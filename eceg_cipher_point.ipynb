{
  "nbformat": 4,
  "nbformat_minor": 0,
  "metadata": {
    "colab": {
      "provenance": [],
      "authorship_tag": "ABX9TyNvu54vG/N5/FtfxjJJnIkn",
      "include_colab_link": true
    },
    "kernelspec": {
      "name": "python3",
      "display_name": "Python 3"
    },
    "language_info": {
      "name": "python"
    }
  },
  "cells": [
    {
      "cell_type": "markdown",
      "metadata": {
        "id": "view-in-github",
        "colab_type": "text"
      },
      "source": [
        "<a href=\"https://colab.research.google.com/github/Anjasfedo/Code-as-a-Cryptography/blob/main/eceg_cipher_point.ipynb\" target=\"_parent\"><img src=\"https://colab.research.google.com/assets/colab-badge.svg\" alt=\"Open In Colab\"/></a>"
      ]
    },
    {
      "cell_type": "code",
      "execution_count": 53,
      "metadata": {
        "id": "_nUUgQ-sXwyv"
      },
      "outputs": [],
      "source": [
        "import random\n",
        "import sympy as sp\n",
        "import json\n",
        "import base64\n",
        "\n",
        "class EllipticCurveElGamal:\n",
        "  def __init__(self, a, b, p, k, B=None):\n",
        "    self.p = p # primer number\n",
        "    self.a = a # alpha\n",
        "    self.b = b # beta\n",
        "\n",
        "    self.k = k\n",
        "    self.PointB = B\n",
        "\n",
        "    self.pointP = None\n",
        "    self.pointQ = None\n",
        "\n",
        "\n",
        "    self.char_to_num_dict = {\n",
        "    '0': 0, '1': 1, '2': 2, '3': 3, '4': 4, '5': 5, '6': 6, '7': 7, '8': 8, '9': 9,\n",
        "    'a': 10, 'b': 11, 'c': 12, 'd': 13, 'e': 14, 'f': 15, 'g': 16, 'h': 17,\n",
        "    'i': 18, 'j': 19, 'k': 20, 'l': 21, 'm': 22, 'n': 23, 'o': 24, 'p': 25,\n",
        "    'q': 26, 'r': 27, 's': 28, 't': 29, 'u': 30, 'v': 31, 'w': 32, 'x': 33,\n",
        "    'y': 34, 'z': 35, '.': 36, '#': 37, '*': 38, '/': 39, '-': 40\n",
        "    }\n",
        "\n",
        "    self.num_to_char_dict = {v: k for k, v in self.char_to_num_dict.items()}\n",
        "\n",
        "    # self.k_koblitz = max(self.char_to_num_dict.values()) + 1  # max 24 for 35 char\n",
        "    self.k_koblitz = 18  # max 24 for 35 char\n",
        "\n",
        "  def example_function(self):\n",
        "      print(f\"Using persistent k value: {self.k}\")\n",
        "\n",
        "  def elliptic_curve_equation(self, x):\n",
        "    return (x**3 + self.a*x + self.b) % self.p\n",
        "\n",
        "  def is_on_curve(self, x, y):\n",
        "    return self.elliptic_curve_equation(x)  == (y**2) % self.p\n",
        "\n",
        "  # def generate_random_number(self):\n",
        "  #   self.k = random.randint(1, self.p - 1)\n",
        "  #   return self.k\n",
        "\n",
        "  def generate_random_point(self):\n",
        "    while True:\n",
        "      x = random.randint(1, self.p - 1)\n",
        "      y = random.randint(1, self.p - 1)\n",
        "      if self.is_on_curve(x, y):\n",
        "        return (x, y)\n",
        "\n",
        "  def mod_inverse(self, a, p):\n",
        "      if a == 0:\n",
        "          raise ValueError(\"Inverse does not exist for 0.\")\n",
        "      return pow(a, p - 2, p)\n",
        "\n",
        "  def calculate_slope_mod(self, P, Q):\n",
        "    x1, y1 = P\n",
        "    x2, y2 = Q\n",
        "    if x1 == x2 and y1 == y2:\n",
        "        # Use the formula for point doubling when P == Q\n",
        "        numerator = (3 * x1**2 + self.a) % self.p\n",
        "        denominator = (2 * y1) % self.p\n",
        "    else:\n",
        "        # Use the formula for regular slope when P != Q\n",
        "        numerator = (y2 - y1) % self.p\n",
        "        denominator = (x2 - x1) % self.p\n",
        "\n",
        "    if denominator == 0:\n",
        "        raise ValueError(\"Slope is undefined (denominator is zero).\")\n",
        "\n",
        "    # Compute the slope as (numerator / denominator) % p, which is\n",
        "    # numerator * mod_inverse(denominator, p) % p\n",
        "    slope = (numerator * self.mod_inverse(denominator, self.p)) % self.p\n",
        "    return slope\n",
        "\n",
        "  def calculate_add_xr_mod(self, P, Q, m):\n",
        "    x1, y1 = P\n",
        "    x2, y2 = Q\n",
        "    xr = (m**2 - x1 - x2) % self.p\n",
        "    return xr\n",
        "\n",
        "  def calculate_add_yr_mod(self, P, Q, m, xr):\n",
        "    x1, y1 = P\n",
        "    x2, y2 = Q\n",
        "    yr = (m * (x1 - xr) - y1) % self.p\n",
        "    return yr\n",
        "\n",
        "  def calculate_point_addition(self, P, Q):\n",
        "    m = self.calculate_slope_mod(P, Q)\n",
        "\n",
        "    xr = self.calculate_add_xr_mod(P, Q, m)\n",
        "\n",
        "    yr = self.calculate_add_yr_mod(P, Q, m, xr)\n",
        "\n",
        "    R = (xr, yr)\n",
        "\n",
        "    return R\n",
        "\n",
        "  def calculate_dob_xr_mod(self, P, Q, m):\n",
        "    x1, y1 = P\n",
        "    x2, y2 = Q\n",
        "    xr = (m**2 - (2 * x1)) % self.p\n",
        "    return xr\n",
        "\n",
        "  def calculate_dob_yr_mod(self, P, Q, m, xr):\n",
        "    x1, y1 = P\n",
        "    yr = (m * (x1 - xr) - y1) % self.p\n",
        "    return yr\n",
        "\n",
        "  def calculate_point_doubling(self, P):\n",
        "\n",
        "    m = self.calculate_slope_mod(P, P)\n",
        "\n",
        "    xr = self.calculate_dob_xr_mod(P, P, m)\n",
        "\n",
        "    yr = self.calculate_dob_yr_mod(P, P, m, xr)\n",
        "\n",
        "    R = (xr, yr)\n",
        "\n",
        "    return R\n",
        "\n",
        "  def calculate_point_multiplication(self, P, k):\n",
        "    if k == 0:\n",
        "      return None\n",
        "    elif k == 1:\n",
        "      return P\n",
        "\n",
        "    # Initialize R to be the point at infinity, often represented as None in this context\n",
        "    R = None\n",
        "    Q = P  # Start with Q as P\n",
        "\n",
        "    # Double-and-add method\n",
        "    while k > 0:\n",
        "        if k % 2 == 1:  # If k is odd, add Q to the result\n",
        "            if R is None:\n",
        "                R = Q  # R is the point at infinity initially\n",
        "            else:\n",
        "                R = self.calculate_point_addition(R, Q)\n",
        "        Q = self.calculate_point_addition(Q, Q)  # Double the point Q\n",
        "        k //= 2  # Move to the next bit\n",
        "\n",
        "    return R\n",
        "\n",
        "  def calculate_point_subtract(self, P, Q):\n",
        "    # Find the inverse of point Q (x_Q, y_Q) -> (x_Q, -y_Q mod p)\n",
        "    Q_inv = (Q[0], (-Q[1]) % self.p)\n",
        "\n",
        "    # Subtract P - Q by adding P and Q_inv\n",
        "    R = self.calculate_point_addition(P, Q_inv)\n",
        "\n",
        "    return R\n",
        "\n",
        "  def generate_public_key(self, private_key):\n",
        "    public_key = self.calculate_point_multiplication(self.PointB, private_key)\n",
        "    return public_key\n",
        "\n",
        "  def encryption(self, M, public_key):\n",
        "    max_attempts = 100  # Limit the number of retries for generating valid `k`\n",
        "    attempts = 0\n",
        "\n",
        "    while attempts < max_attempts:\n",
        "        k = random.randint(1, self.p - 1)  # Generate random `k`, 1 < k < p - 1\n",
        "\n",
        "        # Calculate C1 = k * B (public generator point)\n",
        "        C1 = self.calculate_point_multiplication(self.PointB, k)\n",
        "\n",
        "        # If C1 is not valid or not on the curve, retry\n",
        "        if C1 is None or not self.is_on_curve(*C1):\n",
        "            attempts += 1\n",
        "            continue\n",
        "\n",
        "        # Calculate C2 = M + k * public_key\n",
        "        k_times_public_key = self.calculate_point_multiplication(public_key, k)\n",
        "        if k_times_public_key is None or not self.is_on_curve(*k_times_public_key):\n",
        "            attempts += 1\n",
        "            continue\n",
        "\n",
        "        C2 = self.calculate_point_addition(M, k_times_public_key)\n",
        "\n",
        "        # If C2 is not valid or not on the curve, retry\n",
        "        if C2 is None or not self.is_on_curve(*C2):\n",
        "            attempts += 1\n",
        "            continue\n",
        "\n",
        "        # If both C1 and C2 are valid, return the encrypted pair (C1, C2)\n",
        "        return (C1, C2)\n",
        "\n",
        "    # If no valid (C1, C2) pair is found after max_attempts, raise an error\n",
        "    raise ValueError(f\"Failed to find valid encryption after {max_attempts} attempts\")\n",
        "\n",
        "\n",
        "\n",
        "  def decryption(self, C, private_key):\n",
        "      C1, C2 = C\n",
        "\n",
        "      # Calculate _p = private_key * C1\n",
        "      _p = self.calculate_point_multiplication(C1, private_key)\n",
        "\n",
        "      # Calculate the plain point = C2 - _p\n",
        "      plain = self.calculate_point_subtract(C2, _p)\n",
        "\n",
        "      # Verify the result is on the curve\n",
        "      if not self.is_on_curve(*plain):\n",
        "          raise ValueError(f\"Decrypted point {plain} is not on the curve\")\n",
        "\n",
        "      return plain\n",
        "\n",
        "\n",
        "  # Function to map char to num\n",
        "  def char_to_num(self, char):\n",
        "      # Ensure the input is a string; if not, convert it\n",
        "      char = str(char)\n",
        "\n",
        "      # Check if the string exists in the dictionary\n",
        "      if char in self.char_to_num_dict:\n",
        "          return self.char_to_num_dict[char]\n",
        "      else:\n",
        "          # Handle the expanded character set (0-40)\n",
        "          raise ValueError(f\"Character '{char}' is not valid. Please use '0-9', 'a-z', or other valid characters.\")\n",
        "\n",
        "\n",
        "  # Function to map num to char\n",
        "  def num_to_char(self, num):\n",
        "      # Ensure that the input is an integer; if it's a string digit, convert to integer\n",
        "      if isinstance(num, str) and num.isdigit():\n",
        "          num = int(num)\n",
        "\n",
        "      # Now we expect num to be an integer\n",
        "      if isinstance(num, int):\n",
        "          if num in self.num_to_char_dict:  # Handle numbers 0-40 by converting them using the dictionary\n",
        "              return self.num_to_char_dict[num]\n",
        "          else:\n",
        "              raise ValueError(f\"Number '{num}' is out of the valid range (0-40).\")\n",
        "      else:\n",
        "          raise ValueError(f\"Input '{num}' is not valid. Please provide a valid number.\")\n",
        "\n",
        "\n",
        "  def message_to_koblitz(self, message):\n",
        "      # Convert the message to a list of characters\n",
        "      chars = list(message)\n",
        "\n",
        "      koblitz = []\n",
        "      for char in chars:\n",
        "          num = self.char_to_num(char)\n",
        "          koblitz.append(num)\n",
        "\n",
        "      return koblitz\n",
        "\n",
        "  def koblitz_to_message(self, koblitz):\n",
        "      message = []\n",
        "      for num in koblitz:\n",
        "          char = self.num_to_char(num)\n",
        "          message.append(char)\n",
        "\n",
        "      return ''.join(message)\n",
        "\n",
        "  def koblitz_encode(self, m, max_attempts=1000):\n",
        "    num = 1  # Start with x = m * k + 1\n",
        "    attempts = 0\n",
        "\n",
        "    while attempts < max_attempts:\n",
        "        x = m * self.k_koblitz + num\n",
        "        rhs = (x**3 + self.a * x + self.b) % self.p  # right-hand side of the elliptic curve equation\n",
        "\n",
        "        # Check if rhs is a quadratic residue modulo p\n",
        "        if sp.is_quad_residue(rhs, self.p):\n",
        "            y = sp.sqrt_mod(rhs, self.p)\n",
        "            return (x, y)  # Return the point (x, y) as a tuple\n",
        "\n",
        "        num += 1  # Increment to check next x value\n",
        "        attempts += 1\n",
        "\n",
        "    # If no valid point is found after max_attempts\n",
        "    raise ValueError(f\"No valid point found after {max_attempts} attempts for message {m}.\")\n",
        "\n",
        "  def koblitz_encode_message(self, message):\n",
        "    encoded_points = []\n",
        "    for char in message:\n",
        "      encoded_point = self.koblitz_encode(char)\n",
        "      encoded_points.append(encoded_point)\n",
        "      # print(f\"Encoded point for character '{char}': {encoded_point}\")\n",
        "\n",
        "    return encoded_points\n",
        "\n",
        "  def koblitz_decode(self, x):\n",
        "    return (x - 1) // self.k_koblitz\n",
        "\n",
        "  def koblitz_decode_message(self, points):\n",
        "      decoded_message = []\n",
        "      for point in points:\n",
        "          x, y = point  # You can access both x and y here\n",
        "          decoded_num = self.koblitz_decode(x)  # Decode based on x-coordinate\n",
        "          decoded_message.append(decoded_num)\n",
        "      return decoded_message\n",
        "\n",
        "  def encrypt_message(self, message, public_key):\n",
        "      # Encode the message into Koblitz points\n",
        "      koblitz_message = self.message_to_koblitz(message)\n",
        "      encoded_message = self.koblitz_encode_message(koblitz_message)\n",
        "      encrypted_points = []\n",
        "\n",
        "      # Encrypt each Koblitz point\n",
        "      for point in encoded_message:\n",
        "          encrypted_point = self.encryption(point, public_key)\n",
        "          encrypted_points.append(encrypted_point)\n",
        "      print(encrypted_points)\n",
        "      # Convert encrypted_points (a list of tuples) to a JSON string\n",
        "      encrypted_message_string = json.dumps(encrypted_points)\n",
        "\n",
        "      # Optionally, encode the string to base64 for a cleaner ciphertext\n",
        "      encrypted_message_base64 = base64.b64encode(encrypted_message_string.encode()).decode()\n",
        "\n",
        "      return encrypted_message_base64, encrypted_points  # Return as readable string\n",
        "\n",
        "  def decrypt_message(self, encrypted_message_base64, private_key):\n",
        "      # Decode the base64 string back to the JSON string\n",
        "      encrypted_message_string = base64.b64decode(encrypted_message_base64).decode()\n",
        "\n",
        "      # Convert the JSON string back to a list of encrypted points (tuples)\n",
        "      encrypted_points = json.loads(encrypted_message_string)\n",
        "\n",
        "      decrypted_message = []\n",
        "\n",
        "      # Decrypt each point\n",
        "      for point in encrypted_points:\n",
        "          decrypted_point = self.decryption(point, private_key)\n",
        "          decrypted_message.append(decrypted_point)\n",
        "\n",
        "      # Decode the Koblitz points into the original numeric values\n",
        "      decoded_koblitz_points = self.koblitz_decode_message(decrypted_message)\n",
        "\n",
        "      # Convert numeric Koblitz points to characters using num_to_char\n",
        "      plain_text_message = ''.join([self.num_to_char(num) for num in decoded_koblitz_points])\n",
        "\n",
        "      return plain_text_message\n",
        "\n"
      ]
    },
    {
      "cell_type": "code",
      "source": [
        "elliptic = EllipticCurveElGamal(a=1, b=1, p=1019, k=3)\n",
        "\n",
        "base = elliptic.generate_random_point()\n",
        "elliptic.PointB = base\n",
        "\n",
        "base2 = elliptic.generate_random_point()\n",
        "\n",
        "message = \"hello\"\n",
        "private_key = 5\n",
        "public_key = elliptic.generate_public_key(private_key=private_key)\n",
        "\n",
        "# Encrypt the message\n",
        "encrypted_message_string, encrypted_points = elliptic.encrypt_message(message, public_key)\n",
        "print(f\"Encrypted message: {encrypted_message_string}\")\n",
        "print(f\"Encrypted points: {encrypted_points}\")\n",
        "\n",
        "# Decrypt the message\n",
        "decrypted_message = elliptic.decrypt_message(encrypted_message_string, private_key)\n",
        "print(f\"Decrypted message: {decrypted_message}\")"
      ],
      "metadata": {
        "colab": {
          "base_uri": "https://localhost:8080/"
        },
        "id": "8QShom6ZX7Ex",
        "outputId": "9a3b0544-d351-4051-88e3-1a7647ad1403"
      },
      "execution_count": 54,
      "outputs": [
        {
          "output_type": "stream",
          "name": "stdout",
          "text": [
            "[((615, 768), (711, 498)), ((604, 623), (621, 250)), ((324, 408), (634, 538)), ((692, 550), (169, 387)), ((266, 921), (244, 610))]\n",
            "Encrypted message: W1tbNjE1LCA3NjhdLCBbNzExLCA0OThdXSwgW1s2MDQsIDYyM10sIFs2MjEsIDI1MF1dLCBbWzMyNCwgNDA4XSwgWzYzNCwgNTM4XV0sIFtbNjkyLCA1NTBdLCBbMTY5LCAzODddXSwgW1syNjYsIDkyMV0sIFsyNDQsIDYxMF1dXQ==\n",
            "Encrypted points: [((615, 768), (711, 498)), ((604, 623), (621, 250)), ((324, 408), (634, 538)), ((692, 550), (169, 387)), ((266, 921), (244, 610))]\n",
            "Decrypted message: hello\n"
          ]
        }
      ]
    },
    {
      "cell_type": "code",
      "source": [
        "elliptic.is_on_curve(114, 172)"
      ],
      "metadata": {
        "colab": {
          "base_uri": "https://localhost:8080/"
        },
        "id": "WcRQwoELZKh-",
        "outputId": "5ab8a1d4-7f78-438b-8dbc-32c23344caee"
      },
      "execution_count": 55,
      "outputs": [
        {
          "output_type": "execute_result",
          "data": {
            "text/plain": [
              "True"
            ]
          },
          "metadata": {},
          "execution_count": 55
        }
      ]
    },
    {
      "cell_type": "code",
      "source": [
        "nums = elliptic.koblitz_decode_message([(169, 632), (362, 28)])\n",
        "nums"
      ],
      "metadata": {
        "colab": {
          "base_uri": "https://localhost:8080/"
        },
        "id": "Vo1EcoPxZaDZ",
        "outputId": "2334f22b-6e43-4aa3-8c80-f762da82138d"
      },
      "execution_count": 56,
      "outputs": [
        {
          "output_type": "execute_result",
          "data": {
            "text/plain": [
              "[9, 20]"
            ]
          },
          "metadata": {},
          "execution_count": 56
        }
      ]
    },
    {
      "cell_type": "code",
      "source": [
        "point = elliptic.koblitz_encode_message(nums)\n",
        "point"
      ],
      "metadata": {
        "colab": {
          "base_uri": "https://localhost:8080/"
        },
        "id": "CxaTAh48Zh--",
        "outputId": "40eee2a6-063b-4603-8930-87e3feaa003b"
      },
      "execution_count": 57,
      "outputs": [
        {
          "output_type": "execute_result",
          "data": {
            "text/plain": [
              "[(165, 312), (362, 28)]"
            ]
          },
          "metadata": {},
          "execution_count": 57
        }
      ]
    },
    {
      "cell_type": "code",
      "source": [
        "nums = elliptic.koblitz_decode_message(point)\n",
        "nums"
      ],
      "metadata": {
        "colab": {
          "base_uri": "https://localhost:8080/"
        },
        "id": "OWe5tJE9Zpgn",
        "outputId": "648486e3-a40d-482c-a738-7043105310ff"
      },
      "execution_count": 58,
      "outputs": [
        {
          "output_type": "execute_result",
          "data": {
            "text/plain": [
              "[9, 20]"
            ]
          },
          "metadata": {},
          "execution_count": 58
        }
      ]
    },
    {
      "cell_type": "code",
      "source": [
        "point = elliptic.koblitz_encode_message(nums)\n",
        "point"
      ],
      "metadata": {
        "colab": {
          "base_uri": "https://localhost:8080/"
        },
        "id": "kOrLyxpRZsdr",
        "outputId": "aa50471c-fe07-4974-85a1-88f224b5fecc"
      },
      "execution_count": 59,
      "outputs": [
        {
          "output_type": "execute_result",
          "data": {
            "text/plain": [
              "[(165, 312), (362, 28)]"
            ]
          },
          "metadata": {},
          "execution_count": 59
        }
      ]
    },
    {
      "cell_type": "markdown",
      "source": [],
      "metadata": {
        "id": "ozUrSo3XcG5H"
      }
    },
    {
      "cell_type": "code",
      "source": [
        "# Define a function to normalize and map points to a number in the 0-40 range\n",
        "def map_to_range(value, min_val, max_val, target_min, target_max):\n",
        "    # Normalize the value to the range 0-1\n",
        "    normalized = (value - min_val) / (max_val - min_val)\n",
        "    # Map to the target range\n",
        "    return target_min + normalized * (target_max - target_min)\n",
        "\n",
        "# Define a function to reverse the mapping from the 0-40 range back to the original range\n",
        "def reverse_mapping(mapped_value, target_min, target_max, original_min, original_max):\n",
        "    # Normalize the value back to the original range\n",
        "    normalized = (mapped_value - target_min) / (target_max - target_min)\n",
        "    return original_min + normalized * (original_max - original_min)\n",
        "\n",
        "# Define the points\n",
        "point1 = (169, 632)\n",
        "point2 = (362, 28)\n",
        "\n",
        "# Define the hypothetical min/max for the original x and y ranges\n",
        "x_min, x_max = 0, 1000  # Assuming the original x can range from 0 to 1000\n",
        "y_min, y_max = 0, 1000  # Assuming the original y can range from 0 to 1000\n",
        "\n",
        "# Define the target range (0-40)\n",
        "target_min, target_max = 0, 40\n",
        "\n",
        "# Normalize and map the points to the 0-40 range\n",
        "mapped_x1 = map_to_range(point1[0], x_min, x_max, target_min, target_max)\n",
        "mapped_y1 = map_to_range(point1[1], y_min, y_max, target_min, target_max)\n",
        "mapped_x2 = map_to_range(point2[0], x_min, x_max, target_min, target_max)\n",
        "mapped_y2 = map_to_range(point2[1], y_min, y_max, target_min, target_max)\n",
        "\n",
        "# Combine into single numbers for each point\n",
        "mapped_point1 = (mapped_x1, mapped_y1)\n",
        "mapped_point2 = (mapped_x2, mapped_y2)\n",
        "\n",
        "# Reverse the mapping to get back the original points (within some precision)\n",
        "restored_x1 = reverse_mapping(mapped_x1, target_min, target_max, x_min, x_max)\n",
        "restored_y1 = reverse_mapping(mapped_y1, target_min, target_max, y_min, y_max)\n",
        "restored_x2 = reverse_mapping(mapped_x2, target_min, target_max, x_min, x_max)\n",
        "restored_y2 = reverse_mapping(mapped_y2, target_min, target_max, y_min, y_max)\n",
        "\n",
        "restored_point1 = (restored_x1, restored_y1)\n",
        "restored_point2 = (restored_x2, restored_y2)\n",
        "\n",
        "mapped_point1, mapped_point2, restored_point1, restored_point2\n"
      ],
      "metadata": {
        "colab": {
          "base_uri": "https://localhost:8080/"
        },
        "id": "wQWoLlNacHBJ",
        "outputId": "40879c69-e861-4af5-89c1-a3ae238523fb"
      },
      "execution_count": 60,
      "outputs": [
        {
          "output_type": "execute_result",
          "data": {
            "text/plain": [
              "((6.760000000000001, 25.28),\n",
              " (14.48, 1.12),\n",
              " (169.0, 632.0),\n",
              " (362.0, 28.000000000000004))"
            ]
          },
          "metadata": {},
          "execution_count": 60
        }
      ]
    },
    {
      "cell_type": "code",
      "source": [],
      "metadata": {
        "id": "OYwZ-6oQcWmu"
      },
      "execution_count": null,
      "outputs": []
    }
  ]
}