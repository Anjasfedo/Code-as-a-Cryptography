{
  "nbformat": 4,
  "nbformat_minor": 0,
  "metadata": {
    "colab": {
      "provenance": [],
      "authorship_tag": "ABX9TyOIcIVvqOUQDpqw458QKUfl",
      "include_colab_link": true
    },
    "kernelspec": {
      "name": "python3",
      "display_name": "Python 3"
    },
    "language_info": {
      "name": "python"
    }
  },
  "cells": [
    {
      "cell_type": "markdown",
      "metadata": {
        "id": "view-in-github",
        "colab_type": "text"
      },
      "source": [
        "<a href=\"https://colab.research.google.com/github/Anjasfedo/Code-as-a-Cryptography/blob/main/eceg_koblitz_2.ipynb\" target=\"_parent\"><img src=\"https://colab.research.google.com/assets/colab-badge.svg\" alt=\"Open In Colab\"/></a>"
      ]
    },
    {
      "cell_type": "markdown",
      "source": [
        "# Parameter"
      ],
      "metadata": {
        "id": "XJdOgF1fptKR"
      }
    },
    {
      "cell_type": "code",
      "execution_count": 2,
      "metadata": {
        "id": "58IdHFpLpjwF"
      },
      "outputs": [],
      "source": [
        "# Parameters\n",
        "p = 751  # prime modulus\n",
        "a = -1    # coefficient of x in the elliptic curve\n",
        "b = 188    # constant in the elliptic curve"
      ]
    },
    {
      "cell_type": "markdown",
      "source": [
        "# ECEG Class"
      ],
      "metadata": {
        "id": "ojFG9FGnpvf-"
      }
    },
    {
      "cell_type": "code",
      "source": [
        "import random\n",
        "import sympy as sp\n",
        "import json\n",
        "import base64\n",
        "\n",
        "class EllipticCurveElGamal:\n",
        "  def __init__(self, a, b, p, k, B=None):\n",
        "    self.p = p # primer number\n",
        "    self.a = a # alpha\n",
        "    self.b = b # beta\n",
        "\n",
        "    self.k = k\n",
        "    self.PointB = B\n",
        "\n",
        "    self.pointP = None\n",
        "    self.pointQ = None\n",
        "\n",
        "\n",
        "    self.char_to_num_dict = {\n",
        "    '0': 0, '1': 1, '2': 2, '3': 3, '4': 4, '5': 5, '6': 6, '7': 7, '8': 8, '9': 9,\n",
        "    'a': 10, 'b': 11, 'c': 12, 'd': 13, 'e': 14, 'f': 15, 'g': 16, 'h': 17,\n",
        "    'i': 18, 'j': 19, 'k': 20, 'l': 21, 'm': 22, 'n': 23, 'o': 24, 'p': 25,\n",
        "    'q': 26, 'r': 27, 's': 28, 't': 29, 'u': 30, 'v': 31, 'w': 32, 'x': 33,\n",
        "    'y': 34, 'z': 35, '.': 36, '#': 37, '*': 38, '/': 39, '-': 40\n",
        "    }\n",
        "\n",
        "    self.num_to_char_dict = {v: k for k, v in self.char_to_num_dict.items()}\n",
        "\n",
        "    self.k_koblitz = max(self.char_to_num_dict.values()) + 1  # max 24 for 35 char\n",
        "\n",
        "  def example_function(self):\n",
        "      print(f\"Using persistent k value: {self.k}\")\n",
        "\n",
        "  def elliptic_curve_equation(self, x):\n",
        "    return (x**3 + self.a*x + self.b) % self.p\n",
        "\n",
        "  def is_on_curve(self, x, y):\n",
        "    return self.elliptic_curve_equation(x)  == (y**2) % p\n",
        "\n",
        "  # def generate_random_number(self):\n",
        "  #   self.k = random.randint(1, self.p - 1)\n",
        "  #   return self.k\n",
        "\n",
        "  def generate_random_point(self):\n",
        "    while True:\n",
        "      x = random.randint(1, self.p - 1)\n",
        "      y = random.randint(1, self.p - 1)\n",
        "      if self.is_on_curve(x, y):\n",
        "        return (x, y)\n",
        "\n",
        "  def mod_inverse(self, a, p):\n",
        "      if a == 0:\n",
        "          raise ValueError(\"Inverse does not exist for 0.\")\n",
        "      return pow(a, p - 2, p)\n",
        "\n",
        "  def calculate_slope_mod(self, P, Q):\n",
        "    x1, y1 = P\n",
        "    x2, y2 = Q\n",
        "    if x1 == x2 and y1 == y2:\n",
        "        # Use the formula for point doubling when P == Q\n",
        "        numerator = (3 * x1**2 + self.a) % self.p\n",
        "        denominator = (2 * y1) % self.p\n",
        "    else:\n",
        "        # Use the formula for regular slope when P != Q\n",
        "        numerator = (y2 - y1) % self.p\n",
        "        denominator = (x2 - x1) % self.p\n",
        "\n",
        "    if denominator == 0:\n",
        "        raise ValueError(\"Slope is undefined (denominator is zero).\")\n",
        "\n",
        "    # Compute the slope as (numerator / denominator) % p, which is\n",
        "    # numerator * mod_inverse(denominator, p) % p\n",
        "    slope = (numerator * self.mod_inverse(denominator, self.p)) % self.p\n",
        "    return slope\n",
        "\n",
        "  def calculate_add_xr_mod(self, P, Q, m):\n",
        "    x1, y1 = P\n",
        "    x2, y2 = Q\n",
        "    xr = (m**2 - x1 - x2) % self.p\n",
        "    return xr\n",
        "\n",
        "  def calculate_add_yr_mod(self, P, Q, m, xr):\n",
        "    x1, y1 = P\n",
        "    x2, y2 = Q\n",
        "    yr = (m * (x1 - xr) - y1) % self.p\n",
        "    return yr\n",
        "\n",
        "  def calculate_point_addition(self, P, Q):\n",
        "    m = self.calculate_slope_mod(P, Q)\n",
        "\n",
        "    xr = self.calculate_add_xr_mod(P, Q, m)\n",
        "\n",
        "    yr = self.calculate_add_yr_mod(P, Q, m, xr)\n",
        "\n",
        "    R = (xr, yr)\n",
        "\n",
        "    return R\n",
        "\n",
        "  def calculate_dob_xr_mod(self, P, Q, m):\n",
        "    x1, y1 = P\n",
        "    x2, y2 = Q\n",
        "    xr = (m**2 - (2 * x1)) % self.p\n",
        "    return xr\n",
        "\n",
        "  def calculate_dob_yr_mod(self, P, Q, m, xr):\n",
        "    x1, y1 = P\n",
        "    yr = (m * (x1 - xr) - y1) % self.p\n",
        "    return yr\n",
        "\n",
        "  def calculate_point_doubling(self, P):\n",
        "\n",
        "    m = self.calculate_slope_mod(P, P)\n",
        "\n",
        "    xr = self.calculate_dob_xr_mod(P, P, m)\n",
        "\n",
        "    yr = self.calculate_dob_yr_mod(P, P, m, xr)\n",
        "\n",
        "    R = (xr, yr)\n",
        "\n",
        "    return R\n",
        "\n",
        "  def calculate_point_multiplication(self, P, k):\n",
        "    if k == 0:\n",
        "      return None\n",
        "    elif k == 1:\n",
        "      return P\n",
        "\n",
        "    # Initialize R to be the point at infinity, often represented as None in this context\n",
        "    R = None\n",
        "    Q = P  # Start with Q as P\n",
        "\n",
        "    # Double-and-add method\n",
        "    while k > 0:\n",
        "        if k % 2 == 1:  # If k is odd, add Q to the result\n",
        "            if R is None:\n",
        "                R = Q  # R is the point at infinity initially\n",
        "            else:\n",
        "                R = self.calculate_point_addition(R, Q)\n",
        "        Q = self.calculate_point_addition(Q, Q)  # Double the point Q\n",
        "        k //= 2  # Move to the next bit\n",
        "\n",
        "    return R\n",
        "\n",
        "  def calculate_point_subtract(self, P, Q):\n",
        "    # Find the inverse of point Q (x_Q, y_Q) -> (x_Q, -y_Q mod p)\n",
        "    Q_inv = (Q[0], (-Q[1]) % self.p)\n",
        "\n",
        "    # Subtract P - Q by adding P and Q_inv\n",
        "    R = self.calculate_point_addition(P, Q_inv)\n",
        "\n",
        "    return R\n",
        "\n",
        "  def generate_public_key(self, B, private_key):\n",
        "    public_key = self.calculate_point_multiplication(B, private_key)\n",
        "    return public_key\n",
        "\n",
        "  def enryption(self, M, public_key):\n",
        "    # k = random.randint(1, self.p - 1) # 1 < k < p - 1\n",
        "\n",
        "    C1 = self.calculate_point_multiplication(self.PointB, self.k)\n",
        "    C2 = self.calculate_point_addition(M, self.calculate_point_multiplication(public_key, self.k))\n",
        "\n",
        "    return (C1, C2)\n",
        "\n",
        "  def decryption(self, C, private_key):\n",
        "    C1, C2 = C\n",
        "\n",
        "    _p = self.calculate_point_multiplication(C1, private_key)\n",
        "\n",
        "    plain = self.calculate_point_subtract(C2, _p)\n",
        "\n",
        "    return plain\n",
        "\n",
        "  # Function to map char to num\n",
        "  def char_to_num(self, char):\n",
        "      # Ensure the input is a string; if not, convert it\n",
        "      char = str(char)\n",
        "\n",
        "      # Check if the string exists in the dictionary\n",
        "      if char in self.char_to_num_dict:\n",
        "          return self.char_to_num_dict[char]\n",
        "      else:\n",
        "          # Handle the expanded character set (0-40)\n",
        "          raise ValueError(f\"Character '{char}' is not valid. Please use '0-9', 'a-z', or other valid characters.\")\n",
        "\n",
        "\n",
        "  # Function to map num to char\n",
        "  def num_to_char(self, num):\n",
        "      # Ensure that the input is an integer; if it's a string digit, convert to integer\n",
        "      if isinstance(num, str) and num.isdigit():\n",
        "          num = int(num)\n",
        "\n",
        "      # Now we expect num to be an integer\n",
        "      if isinstance(num, int):\n",
        "          if num in self.num_to_char_dict:  # Handle numbers 0-40 by converting them using the dictionary\n",
        "              return self.num_to_char_dict[num]\n",
        "          else:\n",
        "              raise ValueError(f\"Number '{num}' is out of the valid range (0-40).\")\n",
        "      else:\n",
        "          raise ValueError(f\"Input '{num}' is not valid. Please provide a valid number.\")\n",
        "\n",
        "\n",
        "  def message_to_koblitz(self, message):\n",
        "      # Convert the message to a list of characters\n",
        "      chars = list(message)\n",
        "\n",
        "      koblitz = []\n",
        "      for char in chars:\n",
        "          num = self.char_to_num(char)\n",
        "          koblitz.append(num)\n",
        "\n",
        "      return koblitz\n",
        "\n",
        "  def koblitz_to_message(self, koblitz):\n",
        "      message = []\n",
        "      for num in koblitz:\n",
        "          char = self.num_to_char(num)\n",
        "          message.append(char)\n",
        "\n",
        "      return ''.join(message)\n",
        "\n",
        "  def koblitz_encode(self, m, max_attempts=1000):\n",
        "    num = 1  # Start with x = m * k + 1\n",
        "    attempts = 0\n",
        "\n",
        "    while attempts < max_attempts:\n",
        "        x = m * self.k_koblitz + num\n",
        "        rhs = (x**3 + self.a * x + self.b) % self.p  # right-hand side of the elliptic curve equation\n",
        "\n",
        "        # Check if rhs is a quadratic residue modulo p\n",
        "        if sp.is_quad_residue(rhs, self.p):\n",
        "            y = sp.sqrt_mod(rhs, self.p)\n",
        "            return (x, y)  # Return the point (x, y) as a tuple\n",
        "\n",
        "        num += 1  # Increment to check next x value\n",
        "        attempts += 1\n",
        "\n",
        "    # If no valid point is found after max_attempts\n",
        "    raise ValueError(f\"No valid point found after {max_attempts} attempts for message {m}.\")\n",
        "\n",
        "  def koblitz_encode_message(self, message):\n",
        "    encoded_points = []\n",
        "    for char in message:\n",
        "      encoded_point = self.koblitz_encode(char)\n",
        "      encoded_points.append(encoded_point)\n",
        "      # print(f\"Encoded point for character '{char}': {encoded_point}\")\n",
        "\n",
        "    return encoded_points\n",
        "\n",
        "  def koblitz_decode(self, x):\n",
        "    return (x - 1) // self.k_koblitz\n",
        "\n",
        "  def koblitz_decode_message(self, points):\n",
        "      decoded_message = []\n",
        "      for point in points:\n",
        "          x, y = point  # You can access both x and y here\n",
        "          decoded_num = self.koblitz_decode(x)  # Decode based on x-coordinate\n",
        "          decoded_message.append(decoded_num)\n",
        "      return decoded_message\n",
        "\n",
        "  def encrypt_message(self, message, public_key):\n",
        "      # Encode the message into Koblitz points\n",
        "      koblitz_message = self.message_to_koblitz(message)\n",
        "      encoded_message = self.koblitz_encode_message(koblitz_message)\n",
        "      encrypted_points = []\n",
        "\n",
        "      # Encrypt each Koblitz point\n",
        "      for point in encoded_message:\n",
        "          encrypted_point = self.enryption(point, public_key)\n",
        "          encrypted_points.append(encrypted_point)\n",
        "      print(encrypted_points)\n",
        "      # Convert encrypted_points (a list of tuples) to a JSON string\n",
        "      encrypted_message_string = json.dumps(encrypted_points)\n",
        "\n",
        "      # Optionally, encode the string to base64 for a cleaner ciphertext\n",
        "      encrypted_message_base64 = base64.b64encode(encrypted_message_string.encode()).decode()\n",
        "\n",
        "      return encrypted_message_base64  # Return as readable string\n",
        "\n",
        "  def decrypt_message(self, encrypted_message_base64, private_key):\n",
        "      # Decode the base64 string back to the JSON string\n",
        "      encrypted_message_string = base64.b64decode(encrypted_message_base64).decode()\n",
        "\n",
        "      # Convert the JSON string back to a list of encrypted points (tuples)\n",
        "      encrypted_points = json.loads(encrypted_message_string)\n",
        "\n",
        "      decrypted_message = []\n",
        "\n",
        "      # Decrypt each point\n",
        "      for point in encrypted_points:\n",
        "          decrypted_point = self.decryption(point, private_key)\n",
        "          decrypted_message.append(decrypted_point)\n",
        "\n",
        "      # Decode the Koblitz points into the original numeric values\n",
        "      decoded_koblitz_points = self.koblitz_decode_message(decrypted_message)\n",
        "\n",
        "      # Convert numeric Koblitz points to characters using num_to_char\n",
        "      plain_text_message = ''.join([self.num_to_char(num) for num in decoded_koblitz_points])\n",
        "\n",
        "      return plain_text_message\n",
        "\n",
        ""
      ],
      "metadata": {
        "id": "yqt4yy25pwzW"
      },
      "execution_count": 111,
      "outputs": []
    },
    {
      "cell_type": "markdown",
      "source": [
        "# Class Initialize"
      ],
      "metadata": {
        "id": "dsq0Fq_Pp0Jd"
      }
    },
    {
      "cell_type": "code",
      "source": [
        "random_num = random.randint(1, p - 1)\n",
        "print(f'random number: {random_num}')\n",
        "\n",
        "elliptic1 = EllipticCurveElGamal(a, b, p, random_num)\n",
        "\n",
        "# k = elliptic1.generate_random_number()\n",
        "# print(f'k: {k}')\n",
        "\n",
        "basis = elliptic1.generate_random_point()\n",
        "print(f'basis: {basis}')\n",
        "\n",
        "elliptic1.PointB = basis\n",
        "\n",
        "print(f'is basis on curve: {elliptic1.is_on_curve(basis[0], basis[1])}')"
      ],
      "metadata": {
        "colab": {
          "base_uri": "https://localhost:8080/"
        },
        "id": "Ce0uU50zp21d",
        "outputId": "2f2b45d6-fa08-49f3-a44c-5823c2bf5fed"
      },
      "execution_count": 112,
      "outputs": [
        {
          "output_type": "stream",
          "name": "stdout",
          "text": [
            "random number: 634\n",
            "basis: (466, 608)\n",
            "is basis on curve: True\n"
          ]
        }
      ]
    },
    {
      "cell_type": "markdown",
      "source": [
        "# Key Generation"
      ],
      "metadata": {
        "id": "H7jeaXl1qCcP"
      }
    },
    {
      "cell_type": "code",
      "source": [
        "private_key = random.randint(1, p - 1)\n",
        "public_key = elliptic1.generate_public_key(basis, private_key)\n",
        "\n",
        "print(f'private key: {private_key}')\n",
        "print(f'public key: {public_key}')"
      ],
      "metadata": {
        "colab": {
          "base_uri": "https://localhost:8080/"
        },
        "id": "GmLhib1qqEY0",
        "outputId": "45361f7e-2fe0-4e41-f3b0-69396b20b81e"
      },
      "execution_count": 113,
      "outputs": [
        {
          "output_type": "stream",
          "name": "stdout",
          "text": [
            "private key: 433\n",
            "public key: (158, 29)\n"
          ]
        }
      ]
    },
    {
      "cell_type": "markdown",
      "source": [
        "# Ecnrypt & Decrypt"
      ],
      "metadata": {
        "id": "MsLwaNH_p6bl"
      }
    },
    {
      "cell_type": "code",
      "source": [
        "CONTENT = \"3348610401970005#christofer*derian*budianto#tegal#1997-03-04#laki-laki#b#jl.*pala*22*no.*30#005#017#mejasem*tengah#kramat#katholik#belum*kawin#pelajar/mahasiswa#wni#seumur*hidup\""
      ],
      "metadata": {
        "id": "iKDc0Vs7p9IU"
      },
      "execution_count": 114,
      "outputs": []
    },
    {
      "cell_type": "code",
      "source": [
        "# elliptic1.k_koblitz = 18 # max 18 if add \"-#./*\"\n",
        "\n",
        "# plaintexts = \"-#./*\"\n",
        "plaintext = \"lorem.#-/*\"\n",
        "# plaintexts = CONTENT\n",
        "print(f'Plaintext: {plaintext}')\n",
        "\n",
        "ciphertext = elliptic1.encrypt_message(plaintext, public_key)\n",
        "print(f\"Ciphertext: {ciphertext}\")\n",
        "\n",
        "# Decrypt the ciphertext back to the original message\n",
        "decrypted_message = elliptic1.decrypt_message(ciphertext, private_key)\n",
        "print(f\"Decrypted message: {decrypted_message}\")"
      ],
      "metadata": {
        "colab": {
          "base_uri": "https://localhost:8080/"
        },
        "id": "Z9VVQlQPp-Ys",
        "outputId": "3ead5d0f-ca2d-47a5-be97-60a4ef62a0fc"
      },
      "execution_count": 115,
      "outputs": [
        {
          "output_type": "stream",
          "name": "stdout",
          "text": [
            "Plaintext: lorem.#-/*\n",
            "[((161, 750), (285, 655)), ((161, 750), (562, 201)), ((161, 750), (297, 182)), ((161, 750), (187, 50)), ((161, 750), (310, 31)), ((161, 750), (373, 9)), ((161, 750), (124, 397)), ((161, 750), (102, 631)), ((161, 750), (159, 627)), ((161, 750), (331, 384))]\n",
            "Ciphertext: W1tbMTYxLCA3NTBdLCBbMjg1LCA2NTVdXSwgW1sxNjEsIDc1MF0sIFs1NjIsIDIwMV1dLCBbWzE2MSwgNzUwXSwgWzI5NywgMTgyXV0sIFtbMTYxLCA3NTBdLCBbMTg3LCA1MF1dLCBbWzE2MSwgNzUwXSwgWzMxMCwgMzFdXSwgW1sxNjEsIDc1MF0sIFszNzMsIDldXSwgW1sxNjEsIDc1MF0sIFsxMjQsIDM5N11dLCBbWzE2MSwgNzUwXSwgWzEwMiwgNjMxXV0sIFtbMTYxLCA3NTBdLCBbMTU5LCA2MjddXSwgW1sxNjEsIDc1MF0sIFszMzEsIDM4NF1dXQ==\n",
            "Decrypted message: 258e3h0321\n"
          ]
        }
      ]
    },
    {
      "cell_type": "markdown",
      "source": [
        "# Encode & Decode Cipher Point"
      ],
      "metadata": {
        "id": "rInwHG_dqVjX"
      }
    },
    {
      "cell_type": "code",
      "source": [
        "message = (385, 423)\n",
        "\n",
        "cipher = elliptic1.enryption(message, public_key)\n",
        "\n",
        "decrypted_message = elliptic1.decryption(cipher, private_key)\n",
        "\n",
        "print(f'message: {message}')\n",
        "print(f'cipher: {cipher}')\n",
        "print(f'decrypted message: {decrypted_message}')"
      ],
      "metadata": {
        "colab": {
          "base_uri": "https://localhost:8080/"
        },
        "id": "EzquZSkeqYyn",
        "outputId": "729848f1-003c-4620-d895-dd7ae3397d67"
      },
      "execution_count": 116,
      "outputs": [
        {
          "output_type": "stream",
          "name": "stdout",
          "text": [
            "message: (385, 423)\n",
            "cipher: ((161, 750), (325, 23))\n",
            "decrypted message: (385, 423)\n"
          ]
        }
      ]
    },
    {
      "cell_type": "code",
      "source": [
        "message_to_koblitz = elliptic1.message_to_koblitz(\"lorem\")\n",
        "print(message_to_koblitz)"
      ],
      "metadata": {
        "colab": {
          "base_uri": "https://localhost:8080/"
        },
        "id": "PUygUNZcqhKl",
        "outputId": "0fdbf457-42be-4314-813c-e8169f15ccc6"
      },
      "execution_count": 117,
      "outputs": [
        {
          "output_type": "stream",
          "name": "stdout",
          "text": [
            "[21, 24, 27, 14, 22]\n"
          ]
        }
      ]
    },
    {
      "cell_type": "code",
      "source": [
        "message_point = elliptic1.koblitz_encode_message(message_to_koblitz)\n",
        "print(message_point)"
      ],
      "metadata": {
        "colab": {
          "base_uri": "https://localhost:8080/"
        },
        "id": "bjKl_jPtqVHV",
        "outputId": "8422e3bc-544c-4034-9984-829f76e1f338"
      },
      "execution_count": 118,
      "outputs": [
        {
          "output_type": "stream",
          "name": "stdout",
          "text": [
            "[(872, 39), (985, 188), (1109, 200), (575, 329), (903, 337)]\n"
          ]
        }
      ]
    },
    {
      "cell_type": "code",
      "source": [
        "point_message = elliptic1.koblitz_decode_message(message_point)\n",
        "print(point_message)"
      ],
      "metadata": {
        "colab": {
          "base_uri": "https://localhost:8080/"
        },
        "id": "MCHPOrzvqwYM",
        "outputId": "afcb40c9-ecf4-4b80-c96a-e4b01ca1e5ee"
      },
      "execution_count": 119,
      "outputs": [
        {
          "output_type": "stream",
          "name": "stdout",
          "text": [
            "[21, 24, 27, 14, 22]\n"
          ]
        }
      ]
    },
    {
      "cell_type": "code",
      "source": [
        "koblitz_to_message = elliptic1.koblitz_to_message(point_message)\n",
        "print(koblitz_to_message)"
      ],
      "metadata": {
        "colab": {
          "base_uri": "https://localhost:8080/"
        },
        "id": "Z4qxAh5hqy7d",
        "outputId": "4a81f881-b2e0-45de-9250-2225165933fc"
      },
      "execution_count": 120,
      "outputs": [
        {
          "output_type": "stream",
          "name": "stdout",
          "text": [
            "lorem\n"
          ]
        }
      ]
    },
    {
      "cell_type": "markdown",
      "source": [],
      "metadata": {
        "id": "L2ETegAzrKE3"
      }
    },
    {
      "cell_type": "code",
      "source": [],
      "metadata": {
        "id": "mvNlwsp9rKNP"
      },
      "execution_count": 120,
      "outputs": []
    },
    {
      "cell_type": "code",
      "source": [
        "elliptic1.k_koblitz = 3 # max 18 if add \"-#./*\"\n",
        "\n",
        "chunk1 = ((636, 659), (592, 660))\n",
        "\n",
        "point_message = elliptic1.koblitz_decode_message([chunk1[1]])\n",
        "print(point_message)\n",
        "\n",
        "message_point = elliptic1.koblitz_encode_message(point_message)\n",
        "print(message_point)"
      ],
      "metadata": {
        "colab": {
          "base_uri": "https://localhost:8080/"
        },
        "id": "QHvIvRRgrOY-",
        "outputId": "db94c10d-ab36-4106-c536-88f0d6bb9e8f"
      },
      "execution_count": 188,
      "outputs": [
        {
          "output_type": "stream",
          "name": "stdout",
          "text": [
            "[197]\n",
            "[(592, 91)]\n"
          ]
        }
      ]
    },
    {
      "cell_type": "code",
      "source": [],
      "metadata": {
        "id": "KxJOXleSrUi5"
      },
      "execution_count": 121,
      "outputs": []
    },
    {
      "cell_type": "code",
      "source": [
        "import math\n",
        "\n",
        "# Base 94 encoding uses characters between ASCII 33 ('!') to 126 ('~')\n",
        "BASE = 94\n",
        "OFFSET = 33  # ASCII offset to map numbers to characters (starts from '!')\n",
        "MAX_VALUE = BASE ** 4  # Allow 4-character encoding for larger numbers\n",
        "\n",
        "# Helper function to encode an integer to base 94 string\n",
        "def encode_number(num):\n",
        "    encoded_str = ''\n",
        "    while num > 0:\n",
        "        encoded_str = chr((num % BASE) + OFFSET) + encoded_str\n",
        "        num //= BASE\n",
        "    # Pad with '!' to make it 4 characters long\n",
        "    return encoded_str.rjust(4, '!')\n",
        "\n",
        "# Helper function to decode base 94 string back to an integer\n",
        "def decode_string(encoded_str):\n",
        "    num = 0\n",
        "    for char in encoded_str:\n",
        "        num = num * BASE + (ord(char) - OFFSET)\n",
        "    return num\n",
        "\n",
        "# Function to encode elliptic curve points into characters\n",
        "def encode_point_to_chars(point):\n",
        "    x, y = point\n",
        "    # Combine x and y into a large number by assuming x and y are within a reasonable range\n",
        "    combined_num = x * MAX_VALUE + y\n",
        "    # Encode the combined number into base 94 string\n",
        "    return encode_number(combined_num)\n",
        "\n",
        "# Function to decode characters back into elliptic curve points\n",
        "def decode_chars_to_point(encoded_str):\n",
        "    # Decode the string back into a large number\n",
        "    combined_num = decode_string(encoded_str)\n",
        "    # Extract x and y from the combined number\n",
        "    x = combined_num // MAX_VALUE\n",
        "    y = combined_num % MAX_VALUE\n",
        "    return (x, y)\n",
        "\n",
        "# Test with the given points\n",
        "cipher_points = [((636, 659), (592, 660)), ((636, 659), (697, 472)),\n",
        "                 ((636, 659), (635, 509)), ((636, 659), (385, 328)),\n",
        "                 ((636, 659), (372, 37)), ((636, 659), (731, 529)),\n",
        "                 ((636, 659), (268, 522)), ((636, 659), (629, 545)),\n",
        "                 ((636, 659), (465, 570)), ((636, 659), (54, 620))]\n",
        "# [(636, 659), (592, 660), (697, 472),(635, 509), (385, 328), (372, 37), (731, 529), (268, 522), (629, 545), (465, 570), (54, 620)]\n",
        "# Encode each point pair into a string\n",
        "encoded_ciphertext = []\n",
        "for point_pair in cipher_points:\n",
        "    encoded_pair = (encode_point_to_chars(point_pair[0]), encode_point_to_chars(point_pair[1]))\n",
        "    encoded_ciphertext.append(encoded_pair)\n",
        "\n",
        "# Print the encoded cipher text\n",
        "print(\"Encoded ciphertext:\")\n",
        "for encoded_pair in encoded_ciphertext:\n",
        "    print(encoded_pair)\n",
        "\n",
        "# Decode back to points\n",
        "decoded_points = []\n",
        "for encoded_pair in encoded_ciphertext:\n",
        "    decoded_pair = (decode_chars_to_point(encoded_pair[0]), decode_chars_to_point(encoded_pair[1]))\n",
        "    decoded_points.append(decoded_pair)\n",
        "\n",
        "# Print the decoded points to verify\n",
        "print(\"\\nDecoded points:\")\n",
        "for point_pair in decoded_points:\n",
        "    print(point_pair)\n"
      ],
      "metadata": {
        "colab": {
          "base_uri": "https://localhost:8080/"
        },
        "id": "BFpWezpxsNQw",
        "outputId": "b1ea70d4-94c6-4bc8-fd97-a94f6c5c55cc"
      },
      "execution_count": 122,
      "outputs": [
        {
          "output_type": "stream",
          "name": "stdout",
          "text": [
            "Encoded ciphertext:\n",
            "('\\'i!!(\"', \"'=!!(#\")\n",
            "('\\'i!!(\"', '(H!!&#')\n",
            "('\\'i!!(\"', \"'h!!&H\")\n",
            "('\\'i!!(\"', '%*!!$O')\n",
            "('\\'i!!(\"', '${!!!F')\n",
            "('\\'i!!(\"', '(j!!&\\\\')\n",
            "('\\'i!!(\"', '#q!!&U')\n",
            "('\\'i!!(\"', \"'b!!&l\")\n",
            "('\\'i!!(\"', \"%z!!''\")\n",
            "('\\'i!!(\"', \"W!!'Y\")\n",
            "\n",
            "Decoded points:\n",
            "((636, 659), (592, 660))\n",
            "((636, 659), (697, 472))\n",
            "((636, 659), (635, 509))\n",
            "((636, 659), (385, 328))\n",
            "((636, 659), (372, 37))\n",
            "((636, 659), (731, 529))\n",
            "((636, 659), (268, 522))\n",
            "((636, 659), (629, 545))\n",
            "((636, 659), (465, 570))\n",
            "((636, 659), (54, 620))\n"
          ]
        }
      ]
    },
    {
      "cell_type": "code",
      "source": [
        "import math\n",
        "\n",
        "# Base 94 encoding uses characters between ASCII 33 ('!') to 126 ('~')\n",
        "BASE = 94\n",
        "OFFSET = 33  # ASCII offset to map numbers to characters (starts from '!')\n",
        "MAX_VALUE = BASE ** 4  # Allow 4-character encoding for larger numbers\n",
        "\n",
        "# Helper function to encode an integer to base 94 string\n",
        "def encode_number(num):\n",
        "    encoded_str = ''\n",
        "    while num > 0:\n",
        "        encoded_str = chr((num % BASE) + OFFSET) + encoded_str\n",
        "        num //= BASE\n",
        "    # Pad with '!' to make it 4 characters long\n",
        "    return encoded_str.rjust(4, '!')\n",
        "\n",
        "# Helper function to decode base 94 string back to an integer\n",
        "def decode_string(encoded_str):\n",
        "    num = 0\n",
        "    for char in encoded_str:\n",
        "        num = num * BASE + (ord(char) - OFFSET)\n",
        "    return num\n",
        "\n",
        "# Function to encode elliptic curve points into characters\n",
        "def encode_point_to_chars(point):\n",
        "    x, y = point\n",
        "    # Combine x and y into a large number by assuming x and y are within a reasonable range\n",
        "    combined_num = x * MAX_VALUE + y\n",
        "    # Encode the combined number into base 94 string\n",
        "    return encode_number(combined_num)\n",
        "\n",
        "# Function to decode characters back into elliptic curve points\n",
        "def decode_chars_to_point(encoded_str):\n",
        "    # Decode the string back into a large number\n",
        "    combined_num = decode_string(encoded_str)\n",
        "    # Extract x and y from the combined number\n",
        "    x = combined_num // MAX_VALUE\n",
        "    y = combined_num % MAX_VALUE\n",
        "    return (x, y)\n",
        "\n",
        "# Test with the given points\n",
        "cipher_points = [((636, 659), (592, 660)), ((636, 659), (697, 472)),\n",
        "                 ((636, 659), (635, 509)), ((636, 659), (385, 328)),\n",
        "                 ((636, 659), (372, 37)), ((636, 659), (731, 529)),\n",
        "                 ((636, 659), (268, 522)), ((636, 659), (629, 545)),\n",
        "                 ((636, 659), (465, 570)), ((636, 659), (54, 620))]\n",
        "\n",
        "# Encode each point pair into a string\n",
        "encoded_ciphertext = []\n",
        "for point_pair in cipher_points:\n",
        "    encoded_pair = (encode_point_to_chars(point_pair[0]), encode_point_to_chars(point_pair[1]))\n",
        "    encoded_ciphertext.append(encoded_pair)\n",
        "\n",
        "# Print the encoded cipher text\n",
        "encoded_pairs = []\n",
        "print(\"Encoded ciphertext:\")\n",
        "for encoded_pair in encoded_ciphertext:\n",
        "    print(encoded_pair)\n",
        "    # Concatenate the tuple into a single string and add to the list\n",
        "    encoded_pairs.append(''.join(encoded_pair))\n",
        "\n",
        "# Join all encoded pairs into a single string\n",
        "encoded_string = ''.join(encoded_pairs)\n",
        "print(f\"\\nEncoded full string: {encoded_string}\")\n",
        "\n",
        "# Decode back to points\n",
        "decoded_points = []\n",
        "for encoded_pair in encoded_ciphertext:\n",
        "    decoded_pair = (decode_chars_to_point(encoded_pair[0]), decode_chars_to_point(encoded_pair[1]))\n",
        "    decoded_points.append(decoded_pair)\n",
        "\n",
        "# Print the decoded points to verify\n",
        "print(\"\\nDecoded points:\")\n",
        "for point_pair in decoded_points:\n",
        "    print(point_pair)\n"
      ],
      "metadata": {
        "colab": {
          "base_uri": "https://localhost:8080/"
        },
        "id": "zc3_bv3dtdd6",
        "outputId": "f8e7b4b7-2dd6-4635-bd03-956f015c4e2b"
      },
      "execution_count": 123,
      "outputs": [
        {
          "output_type": "stream",
          "name": "stdout",
          "text": [
            "Encoded ciphertext:\n",
            "('\\'i!!(\"', \"'=!!(#\")\n",
            "('\\'i!!(\"', '(H!!&#')\n",
            "('\\'i!!(\"', \"'h!!&H\")\n",
            "('\\'i!!(\"', '%*!!$O')\n",
            "('\\'i!!(\"', '${!!!F')\n",
            "('\\'i!!(\"', '(j!!&\\\\')\n",
            "('\\'i!!(\"', '#q!!&U')\n",
            "('\\'i!!(\"', \"'b!!&l\")\n",
            "('\\'i!!(\"', \"%z!!''\")\n",
            "('\\'i!!(\"', \"W!!'Y\")\n",
            "\n",
            "Encoded full string: 'i!!(\"'=!!(#'i!!(\"(H!!&#'i!!(\"'h!!&H'i!!(\"%*!!$O'i!!(\"${!!!F'i!!(\"(j!!&\\'i!!(\"#q!!&U'i!!(\"'b!!&l'i!!(\"%z!!'''i!!(\"W!!'Y\n",
            "\n",
            "Decoded points:\n",
            "((636, 659), (592, 660))\n",
            "((636, 659), (697, 472))\n",
            "((636, 659), (635, 509))\n",
            "((636, 659), (385, 328))\n",
            "((636, 659), (372, 37))\n",
            "((636, 659), (731, 529))\n",
            "((636, 659), (268, 522))\n",
            "((636, 659), (629, 545))\n",
            "((636, 659), (465, 570))\n",
            "((636, 659), (54, 620))\n"
          ]
        }
      ]
    },
    {
      "cell_type": "code",
      "source": [
        "import math\n",
        "\n",
        "# Base 94 encoding uses characters between ASCII 33 ('!') to 126 ('~')\n",
        "BASE = 94\n",
        "OFFSET = 33  # ASCII offset to map numbers to characters (starts from '!')\n",
        "MAX_VALUE = BASE ** 4  # Allow 4-character encoding for larger numbers\n",
        "\n",
        "# Helper function to encode an integer to base 94 string\n",
        "def encode_number(num):\n",
        "    encoded_str = ''\n",
        "    while num > 0:\n",
        "        encoded_str = chr((num % BASE) + OFFSET) + encoded_str\n",
        "        num //= BASE\n",
        "    # Pad with '!' to make it 4 characters long\n",
        "    return encoded_str.rjust(4, '!')\n",
        "\n",
        "# Helper function to decode base 94 string back to an integer\n",
        "def decode_string(encoded_str):\n",
        "    num = 0\n",
        "    for char in encoded_str:\n",
        "        num = num * BASE + (ord(char) - OFFSET)\n",
        "    return num\n",
        "\n",
        "# Function to encode elliptic curve points into characters\n",
        "def encode_point_to_chars(point):\n",
        "    x, y = point\n",
        "    # Combine x and y into a large number by assuming x and y are within a reasonable range\n",
        "    combined_num = x * MAX_VALUE + y\n",
        "    # Encode the combined number into base 94 string\n",
        "    return encode_number(combined_num)\n",
        "\n",
        "# Function to encode elliptic curve points, showing x only once\n",
        "def encode_points_with_unique_x(cipher_points):\n",
        "    last_x_encoded = None\n",
        "    encoded_string = ''\n",
        "\n",
        "    for point_pair in cipher_points:\n",
        "        x_encoded = encode_number(point_pair[0][0])  # Encode the x-coordinate\n",
        "        y1_encoded = encode_number(point_pair[0][1])  # Encode the first y-coordinate\n",
        "        y2_encoded = encode_number(point_pair[1][1])  # Encode the second y-coordinate\n",
        "\n",
        "        # Only append x_encoded if it's different from the last x\n",
        "        if x_encoded != last_x_encoded:\n",
        "            encoded_string += x_encoded + y1_encoded + y2_encoded\n",
        "            last_x_encoded = x_encoded\n",
        "        else:\n",
        "            # Only append the y-values if the x-coordinate is the same\n",
        "            encoded_string += y1_encoded + y2_encoded\n",
        "\n",
        "    return encoded_string\n",
        "\n",
        "# Function to decode characters back into elliptic curve points\n",
        "def decode_chars_to_point(encoded_str):\n",
        "    # Decode the string back into a large number\n",
        "    combined_num = decode_string(encoded_str)\n",
        "    # Extract x and y from the combined number\n",
        "    x = combined_num // MAX_VALUE\n",
        "    y = combined_num % MAX_VALUE\n",
        "    return (x, y)\n",
        "\n",
        "# Test with the given points\n",
        "cipher_points = [((636, 659), (592, 660)), ((636, 659), (697, 472)),\n",
        "                 ((636, 659), (635, 509)), ((636, 659), (385, 328)),\n",
        "                 ((636, 659), (372, 37)), ((636, 659), (731, 529)),\n",
        "                 ((636, 659), (268, 522)), ((636, 659), (629, 545)),\n",
        "                 ((636, 659), (465, 570)), ((636, 659), (54, 620))]\n",
        "\n",
        "# Encode all point pairs, showing the x-value only once\n",
        "encoded_string = encode_points_with_unique_x(cipher_points)\n",
        "\n",
        "# Print the encoded string\n",
        "print(f\"Encoded full string with unique x: {encoded_string}\")\n",
        "\n",
        "# Decoding would require some more handling to extract the x-values back\n",
        "# Let's just print the encoded string for now\n"
      ],
      "metadata": {
        "colab": {
          "base_uri": "https://localhost:8080/"
        },
        "id": "nSDOtaVaswDH",
        "outputId": "ebc16ef5-d223-4bfa-fae1-56509b8ce0df"
      },
      "execution_count": 124,
      "outputs": [
        {
          "output_type": "stream",
          "name": "stdout",
          "text": [
            "Encoded full string with unique x: !!'i!!(\"!!(#!!(\"!!&#!!(\"!!&H!!(\"!!$O!!(\"!!!F!!(\"!!&\\!!(\"!!&U!!(\"!!&l!!(\"!!''!!(\"!!'Y\n"
          ]
        }
      ]
    },
    {
      "cell_type": "code",
      "source": [
        "# Original cipher points\n",
        "cipher_points = [((636, 659), (592, 660)), ((636, 659), (697, 472)),\n",
        "                 ((636, 659), (635, 509)), ((636, 659), (385, 328)),\n",
        "                 ((636, 659), (372, 37)), ((636, 659), (731, 529)),\n",
        "                 ((636, 659), (268, 522)), ((636, 659), (629, 545)),\n",
        "                 ((636, 659), (465, 570)), ((636, 659), (54, 620))]\n",
        "\n",
        "# Create a new list where the x-coordinate appears once, followed by all y-coordinates\n",
        "result = []\n",
        "x_value = cipher_points[0][0][0]  # Take the x-coordinate from the first point\n",
        "result.append((x_value, cipher_points[0][0][1]))  # Append the first (x, y) pair\n",
        "\n",
        "# Now append the rest as (y_x, y_y) without x again\n",
        "for point_pair in cipher_points:\n",
        "    # Append the (x, y) from the first point in the pair\n",
        "    if point_pair[0][0] != x_value:\n",
        "        result.append((point_pair[0][0], point_pair[0][1]))\n",
        "    # Append the (y_x, y_y) from the second point in the pair\n",
        "    result.append((point_pair[1][0], point_pair[1][1]))\n",
        "\n",
        "# Print the transformed result\n",
        "print(result)\n"
      ],
      "metadata": {
        "colab": {
          "base_uri": "https://localhost:8080/"
        },
        "id": "0uHdktppyEim",
        "outputId": "ee56a8fe-9185-4eb5-eaec-0cf932b26402"
      },
      "execution_count": 190,
      "outputs": [
        {
          "output_type": "stream",
          "name": "stdout",
          "text": [
            "[(636, 659), (592, 660), (697, 472), (635, 509), (385, 328), (372, 37), (731, 529), (268, 522), (629, 545), (465, 570), (54, 620)]\n"
          ]
        }
      ]
    },
    {
      "cell_type": "code",
      "source": [
        "point_message = elliptic1.koblitz_decode_message(result)\n",
        "print(point_message)"
      ],
      "metadata": {
        "colab": {
          "base_uri": "https://localhost:8080/"
        },
        "id": "6kLLomQyzcgF",
        "outputId": "c35d205f-144c-49e0-9b1e-d13f133cb8f8"
      },
      "execution_count": 126,
      "outputs": [
        {
          "output_type": "stream",
          "name": "stdout",
          "text": [
            "[15, 14, 16, 15, 9, 9, 17, 6, 15, 11, 1]\n"
          ]
        }
      ]
    },
    {
      "cell_type": "code",
      "source": [
        "message_point = elliptic1.koblitz_encode_message(point_message)\n",
        "print(message_point)"
      ],
      "metadata": {
        "colab": {
          "base_uri": "https://localhost:8080/"
        },
        "id": "aG9hmFHqzehs",
        "outputId": "f349eae5-f42e-4db7-b01f-e80600c24f47"
      },
      "execution_count": 127,
      "outputs": [
        {
          "output_type": "stream",
          "name": "stdout",
          "text": [
            "[(617, 149), (575, 329), (657, 156), (617, 149), (370, 11), (370, 11), (701, 203), (248, 236), (617, 149), (452, 278), (43, 322)]\n"
          ]
        }
      ]
    },
    {
      "cell_type": "code",
      "source": [
        "import struct\n",
        "\n",
        "# List of elliptic curve points (original data)\n",
        "points = [((636, 659), (592, 660)), ((636, 659), (697, 472)),\n",
        "                 ((636, 659), (635, 509)), ((636, 659), (385, 328)),\n",
        "                 ((636, 659), (372, 37)), ((636, 659), (731, 529)),\n",
        "                 ((636, 659), (268, 522)), ((636, 659), (629, 545)),\n",
        "                 ((636, 659), (465, 570)), ((636, 659), (54, 620))]\n",
        "\n",
        "# Function to convert point into bytes\n",
        "def points_to_bytes(points):\n",
        "    byte_data = b''  # Initialize an empty byte string\n",
        "    for point in points:\n",
        "        for coord_pair in point:\n",
        "            # Pack each coordinate (x, y) as unsigned 16-bit integers (adjust as needed)\n",
        "            byte_data += struct.pack('>HH', coord_pair[0], coord_pair[1])\n",
        "    return byte_data\n",
        "\n",
        "# Function to decode bytes back into points\n",
        "def bytes_to_points(byte_data):\n",
        "    points = []\n",
        "    # Calculate the number of points in the byte data\n",
        "    num_coords = len(byte_data) // 4  # Each (x, y) pair is 4 bytes (2 * 16-bit)\n",
        "    for i in range(0, num_coords, 2):  # Process each pair of coordinates\n",
        "        # Unpack two (x, y) pairs from 4 bytes at a time\n",
        "        x1, y1 = struct.unpack('>HH', byte_data[i * 4:(i * 4) + 4])\n",
        "        x2, y2 = struct.unpack('>HH', byte_data[(i * 4) + 4:(i * 4) + 8])\n",
        "        points.append(((x1, y1), (x2, y2)))\n",
        "    return points\n",
        "\n",
        "# Convert points to bytes\n",
        "byte_data = points_to_bytes(points)\n",
        "\n",
        "# Print the resulting bytes\n",
        "print(f\"Encoded bytes: {byte_data}\")\n",
        "\n",
        "# Now decode the bytes back into points\n",
        "decoded_points = bytes_to_points(byte_data)\n",
        "\n",
        "# Print the decoded points\n",
        "print(f\"Decoded points: {decoded_points}\")\n"
      ],
      "metadata": {
        "colab": {
          "base_uri": "https://localhost:8080/"
        },
        "id": "aE5SK5Xw2CIh",
        "outputId": "e14f56e7-3591-4106-ecb5-fcc74c687a52"
      },
      "execution_count": 193,
      "outputs": [
        {
          "output_type": "stream",
          "name": "stdout",
          "text": [
            "Encoded bytes: b'\\x02|\\x02\\x93\\x02P\\x02\\x94\\x02|\\x02\\x93\\x02\\xb9\\x01\\xd8\\x02|\\x02\\x93\\x02{\\x01\\xfd\\x02|\\x02\\x93\\x01\\x81\\x01H\\x02|\\x02\\x93\\x01t\\x00%\\x02|\\x02\\x93\\x02\\xdb\\x02\\x11\\x02|\\x02\\x93\\x01\\x0c\\x02\\n\\x02|\\x02\\x93\\x02u\\x02!\\x02|\\x02\\x93\\x01\\xd1\\x02:\\x02|\\x02\\x93\\x006\\x02l'\n",
            "Decoded points: [((636, 659), (592, 660)), ((636, 659), (697, 472)), ((636, 659), (635, 509)), ((636, 659), (385, 328)), ((636, 659), (372, 37)), ((636, 659), (731, 529)), ((636, 659), (268, 522)), ((636, 659), (629, 545)), ((636, 659), (465, 570)), ((636, 659), (54, 620))]\n"
          ]
        }
      ]
    }
  ]
}