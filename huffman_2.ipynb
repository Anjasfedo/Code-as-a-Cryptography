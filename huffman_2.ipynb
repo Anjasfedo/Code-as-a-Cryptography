{
  "nbformat": 4,
  "nbformat_minor": 0,
  "metadata": {
    "colab": {
      "provenance": [],
      "authorship_tag": "ABX9TyPeeKQNY7xVFzQw+ZS0ijG6",
      "include_colab_link": true
    },
    "kernelspec": {
      "name": "python3",
      "display_name": "Python 3"
    },
    "language_info": {
      "name": "python"
    }
  },
  "cells": [
    {
      "cell_type": "markdown",
      "metadata": {
        "id": "view-in-github",
        "colab_type": "text"
      },
      "source": [
        "<a href=\"https://colab.research.google.com/github/Anjasfedo/Code-as-a-Cryptography/blob/main/huffman_2.ipynb\" target=\"_parent\"><img src=\"https://colab.research.google.com/assets/colab-badge.svg\" alt=\"Open In Colab\"/></a>"
      ]
    },
    {
      "cell_type": "code",
      "execution_count": 7,
      "metadata": {
        "colab": {
          "base_uri": "https://localhost:8080/"
        },
        "id": "RX1xFmzXRlKL",
        "outputId": "71a6f387-a57f-4ab8-f1df-47d78d141c3c"
      },
      "outputs": [
        {
          "output_type": "stream",
          "name": "stdout",
          "text": [
            "fatal: destination path '.' already exists and is not an empty directory.\n"
          ]
        }
      ],
      "source": [
        "!git clone https://github.com/w-henderson/Huffpy.git"
      ]
    },
    {
      "cell_type": "code",
      "source": [
        "!python Huffpy/setup.py install"
      ],
      "metadata": {
        "colab": {
          "base_uri": "https://localhost:8080/"
        },
        "id": "D5fUed0GR0bd",
        "outputId": "a2ff71ac-e503-4423-aa18-bcfdae9819a5"
      },
      "execution_count": 8,
      "outputs": [
        {
          "output_type": "stream",
          "name": "stdout",
          "text": [
            "Traceback (most recent call last):\n",
            "  File \"/content/Huffpy/setup.py\", line 3, in <module>\n",
            "    with open(\"README.md\", \"r\") as fh:\n",
            "FileNotFoundError: [Errno 2] No such file or directory: 'README.md'\n"
          ]
        }
      ]
    },
    {
      "cell_type": "code",
      "source": [
        "import Huffpy.huffpy as huffpy\n",
        "\n",
        "coder = huffpy.HuffmanCoder()\n",
        "stringToEncode = \"Hello from Huffpy!\" * 8\n",
        "\n",
        "huffmanString, tree = coder.encode(stringToEncode)\n",
        "huffmanBytes = coder.toBytes(huffmanString, tree)\n",
        "\n",
        "decodedHuffmanString, decodedTree = coder.fromBytes(huffmanBytes)\n",
        "decodedString = coder.decode(decodedHuffmanString, decodedTree)\n",
        "\n",
        "stringToEncode == decodedString"
      ],
      "metadata": {
        "colab": {
          "base_uri": "https://localhost:8080/"
        },
        "id": "W_Yq9wneR6U1",
        "outputId": "b65fe8fd-1cf8-445e-ea01-f2a5745ac387"
      },
      "execution_count": 31,
      "outputs": [
        {
          "output_type": "execute_result",
          "data": {
            "text/plain": [
              "True"
            ]
          },
          "metadata": {},
          "execution_count": 31
        }
      ]
    },
    {
      "cell_type": "code",
      "source": [
        "stringToEncode"
      ],
      "metadata": {
        "colab": {
          "base_uri": "https://localhost:8080/",
          "height": 53
        },
        "id": "Oc1BzoHrSS7g",
        "outputId": "9a093b42-7ac1-498a-b4e3-a93cf4afd55f"
      },
      "execution_count": 32,
      "outputs": [
        {
          "output_type": "execute_result",
          "data": {
            "text/plain": [
              "'Hello from Huffpy!Hello from Huffpy!Hello from Huffpy!Hello from Huffpy!Hello from Huffpy!Hello from Huffpy!Hello from Huffpy!Hello from Huffpy!'"
            ],
            "application/vnd.google.colaboratory.intrinsic+json": {
              "type": "string"
            }
          },
          "metadata": {},
          "execution_count": 32
        }
      ]
    },
    {
      "cell_type": "code",
      "source": [
        "decodedString"
      ],
      "metadata": {
        "colab": {
          "base_uri": "https://localhost:8080/",
          "height": 53
        },
        "id": "ATsZOi6PSUYj",
        "outputId": "d2ce1864-e4eb-4ff1-b32f-8b836176dae6"
      },
      "execution_count": 33,
      "outputs": [
        {
          "output_type": "execute_result",
          "data": {
            "text/plain": [
              "'Hello from Huffpy!Hello from Huffpy!Hello from Huffpy!Hello from Huffpy!Hello from Huffpy!Hello from Huffpy!Hello from Huffpy!Hello from Huffpy!'"
            ],
            "application/vnd.google.colaboratory.intrinsic+json": {
              "type": "string"
            }
          },
          "metadata": {},
          "execution_count": 33
        }
      ]
    },
    {
      "cell_type": "code",
      "source": [
        "huffmanBytes"
      ],
      "metadata": {
        "colab": {
          "base_uri": "https://localhost:8080/"
        },
        "id": "sSe5zN9kSWk6",
        "outputId": "a937b52c-7388-482d-d8f7-bdc181e2ed24"
      },
      "execution_count": 34,
      "outputs": [
        {
          "output_type": "execute_result",
          "data": {
            "text/plain": [
              "bytearray(b'\\x00\\x00\\x01\\xf8[[[\"f\",[[\"r\",\"m\"],\"e\"]],[[\"y\",\"!\"],[\"u\",\"p\"]]],[[\"o\",\" \"],[\"H\",\"l\"]]]\\xc7\\xfc\\xa0\\x90\\xb70\\x0e\\x8b\\x8f\\xf9A!n`\\x1d\\x17\\x1f\\xf2\\x82B\\xdc\\xc0:.?\\xe5\\x04\\x85\\xb9\\x80t\\\\\\x7f\\xca\\t\\x0bs\\x00\\xe8\\xb8\\xff\\x94\\x12\\x16\\xe6\\x01\\xd1q\\xff($-\\xcc\\x03\\xa2\\xe3\\xfePH[\\x98\\x07E')"
            ]
          },
          "metadata": {},
          "execution_count": 34
        }
      ]
    },
    {
      "cell_type": "code",
      "source": [
        "huffmanString"
      ],
      "metadata": {
        "colab": {
          "base_uri": "https://localhost:8080/",
          "height": 105
        },
        "id": "7mb1qeBUSjwX",
        "outputId": "5a246cc6-b98e-42c0-e58d-7c22e8a72f78"
      },
      "execution_count": 35,
      "outputs": [
        {
          "output_type": "execute_result",
          "data": {
            "text/plain": [
              "'110001111111110010100000100100001011011100110000000011101000101110001111111110010100000100100001011011100110000000011101000101110001111111110010100000100100001011011100110000000011101000101110001111111110010100000100100001011011100110000000011101000101110001111111110010100000100100001011011100110000000011101000101110001111111110010100000100100001011011100110000000011101000101110001111111110010100000100100001011011100110000000011101000101110001111111110010100000100100001011011100110000000011101000101'"
            ],
            "application/vnd.google.colaboratory.intrinsic+json": {
              "type": "string"
            }
          },
          "metadata": {},
          "execution_count": 35
        }
      ]
    },
    {
      "cell_type": "code",
      "source": [
        "print(f\"Panjang stringToEncode: {len(stringToEncode)}\")\n",
        "print(f\"Panjang huffmanString: {len(huffmanString)}\")\n",
        "print(f\"Panjang huffmanBytes: {len(huffmanBytes)}\")\n",
        "print(f\"Panjang decodedHuffmanString: {len(decodedHuffmanString)}\")\n",
        "print(f\"Panjang decodedString: {len(decodedString)}\")"
      ],
      "metadata": {
        "colab": {
          "base_uri": "https://localhost:8080/"
        },
        "id": "AGpxwJeiSosf",
        "outputId": "dadc74b1-d48b-42e6-c1ea-aac71086702a"
      },
      "execution_count": 36,
      "outputs": [
        {
          "output_type": "stream",
          "name": "stdout",
          "text": [
            "Panjang stringToEncode: 144\n",
            "Panjang huffmanString: 504\n",
            "Panjang huffmanBytes: 136\n",
            "Panjang decodedHuffmanString: 504\n",
            "Panjang decodedString: 144\n"
          ]
        }
      ]
    },
    {
      "cell_type": "code",
      "source": [
        "def string_to_binary(input_string):\n",
        "    return ''.join(format(ord(char), '08b') for char in input_string)\n",
        "\n",
        "# Ubah string menjadi biner\n",
        "binary_representation = string_to_binary(stringToEncode)\n",
        "binary_representation"
      ],
      "metadata": {
        "colab": {
          "base_uri": "https://localhost:8080/",
          "height": 174
        },
        "id": "cY7idLArULT8",
        "outputId": "972c5cd0-0c40-48f5-b562-355f01d9d759"
      },
      "execution_count": 37,
      "outputs": [
        {
          "output_type": "execute_result",
          "data": {
            "text/plain": [
              "'010010000110010101101100011011000110111100100000011001100111001001101111011011010010000001001000011101010110011001100110011100000111100100100001010010000110010101101100011011000110111100100000011001100111001001101111011011010010000001001000011101010110011001100110011100000111100100100001010010000110010101101100011011000110111100100000011001100111001001101111011011010010000001001000011101010110011001100110011100000111100100100001010010000110010101101100011011000110111100100000011001100111001001101111011011010010000001001000011101010110011001100110011100000111100100100001010010000110010101101100011011000110111100100000011001100111001001101111011011010010000001001000011101010110011001100110011100000111100100100001010010000110010101101100011011000110111100100000011001100111001001101111011011010010000001001000011101010110011001100110011100000111100100100001010010000110010101101100011011000110111100100000011001100111001001101111011011010010000001001000011101010110011001100110011100000111100100100001010010000110010101101100011011000110111100100000011001100111001001101111011011010010000001001000011101010110011001100110011100000111100100100001'"
            ],
            "application/vnd.google.colaboratory.intrinsic+json": {
              "type": "string"
            }
          },
          "metadata": {},
          "execution_count": 37
        }
      ]
    },
    {
      "cell_type": "code",
      "source": [
        "def binary_to_string(binary_input):\n",
        "    # Setiap 8 bit mewakili satu karakter, jadi kita membagi input biner menjadi blok 8 bit\n",
        "    chars = [binary_input[i:i+8] for i in range(0, len(binary_input), 8)]\n",
        "    return ''.join([chr(int(char, 2)) for char in chars])\n",
        "\n",
        "# Ubah representasi biner kembali menjadi string\n",
        "decoded_string = binary_to_string(binary_representation)\n",
        "decoded_string"
      ],
      "metadata": {
        "colab": {
          "base_uri": "https://localhost:8080/",
          "height": 53
        },
        "id": "qbnww6xIUMuC",
        "outputId": "b462b345-3f54-4ca7-acbe-ed9876aeb453"
      },
      "execution_count": 38,
      "outputs": [
        {
          "output_type": "execute_result",
          "data": {
            "text/plain": [
              "'Hello from Huffpy!Hello from Huffpy!Hello from Huffpy!Hello from Huffpy!Hello from Huffpy!Hello from Huffpy!Hello from Huffpy!Hello from Huffpy!'"
            ],
            "application/vnd.google.colaboratory.intrinsic+json": {
              "type": "string"
            }
          },
          "metadata": {},
          "execution_count": 38
        }
      ]
    },
    {
      "cell_type": "code",
      "source": [
        "len(decoded_string)"
      ],
      "metadata": {
        "colab": {
          "base_uri": "https://localhost:8080/"
        },
        "id": "8visDY68Uknl",
        "outputId": "0ffbc162-ae3d-402c-e1f8-be81ceb00f36"
      },
      "execution_count": 39,
      "outputs": [
        {
          "output_type": "execute_result",
          "data": {
            "text/plain": [
              "144"
            ]
          },
          "metadata": {},
          "execution_count": 39
        }
      ]
    },
    {
      "cell_type": "code",
      "source": [
        "decoded_string = binary_to_string(huffmanString)\n",
        "decoded_string"
      ],
      "metadata": {
        "colab": {
          "base_uri": "https://localhost:8080/",
          "height": 53
        },
        "id": "zXR-qjo1Ud41",
        "outputId": "77fc854b-0cc0-43f8-9403-120c845c4ee3"
      },
      "execution_count": 40,
      "outputs": [
        {
          "output_type": "execute_result",
          "data": {
            "text/plain": [
              "'Çü\\xa0\\x90·0\\x0e\\x8b\\x8fùA!n`\\x1d\\x17\\x1fò\\x82BÜÀ:.?å\\x04\\x85¹\\x80t\\\\\\x7fÊ\\t\\x0bs\\x00è¸ÿ\\x94\\x12\\x16æ\\x01Ñqÿ($-Ì\\x03¢ãþPH[\\x98\\x07E'"
            ],
            "application/vnd.google.colaboratory.intrinsic+json": {
              "type": "string"
            }
          },
          "metadata": {},
          "execution_count": 40
        }
      ]
    },
    {
      "cell_type": "code",
      "source": [
        "len(decoded_string)"
      ],
      "metadata": {
        "colab": {
          "base_uri": "https://localhost:8080/"
        },
        "id": "9r8-RuU2UiCa",
        "outputId": "d6dfb229-138c-4f93-a9a8-0ca8ce3a77e1"
      },
      "execution_count": 41,
      "outputs": [
        {
          "output_type": "execute_result",
          "data": {
            "text/plain": [
              "63"
            ]
          },
          "metadata": {},
          "execution_count": 41
        }
      ]
    }
  ]
}