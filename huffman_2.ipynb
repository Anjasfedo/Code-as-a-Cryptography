{
  "nbformat": 4,
  "nbformat_minor": 0,
  "metadata": {
    "colab": {
      "provenance": [],
      "authorship_tag": "ABX9TyM5jAPDfiDL7ItUvPkX5yXx",
      "include_colab_link": true
    },
    "kernelspec": {
      "name": "python3",
      "display_name": "Python 3"
    },
    "language_info": {
      "name": "python"
    }
  },
  "cells": [
    {
      "cell_type": "markdown",
      "metadata": {
        "id": "view-in-github",
        "colab_type": "text"
      },
      "source": [
        "<a href=\"https://colab.research.google.com/github/Anjasfedo/Code-as-a-Cryptography/blob/main/huffman_2.ipynb\" target=\"_parent\"><img src=\"https://colab.research.google.com/assets/colab-badge.svg\" alt=\"Open In Colab\"/></a>"
      ]
    },
    {
      "cell_type": "code",
      "execution_count": 1,
      "metadata": {
        "colab": {
          "base_uri": "https://localhost:8080/"
        },
        "id": "RX1xFmzXRlKL",
        "outputId": "46780210-3487-4152-87ec-c5293ebe2eb7"
      },
      "outputs": [
        {
          "output_type": "stream",
          "name": "stdout",
          "text": [
            "Cloning into 'Huffpy'...\n",
            "remote: Enumerating objects: 40, done.\u001b[K\n",
            "remote: Counting objects: 100% (40/40), done.\u001b[K\n",
            "remote: Compressing objects: 100% (24/24), done.\u001b[K\n",
            "remote: Total 40 (delta 10), reused 40 (delta 10), pack-reused 0 (from 0)\u001b[K\n",
            "Receiving objects: 100% (40/40), 602.50 KiB | 17.72 MiB/s, done.\n",
            "Resolving deltas: 100% (10/10), done.\n"
          ]
        }
      ],
      "source": [
        "!git clone https://github.com/w-henderson/Huffpy.git"
      ]
    },
    {
      "cell_type": "code",
      "source": [
        "!python Huffpy/setup.py install"
      ],
      "metadata": {
        "colab": {
          "base_uri": "https://localhost:8080/"
        },
        "id": "D5fUed0GR0bd",
        "outputId": "a41e8666-5686-4f5a-8abd-36f1f6aaaa5d"
      },
      "execution_count": 2,
      "outputs": [
        {
          "output_type": "stream",
          "name": "stdout",
          "text": [
            "Traceback (most recent call last):\n",
            "  File \"/content/Huffpy/setup.py\", line 3, in <module>\n",
            "    with open(\"README.md\", \"r\") as fh:\n",
            "FileNotFoundError: [Errno 2] No such file or directory: 'README.md'\n"
          ]
        }
      ]
    },
    {
      "cell_type": "code",
      "source": [
        "import Huffpy.huffpy as huffpy\n",
        "\n",
        "coder = huffpy.HuffmanCoder()\n",
        "stringToEncode = \"Hello from Huffpy!\" * 8\n",
        "\n",
        "huffmanString, tree = coder.encode(stringToEncode)\n",
        "huffmanBytes = coder.toBytes(huffmanString, tree)\n",
        "\n",
        "decodedHuffmanString, decodedTree = coder.fromBytes(huffmanBytes)\n",
        "decodedString = coder.decode(decodedHuffmanString, decodedTree)\n",
        "\n",
        "stringToEncode == decodedString"
      ],
      "metadata": {
        "colab": {
          "base_uri": "https://localhost:8080/"
        },
        "id": "W_Yq9wneR6U1",
        "outputId": "e9927585-42cf-4d5f-94ab-8260f5c74ccd"
      },
      "execution_count": 3,
      "outputs": [
        {
          "output_type": "execute_result",
          "data": {
            "text/plain": [
              "True"
            ]
          },
          "metadata": {},
          "execution_count": 3
        }
      ]
    },
    {
      "cell_type": "code",
      "source": [
        "decodedHuffmanString"
      ],
      "metadata": {
        "id": "o6kd-j9_Ecqu",
        "outputId": "76b75bc2-cf97-47f0-b327-ba29b4878b5f",
        "colab": {
          "base_uri": "https://localhost:8080/",
          "height": 87
        }
      },
      "execution_count": 4,
      "outputs": [
        {
          "output_type": "execute_result",
          "data": {
            "text/plain": [
              "'110001111111110010100000100100001011011100110000000011101000101110001111111110010100000100100001011011100110000000011101000101110001111111110010100000100100001011011100110000000011101000101110001111111110010100000100100001011011100110000000011101000101110001111111110010100000100100001011011100110000000011101000101110001111111110010100000100100001011011100110000000011101000101110001111111110010100000100100001011011100110000000011101000101110001111111110010100000100100001011011100110000000011101000101'"
            ],
            "application/vnd.google.colaboratory.intrinsic+json": {
              "type": "string"
            }
          },
          "metadata": {},
          "execution_count": 4
        }
      ]
    },
    {
      "cell_type": "code",
      "source": [
        "stringToEncode"
      ],
      "metadata": {
        "colab": {
          "base_uri": "https://localhost:8080/",
          "height": 35
        },
        "id": "Oc1BzoHrSS7g",
        "outputId": "52cea4c5-d615-4a0a-ccd2-1bb72228fdf9"
      },
      "execution_count": 5,
      "outputs": [
        {
          "output_type": "execute_result",
          "data": {
            "text/plain": [
              "'Hello from Huffpy!Hello from Huffpy!Hello from Huffpy!Hello from Huffpy!Hello from Huffpy!Hello from Huffpy!Hello from Huffpy!Hello from Huffpy!'"
            ],
            "application/vnd.google.colaboratory.intrinsic+json": {
              "type": "string"
            }
          },
          "metadata": {},
          "execution_count": 5
        }
      ]
    },
    {
      "cell_type": "code",
      "source": [
        "decodedString"
      ],
      "metadata": {
        "colab": {
          "base_uri": "https://localhost:8080/",
          "height": 35
        },
        "id": "ATsZOi6PSUYj",
        "outputId": "bd0ecf3e-b2e0-4c47-82f6-b901a7ed8712"
      },
      "execution_count": 6,
      "outputs": [
        {
          "output_type": "execute_result",
          "data": {
            "text/plain": [
              "'Hello from Huffpy!Hello from Huffpy!Hello from Huffpy!Hello from Huffpy!Hello from Huffpy!Hello from Huffpy!Hello from Huffpy!Hello from Huffpy!'"
            ],
            "application/vnd.google.colaboratory.intrinsic+json": {
              "type": "string"
            }
          },
          "metadata": {},
          "execution_count": 6
        }
      ]
    },
    {
      "cell_type": "code",
      "source": [
        "huffmanBytes"
      ],
      "metadata": {
        "colab": {
          "base_uri": "https://localhost:8080/"
        },
        "id": "sSe5zN9kSWk6",
        "outputId": "d0a17e58-6adc-4f66-8965-db2f985c9a3e"
      },
      "execution_count": 7,
      "outputs": [
        {
          "output_type": "execute_result",
          "data": {
            "text/plain": [
              "bytearray(b'\\x00\\x00\\x01\\xf8[[[\"f\",[[\"r\",\"m\"],\"e\"]],[[\"y\",\"!\"],[\"u\",\"p\"]]],[[\"o\",\" \"],[\"H\",\"l\"]]]\\xc7\\xfc\\xa0\\x90\\xb70\\x0e\\x8b\\x8f\\xf9A!n`\\x1d\\x17\\x1f\\xf2\\x82B\\xdc\\xc0:.?\\xe5\\x04\\x85\\xb9\\x80t\\\\\\x7f\\xca\\t\\x0bs\\x00\\xe8\\xb8\\xff\\x94\\x12\\x16\\xe6\\x01\\xd1q\\xff($-\\xcc\\x03\\xa2\\xe3\\xfePH[\\x98\\x07E')"
            ]
          },
          "metadata": {},
          "execution_count": 7
        }
      ]
    },
    {
      "cell_type": "code",
      "source": [
        "huffmanString"
      ],
      "metadata": {
        "colab": {
          "base_uri": "https://localhost:8080/",
          "height": 87
        },
        "id": "7mb1qeBUSjwX",
        "outputId": "80a4e2cd-087d-44d7-863e-3383437f4b3c"
      },
      "execution_count": 8,
      "outputs": [
        {
          "output_type": "execute_result",
          "data": {
            "text/plain": [
              "'110001111111110010100000100100001011011100110000000011101000101110001111111110010100000100100001011011100110000000011101000101110001111111110010100000100100001011011100110000000011101000101110001111111110010100000100100001011011100110000000011101000101110001111111110010100000100100001011011100110000000011101000101110001111111110010100000100100001011011100110000000011101000101110001111111110010100000100100001011011100110000000011101000101110001111111110010100000100100001011011100110000000011101000101'"
            ],
            "application/vnd.google.colaboratory.intrinsic+json": {
              "type": "string"
            }
          },
          "metadata": {},
          "execution_count": 8
        }
      ]
    },
    {
      "cell_type": "code",
      "source": [
        "print(f\"Panjang stringToEncode: {len(stringToEncode)}\")\n",
        "print(f\"Panjang huffmanString: {len(huffmanString)}\")\n",
        "print(f\"Panjang huffmanBytes: {len(huffmanBytes)}\")\n",
        "print(f\"Panjang decodedHuffmanString: {len(decodedHuffmanString)}\")\n",
        "print(f\"Panjang decodedString: {len(decodedString)}\")"
      ],
      "metadata": {
        "colab": {
          "base_uri": "https://localhost:8080/"
        },
        "id": "AGpxwJeiSosf",
        "outputId": "f6ff3041-a512-4d8e-c75c-956e1d71c88d"
      },
      "execution_count": 9,
      "outputs": [
        {
          "output_type": "stream",
          "name": "stdout",
          "text": [
            "Panjang stringToEncode: 144\n",
            "Panjang huffmanString: 504\n",
            "Panjang huffmanBytes: 136\n",
            "Panjang decodedHuffmanString: 504\n",
            "Panjang decodedString: 144\n"
          ]
        }
      ]
    },
    {
      "cell_type": "code",
      "source": [
        "huffmanString"
      ],
      "metadata": {
        "colab": {
          "base_uri": "https://localhost:8080/",
          "height": 87
        },
        "id": "abhaMQcfFEwn",
        "outputId": "18636ec7-dfac-49f2-9158-c7907fb8e0e6"
      },
      "execution_count": 15,
      "outputs": [
        {
          "output_type": "execute_result",
          "data": {
            "text/plain": [
              "'110001111111110010100000100100001011011100110000000011101000101110001111111110010100000100100001011011100110000000011101000101110001111111110010100000100100001011011100110000000011101000101110001111111110010100000100100001011011100110000000011101000101110001111111110010100000100100001011011100110000000011101000101110001111111110010100000100100001011011100110000000011101000101110001111111110010100000100100001011011100110000000011101000101110001111111110010100000100100001011011100110000000011101000101'"
            ],
            "application/vnd.google.colaboratory.intrinsic+json": {
              "type": "string"
            }
          },
          "metadata": {},
          "execution_count": 15
        }
      ]
    },
    {
      "cell_type": "code",
      "source": [
        "# Function to convert binary string to text (ASCII)\n",
        "def binary_to_ascii(binary_str):\n",
        "    # Ensure the binary string is divisible by 8\n",
        "    if len(binary_str) % 8 != 0:\n",
        "        raise ValueError(\"The binary string length is not divisible by 8.\")\n",
        "\n",
        "    # Convert binary values to ASCII text\n",
        "    binary_values = [binary_str[i:i+8] for i in range(0, len(binary_str), 8)]\n",
        "    ascii_characters = [chr(int(bv, 2)) for bv in binary_values]\n",
        "\n",
        "    return ''.join(ascii_characters)\n",
        "\n",
        "# Function to convert ASCII text back to binary string\n",
        "def ascii_to_binary(text):\n",
        "    return ''.join(format(ord(char), '08b') for char in text)\n",
        "\n",
        "# Your binary string (reduced length for demonstration)\n",
        "binary_string = \"1100011111111100101000001001000010110111001100000000111010001011\"\n",
        "\n",
        "# Convert binary to ASCII text\n",
        "ascii_message = binary_to_ascii(binary_string)\n",
        "\n",
        "# Convert the ASCII message back to binary\n",
        "binary_back = ascii_to_binary(ascii_message)\n",
        "\n",
        "ascii_message, binary_back  # Display the ASCII message and binary string"
      ],
      "metadata": {
        "colab": {
          "base_uri": "https://localhost:8080/"
        },
        "id": "ktQ6jyvHF3gr",
        "outputId": "0f90a8e5-3b1b-4a67-f330-2df0804782b7"
      },
      "execution_count": 20,
      "outputs": [
        {
          "output_type": "execute_result",
          "data": {
            "text/plain": [
              "('Çü\\xa0\\x90·0\\x0e\\x8b',\n",
              " '1100011111111100101000001001000010110111001100000000111010001011')"
            ]
          },
          "metadata": {},
          "execution_count": 20
        }
      ]
    },
    {
      "cell_type": "code",
      "source": [
        "binary_back == binary_string  # Verify that the conversion is correct"
      ],
      "metadata": {
        "colab": {
          "base_uri": "https://localhost:8080/"
        },
        "id": "5H-9Dq5dGZAO",
        "outputId": "560963f3-f85d-4bdd-a2db-e741704d1095"
      },
      "execution_count": 21,
      "outputs": [
        {
          "output_type": "execute_result",
          "data": {
            "text/plain": [
              "True"
            ]
          },
          "metadata": {},
          "execution_count": 21
        }
      ]
    }
  ]
}