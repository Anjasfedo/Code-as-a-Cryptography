{
  "nbformat": 4,
  "nbformat_minor": 0,
  "metadata": {
    "colab": {
      "provenance": [],
      "authorship_tag": "ABX9TyMqVICEw0IA+FMH1kahUQnA",
      "include_colab_link": true
    },
    "kernelspec": {
      "name": "python3",
      "display_name": "Python 3"
    },
    "language_info": {
      "name": "python"
    }
  },
  "cells": [
    {
      "cell_type": "markdown",
      "metadata": {
        "id": "view-in-github",
        "colab_type": "text"
      },
      "source": [
        "<a href=\"https://colab.research.google.com/github/Anjasfedo/Code-as-a-Cryptography/blob/main/lsb.ipynb\" target=\"_parent\"><img src=\"https://colab.research.google.com/assets/colab-badge.svg\" alt=\"Open In Colab\"/></a>"
      ]
    },
    {
      "cell_type": "code",
      "execution_count": 76,
      "metadata": {
        "colab": {
          "base_uri": "https://localhost:8080/"
        },
        "id": "cq8Gq00phztP",
        "outputId": "2f68d368-4994-4b9c-ff40-a0ccf6d107f2"
      },
      "outputs": [
        {
          "output_type": "stream",
          "name": "stdout",
          "text": [
            "The Least Significant Bit of 10 is: 0\n"
          ]
        }
      ],
      "source": [
        "# Function to get the least significant bit of a number\n",
        "def get_lsb(num):\n",
        "    # The least significant bit can be obtained using bitwise AND with 1\n",
        "    return num & 1\n",
        "\n",
        "# Example usage\n",
        "number = 10  # Binary: 1010\n",
        "lsb = get_lsb(number)\n",
        "\n",
        "print(f\"The Least Significant Bit of {number} is: {lsb}\")\n"
      ]
    },
    {
      "cell_type": "code",
      "source": [
        "# Function to convert an integer to binary\n",
        "def int_to_bin(num):\n",
        "    return bin(num)[2:]  # [2:] removes the '0b' prefix\n",
        "\n",
        "# Function to convert a binary string to an integer\n",
        "def bin_to_int(binary_str):\n",
        "    return int(binary_str, 2)\n",
        "\n",
        "# Example usage\n",
        "number = 10\n",
        "binary_str = int_to_bin(number)\n",
        "converted_number = bin_to_int(binary_str)\n",
        "\n",
        "print(f\"Integer: {number}\")\n",
        "print(f\"Binary representation: {binary_str}\")\n",
        "print(f\"Converted back to integer: {converted_number}\")"
      ],
      "metadata": {
        "colab": {
          "base_uri": "https://localhost:8080/"
        },
        "id": "iBTLqolth1O4",
        "outputId": "9d00d0dd-972e-4edf-af15-253b76683040"
      },
      "execution_count": 77,
      "outputs": [
        {
          "output_type": "stream",
          "name": "stdout",
          "text": [
            "Integer: 10\n",
            "Binary representation: 1010\n",
            "Converted back to integer: 10\n"
          ]
        }
      ]
    },
    {
      "cell_type": "code",
      "source": [
        "binary_str = int_to_bin(number)\n",
        "binary_str"
      ],
      "metadata": {
        "colab": {
          "base_uri": "https://localhost:8080/",
          "height": 35
        },
        "id": "vHqMc4HXiFMT",
        "outputId": "4498aca3-8f96-4811-c769-6b6c0255e69b"
      },
      "execution_count": 78,
      "outputs": [
        {
          "output_type": "execute_result",
          "data": {
            "text/plain": [
              "'1010'"
            ],
            "application/vnd.google.colaboratory.intrinsic+json": {
              "type": "string"
            }
          },
          "metadata": {},
          "execution_count": 78
        }
      ]
    },
    {
      "cell_type": "code",
      "source": [
        "# Function to convert an integer to binary\n",
        "def int_to_bin(num):\n",
        "    return bin(num)[2:]  # [2:] removes the '0b' prefix\n",
        "\n",
        "# Function to convert a binary string to an integer\n",
        "def bin_to_int(binary_str):\n",
        "    return int(binary_str, 2)\n",
        "\n",
        "# Function to change a binary value at a specific position (0-based indexing)\n",
        "def change_binary_value(binary_str, position, new_value):\n",
        "    # Ensure position is valid\n",
        "    if position < 0 or position >= len(binary_str):\n",
        "        raise ValueError(\"Position out of range\")\n",
        "\n",
        "    # Convert the string into a list to modify it\n",
        "    binary_list = list(binary_str)\n",
        "    binary_list[position] = new_value  # Change the bit at the specified position\n",
        "\n",
        "    # Join the list back into a string and return it\n",
        "    return ''.join(binary_list)\n",
        "\n",
        "# Example usage\n",
        "number = 10\n",
        "binary_str = int_to_bin(number)\n",
        "print(f\"Original Binary: {binary_str}\")\n",
        "\n",
        "# Let's change the least significant bit (position 3 in '1010' -> to '1')\n",
        "changed_binary = change_binary_value(binary_str, 3, '1')\n",
        "\n",
        "print(f\"Changed Binary: {changed_binary}\")\n",
        "\n",
        "# Convert the modified binary string back to an integer\n",
        "changed_number = bin_to_int(changed_binary)\n",
        "\n",
        "print(f\"Changed Integer: {changed_number}\")\n"
      ],
      "metadata": {
        "colab": {
          "base_uri": "https://localhost:8080/"
        },
        "id": "aKJDnlxWiOT8",
        "outputId": "36355eab-c21a-4c78-cbfc-cbda5e7595a0"
      },
      "execution_count": 79,
      "outputs": [
        {
          "output_type": "stream",
          "name": "stdout",
          "text": [
            "Original Binary: 1010\n",
            "Changed Binary: 1011\n",
            "Changed Integer: 11\n"
          ]
        }
      ]
    },
    {
      "cell_type": "code",
      "source": [
        "# Function to convert an integer to binary\n",
        "def int_to_bin(num):\n",
        "    return bin(num)[2:]  # [2:] removes the '0b' prefix\n",
        "\n",
        "# Function to convert a binary string to an integer\n",
        "def bin_to_int(binary_str):\n",
        "    return int(binary_str, 2)\n",
        "\n",
        "# Function to change the least significant bit (LSB)\n",
        "def change_lsb(binary_str, new_value):\n",
        "    # Ensure new_value is either '0' or '1'\n",
        "    if new_value not in ('0', '1'):\n",
        "        raise ValueError(\"LSB can only be '0' or '1'\")\n",
        "\n",
        "    # Replace the last character (LSB) with the new_value\n",
        "    return binary_str[:-1] + new_value\n",
        "\n",
        "# Example usage\n",
        "number = 10\n",
        "binary_str = int_to_bin(number)\n",
        "print(f\"Original Binary: {binary_str}\")\n",
        "\n",
        "# Change the LSB to '1'\n",
        "changed_binary = change_lsb(binary_str, '1')\n",
        "\n",
        "print(f\"Changed Binary: {changed_binary}\")\n",
        "\n",
        "# Convert the modified binary string back to an integer\n",
        "changed_number = bin_to_int(changed_binary)\n",
        "\n",
        "print(f\"Changed Integer: {changed_number}\")\n"
      ],
      "metadata": {
        "colab": {
          "base_uri": "https://localhost:8080/"
        },
        "id": "55nIuLr6i2fC",
        "outputId": "22e539fd-ed96-4d0d-bc9a-4e23e9d4bbf1"
      },
      "execution_count": 80,
      "outputs": [
        {
          "output_type": "stream",
          "name": "stdout",
          "text": [
            "Original Binary: 1010\n",
            "Changed Binary: 1011\n",
            "Changed Integer: 11\n"
          ]
        }
      ]
    },
    {
      "cell_type": "markdown",
      "source": [
        "# Image"
      ],
      "metadata": {
        "id": "uR5u9kPwjHAN"
      }
    },
    {
      "cell_type": "code",
      "source": [
        "from PIL import Image\n",
        "\n",
        "# Create a simple 3x3 image with random RGB values\n",
        "image = Image.new('RGB', (3, 3), \"white\")  # Create a white 3x3 image\n",
        "\n",
        "# Define RGB values for each pixel (3x3 grid)\n",
        "pixels = [\n",
        "    (255, 0, 0), (0, 255, 0), (0, 0, 255),   # Red, Green, Blue\n",
        "    (255, 255, 0), (0, 255, 255), (255, 0, 255), # Yellow, Cyan, Magenta\n",
        "    (0, 0, 0), (128, 128, 128), (255, 255, 255) # Black, Gray, White\n",
        "]\n",
        "\n",
        "# Update the image with these pixel values\n",
        "image.putdata(pixels)\n",
        "\n",
        "# Save the image\n",
        "image_path = \"/content/3x3_image_example.png\"\n",
        "image.save(image_path)\n",
        "\n",
        "# Provide the path for download\n",
        "image_path"
      ],
      "metadata": {
        "colab": {
          "base_uri": "https://localhost:8080/",
          "height": 35
        },
        "id": "hIXhMw0ajTk2",
        "outputId": "a6311897-bfe5-4b82-b396-2ba8ef9f60fa"
      },
      "execution_count": 81,
      "outputs": [
        {
          "output_type": "execute_result",
          "data": {
            "text/plain": [
              "'/content/3x3_image_example.png'"
            ],
            "application/vnd.google.colaboratory.intrinsic+json": {
              "type": "string"
            }
          },
          "metadata": {},
          "execution_count": 81
        }
      ]
    },
    {
      "cell_type": "code",
      "source": [
        "# Display the previously created 3x3 image\n",
        "import matplotlib.pyplot as plt\n",
        "\n",
        "# Display the image using matplotlib\n",
        "plt.imshow(image)\n",
        "plt.axis('off')  # Hide axis for better visibility\n",
        "plt.show()\n"
      ],
      "metadata": {
        "colab": {
          "base_uri": "https://localhost:8080/",
          "height": 406
        },
        "id": "Bf0xXSZPje5I",
        "outputId": "23a175ac-77dd-4a39-b8a2-dd4715796ce6"
      },
      "execution_count": 82,
      "outputs": [
        {
          "output_type": "display_data",
          "data": {
            "text/plain": [
              "<Figure size 640x480 with 1 Axes>"
            ],
            "image/png": "[encoded data removed]"
          },
          "metadata": {}
        }
      ]
    },
    {
      "cell_type": "code",
      "source": [
        "from PIL import Image\n",
        "\n",
        "# Load the image\n",
        "image = Image.open(image_path)\n",
        "\n",
        "# Convert the image to RGB (in case it's not in RGB mode)\n",
        "image = image.convert(\"RGB\")\n",
        "\n",
        "# Get the size of the image\n",
        "width, height = image.size\n",
        "\n",
        "# Access the RGB values\n",
        "for x in range(width):\n",
        "    for y in range(height):\n",
        "        r, g, b = image.getpixel((x, y))  # Get RGB value of each pixel\n",
        "        print(f\"Pixel at ({x}, {y}): Red={r}, Green={g}, Blue={b}\")\n"
      ],
      "metadata": {
        "colab": {
          "base_uri": "https://localhost:8080/"
        },
        "id": "54RZg-UBjIAt",
        "outputId": "e8a64c77-75eb-4135-b978-53a1b1562c25"
      },
      "execution_count": 83,
      "outputs": [
        {
          "output_type": "stream",
          "name": "stdout",
          "text": [
            "Pixel at (0, 0): Red=255, Green=0, Blue=0\n",
            "Pixel at (0, 1): Red=255, Green=255, Blue=0\n",
            "Pixel at (0, 2): Red=0, Green=0, Blue=0\n",
            "Pixel at (1, 0): Red=0, Green=255, Blue=0\n",
            "Pixel at (1, 1): Red=0, Green=255, Blue=255\n",
            "Pixel at (1, 2): Red=128, Green=128, Blue=128\n",
            "Pixel at (2, 0): Red=0, Green=0, Blue=255\n",
            "Pixel at (2, 1): Red=255, Green=0, Blue=255\n",
            "Pixel at (2, 2): Red=255, Green=255, Blue=255\n"
          ]
        }
      ]
    },
    {
      "cell_type": "code",
      "source": [
        "\n",
        "\n",
        "# Convert the RGB values of each pixel to binary representation\n",
        "for x in range(width):\n",
        "    for y in range(height):\n",
        "        r, g, b = image.getpixel((x, y))  # Get RGB value of each pixel\n",
        "        r_bin = format(r, '08b')  # Convert red to 8-bit binary\n",
        "        g_bin = format(g, '08b')  # Convert green to 8-bit binary\n",
        "        b_bin = format(b, '08b')  # Convert blue to 8-bit binary\n",
        "        print(f\"Pixel at ({x}, {y}): Red={r_bin}, Green={g_bin}, Blue={b_bin}\")\n"
      ],
      "metadata": {
        "colab": {
          "base_uri": "https://localhost:8080/"
        },
        "id": "yJjZtfYkkORO",
        "outputId": "b6ce6efa-aec8-45e8-d6ca-c6e4619093d9"
      },
      "execution_count": 84,
      "outputs": [
        {
          "output_type": "stream",
          "name": "stdout",
          "text": [
            "Pixel at (0, 0): Red=11111111, Green=00000000, Blue=00000000\n",
            "Pixel at (0, 1): Red=11111111, Green=11111111, Blue=00000000\n",
            "Pixel at (0, 2): Red=00000000, Green=00000000, Blue=00000000\n",
            "Pixel at (1, 0): Red=00000000, Green=11111111, Blue=00000000\n",
            "Pixel at (1, 1): Red=00000000, Green=11111111, Blue=11111111\n",
            "Pixel at (1, 2): Red=10000000, Green=10000000, Blue=10000000\n",
            "Pixel at (2, 0): Red=00000000, Green=00000000, Blue=11111111\n",
            "Pixel at (2, 1): Red=11111111, Green=00000000, Blue=11111111\n",
            "Pixel at (2, 2): Red=11111111, Green=11111111, Blue=11111111\n"
          ]
        }
      ]
    },
    {
      "cell_type": "code",
      "source": [
        "# Function to change the least significant bit (LSB) of a binary string\n",
        "def change_lsb(binary_str, new_value):\n",
        "    # Ensure new_value is either '0' or '1'\n",
        "    if new_value not in ('0', '1'):\n",
        "        raise ValueError(\"LSB can only be '0' or '1'\")\n",
        "\n",
        "    # Replace the last character (LSB) with the new_value\n",
        "    return binary_str[:-1] + new_value\n",
        "\n",
        "# Function to change LSB of each RGB component for all pixels and save the new image\n",
        "def change_image_lsb(image):\n",
        "    width, height = image.size\n",
        "    new_pixels = []\n",
        "\n",
        "    for x in range(width):\n",
        "        for y in range(height):\n",
        "            r, g, b = image.getpixel((x, y))  # Get the RGB values\n",
        "\n",
        "            # Convert each to binary, modify the LSB of each, and convert back to integer\n",
        "            r_bin = format(r, '08b')\n",
        "            g_bin = format(g, '08b')\n",
        "            b_bin = format(b, '08b')\n",
        "\n",
        "            # Change the LSB of each channel to '1'\n",
        "            r_changed = int(change_lsb(r_bin, '1'), 2)\n",
        "            g_changed = int(change_lsb(g_bin, '1'), 2)\n",
        "            b_changed = int(change_lsb(b_bin, '1'), 2)\n",
        "\n",
        "            # Append the modified pixel to the new pixel list\n",
        "            new_pixels.append((r_changed, g_changed, b_changed))\n",
        "\n",
        "    # Create a new image with modified pixels\n",
        "    new_image = Image.new('RGB', (width, height))\n",
        "    new_image.putdata(new_pixels)\n",
        "\n",
        "    # Save the new image\n",
        "    new_image_path = \"/content/3x3_image_modified_lsb.png\"\n",
        "    new_image.save(new_image_path)\n",
        "\n",
        "    return new_image_path\n",
        "\n",
        "# Apply the LSB change and save the new image\n",
        "new_image_path = change_image_lsb(image)\n",
        "new_image_path\n"
      ],
      "metadata": {
        "colab": {
          "base_uri": "https://localhost:8080/",
          "height": 35
        },
        "id": "OIDun9M9kktB",
        "outputId": "a83fd243-b454-447c-df9b-48b4804e841a"
      },
      "execution_count": 85,
      "outputs": [
        {
          "output_type": "execute_result",
          "data": {
            "text/plain": [
              "'/content/3x3_image_modified_lsb.png'"
            ],
            "application/vnd.google.colaboratory.intrinsic+json": {
              "type": "string"
            }
          },
          "metadata": {},
          "execution_count": 85
        }
      ]
    },
    {
      "cell_type": "code",
      "source": [
        "from PIL import Image\n",
        "\n",
        "# Load the image\n",
        "image2 = Image.open(new_image_path)\n",
        "\n",
        "# Convert the image to RGB (in case it's not in RGB mode)\n",
        "image2 = image2.convert(\"RGB\")\n",
        "\n",
        "# Get the size of the image2\n",
        "width, height = image2.size\n",
        "\n",
        "# Access the RGB values\n",
        "for x in range(width):\n",
        "    for y in range(height):\n",
        "        r, g, b = image2.getpixel((x, y))  # Get RGB value of each pixel\n",
        "        print(f\"Pixel at ({x}, {y}): Red={r}, Green={g}, Blue={b}\")\n"
      ],
      "metadata": {
        "colab": {
          "base_uri": "https://localhost:8080/"
        },
        "id": "BcyV_CGXkqMk",
        "outputId": "afddfad0-4a82-45bd-abf7-5a615fcfac49"
      },
      "execution_count": 86,
      "outputs": [
        {
          "output_type": "stream",
          "name": "stdout",
          "text": [
            "Pixel at (0, 0): Red=255, Green=1, Blue=1\n",
            "Pixel at (0, 1): Red=1, Green=255, Blue=1\n",
            "Pixel at (0, 2): Red=1, Green=1, Blue=255\n",
            "Pixel at (1, 0): Red=255, Green=255, Blue=1\n",
            "Pixel at (1, 1): Red=1, Green=255, Blue=255\n",
            "Pixel at (1, 2): Red=255, Green=1, Blue=255\n",
            "Pixel at (2, 0): Red=1, Green=1, Blue=1\n",
            "Pixel at (2, 1): Red=129, Green=129, Blue=129\n",
            "Pixel at (2, 2): Red=255, Green=255, Blue=255\n"
          ]
        }
      ]
    },
    {
      "cell_type": "code",
      "source": [
        "\n",
        "\n",
        "# Convert the RGB values of each pixel to binary representation\n",
        "for x in range(width):\n",
        "    for y in range(height):\n",
        "        r, g, b = image2.getpixel((x, y))  # Get RGB value of each pixel\n",
        "        r_bin = format(r, '08b')  # Convert red to 8-bit binary\n",
        "        g_bin = format(g, '08b')  # Convert green to 8-bit binary\n",
        "        b_bin = format(b, '08b')  # Convert blue to 8-bit binary\n",
        "        print(f\"Pixel at ({x}, {y}): Red={r_bin}, Green={g_bin}, Blue={b_bin}\")\n"
      ],
      "metadata": {
        "colab": {
          "base_uri": "https://localhost:8080/"
        },
        "id": "MvvG-tW6ku40",
        "outputId": "1834f97e-6e83-48a4-dd15-e1697ee94ae0"
      },
      "execution_count": 87,
      "outputs": [
        {
          "output_type": "stream",
          "name": "stdout",
          "text": [
            "Pixel at (0, 0): Red=11111111, Green=00000001, Blue=00000001\n",
            "Pixel at (0, 1): Red=00000001, Green=11111111, Blue=00000001\n",
            "Pixel at (0, 2): Red=00000001, Green=00000001, Blue=11111111\n",
            "Pixel at (1, 0): Red=11111111, Green=11111111, Blue=00000001\n",
            "Pixel at (1, 1): Red=00000001, Green=11111111, Blue=11111111\n",
            "Pixel at (1, 2): Red=11111111, Green=00000001, Blue=11111111\n",
            "Pixel at (2, 0): Red=00000001, Green=00000001, Blue=00000001\n",
            "Pixel at (2, 1): Red=10000001, Green=10000001, Blue=10000001\n",
            "Pixel at (2, 2): Red=11111111, Green=11111111, Blue=11111111\n"
          ]
        }
      ]
    },
    {
      "cell_type": "code",
      "source": [
        "# Display the image using matplotlib\n",
        "plt.imshow(image2)\n",
        "plt.axis('off')  # Hide axis for better visibility\n",
        "plt.show()\n"
      ],
      "metadata": {
        "colab": {
          "base_uri": "https://localhost:8080/",
          "height": 406
        },
        "id": "3ZiK6ns2kxUN",
        "outputId": "7bcb3238-1012-44a5-eed4-f0201797a1ae"
      },
      "execution_count": 88,
      "outputs": [
        {
          "output_type": "display_data",
          "data": {
            "text/plain": [
              "<Figure size 640x480 with 1 Axes>"
            ],
            "image/png": "[encoded data removed]"
          },
          "metadata": {}
        }
      ]
    },
    {
      "cell_type": "code",
      "source": [
        "# Function to change the least significant bit (LSB) of a binary string to '1'\n",
        "def change_lsb_to_one(binary_str):\n",
        "    return binary_str[:-1] + '1'\n",
        "\n",
        "# Function to change only the LSB of each RGB component for all pixels\n",
        "def change_image_lsb_only(image):\n",
        "    width, height = image.size\n",
        "    new_pixels = []\n",
        "\n",
        "    for x in range(width):\n",
        "        for y in range(height):\n",
        "            r, g, b = image.getpixel((x, y))  # Get the RGB values\n",
        "\n",
        "            # Convert each to binary, modify the LSB of each, and convert back to integer\n",
        "            r_bin = format(r, '08b')\n",
        "            g_bin = format(g, '08b')\n",
        "            b_bin = format(b, '08b')\n",
        "\n",
        "            # Change only the LSB of each channel to '1'\n",
        "            r_changed = int(change_lsb_to_one(r_bin), 2)\n",
        "            g_changed = int(change_lsb_to_one(g_bin), 2)\n",
        "            b_changed = int(change_lsb_to_one(b_bin), 2)\n",
        "\n",
        "            # Append the modified pixel to the new pixel list\n",
        "            new_pixels.append((r_changed, g_changed, b_changed))\n",
        "\n",
        "    # Create a new image with modified pixels\n",
        "    new_image = Image.new('RGB', (width, height))\n",
        "    new_image.putdata(new_pixels)\n",
        "\n",
        "    # Save the new image\n",
        "    new_image_path = \"/content/3x3_image_modified_lsb_only_2.png\"\n",
        "    new_image.save(new_image_path)\n",
        "\n",
        "    return new_image_path\n",
        "\n",
        "# Apply the LSB change and save the new image\n",
        "new_image_lsb_only_path = change_image_lsb_only(image)\n",
        "new_image_lsb_only_path\n"
      ],
      "metadata": {
        "colab": {
          "base_uri": "https://localhost:8080/",
          "height": 35
        },
        "id": "EBGA-TtWlhb1",
        "outputId": "1571fb8b-fefb-44df-e5de-88a8862d5949"
      },
      "execution_count": 89,
      "outputs": [
        {
          "output_type": "execute_result",
          "data": {
            "text/plain": [
              "'/content/3x3_image_modified_lsb_only_2.png'"
            ],
            "application/vnd.google.colaboratory.intrinsic+json": {
              "type": "string"
            }
          },
          "metadata": {},
          "execution_count": 89
        }
      ]
    },
    {
      "cell_type": "code",
      "source": [
        "from PIL import Image\n",
        "\n",
        "# Load the image\n",
        "image3 = Image.open(new_image_lsb_only_path)\n",
        "\n",
        "# Convert the image to RGB (in case it's not in RGB mode)\n",
        "image3 = image3.convert(\"RGB\")\n",
        "\n",
        "# Get the size of the image3\n",
        "width, height = image3.size\n",
        "\n",
        "# Access the RGB values\n",
        "for x in range(width):\n",
        "    for y in range(height):\n",
        "        r, g, b = image3.getpixel((x, y))  # Get RGB value of each pixel\n",
        "        print(f\"Pixel at ({x}, {y}): Red={r}, Green={g}, Blue={b}\")\n"
      ],
      "metadata": {
        "colab": {
          "base_uri": "https://localhost:8080/"
        },
        "id": "u_pubSuBlmxk",
        "outputId": "9078a894-c15c-45fc-c76d-d3d0091287f7"
      },
      "execution_count": 90,
      "outputs": [
        {
          "output_type": "stream",
          "name": "stdout",
          "text": [
            "Pixel at (0, 0): Red=255, Green=1, Blue=1\n",
            "Pixel at (0, 1): Red=1, Green=255, Blue=1\n",
            "Pixel at (0, 2): Red=1, Green=1, Blue=255\n",
            "Pixel at (1, 0): Red=255, Green=255, Blue=1\n",
            "Pixel at (1, 1): Red=1, Green=255, Blue=255\n",
            "Pixel at (1, 2): Red=255, Green=1, Blue=255\n",
            "Pixel at (2, 0): Red=1, Green=1, Blue=1\n",
            "Pixel at (2, 1): Red=129, Green=129, Blue=129\n",
            "Pixel at (2, 2): Red=255, Green=255, Blue=255\n"
          ]
        }
      ]
    },
    {
      "cell_type": "code",
      "source": [
        "# Reload the image and repeat the process to convert RGB values to binary format\n",
        "width, height = image.size\n",
        "\n",
        "# Convert the RGB values of each pixel to binary representation\n",
        "for x in range(width):\n",
        "    for y in range(height):\n",
        "        r, g, b = image3.getpixel((x, y))  # Get RGB value of each pixel\n",
        "        r_bin = format(r, '08b')  # Convert red to 8-bit binary\n",
        "        g_bin = format(g, '08b')  # Convert green to 8-bit binary\n",
        "        b_bin = format(b, '08b')  # Convert blue to 8-bit binary\n",
        "        print(f\"Pixel at ({x}, {y}): Red={r_bin}, Green={g_bin}, Blue={b_bin}\")\n"
      ],
      "metadata": {
        "colab": {
          "base_uri": "https://localhost:8080/"
        },
        "id": "93EHDCybloNb",
        "outputId": "727b4b3f-0633-47b6-9526-5076fe8fff7c"
      },
      "execution_count": 91,
      "outputs": [
        {
          "output_type": "stream",
          "name": "stdout",
          "text": [
            "Pixel at (0, 0): Red=11111111, Green=00000001, Blue=00000001\n",
            "Pixel at (0, 1): Red=00000001, Green=11111111, Blue=00000001\n",
            "Pixel at (0, 2): Red=00000001, Green=00000001, Blue=11111111\n",
            "Pixel at (1, 0): Red=11111111, Green=11111111, Blue=00000001\n",
            "Pixel at (1, 1): Red=00000001, Green=11111111, Blue=11111111\n",
            "Pixel at (1, 2): Red=11111111, Green=00000001, Blue=11111111\n",
            "Pixel at (2, 0): Red=00000001, Green=00000001, Blue=00000001\n",
            "Pixel at (2, 1): Red=10000001, Green=10000001, Blue=10000001\n",
            "Pixel at (2, 2): Red=11111111, Green=11111111, Blue=11111111\n"
          ]
        }
      ]
    },
    {
      "cell_type": "code",
      "source": [
        "# Display the image using matplotlib\n",
        "plt.imshow(image3)\n",
        "plt.axis('off')  # Hide axis for better visibility\n",
        "plt.show()\n"
      ],
      "metadata": {
        "colab": {
          "base_uri": "https://localhost:8080/",
          "height": 406
        },
        "id": "VF_OiwuMlp_l",
        "outputId": "916a9e1c-febf-4b81-c5c6-21046512cde0"
      },
      "execution_count": 92,
      "outputs": [
        {
          "output_type": "display_data",
          "data": {
            "text/plain": [
              "<Figure size 640x480 with 1 Axes>"
            ],
            "image/png": "[encoded data removed]"
          },
          "metadata": {}
        }
      ]
    },
    {
      "cell_type": "code",
      "source": [
        "from PIL import Image\n",
        "\n",
        "# Function to change the least significant bit (LSB) of a binary string to '1'\n",
        "def change_lsb_to_one(binary_str):\n",
        "    return binary_str[:-1] + '1'\n",
        "\n",
        "# Function to change only the LSB of each RGB component for all pixels\n",
        "def change_image_lsb_only(image):\n",
        "    width, height = image.size\n",
        "    new_pixels = []\n",
        "\n",
        "    for x in range(width):\n",
        "        for y in range(height):\n",
        "            r, g, b = image.getpixel((x, y))  # Get the RGB values\n",
        "\n",
        "            # Convert each to binary, modify the LSB of each, and convert back to integer\n",
        "            r_bin = format(r, '08b')\n",
        "            g_bin = format(g, '08b')\n",
        "            b_bin = format(b, '08b')\n",
        "\n",
        "            # Change only the LSB of each channel to '1'\n",
        "            r_changed = int(change_lsb_to_one(r_bin), 2)\n",
        "            g_changed = int(change_lsb_to_one(g_bin), 2)\n",
        "            b_changed = int(change_lsb_to_one(b_bin), 2)\n",
        "\n",
        "            # Append the modified pixel to the new pixel list\n",
        "            new_pixels.append((r_changed, g_changed, b_changed))\n",
        "\n",
        "    # Create a new image with modified pixels\n",
        "    new_image = Image.new('RGB', (width, height))\n",
        "    new_image.putdata(new_pixels)\n",
        "\n",
        "    # Save the new image\n",
        "    new_image_path = \"/content/3x3_image_modified_lsb_only_4.png\"\n",
        "    new_image.save(new_image_path)\n",
        "\n",
        "    return new_image_path\n",
        "\n",
        "\n",
        "# Apply the LSB change and save the new image\n",
        "new_image_lsb_only_path = change_image_lsb_only(image)\n",
        "\n",
        "# Output the new image path\n",
        "new_image_lsb_only_path\n"
      ],
      "metadata": {
        "colab": {
          "base_uri": "https://localhost:8080/",
          "height": 35
        },
        "id": "rCC3YL4enewB",
        "outputId": "7ad4d1cc-216e-45fb-efa6-5e4da353d418"
      },
      "execution_count": 95,
      "outputs": [
        {
          "output_type": "execute_result",
          "data": {
            "text/plain": [
              "'/content/3x3_image_modified_lsb_only_4.png'"
            ],
            "application/vnd.google.colaboratory.intrinsic+json": {
              "type": "string"
            }
          },
          "metadata": {},
          "execution_count": 95
        }
      ]
    },
    {
      "cell_type": "code",
      "source": [
        "from PIL import Image\n",
        "\n",
        "# Load the image\n",
        "image4 = Image.open(new_image_lsb_only_path)\n",
        "\n",
        "# Convert the image to RGB (in case it's not in RGB mode)\n",
        "image4 = image4.convert(\"RGB\")\n",
        "\n",
        "# Get the size of the image4\n",
        "width, height = image4.size\n",
        "\n",
        "# Access the RGB values\n",
        "for x in range(width):\n",
        "    for y in range(height):\n",
        "        r, g, b = image4.getpixel((x, y))  # Get RGB value of each pixel\n",
        "        print(f\"Pixel at ({x}, {y}): Red={r}, Green={g}, Blue={b}\")\n"
      ],
      "metadata": {
        "colab": {
          "base_uri": "https://localhost:8080/"
        },
        "id": "OlnkZ2oqnohI",
        "outputId": "5fdce0a6-12f3-4fcb-be09-527256975b92"
      },
      "execution_count": 96,
      "outputs": [
        {
          "output_type": "stream",
          "name": "stdout",
          "text": [
            "Pixel at (0, 0): Red=255, Green=1, Blue=1\n",
            "Pixel at (0, 1): Red=1, Green=255, Blue=1\n",
            "Pixel at (0, 2): Red=1, Green=1, Blue=255\n",
            "Pixel at (1, 0): Red=255, Green=255, Blue=1\n",
            "Pixel at (1, 1): Red=1, Green=255, Blue=255\n",
            "Pixel at (1, 2): Red=255, Green=1, Blue=255\n",
            "Pixel at (2, 0): Red=1, Green=1, Blue=1\n",
            "Pixel at (2, 1): Red=129, Green=129, Blue=129\n",
            "Pixel at (2, 2): Red=255, Green=255, Blue=255\n"
          ]
        }
      ]
    },
    {
      "cell_type": "code",
      "source": [
        "# Reload the image and repeat the process to convert RGB values to binary format\n",
        "width, height = image.size\n",
        "\n",
        "# Convert the RGB values of each pixel to binary representation\n",
        "for x in range(width):\n",
        "    for y in range(height):\n",
        "        r, g, b = image4.getpixel((x, y))  # Get RGB value of each pixel\n",
        "        r_bin = format(r, '08b')  # Convert red to 8-bit binary\n",
        "        g_bin = format(g, '08b')  # Convert green to 8-bit binary\n",
        "        b_bin = format(b, '08b')  # Convert blue to 8-bit binary\n",
        "        print(f\"Pixel at ({x}, {y}): Red={r_bin}, Green={g_bin}, Blue={b_bin}\")\n"
      ],
      "metadata": {
        "colab": {
          "base_uri": "https://localhost:8080/"
        },
        "id": "rTRnkFY_nsUE",
        "outputId": "0bdaad85-cfc3-4144-c2f0-f4f730689127"
      },
      "execution_count": 97,
      "outputs": [
        {
          "output_type": "stream",
          "name": "stdout",
          "text": [
            "Pixel at (0, 0): Red=11111111, Green=00000001, Blue=00000001\n",
            "Pixel at (0, 1): Red=00000001, Green=11111111, Blue=00000001\n",
            "Pixel at (0, 2): Red=00000001, Green=00000001, Blue=11111111\n",
            "Pixel at (1, 0): Red=11111111, Green=11111111, Blue=00000001\n",
            "Pixel at (1, 1): Red=00000001, Green=11111111, Blue=11111111\n",
            "Pixel at (1, 2): Red=11111111, Green=00000001, Blue=11111111\n",
            "Pixel at (2, 0): Red=00000001, Green=00000001, Blue=00000001\n",
            "Pixel at (2, 1): Red=10000001, Green=10000001, Blue=10000001\n",
            "Pixel at (2, 2): Red=11111111, Green=11111111, Blue=11111111\n"
          ]
        }
      ]
    },
    {
      "cell_type": "code",
      "source": [
        "import matplotlib.pyplot as plt\n",
        "from PIL import Image\n",
        "\n",
        "# Function to display one or more images\n",
        "def show_images(images):\n",
        "    # Check if a single image is provided (not a list)\n",
        "    if not isinstance(images, list):\n",
        "        images = [images]  # Convert to a list with one image\n",
        "\n",
        "    # Create subplots to display each image\n",
        "    fig, axes = plt.subplots(1, len(images), figsize=(5 * len(images), 5))\n",
        "\n",
        "    # If there's only one image, axes will not be iterable, so we wrap it in a list\n",
        "    if len(images) == 1:\n",
        "        axes = [axes]\n",
        "\n",
        "    # Loop over the images and axes to display each image\n",
        "    for img, ax in zip(images, axes):\n",
        "        ax.imshow(img)\n",
        "        ax.axis('off')  # Hide axis for better visibility\n",
        "\n",
        "    plt.show()\n",
        "\n",
        "\n",
        "# Call the function to display multiple images\n",
        "show_images([image, image2, image3, image4])\n"
      ],
      "metadata": {
        "colab": {
          "base_uri": "https://localhost:8080/",
          "height": 297
        },
        "id": "MD3UDLb7l2Yv",
        "outputId": "9cc248a2-3d7b-4868-8428-470ec8375183"
      },
      "execution_count": 99,
      "outputs": [
        {
          "output_type": "display_data",
          "data": {
            "text/plain": [
              "<Figure size 2000x500 with 4 Axes>"
            ],
            "image/png": "[encoded data removed]"
          },
          "metadata": {}
        }
      ]
    }
  ]
}