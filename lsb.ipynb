{
  "nbformat": 4,
  "nbformat_minor": 0,
  "metadata": {
    "colab": {
      "provenance": [],
      "authorship_tag": "ABX9TyOWrNzQsg+uZSFIH/bZEWhV",
      "include_colab_link": true
    },
    "kernelspec": {
      "name": "python3",
      "display_name": "Python 3"
    },
    "language_info": {
      "name": "python"
    }
  },
  "cells": [
    {
      "cell_type": "markdown",
      "metadata": {
        "id": "view-in-github",
        "colab_type": "text"
      },
      "source": [
        "<a href=\"https://colab.research.google.com/github/Anjasfedo/Code-as-a-Cryptography/blob/main/lsb.ipynb\" target=\"_parent\"><img src=\"https://colab.research.google.com/assets/colab-badge.svg\" alt=\"Open In Colab\"/></a>"
      ]
    },
    {
      "cell_type": "code",
      "execution_count": 1,
      "metadata": {
        "colab": {
          "base_uri": "https://localhost:8080/"
        },
        "id": "cq8Gq00phztP",
        "outputId": "e8e77ed7-d763-4591-c9b1-119708a2051c"
      },
      "outputs": [
        {
          "output_type": "stream",
          "name": "stdout",
          "text": [
            "The Least Significant Bit of 10 is: 0\n"
          ]
        }
      ],
      "source": [
        "# Function to get the least significant bit of a number\n",
        "def get_lsb(num):\n",
        "    # The least significant bit can be obtained using bitwise AND with 1\n",
        "    return num & 1\n",
        "\n",
        "# Example usage\n",
        "number = 10  # Binary: 1010\n",
        "lsb = get_lsb(number)\n",
        "\n",
        "print(f\"The Least Significant Bit of {number} is: {lsb}\")\n"
      ]
    },
    {
      "cell_type": "code",
      "source": [
        "# Function to convert an integer to binary\n",
        "def int_to_bin(num):\n",
        "    return bin(num)[2:]  # [2:] removes the '0b' prefix\n",
        "\n",
        "# Function to convert a binary string to an integer\n",
        "def bin_to_int(binary_str):\n",
        "    return int(binary_str, 2)\n",
        "\n",
        "# Example usage\n",
        "number = 10\n",
        "binary_str = int_to_bin(number)\n",
        "converted_number = bin_to_int(binary_str)\n",
        "\n",
        "print(f\"Integer: {number}\")\n",
        "print(f\"Binary representation: {binary_str}\")\n",
        "print(f\"Converted back to integer: {converted_number}\")"
      ],
      "metadata": {
        "colab": {
          "base_uri": "https://localhost:8080/"
        },
        "id": "iBTLqolth1O4",
        "outputId": "b4697d56-df8a-413e-e539-4dabc33f35ea"
      },
      "execution_count": 2,
      "outputs": [
        {
          "output_type": "stream",
          "name": "stdout",
          "text": [
            "Integer: 10\n",
            "Binary representation: 1010\n",
            "Converted back to integer: 10\n"
          ]
        }
      ]
    },
    {
      "cell_type": "code",
      "source": [
        "binary_str = int_to_bin(number)\n",
        "binary_str"
      ],
      "metadata": {
        "colab": {
          "base_uri": "https://localhost:8080/",
          "height": 35
        },
        "id": "vHqMc4HXiFMT",
        "outputId": "4925928a-ed29-4329-b8b7-bbaeffc07c71"
      },
      "execution_count": 4,
      "outputs": [
        {
          "output_type": "execute_result",
          "data": {
            "text/plain": [
              "'1010'"
            ],
            "application/vnd.google.colaboratory.intrinsic+json": {
              "type": "string"
            }
          },
          "metadata": {},
          "execution_count": 4
        }
      ]
    },
    {
      "cell_type": "code",
      "source": [
        "# Function to convert an integer to binary\n",
        "def int_to_bin(num):\n",
        "    return bin(num)[2:]  # [2:] removes the '0b' prefix\n",
        "\n",
        "# Function to convert a binary string to an integer\n",
        "def bin_to_int(binary_str):\n",
        "    return int(binary_str, 2)\n",
        "\n",
        "# Function to change a binary value at a specific position (0-based indexing)\n",
        "def change_binary_value(binary_str, position, new_value):\n",
        "    # Ensure position is valid\n",
        "    if position < 0 or position >= len(binary_str):\n",
        "        raise ValueError(\"Position out of range\")\n",
        "\n",
        "    # Convert the string into a list to modify it\n",
        "    binary_list = list(binary_str)\n",
        "    binary_list[position] = new_value  # Change the bit at the specified position\n",
        "\n",
        "    # Join the list back into a string and return it\n",
        "    return ''.join(binary_list)\n",
        "\n",
        "# Example usage\n",
        "number = 10\n",
        "binary_str = int_to_bin(number)\n",
        "print(f\"Original Binary: {binary_str}\")\n",
        "\n",
        "# Let's change the least significant bit (position 3 in '1010' -> to '1')\n",
        "changed_binary = change_binary_value(binary_str, 3, '1')\n",
        "\n",
        "print(f\"Changed Binary: {changed_binary}\")\n",
        "\n",
        "# Convert the modified binary string back to an integer\n",
        "changed_number = bin_to_int(changed_binary)\n",
        "\n",
        "print(f\"Changed Integer: {changed_number}\")\n"
      ],
      "metadata": {
        "colab": {
          "base_uri": "https://localhost:8080/"
        },
        "id": "aKJDnlxWiOT8",
        "outputId": "830d90f9-7cdb-46e2-82ea-530ea90cd312"
      },
      "execution_count": 14,
      "outputs": [
        {
          "output_type": "stream",
          "name": "stdout",
          "text": [
            "Original Binary: 1010\n",
            "Changed Binary: 1011\n",
            "Changed Integer: 11\n"
          ]
        }
      ]
    },
    {
      "cell_type": "code",
      "source": [
        "# Function to convert an integer to binary\n",
        "def int_to_bin(num):\n",
        "    return bin(num)[2:]  # [2:] removes the '0b' prefix\n",
        "\n",
        "# Function to convert a binary string to an integer\n",
        "def bin_to_int(binary_str):\n",
        "    return int(binary_str, 2)\n",
        "\n",
        "# Function to change the least significant bit (LSB)\n",
        "def change_lsb(binary_str, new_value):\n",
        "    # Ensure new_value is either '0' or '1'\n",
        "    if new_value not in ('0', '1'):\n",
        "        raise ValueError(\"LSB can only be '0' or '1'\")\n",
        "\n",
        "    # Replace the last character (LSB) with the new_value\n",
        "    return binary_str[:-1] + new_value\n",
        "\n",
        "# Example usage\n",
        "number = 10\n",
        "binary_str = int_to_bin(number)\n",
        "print(f\"Original Binary: {binary_str}\")\n",
        "\n",
        "# Change the LSB to '1'\n",
        "changed_binary = change_lsb(binary_str, '1')\n",
        "\n",
        "print(f\"Changed Binary: {changed_binary}\")\n",
        "\n",
        "# Convert the modified binary string back to an integer\n",
        "changed_number = bin_to_int(changed_binary)\n",
        "\n",
        "print(f\"Changed Integer: {changed_number}\")\n"
      ],
      "metadata": {
        "colab": {
          "base_uri": "https://localhost:8080/"
        },
        "id": "55nIuLr6i2fC",
        "outputId": "1fd1638b-aec9-4c30-f128-46e472b7a100"
      },
      "execution_count": 17,
      "outputs": [
        {
          "output_type": "stream",
          "name": "stdout",
          "text": [
            "Original Binary: 1010\n",
            "Changed Binary: 1011\n",
            "Changed Integer: 11\n"
          ]
        }
      ]
    }
  ]
}