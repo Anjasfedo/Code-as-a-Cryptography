{
  "nbformat": 4,
  "nbformat_minor": 0,
  "metadata": {
    "colab": {
      "provenance": [],
      "authorship_tag": "ABX9TyO8ciqqHGP/nIHX+n8n1w9B",
      "include_colab_link": true
    },
    "kernelspec": {
      "name": "python3",
      "display_name": "Python 3"
    },
    "language_info": {
      "name": "python"
    }
  },
  "cells": [
    {
      "cell_type": "markdown",
      "metadata": {
        "id": "view-in-github",
        "colab_type": "text"
      },
      "source": [
        "<a href=\"https://colab.research.google.com/github/Anjasfedo/Code-as-a-Cryptography/blob/main/ecc_lsb_2.ipynb\" target=\"_parent\"><img src=\"https://colab.research.google.com/assets/colab-badge.svg\" alt=\"Open In Colab\"/></a>"
      ]
    },
    {
      "cell_type": "markdown",
      "source": [
        "# Elliptic Curve Cryptography"
      ],
      "metadata": {
        "id": "TSlmaK73U3Tc"
      }
    },
    {
      "cell_type": "code",
      "execution_count": 1,
      "metadata": {
        "colab": {
          "base_uri": "https://localhost:8080/"
        },
        "id": "uWRZe1zZSRZi",
        "outputId": "8ecea97e-82cf-4444-8439-0dda5625a113"
      },
      "outputs": [
        {
          "output_type": "stream",
          "name": "stdout",
          "text": [
            "Collecting eciespy\n",
            "  Downloading eciespy-0.4.2-py3-none-any.whl.metadata (6.6 kB)\n",
            "Collecting coincurve<20,>=13 (from eciespy)\n",
            "  Downloading coincurve-19.0.1-cp310-cp310-manylinux_2_17_x86_64.manylinux2014_x86_64.whl.metadata (3.7 kB)\n",
            "Collecting eth-keys<0.6,>=0.4 (from eciespy)\n",
            "  Downloading eth_keys-0.5.1-py3-none-any.whl.metadata (13 kB)\n",
            "Collecting pycryptodome<4.0.0,>=3.19.1 (from eciespy)\n",
            "  Downloading pycryptodome-3.20.0-cp35-abi3-manylinux_2_17_x86_64.manylinux2014_x86_64.whl.metadata (3.4 kB)\n",
            "Collecting asn1crypto (from coincurve<20,>=13->eciespy)\n",
            "  Downloading asn1crypto-1.5.1-py2.py3-none-any.whl.metadata (13 kB)\n",
            "Requirement already satisfied: cffi>=1.3.0 in /usr/local/lib/python3.10/dist-packages (from coincurve<20,>=13->eciespy) (1.17.1)\n",
            "Collecting eth-utils>=2 (from eth-keys<0.6,>=0.4->eciespy)\n",
            "  Downloading eth_utils-5.0.0-py3-none-any.whl.metadata (5.4 kB)\n",
            "Collecting eth-typing>=3 (from eth-keys<0.6,>=0.4->eciespy)\n",
            "  Downloading eth_typing-5.0.0-py3-none-any.whl.metadata (5.1 kB)\n",
            "Requirement already satisfied: pycparser in /usr/local/lib/python3.10/dist-packages (from cffi>=1.3.0->coincurve<20,>=13->eciespy) (2.22)\n",
            "Requirement already satisfied: typing-extensions>=4.5.0 in /usr/local/lib/python3.10/dist-packages (from eth-typing>=3->eth-keys<0.6,>=0.4->eciespy) (4.12.2)\n",
            "Collecting eth-hash>=0.3.1 (from eth-utils>=2->eth-keys<0.6,>=0.4->eciespy)\n",
            "  Downloading eth_hash-0.7.0-py3-none-any.whl.metadata (5.4 kB)\n",
            "Collecting hexbytes>=1.0.0 (from eth-utils>=2->eth-keys<0.6,>=0.4->eciespy)\n",
            "  Downloading hexbytes-1.2.1-py3-none-any.whl.metadata (3.7 kB)\n",
            "Collecting cytoolz>=0.10.1 (from eth-utils>=2->eth-keys<0.6,>=0.4->eciespy)\n",
            "  Downloading cytoolz-0.12.3-cp310-cp310-manylinux_2_17_x86_64.manylinux2014_x86_64.whl.metadata (4.6 kB)\n",
            "Requirement already satisfied: toolz>=0.8.0 in /usr/local/lib/python3.10/dist-packages (from cytoolz>=0.10.1->eth-utils>=2->eth-keys<0.6,>=0.4->eciespy) (0.12.1)\n",
            "Downloading eciespy-0.4.2-py3-none-any.whl (10 kB)\n",
            "Downloading coincurve-19.0.1-cp310-cp310-manylinux_2_17_x86_64.manylinux2014_x86_64.whl (1.4 MB)\n",
            "\u001b[2K   \u001b[90m━━━━━━━━━━━━━━━━━━━━━━━━━━━━━━━━━━━━━━━━\u001b[0m \u001b[32m1.4/1.4 MB\u001b[0m \u001b[31m38.8 MB/s\u001b[0m eta \u001b[36m0:00:00\u001b[0m\n",
            "\u001b[?25hDownloading eth_keys-0.5.1-py3-none-any.whl (21 kB)\n",
            "Downloading pycryptodome-3.20.0-cp35-abi3-manylinux_2_17_x86_64.manylinux2014_x86_64.whl (2.1 MB)\n",
            "\u001b[2K   \u001b[90m━━━━━━━━━━━━━━━━━━━━━━━━━━━━━━━━━━━━━━━━\u001b[0m \u001b[32m2.1/2.1 MB\u001b[0m \u001b[31m56.4 MB/s\u001b[0m eta \u001b[36m0:00:00\u001b[0m\n",
            "\u001b[?25hDownloading eth_typing-5.0.0-py3-none-any.whl (20 kB)\n",
            "Downloading eth_utils-5.0.0-py3-none-any.whl (100 kB)\n",
            "\u001b[2K   \u001b[90m━━━━━━━━━━━━━━━━━━━━━━━━━━━━━━━━━━━━━━━━\u001b[0m \u001b[32m100.5/100.5 kB\u001b[0m \u001b[31m9.0 MB/s\u001b[0m eta \u001b[36m0:00:00\u001b[0m\n",
            "\u001b[?25hDownloading asn1crypto-1.5.1-py2.py3-none-any.whl (105 kB)\n",
            "\u001b[2K   \u001b[90m━━━━━━━━━━━━━━━━━━━━━━━━━━━━━━━━━━━━━━━━\u001b[0m \u001b[32m105.0/105.0 kB\u001b[0m \u001b[31m10.1 MB/s\u001b[0m eta \u001b[36m0:00:00\u001b[0m\n",
            "\u001b[?25hDownloading cytoolz-0.12.3-cp310-cp310-manylinux_2_17_x86_64.manylinux2014_x86_64.whl (2.0 MB)\n",
            "\u001b[2K   \u001b[90m━━━━━━━━━━━━━━━━━━━━━━━━━━━━━━━━━━━━━━━━\u001b[0m \u001b[32m2.0/2.0 MB\u001b[0m \u001b[31m59.3 MB/s\u001b[0m eta \u001b[36m0:00:00\u001b[0m\n",
            "\u001b[?25hDownloading eth_hash-0.7.0-py3-none-any.whl (8.7 kB)\n",
            "Downloading hexbytes-1.2.1-py3-none-any.whl (5.2 kB)\n",
            "Installing collected packages: asn1crypto, pycryptodome, hexbytes, eth-typing, eth-hash, cytoolz, eth-utils, coincurve, eth-keys, eciespy\n",
            "Successfully installed asn1crypto-1.5.1 coincurve-19.0.1 cytoolz-0.12.3 eciespy-0.4.2 eth-hash-0.7.0 eth-keys-0.5.1 eth-typing-5.0.0 eth-utils-5.0.0 hexbytes-1.2.1 pycryptodome-3.20.0\n"
          ]
        }
      ],
      "source": [
        "!pip install eciespy"
      ]
    },
    {
      "cell_type": "code",
      "source": [
        "\n",
        "from ecies.utils import generate_eth_key\n",
        "from ecies import encrypt, decrypt\n",
        "\n",
        "# Step 1: Generate a private key\n",
        "private_key = generate_eth_key()\n",
        "public_key = private_key.public_key\n",
        "\n",
        "# Step 2: Convert the public key to a usable format\n",
        "public_key_hex = public_key.to_hex()\n",
        "private_key_hex = private_key.to_hex()\n",
        "\n",
        "print(\"Public Key:\", public_key_hex)\n",
        "print(\"Private Key:\", private_key_hex)\n",
        "\n",
        "# Step 3: Encrypt a message using the recipient's public key\n",
        "plaintext = b\"3348610401970005#christofer*derian*budianto#tegal#1997-03-04#laki-laki#b#jl.*pala*22*no.*30#005#017#mejasem*tengah#kramat#katholik#belum*kawin#pelajar/mahasiswa#wni#seumur*hidup\"\n",
        "ciphertext = encrypt(public_key_hex, plaintext)\n",
        "\n",
        "print(\"Ciphertext:\", ciphertext.hex())\n",
        "\n",
        "# Step 4: Decrypt the ciphertext using the private key\n",
        "decrypted_message = decrypt(private_key_hex, ciphertext)\n",
        "print(\"Decrypted Message:\", decrypted_message.decode())"
      ],
      "metadata": {
        "colab": {
          "base_uri": "https://localhost:8080/"
        },
        "id": "FYM40G-ZSdCu",
        "outputId": "65f52e42-e205-4722-a075-3e66bd4d5136"
      },
      "execution_count": 19,
      "outputs": [
        {
          "output_type": "stream",
          "name": "stdout",
          "text": [
            "Public Key: 0xfa8d647f964a91fdbd3130cf447f1bee77ff96a49a77858ace7eeeee481027589db62d72e875b8dbdf9b24c1fc9b6030cf93c6783e95104e12bb275604336adc\n",
            "Private Key: 0x33acfb28cc7b5f7ab05bd6100deaade2f48e5b3aed5a11866b7029ae80fa7c3f\n",
            "Ciphertext: 04acd2c5bc747c415d44afed87544bb80b09f9af3caf8ac8b62bd7994cf762c69db7b76f1acaafa369cffb9ca1ed71c99f621ade5f9412ac60730de081a2c2bc2886afc5ed95c359e77f2d0415d7975e65d8b50acba5310fd7c21c1d24544d9848a37d9efae4fbf5ded511f9d73fd2786809b5bad527ba92f9e8dbce626a2dcb5b0f56a964abcb1ab2af0558e8bc1652b348640bef530b055eb20104f29c5cb787d8fa101b0932b14ed8c28dd10aab975acedf0466ed124dc19ac025157b25fe214b85fe68ce711686d8b43d74ce5a2ec3e0b59461800358c375670838a932839fb1608ac035602f9ee8a51d474244245e13d2e9948b2d2cc0def2d84f929c120473e1f8162474e1784b757b8ea4efbffa84\n",
            "Decrypted Message: 3348610401970005#christofer*derian*budianto#tegal#1997-03-04#laki-laki#b#jl.*pala*22*no.*30#005#017#mejasem*tengah#kramat#katholik#belum*kawin#pelajar/mahasiswa#wni#seumur*hidup\n"
          ]
        }
      ]
    },
    {
      "cell_type": "code",
      "source": [
        "import base64\n",
        "# Convert the hexadecimal ciphertext back into bytes\n",
        "ciphertext_bytes = bytes.fromhex(ciphertext.hex())\n",
        "\n",
        "# Encode the bytes to Base64\n",
        "ciphertext_base64 = base64.b64encode(ciphertext_bytes)\n",
        "\n",
        "# Print the Base64-encoded ciphertext (which will include symbols)\n",
        "print(\"Base64 Encoded Ciphertext:\", ciphertext_base64.decode())"
      ],
      "metadata": {
        "colab": {
          "base_uri": "https://localhost:8080/"
        },
        "id": "_AVwBcAaSp5K",
        "outputId": "ad18d928-77b9-48bd-a9d7-f92751de4b07"
      },
      "execution_count": 6,
      "outputs": [
        {
          "output_type": "stream",
          "name": "stdout",
          "text": [
            "Base64 Encoded Ciphertext: BNNbNnhBP0Rm1fLpltnaMQFspzo6n5j8YGf+fRtUiD0/D56IR/ll6vIqpN87hegY9J4V6tygAtB5DGQgIg84KsWyhdgRzegGZiaC+WswV4COfT48x4llsVW53pPBq8kMYeTwKu3zClXXuBp5d+B0a4ECzU5VFZ9sZvA+KZk7ZW5jUcXPQDKU8YvI1OKaqL8blo/jedxclnr0L4tCPWU5ddiR4BfMK4qhNiK+6/0NyYR/NXAPoJX7Wwn9QmTFTiGsgMJG9/bKyUDKsmKngC7pPMMr6XsoGoey4CM92+r4Asc+mVuax6kKnpA2YzapQk7msu6UtyaaBSooz2w4PMAxWJRmYE9UNXEtEDw8Fg5TS+nBrQ==\n"
          ]
        }
      ]
    },
    {
      "cell_type": "code",
      "source": [
        "import base64\n",
        "from ecies.utils import generate_eth_key\n",
        "from ecies import encrypt, decrypt\n",
        "\n",
        "# Step 1: Generate a private key\n",
        "private_key = generate_eth_key()\n",
        "public_key = private_key.public_key\n",
        "\n",
        "# Step 2: Convert the public key to a usable format\n",
        "public_key_hex = public_key.to_hex()\n",
        "private_key_hex = private_key.to_hex()\n",
        "\n",
        "print(\"Public Key:\", public_key_hex)\n",
        "print(\"Private Key:\", private_key_hex)\n",
        "\n",
        "# Step 3: Encrypt a message using the recipient's public key\n",
        "plaintext = b\"3348610401970005#christofer*derian*budianto#tegal#1997-03-04#laki-laki#b#jl.*pala*22*no.*30#005#017#mejasem*tengah#kramat#katholik#belum*kawin#pelajar/mahasiswa#wni#seumur*hidup\"\n",
        "ciphertext = encrypt(public_key_hex, plaintext)\n",
        "\n",
        "# Convert the ciphertext to Base64 for a different representation\n",
        "ciphertext_base64 = base64.b64encode(ciphertext).decode()\n",
        "\n",
        "print(\"Ciphertext (Base64):\", ciphertext_base64)\n",
        "\n",
        "# Step 4: Decrypt the ciphertext using the private key\n",
        "decrypted_message = decrypt(private_key_hex, ciphertext)\n",
        "print(\"Decrypted Message:\", decrypted_message.decode())\n"
      ],
      "metadata": {
        "colab": {
          "base_uri": "https://localhost:8080/"
        },
        "id": "V9P1cZIUTn14",
        "outputId": "8b4d4aea-64fb-4d83-f86d-dc69019274c4"
      },
      "execution_count": 7,
      "outputs": [
        {
          "output_type": "stream",
          "name": "stdout",
          "text": [
            "Public Key: 0xd2650e50a7af006c4d3b5c65897f0a4d2191a22d4480230b39e5694fe7fbf9f7451089767a80ece4d8ecb565d2057f0f4e46d047aef1f279d15bb0616c9e66a9\n",
            "Private Key: 0xdaf083c23f22679f22d256c63e359599e84caedf7a7584f2cd6b095dd5d26ebb\n",
            "Ciphertext (Base64): BAfoetPYo2mhes3GECuK7bGU+hploJNgd01mQ6cNfCnWAx0JUgTpFtDWcYaaioSRyvnMHFXyEpCk6ZgGhG69N8xoaH4dhYtonE/w1jJWoMTp78eZeBll6rERo5CqRRPW98qfW3of+wGSAzOmWGkTBdZzoV71WECXrWCOg9mUP2NHoNEor0ejI+Vp+XTgzCcXvTtgfLUSL0jxveNMU0KyQNx4yz7G2ASHuiR0CwhvyY+xZK5FsthPbi91R7vdzNLeZx8cjoYBxjazV1FWypqO5S0X3IBmkzYg1eG77TfubQNPD4TUB6SFLch2yzj6WZVH+XFL/dYVhiK5Od6J1ahl+dqGXYX4RCAASNaia0ifY5zjig==\n",
            "Decrypted Message: 3348610401970005#christofer*derian*budianto#tegal#1997-03-04#laki-laki#b#jl.*pala*22*no.*30#005#017#mejasem*tengah#kramat#katholik#belum*kawin#pelajar/mahasiswa#wni#seumur*hidup\n"
          ]
        }
      ]
    },
    {
      "cell_type": "code",
      "source": [
        "import base64\n",
        "from ecies.utils import generate_eth_key\n",
        "from ecies import encrypt, decrypt\n",
        "\n",
        "# Step 1: Generate a private key\n",
        "private_key = generate_eth_key()\n",
        "public_key = private_key.public_key\n",
        "\n",
        "# Step 2: Convert the public key to a usable format\n",
        "public_key_hex = public_key.to_hex()\n",
        "private_key_hex = private_key.to_hex()\n",
        "\n",
        "print(\"Public Key:\", public_key_hex)\n",
        "print(\"Private Key:\", private_key_hex)\n",
        "\n",
        "# Step 3: Encrypt a message using the recipient's public key (message in bytes)\n",
        "plaintext = b\"3348610401970005#christofer*derian*budianto#tegal#1997-03-04#laki-laki#b#jl.*pala*22*no.*30#005#017#mejasem*tengah#kramat#katholik#belum*kawin#pelajar/mahasiswa#wni#seumur*hidup\"\n",
        "ciphertext = encrypt(public_key_hex, plaintext)\n",
        "\n",
        "# Convert the ciphertext to Base64 for a more transportable form\n",
        "ciphertext_base64 = base64.b64encode(ciphertext).decode()\n",
        "print(\"Ciphertext (Base64):\", ciphertext_base64)\n",
        "\n",
        "# Step 4: Decode the Base64 ciphertext back into bytes for decryption\n",
        "ciphertext_bytes = base64.b64decode(ciphertext_base64)\n",
        "\n",
        "# Step 5: Decrypt the ciphertext using the private key\n",
        "decrypted_message = decrypt(private_key_hex, ciphertext_bytes)\n",
        "\n",
        "# Step 6: Convert decrypted bytes back to a readable string\n",
        "print(\"Decrypted Message:\", decrypted_message)\n"
      ],
      "metadata": {
        "colab": {
          "base_uri": "https://localhost:8080/"
        },
        "id": "3-oO2yNRUBin",
        "outputId": "c1f17757-3361-4690-fe6d-a35d9b743a77"
      },
      "execution_count": 9,
      "outputs": [
        {
          "output_type": "stream",
          "name": "stdout",
          "text": [
            "Public Key: 0x535f4d7c91e54a597c4f829824af180e0713e5d4417ff5d383a52a765a79f96c765bd8bd5b7054af2f4b768cba314255ac547c68e1125ce64adf565341a7103b\n",
            "Private Key: 0x6993f87d6f89ed1036b0a70d00e8d3ad79e4bcc01d17a5e19e03f620a6758451\n",
            "Ciphertext (Base64): BENm30HEcBo7omJ/1RHdcnscJVz3zXUPsFgeZISlhvLIGxAWl4jvB3nyAkVGdod2iN06a8QpSC6TWRjdCP6e9t+ON7E1mF6qS+adcmpLeHZ+lRqitSP7eBEQVB+tUzMh19r/5SbIrkgltvGa4Qg4FV426sKva4lLnAtNkY6dl0zc/bAUlql6HxNg8XSqjVr8pCudxOzDPROqCLEmcyzIrZOol2z2Cla6wSdQB1ywi/MIQvZv2N9xsMPePe0RRbkRUIdLtjOpwNX0RtOcAFR9uScpg8hEtOWN35uhSfPLU6kjTEEGuCbSY7ADjQM2F7bMj6B3udXbns5rvhmzH1vnlUmERJpq/4AhOU9jRh5xsrMVVg==\n",
            "Decrypted Message: b'3348610401970005#christofer*derian*budianto#tegal#1997-03-04#laki-laki#b#jl.*pala*22*no.*30#005#017#mejasem*tengah#kramat#katholik#belum*kawin#pelajar/mahasiswa#wni#seumur*hidup'\n"
          ]
        }
      ]
    },
    {
      "cell_type": "code",
      "source": [
        "import base64\n",
        "from ecies.utils import generate_eth_key\n",
        "from ecies import encrypt, decrypt\n",
        "\n",
        "# Step 1: Generate a private key\n",
        "private_key = generate_eth_key()\n",
        "public_key = private_key.public_key\n",
        "\n",
        "# Step 2: Convert the public key and private key to a usable format\n",
        "public_key_hex = public_key.to_hex()[2:]  # Remove the \"0x\" prefix\n",
        "private_key_hex = private_key.to_hex()[2:]  # Remove the \"0x\" prefix\n",
        "\n",
        "# Measure the length of the keys (in bytes and bits)\n",
        "private_key_bytes = len(bytes.fromhex(private_key_hex))\n",
        "public_key_bytes = len(bytes.fromhex(public_key_hex))\n",
        "\n",
        "print(\"Public Key:\", public_key_hex)\n",
        "print(f\"Public Key Length: {public_key_bytes} bytes ({public_key_bytes * 8} bits)\")\n",
        "\n",
        "print(\"Private Key:\", private_key_hex)\n",
        "print(f\"Private Key Length: {private_key_bytes} bytes ({private_key_bytes * 8} bits)\")\n",
        "\n",
        "# Step 3: Encrypt a message using the recipient's public key (message in bytes)\n",
        "plaintext = b\"3348610401970005#christofer*derian*budianto#tegal#1997-03-04#laki-laki#b#jl.*pala*22*no.*30#005#017#mejasem*tengah#kramat#katholik#belum*kawin#pelajar/mahasiswa#wni#seumur*hidup\"\n",
        "ciphertext = encrypt(public_key_hex, plaintext)\n",
        "\n",
        "# Convert the ciphertext to Base64 for a more transportable form\n",
        "ciphertext_base64 = base64.b64encode(ciphertext).decode()\n",
        "print(\"Ciphertext (Base64):\", ciphertext_base64)\n",
        "\n",
        "# Step 4: Decode the Base64 ciphertext back into bytes for decryption\n",
        "ciphertext_bytes = base64.b64decode(ciphertext_base64)\n",
        "\n",
        "# Step 5: Decrypt the ciphertext using the private key\n",
        "decrypted_message = decrypt(private_key_hex, ciphertext_bytes)\n",
        "\n",
        "# Step 6: Convert decrypted bytes back to a readable string\n",
        "print(\"Decrypted Message:\", decrypted_message.decode())\n"
      ],
      "metadata": {
        "colab": {
          "base_uri": "https://localhost:8080/"
        },
        "id": "m2kOiNb-UXw0",
        "outputId": "fb08f39a-90c3-4b7d-a25c-253164596dcc"
      },
      "execution_count": 11,
      "outputs": [
        {
          "output_type": "stream",
          "name": "stdout",
          "text": [
            "Public Key: a8b48613c198a62cd37747c120650518c3936361d21478a2fa4c48af13fb8ae01c6dc2c973384ca3d1dd3f187c5445b546c843a5ca76abd627afef0a82ec42b9\n",
            "Public Key Length: 64 bytes (512 bits)\n",
            "Private Key: 28a5aab10f6aeed6c9eb39103dd0cfbc971d6d48192ad27c0b518df2fd4c6a99\n",
            "Private Key Length: 32 bytes (256 bits)\n",
            "Ciphertext (Base64): BJ4yAas8U+Mfz0lySAGyt91FXyeD0wDXOXrg+wIO97XKzwix2GU8b/vhP1JHeekJubGH12lwcs/Tfx7OvZS3x/IhkL3rKjtqM6gD1Ova9mi+u5R6nNPAiwmv/TClynKGiyvVhBqUotjRcN8NU9Hjp0e/MYGSg9rNtqZok6WBY6KyDR1UyGt0TJEsKynyzLENWAU7cgFSU03Fi7I+159xdkHMG2/mE4cLb+8eFFwFRDNkoApEwpwOMd73RhOSdUPoAgZrO1+EGXOSeyTLc4gHwdA6OqMIA8kd8KZBIE/0l3ukXAjYmdiniDBtNpm82OJhT1D2RmAaO1+oH9obxFhYR1EUopTMTyirfB7qJLB46lhYkA==\n",
            "Decrypted Message: 3348610401970005#christofer*derian*budianto#tegal#1997-03-04#laki-laki#b#jl.*pala*22*no.*30#005#017#mejasem*tengah#kramat#katholik#belum*kawin#pelajar/mahasiswa#wni#seumur*hidup\n"
          ]
        }
      ]
    },
    {
      "cell_type": "markdown",
      "source": [
        "# Least Significant Bit"
      ],
      "metadata": {
        "id": "YJOnnYOUU8Sr"
      }
    },
    {
      "cell_type": "code",
      "source": [
        "!git clone https://github.com/RobinDavid/LSB-Steganography"
      ],
      "metadata": {
        "colab": {
          "base_uri": "https://localhost:8080/"
        },
        "id": "zrDUAzi6VEs5",
        "outputId": "4f588bdc-0ed5-46db-f83b-fcded35838bb"
      },
      "execution_count": 12,
      "outputs": [
        {
          "output_type": "stream",
          "name": "stdout",
          "text": [
            "Cloning into 'LSB-Steganography'...\n",
            "remote: Enumerating objects: 75, done.\u001b[K\n",
            "remote: Counting objects: 100% (7/7), done.\u001b[K\n",
            "remote: Compressing objects: 100% (7/7), done.\u001b[K\n",
            "remote: Total 75 (delta 1), reused 2 (delta 0), pack-reused 68 (from 1)\u001b[K\n",
            "Receiving objects: 100% (75/75), 19.72 KiB | 9.86 MiB/s, done.\n",
            "Resolving deltas: 100% (26/26), done.\n"
          ]
        }
      ]
    },
    {
      "cell_type": "code",
      "source": [
        "!cd LSB-Steganography && ls && pip install -r requirements.txt"
      ],
      "metadata": {
        "colab": {
          "base_uri": "https://localhost:8080/"
        },
        "id": "1_lIb8CgVIb7",
        "outputId": "3f17eb35-b8c7-42f4-c080-8ae6ac24eaf4"
      },
      "execution_count": 13,
      "outputs": [
        {
          "output_type": "stream",
          "name": "stdout",
          "text": [
            "LICENCE  LSBSteg.py  README.md\trequirements.txt\n",
            "Requirement already satisfied: opencv-python in /usr/local/lib/python3.10/dist-packages (from -r requirements.txt (line 1)) (4.10.0.84)\n",
            "Collecting docopt (from -r requirements.txt (line 2))\n",
            "  Downloading docopt-0.6.2.tar.gz (25 kB)\n",
            "  Preparing metadata (setup.py) ... \u001b[?25l\u001b[?25hdone\n",
            "Requirement already satisfied: numpy in /usr/local/lib/python3.10/dist-packages (from -r requirements.txt (line 3)) (1.26.4)\n",
            "Building wheels for collected packages: docopt\n",
            "  Building wheel for docopt (setup.py) ... \u001b[?25l\u001b[?25hdone\n",
            "  Created wheel for docopt: filename=docopt-0.6.2-py2.py3-none-any.whl size=13704 sha256=c088adcb722cacec1bc8769194df1475f78d3a2cdf59f0f3d1912df59cd473b1\n",
            "  Stored in directory: /root/.cache/pip/wheels/fc/ab/d4/5da2067ac95b36618c629a5f93f809425700506f72c9732fac\n",
            "Successfully built docopt\n",
            "Installing collected packages: docopt\n",
            "Successfully installed docopt-0.6.2\n"
          ]
        }
      ]
    },
    {
      "cell_type": "code",
      "source": [
        "#!/usr/bin/env python\n",
        "# coding:UTF-8\n",
        "\"\"\"LSBSteg.py\n",
        "\n",
        "Usage:\n",
        "  LSBSteg.py encode -i <input> -o <output> -f <file>\n",
        "  LSBSteg.py decode -i <input> -o <output>\n",
        "\n",
        "Options:\n",
        "  -h, --help                Show this help\n",
        "  --version                 Show the version\n",
        "  -f,--file=<file>          File to hide\n",
        "  -i,--in=<input>           Input image (carrier)\n",
        "  -o,--out=<output>         Output image (or extracted file)\n",
        "\"\"\"\n",
        "\n",
        "import cv2\n",
        "import docopt\n",
        "import numpy as np\n",
        "\n",
        "\n",
        "class SteganographyException(Exception):\n",
        "    pass\n",
        "\n",
        "\n",
        "class LSBSteg():\n",
        "    def __init__(self, im):\n",
        "        self.image = im\n",
        "        self.height, self.width, self.nbchannels = im.shape\n",
        "        self.size = self.width * self.height\n",
        "\n",
        "        self.maskONEValues = [1,2,4,8,16,32,64,128]\n",
        "        #Mask used to put one ex:1->00000001, 2->00000010 .. associated with OR bitwise\n",
        "        self.maskONE = self.maskONEValues.pop(0) #Will be used to do bitwise operations\n",
        "\n",
        "        self.maskZEROValues = [254,253,251,247,239,223,191,127]\n",
        "        #Mak used to put zero ex:254->11111110, 253->11111101 .. associated with AND bitwise\n",
        "        self.maskZERO = self.maskZEROValues.pop(0)\n",
        "\n",
        "        self.curwidth = 0  # Current width position\n",
        "        self.curheight = 0 # Current height position\n",
        "        self.curchan = 0   # Current channel position\n",
        "\n",
        "    def put_binary_value(self, bits): #Put the bits in the image\n",
        "        for c in bits:\n",
        "            val = list(self.image[self.curheight,self.curwidth]) #Get the pixel value as a list\n",
        "            if int(c) == 1:\n",
        "                val[self.curchan] = int(val[self.curchan]) | self.maskONE #OR with maskONE\n",
        "            else:\n",
        "                val[self.curchan] = int(val[self.curchan]) & self.maskZERO #AND with maskZERO\n",
        "\n",
        "            self.image[self.curheight,self.curwidth] = tuple(val)\n",
        "            self.next_slot() #Move \"cursor\" to the next space\n",
        "\n",
        "    def next_slot(self):#Move to the next slot were information can be taken or put\n",
        "        if self.curchan == self.nbchannels-1: #Next Space is the following channel\n",
        "            self.curchan = 0\n",
        "            if self.curwidth == self.width-1: #Or the first channel of the next pixel of the same line\n",
        "                self.curwidth = 0\n",
        "                if self.curheight == self.height-1:#Or the first channel of the first pixel of the next line\n",
        "                    self.curheight = 0\n",
        "                    if self.maskONE == 128: #Mask 1000000, so the last mask\n",
        "                        raise SteganographyException(\"No available slot remaining (image filled)\")\n",
        "                    else: #Or instead of using the first bit start using the second and so on..\n",
        "                        self.maskONE = self.maskONEValues.pop(0)\n",
        "                        self.maskZERO = self.maskZEROValues.pop(0)\n",
        "                else:\n",
        "                    self.curheight +=1\n",
        "            else:\n",
        "                self.curwidth +=1\n",
        "        else:\n",
        "            self.curchan +=1\n",
        "\n",
        "    def read_bit(self): #Read a single bit int the image\n",
        "        val = self.image[self.curheight,self.curwidth][self.curchan]\n",
        "        val = int(val) & self.maskONE\n",
        "        self.next_slot()\n",
        "        if val > 0:\n",
        "            return \"1\"\n",
        "        else:\n",
        "            return \"0\"\n",
        "\n",
        "    def read_byte(self):\n",
        "        return self.read_bits(8)\n",
        "\n",
        "    def read_bits(self, nb): #Read the given number of bits\n",
        "        bits = \"\"\n",
        "        for i in range(nb):\n",
        "            bits += self.read_bit()\n",
        "        return bits\n",
        "\n",
        "    def byteValue(self, val):\n",
        "        return self.binary_value(val, 8)\n",
        "\n",
        "    def binary_value(self, val, bitsize): #Return the binary value of an int as a byte\n",
        "        binval = bin(val)[2:]\n",
        "        if len(binval) > bitsize:\n",
        "            raise SteganographyException(\"binary value larger than the expected size\")\n",
        "        while len(binval) < bitsize:\n",
        "            binval = \"0\"+binval\n",
        "        return binval\n",
        "\n",
        "    def encode_text(self, txt):\n",
        "        l = len(txt)\n",
        "        binl = self.binary_value(l, 16) #Length coded on 2 bytes so the text size can be up to 65536 bytes long\n",
        "        self.put_binary_value(binl) #Put text length coded on 4 bytes\n",
        "        for char in txt: #And put all the chars\n",
        "            c = ord(char)\n",
        "            self.put_binary_value(self.byteValue(c))\n",
        "        return self.image\n",
        "\n",
        "    def decode_text(self):\n",
        "        ls = self.read_bits(16) #Read the text size in bytes\n",
        "        l = int(ls,2)\n",
        "        i = 0\n",
        "        unhideTxt = \"\"\n",
        "        while i < l: #Read all bytes of the text\n",
        "            tmp = self.read_byte() #So one byte\n",
        "            i += 1\n",
        "            unhideTxt += chr(int(tmp,2)) #Every chars concatenated to str\n",
        "        return unhideTxt\n",
        "\n",
        "    def encode_image(self, imtohide):\n",
        "        w = imtohide.width\n",
        "        h = imtohide.height\n",
        "        if self.width*self.height*self.nbchannels < w*h*imtohide.channels:\n",
        "            raise SteganographyException(\"Carrier image not big enough to hold all the datas to steganography\")\n",
        "        binw = self.binary_value(w, 16) #Width coded on to byte so width up to 65536\n",
        "        binh = self.binary_value(h, 16)\n",
        "        self.put_binary_value(binw) #Put width\n",
        "        self.put_binary_value(binh) #Put height\n",
        "        for h in range(imtohide.height): #Iterate the hole image to put every pixel values\n",
        "            for w in range(imtohide.width):\n",
        "                for chan in range(imtohide.channels):\n",
        "                    val = imtohide[h,w][chan]\n",
        "                    self.put_binary_value(self.byteValue(int(val)))\n",
        "        return self.image\n",
        "\n",
        "\n",
        "    def decode_image(self):\n",
        "        width = int(self.read_bits(16),2) #Read 16bits and convert it in int\n",
        "        height = int(self.read_bits(16),2)\n",
        "        unhideimg = np.zeros((width,height, 3), np.uint8) #Create an image in which we will put all the pixels read\n",
        "        for h in range(height):\n",
        "            for w in range(width):\n",
        "                for chan in range(unhideimg.channels):\n",
        "                    val = list(unhideimg[h,w])\n",
        "                    val[chan] = int(self.read_byte(),2) #Read the value\n",
        "                    unhideimg[h,w] = tuple(val)\n",
        "        return unhideimg\n",
        "\n",
        "    def encode_binary(self, data):\n",
        "        l = len(data)\n",
        "        if self.width*self.height*self.nbchannels < l+64:\n",
        "            raise SteganographyException(\"Carrier image not big enough to hold all the datas to steganography\")\n",
        "        self.put_binary_value(self.binary_value(l, 64))\n",
        "        for byte in data:\n",
        "            byte = byte if isinstance(byte, int) else ord(byte) # Compat py2/py3\n",
        "            self.put_binary_value(self.byteValue(byte))\n",
        "        return self.image\n",
        "\n",
        "    def decode_binary(self):\n",
        "        l = int(self.read_bits(64), 2)\n",
        "        output = b\"\"\n",
        "        for i in range(l):\n",
        "            output += bytearray([int(self.read_byte(),2)])\n",
        "        return output\n",
        "\n",
        "\n",
        "def main():\n",
        "    args = docopt.docopt(__doc__, version=\"0.2\")\n",
        "    in_f = args[\"--in\"]\n",
        "    out_f = args[\"--out\"]\n",
        "    in_img = cv2.imread(in_f)\n",
        "    steg = LSBSteg(in_img)\n",
        "    lossy_formats = [\"jpeg\", \"jpg\"]\n",
        "\n",
        "    if args['encode']:\n",
        "        #Handling lossy format\n",
        "        out_f, out_ext = out_f.split(\".\")\n",
        "        if out_ext in lossy_formats:\n",
        "            out_f = out_f + \".png\"\n",
        "            print(\"Output file changed to \", out_f)\n",
        "\n",
        "        data = open(args[\"--file\"], \"rb\").read()\n",
        "        res = steg.encode_binary(data)\n",
        "        cv2.imwrite(out_f, res)\n",
        "\n",
        "    elif args[\"decode\"]:\n",
        "        raw = steg.decode_binary()\n",
        "        with open(out_f, \"wb\") as f:\n",
        "            f.write(raw)\n",
        "\n",
        "# if __name__==\"__main__\":\n",
        "#     main()"
      ],
      "metadata": {
        "id": "ITmPzL64VKVS"
      },
      "execution_count": 14,
      "outputs": []
    },
    {
      "cell_type": "code",
      "source": [
        "import requests\n",
        "from PIL import Image\n",
        "import io\n",
        "\n",
        "# URL to the raw image file\n",
        "url = \"https://raw.githubusercontent.com/mikolalysenko/lena/master/lena.png\"\n",
        "\n",
        "# Download the image\n",
        "response = requests.get(url)\n",
        "if response.status_code == 200:\n",
        "    # Load the image using PIL\n",
        "    lena_image = Image.open(io.BytesIO(response.content))\n",
        "    lena_image.show()  # Display the image (optional)\n",
        "    lena_image.save(\"lena_downloaded.png\")  # Save the image locally\n",
        "else:\n",
        "    print(\"Failed to download the image.\")\n"
      ],
      "metadata": {
        "id": "msgXaFLNVewB"
      },
      "execution_count": 15,
      "outputs": []
    },
    {
      "cell_type": "code",
      "source": [
        "\n",
        "from ecies.utils import generate_eth_key\n",
        "from ecies import encrypt, decrypt\n",
        "\n",
        "# Step 1: Generate a private key\n",
        "private_key = generate_eth_key()\n",
        "public_key = private_key.public_key\n",
        "\n",
        "# Step 2: Convert the public key to a usable format\n",
        "public_key_hex = public_key.to_hex()\n",
        "private_key_hex = private_key.to_hex()\n",
        "\n",
        "print(\"Public Key:\", public_key_hex)\n",
        "print(\"Private Key:\", private_key_hex)\n",
        "\n",
        "# Step 3: Encrypt a message using the recipient's public key\n",
        "plaintext = b\"3348610401970005#christofer*derian*budianto#tegal#1997-03-04#laki-laki#b#jl.*pala*22*no.*30#005#017#mejasem*tengah#kramat#katholik#belum*kawin#pelajar/mahasiswa#wni#seumur*hidup\"\n",
        "ciphertext = encrypt(public_key_hex, plaintext)\n",
        "\n",
        "print(\"Ciphertext:\", ciphertext.hex())\n",
        "\n",
        "# Step 4: Decrypt the ciphertext using the private key\n",
        "# decrypted_message = decrypt(private_key_hex, ciphertext)\n",
        "# print(\"Decrypted Message:\", decrypted_message)"
      ],
      "metadata": {
        "colab": {
          "base_uri": "https://localhost:8080/"
        },
        "id": "7fNxZXAOWN_2",
        "outputId": "55c1a266-4a81-4d00-d89e-2d62741302e3"
      },
      "execution_count": 43,
      "outputs": [
        {
          "output_type": "stream",
          "name": "stdout",
          "text": [
            "Public Key: 0xc6695b0ca0cd6a6d5d48fc92d9e9323d622fbc1f9404313b1efa57008a5d84f56487e3a6a39b50cddc15ef473fa0fb3796d597f954686995e2ca85504f4aa5b1\n",
            "Private Key: 0x2dac2c497c377d5f4900455062e860cf4c50070887a67dd0ccd253699a1fd9cb\n",
            "Ciphertext: 04e882da5575a2ad74d5b386051f9dd0925508b08540add63f229d11d29d856d6126339675c344ab802f52ae8f19dcc2c5bae750027141403ca6d26d1936f5dc9b038bb416fdc7cfd684337d59bee6eca9f2bdc921cb8e9ab2ffab8b4af9f919e56f7270395931386cf7da535a40f6625c9b3ec2db9d4d219194c7206c5b7c63f5a567c79bb36e8fab2c2d4ca00f2dcd814dde3fec7ced89f6ac9f43a8bf46c76dbc30fec3d110640eaaa3d8d3c627845d53d876d0bfd92af06b1a54ff26b85cf61ab83840a7d2a4619740cd42ff4f75045253832572ff9a644fafa3948d3adc533286d7dafa10a1be85eef66c82e4242226bf43e4e44437f5e922d8fe519b77ff24975005ebec6a991b7fa44afb3992e420\n"
          ]
        }
      ]
    },
    {
      "cell_type": "code",
      "source": [
        "steg = LSBSteg(cv2.imread(\"lena_downloaded.png\"))\n",
        "img_encoded = steg.encode_text(ciphertext.hex())\n",
        "cv2.imwrite(\"my_new_image.png\", img_encoded)"
      ],
      "metadata": {
        "colab": {
          "base_uri": "https://localhost:8080/"
        },
        "id": "y9vdnhdfVO9r",
        "outputId": "133a29b2-bb96-4284-f00d-3d83cea2ef49"
      },
      "execution_count": 44,
      "outputs": [
        {
          "output_type": "execute_result",
          "data": {
            "text/plain": [
              "True"
            ]
          },
          "metadata": {},
          "execution_count": 44
        }
      ]
    },
    {
      "cell_type": "code",
      "source": [
        "im = cv2.imread(\"my_new_image.png\")\n",
        "steg = LSBSteg(im)\n",
        "bytess = steg.decode_text()\n",
        "print(bytess)"
      ],
      "metadata": {
        "colab": {
          "base_uri": "https://localhost:8080/"
        },
        "id": "g1KfGOjYVI_C",
        "outputId": "c0c3dd94-750e-492a-cc91-cd3e04968558"
      },
      "execution_count": 45,
      "outputs": [
        {
          "output_type": "stream",
          "name": "stdout",
          "text": [
            "04e882da5575a2ad74d5b386051f9dd0925508b08540add63f229d11d29d856d6126339675c344ab802f52ae8f19dcc2c5bae750027141403ca6d26d1936f5dc9b038bb416fdc7cfd684337d59bee6eca9f2bdc921cb8e9ab2ffab8b4af9f919e56f7270395931386cf7da535a40f6625c9b3ec2db9d4d219194c7206c5b7c63f5a567c79bb36e8fab2c2d4ca00f2dcd814dde3fec7ced89f6ac9f43a8bf46c76dbc30fec3d110640eaaa3d8d3c627845d53d876d0bfd92af06b1a54ff26b85cf61ab83840a7d2a4619740cd42ff4f75045253832572ff9a644fafa3948d3adc533286d7dafa10a1be85eef66c82e4242226bf43e4e44437f5e922d8fe519b77ff24975005ebec6a991b7fa44afb3992e420\n"
          ]
        }
      ]
    },
    {
      "cell_type": "code",
      "source": [
        "import cv2\n",
        "import numpy as np\n",
        "\n",
        "def calculate_psnr(original_image, stego_image):\n",
        "    # Read images\n",
        "    original = cv2.imread(original_image)\n",
        "    stego = cv2.imread(stego_image)\n",
        "\n",
        "    # Calculate MSE (Mean Squared Error)\n",
        "    mse = np.mean((original - stego) ** 2)\n",
        "    if mse == 0:  # If images are identical\n",
        "        return float('inf')\n",
        "\n",
        "    # Calculate PSNR\n",
        "    max_pixel_value = 255.0\n",
        "    psnr = 20 * np.log10(max_pixel_value / np.sqrt(mse))\n",
        "    return psnr\n",
        "\n",
        "# Example usage\n",
        "original_image = 'lena_downloaded.png'\n",
        "stego_image = 'my_new_image.png'\n",
        "psnr_value = calculate_psnr(original_image, stego_image)\n",
        "print(f\"PSNR value is: {psnr_value}\")"
      ],
      "metadata": {
        "colab": {
          "base_uri": "https://localhost:8080/"
        },
        "id": "oJOwbmH0Vz1A",
        "outputId": "93b3cfe4-5cca-43a4-8824-3a5957d9904a"
      },
      "execution_count": 46,
      "outputs": [
        {
          "output_type": "stream",
          "name": "stdout",
          "text": [
            "PSNR value is: 73.60631469058997\n"
          ]
        }
      ]
    },
    {
      "cell_type": "code",
      "source": [
        "import cv2\n",
        "import numpy as np\n",
        "\n",
        "def calculate_psnr_2(original_image, stego_image):\n",
        "    # Read images\n",
        "    original = cv2.imread(original_image)\n",
        "    stego = cv2.imread(stego_image)\n",
        "\n",
        "    # Calculate MSE (Mean Squared Error)\n",
        "    mse = np.mean((original - stego) ** 2)\n",
        "    if mse == 0:  # If images are identical\n",
        "        return float('inf')\n",
        "\n",
        "    # Calculate PSNR using the 10 log10 version\n",
        "    max_pixel_value = 255.0\n",
        "    psnr = 10 * np.log10((max_pixel_value ** 2) / mse)\n",
        "    return psnr\n",
        "\n",
        "# Example usage\n",
        "original_image = 'lena_downloaded.png'\n",
        "stego_image = 'my_new_image.png'\n",
        "psnr_value = calculate_psnr_2(original_image, stego_image)\n",
        "print(f\"PSNR value is: {psnr_value}\")\n"
      ],
      "metadata": {
        "colab": {
          "base_uri": "https://localhost:8080/"
        },
        "id": "OT-uGlv-V15W",
        "outputId": "816290c2-40bc-49bd-f86c-98071fb71cb4"
      },
      "execution_count": 47,
      "outputs": [
        {
          "output_type": "stream",
          "name": "stdout",
          "text": [
            "PSNR value is: 73.60631469058997\n"
          ]
        }
      ]
    },
    {
      "cell_type": "code",
      "source": [
        "#  73.69687801830095"
      ],
      "metadata": {
        "id": "mg2gf108XGlK"
      },
      "execution_count": null,
      "outputs": []
    },
    {
      "cell_type": "code",
      "source": [
        "decrypted_message = decrypt(private_key_hex, bytes.fromhex(bytess))\n",
        "print(\"Decrypted Message:\", decrypted_message.decode())"
      ],
      "metadata": {
        "colab": {
          "base_uri": "https://localhost:8080/"
        },
        "id": "Gr0572cvWkiY",
        "outputId": "ebe884a4-3ad1-44a6-c339-df4037aa15c8"
      },
      "execution_count": 42,
      "outputs": [
        {
          "output_type": "stream",
          "name": "stdout",
          "text": [
            "Decrypted Message: 3348610401970005#christofer*derian*budianto#tegal#1997-03-04#laki-laki#b#jl.*pala*22*no.*30#005#017#mejasem*tengah#kramat#katholik#belum*kawin#pelajar/mahasiswa#wni#seumur*hidup\n"
          ]
        }
      ]
    },
    {
      "cell_type": "markdown",
      "source": [
        "# Pui it together"
      ],
      "metadata": {
        "id": "9B1BiNajXqr0"
      }
    },
    {
      "cell_type": "code",
      "source": [
        "import cv2\n",
        "import numpy as np\n",
        "from ecies.utils import generate_eth_key\n",
        "from ecies import encrypt, decrypt\n",
        "\n",
        "def evaluate_psnr_and_decryption(original_image_path, output_image_path, plaintext):\n",
        "    # Step 1: Generate keys\n",
        "    private_key = generate_eth_key()\n",
        "    public_key = private_key.public_key\n",
        "    private_key_hex = private_key.to_hex()\n",
        "    public_key_hex = public_key.to_hex()\n",
        "\n",
        "    # Step 2: Encrypt the message\n",
        "    ciphertext = encrypt(public_key_hex, plaintext)\n",
        "    ciphertext_hex = ciphertext.hex()\n",
        "\n",
        "    # Step 3: Encode the encrypted message into an image\n",
        "    steg = LSBSteg(cv2.imread(original_image_path))\n",
        "    img_encoded = steg.encode_text(ciphertext_hex)\n",
        "    cv2.imwrite(output_image_path, img_encoded)\n",
        "\n",
        "    # Step 4: Decode the message from the stego image\n",
        "    im = cv2.imread(output_image_path)\n",
        "    steg = LSBSteg(im)\n",
        "    decoded_message_hex = steg.decode_text()\n",
        "\n",
        "    # Step 5: Decrypt the message using the private key\n",
        "    decrypted_message = decrypt(private_key_hex, bytes.fromhex(decoded_message_hex))\n",
        "\n",
        "    # Step 6: Calculate PSNR between the original and stego images\n",
        "    original = cv2.imread(original_image_path)\n",
        "    stego = cv2.imread(output_image_path)\n",
        "    mse = np.mean((original - stego) ** 2)\n",
        "    if mse == 0:\n",
        "        psnr_value = float('inf')\n",
        "    else:\n",
        "        max_pixel_value = 255.0\n",
        "        psnr_value = 10 * np.log10((max_pixel_value ** 2) / mse)\n",
        "\n",
        "    return psnr_value, decrypted_message.decode()"
      ],
      "metadata": {
        "id": "S5vcvf5ZXsd4"
      },
      "execution_count": 54,
      "outputs": []
    },
    {
      "cell_type": "code",
      "source": [
        "# Example usage\n",
        "original_image = 'lena_downloaded.png'\n",
        "output_image = 'my_new_image.png'\n",
        "plaintext = b\"3348610401970005#christofer*derian*budianto#tegal#1997-03-04#laki-laki#b#jl.*pala*22*no.*30#005#017#mejasem*tengah#kramat#katholik#belum*kawin#pelajar/mahasiswa#wni#seumur*hidup\"\n",
        "\n",
        "# Running the evaluation\n",
        "psnr_value, decrypted_message = evaluate_psnr_and_decryption(original_image, output_image, plaintext)\n",
        "print(f\"PSNR value: {psnr_value}\")\n",
        "print(f\"Decrypted Message: {decrypted_message}\")"
      ],
      "metadata": {
        "colab": {
          "base_uri": "https://localhost:8080/"
        },
        "id": "dEt7HrweYVUo",
        "outputId": "39505918-6dbe-47b1-fbb1-0376d422a860"
      },
      "execution_count": 55,
      "outputs": [
        {
          "output_type": "stream",
          "name": "stdout",
          "text": [
            "PSNR value: 73.6710920176118\n",
            "Decrypted Message: 3348610401970005#christofer*derian*budianto#tegal#1997-03-04#laki-laki#b#jl.*pala*22*no.*30#005#017#mejasem*tengah#kramat#katholik#belum*kawin#pelajar/mahasiswa#wni#seumur*hidup\n"
          ]
        }
      ]
    },
    {
      "cell_type": "code",
      "source": [
        "# Lists to store PSNR values and decrypted messages\n",
        "psnr_values = []\n",
        "decrypted_messages = []\n",
        "\n",
        "# Loop to run the evaluation multiple times\n",
        "for i in range(10):\n",
        "    psnr_value, decrypted_message = evaluate_psnr_and_decryption(original_image, output_image, plaintext)\n",
        "    psnr_values.append(psnr_value)\n",
        "    decrypted_messages.append(decrypted_message)\n",
        "    print(f\"Run {i + 1}: PSNR value: {psnr_value}\")\n",
        "    print(f\"Run {i + 1}: Decrypted Message: {decrypted_message}\")"
      ],
      "metadata": {
        "colab": {
          "base_uri": "https://localhost:8080/"
        },
        "id": "dMOaIeQ8YDOu",
        "outputId": "1ac47d14-4b42-4830-e037-41316a37daeb"
      },
      "execution_count": 62,
      "outputs": [
        {
          "output_type": "stream",
          "name": "stdout",
          "text": [
            "Run 1: PSNR value: 73.74488895205003\n",
            "Run 1: Decrypted Message: 3348610401970005#christofer*derian*budianto#tegal#1997-03-04#laki-laki#b#jl.*pala*22*no.*30#005#017#mejasem*tengah#kramat#katholik#belum*kawin#pelajar/mahasiswa#wni#seumur*hidup\n",
            "Run 2: PSNR value: 73.68297422699116\n",
            "Run 2: Decrypted Message: 3348610401970005#christofer*derian*budianto#tegal#1997-03-04#laki-laki#b#jl.*pala*22*no.*30#005#017#mejasem*tengah#kramat#katholik#belum*kawin#pelajar/mahasiswa#wni#seumur*hidup\n",
            "Run 3: PSNR value: 73.69290096232794\n",
            "Run 3: Decrypted Message: 3348610401970005#christofer*derian*budianto#tegal#1997-03-04#laki-laki#b#jl.*pala*22*no.*30#005#017#mejasem*tengah#kramat#katholik#belum*kawin#pelajar/mahasiswa#wni#seumur*hidup\n",
            "Run 4: PSNR value: 73.73083085249932\n",
            "Run 4: Decrypted Message: 3348610401970005#christofer*derian*budianto#tegal#1997-03-04#laki-laki#b#jl.*pala*22*no.*30#005#017#mejasem*tengah#kramat#katholik#belum*kawin#pelajar/mahasiswa#wni#seumur*hidup\n",
            "Run 5: PSNR value: 73.75495838577271\n",
            "Run 5: Decrypted Message: 3348610401970005#christofer*derian*budianto#tegal#1997-03-04#laki-laki#b#jl.*pala*22*no.*30#005#017#mejasem*tengah#kramat#katholik#belum*kawin#pelajar/mahasiswa#wni#seumur*hidup\n",
            "Run 6: PSNR value: 73.75495838577271\n",
            "Run 6: Decrypted Message: 3348610401970005#christofer*derian*budianto#tegal#1997-03-04#laki-laki#b#jl.*pala*22*no.*30#005#017#mejasem*tengah#kramat#katholik#belum*kawin#pelajar/mahasiswa#wni#seumur*hidup\n",
            "Run 7: PSNR value: 73.72081714084814\n",
            "Run 7: Decrypted Message: 3348610401970005#christofer*derian*budianto#tegal#1997-03-04#laki-laki#b#jl.*pala*22*no.*30#005#017#mejasem*tengah#kramat#katholik#belum*kawin#pelajar/mahasiswa#wni#seumur*hidup\n",
            "Run 8: PSNR value: 73.70285043934629\n",
            "Run 8: Decrypted Message: 3348610401970005#christofer*derian*budianto#tegal#1997-03-04#laki-laki#b#jl.*pala*22*no.*30#005#017#mejasem*tengah#kramat#katholik#belum*kawin#pelajar/mahasiswa#wni#seumur*hidup\n",
            "Run 9: PSNR value: 73.6415279496052\n",
            "Run 9: Decrypted Message: 3348610401970005#christofer*derian*budianto#tegal#1997-03-04#laki-laki#b#jl.*pala*22*no.*30#005#017#mejasem*tengah#kramat#katholik#belum*kawin#pelajar/mahasiswa#wni#seumur*hidup\n",
            "Run 10: PSNR value: 73.71881716622424\n",
            "Run 10: Decrypted Message: 3348610401970005#christofer*derian*budianto#tegal#1997-03-04#laki-laki#b#jl.*pala*22*no.*30#005#017#mejasem*tengah#kramat#katholik#belum*kawin#pelajar/mahasiswa#wni#seumur*hidup\n"
          ]
        }
      ]
    },
    {
      "cell_type": "code",
      "source": [
        "import matplotlib.pyplot as plt\n",
        "\n",
        "# Plotting PSNR values using matplotlib\n",
        "plt.figure(figsize=(10, 6))\n",
        "plt.plot(range(1, 11), psnr_values, marker='o', linestyle='-', color='b')\n",
        "plt.title('PSNR Values Over 10 Runs', fontsize=14)\n",
        "plt.xlabel('Run Number', fontsize=12)\n",
        "plt.ylabel('PSNR Value (dB)', fontsize=12)\n",
        "plt.grid(True)\n",
        "plt.xticks(range(1, 11))\n",
        "plt.show()"
      ],
      "metadata": {
        "colab": {
          "base_uri": "https://localhost:8080/",
          "height": 569
        },
        "id": "uWu_7Ui3YOZz",
        "outputId": "64dd26d9-f91e-43be-bd11-5abea763550b"
      },
      "execution_count": 63,
      "outputs": [
        {
          "output_type": "display_data",
          "data": {
            "text/plain": [
              "<Figure size 1000x600 with 1 Axes>"
            ],
            "image/png": "[encoded data removed]"
          },
          "metadata": {}
        }
      ]
    },
    {
      "cell_type": "code",
      "source": [
        "import numpy as np\n",
        "\n",
        "# Find the min, max, and mean PSNR values\n",
        "min_psnr = min(psnr_values)\n",
        "max_psnr = max(psnr_values)\n",
        "mean_psnr = np.mean(psnr_values)\n",
        "\n",
        "# Find the indices for min and max PSNR (1-based index for run numbers)\n",
        "min_index = psnr_values.index(min_psnr) + 1  # +1 to match the run numbers (1 to 10)\n",
        "max_index = psnr_values.index(max_psnr) + 1\n",
        "\n",
        "# Adjust y-axis limits: Add a margin around the min and max PSNR values\n",
        "y_margin = 0.5  # Adjust this to give more or less space\n",
        "y_min = min_psnr - y_margin\n",
        "y_max = max_psnr + y_margin\n",
        "\n",
        "# Plotting PSNR values using matplotlib\n",
        "plt.figure(figsize=(10, 6))\n",
        "plt.plot(range(1, 11), psnr_values, marker='o', linestyle='-', color='b', label='PSNR Values')\n",
        "\n",
        "# Highlighting the min and max points\n",
        "plt.scatter(min_index, min_psnr, color='r', label=f'Min PSNR: {min_psnr:.2f} (Run {min_index})', zorder=5)\n",
        "plt.scatter(max_index, max_psnr, color='g', label=f'Max PSNR: {max_psnr:.2f} (Run {max_index})', zorder=5)\n",
        "\n",
        "# Plotting the mean PSNR as a horizontal line\n",
        "plt.axhline(mean_psnr, color='purple', linestyle='--', label=f'Mean PSNR: {mean_psnr:.2f}', zorder=3)\n",
        "\n",
        "# Add text labels near the min and max points\n",
        "plt.text(min_index, min_psnr, f'{min_psnr:.2f}', color='r', fontsize=12, ha='right', va='bottom')\n",
        "plt.text(max_index, max_psnr, f'{max_psnr:.2f}', color='g', fontsize=12, ha='left', va='bottom')\n",
        "\n",
        "# Titles and labels\n",
        "plt.title('PSNR Values Over 10 Runs with Min, Max, and Mean Points', fontsize=14)\n",
        "plt.xlabel('Run Number', fontsize=12)\n",
        "plt.ylabel('PSNR Value (dB)', fontsize=12)\n",
        "\n",
        "# Set the y-axis limits based on the min and max PSNR values with some margin\n",
        "plt.ylim(y_min, y_max)\n",
        "\n",
        "# Additional configurations\n",
        "plt.grid(True)\n",
        "plt.xticks(range(1, 11))\n",
        "plt.legend(loc='best')\n",
        "\n",
        "# Show the plot\n",
        "plt.show()"
      ],
      "metadata": {
        "colab": {
          "base_uri": "https://localhost:8080/",
          "height": 569
        },
        "id": "GwDj4ObuYq_a",
        "outputId": "9e47eadc-2b2f-4cbe-a194-d596054271b3"
      },
      "execution_count": 65,
      "outputs": [
        {
          "output_type": "display_data",
          "data": {
            "text/plain": [
              "<Figure size 1000x600 with 1 Axes>"
            ],
            "image/png": "[encoded data removed]"
          },
          "metadata": {}
        }
      ]
    }
  ]
}