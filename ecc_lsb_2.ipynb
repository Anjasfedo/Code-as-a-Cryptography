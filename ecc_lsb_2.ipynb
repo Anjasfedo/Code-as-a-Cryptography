{
  "nbformat": 4,
  "nbformat_minor": 0,
  "metadata": {
    "colab": {
      "provenance": [],
      "authorship_tag": "ABX9TyNEq05Js8afPa+viETD3Xdt",
      "include_colab_link": true
    },
    "kernelspec": {
      "name": "python3",
      "display_name": "Python 3"
    },
    "language_info": {
      "name": "python"
    }
  },
  "cells": [
    {
      "cell_type": "markdown",
      "metadata": {
        "id": "view-in-github",
        "colab_type": "text"
      },
      "source": [
        "<a href=\"https://colab.research.google.com/github/Anjasfedo/Code-as-a-Cryptography/blob/main/ecc_lsb_2.ipynb\" target=\"_parent\"><img src=\"https://colab.research.google.com/assets/colab-badge.svg\" alt=\"Open In Colab\"/></a>"
      ]
    },
    {
      "cell_type": "markdown",
      "source": [
        "# Elliptic Curve Cryptography"
      ],
      "metadata": {
        "id": "TSlmaK73U3Tc"
      }
    },
    {
      "cell_type": "code",
      "execution_count": 1,
      "metadata": {
        "colab": {
          "base_uri": "https://localhost:8080/"
        },
        "id": "uWRZe1zZSRZi",
        "outputId": "8ecea97e-82cf-4444-8439-0dda5625a113"
      },
      "outputs": [
        {
          "output_type": "stream",
          "name": "stdout",
          "text": [
            "Collecting eciespy\n",
            "  Downloading eciespy-0.4.2-py3-none-any.whl.metadata (6.6 kB)\n",
            "Collecting coincurve<20,>=13 (from eciespy)\n",
            "  Downloading coincurve-19.0.1-cp310-cp310-manylinux_2_17_x86_64.manylinux2014_x86_64.whl.metadata (3.7 kB)\n",
            "Collecting eth-keys<0.6,>=0.4 (from eciespy)\n",
            "  Downloading eth_keys-0.5.1-py3-none-any.whl.metadata (13 kB)\n",
            "Collecting pycryptodome<4.0.0,>=3.19.1 (from eciespy)\n",
            "  Downloading pycryptodome-3.20.0-cp35-abi3-manylinux_2_17_x86_64.manylinux2014_x86_64.whl.metadata (3.4 kB)\n",
            "Collecting asn1crypto (from coincurve<20,>=13->eciespy)\n",
            "  Downloading asn1crypto-1.5.1-py2.py3-none-any.whl.metadata (13 kB)\n",
            "Requirement already satisfied: cffi>=1.3.0 in /usr/local/lib/python3.10/dist-packages (from coincurve<20,>=13->eciespy) (1.17.1)\n",
            "Collecting eth-utils>=2 (from eth-keys<0.6,>=0.4->eciespy)\n",
            "  Downloading eth_utils-5.0.0-py3-none-any.whl.metadata (5.4 kB)\n",
            "Collecting eth-typing>=3 (from eth-keys<0.6,>=0.4->eciespy)\n",
            "  Downloading eth_typing-5.0.0-py3-none-any.whl.metadata (5.1 kB)\n",
            "Requirement already satisfied: pycparser in /usr/local/lib/python3.10/dist-packages (from cffi>=1.3.0->coincurve<20,>=13->eciespy) (2.22)\n",
            "Requirement already satisfied: typing-extensions>=4.5.0 in /usr/local/lib/python3.10/dist-packages (from eth-typing>=3->eth-keys<0.6,>=0.4->eciespy) (4.12.2)\n",
            "Collecting eth-hash>=0.3.1 (from eth-utils>=2->eth-keys<0.6,>=0.4->eciespy)\n",
            "  Downloading eth_hash-0.7.0-py3-none-any.whl.metadata (5.4 kB)\n",
            "Collecting hexbytes>=1.0.0 (from eth-utils>=2->eth-keys<0.6,>=0.4->eciespy)\n",
            "  Downloading hexbytes-1.2.1-py3-none-any.whl.metadata (3.7 kB)\n",
            "Collecting cytoolz>=0.10.1 (from eth-utils>=2->eth-keys<0.6,>=0.4->eciespy)\n",
            "  Downloading cytoolz-0.12.3-cp310-cp310-manylinux_2_17_x86_64.manylinux2014_x86_64.whl.metadata (4.6 kB)\n",
            "Requirement already satisfied: toolz>=0.8.0 in /usr/local/lib/python3.10/dist-packages (from cytoolz>=0.10.1->eth-utils>=2->eth-keys<0.6,>=0.4->eciespy) (0.12.1)\n",
            "Downloading eciespy-0.4.2-py3-none-any.whl (10 kB)\n",
            "Downloading coincurve-19.0.1-cp310-cp310-manylinux_2_17_x86_64.manylinux2014_x86_64.whl (1.4 MB)\n",
            "\u001b[2K   \u001b[90m━━━━━━━━━━━━━━━━━━━━━━━━━━━━━━━━━━━━━━━━\u001b[0m \u001b[32m1.4/1.4 MB\u001b[0m \u001b[31m38.8 MB/s\u001b[0m eta \u001b[36m0:00:00\u001b[0m\n",
            "\u001b[?25hDownloading eth_keys-0.5.1-py3-none-any.whl (21 kB)\n",
            "Downloading pycryptodome-3.20.0-cp35-abi3-manylinux_2_17_x86_64.manylinux2014_x86_64.whl (2.1 MB)\n",
            "\u001b[2K   \u001b[90m━━━━━━━━━━━━━━━━━━━━━━━━━━━━━━━━━━━━━━━━\u001b[0m \u001b[32m2.1/2.1 MB\u001b[0m \u001b[31m56.4 MB/s\u001b[0m eta \u001b[36m0:00:00\u001b[0m\n",
            "\u001b[?25hDownloading eth_typing-5.0.0-py3-none-any.whl (20 kB)\n",
            "Downloading eth_utils-5.0.0-py3-none-any.whl (100 kB)\n",
            "\u001b[2K   \u001b[90m━━━━━━━━━━━━━━━━━━━━━━━━━━━━━━━━━━━━━━━━\u001b[0m \u001b[32m100.5/100.5 kB\u001b[0m \u001b[31m9.0 MB/s\u001b[0m eta \u001b[36m0:00:00\u001b[0m\n",
            "\u001b[?25hDownloading asn1crypto-1.5.1-py2.py3-none-any.whl (105 kB)\n",
            "\u001b[2K   \u001b[90m━━━━━━━━━━━━━━━━━━━━━━━━━━━━━━━━━━━━━━━━\u001b[0m \u001b[32m105.0/105.0 kB\u001b[0m \u001b[31m10.1 MB/s\u001b[0m eta \u001b[36m0:00:00\u001b[0m\n",
            "\u001b[?25hDownloading cytoolz-0.12.3-cp310-cp310-manylinux_2_17_x86_64.manylinux2014_x86_64.whl (2.0 MB)\n",
            "\u001b[2K   \u001b[90m━━━━━━━━━━━━━━━━━━━━━━━━━━━━━━━━━━━━━━━━\u001b[0m \u001b[32m2.0/2.0 MB\u001b[0m \u001b[31m59.3 MB/s\u001b[0m eta \u001b[36m0:00:00\u001b[0m\n",
            "\u001b[?25hDownloading eth_hash-0.7.0-py3-none-any.whl (8.7 kB)\n",
            "Downloading hexbytes-1.2.1-py3-none-any.whl (5.2 kB)\n",
            "Installing collected packages: asn1crypto, pycryptodome, hexbytes, eth-typing, eth-hash, cytoolz, eth-utils, coincurve, eth-keys, eciespy\n",
            "Successfully installed asn1crypto-1.5.1 coincurve-19.0.1 cytoolz-0.12.3 eciespy-0.4.2 eth-hash-0.7.0 eth-keys-0.5.1 eth-typing-5.0.0 eth-utils-5.0.0 hexbytes-1.2.1 pycryptodome-3.20.0\n"
          ]
        }
      ],
      "source": [
        "!pip install eciespy"
      ]
    },
    {
      "cell_type": "code",
      "source": [
        "\n",
        "from ecies.utils import generate_eth_key\n",
        "from ecies import encrypt, decrypt\n",
        "\n",
        "# Step 1: Generate a private key\n",
        "private_key = generate_eth_key()\n",
        "public_key = private_key.public_key\n",
        "\n",
        "# Step 2: Convert the public key to a usable format\n",
        "public_key_hex = public_key.to_hex()\n",
        "private_key_hex = private_key.to_hex()\n",
        "\n",
        "print(\"Public Key:\", public_key_hex)\n",
        "print(\"Private Key:\", private_key_hex)\n",
        "\n",
        "# Step 3: Encrypt a message using the recipient's public key\n",
        "plaintext = b\"3348610401970005#christofer*derian*budianto#tegal#1997-03-04#laki-laki#b#jl.*pala*22*no.*30#005#017#mejasem*tengah#kramat#katholik#belum*kawin#pelajar/mahasiswa#wni#seumur*hidup\"\n",
        "ciphertext = encrypt(public_key_hex, plaintext)\n",
        "\n",
        "print(\"Ciphertext:\", ciphertext.hex())\n",
        "\n",
        "# Step 4: Decrypt the ciphertext using the private key\n",
        "decrypted_message = decrypt(private_key_hex, ciphertext)\n",
        "print(\"Decrypted Message:\", decrypted_message.decode())"
      ],
      "metadata": {
        "colab": {
          "base_uri": "https://localhost:8080/"
        },
        "id": "FYM40G-ZSdCu",
        "outputId": "65f52e42-e205-4722-a075-3e66bd4d5136"
      },
      "execution_count": 19,
      "outputs": [
        {
          "output_type": "stream",
          "name": "stdout",
          "text": [
            "Public Key: 0xfa8d647f964a91fdbd3130cf447f1bee77ff96a49a77858ace7eeeee481027589db62d72e875b8dbdf9b24c1fc9b6030cf93c6783e95104e12bb275604336adc\n",
            "Private Key: 0x33acfb28cc7b5f7ab05bd6100deaade2f48e5b3aed5a11866b7029ae80fa7c3f\n",
            "Ciphertext: 04acd2c5bc747c415d44afed87544bb80b09f9af3caf8ac8b62bd7994cf762c69db7b76f1acaafa369cffb9ca1ed71c99f621ade5f9412ac60730de081a2c2bc2886afc5ed95c359e77f2d0415d7975e65d8b50acba5310fd7c21c1d24544d9848a37d9efae4fbf5ded511f9d73fd2786809b5bad527ba92f9e8dbce626a2dcb5b0f56a964abcb1ab2af0558e8bc1652b348640bef530b055eb20104f29c5cb787d8fa101b0932b14ed8c28dd10aab975acedf0466ed124dc19ac025157b25fe214b85fe68ce711686d8b43d74ce5a2ec3e0b59461800358c375670838a932839fb1608ac035602f9ee8a51d474244245e13d2e9948b2d2cc0def2d84f929c120473e1f8162474e1784b757b8ea4efbffa84\n",
            "Decrypted Message: 3348610401970005#christofer*derian*budianto#tegal#1997-03-04#laki-laki#b#jl.*pala*22*no.*30#005#017#mejasem*tengah#kramat#katholik#belum*kawin#pelajar/mahasiswa#wni#seumur*hidup\n"
          ]
        }
      ]
    },
    {
      "cell_type": "code",
      "source": [
        "import base64\n",
        "# Convert the hexadecimal ciphertext back into bytes\n",
        "ciphertext_bytes = bytes.fromhex(ciphertext.hex())\n",
        "\n",
        "# Encode the bytes to Base64\n",
        "ciphertext_base64 = base64.b64encode(ciphertext_bytes)\n",
        "\n",
        "# Print the Base64-encoded ciphertext (which will include symbols)\n",
        "print(\"Base64 Encoded Ciphertext:\", ciphertext_base64.decode())"
      ],
      "metadata": {
        "colab": {
          "base_uri": "https://localhost:8080/"
        },
        "id": "_AVwBcAaSp5K",
        "outputId": "ad18d928-77b9-48bd-a9d7-f92751de4b07"
      },
      "execution_count": 6,
      "outputs": [
        {
          "output_type": "stream",
          "name": "stdout",
          "text": [
            "Base64 Encoded Ciphertext: BNNbNnhBP0Rm1fLpltnaMQFspzo6n5j8YGf+fRtUiD0/D56IR/ll6vIqpN87hegY9J4V6tygAtB5DGQgIg84KsWyhdgRzegGZiaC+WswV4COfT48x4llsVW53pPBq8kMYeTwKu3zClXXuBp5d+B0a4ECzU5VFZ9sZvA+KZk7ZW5jUcXPQDKU8YvI1OKaqL8blo/jedxclnr0L4tCPWU5ddiR4BfMK4qhNiK+6/0NyYR/NXAPoJX7Wwn9QmTFTiGsgMJG9/bKyUDKsmKngC7pPMMr6XsoGoey4CM92+r4Asc+mVuax6kKnpA2YzapQk7msu6UtyaaBSooz2w4PMAxWJRmYE9UNXEtEDw8Fg5TS+nBrQ==\n"
          ]
        }
      ]
    },
    {
      "cell_type": "code",
      "source": [
        "import base64\n",
        "from ecies.utils import generate_eth_key\n",
        "from ecies import encrypt, decrypt\n",
        "\n",
        "# Step 1: Generate a private key\n",
        "private_key = generate_eth_key()\n",
        "public_key = private_key.public_key\n",
        "\n",
        "# Step 2: Convert the public key to a usable format\n",
        "public_key_hex = public_key.to_hex()\n",
        "private_key_hex = private_key.to_hex()\n",
        "\n",
        "print(\"Public Key:\", public_key_hex)\n",
        "print(\"Private Key:\", private_key_hex)\n",
        "\n",
        "# Step 3: Encrypt a message using the recipient's public key\n",
        "plaintext = b\"3348610401970005#christofer*derian*budianto#tegal#1997-03-04#laki-laki#b#jl.*pala*22*no.*30#005#017#mejasem*tengah#kramat#katholik#belum*kawin#pelajar/mahasiswa#wni#seumur*hidup\"\n",
        "ciphertext = encrypt(public_key_hex, plaintext)\n",
        "\n",
        "# Convert the ciphertext to Base64 for a different representation\n",
        "ciphertext_base64 = base64.b64encode(ciphertext).decode()\n",
        "\n",
        "print(\"Ciphertext (Base64):\", ciphertext_base64)\n",
        "\n",
        "# Step 4: Decrypt the ciphertext using the private key\n",
        "decrypted_message = decrypt(private_key_hex, ciphertext)\n",
        "print(\"Decrypted Message:\", decrypted_message.decode())\n"
      ],
      "metadata": {
        "colab": {
          "base_uri": "https://localhost:8080/"
        },
        "id": "V9P1cZIUTn14",
        "outputId": "8b4d4aea-64fb-4d83-f86d-dc69019274c4"
      },
      "execution_count": 7,
      "outputs": [
        {
          "output_type": "stream",
          "name": "stdout",
          "text": [
            "Public Key: 0xd2650e50a7af006c4d3b5c65897f0a4d2191a22d4480230b39e5694fe7fbf9f7451089767a80ece4d8ecb565d2057f0f4e46d047aef1f279d15bb0616c9e66a9\n",
            "Private Key: 0xdaf083c23f22679f22d256c63e359599e84caedf7a7584f2cd6b095dd5d26ebb\n",
            "Ciphertext (Base64): BAfoetPYo2mhes3GECuK7bGU+hploJNgd01mQ6cNfCnWAx0JUgTpFtDWcYaaioSRyvnMHFXyEpCk6ZgGhG69N8xoaH4dhYtonE/w1jJWoMTp78eZeBll6rERo5CqRRPW98qfW3of+wGSAzOmWGkTBdZzoV71WECXrWCOg9mUP2NHoNEor0ejI+Vp+XTgzCcXvTtgfLUSL0jxveNMU0KyQNx4yz7G2ASHuiR0CwhvyY+xZK5FsthPbi91R7vdzNLeZx8cjoYBxjazV1FWypqO5S0X3IBmkzYg1eG77TfubQNPD4TUB6SFLch2yzj6WZVH+XFL/dYVhiK5Od6J1ahl+dqGXYX4RCAASNaia0ifY5zjig==\n",
            "Decrypted Message: 3348610401970005#christofer*derian*budianto#tegal#1997-03-04#laki-laki#b#jl.*pala*22*no.*30#005#017#mejasem*tengah#kramat#katholik#belum*kawin#pelajar/mahasiswa#wni#seumur*hidup\n"
          ]
        }
      ]
    },
    {
      "cell_type": "code",
      "source": [
        "import base64\n",
        "from ecies.utils import generate_eth_key\n",
        "from ecies import encrypt, decrypt\n",
        "\n",
        "# Step 1: Generate a private key\n",
        "private_key = generate_eth_key()\n",
        "public_key = private_key.public_key\n",
        "\n",
        "# Step 2: Convert the public key to a usable format\n",
        "public_key_hex = public_key.to_hex()\n",
        "private_key_hex = private_key.to_hex()\n",
        "\n",
        "print(\"Public Key:\", public_key_hex)\n",
        "print(\"Private Key:\", private_key_hex)\n",
        "\n",
        "# Step 3: Encrypt a message using the recipient's public key (message in bytes)\n",
        "plaintext = b\"3348610401970005#christofer*derian*budianto#tegal#1997-03-04#laki-laki#b#jl.*pala*22*no.*30#005#017#mejasem*tengah#kramat#katholik#belum*kawin#pelajar/mahasiswa#wni#seumur*hidup\"\n",
        "ciphertext = encrypt(public_key_hex, plaintext)\n",
        "\n",
        "# Convert the ciphertext to Base64 for a more transportable form\n",
        "ciphertext_base64 = base64.b64encode(ciphertext).decode()\n",
        "print(\"Ciphertext (Base64):\", ciphertext_base64)\n",
        "\n",
        "# Step 4: Decode the Base64 ciphertext back into bytes for decryption\n",
        "ciphertext_bytes = base64.b64decode(ciphertext_base64)\n",
        "\n",
        "# Step 5: Decrypt the ciphertext using the private key\n",
        "decrypted_message = decrypt(private_key_hex, ciphertext_bytes)\n",
        "\n",
        "# Step 6: Convert decrypted bytes back to a readable string\n",
        "print(\"Decrypted Message:\", decrypted_message)\n"
      ],
      "metadata": {
        "colab": {
          "base_uri": "https://localhost:8080/"
        },
        "id": "3-oO2yNRUBin",
        "outputId": "c1f17757-3361-4690-fe6d-a35d9b743a77"
      },
      "execution_count": 9,
      "outputs": [
        {
          "output_type": "stream",
          "name": "stdout",
          "text": [
            "Public Key: 0x535f4d7c91e54a597c4f829824af180e0713e5d4417ff5d383a52a765a79f96c765bd8bd5b7054af2f4b768cba314255ac547c68e1125ce64adf565341a7103b\n",
            "Private Key: 0x6993f87d6f89ed1036b0a70d00e8d3ad79e4bcc01d17a5e19e03f620a6758451\n",
            "Ciphertext (Base64): BENm30HEcBo7omJ/1RHdcnscJVz3zXUPsFgeZISlhvLIGxAWl4jvB3nyAkVGdod2iN06a8QpSC6TWRjdCP6e9t+ON7E1mF6qS+adcmpLeHZ+lRqitSP7eBEQVB+tUzMh19r/5SbIrkgltvGa4Qg4FV426sKva4lLnAtNkY6dl0zc/bAUlql6HxNg8XSqjVr8pCudxOzDPROqCLEmcyzIrZOol2z2Cla6wSdQB1ywi/MIQvZv2N9xsMPePe0RRbkRUIdLtjOpwNX0RtOcAFR9uScpg8hEtOWN35uhSfPLU6kjTEEGuCbSY7ADjQM2F7bMj6B3udXbns5rvhmzH1vnlUmERJpq/4AhOU9jRh5xsrMVVg==\n",
            "Decrypted Message: b'3348610401970005#christofer*derian*budianto#tegal#1997-03-04#laki-laki#b#jl.*pala*22*no.*30#005#017#mejasem*tengah#kramat#katholik#belum*kawin#pelajar/mahasiswa#wni#seumur*hidup'\n"
          ]
        }
      ]
    },
    {
      "cell_type": "code",
      "source": [
        "import base64\n",
        "from ecies.utils import generate_eth_key\n",
        "from ecies import encrypt, decrypt\n",
        "\n",
        "# Step 1: Generate a private key\n",
        "private_key = generate_eth_key()\n",
        "public_key = private_key.public_key\n",
        "\n",
        "# Step 2: Convert the public key and private key to a usable format\n",
        "public_key_hex = public_key.to_hex()[2:]  # Remove the \"0x\" prefix\n",
        "private_key_hex = private_key.to_hex()[2:]  # Remove the \"0x\" prefix\n",
        "\n",
        "# Measure the length of the keys (in bytes and bits)\n",
        "private_key_bytes = len(bytes.fromhex(private_key_hex))\n",
        "public_key_bytes = len(bytes.fromhex(public_key_hex))\n",
        "\n",
        "print(\"Public Key:\", public_key_hex)\n",
        "print(f\"Public Key Length: {public_key_bytes} bytes ({public_key_bytes * 8} bits)\")\n",
        "\n",
        "print(\"Private Key:\", private_key_hex)\n",
        "print(f\"Private Key Length: {private_key_bytes} bytes ({private_key_bytes * 8} bits)\")\n",
        "\n",
        "# Step 3: Encrypt a message using the recipient's public key (message in bytes)\n",
        "plaintext = b\"3348610401970005#christofer*derian*budianto#tegal#1997-03-04#laki-laki#b#jl.*pala*22*no.*30#005#017#mejasem*tengah#kramat#katholik#belum*kawin#pelajar/mahasiswa#wni#seumur*hidup\"\n",
        "ciphertext = encrypt(public_key_hex, plaintext)\n",
        "\n",
        "# Convert the ciphertext to Base64 for a more transportable form\n",
        "ciphertext_base64 = base64.b64encode(ciphertext).decode()\n",
        "print(\"Ciphertext (Base64):\", ciphertext_base64)\n",
        "\n",
        "# Step 4: Decode the Base64 ciphertext back into bytes for decryption\n",
        "ciphertext_bytes = base64.b64decode(ciphertext_base64)\n",
        "\n",
        "# Step 5: Decrypt the ciphertext using the private key\n",
        "decrypted_message = decrypt(private_key_hex, ciphertext_bytes)\n",
        "\n",
        "# Step 6: Convert decrypted bytes back to a readable string\n",
        "print(\"Decrypted Message:\", decrypted_message.decode())\n"
      ],
      "metadata": {
        "colab": {
          "base_uri": "https://localhost:8080/"
        },
        "id": "m2kOiNb-UXw0",
        "outputId": "fb08f39a-90c3-4b7d-a25c-253164596dcc"
      },
      "execution_count": 11,
      "outputs": [
        {
          "output_type": "stream",
          "name": "stdout",
          "text": [
            "Public Key: a8b48613c198a62cd37747c120650518c3936361d21478a2fa4c48af13fb8ae01c6dc2c973384ca3d1dd3f187c5445b546c843a5ca76abd627afef0a82ec42b9\n",
            "Public Key Length: 64 bytes (512 bits)\n",
            "Private Key: 28a5aab10f6aeed6c9eb39103dd0cfbc971d6d48192ad27c0b518df2fd4c6a99\n",
            "Private Key Length: 32 bytes (256 bits)\n",
            "Ciphertext (Base64): BJ4yAas8U+Mfz0lySAGyt91FXyeD0wDXOXrg+wIO97XKzwix2GU8b/vhP1JHeekJubGH12lwcs/Tfx7OvZS3x/IhkL3rKjtqM6gD1Ova9mi+u5R6nNPAiwmv/TClynKGiyvVhBqUotjRcN8NU9Hjp0e/MYGSg9rNtqZok6WBY6KyDR1UyGt0TJEsKynyzLENWAU7cgFSU03Fi7I+159xdkHMG2/mE4cLb+8eFFwFRDNkoApEwpwOMd73RhOSdUPoAgZrO1+EGXOSeyTLc4gHwdA6OqMIA8kd8KZBIE/0l3ukXAjYmdiniDBtNpm82OJhT1D2RmAaO1+oH9obxFhYR1EUopTMTyirfB7qJLB46lhYkA==\n",
            "Decrypted Message: 3348610401970005#christofer*derian*budianto#tegal#1997-03-04#laki-laki#b#jl.*pala*22*no.*30#005#017#mejasem*tengah#kramat#katholik#belum*kawin#pelajar/mahasiswa#wni#seumur*hidup\n"
          ]
        }
      ]
    },
    {
      "cell_type": "markdown",
      "source": [
        "# Least Significant Bit"
      ],
      "metadata": {
        "id": "YJOnnYOUU8Sr"
      }
    },
    {
      "cell_type": "code",
      "source": [
        "!git clone https://github.com/RobinDavid/LSB-Steganography"
      ],
      "metadata": {
        "colab": {
          "base_uri": "https://localhost:8080/"
        },
        "id": "zrDUAzi6VEs5",
        "outputId": "4f588bdc-0ed5-46db-f83b-fcded35838bb"
      },
      "execution_count": 12,
      "outputs": [
        {
          "output_type": "stream",
          "name": "stdout",
          "text": [
            "Cloning into 'LSB-Steganography'...\n",
            "remote: Enumerating objects: 75, done.\u001b[K\n",
            "remote: Counting objects: 100% (7/7), done.\u001b[K\n",
            "remote: Compressing objects: 100% (7/7), done.\u001b[K\n",
            "remote: Total 75 (delta 1), reused 2 (delta 0), pack-reused 68 (from 1)\u001b[K\n",
            "Receiving objects: 100% (75/75), 19.72 KiB | 9.86 MiB/s, done.\n",
            "Resolving deltas: 100% (26/26), done.\n"
          ]
        }
      ]
    },
    {
      "cell_type": "code",
      "source": [
        "!cd LSB-Steganography && ls && pip install -r requirements.txt"
      ],
      "metadata": {
        "colab": {
          "base_uri": "https://localhost:8080/"
        },
        "id": "1_lIb8CgVIb7",
        "outputId": "3f17eb35-b8c7-42f4-c080-8ae6ac24eaf4"
      },
      "execution_count": 13,
      "outputs": [
        {
          "output_type": "stream",
          "name": "stdout",
          "text": [
            "LICENCE  LSBSteg.py  README.md\trequirements.txt\n",
            "Requirement already satisfied: opencv-python in /usr/local/lib/python3.10/dist-packages (from -r requirements.txt (line 1)) (4.10.0.84)\n",
            "Collecting docopt (from -r requirements.txt (line 2))\n",
            "  Downloading docopt-0.6.2.tar.gz (25 kB)\n",
            "  Preparing metadata (setup.py) ... \u001b[?25l\u001b[?25hdone\n",
            "Requirement already satisfied: numpy in /usr/local/lib/python3.10/dist-packages (from -r requirements.txt (line 3)) (1.26.4)\n",
            "Building wheels for collected packages: docopt\n",
            "  Building wheel for docopt (setup.py) ... \u001b[?25l\u001b[?25hdone\n",
            "  Created wheel for docopt: filename=docopt-0.6.2-py2.py3-none-any.whl size=13704 sha256=c088adcb722cacec1bc8769194df1475f78d3a2cdf59f0f3d1912df59cd473b1\n",
            "  Stored in directory: /root/.cache/pip/wheels/fc/ab/d4/5da2067ac95b36618c629a5f93f809425700506f72c9732fac\n",
            "Successfully built docopt\n",
            "Installing collected packages: docopt\n",
            "Successfully installed docopt-0.6.2\n"
          ]
        }
      ]
    },
    {
      "cell_type": "code",
      "source": [
        "#!/usr/bin/env python\n",
        "# coding:UTF-8\n",
        "\"\"\"LSBSteg.py\n",
        "\n",
        "Usage:\n",
        "  LSBSteg.py encode -i <input> -o <output> -f <file>\n",
        "  LSBSteg.py decode -i <input> -o <output>\n",
        "\n",
        "Options:\n",
        "  -h, --help                Show this help\n",
        "  --version                 Show the version\n",
        "  -f,--file=<file>          File to hide\n",
        "  -i,--in=<input>           Input image (carrier)\n",
        "  -o,--out=<output>         Output image (or extracted file)\n",
        "\"\"\"\n",
        "\n",
        "import cv2\n",
        "import docopt\n",
        "import numpy as np\n",
        "\n",
        "\n",
        "class SteganographyException(Exception):\n",
        "    pass\n",
        "\n",
        "\n",
        "class LSBSteg():\n",
        "    def __init__(self, im):\n",
        "        self.image = im\n",
        "        self.height, self.width, self.nbchannels = im.shape\n",
        "        self.size = self.width * self.height\n",
        "\n",
        "        self.maskONEValues = [1,2,4,8,16,32,64,128]\n",
        "        #Mask used to put one ex:1->00000001, 2->00000010 .. associated with OR bitwise\n",
        "        self.maskONE = self.maskONEValues.pop(0) #Will be used to do bitwise operations\n",
        "\n",
        "        self.maskZEROValues = [254,253,251,247,239,223,191,127]\n",
        "        #Mak used to put zero ex:254->11111110, 253->11111101 .. associated with AND bitwise\n",
        "        self.maskZERO = self.maskZEROValues.pop(0)\n",
        "\n",
        "        self.curwidth = 0  # Current width position\n",
        "        self.curheight = 0 # Current height position\n",
        "        self.curchan = 0   # Current channel position\n",
        "\n",
        "    def put_binary_value(self, bits): #Put the bits in the image\n",
        "        for c in bits:\n",
        "            val = list(self.image[self.curheight,self.curwidth]) #Get the pixel value as a list\n",
        "            if int(c) == 1:\n",
        "                val[self.curchan] = int(val[self.curchan]) | self.maskONE #OR with maskONE\n",
        "            else:\n",
        "                val[self.curchan] = int(val[self.curchan]) & self.maskZERO #AND with maskZERO\n",
        "\n",
        "            self.image[self.curheight,self.curwidth] = tuple(val)\n",
        "            self.next_slot() #Move \"cursor\" to the next space\n",
        "\n",
        "    def next_slot(self):#Move to the next slot were information can be taken or put\n",
        "        if self.curchan == self.nbchannels-1: #Next Space is the following channel\n",
        "            self.curchan = 0\n",
        "            if self.curwidth == self.width-1: #Or the first channel of the next pixel of the same line\n",
        "                self.curwidth = 0\n",
        "                if self.curheight == self.height-1:#Or the first channel of the first pixel of the next line\n",
        "                    self.curheight = 0\n",
        "                    if self.maskONE == 128: #Mask 1000000, so the last mask\n",
        "                        raise SteganographyException(\"No available slot remaining (image filled)\")\n",
        "                    else: #Or instead of using the first bit start using the second and so on..\n",
        "                        self.maskONE = self.maskONEValues.pop(0)\n",
        "                        self.maskZERO = self.maskZEROValues.pop(0)\n",
        "                else:\n",
        "                    self.curheight +=1\n",
        "            else:\n",
        "                self.curwidth +=1\n",
        "        else:\n",
        "            self.curchan +=1\n",
        "\n",
        "    def read_bit(self): #Read a single bit int the image\n",
        "        val = self.image[self.curheight,self.curwidth][self.curchan]\n",
        "        val = int(val) & self.maskONE\n",
        "        self.next_slot()\n",
        "        if val > 0:\n",
        "            return \"1\"\n",
        "        else:\n",
        "            return \"0\"\n",
        "\n",
        "    def read_byte(self):\n",
        "        return self.read_bits(8)\n",
        "\n",
        "    def read_bits(self, nb): #Read the given number of bits\n",
        "        bits = \"\"\n",
        "        for i in range(nb):\n",
        "            bits += self.read_bit()\n",
        "        return bits\n",
        "\n",
        "    def byteValue(self, val):\n",
        "        return self.binary_value(val, 8)\n",
        "\n",
        "    def binary_value(self, val, bitsize): #Return the binary value of an int as a byte\n",
        "        binval = bin(val)[2:]\n",
        "        if len(binval) > bitsize:\n",
        "            raise SteganographyException(\"binary value larger than the expected size\")\n",
        "        while len(binval) < bitsize:\n",
        "            binval = \"0\"+binval\n",
        "        return binval\n",
        "\n",
        "    def encode_text(self, txt):\n",
        "        l = len(txt)\n",
        "        binl = self.binary_value(l, 16) #Length coded on 2 bytes so the text size can be up to 65536 bytes long\n",
        "        self.put_binary_value(binl) #Put text length coded on 4 bytes\n",
        "        for char in txt: #And put all the chars\n",
        "            c = ord(char)\n",
        "            self.put_binary_value(self.byteValue(c))\n",
        "        return self.image\n",
        "\n",
        "    def decode_text(self):\n",
        "        ls = self.read_bits(16) #Read the text size in bytes\n",
        "        l = int(ls,2)\n",
        "        i = 0\n",
        "        unhideTxt = \"\"\n",
        "        while i < l: #Read all bytes of the text\n",
        "            tmp = self.read_byte() #So one byte\n",
        "            i += 1\n",
        "            unhideTxt += chr(int(tmp,2)) #Every chars concatenated to str\n",
        "        return unhideTxt\n",
        "\n",
        "    def encode_image(self, imtohide):\n",
        "        w = imtohide.width\n",
        "        h = imtohide.height\n",
        "        if self.width*self.height*self.nbchannels < w*h*imtohide.channels:\n",
        "            raise SteganographyException(\"Carrier image not big enough to hold all the datas to steganography\")\n",
        "        binw = self.binary_value(w, 16) #Width coded on to byte so width up to 65536\n",
        "        binh = self.binary_value(h, 16)\n",
        "        self.put_binary_value(binw) #Put width\n",
        "        self.put_binary_value(binh) #Put height\n",
        "        for h in range(imtohide.height): #Iterate the hole image to put every pixel values\n",
        "            for w in range(imtohide.width):\n",
        "                for chan in range(imtohide.channels):\n",
        "                    val = imtohide[h,w][chan]\n",
        "                    self.put_binary_value(self.byteValue(int(val)))\n",
        "        return self.image\n",
        "\n",
        "\n",
        "    def decode_image(self):\n",
        "        width = int(self.read_bits(16),2) #Read 16bits and convert it in int\n",
        "        height = int(self.read_bits(16),2)\n",
        "        unhideimg = np.zeros((width,height, 3), np.uint8) #Create an image in which we will put all the pixels read\n",
        "        for h in range(height):\n",
        "            for w in range(width):\n",
        "                for chan in range(unhideimg.channels):\n",
        "                    val = list(unhideimg[h,w])\n",
        "                    val[chan] = int(self.read_byte(),2) #Read the value\n",
        "                    unhideimg[h,w] = tuple(val)\n",
        "        return unhideimg\n",
        "\n",
        "    def encode_binary(self, data):\n",
        "        l = len(data)\n",
        "        if self.width*self.height*self.nbchannels < l+64:\n",
        "            raise SteganographyException(\"Carrier image not big enough to hold all the datas to steganography\")\n",
        "        self.put_binary_value(self.binary_value(l, 64))\n",
        "        for byte in data:\n",
        "            byte = byte if isinstance(byte, int) else ord(byte) # Compat py2/py3\n",
        "            self.put_binary_value(self.byteValue(byte))\n",
        "        return self.image\n",
        "\n",
        "    def decode_binary(self):\n",
        "        l = int(self.read_bits(64), 2)\n",
        "        output = b\"\"\n",
        "        for i in range(l):\n",
        "            output += bytearray([int(self.read_byte(),2)])\n",
        "        return output\n",
        "\n",
        "\n",
        "def main():\n",
        "    args = docopt.docopt(__doc__, version=\"0.2\")\n",
        "    in_f = args[\"--in\"]\n",
        "    out_f = args[\"--out\"]\n",
        "    in_img = cv2.imread(in_f)\n",
        "    steg = LSBSteg(in_img)\n",
        "    lossy_formats = [\"jpeg\", \"jpg\"]\n",
        "\n",
        "    if args['encode']:\n",
        "        #Handling lossy format\n",
        "        out_f, out_ext = out_f.split(\".\")\n",
        "        if out_ext in lossy_formats:\n",
        "            out_f = out_f + \".png\"\n",
        "            print(\"Output file changed to \", out_f)\n",
        "\n",
        "        data = open(args[\"--file\"], \"rb\").read()\n",
        "        res = steg.encode_binary(data)\n",
        "        cv2.imwrite(out_f, res)\n",
        "\n",
        "    elif args[\"decode\"]:\n",
        "        raw = steg.decode_binary()\n",
        "        with open(out_f, \"wb\") as f:\n",
        "            f.write(raw)\n",
        "\n",
        "# if __name__==\"__main__\":\n",
        "#     main()"
      ],
      "metadata": {
        "id": "ITmPzL64VKVS"
      },
      "execution_count": 14,
      "outputs": []
    },
    {
      "cell_type": "code",
      "source": [
        "import requests\n",
        "from PIL import Image\n",
        "import io\n",
        "\n",
        "# URL to the raw image file\n",
        "url = \"https://raw.githubusercontent.com/mikolalysenko/lena/master/lena.png\"\n",
        "\n",
        "# Download the image\n",
        "response = requests.get(url)\n",
        "if response.status_code == 200:\n",
        "    # Load the image using PIL\n",
        "    lena_image = Image.open(io.BytesIO(response.content))\n",
        "    lena_image.show()  # Display the image (optional)\n",
        "    lena_image.save(\"lena_downloaded.png\")  # Save the image locally\n",
        "else:\n",
        "    print(\"Failed to download the image.\")\n"
      ],
      "metadata": {
        "id": "msgXaFLNVewB"
      },
      "execution_count": 15,
      "outputs": []
    },
    {
      "cell_type": "code",
      "source": [
        "\n",
        "from ecies.utils import generate_eth_key\n",
        "from ecies import encrypt, decrypt\n",
        "\n",
        "# Step 1: Generate a private key\n",
        "private_key = generate_eth_key()\n",
        "public_key = private_key.public_key\n",
        "\n",
        "# Step 2: Convert the public key to a usable format\n",
        "public_key_hex = public_key.to_hex()\n",
        "private_key_hex = private_key.to_hex()\n",
        "\n",
        "print(\"Public Key:\", public_key_hex)\n",
        "print(\"Private Key:\", private_key_hex)\n",
        "\n",
        "# Step 3: Encrypt a message using the recipient's public key\n",
        "plaintext = b\"3348610401970005#christofer*derian*budianto#tegal#1997-03-04#laki-laki#b#jl.*pala*22*no.*30#005#017#mejasem*tengah#kramat#katholik#belum*kawin#pelajar/mahasiswa#wni#seumur*hidup\"\n",
        "ciphertext = encrypt(public_key_hex, plaintext)\n",
        "\n",
        "print(\"Ciphertext:\", ciphertext.hex())\n",
        "\n",
        "# Step 4: Decrypt the ciphertext using the private key\n",
        "# decrypted_message = decrypt(private_key_hex, ciphertext)\n",
        "# print(\"Decrypted Message:\", decrypted_message)"
      ],
      "metadata": {
        "colab": {
          "base_uri": "https://localhost:8080/"
        },
        "id": "7fNxZXAOWN_2",
        "outputId": "55c1a266-4a81-4d00-d89e-2d62741302e3"
      },
      "execution_count": 43,
      "outputs": [
        {
          "output_type": "stream",
          "name": "stdout",
          "text": [
            "Public Key: 0xc6695b0ca0cd6a6d5d48fc92d9e9323d622fbc1f9404313b1efa57008a5d84f56487e3a6a39b50cddc15ef473fa0fb3796d597f954686995e2ca85504f4aa5b1\n",
            "Private Key: 0x2dac2c497c377d5f4900455062e860cf4c50070887a67dd0ccd253699a1fd9cb\n",
            "Ciphertext: 04e882da5575a2ad74d5b386051f9dd0925508b08540add63f229d11d29d856d6126339675c344ab802f52ae8f19dcc2c5bae750027141403ca6d26d1936f5dc9b038bb416fdc7cfd684337d59bee6eca9f2bdc921cb8e9ab2ffab8b4af9f919e56f7270395931386cf7da535a40f6625c9b3ec2db9d4d219194c7206c5b7c63f5a567c79bb36e8fab2c2d4ca00f2dcd814dde3fec7ced89f6ac9f43a8bf46c76dbc30fec3d110640eaaa3d8d3c627845d53d876d0bfd92af06b1a54ff26b85cf61ab83840a7d2a4619740cd42ff4f75045253832572ff9a644fafa3948d3adc533286d7dafa10a1be85eef66c82e4242226bf43e4e44437f5e922d8fe519b77ff24975005ebec6a991b7fa44afb3992e420\n"
          ]
        }
      ]
    },
    {
      "cell_type": "code",
      "source": [
        "steg = LSBSteg(cv2.imread(\"lena_downloaded.png\"))\n",
        "img_encoded = steg.encode_text(ciphertext.hex())\n",
        "cv2.imwrite(\"my_new_image.png\", img_encoded)"
      ],
      "metadata": {
        "colab": {
          "base_uri": "https://localhost:8080/"
        },
        "id": "y9vdnhdfVO9r",
        "outputId": "133a29b2-bb96-4284-f00d-3d83cea2ef49"
      },
      "execution_count": 44,
      "outputs": [
        {
          "output_type": "execute_result",
          "data": {
            "text/plain": [
              "True"
            ]
          },
          "metadata": {},
          "execution_count": 44
        }
      ]
    },
    {
      "cell_type": "code",
      "source": [
        "im = cv2.imread(\"my_new_image.png\")\n",
        "steg = LSBSteg(im)\n",
        "bytess = steg.decode_text()\n",
        "print(bytess)"
      ],
      "metadata": {
        "colab": {
          "base_uri": "https://localhost:8080/"
        },
        "id": "g1KfGOjYVI_C",
        "outputId": "c0c3dd94-750e-492a-cc91-cd3e04968558"
      },
      "execution_count": 45,
      "outputs": [
        {
          "output_type": "stream",
          "name": "stdout",
          "text": [
            "04e882da5575a2ad74d5b386051f9dd0925508b08540add63f229d11d29d856d6126339675c344ab802f52ae8f19dcc2c5bae750027141403ca6d26d1936f5dc9b038bb416fdc7cfd684337d59bee6eca9f2bdc921cb8e9ab2ffab8b4af9f919e56f7270395931386cf7da535a40f6625c9b3ec2db9d4d219194c7206c5b7c63f5a567c79bb36e8fab2c2d4ca00f2dcd814dde3fec7ced89f6ac9f43a8bf46c76dbc30fec3d110640eaaa3d8d3c627845d53d876d0bfd92af06b1a54ff26b85cf61ab83840a7d2a4619740cd42ff4f75045253832572ff9a644fafa3948d3adc533286d7dafa10a1be85eef66c82e4242226bf43e4e44437f5e922d8fe519b77ff24975005ebec6a991b7fa44afb3992e420\n"
          ]
        }
      ]
    },
    {
      "cell_type": "code",
      "source": [
        "import cv2\n",
        "import numpy as np\n",
        "\n",
        "def calculate_psnr(original_image, stego_image):\n",
        "    # Read images\n",
        "    original = cv2.imread(original_image)\n",
        "    stego = cv2.imread(stego_image)\n",
        "\n",
        "    # Calculate MSE (Mean Squared Error)\n",
        "    mse = np.mean((original - stego) ** 2)\n",
        "    if mse == 0:  # If images are identical\n",
        "        return float('inf')\n",
        "\n",
        "    # Calculate PSNR\n",
        "    max_pixel_value = 255.0\n",
        "    psnr = 20 * np.log10(max_pixel_value / np.sqrt(mse))\n",
        "    return psnr\n",
        "\n",
        "# Example usage\n",
        "original_image = 'lena_downloaded.png'\n",
        "stego_image = 'my_new_image.png'\n",
        "psnr_value = calculate_psnr(original_image, stego_image)\n",
        "print(f\"PSNR value is: {psnr_value}\")"
      ],
      "metadata": {
        "colab": {
          "base_uri": "https://localhost:8080/"
        },
        "id": "oJOwbmH0Vz1A",
        "outputId": "93b3cfe4-5cca-43a4-8824-3a5957d9904a"
      },
      "execution_count": 46,
      "outputs": [
        {
          "output_type": "stream",
          "name": "stdout",
          "text": [
            "PSNR value is: 73.60631469058997\n"
          ]
        }
      ]
    },
    {
      "cell_type": "code",
      "source": [
        "import cv2\n",
        "import numpy as np\n",
        "\n",
        "def calculate_psnr_2(original_image, stego_image):\n",
        "    # Read images\n",
        "    original = cv2.imread(original_image)\n",
        "    stego = cv2.imread(stego_image)\n",
        "\n",
        "    # Calculate MSE (Mean Squared Error)\n",
        "    mse = np.mean((original - stego) ** 2)\n",
        "    if mse == 0:  # If images are identical\n",
        "        return float('inf')\n",
        "\n",
        "    # Calculate PSNR using the 10 log10 version\n",
        "    max_pixel_value = 255.0\n",
        "    psnr = 10 * np.log10((max_pixel_value ** 2) / mse)\n",
        "    return psnr\n",
        "\n",
        "# Example usage\n",
        "original_image = 'lena_downloaded.png'\n",
        "stego_image = 'my_new_image.png'\n",
        "psnr_value = calculate_psnr_2(original_image, stego_image)\n",
        "print(f\"PSNR value is: {psnr_value}\")\n"
      ],
      "metadata": {
        "colab": {
          "base_uri": "https://localhost:8080/"
        },
        "id": "OT-uGlv-V15W",
        "outputId": "816290c2-40bc-49bd-f86c-98071fb71cb4"
      },
      "execution_count": 47,
      "outputs": [
        {
          "output_type": "stream",
          "name": "stdout",
          "text": [
            "PSNR value is: 73.60631469058997\n"
          ]
        }
      ]
    },
    {
      "cell_type": "code",
      "source": [
        "#  73.69687801830095"
      ],
      "metadata": {
        "id": "mg2gf108XGlK"
      },
      "execution_count": null,
      "outputs": []
    },
    {
      "cell_type": "code",
      "source": [
        "decrypted_message = decrypt(private_key_hex, bytes.fromhex(bytess))\n",
        "print(\"Decrypted Message:\", decrypted_message.decode())"
      ],
      "metadata": {
        "colab": {
          "base_uri": "https://localhost:8080/"
        },
        "id": "Gr0572cvWkiY",
        "outputId": "ebe884a4-3ad1-44a6-c339-df4037aa15c8"
      },
      "execution_count": 42,
      "outputs": [
        {
          "output_type": "stream",
          "name": "stdout",
          "text": [
            "Decrypted Message: 3348610401970005#christofer*derian*budianto#tegal#1997-03-04#laki-laki#b#jl.*pala*22*no.*30#005#017#mejasem*tengah#kramat#katholik#belum*kawin#pelajar/mahasiswa#wni#seumur*hidup\n"
          ]
        }
      ]
    },
    {
      "cell_type": "markdown",
      "source": [
        "# Pui it together"
      ],
      "metadata": {
        "id": "9B1BiNajXqr0"
      }
    },
    {
      "cell_type": "code",
      "source": [
        "import cv2\n",
        "import numpy as np\n",
        "from ecies.utils import generate_eth_key\n",
        "from ecies import encrypt, decrypt\n",
        "\n",
        "def evaluate_psnr_and_decryption(original_image_path, output_image_path, plaintext):\n",
        "    # Step 1: Generate keys\n",
        "    private_key = generate_eth_key()\n",
        "    public_key = private_key.public_key\n",
        "    private_key_hex = private_key.to_hex()\n",
        "    public_key_hex = public_key.to_hex()\n",
        "\n",
        "    # Step 2: Encrypt the message\n",
        "    ciphertext = encrypt(public_key_hex, plaintext)\n",
        "    ciphertext_hex = ciphertext.hex()\n",
        "\n",
        "    # Step 3: Encode the encrypted message into an image\n",
        "    steg = LSBSteg(cv2.imread(original_image_path))\n",
        "    img_encoded = steg.encode_text(ciphertext_hex)\n",
        "    cv2.imwrite(output_image_path, img_encoded)\n",
        "\n",
        "    # Step 4: Decode the message from the stego image\n",
        "    im = cv2.imread(output_image_path)\n",
        "    steg = LSBSteg(im)\n",
        "    decoded_message_hex = steg.decode_text()\n",
        "\n",
        "    # Step 5: Decrypt the message using the private key\n",
        "    decrypted_message = decrypt(private_key_hex, bytes.fromhex(decoded_message_hex))\n",
        "\n",
        "    # Step 6: Calculate PSNR between the original and stego images\n",
        "    original = cv2.imread(original_image_path)\n",
        "    stego = cv2.imread(output_image_path)\n",
        "    mse = np.mean((original - stego) ** 2)\n",
        "    if mse == 0:\n",
        "        psnr_value = float('inf')\n",
        "    else:\n",
        "        max_pixel_value = 255.0\n",
        "        psnr_value = 10 * np.log10((max_pixel_value ** 2) / mse)\n",
        "\n",
        "    return psnr_value, decrypted_message.decode()"
      ],
      "metadata": {
        "id": "S5vcvf5ZXsd4"
      },
      "execution_count": 54,
      "outputs": []
    },
    {
      "cell_type": "code",
      "source": [
        "# Example usage\n",
        "original_image = 'lena_downloaded.png'\n",
        "output_image = 'my_new_image.png'\n",
        "plaintext = b\"3348610401970005#christofer*derian*budianto#tegal#1997-03-04#laki-laki#b#jl.*pala*22*no.*30#005#017#mejasem*tengah#kramat#katholik#belum*kawin#pelajar/mahasiswa#wni#seumur*hidup\"\n",
        "\n",
        "# Running the evaluation\n",
        "psnr_value, decrypted_message = evaluate_psnr_and_decryption(original_image, output_image, plaintext)\n",
        "print(f\"PSNR value: {psnr_value}\")\n",
        "print(f\"Decrypted Message: {decrypted_message}\")"
      ],
      "metadata": {
        "colab": {
          "base_uri": "https://localhost:8080/"
        },
        "id": "dEt7HrweYVUo",
        "outputId": "39505918-6dbe-47b1-fbb1-0376d422a860"
      },
      "execution_count": 55,
      "outputs": [
        {
          "output_type": "stream",
          "name": "stdout",
          "text": [
            "PSNR value: 73.6710920176118\n",
            "Decrypted Message: 3348610401970005#christofer*derian*budianto#tegal#1997-03-04#laki-laki#b#jl.*pala*22*no.*30#005#017#mejasem*tengah#kramat#katholik#belum*kawin#pelajar/mahasiswa#wni#seumur*hidup\n"
          ]
        }
      ]
    },
    {
      "cell_type": "code",
      "source": [
        "# Lists to store PSNR values and decrypted messages\n",
        "psnr_values = []\n",
        "decrypted_messages = []\n",
        "\n",
        "# Loop to run the evaluation multiple times\n",
        "for i in range(10):\n",
        "    psnr_value, decrypted_message = evaluate_psnr_and_decryption(original_image, output_image, plaintext)\n",
        "    psnr_values.append(psnr_value)\n",
        "    decrypted_messages.append(decrypted_message)\n",
        "    print(f\"Run {i + 1}: PSNR value: {psnr_value}\")\n",
        "    print(f\"Run {i + 1}: Decrypted Message: {decrypted_message}\")"
      ],
      "metadata": {
        "colab": {
          "base_uri": "https://localhost:8080/"
        },
        "id": "dMOaIeQ8YDOu",
        "outputId": "5cda3c20-e82c-4283-c142-7ba5c0c06767"
      },
      "execution_count": 158,
      "outputs": [
        {
          "output_type": "stream",
          "name": "stdout",
          "text": [
            "Run 1: PSNR value: 73.67702905861711\n",
            "Run 1: Decrypted Message: 3348610401970005#christofer*derian*budianto#tegal#1997-03-04#laki-laki#b#jl.*pala*22*no.*30#005#017#mejasem*tengah#kramat#katholik#belum*kawin#pelajar/mahasiswa#wni#seumur*hidup\n",
            "Run 2: PSNR value: 73.63171781482842\n",
            "Run 2: Decrypted Message: 3348610401970005#christofer*derian*budianto#tegal#1997-03-04#laki-laki#b#jl.*pala*22*no.*30#005#017#mejasem*tengah#kramat#katholik#belum*kawin#pelajar/mahasiswa#wni#seumur*hidup\n",
            "Run 3: PSNR value: 73.63956414906573\n",
            "Run 3: Decrypted Message: 3348610401970005#christofer*derian*budianto#tegal#1997-03-04#laki-laki#b#jl.*pala*22*no.*30#005#017#mejasem*tengah#kramat#katholik#belum*kawin#pelajar/mahasiswa#wni#seumur*hidup\n",
            "Run 4: PSNR value: 73.57525192199893\n",
            "Run 4: Decrypted Message: 3348610401970005#christofer*derian*budianto#tegal#1997-03-04#laki-laki#b#jl.*pala*22*no.*30#005#017#mejasem*tengah#kramat#katholik#belum*kawin#pelajar/mahasiswa#wni#seumur*hidup\n",
            "Run 5: PSNR value: 73.78937015375165\n",
            "Run 5: Decrypted Message: 3348610401970005#christofer*derian*budianto#tegal#1997-03-04#laki-laki#b#jl.*pala*22*no.*30#005#017#mejasem*tengah#kramat#katholik#belum*kawin#pelajar/mahasiswa#wni#seumur*hidup\n",
            "Run 6: PSNR value: 73.74086770655992\n",
            "Run 6: Decrypted Message: 3348610401970005#christofer*derian*budianto#tegal#1997-03-04#laki-laki#b#jl.*pala*22*no.*30#005#017#mejasem*tengah#kramat#katholik#belum*kawin#pelajar/mahasiswa#wni#seumur*hidup\n",
            "Run 7: PSNR value: 73.75899270544883\n",
            "Run 7: Decrypted Message: 3348610401970005#christofer*derian*budianto#tegal#1997-03-04#laki-laki#b#jl.*pala*22*no.*30#005#017#mejasem*tengah#kramat#katholik#belum*kawin#pelajar/mahasiswa#wni#seumur*hidup\n",
            "Run 8: PSNR value: 73.75294263042484\n",
            "Run 8: Decrypted Message: 3348610401970005#christofer*derian*budianto#tegal#1997-03-04#laki-laki#b#jl.*pala*22*no.*30#005#017#mejasem*tengah#kramat#katholik#belum*kawin#pelajar/mahasiswa#wni#seumur*hidup\n",
            "Run 9: PSNR value: 73.61021320505196\n",
            "Run 9: Decrypted Message: 3348610401970005#christofer*derian*budianto#tegal#1997-03-04#laki-laki#b#jl.*pala*22*no.*30#005#017#mejasem*tengah#kramat#katholik#belum*kawin#pelajar/mahasiswa#wni#seumur*hidup\n",
            "Run 10: PSNR value: 73.65136029435062\n",
            "Run 10: Decrypted Message: 3348610401970005#christofer*derian*budianto#tegal#1997-03-04#laki-laki#b#jl.*pala*22*no.*30#005#017#mejasem*tengah#kramat#katholik#belum*kawin#pelajar/mahasiswa#wni#seumur*hidup\n"
          ]
        }
      ]
    },
    {
      "cell_type": "code",
      "source": [
        "import matplotlib.pyplot as plt\n",
        "\n",
        "# Plotting PSNR values using matplotlib\n",
        "plt.figure(figsize=(10, 6))\n",
        "plt.plot(range(1, 11), psnr_values, marker='o', linestyle='-', color='b')\n",
        "plt.title('PSNR Values Over 10 Runs', fontsize=14)\n",
        "plt.xlabel('Run Number', fontsize=12)\n",
        "plt.ylabel('PSNR Value (dB)', fontsize=12)\n",
        "plt.grid(True)\n",
        "plt.xticks(range(1, 11))\n",
        "plt.show()"
      ],
      "metadata": {
        "colab": {
          "base_uri": "https://localhost:8080/",
          "height": 569
        },
        "id": "uWu_7Ui3YOZz",
        "outputId": "c4ec7519-e7c3-4d5d-9467-af3ec4e6cd19"
      },
      "execution_count": 159,
      "outputs": [
        {
          "output_type": "display_data",
          "data": {
            "text/plain": [
              "<Figure size 1000x600 with 1 Axes>"
            ],
            "image/png": "[encoded data removed]"
          },
          "metadata": {}
        }
      ]
    },
    {
      "cell_type": "code",
      "source": [
        "import numpy as np\n",
        "\n",
        "# Find the min, max, and mean PSNR values\n",
        "min_psnr = min(psnr_values)\n",
        "max_psnr = max(psnr_values)\n",
        "mean_psnr = np.mean(psnr_values)\n",
        "\n",
        "# Find the indices for min and max PSNR (1-based index for run numbers)\n",
        "min_index = psnr_values.index(min_psnr) + 1  # +1 to match the run numbers (1 to 10)\n",
        "max_index = psnr_values.index(max_psnr) + 1\n",
        "\n",
        "# Adjust y-axis limits: Add a margin around the min and max PSNR values\n",
        "y_margin = 0.5  # Adjust this to give more or less space\n",
        "y_min = min_psnr - y_margin\n",
        "y_max = max_psnr + y_margin\n",
        "\n",
        "# Plotting PSNR values using matplotlib\n",
        "plt.figure(figsize=(10, 6))\n",
        "plt.plot(range(1, 11), psnr_values, marker='o', linestyle='-', color='b', label='PSNR Values')\n",
        "\n",
        "# Highlighting the min and max points\n",
        "plt.scatter(min_index, min_psnr, color='r', label=f'Min PSNR: {min_psnr:.2f} (Run {min_index})', zorder=5)\n",
        "plt.scatter(max_index, max_psnr, color='g', label=f'Max PSNR: {max_psnr:.2f} (Run {max_index})', zorder=5)\n",
        "\n",
        "# Plotting the mean PSNR as a horizontal line\n",
        "plt.axhline(mean_psnr, color='purple', linestyle='--', label=f'Mean PSNR: {mean_psnr:.2f}', zorder=3)\n",
        "\n",
        "# Add text labels near the min and max points\n",
        "plt.text(min_index, min_psnr, f'{min_psnr:.2f}', color='r', fontsize=12, ha='right', va='bottom')\n",
        "plt.text(max_index, max_psnr, f'{max_psnr:.2f}', color='g', fontsize=12, ha='left', va='bottom')\n",
        "\n",
        "# Titles and labels\n",
        "plt.title('PSNR Values Over 10 Runs with Min, Max, and Mean Points', fontsize=14)\n",
        "plt.xlabel('Run Number', fontsize=12)\n",
        "plt.ylabel('PSNR Value (dB)', fontsize=12)\n",
        "\n",
        "# Set the y-axis limits based on the min and max PSNR values with some margin\n",
        "plt.ylim(y_min, y_max)\n",
        "\n",
        "# Additional configurations\n",
        "plt.grid(True)\n",
        "plt.xticks(range(1, 11))\n",
        "plt.legend(loc='best')\n",
        "\n",
        "# Show the plot\n",
        "plt.show()"
      ],
      "metadata": {
        "colab": {
          "base_uri": "https://localhost:8080/",
          "height": 569
        },
        "id": "GwDj4ObuYq_a",
        "outputId": "394566a8-641c-41aa-cca2-360d0957ffea"
      },
      "execution_count": 160,
      "outputs": [
        {
          "output_type": "display_data",
          "data": {
            "text/plain": [
              "<Figure size 1000x600 with 1 Axes>"
            ],
            "image/png": "[encoded data removed]"
          },
          "metadata": {}
        }
      ]
    },
    {
      "cell_type": "markdown",
      "source": [
        "# LZW Compression"
      ],
      "metadata": {
        "id": "j0S51LbQZfN6"
      }
    },
    {
      "cell_type": "code",
      "source": [
        "def lzw_compress(uncompressed):\n",
        "    # Build the dictionary.\n",
        "    dict_size = 256\n",
        "    dictionary = {chr(i): i for i in range(dict_size)}\n",
        "\n",
        "    w = \"\"\n",
        "    compressed_data = []\n",
        "\n",
        "    # Iterate over the characters in the input string\n",
        "    for c in uncompressed:\n",
        "        wc = w + c\n",
        "        if wc in dictionary:\n",
        "            w = wc\n",
        "        else:\n",
        "            compressed_data.append(dictionary[w])\n",
        "            # Add wc to the dictionary.\n",
        "            dictionary[wc] = dict_size\n",
        "            dict_size += 1\n",
        "            w = c\n",
        "\n",
        "    # Output the code for w.\n",
        "    if w:\n",
        "        compressed_data.append(dictionary[w])\n",
        "\n",
        "    return compressed_data\n",
        "\n",
        "def lzw_decompress(compressed):\n",
        "    # Build the dictionary.\n",
        "    dict_size = 256\n",
        "    dictionary = {i: chr(i) for i in range(dict_size)}\n",
        "\n",
        "    # Get the first code and output it.\n",
        "    w = chr(compressed.pop(0))\n",
        "    decompressed_data = w\n",
        "\n",
        "    for k in compressed:\n",
        "        if k in dictionary:\n",
        "            entry = dictionary[k]\n",
        "        elif k == dict_size:\n",
        "            entry = w + w[0]\n",
        "        else:\n",
        "            raise ValueError(f\"Bad compressed k: {k}\")\n",
        "\n",
        "        decompressed_data += entry\n",
        "\n",
        "        # Add w+entry[0] to the dictionary.\n",
        "        dictionary[dict_size] = w + entry[0]\n",
        "        dict_size += 1\n",
        "\n",
        "        w = entry\n",
        "\n",
        "    return decompressed_data\n",
        "\n",
        "# Function to calculate size in bytes\n",
        "def calculate_size(data):\n",
        "    if isinstance(data, str):\n",
        "        return len(data.encode('utf-8'))  # Size in bytes\n",
        "    elif isinstance(data, list):\n",
        "        return len(data) * 4  # Assuming each integer in the list takes 4 bytes\n",
        "\n",
        "# Example usage:\n",
        "input_string = \"TOBEORNOTTOBEORTOBEORNOT\"\n",
        "print(f\"Original String: {input_string}\")\n",
        "\n",
        "# Compress the input string\n",
        "compressed = lzw_compress(input_string)\n",
        "decompressed = lzw_decompress(compressed)\n",
        "\n",
        "# Sizes\n",
        "original_size = calculate_size(input_string)\n",
        "compressed_size = calculate_size(compressed)\n",
        "decompressed_size = calculate_size(decompressed)\n",
        "\n",
        "print(f\"\\nOriginal String Size: {original_size} bytes\")\n",
        "print(f\"Compressed Data Size: {compressed_size} bytes\")\n",
        "print(f\"Decompressed String Size: {decompressed_size} bytes\")\n",
        "\n",
        "# Check if decompressed string matches the original string\n",
        "if decompressed == input_string:\n",
        "    print(\"Decompression was successful!\")\n",
        "else:\n",
        "    print(\"Decompression failed.\")\n"
      ],
      "metadata": {
        "colab": {
          "base_uri": "https://localhost:8080/"
        },
        "id": "5KnFs2lrZh2H",
        "outputId": "2b19fe41-7199-4aa9-c6f1-cabec08ad4f2"
      },
      "execution_count": 67,
      "outputs": [
        {
          "output_type": "stream",
          "name": "stdout",
          "text": [
            "Original String: TOBEORNOTTOBEORTOBEORNOT\n",
            "\n",
            "Original String Size: 24 bytes\n",
            "Compressed Data Size: 60 bytes\n",
            "Decompressed String Size: 24 bytes\n",
            "Decompression was successful!\n"
          ]
        }
      ]
    },
    {
      "cell_type": "code",
      "source": [
        "import math\n",
        "\n",
        "def lzw_compress(uncompressed):\n",
        "    # Build the dictionary.\n",
        "    dict_size = 256\n",
        "    dictionary = {chr(i): i for i in range(dict_size)}\n",
        "\n",
        "    w = \"\"\n",
        "    compressed_data = []\n",
        "\n",
        "    # Iterate over the characters in the input string\n",
        "    for c in uncompressed:\n",
        "        wc = w + c\n",
        "        if wc in dictionary:\n",
        "            w = wc\n",
        "        else:\n",
        "            compressed_data.append(dictionary[w])\n",
        "            # Add wc to the dictionary.\n",
        "            dictionary[wc] = dict_size\n",
        "            dict_size += 1\n",
        "            w = c\n",
        "\n",
        "    # Output the code for w.\n",
        "    if w:\n",
        "        compressed_data.append(dictionary[w])\n",
        "\n",
        "    return compressed_data, dict_size\n",
        "\n",
        "def lzw_decompress(compressed):\n",
        "    # Build the dictionary.\n",
        "    dict_size = 256\n",
        "    dictionary = {i: chr(i) for i in range(dict_size)}\n",
        "\n",
        "    # Get the first code and output it.\n",
        "    w = chr(compressed.pop(0))\n",
        "    decompressed_data = w\n",
        "\n",
        "    for k in compressed:\n",
        "        if k in dictionary:\n",
        "            entry = dictionary[k]\n",
        "        elif k == dict_size:\n",
        "            entry = w + w[0]\n",
        "        else:\n",
        "            raise ValueError(f\"Bad compressed k: {k}\")\n",
        "\n",
        "        decompressed_data += entry\n",
        "\n",
        "        # Add w+entry[0] to the dictionary.\n",
        "        dictionary[dict_size] = w + entry[0]\n",
        "        dict_size += 1\n",
        "\n",
        "        w = entry\n",
        "\n",
        "    return decompressed_data\n",
        "\n",
        "# Function to calculate size in bytes or bits\n",
        "def calculate_size(data, dict_size=None):\n",
        "    if isinstance(data, str):\n",
        "        # Size in bytes and bits for string (1 byte = 8 bits for each character)\n",
        "        size_in_bytes = len(data.encode('utf-8'))\n",
        "        size_in_bits = size_in_bytes * 8\n",
        "        return size_in_bytes, size_in_bits  # Size in bytes and bits\n",
        "    elif isinstance(data, list):\n",
        "        # Calculate the bit size for compressed data (variable bit-length encoding)\n",
        "        if dict_size is None:\n",
        "            raise ValueError(\"Dictionary size needed for proper bit calculation!\")\n",
        "        bits_needed = math.ceil(math.log2(dict_size))  # Number of bits required\n",
        "        total_bits = len(data) * bits_needed\n",
        "        return total_bits // 8, total_bits  # Returns size in bytes and bits\n",
        "\n",
        "# Example usage:\n",
        "input_string = \"TOBEORNOTTOBEORTOBEORNOT\"\n",
        "print(f\"Original String: {input_string}\")\n",
        "\n",
        "# Compress the input string\n",
        "compressed, dict_size = lzw_compress(input_string)\n",
        "decompressed = lzw_decompress(compressed)\n",
        "\n",
        "# Sizes\n",
        "original_size_bytes, original_size_bits = calculate_size(input_string)  # Original size in bytes and bits\n",
        "compressed_size_bytes, compressed_size_bits = calculate_size(compressed, dict_size)  # Compressed size in bytes and bits\n",
        "decompressed_size_bytes, decompressed_size_bits = calculate_size(decompressed)  # Decompressed size in bytes and bits\n",
        "\n",
        "print(f\"\\nOriginal String Size: {original_size_bytes} bytes ({original_size_bits} bits)\")\n",
        "print(f\"Compressed Data Size: {compressed_size_bytes} bytes ({compressed_size_bits} bits)\")\n",
        "print(f\"Decompressed String Size: {decompressed_size_bytes} bytes ({decompressed_size_bits} bits)\")\n",
        "\n",
        "# Check if decompressed string matches the original string\n",
        "if decompressed == input_string:\n",
        "    print(\"Decompression was successful!\")\n",
        "else:\n",
        "    print(\"Decompression failed.\")\n"
      ],
      "metadata": {
        "colab": {
          "base_uri": "https://localhost:8080/"
        },
        "id": "3gzaYVVOaLaV",
        "outputId": "846757c5-7dfb-468a-b139-3a84c6db1436"
      },
      "execution_count": 69,
      "outputs": [
        {
          "output_type": "stream",
          "name": "stdout",
          "text": [
            "Original String: TOBEORNOTTOBEORTOBEORNOT\n",
            "\n",
            "Original String Size: 24 bytes (192 bits)\n",
            "Compressed Data Size: 16 bytes (135 bits)\n",
            "Decompressed String Size: 24 bytes (192 bits)\n",
            "Decompression was successful!\n"
          ]
        }
      ]
    },
    {
      "cell_type": "code",
      "source": [
        "import math\n",
        "import pickle  # To save compressed data in binary format\n",
        "import os  # To get file sizes\n",
        "\n",
        "def lzw_compress(uncompressed):\n",
        "    # Build the dictionary.\n",
        "    dict_size = 256\n",
        "    dictionary = {chr(i): i for i in range(dict_size)}\n",
        "\n",
        "    w = \"\"\n",
        "    compressed_data = []\n",
        "\n",
        "    # Iterate over the characters in the input string\n",
        "    for c in uncompressed:\n",
        "        wc = w + c\n",
        "        if wc in dictionary:\n",
        "            w = wc\n",
        "        else:\n",
        "            compressed_data.append(dictionary[w])\n",
        "            # Add wc to the dictionary.\n",
        "            dictionary[wc] = dict_size\n",
        "            dict_size += 1\n",
        "            w = c\n",
        "\n",
        "    # Output the code for w.\n",
        "    if w:\n",
        "        compressed_data.append(dictionary[w])\n",
        "\n",
        "    return compressed_data, dict_size\n",
        "\n",
        "def lzw_decompress(compressed):\n",
        "    # Build the dictionary.\n",
        "    dict_size = 256\n",
        "    dictionary = {i: chr(i) for i in range(dict_size)}\n",
        "\n",
        "    # Get the first code and output it.\n",
        "    w = chr(compressed.pop(0))\n",
        "    decompressed_data = w\n",
        "\n",
        "    for k in compressed:\n",
        "        if k in dictionary:\n",
        "            entry = dictionary[k]\n",
        "        elif k == dict_size:\n",
        "            entry = w + w[0]\n",
        "        else:\n",
        "            raise ValueError(f\"Bad compressed k: {k}\")\n",
        "\n",
        "        decompressed_data += entry\n",
        "\n",
        "        # Add w+entry[0] to the dictionary.\n",
        "        dictionary[dict_size] = w + entry[0]\n",
        "        dict_size += 1\n",
        "\n",
        "        w = entry\n",
        "\n",
        "    return decompressed_data\n",
        "\n",
        "# Function to save the original string to a text file\n",
        "def save_original_to_file(filename, data):\n",
        "    with open(filename, 'w') as file:\n",
        "        file.write(data)\n",
        "\n",
        "# Function to save compressed data to a binary file\n",
        "def save_compressed_to_file(filename, data):\n",
        "    with open(filename, 'wb') as file:\n",
        "        pickle.dump(data, file)  # Use pickle to save as binary\n",
        "\n",
        "# Function to save decompressed string to a text file\n",
        "def save_decompressed_to_file(filename, data):\n",
        "    with open(filename, 'w') as file:\n",
        "        file.write(data)\n",
        "\n",
        "# Function to get file size\n",
        "def get_file_size(filename):\n",
        "    return os.path.getsize(filename)\n",
        "\n",
        "# Example usage:\n",
        "input_string = \"TOBEORNOTTOBEORTOBEORNOT\"\n",
        "print(f\"Original String: {input_string}\")\n",
        "\n",
        "# Compress the input string\n",
        "compressed, dict_size = lzw_compress(input_string)\n",
        "decompressed = lzw_decompress(compressed)\n",
        "\n",
        "# File names\n",
        "original_file = \"original.txt\"\n",
        "compressed_file = \"compressed.bin\"\n",
        "decompressed_file = \"decompressed.txt\"\n",
        "\n",
        "# Save the original string to a file\n",
        "save_original_to_file(original_file, input_string)\n",
        "\n",
        "# Save the compressed data to a file in binary format\n",
        "save_compressed_to_file(compressed_file, compressed)\n",
        "\n",
        "# Save the decompressed string to a file\n",
        "save_decompressed_to_file(decompressed_file, decompressed)\n",
        "\n",
        "# Get file sizes\n",
        "original_file_size = get_file_size(original_file)\n",
        "compressed_file_size = get_file_size(compressed_file)\n",
        "decompressed_file_size = get_file_size(decompressed_file)\n",
        "\n",
        "# Print file sizes\n",
        "print(f\"\\nOriginal file size: {original_file_size} bytes\")\n",
        "print(f\"Compressed file size: {compressed_file_size} bytes\")\n",
        "print(f\"Decompressed file size: {decompressed_file_size} bytes\")\n",
        "\n",
        "# Check if decompressed string matches the original string\n",
        "if decompressed == input_string:\n",
        "    print(\"Decompression was successful!\")\n",
        "else:\n",
        "    print(\"Decompression failed.\")\n"
      ],
      "metadata": {
        "colab": {
          "base_uri": "https://localhost:8080/"
        },
        "id": "77fFsbDoaeLX",
        "outputId": "c87fdf85-a3d7-4907-be0b-3f6233f18764"
      },
      "execution_count": 70,
      "outputs": [
        {
          "output_type": "stream",
          "name": "stdout",
          "text": [
            "Original String: TOBEORNOTTOBEORTOBEORNOT\n",
            "\n",
            "Original file size: 24 bytes\n",
            "Compressed file size: 53 bytes\n",
            "Decompressed file size: 24 bytes\n",
            "Decompression was successful!\n"
          ]
        }
      ]
    },
    {
      "cell_type": "code",
      "source": [
        "import math\n",
        "import os\n",
        "import struct  # For packing integers into binary format\n",
        "\n",
        "def lzw_compress(uncompressed):\n",
        "    # Build the dictionary.\n",
        "    dict_size = 256\n",
        "    dictionary = {chr(i): i for i in range(dict_size)}\n",
        "\n",
        "    w = \"\"\n",
        "    compressed_data = []\n",
        "\n",
        "    # Iterate over the characters in the input string\n",
        "    for c in uncompressed:\n",
        "        wc = w + c\n",
        "        if wc in dictionary:\n",
        "            w = wc\n",
        "        else:\n",
        "            compressed_data.append(dictionary[w])\n",
        "            # Add wc to the dictionary.\n",
        "            dictionary[wc] = dict_size\n",
        "            dict_size += 1\n",
        "            w = c\n",
        "\n",
        "    # Output the code for w.\n",
        "    if w:\n",
        "        compressed_data.append(dictionary[w])\n",
        "\n",
        "    return compressed_data, dict_size\n",
        "\n",
        "def lzw_decompress(compressed):\n",
        "    # Build the dictionary.\n",
        "    dict_size = 256\n",
        "    dictionary = {i: chr(i) for i in range(dict_size)}\n",
        "\n",
        "    # Get the first code and output it.\n",
        "    w = chr(compressed.pop(0))\n",
        "    decompressed_data = w\n",
        "\n",
        "    for k in compressed:\n",
        "        if k in dictionary:\n",
        "            entry = dictionary[k]\n",
        "        elif k == dict_size:\n",
        "            entry = w + w[0]\n",
        "        else:\n",
        "            raise ValueError(f\"Bad compressed k: {k}\")\n",
        "\n",
        "        decompressed_data += entry\n",
        "\n",
        "        # Add w+entry[0] to the dictionary.\n",
        "        dictionary[dict_size] = w + entry[0]\n",
        "        dict_size += 1\n",
        "\n",
        "        w = entry\n",
        "\n",
        "    return decompressed_data\n",
        "\n",
        "# Function to save the original string to a text file\n",
        "def save_original_to_file(filename, data):\n",
        "    with open(filename, 'w') as file:\n",
        "        file.write(data)\n",
        "\n",
        "# Function to save compressed data using struct\n",
        "def save_compressed_to_file(filename, data, dict_size):\n",
        "    # Calculate the number of bits needed to represent each code\n",
        "    bits_needed = math.ceil(math.log2(dict_size))\n",
        "\n",
        "    # Choose the correct format for struct packing based on the number of bits needed\n",
        "    if bits_needed <= 8:\n",
        "        format_char = 'B'  # Unsigned char (1 byte, 8 bits)\n",
        "    elif bits_needed <= 16:\n",
        "        format_char = 'H'  # Unsigned short (2 bytes, 16 bits)\n",
        "    elif bits_needed <= 32:\n",
        "        format_char = 'I'  # Unsigned int (4 bytes, 32 bits)\n",
        "    else:\n",
        "        raise ValueError(\"Dictionary too large to be handled by 32-bit integers.\")\n",
        "\n",
        "    with open(filename, 'wb') as file:\n",
        "        # Write each code in the compressed data using the appropriate number of bits\n",
        "        for code in data:\n",
        "            packed_code = struct.pack(f'>{format_char}', code)\n",
        "            file.write(packed_code)\n",
        "\n",
        "# Function to save decompressed string to a text file\n",
        "def save_decompressed_to_file(filename, data):\n",
        "    with open(filename, 'w') as file:\n",
        "        file.write(data)\n",
        "\n",
        "# Function to get file size\n",
        "def get_file_size(filename):\n",
        "    return os.path.getsize(filename)\n",
        "\n",
        "# Example usage:\n",
        "input_string = \"TOBEORNOTTOBEORTOBEORNOT\"\n",
        "print(f\"Original String: {input_string}\")\n",
        "\n",
        "# Compress the input string\n",
        "compressed, dict_size = lzw_compress(input_string)\n",
        "decompressed = lzw_decompress(compressed)\n",
        "\n",
        "# File names\n",
        "original_file = \"original.txt\"\n",
        "compressed_file = \"compressed.bin\"\n",
        "decompressed_file = \"decompressed.txt\"\n",
        "\n",
        "# Save the original string to a file\n",
        "save_original_to_file(original_file, input_string)\n",
        "\n",
        "# Save the compressed data to a file using struct\n",
        "save_compressed_to_file(compressed_file, compressed, dict_size)\n",
        "\n",
        "# Save the decompressed string to a file\n",
        "save_decompressed_to_file(decompressed_file, decompressed)\n",
        "\n",
        "# Get file sizes\n",
        "original_file_size = get_file_size(original_file)\n",
        "compressed_file_size = get_file_size(compressed_file)\n",
        "decompressed_file_size = get_file_size(decompressed_file)\n",
        "\n",
        "# Print file sizes\n",
        "print(f\"\\nOriginal file size: {original_file_size} bytes\")\n",
        "print(f\"Compressed file size: {compressed_file_size} bytes\")\n",
        "print(f\"Decompressed file size: {decompressed_file_size} bytes\")\n",
        "\n",
        "# Check if decompressed string matches the original string\n",
        "if decompressed == input_string:\n",
        "    print(\"Decompression was successful!\")\n",
        "else:\n",
        "    print(\"Decompression failed.\")\n"
      ],
      "metadata": {
        "colab": {
          "base_uri": "https://localhost:8080/"
        },
        "id": "cfaPNXjAblMV",
        "outputId": "b67bd788-9f99-4f92-d752-505d8395460f"
      },
      "execution_count": 89,
      "outputs": [
        {
          "output_type": "stream",
          "name": "stdout",
          "text": [
            "Original String: TOBEORNOTTOBEORTOBEORNOT\n",
            "\n",
            "Original file size: 24 bytes\n",
            "Compressed file size: 30 bytes\n",
            "Decompressed file size: 24 bytes\n",
            "Decompression was successful!\n"
          ]
        }
      ]
    },
    {
      "cell_type": "markdown",
      "source": [
        "## LZW w Package"
      ],
      "metadata": {
        "id": "AcrFm4vycLlP"
      }
    },
    {
      "cell_type": "code",
      "source": [
        "!git clone https://github.com/joeatwork/python-lzw"
      ],
      "metadata": {
        "colab": {
          "base_uri": "https://localhost:8080/"
        },
        "id": "renivqjDcNX1",
        "outputId": "d01841eb-97fb-439f-a459-e3670f2a6fd8"
      },
      "execution_count": 73,
      "outputs": [
        {
          "output_type": "stream",
          "name": "stdout",
          "text": [
            "Cloning into 'python-lzw'...\n",
            "remote: Enumerating objects: 80, done.\u001b[K\n",
            "remote: Total 80 (delta 0), reused 0 (delta 0), pack-reused 80 (from 1)\u001b[K\n",
            "Receiving objects: 100% (80/80), 3.22 MiB | 8.05 MiB/s, done.\n",
            "Resolving deltas: 100% (30/30), done.\n"
          ]
        }
      ]
    },
    {
      "cell_type": "code",
      "source": [
        "# Move into the 'python-lzw' directory, move the 'lzw' folder, and install using setup.py\n",
        "!cd /content/python-lzw && cp lzw/ /content/ && python setup.py install"
      ],
      "metadata": {
        "colab": {
          "base_uri": "https://localhost:8080/"
        },
        "id": "8kZ3CfpHcO-1",
        "outputId": "4b252333-dba2-414e-f3ef-906d639c9bee"
      },
      "execution_count": 80,
      "outputs": [
        {
          "output_type": "stream",
          "name": "stdout",
          "text": [
            "mv: cannot stat 'lzw/': No such file or directory\n"
          ]
        }
      ]
    },
    {
      "cell_type": "code",
      "source": [
        "import lzw\n",
        "\n",
        "infile = lzw.readbytes(\"original.txt\")\n",
        "compressed = lzw.compress(infile)\n",
        "lzw.writebytes(\"compressed.lzw\", compressed)"
      ],
      "metadata": {
        "id": "RC0-gh0IcUeW"
      },
      "execution_count": 90,
      "outputs": []
    },
    {
      "cell_type": "code",
      "source": [
        "infile = lzw.readbytes(\"compressed.lzw\", compressed)\n",
        "uncompressed = lzw.decompress(infile)\n",
        "print(uncompressed)"
      ],
      "metadata": {
        "colab": {
          "base_uri": "https://localhost:8080/"
        },
        "id": "gxk4sFASeQrr",
        "outputId": "e174156f-936a-4df4-82bb-8e6f61d97020"
      },
      "execution_count": 108,
      "outputs": [
        {
          "output_type": "stream",
          "name": "stdout",
          "text": [
            "<generator object Decoder.decode at 0x7f58259f1b60>\n"
          ]
        }
      ]
    },
    {
      "cell_type": "code",
      "source": [
        "import lzw\n",
        "\n",
        "# Path to the compressed LZW file\n",
        "compressed_file = 'compressed.lzw'\n",
        "\n",
        "infile = lzw.readbytes(compressed_file)\n",
        "\n",
        "# Decompress the file content\n",
        "decompressed_chunks = lzw.decompress(infile)\n",
        "\n",
        "# Join the decompressed chunks into a single byte string\n",
        "bytess = b\"\".join(decompressed_chunks)\n",
        "\n",
        "# Print the decompressed output\n",
        "print(bytess.decode('utf-8'))  # Assuming UTF-8 encoding for text"
      ],
      "metadata": {
        "colab": {
          "base_uri": "https://localhost:8080/"
        },
        "id": "0a5PiQs5ggnx",
        "outputId": "d14729b3-8b21-488f-b20e-21c929526c2b"
      },
      "execution_count": 111,
      "outputs": [
        {
          "output_type": "stream",
          "name": "stdout",
          "text": [
            "TOBEORNOTTOBEORTOBEORNOT\n"
          ]
        }
      ]
    },
    {
      "cell_type": "code",
      "source": [
        "import lzw\n",
        "\n",
        "mybytes = lzw.readbytes(\"original.txt\")\n",
        "lessbytes = lzw.compress(mybytes)\n",
        "print(lessbytes\n",
        "      )\n",
        "newbytes = b\"\".join(lzw.decompress(lessbytes))\n",
        "print(newbytes)\n",
        "\n",
        "oldbytes = b\"\".join(lzw.readbytes(\"original.txt\"))\n",
        "print(oldbytes)\n",
        "\n",
        "oldbytes == newbytes"
      ],
      "metadata": {
        "colab": {
          "base_uri": "https://localhost:8080/"
        },
        "id": "vbawgeW9fZ6B",
        "outputId": "fedd4722-5397-4044-e842-d9acdd236869"
      },
      "execution_count": 101,
      "outputs": [
        {
          "output_type": "stream",
          "name": "stdout",
          "text": [
            "<generator object BitPacker.pack at 0x7f58259d9a10>\n",
            "b'TOBEORNOTTOBEORTOBEORNOT'\n",
            "b'TOBEORNOTTOBEORTOBEORNOT'\n"
          ]
        },
        {
          "output_type": "execute_result",
          "data": {
            "text/plain": [
              "True"
            ]
          },
          "metadata": {},
          "execution_count": 101
        }
      ]
    },
    {
      "cell_type": "code",
      "source": [
        "import lzw\n",
        "import os\n",
        "\n",
        "# Function to get file size\n",
        "def get_file_size(filename):\n",
        "    return os.path.getsize(filename)\n",
        "\n",
        "# Part 1: Compression\n",
        "# Path to the original text file\n",
        "original_file = \"original.txt\"\n",
        "\n",
        "# Read bytes from the original file and compress the content\n",
        "infile = lzw.readbytes(original_file)  # Read bytes from the file\n",
        "compressed = lzw.compress(infile)  # Compress the data\n",
        "\n",
        "# Write compressed data to a new LZW file\n",
        "compressed_file = \"compressed.lzw\"\n",
        "lzw.writebytes(compressed_file, compressed)\n",
        "\n",
        "# Part 2: Decompression\n",
        "# Read the compressed data from the file\n",
        "infile = lzw.readbytes(compressed_file)\n",
        "\n",
        "# Decompress the file content\n",
        "decompressed_chunks = lzw.decompress(infile)\n",
        "\n",
        "# Join the decompressed chunks into a single byte string\n",
        "bytess = b\"\".join(decompressed_chunks)\n",
        "\n",
        "# Write the decompressed output to decompress.txt\n",
        "decompressed_file = \"decompress.txt\"\n",
        "with open(decompressed_file, 'wb') as output_file:\n",
        "    output_file.write(bytess)\n",
        "\n",
        "# Part 3: Print file sizes for comparison\n",
        "original_size = get_file_size(original_file)\n",
        "compressed_size = get_file_size(compressed_file)\n",
        "decompressed_size = get_file_size(decompressed_file)\n",
        "\n",
        "print(f\"Original file size: {original_size} bytes\")\n",
        "print(f\"Compressed file size: {compressed_size} bytes\")\n",
        "print(f\"Decompressed file size: {decompressed_size} bytes\")"
      ],
      "metadata": {
        "colab": {
          "base_uri": "https://localhost:8080/"
        },
        "id": "Du8PT6MXh0xO",
        "outputId": "69c481d7-de94-4902-8ea8-4481a0038bfb"
      },
      "execution_count": 113,
      "outputs": [
        {
          "output_type": "stream",
          "name": "stdout",
          "text": [
            "Original file size: 6935 bytes\n",
            "Compressed file size: 2588 bytes\n",
            "Decompressed file size: 6935 bytes\n"
          ]
        }
      ]
    },
    {
      "cell_type": "code",
      "source": [
        "# Path to the compressed LZW file\n",
        "compressed_file = 'compressed.lzw'\n",
        "\n",
        "# Open and read the binary content of the compressed file\n",
        "with open(compressed_file, 'rb') as file:\n",
        "    compressed_content = file.read()\n",
        "\n",
        "# Print the binary content\n",
        "print(compressed_content.hex())  # Convert to hexadecimal for better readability"
      ],
      "metadata": {
        "colab": {
          "base_uri": "https://localhost:8080/"
        },
        "id": "gl6ws6BEikn4",
        "outputId": "2e99bd84-3898-4896-d4f8-89eb8b7d0195"
      },
      "execution_count": 115,
      "outputs": [
        {
          "output_type": "stream",
          "name": "stdout",
          "text": [
            "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\n"
          ]
        }
      ]
    },
    {
      "cell_type": "markdown",
      "source": [
        "### Variable based"
      ],
      "metadata": {
        "id": "wMA4elRtjKdM"
      }
    },
    {
      "cell_type": "code",
      "source": [
        "import lzw\n",
        "\n",
        "# Example text to compress (can be any string)\n",
        "original_text = \"TOBEORNOTTOBEORTOBEORNOT\"\n",
        "\n",
        "# Convert the original text into bytes (UTF-8 encoding)\n",
        "original_bytes = original_text.encode('utf-8')\n",
        "\n",
        "# Part 1: Compression (in-memory)\n",
        "compressed = lzw.compress(original_bytes)\n",
        "\n",
        "# Convert compressed generator to a list to see its contents\n",
        "compressed_list = list(compressed)\n",
        "\n",
        "# Part 2: Decompression (in-memory)\n",
        "decompressed_chunks = lzw.decompress(compressed_list)\n",
        "\n",
        "# Join the decompressed chunks into a single byte string\n",
        "decompressed_bytes = b\"\".join(decompressed_chunks)\n",
        "\n",
        "# Convert decompressed bytes back to a string\n",
        "decompressed_text = decompressed_bytes.decode('utf-8')\n",
        "\n",
        "# Print each variable\n",
        "print(\"Original Text (String):\", original_text)\n",
        "print(\"Original Bytes:\", original_bytes)\n",
        "print(\"Compressed List (Byte Chunks):\", compressed_list)\n",
        "print(\"Decompressed Bytes:\", decompressed_bytes)\n",
        "print(\"Decompressed Text (String):\", decompressed_text)\n",
        "\n",
        "# Part 3: Print sizes and results for comparison\n",
        "original_size = len(original_bytes)\n",
        "compressed_size = len(b\"\".join(compressed_list))  # Join to get compressed byte size\n",
        "decompressed_size = len(decompressed_bytes)\n",
        "\n",
        "# Print the sizes in bytes\n",
        "print(f\"\\nOriginal size: {original_size} bytes\")\n",
        "print(f\"Compressed size: {compressed_size} bytes\")\n",
        "print(f\"Decompressed size: {decompressed_size} bytes\")\n",
        "\n",
        "# Check if decompression was successful\n",
        "if decompressed_text == original_text:\n",
        "    print(\"Decompression was successful!\")\n",
        "else:\n",
        "    print(\"Decompression failed.\")\n"
      ],
      "metadata": {
        "colab": {
          "base_uri": "https://localhost:8080/"
        },
        "id": "kjd-PTP6jSmR",
        "outputId": "e5f263da-9081-441e-bfb9-02f2affd3e70"
      },
      "execution_count": 119,
      "outputs": [
        {
          "output_type": "stream",
          "name": "stdout",
          "text": [
            "Original Text (String): TOBEORNOTTOBEORTOBEORNOTTOBEORNOTTOBEORTOBEORNOTTOBEORNOTTOBEORTOBEORNOTTOBEORNOTTOBEORTOBEORNOTTOBEORNOTTOBEORTOBEORNOTTOBEORNOTTOBEORTOBEORNOTTOBEORNOTTOBEORTOBEORNOTTOBEORNOTTOBEORTOBEORNOTTOBEORNOTTOBEORTOBEORNOTTOBEORNOTTOBEORTOBEORNOTTOBEORNOTTOBEORTOBEORNOTTOBEORNOTTOBEORTOBEORNOTTOBEORNOTTOBEORTOBEORNOTTOBEORNOTTOBEORTOBEORNOTTOBEORNOTTOBEORTOBEORNOTTOBEORNOTTOBEORTOBEORNOTTOBEORNOTTOBEORTOBEORNOTTOBEORNOTTOBEORTOBEORNOTTOBEORNOTTOBEORTOBEORNOTTOBEORNOTTOBEORTOBEORNOTTOBEORNOTTOBEORTOBEORNOTTOBEORNOTTOBEORTOBEORNOTTOBEORNOTTOBEORTOBEORNOT\n",
            "Original Bytes: b'TOBEORNOTTOBEORTOBEORNOTTOBEORNOTTOBEORTOBEORNOTTOBEORNOTTOBEORTOBEORNOTTOBEORNOTTOBEORTOBEORNOTTOBEORNOTTOBEORTOBEORNOTTOBEORNOTTOBEORTOBEORNOTTOBEORNOTTOBEORTOBEORNOTTOBEORNOTTOBEORTOBEORNOTTOBEORNOTTOBEORTOBEORNOTTOBEORNOTTOBEORTOBEORNOTTOBEORNOTTOBEORTOBEORNOTTOBEORNOTTOBEORTOBEORNOTTOBEORNOTTOBEORTOBEORNOTTOBEORNOTTOBEORTOBEORNOTTOBEORNOTTOBEORTOBEORNOTTOBEORNOTTOBEORTOBEORNOTTOBEORNOTTOBEORTOBEORNOTTOBEORNOTTOBEORTOBEORNOTTOBEORNOTTOBEORTOBEORNOTTOBEORNOTTOBEORTOBEORNOTTOBEORNOTTOBEORTOBEORNOTTOBEORNOTTOBEORTOBEORNOTTOBEORNOTTOBEORTOBEORNOT'\n",
            "Compressed List (Byte Chunks): [b'*', b'\\x13', b'\\xc8', b'D', b'R', b'y', b'H', b'\\x9c', b'O', b'*', b'@', b'\\xa0', b'\\x90', b'h', b'\\\\', b'\\x16', b'\\x0f', b'\\t', b'\\x87', b'A', b'\\xa1', b'\\x10', b'\\xa8', b'\\x1c', b'>', b'%', b'\\x10', b'\\x8a', b'\\xc3', b'#', b'1', b'\\x88', b'\\xc4', b'R', b'=', b'\\x11', b'\\x8b', b'C', b'd', b'Q', b'\\xc9', b'$', b'~', b'I', b' ', b'\\x8d', b'C', b'\\xe4', b'\\xf1', b'\\xb9', b'L', b'\\xba', b'Q', b'&', b'\\x90', b'\\xc6', b'\\xe5', b'\\x91', b'y', b'\\x8c', b'\\xaa', b\"'\", b'2', b'\\x9a', b'\\xcc', b'\\xe7', b'3', b'\\x89', b'\\xb9', b'J', b'_', b';', b'\\x9f', b'P', b'%', b's', b'\\xc9', b'\\xfc', b'\\xda', b'\\x87', b'#', b'\\xa0', b'\\xd2', b'(', b'\\xd4', b'\\xaa', b'<', b'\\xc2', b'\\x9b', b'P', b'\\x9d', b'Q', b\"'\", b'\\xd3', b'J', b'M', b'N', b'\\x97', b'K', b'\\xaa', b'\\xd3', b'*', b'\\xf4', b'\\xe9', b'm', b'v', b'\\xb9', b'^', b'\\xa8', b'\\xcf', b'c', b'\\xb5', b'\\xfb', b'\\x1d', b'>', b'\\xa7', b'\\x00']\n",
            "Decompressed Bytes: b'TOBEORNOTTOBEORTOBEORNOTTOBEORNOTTOBEORTOBEORNOTTOBEORNOTTOBEORTOBEORNOTTOBEORNOTTOBEORTOBEORNOTTOBEORNOTTOBEORTOBEORNOTTOBEORNOTTOBEORTOBEORNOTTOBEORNOTTOBEORTOBEORNOTTOBEORNOTTOBEORTOBEORNOTTOBEORNOTTOBEORTOBEORNOTTOBEORNOTTOBEORTOBEORNOTTOBEORNOTTOBEORTOBEORNOTTOBEORNOTTOBEORTOBEORNOTTOBEORNOTTOBEORTOBEORNOTTOBEORNOTTOBEORTOBEORNOTTOBEORNOTTOBEORTOBEORNOTTOBEORNOTTOBEORTOBEORNOTTOBEORNOTTOBEORTOBEORNOTTOBEORNOTTOBEORTOBEORNOTTOBEORNOTTOBEORTOBEORNOTTOBEORNOTTOBEORTOBEORNOTTOBEORNOTTOBEORTOBEORNOTTOBEORNOTTOBEORTOBEORNOTTOBEORNOTTOBEORTOBEORNOT'\n",
            "Decompressed Text (String): TOBEORNOTTOBEORTOBEORNOTTOBEORNOTTOBEORTOBEORNOTTOBEORNOTTOBEORTOBEORNOTTOBEORNOTTOBEORTOBEORNOTTOBEORNOTTOBEORTOBEORNOTTOBEORNOTTOBEORTOBEORNOTTOBEORNOTTOBEORTOBEORNOTTOBEORNOTTOBEORTOBEORNOTTOBEORNOTTOBEORTOBEORNOTTOBEORNOTTOBEORTOBEORNOTTOBEORNOTTOBEORTOBEORNOTTOBEORNOTTOBEORTOBEORNOTTOBEORNOTTOBEORTOBEORNOTTOBEORNOTTOBEORTOBEORNOTTOBEORNOTTOBEORTOBEORNOTTOBEORNOTTOBEORTOBEORNOTTOBEORNOTTOBEORTOBEORNOTTOBEORNOTTOBEORTOBEORNOTTOBEORNOTTOBEORTOBEORNOTTOBEORNOTTOBEORTOBEORNOTTOBEORNOTTOBEORTOBEORNOTTOBEORNOTTOBEORTOBEORNOTTOBEORNOTTOBEORTOBEORNOT\n",
            "\n",
            "Original size: 552 bytes\n",
            "Compressed size: 117 bytes\n",
            "Decompressed size: 552 bytes\n",
            "Decompression was successful!\n"
          ]
        }
      ]
    },
    {
      "cell_type": "code",
      "source": [
        "import lzw\n",
        "\n",
        "# Function for compressing text using LZW\n",
        "def compress_lzw(original_text):\n",
        "    # Convert the original text into bytes (UTF-8 encoding)\n",
        "    original_bytes = original_text.encode('utf-8')\n",
        "\n",
        "    # Compression (in-memory)\n",
        "    compressed = lzw.compress(original_bytes)\n",
        "\n",
        "    # Convert compressed generator to a list to see its contents\n",
        "    compressed_list = list(compressed)\n",
        "\n",
        "    # Return original bytes, compressed list, and compressed size\n",
        "    return original_bytes, compressed_list\n",
        "\n",
        "\n",
        "# Function for decompressing compressed data using LZW\n",
        "def decompress_lzw(compressed_list):\n",
        "    # Decompression (in-memory)\n",
        "    decompressed_chunks = lzw.decompress(compressed_list)\n",
        "\n",
        "    # Join the decompressed chunks into a single byte string\n",
        "    decompressed_bytes = b\"\".join(decompressed_chunks)\n",
        "\n",
        "    # Convert decompressed bytes back to a string\n",
        "    decompressed_text = decompressed_bytes.decode('utf-8')\n",
        "\n",
        "    # Return decompressed bytes and text\n",
        "    return decompressed_bytes, decompressed_text\n",
        "\n",
        "\n",
        "# Example usage\n",
        "original_text = \"TOBEORNOTTOBEORTOBEORNOT\"\n",
        "\n",
        "# Compress the original text\n",
        "original_bytes, compressed_list = compress_lzw(original_text)\n",
        "\n",
        "# Decompress the compressed data\n",
        "decompressed_bytes, decompressed_text = decompress_lzw(compressed_list)\n",
        "\n",
        "# Print each variable\n",
        "print(\"Original Text (String):\", original_text)\n",
        "print(\"Original Bytes:\", original_bytes)\n",
        "print(\"Compressed List (Byte Chunks):\", compressed_list)\n",
        "print(\"Decompressed Bytes:\", decompressed_bytes)\n",
        "print(\"Decompressed Text (String):\", decompressed_text)\n",
        "\n",
        "# Part 3: Print sizes and results for comparison\n",
        "original_size = len(original_bytes)\n",
        "compressed_size = len(b\"\".join(compressed_list))  # Join to get compressed byte size\n",
        "decompressed_size = len(decompressed_bytes)\n",
        "\n",
        "# Print the sizes in bytes\n",
        "print(f\"\\nOriginal size: {original_size} bytes\")\n",
        "print(f\"Compressed size: {compressed_size} bytes\")\n",
        "print(f\"Decompressed size: {decompressed_size} bytes\")\n",
        "\n",
        "# Check if decompression was successful\n",
        "if decompressed_text == original_text:\n",
        "    print(\"Decompression was successful!\")\n",
        "else:\n",
        "    print(\"Decompression failed.\")\n"
      ],
      "metadata": {
        "colab": {
          "base_uri": "https://localhost:8080/"
        },
        "id": "k1tfEUW_jzM_",
        "outputId": "8a2497a9-a053-4ca8-d97e-4e935d9ca309"
      },
      "execution_count": 120,
      "outputs": [
        {
          "output_type": "stream",
          "name": "stdout",
          "text": [
            "Original Text (String): TOBEORNOTTOBEORTOBEORNOT\n",
            "Original Bytes: b'TOBEORNOTTOBEORTOBEORNOT'\n",
            "Compressed List (Byte Chunks): [b'*', b'\\x13', b'\\xc8', b'D', b'R', b'y', b'H', b'\\x9c', b'O', b'*', b'@', b'\\xa0', b'\\x90', b'h', b'\\\\', b'\\x16', b'\\x0f', b'\\t', b'\\x80', b'\\x00']\n",
            "Decompressed Bytes: b'TOBEORNOTTOBEORTOBEORNOT'\n",
            "Decompressed Text (String): TOBEORNOTTOBEORTOBEORNOT\n",
            "\n",
            "Original size: 24 bytes\n",
            "Compressed size: 20 bytes\n",
            "Decompressed size: 24 bytes\n",
            "Decompression was successful!\n"
          ]
        }
      ]
    },
    {
      "cell_type": "markdown",
      "source": [
        "# Crypt > Compress w lzw > Stego"
      ],
      "metadata": {
        "id": "14a5p2RjiLYX"
      }
    },
    {
      "cell_type": "code",
      "source": [
        "def read_stego():\n",
        "  im = cv2.imread(\"my_new_image.png\")\n",
        "  steg = LSBSteg(im)\n",
        "  bytess = steg.decode_text()\n",
        "  print(bytess)"
      ],
      "metadata": {
        "id": "fkAtHIgO3JRd"
      },
      "execution_count": 237,
      "outputs": []
    },
    {
      "cell_type": "code",
      "source": [
        "import lzw\n",
        "import numpy as np\n",
        "import cv2\n",
        "from ecies import encrypt, decrypt\n",
        "from ecies.utils import generate_eth_key\n",
        "import math\n",
        "\n",
        "# Function for LZW compression\n",
        "def compress_lzw(data):\n",
        "    compressed = lzw.compress(data)\n",
        "    compressed_list = list(compressed)\n",
        "    return compressed_list\n",
        "\n",
        "# Function for LZW decompression\n",
        "def decompress_lzw(compressed_list):\n",
        "    decompressed_chunks = lzw.decompress(compressed_list)\n",
        "    decompressed_data = b\"\".join(decompressed_chunks)\n",
        "    return decompressed_data\n",
        "\n",
        "# Encryption -> Compression -> Steganography (Hiding Data in Image)\n",
        "def encrypt_compress_stego(original_image, output_image, plaintext, public_key):\n",
        "    # Step 1: Encrypt the plaintext\n",
        "    encrypted_data = encrypt(public_key, plaintext)\n",
        "    # print(encrypted_data)\n",
        "    # Step 2: Compress the encrypted data using LZW\n",
        "    compressed_data = compress_lzw(encrypted_data)\n",
        "\n",
        "    # compressed_data = \"\".join(compressed_data)\n",
        "    # print(compressed_data)\n",
        "\n",
        "    # Step 3: Hide the compressed data in the image using steganography\n",
        "    steg = LSBSteg(cv2.imread(original_image))\n",
        "    img_encoded = steg.encode_text(str(compressed_data))\n",
        "    cv2.imwrite(output_image, img_encoded)\n",
        "\n",
        "    return compressed_data\n",
        "\n",
        "# Steganography -> Decompression -> Decryption (Extract and Reveal Original Message)\n",
        "def stego_decompress_decrypt(stego_image, private_key):\n",
        "    # Step 1: Extract the hidden compressed data from the image\n",
        "    steg = LSBSteg(cv2.imread(stego_image))\n",
        "    extracted_data = steg.decode_text()\n",
        "\n",
        "    # Step 2: Convert the extracted string back into a list of compressed data\n",
        "    compressed_data = eval(extracted_data)  # Assuming the data was stored as a list\n",
        "\n",
        "    # Step 3: Decompress the extracted data\n",
        "    decompressed_data = decompress_lzw(compressed_data)\n",
        "\n",
        "    # Step 4: Decrypt the decompressed data\n",
        "    decrypted_data = decrypt(private_key, decompressed_data)\n",
        "\n",
        "    return decrypted_data.decode('utf-8')\n",
        "\n",
        "# Function to calculate PSNR between original and stego images\n",
        "def calculate_psnr(original_image_path, stego_image_path):\n",
        "    original = cv2.imread(original_image_path)\n",
        "    stego = cv2.imread(stego_image_path)\n",
        "\n",
        "    # Calculate MSE (Mean Squared Error)\n",
        "    mse = np.mean((original - stego) ** 2)\n",
        "    if mse == 0:  # Images are identical\n",
        "        return float('inf')\n",
        "\n",
        "    # Calculate PSNR\n",
        "    max_pixel_value = 255.0\n",
        "    psnr = 10 * math.log10((max_pixel_value ** 2) / mse)\n",
        "    return psnr\n",
        "\n",
        "# Example Usage\n",
        "original_image = 'lena_downloaded.png'\n",
        "output_image = 'my_new_image.png'\n",
        "plaintext = b\"3348610401970005#christofer*derian*budianto#tegal#1997-03-04#laki-laki#b#jl.*pala*22*no.*30#005#017#mejasem*tengah#kramat#katholik#belum*kawin#pelajar/mahasiswa#wni#seumur*hidup\"\n",
        "\n",
        "# Step 1: Generate ECC key pair for encryption and decryption\n",
        "private_key = generate_eth_key()\n",
        "public_key = private_key.public_key\n",
        "private_key_hex = private_key.to_hex()\n",
        "\n",
        "# Step 2: Encryption -> Compression -> Steganography\n",
        "compressed_data = encrypt_compress_stego(original_image, output_image, plaintext, public_key.to_hex())\n",
        "print(f\"Compressed Data: {compressed_data}\")\n",
        "\n",
        "# Step 3: Decrypt and Extract the Message\n",
        "decrypted_message = stego_decompress_decrypt(output_image, private_key_hex)\n",
        "print(f\"Decrypted Message: {decrypted_message}\")\n",
        "\n",
        "# Step 4: Calculate and Print PSNR between the original and stego images\n",
        "psnr_value = calculate_psnr(original_image, output_image)\n",
        "print(f\"PSNR value between the original and stego image: {psnr_value} dB\")\n"
      ],
      "metadata": {
        "colab": {
          "base_uri": "https://localhost:8080/"
        },
        "id": "wf5YoCEgiRbo",
        "outputId": "2e6b18f3-2510-44b6-c22b-94e44d7924ef"
      },
      "execution_count": 148,
      "outputs": [
        {
          "output_type": "stream",
          "name": "stdout",
          "text": [
            "Compressed Data: [b'\\x02', b')', b'\\x92', b'\"', b'\\xe7', b'A', b'D', b'R', b'\\xaf', b'/', b'\\xae', b'\\x08', b'$', b'\\xd5', b'\\xd9', b'e', b'Z', b'|', b'\\x01', b'$', b'\\x86', b'%', b'\\xe2', b'k', b'0', b'\\xa8', b'\\t', b'l', b'\\xa0', b'\\x81', b'.', b'\\xe3', b'\\x89', b'\\x90', b'\\xea', b'4', b'3', b'\\x92', b'\\n', b'\\xab', b'd', b'\\xe1', b'\\x19', b'\\x8a', b'\\xa9', b\"'\", b'\\x9e', b'\\xdd', b'\\x07', b'\\xa1', b'i', b'\\xe8', b'\\xa6', b'\\x08', b'q', b'\\x91', b'\\x05', b'f', b'E', b'{', b'\\x01', b'\\xbc', b'\\xb4', b'{', b'\\x95', b'\\x07', b'\"', b'D', b'\\xc3', b'\\x98', b'\\x1a', b'T', b'0', b\"'\", b'@', b'G', b'\\xd2', b'\\xb9', b'\\x99', b'\\x9e', b'\\x8c', b'y', b'7', b'B', b'l', b'\\xd3', b';', b'0', b'\\xe8', b'\\xf2', b'=', b'\\x03', b'Y', b'\\xa5', b'3', b'\\x08', b'd', b'\\x8c', b'5', b']', b'\\x16', b'\\xc2', b'\\x85', b'\\x02', b'h', b'\\x1c', b'|', b'\\xf6', b'/', b'\\x8d', b'\\x8c', b'o', b'\\x94', b'\\xd9', b'd', b'J', b'\\xab', b'O', b'\\x95', b'\\x8a', b'\\xc0', b'S', b'\\x19', b'\\xb0', b'\\xee', b'\\xfd', b'T', b'\\xab', b'X', b'm', b'\\xa1', b'\\xd2', b'\\x91', b'\\x16', b'\\xf4', b'p', b'5', b'\\x8d', b'\\x05', b'\\xf5', b'i', b'\\xe8', b'\\xd2', b'R', b'g', b'\"', b'\\x15', b'\\x0c', b'\\xd1', b'\\xc0', b'\\xbd', b'\\x00', b'\\x83', b'y', b'&', b'\\xc1', b'A', b'\\xa0', b'\\xc8', b'\\x80', b'`', b'\\x8e', b'\\x1f', b'>', b'\\x86', b'\\xa3', b'\\xf2', b'\\x13', b'|', b'0', b'\\xf0', b'?', b'<', b'\\x86', b'\\xc1', b'U', b' ', b'\\xfc', b'\\xbe', b'\\xb6', b'\\x07', b':', b'\\xce', b'\\xe5', b'\\xe6', b'\\xb3', b'%', b'\\x84', b'B', b'j', b'8', b'\\n', b'\\xa6', b'\\x83', b'z', b'\\x18', b'F', b'\\xd7', b'@', b'9', b'^', b'\\x05', b'\\xb1', b'A', b'i', b'V', b'\\x81', b'k', b'\\xa1', b'\\x18', b'\\x01', b'\\xd0', b'\\xd0', b'<', b'\\xa8', b'\\xa7', b'd', b'<', b'[', b'h', b'C', b'\\x11', b'a', b'\\x86', b'.', b'c', b'*', b'\\x8a', b'\\xa8', b'E', b'\\x8b', b'4', b',', b'\\xa4', b'J', b'\\x03', b'\\xd4', b'#', b'B', b'\\xea', b'\\x08', b'\\x18', b'6', b'#', b'>', b'\\x8f', b'\\x89', b'\\xf7', b'\\xd2', b'\\xa1', b'\\xf0', b'\\xec', b'b', b'6', b'\\x98', b')', b'\\xb5', b'\\x91', b'\\xa4', b'v', b'y', b'N', b'\\x9b', b'\\x9a', b'\\x8b', b'\\xa1', b'\\xd2', b'\\x01', b'\\xd8', b'X', b'h', b')', b'\\n', b'\\xea', b'\\xf3', b'\\xe8', b'\\xa5', b'R', b'\\x13', b'-', b'\\x86', b'\\xcc', b'\\x8d', b'\\xc3', b'\\x13', b'\\x1c', b':', b'#', b'\\x08', b'\\x91', b'\\xc0', b'4', b'\\x18', b'\\x0c', b'\\x10', b'x', b'O', b'-', b'H', b'b', b'\\xb8', b'\\x9e', b'.', b'N', b'\\xd1', b'\\xc8', b'r', b\"'\", b'D', b'\\xc2', b'e', b'\\x00']\n",
            "Decrypted Message: 3348610401970005#christofer*derian*budianto#tegal#1997-03-04#laki-laki#b#jl.*pala*22*no.*30#005#017#mejasem*tengah#kramat#katholik#belum*kawin#pelajar/mahasiswa#wni#seumur*hidup\n",
            "PSNR value between the original and stego image: 67.27149420325154 dB\n"
          ]
        }
      ]
    },
    {
      "cell_type": "code",
      "source": [
        "im = cv2.imread(\"my_new_image.png\")\n",
        "steg = LSBSteg(im)\n",
        "bytess = steg.decode_text()\n",
        "print(bytess)"
      ],
      "metadata": {
        "colab": {
          "base_uri": "https://localhost:8080/"
        },
        "id": "gcUx2lCykneD",
        "outputId": "fe19ad37-c0b9-46ad-aa99-eea41ff38f5b"
      },
      "execution_count": 149,
      "outputs": [
        {
          "output_type": "stream",
          "name": "stdout",
          "text": [
            "[b'\\x02', b')', b'\\x92', b'\"', b'\\xe7', b'A', b'D', b'R', b'\\xaf', b'/', b'\\xae', b'\\x08', b'$', b'\\xd5', b'\\xd9', b'e', b'Z', b'|', b'\\x01', b'$', b'\\x86', b'%', b'\\xe2', b'k', b'0', b'\\xa8', b'\\t', b'l', b'\\xa0', b'\\x81', b'.', b'\\xe3', b'\\x89', b'\\x90', b'\\xea', b'4', b'3', b'\\x92', b'\\n', b'\\xab', b'd', b'\\xe1', b'\\x19', b'\\x8a', b'\\xa9', b\"'\", b'\\x9e', b'\\xdd', b'\\x07', b'\\xa1', b'i', b'\\xe8', b'\\xa6', b'\\x08', b'q', b'\\x91', b'\\x05', b'f', b'E', b'{', b'\\x01', b'\\xbc', b'\\xb4', b'{', b'\\x95', b'\\x07', b'\"', b'D', b'\\xc3', b'\\x98', b'\\x1a', b'T', b'0', b\"'\", b'@', b'G', b'\\xd2', b'\\xb9', b'\\x99', b'\\x9e', b'\\x8c', b'y', b'7', b'B', b'l', b'\\xd3', b';', b'0', b'\\xe8', b'\\xf2', b'=', b'\\x03', b'Y', b'\\xa5', b'3', b'\\x08', b'd', b'\\x8c', b'5', b']', b'\\x16', b'\\xc2', b'\\x85', b'\\x02', b'h', b'\\x1c', b'|', b'\\xf6', b'/', b'\\x8d', b'\\x8c', b'o', b'\\x94', b'\\xd9', b'd', b'J', b'\\xab', b'O', b'\\x95', b'\\x8a', b'\\xc0', b'S', b'\\x19', b'\\xb0', b'\\xee', b'\\xfd', b'T', b'\\xab', b'X', b'm', b'\\xa1', b'\\xd2', b'\\x91', b'\\x16', b'\\xf4', b'p', b'5', b'\\x8d', b'\\x05', b'\\xf5', b'i', b'\\xe8', b'\\xd2', b'R', b'g', b'\"', b'\\x15', b'\\x0c', b'\\xd1', b'\\xc0', b'\\xbd', b'\\x00', b'\\x83', b'y', b'&', b'\\xc1', b'A', b'\\xa0', b'\\xc8', b'\\x80', b'`', b'\\x8e', b'\\x1f', b'>', b'\\x86', b'\\xa3', b'\\xf2', b'\\x13', b'|', b'0', b'\\xf0', b'?', b'<', b'\\x86', b'\\xc1', b'U', b' ', b'\\xfc', b'\\xbe', b'\\xb6', b'\\x07', b':', b'\\xce', b'\\xe5', b'\\xe6', b'\\xb3', b'%', b'\\x84', b'B', b'j', b'8', b'\\n', b'\\xa6', b'\\x83', b'z', b'\\x18', b'F', b'\\xd7', b'@', b'9', b'^', b'\\x05', b'\\xb1', b'A', b'i', b'V', b'\\x81', b'k', b'\\xa1', b'\\x18', b'\\x01', b'\\xd0', b'\\xd0', b'<', b'\\xa8', b'\\xa7', b'd', b'<', b'[', b'h', b'C', b'\\x11', b'a', b'\\x86', b'.', b'c', b'*', b'\\x8a', b'\\xa8', b'E', b'\\x8b', b'4', b',', b'\\xa4', b'J', b'\\x03', b'\\xd4', b'#', b'B', b'\\xea', b'\\x08', b'\\x18', b'6', b'#', b'>', b'\\x8f', b'\\x89', b'\\xf7', b'\\xd2', b'\\xa1', b'\\xf0', b'\\xec', b'b', b'6', b'\\x98', b')', b'\\xb5', b'\\x91', b'\\xa4', b'v', b'y', b'N', b'\\x9b', b'\\x9a', b'\\x8b', b'\\xa1', b'\\xd2', b'\\x01', b'\\xd8', b'X', b'h', b')', b'\\n', b'\\xea', b'\\xf3', b'\\xe8', b'\\xa5', b'R', b'\\x13', b'-', b'\\x86', b'\\xcc', b'\\x8d', b'\\xc3', b'\\x13', b'\\x1c', b':', b'#', b'\\x08', b'\\x91', b'\\xc0', b'4', b'\\x18', b'\\x0c', b'\\x10', b'x', b'O', b'-', b'H', b'b', b'\\xb8', b'\\x9e', b'.', b'N', b'\\xd1', b'\\xc8', b'r', b\"'\", b'D', b'\\xc2', b'e', b'\\x00']\n"
          ]
        }
      ]
    },
    {
      "cell_type": "markdown",
      "source": [],
      "metadata": {
        "id": "nof4n3dnnUYF"
      }
    },
    {
      "cell_type": "code",
      "source": [
        "import lzw\n",
        "import numpy as np\n",
        "import cv2\n",
        "from ecies import encrypt, decrypt\n",
        "from ecies.utils import generate_eth_key\n",
        "import math\n",
        "\n",
        "# Function for LZW compression\n",
        "def compress_lzw(data):\n",
        "    compressed = lzw.compress(data)\n",
        "    compressed_list = list(compressed)\n",
        "    return compressed_list\n",
        "\n",
        "# Function for LZW decompression\n",
        "def decompress_lzw(compressed_list):\n",
        "    decompressed_chunks = lzw.decompress(compressed_list)\n",
        "    decompressed_data = b\"\".join(decompressed_chunks)\n",
        "    return decompressed_data\n",
        "\n",
        "# Encryption -> Compression -> Steganography (Hiding Data in Image)\n",
        "def encrypt_compress_stego(original_image, output_image, plaintext, public_key):\n",
        "    # Step 1: Encrypt the plaintext\n",
        "    encrypted_data = encrypt(public_key, plaintext)\n",
        "\n",
        "    # Step 2: Compress the encrypted data using LZW\n",
        "    compressed_data = compress_lzw(encrypted_data)\n",
        "\n",
        "    # Step 3: Convert the compressed data to hexadecimal\n",
        "    compressed_hex = \"\".join([x.hex() if isinstance(x, bytes) else format(x, 'x') for x in compressed_data])\n",
        "\n",
        "    # Step 4: Hide the compressed hex data in the image using steganography\n",
        "    steg = LSBSteg(cv2.imread(original_image))\n",
        "    img_encoded = steg.encode_text(compressed_hex)\n",
        "    cv2.imwrite(output_image, img_encoded)\n",
        "\n",
        "    return compressed_hex\n",
        "\n",
        "# Steganography -> Decompression -> Decryption (Extract and Reveal Original Message)\n",
        "def stego_decompress_decrypt(stego_image, private_key):\n",
        "    # Step 1: Extract the hidden hex compressed data from the image\n",
        "    steg = LSBSteg(cv2.imread(stego_image))\n",
        "    extracted_hex = steg.decode_text()\n",
        "\n",
        "    # Step 2: Convert the extracted hex string back to a list of integers or byte sequences\n",
        "    compressed_data = []\n",
        "    i = 0\n",
        "    while i < len(extracted_hex):\n",
        "        # Try to parse each piece of data\n",
        "        try:\n",
        "            # Assuming 2 hex digits represent 1 byte\n",
        "            compressed_data.append(int(extracted_hex[i:i+2], 16))\n",
        "            i += 2\n",
        "        except ValueError:\n",
        "            break\n",
        "\n",
        "    # Step 3: Decompress the extracted data\n",
        "    decompressed_data = decompress_lzw(compressed_data)\n",
        "\n",
        "    # Step 4: Decrypt the decompressed data\n",
        "    decrypted_data = decrypt(private_key, decompressed_data)\n",
        "\n",
        "    return decrypted_data.decode('utf-8')\n",
        "\n",
        "# Function to calculate PSNR between original and stego images\n",
        "def calculate_psnr(original_image_path, stego_image_path):\n",
        "    original = cv2.imread(original_image_path)\n",
        "    stego = cv2.imread(stego_image_path)\n",
        "\n",
        "    # Calculate MSE (Mean Squared Error)\n",
        "    mse = np.mean((original - stego) ** 2)\n",
        "    if mse == 0:  # Images are identical\n",
        "        return float('inf')\n",
        "\n",
        "    # Calculate PSNR\n",
        "    max_pixel_value = 255.0\n",
        "    psnr = 10 * math.log10((max_pixel_value ** 2) / mse)\n",
        "    return psnr\n",
        "\n",
        "# Example Usage\n",
        "original_image = 'lena_downloaded.png'\n",
        "output_image = 'my_new_image.png'\n",
        "plaintext = b\"3348610401970005#christofer*derian*budianto#tegal#1997-03-04#laki-laki#b#jl.*pala*22*no.*30#005#017#mejasem*tengah#kramat#katholik#belum*kawin#pelajar/mahasiswa#wni#seumur*hidup\"\n",
        "\n",
        "# Step 1: Generate ECC key pair for encryption and decryption\n",
        "private_key = generate_eth_key()\n",
        "public_key = private_key.public_key\n",
        "private_key_hex = private_key.to_hex()\n",
        "print(type(private_key_hex))\n",
        "\n",
        "# Step 2: Encryption -> Compression -> Steganography\n",
        "compressed_hex = encrypt_compress_stego(original_image, output_image, plaintext, public_key.to_hex())\n",
        "print(f\"Compressed Data in Hex: {compressed_hex}\")\n",
        "\n",
        "# Step 3: Decrypt and Extract the Message\n",
        "decrypted_message = stego_decompress_decrypt(output_image, private_key_hex)\n",
        "print(f\"Decrypted Message: {decrypted_message}\")\n",
        "\n",
        "# Step 4: Calculate and Print PSNR between the original and stego images\n",
        "psnr_value = calculate_psnr(original_image, output_image)\n",
        "print(f\"PSNR value between the original and stego image: {psnr_value} dB\")\n"
      ],
      "metadata": {
        "colab": {
          "base_uri": "https://localhost:8080/"
        },
        "id": "aKIQgbc4nT25",
        "outputId": "b619e4b9-5630-45b1-d7e7-54467cc1cb38"
      },
      "execution_count": 210,
      "outputs": [
        {
          "output_type": "stream",
          "name": "stdout",
          "text": [
            "<class 'str'>\n",
            "Compressed Data in Hex: 020451a6a61ac8d22964079f6724323c545e1426cae933c0888ea777941d2f402ab5f2e87c8f47e521d960bcc714079a2657487d5c9676198040a60118ea7e2e2405e8d4eb5c580c4f2adf42d1835114986eae522264e3e1f8745a0c40c2611921f22848825daad7d25878b03424458d26d2101433100c8866c1386c54427a2c198a04d0dcbe26410b104e26d945868b47954bae96fb643a09341a564795894522e86719090115789832b64eb3804f7222cdded72b1b4728b4e18538523e954c20a1e9c51ee4041b0d840260681ce17bb209e3c4a9cd50f276398e0a80b83954487d9f94a6a548602eac05a3c10754d36842be1a149548e208b0e683231494e797618d002456ad18ef62a84c940d00535ecc03e9f478ce00319ca7565274b30a0b72a4ce100771cc5e36483370642c8e42303033c4e400\n",
            "Decrypted Message: 3348610401970005#christofer*derian*budianto#tegal#1997-03-04#laki-laki#b#jl.*pala*22*no.*30#005#017#mejasem*tengah#kramat#katholik#belum*kawin#pelajar/mahasiswa#wni#seumur*hidup\n",
            "PSNR value between the original and stego image: 73.21351711200505 dB\n"
          ]
        }
      ]
    },
    {
      "cell_type": "code",
      "source": [
        "im = cv2.imread(\"my_new_image.png\")\n",
        "steg = LSBSteg(im)\n",
        "bytess = steg.decode_text()\n",
        "print(bytess)"
      ],
      "metadata": {
        "colab": {
          "base_uri": "https://localhost:8080/"
        },
        "id": "pltpA4lAotML",
        "outputId": "7f31ad8b-ed82-4c6d-b55b-16be30418aad"
      },
      "execution_count": 151,
      "outputs": [
        {
          "output_type": "stream",
          "name": "stdout",
          "text": [
            "020c1d4d91f1102aba702c176194c050486b6daa916f724a4d288806105c2ea37a407a887b8c5d4b9013ecdec14f379965d2e1e5c6896b3818e01221e9666217adce46329a6dd0bf70b092cdf76ba1800b523c184c233248462c6a0a470d50f0f4b4251e885f6b6421d14c552a1d186b843a70d8fc051c1f80c392001e685d0003ab02b029848228a88e28e5337d4c05609acd6945b0d560d96304940de383a1bc7e1a17d189c489f1724109ae8e09e151acb89b2b2e472fc2dbc1ead37bbb9087c373745a8c6c8d080b9112245a8635228f6b93eb70be867c8c43495590d9a20d7e388140276374c8f94aa15fa6f7eb3464bd00a81be162e114a6df7c95592d9558a038fd18a78f615123c12088393fdb6202b90596861e0e4b4c728894c606c5a224cc0dcdd1342f1a44c1a0c20acd329c393589a22900\n"
          ]
        }
      ]
    },
    {
      "cell_type": "markdown",
      "source": [
        "# crypt > compress w huffman > stego"
      ],
      "metadata": {
        "id": "7-BoCXuqplfm"
      }
    },
    {
      "cell_type": "code",
      "source": [
        "import heapq\n",
        "from collections import Counter\n",
        "\n",
        "# Class for Huffman Tree Nodes\n",
        "class HuffmanNode:\n",
        "    def __init__(self, char=None, freq=0, left=None, right=None):\n",
        "        self.char = char\n",
        "        self.freq = freq\n",
        "        self.left = left\n",
        "        self.right = right\n",
        "\n",
        "    def __lt__(self, other):\n",
        "        return self.freq < other.freq\n",
        "\n",
        "# Function to build the Huffman Tree\n",
        "def build_huffman_tree(frequency):\n",
        "    heap = [HuffmanNode(char, freq) for char, freq in frequency.items()]\n",
        "    heapq.heapify(heap)\n",
        "\n",
        "    while len(heap) > 1:\n",
        "        node1 = heapq.heappop(heap)\n",
        "        node2 = heapq.heappop(heap)\n",
        "        merged = HuffmanNode(freq=node1.freq + node2.freq, left=node1, right=node2)\n",
        "        heapq.heappush(heap, merged)\n",
        "\n",
        "    return heap[0]  # Return the root of the tree\n",
        "\n",
        "# Function to generate Huffman codes from the Huffman Tree\n",
        "def generate_huffman_codes(node, current_code=\"\", huffman_codes={}):\n",
        "    if node is None:\n",
        "        return\n",
        "\n",
        "    if node.char is not None:\n",
        "        huffman_codes[node.char] = current_code\n",
        "\n",
        "    generate_huffman_codes(node.left, current_code + \"0\", huffman_codes)\n",
        "    generate_huffman_codes(node.right, current_code + \"1\", huffman_codes)\n",
        "\n",
        "    return huffman_codes\n",
        "\n",
        "# Function to compress the data using Huffman Encoding\n",
        "def huffman_compress(data):\n",
        "    # Count the frequency of each byte\n",
        "    frequency = Counter(data)\n",
        "\n",
        "    # Build Huffman Tree\n",
        "    huffman_tree = build_huffman_tree(frequency)\n",
        "\n",
        "    # Generate Huffman Codes\n",
        "    huffman_codes = generate_huffman_codes(huffman_tree)\n",
        "\n",
        "    # Encode data into its binary representation\n",
        "    encoded_data = \"\".join(huffman_codes[byte] for byte in data)\n",
        "\n",
        "    # Pad the encoded data to make its length a multiple of 8\n",
        "    padding = 8 - len(encoded_data) % 8\n",
        "    encoded_data += \"0\" * padding\n",
        "    padding_info = \"{0:08b}\".format(padding)\n",
        "\n",
        "    # Convert binary data to bytes\n",
        "    compressed_data = bytearray()\n",
        "    compressed_data.append(int(padding_info, 2))  # First byte stores the padding information\n",
        "    for i in range(0, len(encoded_data), 8):\n",
        "        byte = encoded_data[i:i+8]\n",
        "        compressed_data.append(int(byte, 2))\n",
        "\n",
        "    return compressed_data, huffman_tree\n",
        "\n",
        "# Function to decompress the data using Huffman Encoding\n",
        "def huffman_decompress(compressed_data, huffman_tree):\n",
        "    # Convert the compressed data to binary string\n",
        "    encoded_data = \"\"\n",
        "    for byte in compressed_data[1:]:\n",
        "        encoded_data += \"{0:08b}\".format(byte)\n",
        "\n",
        "    # Get the padding information from the first byte\n",
        "    padding = compressed_data[0]\n",
        "    encoded_data = encoded_data[:-padding]  # Remove padding\n",
        "\n",
        "    # Traverse the Huffman tree to decode the binary string\n",
        "    decoded_data = bytearray()\n",
        "    node = huffman_tree\n",
        "    for bit in encoded_data:\n",
        "        if bit == \"0\":\n",
        "            node = node.left\n",
        "        else:\n",
        "            node = node.right\n",
        "\n",
        "        if node.left is None and node.right is None:  # Leaf node\n",
        "            decoded_data.append(node.char)\n",
        "            node = huffman_tree\n",
        "\n",
        "    return decoded_data\n",
        "\n",
        "\n",
        "# Example Usage of Huffman Compression/Decompression\n",
        "\n",
        "# Step 1: The original plaintext data (as a byte string)\n",
        "plaintext = b\"this is an example of huffman encoding\"\n",
        "\n",
        "# Print the original data\n",
        "print(\"Original Data (as bytes):\", plaintext)\n",
        "print(\"Original Data (as string):\", plaintext.decode())\n",
        "\n",
        "# Step 2: Compress the plaintext data using Huffman encoding\n",
        "compressed_data, huffman_tree = huffman_compress(plaintext)\n",
        "print(\"Compressed Data (in bytes):\", compressed_data)\n",
        "\n",
        "# Step 3: Decompress the compressed data back to the original plaintext\n",
        "decompressed_data = huffman_decompress(compressed_data, huffman_tree)\n",
        "print(\"Decompressed Data (as bytes):\", decompressed_data)\n",
        "print(\"Decompressed Data (as string):\", decompressed_data.decode())\n",
        "\n",
        "# Step 4: Verify that the decompressed data matches the original data\n",
        "if decompressed_data == plaintext:\n",
        "    print(\"Decompression was successful!\")\n",
        "else:\n",
        "    print(\"Decompression failed.\")\n"
      ],
      "metadata": {
        "colab": {
          "base_uri": "https://localhost:8080/"
        },
        "id": "r0hWj5lrpox0",
        "outputId": "6bd4189d-25e3-4fd7-c541-2c328bfed11f"
      },
      "execution_count": 173,
      "outputs": [
        {
          "output_type": "stream",
          "name": "stdout",
          "text": [
            "Original Data (as bytes): b'this is an example of huffman encoding'\n",
            "Original Data (as string): this is an example of huffman encoding\n",
            "Compressed Data (in bytes): bytearray(b'\\x02p\\xf4\\xee\\x9d\\xe7Z\\xfc\\x1e\\xdb\\xc9XYT\\x1eu\\x98\\xa48\\xa8')\n",
            "Decompressed Data (as bytes): bytearray(b'this is an example of huffman encoding')\n",
            "Decompressed Data (as string): this is an example of huffman encoding\n",
            "Decompression was successful!\n"
          ]
        }
      ]
    },
    {
      "cell_type": "code",
      "source": [
        "import sys\n",
        "import heapq\n",
        "from collections import Counter\n",
        "\n",
        "# Class for Huffman Tree Nodes\n",
        "class HuffmanNode:\n",
        "    def __init__(self, char=None, freq=0, left=None, right=None):\n",
        "        self.char = char\n",
        "        self.freq = freq\n",
        "        self.left = left\n",
        "        self.right = right\n",
        "\n",
        "    def __lt__(self, other):\n",
        "        return self.freq < other.freq\n",
        "\n",
        "# Function to build the Huffman Tree\n",
        "def build_huffman_tree(frequency):\n",
        "    heap = [HuffmanNode(char, freq) for char, freq in frequency.items()]\n",
        "    heapq.heapify(heap)\n",
        "\n",
        "    while len(heap) > 1:\n",
        "        node1 = heapq.heappop(heap)\n",
        "        node2 = heapq.heappop(heap)\n",
        "        merged = HuffmanNode(freq=node1.freq + node2.freq, left=node1, right=node2)\n",
        "        heapq.heappush(heap, merged)\n",
        "\n",
        "    return heap[0]  # Return the root of the tree\n",
        "\n",
        "# Function to generate Huffman codes from the Huffman Tree\n",
        "def generate_huffman_codes(node, current_code=\"\", huffman_codes={}):\n",
        "    if node is None:\n",
        "        return\n",
        "\n",
        "    if node.char is not None:\n",
        "        huffman_codes[node.char] = current_code\n",
        "\n",
        "    generate_huffman_codes(node.left, current_code + \"0\", huffman_codes)\n",
        "    generate_huffman_codes(node.right, current_code + \"1\", huffman_codes)\n",
        "\n",
        "    return huffman_codes\n",
        "\n",
        "# Function to compress the data using Huffman Encoding\n",
        "def huffman_compress(data):\n",
        "    # Count the frequency of each byte\n",
        "    frequency = Counter(data)\n",
        "\n",
        "    # Build Huffman Tree\n",
        "    huffman_tree = build_huffman_tree(frequency)\n",
        "\n",
        "    # Generate Huffman Codes\n",
        "    huffman_codes = generate_huffman_codes(huffman_tree)\n",
        "\n",
        "    # Encode data into its binary representation\n",
        "    encoded_data = \"\".join(huffman_codes[byte] for byte in data)\n",
        "\n",
        "    # Pad the encoded data to make its length a multiple of 8\n",
        "    padding = 8 - len(encoded_data) % 8\n",
        "    encoded_data += \"0\" * padding\n",
        "    padding_info = \"{0:08b}\".format(padding)\n",
        "\n",
        "    # Convert binary data to bytes\n",
        "    compressed_data = bytearray()\n",
        "    compressed_data.append(int(padding_info, 2))  # First byte stores the padding information\n",
        "    for i in range(0, len(encoded_data), 8):\n",
        "        byte = encoded_data[i:i+8]\n",
        "        compressed_data.append(int(byte, 2))\n",
        "\n",
        "    return compressed_data, huffman_tree\n",
        "\n",
        "# Function to decompress the data using Huffman Encoding\n",
        "def huffman_decompress(compressed_data, huffman_tree):\n",
        "    # Convert the compressed data to binary string\n",
        "    encoded_data = \"\"\n",
        "    for byte in compressed_data[1:]:\n",
        "        encoded_data += \"{0:08b}\".format(byte)\n",
        "\n",
        "    # Get the padding information from the first byte\n",
        "    padding = compressed_data[0]\n",
        "    encoded_data = encoded_data[:-padding]  # Remove padding\n",
        "\n",
        "    # Traverse the Huffman tree to decode the binary string\n",
        "    decoded_data = bytearray()\n",
        "    node = huffman_tree\n",
        "    for bit in encoded_data:\n",
        "        if bit == \"0\":\n",
        "            node = node.left\n",
        "        else:\n",
        "            node = node.right\n",
        "\n",
        "        if node.left is None and node.right is None:  # Leaf node\n",
        "            decoded_data.append(node.char)\n",
        "            node = huffman_tree\n",
        "\n",
        "    return decoded_data\n",
        "\n",
        "\n",
        "# Example Usage of Huffman Compression/Decompression\n",
        "\n",
        "# Step 1: The original plaintext data (as a byte string)\n",
        "plaintext = b\"this is an example of huffman encoding\"\n",
        "\n",
        "# Print the original data\n",
        "print(\"Original Data (as bytes):\", plaintext)\n",
        "print(\"Original Data (as string):\", plaintext.decode())\n",
        "print(f\"Size of Original Data: {sys.getsizeof(plaintext)} bytes\")\n",
        "\n",
        "# Step 2: Compress the plaintext data using Huffman encoding\n",
        "compressed_data, huffman_tree = huffman_compress(plaintext)\n",
        "print(\"Compressed Data (in bytes):\", compressed_data)\n",
        "print(f\"Size of Compressed Data: {sys.getsizeof(compressed_data)} bytes\")\n",
        "\n",
        "# Step 3: Decompress the compressed data back to the original plaintext\n",
        "decompressed_data = huffman_decompress(compressed_data, huffman_tree)\n",
        "print(\"Decompressed Data (as bytes):\", decompressed_data)\n",
        "print(\"Decompressed Data (as string):\", decompressed_data.decode())\n",
        "print(f\"Size of Decompressed Data: {sys.getsizeof(decompressed_data)} bytes\")\n",
        "\n",
        "# Step 4: Verify that the decompressed data matches the original data\n",
        "if decompressed_data == plaintext:\n",
        "    print(\"Decompression was successful!\")\n",
        "else:\n",
        "    print(\"Decompression failed.\")\n"
      ],
      "metadata": {
        "colab": {
          "base_uri": "https://localhost:8080/"
        },
        "id": "JN3C2u23r1Yj",
        "outputId": "0f66ae0d-5d3a-4dfc-fc15-88f05220402e"
      },
      "execution_count": 174,
      "outputs": [
        {
          "output_type": "stream",
          "name": "stdout",
          "text": [
            "Original Data (as bytes): b'this is an example of huffman encoding'\n",
            "Original Data (as string): this is an example of huffman encoding\n",
            "Size of Original Data: 71 bytes\n",
            "Compressed Data (in bytes): bytearray(b'\\x02p\\xf4\\xee\\x9d\\xe7Z\\xfc\\x1e\\xdb\\xc9XYT\\x1eu\\x98\\xa48\\xa8')\n",
            "Size of Compressed Data: 83 bytes\n",
            "Decompressed Data (as bytes): bytearray(b'this is an example of huffman encoding')\n",
            "Decompressed Data (as string): this is an example of huffman encoding\n",
            "Size of Decompressed Data: 102 bytes\n",
            "Decompression was successful!\n"
          ]
        }
      ]
    },
    {
      "cell_type": "code",
      "source": [
        "import numpy as np\n",
        "import cv2\n",
        "from ecies import encrypt, decrypt\n",
        "from ecies.utils import generate_eth_key\n",
        "import math\n",
        "\n",
        "# Function for Huffman compression (assuming implementation is already available)\n",
        "def compress_huffman(data):\n",
        "    compressed_data, huffman_tree = huffman_compress(data)\n",
        "    return compressed_data, huffman_tree\n",
        "\n",
        "# Function for Huffman decompression (assuming implementation is already available)\n",
        "def decompress_huffman(compressed_data, huffman_tree):\n",
        "    decompressed_data = huffman_decompress(compressed_data, huffman_tree)\n",
        "    return decompressed_data\n",
        "\n",
        "# Encryption function\n",
        "def encrypt_data(plaintext, public_key):\n",
        "    encrypted_data = encrypt(public_key, plaintext)\n",
        "    print(f\"Encrypted Data (hex): {encrypted_data.hex()}\")\n",
        "    return encrypted_data\n",
        "\n",
        "# Decryption function\n",
        "def decrypt_data(decrypted_data, private_key):\n",
        "    decrypted_data = decrypt(private_key, decrypted_data)\n",
        "    print(f\"Decrypted Data (hex): {decrypted_data.hex()}\")\n",
        "    return decrypted_data\n",
        "\n",
        "# Compression function\n",
        "def compress_data(encrypted_data):\n",
        "    compressed_data, huffman_tree = compress_huffman(encrypted_data)\n",
        "    print(f\"Compressed Data (hex): {compressed_data.hex()}\")\n",
        "    return compressed_data, huffman_tree\n",
        "\n",
        "# Decompression function\n",
        "def decompress_data(compressed_data, huffman_tree):\n",
        "    decompressed_data = decompress_huffman(compressed_data, huffman_tree)\n",
        "    print(f\"Decompressed Data (hex): {decompressed_data.hex()}\")\n",
        "    return decompressed_data\n",
        "\n",
        "# Steganography encoding function\n",
        "def stego_encode_image(original_image, output_image, data_to_hide):\n",
        "    steg = LSBSteg(cv2.imread(original_image))\n",
        "    steg.encode_text(data_to_hide)\n",
        "    cv2.imwrite(output_image, steg.image)\n",
        "    print(f\"Data hidden in image: {data_to_hide}\")\n",
        "\n",
        "# Steganography decoding function\n",
        "def stego_decode_image(stego_image):\n",
        "    steg = LSBSteg(cv2.imread(stego_image))\n",
        "    extracted_data = steg.decode_text()\n",
        "    print(f\"Extracted Data from Image: {extracted_data}\")\n",
        "    return extracted_data\n",
        "\n",
        "# Function to calculate PSNR between original and stego images\n",
        "def calculate_psnr(original_image_path, stego_image_path):\n",
        "    original = cv2.imread(original_image_path)\n",
        "    stego = cv2.imread(stego_image_path)\n",
        "\n",
        "    mse = np.mean((original - stego) ** 2)\n",
        "    if mse == 0:  # Images are identical\n",
        "        return float('inf')\n",
        "\n",
        "    max_pixel_value = 255.0\n",
        "    psnr = 10 * math.log10((max_pixel_value ** 2) / mse)\n",
        "    return psnr\n",
        "\n",
        "# Example usage\n",
        "original_image = 'lena_downloaded.png'\n",
        "output_image = 'my_new_image.png'\n",
        "plaintext = b\"3348610401970005#christofer*derian*budianto#tegal#1997-03-04#laki-laki#b#jl.*pala*22*no.*30#005#017#mejasem*tengah#kramat#katholik#belum*kawin#pelajar/mahasiswa#wni#seumur*hidup\"\n",
        "\n",
        "# Step 1: Generate ECC key pair for encryption and decryption\n",
        "private_key = generate_eth_key()\n",
        "public_key = private_key.public_key\n",
        "\n",
        "# Step 2: Convert the public key to a usable format\n",
        "public_key_hex = public_key.to_hex()\n",
        "private_key_hex = private_key.to_hex()\n",
        "\n",
        "# # Encryption step\n",
        "# encrypted_data = encrypt_data(plaintext, public_key_hex)\n",
        "\n",
        "# # Compression step\n",
        "# compressed_data, huffman_tree = compress_data(encrypted_data)\n",
        "\n",
        "#\n",
        "\n",
        "encrypted_data = encrypt(public_key_hex, plaintext)\n",
        "print(encrypted_data.hex())\n",
        "print(type(encrypted_data))\n",
        "\n",
        "compressed_data, huffman_tree = compress_huffman(encrypted_data)\n",
        "# print(compressed_data.hex())\n",
        "\n",
        "decompressed_data = decompress_huffman(compressed_data, huffman_tree)\n",
        "# print(decompressed_data.hex())\n",
        "\n",
        "decompressed_data = bytes(decompressed_data)\n",
        "\n",
        "\n",
        "print(decompressed_data.hex())\n",
        "print(type(decompressed_data))\n",
        "\n",
        "decrypted_data = decrypt(private_key_hex, decompressed_data)\n",
        "print(decrypted_data.decode())\n",
        "\n",
        "#\n",
        "\n",
        "# Steganography encoding step\n",
        "# stego_encode_image(original_image, output_image, compressed_data.hex())\n",
        "\n",
        "# # Steganography decoding step\n",
        "# extracted_data_hex = stego_decode_image(output_image)\n",
        "# compressed_data_extracted = bytes.fromhex(extracted_data_hex)\n",
        "\n",
        "# # Decompression step\n",
        "# decompressed_data = decompress_data(compressed_data_extracted, huffman_tree)\n",
        "\n",
        "# # Decryption step\n",
        "# decrypted_message = decrypt_data(decompressed_data, private_key_hex)\n",
        "# print(f\"Decrypted Message: {decrypted_message.decode('utf-8')}\")\n",
        "\n",
        "# # PSNR calculation\n",
        "# psnr_value = calculate_psnr(original_image, output_image)\n",
        "# print(f\"PSNR value between the original and stego image: {psnr_value} dB\")\n"
      ],
      "metadata": {
        "colab": {
          "base_uri": "https://localhost:8080/"
        },
        "id": "A-MCOPFmqGo-",
        "outputId": "b82e981e-bdea-4bcc-9ec6-e5fb53a0753e"
      },
      "execution_count": 236,
      "outputs": [
        {
          "output_type": "stream",
          "name": "stdout",
          "text": [
            "047d7d1c3596188a40edb542f77bc01907c9f15f88ec7e2a2c576ab3dc196a788697082cc2d25e97dd2ff36c6de90f5bc7dd40ab7fecbee0ef1d877512f72fde8598d01b1970c3066b2102cd2acf87d621eca75e3dcb155a6019314b703e181401276ea2b2406b49ab66a3b22637443edfd271608153e27d089789f62f00101e607985cb8da7141ae8748e4c016cb4253fb274c6f4757e60931c7b83656fbc598faee59331f08f3e85ac89f076462956dc6685632b2cd1a18f9dc0134ce8d09492342e669c43f5314f8c7ca0e2b147a0d3ab66b31411a88edbc0e5955c22cc45fe20ee27cad8f4e90cd01845b0126320ce40778a1e238dd84946f71927757ebe8054c6ec5ece38b4ba1c10d069a90aec6b79\n",
            "<class 'bytes'>\n",
            "047d7d1c3596188a40edb542f77bc01907c9f15f88ec7e2a2c576ab3dc196a788697082cc2d25e97dd2ff36c6de90f5bc7dd40ab7fecbee0ef1d877512f72fde8598d01b1970c3066b2102cd2acf87d621eca75e3dcb155a6019314b703e181401276ea2b2406b49ab66a3b22637443edfd271608153e27d089789f62f00101e607985cb8da7141ae8748e4c016cb4253fb274c6f4757e60931c7b83656fbc598faee59331f08f3e85ac89f076462956dc6685632b2cd1a18f9dc0134ce8d09492342e669c43f5314f8c7ca0e2b147a0d3ab66b31411a88edbc0e5955c22cc45fe20ee27cad8f4e90cd01845b0126320ce40778a1e238dd84946f71927757ebe8054c6ec5ece38b4ba1c10d069a90aec6b79\n",
            "<class 'bytes'>\n",
            "3348610401970005#christofer*derian*budianto#tegal#1997-03-04#laki-laki#b#jl.*pala*22*no.*30#005#017#mejasem*tengah#kramat#katholik#belum*kawin#pelajar/mahasiswa#wni#seumur*hidup\n"
          ]
        }
      ]
    },
    {
      "cell_type": "code",
      "source": [
        "import numpy as np\n",
        "import cv2\n",
        "from ecies import encrypt, decrypt\n",
        "from ecies.utils import generate_eth_key\n",
        "import math\n",
        "\n",
        "# Function for Huffman compression (Assuming already implemented)\n",
        "def compress_huffman(data):\n",
        "    compressed_data, huffman_tree = huffman_compress(data)\n",
        "    return compressed_data, huffman_tree\n",
        "\n",
        "# Function for Huffman decompression (Assuming already implemented)\n",
        "def decompress_huffman(compressed_data, huffman_tree):\n",
        "    decompressed_data = huffman_decompress(compressed_data, huffman_tree)\n",
        "    return decompressed_data\n",
        "\n",
        "# Encryption -> Compression -> Steganography (Hiding Data in Image)\n",
        "def encrypt_compress_stego(original_image, output_image, plaintext, public_key):\n",
        "    # Step 1: Encrypt the plaintext\n",
        "    encrypted_data = encrypt(public_key, plaintext)\n",
        "    print(f\"Encrypted Data (hex): {encrypted_data.hex()}\")  # Debugging the encrypted data\n",
        "\n",
        "    # Step 2: Compress the encrypted data using Huffman Encoding\n",
        "    compressed_data, huffman_tree = compress_huffman(encrypted_data)\n",
        "    print(f\"Compressed Data (hex): {compressed_data.hex()}\")  # Debugging the compressed data\n",
        "\n",
        "    # Step 3: Convert the compressed data to hexadecimal for steganography\n",
        "    compressed_hex = compressed_data.hex()\n",
        "\n",
        "    # Step 4: Hide the compressed hex data in the image using steganography\n",
        "    steg = LSBSteg(cv2.imread(original_image))\n",
        "    img_encoded = steg.encode_text(compressed_hex)\n",
        "    cv2.imwrite(output_image, img_encoded)\n",
        "\n",
        "    return compressed_hex, huffman_tree\n",
        "\n",
        "# Steganography -> Decompression -> Decryption (Extract and Reveal Original Message)\n",
        "def stego_decompress_decrypt(stego_image, private_key, huffman_tree):\n",
        "    # Step 1: Extract the hidden hex compressed data from the image\n",
        "    steg = LSBSteg(cv2.imread(stego_image))\n",
        "    extracted_hex = steg.decode_text()\n",
        "    print(f\"Extracted Hex Data: {extracted_hex}\")  # Debugging the extracted hex data\n",
        "\n",
        "    # Step 2: Convert hex back to bytes\n",
        "    compressed_data = bytes.fromhex(extracted_hex)\n",
        "    print(f\"Compressed Data (from extracted hex): {compressed_data.hex()}\")  # Debugging the compressed data\n",
        "\n",
        "    # Step 3: Decompress the extracted data using Huffman Encoding\n",
        "    decompressed_data = decompress_huffman(compressed_data, huffman_tree)\n",
        "    print(f\"Decompressed Data (hex): {decompressed_data.hex()}\")  # Debugging the decompressed data\n",
        "\n",
        "    decompressed_data = bytes(decompressed_data)\n",
        "\n",
        "    # Step 4: Decrypt the decompressed data\n",
        "    decrypted_data = decrypt(private_key, decompressed_data)  # Use decompressed bytes directly\n",
        "    print(f\"Decrypted Data (hex): {decrypted_data.hex()}\")  # Debugging the decrypted data\n",
        "\n",
        "    return decrypted_data.decode('utf-8')\n",
        "\n",
        "# Function to calculate PSNR between original and stego images\n",
        "def calculate_psnr(original_image_path, stego_image_path):\n",
        "    original = cv2.imread(original_image_path)\n",
        "    stego = cv2.imread(stego_image_path)\n",
        "\n",
        "    # Calculate MSE (Mean Squared Error)\n",
        "    mse = np.mean((original - stego) ** 2)\n",
        "    if mse == 0:  # Images are identical\n",
        "        return float('inf')\n",
        "\n",
        "    # Calculate PSNR\n",
        "    max_pixel_value = 255.0\n",
        "    psnr = 10 * math.log10((max_pixel_value ** 2) / mse)\n",
        "    return psnr\n",
        "\n",
        "# Example Usage\n",
        "original_image = 'lena_downloaded.png'\n",
        "output_image = 'my_new_image.png'\n",
        "plaintext = b\"3348610401970005#christofer*derian*budianto#tegal#1997-03-04#laki-laki#b#jl.*pala*22*no.*30#005#017#mejasem*tengah#kramat#katholik#belum*kawin#pelajar/mahasiswa#wni#seumur*hidup\"\n",
        "\n",
        "# Step 1: Generate ECC key pair for encryption and decryption\n",
        "private_key = generate_eth_key()\n",
        "public_key = private_key.public_key\n",
        "private_key_hex = private_key.to_hex()\n",
        "\n",
        "# Step 2: Encryption -> Compression -> Steganography\n",
        "compressed_hex, huffman_tree = encrypt_compress_stego(original_image, output_image, plaintext, public_key.to_hex())\n",
        "print(f\"Compressed Data in Hex: {compressed_hex}\")\n",
        "\n",
        "# Step 3: Decrypt and Extract the Message\n",
        "decrypted_message = stego_decompress_decrypt(output_image, private_key_hex, huffman_tree)\n",
        "print(f\"Decrypted Message: {decrypted_message}\")\n",
        "\n",
        "# Step 4: Calculate and Print PSNR between the original and stego images\n",
        "psnr_value = calculate_psnr(original_image, output_image)\n",
        "print(f\"PSNR value between the original and stego image: {psnr_value} dB\")\n"
      ],
      "metadata": {
        "colab": {
          "base_uri": "https://localhost:8080/"
        },
        "id": "zXR_nbqa3As_",
        "outputId": "7ec45132-6516-4c4f-8986-40a987c9ed53"
      },
      "execution_count": 241,
      "outputs": [
        {
          "output_type": "stream",
          "name": "stdout",
          "text": [
            "Encrypted Data (hex): 04fc1de98ea26a13f01ed24c7ee5a273e416b8dff7756f9a9535d72a9455f262f2ad6f5e249984479a3d4181bcda3728e8ea67e22a847413a8da66b86732993e928a4830392121f3f7a44da3145136216148a7a635d645b0209bb34716ed463a42ec25b0abed52d6fd879e5e285e9e780ad1bdf004cefc2f92cf9a3153b974675b3bec5e3adfbe655d7459879187bb764b6cb1d3bed9387c3d3dcfd9fa6c2c7f680dfe747402801290054d409bae01e576dd04c066517b3b861120d696e7a89f1438171129d65b2034df0f2bf736fa1c96d254f1dc3d93fc51c75f440cbcb6f1c6de676577c8f361d6666fdf0f9f0757f039707b20c4b23c7e54eb02dbeaa7bd302b230484c8c43974fbd47f8dbdb3ee355c\n",
            "Compressed Data (hex): 05c7e7fd8d5837f8af77f273796506ab663b907eafdf78aaf08dbc114d22aa4507d792947e13c5619b4fe287ad1136e0a97bf7854414f7930165118e1d80d8f5dbb40ea4552954f41bd81817c93c3721399925c24e994eb6314670e49996cdcb39b779a3cdcf11917977c55fe35b8d9c5a906e7cc054ca2f5b1cd9ab8f26b98bf38f74e615c9dcddd0e12b2db2e800b7f66fa9e1fcf20cbcb11c5d49225aba929d526343efa3098cebf3df457889ea43d72fd6dc566963973fd468048d04eb2120591fe7489880540fe0443a7a581a4f31001efefe8e5e7c726f7f498c3384c5af96b43419ddafb9583f6b8fe310bd78cb15659392e6de05a0\n",
            "Compressed Data in Hex: 05c7e7fd8d5837f8af77f273796506ab663b907eafdf78aaf08dbc114d22aa4507d792947e13c5619b4fe287ad1136e0a97bf7854414f7930165118e1d80d8f5dbb40ea4552954f41bd81817c93c3721399925c24e994eb6314670e49996cdcb39b779a3cdcf11917977c55fe35b8d9c5a906e7cc054ca2f5b1cd9ab8f26b98bf38f74e615c9dcddd0e12b2db2e800b7f66fa9e1fcf20cbcb11c5d49225aba929d526343efa3098cebf3df457889ea43d72fd6dc566963973fd468048d04eb2120591fe7489880540fe0443a7a581a4f31001efefe8e5e7c726f7f498c3384c5af96b43419ddafb9583f6b8fe310bd78cb15659392e6de05a0\n",
            "Extracted Hex Data: 05c7e7fd8d5837f8af77f273796506ab663b907eafdf78aaf08dbc114d22aa4507d792947e13c5619b4fe287ad1136e0a97bf7854414f7930165118e1d80d8f5dbb40ea4552954f41bd81817c93c3721399925c24e994eb6314670e49996cdcb39b779a3cdcf11917977c55fe35b8d9c5a906e7cc054ca2f5b1cd9ab8f26b98bf38f74e615c9dcddd0e12b2db2e800b7f66fa9e1fcf20cbcb11c5d49225aba929d526343efa3098cebf3df457889ea43d72fd6dc566963973fd468048d04eb2120591fe7489880540fe0443a7a581a4f31001efefe8e5e7c726f7f498c3384c5af96b43419ddafb9583f6b8fe310bd78cb15659392e6de05a0\n",
            "Compressed Data (from extracted hex): 05c7e7fd8d5837f8af77f273796506ab663b907eafdf78aaf08dbc114d22aa4507d792947e13c5619b4fe287ad1136e0a97bf7854414f7930165118e1d80d8f5dbb40ea4552954f41bd81817c93c3721399925c24e994eb6314670e49996cdcb39b779a3cdcf11917977c55fe35b8d9c5a906e7cc054ca2f5b1cd9ab8f26b98bf38f74e615c9dcddd0e12b2db2e800b7f66fa9e1fcf20cbcb11c5d49225aba929d526343efa3098cebf3df457889ea43d72fd6dc566963973fd468048d04eb2120591fe7489880540fe0443a7a581a4f31001efefe8e5e7c726f7f498c3384c5af96b43419ddafb9583f6b8fe310bd78cb15659392e6de05a0\n",
            "Decompressed Data (hex): 04fc1de98ea26a13f01ed24c7ee5a273e416b8dff7756f9a9535d72a9455f262f2ad6f5e249984479a3d4181bcda3728e8ea67e22a847413a8da66b86732993e928a4830392121f3f7a44da3145136216148a7a635d645b0209bb34716ed463a42ec25b0abed52d6fd879e5e285e9e780ad1bdf004cefc2f92cf9a3153b974675b3bec5e3adfbe655d7459879187bb764b6cb1d3bed9387c3d3dcfd9fa6c2c7f680dfe747402801290054d409bae01e576dd04c066517b3b861120d696e7a89f1438171129d65b2034df0f2bf736fa1c96d254f1dc3d93fc51c75f440cbcb6f1c6de676577c8f361d6666fdf0f9f0757f039707b20c4b23c7e54eb02dbeaa7bd302b230484c8c43974fbd47f8dbdb3ee355c\n",
            "Decrypted Data (hex): 33333438363130343031393730303035236368726973746f6665722a64657269616e2a62756469616e746f23746567616c23313939372d30332d3034236c616b692d6c616b692362236a6c2e2a70616c612a32322a6e6f2e2a33302330303523303137236d656a6173656d2a74656e676168236b72616d6174236b6174686f6c696b2362656c756d2a6b6177696e2370656c616a61722f6d616861736973776123776e69237365756d75722a6869647570\n",
            "Decrypted Message: 3348610401970005#christofer*derian*budianto#tegal#1997-03-04#laki-laki#b#jl.*pala*22*no.*30#005#017#mejasem*tengah#kramat#katholik#belum*kawin#pelajar/mahasiswa#wni#seumur*hidup\n",
            "PSNR value between the original and stego image: 74.20045276948979 dB\n"
          ]
        }
      ]
    },
    {
      "cell_type": "code",
      "source": [
        "read_stego()"
      ],
      "metadata": {
        "colab": {
          "base_uri": "https://localhost:8080/"
        },
        "id": "L7d2FwM5t_IC",
        "outputId": "f5e28275-bdf0-4bd3-8dfe-991de97901ad"
      },
      "execution_count": 242,
      "outputs": [
        {
          "output_type": "stream",
          "name": "stdout",
          "text": [
            "05c7e7fd8d5837f8af77f273796506ab663b907eafdf78aaf08dbc114d22aa4507d792947e13c5619b4fe287ad1136e0a97bf7854414f7930165118e1d80d8f5dbb40ea4552954f41bd81817c93c3721399925c24e994eb6314670e49996cdcb39b779a3cdcf11917977c55fe35b8d9c5a906e7cc054ca2f5b1cd9ab8f26b98bf38f74e615c9dcddd0e12b2db2e800b7f66fa9e1fcf20cbcb11c5d49225aba929d526343efa3098cebf3df457889ea43d72fd6dc566963973fd468048d04eb2120591fe7489880540fe0443a7a581a4f31001efefe8e5e7c726f7f498c3384c5af96b43419ddafb9583f6b8fe310bd78cb15659392e6de05a0\n"
          ]
        }
      ]
    },
    {
      "cell_type": "code",
      "source": [],
      "metadata": {
        "id": "Qm2sOltWt6sr"
      },
      "execution_count": 191,
      "outputs": []
    }
  ]
}