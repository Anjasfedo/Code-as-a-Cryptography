{
  "nbformat": 4,
  "nbformat_minor": 0,
  "metadata": {
    "colab": {
      "provenance": [],
      "authorship_tag": "ABX9TyMy9uNbTq5jnZaP4xTm4uca",
      "include_colab_link": true
    },
    "kernelspec": {
      "name": "python3",
      "display_name": "Python 3"
    },
    "language_info": {
      "name": "python"
    }
  },
  "cells": [
    {
      "cell_type": "markdown",
      "metadata": {
        "id": "view-in-github",
        "colab_type": "text"
      },
      "source": [
        "<a href=\"https://colab.research.google.com/github/Anjasfedo/Code-as-a-Cryptography/blob/main/ecc_lsb_2.ipynb\" target=\"_parent\"><img src=\"https://colab.research.google.com/assets/colab-badge.svg\" alt=\"Open In Colab\"/></a>"
      ]
    },
    {
      "cell_type": "markdown",
      "source": [
        "# Elliptic Curve Cryptography"
      ],
      "metadata": {
        "id": "TSlmaK73U3Tc"
      }
    },
    {
      "cell_type": "code",
      "execution_count": 30,
      "metadata": {
        "colab": {
          "base_uri": "https://localhost:8080/"
        },
        "id": "uWRZe1zZSRZi",
        "outputId": "6f23048c-e4c5-44c4-fd19-2e082a9fdbba"
      },
      "outputs": [
        {
          "output_type": "stream",
          "name": "stdout",
          "text": [
            "Requirement already satisfied: eciespy in /usr/local/lib/python3.10/dist-packages (0.4.2)\n",
            "Requirement already satisfied: coincurve<20,>=13 in /usr/local/lib/python3.10/dist-packages (from eciespy) (19.0.1)\n",
            "Requirement already satisfied: eth-keys<0.6,>=0.4 in /usr/local/lib/python3.10/dist-packages (from eciespy) (0.5.1)\n",
            "Requirement already satisfied: pycryptodome<4.0.0,>=3.19.1 in /usr/local/lib/python3.10/dist-packages (from eciespy) (3.20.0)\n",
            "Requirement already satisfied: asn1crypto in /usr/local/lib/python3.10/dist-packages (from coincurve<20,>=13->eciespy) (1.5.1)\n",
            "Requirement already satisfied: cffi>=1.3.0 in /usr/local/lib/python3.10/dist-packages (from coincurve<20,>=13->eciespy) (1.17.1)\n",
            "Requirement already satisfied: eth-utils>=2 in /usr/local/lib/python3.10/dist-packages (from eth-keys<0.6,>=0.4->eciespy) (5.0.0)\n",
            "Requirement already satisfied: eth-typing>=3 in /usr/local/lib/python3.10/dist-packages (from eth-keys<0.6,>=0.4->eciespy) (5.0.0)\n",
            "Requirement already satisfied: pycparser in /usr/local/lib/python3.10/dist-packages (from cffi>=1.3.0->coincurve<20,>=13->eciespy) (2.22)\n",
            "Requirement already satisfied: typing-extensions>=4.5.0 in /usr/local/lib/python3.10/dist-packages (from eth-typing>=3->eth-keys<0.6,>=0.4->eciespy) (4.12.2)\n",
            "Requirement already satisfied: eth-hash>=0.3.1 in /usr/local/lib/python3.10/dist-packages (from eth-utils>=2->eth-keys<0.6,>=0.4->eciespy) (0.7.0)\n",
            "Requirement already satisfied: hexbytes>=1.0.0 in /usr/local/lib/python3.10/dist-packages (from eth-utils>=2->eth-keys<0.6,>=0.4->eciespy) (1.2.1)\n",
            "Requirement already satisfied: cytoolz>=0.10.1 in /usr/local/lib/python3.10/dist-packages (from eth-utils>=2->eth-keys<0.6,>=0.4->eciespy) (0.12.3)\n",
            "Requirement already satisfied: toolz>=0.8.0 in /usr/local/lib/python3.10/dist-packages (from cytoolz>=0.10.1->eth-utils>=2->eth-keys<0.6,>=0.4->eciespy) (0.12.1)\n"
          ]
        }
      ],
      "source": [
        "!pip install eciespy"
      ]
    },
    {
      "cell_type": "code",
      "source": [
        "\n",
        "from ecies.utils import generate_eth_key\n",
        "from ecies import encrypt, decrypt\n",
        "\n",
        "# Step 1: Generate a private key\n",
        "private_key = generate_eth_key()\n",
        "public_key = private_key.public_key\n",
        "\n",
        "# Step 2: Convert the public key to a usable format\n",
        "public_key_hex = public_key.to_hex()\n",
        "private_key_hex = private_key.to_hex()\n",
        "\n",
        "print(\"Public Key:\", public_key_hex)\n",
        "print(\"Private Key:\", private_key_hex)\n",
        "\n",
        "# Step 3: Encrypt a message using the recipient's public key\n",
        "plaintext = b\"3348610401970005#christofer*derian*budianto#tegal#1997-03-04#laki-laki#b#jl.*pala*22*no.*30#005#017#mejasem*tengah#kramat#katholik#belum*kawin#pelajar/mahasiswa#wni#seumur*hidup\"\n",
        "ciphertext = encrypt(public_key_hex, plaintext)\n",
        "\n",
        "print(\"Ciphertext:\", ciphertext.hex())\n",
        "\n",
        "# Step 4: Decrypt the ciphertext using the private key\n",
        "decrypted_message = decrypt(private_key_hex, ciphertext)\n",
        "print(\"Decrypted Message:\", decrypted_message.decode())"
      ],
      "metadata": {
        "colab": {
          "base_uri": "https://localhost:8080/"
        },
        "id": "FYM40G-ZSdCu",
        "outputId": "fcb675a3-2931-4e8d-c56f-e046e276ea21"
      },
      "execution_count": 31,
      "outputs": [
        {
          "output_type": "stream",
          "name": "stdout",
          "text": [
            "Public Key: 0xa19b3517d9073c10e12af0b17bca09434b41fa0caa33c349bd6fb62ecefda7570e5366176c1107d5cbcc4cf08b70aa45014e5f625d82d035f32f195926eacc90\n",
            "Private Key: 0x20b60e7c038f91c84db693dff48e7c60cced97b6305b1dbe7bb02945d13a7f33\n",
            "Ciphertext: 04a91e4be2d11020e30130f7f22254de682e141835a2f745803638e4c751efd59beff305d0abb6c4412b0b2dc827f177cb228607bdcb083b4d24c205db1c60069ba01f1308fb5e8fdbff93049e97071b3dfcf62f7cd74b2506f42f8d240a26abf9beaa770512f7102af6283eb40dd7c199a47ab047fa6ee48e9c96b3ecd30ca430b56db3388a0bffe76fab04610554fbb7504d961b156c1ff2b793c111ef65a1ff33a407dead0146e57c9332551a3a16d685f5ffb583c3febbe49fded600a1ab2c9076a08aa22e1f98852089efdce5b41aff995fa7afe29786569fd2392b578f9ec61f5b8d8363673bad0fd0a9f365817f1bdacbdceda494d8e42e02dd325ec5fc5cebf57da9a8d3468851fae23d701c3d75\n",
            "Decrypted Message: 3348610401970005#christofer*derian*budianto#tegal#1997-03-04#laki-laki#b#jl.*pala*22*no.*30#005#017#mejasem*tengah#kramat#katholik#belum*kawin#pelajar/mahasiswa#wni#seumur*hidup\n"
          ]
        }
      ]
    },
    {
      "cell_type": "code",
      "source": [
        "import base64\n",
        "# Convert the hexadecimal ciphertext back into bytes\n",
        "ciphertext_bytes = bytes.fromhex(ciphertext.hex())\n",
        "\n",
        "# Encode the bytes to Base64\n",
        "ciphertext_base64 = base64.b64encode(ciphertext_bytes)\n",
        "\n",
        "# Print the Base64-encoded ciphertext (which will include symbols)\n",
        "print(\"Base64 Encoded Ciphertext:\", ciphertext_base64.decode())"
      ],
      "metadata": {
        "colab": {
          "base_uri": "https://localhost:8080/"
        },
        "id": "_AVwBcAaSp5K",
        "outputId": "891c4338-9419-4a07-ff83-6e2782354cde"
      },
      "execution_count": 32,
      "outputs": [
        {
          "output_type": "stream",
          "name": "stdout",
          "text": [
            "Base64 Encoded Ciphertext: BKkeS+LRECDjATD38iJU3mguFBg1ovdFgDY45MdR79Wb7/MF0Ku2xEErCy3IJ/F3yyKGB73LCDtNJMIF2xxgBpugHxMI+16P2/+TBJ6XBxs9/PYvfNdLJQb0L40kCiar+b6qdwUS9xAq9ig+tA3XwZmkerBH+m7kjpyWs+zTDKQwtW2zOIoL/+dvqwRhBVT7t1BNlhsVbB/yt5PBEe9lof8zpAferQFG5XyTMlUaOhbWhfX/tYPD/rvkn97WAKGrLJB2oIqiLh+YhSCJ79zltBr/mV+nr+KXhlaf0jkrV4+exh9bjYNjZzutD9Cp82WBfxvay9ztpJTY5C4C3TJexfxc6/V9qajTRohR+uI9cBw9dQ==\n"
          ]
        }
      ]
    },
    {
      "cell_type": "code",
      "source": [
        "import base64\n",
        "from ecies.utils import generate_eth_key\n",
        "from ecies import encrypt, decrypt\n",
        "\n",
        "# Step 1: Generate a private key\n",
        "private_key = generate_eth_key()\n",
        "public_key = private_key.public_key\n",
        "\n",
        "# Step 2: Convert the public key to a usable format\n",
        "public_key_hex = public_key.to_hex()\n",
        "private_key_hex = private_key.to_hex()\n",
        "\n",
        "print(\"Public Key:\", public_key_hex)\n",
        "print(\"Private Key:\", private_key_hex)\n",
        "\n",
        "# Step 3: Encrypt a message using the recipient's public key\n",
        "plaintext = b\"3348610401970005#christofer*derian*budianto#tegal#1997-03-04#laki-laki#b#jl.*pala*22*no.*30#005#017#mejasem*tengah#kramat#katholik#belum*kawin#pelajar/mahasiswa#wni#seumur*hidup\"\n",
        "ciphertext = encrypt(public_key_hex, plaintext)\n",
        "\n",
        "# Convert the ciphertext to Base64 for a different representation\n",
        "ciphertext_base64 = base64.b64encode(ciphertext).decode()\n",
        "\n",
        "print(\"Ciphertext (Base64):\", ciphertext_base64)\n",
        "\n",
        "# Step 4: Decrypt the ciphertext using the private key\n",
        "decrypted_message = decrypt(private_key_hex, ciphertext)\n",
        "print(\"Decrypted Message:\", decrypted_message.decode())\n"
      ],
      "metadata": {
        "colab": {
          "base_uri": "https://localhost:8080/"
        },
        "id": "V9P1cZIUTn14",
        "outputId": "ba8acd0f-2043-4f31-a6ff-ad8dfc51f50e"
      },
      "execution_count": 33,
      "outputs": [
        {
          "output_type": "stream",
          "name": "stdout",
          "text": [
            "Public Key: 0xffc2aa8fc9f9e55b67580eb800633c872e623d21db367ba86068f9e430668110c75e587f015ad1844e0f796bfdc12ed70720e386ea3fa2d230c62a97df27ec5f\n",
            "Private Key: 0xfbb1c8697524b4d3037f2d49007a18958a06fb6eb81fbe8c8fd25f738df0433e\n",
            "Ciphertext (Base64): BIar2ldQJCj8iWNXdlgXM+AcQ3W/+D90a8CKbQMwGSfsBZLPZCBAcarICfRa73YdNwtalk7x4WPzJMlXLGqPkBLFhS2ukGL/kHSLGvmgDrfMXkQX+qpYt0i3ci/8U1SV+muJ2ZBJAmO8NGV69ciVZhy45GgcEK9CIajMqtH8sqSPPhxfCFqxkJiFYgGmgFKOzO5gvjSFILYqDLtUab3vaO9GdM0AeLZ6AcFQT/LyPAswGnPw979CZOUJDy2mTzsDPsAaMEKBV84r5rEaGCrz+4qSpc3payJSvVbfQAQHzh1fFK/hADGE33vGGQP9vPLqyuTjo3Oag5XgNkjOvAsz8qvz0gQwiOpS45l8FN6oPU6N1A==\n",
            "Decrypted Message: 3348610401970005#christofer*derian*budianto#tegal#1997-03-04#laki-laki#b#jl.*pala*22*no.*30#005#017#mejasem*tengah#kramat#katholik#belum*kawin#pelajar/mahasiswa#wni#seumur*hidup\n"
          ]
        }
      ]
    },
    {
      "cell_type": "code",
      "source": [
        "import base64\n",
        "from ecies.utils import generate_eth_key\n",
        "from ecies import encrypt, decrypt\n",
        "\n",
        "# Step 1: Generate a private key\n",
        "private_key = generate_eth_key()\n",
        "public_key = private_key.public_key\n",
        "\n",
        "# Step 2: Convert the public key to a usable format\n",
        "public_key_hex = public_key.to_hex()\n",
        "private_key_hex = private_key.to_hex()\n",
        "\n",
        "print(\"Public Key:\", public_key_hex)\n",
        "print(\"Private Key:\", private_key_hex)\n",
        "\n",
        "# Step 3: Encrypt a message using the recipient's public key (message in bytes)\n",
        "plaintext = b\"3348610401970005#christofer*derian*budianto#tegal#1997-03-04#laki-laki#b#jl.*pala*22*no.*30#005#017#mejasem*tengah#kramat#katholik#belum*kawin#pelajar/mahasiswa#wni#seumur*hidup\"\n",
        "ciphertext = encrypt(public_key_hex, plaintext)\n",
        "\n",
        "# Convert the ciphertext to Base64 for a more transportable form\n",
        "ciphertext_base64 = base64.b64encode(ciphertext).decode()\n",
        "print(\"Ciphertext (Base64):\", ciphertext_base64)\n",
        "\n",
        "# Step 4: Decode the Base64 ciphertext back into bytes for decryption\n",
        "ciphertext_bytes = base64.b64decode(ciphertext_base64)\n",
        "\n",
        "# Step 5: Decrypt the ciphertext using the private key\n",
        "decrypted_message = decrypt(private_key_hex, ciphertext_bytes)\n",
        "\n",
        "# Step 6: Convert decrypted bytes back to a readable string\n",
        "print(\"Decrypted Message:\", decrypted_message)\n"
      ],
      "metadata": {
        "colab": {
          "base_uri": "https://localhost:8080/"
        },
        "id": "3-oO2yNRUBin",
        "outputId": "2e398ab8-fd1f-47a1-cf5a-1566955cf5c3"
      },
      "execution_count": 34,
      "outputs": [
        {
          "output_type": "stream",
          "name": "stdout",
          "text": [
            "Public Key: 0xd6e06ce3340b5b18fa5f8c0a3bba147d0a7ff7d4460fa4f4103a62d4f253b75ff0c1be49685087f8bc9b57d5cb18a1414fe59a27802d95f76ec9f7d76adf2c67\n",
            "Private Key: 0x915e261ebcec08f24a3f93cc33e305b92b0a8c5346ddb22dc659c89a433a8a9b\n",
            "Ciphertext (Base64): BIj6eyD0F9/YB2kWIwxuYBJgwYV+Yf+rVXCcYqEUMTMgQGIxy1NU4TbXj7/w8L9gAGfOiEPO6DaCH4B6qUeiiE1r0ep/b78GnUXNs/WsUwr+gONHCpXgxp2baS3kE4MRm4m0z8IjRqyrrGNagPM/edPUyAuq+DDH6G512LuCI0LfZgYDk1qjf0xazBf2+IPPrEUhGaSZu+eALib+GtHx32tGvN0Q8NCQg0FXCcn9TT94JoBiA6MmQ8FbZZpZLmtwJwiKbAdYA02sC4CffSfKYP3BDxLjfZsTQHUvfmV4tqR04ssD8irH7mFzbST240wzcAneyopex6VZPjPQFgkfWdyqYoHN/35BjWybSCA+jyccQg==\n",
            "Decrypted Message: b'3348610401970005#christofer*derian*budianto#tegal#1997-03-04#laki-laki#b#jl.*pala*22*no.*30#005#017#mejasem*tengah#kramat#katholik#belum*kawin#pelajar/mahasiswa#wni#seumur*hidup'\n"
          ]
        }
      ]
    },
    {
      "cell_type": "code",
      "source": [
        "import base64\n",
        "from ecies.utils import generate_eth_key\n",
        "from ecies import encrypt, decrypt\n",
        "\n",
        "# Step 1: Generate a private key\n",
        "private_key = generate_eth_key()\n",
        "public_key = private_key.public_key\n",
        "\n",
        "# Step 2: Convert the public key and private key to a usable format\n",
        "public_key_hex = public_key.to_hex()[2:]  # Remove the \"0x\" prefix\n",
        "private_key_hex = private_key.to_hex()[2:]  # Remove the \"0x\" prefix\n",
        "\n",
        "# Measure the length of the keys (in bytes and bits)\n",
        "private_key_bytes = len(bytes.fromhex(private_key_hex))\n",
        "public_key_bytes = len(bytes.fromhex(public_key_hex))\n",
        "\n",
        "print(\"Public Key:\", public_key_hex)\n",
        "print(f\"Public Key Length: {public_key_bytes} bytes ({public_key_bytes * 8} bits)\")\n",
        "\n",
        "print(\"Private Key:\", private_key_hex)\n",
        "print(f\"Private Key Length: {private_key_bytes} bytes ({private_key_bytes * 8} bits)\")\n",
        "\n",
        "# Step 3: Encrypt a message using the recipient's public key (message in bytes)\n",
        "plaintext = b\"3348610401970005#christofer*derian*budianto#tegal#1997-03-04#laki-laki#b#jl.*pala*22*no.*30#005#017#mejasem*tengah#kramat#katholik#belum*kawin#pelajar/mahasiswa#wni#seumur*hidup\"\n",
        "ciphertext = encrypt(public_key_hex, plaintext)\n",
        "\n",
        "# Convert the ciphertext to Base64 for a more transportable form\n",
        "ciphertext_base64 = base64.b64encode(ciphertext).decode()\n",
        "print(\"Ciphertext (Base64):\", ciphertext_base64)\n",
        "\n",
        "# Step 4: Decode the Base64 ciphertext back into bytes for decryption\n",
        "ciphertext_bytes = base64.b64decode(ciphertext_base64)\n",
        "\n",
        "# Step 5: Decrypt the ciphertext using the private key\n",
        "decrypted_message = decrypt(private_key_hex, ciphertext_bytes)\n",
        "\n",
        "# Step 6: Convert decrypted bytes back to a readable string\n",
        "print(\"Decrypted Message:\", decrypted_message.decode())\n"
      ],
      "metadata": {
        "colab": {
          "base_uri": "https://localhost:8080/"
        },
        "id": "m2kOiNb-UXw0",
        "outputId": "db3f9962-8c91-4c47-addc-a13fb17a6143"
      },
      "execution_count": 35,
      "outputs": [
        {
          "output_type": "stream",
          "name": "stdout",
          "text": [
            "Public Key: 18e3e5d97c80b48167f844a932540e70a5154187c822fbde57afa453dc84a573db18cb24666b6de714e24a175e8fa66a6069f85298f63c4162def8f14a3619e1\n",
            "Public Key Length: 64 bytes (512 bits)\n",
            "Private Key: a5a957af94362612b743cb1d55ad769da48efb0a752b7ca194dbee3f0d338b6f\n",
            "Private Key Length: 32 bytes (256 bits)\n",
            "Ciphertext (Base64): BFRMkCLSQO1Ee2XFuQ/2MGDHxYOKyNkEAw8YZIoFoqL74IktMWqNlZ8YACxCRyltmN2iAhEAM4QiH+ErENHnMuXyRM10ZE5gIePY6lHLtun6uyHrldNsy+7vrKK4tqiD9sGfElZJ9M9lYR7yamMsK4G0MCMZO+ZSEVmkjgD2/+6VacIEfpwd0YxD9TNT+AlHZ+XgNndKDfZQOtQe6TP97jR4bdK8ih3GT5s16qEcIXq0fqgT6vDL60KGy62BYdywW5xCtSt6g1LAGoZEzuS/mBDC47+jDhikdeoVpeOqC2lHLAFG/eAFqUDfcIqnQFQTmzxCvPqDv+UrsbB4hHgaQ+uOyWNlu1zIREiZouHKXUrZ8g==\n",
            "Decrypted Message: 3348610401970005#christofer*derian*budianto#tegal#1997-03-04#laki-laki#b#jl.*pala*22*no.*30#005#017#mejasem*tengah#kramat#katholik#belum*kawin#pelajar/mahasiswa#wni#seumur*hidup\n"
          ]
        }
      ]
    },
    {
      "cell_type": "markdown",
      "source": [
        "# Least Significant Bit"
      ],
      "metadata": {
        "id": "YJOnnYOUU8Sr"
      }
    },
    {
      "cell_type": "code",
      "source": [
        "!git clone https://github.com/RobinDavid/LSB-Steganography"
      ],
      "metadata": {
        "colab": {
          "base_uri": "https://localhost:8080/"
        },
        "id": "zrDUAzi6VEs5",
        "outputId": "27661351-f1a0-4ac8-85e4-91d7590106bd"
      },
      "execution_count": 36,
      "outputs": [
        {
          "output_type": "stream",
          "name": "stdout",
          "text": [
            "fatal: destination path 'LSB-Steganography' already exists and is not an empty directory.\n"
          ]
        }
      ]
    },
    {
      "cell_type": "code",
      "source": [
        "!cd LSB-Steganography && ls && pip install -r requirements.txt"
      ],
      "metadata": {
        "colab": {
          "base_uri": "https://localhost:8080/"
        },
        "id": "1_lIb8CgVIb7",
        "outputId": "c2db6732-35e0-46f9-a683-5cc4b17a926a"
      },
      "execution_count": 37,
      "outputs": [
        {
          "output_type": "stream",
          "name": "stdout",
          "text": [
            "LICENCE  LSBSteg.py  README.md\trequirements.txt\n",
            "Requirement already satisfied: opencv-python in /usr/local/lib/python3.10/dist-packages (from -r requirements.txt (line 1)) (4.10.0.84)\n",
            "Requirement already satisfied: docopt in /usr/local/lib/python3.10/dist-packages (from -r requirements.txt (line 2)) (0.6.2)\n",
            "Requirement already satisfied: numpy in /usr/local/lib/python3.10/dist-packages (from -r requirements.txt (line 3)) (1.26.4)\n"
          ]
        }
      ]
    },
    {
      "cell_type": "code",
      "source": [
        "#!/usr/bin/env python\n",
        "# coding:UTF-8\n",
        "\"\"\"LSBSteg.py\n",
        "\n",
        "Usage:\n",
        "  LSBSteg.py encode -i <input> -o <output> -f <file>\n",
        "  LSBSteg.py decode -i <input> -o <output>\n",
        "\n",
        "Options:\n",
        "  -h, --help                Show this help\n",
        "  --version                 Show the version\n",
        "  -f,--file=<file>          File to hide\n",
        "  -i,--in=<input>           Input image (carrier)\n",
        "  -o,--out=<output>         Output image (or extracted file)\n",
        "\"\"\"\n",
        "\n",
        "import cv2\n",
        "import docopt\n",
        "import numpy as np\n",
        "\n",
        "\n",
        "class SteganographyException(Exception):\n",
        "    pass\n",
        "\n",
        "\n",
        "class LSBSteg():\n",
        "    def __init__(self, im):\n",
        "        self.image = im\n",
        "        self.height, self.width, self.nbchannels = im.shape\n",
        "        self.size = self.width * self.height\n",
        "\n",
        "        self.maskONEValues = [1,2,4,8,16,32,64,128]\n",
        "        #Mask used to put one ex:1->00000001, 2->00000010 .. associated with OR bitwise\n",
        "        self.maskONE = self.maskONEValues.pop(0) #Will be used to do bitwise operations\n",
        "\n",
        "        self.maskZEROValues = [254,253,251,247,239,223,191,127]\n",
        "        #Mak used to put zero ex:254->11111110, 253->11111101 .. associated with AND bitwise\n",
        "        self.maskZERO = self.maskZEROValues.pop(0)\n",
        "\n",
        "        self.curwidth = 0  # Current width position\n",
        "        self.curheight = 0 # Current height position\n",
        "        self.curchan = 0   # Current channel position\n",
        "\n",
        "    def put_binary_value(self, bits): #Put the bits in the image\n",
        "        for c in bits:\n",
        "            val = list(self.image[self.curheight,self.curwidth]) #Get the pixel value as a list\n",
        "            if int(c) == 1:\n",
        "                val[self.curchan] = int(val[self.curchan]) | self.maskONE #OR with maskONE\n",
        "            else:\n",
        "                val[self.curchan] = int(val[self.curchan]) & self.maskZERO #AND with maskZERO\n",
        "\n",
        "            self.image[self.curheight,self.curwidth] = tuple(val)\n",
        "            self.next_slot() #Move \"cursor\" to the next space\n",
        "\n",
        "    def next_slot(self):#Move to the next slot were information can be taken or put\n",
        "        if self.curchan == self.nbchannels-1: #Next Space is the following channel\n",
        "            self.curchan = 0\n",
        "            if self.curwidth == self.width-1: #Or the first channel of the next pixel of the same line\n",
        "                self.curwidth = 0\n",
        "                if self.curheight == self.height-1:#Or the first channel of the first pixel of the next line\n",
        "                    self.curheight = 0\n",
        "                    if self.maskONE == 128: #Mask 1000000, so the last mask\n",
        "                        raise SteganographyException(\"No available slot remaining (image filled)\")\n",
        "                    else: #Or instead of using the first bit start using the second and so on..\n",
        "                        self.maskONE = self.maskONEValues.pop(0)\n",
        "                        self.maskZERO = self.maskZEROValues.pop(0)\n",
        "                else:\n",
        "                    self.curheight +=1\n",
        "            else:\n",
        "                self.curwidth +=1\n",
        "        else:\n",
        "            self.curchan +=1\n",
        "\n",
        "    def read_bit(self): #Read a single bit int the image\n",
        "        val = self.image[self.curheight,self.curwidth][self.curchan]\n",
        "        val = int(val) & self.maskONE\n",
        "        self.next_slot()\n",
        "        if val > 0:\n",
        "            return \"1\"\n",
        "        else:\n",
        "            return \"0\"\n",
        "\n",
        "    def read_byte(self):\n",
        "        return self.read_bits(8)\n",
        "\n",
        "    def read_bits(self, nb): #Read the given number of bits\n",
        "        bits = \"\"\n",
        "        for i in range(nb):\n",
        "            bits += self.read_bit()\n",
        "        return bits\n",
        "\n",
        "    def byteValue(self, val):\n",
        "        return self.binary_value(val, 8)\n",
        "\n",
        "    def binary_value(self, val, bitsize): #Return the binary value of an int as a byte\n",
        "        binval = bin(val)[2:]\n",
        "        if len(binval) > bitsize:\n",
        "            raise SteganographyException(\"binary value larger than the expected size\")\n",
        "        while len(binval) < bitsize:\n",
        "            binval = \"0\"+binval\n",
        "        return binval\n",
        "\n",
        "    def encode_text(self, txt):\n",
        "        l = len(txt)\n",
        "        binl = self.binary_value(l, 16) #Length coded on 2 bytes so the text size can be up to 65536 bytes long\n",
        "        self.put_binary_value(binl) #Put text length coded on 4 bytes\n",
        "        for char in txt: #And put all the chars\n",
        "            c = ord(char)\n",
        "            self.put_binary_value(self.byteValue(c))\n",
        "        return self.image\n",
        "\n",
        "    def decode_text(self):\n",
        "        ls = self.read_bits(16) #Read the text size in bytes\n",
        "        l = int(ls,2)\n",
        "        i = 0\n",
        "        unhideTxt = \"\"\n",
        "        while i < l: #Read all bytes of the text\n",
        "            tmp = self.read_byte() #So one byte\n",
        "            i += 1\n",
        "            unhideTxt += chr(int(tmp,2)) #Every chars concatenated to str\n",
        "        return unhideTxt\n",
        "\n",
        "    def encode_image(self, imtohide):\n",
        "        w = imtohide.width\n",
        "        h = imtohide.height\n",
        "        if self.width*self.height*self.nbchannels < w*h*imtohide.channels:\n",
        "            raise SteganographyException(\"Carrier image not big enough to hold all the datas to steganography\")\n",
        "        binw = self.binary_value(w, 16) #Width coded on to byte so width up to 65536\n",
        "        binh = self.binary_value(h, 16)\n",
        "        self.put_binary_value(binw) #Put width\n",
        "        self.put_binary_value(binh) #Put height\n",
        "        for h in range(imtohide.height): #Iterate the hole image to put every pixel values\n",
        "            for w in range(imtohide.width):\n",
        "                for chan in range(imtohide.channels):\n",
        "                    val = imtohide[h,w][chan]\n",
        "                    self.put_binary_value(self.byteValue(int(val)))\n",
        "        return self.image\n",
        "\n",
        "\n",
        "    def decode_image(self):\n",
        "        width = int(self.read_bits(16),2) #Read 16bits and convert it in int\n",
        "        height = int(self.read_bits(16),2)\n",
        "        unhideimg = np.zeros((width,height, 3), np.uint8) #Create an image in which we will put all the pixels read\n",
        "        for h in range(height):\n",
        "            for w in range(width):\n",
        "                for chan in range(unhideimg.channels):\n",
        "                    val = list(unhideimg[h,w])\n",
        "                    val[chan] = int(self.read_byte(),2) #Read the value\n",
        "                    unhideimg[h,w] = tuple(val)\n",
        "        return unhideimg\n",
        "\n",
        "    def encode_binary(self, data):\n",
        "        l = len(data)\n",
        "        if self.width*self.height*self.nbchannels < l+64:\n",
        "            raise SteganographyException(\"Carrier image not big enough to hold all the datas to steganography\")\n",
        "        self.put_binary_value(self.binary_value(l, 64))\n",
        "        for byte in data:\n",
        "            byte = byte if isinstance(byte, int) else ord(byte) # Compat py2/py3\n",
        "            self.put_binary_value(self.byteValue(byte))\n",
        "        return self.image\n",
        "\n",
        "    def decode_binary(self):\n",
        "        l = int(self.read_bits(64), 2)\n",
        "        output = b\"\"\n",
        "        for i in range(l):\n",
        "            output += bytearray([int(self.read_byte(),2)])\n",
        "        return output\n",
        "\n",
        "\n",
        "def main():\n",
        "    args = docopt.docopt(__doc__, version=\"0.2\")\n",
        "    in_f = args[\"--in\"]\n",
        "    out_f = args[\"--out\"]\n",
        "    in_img = cv2.imread(in_f)\n",
        "    steg = LSBSteg(in_img)\n",
        "    lossy_formats = [\"jpeg\", \"jpg\"]\n",
        "\n",
        "    if args['encode']:\n",
        "        #Handling lossy format\n",
        "        out_f, out_ext = out_f.split(\".\")\n",
        "        if out_ext in lossy_formats:\n",
        "            out_f = out_f + \".png\"\n",
        "            print(\"Output file changed to \", out_f)\n",
        "\n",
        "        data = open(args[\"--file\"], \"rb\").read()\n",
        "        res = steg.encode_binary(data)\n",
        "        cv2.imwrite(out_f, res)\n",
        "\n",
        "    elif args[\"decode\"]:\n",
        "        raw = steg.decode_binary()\n",
        "        with open(out_f, \"wb\") as f:\n",
        "            f.write(raw)\n",
        "\n",
        "# if __name__==\"__main__\":\n",
        "#     main()"
      ],
      "metadata": {
        "id": "ITmPzL64VKVS"
      },
      "execution_count": 38,
      "outputs": []
    },
    {
      "cell_type": "code",
      "source": [
        "import requests\n",
        "from PIL import Image\n",
        "import io\n",
        "\n",
        "# URL to the raw image file\n",
        "url = \"https://raw.githubusercontent.com/mikolalysenko/lena/master/lena.png\"\n",
        "\n",
        "# Download the image\n",
        "response = requests.get(url)\n",
        "if response.status_code == 200:\n",
        "    # Load the image using PIL\n",
        "    lena_image = Image.open(io.BytesIO(response.content))\n",
        "    lena_image.show()  # Display the image (optional)\n",
        "    lena_image.save(\"lena_downloaded.png\")  # Save the image locally\n",
        "else:\n",
        "    print(\"Failed to download the image.\")\n"
      ],
      "metadata": {
        "id": "msgXaFLNVewB"
      },
      "execution_count": 39,
      "outputs": []
    },
    {
      "cell_type": "code",
      "source": [
        "\n",
        "from ecies.utils import generate_eth_key\n",
        "from ecies import encrypt, decrypt\n",
        "\n",
        "# Step 1: Generate a private key\n",
        "private_key = generate_eth_key()\n",
        "public_key = private_key.public_key\n",
        "\n",
        "# Step 2: Convert the public key to a usable format\n",
        "public_key_hex = public_key.to_hex()\n",
        "private_key_hex = private_key.to_hex()\n",
        "\n",
        "print(\"Public Key:\", public_key_hex)\n",
        "print(\"Private Key:\", private_key_hex)\n",
        "\n",
        "# Step 3: Encrypt a message using the recipient's public key\n",
        "plaintext = b\"3348610401970005#christofer*derian*budianto#tegal#1997-03-04#laki-laki#b#jl.*pala*22*no.*30#005#017#mejasem*tengah#kramat#katholik#belum*kawin#pelajar/mahasiswa#wni#seumur*hidup\"\n",
        "ciphertext = encrypt(public_key_hex, plaintext)\n",
        "\n",
        "print(\"Ciphertext:\", ciphertext.hex())\n",
        "\n",
        "# Step 4: Decrypt the ciphertext using the private key\n",
        "# decrypted_message = decrypt(private_key_hex, ciphertext)\n",
        "# print(\"Decrypted Message:\", decrypted_message)"
      ],
      "metadata": {
        "colab": {
          "base_uri": "https://localhost:8080/"
        },
        "id": "7fNxZXAOWN_2",
        "outputId": "cf265b58-61f9-4a1a-9726-774a0b1b311c"
      },
      "execution_count": 40,
      "outputs": [
        {
          "output_type": "stream",
          "name": "stdout",
          "text": [
            "Public Key: 0x24f97680c1c45165d4c54891daa68886a7c940fb571237614fb6ffb0a49c7e419bbc4828c4c51aafb9ce1f4f142f6e2b24fdbf1d93566f7ee567e8eee4082b6a\n",
            "Private Key: 0x4344cd41eb73276339e5641cc3333722d18cf18a8ce86832bf055afadff5b5fe\n",
            "Ciphertext: 04a27ce230bcf03c80a08d21081b552a6e7bff19a5ab6d96af9ca364a24340f127c41123f4547acdcbc17142f6dc230a597d7d097a4160fd8c0e361cb89bd60db5ccb64b56552d5a4521f30036c8643d38ee0af2a6eed03d2c985a49a48653c06a44b8f9f4874017b334978a06cad8bc15c8d1f7e76f51995dbb81467f5093e51ba0bbdee9ffeb7b7bb21da856193651389eeb889f62eef82ea2cb940a93ba231fbcee7c3b797a478c64f01a9447474e327ff3a3f907e682eb8ee677fc29434ddeb9a7e548a425a3ff99bf27bd52498c49c9f5a4d495ad4d3da6b93ae34441f39effb55c7c362b8f3dc36d98dbbd39de16963811c42317d373d0b1a6009188d340f89e58b819c9ff616664a112287ce0325a\n"
          ]
        }
      ]
    },
    {
      "cell_type": "code",
      "source": [
        "steg = LSBSteg(cv2.imread(\"lena_downloaded.png\"))\n",
        "img_encoded = steg.encode_text(ciphertext.hex())\n",
        "cv2.imwrite(\"my_new_image.png\", img_encoded)"
      ],
      "metadata": {
        "colab": {
          "base_uri": "https://localhost:8080/"
        },
        "id": "y9vdnhdfVO9r",
        "outputId": "15bbb396-c023-4d40-ba83-4c07ccf4c2d1"
      },
      "execution_count": 41,
      "outputs": [
        {
          "output_type": "execute_result",
          "data": {
            "text/plain": [
              "True"
            ]
          },
          "metadata": {},
          "execution_count": 41
        }
      ]
    },
    {
      "cell_type": "code",
      "source": [
        "im = cv2.imread(\"my_new_image.png\")\n",
        "steg = LSBSteg(im)\n",
        "bytess = steg.decode_text()\n",
        "print(bytess)"
      ],
      "metadata": {
        "colab": {
          "base_uri": "https://localhost:8080/"
        },
        "id": "g1KfGOjYVI_C",
        "outputId": "bb49c9db-7268-4ca5-cb04-c37525fc22dc"
      },
      "execution_count": 42,
      "outputs": [
        {
          "output_type": "stream",
          "name": "stdout",
          "text": [
            "04a27ce230bcf03c80a08d21081b552a6e7bff19a5ab6d96af9ca364a24340f127c41123f4547acdcbc17142f6dc230a597d7d097a4160fd8c0e361cb89bd60db5ccb64b56552d5a4521f30036c8643d38ee0af2a6eed03d2c985a49a48653c06a44b8f9f4874017b334978a06cad8bc15c8d1f7e76f51995dbb81467f5093e51ba0bbdee9ffeb7b7bb21da856193651389eeb889f62eef82ea2cb940a93ba231fbcee7c3b797a478c64f01a9447474e327ff3a3f907e682eb8ee677fc29434ddeb9a7e548a425a3ff99bf27bd52498c49c9f5a4d495ad4d3da6b93ae34441f39effb55c7c362b8f3dc36d98dbbd39de16963811c42317d373d0b1a6009188d340f89e58b819c9ff616664a112287ce0325a\n"
          ]
        }
      ]
    },
    {
      "cell_type": "code",
      "source": [
        "import cv2\n",
        "import numpy as np\n",
        "\n",
        "def calculate_psnr(original_image, stego_image):\n",
        "    # Read images\n",
        "    original = cv2.imread(original_image)\n",
        "    stego = cv2.imread(stego_image)\n",
        "\n",
        "    # Calculate MSE (Mean Squared Error)\n",
        "    mse = np.mean((original - stego) ** 2)\n",
        "    if mse == 0:  # If images are identical\n",
        "        return float('inf')\n",
        "\n",
        "    # Calculate PSNR\n",
        "    max_pixel_value = 255.0\n",
        "    psnr = 20 * np.log10(max_pixel_value / np.sqrt(mse))\n",
        "    return psnr\n",
        "\n",
        "# Example usage\n",
        "original_image = 'lena_downloaded.png'\n",
        "stego_image = 'my_new_image.png'\n",
        "psnr_value = calculate_psnr(original_image, stego_image)\n",
        "print(f\"PSNR value is: {psnr_value}\")"
      ],
      "metadata": {
        "colab": {
          "base_uri": "https://localhost:8080/"
        },
        "id": "oJOwbmH0Vz1A",
        "outputId": "870dea8d-cb9e-4164-f702-f57b44bb86ce"
      },
      "execution_count": 43,
      "outputs": [
        {
          "output_type": "stream",
          "name": "stdout",
          "text": [
            "PSNR value is: 73.72281803690704\n"
          ]
        }
      ]
    },
    {
      "cell_type": "code",
      "source": [
        "import cv2\n",
        "import numpy as np\n",
        "\n",
        "def calculate_psnr_2(original_image, stego_image):\n",
        "    # Read images\n",
        "    original = cv2.imread(original_image)\n",
        "    stego = cv2.imread(stego_image)\n",
        "\n",
        "    # Calculate MSE (Mean Squared Error)\n",
        "    mse = np.mean((original - stego) ** 2)\n",
        "    if mse == 0:  # If images are identical\n",
        "        return float('inf')\n",
        "\n",
        "    # Calculate PSNR using the 10 log10 version\n",
        "    max_pixel_value = 255.0\n",
        "    psnr = 10 * np.log10((max_pixel_value ** 2) / mse)\n",
        "    return psnr\n",
        "\n",
        "# Example usage\n",
        "original_image = 'lena_downloaded.png'\n",
        "stego_image = 'my_new_image.png'\n",
        "psnr_value = calculate_psnr_2(original_image, stego_image)\n",
        "print(f\"PSNR value is: {psnr_value}\")\n"
      ],
      "metadata": {
        "colab": {
          "base_uri": "https://localhost:8080/"
        },
        "id": "OT-uGlv-V15W",
        "outputId": "1029b2c0-5b56-40e9-8b2e-c0f0cfa04cd9"
      },
      "execution_count": 44,
      "outputs": [
        {
          "output_type": "stream",
          "name": "stdout",
          "text": [
            "PSNR value is: 73.72281803690704\n"
          ]
        }
      ]
    },
    {
      "cell_type": "code",
      "source": [
        "#  73.69687801830095"
      ],
      "metadata": {
        "id": "mg2gf108XGlK"
      },
      "execution_count": 45,
      "outputs": []
    },
    {
      "cell_type": "code",
      "source": [
        "decrypted_message = decrypt(private_key_hex, bytes.fromhex(bytess))\n",
        "print(\"Decrypted Message:\", decrypted_message.decode())"
      ],
      "metadata": {
        "colab": {
          "base_uri": "https://localhost:8080/"
        },
        "id": "Gr0572cvWkiY",
        "outputId": "254971b2-8ece-4041-e48a-ed603c9bc3bc"
      },
      "execution_count": 46,
      "outputs": [
        {
          "output_type": "stream",
          "name": "stdout",
          "text": [
            "Decrypted Message: 3348610401970005#christofer*derian*budianto#tegal#1997-03-04#laki-laki#b#jl.*pala*22*no.*30#005#017#mejasem*tengah#kramat#katholik#belum*kawin#pelajar/mahasiswa#wni#seumur*hidup\n"
          ]
        }
      ]
    },
    {
      "cell_type": "markdown",
      "source": [
        "# Pui it together"
      ],
      "metadata": {
        "id": "9B1BiNajXqr0"
      }
    },
    {
      "cell_type": "code",
      "source": [
        "import cv2\n",
        "import numpy as np\n",
        "from ecies.utils import generate_eth_key\n",
        "from ecies import encrypt, decrypt\n",
        "\n",
        "def evaluate_psnr_and_decryption(original_image_path, output_image_path, plaintext):\n",
        "    # Step 1: Generate keys\n",
        "    private_key = generate_eth_key()\n",
        "    public_key = private_key.public_key\n",
        "    private_key_hex = private_key.to_hex()\n",
        "    public_key_hex = public_key.to_hex()\n",
        "\n",
        "    # Step 2: Encrypt the message\n",
        "    ciphertext = encrypt(public_key_hex, plaintext)\n",
        "    ciphertext_hex = ciphertext.hex()\n",
        "\n",
        "    # Step 3: Encode the encrypted message into an image\n",
        "    steg = LSBSteg(cv2.imread(original_image_path))\n",
        "    img_encoded = steg.encode_text(ciphertext_hex)\n",
        "    cv2.imwrite(output_image_path, img_encoded)\n",
        "\n",
        "    # Step 4: Decode the message from the stego image\n",
        "    im = cv2.imread(output_image_path)\n",
        "    steg = LSBSteg(im)\n",
        "    decoded_message_hex = steg.decode_text()\n",
        "\n",
        "    # Step 5: Decrypt the message using the private key\n",
        "    decrypted_message = decrypt(private_key_hex, bytes.fromhex(decoded_message_hex))\n",
        "\n",
        "    # Step 6: Calculate PSNR between the original and stego images\n",
        "    original = cv2.imread(original_image_path)\n",
        "    stego = cv2.imread(output_image_path)\n",
        "    mse = np.mean((original - stego) ** 2)\n",
        "    if mse == 0:\n",
        "        psnr_value = float('inf')\n",
        "    else:\n",
        "        max_pixel_value = 255.0\n",
        "        psnr_value = 10 * np.log10((max_pixel_value ** 2) / mse)\n",
        "\n",
        "    return psnr_value, decrypted_message.decode()"
      ],
      "metadata": {
        "id": "S5vcvf5ZXsd4"
      },
      "execution_count": 47,
      "outputs": []
    },
    {
      "cell_type": "code",
      "source": [
        "# Example usage\n",
        "original_image = 'lena_downloaded.png'\n",
        "output_image = 'my_new_image.png'\n",
        "plaintext = b\"3348610401970005#christofer*derian*budianto#tegal#1997-03-04#laki-laki#b#jl.*pala*22*no.*30#005#017#mejasem*tengah#kramat#katholik#belum*kawin#pelajar/mahasiswa#wni#seumur*hidup\"\n",
        "\n",
        "# Running the evaluation\n",
        "psnr_value, decrypted_message = evaluate_psnr_and_decryption(original_image, output_image, plaintext)\n",
        "print(f\"PSNR value: {psnr_value}\")\n",
        "print(f\"Decrypted Message: {decrypted_message}\")"
      ],
      "metadata": {
        "colab": {
          "base_uri": "https://localhost:8080/"
        },
        "id": "dEt7HrweYVUo",
        "outputId": "52a35a9e-7931-4157-a608-ad8f1abbbf77"
      },
      "execution_count": 48,
      "outputs": [
        {
          "output_type": "stream",
          "name": "stdout",
          "text": [
            "PSNR value: 73.63367806980146\n",
            "Decrypted Message: 3348610401970005#christofer*derian*budianto#tegal#1997-03-04#laki-laki#b#jl.*pala*22*no.*30#005#017#mejasem*tengah#kramat#katholik#belum*kawin#pelajar/mahasiswa#wni#seumur*hidup\n"
          ]
        }
      ]
    },
    {
      "cell_type": "code",
      "source": [
        "# Lists to store PSNR values and decrypted messages\n",
        "psnr_values = []\n",
        "decrypted_messages = []\n",
        "\n",
        "# Loop to run the evaluation multiple times\n",
        "for i in range(10):\n",
        "    psnr_value, decrypted_message = evaluate_psnr_and_decryption(original_image, output_image, plaintext)\n",
        "    psnr_values.append(psnr_value)\n",
        "    decrypted_messages.append(decrypted_message)\n",
        "    print(f\"Run {i + 1}: PSNR value: {psnr_value}\")\n",
        "    print(f\"Run {i + 1}: Decrypted Message: {decrypted_message}\")"
      ],
      "metadata": {
        "colab": {
          "base_uri": "https://localhost:8080/"
        },
        "id": "dMOaIeQ8YDOu",
        "outputId": "d327a9bb-dea0-44d4-96a9-d180aa70308a"
      },
      "execution_count": 49,
      "outputs": [
        {
          "output_type": "stream",
          "name": "stdout",
          "text": [
            "Run 1: PSNR value: 73.74287786388304\n",
            "Run 1: Decrypted Message: 3348610401970005#christofer*derian*budianto#tegal#1997-03-04#laki-laki#b#jl.*pala*22*no.*30#005#017#mejasem*tengah#kramat#katholik#belum*kawin#pelajar/mahasiswa#wni#seumur*hidup\n",
            "Run 2: PSNR value: 73.57912263956267\n",
            "Run 2: Decrypted Message: 3348610401970005#christofer*derian*budianto#tegal#1997-03-04#laki-laki#b#jl.*pala*22*no.*30#005#017#mejasem*tengah#kramat#katholik#belum*kawin#pelajar/mahasiswa#wni#seumur*hidup\n",
            "Run 3: PSNR value: 73.68495775971303\n",
            "Run 3: Decrypted Message: 3348610401970005#christofer*derian*budianto#tegal#1997-03-04#laki-laki#b#jl.*pala*22*no.*30#005#017#mejasem*tengah#kramat#katholik#belum*kawin#pelajar/mahasiswa#wni#seumur*hidup\n",
            "Run 4: PSNR value: 73.65529947359488\n",
            "Run 4: Decrypted Message: 3348610401970005#christofer*derian*budianto#tegal#1997-03-04#laki-laki#b#jl.*pala*22*no.*30#005#017#mejasem*tengah#kramat#katholik#belum*kawin#pelajar/mahasiswa#wni#seumur*hidup\n",
            "Run 5: PSNR value: 73.68892754501597\n",
            "Run 5: Decrypted Message: 3348610401970005#christofer*derian*budianto#tegal#1997-03-04#laki-laki#b#jl.*pala*22*no.*30#005#017#mejasem*tengah#kramat#katholik#belum*kawin#pelajar/mahasiswa#wni#seumur*hidup\n",
            "Run 6: PSNR value: 73.66911480618724\n",
            "Run 6: Decrypted Message: 3348610401970005#christofer*derian*budianto#tegal#1997-03-04#laki-laki#b#jl.*pala*22*no.*30#005#017#mejasem*tengah#kramat#katholik#belum*kawin#pelajar/mahasiswa#wni#seumur*hidup\n",
            "Run 7: PSNR value: 73.62975844424746\n",
            "Run 7: Decrypted Message: 3348610401970005#christofer*derian*budianto#tegal#1997-03-04#laki-laki#b#jl.*pala*22*no.*30#005#017#mejasem*tengah#kramat#katholik#belum*kawin#pelajar/mahasiswa#wni#seumur*hidup\n",
            "Run 8: PSNR value: 73.74086770655992\n",
            "Run 8: Decrypted Message: 3348610401970005#christofer*derian*budianto#tegal#1997-03-04#laki-laki#b#jl.*pala*22*no.*30#005#017#mejasem*tengah#kramat#katholik#belum*kawin#pelajar/mahasiswa#wni#seumur*hidup\n",
            "Run 9: PSNR value: 73.76909493102985\n",
            "Run 9: Decrypted Message: 3348610401970005#christofer*derian*budianto#tegal#1997-03-04#laki-laki#b#jl.*pala*22*no.*30#005#017#mejasem*tengah#kramat#katholik#belum*kawin#pelajar/mahasiswa#wni#seumur*hidup\n",
            "Run 10: PSNR value: 73.6710920176118\n",
            "Run 10: Decrypted Message: 3348610401970005#christofer*derian*budianto#tegal#1997-03-04#laki-laki#b#jl.*pala*22*no.*30#005#017#mejasem*tengah#kramat#katholik#belum*kawin#pelajar/mahasiswa#wni#seumur*hidup\n"
          ]
        }
      ]
    },
    {
      "cell_type": "code",
      "source": [
        "import matplotlib.pyplot as plt\n",
        "\n",
        "# Plotting PSNR values using matplotlib\n",
        "plt.figure(figsize=(10, 6))\n",
        "plt.plot(range(1, 11), psnr_values, marker='o', linestyle='-', color='b')\n",
        "plt.title('PSNR Values Over 10 Runs', fontsize=14)\n",
        "plt.xlabel('Run Number', fontsize=12)\n",
        "plt.ylabel('PSNR Value (dB)', fontsize=12)\n",
        "plt.grid(True)\n",
        "plt.xticks(range(1, 11))\n",
        "plt.show()"
      ],
      "metadata": {
        "colab": {
          "base_uri": "https://localhost:8080/",
          "height": 569
        },
        "id": "uWu_7Ui3YOZz",
        "outputId": "87ae7b28-c825-4887-85cc-696804848bd2"
      },
      "execution_count": 50,
      "outputs": [
        {
          "output_type": "display_data",
          "data": {
            "text/plain": [
              "<Figure size 1000x600 with 1 Axes>"
            ],
            "image/png": "[encoded data removed]"
          },
          "metadata": {}
        }
      ]
    },
    {
      "cell_type": "code",
      "source": [
        "import numpy as np\n",
        "\n",
        "# Find the min, max, and mean PSNR values\n",
        "min_psnr = min(psnr_values)\n",
        "max_psnr = max(psnr_values)\n",
        "mean_psnr = np.mean(psnr_values)\n",
        "\n",
        "# Find the indices for min and max PSNR (1-based index for run numbers)\n",
        "min_index = psnr_values.index(min_psnr) + 1  # +1 to match the run numbers (1 to 10)\n",
        "max_index = psnr_values.index(max_psnr) + 1\n",
        "\n",
        "# Adjust y-axis limits: Add a margin around the min and max PSNR values\n",
        "y_margin = 0.5  # Adjust this to give more or less space\n",
        "y_min = min_psnr - y_margin\n",
        "y_max = max_psnr + y_margin\n",
        "\n",
        "# Plotting PSNR values using matplotlib\n",
        "plt.figure(figsize=(10, 6))\n",
        "plt.plot(range(1, 11), psnr_values, marker='o', linestyle='-', color='b', label='PSNR Values')\n",
        "\n",
        "# Highlighting the min and max points\n",
        "plt.scatter(min_index, min_psnr, color='r', label=f'Min PSNR: {min_psnr:.2f} (Run {min_index})', zorder=5)\n",
        "plt.scatter(max_index, max_psnr, color='g', label=f'Max PSNR: {max_psnr:.2f} (Run {max_index})', zorder=5)\n",
        "\n",
        "# Plotting the mean PSNR as a horizontal line\n",
        "plt.axhline(mean_psnr, color='purple', linestyle='--', label=f'Mean PSNR: {mean_psnr:.2f}', zorder=3)\n",
        "\n",
        "# Add text labels near the min and max points\n",
        "plt.text(min_index, min_psnr, f'{min_psnr:.2f}', color='r', fontsize=12, ha='right', va='bottom')\n",
        "plt.text(max_index, max_psnr, f'{max_psnr:.2f}', color='g', fontsize=12, ha='left', va='bottom')\n",
        "\n",
        "# Titles and labels\n",
        "plt.title('PSNR Values Over 10 Runs with Min, Max, and Mean Points', fontsize=14)\n",
        "plt.xlabel('Run Number', fontsize=12)\n",
        "plt.ylabel('PSNR Value (dB)', fontsize=12)\n",
        "\n",
        "# Set the y-axis limits based on the min and max PSNR values with some margin\n",
        "plt.ylim(y_min, y_max)\n",
        "\n",
        "# Additional configurations\n",
        "plt.grid(True)\n",
        "plt.xticks(range(1, 11))\n",
        "plt.legend(loc='best')\n",
        "\n",
        "# Show the plot\n",
        "plt.show()"
      ],
      "metadata": {
        "colab": {
          "base_uri": "https://localhost:8080/",
          "height": 569
        },
        "id": "GwDj4ObuYq_a",
        "outputId": "a8a4b76e-2413-4e82-97ae-258110b99bcd"
      },
      "execution_count": 51,
      "outputs": [
        {
          "output_type": "display_data",
          "data": {
            "text/plain": [
              "<Figure size 1000x600 with 1 Axes>"
            ],
            "image/png": "[encoded data removed]"
          },
          "metadata": {}
        }
      ]
    },
    {
      "cell_type": "markdown",
      "source": [
        "# LZW Compression"
      ],
      "metadata": {
        "id": "j0S51LbQZfN6"
      }
    },
    {
      "cell_type": "code",
      "source": [
        "def lzw_compress(uncompressed):\n",
        "    # Build the dictionary.\n",
        "    dict_size = 256\n",
        "    dictionary = {chr(i): i for i in range(dict_size)}\n",
        "\n",
        "    w = \"\"\n",
        "    compressed_data = []\n",
        "\n",
        "    # Iterate over the characters in the input string\n",
        "    for c in uncompressed:\n",
        "        wc = w + c\n",
        "        if wc in dictionary:\n",
        "            w = wc\n",
        "        else:\n",
        "            compressed_data.append(dictionary[w])\n",
        "            # Add wc to the dictionary.\n",
        "            dictionary[wc] = dict_size\n",
        "            dict_size += 1\n",
        "            w = c\n",
        "\n",
        "    # Output the code for w.\n",
        "    if w:\n",
        "        compressed_data.append(dictionary[w])\n",
        "\n",
        "    return compressed_data\n",
        "\n",
        "def lzw_decompress(compressed):\n",
        "    # Build the dictionary.\n",
        "    dict_size = 256\n",
        "    dictionary = {i: chr(i) for i in range(dict_size)}\n",
        "\n",
        "    # Get the first code and output it.\n",
        "    w = chr(compressed.pop(0))\n",
        "    decompressed_data = w\n",
        "\n",
        "    for k in compressed:\n",
        "        if k in dictionary:\n",
        "            entry = dictionary[k]\n",
        "        elif k == dict_size:\n",
        "            entry = w + w[0]\n",
        "        else:\n",
        "            raise ValueError(f\"Bad compressed k: {k}\")\n",
        "\n",
        "        decompressed_data += entry\n",
        "\n",
        "        # Add w+entry[0] to the dictionary.\n",
        "        dictionary[dict_size] = w + entry[0]\n",
        "        dict_size += 1\n",
        "\n",
        "        w = entry\n",
        "\n",
        "    return decompressed_data\n",
        "\n",
        "# Function to calculate size in bytes\n",
        "def calculate_size(data):\n",
        "    if isinstance(data, str):\n",
        "        return len(data.encode('utf-8'))  # Size in bytes\n",
        "    elif isinstance(data, list):\n",
        "        return len(data) * 4  # Assuming each integer in the list takes 4 bytes\n",
        "\n",
        "# Example usage:\n",
        "input_string = \"TOBEORNOTTOBEORTOBEORNOT\"\n",
        "print(f\"Original String: {input_string}\")\n",
        "\n",
        "# Compress the input string\n",
        "compressed = lzw_compress(input_string)\n",
        "decompressed = lzw_decompress(compressed)\n",
        "\n",
        "# Sizes\n",
        "original_size = calculate_size(input_string)\n",
        "compressed_size = calculate_size(compressed)\n",
        "decompressed_size = calculate_size(decompressed)\n",
        "\n",
        "print(f\"\\nOriginal String Size: {original_size} bytes\")\n",
        "print(f\"Compressed Data Size: {compressed_size} bytes\")\n",
        "print(f\"Decompressed String Size: {decompressed_size} bytes\")\n",
        "\n",
        "# Check if decompressed string matches the original string\n",
        "if decompressed == input_string:\n",
        "    print(\"Decompression was successful!\")\n",
        "else:\n",
        "    print(\"Decompression failed.\")\n"
      ],
      "metadata": {
        "colab": {
          "base_uri": "https://localhost:8080/"
        },
        "id": "5KnFs2lrZh2H",
        "outputId": "e159a1ca-d378-4d43-dce3-494a24f70c24"
      },
      "execution_count": 52,
      "outputs": [
        {
          "output_type": "stream",
          "name": "stdout",
          "text": [
            "Original String: TOBEORNOTTOBEORTOBEORNOT\n",
            "\n",
            "Original String Size: 24 bytes\n",
            "Compressed Data Size: 60 bytes\n",
            "Decompressed String Size: 24 bytes\n",
            "Decompression was successful!\n"
          ]
        }
      ]
    },
    {
      "cell_type": "code",
      "source": [
        "import math\n",
        "\n",
        "def lzw_compress(uncompressed):\n",
        "    # Build the dictionary.\n",
        "    dict_size = 256\n",
        "    dictionary = {chr(i): i for i in range(dict_size)}\n",
        "\n",
        "    w = \"\"\n",
        "    compressed_data = []\n",
        "\n",
        "    # Iterate over the characters in the input string\n",
        "    for c in uncompressed:\n",
        "        wc = w + c\n",
        "        if wc in dictionary:\n",
        "            w = wc\n",
        "        else:\n",
        "            compressed_data.append(dictionary[w])\n",
        "            # Add wc to the dictionary.\n",
        "            dictionary[wc] = dict_size\n",
        "            dict_size += 1\n",
        "            w = c\n",
        "\n",
        "    # Output the code for w.\n",
        "    if w:\n",
        "        compressed_data.append(dictionary[w])\n",
        "\n",
        "    return compressed_data, dict_size\n",
        "\n",
        "def lzw_decompress(compressed):\n",
        "    # Build the dictionary.\n",
        "    dict_size = 256\n",
        "    dictionary = {i: chr(i) for i in range(dict_size)}\n",
        "\n",
        "    # Get the first code and output it.\n",
        "    w = chr(compressed.pop(0))\n",
        "    decompressed_data = w\n",
        "\n",
        "    for k in compressed:\n",
        "        if k in dictionary:\n",
        "            entry = dictionary[k]\n",
        "        elif k == dict_size:\n",
        "            entry = w + w[0]\n",
        "        else:\n",
        "            raise ValueError(f\"Bad compressed k: {k}\")\n",
        "\n",
        "        decompressed_data += entry\n",
        "\n",
        "        # Add w+entry[0] to the dictionary.\n",
        "        dictionary[dict_size] = w + entry[0]\n",
        "        dict_size += 1\n",
        "\n",
        "        w = entry\n",
        "\n",
        "    return decompressed_data\n",
        "\n",
        "# Function to calculate size in bytes or bits\n",
        "def calculate_size(data, dict_size=None):\n",
        "    if isinstance(data, str):\n",
        "        # Size in bytes and bits for string (1 byte = 8 bits for each character)\n",
        "        size_in_bytes = len(data.encode('utf-8'))\n",
        "        size_in_bits = size_in_bytes * 8\n",
        "        return size_in_bytes, size_in_bits  # Size in bytes and bits\n",
        "    elif isinstance(data, list):\n",
        "        # Calculate the bit size for compressed data (variable bit-length encoding)\n",
        "        if dict_size is None:\n",
        "            raise ValueError(\"Dictionary size needed for proper bit calculation!\")\n",
        "        bits_needed = math.ceil(math.log2(dict_size))  # Number of bits required\n",
        "        total_bits = len(data) * bits_needed\n",
        "        return total_bits // 8, total_bits  # Returns size in bytes and bits\n",
        "\n",
        "# Example usage:\n",
        "input_string = \"TOBEORNOTTOBEORTOBEORNOT\"\n",
        "print(f\"Original String: {input_string}\")\n",
        "\n",
        "# Compress the input string\n",
        "compressed, dict_size = lzw_compress(input_string)\n",
        "decompressed = lzw_decompress(compressed)\n",
        "\n",
        "# Sizes\n",
        "original_size_bytes, original_size_bits = calculate_size(input_string)  # Original size in bytes and bits\n",
        "compressed_size_bytes, compressed_size_bits = calculate_size(compressed, dict_size)  # Compressed size in bytes and bits\n",
        "decompressed_size_bytes, decompressed_size_bits = calculate_size(decompressed)  # Decompressed size in bytes and bits\n",
        "\n",
        "print(f\"\\nOriginal String Size: {original_size_bytes} bytes ({original_size_bits} bits)\")\n",
        "print(f\"Compressed Data Size: {compressed_size_bytes} bytes ({compressed_size_bits} bits)\")\n",
        "print(f\"Decompressed String Size: {decompressed_size_bytes} bytes ({decompressed_size_bits} bits)\")\n",
        "\n",
        "# Check if decompressed string matches the original string\n",
        "if decompressed == input_string:\n",
        "    print(\"Decompression was successful!\")\n",
        "else:\n",
        "    print(\"Decompression failed.\")\n"
      ],
      "metadata": {
        "colab": {
          "base_uri": "https://localhost:8080/"
        },
        "id": "3gzaYVVOaLaV",
        "outputId": "d998704b-6a12-4542-908e-160fc377c80b"
      },
      "execution_count": 53,
      "outputs": [
        {
          "output_type": "stream",
          "name": "stdout",
          "text": [
            "Original String: TOBEORNOTTOBEORTOBEORNOT\n",
            "\n",
            "Original String Size: 24 bytes (192 bits)\n",
            "Compressed Data Size: 16 bytes (135 bits)\n",
            "Decompressed String Size: 24 bytes (192 bits)\n",
            "Decompression was successful!\n"
          ]
        }
      ]
    },
    {
      "cell_type": "code",
      "source": [
        "import math\n",
        "import pickle  # To save compressed data in binary format\n",
        "import os  # To get file sizes\n",
        "\n",
        "def lzw_compress(uncompressed):\n",
        "    # Build the dictionary.\n",
        "    dict_size = 256\n",
        "    dictionary = {chr(i): i for i in range(dict_size)}\n",
        "\n",
        "    w = \"\"\n",
        "    compressed_data = []\n",
        "\n",
        "    # Iterate over the characters in the input string\n",
        "    for c in uncompressed:\n",
        "        wc = w + c\n",
        "        if wc in dictionary:\n",
        "            w = wc\n",
        "        else:\n",
        "            compressed_data.append(dictionary[w])\n",
        "            # Add wc to the dictionary.\n",
        "            dictionary[wc] = dict_size\n",
        "            dict_size += 1\n",
        "            w = c\n",
        "\n",
        "    # Output the code for w.\n",
        "    if w:\n",
        "        compressed_data.append(dictionary[w])\n",
        "\n",
        "    return compressed_data, dict_size\n",
        "\n",
        "def lzw_decompress(compressed):\n",
        "    # Build the dictionary.\n",
        "    dict_size = 256\n",
        "    dictionary = {i: chr(i) for i in range(dict_size)}\n",
        "\n",
        "    # Get the first code and output it.\n",
        "    w = chr(compressed.pop(0))\n",
        "    decompressed_data = w\n",
        "\n",
        "    for k in compressed:\n",
        "        if k in dictionary:\n",
        "            entry = dictionary[k]\n",
        "        elif k == dict_size:\n",
        "            entry = w + w[0]\n",
        "        else:\n",
        "            raise ValueError(f\"Bad compressed k: {k}\")\n",
        "\n",
        "        decompressed_data += entry\n",
        "\n",
        "        # Add w+entry[0] to the dictionary.\n",
        "        dictionary[dict_size] = w + entry[0]\n",
        "        dict_size += 1\n",
        "\n",
        "        w = entry\n",
        "\n",
        "    return decompressed_data\n",
        "\n",
        "# Function to save the original string to a text file\n",
        "def save_original_to_file(filename, data):\n",
        "    with open(filename, 'w') as file:\n",
        "        file.write(data)\n",
        "\n",
        "# Function to save compressed data to a binary file\n",
        "def save_compressed_to_file(filename, data):\n",
        "    with open(filename, 'wb') as file:\n",
        "        pickle.dump(data, file)  # Use pickle to save as binary\n",
        "\n",
        "# Function to save decompressed string to a text file\n",
        "def save_decompressed_to_file(filename, data):\n",
        "    with open(filename, 'w') as file:\n",
        "        file.write(data)\n",
        "\n",
        "# Function to get file size\n",
        "def get_file_size(filename):\n",
        "    return os.path.getsize(filename)\n",
        "\n",
        "# Example usage:\n",
        "input_string = \"TOBEORNOTTOBEORTOBEORNOT\"\n",
        "print(f\"Original String: {input_string}\")\n",
        "\n",
        "# Compress the input string\n",
        "compressed, dict_size = lzw_compress(input_string)\n",
        "decompressed = lzw_decompress(compressed)\n",
        "\n",
        "# File names\n",
        "original_file = \"original.txt\"\n",
        "compressed_file = \"compressed.bin\"\n",
        "decompressed_file = \"decompressed.txt\"\n",
        "\n",
        "# Save the original string to a file\n",
        "save_original_to_file(original_file, input_string)\n",
        "\n",
        "# Save the compressed data to a file in binary format\n",
        "save_compressed_to_file(compressed_file, compressed)\n",
        "\n",
        "# Save the decompressed string to a file\n",
        "save_decompressed_to_file(decompressed_file, decompressed)\n",
        "\n",
        "# Get file sizes\n",
        "original_file_size = get_file_size(original_file)\n",
        "compressed_file_size = get_file_size(compressed_file)\n",
        "decompressed_file_size = get_file_size(decompressed_file)\n",
        "\n",
        "# Print file sizes\n",
        "print(f\"\\nOriginal file size: {original_file_size} bytes\")\n",
        "print(f\"Compressed file size: {compressed_file_size} bytes\")\n",
        "print(f\"Decompressed file size: {decompressed_file_size} bytes\")\n",
        "\n",
        "# Check if decompressed string matches the original string\n",
        "if decompressed == input_string:\n",
        "    print(\"Decompression was successful!\")\n",
        "else:\n",
        "    print(\"Decompression failed.\")\n"
      ],
      "metadata": {
        "colab": {
          "base_uri": "https://localhost:8080/"
        },
        "id": "77fFsbDoaeLX",
        "outputId": "ec5274cd-f476-4f88-c444-caf6e6e0b58f"
      },
      "execution_count": 54,
      "outputs": [
        {
          "output_type": "stream",
          "name": "stdout",
          "text": [
            "Original String: TOBEORNOTTOBEORTOBEORNOT\n",
            "\n",
            "Original file size: 24 bytes\n",
            "Compressed file size: 53 bytes\n",
            "Decompressed file size: 24 bytes\n",
            "Decompression was successful!\n"
          ]
        }
      ]
    },
    {
      "cell_type": "code",
      "source": [
        "import math\n",
        "import os\n",
        "import struct  # For packing integers into binary format\n",
        "\n",
        "def lzw_compress(uncompressed):\n",
        "    # Build the dictionary.\n",
        "    dict_size = 256\n",
        "    dictionary = {chr(i): i for i in range(dict_size)}\n",
        "\n",
        "    w = \"\"\n",
        "    compressed_data = []\n",
        "\n",
        "    # Iterate over the characters in the input string\n",
        "    for c in uncompressed:\n",
        "        wc = w + c\n",
        "        if wc in dictionary:\n",
        "            w = wc\n",
        "        else:\n",
        "            compressed_data.append(dictionary[w])\n",
        "            # Add wc to the dictionary.\n",
        "            dictionary[wc] = dict_size\n",
        "            dict_size += 1\n",
        "            w = c\n",
        "\n",
        "    # Output the code for w.\n",
        "    if w:\n",
        "        compressed_data.append(dictionary[w])\n",
        "\n",
        "    return compressed_data, dict_size\n",
        "\n",
        "def lzw_decompress(compressed):\n",
        "    # Build the dictionary.\n",
        "    dict_size = 256\n",
        "    dictionary = {i: chr(i) for i in range(dict_size)}\n",
        "\n",
        "    # Get the first code and output it.\n",
        "    w = chr(compressed.pop(0))\n",
        "    decompressed_data = w\n",
        "\n",
        "    for k in compressed:\n",
        "        if k in dictionary:\n",
        "            entry = dictionary[k]\n",
        "        elif k == dict_size:\n",
        "            entry = w + w[0]\n",
        "        else:\n",
        "            raise ValueError(f\"Bad compressed k: {k}\")\n",
        "\n",
        "        decompressed_data += entry\n",
        "\n",
        "        # Add w+entry[0] to the dictionary.\n",
        "        dictionary[dict_size] = w + entry[0]\n",
        "        dict_size += 1\n",
        "\n",
        "        w = entry\n",
        "\n",
        "    return decompressed_data\n",
        "\n",
        "# Function to save the original string to a text file\n",
        "def save_original_to_file(filename, data):\n",
        "    with open(filename, 'w') as file:\n",
        "        file.write(data)\n",
        "\n",
        "# Function to save compressed data using struct\n",
        "def save_compressed_to_file(filename, data, dict_size):\n",
        "    # Calculate the number of bits needed to represent each code\n",
        "    bits_needed = math.ceil(math.log2(dict_size))\n",
        "\n",
        "    # Choose the correct format for struct packing based on the number of bits needed\n",
        "    if bits_needed <= 8:\n",
        "        format_char = 'B'  # Unsigned char (1 byte, 8 bits)\n",
        "    elif bits_needed <= 16:\n",
        "        format_char = 'H'  # Unsigned short (2 bytes, 16 bits)\n",
        "    elif bits_needed <= 32:\n",
        "        format_char = 'I'  # Unsigned int (4 bytes, 32 bits)\n",
        "    else:\n",
        "        raise ValueError(\"Dictionary too large to be handled by 32-bit integers.\")\n",
        "\n",
        "    with open(filename, 'wb') as file:\n",
        "        # Write each code in the compressed data using the appropriate number of bits\n",
        "        for code in data:\n",
        "            packed_code = struct.pack(f'>{format_char}', code)\n",
        "            file.write(packed_code)\n",
        "\n",
        "# Function to save decompressed string to a text file\n",
        "def save_decompressed_to_file(filename, data):\n",
        "    with open(filename, 'w') as file:\n",
        "        file.write(data)\n",
        "\n",
        "# Function to get file size\n",
        "def get_file_size(filename):\n",
        "    return os.path.getsize(filename)\n",
        "\n",
        "# Example usage:\n",
        "input_string = \"TOBEORNOTTOBEORTOBEORNOT\"\n",
        "print(f\"Original String: {input_string}\")\n",
        "\n",
        "# Compress the input string\n",
        "compressed, dict_size = lzw_compress(input_string)\n",
        "decompressed = lzw_decompress(compressed)\n",
        "\n",
        "# File names\n",
        "original_file = \"original.txt\"\n",
        "compressed_file = \"compressed.bin\"\n",
        "decompressed_file = \"decompressed.txt\"\n",
        "\n",
        "# Save the original string to a file\n",
        "save_original_to_file(original_file, input_string)\n",
        "\n",
        "# Save the compressed data to a file using struct\n",
        "save_compressed_to_file(compressed_file, compressed, dict_size)\n",
        "\n",
        "# Save the decompressed string to a file\n",
        "save_decompressed_to_file(decompressed_file, decompressed)\n",
        "\n",
        "# Get file sizes\n",
        "original_file_size = get_file_size(original_file)\n",
        "compressed_file_size = get_file_size(compressed_file)\n",
        "decompressed_file_size = get_file_size(decompressed_file)\n",
        "\n",
        "# Print file sizes\n",
        "print(f\"\\nOriginal file size: {original_file_size} bytes\")\n",
        "print(f\"Compressed file size: {compressed_file_size} bytes\")\n",
        "print(f\"Decompressed file size: {decompressed_file_size} bytes\")\n",
        "\n",
        "# Check if decompressed string matches the original string\n",
        "if decompressed == input_string:\n",
        "    print(\"Decompression was successful!\")\n",
        "else:\n",
        "    print(\"Decompression failed.\")\n"
      ],
      "metadata": {
        "colab": {
          "base_uri": "https://localhost:8080/"
        },
        "id": "cfaPNXjAblMV",
        "outputId": "97786faa-af76-4b75-97fc-7f1be8910d92"
      },
      "execution_count": 55,
      "outputs": [
        {
          "output_type": "stream",
          "name": "stdout",
          "text": [
            "Original String: TOBEORNOTTOBEORTOBEORNOT\n",
            "\n",
            "Original file size: 24 bytes\n",
            "Compressed file size: 30 bytes\n",
            "Decompressed file size: 24 bytes\n",
            "Decompression was successful!\n"
          ]
        }
      ]
    },
    {
      "cell_type": "markdown",
      "source": [
        "## LZW w Package"
      ],
      "metadata": {
        "id": "AcrFm4vycLlP"
      }
    },
    {
      "cell_type": "code",
      "source": [
        "!git clone https://github.com/joeatwork/python-lzw"
      ],
      "metadata": {
        "colab": {
          "base_uri": "https://localhost:8080/"
        },
        "id": "renivqjDcNX1",
        "outputId": "bb5adf5c-72f2-41f1-9657-7f88d211e299"
      },
      "execution_count": 56,
      "outputs": [
        {
          "output_type": "stream",
          "name": "stdout",
          "text": [
            "fatal: destination path 'python-lzw' already exists and is not an empty directory.\n"
          ]
        }
      ]
    },
    {
      "cell_type": "code",
      "source": [
        "# Move into the 'python-lzw' directory, move the 'lzw' folder, and install using setup.py\n",
        "!cd /content/python-lzw && mv lzw/ /content/ && python setup.py install"
      ],
      "metadata": {
        "colab": {
          "base_uri": "https://localhost:8080/"
        },
        "id": "8kZ3CfpHcO-1",
        "outputId": "aac6e29d-7f13-48f2-fded-c32bcb8c6b19"
      },
      "execution_count": 57,
      "outputs": [
        {
          "output_type": "stream",
          "name": "stdout",
          "text": [
            "running install\n",
            "/usr/local/lib/python3.10/dist-packages/setuptools/_distutils/cmd.py:66: SetuptoolsDeprecationWarning: setup.py install is deprecated.\n",
            "!!\n",
            "\n",
            "        ********************************************************************************\n",
            "        Please avoid running ``setup.py`` directly.\n",
            "        Instead, use pypa/build, pypa/installer or other\n",
            "        standards-based tools.\n",
            "\n",
            "        See https://blog.ganssle.io/articles/2021/10/setup-py-deprecated.html for details.\n",
            "        ********************************************************************************\n",
            "\n",
            "!!\n",
            "  self.initialize_options()\n",
            "/usr/local/lib/python3.10/dist-packages/setuptools/_distutils/cmd.py:66: EasyInstallDeprecationWarning: easy_install command is deprecated.\n",
            "!!\n",
            "\n",
            "        ********************************************************************************\n",
            "        Please avoid running ``setup.py`` and ``easy_install``.\n",
            "        Instead, use pypa/build, pypa/installer or other\n",
            "        standards-based tools.\n",
            "\n",
            "        See https://github.com/pypa/setuptools/issues/917 for details.\n",
            "        ********************************************************************************\n",
            "\n",
            "!!\n",
            "  self.initialize_options()\n",
            "running bdist_egg\n",
            "running egg_info\n",
            "creating lzw.egg-info\n",
            "writing lzw.egg-info/PKG-INFO\n",
            "writing dependency_links to lzw.egg-info/dependency_links.txt\n",
            "writing requirements to lzw.egg-info/requires.txt\n",
            "writing top-level names to lzw.egg-info/top_level.txt\n",
            "writing manifest file 'lzw.egg-info/SOURCES.txt'\n",
            "file lzw.py (for module lzw) not found\n",
            "error: package directory 'lzw' does not exist\n"
          ]
        }
      ]
    },
    {
      "cell_type": "code",
      "source": [
        "import lzw\n",
        "\n",
        "infile = lzw.readbytes(\"original.txt\")\n",
        "compressed = lzw.compress(infile)\n",
        "lzw.writebytes(\"compressed.lzw\", compressed)"
      ],
      "metadata": {
        "id": "RC0-gh0IcUeW"
      },
      "execution_count": 58,
      "outputs": []
    },
    {
      "cell_type": "code",
      "source": [
        "infile = lzw.readbytes(\"compressed.lzw\", compressed)\n",
        "uncompressed = lzw.decompress(infile)\n",
        "print(uncompressed)"
      ],
      "metadata": {
        "id": "gxk4sFASeQrr",
        "colab": {
          "base_uri": "https://localhost:8080/"
        },
        "outputId": "d80f8944-5fa1-4f43-8880-a1ba7eb2bff9"
      },
      "execution_count": 59,
      "outputs": [
        {
          "output_type": "stream",
          "name": "stdout",
          "text": [
            "<generator object Decoder.decode at 0x7a14f95328f0>\n"
          ]
        }
      ]
    },
    {
      "cell_type": "code",
      "source": [
        "import lzw\n",
        "\n",
        "# Path to the compressed LZW file\n",
        "compressed_file = 'compressed.lzw'\n",
        "\n",
        "infile = lzw.readbytes(compressed_file)\n",
        "\n",
        "# Decompress the file content\n",
        "decompressed_chunks = lzw.decompress(infile)\n",
        "\n",
        "# Join the decompressed chunks into a single byte string\n",
        "bytess = b\"\".join(decompressed_chunks)\n",
        "\n",
        "# Print the decompressed output\n",
        "print(bytess.decode('utf-8'))  # Assuming UTF-8 encoding for text"
      ],
      "metadata": {
        "id": "0a5PiQs5ggnx",
        "colab": {
          "base_uri": "https://localhost:8080/"
        },
        "outputId": "3f876c4f-16c1-47b6-8476-4e08fa1bebc2"
      },
      "execution_count": 60,
      "outputs": [
        {
          "output_type": "stream",
          "name": "stdout",
          "text": [
            "TOBEORNOTTOBEORTOBEORNOT\n"
          ]
        }
      ]
    },
    {
      "cell_type": "code",
      "source": [
        "import lzw\n",
        "\n",
        "mybytes = lzw.readbytes(\"original.txt\")\n",
        "lessbytes = lzw.compress(mybytes)\n",
        "print(lessbytes\n",
        "      )\n",
        "newbytes = b\"\".join(lzw.decompress(lessbytes))\n",
        "print(newbytes)\n",
        "\n",
        "oldbytes = b\"\".join(lzw.readbytes(\"original.txt\"))\n",
        "print(oldbytes)\n",
        "\n",
        "oldbytes == newbytes"
      ],
      "metadata": {
        "id": "vbawgeW9fZ6B",
        "colab": {
          "base_uri": "https://localhost:8080/"
        },
        "outputId": "0a61a902-2eec-4546-da43-6444397e9df9"
      },
      "execution_count": 61,
      "outputs": [
        {
          "output_type": "stream",
          "name": "stdout",
          "text": [
            "<generator object BitPacker.pack at 0x7a14f9532f80>\n",
            "b'TOBEORNOTTOBEORTOBEORNOT'\n",
            "b'TOBEORNOTTOBEORTOBEORNOT'\n"
          ]
        },
        {
          "output_type": "execute_result",
          "data": {
            "text/plain": [
              "True"
            ]
          },
          "metadata": {},
          "execution_count": 61
        }
      ]
    },
    {
      "cell_type": "code",
      "source": [
        "import lzw\n",
        "import os\n",
        "\n",
        "# Function to get file size\n",
        "def get_file_size(filename):\n",
        "    return os.path.getsize(filename)\n",
        "\n",
        "# Part 1: Compression\n",
        "# Path to the original text file\n",
        "original_file = \"original.txt\"\n",
        "\n",
        "# Read bytes from the original file and compress the content\n",
        "infile = lzw.readbytes(original_file)  # Read bytes from the file\n",
        "compressed = lzw.compress(infile)  # Compress the data\n",
        "\n",
        "# Write compressed data to a new LZW file\n",
        "compressed_file = \"compressed.lzw\"\n",
        "lzw.writebytes(compressed_file, compressed)\n",
        "\n",
        "# Part 2: Decompression\n",
        "# Read the compressed data from the file\n",
        "infile = lzw.readbytes(compressed_file)\n",
        "\n",
        "# Decompress the file content\n",
        "decompressed_chunks = lzw.decompress(infile)\n",
        "\n",
        "# Join the decompressed chunks into a single byte string\n",
        "bytess = b\"\".join(decompressed_chunks)\n",
        "\n",
        "# Write the decompressed output to decompress.txt\n",
        "decompressed_file = \"decompress.txt\"\n",
        "with open(decompressed_file, 'wb') as output_file:\n",
        "    output_file.write(bytess)\n",
        "\n",
        "# Part 3: Print file sizes for comparison\n",
        "original_size = get_file_size(original_file)\n",
        "compressed_size = get_file_size(compressed_file)\n",
        "decompressed_size = get_file_size(decompressed_file)\n",
        "\n",
        "print(f\"Original file size: {original_size} bytes\")\n",
        "print(f\"Compressed file size: {compressed_size} bytes\")\n",
        "print(f\"Decompressed file size: {decompressed_size} bytes\")"
      ],
      "metadata": {
        "id": "Du8PT6MXh0xO",
        "colab": {
          "base_uri": "https://localhost:8080/"
        },
        "outputId": "d68a0e34-0877-429c-add6-d3c71c02b661"
      },
      "execution_count": 62,
      "outputs": [
        {
          "output_type": "stream",
          "name": "stdout",
          "text": [
            "Original file size: 24 bytes\n",
            "Compressed file size: 20 bytes\n",
            "Decompressed file size: 24 bytes\n"
          ]
        }
      ]
    },
    {
      "cell_type": "code",
      "source": [
        "# Path to the compressed LZW file\n",
        "compressed_file = 'compressed.lzw'\n",
        "\n",
        "# Open and read the binary content of the compressed file\n",
        "with open(compressed_file, 'rb') as file:\n",
        "    compressed_content = file.read()\n",
        "\n",
        "# Print the binary content\n",
        "print(compressed_content.hex())  # Convert to hexadecimal for better readability"
      ],
      "metadata": {
        "id": "gl6ws6BEikn4",
        "colab": {
          "base_uri": "https://localhost:8080/"
        },
        "outputId": "e07ad2ef-e58e-48b2-ca4d-d8977637bd6f"
      },
      "execution_count": 63,
      "outputs": [
        {
          "output_type": "stream",
          "name": "stdout",
          "text": [
            "2a13c8445279489c4f2a40a090685c160f098000\n"
          ]
        }
      ]
    },
    {
      "cell_type": "markdown",
      "source": [
        "### Variable based"
      ],
      "metadata": {
        "id": "wMA4elRtjKdM"
      }
    },
    {
      "cell_type": "code",
      "source": [
        "import lzw\n",
        "\n",
        "# Example text to compress (can be any string)\n",
        "original_text = \"TOBEORNOTTOBEORTOBEORNOT\"\n",
        "\n",
        "# Convert the original text into bytes (UTF-8 encoding)\n",
        "original_bytes = original_text.encode('utf-8')\n",
        "\n",
        "# Part 1: Compression (in-memory)\n",
        "compressed = lzw.compress(original_bytes)\n",
        "\n",
        "# Convert compressed generator to a list to see its contents\n",
        "compressed_list = list(compressed)\n",
        "\n",
        "# Part 2: Decompression (in-memory)\n",
        "decompressed_chunks = lzw.decompress(compressed_list)\n",
        "\n",
        "# Join the decompressed chunks into a single byte string\n",
        "decompressed_bytes = b\"\".join(decompressed_chunks)\n",
        "\n",
        "# Convert decompressed bytes back to a string\n",
        "decompressed_text = decompressed_bytes.decode('utf-8')\n",
        "\n",
        "# Print each variable\n",
        "print(\"Original Text (String):\", original_text)\n",
        "print(\"Original Bytes:\", original_bytes)\n",
        "print(\"Compressed List (Byte Chunks):\", compressed_list)\n",
        "print(\"Decompressed Bytes:\", decompressed_bytes)\n",
        "print(\"Decompressed Text (String):\", decompressed_text)\n",
        "\n",
        "# Part 3: Print sizes and results for comparison\n",
        "original_size = len(original_bytes)\n",
        "compressed_size = len(b\"\".join(compressed_list))  # Join to get compressed byte size\n",
        "decompressed_size = len(decompressed_bytes)\n",
        "\n",
        "# Print the sizes in bytes\n",
        "print(f\"\\nOriginal size: {original_size} bytes\")\n",
        "print(f\"Compressed size: {compressed_size} bytes\")\n",
        "print(f\"Decompressed size: {decompressed_size} bytes\")\n",
        "\n",
        "# Check if decompression was successful\n",
        "if decompressed_text == original_text:\n",
        "    print(\"Decompression was successful!\")\n",
        "else:\n",
        "    print(\"Decompression failed.\")\n"
      ],
      "metadata": {
        "id": "kjd-PTP6jSmR",
        "colab": {
          "base_uri": "https://localhost:8080/"
        },
        "outputId": "720e6122-6efe-4064-93db-a27231e2869d"
      },
      "execution_count": 64,
      "outputs": [
        {
          "output_type": "stream",
          "name": "stdout",
          "text": [
            "Original Text (String): TOBEORNOTTOBEORTOBEORNOT\n",
            "Original Bytes: b'TOBEORNOTTOBEORTOBEORNOT'\n",
            "Compressed List (Byte Chunks): [b'*', b'\\x13', b'\\xc8', b'D', b'R', b'y', b'H', b'\\x9c', b'O', b'*', b'@', b'\\xa0', b'\\x90', b'h', b'\\\\', b'\\x16', b'\\x0f', b'\\t', b'\\x80', b'\\x00']\n",
            "Decompressed Bytes: b'TOBEORNOTTOBEORTOBEORNOT'\n",
            "Decompressed Text (String): TOBEORNOTTOBEORTOBEORNOT\n",
            "\n",
            "Original size: 24 bytes\n",
            "Compressed size: 20 bytes\n",
            "Decompressed size: 24 bytes\n",
            "Decompression was successful!\n"
          ]
        }
      ]
    },
    {
      "cell_type": "code",
      "source": [
        "import lzw\n",
        "\n",
        "# Function for compressing text using LZW\n",
        "def compress_lzw(original_text):\n",
        "    # Convert the original text into bytes (UTF-8 encoding)\n",
        "    original_bytes = original_text.encode('utf-8')\n",
        "\n",
        "    # Compression (in-memory)\n",
        "    compressed = lzw.compress(original_bytes)\n",
        "\n",
        "    # Convert compressed generator to a list to see its contents\n",
        "    compressed_list = list(compressed)\n",
        "\n",
        "    # Return original bytes, compressed list, and compressed size\n",
        "    return original_bytes, compressed_list\n",
        "\n",
        "\n",
        "# Function for decompressing compressed data using LZW\n",
        "def decompress_lzw(compressed_list):\n",
        "    # Decompression (in-memory)\n",
        "    decompressed_chunks = lzw.decompress(compressed_list)\n",
        "\n",
        "    # Join the decompressed chunks into a single byte string\n",
        "    decompressed_bytes = b\"\".join(decompressed_chunks)\n",
        "\n",
        "    # Convert decompressed bytes back to a string\n",
        "    decompressed_text = decompressed_bytes.decode('utf-8')\n",
        "\n",
        "    # Return decompressed bytes and text\n",
        "    return decompressed_bytes, decompressed_text\n",
        "\n",
        "\n",
        "# Example usage\n",
        "original_text = \"TOBEORNOTTOBEORTOBEORNOT\"\n",
        "\n",
        "# Compress the original text\n",
        "original_bytes, compressed_list = compress_lzw(original_text)\n",
        "\n",
        "# Decompress the compressed data\n",
        "decompressed_bytes, decompressed_text = decompress_lzw(compressed_list)\n",
        "\n",
        "# Print each variable\n",
        "print(\"Original Text (String):\", original_text)\n",
        "print(\"Original Bytes:\", original_bytes)\n",
        "print(\"Compressed List (Byte Chunks):\", compressed_list)\n",
        "print(\"Decompressed Bytes:\", decompressed_bytes)\n",
        "print(\"Decompressed Text (String):\", decompressed_text)\n",
        "\n",
        "# Part 3: Print sizes and results for comparison\n",
        "original_size = len(original_bytes)\n",
        "compressed_size = len(b\"\".join(compressed_list))  # Join to get compressed byte size\n",
        "decompressed_size = len(decompressed_bytes)\n",
        "\n",
        "# Print the sizes in bytes\n",
        "print(f\"\\nOriginal size: {original_size} bytes\")\n",
        "print(f\"Compressed size: {compressed_size} bytes\")\n",
        "print(f\"Decompressed size: {decompressed_size} bytes\")\n",
        "\n",
        "# Check if decompression was successful\n",
        "if decompressed_text == original_text:\n",
        "    print(\"Decompression was successful!\")\n",
        "else:\n",
        "    print(\"Decompression failed.\")\n"
      ],
      "metadata": {
        "id": "k1tfEUW_jzM_",
        "colab": {
          "base_uri": "https://localhost:8080/"
        },
        "outputId": "159362e7-80ca-498a-d59f-1c4939579607"
      },
      "execution_count": 65,
      "outputs": [
        {
          "output_type": "stream",
          "name": "stdout",
          "text": [
            "Original Text (String): TOBEORNOTTOBEORTOBEORNOT\n",
            "Original Bytes: b'TOBEORNOTTOBEORTOBEORNOT'\n",
            "Compressed List (Byte Chunks): [b'*', b'\\x13', b'\\xc8', b'D', b'R', b'y', b'H', b'\\x9c', b'O', b'*', b'@', b'\\xa0', b'\\x90', b'h', b'\\\\', b'\\x16', b'\\x0f', b'\\t', b'\\x80', b'\\x00']\n",
            "Decompressed Bytes: b'TOBEORNOTTOBEORTOBEORNOT'\n",
            "Decompressed Text (String): TOBEORNOTTOBEORTOBEORNOT\n",
            "\n",
            "Original size: 24 bytes\n",
            "Compressed size: 20 bytes\n",
            "Decompressed size: 24 bytes\n",
            "Decompression was successful!\n"
          ]
        }
      ]
    },
    {
      "cell_type": "markdown",
      "source": [
        "# Crypt > Compress w lzw > Stego"
      ],
      "metadata": {
        "id": "14a5p2RjiLYX"
      }
    },
    {
      "cell_type": "code",
      "source": [
        "def read_stego():\n",
        "  im = cv2.imread(\"my_new_image.png\")\n",
        "  steg = LSBSteg(im)\n",
        "  bytess = steg.decode_text()\n",
        "  print(bytess)"
      ],
      "metadata": {
        "id": "fkAtHIgO3JRd"
      },
      "execution_count": 66,
      "outputs": []
    },
    {
      "cell_type": "code",
      "source": [
        "import lzw\n",
        "import numpy as np\n",
        "import cv2\n",
        "from ecies import encrypt, decrypt\n",
        "from ecies.utils import generate_eth_key\n",
        "import math\n",
        "\n",
        "# Function for LZW compression\n",
        "def compress_lzw(data):\n",
        "    compressed = lzw.compress(data)\n",
        "    compressed_list = list(compressed)\n",
        "    return compressed_list\n",
        "\n",
        "# Function for LZW decompression\n",
        "def decompress_lzw(compressed_list):\n",
        "    decompressed_chunks = lzw.decompress(compressed_list)\n",
        "    decompressed_data = b\"\".join(decompressed_chunks)\n",
        "    return decompressed_data\n",
        "\n",
        "# Encryption -> Compression -> Steganography (Hiding Data in Image)\n",
        "def encrypt_compress_stego(original_image, output_image, plaintext, public_key):\n",
        "    # Step 1: Encrypt the plaintext\n",
        "    encrypted_data = encrypt(public_key, plaintext)\n",
        "    # print(encrypted_data)\n",
        "    # Step 2: Compress the encrypted data using LZW\n",
        "    compressed_data = compress_lzw(encrypted_data)\n",
        "\n",
        "    # compressed_data = \"\".join(compressed_data)\n",
        "    # print(compressed_data)\n",
        "\n",
        "    # Step 3: Hide the compressed data in the image using steganography\n",
        "    steg = LSBSteg(cv2.imread(original_image))\n",
        "    img_encoded = steg.encode_text(str(compressed_data))\n",
        "    cv2.imwrite(output_image, img_encoded)\n",
        "\n",
        "    return compressed_data\n",
        "\n",
        "# Steganography -> Decompression -> Decryption (Extract and Reveal Original Message)\n",
        "def stego_decompress_decrypt(stego_image, private_key):\n",
        "    # Step 1: Extract the hidden compressed data from the image\n",
        "    steg = LSBSteg(cv2.imread(stego_image))\n",
        "    extracted_data = steg.decode_text()\n",
        "\n",
        "    # Step 2: Convert the extracted string back into a list of compressed data\n",
        "    compressed_data = eval(extracted_data)  # Assuming the data was stored as a list\n",
        "\n",
        "    # Step 3: Decompress the extracted data\n",
        "    decompressed_data = decompress_lzw(compressed_data)\n",
        "\n",
        "    # Step 4: Decrypt the decompressed data\n",
        "    decrypted_data = decrypt(private_key, decompressed_data)\n",
        "\n",
        "    return decrypted_data.decode('utf-8')\n",
        "\n",
        "# Function to calculate PSNR between original and stego images\n",
        "def calculate_psnr(original_image_path, stego_image_path):\n",
        "    original = cv2.imread(original_image_path)\n",
        "    stego = cv2.imread(stego_image_path)\n",
        "\n",
        "    # Calculate MSE (Mean Squared Error)\n",
        "    mse = np.mean((original - stego) ** 2)\n",
        "    if mse == 0:  # Images are identical\n",
        "        return float('inf')\n",
        "\n",
        "    # Calculate PSNR\n",
        "    max_pixel_value = 255.0\n",
        "    psnr = 10 * math.log10((max_pixel_value ** 2) / mse)\n",
        "    return psnr\n",
        "\n",
        "# Example Usage\n",
        "original_image = 'lena_downloaded.png'\n",
        "output_image = 'my_new_image.png'\n",
        "plaintext = b\"3348610401970005#christofer*derian*budianto#tegal#1997-03-04#laki-laki#b#jl.*pala*22*no.*30#005#017#mejasem*tengah#kramat#katholik#belum*kawin#pelajar/mahasiswa#wni#seumur*hidup\"\n",
        "\n",
        "# Step 1: Generate ECC key pair for encryption and decryption\n",
        "private_key = generate_eth_key()\n",
        "public_key = private_key.public_key\n",
        "private_key_hex = private_key.to_hex()\n",
        "\n",
        "# Step 2: Encryption -> Compression -> Steganography\n",
        "compressed_data = encrypt_compress_stego(original_image, output_image, plaintext, public_key.to_hex())\n",
        "print(f\"Compressed Data: {compressed_data}\")\n",
        "\n",
        "# Step 3: Decrypt and Extract the Message\n",
        "decrypted_message = stego_decompress_decrypt(output_image, private_key_hex)\n",
        "print(f\"Decrypted Message: {decrypted_message}\")\n",
        "\n",
        "# Step 4: Calculate and Print PSNR between the original and stego images\n",
        "psnr_value = calculate_psnr(original_image, output_image)\n",
        "print(f\"PSNR value between the original and stego image: {psnr_value} dB\")\n"
      ],
      "metadata": {
        "id": "wf5YoCEgiRbo",
        "colab": {
          "base_uri": "https://localhost:8080/"
        },
        "outputId": "d291f2b4-f451-43dc-8774-2692e5e4bfa0"
      },
      "execution_count": 67,
      "outputs": [
        {
          "output_type": "stream",
          "name": "stdout",
          "text": [
            "Compressed Data: [b'\\x02', b'\\x1e', b'\\xd8', b'I', b'\\x00', b'Z', b'a', b'\\xe2', b'\\xbc', b'R', b'\\x06', b'\\x10', b'\\x89', b'\\xf1', b'(', b'\\x95', b'\\xbc', b'j', b'7', b'>', b'K', b'\\xe7', b'\\x17', b'`', b'\\xd5', b'\\x1c', b'\\x86', b'v', b'\\x05', b'\\x00', b'\\x8a', b'b', b'\\x90', b'\\xd4', b' ', b'\\x1e', b'X', b'\\xbf', b'_', b'\\xea', b'\\xf7', b'K', b'L', b'8', b'\\xea', b'0', b'\\xa8', b'_', b',', b'T', b'\\xb1', b'\\xc9', b'T', b'f', b'\\r', b'\\x97', b'\\x01', b'f', b'\\x91', b'\\xb0', b'-', b'\\xb2', b'\\x87', b'e', b'&', b'\\x83', b'\\xc5', b'\\x80', b'\\xc9', b'\\xf9', b'2', b'\\x9b', b'W', b'8', b'D', b'\\x8d', b'&', b'x', b'\\xc0', b'\\xc6', b't', b'\\x07', b'\\x11', b'\\xd5', b'\\x84', b'\\xf0', b'c', b'\\xa5', b'\\xe8', b'\\x16', b'\\t', b'\\x97', b'\\xc6', b'\\xae', b'\\x94', b'#', b'\\x05', b'\\xa2', b'\\xe1', b'l', b'9', b'V', b'.', b'\\xf0', b'\\xa2', b'\\x1d', b'\\xb2', b'\\x13', b'\\x15', b\"'\", b'\\x8b', b'\\xa7', b'\\xe6', b'c', b'\\xad', b'D', b'I', b';', b'\\x00', b'\\x16', b'\\xcf', b'\\xf4', b'S', b'\\xcd', b'\\x86', b'\\x0c', b'y', b'\\x18', b'U', b'\\x87', b'7', b'\\x12', b'\\xa1', b'\\xa4', b'\\xad', b'0', b'\\x16', b'\\xd9', b'G', b'\\xd5', b'p', b'\\x19', b'\\x96', b'\\xa0', b'Y', b'&', b'\\x95', b'e', b'B', b'\\x19', b'\\xc0', b'\\x9e', b'\\xf3', b'1', b'\\x8b', b'\\x14', b'H', b'\\x92', b'H', b'%', b'\\xf4', b'\\xa0', b'e', b':', b'\\x87', b'$', b'\\x85', b'\\xe8', b']', b'\\xd2', b'$', b'\\x1a', b'8', b'\\x94', b'\\xe8', b'\\xc2', b'\\x88', b'\\xe1', b'\\x8a', b'K', b'\\x0c', b'?', b'E', b'\\x8c', b'\\xd6', b'\\xf1', b't', b'\\xd0', b'\\x01', b'r', b'\\xb0', b'\\xd8', b'\\xac', b'\\x95', b'\\x8a', b')', b'\\x0e', b'N', b'9', b'\\xa3', b'M', b' ', b'&', b'\\xa8', b'\\x99', b'H', b'\\xe9', b'3', b'\\x97', b']', b'\\n', b'\\xc5', b'Y', b'\\x81', b'4', b'\\x9a', b'\\x00', b'\\xbc', b'\\xda', b'\\x00', b'\\xb3', b'0', b'\\xfd', b'\\x8c', b'\\x16', b'\\x16', b'\\xbc', b'\\x11', b'+', b'P', b'\\xf1', b'\\x9c', b'\\x8a', b'9', b'\\\\', b'\\x87', b'\\xca', b'\\x04', b'P', b'0', b'\\x00', b'\\x96', b'\\xbc', b'9', b'\\x8f', b'\\x0e', b'\\xe4', b'\\xe2', b'\\x93', b'\\xd9', b'\\xb0', b'e', b'H', b'\\x15', b'\\x88', b'\\xc9', b'\\x85', b'\\x8a', b'\\x84', b':', b'\\xb7', b'X', b'\\x12', b'\\x8b', b'a', b'\\x82', b'9', b'=', b'8', b'\\xd0', b')', b'&', b'\\xd7', b'B', b'\\x86', b'\\x13', b'\\xf1', b'\\x14', b'=', b'\\n', b'\\x93', b'\\x0f', b'\\x04', b'U', b'\\x93', b'\\x08', b'\\xa2', b':', b'\\x80', b's', b',', b'\\xf5', b'7', b'G', b'\"', b'\\xa0', b'2', b'9', b'\\xc9', b'\"', b',', b'~', b'\\x03', b'J', b'\\xa1', b',', b'\\x83', b'\\x16', b'\\x87', b'c', b'Q', b'\\x00']\n",
            "Decrypted Message: 3348610401970005#christofer*derian*budianto#tegal#1997-03-04#laki-laki#b#jl.*pala*22*no.*30#005#017#mejasem*tengah#kramat#katholik#belum*kawin#pelajar/mahasiswa#wni#seumur*hidup\n",
            "PSNR value between the original and stego image: 67.14776539344116 dB\n"
          ]
        }
      ]
    },
    {
      "cell_type": "code",
      "source": [
        "im = cv2.imread(\"my_new_image.png\")\n",
        "steg = LSBSteg(im)\n",
        "bytess = steg.decode_text()\n",
        "print(bytess)"
      ],
      "metadata": {
        "id": "gcUx2lCykneD",
        "colab": {
          "base_uri": "https://localhost:8080/"
        },
        "outputId": "2966980d-354d-4c35-921e-489572034039"
      },
      "execution_count": 68,
      "outputs": [
        {
          "output_type": "stream",
          "name": "stdout",
          "text": [
            "[b'\\x02', b'\\x1e', b'\\xd8', b'I', b'\\x00', b'Z', b'a', b'\\xe2', b'\\xbc', b'R', b'\\x06', b'\\x10', b'\\x89', b'\\xf1', b'(', b'\\x95', b'\\xbc', b'j', b'7', b'>', b'K', b'\\xe7', b'\\x17', b'`', b'\\xd5', b'\\x1c', b'\\x86', b'v', b'\\x05', b'\\x00', b'\\x8a', b'b', b'\\x90', b'\\xd4', b' ', b'\\x1e', b'X', b'\\xbf', b'_', b'\\xea', b'\\xf7', b'K', b'L', b'8', b'\\xea', b'0', b'\\xa8', b'_', b',', b'T', b'\\xb1', b'\\xc9', b'T', b'f', b'\\r', b'\\x97', b'\\x01', b'f', b'\\x91', b'\\xb0', b'-', b'\\xb2', b'\\x87', b'e', b'&', b'\\x83', b'\\xc5', b'\\x80', b'\\xc9', b'\\xf9', b'2', b'\\x9b', b'W', b'8', b'D', b'\\x8d', b'&', b'x', b'\\xc0', b'\\xc6', b't', b'\\x07', b'\\x11', b'\\xd5', b'\\x84', b'\\xf0', b'c', b'\\xa5', b'\\xe8', b'\\x16', b'\\t', b'\\x97', b'\\xc6', b'\\xae', b'\\x94', b'#', b'\\x05', b'\\xa2', b'\\xe1', b'l', b'9', b'V', b'.', b'\\xf0', b'\\xa2', b'\\x1d', b'\\xb2', b'\\x13', b'\\x15', b\"'\", b'\\x8b', b'\\xa7', b'\\xe6', b'c', b'\\xad', b'D', b'I', b';', b'\\x00', b'\\x16', b'\\xcf', b'\\xf4', b'S', b'\\xcd', b'\\x86', b'\\x0c', b'y', b'\\x18', b'U', b'\\x87', b'7', b'\\x12', b'\\xa1', b'\\xa4', b'\\xad', b'0', b'\\x16', b'\\xd9', b'G', b'\\xd5', b'p', b'\\x19', b'\\x96', b'\\xa0', b'Y', b'&', b'\\x95', b'e', b'B', b'\\x19', b'\\xc0', b'\\x9e', b'\\xf3', b'1', b'\\x8b', b'\\x14', b'H', b'\\x92', b'H', b'%', b'\\xf4', b'\\xa0', b'e', b':', b'\\x87', b'$', b'\\x85', b'\\xe8', b']', b'\\xd2', b'$', b'\\x1a', b'8', b'\\x94', b'\\xe8', b'\\xc2', b'\\x88', b'\\xe1', b'\\x8a', b'K', b'\\x0c', b'?', b'E', b'\\x8c', b'\\xd6', b'\\xf1', b't', b'\\xd0', b'\\x01', b'r', b'\\xb0', b'\\xd8', b'\\xac', b'\\x95', b'\\x8a', b')', b'\\x0e', b'N', b'9', b'\\xa3', b'M', b' ', b'&', b'\\xa8', b'\\x99', b'H', b'\\xe9', b'3', b'\\x97', b']', b'\\n', b'\\xc5', b'Y', b'\\x81', b'4', b'\\x9a', b'\\x00', b'\\xbc', b'\\xda', b'\\x00', b'\\xb3', b'0', b'\\xfd', b'\\x8c', b'\\x16', b'\\x16', b'\\xbc', b'\\x11', b'+', b'P', b'\\xf1', b'\\x9c', b'\\x8a', b'9', b'\\\\', b'\\x87', b'\\xca', b'\\x04', b'P', b'0', b'\\x00', b'\\x96', b'\\xbc', b'9', b'\\x8f', b'\\x0e', b'\\xe4', b'\\xe2', b'\\x93', b'\\xd9', b'\\xb0', b'e', b'H', b'\\x15', b'\\x88', b'\\xc9', b'\\x85', b'\\x8a', b'\\x84', b':', b'\\xb7', b'X', b'\\x12', b'\\x8b', b'a', b'\\x82', b'9', b'=', b'8', b'\\xd0', b')', b'&', b'\\xd7', b'B', b'\\x86', b'\\x13', b'\\xf1', b'\\x14', b'=', b'\\n', b'\\x93', b'\\x0f', b'\\x04', b'U', b'\\x93', b'\\x08', b'\\xa2', b':', b'\\x80', b's', b',', b'\\xf5', b'7', b'G', b'\"', b'\\xa0', b'2', b'9', b'\\xc9', b'\"', b',', b'~', b'\\x03', b'J', b'\\xa1', b',', b'\\x83', b'\\x16', b'\\x87', b'c', b'Q', b'\\x00']\n"
          ]
        }
      ]
    },
    {
      "cell_type": "markdown",
      "source": [],
      "metadata": {
        "id": "nof4n3dnnUYF"
      }
    },
    {
      "cell_type": "code",
      "source": [
        "import lzw\n",
        "import numpy as np\n",
        "import cv2\n",
        "from ecies import encrypt, decrypt\n",
        "from ecies.utils import generate_eth_key\n",
        "import math\n",
        "\n",
        "# Function for LZW compression\n",
        "def compress_lzw(data):\n",
        "    compressed = lzw.compress(data)\n",
        "    compressed_list = list(compressed)\n",
        "    return compressed_list\n",
        "\n",
        "# Function for LZW decompression\n",
        "def decompress_lzw(compressed_list):\n",
        "    decompressed_chunks = lzw.decompress(compressed_list)\n",
        "    decompressed_data = b\"\".join(decompressed_chunks)\n",
        "    return decompressed_data\n",
        "\n",
        "# Encryption -> Compression -> Steganography (Hiding Data in Image)\n",
        "def encrypt_compress_stego(original_image, output_image, plaintext, public_key):\n",
        "    # Step 1: Encrypt the plaintext\n",
        "    encrypted_data = encrypt(public_key, plaintext)\n",
        "\n",
        "    # Step 2: Compress the encrypted data using LZW\n",
        "    compressed_data = compress_lzw(encrypted_data)\n",
        "\n",
        "    # Step 3: Convert the compressed data to hexadecimal\n",
        "    compressed_hex = \"\".join([x.hex() if isinstance(x, bytes) else format(x, 'x') for x in compressed_data])\n",
        "\n",
        "    # Step 4: Hide the compressed hex data in the image using steganography\n",
        "    steg = LSBSteg(cv2.imread(original_image))\n",
        "    img_encoded = steg.encode_text(compressed_hex)\n",
        "    cv2.imwrite(output_image, img_encoded)\n",
        "\n",
        "    return compressed_hex\n",
        "\n",
        "# Steganography -> Decompression -> Decryption (Extract and Reveal Original Message)\n",
        "def stego_decompress_decrypt(stego_image, private_key):\n",
        "    # Step 1: Extract the hidden hex compressed data from the image\n",
        "    steg = LSBSteg(cv2.imread(stego_image))\n",
        "    extracted_hex = steg.decode_text()\n",
        "\n",
        "    # Step 2: Convert the extracted hex string back to a list of integers or byte sequences\n",
        "    compressed_data = []\n",
        "    i = 0\n",
        "    while i < len(extracted_hex):\n",
        "        # Try to parse each piece of data\n",
        "        try:\n",
        "            # Assuming 2 hex digits represent 1 byte\n",
        "            compressed_data.append(int(extracted_hex[i:i+2], 16))\n",
        "            i += 2\n",
        "        except ValueError:\n",
        "            break\n",
        "\n",
        "    # Step 3: Decompress the extracted data\n",
        "    decompressed_data = decompress_lzw(compressed_data)\n",
        "\n",
        "    # Step 4: Decrypt the decompressed data\n",
        "    decrypted_data = decrypt(private_key, decompressed_data)\n",
        "\n",
        "    return decrypted_data.decode('utf-8')\n",
        "\n",
        "# Function to calculate PSNR between original and stego images\n",
        "def calculate_psnr(original_image_path, stego_image_path):\n",
        "    original = cv2.imread(original_image_path)\n",
        "    stego = cv2.imread(stego_image_path)\n",
        "\n",
        "    # Calculate MSE (Mean Squared Error)\n",
        "    mse = np.mean((original - stego) ** 2)\n",
        "    if mse == 0:  # Images are identical\n",
        "        return float('inf')\n",
        "\n",
        "    # Calculate PSNR\n",
        "    max_pixel_value = 255.0\n",
        "    psnr = 10 * math.log10((max_pixel_value ** 2) / mse)\n",
        "    return psnr\n",
        "\n",
        "# Example Usage\n",
        "original_image = 'lena_downloaded.png'\n",
        "output_image = 'my_new_image.png'\n",
        "plaintext = b\"3348610401970005#christofer*derian*budianto#tegal#1997-03-04#laki-laki#b#jl.*pala*22*no.*30#005#017#mejasem*tengah#kramat#katholik#belum*kawin#pelajar/mahasiswa#wni#seumur*hidup\"\n",
        "\n",
        "# Step 1: Generate ECC key pair for encryption and decryption\n",
        "private_key = generate_eth_key()\n",
        "public_key = private_key.public_key\n",
        "private_key_hex = private_key.to_hex()\n",
        "print(type(private_key_hex))\n",
        "\n",
        "# Step 2: Encryption -> Compression -> Steganography\n",
        "compressed_hex = encrypt_compress_stego(original_image, output_image, plaintext, public_key.to_hex())\n",
        "print(f\"Compressed Data in Hex: {compressed_hex}\")\n",
        "\n",
        "# Step 3: Decrypt and Extract the Message\n",
        "decrypted_message = stego_decompress_decrypt(output_image, private_key_hex)\n",
        "print(f\"Decrypted Message: {decrypted_message}\")\n",
        "\n",
        "# Step 4: Calculate and Print PSNR between the original and stego images\n",
        "psnr_value = calculate_psnr(original_image, output_image)\n",
        "print(f\"PSNR value between the original and stego image: {psnr_value} dB\")\n"
      ],
      "metadata": {
        "id": "aKIQgbc4nT25",
        "colab": {
          "base_uri": "https://localhost:8080/"
        },
        "outputId": "bd9b7d29-3565-442d-e0b0-b6ab924f7468"
      },
      "execution_count": 69,
      "outputs": [
        {
          "output_type": "stream",
          "name": "stdout",
          "text": [
            "<class 'str'>\n",
            "Compressed Data in Hex: 02161c4820e26832ed268fc847e7bb65dc74740e97e3419ad96e5d6aa2d92c80a211ea96469a5de3a349307cc42527db29960aa14470080c590bd752593837249d9e48e16115da6174bbc48dd3e13914e5593f0142f022a108961f21062d35426472b3291c512537ba359c61180cc24ae6504dc6c62a081e2c70998902ca68af8e47513a599ada04b483e457ba4478ed1c09160b20f3b48e360228c96433f075769b0d81448873793d00c2539a138b224bcc02b950ac96e02071c5ea241714c0c29710f10a3921345fe27623ddd4ae3b02d80cc6087940ec73178b8201a0780ab97db91104b6dac8341527234e6930413c7c2f540c196205d01c7a1b722b19a0b341ccd2781f9d5caf827a10d2a131ae4dc5a7b8e5da08140e89e34581546328c7b3dc4d34085190362bcc6104d0398d50b048070543bd00\n",
            "Decrypted Message: 3348610401970005#christofer*derian*budianto#tegal#1997-03-04#laki-laki#b#jl.*pala*22*no.*30#005#017#mejasem*tengah#kramat#katholik#belum*kawin#pelajar/mahasiswa#wni#seumur*hidup\n",
            "PSNR value between the original and stego image: 73.15868792137155 dB\n"
          ]
        }
      ]
    },
    {
      "cell_type": "code",
      "source": [
        "im = cv2.imread(\"my_new_image.png\")\n",
        "steg = LSBSteg(im)\n",
        "bytess = steg.decode_text()\n",
        "print(bytess)"
      ],
      "metadata": {
        "id": "pltpA4lAotML",
        "colab": {
          "base_uri": "https://localhost:8080/"
        },
        "outputId": "372d20d7-209e-41ca-a836-66bb5867105f"
      },
      "execution_count": 70,
      "outputs": [
        {
          "output_type": "stream",
          "name": "stdout",
          "text": [
            "02161c4820e26832ed268fc847e7bb65dc74740e97e3419ad96e5d6aa2d92c80a211ea96469a5de3a349307cc42527db29960aa14470080c590bd752593837249d9e48e16115da6174bbc48dd3e13914e5593f0142f022a108961f21062d35426472b3291c512537ba359c61180cc24ae6504dc6c62a081e2c70998902ca68af8e47513a599ada04b483e457ba4478ed1c09160b20f3b48e360228c96433f075769b0d81448873793d00c2539a138b224bcc02b950ac96e02071c5ea241714c0c29710f10a3921345fe27623ddd4ae3b02d80cc6087940ec73178b8201a0780ab97db91104b6dac8341527234e6930413c7c2f540c196205d01c7a1b722b19a0b341ccd2781f9d5caf827a10d2a131ae4dc5a7b8e5da08140e89e34581546328c7b3dc4d34085190362bcc6104d0398d50b048070543bd00\n"
          ]
        }
      ]
    },
    {
      "cell_type": "markdown",
      "source": [
        "# Crypt > Compress w Huffman > Stego"
      ],
      "metadata": {
        "id": "7-BoCXuqplfm"
      }
    },
    {
      "cell_type": "code",
      "source": [
        "import heapq\n",
        "from collections import Counter\n",
        "\n",
        "# Class for Huffman Tree Nodes\n",
        "class HuffmanNode:\n",
        "    def __init__(self, char=None, freq=0, left=None, right=None):\n",
        "        self.char = char\n",
        "        self.freq = freq\n",
        "        self.left = left\n",
        "        self.right = right\n",
        "\n",
        "    def __lt__(self, other):\n",
        "        return self.freq < other.freq\n",
        "\n",
        "# Function to build the Huffman Tree\n",
        "def build_huffman_tree(frequency):\n",
        "    heap = [HuffmanNode(char, freq) for char, freq in frequency.items()]\n",
        "    heapq.heapify(heap)\n",
        "\n",
        "    while len(heap) > 1:\n",
        "        node1 = heapq.heappop(heap)\n",
        "        node2 = heapq.heappop(heap)\n",
        "        merged = HuffmanNode(freq=node1.freq + node2.freq, left=node1, right=node2)\n",
        "        heapq.heappush(heap, merged)\n",
        "\n",
        "    return heap[0]  # Return the root of the tree\n",
        "\n",
        "# Function to generate Huffman codes from the Huffman Tree\n",
        "def generate_huffman_codes(node, current_code=\"\", huffman_codes={}):\n",
        "    if node is None:\n",
        "        return\n",
        "\n",
        "    if node.char is not None:\n",
        "        huffman_codes[node.char] = current_code\n",
        "\n",
        "    generate_huffman_codes(node.left, current_code + \"0\", huffman_codes)\n",
        "    generate_huffman_codes(node.right, current_code + \"1\", huffman_codes)\n",
        "\n",
        "    return huffman_codes\n",
        "\n",
        "# Function to compress the data using Huffman Encoding\n",
        "def huffman_compress(data):\n",
        "    # Count the frequency of each byte\n",
        "    frequency = Counter(data)\n",
        "\n",
        "    # Build Huffman Tree\n",
        "    huffman_tree = build_huffman_tree(frequency)\n",
        "\n",
        "    # Generate Huffman Codes\n",
        "    huffman_codes = generate_huffman_codes(huffman_tree)\n",
        "\n",
        "    # Encode data into its binary representation\n",
        "    encoded_data = \"\".join(huffman_codes[byte] for byte in data)\n",
        "\n",
        "    # Pad the encoded data to make its length a multiple of 8\n",
        "    padding = 8 - len(encoded_data) % 8\n",
        "    encoded_data += \"0\" * padding\n",
        "    padding_info = \"{0:08b}\".format(padding)\n",
        "\n",
        "    # Convert binary data to bytes\n",
        "    compressed_data = bytearray()\n",
        "    compressed_data.append(int(padding_info, 2))  # First byte stores the padding information\n",
        "    for i in range(0, len(encoded_data), 8):\n",
        "        byte = encoded_data[i:i+8]\n",
        "        compressed_data.append(int(byte, 2))\n",
        "\n",
        "    return compressed_data, huffman_tree\n",
        "\n",
        "# Function to decompress the data using Huffman Encoding\n",
        "def huffman_decompress(compressed_data, huffman_tree):\n",
        "    # Convert the compressed data to binary string\n",
        "    encoded_data = \"\"\n",
        "    for byte in compressed_data[1:]:\n",
        "        encoded_data += \"{0:08b}\".format(byte)\n",
        "\n",
        "    # Get the padding information from the first byte\n",
        "    padding = compressed_data[0]\n",
        "    encoded_data = encoded_data[:-padding]  # Remove padding\n",
        "\n",
        "    # Traverse the Huffman tree to decode the binary string\n",
        "    decoded_data = bytearray()\n",
        "    node = huffman_tree\n",
        "    for bit in encoded_data:\n",
        "        if bit == \"0\":\n",
        "            node = node.left\n",
        "        else:\n",
        "            node = node.right\n",
        "\n",
        "        if node.left is None and node.right is None:  # Leaf node\n",
        "            decoded_data.append(node.char)\n",
        "            node = huffman_tree\n",
        "\n",
        "    return decoded_data\n",
        "\n",
        "\n",
        "# Example Usage of Huffman Compression/Decompression\n",
        "\n",
        "# Step 1: The original plaintext data (as a byte string)\n",
        "plaintext = b\"this is an example of huffman encoding\"\n",
        "\n",
        "# Print the original data\n",
        "print(\"Original Data (as bytes):\", plaintext)\n",
        "print(\"Original Data (as string):\", plaintext.decode())\n",
        "\n",
        "# Step 2: Compress the plaintext data using Huffman encoding\n",
        "compressed_data, huffman_tree = huffman_compress(plaintext)\n",
        "print(\"Compressed Data (in bytes):\", compressed_data)\n",
        "\n",
        "# Step 3: Decompress the compressed data back to the original plaintext\n",
        "decompressed_data = huffman_decompress(compressed_data, huffman_tree)\n",
        "print(\"Decompressed Data (as bytes):\", decompressed_data)\n",
        "print(\"Decompressed Data (as string):\", decompressed_data.decode())\n",
        "\n",
        "# Step 4: Verify that the decompressed data matches the original data\n",
        "if decompressed_data == plaintext:\n",
        "    print(\"Decompression was successful!\")\n",
        "else:\n",
        "    print(\"Decompression failed.\")\n"
      ],
      "metadata": {
        "id": "r0hWj5lrpox0",
        "colab": {
          "base_uri": "https://localhost:8080/"
        },
        "outputId": "d0f590a6-f76c-4e16-8a95-1431dcc4d063"
      },
      "execution_count": 71,
      "outputs": [
        {
          "output_type": "stream",
          "name": "stdout",
          "text": [
            "Original Data (as bytes): b'this is an example of huffman encoding'\n",
            "Original Data (as string): this is an example of huffman encoding\n",
            "Compressed Data (in bytes): bytearray(b'\\x02p\\xf4\\xee\\x9d\\xe7Z\\xfc\\x1e\\xdb\\xc9XYT\\x1eu\\x98\\xa48\\xa8')\n",
            "Decompressed Data (as bytes): bytearray(b'this is an example of huffman encoding')\n",
            "Decompressed Data (as string): this is an example of huffman encoding\n",
            "Decompression was successful!\n"
          ]
        }
      ]
    },
    {
      "cell_type": "code",
      "source": [
        "import sys\n",
        "import heapq\n",
        "from collections import Counter\n",
        "\n",
        "# Class for Huffman Tree Nodes\n",
        "class HuffmanNode:\n",
        "    def __init__(self, char=None, freq=0, left=None, right=None):\n",
        "        self.char = char\n",
        "        self.freq = freq\n",
        "        self.left = left\n",
        "        self.right = right\n",
        "\n",
        "    def __lt__(self, other):\n",
        "        return self.freq < other.freq\n",
        "\n",
        "# Function to build the Huffman Tree\n",
        "def build_huffman_tree(frequency):\n",
        "    heap = [HuffmanNode(char, freq) for char, freq in frequency.items()]\n",
        "    heapq.heapify(heap)\n",
        "\n",
        "    while len(heap) > 1:\n",
        "        node1 = heapq.heappop(heap)\n",
        "        node2 = heapq.heappop(heap)\n",
        "        merged = HuffmanNode(freq=node1.freq + node2.freq, left=node1, right=node2)\n",
        "        heapq.heappush(heap, merged)\n",
        "\n",
        "    return heap[0]  # Return the root of the tree\n",
        "\n",
        "# Function to generate Huffman codes from the Huffman Tree\n",
        "def generate_huffman_codes(node, current_code=\"\", huffman_codes={}):\n",
        "    if node is None:\n",
        "        return\n",
        "\n",
        "    if node.char is not None:\n",
        "        huffman_codes[node.char] = current_code\n",
        "\n",
        "    generate_huffman_codes(node.left, current_code + \"0\", huffman_codes)\n",
        "    generate_huffman_codes(node.right, current_code + \"1\", huffman_codes)\n",
        "\n",
        "    return huffman_codes\n",
        "\n",
        "# Function to compress the data using Huffman Encoding\n",
        "def huffman_compress(data):\n",
        "    # Count the frequency of each byte\n",
        "    frequency = Counter(data)\n",
        "\n",
        "    # Build Huffman Tree\n",
        "    huffman_tree = build_huffman_tree(frequency)\n",
        "\n",
        "    # Generate Huffman Codes\n",
        "    huffman_codes = generate_huffman_codes(huffman_tree)\n",
        "\n",
        "    # Encode data into its binary representation\n",
        "    encoded_data = \"\".join(huffman_codes[byte] for byte in data)\n",
        "\n",
        "    # Pad the encoded data to make its length a multiple of 8\n",
        "    padding = 8 - len(encoded_data) % 8\n",
        "    encoded_data += \"0\" * padding\n",
        "    padding_info = \"{0:08b}\".format(padding)\n",
        "\n",
        "    # Convert binary data to bytes\n",
        "    compressed_data = bytearray()\n",
        "    compressed_data.append(int(padding_info, 2))  # First byte stores the padding information\n",
        "    for i in range(0, len(encoded_data), 8):\n",
        "        byte = encoded_data[i:i+8]\n",
        "        compressed_data.append(int(byte, 2))\n",
        "\n",
        "    return compressed_data, huffman_tree\n",
        "\n",
        "# Function to decompress the data using Huffman Encoding\n",
        "def huffman_decompress(compressed_data, huffman_tree):\n",
        "    # Convert the compressed data to binary string\n",
        "    encoded_data = \"\"\n",
        "    for byte in compressed_data[1:]:\n",
        "        encoded_data += \"{0:08b}\".format(byte)\n",
        "\n",
        "    # Get the padding information from the first byte\n",
        "    padding = compressed_data[0]\n",
        "    encoded_data = encoded_data[:-padding]  # Remove padding\n",
        "\n",
        "    # Traverse the Huffman tree to decode the binary string\n",
        "    decoded_data = bytearray()\n",
        "    node = huffman_tree\n",
        "    for bit in encoded_data:\n",
        "        if bit == \"0\":\n",
        "            node = node.left\n",
        "        else:\n",
        "            node = node.right\n",
        "\n",
        "        if node.left is None and node.right is None:  # Leaf node\n",
        "            decoded_data.append(node.char)\n",
        "            node = huffman_tree\n",
        "\n",
        "    return decoded_data\n",
        "\n",
        "\n",
        "# Example Usage of Huffman Compression/Decompression\n",
        "\n",
        "# Step 1: The original plaintext data (as a byte string)\n",
        "plaintext = b\"this is an example of huffman encoding\"\n",
        "\n",
        "# Print the original data\n",
        "print(\"Original Data (as bytes):\", plaintext)\n",
        "print(\"Original Data (as string):\", plaintext.decode())\n",
        "print(f\"Size of Original Data: {sys.getsizeof(plaintext)} bytes\")\n",
        "\n",
        "# Step 2: Compress the plaintext data using Huffman encoding\n",
        "compressed_data, huffman_tree = huffman_compress(plaintext)\n",
        "print(\"Compressed Data (in bytes):\", compressed_data)\n",
        "print(f\"Size of Compressed Data: {sys.getsizeof(compressed_data)} bytes\")\n",
        "\n",
        "# Step 3: Decompress the compressed data back to the original plaintext\n",
        "decompressed_data = huffman_decompress(compressed_data, huffman_tree)\n",
        "print(\"Decompressed Data (as bytes):\", decompressed_data)\n",
        "print(\"Decompressed Data (as string):\", decompressed_data.decode())\n",
        "print(f\"Size of Decompressed Data: {sys.getsizeof(decompressed_data)} bytes\")\n",
        "\n",
        "# Step 4: Verify that the decompressed data matches the original data\n",
        "if decompressed_data == plaintext:\n",
        "    print(\"Decompression was successful!\")\n",
        "else:\n",
        "    print(\"Decompression failed.\")\n"
      ],
      "metadata": {
        "id": "JN3C2u23r1Yj",
        "colab": {
          "base_uri": "https://localhost:8080/"
        },
        "outputId": "f929a506-795a-40fb-8e32-9b0a289261f2"
      },
      "execution_count": 72,
      "outputs": [
        {
          "output_type": "stream",
          "name": "stdout",
          "text": [
            "Original Data (as bytes): b'this is an example of huffman encoding'\n",
            "Original Data (as string): this is an example of huffman encoding\n",
            "Size of Original Data: 71 bytes\n",
            "Compressed Data (in bytes): bytearray(b'\\x02p\\xf4\\xee\\x9d\\xe7Z\\xfc\\x1e\\xdb\\xc9XYT\\x1eu\\x98\\xa48\\xa8')\n",
            "Size of Compressed Data: 83 bytes\n",
            "Decompressed Data (as bytes): bytearray(b'this is an example of huffman encoding')\n",
            "Decompressed Data (as string): this is an example of huffman encoding\n",
            "Size of Decompressed Data: 102 bytes\n",
            "Decompression was successful!\n"
          ]
        }
      ]
    },
    {
      "cell_type": "code",
      "source": [
        "import numpy as np\n",
        "import cv2\n",
        "from ecies import encrypt, decrypt\n",
        "from ecies.utils import generate_eth_key\n",
        "import math\n",
        "\n",
        "# Function for Huffman compression (assuming implementation is already available)\n",
        "def compress_huffman(data):\n",
        "    compressed_data, huffman_tree = huffman_compress(data)\n",
        "    return compressed_data, huffman_tree\n",
        "\n",
        "# Function for Huffman decompression (assuming implementation is already available)\n",
        "def decompress_huffman(compressed_data, huffman_tree):\n",
        "    decompressed_data = huffman_decompress(compressed_data, huffman_tree)\n",
        "    return decompressed_data\n",
        "\n",
        "# Encryption function\n",
        "def encrypt_data(plaintext, public_key):\n",
        "    encrypted_data = encrypt(public_key, plaintext)\n",
        "    print(f\"Encrypted Data (hex): {encrypted_data.hex()}\")\n",
        "    return encrypted_data\n",
        "\n",
        "# Decryption function\n",
        "def decrypt_data(decrypted_data, private_key):\n",
        "    decrypted_data = decrypt(private_key, decrypted_data)\n",
        "    print(f\"Decrypted Data (hex): {decrypted_data.hex()}\")\n",
        "    return decrypted_data\n",
        "\n",
        "# Compression function\n",
        "def compress_data(encrypted_data):\n",
        "    compressed_data, huffman_tree = compress_huffman(encrypted_data)\n",
        "    print(f\"Compressed Data (hex): {compressed_data.hex()}\")\n",
        "    return compressed_data, huffman_tree\n",
        "\n",
        "# Decompression function\n",
        "def decompress_data(compressed_data, huffman_tree):\n",
        "    decompressed_data = decompress_huffman(compressed_data, huffman_tree)\n",
        "    print(f\"Decompressed Data (hex): {decompressed_data.hex()}\")\n",
        "    return decompressed_data\n",
        "\n",
        "# Steganography encoding function\n",
        "def stego_encode_image(original_image, output_image, data_to_hide):\n",
        "    steg = LSBSteg(cv2.imread(original_image))\n",
        "    steg.encode_text(data_to_hide)\n",
        "    cv2.imwrite(output_image, steg.image)\n",
        "    print(f\"Data hidden in image: {data_to_hide}\")\n",
        "\n",
        "# Steganography decoding function\n",
        "def stego_decode_image(stego_image):\n",
        "    steg = LSBSteg(cv2.imread(stego_image))\n",
        "    extracted_data = steg.decode_text()\n",
        "    print(f\"Extracted Data from Image: {extracted_data}\")\n",
        "    return extracted_data\n",
        "\n",
        "# Function to calculate PSNR between original and stego images\n",
        "def calculate_psnr(original_image_path, stego_image_path):\n",
        "    original = cv2.imread(original_image_path)\n",
        "    stego = cv2.imread(stego_image_path)\n",
        "\n",
        "    mse = np.mean((original - stego) ** 2)\n",
        "    if mse == 0:  # Images are identical\n",
        "        return float('inf')\n",
        "\n",
        "    max_pixel_value = 255.0\n",
        "    psnr = 10 * math.log10((max_pixel_value ** 2) / mse)\n",
        "    return psnr\n",
        "\n",
        "# Example usage\n",
        "original_image = 'lena_downloaded.png'\n",
        "output_image = 'my_new_image.png'\n",
        "plaintext = b\"3348610401970005#christofer*derian*budianto#tegal#1997-03-04#laki-laki#b#jl.*pala*22*no.*30#005#017#mejasem*tengah#kramat#katholik#belum*kawin#pelajar/mahasiswa#wni#seumur*hidup\"\n",
        "\n",
        "# Step 1: Generate ECC key pair for encryption and decryption\n",
        "private_key = generate_eth_key()\n",
        "public_key = private_key.public_key\n",
        "\n",
        "# Step 2: Convert the public key to a usable format\n",
        "public_key_hex = public_key.to_hex()\n",
        "private_key_hex = private_key.to_hex()\n",
        "\n",
        "# # Encryption step\n",
        "# encrypted_data = encrypt_data(plaintext, public_key_hex)\n",
        "\n",
        "# # Compression step\n",
        "# compressed_data, huffman_tree = compress_data(encrypted_data)\n",
        "\n",
        "#\n",
        "\n",
        "encrypted_data = encrypt(public_key_hex, plaintext)\n",
        "print(encrypted_data.hex())\n",
        "print(type(encrypted_data))\n",
        "\n",
        "compressed_data, huffman_tree = compress_huffman(encrypted_data)\n",
        "# print(compressed_data.hex())\n",
        "\n",
        "decompressed_data = decompress_huffman(compressed_data, huffman_tree)\n",
        "# print(decompressed_data.hex())\n",
        "\n",
        "decompressed_data = bytes(decompressed_data)\n",
        "\n",
        "\n",
        "print(decompressed_data.hex())\n",
        "print(type(decompressed_data))\n",
        "\n",
        "decrypted_data = decrypt(private_key_hex, decompressed_data)\n",
        "print(decrypted_data.decode())\n",
        "\n",
        "#\n",
        "\n",
        "# Steganography encoding step\n",
        "# stego_encode_image(original_image, output_image, compressed_data.hex())\n",
        "\n",
        "# # Steganography decoding step\n",
        "# extracted_data_hex = stego_decode_image(output_image)\n",
        "# compressed_data_extracted = bytes.fromhex(extracted_data_hex)\n",
        "\n",
        "# # Decompression step\n",
        "# decompressed_data = decompress_data(compressed_data_extracted, huffman_tree)\n",
        "\n",
        "# # Decryption step\n",
        "# decrypted_message = decrypt_data(decompressed_data, private_key_hex)\n",
        "# print(f\"Decrypted Message: {decrypted_message.decode('utf-8')}\")\n",
        "\n",
        "# # PSNR calculation\n",
        "# psnr_value = calculate_psnr(original_image, output_image)\n",
        "# print(f\"PSNR value between the original and stego image: {psnr_value} dB\")\n"
      ],
      "metadata": {
        "id": "A-MCOPFmqGo-",
        "colab": {
          "base_uri": "https://localhost:8080/"
        },
        "outputId": "432d4bb4-78b7-4d70-fec2-955e53f8f7b7"
      },
      "execution_count": 73,
      "outputs": [
        {
          "output_type": "stream",
          "name": "stdout",
          "text": [
            "04b4ea99cf7e83142340e9d1ff3d7f7d7a94574420bd77d3b423d4b1285622805e6bc93d19837393b767f3706127ae085ac59650ae174b9e74624cd4b9cdaf4f866669a7f93d3d0e377662043c1ab8d0b12a8d7b662bb2ec9f6bb8643ca9c9638a79757914ce87b24769f4bf6139da06d6e6d258e34eb1a4f9e69795c63fd906ddc243a44e5b52358772c2b87c8081eebafc0f8eff36e99e689fd0e07f716fa260ffc3e4b0ace75425b31cd4b1ec2dba2466a2b1a4ad2d312642c72efd5453b40961fff2538a3122c4622102ab6b08585ddad3658c10022cc135005bb30a5faf89839d30981a2eb604d3faf03cfea2d7d7ef0836e97c5b240ced543b30781ffe3537fc821c9d83b763bfb1f854e49091a087\n",
            "<class 'bytes'>\n",
            "04b4ea99cf7e83142340e9d1ff3d7f7d7a94574420bd77d3b423d4b1285622805e6bc93d19837393b767f3706127ae085ac59650ae174b9e74624cd4b9cdaf4f866669a7f93d3d0e377662043c1ab8d0b12a8d7b662bb2ec9f6bb8643ca9c9638a79757914ce87b24769f4bf6139da06d6e6d258e34eb1a4f9e69795c63fd906ddc243a44e5b52358772c2b87c8081eebafc0f8eff36e99e689fd0e07f716fa260ffc3e4b0ace75425b31cd4b1ec2dba2466a2b1a4ad2d312642c72efd5453b40961fff2538a3122c4622102ab6b08585ddad3658c10022cc135005bb30a5faf89839d30981a2eb604d3faf03cfea2d7d7ef0836e97c5b240ced543b30781ffe3537fc821c9d83b763bfb1f854e49091a087\n",
            "<class 'bytes'>\n",
            "3348610401970005#christofer*derian*budianto#tegal#1997-03-04#laki-laki#b#jl.*pala*22*no.*30#005#017#mejasem*tengah#kramat#katholik#belum*kawin#pelajar/mahasiswa#wni#seumur*hidup\n"
          ]
        }
      ]
    },
    {
      "cell_type": "code",
      "source": [
        "import numpy as np\n",
        "import cv2\n",
        "from ecies import encrypt, decrypt\n",
        "from ecies.utils import generate_eth_key\n",
        "import math\n",
        "\n",
        "# Function for Huffman compression (Assuming already implemented)\n",
        "def compress_huffman(data):\n",
        "    compressed_data, huffman_tree = huffman_compress(data)\n",
        "    return compressed_data, huffman_tree\n",
        "\n",
        "# Function for Huffman decompression (Assuming already implemented)\n",
        "def decompress_huffman(compressed_data, huffman_tree):\n",
        "    decompressed_data = huffman_decompress(compressed_data, huffman_tree)\n",
        "    return decompressed_data\n",
        "\n",
        "# Encryption -> Compression -> Steganography (Hiding Data in Image)\n",
        "def encrypt_compress_stego(original_image, output_image, plaintext, public_key):\n",
        "    # Step 1: Encrypt the plaintext\n",
        "    encrypted_data = encrypt(public_key, plaintext)\n",
        "    print(f\"Encrypted Data (hex): {encrypted_data.hex()}\")  # Debugging the encrypted data\n",
        "\n",
        "    # Step 2: Compress the encrypted data using Huffman Encoding\n",
        "    compressed_data, huffman_tree = compress_huffman(encrypted_data)\n",
        "    print(f\"Compressed Data (hex): {compressed_data.hex()}\")  # Debugging the compressed data\n",
        "\n",
        "    # Step 3: Convert the compressed data to hexadecimal for steganography\n",
        "    compressed_hex = compressed_data.hex()\n",
        "\n",
        "    # Step 4: Hide the compressed hex data in the image using steganography\n",
        "    steg = LSBSteg(cv2.imread(original_image))\n",
        "    img_encoded = steg.encode_text(compressed_hex)\n",
        "    cv2.imwrite(output_image, img_encoded)\n",
        "\n",
        "    return compressed_hex, huffman_tree\n",
        "\n",
        "# Steganography -> Decompression -> Decryption (Extract and Reveal Original Message)\n",
        "def stego_decompress_decrypt(stego_image, private_key, huffman_tree):\n",
        "    # Step 1: Extract the hidden hex compressed data from the image\n",
        "    steg = LSBSteg(cv2.imread(stego_image))\n",
        "    extracted_hex = steg.decode_text()\n",
        "    print(f\"Extracted Hex Data: {extracted_hex}\")  # Debugging the extracted hex data\n",
        "\n",
        "    # Step 2: Convert hex back to bytes\n",
        "    compressed_data = bytes.fromhex(extracted_hex)\n",
        "    print(f\"Compressed Data (from extracted hex): {compressed_data.hex()}\")  # Debugging the compressed data\n",
        "\n",
        "    # Step 3: Decompress the extracted data using Huffman Encoding\n",
        "    decompressed_data = decompress_huffman(compressed_data, huffman_tree)\n",
        "    print(f\"Decompressed Data (hex): {decompressed_data.hex()}\")  # Debugging the decompressed data\n",
        "\n",
        "    decompressed_data = bytes(decompressed_data)\n",
        "\n",
        "    # Step 4: Decrypt the decompressed data\n",
        "    decrypted_data = decrypt(private_key, decompressed_data)  # Use decompressed bytes directly\n",
        "    print(f\"Decrypted Data (hex): {decrypted_data.hex()}\")  # Debugging the decrypted data\n",
        "\n",
        "    return decrypted_data.decode('utf-8')\n",
        "\n",
        "# Function to calculate PSNR between original and stego images\n",
        "def calculate_psnr(original_image_path, stego_image_path):\n",
        "    original = cv2.imread(original_image_path)\n",
        "    stego = cv2.imread(stego_image_path)\n",
        "\n",
        "    # Calculate MSE (Mean Squared Error)\n",
        "    mse = np.mean((original - stego) ** 2)\n",
        "    if mse == 0:  # Images are identical\n",
        "        return float('inf')\n",
        "\n",
        "    # Calculate PSNR\n",
        "    max_pixel_value = 255.0\n",
        "    psnr = 10 * math.log10((max_pixel_value ** 2) / mse)\n",
        "    return psnr\n",
        "\n",
        "# Example Usage\n",
        "original_image = 'lena_downloaded.png'\n",
        "output_image = 'my_new_image.png'\n",
        "plaintext = b\"3348610401970005#christofer*derian*budianto#tegal#1997-03-04#laki-laki#b#jl.*pala*22*no.*30#005#017#mejasem*tengah#kramat#katholik#belum*kawin#pelajar/mahasiswa#wni#seumur*hidup\"\n",
        "\n",
        "# Step 1: Generate ECC key pair for encryption and decryption\n",
        "private_key = generate_eth_key()\n",
        "public_key = private_key.public_key\n",
        "private_key_hex = private_key.to_hex()\n",
        "\n",
        "# Step 2: Encryption -> Compression -> Steganography\n",
        "compressed_hex, huffman_tree = encrypt_compress_stego(original_image, output_image, plaintext, public_key.to_hex())\n",
        "print(f\"Compressed Data in Hex: {compressed_hex}\")\n",
        "\n",
        "# Step 3: Decrypt and Extract the Message\n",
        "decrypted_message = stego_decompress_decrypt(output_image, private_key_hex, huffman_tree)\n",
        "print(f\"Decrypted Message: {decrypted_message}\")\n",
        "\n",
        "# Step 4: Calculate and Print PSNR between the original and stego images\n",
        "psnr_value = calculate_psnr(original_image, output_image)\n",
        "print(f\"PSNR value between the original and stego image: {psnr_value} dB\")\n"
      ],
      "metadata": {
        "id": "zXR_nbqa3As_",
        "colab": {
          "base_uri": "https://localhost:8080/"
        },
        "outputId": "a2d4f1f7-0fb2-4184-dbc3-f17aa253508e"
      },
      "execution_count": 84,
      "outputs": [
        {
          "output_type": "stream",
          "name": "stdout",
          "text": [
            "Encrypted Data (hex): 04388158aeeb9104c083271160fcad0e59081586f9a47ed0ded166b1bd3725225a240ea27aa816ebe5e4e74719e6107742a18b8dcb859f3be675165e2fb0933311314e90c3a86fcf0300fd25ccfc44bf620911791a30c123ce588603690fef813ee85cfb188740242f9b6bb2fade024883c7788131985d4aa92cf7a8872132e7349d13ec67166be2c9007a82214d51b627051be7007bba223ac569b2def802183535ff618646883e3397bded8789e8e91d610f4215d65ea37b0383b859856873be647e71e86df0542a949360b9c25c8ee9c802e1cefc38e84e5edbd9a941528cd500edd69e345d86e162308a29ca788d8455ce6e413684654c1f0490ab789b80f86e208719d2aaf07560121527821983242e\n",
            "Compressed Data (hex): 06dd537847b4467b83e5e5ffb7580a2fc3bc2d5caef1ebb85c943942b3b432fed1125defd22ab1ce17dce9aadea8214fb2df1491b69b0f5d209ace41fcb5ba46fed36d3e68f875cfae3b4e6c8fe0c2d84571b8845be32035fbcb9f3d0c8eaa9f60e08f1af3bf920953bf6f2ccf61ba40512fbd6249f0acd8eae90dea3b1c2e8baec48434b9e57055c349885426e69946ee73c911830c8c2c6db05d05a940daaf9ee178c0151e1af4d999f25da7f15304dc841e651ed19c9f246a776db079e2ee1f7c8fe3d6a1f6fa2408c85229543ba066b8b5ac2c3f361c46626fd65d8df146a6fdd8282316ea403fb0001c4697af3814acec3b2b78e5779cbf5240\n",
            "Compressed Data in Hex: 06dd537847b4467b83e5e5ffb7580a2fc3bc2d5caef1ebb85c943942b3b432fed1125defd22ab1ce17dce9aadea8214fb2df1491b69b0f5d209ace41fcb5ba46fed36d3e68f875cfae3b4e6c8fe0c2d84571b8845be32035fbcb9f3d0c8eaa9f60e08f1af3bf920953bf6f2ccf61ba40512fbd6249f0acd8eae90dea3b1c2e8baec48434b9e57055c349885426e69946ee73c911830c8c2c6db05d05a940daaf9ee178c0151e1af4d999f25da7f15304dc841e651ed19c9f246a776db079e2ee1f7c8fe3d6a1f6fa2408c85229543ba066b8b5ac2c3f361c46626fd65d8df146a6fdd8282316ea403fb0001c4697af3814acec3b2b78e5779cbf5240\n",
            "Extracted Hex Data: 06dd537847b4467b83e5e5ffb7580a2fc3bc2d5caef1ebb85c943942b3b432fed1125defd22ab1ce17dce9aadea8214fb2df1491b69b0f5d209ace41fcb5ba46fed36d3e68f875cfae3b4e6c8fe0c2d84571b8845be32035fbcb9f3d0c8eaa9f60e08f1af3bf920953bf6f2ccf61ba40512fbd6249f0acd8eae90dea3b1c2e8baec48434b9e57055c349885426e69946ee73c911830c8c2c6db05d05a940daaf9ee178c0151e1af4d999f25da7f15304dc841e651ed19c9f246a776db079e2ee1f7c8fe3d6a1f6fa2408c85229543ba066b8b5ac2c3f361c46626fd65d8df146a6fdd8282316ea403fb0001c4697af3814acec3b2b78e5779cbf5240\n",
            "Compressed Data (from extracted hex): 06dd537847b4467b83e5e5ffb7580a2fc3bc2d5caef1ebb85c943942b3b432fed1125defd22ab1ce17dce9aadea8214fb2df1491b69b0f5d209ace41fcb5ba46fed36d3e68f875cfae3b4e6c8fe0c2d84571b8845be32035fbcb9f3d0c8eaa9f60e08f1af3bf920953bf6f2ccf61ba40512fbd6249f0acd8eae90dea3b1c2e8baec48434b9e57055c349885426e69946ee73c911830c8c2c6db05d05a940daaf9ee178c0151e1af4d999f25da7f15304dc841e651ed19c9f246a776db079e2ee1f7c8fe3d6a1f6fa2408c85229543ba066b8b5ac2c3f361c46626fd65d8df146a6fdd8282316ea403fb0001c4697af3814acec3b2b78e5779cbf5240\n",
            "Decompressed Data (hex): 04388158aeeb9104c083271160fcad0e59081586f9a47ed0ded166b1bd3725225a240ea27aa816ebe5e4e74719e6107742a18b8dcb859f3be675165e2fb0933311314e90c3a86fcf0300fd25ccfc44bf620911791a30c123ce588603690fef813ee85cfb188740242f9b6bb2fade024883c7788131985d4aa92cf7a8872132e7349d13ec67166be2c9007a82214d51b627051be7007bba223ac569b2def802183535ff618646883e3397bded8789e8e91d610f4215d65ea37b0383b859856873be647e71e86df0542a949360b9c25c8ee9c802e1cefc38e84e5edbd9a941528cd500edd69e345d86e162308a29ca788d8455ce6e413684654c1f0490ab789b80f86e208719d2aaf07560121527821983242e\n",
            "Decrypted Data (hex): 33333438363130343031393730303035236368726973746f6665722a64657269616e2a62756469616e746f23746567616c23313939372d30332d3034236c616b692d6c616b692362236a6c2e2a70616c612a32322a6e6f2e2a33302330303523303137236d656a6173656d2a74656e676168236b72616d6174236b6174686f6c696b2362656c756d2a6b6177696e2370656c616a61722f6d616861736973776123776e69237365756d75722a6869647570\n",
            "Decrypted Message: 3348610401970005#christofer*derian*budianto#tegal#1997-03-04#laki-laki#b#jl.*pala*22*no.*30#005#017#mejasem*tengah#kramat#katholik#belum*kawin#pelajar/mahasiswa#wni#seumur*hidup\n",
            "PSNR value between the original and stego image: 74.0489776265058 dB\n"
          ]
        }
      ]
    },
    {
      "cell_type": "code",
      "source": [
        "read_stego()"
      ],
      "metadata": {
        "id": "L7d2FwM5t_IC",
        "colab": {
          "base_uri": "https://localhost:8080/"
        },
        "outputId": "5350c694-20c2-43d1-c3a7-8ed9c85fbb9e"
      },
      "execution_count": 80,
      "outputs": [
        {
          "output_type": "stream",
          "name": "stdout",
          "text": [
            "02fb1ff80936c00c8fe7760fdbe26e16cdc03ceec74f2886046ab8acfd21f9fe98d1ff1f54a28936d6c0572a65ecbc58cbcf178369b5f380d1f8c4135a235992da873bd8cfed54dd3b99d8e5631ee0d202cb3be49e6c2998731cae414e2539ab4d2b232154fb454d16da1da7f332562bac31bd23570a53d3421d096be6c9c9bd1765f579696470b89a9e9e047fafec0ea0807aeb1fb0bf9f962f00b3919bc3d528b30e8f79efc047a41e1bd0a24bc7b3fcd29222f6323f5f793e394a8a3781926be1c9d4c1d7f302798e9adbb50b04e346190799ee8a4e7549d773dfb83fd640aeeb3250b6261ae2e4a60b66ea89e2cb0e64d06f9ee9fadebdc0\n"
          ]
        }
      ]
    },
    {
      "cell_type": "markdown",
      "source": [
        "## Crypt > Compress w Run length > Stego"
      ],
      "metadata": {
        "id": "vLGfU8nmM0tp"
      }
    },
    {
      "cell_type": "code",
      "source": [
        "import numpy as np\n",
        "import cv2\n",
        "from ecies import encrypt, decrypt\n",
        "from ecies.utils import generate_eth_key\n",
        "import math\n",
        "\n",
        "# Run Length Encoding Compression\n",
        "def rle_compress(data):\n",
        "    compressed = bytearray()\n",
        "    count = 1\n",
        "\n",
        "    for i in range(1, len(data)):\n",
        "        if data[i] == data[i - 1] and count < 255:\n",
        "            count += 1\n",
        "        else:\n",
        "            compressed.append(count)\n",
        "            compressed.append(data[i - 1])\n",
        "            count = 1\n",
        "\n",
        "    # Append the last run\n",
        "    compressed.append(count)\n",
        "    compressed.append(data[-1])\n",
        "\n",
        "    return compressed\n",
        "\n",
        "# Run Length Encoding Decompression\n",
        "def rle_decompress(compressed_data):\n",
        "    decompressed = bytearray()\n",
        "    for i in range(0, len(compressed_data), 2):\n",
        "        count = compressed_data[i]\n",
        "        value = compressed_data[i + 1]\n",
        "        decompressed.extend([value] * count)\n",
        "    return decompressed\n",
        "\n",
        "# Encryption -> Compression -> Steganography (Hiding Data in Image)\n",
        "def encrypt_compress_stego(original_image, output_image, plaintext, public_key):\n",
        "    # Step 1: Encrypt the plaintext\n",
        "    encrypted_data = encrypt(public_key, plaintext)\n",
        "    print(f\"Encrypted Data (hex): {encrypted_data.hex()}\")  # Debugging the encrypted data\n",
        "\n",
        "    # Step 2: Compress the encrypted data using Run Length Encoding (RLE)\n",
        "    compressed_data = rle_compress(encrypted_data)\n",
        "    print(f\"Compressed Data (hex): {compressed_data.hex()}\")  # Debugging the compressed data\n",
        "\n",
        "    # Step 3: Convert the compressed data to hexadecimal for steganography\n",
        "    compressed_hex = compressed_data.hex()\n",
        "\n",
        "    # Step 4: Hide the compressed hex data in the image using steganography\n",
        "    steg = LSBSteg(cv2.imread(original_image))\n",
        "    img_encoded = steg.encode_text(compressed_hex)\n",
        "    cv2.imwrite(output_image, img_encoded)\n",
        "\n",
        "    return compressed_hex\n",
        "\n",
        "# Steganography -> Decompression -> Decryption (Extract and Reveal Original Message)\n",
        "def stego_decompress_decrypt(stego_image, private_key):\n",
        "    # Step 1: Extract the hidden hex compressed data from the image\n",
        "    steg = LSBSteg(cv2.imread(stego_image))\n",
        "    extracted_hex = steg.decode_text()\n",
        "    print(f\"Extracted Hex Data: {extracted_hex}\")  # Debugging the extracted hex data\n",
        "\n",
        "    # Step 2: Convert hex back to bytes\n",
        "    compressed_data = bytes.fromhex(extracted_hex)\n",
        "    print(f\"Compressed Data (from extracted hex): {compressed_data.hex()}\")  # Debugging the compressed data\n",
        "\n",
        "    # Step 3: Decompress the extracted data using RLE\n",
        "    decompressed_data = rle_decompress(compressed_data)\n",
        "    print(f\"Decompressed Data (hex): {decompressed_data.hex()}\")  # Debugging the decompressed data\n",
        "\n",
        "    decompressed_data = bytes(decompressed_data)\n",
        "\n",
        "    # Step 4: Decrypt the decompressed data\n",
        "    decrypted_data = decrypt(private_key, decompressed_data)  # Use decompressed bytes directly\n",
        "    print(f\"Decrypted Data (hex): {decrypted_data.hex()}\")  # Debugging the decrypted data\n",
        "\n",
        "    return decrypted_data.decode('utf-8')\n",
        "\n",
        "# Function to calculate PSNR between original and stego images\n",
        "def calculate_psnr(original_image_path, stego_image_path):\n",
        "    original = cv2.imread(original_image_path)\n",
        "    stego = cv2.imread(stego_image_path)\n",
        "\n",
        "    # Calculate MSE (Mean Squared Error)\n",
        "    mse = np.mean((original - stego) ** 2)\n",
        "    if mse == 0:  # Images are identical\n",
        "        return float('inf')\n",
        "\n",
        "    # Calculate PSNR\n",
        "    max_pixel_value = 255.0\n",
        "    psnr = 10 * math.log10((max_pixel_value ** 2) / mse)\n",
        "    return psnr\n",
        "\n",
        "# Example Usage\n",
        "original_image = 'lena_downloaded.png'\n",
        "output_image = 'my_new_image.png'\n",
        "plaintext = b\"3348610401970005#christofer*derian*budianto#tegal#1997-03-04#laki-laki#b#jl.*pala*22*no.*30#005#017#mejasem*tengah#kramat#katholik#belum*kawin#pelajar/mahasiswa#wni#seumur*hidup\"\n",
        "\n",
        "# Step 1: Generate ECC key pair for encryption and decryption\n",
        "private_key = generate_eth_key()\n",
        "public_key = private_key.public_key\n",
        "private_key_hex = private_key.to_hex()\n",
        "\n",
        "# Step 2: Encryption -> Compression -> Steganography\n",
        "compressed_hex = encrypt_compress_stego(original_image, output_image, plaintext, public_key.to_hex())\n",
        "print(f\"Compressed Data in Hex: {compressed_hex}\")\n",
        "\n",
        "# Step 3: Decrypt and Extract the Message\n",
        "decrypted_message = stego_decompress_decrypt(output_image, private_key_hex)\n",
        "print(f\"Decrypted Message: {decrypted_message}\")\n",
        "\n",
        "# Step 4: Calculate and Print PSNR between the original and stego images\n",
        "psnr_value = calculate_psnr(original_image, output_image)\n",
        "print(f\"PSNR value between the original and stego image: {psnr_value} dB\")"
      ],
      "metadata": {
        "id": "Qm2sOltWt6sr",
        "colab": {
          "base_uri": "https://localhost:8080/"
        },
        "outputId": "72224e8f-2cd6-4d76-d458-cfa5a884ecc6"
      },
      "execution_count": 82,
      "outputs": [
        {
          "output_type": "stream",
          "name": "stdout",
          "text": [
            "Encrypted Data (hex): 04669ce06858af0aa14981598b52ce3bce82f6066e308f5db1a013e6941a12d4289a4eca1123d657ab4c3e1e5db8215cd765358c20d6469ad67c313668e9a207c5f6f169754329585d5d100160ec3a6f5f2ac71baa6a37c6c49d2d2c68ed39b5d40f1b747a8713135ec4dbe2ce4a0fc3e1bedd30847b7a4e36ef6ea6c322b3559841bfcc08da36427d9fb5080fe4fa63b9dfd38055528ea67732d7485d7a014b0489430363ce80907820dd01ae1316a5cf8bcbb1a674777b0544e286aaaefc50f0aa539404aacd824f8d94e768f70eb19abc9a3264f8f0af092bf392a3fdbcd83d7b6253f27f192bb8b4d504c8483ef96ce8aabb8f6e65ab03fcc3a3ec08e0ed2c8a7e7e332add2648d5590e405a932c036d\n",
            "Compressed Data (hex): 01040166019c01e00168015801af010a01a1014901810159018b015201ce013b01ce018201f60106016e0130018f015d01b101a0011301e60194011a011201d40128019a014e01ca0111012301d6015701ab014c013e011e015d01b80121015c01d701650135018c012001d60146019a01d6017c01310136016801e901a2010701c501f601f101690175014301290158025d01100101016001ec013a016f015f012a01c7011b01aa016a013701c601c4019d012d012c016801ed013901b501d4010f011b0174017a01870213015e01c401db01e201ce014a010f01c301e101be01dd01300184017b017a014e013601ef016e01a601c3012201b301550198014101bf01cc010801da01360142017d019f01b50108010f01e401fa016301b901df01d3018001550152018e01a60177013201d70148015d017a0101014b0104018901430103016301ce018001900178012001dd010101ae0113011601a501cf018b01cb01b101a601740177017b0105014401e2018601aa01ae01fc015001f001aa01530194010401aa01cd0182014f018d019401e7016801f7010e01b1019a01bc019a0132016401f801f001af0109012b01f3019201a301fd01bc01d8013d017b0162015301f2017f0119012b01b801b401d5010401c80148013e01f9016c01e801aa01bb018f016e016501ab010301fc01c301a301ec010801e001ed012c018a027e0133012a01dd0126014801d50159010e0140015a0193012c0103016d\n",
            "Compressed Data in Hex: 01040166019c01e00168015801af010a01a1014901810159018b015201ce013b01ce018201f60106016e0130018f015d01b101a0011301e60194011a011201d40128019a014e01ca0111012301d6015701ab014c013e011e015d01b80121015c01d701650135018c012001d60146019a01d6017c01310136016801e901a2010701c501f601f101690175014301290158025d01100101016001ec013a016f015f012a01c7011b01aa016a013701c601c4019d012d012c016801ed013901b501d4010f011b0174017a01870213015e01c401db01e201ce014a010f01c301e101be01dd01300184017b017a014e013601ef016e01a601c3012201b301550198014101bf01cc010801da01360142017d019f01b50108010f01e401fa016301b901df01d3018001550152018e01a60177013201d70148015d017a0101014b0104018901430103016301ce018001900178012001dd010101ae0113011601a501cf018b01cb01b101a601740177017b0105014401e2018601aa01ae01fc015001f001aa01530194010401aa01cd0182014f018d019401e7016801f7010e01b1019a01bc019a0132016401f801f001af0109012b01f3019201a301fd01bc01d8013d017b0162015301f2017f0119012b01b801b401d5010401c80148013e01f9016c01e801aa01bb018f016e016501ab010301fc01c301a301ec010801e001ed012c018a027e0133012a01dd0126014801d50159010e0140015a0193012c0103016d\n",
            "Extracted Hex Data: 01040166019c01e00168015801af010a01a1014901810159018b015201ce013b01ce018201f60106016e0130018f015d01b101a0011301e60194011a011201d40128019a014e01ca0111012301d6015701ab014c013e011e015d01b80121015c01d701650135018c012001d60146019a01d6017c01310136016801e901a2010701c501f601f101690175014301290158025d01100101016001ec013a016f015f012a01c7011b01aa016a013701c601c4019d012d012c016801ed013901b501d4010f011b0174017a01870213015e01c401db01e201ce014a010f01c301e101be01dd01300184017b017a014e013601ef016e01a601c3012201b301550198014101bf01cc010801da01360142017d019f01b50108010f01e401fa016301b901df01d3018001550152018e01a60177013201d70148015d017a0101014b0104018901430103016301ce018001900178012001dd010101ae0113011601a501cf018b01cb01b101a601740177017b0105014401e2018601aa01ae01fc015001f001aa01530194010401aa01cd0182014f018d019401e7016801f7010e01b1019a01bc019a0132016401f801f001af0109012b01f3019201a301fd01bc01d8013d017b0162015301f2017f0119012b01b801b401d5010401c80148013e01f9016c01e801aa01bb018f016e016501ab010301fc01c301a301ec010801e001ed012c018a027e0133012a01dd0126014801d50159010e0140015a0193012c0103016d\n",
            "Compressed Data (from extracted hex): 01040166019c01e00168015801af010a01a1014901810159018b015201ce013b01ce018201f60106016e0130018f015d01b101a0011301e60194011a011201d40128019a014e01ca0111012301d6015701ab014c013e011e015d01b80121015c01d701650135018c012001d60146019a01d6017c01310136016801e901a2010701c501f601f101690175014301290158025d01100101016001ec013a016f015f012a01c7011b01aa016a013701c601c4019d012d012c016801ed013901b501d4010f011b0174017a01870213015e01c401db01e201ce014a010f01c301e101be01dd01300184017b017a014e013601ef016e01a601c3012201b301550198014101bf01cc010801da01360142017d019f01b50108010f01e401fa016301b901df01d3018001550152018e01a60177013201d70148015d017a0101014b0104018901430103016301ce018001900178012001dd010101ae0113011601a501cf018b01cb01b101a601740177017b0105014401e2018601aa01ae01fc015001f001aa01530194010401aa01cd0182014f018d019401e7016801f7010e01b1019a01bc019a0132016401f801f001af0109012b01f3019201a301fd01bc01d8013d017b0162015301f2017f0119012b01b801b401d5010401c80148013e01f9016c01e801aa01bb018f016e016501ab010301fc01c301a301ec010801e001ed012c018a027e0133012a01dd0126014801d50159010e0140015a0193012c0103016d\n",
            "Decompressed Data (hex): 04669ce06858af0aa14981598b52ce3bce82f6066e308f5db1a013e6941a12d4289a4eca1123d657ab4c3e1e5db8215cd765358c20d6469ad67c313668e9a207c5f6f169754329585d5d100160ec3a6f5f2ac71baa6a37c6c49d2d2c68ed39b5d40f1b747a8713135ec4dbe2ce4a0fc3e1bedd30847b7a4e36ef6ea6c322b3559841bfcc08da36427d9fb5080fe4fa63b9dfd38055528ea67732d7485d7a014b0489430363ce80907820dd01ae1316a5cf8bcbb1a674777b0544e286aaaefc50f0aa539404aacd824f8d94e768f70eb19abc9a3264f8f0af092bf392a3fdbcd83d7b6253f27f192bb8b4d504c8483ef96ce8aabb8f6e65ab03fcc3a3ec08e0ed2c8a7e7e332add2648d5590e405a932c036d\n",
            "Decrypted Data (hex): 33333438363130343031393730303035236368726973746f6665722a64657269616e2a62756469616e746f23746567616c23313939372d30332d3034236c616b692d6c616b692362236a6c2e2a70616c612a32322a6e6f2e2a33302330303523303137236d656a6173656d2a74656e676168236b72616d6174236b6174686f6c696b2362656c756d2a6b6177696e2370656c616a61722f6d616861736973776123776e69237365756d75722a6869647570\n",
            "Decrypted Message: 3348610401970005#christofer*derian*budianto#tegal#1997-03-04#laki-laki#b#jl.*pala*22*no.*30#005#017#mejasem*tengah#kramat#katholik#belum*kawin#pelajar/mahasiswa#wni#seumur*hidup\n",
            "PSNR value between the original and stego image: 70.7446584291329 dB\n"
          ]
        }
      ]
    },
    {
      "cell_type": "code",
      "source": [
        "read_stego()"
      ],
      "metadata": {
        "colab": {
          "base_uri": "https://localhost:8080/"
        },
        "id": "5uHwWZOvVcrC",
        "outputId": "8e142bc5-1f59-4073-af08-3b2749f34836"
      },
      "execution_count": 83,
      "outputs": [
        {
          "output_type": "stream",
          "name": "stdout",
          "text": [
            "01040166019c01e00168015801af010a01a1014901810159018b015201ce013b01ce018201f60106016e0130018f015d01b101a0011301e60194011a011201d40128019a014e01ca0111012301d6015701ab014c013e011e015d01b80121015c01d701650135018c012001d60146019a01d6017c01310136016801e901a2010701c501f601f101690175014301290158025d01100101016001ec013a016f015f012a01c7011b01aa016a013701c601c4019d012d012c016801ed013901b501d4010f011b0174017a01870213015e01c401db01e201ce014a010f01c301e101be01dd01300184017b017a014e013601ef016e01a601c3012201b301550198014101bf01cc010801da01360142017d019f01b50108010f01e401fa016301b901df01d3018001550152018e01a60177013201d70148015d017a0101014b0104018901430103016301ce018001900178012001dd010101ae0113011601a501cf018b01cb01b101a601740177017b0105014401e2018601aa01ae01fc015001f001aa01530194010401aa01cd0182014f018d019401e7016801f7010e01b1019a01bc019a0132016401f801f001af0109012b01f3019201a301fd01bc01d8013d017b0162015301f2017f0119012b01b801b401d5010401c80148013e01f9016c01e801aa01bb018f016e016501ab010301fc01c301a301ec010801e001ed012c018a027e0133012a01dd0126014801d50159010e0140015a0193012c0103016d\n"
          ]
        }
      ]
    }
  ]
}