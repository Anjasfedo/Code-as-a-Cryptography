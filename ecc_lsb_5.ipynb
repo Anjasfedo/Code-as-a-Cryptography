{
  "nbformat": 4,
  "nbformat_minor": 0,
  "metadata": {
    "colab": {
      "provenance": [],
      "toc_visible": true,
      "authorship_tag": "ABX9TyOO8XZQwj4Gzphpdua7rHv3",
      "include_colab_link": true
    },
    "kernelspec": {
      "name": "python3",
      "display_name": "Python 3"
    },
    "language_info": {
      "name": "python"
    }
  },
  "cells": [
    {
      "cell_type": "markdown",
      "metadata": {
        "id": "view-in-github",
        "colab_type": "text"
      },
      "source": [
        "<a href=\"https://colab.research.google.com/github/Anjasfedo/Code-as-a-Cryptography/blob/main/ecc_lsb_5.ipynb\" target=\"_parent\"><img src=\"https://colab.research.google.com/assets/colab-badge.svg\" alt=\"Open In Colab\"/></a>"
      ]
    },
    {
      "cell_type": "markdown",
      "source": [
        "# Elliptic Curve Criptography"
      ],
      "metadata": {
        "id": "6yRyoaWuSEpu"
      }
    },
    {
      "cell_type": "code",
      "execution_count": 171,
      "metadata": {
        "colab": {
          "base_uri": "https://localhost:8080/"
        },
        "id": "6XkJG6_2RuAn",
        "outputId": "c22ae40f-ab3a-4294-83b4-36da82186c18"
      },
      "outputs": [
        {
          "output_type": "stream",
          "name": "stdout",
          "text": [
            "Requirement already satisfied: eciespy in /usr/local/lib/python3.10/dist-packages (0.4.2)\n",
            "Requirement already satisfied: coincurve<20,>=13 in /usr/local/lib/python3.10/dist-packages (from eciespy) (19.0.1)\n",
            "Requirement already satisfied: eth-keys<0.6,>=0.4 in /usr/local/lib/python3.10/dist-packages (from eciespy) (0.5.1)\n",
            "Requirement already satisfied: pycryptodome<4.0.0,>=3.19.1 in /usr/local/lib/python3.10/dist-packages (from eciespy) (3.21.0)\n",
            "Requirement already satisfied: asn1crypto in /usr/local/lib/python3.10/dist-packages (from coincurve<20,>=13->eciespy) (1.5.1)\n",
            "Requirement already satisfied: cffi>=1.3.0 in /usr/local/lib/python3.10/dist-packages (from coincurve<20,>=13->eciespy) (1.17.1)\n",
            "Requirement already satisfied: eth-utils>=2 in /usr/local/lib/python3.10/dist-packages (from eth-keys<0.6,>=0.4->eciespy) (5.0.0)\n",
            "Requirement already satisfied: eth-typing>=3 in /usr/local/lib/python3.10/dist-packages (from eth-keys<0.6,>=0.4->eciespy) (5.0.0)\n",
            "Requirement already satisfied: pycparser in /usr/local/lib/python3.10/dist-packages (from cffi>=1.3.0->coincurve<20,>=13->eciespy) (2.22)\n",
            "Requirement already satisfied: typing-extensions>=4.5.0 in /usr/local/lib/python3.10/dist-packages (from eth-typing>=3->eth-keys<0.6,>=0.4->eciespy) (4.12.2)\n",
            "Requirement already satisfied: eth-hash>=0.3.1 in /usr/local/lib/python3.10/dist-packages (from eth-utils>=2->eth-keys<0.6,>=0.4->eciespy) (0.7.0)\n",
            "Requirement already satisfied: hexbytes>=1.0.0 in /usr/local/lib/python3.10/dist-packages (from eth-utils>=2->eth-keys<0.6,>=0.4->eciespy) (1.2.1)\n",
            "Requirement already satisfied: cytoolz>=0.10.1 in /usr/local/lib/python3.10/dist-packages (from eth-utils>=2->eth-keys<0.6,>=0.4->eciespy) (1.0.0)\n",
            "Requirement already satisfied: toolz>=0.8.0 in /usr/local/lib/python3.10/dist-packages (from cytoolz>=0.10.1->eth-utils>=2->eth-keys<0.6,>=0.4->eciespy) (0.12.1)\n"
          ]
        }
      ],
      "source": [
        "!pip install eciespy"
      ]
    },
    {
      "cell_type": "code",
      "source": [
        "CONTENT = \"3348610401970005#christofer*derian*budianto#tegal#1997-03-04#laki-laki#b#jl.*pala*22*no.*30#005#017#mejasem*tengah#kramat#katholik#belum*kawin#pelajar/mahasiswa#wni#seumur*hidup\""
      ],
      "metadata": {
        "id": "2IyBhygNStFO"
      },
      "execution_count": 172,
      "outputs": []
    },
    {
      "cell_type": "code",
      "source": [
        "from ecies.utils import generate_eth_key\n",
        "from ecies import encrypt, decrypt\n",
        "\n",
        "private_key = generate_eth_key()\n",
        "public_key = private_key.public_key\n",
        "\n",
        "public_key_hex = public_key.to_hex()\n",
        "private_key_hex = private_key.to_hex()\n",
        "\n",
        "print(\"Public Key:\", public_key_hex)\n",
        "print(\"Private Key:\", private_key_hex)\n",
        "\n",
        "ciphertext = encrypt(public_key_hex, CONTENT.encode())\n",
        "\n",
        "print(\"Ciphertext:\", ciphertext.hex())\n",
        "\n",
        "decrypted_message = decrypt(private_key_hex, ciphertext)\n",
        "print(\"Decrypted Message:\", decrypted_message.decode())"
      ],
      "metadata": {
        "colab": {
          "base_uri": "https://localhost:8080/"
        },
        "id": "kZQAQRNBSJLX",
        "outputId": "3b43bb32-5580-42dc-b116-2fc62ca90b5d"
      },
      "execution_count": 173,
      "outputs": [
        {
          "output_type": "stream",
          "name": "stdout",
          "text": [
            "Public Key: 0xe0f3b54568e7b1315ee1edd7b0104175e23ad99d0493ca1c95dd580a519de68b335125de1a6de00cc5cf408c65994f5b2499edf8199951d1f802c9541496d573\n",
            "Private Key: 0xb3e15c21c6ed4d82d7da565a6400659e8b168c884ea7de8602bd077011810225\n",
            "Ciphertext: 04dd2a4b6cc7fc8addc7162361b4857a3010c24233c99f5f933e59dddc90f1586c9e1f14522af9bedae880b11948bf54f6fba6be811e540b525e1d5cc716d14e73573386b2e3cce5ec2462369e9a656a48c2e31b7668352bfbc89a684de65a5c2a6e10ad4702dca6e7235e635bfe59d90561f79384b77140e608ce5647593f32d148b48742929335e88e8d720adde35a418cc1a743a2bdbc67b35e5401dcc04bfc4c0c8a9ddc579a9613f206f4aa802fa1fca58b863d3f2666d935f94b68e9d803b25570e42bb7fd48b82938b864bf2f00795be553cff04ea653fc3115546ce95c39bf04e6b100df09cab21c5ea19921bc8006869458fe837c2df0cf77f500e9cf7c55ffd0386505a4aecae3726c3c62b3ec\n",
            "Decrypted Message: 3348610401970005#christofer*derian*budianto#tegal#1997-03-04#laki-laki#b#jl.*pala*22*no.*30#005#017#mejasem*tengah#kramat#katholik#belum*kawin#pelajar/mahasiswa#wni#seumur*hidup\n"
          ]
        }
      ]
    },
    {
      "cell_type": "markdown",
      "source": [
        "# Least Significant Bit"
      ],
      "metadata": {
        "id": "A0JOFeG4UQpg"
      }
    },
    {
      "cell_type": "code",
      "source": [
        "!git clone https://github.com/RobinDavid/LSB-Steganography && cd LSB-Steganography && ls && pip install -r requirements.txt"
      ],
      "metadata": {
        "colab": {
          "base_uri": "https://localhost:8080/"
        },
        "id": "0Lh0Fw23USrl",
        "outputId": "3527942d-85b5-4fa8-fe78-b2418769f026"
      },
      "execution_count": 174,
      "outputs": [
        {
          "output_type": "stream",
          "name": "stdout",
          "text": [
            "fatal: destination path 'LSB-Steganography' already exists and is not an empty directory.\n"
          ]
        }
      ]
    },
    {
      "cell_type": "code",
      "source": [
        "#!/usr/bin/env python\n",
        "# coding:UTF-8\n",
        "\"\"\"LSBSteg.py\n",
        "\n",
        "Usage:\n",
        "  LSBSteg.py encode -i <input> -o <output> -f <file>\n",
        "  LSBSteg.py decode -i <input> -o <output>\n",
        "\n",
        "Options:\n",
        "  -h, --help                Show this help\n",
        "  --version                 Show the version\n",
        "  -f,--file=<file>          File to hide\n",
        "  -i,--in=<input>           Input image (carrier)\n",
        "  -o,--out=<output>         Output image (or extracted file)\n",
        "\"\"\"\n",
        "\n",
        "import cv2\n",
        "import docopt\n",
        "import numpy as np\n",
        "\n",
        "\n",
        "class SteganographyException(Exception):\n",
        "    pass\n",
        "\n",
        "\n",
        "class LSBSteg():\n",
        "    def __init__(self, im):\n",
        "        self.image = im\n",
        "        self.height, self.width, self.nbchannels = im.shape\n",
        "        self.size = self.width * self.height\n",
        "\n",
        "        self.maskONEValues = [1,2,4,8,16,32,64,128]\n",
        "        #Mask used to put one ex:1->00000001, 2->00000010 .. associated with OR bitwise\n",
        "        self.maskONE = self.maskONEValues.pop(0) #Will be used to do bitwise operations\n",
        "\n",
        "        self.maskZEROValues = [254,253,251,247,239,223,191,127]\n",
        "        #Mak used to put zero ex:254->11111110, 253->11111101 .. associated with AND bitwise\n",
        "        self.maskZERO = self.maskZEROValues.pop(0)\n",
        "\n",
        "        self.curwidth = 0  # Current width position\n",
        "        self.curheight = 0 # Current height position\n",
        "        self.curchan = 0   # Current channel position\n",
        "\n",
        "    def put_binary_value(self, bits): #Put the bits in the image\n",
        "        for c in bits:\n",
        "            val = list(self.image[self.curheight,self.curwidth]) #Get the pixel value as a list\n",
        "            if int(c) == 1:\n",
        "                val[self.curchan] = int(val[self.curchan]) | self.maskONE #OR with maskONE\n",
        "            else:\n",
        "                val[self.curchan] = int(val[self.curchan]) & self.maskZERO #AND with maskZERO\n",
        "\n",
        "            self.image[self.curheight,self.curwidth] = tuple(val)\n",
        "            self.next_slot() #Move \"cursor\" to the next space\n",
        "\n",
        "    def next_slot(self):#Move to the next slot were information can be taken or put\n",
        "        if self.curchan == self.nbchannels-1: #Next Space is the following channel\n",
        "            self.curchan = 0\n",
        "            if self.curwidth == self.width-1: #Or the first channel of the next pixel of the same line\n",
        "                self.curwidth = 0\n",
        "                if self.curheight == self.height-1:#Or the first channel of the first pixel of the next line\n",
        "                    self.curheight = 0\n",
        "                    if self.maskONE == 128: #Mask 1000000, so the last mask\n",
        "                        raise SteganographyException(\"No available slot remaining (image filled)\")\n",
        "                    else: #Or instead of using the first bit start using the second and so on..\n",
        "                        self.maskONE = self.maskONEValues.pop(0)\n",
        "                        self.maskZERO = self.maskZEROValues.pop(0)\n",
        "                else:\n",
        "                    self.curheight +=1\n",
        "            else:\n",
        "                self.curwidth +=1\n",
        "        else:\n",
        "            self.curchan +=1\n",
        "\n",
        "    def read_bit(self): #Read a single bit int the image\n",
        "        val = self.image[self.curheight,self.curwidth][self.curchan]\n",
        "        val = int(val) & self.maskONE\n",
        "        self.next_slot()\n",
        "        if val > 0:\n",
        "            return \"1\"\n",
        "        else:\n",
        "            return \"0\"\n",
        "\n",
        "    def read_byte(self):\n",
        "        return self.read_bits(8)\n",
        "\n",
        "    def read_bits(self, nb): #Read the given number of bits\n",
        "        bits = \"\"\n",
        "        for i in range(nb):\n",
        "            bits += self.read_bit()\n",
        "        return bits\n",
        "\n",
        "    def byteValue(self, val):\n",
        "        return self.binary_value(val, 8)\n",
        "\n",
        "    def binary_value(self, val, bitsize): #Return the binary value of an int as a byte\n",
        "        binval = bin(val)[2:]\n",
        "        if len(binval) > bitsize:\n",
        "            raise SteganographyException(\"binary value larger than the expected size\")\n",
        "        while len(binval) < bitsize:\n",
        "            binval = \"0\"+binval\n",
        "        return binval\n",
        "\n",
        "    def encode_text(self, txt):\n",
        "        l = len(txt)\n",
        "        binl = self.binary_value(l, 16) #Length coded on 2 bytes so the text size can be up to 65536 bytes long\n",
        "        self.put_binary_value(binl) #Put text length coded on 4 bytes\n",
        "        for char in txt: #And put all the chars\n",
        "            c = ord(char)\n",
        "            self.put_binary_value(self.byteValue(c))\n",
        "        return self.image\n",
        "\n",
        "    def decode_text(self):\n",
        "        ls = self.read_bits(16) #Read the text size in bytes\n",
        "        l = int(ls,2)\n",
        "        i = 0\n",
        "        unhideTxt = \"\"\n",
        "        while i < l: #Read all bytes of the text\n",
        "            tmp = self.read_byte() #So one byte\n",
        "            i += 1\n",
        "            unhideTxt += chr(int(tmp,2)) #Every chars concatenated to str\n",
        "        return unhideTxt\n",
        "\n",
        "    def encode_image(self, imtohide):\n",
        "        w = imtohide.width\n",
        "        h = imtohide.height\n",
        "        if self.width*self.height*self.nbchannels < w*h*imtohide.channels:\n",
        "            raise SteganographyException(\"Carrier image not big enough to hold all the datas to steganography\")\n",
        "        binw = self.binary_value(w, 16) #Width coded on to byte so width up to 65536\n",
        "        binh = self.binary_value(h, 16)\n",
        "        self.put_binary_value(binw) #Put width\n",
        "        self.put_binary_value(binh) #Put height\n",
        "        for h in range(imtohide.height): #Iterate the hole image to put every pixel values\n",
        "            for w in range(imtohide.width):\n",
        "                for chan in range(imtohide.channels):\n",
        "                    val = imtohide[h,w][chan]\n",
        "                    self.put_binary_value(self.byteValue(int(val)))\n",
        "        return self.image\n",
        "\n",
        "\n",
        "    def decode_image(self):\n",
        "        width = int(self.read_bits(16),2) #Read 16bits and convert it in int\n",
        "        height = int(self.read_bits(16),2)\n",
        "        unhideimg = np.zeros((width,height, 3), np.uint8) #Create an image in which we will put all the pixels read\n",
        "        for h in range(height):\n",
        "            for w in range(width):\n",
        "                for chan in range(unhideimg.channels):\n",
        "                    val = list(unhideimg[h,w])\n",
        "                    val[chan] = int(self.read_byte(),2) #Read the value\n",
        "                    unhideimg[h,w] = tuple(val)\n",
        "        return unhideimg\n",
        "\n",
        "    def encode_binary(self, data):\n",
        "        l = len(data)\n",
        "        if self.width*self.height*self.nbchannels < l+64:\n",
        "            raise SteganographyException(\"Carrier image not big enough to hold all the datas to steganography\")\n",
        "        self.put_binary_value(self.binary_value(l, 64))\n",
        "        for byte in data:\n",
        "            byte = byte if isinstance(byte, int) else ord(byte) # Compat py2/py3\n",
        "            self.put_binary_value(self.byteValue(byte))\n",
        "        return self.image\n",
        "\n",
        "    def decode_binary(self):\n",
        "        l = int(self.read_bits(64), 2)\n",
        "        output = b\"\"\n",
        "        for i in range(l):\n",
        "            output += bytearray([int(self.read_byte(),2)])\n",
        "        return output\n",
        "\n",
        "\n",
        "def main():\n",
        "    args = docopt.docopt(__doc__, version=\"0.2\")\n",
        "    in_f = args[\"--in\"]\n",
        "    out_f = args[\"--out\"]\n",
        "    in_img = cv2.imread(in_f)\n",
        "    steg = LSBSteg(in_img)\n",
        "    lossy_formats = [\"jpeg\", \"jpg\"]\n",
        "\n",
        "    if args['encode']:\n",
        "        #Handling lossy format\n",
        "        out_f, out_ext = out_f.split(\".\")\n",
        "        if out_ext in lossy_formats:\n",
        "            out_f = out_f + \".png\"\n",
        "            print(\"Output file changed to \", out_f)\n",
        "\n",
        "        data = open(args[\"--file\"], \"rb\").read()\n",
        "        res = steg.encode_binary(data)\n",
        "        cv2.imwrite(out_f, res)\n",
        "\n",
        "    elif args[\"decode\"]:\n",
        "        raw = steg.decode_binary()\n",
        "        with open(out_f, \"wb\") as f:\n",
        "            f.write(raw)\n",
        "\n",
        "# if __name__==\"__main__\":\n",
        "#     main()"
      ],
      "metadata": {
        "id": "Q_uzmDZIX1ad"
      },
      "execution_count": 175,
      "outputs": []
    },
    {
      "cell_type": "markdown",
      "source": [
        "# Lampel Ziv Welch"
      ],
      "metadata": {
        "id": "ooDK4RX9cXLV"
      }
    },
    {
      "cell_type": "code",
      "source": [
        "!git clone https://github.com/joeatwork/python-lzw"
      ],
      "metadata": {
        "colab": {
          "base_uri": "https://localhost:8080/"
        },
        "id": "762X8KROcZa2",
        "outputId": "8a3c2729-98d8-4871-e7cc-67a4c1df4be7"
      },
      "execution_count": 176,
      "outputs": [
        {
          "output_type": "stream",
          "name": "stdout",
          "text": [
            "fatal: destination path 'python-lzw' already exists and is not an empty directory.\n"
          ]
        }
      ]
    },
    {
      "cell_type": "code",
      "source": [
        "!cd /content/python-lzw && mv lzw/ /content/ && python setup.py install"
      ],
      "metadata": {
        "colab": {
          "base_uri": "https://localhost:8080/"
        },
        "id": "OEdlinTEccpF",
        "outputId": "fd3f78ad-a9d7-4319-d229-2074cdc47f1f"
      },
      "execution_count": 177,
      "outputs": [
        {
          "output_type": "stream",
          "name": "stdout",
          "text": [
            "mv: cannot stat 'lzw/': No such file or directory\n"
          ]
        }
      ]
    },
    {
      "cell_type": "code",
      "source": [
        "import lzw\n",
        "\n",
        "# Example text to compress (can be any string)\n",
        "original_text = CONTENT\n",
        "\n",
        "# Convert the original text into bytes (UTF-8 encoding)\n",
        "original_bytes = original_text.encode('utf-8')\n",
        "\n",
        "# Part 1: Compression (in-memory)\n",
        "compressed = lzw.compress(original_bytes)\n",
        "\n",
        "# Convert compressed generator to a list to see its contents\n",
        "compressed_list = list(compressed)\n",
        "\n",
        "# Part 2: Decompression (in-memory)\n",
        "decompressed_chunks = lzw.decompress(compressed_list)\n",
        "\n",
        "# Join the decompressed chunks into a single byte string\n",
        "decompressed_bytes = b\"\".join(decompressed_chunks)\n",
        "\n",
        "# Convert decompressed bytes back to a string\n",
        "decompressed_text = decompressed_bytes.decode('utf-8')\n",
        "\n",
        "# Print each variable\n",
        "print(\"Original Text (String):\", original_text)\n",
        "print(\"Original Bytes:\", original_bytes)\n",
        "print(\"Compressed List (Byte Chunks):\", compressed_list)\n",
        "print(\"Decompressed Bytes:\", decompressed_bytes)\n",
        "print(\"Decompressed Text (String):\", decompressed_text)\n",
        "\n",
        "# Part 3: Print sizes and results for comparison\n",
        "original_size = len(original_bytes)\n",
        "compressed_size = len(b\"\".join(compressed_list))  # Join to get compressed byte size\n",
        "decompressed_size = len(decompressed_bytes)\n",
        "\n",
        "# Print the sizes in bytes\n",
        "print(f\"\\nOriginal size: {original_size} bytes\")\n",
        "print(f\"Compressed size: {compressed_size} bytes\")\n",
        "print(f\"Decompressed size: {decompressed_size} bytes\")\n",
        "\n",
        "# Check if decompression was successful\n",
        "if decompressed_text == original_text:\n",
        "    print(\"Decompression was successful!\")\n",
        "else:\n",
        "    print(\"Decompression failed.\")"
      ],
      "metadata": {
        "colab": {
          "base_uri": "https://localhost:8080/"
        },
        "id": "GsfqVzNlcf4n",
        "outputId": "30ebc22c-7eb9-4d80-b9d6-8cc34129f152"
      },
      "execution_count": 178,
      "outputs": [
        {
          "output_type": "stream",
          "name": "stdout",
          "text": [
            "Original Text (String): 3348610401970005#christofer*derian*budianto#tegal#1997-03-04#laki-laki#b#jl.*pala*22*no.*30#005#017#mejasem*tengah#kramat#katholik#belum*kawin#pelajar/mahasiswa#wni#seumur*hidup\n",
            "Original Bytes: b'3348610401970005#christofer*derian*budianto#tegal#1997-03-04#laki-laki#b#jl.*pala*22*no.*30#005#017#mejasem*tengah#kramat#katholik#belum*kawin#pelajar/mahasiswa#wni#seumur*hidup'\n",
            "Compressed List (Byte Chunks): [b'\\x19', b'\\x8c', b'\\xc6', b'\\x83', b'\\x81', b'\\xb0', b'\\xc4', b'`', b'4', b'\\x18', b'\\x0c', b'G', b'#', b'q', b'\\x84', b'8', b'j', b'#', b'1', b'\\x9a', b'\\x0e', b'F', b'\\x93', b'\\x99', b'\\xd0', b'\\xde', b'f', b'2', b'\\x9c', b'\\x85', b'F', b'H', b'\\xd1', b'\\xa4', b'\\xc2', b'n', b'\\x15', b'\\x18', b'\\x8e', b'\\xa6', b'H', b'\\xf9', b'\\xba', b'.', b'#', b':', b'\\x19', b'L', b'\\xe6', b'\\x13', b'`', b'\\x8e', b'\\x17', b'\\x0c', b'\\x16', b'\\x8c', b'\\x06', b's', b'!', b'\\xa0', b'\\x8c', b'\\xd8', b'a', b'5', b'\\x9a', b'E', b'\\xb3', b'\\x89', b'\\xd0', b'\\x8c', b'\\xc4', b'#', b'5', b'\\x1b', b'\\x05', b'\\xc2', b'\\xa3', b'\\x84', b'\\xb4', b'\\xc2', b'*', b'\\x19', b'\\x0c', b'\\x85', b'F', b'\\xe3', b'}', b'\\x10', b'f', b'0', b'\\x11', b'\\xc3', b'\\xea', b'C', b'\\x11', b'\\xb8', b'\\x8c', b'\\xda', b'e', b'5', b'\\x18', b'N', b'f', b'S', b'h', b'\\xaa', b'T', b'n', b'\\x96', b'\\x1a', b'\\x04', b'f', b'\\xb3', b'\\x91', b'\\x84', b'\\xda', b'a', b':', b'Y', b'-', b'&', b'\\x83', b'y', b'\\xb0', b'\\xd2', b'k', b'\\x9f', b'\\x99', b'M', b'\\x87', b'Z', b'\\xf1', b'\\xac', b'\\xc2', b'w', b'4', b'\\x9b', b'\\x84', b'g', b'\\x0b', b'\\x99', b'\\x86', b'\\xb4', b'r', b'\\x17', b'\\xda', b'\\r', b'\\x15', b'\\xb8', b'\\xa9', b'\\xdc', b'\\xc2', b'#', b';', b'\\x9b', b'\\x8d', b'\"', b':', b'\\xe5', b'\\xd4', b'\\xeb', b'\\x1b', b'4', b'\\x1a', b'L', b'\\x87', b'S', b'\\x84', b'\\x00']\n",
            "Decompressed Bytes: b'3348610401970005#christofer*derian*budianto#tegal#1997-03-04#laki-laki#b#jl.*pala*22*no.*30#005#017#mejasem*tengah#kramat#katholik#belum*kawin#pelajar/mahasiswa#wni#seumur*hidup'\n",
            "Decompressed Text (String): 3348610401970005#christofer*derian*budianto#tegal#1997-03-04#laki-laki#b#jl.*pala*22*no.*30#005#017#mejasem*tengah#kramat#katholik#belum*kawin#pelajar/mahasiswa#wni#seumur*hidup\n",
            "\n",
            "Original size: 177 bytes\n",
            "Compressed size: 169 bytes\n",
            "Decompressed size: 177 bytes\n",
            "Decompression was successful!\n"
          ]
        }
      ]
    },
    {
      "cell_type": "markdown",
      "source": [
        "# Huffman Encoding"
      ],
      "metadata": {
        "id": "9dmCHIodel-X"
      }
    },
    {
      "cell_type": "code",
      "source": [
        "import heapq\n",
        "from collections import Counter\n",
        "\n",
        "# Class for Huffman Tree Nodes\n",
        "class HuffmanNode:\n",
        "    def __init__(self, char=None, freq=0, left=None, right=None):\n",
        "        self.char = char\n",
        "        self.freq = freq\n",
        "        self.left = left\n",
        "        self.right = right\n",
        "\n",
        "    def __lt__(self, other):\n",
        "        return self.freq < other.freq\n",
        "\n",
        "# Function to build the Huffman Tree\n",
        "def build_huffman_tree(frequency):\n",
        "    heap = [HuffmanNode(char, freq) for char, freq in frequency.items()]\n",
        "    heapq.heapify(heap)\n",
        "\n",
        "    while len(heap) > 1:\n",
        "        node1 = heapq.heappop(heap)\n",
        "        node2 = heapq.heappop(heap)\n",
        "        merged = HuffmanNode(freq=node1.freq + node2.freq, left=node1, right=node2)\n",
        "        heapq.heappush(heap, merged)\n",
        "\n",
        "    return heap[0]  # Return the root of the tree\n",
        "\n",
        "# Function to generate Huffman codes from the Huffman Tree\n",
        "def generate_huffman_codes(node, current_code=\"\", huffman_codes={}):\n",
        "    if node is None:\n",
        "        return\n",
        "\n",
        "    if node.char is not None:\n",
        "        huffman_codes[node.char] = current_code\n",
        "\n",
        "    generate_huffman_codes(node.left, current_code + \"0\", huffman_codes)\n",
        "    generate_huffman_codes(node.right, current_code + \"1\", huffman_codes)\n",
        "\n",
        "    return huffman_codes\n",
        "\n",
        "# Function to compress the data using Huffman Encoding\n",
        "def huffman_compress(data):\n",
        "    # Count the frequency of each byte\n",
        "    frequency = Counter(data)\n",
        "\n",
        "    # Build Huffman Tree\n",
        "    huffman_tree = build_huffman_tree(frequency)\n",
        "\n",
        "    # Generate Huffman Codes\n",
        "    huffman_codes = generate_huffman_codes(huffman_tree)\n",
        "\n",
        "    # Encode data into its binary representation\n",
        "    encoded_data = \"\".join(huffman_codes[byte] for byte in data)\n",
        "\n",
        "    # Pad the encoded data to make its length a multiple of 8\n",
        "    padding = 8 - len(encoded_data) % 8\n",
        "    encoded_data += \"0\" * padding\n",
        "    padding_info = \"{0:08b}\".format(padding)\n",
        "\n",
        "    # Convert binary data to bytes\n",
        "    compressed_data = bytearray()\n",
        "    compressed_data.append(int(padding_info, 2))  # First byte stores the padding information\n",
        "    for i in range(0, len(encoded_data), 8):\n",
        "        byte = encoded_data[i:i+8]\n",
        "        compressed_data.append(int(byte, 2))\n",
        "\n",
        "    return compressed_data, huffman_tree\n",
        "\n",
        "# Function to decompress the data using Huffman Encoding\n",
        "def huffman_decompress(compressed_data, huffman_tree):\n",
        "    # Convert the compressed data to binary string\n",
        "    encoded_data = \"\"\n",
        "    for byte in compressed_data[1:]:\n",
        "        encoded_data += \"{0:08b}\".format(byte)\n",
        "\n",
        "    # Get the padding information from the first byte\n",
        "    padding = compressed_data[0]\n",
        "    encoded_data = encoded_data[:-padding]  # Remove padding\n",
        "\n",
        "    # Traverse the Huffman tree to decode the binary string\n",
        "    decoded_data = bytearray()\n",
        "    node = huffman_tree\n",
        "    for bit in encoded_data:\n",
        "        if bit == \"0\":\n",
        "            node = node.left\n",
        "        else:\n",
        "            node = node.right\n",
        "\n",
        "        if node.left is None and node.right is None:  # Leaf node\n",
        "            decoded_data.append(node.char)\n",
        "            node = huffman_tree\n",
        "\n",
        "    return decoded_data\n",
        "\n",
        "\n",
        "# Example Usage of Huffman Compression/Decompression\n",
        "\n",
        "# Step 1: The original plaintext data (as a byte string)\n",
        "plaintext = CONTENT.encode()\n",
        "\n",
        "# Print the original data\n",
        "print(\"Original Data (as bytes):\", plaintext)\n",
        "print(\"Original Data (as string):\", plaintext.decode())\n",
        "\n",
        "# Step 2: Compress the plaintext data using Huffman encoding\n",
        "compressed_data, huffman_tree = huffman_compress(plaintext)\n",
        "print(\"Compressed Data (in bytes):\", compressed_data)\n",
        "\n",
        "# Step 3: Decompress the compressed data back to the original plaintext\n",
        "decompressed_data = huffman_decompress(compressed_data, huffman_tree)\n",
        "print(\"Decompressed Data (as bytes):\", decompressed_data)\n",
        "print(\"Decompressed Data (as string):\", decompressed_data.decode())\n",
        "\n",
        "# Step 4: Verify that the decompressed data matches the original data\n",
        "if decompressed_data == plaintext:\n",
        "    print(\"Decompression was successful!\")\n",
        "else:\n",
        "    print(\"Decompression failed.\")"
      ],
      "metadata": {
        "colab": {
          "base_uri": "https://localhost:8080/"
        },
        "id": "RyoCFnFYeoEn",
        "outputId": "6b7db2bf-b9cb-47d3-8cbd-013d3a14a27b"
      },
      "execution_count": 179,
      "outputs": [
        {
          "output_type": "stream",
          "name": "stdout",
          "text": [
            "Original Data (as bytes): b'3348610401970005#christofer*derian*budianto#tegal#1997-03-04#laki-laki#b#jl.*pala*22*no.*30#005#017#mejasem*tengah#kramat#katholik#belum*kawin#pelajar/mahasiswa#wni#seumur*hidup'\n",
            "Original Data (as string): 3348610401970005#christofer*derian*budianto#tegal#1997-03-04#laki-laki#b#jl.*pala*22*no.*30#005#017#mejasem*tengah#kramat#katholik#belum*kawin#pelajar/mahasiswa#wni#seumur*hidup\n",
            "Compressed Data (in bytes): bytearray(b'\\x02\\xdfy>\\xa8\\x7f\\x12G\\xf7S\\x11\\x1e\\xfb\\xedYu\\xcf\\xc6)\\x91\\xd52\\xe6\\xc3\\xa3usi\\xf9\\xd3OD;\\xfb\\xae\\xa6\\xf8\\xde\\xf8\\x93\\x80\\xe1\\xef\\x03\\x87\\xed9\\x90\\xa2;\\x10#\\xf3\\xe0\\xdb\\xca#\\xbctG\\xbe\\x8f\\xe9\\xea\\xa3%iQ\\x9a[\\xd1Wc&\\xa6}\\x835x\\x0f\\x8e\\xd1\\x01\\xb5\\x1c\\x19^\\xdd\\xb2\\x01d\\xe5\\x85J\\x8a\\xddr\\x9e\\x96\\xcf\\xcbF\\xd5\\xb9\\x15>\\xad\\xd8')\n",
            "Decompressed Data (as bytes): bytearray(b'3348610401970005#christofer*derian*budianto#tegal#1997-03-04#laki-laki#b#jl.*pala*22*no.*30#005#017#mejasem*tengah#kramat#katholik#belum*kawin#pelajar/mahasiswa#wni#seumur*hidup')\n",
            "Decompressed Data (as string): 3348610401970005#christofer*derian*budianto#tegal#1997-03-04#laki-laki#b#jl.*pala*22*no.*30#005#017#mejasem*tengah#kramat#katholik#belum*kawin#pelajar/mahasiswa#wni#seumur*hidup\n",
            "Decompression was successful!\n"
          ]
        }
      ]
    },
    {
      "cell_type": "markdown",
      "source": [
        "# Test Image"
      ],
      "metadata": {
        "id": "iPDWMr7oYAUC"
      }
    },
    {
      "cell_type": "code",
      "source": [
        "import os\n",
        "# Directory where the image will be saved\n",
        "ori_dir_img = \"ori-image\"\n",
        "\n",
        "# Create the ori_dir_img if it doesn't exist\n",
        "if not os.path.exists(ori_dir_img):\n",
        "    os.makedirs(ori_dir_img)\n",
        "\n",
        "stego_dir_img = \"stego-image\"\n",
        "\n",
        "# Create the stego_dir_img if it doesn't exist\n",
        "if not os.path.exists(stego_dir_img):\n",
        "    os.makedirs(stego_dir_img)"
      ],
      "metadata": {
        "id": "Hn2jnf-EYEJx"
      },
      "execution_count": 180,
      "outputs": []
    },
    {
      "cell_type": "markdown",
      "source": [
        "## Lena Image"
      ],
      "metadata": {
        "id": "lEe7XAzQYBn3"
      }
    },
    {
      "cell_type": "code",
      "source": [
        "import requests\n",
        "from PIL import Image\n",
        "import io\n",
        "\n",
        "# URL to the raw image file\n",
        "url = \"https://raw.githubusercontent.com/mikolalysenko/lena/master/lena.png\"\n",
        "\n",
        "# Download the image\n",
        "response = requests.get(url)\n",
        "if response.status_code == 200:\n",
        "    # Load the image using PIL\n",
        "    lena_image = Image.open(io.BytesIO(response.content))\n",
        "    lena_image.show()  # Display the image (optional)\n",
        "    lena_image.save(\"ori-image/lena.png\")  # Save the image locally\n",
        "else:\n",
        "    print(\"Failed to download the image.\")"
      ],
      "metadata": {
        "id": "xY3dnoOeYGCZ"
      },
      "execution_count": 181,
      "outputs": []
    },
    {
      "cell_type": "code",
      "source": [
        "LENA_IMG = 'ori-image/lena.png'\n",
        "\n",
        "if not os.path.exists(LENA_IMG):\n",
        "    raise FileNotFoundError(f\"Image not found at {LENA_IMG}\")"
      ],
      "metadata": {
        "id": "spjONGy2YKXD"
      },
      "execution_count": 182,
      "outputs": []
    },
    {
      "cell_type": "markdown",
      "source": [
        "# Steganography Metric"
      ],
      "metadata": {
        "id": "o_juWbLLX75d"
      }
    },
    {
      "cell_type": "markdown",
      "source": [
        "## MSE"
      ],
      "metadata": {
        "id": "0FKC4t7fZab4"
      }
    },
    {
      "cell_type": "code",
      "source": [
        "def calculate_mse(original, stego):\n",
        "    return np.mean((original - stego) ** 2)"
      ],
      "metadata": {
        "id": "omUfnW9ZZl6l"
      },
      "execution_count": 183,
      "outputs": []
    },
    {
      "cell_type": "markdown",
      "source": [
        "## PSNR"
      ],
      "metadata": {
        "id": "wP_NHq5rZXgf"
      }
    },
    {
      "cell_type": "code",
      "source": [
        "def calculate_psnr(target, ori_image=LENA_IMG):\n",
        "    # Read images\n",
        "    original = cv2.imread(ori_image)\n",
        "    stego = cv2.imread(f'{stego_dir_img}/{target}')\n",
        "\n",
        "    if original is None:\n",
        "        raise ValueError(f\"Failed to load original image from {ori_image}. Ensure the file exists and is a valid image format.\")\n",
        "    if stego is None:\n",
        "        raise ValueError(f\"Failed to load stego image from {stego_dir_img}/{target}. Ensure the file exists and is a valid image format.\")\n",
        "\n",
        "    # Calculate MSE using the separated function\n",
        "    mse = calculate_mse(original, stego)\n",
        "    if mse == 0:  # If images are identical\n",
        "        return float('inf')\n",
        "\n",
        "    # Calculate PSNR using the 10 log10 version\n",
        "    max_pixel_value = 255.0\n",
        "    psnr = 10 * np.log10((max_pixel_value ** 2) / mse)\n",
        "    # print(f'PSNR: {psnr}')\n",
        "    return psnr"
      ],
      "metadata": {
        "id": "BLemNkUeX9Hb"
      },
      "execution_count": 184,
      "outputs": []
    },
    {
      "cell_type": "markdown",
      "source": [
        "## SSIM"
      ],
      "metadata": {
        "id": "vZGljTTkZy34"
      }
    },
    {
      "cell_type": "code",
      "source": [
        "from skimage.metrics import structural_similarity as ssim\n",
        "\n",
        "def calculate_ssim(original, stego):\n",
        "    # Convert images to grayscale\n",
        "    original_gray = cv2.cvtColor(original, cv2.COLOR_BGR2GRAY)\n",
        "    stego_gray = cv2.cvtColor(stego, cv2.COLOR_BGR2GRAY)\n",
        "\n",
        "    # Calculate SSIM\n",
        "    ssim_value, _ = ssim(original_gray, stego_gray, full=True)\n",
        "    return ssim_value"
      ],
      "metadata": {
        "id": "HNRnOf0HZzvm"
      },
      "execution_count": 185,
      "outputs": []
    },
    {
      "cell_type": "markdown",
      "source": [
        "## Get it together"
      ],
      "metadata": {
        "id": "cJqngEwXZ5gu"
      }
    },
    {
      "cell_type": "code",
      "source": [
        "def calculate_stego_metrics(target, ori_image=LENA_IMG):\n",
        "    # Read images\n",
        "    original = cv2.imread(ori_image)\n",
        "    stego = cv2.imread(f'{stego_dir_img}/{target}')\n",
        "\n",
        "    if original is None:\n",
        "        raise ValueError(f\"Failed to load original image from {ori_image}. Ensure the file exists and is a valid image format.\")\n",
        "    if stego is None:\n",
        "        raise ValueError(f\"Failed to load stego image from {stego_dir_img}/{target}. Ensure the file exists and is a valid image format.\")\n",
        "\n",
        "    # Calculate metrics\n",
        "    mse_value = calculate_mse(original, stego)\n",
        "    psnr_value = calculate_psnr(target)\n",
        "    ssim_value = calculate_ssim(original, stego)\n",
        "\n",
        "    # Print results\n",
        "    print(f'Metrics between original ({ori_image}) and stego image ({target}):')\n",
        "    print(f'MSE: {mse_value}')\n",
        "    print(f'PSNR: {psnr_value}')\n",
        "    print(f'SSIM: {ssim_value}')\n",
        "\n",
        "    return mse_value, psnr_value, ssim_value"
      ],
      "metadata": {
        "id": "rdbpG93baOZ9"
      },
      "execution_count": 186,
      "outputs": []
    },
    {
      "cell_type": "markdown",
      "source": [
        "# LSB Helper"
      ],
      "metadata": {
        "id": "mcFNGXZPYUTT"
      }
    },
    {
      "cell_type": "code",
      "source": [
        "def embed_lsb(target, content, ori_img = LENA_IMG):\n",
        "  steg = LSBSteg(cv2.imread(ori_img))\n",
        "\n",
        "  img_encoded = steg.encode_text(content)\n",
        "\n",
        "  lsb_img = f\"{stego_dir_img}/{target}\"\n",
        "\n",
        "  cv2.imwrite(lsb_img, img_encoded)"
      ],
      "metadata": {
        "id": "rIdn94soYV9_"
      },
      "execution_count": 187,
      "outputs": []
    },
    {
      "cell_type": "code",
      "source": [
        "def extract_lsb(target):\n",
        "  im = cv2.imread(f\"{stego_dir_img}/{target}\")\n",
        "\n",
        "  steg = LSBSteg(im)\n",
        "\n",
        "  content = steg.decode_text()\n",
        "\n",
        "  return content"
      ],
      "metadata": {
        "id": "_-NTd6zfYWhY"
      },
      "execution_count": 188,
      "outputs": []
    },
    {
      "cell_type": "markdown",
      "source": [
        "# LSB Only"
      ],
      "metadata": {
        "id": "EziH6MmzYMDm"
      }
    },
    {
      "cell_type": "code",
      "source": [
        "embed_lsb(\"lsb_only.png\", CONTENT)"
      ],
      "metadata": {
        "id": "z97CQgdGYYP6"
      },
      "execution_count": 189,
      "outputs": []
    },
    {
      "cell_type": "code",
      "source": [
        "extract_lsb(\"lsb_only.png\")"
      ],
      "metadata": {
        "colab": {
          "base_uri": "https://localhost:8080/",
          "height": 53
        },
        "id": "yoNbCmHXYb8k",
        "outputId": "63ce4f01-1559-40f1-9d02-4371efab6972"
      },
      "execution_count": 190,
      "outputs": [
        {
          "output_type": "execute_result",
          "data": {
            "text/plain": [
              "'3348610401970005#christofer*derian*budianto#tegal#1997-03-04#laki-laki#b#jl.*pala*22*no.*30#005#017#mejasem*tengah#kramat#katholik#belum*kawin#pelajar/mahasiswa#wni#seumur*hidup'"
            ],
            "application/vnd.google.colaboratory.intrinsic+json": {
              "type": "string"
            }
          },
          "metadata": {},
          "execution_count": 190
        }
      ]
    },
    {
      "cell_type": "code",
      "source": [
        "extract_lsb(\"lsb_only.png\") == CONTENT"
      ],
      "metadata": {
        "colab": {
          "base_uri": "https://localhost:8080/"
        },
        "id": "x5BaIFvfYdER",
        "outputId": "561ccc47-5a74-4c5e-eef2-1d802dfc46e2"
      },
      "execution_count": 191,
      "outputs": [
        {
          "output_type": "execute_result",
          "data": {
            "text/plain": [
              "True"
            ]
          },
          "metadata": {},
          "execution_count": 191
        }
      ]
    },
    {
      "cell_type": "markdown",
      "source": [
        "## Stego Metric"
      ],
      "metadata": {
        "id": "DZ0aXZnUechr"
      }
    },
    {
      "cell_type": "code",
      "source": [
        "calculate_stego_metrics(\"lsb_only.png\")"
      ],
      "metadata": {
        "colab": {
          "base_uri": "https://localhost:8080/"
        },
        "id": "y0NqvggPYecK",
        "outputId": "67c55735-b6b5-44ca-e2fc-e798cc92aaaf"
      },
      "execution_count": 192,
      "outputs": [
        {
          "output_type": "stream",
          "name": "stdout",
          "text": [
            "Metrics between original (ori-image/lena.png) and stego image (lsb_only.png):\n",
            "MSE: 0.0009028116861979166\n",
            "PSNR: 78.57483188820159\n",
            "SSIM: 0.9999987952461553\n"
          ]
        },
        {
          "output_type": "execute_result",
          "data": {
            "text/plain": [
              "(0.0009028116861979166, 78.57483188820159, 0.9999987952461553)"
            ]
          },
          "metadata": {},
          "execution_count": 192
        }
      ]
    },
    {
      "cell_type": "markdown",
      "source": [
        "# LSB with ECC"
      ],
      "metadata": {
        "id": "B-z7XRTrYjmr"
      }
    },
    {
      "cell_type": "code",
      "source": [
        "ciphertext"
      ],
      "metadata": {
        "colab": {
          "base_uri": "https://localhost:8080/"
        },
        "id": "YmG2mbzMYlEF",
        "outputId": "af135298-77cd-4d45-cb26-ae9fe54eceec"
      },
      "execution_count": 193,
      "outputs": [
        {
          "output_type": "execute_result",
          "data": {
            "text/plain": [
              "b'\\x04\\xdd*Kl\\xc7\\xfc\\x8a\\xdd\\xc7\\x16#a\\xb4\\x85z0\\x10\\xc2B3\\xc9\\x9f_\\x93>Y\\xdd\\xdc\\x90\\xf1Xl\\x9e\\x1f\\x14R*\\xf9\\xbe\\xda\\xe8\\x80\\xb1\\x19H\\xbfT\\xf6\\xfb\\xa6\\xbe\\x81\\x1eT\\x0bR^\\x1d\\\\\\xc7\\x16\\xd1NsW3\\x86\\xb2\\xe3\\xcc\\xe5\\xec$b6\\x9e\\x9aejH\\xc2\\xe3\\x1bvh5+\\xfb\\xc8\\x9ahM\\xe6Z\\\\*n\\x10\\xadG\\x02\\xdc\\xa6\\xe7#^c[\\xfeY\\xd9\\x05a\\xf7\\x93\\x84\\xb7q@\\xe6\\x08\\xceVGY?2\\xd1H\\xb4\\x87B\\x92\\x935\\xe8\\x8e\\x8dr\\n\\xdd\\xe3ZA\\x8c\\xc1\\xa7C\\xa2\\xbd\\xbcg\\xb3^T\\x01\\xdc\\xc0K\\xfcL\\x0c\\x8a\\x9d\\xdcW\\x9a\\x96\\x13\\xf2\\x06\\xf4\\xaa\\x80/\\xa1\\xfc\\xa5\\x8b\\x86=?&f\\xd95\\xf9Kh\\xe9\\xd8\\x03\\xb2Up\\xe4+\\xb7\\xfdH\\xb8)8\\xb8d\\xbf/\\x00y[\\xe5S\\xcf\\xf0N\\xa6S\\xfc1\\x15Tl\\xe9\\\\9\\xbf\\x04\\xe6\\xb1\\x00\\xdf\\t\\xca\\xb2\\x1c^\\xa1\\x99!\\xbc\\x80\\x06\\x86\\x94X\\xfe\\x83|-\\xf0\\xcfw\\xf5\\x00\\xe9\\xcf|U\\xff\\xd08e\\x05\\xa4\\xae\\xca\\xe3rl<b\\xb3\\xec'"
            ]
          },
          "metadata": {},
          "execution_count": 193
        }
      ]
    },
    {
      "cell_type": "code",
      "source": [
        "embed_lsb(\"lsb_w_ECC.png\", ciphertext.hex())"
      ],
      "metadata": {
        "id": "8DYsVjyuYmPL"
      },
      "execution_count": 194,
      "outputs": []
    },
    {
      "cell_type": "code",
      "source": [
        "extracted_data = extract_lsb(\"lsb_w_ECC.png\")\n",
        "extracted_data"
      ],
      "metadata": {
        "colab": {
          "base_uri": "https://localhost:8080/",
          "height": 105
        },
        "id": "JqcI2wmcYocy",
        "outputId": "c70217f6-c7d9-4161-9bf0-9361a974dd20"
      },
      "execution_count": 195,
      "outputs": [
        {
          "output_type": "execute_result",
          "data": {
            "text/plain": [
              "'04dd2a4b6cc7fc8addc7162361b4857a3010c24233c99f5f933e59dddc90f1586c9e1f14522af9bedae880b11948bf54f6fba6be811e540b525e1d5cc716d14e73573386b2e3cce5ec2462369e9a656a48c2e31b7668352bfbc89a684de65a5c2a6e10ad4702dca6e7235e635bfe59d90561f79384b77140e608ce5647593f32d148b48742929335e88e8d720adde35a418cc1a743a2bdbc67b35e5401dcc04bfc4c0c8a9ddc579a9613f206f4aa802fa1fca58b863d3f2666d935f94b68e9d803b25570e42bb7fd48b82938b864bf2f00795be553cff04ea653fc3115546ce95c39bf04e6b100df09cab21c5ea19921bc8006869458fe837c2df0cf77f500e9cf7c55ffd0386505a4aecae3726c3c62b3ec'"
            ],
            "application/vnd.google.colaboratory.intrinsic+json": {
              "type": "string"
            }
          },
          "metadata": {},
          "execution_count": 195
        }
      ]
    },
    {
      "cell_type": "code",
      "source": [
        "extracted_data == ciphertext.hex()"
      ],
      "metadata": {
        "colab": {
          "base_uri": "https://localhost:8080/"
        },
        "id": "apq_41VCYqUo",
        "outputId": "7c28d250-6001-4eb2-fbac-ed6b90d321cc"
      },
      "execution_count": 196,
      "outputs": [
        {
          "output_type": "execute_result",
          "data": {
            "text/plain": [
              "True"
            ]
          },
          "metadata": {},
          "execution_count": 196
        }
      ]
    },
    {
      "cell_type": "code",
      "source": [
        "extracted_data = bytes.fromhex(extracted_data)\n",
        "extracted_data"
      ],
      "metadata": {
        "colab": {
          "base_uri": "https://localhost:8080/"
        },
        "id": "UWjhqqpuYsnx",
        "outputId": "4f1f1355-68a6-40b4-fc73-8120b1f05158"
      },
      "execution_count": 197,
      "outputs": [
        {
          "output_type": "execute_result",
          "data": {
            "text/plain": [
              "b'\\x04\\xdd*Kl\\xc7\\xfc\\x8a\\xdd\\xc7\\x16#a\\xb4\\x85z0\\x10\\xc2B3\\xc9\\x9f_\\x93>Y\\xdd\\xdc\\x90\\xf1Xl\\x9e\\x1f\\x14R*\\xf9\\xbe\\xda\\xe8\\x80\\xb1\\x19H\\xbfT\\xf6\\xfb\\xa6\\xbe\\x81\\x1eT\\x0bR^\\x1d\\\\\\xc7\\x16\\xd1NsW3\\x86\\xb2\\xe3\\xcc\\xe5\\xec$b6\\x9e\\x9aejH\\xc2\\xe3\\x1bvh5+\\xfb\\xc8\\x9ahM\\xe6Z\\\\*n\\x10\\xadG\\x02\\xdc\\xa6\\xe7#^c[\\xfeY\\xd9\\x05a\\xf7\\x93\\x84\\xb7q@\\xe6\\x08\\xceVGY?2\\xd1H\\xb4\\x87B\\x92\\x935\\xe8\\x8e\\x8dr\\n\\xdd\\xe3ZA\\x8c\\xc1\\xa7C\\xa2\\xbd\\xbcg\\xb3^T\\x01\\xdc\\xc0K\\xfcL\\x0c\\x8a\\x9d\\xdcW\\x9a\\x96\\x13\\xf2\\x06\\xf4\\xaa\\x80/\\xa1\\xfc\\xa5\\x8b\\x86=?&f\\xd95\\xf9Kh\\xe9\\xd8\\x03\\xb2Up\\xe4+\\xb7\\xfdH\\xb8)8\\xb8d\\xbf/\\x00y[\\xe5S\\xcf\\xf0N\\xa6S\\xfc1\\x15Tl\\xe9\\\\9\\xbf\\x04\\xe6\\xb1\\x00\\xdf\\t\\xca\\xb2\\x1c^\\xa1\\x99!\\xbc\\x80\\x06\\x86\\x94X\\xfe\\x83|-\\xf0\\xcfw\\xf5\\x00\\xe9\\xcf|U\\xff\\xd08e\\x05\\xa4\\xae\\xca\\xe3rl<b\\xb3\\xec'"
            ]
          },
          "metadata": {},
          "execution_count": 197
        }
      ]
    },
    {
      "cell_type": "code",
      "source": [
        "decrypted_message = decrypt(private_key_hex, extracted_data)\n",
        "print(\"Decrypted Message:\", decrypted_message.decode())"
      ],
      "metadata": {
        "colab": {
          "base_uri": "https://localhost:8080/"
        },
        "id": "79qn53NGZBbX",
        "outputId": "96878f5f-0fb6-41e7-da68-b5d3db706b9a"
      },
      "execution_count": 198,
      "outputs": [
        {
          "output_type": "stream",
          "name": "stdout",
          "text": [
            "Decrypted Message: 3348610401970005#christofer*derian*budianto#tegal#1997-03-04#laki-laki#b#jl.*pala*22*no.*30#005#017#mejasem*tengah#kramat#katholik#belum*kawin#pelajar/mahasiswa#wni#seumur*hidup\n"
          ]
        }
      ]
    },
    {
      "cell_type": "code",
      "source": [
        "decrypted_message.decode() == CONTENT"
      ],
      "metadata": {
        "colab": {
          "base_uri": "https://localhost:8080/"
        },
        "id": "o-FSsb_eZHhs",
        "outputId": "692c9a0a-be32-4f77-b0e8-83330be241d7"
      },
      "execution_count": 199,
      "outputs": [
        {
          "output_type": "execute_result",
          "data": {
            "text/plain": [
              "True"
            ]
          },
          "metadata": {},
          "execution_count": 199
        }
      ]
    },
    {
      "cell_type": "markdown",
      "source": [
        "## Stego Metric"
      ],
      "metadata": {
        "id": "bFr54jtEebCR"
      }
    },
    {
      "cell_type": "code",
      "source": [
        "calculate_stego_metrics(\"lsb_w_ECC.png\")"
      ],
      "metadata": {
        "colab": {
          "base_uri": "https://localhost:8080/"
        },
        "id": "R3HihyFYZKWH",
        "outputId": "71fef543-c0d2-485c-dbe7-b6001ec311d6"
      },
      "execution_count": 200,
      "outputs": [
        {
          "output_type": "stream",
          "name": "stdout",
          "text": [
            "Metrics between original (ori-image/lena.png) and stego image (lsb_w_ECC.png):\n",
            "MSE: 0.002750396728515625\n",
            "PSNR: 73.73685018100143\n",
            "SSIM: 0.9999927734258244\n"
          ]
        },
        {
          "output_type": "execute_result",
          "data": {
            "text/plain": [
              "(0.002750396728515625, 73.73685018100143, 0.9999927734258244)"
            ]
          },
          "metadata": {},
          "execution_count": 200
        }
      ]
    },
    {
      "cell_type": "markdown",
      "source": [
        "# LSB with LZW"
      ],
      "metadata": {
        "id": "90AhfzaccGPa"
      }
    },
    {
      "cell_type": "code",
      "source": [
        "compressed_list"
      ],
      "metadata": {
        "colab": {
          "base_uri": "https://localhost:8080/"
        },
        "id": "8eB-fTGjcoDs",
        "outputId": "ed9933b4-1b34-468c-c7ac-4abb8a8c9326"
      },
      "execution_count": 201,
      "outputs": [
        {
          "output_type": "execute_result",
          "data": {
            "text/plain": [
              "[b'\\x19',\n",
              " b'\\x8c',\n",
              " b'\\xc6',\n",
              " b'\\x83',\n",
              " b'\\x81',\n",
              " b'\\xb0',\n",
              " b'\\xc4',\n",
              " b'`',\n",
              " b'4',\n",
              " b'\\x18',\n",
              " b'\\x0c',\n",
              " b'G',\n",
              " b'#',\n",
              " b'q',\n",
              " b'\\x84',\n",
              " b'8',\n",
              " b'j',\n",
              " b'#',\n",
              " b'1',\n",
              " b'\\x9a',\n",
              " b'\\x0e',\n",
              " b'F',\n",
              " b'\\x93',\n",
              " b'\\x99',\n",
              " b'\\xd0',\n",
              " b'\\xde',\n",
              " b'f',\n",
              " b'2',\n",
              " b'\\x9c',\n",
              " b'\\x85',\n",
              " b'F',\n",
              " b'H',\n",
              " b'\\xd1',\n",
              " b'\\xa4',\n",
              " b'\\xc2',\n",
              " b'n',\n",
              " b'\\x15',\n",
              " b'\\x18',\n",
              " b'\\x8e',\n",
              " b'\\xa6',\n",
              " b'H',\n",
              " b'\\xf9',\n",
              " b'\\xba',\n",
              " b'.',\n",
              " b'#',\n",
              " b':',\n",
              " b'\\x19',\n",
              " b'L',\n",
              " b'\\xe6',\n",
              " b'\\x13',\n",
              " b'`',\n",
              " b'\\x8e',\n",
              " b'\\x17',\n",
              " b'\\x0c',\n",
              " b'\\x16',\n",
              " b'\\x8c',\n",
              " b'\\x06',\n",
              " b's',\n",
              " b'!',\n",
              " b'\\xa0',\n",
              " b'\\x8c',\n",
              " b'\\xd8',\n",
              " b'a',\n",
              " b'5',\n",
              " b'\\x9a',\n",
              " b'E',\n",
              " b'\\xb3',\n",
              " b'\\x89',\n",
              " b'\\xd0',\n",
              " b'\\x8c',\n",
              " b'\\xc4',\n",
              " b'#',\n",
              " b'5',\n",
              " b'\\x1b',\n",
              " b'\\x05',\n",
              " b'\\xc2',\n",
              " b'\\xa3',\n",
              " b'\\x84',\n",
              " b'\\xb4',\n",
              " b'\\xc2',\n",
              " b'*',\n",
              " b'\\x19',\n",
              " b'\\x0c',\n",
              " b'\\x85',\n",
              " b'F',\n",
              " b'\\xe3',\n",
              " b'}',\n",
              " b'\\x10',\n",
              " b'f',\n",
              " b'0',\n",
              " b'\\x11',\n",
              " b'\\xc3',\n",
              " b'\\xea',\n",
              " b'C',\n",
              " b'\\x11',\n",
              " b'\\xb8',\n",
              " b'\\x8c',\n",
              " b'\\xda',\n",
              " b'e',\n",
              " b'5',\n",
              " b'\\x18',\n",
              " b'N',\n",
              " b'f',\n",
              " b'S',\n",
              " b'h',\n",
              " b'\\xaa',\n",
              " b'T',\n",
              " b'n',\n",
              " b'\\x96',\n",
              " b'\\x1a',\n",
              " b'\\x04',\n",
              " b'f',\n",
              " b'\\xb3',\n",
              " b'\\x91',\n",
              " b'\\x84',\n",
              " b'\\xda',\n",
              " b'a',\n",
              " b':',\n",
              " b'Y',\n",
              " b'-',\n",
              " b'&',\n",
              " b'\\x83',\n",
              " b'y',\n",
              " b'\\xb0',\n",
              " b'\\xd2',\n",
              " b'k',\n",
              " b'\\x9f',\n",
              " b'\\x99',\n",
              " b'M',\n",
              " b'\\x87',\n",
              " b'Z',\n",
              " b'\\xf1',\n",
              " b'\\xac',\n",
              " b'\\xc2',\n",
              " b'w',\n",
              " b'4',\n",
              " b'\\x9b',\n",
              " b'\\x84',\n",
              " b'g',\n",
              " b'\\x0b',\n",
              " b'\\x99',\n",
              " b'\\x86',\n",
              " b'\\xb4',\n",
              " b'r',\n",
              " b'\\x17',\n",
              " b'\\xda',\n",
              " b'\\r',\n",
              " b'\\x15',\n",
              " b'\\xb8',\n",
              " b'\\xa9',\n",
              " b'\\xdc',\n",
              " b'\\xc2',\n",
              " b'#',\n",
              " b';',\n",
              " b'\\x9b',\n",
              " b'\\x8d',\n",
              " b'\"',\n",
              " b':',\n",
              " b'\\xe5',\n",
              " b'\\xd4',\n",
              " b'\\xeb',\n",
              " b'\\x1b',\n",
              " b'4',\n",
              " b'\\x1a',\n",
              " b'L',\n",
              " b'\\x87',\n",
              " b'S',\n",
              " b'\\x84',\n",
              " b'\\x00']"
            ]
          },
          "metadata": {},
          "execution_count": 201
        }
      ]
    },
    {
      "cell_type": "code",
      "source": [
        "embed_lsb(\"lsb_w_LZW.png\", compressed_list)"
      ],
      "metadata": {
        "id": "xFnw06ptcoeU"
      },
      "execution_count": 202,
      "outputs": []
    },
    {
      "cell_type": "code",
      "source": [
        "extracted_data = extract_lsb(\"lsb_w_LZW.png\")\n",
        "extracted_data"
      ],
      "metadata": {
        "colab": {
          "base_uri": "https://localhost:8080/",
          "height": 70
        },
        "id": "nrIv-An5ct9k",
        "outputId": "4c9fe8f8-caa2-42fa-b448-77f0730acec9"
      },
      "execution_count": 203,
      "outputs": [
        {
          "output_type": "execute_result",
          "data": {
            "text/plain": [
              "'\\x19\\x8cÆ\\x83\\x81°Ä`4\\x18\\x0cG#q\\x848j#1\\x9a\\x0eF\\x93\\x99ÐÞf2\\x9c\\x85FHÑ¤Ân\\x15\\x18\\x8e¦Hùº.#:\\x19Læ\\x13`\\x8e\\x17\\x0c\\x16\\x8c\\x06s!\\xa0\\x8cØa5\\x9aE³\\x89Ð\\x8cÄ#5\\x1b\\x05Â£\\x84´Â*\\x19\\x0c\\x85Fã}\\x10f0\\x11ÃêC\\x11¸\\x8cÚe5\\x18NfShªTn\\x96\\x1a\\x04f³\\x91\\x84Úa:Y-&\\x83y°Òk\\x9f\\x99M\\x87Zñ¬Âw4\\x9b\\x84g\\x0b\\x99\\x86´r\\x17Ú\\r\\x15¸©ÜÂ#;\\x9b\\x8d\":åÔë\\x1b4\\x1aL\\x87S\\x84\\x00'"
            ],
            "application/vnd.google.colaboratory.intrinsic+json": {
              "type": "string"
            }
          },
          "metadata": {},
          "execution_count": 203
        }
      ]
    },
    {
      "cell_type": "code",
      "source": [
        "byte_list = [bytes([ord(char)]) for char in extracted_data]\n",
        "byte_list"
      ],
      "metadata": {
        "colab": {
          "base_uri": "https://localhost:8080/"
        },
        "id": "c1Yv7hUacwz4",
        "outputId": "b00ded52-6553-41a1-ae41-7fca276df9c1"
      },
      "execution_count": 204,
      "outputs": [
        {
          "output_type": "execute_result",
          "data": {
            "text/plain": [
              "[b'\\x19',\n",
              " b'\\x8c',\n",
              " b'\\xc6',\n",
              " b'\\x83',\n",
              " b'\\x81',\n",
              " b'\\xb0',\n",
              " b'\\xc4',\n",
              " b'`',\n",
              " b'4',\n",
              " b'\\x18',\n",
              " b'\\x0c',\n",
              " b'G',\n",
              " b'#',\n",
              " b'q',\n",
              " b'\\x84',\n",
              " b'8',\n",
              " b'j',\n",
              " b'#',\n",
              " b'1',\n",
              " b'\\x9a',\n",
              " b'\\x0e',\n",
              " b'F',\n",
              " b'\\x93',\n",
              " b'\\x99',\n",
              " b'\\xd0',\n",
              " b'\\xde',\n",
              " b'f',\n",
              " b'2',\n",
              " b'\\x9c',\n",
              " b'\\x85',\n",
              " b'F',\n",
              " b'H',\n",
              " b'\\xd1',\n",
              " b'\\xa4',\n",
              " b'\\xc2',\n",
              " b'n',\n",
              " b'\\x15',\n",
              " b'\\x18',\n",
              " b'\\x8e',\n",
              " b'\\xa6',\n",
              " b'H',\n",
              " b'\\xf9',\n",
              " b'\\xba',\n",
              " b'.',\n",
              " b'#',\n",
              " b':',\n",
              " b'\\x19',\n",
              " b'L',\n",
              " b'\\xe6',\n",
              " b'\\x13',\n",
              " b'`',\n",
              " b'\\x8e',\n",
              " b'\\x17',\n",
              " b'\\x0c',\n",
              " b'\\x16',\n",
              " b'\\x8c',\n",
              " b'\\x06',\n",
              " b's',\n",
              " b'!',\n",
              " b'\\xa0',\n",
              " b'\\x8c',\n",
              " b'\\xd8',\n",
              " b'a',\n",
              " b'5',\n",
              " b'\\x9a',\n",
              " b'E',\n",
              " b'\\xb3',\n",
              " b'\\x89',\n",
              " b'\\xd0',\n",
              " b'\\x8c',\n",
              " b'\\xc4',\n",
              " b'#',\n",
              " b'5',\n",
              " b'\\x1b',\n",
              " b'\\x05',\n",
              " b'\\xc2',\n",
              " b'\\xa3',\n",
              " b'\\x84',\n",
              " b'\\xb4',\n",
              " b'\\xc2',\n",
              " b'*',\n",
              " b'\\x19',\n",
              " b'\\x0c',\n",
              " b'\\x85',\n",
              " b'F',\n",
              " b'\\xe3',\n",
              " b'}',\n",
              " b'\\x10',\n",
              " b'f',\n",
              " b'0',\n",
              " b'\\x11',\n",
              " b'\\xc3',\n",
              " b'\\xea',\n",
              " b'C',\n",
              " b'\\x11',\n",
              " b'\\xb8',\n",
              " b'\\x8c',\n",
              " b'\\xda',\n",
              " b'e',\n",
              " b'5',\n",
              " b'\\x18',\n",
              " b'N',\n",
              " b'f',\n",
              " b'S',\n",
              " b'h',\n",
              " b'\\xaa',\n",
              " b'T',\n",
              " b'n',\n",
              " b'\\x96',\n",
              " b'\\x1a',\n",
              " b'\\x04',\n",
              " b'f',\n",
              " b'\\xb3',\n",
              " b'\\x91',\n",
              " b'\\x84',\n",
              " b'\\xda',\n",
              " b'a',\n",
              " b':',\n",
              " b'Y',\n",
              " b'-',\n",
              " b'&',\n",
              " b'\\x83',\n",
              " b'y',\n",
              " b'\\xb0',\n",
              " b'\\xd2',\n",
              " b'k',\n",
              " b'\\x9f',\n",
              " b'\\x99',\n",
              " b'M',\n",
              " b'\\x87',\n",
              " b'Z',\n",
              " b'\\xf1',\n",
              " b'\\xac',\n",
              " b'\\xc2',\n",
              " b'w',\n",
              " b'4',\n",
              " b'\\x9b',\n",
              " b'\\x84',\n",
              " b'g',\n",
              " b'\\x0b',\n",
              " b'\\x99',\n",
              " b'\\x86',\n",
              " b'\\xb4',\n",
              " b'r',\n",
              " b'\\x17',\n",
              " b'\\xda',\n",
              " b'\\r',\n",
              " b'\\x15',\n",
              " b'\\xb8',\n",
              " b'\\xa9',\n",
              " b'\\xdc',\n",
              " b'\\xc2',\n",
              " b'#',\n",
              " b';',\n",
              " b'\\x9b',\n",
              " b'\\x8d',\n",
              " b'\"',\n",
              " b':',\n",
              " b'\\xe5',\n",
              " b'\\xd4',\n",
              " b'\\xeb',\n",
              " b'\\x1b',\n",
              " b'4',\n",
              " b'\\x1a',\n",
              " b'L',\n",
              " b'\\x87',\n",
              " b'S',\n",
              " b'\\x84',\n",
              " b'\\x00']"
            ]
          },
          "metadata": {},
          "execution_count": 204
        }
      ]
    },
    {
      "cell_type": "code",
      "source": [
        "compressed_list == byte_list"
      ],
      "metadata": {
        "colab": {
          "base_uri": "https://localhost:8080/"
        },
        "id": "6h4Ts4Tuc1Ng",
        "outputId": "fe7af5a4-e7d7-4a58-8af8-ed9043690fcb"
      },
      "execution_count": 205,
      "outputs": [
        {
          "output_type": "execute_result",
          "data": {
            "text/plain": [
              "True"
            ]
          },
          "metadata": {},
          "execution_count": 205
        }
      ]
    },
    {
      "cell_type": "code",
      "source": [
        "# Part 2: Decompression (in-memory)\n",
        "decompressed_chunks = lzw.decompress(byte_list)\n",
        "\n",
        "# Join the decompressed chunks into a single byte string\n",
        "decompressed_bytes = b\"\".join(decompressed_chunks)\n",
        "\n",
        "# Convert decompressed bytes back to a string\n",
        "decompressed_text = decompressed_bytes.decode('utf-8')\n",
        "\n",
        "print(\"Decompressed Text (String):\", decompressed_text)"
      ],
      "metadata": {
        "colab": {
          "base_uri": "https://localhost:8080/"
        },
        "id": "o9EIMuj3c8JU",
        "outputId": "fb598397-ceeb-4dee-bbb4-ba4a43e3fba9"
      },
      "execution_count": 206,
      "outputs": [
        {
          "output_type": "stream",
          "name": "stdout",
          "text": [
            "Decompressed Text (String): 3348610401970005#christofer*derian*budianto#tegal#1997-03-04#laki-laki#b#jl.*pala*22*no.*30#005#017#mejasem*tengah#kramat#katholik#belum*kawin#pelajar/mahasiswa#wni#seumur*hidup\n"
          ]
        }
      ]
    },
    {
      "cell_type": "code",
      "source": [
        "decompressed_text == CONTENT"
      ],
      "metadata": {
        "colab": {
          "base_uri": "https://localhost:8080/"
        },
        "id": "cDh5tNR7c9SU",
        "outputId": "885082c6-c8d2-4933-c470-b605f749f53e"
      },
      "execution_count": 207,
      "outputs": [
        {
          "output_type": "execute_result",
          "data": {
            "text/plain": [
              "True"
            ]
          },
          "metadata": {},
          "execution_count": 207
        }
      ]
    },
    {
      "cell_type": "markdown",
      "source": [
        "## Stego Metric"
      ],
      "metadata": {
        "id": "amBMxL-yeXf0"
      }
    },
    {
      "cell_type": "code",
      "source": [
        "calculate_stego_metrics(\"lsb_w_LZW.png\")"
      ],
      "metadata": {
        "colab": {
          "base_uri": "https://localhost:8080/"
        },
        "id": "GRDNLtpsc4Sp",
        "outputId": "b6a36833-c498-4095-91c4-c00bdd7ab391"
      },
      "execution_count": 208,
      "outputs": [
        {
          "output_type": "stream",
          "name": "stdout",
          "text": [
            "Metrics between original (ori-image/lena.png) and stego image (lsb_w_LZW.png):\n",
            "MSE: 0.0008722941080729166\n",
            "PSNR: 78.72417421832482\n",
            "SSIM: 0.9999988544716335\n"
          ]
        },
        {
          "output_type": "execute_result",
          "data": {
            "text/plain": [
              "(0.0008722941080729166, 78.72417421832482, 0.9999988544716335)"
            ]
          },
          "metadata": {},
          "execution_count": 208
        }
      ]
    },
    {
      "cell_type": "markdown",
      "source": [
        "# LSB with ECC, LZW"
      ],
      "metadata": {
        "id": "V8wtIQqbc_nw"
      }
    },
    {
      "cell_type": "markdown",
      "source": [
        "## ECC"
      ],
      "metadata": {
        "id": "FNqpLpDudJ1Q"
      }
    },
    {
      "cell_type": "code",
      "source": [
        "ciphertext.hex()"
      ],
      "metadata": {
        "colab": {
          "base_uri": "https://localhost:8080/",
          "height": 105
        },
        "id": "bY_RqK-2dDeR",
        "outputId": "2f8efff6-ebc3-45d6-d052-a16b021490d0"
      },
      "execution_count": 209,
      "outputs": [
        {
          "output_type": "execute_result",
          "data": {
            "text/plain": [
              "'04dd2a4b6cc7fc8addc7162361b4857a3010c24233c99f5f933e59dddc90f1586c9e1f14522af9bedae880b11948bf54f6fba6be811e540b525e1d5cc716d14e73573386b2e3cce5ec2462369e9a656a48c2e31b7668352bfbc89a684de65a5c2a6e10ad4702dca6e7235e635bfe59d90561f79384b77140e608ce5647593f32d148b48742929335e88e8d720adde35a418cc1a743a2bdbc67b35e5401dcc04bfc4c0c8a9ddc579a9613f206f4aa802fa1fca58b863d3f2666d935f94b68e9d803b25570e42bb7fd48b82938b864bf2f00795be553cff04ea653fc3115546ce95c39bf04e6b100df09cab21c5ea19921bc8006869458fe837c2df0cf77f500e9cf7c55ffd0386505a4aecae3726c3c62b3ec'"
            ],
            "application/vnd.google.colaboratory.intrinsic+json": {
              "type": "string"
            }
          },
          "metadata": {},
          "execution_count": 209
        }
      ]
    },
    {
      "cell_type": "markdown",
      "source": [
        "## LZW"
      ],
      "metadata": {
        "id": "hEy-YOGBdK3z"
      }
    },
    {
      "cell_type": "code",
      "source": [
        "import lzw\n",
        "\n",
        "# Example text to compress (can be any string)\n",
        "original_text = ciphertext.hex()\n",
        "\n",
        "# Convert the original text into bytes (UTF-8 encoding)\n",
        "original_bytes = original_text.encode('utf-8')\n",
        "\n",
        "# Part 1: Compression (in-memory)\n",
        "compressed = lzw.compress(original_bytes)\n",
        "\n",
        "# Convert compressed generator to a list to see its contents\n",
        "compressed_list = list(compressed)\n",
        "\n",
        "# Part 2: Decompression (in-memory)\n",
        "decompressed_chunks = lzw.decompress(compressed_list)\n",
        "\n",
        "# Join the decompressed chunks into a single byte string\n",
        "decompressed_bytes = b\"\".join(decompressed_chunks)\n",
        "\n",
        "# Convert decompressed bytes back to a string\n",
        "decompressed_text = decompressed_bytes.decode('utf-8')\n",
        "\n",
        "# Print each variable\n",
        "print(\"Original Text (String):\", original_text)\n",
        "print(\"Original Bytes:\", original_bytes)\n",
        "print(\"Compressed List (Byte Chunks):\", compressed_list)\n",
        "print(\"Decompressed Bytes:\", decompressed_bytes)\n",
        "print(\"Decompressed Text (String):\", decompressed_text)\n",
        "\n",
        "# Part 3: Print sizes and results for comparison\n",
        "original_size = len(original_bytes)\n",
        "compressed_size = len(b\"\".join(compressed_list))  # Join to get compressed byte size\n",
        "decompressed_size = len(decompressed_bytes)\n",
        "\n",
        "# Print the sizes in bytes\n",
        "print(f\"\\nOriginal size: {original_size} bytes\")\n",
        "print(f\"Compressed size: {compressed_size} bytes\")\n",
        "print(f\"Decompressed size: {decompressed_size} bytes\")\n",
        "\n",
        "# Check if decompression was successful\n",
        "if decompressed_text == original_text:\n",
        "    print(\"Decompression was successful!\")\n",
        "else:\n",
        "    print(\"Decompression failed.\")"
      ],
      "metadata": {
        "colab": {
          "base_uri": "https://localhost:8080/"
        },
        "id": "xZAeWpRbdFrM",
        "outputId": "5b1326a0-5b2b-4ea8-f983-28258bc19a91"
      },
      "execution_count": 210,
      "outputs": [
        {
          "output_type": "stream",
          "name": "stdout",
          "text": [
            "Original Text (String): 04dd2a4b6cc7fc8addc7162361b4857a3010c24233c99f5f933e59dddc90f1586c9e1f14522af9bedae880b11948bf54f6fba6be811e540b525e1d5cc716d14e73573386b2e3cce5ec2462369e9a656a48c2e31b7668352bfbc89a684de65a5c2a6e10ad4702dca6e7235e635bfe59d90561f79384b77140e608ce5647593f32d148b48742929335e88e8d720adde35a418cc1a743a2bdbc67b35e5401dcc04bfc4c0c8a9ddc579a9613f206f4aa802fa1fca58b863d3f2666d935f94b68e9d803b25570e42bb7fd48b82938b864bf2f00795be553cff04ea653fc3115546ce95c39bf04e6b100df09cab21c5ea19921bc8006869458fe837c2df0cf77f500e9cf7c55ffd0386505a4aecae3726c3c62b3ec\n",
            "Original Bytes: b'04dd2a4b6cc7fc8addc7162361b4857a3010c24233c99f5f933e59dddc90f1586c9e1f14522af9bedae880b11948bf54f6fba6be811e540b525e1d5cc716d14e73573386b2e3cce5ec2462369e9a656a48c2e31b7668352bfbc89a684de65a5c2a6e10ad4702dca6e7235e635bfe59d90561f79384b77140e608ce5647593f32d148b48742929335e88e8d720adde35a418cc1a743a2bdbc67b35e5401dcc04bfc4c0c8a9ddc579a9613f206f4aa802fa1fca58b863d3f2666d935f94b68e9d803b25570e42bb7fd48b82938b864bf2f00795be553cff04ea653fc3115546ce95c39bf04e6b100df09cab21c5ea19921bc8006869458fe837c2df0cf77f500e9cf7c55ffd0386505a4aecae3726c3c62b3ec'\n",
            "Compressed List (Byte Chunks): [b'\\x18', b'\\r', b'\\x0c', b'\\x86', b'A', b'\\x91', b'\\x84', b'h', b'b', b'\\x1b', b'\\x18', b'\\xcc', b'c', b's', b'1', b'\\x8c', b'p', b'a', b'\\x82', b'C', b'\\x06', b'#', b'a', b'\\x90', b'\\xcc', b'l', b'1', b'1', b'\\r', b'\\x07', b'\\x03', b'Q', b'\\xb9', b'\\x84', b'f', b'0', b'\\x18', b'\\x8c', b'\\x0c', b'c', b'!', b'\\xa4', b'X', b'f', b'c', b'\\x1c', b'\\x8e', b'L', b'\\xc3', b'S', b'0', b'\\xe4', b'f', b'3', b'2', b'\\x8d', b'G', b'0', b'C', b'$', b'\\xa4', b'`', b'f', b'\\x18', b'\\x8d', b'G', b'\\x10', b'\\xa1', b'\\xc9', b'\\x94', b'c', b'9', b'\\x1a', b'\\r', b'F', b'P', b'i', b'q', b'\\x88', b'\\xca', b'd', b'0', b'\\x99', b'G', b'\\x03', b'\\x81', b'\\x81', b'\\x88', b'b', b'1', b'\\x1c', b'\\xc6', b'\\xcc', b'R', b'\\xc1', b'\\xa1', b'\\x98', b'l', b'f', b'1', b'\\x18', b'F', b'\\xd4', b'q', b'\\xc5', b'B', b'd', b'4', b'\\xa7', b'P', b'\\xc6', b'\\xb3', b'\\xf3', b' ', b'\\xd6', b'\\x16', b'7', b'\\x8a', b'\\x19', b'\\x06', b'#', b'C', b'(', b'\\xdc', b'g', b'\\x1d', b'\\x98', b'O', b'\\x0c', b'C', b'#', b',', b'\\xa0', b'\\xc7', b'2', b'2', b'\\xc9', b'\\x06', b'\\x91', b'X', b'\\xbc', b'\\xf8', b's', b'[', b'\\x1a', b'\\x8d', b'\\xa0', b'\\xe3', b'\\x89', b'%', b'\\xda', b'2', b'7', b'\\x1b', b'\\r', b'\\x87', b'\\x17', b'\\x01', b'\\x95', b'P', b'\\xc5', b'\\x0f', b'\\xc0', b'b', b'\\xe0', b'f', b'Q', b'\\xb0', b'\\xd4', b'\\xc3', b'g', b'\\x83', b'\\r', b'\\xa7', b'\\xe3', b'\\x08', b'\\x88', b'\\xd0', b'n', b'0', b'\\x19', b'M', b'\\xab', b'v', b'\\xe8', b'\\xb5', b'\\x90', b'm', b'p', b'\\xaa', b'L', b'\\xa6', b'\\x83', b'\\x91', b'\\x86', b'\\n', b'\\x80', b'7', b'\\x97', b'\\x8e', b'!', b'\\x03', b'{', b'M', b'\\x87', b'*', b'0', b'\\xc2', b'\\xcc', b'\\x86', b'\\xd9', b'\\xf9', b'\\x98', b'\\xcc', b'\\xcc', b'3', b'\\xd1', b'[', b'\\x07', b'\\x11', b'\\xa1', b'\\xc0', b'\\xde', b'L', b'9', b'\\x19', b'K', b'\\xee', b'\\x14', b'\\xb1', b'\\xc5', b',', b'\\xc8', b'7', b'\\x19', b'g', b'`', b'\\x97', b'l', b'\\xb8', b'\\xd0', b'c', b'\\x85', b'1', b'\\x8c', b'L', b'<', b'q', b'\\x99', b'\\x87', b'\\x1c', b'd', b'\\xc8', b'\\r', b'\\x86', b'\\xe6', b'.', b'`', b'\\xd6', b'\\xc2', b'1', b'\\x9b', b'\\x18', b'\\xe0', b'U', b'C', b'\\x18', b'\\xd3', b'\\xd7', b'\\x0f', b'0', b'\\xcd', b'&', b'\\xd1', b'\\xdc', b'\\x00', b'\\xe6', b'1', b'\\xbf', b'\\xe9', b'V', b'\\x06', b'\\x86', b'\\x13', b'\\r', b'4', b'2', b'\\x19', b'\\x86', b'\\x15', b'\\x00', b'c', b'f', b'\\x1c', b'D', b'\\xf0', b'3', b'\\x19', b'\\x1f', b'\\x96', b'(', b'6', b'\\x19', b'\\x12', b'\\xf4', b'\\xb5', b'R', b'B', b'\\\\', b'\\xe4', b'\\xd1', b'M', b'\\x0c', b'\\xd7', b'@', b'\\xd5', b'\\x1d', b'\\x0c', b'\\x06', b'T', b'\\x98', b'b', b'\\x18', b'\\x90', b'\\xd1', b'\\x91', b'S', b'\\x0e', b'\\x1c', b'\\xa0', b'\\xce', b'\\x06', b'o', b'\\x15', b'H', b'\\x00', b'0', b'\\x0c', b'\\x1b', b'\\x10', b'\\xd5', b'G', b'\\x85', b'\\xd2', b'\\x81', b'\\x98', b'f', b'@', b'\\x86', b'V', b'\\x05', b'\\xbf', b'\\x18', b'\\xc3', b'5', b'B', b'\\x17', b'_', b'\\x17', b'\\x80', b'\\xe5', b'g', b'\\x0c', b'\\xc3', b'\\x95', b'R', b'1', b'W', b'\\x12', b' ', b'\\xc0', b'd', b'\\x8c', b'\\x03', b'\\x98', b'\\x11', b't', b'\\x0c', b'F', b'5', b'\\x92', b'\\x02', b'J', b'\\x83', b'$', b'e', b'\\x0f', b'\\x8a', b'\\x18', b'\\xb0', b'\\xd9', b'R', b'N', b'\\xc6', b'e', b',', b'3', b'\\r', b'\\xd2', b'I', b'\\x11', b'#', b'\\x19', b'\\x9b', b'T', b'\\xb2', b'(', b'\\x19', b'd', b'i', b'v', b'J', b'K', b'F', b'a', b'\\x90', b'0', b'\\x88', b'\\xd9', b'f', b'\\xb9', b'\\x07', b'R', b'\\xa0', b'E', b'\\xd9', b'\\xd1', b'B', b'\\x92', b'\\x84', b'U', b'\\xe5', b'^', b'\\x90', b'\\x00']\n",
            "Decompressed Bytes: b'04dd2a4b6cc7fc8addc7162361b4857a3010c24233c99f5f933e59dddc90f1586c9e1f14522af9bedae880b11948bf54f6fba6be811e540b525e1d5cc716d14e73573386b2e3cce5ec2462369e9a656a48c2e31b7668352bfbc89a684de65a5c2a6e10ad4702dca6e7235e635bfe59d90561f79384b77140e608ce5647593f32d148b48742929335e88e8d720adde35a418cc1a743a2bdbc67b35e5401dcc04bfc4c0c8a9ddc579a9613f206f4aa802fa1fca58b863d3f2666d935f94b68e9d803b25570e42bb7fd48b82938b864bf2f00795be553cff04ea653fc3115546ce95c39bf04e6b100df09cab21c5ea19921bc8006869458fe837c2df0cf77f500e9cf7c55ffd0386505a4aecae3726c3c62b3ec'\n",
            "Decompressed Text (String): 04dd2a4b6cc7fc8addc7162361b4857a3010c24233c99f5f933e59dddc90f1586c9e1f14522af9bedae880b11948bf54f6fba6be811e540b525e1d5cc716d14e73573386b2e3cce5ec2462369e9a656a48c2e31b7668352bfbc89a684de65a5c2a6e10ad4702dca6e7235e635bfe59d90561f79384b77140e608ce5647593f32d148b48742929335e88e8d720adde35a418cc1a743a2bdbc67b35e5401dcc04bfc4c0c8a9ddc579a9613f206f4aa802fa1fca58b863d3f2666d935f94b68e9d803b25570e42bb7fd48b82938b864bf2f00795be553cff04ea653fc3115546ce95c39bf04e6b100df09cab21c5ea19921bc8006869458fe837c2df0cf77f500e9cf7c55ffd0386505a4aecae3726c3c62b3ec\n",
            "\n",
            "Original size: 548 bytes\n",
            "Compressed size: 435 bytes\n",
            "Decompressed size: 548 bytes\n",
            "Decompression was successful!\n"
          ]
        }
      ]
    },
    {
      "cell_type": "markdown",
      "source": [
        "## LSB"
      ],
      "metadata": {
        "id": "Cz9jVJCKdatf"
      }
    },
    {
      "cell_type": "code",
      "source": [
        "compressed_list"
      ],
      "metadata": {
        "colab": {
          "base_uri": "https://localhost:8080/"
        },
        "id": "kyEoAf_bdbn7",
        "outputId": "60e51203-470e-4334-9ed9-c863bd108bf1"
      },
      "execution_count": 211,
      "outputs": [
        {
          "output_type": "execute_result",
          "data": {
            "text/plain": [
              "[b'\\x18',\n",
              " b'\\r',\n",
              " b'\\x0c',\n",
              " b'\\x86',\n",
              " b'A',\n",
              " b'\\x91',\n",
              " b'\\x84',\n",
              " b'h',\n",
              " b'b',\n",
              " b'\\x1b',\n",
              " b'\\x18',\n",
              " b'\\xcc',\n",
              " b'c',\n",
              " b's',\n",
              " b'1',\n",
              " b'\\x8c',\n",
              " b'p',\n",
              " b'a',\n",
              " b'\\x82',\n",
              " b'C',\n",
              " b'\\x06',\n",
              " b'#',\n",
              " b'a',\n",
              " b'\\x90',\n",
              " b'\\xcc',\n",
              " b'l',\n",
              " b'1',\n",
              " b'1',\n",
              " b'\\r',\n",
              " b'\\x07',\n",
              " b'\\x03',\n",
              " b'Q',\n",
              " b'\\xb9',\n",
              " b'\\x84',\n",
              " b'f',\n",
              " b'0',\n",
              " b'\\x18',\n",
              " b'\\x8c',\n",
              " b'\\x0c',\n",
              " b'c',\n",
              " b'!',\n",
              " b'\\xa4',\n",
              " b'X',\n",
              " b'f',\n",
              " b'c',\n",
              " b'\\x1c',\n",
              " b'\\x8e',\n",
              " b'L',\n",
              " b'\\xc3',\n",
              " b'S',\n",
              " b'0',\n",
              " b'\\xe4',\n",
              " b'f',\n",
              " b'3',\n",
              " b'2',\n",
              " b'\\x8d',\n",
              " b'G',\n",
              " b'0',\n",
              " b'C',\n",
              " b'$',\n",
              " b'\\xa4',\n",
              " b'`',\n",
              " b'f',\n",
              " b'\\x18',\n",
              " b'\\x8d',\n",
              " b'G',\n",
              " b'\\x10',\n",
              " b'\\xa1',\n",
              " b'\\xc9',\n",
              " b'\\x94',\n",
              " b'c',\n",
              " b'9',\n",
              " b'\\x1a',\n",
              " b'\\r',\n",
              " b'F',\n",
              " b'P',\n",
              " b'i',\n",
              " b'q',\n",
              " b'\\x88',\n",
              " b'\\xca',\n",
              " b'd',\n",
              " b'0',\n",
              " b'\\x99',\n",
              " b'G',\n",
              " b'\\x03',\n",
              " b'\\x81',\n",
              " b'\\x81',\n",
              " b'\\x88',\n",
              " b'b',\n",
              " b'1',\n",
              " b'\\x1c',\n",
              " b'\\xc6',\n",
              " b'\\xcc',\n",
              " b'R',\n",
              " b'\\xc1',\n",
              " b'\\xa1',\n",
              " b'\\x98',\n",
              " b'l',\n",
              " b'f',\n",
              " b'1',\n",
              " b'\\x18',\n",
              " b'F',\n",
              " b'\\xd4',\n",
              " b'q',\n",
              " b'\\xc5',\n",
              " b'B',\n",
              " b'd',\n",
              " b'4',\n",
              " b'\\xa7',\n",
              " b'P',\n",
              " b'\\xc6',\n",
              " b'\\xb3',\n",
              " b'\\xf3',\n",
              " b' ',\n",
              " b'\\xd6',\n",
              " b'\\x16',\n",
              " b'7',\n",
              " b'\\x8a',\n",
              " b'\\x19',\n",
              " b'\\x06',\n",
              " b'#',\n",
              " b'C',\n",
              " b'(',\n",
              " b'\\xdc',\n",
              " b'g',\n",
              " b'\\x1d',\n",
              " b'\\x98',\n",
              " b'O',\n",
              " b'\\x0c',\n",
              " b'C',\n",
              " b'#',\n",
              " b',',\n",
              " b'\\xa0',\n",
              " b'\\xc7',\n",
              " b'2',\n",
              " b'2',\n",
              " b'\\xc9',\n",
              " b'\\x06',\n",
              " b'\\x91',\n",
              " b'X',\n",
              " b'\\xbc',\n",
              " b'\\xf8',\n",
              " b's',\n",
              " b'[',\n",
              " b'\\x1a',\n",
              " b'\\x8d',\n",
              " b'\\xa0',\n",
              " b'\\xe3',\n",
              " b'\\x89',\n",
              " b'%',\n",
              " b'\\xda',\n",
              " b'2',\n",
              " b'7',\n",
              " b'\\x1b',\n",
              " b'\\r',\n",
              " b'\\x87',\n",
              " b'\\x17',\n",
              " b'\\x01',\n",
              " b'\\x95',\n",
              " b'P',\n",
              " b'\\xc5',\n",
              " b'\\x0f',\n",
              " b'\\xc0',\n",
              " b'b',\n",
              " b'\\xe0',\n",
              " b'f',\n",
              " b'Q',\n",
              " b'\\xb0',\n",
              " b'\\xd4',\n",
              " b'\\xc3',\n",
              " b'g',\n",
              " b'\\x83',\n",
              " b'\\r',\n",
              " b'\\xa7',\n",
              " b'\\xe3',\n",
              " b'\\x08',\n",
              " b'\\x88',\n",
              " b'\\xd0',\n",
              " b'n',\n",
              " b'0',\n",
              " b'\\x19',\n",
              " b'M',\n",
              " b'\\xab',\n",
              " b'v',\n",
              " b'\\xe8',\n",
              " b'\\xb5',\n",
              " b'\\x90',\n",
              " b'm',\n",
              " b'p',\n",
              " b'\\xaa',\n",
              " b'L',\n",
              " b'\\xa6',\n",
              " b'\\x83',\n",
              " b'\\x91',\n",
              " b'\\x86',\n",
              " b'\\n',\n",
              " b'\\x80',\n",
              " b'7',\n",
              " b'\\x97',\n",
              " b'\\x8e',\n",
              " b'!',\n",
              " b'\\x03',\n",
              " b'{',\n",
              " b'M',\n",
              " b'\\x87',\n",
              " b'*',\n",
              " b'0',\n",
              " b'\\xc2',\n",
              " b'\\xcc',\n",
              " b'\\x86',\n",
              " b'\\xd9',\n",
              " b'\\xf9',\n",
              " b'\\x98',\n",
              " b'\\xcc',\n",
              " b'\\xcc',\n",
              " b'3',\n",
              " b'\\xd1',\n",
              " b'[',\n",
              " b'\\x07',\n",
              " b'\\x11',\n",
              " b'\\xa1',\n",
              " b'\\xc0',\n",
              " b'\\xde',\n",
              " b'L',\n",
              " b'9',\n",
              " b'\\x19',\n",
              " b'K',\n",
              " b'\\xee',\n",
              " b'\\x14',\n",
              " b'\\xb1',\n",
              " b'\\xc5',\n",
              " b',',\n",
              " b'\\xc8',\n",
              " b'7',\n",
              " b'\\x19',\n",
              " b'g',\n",
              " b'`',\n",
              " b'\\x97',\n",
              " b'l',\n",
              " b'\\xb8',\n",
              " b'\\xd0',\n",
              " b'c',\n",
              " b'\\x85',\n",
              " b'1',\n",
              " b'\\x8c',\n",
              " b'L',\n",
              " b'<',\n",
              " b'q',\n",
              " b'\\x99',\n",
              " b'\\x87',\n",
              " b'\\x1c',\n",
              " b'd',\n",
              " b'\\xc8',\n",
              " b'\\r',\n",
              " b'\\x86',\n",
              " b'\\xe6',\n",
              " b'.',\n",
              " b'`',\n",
              " b'\\xd6',\n",
              " b'\\xc2',\n",
              " b'1',\n",
              " b'\\x9b',\n",
              " b'\\x18',\n",
              " b'\\xe0',\n",
              " b'U',\n",
              " b'C',\n",
              " b'\\x18',\n",
              " b'\\xd3',\n",
              " b'\\xd7',\n",
              " b'\\x0f',\n",
              " b'0',\n",
              " b'\\xcd',\n",
              " b'&',\n",
              " b'\\xd1',\n",
              " b'\\xdc',\n",
              " b'\\x00',\n",
              " b'\\xe6',\n",
              " b'1',\n",
              " b'\\xbf',\n",
              " b'\\xe9',\n",
              " b'V',\n",
              " b'\\x06',\n",
              " b'\\x86',\n",
              " b'\\x13',\n",
              " b'\\r',\n",
              " b'4',\n",
              " b'2',\n",
              " b'\\x19',\n",
              " b'\\x86',\n",
              " b'\\x15',\n",
              " b'\\x00',\n",
              " b'c',\n",
              " b'f',\n",
              " b'\\x1c',\n",
              " b'D',\n",
              " b'\\xf0',\n",
              " b'3',\n",
              " b'\\x19',\n",
              " b'\\x1f',\n",
              " b'\\x96',\n",
              " b'(',\n",
              " b'6',\n",
              " b'\\x19',\n",
              " b'\\x12',\n",
              " b'\\xf4',\n",
              " b'\\xb5',\n",
              " b'R',\n",
              " b'B',\n",
              " b'\\\\',\n",
              " b'\\xe4',\n",
              " b'\\xd1',\n",
              " b'M',\n",
              " b'\\x0c',\n",
              " b'\\xd7',\n",
              " b'@',\n",
              " b'\\xd5',\n",
              " b'\\x1d',\n",
              " b'\\x0c',\n",
              " b'\\x06',\n",
              " b'T',\n",
              " b'\\x98',\n",
              " b'b',\n",
              " b'\\x18',\n",
              " b'\\x90',\n",
              " b'\\xd1',\n",
              " b'\\x91',\n",
              " b'S',\n",
              " b'\\x0e',\n",
              " b'\\x1c',\n",
              " b'\\xa0',\n",
              " b'\\xce',\n",
              " b'\\x06',\n",
              " b'o',\n",
              " b'\\x15',\n",
              " b'H',\n",
              " b'\\x00',\n",
              " b'0',\n",
              " b'\\x0c',\n",
              " b'\\x1b',\n",
              " b'\\x10',\n",
              " b'\\xd5',\n",
              " b'G',\n",
              " b'\\x85',\n",
              " b'\\xd2',\n",
              " b'\\x81',\n",
              " b'\\x98',\n",
              " b'f',\n",
              " b'@',\n",
              " b'\\x86',\n",
              " b'V',\n",
              " b'\\x05',\n",
              " b'\\xbf',\n",
              " b'\\x18',\n",
              " b'\\xc3',\n",
              " b'5',\n",
              " b'B',\n",
              " b'\\x17',\n",
              " b'_',\n",
              " b'\\x17',\n",
              " b'\\x80',\n",
              " b'\\xe5',\n",
              " b'g',\n",
              " b'\\x0c',\n",
              " b'\\xc3',\n",
              " b'\\x95',\n",
              " b'R',\n",
              " b'1',\n",
              " b'W',\n",
              " b'\\x12',\n",
              " b' ',\n",
              " b'\\xc0',\n",
              " b'd',\n",
              " b'\\x8c',\n",
              " b'\\x03',\n",
              " b'\\x98',\n",
              " b'\\x11',\n",
              " b't',\n",
              " b'\\x0c',\n",
              " b'F',\n",
              " b'5',\n",
              " b'\\x92',\n",
              " b'\\x02',\n",
              " b'J',\n",
              " b'\\x83',\n",
              " b'$',\n",
              " b'e',\n",
              " b'\\x0f',\n",
              " b'\\x8a',\n",
              " b'\\x18',\n",
              " b'\\xb0',\n",
              " b'\\xd9',\n",
              " b'R',\n",
              " b'N',\n",
              " b'\\xc6',\n",
              " b'e',\n",
              " b',',\n",
              " b'3',\n",
              " b'\\r',\n",
              " b'\\xd2',\n",
              " b'I',\n",
              " b'\\x11',\n",
              " b'#',\n",
              " b'\\x19',\n",
              " b'\\x9b',\n",
              " b'T',\n",
              " b'\\xb2',\n",
              " b'(',\n",
              " b'\\x19',\n",
              " b'd',\n",
              " b'i',\n",
              " b'v',\n",
              " b'J',\n",
              " b'K',\n",
              " b'F',\n",
              " b'a',\n",
              " b'\\x90',\n",
              " b'0',\n",
              " b'\\x88',\n",
              " b'\\xd9',\n",
              " b'f',\n",
              " b'\\xb9',\n",
              " b'\\x07',\n",
              " b'R',\n",
              " b'\\xa0',\n",
              " b'E',\n",
              " b'\\xd9',\n",
              " b'\\xd1',\n",
              " b'B',\n",
              " b'\\x92',\n",
              " b'\\x84',\n",
              " b'U',\n",
              " b'\\xe5',\n",
              " b'^',\n",
              " b'\\x90',\n",
              " b'\\x00']"
            ]
          },
          "metadata": {},
          "execution_count": 211
        }
      ]
    },
    {
      "cell_type": "code",
      "source": [
        "embed_lsb(\"lsb_w_ECC_LZW.png\", compressed_list)"
      ],
      "metadata": {
        "id": "Yt8YOYyRddat"
      },
      "execution_count": 212,
      "outputs": []
    },
    {
      "cell_type": "code",
      "source": [
        "extracted_data = extract_lsb(\"lsb_w_ECC_LZW.png\")\n",
        "extracted_data"
      ],
      "metadata": {
        "colab": {
          "base_uri": "https://localhost:8080/",
          "height": 157
        },
        "id": "jz2ITLpTdev4",
        "outputId": "35c9e984-15fd-4d47-d49e-d8d4f3698f2b"
      },
      "execution_count": 213,
      "outputs": [
        {
          "output_type": "execute_result",
          "data": {
            "text/plain": [
              "'\\x18\\r\\x0c\\x86A\\x91\\x84hb\\x1b\\x18Ìcs1\\x8cpa\\x82C\\x06#a\\x90Ìl11\\r\\x07\\x03Q¹\\x84f0\\x18\\x8c\\x0cc!¤Xfc\\x1c\\x8eLÃS0äf32\\x8dG0C$¤`f\\x18\\x8dG\\x10¡É\\x94c9\\x1a\\rFPiq\\x88Êd0\\x99G\\x03\\x81\\x81\\x88b1\\x1cÆÌRÁ¡\\x98lf1\\x18FÔqÅBd4§PÆ³ó Ö\\x167\\x8a\\x19\\x06#C(Üg\\x1d\\x98O\\x0cC#,\\xa0Ç22É\\x06\\x91X¼øs[\\x1a\\x8d\\xa0ã\\x89%Ú27\\x1b\\r\\x87\\x17\\x01\\x95PÅ\\x0fÀbàfQ°ÔÃg\\x83\\r§ã\\x08\\x88Ðn0\\x19M«vèµ\\x90mpªL¦\\x83\\x91\\x86\\n\\x807\\x97\\x8e!\\x03{M\\x87*0ÂÌ\\x86Ùù\\x98ÌÌ3Ñ[\\x07\\x11¡ÀÞL9\\x19Kî\\x14±Å,È7\\x19g`\\x97l¸Ðc\\x851\\x8cL<q\\x99\\x87\\x1cdÈ\\r\\x86æ.`ÖÂ1\\x9b\\x18àUC\\x18Ó×\\x0f0Í&ÑÜ\\x00æ1¿éV\\x06\\x86\\x13\\r42\\x19\\x86\\x15\\x00cf\\x1cDð3\\x19\\x1f\\x96(6\\x19\\x12ôµRB\\\\äÑM\\x0c×@Õ\\x1d\\x0c\\x06T\\x98b\\x18\\x90Ñ\\x91S\\x0e\\x1c\\xa0Î\\x06o\\x15H\\x000\\x0c\\x1b\\x10ÕG\\x85Ò\\x81\\x98f@\\x86V\\x05¿\\x18Ã5B\\x17_\\x17\\x80åg\\x0cÃ\\x95R1W\\x12 Àd\\x8c\\x03\\x98\\x11t\\x0cF5\\x92\\x02J\\x83$e\\x0f\\x8a\\x18°ÙRNÆe,3\\rÒI\\x11#\\x19\\x9bT²(\\x19divJKFa\\x900\\x88Ùf¹\\x07R\\xa0EÙÑB\\x92\\x84Uå^\\x90\\x00'"
            ],
            "application/vnd.google.colaboratory.intrinsic+json": {
              "type": "string"
            }
          },
          "metadata": {},
          "execution_count": 213
        }
      ]
    },
    {
      "cell_type": "code",
      "source": [
        "byte_list = [bytes([ord(char)]) for char in extracted_data]\n",
        "byte_list"
      ],
      "metadata": {
        "colab": {
          "base_uri": "https://localhost:8080/"
        },
        "id": "wfEG-lr0dh8F",
        "outputId": "1bebe63c-3e60-46b1-e014-50fdd57808e4"
      },
      "execution_count": 214,
      "outputs": [
        {
          "output_type": "execute_result",
          "data": {
            "text/plain": [
              "[b'\\x18',\n",
              " b'\\r',\n",
              " b'\\x0c',\n",
              " b'\\x86',\n",
              " b'A',\n",
              " b'\\x91',\n",
              " b'\\x84',\n",
              " b'h',\n",
              " b'b',\n",
              " b'\\x1b',\n",
              " b'\\x18',\n",
              " b'\\xcc',\n",
              " b'c',\n",
              " b's',\n",
              " b'1',\n",
              " b'\\x8c',\n",
              " b'p',\n",
              " b'a',\n",
              " b'\\x82',\n",
              " b'C',\n",
              " b'\\x06',\n",
              " b'#',\n",
              " b'a',\n",
              " b'\\x90',\n",
              " b'\\xcc',\n",
              " b'l',\n",
              " b'1',\n",
              " b'1',\n",
              " b'\\r',\n",
              " b'\\x07',\n",
              " b'\\x03',\n",
              " b'Q',\n",
              " b'\\xb9',\n",
              " b'\\x84',\n",
              " b'f',\n",
              " b'0',\n",
              " b'\\x18',\n",
              " b'\\x8c',\n",
              " b'\\x0c',\n",
              " b'c',\n",
              " b'!',\n",
              " b'\\xa4',\n",
              " b'X',\n",
              " b'f',\n",
              " b'c',\n",
              " b'\\x1c',\n",
              " b'\\x8e',\n",
              " b'L',\n",
              " b'\\xc3',\n",
              " b'S',\n",
              " b'0',\n",
              " b'\\xe4',\n",
              " b'f',\n",
              " b'3',\n",
              " b'2',\n",
              " b'\\x8d',\n",
              " b'G',\n",
              " b'0',\n",
              " b'C',\n",
              " b'$',\n",
              " b'\\xa4',\n",
              " b'`',\n",
              " b'f',\n",
              " b'\\x18',\n",
              " b'\\x8d',\n",
              " b'G',\n",
              " b'\\x10',\n",
              " b'\\xa1',\n",
              " b'\\xc9',\n",
              " b'\\x94',\n",
              " b'c',\n",
              " b'9',\n",
              " b'\\x1a',\n",
              " b'\\r',\n",
              " b'F',\n",
              " b'P',\n",
              " b'i',\n",
              " b'q',\n",
              " b'\\x88',\n",
              " b'\\xca',\n",
              " b'd',\n",
              " b'0',\n",
              " b'\\x99',\n",
              " b'G',\n",
              " b'\\x03',\n",
              " b'\\x81',\n",
              " b'\\x81',\n",
              " b'\\x88',\n",
              " b'b',\n",
              " b'1',\n",
              " b'\\x1c',\n",
              " b'\\xc6',\n",
              " b'\\xcc',\n",
              " b'R',\n",
              " b'\\xc1',\n",
              " b'\\xa1',\n",
              " b'\\x98',\n",
              " b'l',\n",
              " b'f',\n",
              " b'1',\n",
              " b'\\x18',\n",
              " b'F',\n",
              " b'\\xd4',\n",
              " b'q',\n",
              " b'\\xc5',\n",
              " b'B',\n",
              " b'd',\n",
              " b'4',\n",
              " b'\\xa7',\n",
              " b'P',\n",
              " b'\\xc6',\n",
              " b'\\xb3',\n",
              " b'\\xf3',\n",
              " b' ',\n",
              " b'\\xd6',\n",
              " b'\\x16',\n",
              " b'7',\n",
              " b'\\x8a',\n",
              " b'\\x19',\n",
              " b'\\x06',\n",
              " b'#',\n",
              " b'C',\n",
              " b'(',\n",
              " b'\\xdc',\n",
              " b'g',\n",
              " b'\\x1d',\n",
              " b'\\x98',\n",
              " b'O',\n",
              " b'\\x0c',\n",
              " b'C',\n",
              " b'#',\n",
              " b',',\n",
              " b'\\xa0',\n",
              " b'\\xc7',\n",
              " b'2',\n",
              " b'2',\n",
              " b'\\xc9',\n",
              " b'\\x06',\n",
              " b'\\x91',\n",
              " b'X',\n",
              " b'\\xbc',\n",
              " b'\\xf8',\n",
              " b's',\n",
              " b'[',\n",
              " b'\\x1a',\n",
              " b'\\x8d',\n",
              " b'\\xa0',\n",
              " b'\\xe3',\n",
              " b'\\x89',\n",
              " b'%',\n",
              " b'\\xda',\n",
              " b'2',\n",
              " b'7',\n",
              " b'\\x1b',\n",
              " b'\\r',\n",
              " b'\\x87',\n",
              " b'\\x17',\n",
              " b'\\x01',\n",
              " b'\\x95',\n",
              " b'P',\n",
              " b'\\xc5',\n",
              " b'\\x0f',\n",
              " b'\\xc0',\n",
              " b'b',\n",
              " b'\\xe0',\n",
              " b'f',\n",
              " b'Q',\n",
              " b'\\xb0',\n",
              " b'\\xd4',\n",
              " b'\\xc3',\n",
              " b'g',\n",
              " b'\\x83',\n",
              " b'\\r',\n",
              " b'\\xa7',\n",
              " b'\\xe3',\n",
              " b'\\x08',\n",
              " b'\\x88',\n",
              " b'\\xd0',\n",
              " b'n',\n",
              " b'0',\n",
              " b'\\x19',\n",
              " b'M',\n",
              " b'\\xab',\n",
              " b'v',\n",
              " b'\\xe8',\n",
              " b'\\xb5',\n",
              " b'\\x90',\n",
              " b'm',\n",
              " b'p',\n",
              " b'\\xaa',\n",
              " b'L',\n",
              " b'\\xa6',\n",
              " b'\\x83',\n",
              " b'\\x91',\n",
              " b'\\x86',\n",
              " b'\\n',\n",
              " b'\\x80',\n",
              " b'7',\n",
              " b'\\x97',\n",
              " b'\\x8e',\n",
              " b'!',\n",
              " b'\\x03',\n",
              " b'{',\n",
              " b'M',\n",
              " b'\\x87',\n",
              " b'*',\n",
              " b'0',\n",
              " b'\\xc2',\n",
              " b'\\xcc',\n",
              " b'\\x86',\n",
              " b'\\xd9',\n",
              " b'\\xf9',\n",
              " b'\\x98',\n",
              " b'\\xcc',\n",
              " b'\\xcc',\n",
              " b'3',\n",
              " b'\\xd1',\n",
              " b'[',\n",
              " b'\\x07',\n",
              " b'\\x11',\n",
              " b'\\xa1',\n",
              " b'\\xc0',\n",
              " b'\\xde',\n",
              " b'L',\n",
              " b'9',\n",
              " b'\\x19',\n",
              " b'K',\n",
              " b'\\xee',\n",
              " b'\\x14',\n",
              " b'\\xb1',\n",
              " b'\\xc5',\n",
              " b',',\n",
              " b'\\xc8',\n",
              " b'7',\n",
              " b'\\x19',\n",
              " b'g',\n",
              " b'`',\n",
              " b'\\x97',\n",
              " b'l',\n",
              " b'\\xb8',\n",
              " b'\\xd0',\n",
              " b'c',\n",
              " b'\\x85',\n",
              " b'1',\n",
              " b'\\x8c',\n",
              " b'L',\n",
              " b'<',\n",
              " b'q',\n",
              " b'\\x99',\n",
              " b'\\x87',\n",
              " b'\\x1c',\n",
              " b'd',\n",
              " b'\\xc8',\n",
              " b'\\r',\n",
              " b'\\x86',\n",
              " b'\\xe6',\n",
              " b'.',\n",
              " b'`',\n",
              " b'\\xd6',\n",
              " b'\\xc2',\n",
              " b'1',\n",
              " b'\\x9b',\n",
              " b'\\x18',\n",
              " b'\\xe0',\n",
              " b'U',\n",
              " b'C',\n",
              " b'\\x18',\n",
              " b'\\xd3',\n",
              " b'\\xd7',\n",
              " b'\\x0f',\n",
              " b'0',\n",
              " b'\\xcd',\n",
              " b'&',\n",
              " b'\\xd1',\n",
              " b'\\xdc',\n",
              " b'\\x00',\n",
              " b'\\xe6',\n",
              " b'1',\n",
              " b'\\xbf',\n",
              " b'\\xe9',\n",
              " b'V',\n",
              " b'\\x06',\n",
              " b'\\x86',\n",
              " b'\\x13',\n",
              " b'\\r',\n",
              " b'4',\n",
              " b'2',\n",
              " b'\\x19',\n",
              " b'\\x86',\n",
              " b'\\x15',\n",
              " b'\\x00',\n",
              " b'c',\n",
              " b'f',\n",
              " b'\\x1c',\n",
              " b'D',\n",
              " b'\\xf0',\n",
              " b'3',\n",
              " b'\\x19',\n",
              " b'\\x1f',\n",
              " b'\\x96',\n",
              " b'(',\n",
              " b'6',\n",
              " b'\\x19',\n",
              " b'\\x12',\n",
              " b'\\xf4',\n",
              " b'\\xb5',\n",
              " b'R',\n",
              " b'B',\n",
              " b'\\\\',\n",
              " b'\\xe4',\n",
              " b'\\xd1',\n",
              " b'M',\n",
              " b'\\x0c',\n",
              " b'\\xd7',\n",
              " b'@',\n",
              " b'\\xd5',\n",
              " b'\\x1d',\n",
              " b'\\x0c',\n",
              " b'\\x06',\n",
              " b'T',\n",
              " b'\\x98',\n",
              " b'b',\n",
              " b'\\x18',\n",
              " b'\\x90',\n",
              " b'\\xd1',\n",
              " b'\\x91',\n",
              " b'S',\n",
              " b'\\x0e',\n",
              " b'\\x1c',\n",
              " b'\\xa0',\n",
              " b'\\xce',\n",
              " b'\\x06',\n",
              " b'o',\n",
              " b'\\x15',\n",
              " b'H',\n",
              " b'\\x00',\n",
              " b'0',\n",
              " b'\\x0c',\n",
              " b'\\x1b',\n",
              " b'\\x10',\n",
              " b'\\xd5',\n",
              " b'G',\n",
              " b'\\x85',\n",
              " b'\\xd2',\n",
              " b'\\x81',\n",
              " b'\\x98',\n",
              " b'f',\n",
              " b'@',\n",
              " b'\\x86',\n",
              " b'V',\n",
              " b'\\x05',\n",
              " b'\\xbf',\n",
              " b'\\x18',\n",
              " b'\\xc3',\n",
              " b'5',\n",
              " b'B',\n",
              " b'\\x17',\n",
              " b'_',\n",
              " b'\\x17',\n",
              " b'\\x80',\n",
              " b'\\xe5',\n",
              " b'g',\n",
              " b'\\x0c',\n",
              " b'\\xc3',\n",
              " b'\\x95',\n",
              " b'R',\n",
              " b'1',\n",
              " b'W',\n",
              " b'\\x12',\n",
              " b' ',\n",
              " b'\\xc0',\n",
              " b'd',\n",
              " b'\\x8c',\n",
              " b'\\x03',\n",
              " b'\\x98',\n",
              " b'\\x11',\n",
              " b't',\n",
              " b'\\x0c',\n",
              " b'F',\n",
              " b'5',\n",
              " b'\\x92',\n",
              " b'\\x02',\n",
              " b'J',\n",
              " b'\\x83',\n",
              " b'$',\n",
              " b'e',\n",
              " b'\\x0f',\n",
              " b'\\x8a',\n",
              " b'\\x18',\n",
              " b'\\xb0',\n",
              " b'\\xd9',\n",
              " b'R',\n",
              " b'N',\n",
              " b'\\xc6',\n",
              " b'e',\n",
              " b',',\n",
              " b'3',\n",
              " b'\\r',\n",
              " b'\\xd2',\n",
              " b'I',\n",
              " b'\\x11',\n",
              " b'#',\n",
              " b'\\x19',\n",
              " b'\\x9b',\n",
              " b'T',\n",
              " b'\\xb2',\n",
              " b'(',\n",
              " b'\\x19',\n",
              " b'd',\n",
              " b'i',\n",
              " b'v',\n",
              " b'J',\n",
              " b'K',\n",
              " b'F',\n",
              " b'a',\n",
              " b'\\x90',\n",
              " b'0',\n",
              " b'\\x88',\n",
              " b'\\xd9',\n",
              " b'f',\n",
              " b'\\xb9',\n",
              " b'\\x07',\n",
              " b'R',\n",
              " b'\\xa0',\n",
              " b'E',\n",
              " b'\\xd9',\n",
              " b'\\xd1',\n",
              " b'B',\n",
              " b'\\x92',\n",
              " b'\\x84',\n",
              " b'U',\n",
              " b'\\xe5',\n",
              " b'^',\n",
              " b'\\x90',\n",
              " b'\\x00']"
            ]
          },
          "metadata": {},
          "execution_count": 214
        }
      ]
    },
    {
      "cell_type": "code",
      "source": [
        "compressed_list == byte_list"
      ],
      "metadata": {
        "colab": {
          "base_uri": "https://localhost:8080/"
        },
        "id": "Y1Ol_jIxd1Ry",
        "outputId": "52575ea9-eb22-49db-d8be-d9bcea0dc4f7"
      },
      "execution_count": 215,
      "outputs": [
        {
          "output_type": "execute_result",
          "data": {
            "text/plain": [
              "True"
            ]
          },
          "metadata": {},
          "execution_count": 215
        }
      ]
    },
    {
      "cell_type": "code",
      "source": [
        "# Part 2: Decompression (in-memory)\n",
        "decompressed_chunks = lzw.decompress(byte_list)\n",
        "\n",
        "# Join the decompressed chunks into a single byte string\n",
        "decompressed_bytes = b\"\".join(decompressed_chunks)\n",
        "\n",
        "# Convert decompressed bytes back to a string\n",
        "decompressed_text = decompressed_bytes.decode('utf-8')\n",
        "\n",
        "print(\"Decompressed Text (String):\", decompressed_text)"
      ],
      "metadata": {
        "colab": {
          "base_uri": "https://localhost:8080/"
        },
        "id": "FmpXF5i0d28P",
        "outputId": "61415a76-cd9f-42d9-e462-a390f48a4292"
      },
      "execution_count": 216,
      "outputs": [
        {
          "output_type": "stream",
          "name": "stdout",
          "text": [
            "Decompressed Text (String): 04dd2a4b6cc7fc8addc7162361b4857a3010c24233c99f5f933e59dddc90f1586c9e1f14522af9bedae880b11948bf54f6fba6be811e540b525e1d5cc716d14e73573386b2e3cce5ec2462369e9a656a48c2e31b7668352bfbc89a684de65a5c2a6e10ad4702dca6e7235e635bfe59d90561f79384b77140e608ce5647593f32d148b48742929335e88e8d720adde35a418cc1a743a2bdbc67b35e5401dcc04bfc4c0c8a9ddc579a9613f206f4aa802fa1fca58b863d3f2666d935f94b68e9d803b25570e42bb7fd48b82938b864bf2f00795be553cff04ea653fc3115546ce95c39bf04e6b100df09cab21c5ea19921bc8006869458fe837c2df0cf77f500e9cf7c55ffd0386505a4aecae3726c3c62b3ec\n"
          ]
        }
      ]
    },
    {
      "cell_type": "code",
      "source": [
        "decompressed_text == ciphertext.hex()"
      ],
      "metadata": {
        "colab": {
          "base_uri": "https://localhost:8080/"
        },
        "id": "y2J0sjEvd8Dj",
        "outputId": "7688a037-ea91-43f5-dc8d-a24c1a8a151d"
      },
      "execution_count": 217,
      "outputs": [
        {
          "output_type": "execute_result",
          "data": {
            "text/plain": [
              "True"
            ]
          },
          "metadata": {},
          "execution_count": 217
        }
      ]
    },
    {
      "cell_type": "code",
      "source": [
        "cipher_data = bytes.fromhex(decompressed_text)\n",
        "cipher_data"
      ],
      "metadata": {
        "colab": {
          "base_uri": "https://localhost:8080/"
        },
        "id": "kCbDZ_SweGXM",
        "outputId": "31dedaf7-a17e-4b7b-d110-42fca0a9e474"
      },
      "execution_count": 218,
      "outputs": [
        {
          "output_type": "execute_result",
          "data": {
            "text/plain": [
              "b'\\x04\\xdd*Kl\\xc7\\xfc\\x8a\\xdd\\xc7\\x16#a\\xb4\\x85z0\\x10\\xc2B3\\xc9\\x9f_\\x93>Y\\xdd\\xdc\\x90\\xf1Xl\\x9e\\x1f\\x14R*\\xf9\\xbe\\xda\\xe8\\x80\\xb1\\x19H\\xbfT\\xf6\\xfb\\xa6\\xbe\\x81\\x1eT\\x0bR^\\x1d\\\\\\xc7\\x16\\xd1NsW3\\x86\\xb2\\xe3\\xcc\\xe5\\xec$b6\\x9e\\x9aejH\\xc2\\xe3\\x1bvh5+\\xfb\\xc8\\x9ahM\\xe6Z\\\\*n\\x10\\xadG\\x02\\xdc\\xa6\\xe7#^c[\\xfeY\\xd9\\x05a\\xf7\\x93\\x84\\xb7q@\\xe6\\x08\\xceVGY?2\\xd1H\\xb4\\x87B\\x92\\x935\\xe8\\x8e\\x8dr\\n\\xdd\\xe3ZA\\x8c\\xc1\\xa7C\\xa2\\xbd\\xbcg\\xb3^T\\x01\\xdc\\xc0K\\xfcL\\x0c\\x8a\\x9d\\xdcW\\x9a\\x96\\x13\\xf2\\x06\\xf4\\xaa\\x80/\\xa1\\xfc\\xa5\\x8b\\x86=?&f\\xd95\\xf9Kh\\xe9\\xd8\\x03\\xb2Up\\xe4+\\xb7\\xfdH\\xb8)8\\xb8d\\xbf/\\x00y[\\xe5S\\xcf\\xf0N\\xa6S\\xfc1\\x15Tl\\xe9\\\\9\\xbf\\x04\\xe6\\xb1\\x00\\xdf\\t\\xca\\xb2\\x1c^\\xa1\\x99!\\xbc\\x80\\x06\\x86\\x94X\\xfe\\x83|-\\xf0\\xcfw\\xf5\\x00\\xe9\\xcf|U\\xff\\xd08e\\x05\\xa4\\xae\\xca\\xe3rl<b\\xb3\\xec'"
            ]
          },
          "metadata": {},
          "execution_count": 218
        }
      ]
    },
    {
      "cell_type": "code",
      "source": [
        "decrypted_message = decrypt(private_key_hex, cipher_data)\n",
        "print(\"Decrypted Message:\", decrypted_message.decode())"
      ],
      "metadata": {
        "colab": {
          "base_uri": "https://localhost:8080/"
        },
        "id": "X-I6eiIld-G-",
        "outputId": "ce47408b-9dd6-4725-f6ad-341cfa75cec2"
      },
      "execution_count": 219,
      "outputs": [
        {
          "output_type": "stream",
          "name": "stdout",
          "text": [
            "Decrypted Message: 3348610401970005#christofer*derian*budianto#tegal#1997-03-04#laki-laki#b#jl.*pala*22*no.*30#005#017#mejasem*tengah#kramat#katholik#belum*kawin#pelajar/mahasiswa#wni#seumur*hidup\n"
          ]
        }
      ]
    },
    {
      "cell_type": "code",
      "source": [
        "decrypted_message.decode() == CONTENT"
      ],
      "metadata": {
        "colab": {
          "base_uri": "https://localhost:8080/"
        },
        "id": "_rkNt_OneMzX",
        "outputId": "e0218fe9-f9ed-4390-9ca1-acfe23371a39"
      },
      "execution_count": 220,
      "outputs": [
        {
          "output_type": "execute_result",
          "data": {
            "text/plain": [
              "True"
            ]
          },
          "metadata": {},
          "execution_count": 220
        }
      ]
    },
    {
      "cell_type": "markdown",
      "source": [
        "## Stego Metric"
      ],
      "metadata": {
        "id": "M3EztHsjePEZ"
      }
    },
    {
      "cell_type": "code",
      "source": [
        "calculate_stego_metrics(\"lsb_w_ECC_LZW.png\")"
      ],
      "metadata": {
        "colab": {
          "base_uri": "https://localhost:8080/"
        },
        "id": "jX-WOpBgeRVO",
        "outputId": "007f5238-3d61-4984-e260-cb0c6d6280a4"
      },
      "execution_count": 221,
      "outputs": [
        {
          "output_type": "stream",
          "name": "stdout",
          "text": [
            "Metrics between original (ori-image/lena.png) and stego image (lsb_w_ECC_LZW.png):\n",
            "MSE: 0.0021870930989583335\n",
            "PSNR: 74.73213090631685\n",
            "SSIM: 0.9999950870904414\n"
          ]
        },
        {
          "output_type": "execute_result",
          "data": {
            "text/plain": [
              "(0.0021870930989583335, 74.73213090631685, 0.9999950870904414)"
            ]
          },
          "metadata": {},
          "execution_count": 221
        }
      ]
    },
    {
      "cell_type": "markdown",
      "source": [
        "# LSB with Huffman"
      ],
      "metadata": {
        "id": "sy0JicR8evtx"
      }
    },
    {
      "cell_type": "code",
      "source": [
        "compressed_data"
      ],
      "metadata": {
        "colab": {
          "base_uri": "https://localhost:8080/"
        },
        "id": "BKts0VKxexp3",
        "outputId": "cd111897-b9d7-445b-f382-a1108c72c132"
      },
      "execution_count": 222,
      "outputs": [
        {
          "output_type": "execute_result",
          "data": {
            "text/plain": [
              "bytearray(b'\\x02\\xdfy>\\xa8\\x7f\\x12G\\xf7S\\x11\\x1e\\xfb\\xedYu\\xcf\\xc6)\\x91\\xd52\\xe6\\xc3\\xa3usi\\xf9\\xd3OD;\\xfb\\xae\\xa6\\xf8\\xde\\xf8\\x93\\x80\\xe1\\xef\\x03\\x87\\xed9\\x90\\xa2;\\x10#\\xf3\\xe0\\xdb\\xca#\\xbctG\\xbe\\x8f\\xe9\\xea\\xa3%iQ\\x9a[\\xd1Wc&\\xa6}\\x835x\\x0f\\x8e\\xd1\\x01\\xb5\\x1c\\x19^\\xdd\\xb2\\x01d\\xe5\\x85J\\x8a\\xddr\\x9e\\x96\\xcf\\xcbF\\xd5\\xb9\\x15>\\xad\\xd8')"
            ]
          },
          "metadata": {},
          "execution_count": 222
        }
      ]
    },
    {
      "cell_type": "code",
      "source": [
        "compressed_data.hex()"
      ],
      "metadata": {
        "colab": {
          "base_uri": "https://localhost:8080/",
          "height": 53
        },
        "id": "s96YZUTAe0Dl",
        "outputId": "a9f482d6-206f-4f43-8ecc-5d7f89cee2b5"
      },
      "execution_count": 223,
      "outputs": [
        {
          "output_type": "execute_result",
          "data": {
            "text/plain": [
              "'02df793ea87f1247f753111efbed5975cfc62991d532e6c3a3757369f9d34f443bfbaea6f8def89380e1ef0387ed3990a23b1023f3e0dbca23bc7447be8fe9eaa32569519a5bd1576326a67d8335780f8ed101b51c195eddb20164e5854a8add729e96cfcb46d5b9153eadd8'"
            ],
            "application/vnd.google.colaboratory.intrinsic+json": {
              "type": "string"
            }
          },
          "metadata": {},
          "execution_count": 223
        }
      ]
    },
    {
      "cell_type": "code",
      "source": [
        "embed_lsb(\"lsb_w_Huffman.png\", compressed_data.hex())"
      ],
      "metadata": {
        "id": "vHIvA2nCe-tQ"
      },
      "execution_count": 224,
      "outputs": []
    },
    {
      "cell_type": "code",
      "source": [
        "extracted_data = extract_lsb(\"lsb_w_Huffman.png\")\n",
        "extracted_data"
      ],
      "metadata": {
        "colab": {
          "base_uri": "https://localhost:8080/",
          "height": 53
        },
        "id": "3pGMhFBsfCzI",
        "outputId": "6f42c154-282d-4747-9ef5-8a5577d3b01b"
      },
      "execution_count": 225,
      "outputs": [
        {
          "output_type": "execute_result",
          "data": {
            "text/plain": [
              "'02df793ea87f1247f753111efbed5975cfc62991d532e6c3a3757369f9d34f443bfbaea6f8def89380e1ef0387ed3990a23b1023f3e0dbca23bc7447be8fe9eaa32569519a5bd1576326a67d8335780f8ed101b51c195eddb20164e5854a8add729e96cfcb46d5b9153eadd8'"
            ],
            "application/vnd.google.colaboratory.intrinsic+json": {
              "type": "string"
            }
          },
          "metadata": {},
          "execution_count": 225
        }
      ]
    },
    {
      "cell_type": "code",
      "source": [
        "huffman_data = bytearray.fromhex(extracted_data)\n",
        "huffman_data"
      ],
      "metadata": {
        "colab": {
          "base_uri": "https://localhost:8080/"
        },
        "id": "PrJpLftvfFwM",
        "outputId": "c87fc3cd-d7df-4a8e-d40a-37f64628dbd5"
      },
      "execution_count": 226,
      "outputs": [
        {
          "output_type": "execute_result",
          "data": {
            "text/plain": [
              "bytearray(b'\\x02\\xdfy>\\xa8\\x7f\\x12G\\xf7S\\x11\\x1e\\xfb\\xedYu\\xcf\\xc6)\\x91\\xd52\\xe6\\xc3\\xa3usi\\xf9\\xd3OD;\\xfb\\xae\\xa6\\xf8\\xde\\xf8\\x93\\x80\\xe1\\xef\\x03\\x87\\xed9\\x90\\xa2;\\x10#\\xf3\\xe0\\xdb\\xca#\\xbctG\\xbe\\x8f\\xe9\\xea\\xa3%iQ\\x9a[\\xd1Wc&\\xa6}\\x835x\\x0f\\x8e\\xd1\\x01\\xb5\\x1c\\x19^\\xdd\\xb2\\x01d\\xe5\\x85J\\x8a\\xddr\\x9e\\x96\\xcf\\xcbF\\xd5\\xb9\\x15>\\xad\\xd8')"
            ]
          },
          "metadata": {},
          "execution_count": 226
        }
      ]
    },
    {
      "cell_type": "code",
      "source": [
        "decompressed_data = huffman_decompress(huffman_data, huffman_tree)\n",
        "print(\"Decompressed Data (as bytes):\", decompressed_data)\n",
        "print(\"Decompressed Data (as string):\", decompressed_data.decode())"
      ],
      "metadata": {
        "colab": {
          "base_uri": "https://localhost:8080/"
        },
        "id": "oiQl7gyZfJXu",
        "outputId": "cc080442-a608-4d31-86c9-21c8129cefaa"
      },
      "execution_count": 227,
      "outputs": [
        {
          "output_type": "stream",
          "name": "stdout",
          "text": [
            "Decompressed Data (as bytes): bytearray(b'3348610401970005#christofer*derian*budianto#tegal#1997-03-04#laki-laki#b#jl.*pala*22*no.*30#005#017#mejasem*tengah#kramat#katholik#belum*kawin#pelajar/mahasiswa#wni#seumur*hidup')\n",
            "Decompressed Data (as string): 3348610401970005#christofer*derian*budianto#tegal#1997-03-04#laki-laki#b#jl.*pala*22*no.*30#005#017#mejasem*tengah#kramat#katholik#belum*kawin#pelajar/mahasiswa#wni#seumur*hidup\n"
          ]
        }
      ]
    },
    {
      "cell_type": "code",
      "source": [
        "decompressed_data.decode() == CONTENT"
      ],
      "metadata": {
        "colab": {
          "base_uri": "https://localhost:8080/"
        },
        "id": "MV7IiHMxfVIp",
        "outputId": "ad1be8d8-cb7a-477c-a6e4-0f2c805de4fb"
      },
      "execution_count": 228,
      "outputs": [
        {
          "output_type": "execute_result",
          "data": {
            "text/plain": [
              "True"
            ]
          },
          "metadata": {},
          "execution_count": 228
        }
      ]
    },
    {
      "cell_type": "markdown",
      "source": [
        "## Stego Metric"
      ],
      "metadata": {
        "id": "W_IzIl9bfZ22"
      }
    },
    {
      "cell_type": "code",
      "source": [
        "calculate_stego_metrics(\"lsb_w_Huffman.png\")"
      ],
      "metadata": {
        "colab": {
          "base_uri": "https://localhost:8080/"
        },
        "id": "Sz66lBy6fYIM",
        "outputId": "907f8f63-c5c9-425b-9195-0af970886a39"
      },
      "execution_count": 229,
      "outputs": [
        {
          "output_type": "stream",
          "name": "stdout",
          "text": [
            "Metrics between original (ori-image/lena.png) and stego image (lsb_w_Huffman.png):\n",
            "MSE: 0.00107574462890625\n",
            "PSNR: 77.81371174500211\n",
            "SSIM: 0.9999984186394683\n"
          ]
        },
        {
          "output_type": "execute_result",
          "data": {
            "text/plain": [
              "(0.00107574462890625, 77.81371174500211, 0.9999984186394683)"
            ]
          },
          "metadata": {},
          "execution_count": 229
        }
      ]
    },
    {
      "cell_type": "markdown",
      "source": [
        "# LSB with ECC, Huffman"
      ],
      "metadata": {
        "id": "zExfxd4tehlr"
      }
    },
    {
      "cell_type": "markdown",
      "source": [
        "## ECC"
      ],
      "metadata": {
        "id": "Ma5EkTCrfd_D"
      }
    },
    {
      "cell_type": "code",
      "source": [
        "ciphertext.hex()"
      ],
      "metadata": {
        "colab": {
          "base_uri": "https://localhost:8080/",
          "height": 105
        },
        "id": "8f5jChEEfe0D",
        "outputId": "0a8fd1ee-2470-4c5b-a6d7-c81a7bc02ee0"
      },
      "execution_count": 230,
      "outputs": [
        {
          "output_type": "execute_result",
          "data": {
            "text/plain": [
              "'04dd2a4b6cc7fc8addc7162361b4857a3010c24233c99f5f933e59dddc90f1586c9e1f14522af9bedae880b11948bf54f6fba6be811e540b525e1d5cc716d14e73573386b2e3cce5ec2462369e9a656a48c2e31b7668352bfbc89a684de65a5c2a6e10ad4702dca6e7235e635bfe59d90561f79384b77140e608ce5647593f32d148b48742929335e88e8d720adde35a418cc1a743a2bdbc67b35e5401dcc04bfc4c0c8a9ddc579a9613f206f4aa802fa1fca58b863d3f2666d935f94b68e9d803b25570e42bb7fd48b82938b864bf2f00795be553cff04ea653fc3115546ce95c39bf04e6b100df09cab21c5ea19921bc8006869458fe837c2df0cf77f500e9cf7c55ffd0386505a4aecae3726c3c62b3ec'"
            ],
            "application/vnd.google.colaboratory.intrinsic+json": {
              "type": "string"
            }
          },
          "metadata": {},
          "execution_count": 230
        }
      ]
    },
    {
      "cell_type": "markdown",
      "source": [
        "## Huffman"
      ],
      "metadata": {
        "id": "WjtrVM-Lfgvb"
      }
    },
    {
      "cell_type": "code",
      "source": [
        "# Example Usage of Huffman Compression/Decompression\n",
        "\n",
        "# Step 1: The original plaintext data (as a byte string)\n",
        "plaintext = ciphertext.hex().encode()\n",
        "\n",
        "# Print the original data\n",
        "print(\"Original Data (as bytes):\", plaintext)\n",
        "print(\"Original Data (as string):\", plaintext.decode())\n",
        "\n",
        "# Step 2: Compress the plaintext data using Huffman encoding\n",
        "compressed_data, huffman_tree = huffman_compress(plaintext)\n",
        "print(\"Compressed Data (in bytes):\", compressed_data)"
      ],
      "metadata": {
        "colab": {
          "base_uri": "https://localhost:8080/"
        },
        "id": "30bw3JE-fgPB",
        "outputId": "4ce86e13-a0d9-42f8-900c-345daa031996"
      },
      "execution_count": 231,
      "outputs": [
        {
          "output_type": "stream",
          "name": "stdout",
          "text": [
            "Original Data (as bytes): b'04dd2a4b6cc7fc8addc7162361b4857a3010c24233c99f5f933e59dddc90f1586c9e1f14522af9bedae880b11948bf54f6fba6be811e540b525e1d5cc716d14e73573386b2e3cce5ec2462369e9a656a48c2e31b7668352bfbc89a684de65a5c2a6e10ad4702dca6e7235e635bfe59d90561f79384b77140e608ce5647593f32d148b48742929335e88e8d720adde35a418cc1a743a2bdbc67b35e5401dcc04bfc4c0c8a9ddc579a9613f206f4aa802fa1fca58b863d3f2666d935f94b68e9d803b25570e42bb7fd48b82938b864bf2f00795be553cff04ea653fc3115546ce95c39bf04e6b100df09cab21c5ea19921bc8006869458fe837c2df0cf77f500e9cf7c55ffd0386505a4aecae3726c3c62b3ec'\n",
            "Original Data (as string): 04dd2a4b6cc7fc8addc7162361b4857a3010c24233c99f5f933e59dddc90f1586c9e1f14522af9bedae880b11948bf54f6fba6be811e540b525e1d5cc716d14e73573386b2e3cce5ec2462369e9a656a48c2e31b7668352bfbc89a684de65a5c2a6e10ad4702dca6e7235e635bfe59d90561f79384b77140e608ce5647593f32d148b48742929335e88e8d720adde35a418cc1a743a2bdbc67b35e5401dcc04bfc4c0c8a9ddc579a9613f206f4aa802fa1fca58b863d3f2666d935f94b68e9d803b25570e42bb7fd48b82938b864bf2f00795be553cff04ea653fc3115546ce95c39bf04e6b100df09cab21c5ea19921bc8006869458fe837c2df0cf77f500e9cf7c55ffd0386505a4aecae3726c3c62b3ec\n",
            "Compressed Data (in bytes): bytearray(b'\\x08x\"S\\x86\\xde\\xe0\\xae\\x93\"\\xe0\\x1d\\\\\\xd1h\\x9f\\x03\\xc7\\x17\\xe5\\x85\\xcc\\xe4J\\xfaL\\xcb\\xf4\".G\\xa1\\xf9\\xdeK\\x1a\\x18\\xf5S\\xa4k#\\xb9\\x97a\\x14\\x89j\\xf8\\xad\\xa6=k\\x91\\x1b\\xf8v\\xf5\\xfb\\x12\\xfe\\xe0\\x1d!\\x8b\\x0c\\xf0\\xcc\\x9de\\xbc\\xee\\xbf\\xbeX\\xd5\\xcdKC\\xdf\\xd3\\x89\\xe5\\xbc\\x16\\r\\xd9\\xcfV\\xa6\\xe9C\\xd9\\x82\\xbd\\xf3\\xfeS\\xdb\\x172\\x80u.=\\xb0\\\\\\xfb\\xdc\\xf6\\xab\\xf4$\\x7f\\xd1\\xa0L\\x98`\\x01\\x87\\xbdy\\xeb\\xfd\\x80\\xf4\\xca\\xc5!\\x89h\\x90\\x85EL\\xcf\\xb9\\x9b\\x92\\x05s\"\\xbc\\xf3\\x81\\x9e\\xe10\\x8c5bn\\xd0l\\xfb\\xf8q.\\xe7\\x86\\xae\\x8e~\\x93B.\\xf0CM\\x1c\\xa5}\\xa83\\x97Z1\\xae?\\x96\\x9d\\xc2\\xca]\\xdd$\\xcf\\xa4\\x86\\xd9\\xb4)|e\\xff\\x07\\xb8V`\\xa2\\x89iT\\xc9i\\xd8jZw\\x04\\xf6\\xbf\\xfc\\xea\\xa7\\x8b=\\xfc\\xae\\xc1\\x1f\\xf8\\xde\\xb4\\xfe\\xc4jx\\xbdaw*t\\xe3e\\x1e\\xfb1DQn\\x97}\\x9dH\\xf9\\xab\\x9c\\x0eR\\xa7\\xea\\x00\\xafw\\xb4\\xea\\x0e\\xff\\xaa\\'\\xc9\\xdf\\x7f8;\\xe3\\xbc\\x05\\xde\\xce\\xd5l\\xbe\\x00')\n"
          ]
        }
      ]
    },
    {
      "cell_type": "markdown",
      "source": [
        "## LSB"
      ],
      "metadata": {
        "id": "kg2GePiAfqg0"
      }
    },
    {
      "cell_type": "code",
      "source": [
        "compressed_data"
      ],
      "metadata": {
        "colab": {
          "base_uri": "https://localhost:8080/"
        },
        "id": "jhKafspnfrgd",
        "outputId": "307837de-d8fd-4d76-a378-7bfdcad84f70"
      },
      "execution_count": 232,
      "outputs": [
        {
          "output_type": "execute_result",
          "data": {
            "text/plain": [
              "bytearray(b'\\x08x\"S\\x86\\xde\\xe0\\xae\\x93\"\\xe0\\x1d\\\\\\xd1h\\x9f\\x03\\xc7\\x17\\xe5\\x85\\xcc\\xe4J\\xfaL\\xcb\\xf4\".G\\xa1\\xf9\\xdeK\\x1a\\x18\\xf5S\\xa4k#\\xb9\\x97a\\x14\\x89j\\xf8\\xad\\xa6=k\\x91\\x1b\\xf8v\\xf5\\xfb\\x12\\xfe\\xe0\\x1d!\\x8b\\x0c\\xf0\\xcc\\x9de\\xbc\\xee\\xbf\\xbeX\\xd5\\xcdKC\\xdf\\xd3\\x89\\xe5\\xbc\\x16\\r\\xd9\\xcfV\\xa6\\xe9C\\xd9\\x82\\xbd\\xf3\\xfeS\\xdb\\x172\\x80u.=\\xb0\\\\\\xfb\\xdc\\xf6\\xab\\xf4$\\x7f\\xd1\\xa0L\\x98`\\x01\\x87\\xbdy\\xeb\\xfd\\x80\\xf4\\xca\\xc5!\\x89h\\x90\\x85EL\\xcf\\xb9\\x9b\\x92\\x05s\"\\xbc\\xf3\\x81\\x9e\\xe10\\x8c5bn\\xd0l\\xfb\\xf8q.\\xe7\\x86\\xae\\x8e~\\x93B.\\xf0CM\\x1c\\xa5}\\xa83\\x97Z1\\xae?\\x96\\x9d\\xc2\\xca]\\xdd$\\xcf\\xa4\\x86\\xd9\\xb4)|e\\xff\\x07\\xb8V`\\xa2\\x89iT\\xc9i\\xd8jZw\\x04\\xf6\\xbf\\xfc\\xea\\xa7\\x8b=\\xfc\\xae\\xc1\\x1f\\xf8\\xde\\xb4\\xfe\\xc4jx\\xbdaw*t\\xe3e\\x1e\\xfb1DQn\\x97}\\x9dH\\xf9\\xab\\x9c\\x0eR\\xa7\\xea\\x00\\xafw\\xb4\\xea\\x0e\\xff\\xaa\\'\\xc9\\xdf\\x7f8;\\xe3\\xbc\\x05\\xde\\xce\\xd5l\\xbe\\x00')"
            ]
          },
          "metadata": {},
          "execution_count": 232
        }
      ]
    },
    {
      "cell_type": "code",
      "source": [
        "compressed_data.hex()"
      ],
      "metadata": {
        "colab": {
          "base_uri": "https://localhost:8080/",
          "height": 105
        },
        "id": "Yp1TKkPVfsI8",
        "outputId": "3b9c9d4e-47fa-423a-bfbc-9a72e62fb03a"
      },
      "execution_count": 233,
      "outputs": [
        {
          "output_type": "execute_result",
          "data": {
            "text/plain": [
              "'0878225386dee0ae9322e01d5cd1689f03c717e585cce44afa4ccbf4222e47a1f9de4b1a18f553a46b23b9976114896af8ada63d6b911bf876f5fb12fee01d218b0cf0cc9d65bceebfbe58d5cd4b43dfd389e5bc160dd9cf56a6e943d982bdf3fe53db173280752e3db05cfbdcf6abf4247fd1a04c98600187bd79ebfd80f4cac52189689085454ccfb99b92057322bcf3819ee1308c35626ed06cfbf8712ee786ae8e7e93422ef0434d1ca57da833975a31ae3f969dc2ca5ddd24cfa486d9b4297c65ff07b85660a2896954c969d86a5a7704f6bffceaa78b3dfcaec11ff8deb4fec46a78bd61772a74e3651efb3144516e977d9d48f9ab9c0e52a7ea00af77b4ea0effaa27c9df7f383be3bc05deced56cbe00'"
            ],
            "application/vnd.google.colaboratory.intrinsic+json": {
              "type": "string"
            }
          },
          "metadata": {},
          "execution_count": 233
        }
      ]
    },
    {
      "cell_type": "code",
      "source": [
        "embed_lsb('LSB_w_ECC_Huffman.png', compressed_data.hex())"
      ],
      "metadata": {
        "id": "E3jSBrvXfxPh"
      },
      "execution_count": 234,
      "outputs": []
    },
    {
      "cell_type": "code",
      "source": [
        "extracted_data = extract_lsb('LSB_w_ECC_Huffman.png')\n",
        "extracted_data"
      ],
      "metadata": {
        "colab": {
          "base_uri": "https://localhost:8080/",
          "height": 105
        },
        "id": "lnHiKVN6f5Zj",
        "outputId": "2406a72b-95ee-4334-a784-16a601a8ae9c"
      },
      "execution_count": 236,
      "outputs": [
        {
          "output_type": "execute_result",
          "data": {
            "text/plain": [
              "'0878225386dee0ae9322e01d5cd1689f03c717e585cce44afa4ccbf4222e47a1f9de4b1a18f553a46b23b9976114896af8ada63d6b911bf876f5fb12fee01d218b0cf0cc9d65bceebfbe58d5cd4b43dfd389e5bc160dd9cf56a6e943d982bdf3fe53db173280752e3db05cfbdcf6abf4247fd1a04c98600187bd79ebfd80f4cac52189689085454ccfb99b92057322bcf3819ee1308c35626ed06cfbf8712ee786ae8e7e93422ef0434d1ca57da833975a31ae3f969dc2ca5ddd24cfa486d9b4297c65ff07b85660a2896954c969d86a5a7704f6bffceaa78b3dfcaec11ff8deb4fec46a78bd61772a74e3651efb3144516e977d9d48f9ab9c0e52a7ea00af77b4ea0effaa27c9df7f383be3bc05deced56cbe00'"
            ],
            "application/vnd.google.colaboratory.intrinsic+json": {
              "type": "string"
            }
          },
          "metadata": {},
          "execution_count": 236
        }
      ]
    },
    {
      "cell_type": "code",
      "source": [
        "huffman_data = bytearray.fromhex(extracted_data)\n",
        "huffman_data"
      ],
      "metadata": {
        "colab": {
          "base_uri": "https://localhost:8080/"
        },
        "id": "YIPgnZxqgHxy",
        "outputId": "c3461fc4-ab12-4a02-931e-a6e54a09a2d0"
      },
      "execution_count": 237,
      "outputs": [
        {
          "output_type": "execute_result",
          "data": {
            "text/plain": [
              "bytearray(b'\\x08x\"S\\x86\\xde\\xe0\\xae\\x93\"\\xe0\\x1d\\\\\\xd1h\\x9f\\x03\\xc7\\x17\\xe5\\x85\\xcc\\xe4J\\xfaL\\xcb\\xf4\".G\\xa1\\xf9\\xdeK\\x1a\\x18\\xf5S\\xa4k#\\xb9\\x97a\\x14\\x89j\\xf8\\xad\\xa6=k\\x91\\x1b\\xf8v\\xf5\\xfb\\x12\\xfe\\xe0\\x1d!\\x8b\\x0c\\xf0\\xcc\\x9de\\xbc\\xee\\xbf\\xbeX\\xd5\\xcdKC\\xdf\\xd3\\x89\\xe5\\xbc\\x16\\r\\xd9\\xcfV\\xa6\\xe9C\\xd9\\x82\\xbd\\xf3\\xfeS\\xdb\\x172\\x80u.=\\xb0\\\\\\xfb\\xdc\\xf6\\xab\\xf4$\\x7f\\xd1\\xa0L\\x98`\\x01\\x87\\xbdy\\xeb\\xfd\\x80\\xf4\\xca\\xc5!\\x89h\\x90\\x85EL\\xcf\\xb9\\x9b\\x92\\x05s\"\\xbc\\xf3\\x81\\x9e\\xe10\\x8c5bn\\xd0l\\xfb\\xf8q.\\xe7\\x86\\xae\\x8e~\\x93B.\\xf0CM\\x1c\\xa5}\\xa83\\x97Z1\\xae?\\x96\\x9d\\xc2\\xca]\\xdd$\\xcf\\xa4\\x86\\xd9\\xb4)|e\\xff\\x07\\xb8V`\\xa2\\x89iT\\xc9i\\xd8jZw\\x04\\xf6\\xbf\\xfc\\xea\\xa7\\x8b=\\xfc\\xae\\xc1\\x1f\\xf8\\xde\\xb4\\xfe\\xc4jx\\xbdaw*t\\xe3e\\x1e\\xfb1DQn\\x97}\\x9dH\\xf9\\xab\\x9c\\x0eR\\xa7\\xea\\x00\\xafw\\xb4\\xea\\x0e\\xff\\xaa\\'\\xc9\\xdf\\x7f8;\\xe3\\xbc\\x05\\xde\\xce\\xd5l\\xbe\\x00')"
            ]
          },
          "metadata": {},
          "execution_count": 237
        }
      ]
    },
    {
      "cell_type": "code",
      "source": [
        "decompressed_data = huffman_decompress(huffman_data, huffman_tree)\n",
        "print(\"Decompressed Data (as bytes):\", decompressed_data)\n",
        "print(\"Decompressed Data (as string):\", decompressed_data.decode())"
      ],
      "metadata": {
        "colab": {
          "base_uri": "https://localhost:8080/"
        },
        "id": "l-OAUTmMgjS-",
        "outputId": "b6c66e72-cf66-4b2f-e453-9af122fd9742"
      },
      "execution_count": 238,
      "outputs": [
        {
          "output_type": "stream",
          "name": "stdout",
          "text": [
            "Decompressed Data (as bytes): bytearray(b'04dd2a4b6cc7fc8addc7162361b4857a3010c24233c99f5f933e59dddc90f1586c9e1f14522af9bedae880b11948bf54f6fba6be811e540b525e1d5cc716d14e73573386b2e3cce5ec2462369e9a656a48c2e31b7668352bfbc89a684de65a5c2a6e10ad4702dca6e7235e635bfe59d90561f79384b77140e608ce5647593f32d148b48742929335e88e8d720adde35a418cc1a743a2bdbc67b35e5401dcc04bfc4c0c8a9ddc579a9613f206f4aa802fa1fca58b863d3f2666d935f94b68e9d803b25570e42bb7fd48b82938b864bf2f00795be553cff04ea653fc3115546ce95c39bf04e6b100df09cab21c5ea19921bc8006869458fe837c2df0cf77f500e9cf7c55ffd0386505a4aecae3726c3c62b3ec')\n",
            "Decompressed Data (as string): 04dd2a4b6cc7fc8addc7162361b4857a3010c24233c99f5f933e59dddc90f1586c9e1f14522af9bedae880b11948bf54f6fba6be811e540b525e1d5cc716d14e73573386b2e3cce5ec2462369e9a656a48c2e31b7668352bfbc89a684de65a5c2a6e10ad4702dca6e7235e635bfe59d90561f79384b77140e608ce5647593f32d148b48742929335e88e8d720adde35a418cc1a743a2bdbc67b35e5401dcc04bfc4c0c8a9ddc579a9613f206f4aa802fa1fca58b863d3f2666d935f94b68e9d803b25570e42bb7fd48b82938b864bf2f00795be553cff04ea653fc3115546ce95c39bf04e6b100df09cab21c5ea19921bc8006869458fe837c2df0cf77f500e9cf7c55ffd0386505a4aecae3726c3c62b3ec\n"
          ]
        }
      ]
    },
    {
      "cell_type": "code",
      "source": [
        "cipher_data = bytes.fromhex(decompressed_data.decode())\n",
        "cipher_data"
      ],
      "metadata": {
        "colab": {
          "base_uri": "https://localhost:8080/"
        },
        "id": "5YdfSlZ-gn3m",
        "outputId": "a26d5789-cadf-472c-b862-a840e7d3d9b7"
      },
      "execution_count": 239,
      "outputs": [
        {
          "output_type": "execute_result",
          "data": {
            "text/plain": [
              "b'\\x04\\xdd*Kl\\xc7\\xfc\\x8a\\xdd\\xc7\\x16#a\\xb4\\x85z0\\x10\\xc2B3\\xc9\\x9f_\\x93>Y\\xdd\\xdc\\x90\\xf1Xl\\x9e\\x1f\\x14R*\\xf9\\xbe\\xda\\xe8\\x80\\xb1\\x19H\\xbfT\\xf6\\xfb\\xa6\\xbe\\x81\\x1eT\\x0bR^\\x1d\\\\\\xc7\\x16\\xd1NsW3\\x86\\xb2\\xe3\\xcc\\xe5\\xec$b6\\x9e\\x9aejH\\xc2\\xe3\\x1bvh5+\\xfb\\xc8\\x9ahM\\xe6Z\\\\*n\\x10\\xadG\\x02\\xdc\\xa6\\xe7#^c[\\xfeY\\xd9\\x05a\\xf7\\x93\\x84\\xb7q@\\xe6\\x08\\xceVGY?2\\xd1H\\xb4\\x87B\\x92\\x935\\xe8\\x8e\\x8dr\\n\\xdd\\xe3ZA\\x8c\\xc1\\xa7C\\xa2\\xbd\\xbcg\\xb3^T\\x01\\xdc\\xc0K\\xfcL\\x0c\\x8a\\x9d\\xdcW\\x9a\\x96\\x13\\xf2\\x06\\xf4\\xaa\\x80/\\xa1\\xfc\\xa5\\x8b\\x86=?&f\\xd95\\xf9Kh\\xe9\\xd8\\x03\\xb2Up\\xe4+\\xb7\\xfdH\\xb8)8\\xb8d\\xbf/\\x00y[\\xe5S\\xcf\\xf0N\\xa6S\\xfc1\\x15Tl\\xe9\\\\9\\xbf\\x04\\xe6\\xb1\\x00\\xdf\\t\\xca\\xb2\\x1c^\\xa1\\x99!\\xbc\\x80\\x06\\x86\\x94X\\xfe\\x83|-\\xf0\\xcfw\\xf5\\x00\\xe9\\xcf|U\\xff\\xd08e\\x05\\xa4\\xae\\xca\\xe3rl<b\\xb3\\xec'"
            ]
          },
          "metadata": {},
          "execution_count": 239
        }
      ]
    },
    {
      "cell_type": "code",
      "source": [
        "decrypted_message = decrypt(private_key_hex, cipher_data)\n",
        "print(\"Decrypted Message:\", decrypted_message.decode())"
      ],
      "metadata": {
        "colab": {
          "base_uri": "https://localhost:8080/"
        },
        "id": "b0r3sNaZgqBt",
        "outputId": "5f12917a-16ea-4a04-e9f2-ee95b2c512f3"
      },
      "execution_count": 240,
      "outputs": [
        {
          "output_type": "stream",
          "name": "stdout",
          "text": [
            "Decrypted Message: 3348610401970005#christofer*derian*budianto#tegal#1997-03-04#laki-laki#b#jl.*pala*22*no.*30#005#017#mejasem*tengah#kramat#katholik#belum*kawin#pelajar/mahasiswa#wni#seumur*hidup\n"
          ]
        }
      ]
    },
    {
      "cell_type": "code",
      "source": [
        "decrypted_message.decode() == CONTENT"
      ],
      "metadata": {
        "colab": {
          "base_uri": "https://localhost:8080/"
        },
        "id": "8LuzJJNTguAw",
        "outputId": "96101326-6378-4fb6-c00a-282940f580a3"
      },
      "execution_count": 241,
      "outputs": [
        {
          "output_type": "execute_result",
          "data": {
            "text/plain": [
              "True"
            ]
          },
          "metadata": {},
          "execution_count": 241
        }
      ]
    },
    {
      "cell_type": "markdown",
      "source": [
        "## Stego Metric"
      ],
      "metadata": {
        "id": "ST5v8K5egxUY"
      }
    },
    {
      "cell_type": "code",
      "source": [
        "calculate_stego_metrics('LSB_w_ECC_Huffman.png')"
      ],
      "metadata": {
        "colab": {
          "base_uri": "https://localhost:8080/"
        },
        "id": "CneXatA_gzpQ",
        "outputId": "805e6de1-b701-42fe-a37a-156c012a85cb"
      },
      "execution_count": 242,
      "outputs": [
        {
          "output_type": "stream",
          "name": "stdout",
          "text": [
            "Metrics between original (ori-image/lena.png) and stego image (LSB_w_ECC_Huffman.png):\n",
            "MSE: 0.002719879150390625\n",
            "PSNR: 73.78530752967707\n",
            "SSIM: 0.9999931274953937\n"
          ]
        },
        {
          "output_type": "execute_result",
          "data": {
            "text/plain": [
              "(0.002719879150390625, 73.78530752967707, 0.9999931274953937)"
            ]
          },
          "metadata": {},
          "execution_count": 242
        }
      ]
    }
  ]
}