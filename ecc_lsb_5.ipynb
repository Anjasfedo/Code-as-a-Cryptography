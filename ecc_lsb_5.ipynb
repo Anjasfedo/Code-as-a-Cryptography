{
  "nbformat": 4,
  "nbformat_minor": 0,
  "metadata": {
    "colab": {
      "provenance": [],
      "toc_visible": true,
      "authorship_tag": "ABX9TyNUeB04+kuLocNHEu15DAXz",
      "include_colab_link": true
    },
    "kernelspec": {
      "name": "python3",
      "display_name": "Python 3"
    },
    "language_info": {
      "name": "python"
    }
  },
  "cells": [
    {
      "cell_type": "markdown",
      "metadata": {
        "id": "view-in-github",
        "colab_type": "text"
      },
      "source": [
        "<a href=\"https://colab.research.google.com/github/Anjasfedo/Code-as-a-Cryptography/blob/main/ecc_lsb_5.ipynb\" target=\"_parent\"><img src=\"https://colab.research.google.com/assets/colab-badge.svg\" alt=\"Open In Colab\"/></a>"
      ]
    },
    {
      "cell_type": "markdown",
      "source": [
        "# Elliptic Curve Criptography\n",
        "\n",
        "with library that use schema of ECDH + AES\n",
        "1. Elliptic Curve Diffle Hellman for key exchange\n",
        "2. AES to encrypt & decrypt the massage/plaintext"
      ],
      "metadata": {
        "id": "6yRyoaWuSEpu"
      }
    },
    {
      "cell_type": "code",
      "execution_count": 1,
      "metadata": {
        "colab": {
          "base_uri": "https://localhost:8080/"
        },
        "id": "6XkJG6_2RuAn",
        "outputId": "fd3e5067-ba1c-4514-d636-d599183a6ad7"
      },
      "outputs": [
        {
          "output_type": "stream",
          "name": "stdout",
          "text": [
            "Collecting eciespy\n",
            "  Downloading eciespy-0.4.2-py3-none-any.whl.metadata (6.6 kB)\n",
            "Collecting coincurve<20,>=13 (from eciespy)\n",
            "  Downloading coincurve-19.0.1-cp310-cp310-manylinux_2_17_x86_64.manylinux2014_x86_64.whl.metadata (3.7 kB)\n",
            "Collecting eth-keys<0.6,>=0.4 (from eciespy)\n",
            "  Downloading eth_keys-0.5.1-py3-none-any.whl.metadata (13 kB)\n",
            "Collecting pycryptodome<4.0.0,>=3.19.1 (from eciespy)\n",
            "  Downloading pycryptodome-3.21.0-cp36-abi3-manylinux_2_17_x86_64.manylinux2014_x86_64.whl.metadata (3.4 kB)\n",
            "Collecting asn1crypto (from coincurve<20,>=13->eciespy)\n",
            "  Downloading asn1crypto-1.5.1-py2.py3-none-any.whl.metadata (13 kB)\n",
            "Requirement already satisfied: cffi>=1.3.0 in /usr/local/lib/python3.10/dist-packages (from coincurve<20,>=13->eciespy) (1.17.1)\n",
            "Collecting eth-utils>=2 (from eth-keys<0.6,>=0.4->eciespy)\n",
            "  Downloading eth_utils-5.0.0-py3-none-any.whl.metadata (5.4 kB)\n",
            "Collecting eth-typing>=3 (from eth-keys<0.6,>=0.4->eciespy)\n",
            "  Downloading eth_typing-5.0.0-py3-none-any.whl.metadata (5.1 kB)\n",
            "Requirement already satisfied: pycparser in /usr/local/lib/python3.10/dist-packages (from cffi>=1.3.0->coincurve<20,>=13->eciespy) (2.22)\n",
            "Requirement already satisfied: typing-extensions>=4.5.0 in /usr/local/lib/python3.10/dist-packages (from eth-typing>=3->eth-keys<0.6,>=0.4->eciespy) (4.12.2)\n",
            "Collecting eth-hash>=0.3.1 (from eth-utils>=2->eth-keys<0.6,>=0.4->eciespy)\n",
            "  Downloading eth_hash-0.7.0-py3-none-any.whl.metadata (5.4 kB)\n",
            "Collecting hexbytes>=1.0.0 (from eth-utils>=2->eth-keys<0.6,>=0.4->eciespy)\n",
            "  Downloading hexbytes-1.2.1-py3-none-any.whl.metadata (3.7 kB)\n",
            "Collecting cytoolz>=0.10.1 (from eth-utils>=2->eth-keys<0.6,>=0.4->eciespy)\n",
            "  Downloading cytoolz-1.0.0-cp310-cp310-manylinux_2_17_x86_64.manylinux2014_x86_64.whl.metadata (4.5 kB)\n",
            "Requirement already satisfied: toolz>=0.8.0 in /usr/local/lib/python3.10/dist-packages (from cytoolz>=0.10.1->eth-utils>=2->eth-keys<0.6,>=0.4->eciespy) (0.12.1)\n",
            "Downloading eciespy-0.4.2-py3-none-any.whl (10 kB)\n",
            "Downloading coincurve-19.0.1-cp310-cp310-manylinux_2_17_x86_64.manylinux2014_x86_64.whl (1.4 MB)\n",
            "\u001b[2K   \u001b[90m━━━━━━━━━━━━━━━━━━━━━━━━━━━━━━━━━━━━━━━━\u001b[0m \u001b[32m1.4/1.4 MB\u001b[0m \u001b[31m24.6 MB/s\u001b[0m eta \u001b[36m0:00:00\u001b[0m\n",
            "\u001b[?25hDownloading eth_keys-0.5.1-py3-none-any.whl (21 kB)\n",
            "Downloading pycryptodome-3.21.0-cp36-abi3-manylinux_2_17_x86_64.manylinux2014_x86_64.whl (2.3 MB)\n",
            "\u001b[2K   \u001b[90m━━━━━━━━━━━━━━━━━━━━━━━━━━━━━━━━━━━━━━━━\u001b[0m \u001b[32m2.3/2.3 MB\u001b[0m \u001b[31m50.7 MB/s\u001b[0m eta \u001b[36m0:00:00\u001b[0m\n",
            "\u001b[?25hDownloading eth_typing-5.0.0-py3-none-any.whl (20 kB)\n",
            "Downloading eth_utils-5.0.0-py3-none-any.whl (100 kB)\n",
            "\u001b[2K   \u001b[90m━━━━━━━━━━━━━━━━━━━━━━━━━━━━━━━━━━━━━━━━\u001b[0m \u001b[32m100.5/100.5 kB\u001b[0m \u001b[31m7.2 MB/s\u001b[0m eta \u001b[36m0:00:00\u001b[0m\n",
            "\u001b[?25hDownloading asn1crypto-1.5.1-py2.py3-none-any.whl (105 kB)\n",
            "\u001b[2K   \u001b[90m━━━━━━━━━━━━━━━━━━━━━━━━━━━━━━━━━━━━━━━━\u001b[0m \u001b[32m105.0/105.0 kB\u001b[0m \u001b[31m6.6 MB/s\u001b[0m eta \u001b[36m0:00:00\u001b[0m\n",
            "\u001b[?25hDownloading cytoolz-1.0.0-cp310-cp310-manylinux_2_17_x86_64.manylinux2014_x86_64.whl (2.0 MB)\n",
            "\u001b[2K   \u001b[90m━━━━━━━━━━━━━━━━━━━━━━━━━━━━━━━━━━━━━━━━\u001b[0m \u001b[32m2.0/2.0 MB\u001b[0m \u001b[31m44.4 MB/s\u001b[0m eta \u001b[36m0:00:00\u001b[0m\n",
            "\u001b[?25hDownloading eth_hash-0.7.0-py3-none-any.whl (8.7 kB)\n",
            "Downloading hexbytes-1.2.1-py3-none-any.whl (5.2 kB)\n",
            "Installing collected packages: asn1crypto, pycryptodome, hexbytes, eth-typing, eth-hash, cytoolz, eth-utils, coincurve, eth-keys, eciespy\n",
            "Successfully installed asn1crypto-1.5.1 coincurve-19.0.1 cytoolz-1.0.0 eciespy-0.4.2 eth-hash-0.7.0 eth-keys-0.5.1 eth-typing-5.0.0 eth-utils-5.0.0 hexbytes-1.2.1 pycryptodome-3.21.0\n"
          ]
        }
      ],
      "source": [
        "!pip install eciespy"
      ]
    },
    {
      "cell_type": "code",
      "source": [
        "CONTENT = \"3348610401970005#christofer*derian*budianto#tegal#1997-03-04#laki-laki#b#jl.*pala*22*no.*30#005#017#mejasem*tengah#kramat#katholik#belum*kawin#pelajar/mahasiswa#wni#seumur*hidup\""
      ],
      "metadata": {
        "id": "2IyBhygNStFO"
      },
      "execution_count": 2,
      "outputs": []
    },
    {
      "cell_type": "code",
      "source": [
        "from ecies.utils import generate_eth_key\n",
        "from ecies import encrypt, decrypt\n",
        "\n",
        "private_key = generate_eth_key()\n",
        "public_key = private_key.public_key\n",
        "\n",
        "public_key_hex = public_key.to_hex()\n",
        "private_key_hex = private_key.to_hex()\n",
        "\n",
        "print(\"Public Key:\", public_key_hex)\n",
        "print(\"Private Key:\", private_key_hex)\n",
        "\n",
        "ciphertext = encrypt(public_key_hex, CONTENT.encode())\n",
        "\n",
        "print(\"Ciphertext:\", ciphertext.hex())\n",
        "\n",
        "decrypted_message = decrypt(private_key_hex, ciphertext)\n",
        "print(\"Decrypted Message:\", decrypted_message.decode())"
      ],
      "metadata": {
        "colab": {
          "base_uri": "https://localhost:8080/"
        },
        "id": "kZQAQRNBSJLX",
        "outputId": "c56746fa-86e5-4747-e10c-19ed4b01f92b"
      },
      "execution_count": 3,
      "outputs": [
        {
          "output_type": "stream",
          "name": "stdout",
          "text": [
            "Public Key: 0x718c2f8b05c8dc1e76d90bb368bcaea09992408acdaa45bde98d8efed379203bf9fe3eaffc8276bc9b30b20084230e6f7dd093aa5084479909594b8fbe2d8235\n",
            "Private Key: 0xe9eb19ef6dfe4e62c9dde0c1c5c89f2e8d0cfa35400ee6bc75981b2c7099b24b\n",
            "Ciphertext: 046af46f26833e6e03be333576aed3981ee96202e4d565f882a941102e00480982e8b6f00075d49e84cf5665b5eafb23d36cbf9dbdf0f7d605fae8475267183c4a7cff345adcc59b0165d0499198eaf2ebb345c2bf8663567e4da736f84b88df8ac71a89f6e5e079648d7bb8cf675b49158a167e8013abce866516281c3b0aba1295c38fdb30be1f4e9ac2b559d7597413162fbd74f528576b6ef90d828d40abd8fcdd0da80f2eb139de5c6f04ef5c18eb84bcf38f884ce6b6550ec44556beb9109b09e77fa8c42ecc0334951efaf6f224114c2d9c107b2fd6fc2d30feae92f647ee9d5f4d89de1291bec26d092d157ee006d9e6963ce15f930dd3d1535a7fa73219527b6b242f92e9ad48f8abcce4515440\n",
            "Decrypted Message: 3348610401970005#christofer*derian*budianto#tegal#1997-03-04#laki-laki#b#jl.*pala*22*no.*30#005#017#mejasem*tengah#kramat#katholik#belum*kawin#pelajar/mahasiswa#wni#seumur*hidup\n"
          ]
        }
      ]
    },
    {
      "cell_type": "markdown",
      "source": [
        "# Koblitz Method & Elliptic Curve El Gamal"
      ],
      "metadata": {
        "id": "wxCDwFl-g6w2"
      }
    },
    {
      "cell_type": "markdown",
      "source": [
        "## Koblitz Method\n",
        "\n",
        "to encode & decode integer to coordinate point on cartesius"
      ],
      "metadata": {
        "id": "olXB2S_lhAfH"
      }
    },
    {
      "cell_type": "code",
      "source": [
        "# Parameters\n",
        "p = 751  # prime modulus\n",
        "k = 20    # chosen small integer\n",
        "a = -1    # coefficient of x in the elliptic curve\n",
        "b = 188    # constant in the elliptic curve"
      ],
      "metadata": {
        "id": "PHgSrlLSg9Gj"
      },
      "execution_count": 72,
      "outputs": []
    },
    {
      "cell_type": "markdown",
      "source": [
        "### Char to Num & Num to Char"
      ],
      "metadata": {
        "id": "uOGW_y14hQXn"
      }
    },
    {
      "cell_type": "code",
      "source": [
        "# Manually create dictionaries for char-to-num and num-to-char mappings\n",
        "char_to_num_dict = {\n",
        "    '0': 10, '1': 11,\n",
        "    'a': 12, 'b': 13, 'c': 14, 'd': 15, 'e': 16, 'f': 17, 'g': 18, 'h': 19,\n",
        "    'i': 20, 'j': 21, 'k': 22, 'l': 23, 'm': 24, 'n': 25, 'o': 26, 'p': 27,\n",
        "    'q': 28, 'r': 29, 's': 30, 't': 31, 'u': 32, 'v': 33, 'w': 34, 'x': 35\n",
        "}\n",
        "\n",
        "# Reverse dictionary for num-to-char mapping\n",
        "num_to_char_dict = {v: k for k, v in char_to_num_dict.items()}\n",
        "\n",
        "# Function to map char to num\n",
        "def char_to_num(char):\n",
        "    if char in char_to_num_dict:\n",
        "        return char_to_num_dict[char]\n",
        "    else:\n",
        "        raise ValueError(f\"Character '{char}' is not valid. Please use '0-1' or 'a-x'.\")\n",
        "\n",
        "# Function to map num to char\n",
        "def num_to_char(num):\n",
        "    if num in num_to_char_dict:\n",
        "        return num_to_char_dict[num]\n",
        "    else:\n",
        "        raise ValueError(f\"Number '{num}' is not valid. Please use numbers in the range 10-35.\")\n",
        "\n",
        "def message_to_koblitz(message):\n",
        "    # Convert the message to a list of characters\n",
        "    chars = list(message)\n",
        "\n",
        "    koblitz = []\n",
        "    for char in chars:\n",
        "        num = char_to_num(char)\n",
        "        koblitz.append(num)\n",
        "\n",
        "    return koblitz\n",
        "\n",
        "def koblitz_to_message(koblitz):\n",
        "    message = []\n",
        "    for num in koblitz:\n",
        "        char = num_to_char(num)\n",
        "        message.append(char)\n",
        "\n",
        "    return ''.join(message)\n",
        "\n",
        "# Test mapping from char to num\n",
        "chars = '01ax'\n",
        "\n",
        "koblitz_message = message_to_koblitz(chars)\n",
        "print(\"Koblitz Message:\", koblitz_message)\n",
        "\n",
        "message = koblitz_to_message(koblitz_message)\n",
        "print(\"Message:\", message)"
      ],
      "metadata": {
        "colab": {
          "base_uri": "https://localhost:8080/"
        },
        "id": "k1eYTRpHg_lz",
        "outputId": "c28184b5-aa58-4905-894c-38c14959511b"
      },
      "execution_count": 73,
      "outputs": [
        {
          "output_type": "stream",
          "name": "stdout",
          "text": [
            "Koblitz Message: [10, 11, 12, 35]\n",
            "Message: 01ax\n"
          ]
        }
      ]
    },
    {
      "cell_type": "markdown",
      "source": [
        "### Koblitz Encoding"
      ],
      "metadata": {
        "id": "oRk-3TyvhWVI"
      }
    },
    {
      "cell_type": "code",
      "source": [
        "import sympy as sp\n",
        "\n",
        "# Elliptic curve equation: y^2 = x^3 + ax + b mod p\n",
        "def koblitz_encode(m, max_attempts=1000):\n",
        "    num = 1  # Start with x = m * k + 1\n",
        "    attempts = 0\n",
        "\n",
        "    while attempts < max_attempts:\n",
        "        x = m * k + num\n",
        "        rhs = (x**3 + a * x + b) % p  # right-hand side of the elliptic curve equation\n",
        "\n",
        "        # Check if rhs is a quadratic residue modulo p\n",
        "        if sp.is_quad_residue(rhs, p):\n",
        "            y = sp.sqrt_mod(rhs, p)\n",
        "            return (x, y)  # Return the point (x, y) as a tuple\n",
        "\n",
        "        num += 1  # Increment to check next x value\n",
        "        attempts += 1\n",
        "\n",
        "    # If no valid point is found after max_attempts\n",
        "    raise ValueError(f\"No valid point found after {max_attempts} attempts for message {m}.\")\n",
        "\n",
        "def koblitz_encode_message(message):\n",
        "  encoded_points = []\n",
        "  for char in message:\n",
        "    encoded_point = koblitz_encode(char)\n",
        "    encoded_points.append(encoded_point)\n",
        "    print(f\"Encoded point for character '{char}': {encoded_point}\")\n",
        "\n",
        "  return encoded_points\n",
        "\n",
        "encoded_points = koblitz_encode_message(koblitz_message)\n",
        "encoded_points"
      ],
      "metadata": {
        "colab": {
          "base_uri": "https://localhost:8080/"
        },
        "id": "vdWvtdKmhH8w",
        "outputId": "12fda22c-c599-4795-c08c-c037a71e7bac"
      },
      "execution_count": 74,
      "outputs": [
        {
          "output_type": "stream",
          "name": "stdout",
          "text": [
            "Encoded point for character '10': (201, 5)\n",
            "Encoded point for character '11': (224, 248)\n",
            "Encoded point for character '12': (241, 230)\n",
            "Encoded point for character '35': (701, 203)\n"
          ]
        },
        {
          "output_type": "execute_result",
          "data": {
            "text/plain": [
              "[(201, 5), (224, 248), (241, 230), (701, 203)]"
            ]
          },
          "metadata": {},
          "execution_count": 74
        }
      ]
    },
    {
      "cell_type": "markdown",
      "source": [
        "### Koblitz Decoding"
      ],
      "metadata": {
        "id": "GHWedmI-hZhf"
      }
    },
    {
      "cell_type": "code",
      "source": [
        "# Decoding: m = (x - 1) / k\n",
        "def koblitz_decode(x):\n",
        "    return (x - 1) // k\n",
        "\n",
        "def koblitz_decode_message(points):\n",
        "    decoded_message = []\n",
        "    for point in points:\n",
        "        decoded_num = koblitz_decode(point[0])  # Decode the x-coordinate\n",
        "        decoded_message.append(decoded_num)\n",
        "        print(f\"Decoded character for point {point}: {decoded_num}\")\n",
        "    return decoded_message\n",
        "\n",
        "# Output the result\n",
        "decoded_points = koblitz_decode_message(encoded_points)\n",
        "decoded_points"
      ],
      "metadata": {
        "colab": {
          "base_uri": "https://localhost:8080/"
        },
        "id": "NXuzqZKmhbRw",
        "outputId": "2127ef84-2405-4c3a-ccca-c41c5c62aec4"
      },
      "execution_count": 75,
      "outputs": [
        {
          "output_type": "stream",
          "name": "stdout",
          "text": [
            "Decoded character for point (201, 5): 10\n",
            "Decoded character for point (224, 248): 11\n",
            "Decoded character for point (241, 230): 12\n",
            "Decoded character for point (701, 203): 35\n"
          ]
        },
        {
          "output_type": "execute_result",
          "data": {
            "text/plain": [
              "[10, 11, 12, 35]"
            ]
          },
          "metadata": {},
          "execution_count": 75
        }
      ]
    },
    {
      "cell_type": "code",
      "source": [
        "message = koblitz_to_message(decoded_points)\n",
        "message"
      ],
      "metadata": {
        "colab": {
          "base_uri": "https://localhost:8080/",
          "height": 35
        },
        "id": "tDO0AtsPhewI",
        "outputId": "d65be032-0421-43ab-c018-521b51a2c83d"
      },
      "execution_count": 76,
      "outputs": [
        {
          "output_type": "execute_result",
          "data": {
            "text/plain": [
              "'01ax'"
            ],
            "application/vnd.google.colaboratory.intrinsic+json": {
              "type": "string"
            }
          },
          "metadata": {},
          "execution_count": 76
        }
      ]
    },
    {
      "cell_type": "markdown",
      "source": [
        "## Elliptic Curve El Gamal\n",
        "\n",
        "Elliptic Curve with El Gamal"
      ],
      "metadata": {
        "id": "T_pNDIdVhol2"
      }
    },
    {
      "cell_type": "code",
      "source": [
        "# Parameters\n",
        "p = 11  # prime modulus\n",
        "# k = 20    # chosen small integer\n",
        "a = 1    # coefficient of x in the elliptic curve\n",
        "b = 6    # constant in the elliptic curve\n",
        "# B = (2, 4)"
      ],
      "metadata": {
        "id": "MHxDVxgxhshn"
      },
      "execution_count": 77,
      "outputs": []
    },
    {
      "cell_type": "code",
      "source": [
        "# Parameters\n",
        "p = 751  # prime modulus\n",
        "a = -1    # coefficient of x in the elliptic curve\n",
        "b = 188    # constant in the elliptic curve"
      ],
      "metadata": {
        "id": "5430hCo6ht5Q"
      },
      "execution_count": 78,
      "outputs": []
    },
    {
      "cell_type": "code",
      "source": [
        "import random\n",
        "import sympy as sp\n",
        "import json\n",
        "import base64\n",
        "\n",
        "class EllipticCurveElGamal:\n",
        "  def __init__(self, a, b, p, k, B=None):\n",
        "    self.p = p # primer number\n",
        "    self.a = a # alpha\n",
        "    self.b = b # beta\n",
        "\n",
        "    self.k = k\n",
        "    self.PointB = B\n",
        "\n",
        "    self.pointP = None\n",
        "    self.pointQ = None\n",
        "\n",
        "\n",
        "    self.char_to_num_dict = {\n",
        "    '0': 0, '1': 1, '2': 2, '3': 3, '4': 4, '5': 5, '6': 6, '7': 7, '8': 8, '9': 9,\n",
        "    'a': 10, 'b': 11, 'c': 12, 'd': 13, 'e': 14, 'f': 15, 'g': 16, 'h': 17,\n",
        "    'i': 18, 'j': 19, 'k': 20, 'l': 21, 'm': 22, 'n': 23, 'o': 24, 'p': 25,\n",
        "    'q': 26, 'r': 27, 's': 28, 't': 29, 'u': 30, 'v': 31, 'w': 32, 'x': 33,\n",
        "    'y': 34, 'z': 35, '.': 36, '#': 37, '*': 38, '/': 39, '-': 40\n",
        "    }\n",
        "\n",
        "    self.num_to_char_dict = {v: k for k, v in self.char_to_num_dict.items()}\n",
        "\n",
        "    self.k_koblitz = max(self.char_to_num_dict.values()) + 1  # max 24 for 35 char\n",
        "\n",
        "  def example_function(self):\n",
        "      print(f\"Using persistent k value: {self.k}\")\n",
        "\n",
        "  def elliptic_curve_equation(self, x):\n",
        "    return (x**3 + self.a*x + self.b) % self.p\n",
        "\n",
        "  def is_on_curve(self, x, y):\n",
        "    return self.elliptic_curve_equation(x)  == (y**2) % p\n",
        "\n",
        "  # def generate_random_number(self):\n",
        "  #   self.k = random.randint(1, self.p - 1)\n",
        "  #   return self.k\n",
        "\n",
        "  def generate_random_point(self):\n",
        "    while True:\n",
        "      x = random.randint(1, self.p - 1)\n",
        "      y = random.randint(1, self.p - 1)\n",
        "      if self.is_on_curve(x, y):\n",
        "        return (x, y)\n",
        "\n",
        "  def mod_inverse(self, a, p):\n",
        "      if a == 0:\n",
        "          raise ValueError(\"Inverse does not exist for 0.\")\n",
        "      return pow(a, p - 2, p)\n",
        "\n",
        "  def calculate_slope_mod(self, P, Q):\n",
        "    x1, y1 = P\n",
        "    x2, y2 = Q\n",
        "    if x1 == x2 and y1 == y2:\n",
        "        # Use the formula for point doubling when P == Q\n",
        "        numerator = (3 * x1**2 + self.a) % self.p\n",
        "        denominator = (2 * y1) % self.p\n",
        "    else:\n",
        "        # Use the formula for regular slope when P != Q\n",
        "        numerator = (y2 - y1) % self.p\n",
        "        denominator = (x2 - x1) % self.p\n",
        "\n",
        "    if denominator == 0:\n",
        "        raise ValueError(\"Slope is undefined (denominator is zero).\")\n",
        "\n",
        "    # Compute the slope as (numerator / denominator) % p, which is\n",
        "    # numerator * mod_inverse(denominator, p) % p\n",
        "    slope = (numerator * self.mod_inverse(denominator, self.p)) % self.p\n",
        "    return slope\n",
        "\n",
        "  def calculate_add_xr_mod(self, P, Q, m):\n",
        "    x1, y1 = P\n",
        "    x2, y2 = Q\n",
        "    xr = (m**2 - x1 - x2) % self.p\n",
        "    return xr\n",
        "\n",
        "  def calculate_add_yr_mod(self, P, Q, m, xr):\n",
        "    x1, y1 = P\n",
        "    x2, y2 = Q\n",
        "    yr = (m * (x1 - xr) - y1) % self.p\n",
        "    return yr\n",
        "\n",
        "  def calculate_point_addition(self, P, Q):\n",
        "    m = self.calculate_slope_mod(P, Q)\n",
        "\n",
        "    xr = self.calculate_add_xr_mod(P, Q, m)\n",
        "\n",
        "    yr = self.calculate_add_yr_mod(P, Q, m, xr)\n",
        "\n",
        "    R = (xr, yr)\n",
        "\n",
        "    return R\n",
        "\n",
        "  def calculate_dob_xr_mod(self, P, Q, m):\n",
        "    x1, y1 = P\n",
        "    x2, y2 = Q\n",
        "    xr = (m**2 - (2 * x1)) % self.p\n",
        "    return xr\n",
        "\n",
        "  def calculate_dob_yr_mod(self, P, Q, m, xr):\n",
        "    x1, y1 = P\n",
        "    yr = (m * (x1 - xr) - y1) % self.p\n",
        "    return yr\n",
        "\n",
        "  def calculate_point_doubling(self, P):\n",
        "\n",
        "    m = self.calculate_slope_mod(P, P)\n",
        "\n",
        "    xr = self.calculate_dob_xr_mod(P, P, m)\n",
        "\n",
        "    yr = self.calculate_dob_yr_mod(P, P, m, xr)\n",
        "\n",
        "    R = (xr, yr)\n",
        "\n",
        "    return R\n",
        "\n",
        "  def calculate_point_multiplication(self, P, k):\n",
        "    if k == 0:\n",
        "      return None\n",
        "    elif k == 1:\n",
        "      return P\n",
        "\n",
        "    # Initialize R to be the point at infinity, often represented as None in this context\n",
        "    R = None\n",
        "    Q = P  # Start with Q as P\n",
        "\n",
        "    # Double-and-add method\n",
        "    while k > 0:\n",
        "        if k % 2 == 1:  # If k is odd, add Q to the result\n",
        "            if R is None:\n",
        "                R = Q  # R is the point at infinity initially\n",
        "            else:\n",
        "                R = self.calculate_point_addition(R, Q)\n",
        "        Q = self.calculate_point_addition(Q, Q)  # Double the point Q\n",
        "        k //= 2  # Move to the next bit\n",
        "\n",
        "    return R\n",
        "\n",
        "  def calculate_point_subtract(self, P, Q):\n",
        "    # Find the inverse of point Q (x_Q, y_Q) -> (x_Q, -y_Q mod p)\n",
        "    Q_inv = (Q[0], (-Q[1]) % self.p)\n",
        "\n",
        "    # Subtract P - Q by adding P and Q_inv\n",
        "    R = self.calculate_point_addition(P, Q_inv)\n",
        "\n",
        "    return R\n",
        "\n",
        "  def generate_public_key(self, B, private_key):\n",
        "    public_key = self.calculate_point_multiplication(B, private_key)\n",
        "    return public_key\n",
        "\n",
        "  def enryption(self, M, public_key):\n",
        "    # k = random.randint(1, self.p - 1) # 1 < k < p - 1\n",
        "\n",
        "    C1 = self.calculate_point_multiplication(self.PointB, self.k)\n",
        "    C2 = self.calculate_point_addition(M, self.calculate_point_multiplication(public_key, self.k))\n",
        "\n",
        "    return (C1, C2)\n",
        "\n",
        "  def decryption(self, C, private_key):\n",
        "    C1, C2 = C\n",
        "\n",
        "    _p = self.calculate_point_multiplication(C1, private_key)\n",
        "\n",
        "    plain = self.calculate_point_subtract(C2, _p)\n",
        "\n",
        "    return plain\n",
        "\n",
        "  # Function to map char to num\n",
        "  def char_to_num(self, char):\n",
        "      # Ensure the input is a string; if not, convert it\n",
        "      char = str(char)\n",
        "\n",
        "      # Check if the string exists in the dictionary\n",
        "      if char in self.char_to_num_dict:\n",
        "          return self.char_to_num_dict[char]\n",
        "      else:\n",
        "          # Handle the expanded character set (0-40)\n",
        "          raise ValueError(f\"Character '{char}' is not valid. Please use '0-9', 'a-z', or other valid characters.\")\n",
        "\n",
        "\n",
        "  # Function to map num to char\n",
        "  def num_to_char(self, num):\n",
        "      # Ensure that the input is an integer; if it's a string digit, convert to integer\n",
        "      if isinstance(num, str) and num.isdigit():\n",
        "          num = int(num)\n",
        "\n",
        "      # Now we expect num to be an integer\n",
        "      if isinstance(num, int):\n",
        "          if num in self.num_to_char_dict:  # Handle numbers 0-40 by converting them using the dictionary\n",
        "              return self.num_to_char_dict[num]\n",
        "          else:\n",
        "              raise ValueError(f\"Number '{num}' is out of the valid range (0-40).\")\n",
        "      else:\n",
        "          raise ValueError(f\"Input '{num}' is not valid. Please provide a valid number.\")\n",
        "\n",
        "\n",
        "  def message_to_koblitz(self, message):\n",
        "      # Convert the message to a list of characters\n",
        "      chars = list(message)\n",
        "\n",
        "      koblitz = []\n",
        "      for char in chars:\n",
        "          num = self.char_to_num(char)\n",
        "          koblitz.append(num)\n",
        "\n",
        "      return koblitz\n",
        "\n",
        "  def koblitz_to_message(self, koblitz):\n",
        "      message = []\n",
        "      for num in koblitz:\n",
        "          char = self.num_to_char(num)\n",
        "          message.append(char)\n",
        "\n",
        "      return ''.join(message)\n",
        "\n",
        "  def koblitz_encode(self, m, max_attempts=1000):\n",
        "    num = 1  # Start with x = m * k + 1\n",
        "    attempts = 0\n",
        "\n",
        "    while attempts < max_attempts:\n",
        "        x = m * self.k_koblitz + num\n",
        "        rhs = (x**3 + self.a * x + self.b) % self.p  # right-hand side of the elliptic curve equation\n",
        "\n",
        "        # Check if rhs is a quadratic residue modulo p\n",
        "        if sp.is_quad_residue(rhs, self.p):\n",
        "            y = sp.sqrt_mod(rhs, self.p)\n",
        "            return (x, y)  # Return the point (x, y) as a tuple\n",
        "\n",
        "        num += 1  # Increment to check next x value\n",
        "        attempts += 1\n",
        "\n",
        "    # If no valid point is found after max_attempts\n",
        "    raise ValueError(f\"No valid point found after {max_attempts} attempts for message {m}.\")\n",
        "\n",
        "  def koblitz_encode_message(self, message):\n",
        "    encoded_points = []\n",
        "    for char in message:\n",
        "      encoded_point = self.koblitz_encode(char)\n",
        "      encoded_points.append(encoded_point)\n",
        "      # print(f\"Encoded point for character '{char}': {encoded_point}\")\n",
        "\n",
        "    return encoded_points\n",
        "\n",
        "  def koblitz_decode(self, x):\n",
        "    return (x - 1) // self.k_koblitz\n",
        "\n",
        "  def koblitz_decode_message(self, points):\n",
        "      decoded_message = []\n",
        "      for point in points:\n",
        "          decoded_num = self.koblitz_decode(point[0])  # Decode the x-coordinate\n",
        "          decoded_message.append(decoded_num)\n",
        "          # print(f\"Decoded character for point {point}: {decoded_num}\")\n",
        "      return decoded_message\n",
        "\n",
        "  def encrypt_message(self, message, public_key):\n",
        "      # Encode the message into Koblitz points\n",
        "      koblitz_message = self.message_to_koblitz(message)\n",
        "      encoded_message = self.koblitz_encode_message(koblitz_message)\n",
        "      encrypted_points = []\n",
        "\n",
        "      # Encrypt each Koblitz point\n",
        "      for point in encoded_message:\n",
        "          encrypted_point = self.enryption(point, public_key)\n",
        "          encrypted_points.append(encrypted_point)\n",
        "\n",
        "      # Convert encrypted_points (a list of tuples) to a JSON string\n",
        "      encrypted_message_string = json.dumps(encrypted_points)\n",
        "\n",
        "      # Optionally, encode the string to base64 for a cleaner ciphertext\n",
        "      encrypted_message_base64 = base64.b64encode(encrypted_message_string.encode()).decode()\n",
        "\n",
        "      return encrypted_message_base64  # Return as readable string\n",
        "\n",
        "  def decrypt_message(self, encrypted_message_base64, private_key):\n",
        "      # Decode the base64 string back to the JSON string\n",
        "      encrypted_message_string = base64.b64decode(encrypted_message_base64).decode()\n",
        "\n",
        "      # Convert the JSON string back to a list of encrypted points (tuples)\n",
        "      encrypted_points = json.loads(encrypted_message_string)\n",
        "\n",
        "      decrypted_message = []\n",
        "\n",
        "      # Decrypt each point\n",
        "      for point in encrypted_points:\n",
        "          decrypted_point = self.decryption(point, private_key)\n",
        "          decrypted_message.append(decrypted_point)\n",
        "\n",
        "      # Decode the Koblitz points into the original numeric values\n",
        "      decoded_koblitz_points = self.koblitz_decode_message(decrypted_message)\n",
        "\n",
        "      # Convert numeric Koblitz points to characters using num_to_char\n",
        "      plain_text_message = ''.join([self.num_to_char(num) for num in decoded_koblitz_points])\n",
        "\n",
        "      return plain_text_message"
      ],
      "metadata": {
        "id": "NOUdAX6Bhy-a"
      },
      "execution_count": 79,
      "outputs": []
    },
    {
      "cell_type": "code",
      "source": [
        "random_num = random.randint(1, p - 1)\n",
        "print(f'random number: {random_num}')\n",
        "\n",
        "elliptic1 = EllipticCurveElGamal(a, b, p, random_num)\n",
        "\n",
        "# k = elliptic1.generate_random_number()\n",
        "# print(f'k: {k}')\n",
        "\n",
        "basis = elliptic1.generate_random_point()\n",
        "print(f'basis: {basis}')\n",
        "\n",
        "elliptic1.PointB = basis\n",
        "\n",
        "print(f'is basis on curve: {elliptic1.is_on_curve(basis[0], basis[1])}')"
      ],
      "metadata": {
        "colab": {
          "base_uri": "https://localhost:8080/"
        },
        "id": "jyPROxGlh1gK",
        "outputId": "089c4b44-8df9-4ea5-8bad-99ae8707025b"
      },
      "execution_count": 80,
      "outputs": [
        {
          "output_type": "stream",
          "name": "stdout",
          "text": [
            "random number: 628\n",
            "basis: (257, 602)\n",
            "is basis on curve: True\n"
          ]
        }
      ]
    },
    {
      "cell_type": "code",
      "source": [
        "private_key = random.randint(1, p - 1)\n",
        "public_key = elliptic1.generate_public_key(basis, private_key)\n",
        "\n",
        "print(f'private key: {private_key}')\n",
        "print(f'public key: {public_key}')"
      ],
      "metadata": {
        "colab": {
          "base_uri": "https://localhost:8080/"
        },
        "id": "At0Zsvo7h4Ne",
        "outputId": "3ec2e381-f9b8-41b3-80a0-3d448d2b7dbb"
      },
      "execution_count": 81,
      "outputs": [
        {
          "output_type": "stream",
          "name": "stdout",
          "text": [
            "private key: 49\n",
            "public key: (671, 193)\n"
          ]
        }
      ]
    },
    {
      "cell_type": "code",
      "source": [
        "message = (385, 423)\n",
        "\n",
        "cipher = elliptic1.enryption(message, public_key)\n",
        "\n",
        "decrypted_message = elliptic1.decryption(cipher, private_key)\n",
        "\n",
        "print(f'message: {message}')\n",
        "print(f'cipher: {cipher}')\n",
        "print(f'decrypted message: {decrypted_message}')"
      ],
      "metadata": {
        "colab": {
          "base_uri": "https://localhost:8080/"
        },
        "id": "53Hs5jzDh6yP",
        "outputId": "ebdfa1bd-7daf-4546-8d7b-32c1f194393d"
      },
      "execution_count": 82,
      "outputs": [
        {
          "output_type": "stream",
          "name": "stdout",
          "text": [
            "message: (385, 423)\n",
            "cipher: ((262, 208), (380, 596))\n",
            "decrypted message: (385, 423)\n"
          ]
        }
      ]
    },
    {
      "cell_type": "code",
      "source": [
        "CONTENT = \"3348610401970005#christofer*derian*budianto#tegal#1997-03-04#laki-laki#b#jl.*pala*22*no.*30#005#017#mejasem*tengah#kramat#katholik#belum*kawin#pelajar/mahasiswa#wni#seumur*hidup\""
      ],
      "metadata": {
        "id": "c8rtEnB7iFkr"
      },
      "execution_count": 86,
      "outputs": []
    },
    {
      "cell_type": "code",
      "source": [
        "elliptic1.k_koblitz = 18 # max 18 if add \"-#./*\"\n",
        "\n",
        "# plaintexts = \"-#./*\"\n",
        "# plaintexts = \"lorem.#-/*\"\n",
        "plaintexts = CONTENT\n",
        "print(f'Plaintext: {plaintexts}')\n",
        "\n",
        "ciphertexts = elliptic1.encrypt_message(plaintexts, public_key)\n",
        "print(f'Ciphertext: {ciphertexts}')\n",
        "\n",
        "decrypted_message = elliptic1.decrypt_message(ciphertexts, private_key)\n",
        "print(f'Decryptedtext: {decrypted_message}')"
      ],
      "metadata": {
        "colab": {
          "base_uri": "https://localhost:8080/"
        },
        "id": "YD8z_LRZh9es",
        "outputId": "833aee6b-c31a-4413-ae47-192bf347d7d4"
      },
      "execution_count": 87,
      "outputs": [
        {
          "output_type": "stream",
          "name": "stdout",
          "text": [
            "Plaintext: 3348610401970005#christofer*derian*budianto#tegal#1997-03-04#laki-laki#b#jl.*pala*22*no.*30#005#017#mejasem*tengah#kramat#katholik#belum*kawin#pelajar/mahasiswa#wni#seumur*hidup\n",
            "Ciphertext: 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\n",
            "Decryptedtext: 3348610401970005#christofer*derian*budianto#tegal#1997-03-04#laki-laki#b#jl.*pala*22*no.*30#005#017#mejasem*tengah#kramat#katholik#belum*kawin#pelajar/mahasiswa#wni#seumur*hidup\n"
          ]
        }
      ]
    },
    {
      "cell_type": "code",
      "source": [
        "decrypted_message == CONTENT"
      ],
      "metadata": {
        "colab": {
          "base_uri": "https://localhost:8080/"
        },
        "id": "nh-4eez-iIw2",
        "outputId": "8020c09c-4ee4-44a9-855a-33276af0ba6f"
      },
      "execution_count": 88,
      "outputs": [
        {
          "output_type": "execute_result",
          "data": {
            "text/plain": [
              "True"
            ]
          },
          "metadata": {},
          "execution_count": 88
        }
      ]
    },
    {
      "cell_type": "code",
      "source": [
        "len(ciphertexts)"
      ],
      "metadata": {
        "colab": {
          "base_uri": "https://localhost:8080/"
        },
        "id": "BTj1eN1TiLQ1",
        "outputId": "b5f972d0-4f9d-4378-9de1-8751cca4822f"
      },
      "execution_count": 89,
      "outputs": [
        {
          "output_type": "execute_result",
          "data": {
            "text/plain": [
              "6096"
            ]
          },
          "metadata": {},
          "execution_count": 89
        }
      ]
    },
    {
      "cell_type": "markdown",
      "source": [
        "# Least Significant Bit"
      ],
      "metadata": {
        "id": "A0JOFeG4UQpg"
      }
    },
    {
      "cell_type": "code",
      "source": [
        "!git clone https://github.com/RobinDavid/LSB-Steganography && cd LSB-Steganography && ls && pip install -r requirements.txt"
      ],
      "metadata": {
        "colab": {
          "base_uri": "https://localhost:8080/"
        },
        "id": "0Lh0Fw23USrl",
        "outputId": "fd05a021-096c-462e-b900-26a8c1f21253"
      },
      "execution_count": 4,
      "outputs": [
        {
          "output_type": "stream",
          "name": "stdout",
          "text": [
            "Cloning into 'LSB-Steganography'...\n",
            "remote: Enumerating objects: 75, done.\u001b[K\n",
            "remote: Counting objects: 100% (7/7), done.\u001b[K\n",
            "remote: Compressing objects: 100% (7/7), done.\u001b[K\n",
            "remote: Total 75 (delta 1), reused 2 (delta 0), pack-reused 68 (from 1)\u001b[K\n",
            "Receiving objects: 100% (75/75), 19.72 KiB | 354.00 KiB/s, done.\n",
            "Resolving deltas: 100% (26/26), done.\n",
            "LICENCE  LSBSteg.py  README.md\trequirements.txt\n",
            "Requirement already satisfied: opencv-python in /usr/local/lib/python3.10/dist-packages (from -r requirements.txt (line 1)) (4.10.0.84)\n",
            "Collecting docopt (from -r requirements.txt (line 2))\n",
            "  Downloading docopt-0.6.2.tar.gz (25 kB)\n",
            "  Preparing metadata (setup.py) ... \u001b[?25l\u001b[?25hdone\n",
            "Requirement already satisfied: numpy in /usr/local/lib/python3.10/dist-packages (from -r requirements.txt (line 3)) (1.26.4)\n",
            "Building wheels for collected packages: docopt\n",
            "  Building wheel for docopt (setup.py) ... \u001b[?25l\u001b[?25hdone\n",
            "  Created wheel for docopt: filename=docopt-0.6.2-py2.py3-none-any.whl size=13704 sha256=9ff6787bbc4c16f3b9d44632802429602d1c321f9c8defc2c9bd36657d228662\n",
            "  Stored in directory: /root/.cache/pip/wheels/fc/ab/d4/5da2067ac95b36618c629a5f93f809425700506f72c9732fac\n",
            "Successfully built docopt\n",
            "Installing collected packages: docopt\n",
            "Successfully installed docopt-0.6.2\n"
          ]
        }
      ]
    },
    {
      "cell_type": "code",
      "source": [
        "#!/usr/bin/env python\n",
        "# coding:UTF-8\n",
        "\"\"\"LSBSteg.py\n",
        "\n",
        "Usage:\n",
        "  LSBSteg.py encode -i <input> -o <output> -f <file>\n",
        "  LSBSteg.py decode -i <input> -o <output>\n",
        "\n",
        "Options:\n",
        "  -h, --help                Show this help\n",
        "  --version                 Show the version\n",
        "  -f,--file=<file>          File to hide\n",
        "  -i,--in=<input>           Input image (carrier)\n",
        "  -o,--out=<output>         Output image (or extracted file)\n",
        "\"\"\"\n",
        "\n",
        "import cv2\n",
        "import docopt\n",
        "import numpy as np\n",
        "\n",
        "\n",
        "class SteganographyException(Exception):\n",
        "    pass\n",
        "\n",
        "\n",
        "class LSBSteg():\n",
        "    def __init__(self, im):\n",
        "        self.image = im\n",
        "        self.height, self.width, self.nbchannels = im.shape\n",
        "        self.size = self.width * self.height\n",
        "\n",
        "        self.maskONEValues = [1,2,4,8,16,32,64,128]\n",
        "        #Mask used to put one ex:1->00000001, 2->00000010 .. associated with OR bitwise\n",
        "        self.maskONE = self.maskONEValues.pop(0) #Will be used to do bitwise operations\n",
        "\n",
        "        self.maskZEROValues = [254,253,251,247,239,223,191,127]\n",
        "        #Mak used to put zero ex:254->11111110, 253->11111101 .. associated with AND bitwise\n",
        "        self.maskZERO = self.maskZEROValues.pop(0)\n",
        "\n",
        "        self.curwidth = 0  # Current width position\n",
        "        self.curheight = 0 # Current height position\n",
        "        self.curchan = 0   # Current channel position\n",
        "\n",
        "    def put_binary_value(self, bits): #Put the bits in the image\n",
        "        for c in bits:\n",
        "            val = list(self.image[self.curheight,self.curwidth]) #Get the pixel value as a list\n",
        "            if int(c) == 1:\n",
        "                val[self.curchan] = int(val[self.curchan]) | self.maskONE #OR with maskONE\n",
        "            else:\n",
        "                val[self.curchan] = int(val[self.curchan]) & self.maskZERO #AND with maskZERO\n",
        "\n",
        "            self.image[self.curheight,self.curwidth] = tuple(val)\n",
        "            self.next_slot() #Move \"cursor\" to the next space\n",
        "\n",
        "    def next_slot(self):#Move to the next slot were information can be taken or put\n",
        "        if self.curchan == self.nbchannels-1: #Next Space is the following channel\n",
        "            self.curchan = 0\n",
        "            if self.curwidth == self.width-1: #Or the first channel of the next pixel of the same line\n",
        "                self.curwidth = 0\n",
        "                if self.curheight == self.height-1:#Or the first channel of the first pixel of the next line\n",
        "                    self.curheight = 0\n",
        "                    if self.maskONE == 128: #Mask 1000000, so the last mask\n",
        "                        raise SteganographyException(\"No available slot remaining (image filled)\")\n",
        "                    else: #Or instead of using the first bit start using the second and so on..\n",
        "                        self.maskONE = self.maskONEValues.pop(0)\n",
        "                        self.maskZERO = self.maskZEROValues.pop(0)\n",
        "                else:\n",
        "                    self.curheight +=1\n",
        "            else:\n",
        "                self.curwidth +=1\n",
        "        else:\n",
        "            self.curchan +=1\n",
        "\n",
        "    def read_bit(self): #Read a single bit int the image\n",
        "        val = self.image[self.curheight,self.curwidth][self.curchan]\n",
        "        val = int(val) & self.maskONE\n",
        "        self.next_slot()\n",
        "        if val > 0:\n",
        "            return \"1\"\n",
        "        else:\n",
        "            return \"0\"\n",
        "\n",
        "    def read_byte(self):\n",
        "        return self.read_bits(8)\n",
        "\n",
        "    def read_bits(self, nb): #Read the given number of bits\n",
        "        bits = \"\"\n",
        "        for i in range(nb):\n",
        "            bits += self.read_bit()\n",
        "        return bits\n",
        "\n",
        "    def byteValue(self, val):\n",
        "        return self.binary_value(val, 8)\n",
        "\n",
        "    def binary_value(self, val, bitsize): #Return the binary value of an int as a byte\n",
        "        binval = bin(val)[2:]\n",
        "        if len(binval) > bitsize:\n",
        "            raise SteganographyException(\"binary value larger than the expected size\")\n",
        "        while len(binval) < bitsize:\n",
        "            binval = \"0\"+binval\n",
        "        return binval\n",
        "\n",
        "    def encode_text(self, txt):\n",
        "        l = len(txt)\n",
        "        binl = self.binary_value(l, 16) #Length coded on 2 bytes so the text size can be up to 65536 bytes long\n",
        "        self.put_binary_value(binl) #Put text length coded on 4 bytes\n",
        "        for char in txt: #And put all the chars\n",
        "            c = ord(char)\n",
        "            self.put_binary_value(self.byteValue(c))\n",
        "        return self.image\n",
        "\n",
        "    def decode_text(self):\n",
        "        ls = self.read_bits(16) #Read the text size in bytes\n",
        "        l = int(ls,2)\n",
        "        i = 0\n",
        "        unhideTxt = \"\"\n",
        "        while i < l: #Read all bytes of the text\n",
        "            tmp = self.read_byte() #So one byte\n",
        "            i += 1\n",
        "            unhideTxt += chr(int(tmp,2)) #Every chars concatenated to str\n",
        "        return unhideTxt\n",
        "\n",
        "    def encode_image(self, imtohide):\n",
        "        w = imtohide.width\n",
        "        h = imtohide.height\n",
        "        if self.width*self.height*self.nbchannels < w*h*imtohide.channels:\n",
        "            raise SteganographyException(\"Carrier image not big enough to hold all the datas to steganography\")\n",
        "        binw = self.binary_value(w, 16) #Width coded on to byte so width up to 65536\n",
        "        binh = self.binary_value(h, 16)\n",
        "        self.put_binary_value(binw) #Put width\n",
        "        self.put_binary_value(binh) #Put height\n",
        "        for h in range(imtohide.height): #Iterate the hole image to put every pixel values\n",
        "            for w in range(imtohide.width):\n",
        "                for chan in range(imtohide.channels):\n",
        "                    val = imtohide[h,w][chan]\n",
        "                    self.put_binary_value(self.byteValue(int(val)))\n",
        "        return self.image\n",
        "\n",
        "\n",
        "    def decode_image(self):\n",
        "        width = int(self.read_bits(16),2) #Read 16bits and convert it in int\n",
        "        height = int(self.read_bits(16),2)\n",
        "        unhideimg = np.zeros((width,height, 3), np.uint8) #Create an image in which we will put all the pixels read\n",
        "        for h in range(height):\n",
        "            for w in range(width):\n",
        "                for chan in range(unhideimg.channels):\n",
        "                    val = list(unhideimg[h,w])\n",
        "                    val[chan] = int(self.read_byte(),2) #Read the value\n",
        "                    unhideimg[h,w] = tuple(val)\n",
        "        return unhideimg\n",
        "\n",
        "    def encode_binary(self, data):\n",
        "        l = len(data)\n",
        "        if self.width*self.height*self.nbchannels < l+64:\n",
        "            raise SteganographyException(\"Carrier image not big enough to hold all the datas to steganography\")\n",
        "        self.put_binary_value(self.binary_value(l, 64))\n",
        "        for byte in data:\n",
        "            byte = byte if isinstance(byte, int) else ord(byte) # Compat py2/py3\n",
        "            self.put_binary_value(self.byteValue(byte))\n",
        "        return self.image\n",
        "\n",
        "    def decode_binary(self):\n",
        "        l = int(self.read_bits(64), 2)\n",
        "        output = b\"\"\n",
        "        for i in range(l):\n",
        "            output += bytearray([int(self.read_byte(),2)])\n",
        "        return output\n",
        "\n",
        "\n",
        "def main():\n",
        "    args = docopt.docopt(__doc__, version=\"0.2\")\n",
        "    in_f = args[\"--in\"]\n",
        "    out_f = args[\"--out\"]\n",
        "    in_img = cv2.imread(in_f)\n",
        "    steg = LSBSteg(in_img)\n",
        "    lossy_formats = [\"jpeg\", \"jpg\"]\n",
        "\n",
        "    if args['encode']:\n",
        "        #Handling lossy format\n",
        "        out_f, out_ext = out_f.split(\".\")\n",
        "        if out_ext in lossy_formats:\n",
        "            out_f = out_f + \".png\"\n",
        "            print(\"Output file changed to \", out_f)\n",
        "\n",
        "        data = open(args[\"--file\"], \"rb\").read()\n",
        "        res = steg.encode_binary(data)\n",
        "        cv2.imwrite(out_f, res)\n",
        "\n",
        "    elif args[\"decode\"]:\n",
        "        raw = steg.decode_binary()\n",
        "        with open(out_f, \"wb\") as f:\n",
        "            f.write(raw)\n",
        "\n",
        "# if __name__==\"__main__\":\n",
        "#     main()"
      ],
      "metadata": {
        "id": "Q_uzmDZIX1ad"
      },
      "execution_count": 5,
      "outputs": []
    },
    {
      "cell_type": "markdown",
      "source": [
        "# Lampel Ziv Welch"
      ],
      "metadata": {
        "id": "ooDK4RX9cXLV"
      }
    },
    {
      "cell_type": "code",
      "source": [
        "!git clone https://github.com/joeatwork/python-lzw"
      ],
      "metadata": {
        "colab": {
          "base_uri": "https://localhost:8080/"
        },
        "id": "762X8KROcZa2",
        "outputId": "6f678210-83b7-47c5-e7a3-56274c78d48a"
      },
      "execution_count": 6,
      "outputs": [
        {
          "output_type": "stream",
          "name": "stdout",
          "text": [
            "Cloning into 'python-lzw'...\n",
            "remote: Enumerating objects: 80, done.\u001b[K\n",
            "remote: Total 80 (delta 0), reused 0 (delta 0), pack-reused 80 (from 1)\u001b[K\n",
            "Receiving objects: 100% (80/80), 3.22 MiB | 6.31 MiB/s, done.\n",
            "Resolving deltas: 100% (30/30), done.\n"
          ]
        }
      ]
    },
    {
      "cell_type": "code",
      "source": [
        "!cd /content/python-lzw && mv lzw/ /content/ && python setup.py install"
      ],
      "metadata": {
        "colab": {
          "base_uri": "https://localhost:8080/"
        },
        "id": "OEdlinTEccpF",
        "outputId": "1b7d219c-cab3-437d-cde1-d33a5b6867e8"
      },
      "execution_count": 7,
      "outputs": [
        {
          "output_type": "stream",
          "name": "stdout",
          "text": [
            "running install\n",
            "/usr/local/lib/python3.10/dist-packages/setuptools/_distutils/cmd.py:66: SetuptoolsDeprecationWarning: setup.py install is deprecated.\n",
            "!!\n",
            "\n",
            "        ********************************************************************************\n",
            "        Please avoid running ``setup.py`` directly.\n",
            "        Instead, use pypa/build, pypa/installer or other\n",
            "        standards-based tools.\n",
            "\n",
            "        See https://blog.ganssle.io/articles/2021/10/setup-py-deprecated.html for details.\n",
            "        ********************************************************************************\n",
            "\n",
            "!!\n",
            "  self.initialize_options()\n",
            "/usr/local/lib/python3.10/dist-packages/setuptools/_distutils/cmd.py:66: EasyInstallDeprecationWarning: easy_install command is deprecated.\n",
            "!!\n",
            "\n",
            "        ********************************************************************************\n",
            "        Please avoid running ``setup.py`` and ``easy_install``.\n",
            "        Instead, use pypa/build, pypa/installer or other\n",
            "        standards-based tools.\n",
            "\n",
            "        See https://github.com/pypa/setuptools/issues/917 for details.\n",
            "        ********************************************************************************\n",
            "\n",
            "!!\n",
            "  self.initialize_options()\n",
            "running bdist_egg\n",
            "running egg_info\n",
            "creating lzw.egg-info\n",
            "writing lzw.egg-info/PKG-INFO\n",
            "writing dependency_links to lzw.egg-info/dependency_links.txt\n",
            "writing requirements to lzw.egg-info/requires.txt\n",
            "writing top-level names to lzw.egg-info/top_level.txt\n",
            "writing manifest file 'lzw.egg-info/SOURCES.txt'\n",
            "file lzw.py (for module lzw) not found\n",
            "error: package directory 'lzw' does not exist\n"
          ]
        }
      ]
    },
    {
      "cell_type": "code",
      "source": [
        "import lzw\n",
        "\n",
        "# Example text to compress (can be any string)\n",
        "original_text = CONTENT\n",
        "\n",
        "# Convert the original text into bytes (UTF-8 encoding)\n",
        "original_bytes = original_text.encode('utf-8')\n",
        "\n",
        "# Part 1: Compression (in-memory)\n",
        "compressed = lzw.compress(original_bytes)\n",
        "\n",
        "# Convert compressed generator to a list to see its contents\n",
        "compressed_list = list(compressed)\n",
        "\n",
        "# Part 2: Decompression (in-memory)\n",
        "decompressed_chunks = lzw.decompress(compressed_list)\n",
        "\n",
        "# Join the decompressed chunks into a single byte string\n",
        "decompressed_bytes = b\"\".join(decompressed_chunks)\n",
        "\n",
        "# Convert decompressed bytes back to a string\n",
        "decompressed_text = decompressed_bytes.decode('utf-8')\n",
        "\n",
        "# Print each variable\n",
        "print(\"Original Text (String):\", original_text)\n",
        "print(\"Original Bytes:\", original_bytes)\n",
        "print(\"Compressed List (Byte Chunks):\", compressed_list)\n",
        "print(\"Decompressed Bytes:\", decompressed_bytes)\n",
        "print(\"Decompressed Text (String):\", decompressed_text)\n",
        "\n",
        "# Part 3: Print sizes and results for comparison\n",
        "original_size = len(original_bytes)\n",
        "compressed_size = len(b\"\".join(compressed_list))  # Join to get compressed byte size\n",
        "decompressed_size = len(decompressed_bytes)\n",
        "\n",
        "# Print the sizes in bytes\n",
        "print(f\"\\nOriginal size: {original_size} bytes\")\n",
        "print(f\"Compressed size: {compressed_size} bytes\")\n",
        "print(f\"Decompressed size: {decompressed_size} bytes\")\n",
        "\n",
        "# Check if decompression was successful\n",
        "if decompressed_text == original_text:\n",
        "    print(\"Decompression was successful!\")\n",
        "else:\n",
        "    print(\"Decompression failed.\")"
      ],
      "metadata": {
        "colab": {
          "base_uri": "https://localhost:8080/"
        },
        "id": "GsfqVzNlcf4n",
        "outputId": "fe340292-ddfb-496c-ca11-80bae0f2c6cc"
      },
      "execution_count": 8,
      "outputs": [
        {
          "output_type": "stream",
          "name": "stdout",
          "text": [
            "Original Text (String): 3348610401970005#christofer*derian*budianto#tegal#1997-03-04#laki-laki#b#jl.*pala*22*no.*30#005#017#mejasem*tengah#kramat#katholik#belum*kawin#pelajar/mahasiswa#wni#seumur*hidup\n",
            "Original Bytes: b'3348610401970005#christofer*derian*budianto#tegal#1997-03-04#laki-laki#b#jl.*pala*22*no.*30#005#017#mejasem*tengah#kramat#katholik#belum*kawin#pelajar/mahasiswa#wni#seumur*hidup'\n",
            "Compressed List (Byte Chunks): [b'\\x19', b'\\x8c', b'\\xc6', b'\\x83', b'\\x81', b'\\xb0', b'\\xc4', b'`', b'4', b'\\x18', b'\\x0c', b'G', b'#', b'q', b'\\x84', b'8', b'j', b'#', b'1', b'\\x9a', b'\\x0e', b'F', b'\\x93', b'\\x99', b'\\xd0', b'\\xde', b'f', b'2', b'\\x9c', b'\\x85', b'F', b'H', b'\\xd1', b'\\xa4', b'\\xc2', b'n', b'\\x15', b'\\x18', b'\\x8e', b'\\xa6', b'H', b'\\xf9', b'\\xba', b'.', b'#', b':', b'\\x19', b'L', b'\\xe6', b'\\x13', b'`', b'\\x8e', b'\\x17', b'\\x0c', b'\\x16', b'\\x8c', b'\\x06', b's', b'!', b'\\xa0', b'\\x8c', b'\\xd8', b'a', b'5', b'\\x9a', b'E', b'\\xb3', b'\\x89', b'\\xd0', b'\\x8c', b'\\xc4', b'#', b'5', b'\\x1b', b'\\x05', b'\\xc2', b'\\xa3', b'\\x84', b'\\xb4', b'\\xc2', b'*', b'\\x19', b'\\x0c', b'\\x85', b'F', b'\\xe3', b'}', b'\\x10', b'f', b'0', b'\\x11', b'\\xc3', b'\\xea', b'C', b'\\x11', b'\\xb8', b'\\x8c', b'\\xda', b'e', b'5', b'\\x18', b'N', b'f', b'S', b'h', b'\\xaa', b'T', b'n', b'\\x96', b'\\x1a', b'\\x04', b'f', b'\\xb3', b'\\x91', b'\\x84', b'\\xda', b'a', b':', b'Y', b'-', b'&', b'\\x83', b'y', b'\\xb0', b'\\xd2', b'k', b'\\x9f', b'\\x99', b'M', b'\\x87', b'Z', b'\\xf1', b'\\xac', b'\\xc2', b'w', b'4', b'\\x9b', b'\\x84', b'g', b'\\x0b', b'\\x99', b'\\x86', b'\\xb4', b'r', b'\\x17', b'\\xda', b'\\r', b'\\x15', b'\\xb8', b'\\xa9', b'\\xdc', b'\\xc2', b'#', b';', b'\\x9b', b'\\x8d', b'\"', b':', b'\\xe5', b'\\xd4', b'\\xeb', b'\\x1b', b'4', b'\\x1a', b'L', b'\\x87', b'S', b'\\x84', b'\\x00']\n",
            "Decompressed Bytes: b'3348610401970005#christofer*derian*budianto#tegal#1997-03-04#laki-laki#b#jl.*pala*22*no.*30#005#017#mejasem*tengah#kramat#katholik#belum*kawin#pelajar/mahasiswa#wni#seumur*hidup'\n",
            "Decompressed Text (String): 3348610401970005#christofer*derian*budianto#tegal#1997-03-04#laki-laki#b#jl.*pala*22*no.*30#005#017#mejasem*tengah#kramat#katholik#belum*kawin#pelajar/mahasiswa#wni#seumur*hidup\n",
            "\n",
            "Original size: 177 bytes\n",
            "Compressed size: 169 bytes\n",
            "Decompressed size: 177 bytes\n",
            "Decompression was successful!\n"
          ]
        }
      ]
    },
    {
      "cell_type": "markdown",
      "source": [
        "# Huffman Encoding"
      ],
      "metadata": {
        "id": "9dmCHIodel-X"
      }
    },
    {
      "cell_type": "code",
      "source": [
        "import heapq\n",
        "from collections import Counter\n",
        "\n",
        "# Class for Huffman Tree Nodes\n",
        "class HuffmanNode:\n",
        "    def __init__(self, char=None, freq=0, left=None, right=None):\n",
        "        self.char = char\n",
        "        self.freq = freq\n",
        "        self.left = left\n",
        "        self.right = right\n",
        "\n",
        "    def __lt__(self, other):\n",
        "        return self.freq < other.freq\n",
        "\n",
        "# Function to build the Huffman Tree\n",
        "def build_huffman_tree(frequency):\n",
        "    heap = [HuffmanNode(char, freq) for char, freq in frequency.items()]\n",
        "    heapq.heapify(heap)\n",
        "\n",
        "    while len(heap) > 1:\n",
        "        node1 = heapq.heappop(heap)\n",
        "        node2 = heapq.heappop(heap)\n",
        "        merged = HuffmanNode(freq=node1.freq + node2.freq, left=node1, right=node2)\n",
        "        heapq.heappush(heap, merged)\n",
        "\n",
        "    return heap[0]  # Return the root of the tree\n",
        "\n",
        "# Function to generate Huffman codes from the Huffman Tree\n",
        "def generate_huffman_codes(node, current_code=\"\", huffman_codes={}):\n",
        "    if node is None:\n",
        "        return\n",
        "\n",
        "    if node.char is not None:\n",
        "        huffman_codes[node.char] = current_code\n",
        "\n",
        "    generate_huffman_codes(node.left, current_code + \"0\", huffman_codes)\n",
        "    generate_huffman_codes(node.right, current_code + \"1\", huffman_codes)\n",
        "\n",
        "    return huffman_codes\n",
        "\n",
        "# Function to compress the data using Huffman Encoding\n",
        "def huffman_compress(data):\n",
        "    # Count the frequency of each byte\n",
        "    frequency = Counter(data)\n",
        "\n",
        "    # Build Huffman Tree\n",
        "    huffman_tree = build_huffman_tree(frequency)\n",
        "\n",
        "    # Generate Huffman Codes\n",
        "    huffman_codes = generate_huffman_codes(huffman_tree)\n",
        "\n",
        "    # Encode data into its binary representation\n",
        "    encoded_data = \"\".join(huffman_codes[byte] for byte in data)\n",
        "\n",
        "    # Pad the encoded data to make its length a multiple of 8\n",
        "    padding = 8 - len(encoded_data) % 8\n",
        "    encoded_data += \"0\" * padding\n",
        "    padding_info = \"{0:08b}\".format(padding)\n",
        "\n",
        "    # Convert binary data to bytes\n",
        "    compressed_data = bytearray()\n",
        "    compressed_data.append(int(padding_info, 2))  # First byte stores the padding information\n",
        "    for i in range(0, len(encoded_data), 8):\n",
        "        byte = encoded_data[i:i+8]\n",
        "        compressed_data.append(int(byte, 2))\n",
        "\n",
        "    return compressed_data, huffman_tree\n",
        "\n",
        "# Function to decompress the data using Huffman Encoding\n",
        "def huffman_decompress(compressed_data, huffman_tree):\n",
        "    # Convert the compressed data to binary string\n",
        "    encoded_data = \"\"\n",
        "    for byte in compressed_data[1:]:\n",
        "        encoded_data += \"{0:08b}\".format(byte)\n",
        "\n",
        "    # Get the padding information from the first byte\n",
        "    padding = compressed_data[0]\n",
        "    encoded_data = encoded_data[:-padding]  # Remove padding\n",
        "\n",
        "    # Traverse the Huffman tree to decode the binary string\n",
        "    decoded_data = bytearray()\n",
        "    node = huffman_tree\n",
        "    for bit in encoded_data:\n",
        "        if bit == \"0\":\n",
        "            node = node.left\n",
        "        else:\n",
        "            node = node.right\n",
        "\n",
        "        if node.left is None and node.right is None:  # Leaf node\n",
        "            decoded_data.append(node.char)\n",
        "            node = huffman_tree\n",
        "\n",
        "    return decoded_data\n",
        "\n",
        "\n",
        "# Example Usage of Huffman Compression/Decompression\n",
        "\n",
        "# Step 1: The original plaintext data (as a byte string)\n",
        "plaintext = CONTENT.encode()\n",
        "\n",
        "# Print the original data\n",
        "print(\"Original Data (as bytes):\", plaintext)\n",
        "print(\"Original Data (as string):\", plaintext.decode())\n",
        "\n",
        "# Step 2: Compress the plaintext data using Huffman encoding\n",
        "compressed_data, huffman_tree = huffman_compress(plaintext)\n",
        "print(\"Compressed Data (in bytes):\", compressed_data)\n",
        "\n",
        "# Step 3: Decompress the compressed data back to the original plaintext\n",
        "decompressed_data = huffman_decompress(compressed_data, huffman_tree)\n",
        "print(\"Decompressed Data (as bytes):\", decompressed_data)\n",
        "print(\"Decompressed Data (as string):\", decompressed_data.decode())\n",
        "\n",
        "# Step 4: Verify that the decompressed data matches the original data\n",
        "if decompressed_data == plaintext:\n",
        "    print(\"Decompression was successful!\")\n",
        "else:\n",
        "    print(\"Decompression failed.\")"
      ],
      "metadata": {
        "colab": {
          "base_uri": "https://localhost:8080/"
        },
        "id": "RyoCFnFYeoEn",
        "outputId": "f0b358de-59c2-4624-b55f-4673831536b8"
      },
      "execution_count": 9,
      "outputs": [
        {
          "output_type": "stream",
          "name": "stdout",
          "text": [
            "Original Data (as bytes): b'3348610401970005#christofer*derian*budianto#tegal#1997-03-04#laki-laki#b#jl.*pala*22*no.*30#005#017#mejasem*tengah#kramat#katholik#belum*kawin#pelajar/mahasiswa#wni#seumur*hidup'\n",
            "Original Data (as string): 3348610401970005#christofer*derian*budianto#tegal#1997-03-04#laki-laki#b#jl.*pala*22*no.*30#005#017#mejasem*tengah#kramat#katholik#belum*kawin#pelajar/mahasiswa#wni#seumur*hidup\n",
            "Compressed Data (in bytes): bytearray(b'\\x02\\xdfy>\\xa8\\x7f\\x12G\\xf7S\\x11\\x1e\\xfb\\xedYu\\xcf\\xc6)\\x91\\xd52\\xe6\\xc3\\xa3usi\\xf9\\xd3OD;\\xfb\\xae\\xa6\\xf8\\xde\\xf8\\x93\\x80\\xe1\\xef\\x03\\x87\\xed9\\x90\\xa2;\\x10#\\xf3\\xe0\\xdb\\xca#\\xbctG\\xbe\\x8f\\xe9\\xea\\xa3%iQ\\x9a[\\xd1Wc&\\xa6}\\x835x\\x0f\\x8e\\xd1\\x01\\xb5\\x1c\\x19^\\xdd\\xb2\\x01d\\xe5\\x85J\\x8a\\xddr\\x9e\\x96\\xcf\\xcbF\\xd5\\xb9\\x15>\\xad\\xd8')\n",
            "Decompressed Data (as bytes): bytearray(b'3348610401970005#christofer*derian*budianto#tegal#1997-03-04#laki-laki#b#jl.*pala*22*no.*30#005#017#mejasem*tengah#kramat#katholik#belum*kawin#pelajar/mahasiswa#wni#seumur*hidup')\n",
            "Decompressed Data (as string): 3348610401970005#christofer*derian*budianto#tegal#1997-03-04#laki-laki#b#jl.*pala*22*no.*30#005#017#mejasem*tengah#kramat#katholik#belum*kawin#pelajar/mahasiswa#wni#seumur*hidup\n",
            "Decompression was successful!\n"
          ]
        }
      ]
    },
    {
      "cell_type": "markdown",
      "source": [
        "# Test Image"
      ],
      "metadata": {
        "id": "iPDWMr7oYAUC"
      }
    },
    {
      "cell_type": "code",
      "source": [
        "import os\n",
        "# Directory where the image will be saved\n",
        "ori_dir_img = \"ori-image\"\n",
        "\n",
        "# Create the ori_dir_img if it doesn't exist\n",
        "if not os.path.exists(ori_dir_img):\n",
        "    os.makedirs(ori_dir_img)\n",
        "\n",
        "stego_dir_img = \"stego-image\"\n",
        "\n",
        "# Create the stego_dir_img if it doesn't exist\n",
        "if not os.path.exists(stego_dir_img):\n",
        "    os.makedirs(stego_dir_img)"
      ],
      "metadata": {
        "id": "Hn2jnf-EYEJx"
      },
      "execution_count": 10,
      "outputs": []
    },
    {
      "cell_type": "markdown",
      "source": [
        "## Lena Image"
      ],
      "metadata": {
        "id": "lEe7XAzQYBn3"
      }
    },
    {
      "cell_type": "code",
      "source": [
        "import requests\n",
        "from PIL import Image\n",
        "import io\n",
        "\n",
        "# URL to the raw image file\n",
        "url = \"https://raw.githubusercontent.com/mikolalysenko/lena/master/lena.png\"\n",
        "\n",
        "# Download the image\n",
        "response = requests.get(url)\n",
        "if response.status_code == 200:\n",
        "    # Load the image using PIL\n",
        "    lena_image = Image.open(io.BytesIO(response.content))\n",
        "    lena_image.show()  # Display the image (optional)\n",
        "    lena_image.save(\"ori-image/lena.png\")  # Save the image locally\n",
        "else:\n",
        "    print(\"Failed to download the image.\")"
      ],
      "metadata": {
        "id": "xY3dnoOeYGCZ"
      },
      "execution_count": 11,
      "outputs": []
    },
    {
      "cell_type": "code",
      "source": [
        "LENA_IMG = 'ori-image/lena.png'\n",
        "\n",
        "if not os.path.exists(LENA_IMG):\n",
        "    raise FileNotFoundError(f\"Image not found at {LENA_IMG}\")"
      ],
      "metadata": {
        "id": "spjONGy2YKXD"
      },
      "execution_count": 12,
      "outputs": []
    },
    {
      "cell_type": "markdown",
      "source": [
        "# Steganography Metric"
      ],
      "metadata": {
        "id": "o_juWbLLX75d"
      }
    },
    {
      "cell_type": "markdown",
      "source": [
        "## MSE"
      ],
      "metadata": {
        "id": "0FKC4t7fZab4"
      }
    },
    {
      "cell_type": "code",
      "source": [
        "def calculate_mse(original, stego):\n",
        "    return np.mean((original - stego) ** 2)"
      ],
      "metadata": {
        "id": "omUfnW9ZZl6l"
      },
      "execution_count": 13,
      "outputs": []
    },
    {
      "cell_type": "markdown",
      "source": [
        "## PSNR"
      ],
      "metadata": {
        "id": "wP_NHq5rZXgf"
      }
    },
    {
      "cell_type": "code",
      "source": [
        "def calculate_psnr(target, ori_image=LENA_IMG):\n",
        "    # Read images\n",
        "    original = cv2.imread(ori_image)\n",
        "    stego = cv2.imread(f'{stego_dir_img}/{target}')\n",
        "\n",
        "    if original is None:\n",
        "        raise ValueError(f\"Failed to load original image from {ori_image}. Ensure the file exists and is a valid image format.\")\n",
        "    if stego is None:\n",
        "        raise ValueError(f\"Failed to load stego image from {stego_dir_img}/{target}. Ensure the file exists and is a valid image format.\")\n",
        "\n",
        "    # Calculate MSE using the separated function\n",
        "    mse = calculate_mse(original, stego)\n",
        "    if mse == 0:  # If images are identical\n",
        "        return float('inf')\n",
        "\n",
        "    # Calculate PSNR using the 10 log10 version\n",
        "    max_pixel_value = 255.0\n",
        "    psnr = 10 * np.log10((max_pixel_value ** 2) / mse)\n",
        "    # print(f'PSNR: {psnr}')\n",
        "    return psnr"
      ],
      "metadata": {
        "id": "BLemNkUeX9Hb"
      },
      "execution_count": 14,
      "outputs": []
    },
    {
      "cell_type": "markdown",
      "source": [
        "## SSIM"
      ],
      "metadata": {
        "id": "vZGljTTkZy34"
      }
    },
    {
      "cell_type": "code",
      "source": [
        "from skimage.metrics import structural_similarity as ssim\n",
        "\n",
        "def calculate_ssim(original, stego):\n",
        "    # Convert images to grayscale\n",
        "    original_gray = cv2.cvtColor(original, cv2.COLOR_BGR2GRAY)\n",
        "    stego_gray = cv2.cvtColor(stego, cv2.COLOR_BGR2GRAY)\n",
        "\n",
        "    # Calculate SSIM\n",
        "    ssim_value, _ = ssim(original_gray, stego_gray, full=True)\n",
        "    return ssim_value"
      ],
      "metadata": {
        "id": "HNRnOf0HZzvm"
      },
      "execution_count": 15,
      "outputs": []
    },
    {
      "cell_type": "markdown",
      "source": [
        "## Get it together"
      ],
      "metadata": {
        "id": "cJqngEwXZ5gu"
      }
    },
    {
      "cell_type": "code",
      "source": [
        "def calculate_stego_metrics(target, ori_image=LENA_IMG):\n",
        "    # Read images\n",
        "    original = cv2.imread(ori_image)\n",
        "    stego = cv2.imread(f'{stego_dir_img}/{target}')\n",
        "\n",
        "    if original is None:\n",
        "        raise ValueError(f\"Failed to load original image from {ori_image}. Ensure the file exists and is a valid image format.\")\n",
        "    if stego is None:\n",
        "        raise ValueError(f\"Failed to load stego image from {stego_dir_img}/{target}. Ensure the file exists and is a valid image format.\")\n",
        "\n",
        "    # Calculate metrics\n",
        "    mse_value = calculate_mse(original, stego)\n",
        "    psnr_value = calculate_psnr(target)\n",
        "    ssim_value = calculate_ssim(original, stego)\n",
        "\n",
        "    # Print results\n",
        "    print(f'Metrics between original ({ori_image}) and stego image ({target}):')\n",
        "    print(f'MSE: {mse_value}')\n",
        "    print(f'PSNR: {psnr_value}')\n",
        "    print(f'SSIM: {ssim_value}')\n",
        "\n",
        "    return mse_value, psnr_value, ssim_value"
      ],
      "metadata": {
        "id": "rdbpG93baOZ9"
      },
      "execution_count": 16,
      "outputs": []
    },
    {
      "cell_type": "markdown",
      "source": [
        "# LSB Helper"
      ],
      "metadata": {
        "id": "mcFNGXZPYUTT"
      }
    },
    {
      "cell_type": "code",
      "source": [
        "def embed_lsb(target, content, ori_img = LENA_IMG):\n",
        "  steg = LSBSteg(cv2.imread(ori_img))\n",
        "\n",
        "  img_encoded = steg.encode_text(content)\n",
        "\n",
        "  lsb_img = f\"{stego_dir_img}/{target}\"\n",
        "\n",
        "  cv2.imwrite(lsb_img, img_encoded)"
      ],
      "metadata": {
        "id": "rIdn94soYV9_"
      },
      "execution_count": 17,
      "outputs": []
    },
    {
      "cell_type": "code",
      "source": [
        "def extract_lsb(target):\n",
        "  im = cv2.imread(f\"{stego_dir_img}/{target}\")\n",
        "\n",
        "  steg = LSBSteg(im)\n",
        "\n",
        "  content = steg.decode_text()\n",
        "\n",
        "  return content"
      ],
      "metadata": {
        "id": "_-NTd6zfYWhY"
      },
      "execution_count": 18,
      "outputs": []
    },
    {
      "cell_type": "markdown",
      "source": [
        "# LSB Only"
      ],
      "metadata": {
        "id": "EziH6MmzYMDm"
      }
    },
    {
      "cell_type": "code",
      "source": [
        "embed_lsb(\"lsb_only.png\", CONTENT)"
      ],
      "metadata": {
        "id": "z97CQgdGYYP6"
      },
      "execution_count": 19,
      "outputs": []
    },
    {
      "cell_type": "code",
      "source": [
        "extract_lsb(\"lsb_only.png\")"
      ],
      "metadata": {
        "colab": {
          "base_uri": "https://localhost:8080/",
          "height": 53
        },
        "id": "yoNbCmHXYb8k",
        "outputId": "4449877b-4c78-4287-8f06-bfa8ff61e0e6"
      },
      "execution_count": 20,
      "outputs": [
        {
          "output_type": "execute_result",
          "data": {
            "text/plain": [
              "'3348610401970005#christofer*derian*budianto#tegal#1997-03-04#laki-laki#b#jl.*pala*22*no.*30#005#017#mejasem*tengah#kramat#katholik#belum*kawin#pelajar/mahasiswa#wni#seumur*hidup'"
            ],
            "application/vnd.google.colaboratory.intrinsic+json": {
              "type": "string"
            }
          },
          "metadata": {},
          "execution_count": 20
        }
      ]
    },
    {
      "cell_type": "code",
      "source": [
        "extract_lsb(\"lsb_only.png\") == CONTENT"
      ],
      "metadata": {
        "colab": {
          "base_uri": "https://localhost:8080/"
        },
        "id": "x5BaIFvfYdER",
        "outputId": "a3e1615c-9340-47fe-ff31-b8be493554e0"
      },
      "execution_count": 21,
      "outputs": [
        {
          "output_type": "execute_result",
          "data": {
            "text/plain": [
              "True"
            ]
          },
          "metadata": {},
          "execution_count": 21
        }
      ]
    },
    {
      "cell_type": "markdown",
      "source": [
        "## Stego Metric"
      ],
      "metadata": {
        "id": "DZ0aXZnUechr"
      }
    },
    {
      "cell_type": "code",
      "source": [
        "calculate_stego_metrics(\"lsb_only.png\")"
      ],
      "metadata": {
        "colab": {
          "base_uri": "https://localhost:8080/"
        },
        "id": "y0NqvggPYecK",
        "outputId": "27245b9f-3651-4061-d7e4-4fb9f7eb0612"
      },
      "execution_count": 22,
      "outputs": [
        {
          "output_type": "stream",
          "name": "stdout",
          "text": [
            "Metrics between original (ori-image/lena.png) and stego image (lsb_only.png):\n",
            "MSE: 0.0009028116861979166\n",
            "PSNR: 78.57483188820159\n",
            "SSIM: 0.9999987952461553\n"
          ]
        },
        {
          "output_type": "execute_result",
          "data": {
            "text/plain": [
              "(0.0009028116861979166, 78.57483188820159, 0.9999987952461553)"
            ]
          },
          "metadata": {},
          "execution_count": 22
        }
      ]
    },
    {
      "cell_type": "markdown",
      "source": [
        "# LSB with ECC"
      ],
      "metadata": {
        "id": "B-z7XRTrYjmr"
      }
    },
    {
      "cell_type": "code",
      "source": [
        "ciphertext"
      ],
      "metadata": {
        "colab": {
          "base_uri": "https://localhost:8080/"
        },
        "id": "YmG2mbzMYlEF",
        "outputId": "24d3109e-288c-46e7-a0a0-e7d97c7235a4"
      },
      "execution_count": 23,
      "outputs": [
        {
          "output_type": "execute_result",
          "data": {
            "text/plain": [
              "b'\\x04j\\xf4o&\\x83>n\\x03\\xbe35v\\xae\\xd3\\x98\\x1e\\xe9b\\x02\\xe4\\xd5e\\xf8\\x82\\xa9A\\x10.\\x00H\\t\\x82\\xe8\\xb6\\xf0\\x00u\\xd4\\x9e\\x84\\xcfVe\\xb5\\xea\\xfb#\\xd3l\\xbf\\x9d\\xbd\\xf0\\xf7\\xd6\\x05\\xfa\\xe8GRg\\x18<J|\\xff4Z\\xdc\\xc5\\x9b\\x01e\\xd0I\\x91\\x98\\xea\\xf2\\xeb\\xb3E\\xc2\\xbf\\x86cV~M\\xa76\\xf8K\\x88\\xdf\\x8a\\xc7\\x1a\\x89\\xf6\\xe5\\xe0yd\\x8d{\\xb8\\xcfg[I\\x15\\x8a\\x16~\\x80\\x13\\xab\\xce\\x86e\\x16(\\x1c;\\n\\xba\\x12\\x95\\xc3\\x8f\\xdb0\\xbe\\x1fN\\x9a\\xc2\\xb5Y\\xd7Yt\\x13\\x16/\\xbdt\\xf5(Wkn\\xf9\\r\\x82\\x8d@\\xab\\xd8\\xfc\\xdd\\r\\xa8\\x0f.\\xb19\\xde\\\\o\\x04\\xef\\\\\\x18\\xeb\\x84\\xbc\\xf3\\x8f\\x88L\\xe6\\xb6U\\x0e\\xc4EV\\xbe\\xb9\\x10\\x9b\\t\\xe7\\x7f\\xa8\\xc4.\\xcc\\x034\\x95\\x1e\\xfa\\xf6\\xf2$\\x11L-\\x9c\\x10{/\\xd6\\xfc-0\\xfe\\xae\\x92\\xf6G\\xee\\x9d_M\\x89\\xde\\x12\\x91\\xbe\\xc2m\\t-\\x15~\\xe0\\x06\\xd9\\xe6\\x96<\\xe1_\\x93\\r\\xd3\\xd1SZ\\x7f\\xa72\\x19R{k$/\\x92\\xe9\\xadH\\xf8\\xab\\xcc\\xe4QT@'"
            ]
          },
          "metadata": {},
          "execution_count": 23
        }
      ]
    },
    {
      "cell_type": "code",
      "source": [
        "embed_lsb(\"lsb_w_ECC.png\", ciphertext.hex())"
      ],
      "metadata": {
        "id": "8DYsVjyuYmPL"
      },
      "execution_count": 24,
      "outputs": []
    },
    {
      "cell_type": "code",
      "source": [
        "extracted_data = extract_lsb(\"lsb_w_ECC.png\")\n",
        "extracted_data"
      ],
      "metadata": {
        "colab": {
          "base_uri": "https://localhost:8080/",
          "height": 105
        },
        "id": "JqcI2wmcYocy",
        "outputId": "0688009e-13c6-4cfb-ff1d-4b95bea319d0"
      },
      "execution_count": 25,
      "outputs": [
        {
          "output_type": "execute_result",
          "data": {
            "text/plain": [
              "'046af46f26833e6e03be333576aed3981ee96202e4d565f882a941102e00480982e8b6f00075d49e84cf5665b5eafb23d36cbf9dbdf0f7d605fae8475267183c4a7cff345adcc59b0165d0499198eaf2ebb345c2bf8663567e4da736f84b88df8ac71a89f6e5e079648d7bb8cf675b49158a167e8013abce866516281c3b0aba1295c38fdb30be1f4e9ac2b559d7597413162fbd74f528576b6ef90d828d40abd8fcdd0da80f2eb139de5c6f04ef5c18eb84bcf38f884ce6b6550ec44556beb9109b09e77fa8c42ecc0334951efaf6f224114c2d9c107b2fd6fc2d30feae92f647ee9d5f4d89de1291bec26d092d157ee006d9e6963ce15f930dd3d1535a7fa73219527b6b242f92e9ad48f8abcce4515440'"
            ],
            "application/vnd.google.colaboratory.intrinsic+json": {
              "type": "string"
            }
          },
          "metadata": {},
          "execution_count": 25
        }
      ]
    },
    {
      "cell_type": "code",
      "source": [
        "extracted_data == ciphertext.hex()"
      ],
      "metadata": {
        "colab": {
          "base_uri": "https://localhost:8080/"
        },
        "id": "apq_41VCYqUo",
        "outputId": "e19ff3b2-1d49-4a21-98e0-af7912f00afb"
      },
      "execution_count": 26,
      "outputs": [
        {
          "output_type": "execute_result",
          "data": {
            "text/plain": [
              "True"
            ]
          },
          "metadata": {},
          "execution_count": 26
        }
      ]
    },
    {
      "cell_type": "code",
      "source": [
        "extracted_data = bytes.fromhex(extracted_data)\n",
        "extracted_data"
      ],
      "metadata": {
        "colab": {
          "base_uri": "https://localhost:8080/"
        },
        "id": "UWjhqqpuYsnx",
        "outputId": "cc12f04d-1a51-45c7-abe6-e29263570e71"
      },
      "execution_count": 27,
      "outputs": [
        {
          "output_type": "execute_result",
          "data": {
            "text/plain": [
              "b'\\x04j\\xf4o&\\x83>n\\x03\\xbe35v\\xae\\xd3\\x98\\x1e\\xe9b\\x02\\xe4\\xd5e\\xf8\\x82\\xa9A\\x10.\\x00H\\t\\x82\\xe8\\xb6\\xf0\\x00u\\xd4\\x9e\\x84\\xcfVe\\xb5\\xea\\xfb#\\xd3l\\xbf\\x9d\\xbd\\xf0\\xf7\\xd6\\x05\\xfa\\xe8GRg\\x18<J|\\xff4Z\\xdc\\xc5\\x9b\\x01e\\xd0I\\x91\\x98\\xea\\xf2\\xeb\\xb3E\\xc2\\xbf\\x86cV~M\\xa76\\xf8K\\x88\\xdf\\x8a\\xc7\\x1a\\x89\\xf6\\xe5\\xe0yd\\x8d{\\xb8\\xcfg[I\\x15\\x8a\\x16~\\x80\\x13\\xab\\xce\\x86e\\x16(\\x1c;\\n\\xba\\x12\\x95\\xc3\\x8f\\xdb0\\xbe\\x1fN\\x9a\\xc2\\xb5Y\\xd7Yt\\x13\\x16/\\xbdt\\xf5(Wkn\\xf9\\r\\x82\\x8d@\\xab\\xd8\\xfc\\xdd\\r\\xa8\\x0f.\\xb19\\xde\\\\o\\x04\\xef\\\\\\x18\\xeb\\x84\\xbc\\xf3\\x8f\\x88L\\xe6\\xb6U\\x0e\\xc4EV\\xbe\\xb9\\x10\\x9b\\t\\xe7\\x7f\\xa8\\xc4.\\xcc\\x034\\x95\\x1e\\xfa\\xf6\\xf2$\\x11L-\\x9c\\x10{/\\xd6\\xfc-0\\xfe\\xae\\x92\\xf6G\\xee\\x9d_M\\x89\\xde\\x12\\x91\\xbe\\xc2m\\t-\\x15~\\xe0\\x06\\xd9\\xe6\\x96<\\xe1_\\x93\\r\\xd3\\xd1SZ\\x7f\\xa72\\x19R{k$/\\x92\\xe9\\xadH\\xf8\\xab\\xcc\\xe4QT@'"
            ]
          },
          "metadata": {},
          "execution_count": 27
        }
      ]
    },
    {
      "cell_type": "code",
      "source": [
        "decrypted_message = decrypt(private_key_hex, extracted_data)\n",
        "print(\"Decrypted Message:\", decrypted_message.decode())"
      ],
      "metadata": {
        "colab": {
          "base_uri": "https://localhost:8080/"
        },
        "id": "79qn53NGZBbX",
        "outputId": "9716ca5c-f336-4d4a-a8b2-9bdc8a70869c"
      },
      "execution_count": 28,
      "outputs": [
        {
          "output_type": "stream",
          "name": "stdout",
          "text": [
            "Decrypted Message: 3348610401970005#christofer*derian*budianto#tegal#1997-03-04#laki-laki#b#jl.*pala*22*no.*30#005#017#mejasem*tengah#kramat#katholik#belum*kawin#pelajar/mahasiswa#wni#seumur*hidup\n"
          ]
        }
      ]
    },
    {
      "cell_type": "code",
      "source": [
        "decrypted_message.decode() == CONTENT"
      ],
      "metadata": {
        "colab": {
          "base_uri": "https://localhost:8080/"
        },
        "id": "o-FSsb_eZHhs",
        "outputId": "0e2d19a4-d56d-48b3-d9cd-41a2de040517"
      },
      "execution_count": 29,
      "outputs": [
        {
          "output_type": "execute_result",
          "data": {
            "text/plain": [
              "True"
            ]
          },
          "metadata": {},
          "execution_count": 29
        }
      ]
    },
    {
      "cell_type": "markdown",
      "source": [
        "## Stego Metric"
      ],
      "metadata": {
        "id": "bFr54jtEebCR"
      }
    },
    {
      "cell_type": "code",
      "source": [
        "calculate_stego_metrics(\"lsb_w_ECC.png\")"
      ],
      "metadata": {
        "colab": {
          "base_uri": "https://localhost:8080/"
        },
        "id": "R3HihyFYZKWH",
        "outputId": "beb64986-017a-48c0-f3b6-fc5b022c71f7"
      },
      "execution_count": 30,
      "outputs": [
        {
          "output_type": "stream",
          "name": "stdout",
          "text": [
            "Metrics between original (ori-image/lena.png) and stego image (lsb_w_ECC.png):\n",
            "MSE: 0.0027974446614583335\n",
            "PSNR: 73.66318856717028\n",
            "SSIM: 0.9999930390947287\n"
          ]
        },
        {
          "output_type": "execute_result",
          "data": {
            "text/plain": [
              "(0.0027974446614583335, 73.66318856717028, 0.9999930390947287)"
            ]
          },
          "metadata": {},
          "execution_count": 30
        }
      ]
    },
    {
      "cell_type": "markdown",
      "source": [
        "# LSB with LZW"
      ],
      "metadata": {
        "id": "90AhfzaccGPa"
      }
    },
    {
      "cell_type": "code",
      "source": [
        "compressed_list"
      ],
      "metadata": {
        "colab": {
          "base_uri": "https://localhost:8080/"
        },
        "id": "8eB-fTGjcoDs",
        "outputId": "a3e0b5f7-424f-4d02-9341-e6fb4755c7f5"
      },
      "execution_count": 31,
      "outputs": [
        {
          "output_type": "execute_result",
          "data": {
            "text/plain": [
              "[b'\\x19',\n",
              " b'\\x8c',\n",
              " b'\\xc6',\n",
              " b'\\x83',\n",
              " b'\\x81',\n",
              " b'\\xb0',\n",
              " b'\\xc4',\n",
              " b'`',\n",
              " b'4',\n",
              " b'\\x18',\n",
              " b'\\x0c',\n",
              " b'G',\n",
              " b'#',\n",
              " b'q',\n",
              " b'\\x84',\n",
              " b'8',\n",
              " b'j',\n",
              " b'#',\n",
              " b'1',\n",
              " b'\\x9a',\n",
              " b'\\x0e',\n",
              " b'F',\n",
              " b'\\x93',\n",
              " b'\\x99',\n",
              " b'\\xd0',\n",
              " b'\\xde',\n",
              " b'f',\n",
              " b'2',\n",
              " b'\\x9c',\n",
              " b'\\x85',\n",
              " b'F',\n",
              " b'H',\n",
              " b'\\xd1',\n",
              " b'\\xa4',\n",
              " b'\\xc2',\n",
              " b'n',\n",
              " b'\\x15',\n",
              " b'\\x18',\n",
              " b'\\x8e',\n",
              " b'\\xa6',\n",
              " b'H',\n",
              " b'\\xf9',\n",
              " b'\\xba',\n",
              " b'.',\n",
              " b'#',\n",
              " b':',\n",
              " b'\\x19',\n",
              " b'L',\n",
              " b'\\xe6',\n",
              " b'\\x13',\n",
              " b'`',\n",
              " b'\\x8e',\n",
              " b'\\x17',\n",
              " b'\\x0c',\n",
              " b'\\x16',\n",
              " b'\\x8c',\n",
              " b'\\x06',\n",
              " b's',\n",
              " b'!',\n",
              " b'\\xa0',\n",
              " b'\\x8c',\n",
              " b'\\xd8',\n",
              " b'a',\n",
              " b'5',\n",
              " b'\\x9a',\n",
              " b'E',\n",
              " b'\\xb3',\n",
              " b'\\x89',\n",
              " b'\\xd0',\n",
              " b'\\x8c',\n",
              " b'\\xc4',\n",
              " b'#',\n",
              " b'5',\n",
              " b'\\x1b',\n",
              " b'\\x05',\n",
              " b'\\xc2',\n",
              " b'\\xa3',\n",
              " b'\\x84',\n",
              " b'\\xb4',\n",
              " b'\\xc2',\n",
              " b'*',\n",
              " b'\\x19',\n",
              " b'\\x0c',\n",
              " b'\\x85',\n",
              " b'F',\n",
              " b'\\xe3',\n",
              " b'}',\n",
              " b'\\x10',\n",
              " b'f',\n",
              " b'0',\n",
              " b'\\x11',\n",
              " b'\\xc3',\n",
              " b'\\xea',\n",
              " b'C',\n",
              " b'\\x11',\n",
              " b'\\xb8',\n",
              " b'\\x8c',\n",
              " b'\\xda',\n",
              " b'e',\n",
              " b'5',\n",
              " b'\\x18',\n",
              " b'N',\n",
              " b'f',\n",
              " b'S',\n",
              " b'h',\n",
              " b'\\xaa',\n",
              " b'T',\n",
              " b'n',\n",
              " b'\\x96',\n",
              " b'\\x1a',\n",
              " b'\\x04',\n",
              " b'f',\n",
              " b'\\xb3',\n",
              " b'\\x91',\n",
              " b'\\x84',\n",
              " b'\\xda',\n",
              " b'a',\n",
              " b':',\n",
              " b'Y',\n",
              " b'-',\n",
              " b'&',\n",
              " b'\\x83',\n",
              " b'y',\n",
              " b'\\xb0',\n",
              " b'\\xd2',\n",
              " b'k',\n",
              " b'\\x9f',\n",
              " b'\\x99',\n",
              " b'M',\n",
              " b'\\x87',\n",
              " b'Z',\n",
              " b'\\xf1',\n",
              " b'\\xac',\n",
              " b'\\xc2',\n",
              " b'w',\n",
              " b'4',\n",
              " b'\\x9b',\n",
              " b'\\x84',\n",
              " b'g',\n",
              " b'\\x0b',\n",
              " b'\\x99',\n",
              " b'\\x86',\n",
              " b'\\xb4',\n",
              " b'r',\n",
              " b'\\x17',\n",
              " b'\\xda',\n",
              " b'\\r',\n",
              " b'\\x15',\n",
              " b'\\xb8',\n",
              " b'\\xa9',\n",
              " b'\\xdc',\n",
              " b'\\xc2',\n",
              " b'#',\n",
              " b';',\n",
              " b'\\x9b',\n",
              " b'\\x8d',\n",
              " b'\"',\n",
              " b':',\n",
              " b'\\xe5',\n",
              " b'\\xd4',\n",
              " b'\\xeb',\n",
              " b'\\x1b',\n",
              " b'4',\n",
              " b'\\x1a',\n",
              " b'L',\n",
              " b'\\x87',\n",
              " b'S',\n",
              " b'\\x84',\n",
              " b'\\x00']"
            ]
          },
          "metadata": {},
          "execution_count": 31
        }
      ]
    },
    {
      "cell_type": "code",
      "source": [
        "embed_lsb(\"lsb_w_LZW.png\", compressed_list)"
      ],
      "metadata": {
        "id": "xFnw06ptcoeU"
      },
      "execution_count": 32,
      "outputs": []
    },
    {
      "cell_type": "code",
      "source": [
        "extracted_data = extract_lsb(\"lsb_w_LZW.png\")\n",
        "extracted_data"
      ],
      "metadata": {
        "colab": {
          "base_uri": "https://localhost:8080/",
          "height": 70
        },
        "id": "nrIv-An5ct9k",
        "outputId": "6ec3b170-329b-4648-83ba-6b2b381f9f6b"
      },
      "execution_count": 33,
      "outputs": [
        {
          "output_type": "execute_result",
          "data": {
            "text/plain": [
              "'\\x19\\x8cÆ\\x83\\x81°Ä`4\\x18\\x0cG#q\\x848j#1\\x9a\\x0eF\\x93\\x99ÐÞf2\\x9c\\x85FHÑ¤Ân\\x15\\x18\\x8e¦Hùº.#:\\x19Læ\\x13`\\x8e\\x17\\x0c\\x16\\x8c\\x06s!\\xa0\\x8cØa5\\x9aE³\\x89Ð\\x8cÄ#5\\x1b\\x05Â£\\x84´Â*\\x19\\x0c\\x85Fã}\\x10f0\\x11ÃêC\\x11¸\\x8cÚe5\\x18NfShªTn\\x96\\x1a\\x04f³\\x91\\x84Úa:Y-&\\x83y°Òk\\x9f\\x99M\\x87Zñ¬Âw4\\x9b\\x84g\\x0b\\x99\\x86´r\\x17Ú\\r\\x15¸©ÜÂ#;\\x9b\\x8d\":åÔë\\x1b4\\x1aL\\x87S\\x84\\x00'"
            ],
            "application/vnd.google.colaboratory.intrinsic+json": {
              "type": "string"
            }
          },
          "metadata": {},
          "execution_count": 33
        }
      ]
    },
    {
      "cell_type": "code",
      "source": [
        "byte_list = [bytes([ord(char)]) for char in extracted_data]\n",
        "byte_list"
      ],
      "metadata": {
        "colab": {
          "base_uri": "https://localhost:8080/"
        },
        "id": "c1Yv7hUacwz4",
        "outputId": "b2db9c9d-c34d-4b1b-b2c4-6ecdec38c0b4"
      },
      "execution_count": 34,
      "outputs": [
        {
          "output_type": "execute_result",
          "data": {
            "text/plain": [
              "[b'\\x19',\n",
              " b'\\x8c',\n",
              " b'\\xc6',\n",
              " b'\\x83',\n",
              " b'\\x81',\n",
              " b'\\xb0',\n",
              " b'\\xc4',\n",
              " b'`',\n",
              " b'4',\n",
              " b'\\x18',\n",
              " b'\\x0c',\n",
              " b'G',\n",
              " b'#',\n",
              " b'q',\n",
              " b'\\x84',\n",
              " b'8',\n",
              " b'j',\n",
              " b'#',\n",
              " b'1',\n",
              " b'\\x9a',\n",
              " b'\\x0e',\n",
              " b'F',\n",
              " b'\\x93',\n",
              " b'\\x99',\n",
              " b'\\xd0',\n",
              " b'\\xde',\n",
              " b'f',\n",
              " b'2',\n",
              " b'\\x9c',\n",
              " b'\\x85',\n",
              " b'F',\n",
              " b'H',\n",
              " b'\\xd1',\n",
              " b'\\xa4',\n",
              " b'\\xc2',\n",
              " b'n',\n",
              " b'\\x15',\n",
              " b'\\x18',\n",
              " b'\\x8e',\n",
              " b'\\xa6',\n",
              " b'H',\n",
              " b'\\xf9',\n",
              " b'\\xba',\n",
              " b'.',\n",
              " b'#',\n",
              " b':',\n",
              " b'\\x19',\n",
              " b'L',\n",
              " b'\\xe6',\n",
              " b'\\x13',\n",
              " b'`',\n",
              " b'\\x8e',\n",
              " b'\\x17',\n",
              " b'\\x0c',\n",
              " b'\\x16',\n",
              " b'\\x8c',\n",
              " b'\\x06',\n",
              " b's',\n",
              " b'!',\n",
              " b'\\xa0',\n",
              " b'\\x8c',\n",
              " b'\\xd8',\n",
              " b'a',\n",
              " b'5',\n",
              " b'\\x9a',\n",
              " b'E',\n",
              " b'\\xb3',\n",
              " b'\\x89',\n",
              " b'\\xd0',\n",
              " b'\\x8c',\n",
              " b'\\xc4',\n",
              " b'#',\n",
              " b'5',\n",
              " b'\\x1b',\n",
              " b'\\x05',\n",
              " b'\\xc2',\n",
              " b'\\xa3',\n",
              " b'\\x84',\n",
              " b'\\xb4',\n",
              " b'\\xc2',\n",
              " b'*',\n",
              " b'\\x19',\n",
              " b'\\x0c',\n",
              " b'\\x85',\n",
              " b'F',\n",
              " b'\\xe3',\n",
              " b'}',\n",
              " b'\\x10',\n",
              " b'f',\n",
              " b'0',\n",
              " b'\\x11',\n",
              " b'\\xc3',\n",
              " b'\\xea',\n",
              " b'C',\n",
              " b'\\x11',\n",
              " b'\\xb8',\n",
              " b'\\x8c',\n",
              " b'\\xda',\n",
              " b'e',\n",
              " b'5',\n",
              " b'\\x18',\n",
              " b'N',\n",
              " b'f',\n",
              " b'S',\n",
              " b'h',\n",
              " b'\\xaa',\n",
              " b'T',\n",
              " b'n',\n",
              " b'\\x96',\n",
              " b'\\x1a',\n",
              " b'\\x04',\n",
              " b'f',\n",
              " b'\\xb3',\n",
              " b'\\x91',\n",
              " b'\\x84',\n",
              " b'\\xda',\n",
              " b'a',\n",
              " b':',\n",
              " b'Y',\n",
              " b'-',\n",
              " b'&',\n",
              " b'\\x83',\n",
              " b'y',\n",
              " b'\\xb0',\n",
              " b'\\xd2',\n",
              " b'k',\n",
              " b'\\x9f',\n",
              " b'\\x99',\n",
              " b'M',\n",
              " b'\\x87',\n",
              " b'Z',\n",
              " b'\\xf1',\n",
              " b'\\xac',\n",
              " b'\\xc2',\n",
              " b'w',\n",
              " b'4',\n",
              " b'\\x9b',\n",
              " b'\\x84',\n",
              " b'g',\n",
              " b'\\x0b',\n",
              " b'\\x99',\n",
              " b'\\x86',\n",
              " b'\\xb4',\n",
              " b'r',\n",
              " b'\\x17',\n",
              " b'\\xda',\n",
              " b'\\r',\n",
              " b'\\x15',\n",
              " b'\\xb8',\n",
              " b'\\xa9',\n",
              " b'\\xdc',\n",
              " b'\\xc2',\n",
              " b'#',\n",
              " b';',\n",
              " b'\\x9b',\n",
              " b'\\x8d',\n",
              " b'\"',\n",
              " b':',\n",
              " b'\\xe5',\n",
              " b'\\xd4',\n",
              " b'\\xeb',\n",
              " b'\\x1b',\n",
              " b'4',\n",
              " b'\\x1a',\n",
              " b'L',\n",
              " b'\\x87',\n",
              " b'S',\n",
              " b'\\x84',\n",
              " b'\\x00']"
            ]
          },
          "metadata": {},
          "execution_count": 34
        }
      ]
    },
    {
      "cell_type": "code",
      "source": [
        "compressed_list == byte_list"
      ],
      "metadata": {
        "colab": {
          "base_uri": "https://localhost:8080/"
        },
        "id": "6h4Ts4Tuc1Ng",
        "outputId": "750b3357-6d76-4a86-ef8c-50706146b317"
      },
      "execution_count": 35,
      "outputs": [
        {
          "output_type": "execute_result",
          "data": {
            "text/plain": [
              "True"
            ]
          },
          "metadata": {},
          "execution_count": 35
        }
      ]
    },
    {
      "cell_type": "code",
      "source": [
        "# Part 2: Decompression (in-memory)\n",
        "decompressed_chunks = lzw.decompress(byte_list)\n",
        "\n",
        "# Join the decompressed chunks into a single byte string\n",
        "decompressed_bytes = b\"\".join(decompressed_chunks)\n",
        "\n",
        "# Convert decompressed bytes back to a string\n",
        "decompressed_text = decompressed_bytes.decode('utf-8')\n",
        "\n",
        "print(\"Decompressed Text (String):\", decompressed_text)"
      ],
      "metadata": {
        "colab": {
          "base_uri": "https://localhost:8080/"
        },
        "id": "o9EIMuj3c8JU",
        "outputId": "c15137cc-872c-4c82-affb-c847e112a754"
      },
      "execution_count": 36,
      "outputs": [
        {
          "output_type": "stream",
          "name": "stdout",
          "text": [
            "Decompressed Text (String): 3348610401970005#christofer*derian*budianto#tegal#1997-03-04#laki-laki#b#jl.*pala*22*no.*30#005#017#mejasem*tengah#kramat#katholik#belum*kawin#pelajar/mahasiswa#wni#seumur*hidup\n"
          ]
        }
      ]
    },
    {
      "cell_type": "code",
      "source": [
        "decompressed_text == CONTENT"
      ],
      "metadata": {
        "colab": {
          "base_uri": "https://localhost:8080/"
        },
        "id": "cDh5tNR7c9SU",
        "outputId": "db698b1c-6124-4635-a0a0-e33be2a9ab47"
      },
      "execution_count": 37,
      "outputs": [
        {
          "output_type": "execute_result",
          "data": {
            "text/plain": [
              "True"
            ]
          },
          "metadata": {},
          "execution_count": 37
        }
      ]
    },
    {
      "cell_type": "markdown",
      "source": [
        "## Stego Metric"
      ],
      "metadata": {
        "id": "amBMxL-yeXf0"
      }
    },
    {
      "cell_type": "code",
      "source": [
        "calculate_stego_metrics(\"lsb_w_LZW.png\")"
      ],
      "metadata": {
        "colab": {
          "base_uri": "https://localhost:8080/"
        },
        "id": "GRDNLtpsc4Sp",
        "outputId": "7d68a63c-3b15-4aaf-bf80-e37b6d9eb668"
      },
      "execution_count": 38,
      "outputs": [
        {
          "output_type": "stream",
          "name": "stdout",
          "text": [
            "Metrics between original (ori-image/lena.png) and stego image (lsb_w_LZW.png):\n",
            "MSE: 0.0008722941080729166\n",
            "PSNR: 78.72417421832482\n",
            "SSIM: 0.9999988544716335\n"
          ]
        },
        {
          "output_type": "execute_result",
          "data": {
            "text/plain": [
              "(0.0008722941080729166, 78.72417421832482, 0.9999988544716335)"
            ]
          },
          "metadata": {},
          "execution_count": 38
        }
      ]
    },
    {
      "cell_type": "markdown",
      "source": [
        "# LSB with ECC, LZW"
      ],
      "metadata": {
        "id": "V8wtIQqbc_nw"
      }
    },
    {
      "cell_type": "markdown",
      "source": [
        "## ECC"
      ],
      "metadata": {
        "id": "FNqpLpDudJ1Q"
      }
    },
    {
      "cell_type": "code",
      "source": [
        "ciphertext.hex()"
      ],
      "metadata": {
        "colab": {
          "base_uri": "https://localhost:8080/",
          "height": 105
        },
        "id": "bY_RqK-2dDeR",
        "outputId": "955883f1-c317-4a8e-ae59-74fdda6b0575"
      },
      "execution_count": 39,
      "outputs": [
        {
          "output_type": "execute_result",
          "data": {
            "text/plain": [
              "'046af46f26833e6e03be333576aed3981ee96202e4d565f882a941102e00480982e8b6f00075d49e84cf5665b5eafb23d36cbf9dbdf0f7d605fae8475267183c4a7cff345adcc59b0165d0499198eaf2ebb345c2bf8663567e4da736f84b88df8ac71a89f6e5e079648d7bb8cf675b49158a167e8013abce866516281c3b0aba1295c38fdb30be1f4e9ac2b559d7597413162fbd74f528576b6ef90d828d40abd8fcdd0da80f2eb139de5c6f04ef5c18eb84bcf38f884ce6b6550ec44556beb9109b09e77fa8c42ecc0334951efaf6f224114c2d9c107b2fd6fc2d30feae92f647ee9d5f4d89de1291bec26d092d157ee006d9e6963ce15f930dd3d1535a7fa73219527b6b242f92e9ad48f8abcce4515440'"
            ],
            "application/vnd.google.colaboratory.intrinsic+json": {
              "type": "string"
            }
          },
          "metadata": {},
          "execution_count": 39
        }
      ]
    },
    {
      "cell_type": "markdown",
      "source": [
        "## LZW"
      ],
      "metadata": {
        "id": "hEy-YOGBdK3z"
      }
    },
    {
      "cell_type": "code",
      "source": [
        "import lzw\n",
        "\n",
        "# Example text to compress (can be any string)\n",
        "original_text = ciphertext.hex()\n",
        "\n",
        "# Convert the original text into bytes (UTF-8 encoding)\n",
        "original_bytes = original_text.encode('utf-8')\n",
        "\n",
        "# Part 1: Compression (in-memory)\n",
        "compressed = lzw.compress(original_bytes)\n",
        "\n",
        "# Convert compressed generator to a list to see its contents\n",
        "compressed_list = list(compressed)\n",
        "\n",
        "# Part 2: Decompression (in-memory)\n",
        "decompressed_chunks = lzw.decompress(compressed_list)\n",
        "\n",
        "# Join the decompressed chunks into a single byte string\n",
        "decompressed_bytes = b\"\".join(decompressed_chunks)\n",
        "\n",
        "# Convert decompressed bytes back to a string\n",
        "decompressed_text = decompressed_bytes.decode('utf-8')\n",
        "\n",
        "# Print each variable\n",
        "print(\"Original Text (String):\", original_text)\n",
        "print(\"Original Bytes:\", original_bytes)\n",
        "print(\"Compressed List (Byte Chunks):\", compressed_list)\n",
        "print(\"Decompressed Bytes:\", decompressed_bytes)\n",
        "print(\"Decompressed Text (String):\", decompressed_text)\n",
        "\n",
        "# Part 3: Print sizes and results for comparison\n",
        "original_size = len(original_bytes)\n",
        "compressed_size = len(b\"\".join(compressed_list))  # Join to get compressed byte size\n",
        "decompressed_size = len(decompressed_bytes)\n",
        "\n",
        "# Print the sizes in bytes\n",
        "print(f\"\\nOriginal size: {original_size} bytes\")\n",
        "print(f\"Compressed size: {compressed_size} bytes\")\n",
        "print(f\"Decompressed size: {decompressed_size} bytes\")\n",
        "\n",
        "# Check if decompression was successful\n",
        "if decompressed_text == original_text:\n",
        "    print(\"Decompression was successful!\")\n",
        "else:\n",
        "    print(\"Decompression failed.\")"
      ],
      "metadata": {
        "colab": {
          "base_uri": "https://localhost:8080/"
        },
        "id": "xZAeWpRbdFrM",
        "outputId": "70a63eb5-a11b-4d44-ad93-0d0817d514bb"
      },
      "execution_count": 40,
      "outputs": [
        {
          "output_type": "stream",
          "name": "stdout",
          "text": [
            "Original Text (String): 046af46f26833e6e03be333576aed3981ee96202e4d565f882a941102e00480982e8b6f00075d49e84cf5665b5eafb23d36cbf9dbdf0f7d605fae8475267183c4a7cff345adcc59b0165d0499198eaf2ebb345c2bf8663567e4da736f84b88df8ac71a89f6e5e079648d7bb8cf675b49158a167e8013abce866516281c3b0aba1295c38fdb30be1f4e9ac2b559d7597413162fbd74f528576b6ef90d828d40abd8fcdd0da80f2eb139de5c6f04ef5c18eb84bcf38f884ce6b6550ec44556beb9109b09e77fa8c42ecc0334951efaf6f224114c2d9c107b2fd6fc2d30feae92f647ee9d5f4d89de1291bec26d092d157ee006d9e6963ce15f930dd3d1535a7fa73219527b6b242f92e9ad48f8abcce4515440\n",
            "Original Bytes: b'046af46f26833e6e03be333576aed3981ee96202e4d565f882a941102e00480982e8b6f00075d49e84cf5665b5eafb23d36cbf9dbdf0f7d605fae8475267183c4a7cff345adcc59b0165d0499198eaf2ebb345c2bf8663567e4da736f84b88df8ac71a89f6e5e079648d7bb8cf675b49158a167e8013abce866516281c3b0aba1295c38fdb30be1f4e9ac2b559d7597413162fbd74f528576b6ef90d828d40abd8fcdd0da80f2eb139de5c6f04ef5c18eb84bcf38f884ce6b6550ec44556beb9109b09e77fa8c42ecc0334951efaf6f224114c2d9c107b2fd6fc2d30feae92f647ee9d5f4d89de1291bec26d092d157ee006d9e6963ce15f930dd3d1535a7fa73219527b6b242f92e9ad48f8abcce4515440'\n",
            "Compressed List (Byte Chunks): [b'\\x18', b'\\r', b'\\x06', b'\\xc6', b'\\x13', b'4', b'\\x0c', b'\\xcc', b'2', b'\\x1b', b'\\x0e', b'\\x06', b'c', b'3', b'(', b'\\xd8', b'\\xca', b'0', b'\\x19', b'\\x98', b'\\x8c', b'\\xb0', b'\\xc1', b'\\x98', b'\\xd4', b'o', b'\\x04', b'2', b'\\x99', b'\\x06', b'c', b'\\x91', b'\\xc0', b'\\xc4', b'\\xca', b'e', b'\\x1c', b'\\x8d', b'\\x86', b'C', b'\\x01', b'\\x91', b'\\x94', b'h', b'd', b'\\x1a', b'\\x8d', b'\\x86', b'\\xa6', b'a', b'\\xc0', b'\\xe0', b'd', b'a', b'\\x1c', b'\\x8d', b'\\x06', b'#', b'\\x19', b',', b'B', b'\\x04', b'8', b'\\x18', b'G', b'd', b'\\xc3', b'\\x83', b'\\x10', b'\\xd8', b'\\xcc', b'0', b'\\xa0', b'\\x8d', b'\\xc6', b'\\xa6', b'A', b'\\xa0', b'\\xe4', b'\\xca', b'8', b'\\x1a', b'\\x18', b'\\xcc', b'\\xd2', b'\\xa9', b'Y', b'\\x88', b'j', b'e', b'\\x82', b'\\x98', b'\\x86', b'C', b'8', b'\\xd8', b'\\xd8', b'\\xc6', b'b', b'3', b'\\x0e', b'L', b'\\x86', b'#', b'%', b'\\x00', b'\\xcc', b'7', b'2', b'\\r', b'\\x86', b'\\x12', b'\\xc3', b'\\r', b' ', b'i', b'C', b'\\x84', b'\\x8d', b'\\xc6', b'0', b'\\xb3', b'\\x18', b'\\xd0', b'\\xc2', b'7', b'\\xa5', b'\\x99', b'\\x86', b'c', b'A', b'\\xa9', b'\\x84', b'\\xc8', b'c', b'1', b'\\x8d', b'G', b'&', b'!', b'\\x80', b'\\xc6', b'V', b'd', b'\\x81', b'\\x0e', b'G', b'#', b'\\x18', b'\\xed', b'F', b'\\x10', b'e', b'1', b'\\x18', b'\\xae', b'\\x83', b'S', b'\\x18', b'\\xca', b'\\xb2', b'8', b'\\x1b', b'\\r', b'\\xa2', b'\\xc3', b'a', b'\\xbc', b'\\x9c', b'\\xc9', b'p', b'\\x19', b'\\xcf', b'\\xe9', b'&', b')', b'u', b'x', b'p', b'a', b'1', b'\\xda', b'\\xcc', b'#', b'\\x81', b'\\xc9', b'\\x9a', b'\\x1f', b'P', b'\\x18', b'\\r', b'\\xe4', b'C', b'A', b'\\xc1', b'\\x90', b'o', b'\\x8a', b'\\x1c', b'R', b'\\xf2', b'\\xa3', b'S', b'\\x15', b'\\x18', b'b', b'5', b'\\xd0', b'_', b'\\xf2', b'\\xd3', b'\\x91', b'\\x88', b'\\xcc', b'\\xc2', b'b', b'1', b'\\xd2', b'2', b'C', b'[', b'\\xf8', b'\\xca', b'<', b'c', b'\\x89', b'\\x0c', b'8', b'\\x06', b'\\x11', b'\\x88', b'\\xc8', b's', b'\\x8d', b'\\x19', b'\\x8e', b'\\x0c', b'\\xd5', b'\\xc1', b'\\x98', b'\\xc2', b'&', b'1', b'\\x83', b'H', b't', b'8', b'\\xf1', b'\\xad', b'\\xef', b'_', b'{', b'\\x1b', b'\\xcc', b'\\xc6', b'|', b'c', b'5', b'w', b'\\xc5', b'L', b'\\xe3', b'\\xc5', b'\\xc6', b'\\xd3', b'\\xe3', b'-', b'h', b'`', b'd', b'\\x97', b'\\xeb', b'\\x86', b'\\x9c', b'\\xba', b'\\xef', b'L', b'\\xc6', b'd', b'\\xc0', b'\\xe6', b\"'\", b'8', b'\\x83', b'\\x16', b'\\xf9', b'[', b'\\x19', b'X', b'\\xd4', b'\\xfd', b'\\x02', b'{', b'\\x98', b'\\xd5', b'\\xb1', b'\\x89', b'g', b'\\x14', b'\\xb7', b'I', b'-', b'R', b'\\\\', b\"'\", b'\\xb1', b'+', b'\\r', b'C', b'\\x01', b'\\x95', b'n', b']', b'R', b'\\xa4', b'L', b'b', b'a', b'\\x13', b'\\xa5', b'\\xf5', b'G', b'\\r', b'\\xc3', b'q', b'\\x99', b'\\xa4', b'[', b'\\x92', b'e', b'\\xe5', b'\\x11', b']', b'\\x1d', b'\\x04', b'~', b'\\x1f', b'i', b'\\xd0', b'\\x80', b'\\xc9', b'3', b'\\x0c', b'T', b'\\xa0', b'\\xc8', b'd', b'\\x0e', b'F', b'4', b'\\xd5', b'\\xb0', b'\\x0c', b'\\x9d', b'D', b'\\xfd', b'\\x8e', b'F', b'\\xc3', b'\\x01', b'\\x99', b'Q', b'H', b'c', b'P', b'\\xd9', b'h', b'H', b'\\x15', b'\\xb4', b'\\xb1', b'(', b'i', b'F', b'A', b'\\x95', b'\\xce', b'a', b'\\x11', b'6', b'8', b'6', b'`', b'C', b'\\x98', b'\\xbd', b'\\xb8', b'e', b'\\x93', b'y', b'1', b'G', b'\\r', b'\\x92', b' ', b'\\xcd', b'\\xc2', b'n', b'\\x15', b'\\xa7', b'Y', b'\\xf9', b'U', b'[', b'\\x84', b'Y', b'p', b'\\x87', b'\\xc3', b'p', b'\\xcc', b'2', b'a', b'C', b'P', b'\\xc9', b'\\xb0', b'{', b'\"', b'\\xb8', b'\\xd6', b'N', b'v', b'\\xd4', b'W', b'M', b'\\xa0', b'p', b'\\\\', b'%', b'\\xd5', b'\\xb8', b'\\r', b'\\x1f', b'D', b'\\x00']\n",
            "Decompressed Bytes: b'046af46f26833e6e03be333576aed3981ee96202e4d565f882a941102e00480982e8b6f00075d49e84cf5665b5eafb23d36cbf9dbdf0f7d605fae8475267183c4a7cff345adcc59b0165d0499198eaf2ebb345c2bf8663567e4da736f84b88df8ac71a89f6e5e079648d7bb8cf675b49158a167e8013abce866516281c3b0aba1295c38fdb30be1f4e9ac2b559d7597413162fbd74f528576b6ef90d828d40abd8fcdd0da80f2eb139de5c6f04ef5c18eb84bcf38f884ce6b6550ec44556beb9109b09e77fa8c42ecc0334951efaf6f224114c2d9c107b2fd6fc2d30feae92f647ee9d5f4d89de1291bec26d092d157ee006d9e6963ce15f930dd3d1535a7fa73219527b6b242f92e9ad48f8abcce4515440'\n",
            "Decompressed Text (String): 046af46f26833e6e03be333576aed3981ee96202e4d565f882a941102e00480982e8b6f00075d49e84cf5665b5eafb23d36cbf9dbdf0f7d605fae8475267183c4a7cff345adcc59b0165d0499198eaf2ebb345c2bf8663567e4da736f84b88df8ac71a89f6e5e079648d7bb8cf675b49158a167e8013abce866516281c3b0aba1295c38fdb30be1f4e9ac2b559d7597413162fbd74f528576b6ef90d828d40abd8fcdd0da80f2eb139de5c6f04ef5c18eb84bcf38f884ce6b6550ec44556beb9109b09e77fa8c42ecc0334951efaf6f224114c2d9c107b2fd6fc2d30feae92f647ee9d5f4d89de1291bec26d092d157ee006d9e6963ce15f930dd3d1535a7fa73219527b6b242f92e9ad48f8abcce4515440\n",
            "\n",
            "Original size: 548 bytes\n",
            "Compressed size: 436 bytes\n",
            "Decompressed size: 548 bytes\n",
            "Decompression was successful!\n"
          ]
        }
      ]
    },
    {
      "cell_type": "markdown",
      "source": [
        "## LSB"
      ],
      "metadata": {
        "id": "Cz9jVJCKdatf"
      }
    },
    {
      "cell_type": "code",
      "source": [
        "compressed_list"
      ],
      "metadata": {
        "colab": {
          "base_uri": "https://localhost:8080/"
        },
        "id": "kyEoAf_bdbn7",
        "outputId": "d55e47a7-65ec-462f-9b5b-fe1df88496da"
      },
      "execution_count": 41,
      "outputs": [
        {
          "output_type": "execute_result",
          "data": {
            "text/plain": [
              "[b'\\x18',\n",
              " b'\\r',\n",
              " b'\\x06',\n",
              " b'\\xc6',\n",
              " b'\\x13',\n",
              " b'4',\n",
              " b'\\x0c',\n",
              " b'\\xcc',\n",
              " b'2',\n",
              " b'\\x1b',\n",
              " b'\\x0e',\n",
              " b'\\x06',\n",
              " b'c',\n",
              " b'3',\n",
              " b'(',\n",
              " b'\\xd8',\n",
              " b'\\xca',\n",
              " b'0',\n",
              " b'\\x19',\n",
              " b'\\x98',\n",
              " b'\\x8c',\n",
              " b'\\xb0',\n",
              " b'\\xc1',\n",
              " b'\\x98',\n",
              " b'\\xd4',\n",
              " b'o',\n",
              " b'\\x04',\n",
              " b'2',\n",
              " b'\\x99',\n",
              " b'\\x06',\n",
              " b'c',\n",
              " b'\\x91',\n",
              " b'\\xc0',\n",
              " b'\\xc4',\n",
              " b'\\xca',\n",
              " b'e',\n",
              " b'\\x1c',\n",
              " b'\\x8d',\n",
              " b'\\x86',\n",
              " b'C',\n",
              " b'\\x01',\n",
              " b'\\x91',\n",
              " b'\\x94',\n",
              " b'h',\n",
              " b'd',\n",
              " b'\\x1a',\n",
              " b'\\x8d',\n",
              " b'\\x86',\n",
              " b'\\xa6',\n",
              " b'a',\n",
              " b'\\xc0',\n",
              " b'\\xe0',\n",
              " b'd',\n",
              " b'a',\n",
              " b'\\x1c',\n",
              " b'\\x8d',\n",
              " b'\\x06',\n",
              " b'#',\n",
              " b'\\x19',\n",
              " b',',\n",
              " b'B',\n",
              " b'\\x04',\n",
              " b'8',\n",
              " b'\\x18',\n",
              " b'G',\n",
              " b'd',\n",
              " b'\\xc3',\n",
              " b'\\x83',\n",
              " b'\\x10',\n",
              " b'\\xd8',\n",
              " b'\\xcc',\n",
              " b'0',\n",
              " b'\\xa0',\n",
              " b'\\x8d',\n",
              " b'\\xc6',\n",
              " b'\\xa6',\n",
              " b'A',\n",
              " b'\\xa0',\n",
              " b'\\xe4',\n",
              " b'\\xca',\n",
              " b'8',\n",
              " b'\\x1a',\n",
              " b'\\x18',\n",
              " b'\\xcc',\n",
              " b'\\xd2',\n",
              " b'\\xa9',\n",
              " b'Y',\n",
              " b'\\x88',\n",
              " b'j',\n",
              " b'e',\n",
              " b'\\x82',\n",
              " b'\\x98',\n",
              " b'\\x86',\n",
              " b'C',\n",
              " b'8',\n",
              " b'\\xd8',\n",
              " b'\\xd8',\n",
              " b'\\xc6',\n",
              " b'b',\n",
              " b'3',\n",
              " b'\\x0e',\n",
              " b'L',\n",
              " b'\\x86',\n",
              " b'#',\n",
              " b'%',\n",
              " b'\\x00',\n",
              " b'\\xcc',\n",
              " b'7',\n",
              " b'2',\n",
              " b'\\r',\n",
              " b'\\x86',\n",
              " b'\\x12',\n",
              " b'\\xc3',\n",
              " b'\\r',\n",
              " b' ',\n",
              " b'i',\n",
              " b'C',\n",
              " b'\\x84',\n",
              " b'\\x8d',\n",
              " b'\\xc6',\n",
              " b'0',\n",
              " b'\\xb3',\n",
              " b'\\x18',\n",
              " b'\\xd0',\n",
              " b'\\xc2',\n",
              " b'7',\n",
              " b'\\xa5',\n",
              " b'\\x99',\n",
              " b'\\x86',\n",
              " b'c',\n",
              " b'A',\n",
              " b'\\xa9',\n",
              " b'\\x84',\n",
              " b'\\xc8',\n",
              " b'c',\n",
              " b'1',\n",
              " b'\\x8d',\n",
              " b'G',\n",
              " b'&',\n",
              " b'!',\n",
              " b'\\x80',\n",
              " b'\\xc6',\n",
              " b'V',\n",
              " b'd',\n",
              " b'\\x81',\n",
              " b'\\x0e',\n",
              " b'G',\n",
              " b'#',\n",
              " b'\\x18',\n",
              " b'\\xed',\n",
              " b'F',\n",
              " b'\\x10',\n",
              " b'e',\n",
              " b'1',\n",
              " b'\\x18',\n",
              " b'\\xae',\n",
              " b'\\x83',\n",
              " b'S',\n",
              " b'\\x18',\n",
              " b'\\xca',\n",
              " b'\\xb2',\n",
              " b'8',\n",
              " b'\\x1b',\n",
              " b'\\r',\n",
              " b'\\xa2',\n",
              " b'\\xc3',\n",
              " b'a',\n",
              " b'\\xbc',\n",
              " b'\\x9c',\n",
              " b'\\xc9',\n",
              " b'p',\n",
              " b'\\x19',\n",
              " b'\\xcf',\n",
              " b'\\xe9',\n",
              " b'&',\n",
              " b')',\n",
              " b'u',\n",
              " b'x',\n",
              " b'p',\n",
              " b'a',\n",
              " b'1',\n",
              " b'\\xda',\n",
              " b'\\xcc',\n",
              " b'#',\n",
              " b'\\x81',\n",
              " b'\\xc9',\n",
              " b'\\x9a',\n",
              " b'\\x1f',\n",
              " b'P',\n",
              " b'\\x18',\n",
              " b'\\r',\n",
              " b'\\xe4',\n",
              " b'C',\n",
              " b'A',\n",
              " b'\\xc1',\n",
              " b'\\x90',\n",
              " b'o',\n",
              " b'\\x8a',\n",
              " b'\\x1c',\n",
              " b'R',\n",
              " b'\\xf2',\n",
              " b'\\xa3',\n",
              " b'S',\n",
              " b'\\x15',\n",
              " b'\\x18',\n",
              " b'b',\n",
              " b'5',\n",
              " b'\\xd0',\n",
              " b'_',\n",
              " b'\\xf2',\n",
              " b'\\xd3',\n",
              " b'\\x91',\n",
              " b'\\x88',\n",
              " b'\\xcc',\n",
              " b'\\xc2',\n",
              " b'b',\n",
              " b'1',\n",
              " b'\\xd2',\n",
              " b'2',\n",
              " b'C',\n",
              " b'[',\n",
              " b'\\xf8',\n",
              " b'\\xca',\n",
              " b'<',\n",
              " b'c',\n",
              " b'\\x89',\n",
              " b'\\x0c',\n",
              " b'8',\n",
              " b'\\x06',\n",
              " b'\\x11',\n",
              " b'\\x88',\n",
              " b'\\xc8',\n",
              " b's',\n",
              " b'\\x8d',\n",
              " b'\\x19',\n",
              " b'\\x8e',\n",
              " b'\\x0c',\n",
              " b'\\xd5',\n",
              " b'\\xc1',\n",
              " b'\\x98',\n",
              " b'\\xc2',\n",
              " b'&',\n",
              " b'1',\n",
              " b'\\x83',\n",
              " b'H',\n",
              " b't',\n",
              " b'8',\n",
              " b'\\xf1',\n",
              " b'\\xad',\n",
              " b'\\xef',\n",
              " b'_',\n",
              " b'{',\n",
              " b'\\x1b',\n",
              " b'\\xcc',\n",
              " b'\\xc6',\n",
              " b'|',\n",
              " b'c',\n",
              " b'5',\n",
              " b'w',\n",
              " b'\\xc5',\n",
              " b'L',\n",
              " b'\\xe3',\n",
              " b'\\xc5',\n",
              " b'\\xc6',\n",
              " b'\\xd3',\n",
              " b'\\xe3',\n",
              " b'-',\n",
              " b'h',\n",
              " b'`',\n",
              " b'd',\n",
              " b'\\x97',\n",
              " b'\\xeb',\n",
              " b'\\x86',\n",
              " b'\\x9c',\n",
              " b'\\xba',\n",
              " b'\\xef',\n",
              " b'L',\n",
              " b'\\xc6',\n",
              " b'd',\n",
              " b'\\xc0',\n",
              " b'\\xe6',\n",
              " b\"'\",\n",
              " b'8',\n",
              " b'\\x83',\n",
              " b'\\x16',\n",
              " b'\\xf9',\n",
              " b'[',\n",
              " b'\\x19',\n",
              " b'X',\n",
              " b'\\xd4',\n",
              " b'\\xfd',\n",
              " b'\\x02',\n",
              " b'{',\n",
              " b'\\x98',\n",
              " b'\\xd5',\n",
              " b'\\xb1',\n",
              " b'\\x89',\n",
              " b'g',\n",
              " b'\\x14',\n",
              " b'\\xb7',\n",
              " b'I',\n",
              " b'-',\n",
              " b'R',\n",
              " b'\\\\',\n",
              " b\"'\",\n",
              " b'\\xb1',\n",
              " b'+',\n",
              " b'\\r',\n",
              " b'C',\n",
              " b'\\x01',\n",
              " b'\\x95',\n",
              " b'n',\n",
              " b']',\n",
              " b'R',\n",
              " b'\\xa4',\n",
              " b'L',\n",
              " b'b',\n",
              " b'a',\n",
              " b'\\x13',\n",
              " b'\\xa5',\n",
              " b'\\xf5',\n",
              " b'G',\n",
              " b'\\r',\n",
              " b'\\xc3',\n",
              " b'q',\n",
              " b'\\x99',\n",
              " b'\\xa4',\n",
              " b'[',\n",
              " b'\\x92',\n",
              " b'e',\n",
              " b'\\xe5',\n",
              " b'\\x11',\n",
              " b']',\n",
              " b'\\x1d',\n",
              " b'\\x04',\n",
              " b'~',\n",
              " b'\\x1f',\n",
              " b'i',\n",
              " b'\\xd0',\n",
              " b'\\x80',\n",
              " b'\\xc9',\n",
              " b'3',\n",
              " b'\\x0c',\n",
              " b'T',\n",
              " b'\\xa0',\n",
              " b'\\xc8',\n",
              " b'd',\n",
              " b'\\x0e',\n",
              " b'F',\n",
              " b'4',\n",
              " b'\\xd5',\n",
              " b'\\xb0',\n",
              " b'\\x0c',\n",
              " b'\\x9d',\n",
              " b'D',\n",
              " b'\\xfd',\n",
              " b'\\x8e',\n",
              " b'F',\n",
              " b'\\xc3',\n",
              " b'\\x01',\n",
              " b'\\x99',\n",
              " b'Q',\n",
              " b'H',\n",
              " b'c',\n",
              " b'P',\n",
              " b'\\xd9',\n",
              " b'h',\n",
              " b'H',\n",
              " b'\\x15',\n",
              " b'\\xb4',\n",
              " b'\\xb1',\n",
              " b'(',\n",
              " b'i',\n",
              " b'F',\n",
              " b'A',\n",
              " b'\\x95',\n",
              " b'\\xce',\n",
              " b'a',\n",
              " b'\\x11',\n",
              " b'6',\n",
              " b'8',\n",
              " b'6',\n",
              " b'`',\n",
              " b'C',\n",
              " b'\\x98',\n",
              " b'\\xbd',\n",
              " b'\\xb8',\n",
              " b'e',\n",
              " b'\\x93',\n",
              " b'y',\n",
              " b'1',\n",
              " b'G',\n",
              " b'\\r',\n",
              " b'\\x92',\n",
              " b' ',\n",
              " b'\\xcd',\n",
              " b'\\xc2',\n",
              " b'n',\n",
              " b'\\x15',\n",
              " b'\\xa7',\n",
              " b'Y',\n",
              " b'\\xf9',\n",
              " b'U',\n",
              " b'[',\n",
              " b'\\x84',\n",
              " b'Y',\n",
              " b'p',\n",
              " b'\\x87',\n",
              " b'\\xc3',\n",
              " b'p',\n",
              " b'\\xcc',\n",
              " b'2',\n",
              " b'a',\n",
              " b'C',\n",
              " b'P',\n",
              " b'\\xc9',\n",
              " b'\\xb0',\n",
              " b'{',\n",
              " b'\"',\n",
              " b'\\xb8',\n",
              " b'\\xd6',\n",
              " b'N',\n",
              " b'v',\n",
              " b'\\xd4',\n",
              " b'W',\n",
              " b'M',\n",
              " b'\\xa0',\n",
              " b'p',\n",
              " b'\\\\',\n",
              " b'%',\n",
              " b'\\xd5',\n",
              " b'\\xb8',\n",
              " b'\\r',\n",
              " b'\\x1f',\n",
              " b'D',\n",
              " b'\\x00']"
            ]
          },
          "metadata": {},
          "execution_count": 41
        }
      ]
    },
    {
      "cell_type": "code",
      "source": [
        "embed_lsb(\"lsb_w_ECC_LZW.png\", compressed_list)"
      ],
      "metadata": {
        "id": "Yt8YOYyRddat"
      },
      "execution_count": 42,
      "outputs": []
    },
    {
      "cell_type": "code",
      "source": [
        "extracted_data = extract_lsb(\"lsb_w_ECC_LZW.png\")\n",
        "extracted_data"
      ],
      "metadata": {
        "colab": {
          "base_uri": "https://localhost:8080/",
          "height": 140
        },
        "id": "jz2ITLpTdev4",
        "outputId": "415b0d59-06cd-4526-a2af-c36d71ffda10"
      },
      "execution_count": 43,
      "outputs": [
        {
          "output_type": "execute_result",
          "data": {
            "text/plain": [
              "'\\x18\\r\\x06Æ\\x134\\x0cÌ2\\x1b\\x0e\\x06c3(ØÊ0\\x19\\x98\\x8c°Á\\x98Ôo\\x042\\x99\\x06c\\x91ÀÄÊe\\x1c\\x8d\\x86C\\x01\\x91\\x94hd\\x1a\\x8d\\x86¦aÀàda\\x1c\\x8d\\x06#\\x19,B\\x048\\x18GdÃ\\x83\\x10ØÌ0\\xa0\\x8dÆ¦A\\xa0äÊ8\\x1a\\x18ÌÒ©Y\\x88je\\x82\\x98\\x86C8ØØÆb3\\x0eL\\x86#%\\x00Ì72\\r\\x86\\x12Ã\\r iC\\x84\\x8dÆ0³\\x18ÐÂ7¥\\x99\\x86cA©\\x84Èc1\\x8dG&!\\x80ÆVd\\x81\\x0eG#\\x18íF\\x10e1\\x18®\\x83S\\x18Ê²8\\x1b\\r¢Ãa¼\\x9cÉp\\x19Ïé&)uxpa1ÚÌ#\\x81É\\x9a\\x1fP\\x18\\räCAÁ\\x90o\\x8a\\x1cRò£S\\x15\\x18b5Ð_òÓ\\x91\\x88ÌÂb1Ò2C[øÊ<c\\x89\\x0c8\\x06\\x11\\x88Ès\\x8d\\x19\\x8e\\x0cÕÁ\\x98Â&1\\x83Ht8ñ\\xadï_{\\x1bÌÆ|c5wÅLãÅÆÓã-h`d\\x97ë\\x86\\x9cºïLÆdÀæ\\'8\\x83\\x16ù[\\x19XÔý\\x02{\\x98Õ±\\x89g\\x14·I-R\\\\\\'±+\\rC\\x01\\x95n]R¤Lba\\x13¥õG\\rÃq\\x99¤[\\x92eå\\x11]\\x1d\\x04~\\x1fiÐ\\x80É3\\x0cT\\xa0Èd\\x0eF4Õ°\\x0c\\x9dDý\\x8eFÃ\\x01\\x99QHcPÙhH\\x15´±(iFA\\x95Îa\\x11686`C\\x98½¸e\\x93y1G\\r\\x92 ÍÂn\\x15§YùU[\\x84Yp\\x87ÃpÌ2aCPÉ°{\"¸ÖNvÔWM\\xa0p\\\\%Õ¸\\r\\x1fD\\x00'"
            ],
            "application/vnd.google.colaboratory.intrinsic+json": {
              "type": "string"
            }
          },
          "metadata": {},
          "execution_count": 43
        }
      ]
    },
    {
      "cell_type": "code",
      "source": [
        "byte_list = [bytes([ord(char)]) for char in extracted_data]\n",
        "byte_list"
      ],
      "metadata": {
        "colab": {
          "base_uri": "https://localhost:8080/"
        },
        "id": "wfEG-lr0dh8F",
        "outputId": "163a6d9d-dc04-458c-9849-264c771feb36"
      },
      "execution_count": 44,
      "outputs": [
        {
          "output_type": "execute_result",
          "data": {
            "text/plain": [
              "[b'\\x18',\n",
              " b'\\r',\n",
              " b'\\x06',\n",
              " b'\\xc6',\n",
              " b'\\x13',\n",
              " b'4',\n",
              " b'\\x0c',\n",
              " b'\\xcc',\n",
              " b'2',\n",
              " b'\\x1b',\n",
              " b'\\x0e',\n",
              " b'\\x06',\n",
              " b'c',\n",
              " b'3',\n",
              " b'(',\n",
              " b'\\xd8',\n",
              " b'\\xca',\n",
              " b'0',\n",
              " b'\\x19',\n",
              " b'\\x98',\n",
              " b'\\x8c',\n",
              " b'\\xb0',\n",
              " b'\\xc1',\n",
              " b'\\x98',\n",
              " b'\\xd4',\n",
              " b'o',\n",
              " b'\\x04',\n",
              " b'2',\n",
              " b'\\x99',\n",
              " b'\\x06',\n",
              " b'c',\n",
              " b'\\x91',\n",
              " b'\\xc0',\n",
              " b'\\xc4',\n",
              " b'\\xca',\n",
              " b'e',\n",
              " b'\\x1c',\n",
              " b'\\x8d',\n",
              " b'\\x86',\n",
              " b'C',\n",
              " b'\\x01',\n",
              " b'\\x91',\n",
              " b'\\x94',\n",
              " b'h',\n",
              " b'd',\n",
              " b'\\x1a',\n",
              " b'\\x8d',\n",
              " b'\\x86',\n",
              " b'\\xa6',\n",
              " b'a',\n",
              " b'\\xc0',\n",
              " b'\\xe0',\n",
              " b'd',\n",
              " b'a',\n",
              " b'\\x1c',\n",
              " b'\\x8d',\n",
              " b'\\x06',\n",
              " b'#',\n",
              " b'\\x19',\n",
              " b',',\n",
              " b'B',\n",
              " b'\\x04',\n",
              " b'8',\n",
              " b'\\x18',\n",
              " b'G',\n",
              " b'd',\n",
              " b'\\xc3',\n",
              " b'\\x83',\n",
              " b'\\x10',\n",
              " b'\\xd8',\n",
              " b'\\xcc',\n",
              " b'0',\n",
              " b'\\xa0',\n",
              " b'\\x8d',\n",
              " b'\\xc6',\n",
              " b'\\xa6',\n",
              " b'A',\n",
              " b'\\xa0',\n",
              " b'\\xe4',\n",
              " b'\\xca',\n",
              " b'8',\n",
              " b'\\x1a',\n",
              " b'\\x18',\n",
              " b'\\xcc',\n",
              " b'\\xd2',\n",
              " b'\\xa9',\n",
              " b'Y',\n",
              " b'\\x88',\n",
              " b'j',\n",
              " b'e',\n",
              " b'\\x82',\n",
              " b'\\x98',\n",
              " b'\\x86',\n",
              " b'C',\n",
              " b'8',\n",
              " b'\\xd8',\n",
              " b'\\xd8',\n",
              " b'\\xc6',\n",
              " b'b',\n",
              " b'3',\n",
              " b'\\x0e',\n",
              " b'L',\n",
              " b'\\x86',\n",
              " b'#',\n",
              " b'%',\n",
              " b'\\x00',\n",
              " b'\\xcc',\n",
              " b'7',\n",
              " b'2',\n",
              " b'\\r',\n",
              " b'\\x86',\n",
              " b'\\x12',\n",
              " b'\\xc3',\n",
              " b'\\r',\n",
              " b' ',\n",
              " b'i',\n",
              " b'C',\n",
              " b'\\x84',\n",
              " b'\\x8d',\n",
              " b'\\xc6',\n",
              " b'0',\n",
              " b'\\xb3',\n",
              " b'\\x18',\n",
              " b'\\xd0',\n",
              " b'\\xc2',\n",
              " b'7',\n",
              " b'\\xa5',\n",
              " b'\\x99',\n",
              " b'\\x86',\n",
              " b'c',\n",
              " b'A',\n",
              " b'\\xa9',\n",
              " b'\\x84',\n",
              " b'\\xc8',\n",
              " b'c',\n",
              " b'1',\n",
              " b'\\x8d',\n",
              " b'G',\n",
              " b'&',\n",
              " b'!',\n",
              " b'\\x80',\n",
              " b'\\xc6',\n",
              " b'V',\n",
              " b'd',\n",
              " b'\\x81',\n",
              " b'\\x0e',\n",
              " b'G',\n",
              " b'#',\n",
              " b'\\x18',\n",
              " b'\\xed',\n",
              " b'F',\n",
              " b'\\x10',\n",
              " b'e',\n",
              " b'1',\n",
              " b'\\x18',\n",
              " b'\\xae',\n",
              " b'\\x83',\n",
              " b'S',\n",
              " b'\\x18',\n",
              " b'\\xca',\n",
              " b'\\xb2',\n",
              " b'8',\n",
              " b'\\x1b',\n",
              " b'\\r',\n",
              " b'\\xa2',\n",
              " b'\\xc3',\n",
              " b'a',\n",
              " b'\\xbc',\n",
              " b'\\x9c',\n",
              " b'\\xc9',\n",
              " b'p',\n",
              " b'\\x19',\n",
              " b'\\xcf',\n",
              " b'\\xe9',\n",
              " b'&',\n",
              " b')',\n",
              " b'u',\n",
              " b'x',\n",
              " b'p',\n",
              " b'a',\n",
              " b'1',\n",
              " b'\\xda',\n",
              " b'\\xcc',\n",
              " b'#',\n",
              " b'\\x81',\n",
              " b'\\xc9',\n",
              " b'\\x9a',\n",
              " b'\\x1f',\n",
              " b'P',\n",
              " b'\\x18',\n",
              " b'\\r',\n",
              " b'\\xe4',\n",
              " b'C',\n",
              " b'A',\n",
              " b'\\xc1',\n",
              " b'\\x90',\n",
              " b'o',\n",
              " b'\\x8a',\n",
              " b'\\x1c',\n",
              " b'R',\n",
              " b'\\xf2',\n",
              " b'\\xa3',\n",
              " b'S',\n",
              " b'\\x15',\n",
              " b'\\x18',\n",
              " b'b',\n",
              " b'5',\n",
              " b'\\xd0',\n",
              " b'_',\n",
              " b'\\xf2',\n",
              " b'\\xd3',\n",
              " b'\\x91',\n",
              " b'\\x88',\n",
              " b'\\xcc',\n",
              " b'\\xc2',\n",
              " b'b',\n",
              " b'1',\n",
              " b'\\xd2',\n",
              " b'2',\n",
              " b'C',\n",
              " b'[',\n",
              " b'\\xf8',\n",
              " b'\\xca',\n",
              " b'<',\n",
              " b'c',\n",
              " b'\\x89',\n",
              " b'\\x0c',\n",
              " b'8',\n",
              " b'\\x06',\n",
              " b'\\x11',\n",
              " b'\\x88',\n",
              " b'\\xc8',\n",
              " b's',\n",
              " b'\\x8d',\n",
              " b'\\x19',\n",
              " b'\\x8e',\n",
              " b'\\x0c',\n",
              " b'\\xd5',\n",
              " b'\\xc1',\n",
              " b'\\x98',\n",
              " b'\\xc2',\n",
              " b'&',\n",
              " b'1',\n",
              " b'\\x83',\n",
              " b'H',\n",
              " b't',\n",
              " b'8',\n",
              " b'\\xf1',\n",
              " b'\\xad',\n",
              " b'\\xef',\n",
              " b'_',\n",
              " b'{',\n",
              " b'\\x1b',\n",
              " b'\\xcc',\n",
              " b'\\xc6',\n",
              " b'|',\n",
              " b'c',\n",
              " b'5',\n",
              " b'w',\n",
              " b'\\xc5',\n",
              " b'L',\n",
              " b'\\xe3',\n",
              " b'\\xc5',\n",
              " b'\\xc6',\n",
              " b'\\xd3',\n",
              " b'\\xe3',\n",
              " b'-',\n",
              " b'h',\n",
              " b'`',\n",
              " b'd',\n",
              " b'\\x97',\n",
              " b'\\xeb',\n",
              " b'\\x86',\n",
              " b'\\x9c',\n",
              " b'\\xba',\n",
              " b'\\xef',\n",
              " b'L',\n",
              " b'\\xc6',\n",
              " b'd',\n",
              " b'\\xc0',\n",
              " b'\\xe6',\n",
              " b\"'\",\n",
              " b'8',\n",
              " b'\\x83',\n",
              " b'\\x16',\n",
              " b'\\xf9',\n",
              " b'[',\n",
              " b'\\x19',\n",
              " b'X',\n",
              " b'\\xd4',\n",
              " b'\\xfd',\n",
              " b'\\x02',\n",
              " b'{',\n",
              " b'\\x98',\n",
              " b'\\xd5',\n",
              " b'\\xb1',\n",
              " b'\\x89',\n",
              " b'g',\n",
              " b'\\x14',\n",
              " b'\\xb7',\n",
              " b'I',\n",
              " b'-',\n",
              " b'R',\n",
              " b'\\\\',\n",
              " b\"'\",\n",
              " b'\\xb1',\n",
              " b'+',\n",
              " b'\\r',\n",
              " b'C',\n",
              " b'\\x01',\n",
              " b'\\x95',\n",
              " b'n',\n",
              " b']',\n",
              " b'R',\n",
              " b'\\xa4',\n",
              " b'L',\n",
              " b'b',\n",
              " b'a',\n",
              " b'\\x13',\n",
              " b'\\xa5',\n",
              " b'\\xf5',\n",
              " b'G',\n",
              " b'\\r',\n",
              " b'\\xc3',\n",
              " b'q',\n",
              " b'\\x99',\n",
              " b'\\xa4',\n",
              " b'[',\n",
              " b'\\x92',\n",
              " b'e',\n",
              " b'\\xe5',\n",
              " b'\\x11',\n",
              " b']',\n",
              " b'\\x1d',\n",
              " b'\\x04',\n",
              " b'~',\n",
              " b'\\x1f',\n",
              " b'i',\n",
              " b'\\xd0',\n",
              " b'\\x80',\n",
              " b'\\xc9',\n",
              " b'3',\n",
              " b'\\x0c',\n",
              " b'T',\n",
              " b'\\xa0',\n",
              " b'\\xc8',\n",
              " b'd',\n",
              " b'\\x0e',\n",
              " b'F',\n",
              " b'4',\n",
              " b'\\xd5',\n",
              " b'\\xb0',\n",
              " b'\\x0c',\n",
              " b'\\x9d',\n",
              " b'D',\n",
              " b'\\xfd',\n",
              " b'\\x8e',\n",
              " b'F',\n",
              " b'\\xc3',\n",
              " b'\\x01',\n",
              " b'\\x99',\n",
              " b'Q',\n",
              " b'H',\n",
              " b'c',\n",
              " b'P',\n",
              " b'\\xd9',\n",
              " b'h',\n",
              " b'H',\n",
              " b'\\x15',\n",
              " b'\\xb4',\n",
              " b'\\xb1',\n",
              " b'(',\n",
              " b'i',\n",
              " b'F',\n",
              " b'A',\n",
              " b'\\x95',\n",
              " b'\\xce',\n",
              " b'a',\n",
              " b'\\x11',\n",
              " b'6',\n",
              " b'8',\n",
              " b'6',\n",
              " b'`',\n",
              " b'C',\n",
              " b'\\x98',\n",
              " b'\\xbd',\n",
              " b'\\xb8',\n",
              " b'e',\n",
              " b'\\x93',\n",
              " b'y',\n",
              " b'1',\n",
              " b'G',\n",
              " b'\\r',\n",
              " b'\\x92',\n",
              " b' ',\n",
              " b'\\xcd',\n",
              " b'\\xc2',\n",
              " b'n',\n",
              " b'\\x15',\n",
              " b'\\xa7',\n",
              " b'Y',\n",
              " b'\\xf9',\n",
              " b'U',\n",
              " b'[',\n",
              " b'\\x84',\n",
              " b'Y',\n",
              " b'p',\n",
              " b'\\x87',\n",
              " b'\\xc3',\n",
              " b'p',\n",
              " b'\\xcc',\n",
              " b'2',\n",
              " b'a',\n",
              " b'C',\n",
              " b'P',\n",
              " b'\\xc9',\n",
              " b'\\xb0',\n",
              " b'{',\n",
              " b'\"',\n",
              " b'\\xb8',\n",
              " b'\\xd6',\n",
              " b'N',\n",
              " b'v',\n",
              " b'\\xd4',\n",
              " b'W',\n",
              " b'M',\n",
              " b'\\xa0',\n",
              " b'p',\n",
              " b'\\\\',\n",
              " b'%',\n",
              " b'\\xd5',\n",
              " b'\\xb8',\n",
              " b'\\r',\n",
              " b'\\x1f',\n",
              " b'D',\n",
              " b'\\x00']"
            ]
          },
          "metadata": {},
          "execution_count": 44
        }
      ]
    },
    {
      "cell_type": "code",
      "source": [
        "compressed_list == byte_list"
      ],
      "metadata": {
        "colab": {
          "base_uri": "https://localhost:8080/"
        },
        "id": "Y1Ol_jIxd1Ry",
        "outputId": "fe33ca5f-81be-48dc-a72b-3e9b815b1caa"
      },
      "execution_count": 45,
      "outputs": [
        {
          "output_type": "execute_result",
          "data": {
            "text/plain": [
              "True"
            ]
          },
          "metadata": {},
          "execution_count": 45
        }
      ]
    },
    {
      "cell_type": "code",
      "source": [
        "# Part 2: Decompression (in-memory)\n",
        "decompressed_chunks = lzw.decompress(byte_list)\n",
        "\n",
        "# Join the decompressed chunks into a single byte string\n",
        "decompressed_bytes = b\"\".join(decompressed_chunks)\n",
        "\n",
        "# Convert decompressed bytes back to a string\n",
        "decompressed_text = decompressed_bytes.decode('utf-8')\n",
        "\n",
        "print(\"Decompressed Text (String):\", decompressed_text)"
      ],
      "metadata": {
        "colab": {
          "base_uri": "https://localhost:8080/"
        },
        "id": "FmpXF5i0d28P",
        "outputId": "e2e03e64-ef2f-48d8-c3e1-8046643a7637"
      },
      "execution_count": 46,
      "outputs": [
        {
          "output_type": "stream",
          "name": "stdout",
          "text": [
            "Decompressed Text (String): 046af46f26833e6e03be333576aed3981ee96202e4d565f882a941102e00480982e8b6f00075d49e84cf5665b5eafb23d36cbf9dbdf0f7d605fae8475267183c4a7cff345adcc59b0165d0499198eaf2ebb345c2bf8663567e4da736f84b88df8ac71a89f6e5e079648d7bb8cf675b49158a167e8013abce866516281c3b0aba1295c38fdb30be1f4e9ac2b559d7597413162fbd74f528576b6ef90d828d40abd8fcdd0da80f2eb139de5c6f04ef5c18eb84bcf38f884ce6b6550ec44556beb9109b09e77fa8c42ecc0334951efaf6f224114c2d9c107b2fd6fc2d30feae92f647ee9d5f4d89de1291bec26d092d157ee006d9e6963ce15f930dd3d1535a7fa73219527b6b242f92e9ad48f8abcce4515440\n"
          ]
        }
      ]
    },
    {
      "cell_type": "code",
      "source": [
        "decompressed_text == ciphertext.hex()"
      ],
      "metadata": {
        "colab": {
          "base_uri": "https://localhost:8080/"
        },
        "id": "y2J0sjEvd8Dj",
        "outputId": "0ac7ff6d-494c-40af-c199-ab5faa4ed9f1"
      },
      "execution_count": 47,
      "outputs": [
        {
          "output_type": "execute_result",
          "data": {
            "text/plain": [
              "True"
            ]
          },
          "metadata": {},
          "execution_count": 47
        }
      ]
    },
    {
      "cell_type": "code",
      "source": [
        "cipher_data = bytes.fromhex(decompressed_text)\n",
        "cipher_data"
      ],
      "metadata": {
        "colab": {
          "base_uri": "https://localhost:8080/"
        },
        "id": "kCbDZ_SweGXM",
        "outputId": "37e9a270-97b8-4ef8-8388-af551907b655"
      },
      "execution_count": 48,
      "outputs": [
        {
          "output_type": "execute_result",
          "data": {
            "text/plain": [
              "b'\\x04j\\xf4o&\\x83>n\\x03\\xbe35v\\xae\\xd3\\x98\\x1e\\xe9b\\x02\\xe4\\xd5e\\xf8\\x82\\xa9A\\x10.\\x00H\\t\\x82\\xe8\\xb6\\xf0\\x00u\\xd4\\x9e\\x84\\xcfVe\\xb5\\xea\\xfb#\\xd3l\\xbf\\x9d\\xbd\\xf0\\xf7\\xd6\\x05\\xfa\\xe8GRg\\x18<J|\\xff4Z\\xdc\\xc5\\x9b\\x01e\\xd0I\\x91\\x98\\xea\\xf2\\xeb\\xb3E\\xc2\\xbf\\x86cV~M\\xa76\\xf8K\\x88\\xdf\\x8a\\xc7\\x1a\\x89\\xf6\\xe5\\xe0yd\\x8d{\\xb8\\xcfg[I\\x15\\x8a\\x16~\\x80\\x13\\xab\\xce\\x86e\\x16(\\x1c;\\n\\xba\\x12\\x95\\xc3\\x8f\\xdb0\\xbe\\x1fN\\x9a\\xc2\\xb5Y\\xd7Yt\\x13\\x16/\\xbdt\\xf5(Wkn\\xf9\\r\\x82\\x8d@\\xab\\xd8\\xfc\\xdd\\r\\xa8\\x0f.\\xb19\\xde\\\\o\\x04\\xef\\\\\\x18\\xeb\\x84\\xbc\\xf3\\x8f\\x88L\\xe6\\xb6U\\x0e\\xc4EV\\xbe\\xb9\\x10\\x9b\\t\\xe7\\x7f\\xa8\\xc4.\\xcc\\x034\\x95\\x1e\\xfa\\xf6\\xf2$\\x11L-\\x9c\\x10{/\\xd6\\xfc-0\\xfe\\xae\\x92\\xf6G\\xee\\x9d_M\\x89\\xde\\x12\\x91\\xbe\\xc2m\\t-\\x15~\\xe0\\x06\\xd9\\xe6\\x96<\\xe1_\\x93\\r\\xd3\\xd1SZ\\x7f\\xa72\\x19R{k$/\\x92\\xe9\\xadH\\xf8\\xab\\xcc\\xe4QT@'"
            ]
          },
          "metadata": {},
          "execution_count": 48
        }
      ]
    },
    {
      "cell_type": "code",
      "source": [
        "decrypted_message = decrypt(private_key_hex, cipher_data)\n",
        "print(\"Decrypted Message:\", decrypted_message.decode())"
      ],
      "metadata": {
        "colab": {
          "base_uri": "https://localhost:8080/"
        },
        "id": "X-I6eiIld-G-",
        "outputId": "d10c63c7-f1e4-42e8-eb7b-0ea08447baa1"
      },
      "execution_count": 49,
      "outputs": [
        {
          "output_type": "stream",
          "name": "stdout",
          "text": [
            "Decrypted Message: 3348610401970005#christofer*derian*budianto#tegal#1997-03-04#laki-laki#b#jl.*pala*22*no.*30#005#017#mejasem*tengah#kramat#katholik#belum*kawin#pelajar/mahasiswa#wni#seumur*hidup\n"
          ]
        }
      ]
    },
    {
      "cell_type": "code",
      "source": [
        "decrypted_message.decode() == CONTENT"
      ],
      "metadata": {
        "colab": {
          "base_uri": "https://localhost:8080/"
        },
        "id": "_rkNt_OneMzX",
        "outputId": "ab59ded7-7cb9-47de-ba9e-74e512931544"
      },
      "execution_count": 50,
      "outputs": [
        {
          "output_type": "execute_result",
          "data": {
            "text/plain": [
              "True"
            ]
          },
          "metadata": {},
          "execution_count": 50
        }
      ]
    },
    {
      "cell_type": "markdown",
      "source": [
        "## Stego Metric"
      ],
      "metadata": {
        "id": "M3EztHsjePEZ"
      }
    },
    {
      "cell_type": "code",
      "source": [
        "calculate_stego_metrics(\"lsb_w_ECC_LZW.png\")"
      ],
      "metadata": {
        "colab": {
          "base_uri": "https://localhost:8080/"
        },
        "id": "jX-WOpBgeRVO",
        "outputId": "ce6563fa-822f-42d7-9f31-ed1822e04471"
      },
      "execution_count": 51,
      "outputs": [
        {
          "output_type": "stream",
          "name": "stdout",
          "text": [
            "Metrics between original (ori-image/lena.png) and stego image (lsb_w_ECC_LZW.png):\n",
            "MSE: 0.0022443135579427085\n",
            "PSNR: 74.61996827815393\n",
            "SSIM: 0.9999948432392258\n"
          ]
        },
        {
          "output_type": "execute_result",
          "data": {
            "text/plain": [
              "(0.0022443135579427085, 74.61996827815393, 0.9999948432392258)"
            ]
          },
          "metadata": {},
          "execution_count": 51
        }
      ]
    },
    {
      "cell_type": "markdown",
      "source": [
        "# LSB with Huffman"
      ],
      "metadata": {
        "id": "sy0JicR8evtx"
      }
    },
    {
      "cell_type": "code",
      "source": [
        "compressed_data"
      ],
      "metadata": {
        "colab": {
          "base_uri": "https://localhost:8080/"
        },
        "id": "BKts0VKxexp3",
        "outputId": "d0a291a0-7588-40fa-9d6f-60df6a031b1b"
      },
      "execution_count": 52,
      "outputs": [
        {
          "output_type": "execute_result",
          "data": {
            "text/plain": [
              "bytearray(b'\\x02\\xdfy>\\xa8\\x7f\\x12G\\xf7S\\x11\\x1e\\xfb\\xedYu\\xcf\\xc6)\\x91\\xd52\\xe6\\xc3\\xa3usi\\xf9\\xd3OD;\\xfb\\xae\\xa6\\xf8\\xde\\xf8\\x93\\x80\\xe1\\xef\\x03\\x87\\xed9\\x90\\xa2;\\x10#\\xf3\\xe0\\xdb\\xca#\\xbctG\\xbe\\x8f\\xe9\\xea\\xa3%iQ\\x9a[\\xd1Wc&\\xa6}\\x835x\\x0f\\x8e\\xd1\\x01\\xb5\\x1c\\x19^\\xdd\\xb2\\x01d\\xe5\\x85J\\x8a\\xddr\\x9e\\x96\\xcf\\xcbF\\xd5\\xb9\\x15>\\xad\\xd8')"
            ]
          },
          "metadata": {},
          "execution_count": 52
        }
      ]
    },
    {
      "cell_type": "code",
      "source": [
        "compressed_data.hex()"
      ],
      "metadata": {
        "colab": {
          "base_uri": "https://localhost:8080/",
          "height": 53
        },
        "id": "s96YZUTAe0Dl",
        "outputId": "6cb7930d-f06b-46fe-9101-5778de67d8f2"
      },
      "execution_count": 53,
      "outputs": [
        {
          "output_type": "execute_result",
          "data": {
            "text/plain": [
              "'02df793ea87f1247f753111efbed5975cfc62991d532e6c3a3757369f9d34f443bfbaea6f8def89380e1ef0387ed3990a23b1023f3e0dbca23bc7447be8fe9eaa32569519a5bd1576326a67d8335780f8ed101b51c195eddb20164e5854a8add729e96cfcb46d5b9153eadd8'"
            ],
            "application/vnd.google.colaboratory.intrinsic+json": {
              "type": "string"
            }
          },
          "metadata": {},
          "execution_count": 53
        }
      ]
    },
    {
      "cell_type": "code",
      "source": [
        "embed_lsb(\"lsb_w_Huffman.png\", compressed_data.hex())"
      ],
      "metadata": {
        "id": "vHIvA2nCe-tQ"
      },
      "execution_count": 54,
      "outputs": []
    },
    {
      "cell_type": "code",
      "source": [
        "extracted_data = extract_lsb(\"lsb_w_Huffman.png\")\n",
        "extracted_data"
      ],
      "metadata": {
        "colab": {
          "base_uri": "https://localhost:8080/",
          "height": 53
        },
        "id": "3pGMhFBsfCzI",
        "outputId": "af07be66-f4cd-4150-b732-c122cc15fabf"
      },
      "execution_count": 55,
      "outputs": [
        {
          "output_type": "execute_result",
          "data": {
            "text/plain": [
              "'02df793ea87f1247f753111efbed5975cfc62991d532e6c3a3757369f9d34f443bfbaea6f8def89380e1ef0387ed3990a23b1023f3e0dbca23bc7447be8fe9eaa32569519a5bd1576326a67d8335780f8ed101b51c195eddb20164e5854a8add729e96cfcb46d5b9153eadd8'"
            ],
            "application/vnd.google.colaboratory.intrinsic+json": {
              "type": "string"
            }
          },
          "metadata": {},
          "execution_count": 55
        }
      ]
    },
    {
      "cell_type": "code",
      "source": [
        "huffman_data = bytearray.fromhex(extracted_data)\n",
        "huffman_data"
      ],
      "metadata": {
        "colab": {
          "base_uri": "https://localhost:8080/"
        },
        "id": "PrJpLftvfFwM",
        "outputId": "f4b01d96-affc-4f1c-aa49-ae9fa6a584ed"
      },
      "execution_count": 56,
      "outputs": [
        {
          "output_type": "execute_result",
          "data": {
            "text/plain": [
              "bytearray(b'\\x02\\xdfy>\\xa8\\x7f\\x12G\\xf7S\\x11\\x1e\\xfb\\xedYu\\xcf\\xc6)\\x91\\xd52\\xe6\\xc3\\xa3usi\\xf9\\xd3OD;\\xfb\\xae\\xa6\\xf8\\xde\\xf8\\x93\\x80\\xe1\\xef\\x03\\x87\\xed9\\x90\\xa2;\\x10#\\xf3\\xe0\\xdb\\xca#\\xbctG\\xbe\\x8f\\xe9\\xea\\xa3%iQ\\x9a[\\xd1Wc&\\xa6}\\x835x\\x0f\\x8e\\xd1\\x01\\xb5\\x1c\\x19^\\xdd\\xb2\\x01d\\xe5\\x85J\\x8a\\xddr\\x9e\\x96\\xcf\\xcbF\\xd5\\xb9\\x15>\\xad\\xd8')"
            ]
          },
          "metadata": {},
          "execution_count": 56
        }
      ]
    },
    {
      "cell_type": "code",
      "source": [
        "decompressed_data = huffman_decompress(huffman_data, huffman_tree)\n",
        "print(\"Decompressed Data (as bytes):\", decompressed_data)\n",
        "print(\"Decompressed Data (as string):\", decompressed_data.decode())"
      ],
      "metadata": {
        "colab": {
          "base_uri": "https://localhost:8080/"
        },
        "id": "oiQl7gyZfJXu",
        "outputId": "3e11fed1-5cd2-4fb7-ac10-b9ae2c427a5e"
      },
      "execution_count": 57,
      "outputs": [
        {
          "output_type": "stream",
          "name": "stdout",
          "text": [
            "Decompressed Data (as bytes): bytearray(b'3348610401970005#christofer*derian*budianto#tegal#1997-03-04#laki-laki#b#jl.*pala*22*no.*30#005#017#mejasem*tengah#kramat#katholik#belum*kawin#pelajar/mahasiswa#wni#seumur*hidup')\n",
            "Decompressed Data (as string): 3348610401970005#christofer*derian*budianto#tegal#1997-03-04#laki-laki#b#jl.*pala*22*no.*30#005#017#mejasem*tengah#kramat#katholik#belum*kawin#pelajar/mahasiswa#wni#seumur*hidup\n"
          ]
        }
      ]
    },
    {
      "cell_type": "code",
      "source": [
        "decompressed_data.decode() == CONTENT"
      ],
      "metadata": {
        "colab": {
          "base_uri": "https://localhost:8080/"
        },
        "id": "MV7IiHMxfVIp",
        "outputId": "d9c2f620-2f21-48e1-c318-42941fee2efa"
      },
      "execution_count": 58,
      "outputs": [
        {
          "output_type": "execute_result",
          "data": {
            "text/plain": [
              "True"
            ]
          },
          "metadata": {},
          "execution_count": 58
        }
      ]
    },
    {
      "cell_type": "markdown",
      "source": [
        "## Stego Metric"
      ],
      "metadata": {
        "id": "W_IzIl9bfZ22"
      }
    },
    {
      "cell_type": "code",
      "source": [
        "calculate_stego_metrics(\"lsb_w_Huffman.png\")"
      ],
      "metadata": {
        "colab": {
          "base_uri": "https://localhost:8080/"
        },
        "id": "Sz66lBy6fYIM",
        "outputId": "5c76a95b-4bc5-47e4-e7f6-a91450f2b460"
      },
      "execution_count": 59,
      "outputs": [
        {
          "output_type": "stream",
          "name": "stdout",
          "text": [
            "Metrics between original (ori-image/lena.png) and stego image (lsb_w_Huffman.png):\n",
            "MSE: 0.00107574462890625\n",
            "PSNR: 77.81371174500211\n",
            "SSIM: 0.9999984186394683\n"
          ]
        },
        {
          "output_type": "execute_result",
          "data": {
            "text/plain": [
              "(0.00107574462890625, 77.81371174500211, 0.9999984186394683)"
            ]
          },
          "metadata": {},
          "execution_count": 59
        }
      ]
    },
    {
      "cell_type": "markdown",
      "source": [
        "# LSB with ECC, Huffman"
      ],
      "metadata": {
        "id": "zExfxd4tehlr"
      }
    },
    {
      "cell_type": "markdown",
      "source": [
        "## ECC"
      ],
      "metadata": {
        "id": "Ma5EkTCrfd_D"
      }
    },
    {
      "cell_type": "code",
      "source": [
        "ciphertext.hex()"
      ],
      "metadata": {
        "colab": {
          "base_uri": "https://localhost:8080/",
          "height": 105
        },
        "id": "8f5jChEEfe0D",
        "outputId": "d95db8aa-f40e-453c-d272-00cccd0e996d"
      },
      "execution_count": 60,
      "outputs": [
        {
          "output_type": "execute_result",
          "data": {
            "text/plain": [
              "'046af46f26833e6e03be333576aed3981ee96202e4d565f882a941102e00480982e8b6f00075d49e84cf5665b5eafb23d36cbf9dbdf0f7d605fae8475267183c4a7cff345adcc59b0165d0499198eaf2ebb345c2bf8663567e4da736f84b88df8ac71a89f6e5e079648d7bb8cf675b49158a167e8013abce866516281c3b0aba1295c38fdb30be1f4e9ac2b559d7597413162fbd74f528576b6ef90d828d40abd8fcdd0da80f2eb139de5c6f04ef5c18eb84bcf38f884ce6b6550ec44556beb9109b09e77fa8c42ecc0334951efaf6f224114c2d9c107b2fd6fc2d30feae92f647ee9d5f4d89de1291bec26d092d157ee006d9e6963ce15f930dd3d1535a7fa73219527b6b242f92e9ad48f8abcce4515440'"
            ],
            "application/vnd.google.colaboratory.intrinsic+json": {
              "type": "string"
            }
          },
          "metadata": {},
          "execution_count": 60
        }
      ]
    },
    {
      "cell_type": "markdown",
      "source": [
        "## Huffman"
      ],
      "metadata": {
        "id": "WjtrVM-Lfgvb"
      }
    },
    {
      "cell_type": "code",
      "source": [
        "# Example Usage of Huffman Compression/Decompression\n",
        "\n",
        "# Step 1: The original plaintext data (as a byte string)\n",
        "plaintext = ciphertext.hex().encode()\n",
        "\n",
        "# Print the original data\n",
        "print(\"Original Data (as bytes):\", plaintext)\n",
        "print(\"Original Data (as string):\", plaintext.decode())\n",
        "\n",
        "# Step 2: Compress the plaintext data using Huffman encoding\n",
        "compressed_data, huffman_tree = huffman_compress(plaintext)\n",
        "print(\"Compressed Data (in bytes):\", compressed_data)"
      ],
      "metadata": {
        "colab": {
          "base_uri": "https://localhost:8080/"
        },
        "id": "30bw3JE-fgPB",
        "outputId": "b96f50e9-dfcf-418a-ef04-d0962d8da7d2"
      },
      "execution_count": 61,
      "outputs": [
        {
          "output_type": "stream",
          "name": "stdout",
          "text": [
            "Original Data (as bytes): b'046af46f26833e6e03be333576aed3981ee96202e4d565f882a941102e00480982e8b6f00075d49e84cf5665b5eafb23d36cbf9dbdf0f7d605fae8475267183c4a7cff345adcc59b0165d0499198eaf2ebb345c2bf8663567e4da736f84b88df8ac71a89f6e5e079648d7bb8cf675b49158a167e8013abce866516281c3b0aba1295c38fdb30be1f4e9ac2b559d7597413162fbd74f528576b6ef90d828d40abd8fcdd0da80f2eb139de5c6f04ef5c18eb84bcf38f884ce6b6550ec44556beb9109b09e77fa8c42ecc0334951efaf6f224114c2d9c107b2fd6fc2d30feae92f647ee9d5f4d89de1291bec26d092d157ee006d9e6963ce15f930dd3d1535a7fa73219527b6b242f92e9ad48f8abcce4515440'\n",
            "Original Data (as string): 046af46f26833e6e03be333576aed3981ee96202e4d565f882a941102e00480982e8b6f00075d49e84cf5665b5eafb23d36cbf9dbdf0f7d605fae8475267183c4a7cff345adcc59b0165d0499198eaf2ebb345c2bf8663567e4da736f84b88df8ac71a89f6e5e079648d7bb8cf675b49158a167e8013abce866516281c3b0aba1295c38fdb30be1f4e9ac2b559d7597413162fbd74f528576b6ef90d828d40abd8fcdd0da80f2eb139de5c6f04ef5c18eb84bcf38f884ce6b6550ec44556beb9109b09e77fa8c42ecc0334951efaf6f224114c2d9c107b2fd6fc2d30feae92f647ee9d5f4d89de1291bec26d092d157ee006d9e6963ce15f930dd3d1535a7fa73219527b6b242f92e9ad48f8abcce4515440\n",
            "Compressed Data (in bytes): bytearray(b'\\x08j\\xd1\\xea\\xde]\\xb3?\\xdfc\\x9f3<\\r\\x1fs\\x8bO\\xf8\\xd5e\\xfa|\\xdc\\xeb\\xb5\\x18\\xa4F_f\\xabh\\xb5\\xfb\\x9d\\xe6f\\x0cz\\x8f\\xba.\\xcd\\xdc\\x9c\\xf1\\xe9Ss\\xd2\\x9e\\x87\\x97\\xe6\\xe0}l\\xe1\\xfb\\xa0\\xc5\\xd0K2\\xa1\\x02\\xee:\\xc1r,\\x89d\\xdcv\\xa8\\x84\\x8b\\xf1\\xe5\\xf9\\x93\\xac%\\x9e\\xbd\\xd3\\xcd\\x0f\\xa7\\x10=\\xeb\\xa9\\xbb~\\xb1 A\\xb8\\xed\\xfc\\xf6\\x08\\xda\\xb7\\t\\x9b.\\xd0\\xc9\\xa8L\\xb1M\\x0f\\xb6C\\x19/\\xbd\\xdcM[B9a\\x91E\\x8c#\\xbey6\\x9fN\\xaf\\x81%\\x9c\\xc8p\\xc8\\nCM^\\x97\\n\\xec[\\xc0\\xd9\\xdf\\xe8g\\xb5\\xb7\\xa6\\x19{\\xe2wg\\x1bn_\\x948\\x7f\\xc2\\xdej\\xfe\\xc2K\\xf9\\xba\\x92\\xe3\\xbe\\xbb\\xa2\\xfd\\x9d\\xcco*\\xac\\xcd\\x9f\\x98F\\x89h\\xf0\\x0e\\x1b*_\"c:\\x8cO\\xe1\\xed\\xe5ZD\\xa2W\\x82F\\t^}\\xe2W6\\xef\\x1f\\x85\\xed\\xa0\\xff\\x87\\xce\\xa7\\xb8\\x7fE\\x84\\x9f%\\xd7hWL\\x0f\\xf6mx\\xfd\\x8d2\\xf4\\xce\\x83gst\\xc3\\xc1\\x0e\\x105H\\xc5\\t\\xd9Z^\\x85\\xf8\\x17\\xab\\xeb\\x19\"\\xfa\\xc4\\xca\\xa6\\x00')\n"
          ]
        }
      ]
    },
    {
      "cell_type": "markdown",
      "source": [
        "## LSB"
      ],
      "metadata": {
        "id": "kg2GePiAfqg0"
      }
    },
    {
      "cell_type": "code",
      "source": [
        "compressed_data"
      ],
      "metadata": {
        "colab": {
          "base_uri": "https://localhost:8080/"
        },
        "id": "jhKafspnfrgd",
        "outputId": "227143ff-76f8-470e-cc3d-f55924ecccf5"
      },
      "execution_count": 62,
      "outputs": [
        {
          "output_type": "execute_result",
          "data": {
            "text/plain": [
              "bytearray(b'\\x08j\\xd1\\xea\\xde]\\xb3?\\xdfc\\x9f3<\\r\\x1fs\\x8bO\\xf8\\xd5e\\xfa|\\xdc\\xeb\\xb5\\x18\\xa4F_f\\xabh\\xb5\\xfb\\x9d\\xe6f\\x0cz\\x8f\\xba.\\xcd\\xdc\\x9c\\xf1\\xe9Ss\\xd2\\x9e\\x87\\x97\\xe6\\xe0}l\\xe1\\xfb\\xa0\\xc5\\xd0K2\\xa1\\x02\\xee:\\xc1r,\\x89d\\xdcv\\xa8\\x84\\x8b\\xf1\\xe5\\xf9\\x93\\xac%\\x9e\\xbd\\xd3\\xcd\\x0f\\xa7\\x10=\\xeb\\xa9\\xbb~\\xb1 A\\xb8\\xed\\xfc\\xf6\\x08\\xda\\xb7\\t\\x9b.\\xd0\\xc9\\xa8L\\xb1M\\x0f\\xb6C\\x19/\\xbd\\xdcM[B9a\\x91E\\x8c#\\xbey6\\x9fN\\xaf\\x81%\\x9c\\xc8p\\xc8\\nCM^\\x97\\n\\xec[\\xc0\\xd9\\xdf\\xe8g\\xb5\\xb7\\xa6\\x19{\\xe2wg\\x1bn_\\x948\\x7f\\xc2\\xdej\\xfe\\xc2K\\xf9\\xba\\x92\\xe3\\xbe\\xbb\\xa2\\xfd\\x9d\\xcco*\\xac\\xcd\\x9f\\x98F\\x89h\\xf0\\x0e\\x1b*_\"c:\\x8cO\\xe1\\xed\\xe5ZD\\xa2W\\x82F\\t^}\\xe2W6\\xef\\x1f\\x85\\xed\\xa0\\xff\\x87\\xce\\xa7\\xb8\\x7fE\\x84\\x9f%\\xd7hWL\\x0f\\xf6mx\\xfd\\x8d2\\xf4\\xce\\x83gst\\xc3\\xc1\\x0e\\x105H\\xc5\\t\\xd9Z^\\x85\\xf8\\x17\\xab\\xeb\\x19\"\\xfa\\xc4\\xca\\xa6\\x00')"
            ]
          },
          "metadata": {},
          "execution_count": 62
        }
      ]
    },
    {
      "cell_type": "code",
      "source": [
        "compressed_data.hex()"
      ],
      "metadata": {
        "colab": {
          "base_uri": "https://localhost:8080/",
          "height": 105
        },
        "id": "Yp1TKkPVfsI8",
        "outputId": "7061c7d2-c4ba-4fe0-847e-8d9d0cb74d1c"
      },
      "execution_count": 63,
      "outputs": [
        {
          "output_type": "execute_result",
          "data": {
            "text/plain": [
              "'086ad1eade5db33fdf639f333c0d1f738b4ff8d565fa7cdcebb518a4465f66ab68b5fb9de6660c7a8fba2ecddc9cf1e95373d29e8797e6e07d6ce1fba0c5d04b32a102ee3ac1722c8964dc76a8848bf1e5f993ac259ebdd3cd0fa7103deba9bb7eb12041b8edfcf608dab7099b2ed0c9a84cb14d0fb643192fbddc4d5b42396191458c23be79369f4eaf81259cc870c80a434d5e970aec5bc0d9dfe867b5b7a6197be277671b6e5f94387fc2de6afec24bf9ba92e3bebba2fd9dcc6f2aaccd9f98468968f00e1b2a5f22633a8c4fe1ede55a44a2578246095e7de25736ef1f85eda0ff87cea7b87f45849f25d768574c0ff66d78fd8d32f4ce83677374c3c10e103548c509d95a5e85f817abeb1922fac4caa600'"
            ],
            "application/vnd.google.colaboratory.intrinsic+json": {
              "type": "string"
            }
          },
          "metadata": {},
          "execution_count": 63
        }
      ]
    },
    {
      "cell_type": "code",
      "source": [
        "embed_lsb('LSB_w_ECC_Huffman.png', compressed_data.hex())"
      ],
      "metadata": {
        "id": "E3jSBrvXfxPh"
      },
      "execution_count": 64,
      "outputs": []
    },
    {
      "cell_type": "code",
      "source": [
        "extracted_data = extract_lsb('LSB_w_ECC_Huffman.png')\n",
        "extracted_data"
      ],
      "metadata": {
        "colab": {
          "base_uri": "https://localhost:8080/",
          "height": 105
        },
        "id": "lnHiKVN6f5Zj",
        "outputId": "457ef74f-8d11-47aa-a211-4f05cdfcb625"
      },
      "execution_count": 65,
      "outputs": [
        {
          "output_type": "execute_result",
          "data": {
            "text/plain": [
              "'086ad1eade5db33fdf639f333c0d1f738b4ff8d565fa7cdcebb518a4465f66ab68b5fb9de6660c7a8fba2ecddc9cf1e95373d29e8797e6e07d6ce1fba0c5d04b32a102ee3ac1722c8964dc76a8848bf1e5f993ac259ebdd3cd0fa7103deba9bb7eb12041b8edfcf608dab7099b2ed0c9a84cb14d0fb643192fbddc4d5b42396191458c23be79369f4eaf81259cc870c80a434d5e970aec5bc0d9dfe867b5b7a6197be277671b6e5f94387fc2de6afec24bf9ba92e3bebba2fd9dcc6f2aaccd9f98468968f00e1b2a5f22633a8c4fe1ede55a44a2578246095e7de25736ef1f85eda0ff87cea7b87f45849f25d768574c0ff66d78fd8d32f4ce83677374c3c10e103548c509d95a5e85f817abeb1922fac4caa600'"
            ],
            "application/vnd.google.colaboratory.intrinsic+json": {
              "type": "string"
            }
          },
          "metadata": {},
          "execution_count": 65
        }
      ]
    },
    {
      "cell_type": "code",
      "source": [
        "huffman_data = bytearray.fromhex(extracted_data)\n",
        "huffman_data"
      ],
      "metadata": {
        "colab": {
          "base_uri": "https://localhost:8080/"
        },
        "id": "YIPgnZxqgHxy",
        "outputId": "86ee0ec2-89eb-4a58-b772-d7f89666b43b"
      },
      "execution_count": 66,
      "outputs": [
        {
          "output_type": "execute_result",
          "data": {
            "text/plain": [
              "bytearray(b'\\x08j\\xd1\\xea\\xde]\\xb3?\\xdfc\\x9f3<\\r\\x1fs\\x8bO\\xf8\\xd5e\\xfa|\\xdc\\xeb\\xb5\\x18\\xa4F_f\\xabh\\xb5\\xfb\\x9d\\xe6f\\x0cz\\x8f\\xba.\\xcd\\xdc\\x9c\\xf1\\xe9Ss\\xd2\\x9e\\x87\\x97\\xe6\\xe0}l\\xe1\\xfb\\xa0\\xc5\\xd0K2\\xa1\\x02\\xee:\\xc1r,\\x89d\\xdcv\\xa8\\x84\\x8b\\xf1\\xe5\\xf9\\x93\\xac%\\x9e\\xbd\\xd3\\xcd\\x0f\\xa7\\x10=\\xeb\\xa9\\xbb~\\xb1 A\\xb8\\xed\\xfc\\xf6\\x08\\xda\\xb7\\t\\x9b.\\xd0\\xc9\\xa8L\\xb1M\\x0f\\xb6C\\x19/\\xbd\\xdcM[B9a\\x91E\\x8c#\\xbey6\\x9fN\\xaf\\x81%\\x9c\\xc8p\\xc8\\nCM^\\x97\\n\\xec[\\xc0\\xd9\\xdf\\xe8g\\xb5\\xb7\\xa6\\x19{\\xe2wg\\x1bn_\\x948\\x7f\\xc2\\xdej\\xfe\\xc2K\\xf9\\xba\\x92\\xe3\\xbe\\xbb\\xa2\\xfd\\x9d\\xcco*\\xac\\xcd\\x9f\\x98F\\x89h\\xf0\\x0e\\x1b*_\"c:\\x8cO\\xe1\\xed\\xe5ZD\\xa2W\\x82F\\t^}\\xe2W6\\xef\\x1f\\x85\\xed\\xa0\\xff\\x87\\xce\\xa7\\xb8\\x7fE\\x84\\x9f%\\xd7hWL\\x0f\\xf6mx\\xfd\\x8d2\\xf4\\xce\\x83gst\\xc3\\xc1\\x0e\\x105H\\xc5\\t\\xd9Z^\\x85\\xf8\\x17\\xab\\xeb\\x19\"\\xfa\\xc4\\xca\\xa6\\x00')"
            ]
          },
          "metadata": {},
          "execution_count": 66
        }
      ]
    },
    {
      "cell_type": "code",
      "source": [
        "decompressed_data = huffman_decompress(huffman_data, huffman_tree)\n",
        "print(\"Decompressed Data (as bytes):\", decompressed_data)\n",
        "print(\"Decompressed Data (as string):\", decompressed_data.decode())"
      ],
      "metadata": {
        "colab": {
          "base_uri": "https://localhost:8080/"
        },
        "id": "l-OAUTmMgjS-",
        "outputId": "2e1aafc9-2b26-4412-a7c7-210e59dd9dd0"
      },
      "execution_count": 67,
      "outputs": [
        {
          "output_type": "stream",
          "name": "stdout",
          "text": [
            "Decompressed Data (as bytes): bytearray(b'046af46f26833e6e03be333576aed3981ee96202e4d565f882a941102e00480982e8b6f00075d49e84cf5665b5eafb23d36cbf9dbdf0f7d605fae8475267183c4a7cff345adcc59b0165d0499198eaf2ebb345c2bf8663567e4da736f84b88df8ac71a89f6e5e079648d7bb8cf675b49158a167e8013abce866516281c3b0aba1295c38fdb30be1f4e9ac2b559d7597413162fbd74f528576b6ef90d828d40abd8fcdd0da80f2eb139de5c6f04ef5c18eb84bcf38f884ce6b6550ec44556beb9109b09e77fa8c42ecc0334951efaf6f224114c2d9c107b2fd6fc2d30feae92f647ee9d5f4d89de1291bec26d092d157ee006d9e6963ce15f930dd3d1535a7fa73219527b6b242f92e9ad48f8abcce4515440')\n",
            "Decompressed Data (as string): 046af46f26833e6e03be333576aed3981ee96202e4d565f882a941102e00480982e8b6f00075d49e84cf5665b5eafb23d36cbf9dbdf0f7d605fae8475267183c4a7cff345adcc59b0165d0499198eaf2ebb345c2bf8663567e4da736f84b88df8ac71a89f6e5e079648d7bb8cf675b49158a167e8013abce866516281c3b0aba1295c38fdb30be1f4e9ac2b559d7597413162fbd74f528576b6ef90d828d40abd8fcdd0da80f2eb139de5c6f04ef5c18eb84bcf38f884ce6b6550ec44556beb9109b09e77fa8c42ecc0334951efaf6f224114c2d9c107b2fd6fc2d30feae92f647ee9d5f4d89de1291bec26d092d157ee006d9e6963ce15f930dd3d1535a7fa73219527b6b242f92e9ad48f8abcce4515440\n"
          ]
        }
      ]
    },
    {
      "cell_type": "code",
      "source": [
        "cipher_data = bytes.fromhex(decompressed_data.decode())\n",
        "cipher_data"
      ],
      "metadata": {
        "colab": {
          "base_uri": "https://localhost:8080/"
        },
        "id": "5YdfSlZ-gn3m",
        "outputId": "215f439d-9e35-4e5d-ded9-2d5dfc71df95"
      },
      "execution_count": 68,
      "outputs": [
        {
          "output_type": "execute_result",
          "data": {
            "text/plain": [
              "b'\\x04j\\xf4o&\\x83>n\\x03\\xbe35v\\xae\\xd3\\x98\\x1e\\xe9b\\x02\\xe4\\xd5e\\xf8\\x82\\xa9A\\x10.\\x00H\\t\\x82\\xe8\\xb6\\xf0\\x00u\\xd4\\x9e\\x84\\xcfVe\\xb5\\xea\\xfb#\\xd3l\\xbf\\x9d\\xbd\\xf0\\xf7\\xd6\\x05\\xfa\\xe8GRg\\x18<J|\\xff4Z\\xdc\\xc5\\x9b\\x01e\\xd0I\\x91\\x98\\xea\\xf2\\xeb\\xb3E\\xc2\\xbf\\x86cV~M\\xa76\\xf8K\\x88\\xdf\\x8a\\xc7\\x1a\\x89\\xf6\\xe5\\xe0yd\\x8d{\\xb8\\xcfg[I\\x15\\x8a\\x16~\\x80\\x13\\xab\\xce\\x86e\\x16(\\x1c;\\n\\xba\\x12\\x95\\xc3\\x8f\\xdb0\\xbe\\x1fN\\x9a\\xc2\\xb5Y\\xd7Yt\\x13\\x16/\\xbdt\\xf5(Wkn\\xf9\\r\\x82\\x8d@\\xab\\xd8\\xfc\\xdd\\r\\xa8\\x0f.\\xb19\\xde\\\\o\\x04\\xef\\\\\\x18\\xeb\\x84\\xbc\\xf3\\x8f\\x88L\\xe6\\xb6U\\x0e\\xc4EV\\xbe\\xb9\\x10\\x9b\\t\\xe7\\x7f\\xa8\\xc4.\\xcc\\x034\\x95\\x1e\\xfa\\xf6\\xf2$\\x11L-\\x9c\\x10{/\\xd6\\xfc-0\\xfe\\xae\\x92\\xf6G\\xee\\x9d_M\\x89\\xde\\x12\\x91\\xbe\\xc2m\\t-\\x15~\\xe0\\x06\\xd9\\xe6\\x96<\\xe1_\\x93\\r\\xd3\\xd1SZ\\x7f\\xa72\\x19R{k$/\\x92\\xe9\\xadH\\xf8\\xab\\xcc\\xe4QT@'"
            ]
          },
          "metadata": {},
          "execution_count": 68
        }
      ]
    },
    {
      "cell_type": "code",
      "source": [
        "decrypted_message = decrypt(private_key_hex, cipher_data)\n",
        "print(\"Decrypted Message:\", decrypted_message.decode())"
      ],
      "metadata": {
        "colab": {
          "base_uri": "https://localhost:8080/"
        },
        "id": "b0r3sNaZgqBt",
        "outputId": "263c46db-7d29-4f5d-e708-51370828ed41"
      },
      "execution_count": 69,
      "outputs": [
        {
          "output_type": "stream",
          "name": "stdout",
          "text": [
            "Decrypted Message: 3348610401970005#christofer*derian*budianto#tegal#1997-03-04#laki-laki#b#jl.*pala*22*no.*30#005#017#mejasem*tengah#kramat#katholik#belum*kawin#pelajar/mahasiswa#wni#seumur*hidup\n"
          ]
        }
      ]
    },
    {
      "cell_type": "code",
      "source": [
        "decrypted_message.decode() == CONTENT"
      ],
      "metadata": {
        "colab": {
          "base_uri": "https://localhost:8080/"
        },
        "id": "8LuzJJNTguAw",
        "outputId": "cb4ff346-62c2-46e1-b8b3-70189cbf8deb"
      },
      "execution_count": 70,
      "outputs": [
        {
          "output_type": "execute_result",
          "data": {
            "text/plain": [
              "True"
            ]
          },
          "metadata": {},
          "execution_count": 70
        }
      ]
    },
    {
      "cell_type": "markdown",
      "source": [
        "## Stego Metric"
      ],
      "metadata": {
        "id": "ST5v8K5egxUY"
      }
    },
    {
      "cell_type": "code",
      "source": [
        "calculate_stego_metrics('LSB_w_ECC_Huffman.png')"
      ],
      "metadata": {
        "id": "CneXatA_gzpQ",
        "outputId": "f105c210-c0d5-466a-ae8f-1c33245da553",
        "colab": {
          "base_uri": "https://localhost:8080/"
        }
      },
      "execution_count": 71,
      "outputs": [
        {
          "output_type": "stream",
          "name": "stdout",
          "text": [
            "Metrics between original (ori-image/lena.png) and stego image (LSB_w_ECC_Huffman.png):\n",
            "MSE: 0.0028025309244791665\n",
            "PSNR: 73.65529947359488\n",
            "SSIM: 0.999993268101803\n"
          ]
        },
        {
          "output_type": "execute_result",
          "data": {
            "text/plain": [
              "(0.0028025309244791665, 73.65529947359488, 0.999993268101803)"
            ]
          },
          "metadata": {},
          "execution_count": 71
        }
      ]
    }
  ]
}