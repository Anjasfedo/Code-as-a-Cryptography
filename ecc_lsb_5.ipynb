{
  "nbformat": 4,
  "nbformat_minor": 0,
  "metadata": {
    "colab": {
      "provenance": [],
      "authorship_tag": "ABX9TyNjx97aZlJXwnqWVyBvUSjW",
      "include_colab_link": true
    },
    "kernelspec": {
      "name": "python3",
      "display_name": "Python 3"
    },
    "language_info": {
      "name": "python"
    }
  },
  "cells": [
    {
      "cell_type": "markdown",
      "metadata": {
        "id": "view-in-github",
        "colab_type": "text"
      },
      "source": [
        "<a href=\"https://colab.research.google.com/github/Anjasfedo/Code-as-a-Cryptography/blob/main/ecc_lsb_5.ipynb\" target=\"_parent\"><img src=\"https://colab.research.google.com/assets/colab-badge.svg\" alt=\"Open In Colab\"/></a>"
      ]
    },
    {
      "cell_type": "markdown",
      "source": [
        "# Elliptic Curve Criptography"
      ],
      "metadata": {
        "id": "6yRyoaWuSEpu"
      }
    },
    {
      "cell_type": "code",
      "execution_count": 1,
      "metadata": {
        "colab": {
          "base_uri": "https://localhost:8080/"
        },
        "id": "6XkJG6_2RuAn",
        "outputId": "475f64b0-ffee-4920-d59f-4301334d7108"
      },
      "outputs": [
        {
          "output_type": "stream",
          "name": "stdout",
          "text": [
            "Collecting eciespy\n",
            "  Downloading eciespy-0.4.2-py3-none-any.whl.metadata (6.6 kB)\n",
            "Collecting coincurve<20,>=13 (from eciespy)\n",
            "  Downloading coincurve-19.0.1-cp310-cp310-manylinux_2_17_x86_64.manylinux2014_x86_64.whl.metadata (3.7 kB)\n",
            "Collecting eth-keys<0.6,>=0.4 (from eciespy)\n",
            "  Downloading eth_keys-0.5.1-py3-none-any.whl.metadata (13 kB)\n",
            "Collecting pycryptodome<4.0.0,>=3.19.1 (from eciespy)\n",
            "  Downloading pycryptodome-3.21.0-cp36-abi3-manylinux_2_17_x86_64.manylinux2014_x86_64.whl.metadata (3.4 kB)\n",
            "Collecting asn1crypto (from coincurve<20,>=13->eciespy)\n",
            "  Downloading asn1crypto-1.5.1-py2.py3-none-any.whl.metadata (13 kB)\n",
            "Requirement already satisfied: cffi>=1.3.0 in /usr/local/lib/python3.10/dist-packages (from coincurve<20,>=13->eciespy) (1.17.1)\n",
            "Collecting eth-utils>=2 (from eth-keys<0.6,>=0.4->eciespy)\n",
            "  Downloading eth_utils-5.0.0-py3-none-any.whl.metadata (5.4 kB)\n",
            "Collecting eth-typing>=3 (from eth-keys<0.6,>=0.4->eciespy)\n",
            "  Downloading eth_typing-5.0.0-py3-none-any.whl.metadata (5.1 kB)\n",
            "Requirement already satisfied: pycparser in /usr/local/lib/python3.10/dist-packages (from cffi>=1.3.0->coincurve<20,>=13->eciespy) (2.22)\n",
            "Requirement already satisfied: typing-extensions>=4.5.0 in /usr/local/lib/python3.10/dist-packages (from eth-typing>=3->eth-keys<0.6,>=0.4->eciespy) (4.12.2)\n",
            "Collecting eth-hash>=0.3.1 (from eth-utils>=2->eth-keys<0.6,>=0.4->eciespy)\n",
            "  Downloading eth_hash-0.7.0-py3-none-any.whl.metadata (5.4 kB)\n",
            "Collecting hexbytes>=1.0.0 (from eth-utils>=2->eth-keys<0.6,>=0.4->eciespy)\n",
            "  Downloading hexbytes-1.2.1-py3-none-any.whl.metadata (3.7 kB)\n",
            "Collecting cytoolz>=0.10.1 (from eth-utils>=2->eth-keys<0.6,>=0.4->eciespy)\n",
            "  Downloading cytoolz-1.0.0-cp310-cp310-manylinux_2_17_x86_64.manylinux2014_x86_64.whl.metadata (4.5 kB)\n",
            "Requirement already satisfied: toolz>=0.8.0 in /usr/local/lib/python3.10/dist-packages (from cytoolz>=0.10.1->eth-utils>=2->eth-keys<0.6,>=0.4->eciespy) (0.12.1)\n",
            "Downloading eciespy-0.4.2-py3-none-any.whl (10 kB)\n",
            "Downloading coincurve-19.0.1-cp310-cp310-manylinux_2_17_x86_64.manylinux2014_x86_64.whl (1.4 MB)\n",
            "\u001b[2K   \u001b[90m━━━━━━━━━━━━━━━━━━━━━━━━━━━━━━━━━━━━━━━━\u001b[0m \u001b[32m1.4/1.4 MB\u001b[0m \u001b[31m23.0 MB/s\u001b[0m eta \u001b[36m0:00:00\u001b[0m\n",
            "\u001b[?25hDownloading eth_keys-0.5.1-py3-none-any.whl (21 kB)\n",
            "Downloading pycryptodome-3.21.0-cp36-abi3-manylinux_2_17_x86_64.manylinux2014_x86_64.whl (2.3 MB)\n",
            "\u001b[2K   \u001b[90m━━━━━━━━━━━━━━━━━━━━━━━━━━━━━━━━━━━━━━━━\u001b[0m \u001b[32m2.3/2.3 MB\u001b[0m \u001b[31m27.9 MB/s\u001b[0m eta \u001b[36m0:00:00\u001b[0m\n",
            "\u001b[?25hDownloading eth_typing-5.0.0-py3-none-any.whl (20 kB)\n",
            "Downloading eth_utils-5.0.0-py3-none-any.whl (100 kB)\n",
            "\u001b[2K   \u001b[90m━━━━━━━━━━━━━━━━━━━━━━━━━━━━━━━━━━━━━━━━\u001b[0m \u001b[32m100.5/100.5 kB\u001b[0m \u001b[31m2.2 MB/s\u001b[0m eta \u001b[36m0:00:00\u001b[0m\n",
            "\u001b[?25hDownloading asn1crypto-1.5.1-py2.py3-none-any.whl (105 kB)\n",
            "\u001b[2K   \u001b[90m━━━━━━━━━━━━━━━━━━━━━━━━━━━━━━━━━━━━━━━━\u001b[0m \u001b[32m105.0/105.0 kB\u001b[0m \u001b[31m2.4 MB/s\u001b[0m eta \u001b[36m0:00:00\u001b[0m\n",
            "\u001b[?25hDownloading cytoolz-1.0.0-cp310-cp310-manylinux_2_17_x86_64.manylinux2014_x86_64.whl (2.0 MB)\n",
            "\u001b[2K   \u001b[90m━━━━━━━━━━━━━━━━━━━━━━━━━━━━━━━━━━━━━━━━\u001b[0m \u001b[32m2.0/2.0 MB\u001b[0m \u001b[31m26.8 MB/s\u001b[0m eta \u001b[36m0:00:00\u001b[0m\n",
            "\u001b[?25hDownloading eth_hash-0.7.0-py3-none-any.whl (8.7 kB)\n",
            "Downloading hexbytes-1.2.1-py3-none-any.whl (5.2 kB)\n",
            "Installing collected packages: asn1crypto, pycryptodome, hexbytes, eth-typing, eth-hash, cytoolz, eth-utils, coincurve, eth-keys, eciespy\n",
            "Successfully installed asn1crypto-1.5.1 coincurve-19.0.1 cytoolz-1.0.0 eciespy-0.4.2 eth-hash-0.7.0 eth-keys-0.5.1 eth-typing-5.0.0 eth-utils-5.0.0 hexbytes-1.2.1 pycryptodome-3.21.0\n"
          ]
        }
      ],
      "source": [
        "!pip install eciespy"
      ]
    },
    {
      "cell_type": "code",
      "source": [
        "CONTENT = \"3348610401970005#christofer*derian*budianto#tegal#1997-03-04#laki-laki#b#jl.*pala*22*no.*30#005#017#mejasem*tengah#kramat#katholik#belum*kawin#pelajar/mahasiswa#wni#seumur*hidup\""
      ],
      "metadata": {
        "id": "2IyBhygNStFO"
      },
      "execution_count": 2,
      "outputs": []
    },
    {
      "cell_type": "code",
      "source": [
        "from ecies.utils import generate_eth_key\n",
        "from ecies import encrypt, decrypt\n",
        "\n",
        "private_key = generate_eth_key()\n",
        "public_key = private_key.public_key\n",
        "\n",
        "public_key_hex = public_key.to_hex()\n",
        "private_key_hex = private_key.to_hex()\n",
        "\n",
        "print(\"Public Key:\", public_key_hex)\n",
        "print(\"Private Key:\", private_key_hex)\n",
        "\n",
        "ciphertext = encrypt(public_key_hex, CONTENT.encode())\n",
        "\n",
        "print(\"Ciphertext:\", ciphertext.hex())\n",
        "\n",
        "decrypted_message = decrypt(private_key_hex, ciphertext)\n",
        "print(\"Decrypted Message:\", decrypted_message.decode())"
      ],
      "metadata": {
        "colab": {
          "base_uri": "https://localhost:8080/"
        },
        "id": "kZQAQRNBSJLX",
        "outputId": "f77f9b36-2389-4f0d-e9d7-48fcb410e0a7"
      },
      "execution_count": 3,
      "outputs": [
        {
          "output_type": "stream",
          "name": "stdout",
          "text": [
            "Public Key: 0x2747f027860a1763c99e25927b431fc6672f93232e5d59dfb05653b82d57470e07f575f6d6b28f6cf590c9afe5b2ab845b2d06f2d791f7b10d70870eb207a29a\n",
            "Private Key: 0xf5c5d58db6394ca6ce610e25348042bff099e49e748a17f5885a2723be9e4bbf\n",
            "Ciphertext: 046bd0f0a8d47491fa9af19e3ba1ba28657c93d073df00d47d6e33fb00c1d7dbe9ecee7e04c795047d39a59f09dc129c9bbec7b803e07815ed676d7a17881cdbc7b1a23358fb3287d6070dbe66c108e0dbc00af9a8b4768087301cde205028678be19dc00761237dc1f3a9db59d8b78e5b76085eba9dc4619af7b09d3034a34447df659e854091e42fd860038e3f65f5d9fa35f31fa871401828324c432aa86e31c3c589ed1185241ec4eaa135db4100cc0e66d48645ec335527df929b871d44e65f315f210ca8c65bab8604786e78f7b2f3f2f3f2331c7eac79db29f79d7a724d5d4460e28e386fba12279414850b9521769bb1ca796d9a41be82c943c5d4216613e269309fe036a60190b3c033e7d27d00\n",
            "Decrypted Message: 3348610401970005#christofer*derian*budianto#tegal#1997-03-04#laki-laki#b#jl.*pala*22*no.*30#005#017#mejasem*tengah#kramat#katholik#belum*kawin#pelajar/mahasiswa#wni#seumur*hidup\n"
          ]
        }
      ]
    },
    {
      "cell_type": "markdown",
      "source": [
        "# Least Significant Bit"
      ],
      "metadata": {
        "id": "A0JOFeG4UQpg"
      }
    },
    {
      "cell_type": "code",
      "source": [
        "!git clone https://github.com/RobinDavid/LSB-Steganography && cd LSB-Steganography && ls && pip install -r requirements.txt"
      ],
      "metadata": {
        "colab": {
          "base_uri": "https://localhost:8080/"
        },
        "id": "0Lh0Fw23USrl",
        "outputId": "1a10eb6b-8c39-4352-f326-197af34f2c24"
      },
      "execution_count": 4,
      "outputs": [
        {
          "output_type": "stream",
          "name": "stdout",
          "text": [
            "Cloning into 'LSB-Steganography'...\n",
            "remote: Enumerating objects: 75, done.\u001b[K\n",
            "remote: Counting objects: 100% (7/7), done.\u001b[K\n",
            "remote: Compressing objects: 100% (7/7), done.\u001b[K\n",
            "remote: Total 75 (delta 1), reused 2 (delta 0), pack-reused 68 (from 1)\u001b[K\n",
            "Receiving objects: 100% (75/75), 19.72 KiB | 9.86 MiB/s, done.\n",
            "Resolving deltas: 100% (26/26), done.\n",
            "LICENCE  LSBSteg.py  README.md\trequirements.txt\n",
            "Requirement already satisfied: opencv-python in /usr/local/lib/python3.10/dist-packages (from -r requirements.txt (line 1)) (4.10.0.84)\n",
            "Collecting docopt (from -r requirements.txt (line 2))\n",
            "  Downloading docopt-0.6.2.tar.gz (25 kB)\n",
            "  Preparing metadata (setup.py) ... \u001b[?25l\u001b[?25hdone\n",
            "Requirement already satisfied: numpy in /usr/local/lib/python3.10/dist-packages (from -r requirements.txt (line 3)) (1.26.4)\n",
            "Building wheels for collected packages: docopt\n",
            "  Building wheel for docopt (setup.py) ... \u001b[?25l\u001b[?25hdone\n",
            "  Created wheel for docopt: filename=docopt-0.6.2-py2.py3-none-any.whl size=13704 sha256=e5a5b03cd22fb7ef6989e4f8a701f1b90635142c2f583945bb96032528d2fab3\n",
            "  Stored in directory: /root/.cache/pip/wheels/fc/ab/d4/5da2067ac95b36618c629a5f93f809425700506f72c9732fac\n",
            "Successfully built docopt\n",
            "Installing collected packages: docopt\n",
            "Successfully installed docopt-0.6.2\n"
          ]
        }
      ]
    },
    {
      "cell_type": "code",
      "source": [
        "#!/usr/bin/env python\n",
        "# coding:UTF-8\n",
        "\"\"\"LSBSteg.py\n",
        "\n",
        "Usage:\n",
        "  LSBSteg.py encode -i <input> -o <output> -f <file>\n",
        "  LSBSteg.py decode -i <input> -o <output>\n",
        "\n",
        "Options:\n",
        "  -h, --help                Show this help\n",
        "  --version                 Show the version\n",
        "  -f,--file=<file>          File to hide\n",
        "  -i,--in=<input>           Input image (carrier)\n",
        "  -o,--out=<output>         Output image (or extracted file)\n",
        "\"\"\"\n",
        "\n",
        "import cv2\n",
        "import docopt\n",
        "import numpy as np\n",
        "\n",
        "\n",
        "class SteganographyException(Exception):\n",
        "    pass\n",
        "\n",
        "\n",
        "class LSBSteg():\n",
        "    def __init__(self, im):\n",
        "        self.image = im\n",
        "        self.height, self.width, self.nbchannels = im.shape\n",
        "        self.size = self.width * self.height\n",
        "\n",
        "        self.maskONEValues = [1,2,4,8,16,32,64,128]\n",
        "        #Mask used to put one ex:1->00000001, 2->00000010 .. associated with OR bitwise\n",
        "        self.maskONE = self.maskONEValues.pop(0) #Will be used to do bitwise operations\n",
        "\n",
        "        self.maskZEROValues = [254,253,251,247,239,223,191,127]\n",
        "        #Mak used to put zero ex:254->11111110, 253->11111101 .. associated with AND bitwise\n",
        "        self.maskZERO = self.maskZEROValues.pop(0)\n",
        "\n",
        "        self.curwidth = 0  # Current width position\n",
        "        self.curheight = 0 # Current height position\n",
        "        self.curchan = 0   # Current channel position\n",
        "\n",
        "    def put_binary_value(self, bits): #Put the bits in the image\n",
        "        for c in bits:\n",
        "            val = list(self.image[self.curheight,self.curwidth]) #Get the pixel value as a list\n",
        "            if int(c) == 1:\n",
        "                val[self.curchan] = int(val[self.curchan]) | self.maskONE #OR with maskONE\n",
        "            else:\n",
        "                val[self.curchan] = int(val[self.curchan]) & self.maskZERO #AND with maskZERO\n",
        "\n",
        "            self.image[self.curheight,self.curwidth] = tuple(val)\n",
        "            self.next_slot() #Move \"cursor\" to the next space\n",
        "\n",
        "    def next_slot(self):#Move to the next slot were information can be taken or put\n",
        "        if self.curchan == self.nbchannels-1: #Next Space is the following channel\n",
        "            self.curchan = 0\n",
        "            if self.curwidth == self.width-1: #Or the first channel of the next pixel of the same line\n",
        "                self.curwidth = 0\n",
        "                if self.curheight == self.height-1:#Or the first channel of the first pixel of the next line\n",
        "                    self.curheight = 0\n",
        "                    if self.maskONE == 128: #Mask 1000000, so the last mask\n",
        "                        raise SteganographyException(\"No available slot remaining (image filled)\")\n",
        "                    else: #Or instead of using the first bit start using the second and so on..\n",
        "                        self.maskONE = self.maskONEValues.pop(0)\n",
        "                        self.maskZERO = self.maskZEROValues.pop(0)\n",
        "                else:\n",
        "                    self.curheight +=1\n",
        "            else:\n",
        "                self.curwidth +=1\n",
        "        else:\n",
        "            self.curchan +=1\n",
        "\n",
        "    def read_bit(self): #Read a single bit int the image\n",
        "        val = self.image[self.curheight,self.curwidth][self.curchan]\n",
        "        val = int(val) & self.maskONE\n",
        "        self.next_slot()\n",
        "        if val > 0:\n",
        "            return \"1\"\n",
        "        else:\n",
        "            return \"0\"\n",
        "\n",
        "    def read_byte(self):\n",
        "        return self.read_bits(8)\n",
        "\n",
        "    def read_bits(self, nb): #Read the given number of bits\n",
        "        bits = \"\"\n",
        "        for i in range(nb):\n",
        "            bits += self.read_bit()\n",
        "        return bits\n",
        "\n",
        "    def byteValue(self, val):\n",
        "        return self.binary_value(val, 8)\n",
        "\n",
        "    def binary_value(self, val, bitsize): #Return the binary value of an int as a byte\n",
        "        binval = bin(val)[2:]\n",
        "        if len(binval) > bitsize:\n",
        "            raise SteganographyException(\"binary value larger than the expected size\")\n",
        "        while len(binval) < bitsize:\n",
        "            binval = \"0\"+binval\n",
        "        return binval\n",
        "\n",
        "    def encode_text(self, txt):\n",
        "        l = len(txt)\n",
        "        binl = self.binary_value(l, 16) #Length coded on 2 bytes so the text size can be up to 65536 bytes long\n",
        "        self.put_binary_value(binl) #Put text length coded on 4 bytes\n",
        "        for char in txt: #And put all the chars\n",
        "            c = ord(char)\n",
        "            self.put_binary_value(self.byteValue(c))\n",
        "        return self.image\n",
        "\n",
        "    def decode_text(self):\n",
        "        ls = self.read_bits(16) #Read the text size in bytes\n",
        "        l = int(ls,2)\n",
        "        i = 0\n",
        "        unhideTxt = \"\"\n",
        "        while i < l: #Read all bytes of the text\n",
        "            tmp = self.read_byte() #So one byte\n",
        "            i += 1\n",
        "            unhideTxt += chr(int(tmp,2)) #Every chars concatenated to str\n",
        "        return unhideTxt\n",
        "\n",
        "    def encode_image(self, imtohide):\n",
        "        w = imtohide.width\n",
        "        h = imtohide.height\n",
        "        if self.width*self.height*self.nbchannels < w*h*imtohide.channels:\n",
        "            raise SteganographyException(\"Carrier image not big enough to hold all the datas to steganography\")\n",
        "        binw = self.binary_value(w, 16) #Width coded on to byte so width up to 65536\n",
        "        binh = self.binary_value(h, 16)\n",
        "        self.put_binary_value(binw) #Put width\n",
        "        self.put_binary_value(binh) #Put height\n",
        "        for h in range(imtohide.height): #Iterate the hole image to put every pixel values\n",
        "            for w in range(imtohide.width):\n",
        "                for chan in range(imtohide.channels):\n",
        "                    val = imtohide[h,w][chan]\n",
        "                    self.put_binary_value(self.byteValue(int(val)))\n",
        "        return self.image\n",
        "\n",
        "\n",
        "    def decode_image(self):\n",
        "        width = int(self.read_bits(16),2) #Read 16bits and convert it in int\n",
        "        height = int(self.read_bits(16),2)\n",
        "        unhideimg = np.zeros((width,height, 3), np.uint8) #Create an image in which we will put all the pixels read\n",
        "        for h in range(height):\n",
        "            for w in range(width):\n",
        "                for chan in range(unhideimg.channels):\n",
        "                    val = list(unhideimg[h,w])\n",
        "                    val[chan] = int(self.read_byte(),2) #Read the value\n",
        "                    unhideimg[h,w] = tuple(val)\n",
        "        return unhideimg\n",
        "\n",
        "    def encode_binary(self, data):\n",
        "        l = len(data)\n",
        "        if self.width*self.height*self.nbchannels < l+64:\n",
        "            raise SteganographyException(\"Carrier image not big enough to hold all the datas to steganography\")\n",
        "        self.put_binary_value(self.binary_value(l, 64))\n",
        "        for byte in data:\n",
        "            byte = byte if isinstance(byte, int) else ord(byte) # Compat py2/py3\n",
        "            self.put_binary_value(self.byteValue(byte))\n",
        "        return self.image\n",
        "\n",
        "    def decode_binary(self):\n",
        "        l = int(self.read_bits(64), 2)\n",
        "        output = b\"\"\n",
        "        for i in range(l):\n",
        "            output += bytearray([int(self.read_byte(),2)])\n",
        "        return output\n",
        "\n",
        "\n",
        "def main():\n",
        "    args = docopt.docopt(__doc__, version=\"0.2\")\n",
        "    in_f = args[\"--in\"]\n",
        "    out_f = args[\"--out\"]\n",
        "    in_img = cv2.imread(in_f)\n",
        "    steg = LSBSteg(in_img)\n",
        "    lossy_formats = [\"jpeg\", \"jpg\"]\n",
        "\n",
        "    if args['encode']:\n",
        "        #Handling lossy format\n",
        "        out_f, out_ext = out_f.split(\".\")\n",
        "        if out_ext in lossy_formats:\n",
        "            out_f = out_f + \".png\"\n",
        "            print(\"Output file changed to \", out_f)\n",
        "\n",
        "        data = open(args[\"--file\"], \"rb\").read()\n",
        "        res = steg.encode_binary(data)\n",
        "        cv2.imwrite(out_f, res)\n",
        "\n",
        "    elif args[\"decode\"]:\n",
        "        raw = steg.decode_binary()\n",
        "        with open(out_f, \"wb\") as f:\n",
        "            f.write(raw)\n",
        "\n",
        "# if __name__==\"__main__\":\n",
        "#     main()"
      ],
      "metadata": {
        "id": "Q_uzmDZIX1ad"
      },
      "execution_count": 5,
      "outputs": []
    },
    {
      "cell_type": "markdown",
      "source": [
        "# Test Image"
      ],
      "metadata": {
        "id": "iPDWMr7oYAUC"
      }
    },
    {
      "cell_type": "code",
      "source": [
        "import os\n",
        "# Directory where the image will be saved\n",
        "ori_dir_img = \"ori-image\"\n",
        "\n",
        "# Create the ori_dir_img if it doesn't exist\n",
        "if not os.path.exists(ori_dir_img):\n",
        "    os.makedirs(ori_dir_img)\n",
        "\n",
        "stego_dir_img = \"stego-image\"\n",
        "\n",
        "# Create the stego_dir_img if it doesn't exist\n",
        "if not os.path.exists(stego_dir_img):\n",
        "    os.makedirs(stego_dir_img)"
      ],
      "metadata": {
        "id": "Hn2jnf-EYEJx"
      },
      "execution_count": 7,
      "outputs": []
    },
    {
      "cell_type": "markdown",
      "source": [
        "## Lena Image"
      ],
      "metadata": {
        "id": "lEe7XAzQYBn3"
      }
    },
    {
      "cell_type": "code",
      "source": [
        "import requests\n",
        "from PIL import Image\n",
        "import io\n",
        "\n",
        "# URL to the raw image file\n",
        "url = \"https://raw.githubusercontent.com/mikolalysenko/lena/master/lena.png\"\n",
        "\n",
        "# Download the image\n",
        "response = requests.get(url)\n",
        "if response.status_code == 200:\n",
        "    # Load the image using PIL\n",
        "    lena_image = Image.open(io.BytesIO(response.content))\n",
        "    lena_image.show()  # Display the image (optional)\n",
        "    lena_image.save(\"ori-image/lena.png\")  # Save the image locally\n",
        "else:\n",
        "    print(\"Failed to download the image.\")"
      ],
      "metadata": {
        "id": "xY3dnoOeYGCZ"
      },
      "execution_count": 8,
      "outputs": []
    },
    {
      "cell_type": "code",
      "source": [
        "LENA_IMG = 'ori-image/lena.png'\n",
        "\n",
        "if not os.path.exists(LENA_IMG):\n",
        "    raise FileNotFoundError(f\"Image not found at {LENA_IMG}\")"
      ],
      "metadata": {
        "id": "spjONGy2YKXD"
      },
      "execution_count": 45,
      "outputs": []
    },
    {
      "cell_type": "markdown",
      "source": [
        "# Steganography Metric"
      ],
      "metadata": {
        "id": "o_juWbLLX75d"
      }
    },
    {
      "cell_type": "markdown",
      "source": [
        "## MSE"
      ],
      "metadata": {
        "id": "0FKC4t7fZab4"
      }
    },
    {
      "cell_type": "code",
      "source": [
        "def calculate_mse(original, stego):\n",
        "    return np.mean((original - stego) ** 2)"
      ],
      "metadata": {
        "id": "omUfnW9ZZl6l"
      },
      "execution_count": 46,
      "outputs": []
    },
    {
      "cell_type": "markdown",
      "source": [
        "## PSNR"
      ],
      "metadata": {
        "id": "wP_NHq5rZXgf"
      }
    },
    {
      "cell_type": "code",
      "source": [
        "def calculate_psnr(target, ori_image=LENA_IMG):\n",
        "    # Read images\n",
        "    original = cv2.imread(ori_image)\n",
        "    stego = cv2.imread(f'{stego_dir_img}/{target}')\n",
        "\n",
        "    if original is None:\n",
        "        raise ValueError(f\"Failed to load original image from {ori_image}. Ensure the file exists and is a valid image format.\")\n",
        "    if stego is None:\n",
        "        raise ValueError(f\"Failed to load stego image from {stego_dir_img}/{target}. Ensure the file exists and is a valid image format.\")\n",
        "\n",
        "    # Calculate MSE using the separated function\n",
        "    mse = calculate_mse(original, stego)\n",
        "    if mse == 0:  # If images are identical\n",
        "        return float('inf')\n",
        "\n",
        "    # Calculate PSNR using the 10 log10 version\n",
        "    max_pixel_value = 255.0\n",
        "    psnr = 10 * np.log10((max_pixel_value ** 2) / mse)\n",
        "    # print(f'PSNR: {psnr}')\n",
        "    return psnr"
      ],
      "metadata": {
        "id": "BLemNkUeX9Hb"
      },
      "execution_count": 60,
      "outputs": []
    },
    {
      "cell_type": "markdown",
      "source": [
        "## SSIM"
      ],
      "metadata": {
        "id": "vZGljTTkZy34"
      }
    },
    {
      "cell_type": "code",
      "source": [
        "from skimage.metrics import structural_similarity as ssim\n",
        "\n",
        "def calculate_ssim(original, stego):\n",
        "    # Convert images to grayscale\n",
        "    original_gray = cv2.cvtColor(original, cv2.COLOR_BGR2GRAY)\n",
        "    stego_gray = cv2.cvtColor(stego, cv2.COLOR_BGR2GRAY)\n",
        "\n",
        "    # Calculate SSIM\n",
        "    ssim_value, _ = ssim(original_gray, stego_gray, full=True)\n",
        "    return ssim_value"
      ],
      "metadata": {
        "id": "HNRnOf0HZzvm"
      },
      "execution_count": 61,
      "outputs": []
    },
    {
      "cell_type": "markdown",
      "source": [
        "## Get it together"
      ],
      "metadata": {
        "id": "cJqngEwXZ5gu"
      }
    },
    {
      "cell_type": "code",
      "source": [
        "def calculate_stego_metrics(target, ori_image=LENA_IMG):\n",
        "    # Read images\n",
        "    original = cv2.imread(ori_image)\n",
        "    stego = cv2.imread(f'{stego_dir_img}/{target}')\n",
        "\n",
        "    if original is None:\n",
        "        raise ValueError(f\"Failed to load original image from {ori_image}. Ensure the file exists and is a valid image format.\")\n",
        "    if stego is None:\n",
        "        raise ValueError(f\"Failed to load stego image from {stego_dir_img}/{target}. Ensure the file exists and is a valid image format.\")\n",
        "\n",
        "    # Calculate metrics\n",
        "    mse_value = calculate_mse(original, stego)\n",
        "    psnr_value = calculate_psnr(target)\n",
        "    ssim_value = calculate_ssim(original, stego)\n",
        "\n",
        "    # Print results\n",
        "    print(f'Metrics between original ({ori_image}) and stego image ({target}):')\n",
        "    print(f'MSE: {mse_value}')\n",
        "    print(f'PSNR: {psnr_value}')\n",
        "    print(f'SSIM: {ssim_value}')\n",
        "\n",
        "    return mse_value, psnr_value, ssim_value"
      ],
      "metadata": {
        "id": "rdbpG93baOZ9"
      },
      "execution_count": 66,
      "outputs": []
    },
    {
      "cell_type": "markdown",
      "source": [
        "# LSB Helper"
      ],
      "metadata": {
        "id": "mcFNGXZPYUTT"
      }
    },
    {
      "cell_type": "code",
      "source": [
        "def embed_lsb(target, content, ori_img = LENA_IMG):\n",
        "  steg = LSBSteg(cv2.imread(ori_img))\n",
        "\n",
        "  img_encoded = steg.encode_text(content)\n",
        "\n",
        "  lsb_img = f\"{stego_dir_img}/{target}\"\n",
        "\n",
        "  cv2.imwrite(lsb_img, img_encoded)"
      ],
      "metadata": {
        "id": "rIdn94soYV9_"
      },
      "execution_count": 50,
      "outputs": []
    },
    {
      "cell_type": "code",
      "source": [
        "def extract_lsb(target):\n",
        "  im = cv2.imread(f\"{stego_dir_img}/{target}\")\n",
        "\n",
        "  steg = LSBSteg(im)\n",
        "\n",
        "  content = steg.decode_text()\n",
        "\n",
        "  return content"
      ],
      "metadata": {
        "id": "_-NTd6zfYWhY"
      },
      "execution_count": 51,
      "outputs": []
    },
    {
      "cell_type": "markdown",
      "source": [
        "# LSB Only"
      ],
      "metadata": {
        "id": "EziH6MmzYMDm"
      }
    },
    {
      "cell_type": "code",
      "source": [
        "embed_lsb(\"lsb_only.png\", CONTENT)"
      ],
      "metadata": {
        "id": "z97CQgdGYYP6"
      },
      "execution_count": 52,
      "outputs": []
    },
    {
      "cell_type": "code",
      "source": [
        "extract_lsb(\"lsb_only.png\")"
      ],
      "metadata": {
        "colab": {
          "base_uri": "https://localhost:8080/",
          "height": 53
        },
        "id": "yoNbCmHXYb8k",
        "outputId": "1248da10-d7a2-460e-c2df-50d2f459bf29"
      },
      "execution_count": 53,
      "outputs": [
        {
          "output_type": "execute_result",
          "data": {
            "text/plain": [
              "'3348610401970005#christofer*derian*budianto#tegal#1997-03-04#laki-laki#b#jl.*pala*22*no.*30#005#017#mejasem*tengah#kramat#katholik#belum*kawin#pelajar/mahasiswa#wni#seumur*hidup'"
            ],
            "application/vnd.google.colaboratory.intrinsic+json": {
              "type": "string"
            }
          },
          "metadata": {},
          "execution_count": 53
        }
      ]
    },
    {
      "cell_type": "code",
      "source": [
        "extract_lsb(\"lsb_only.png\") == CONTENT"
      ],
      "metadata": {
        "colab": {
          "base_uri": "https://localhost:8080/"
        },
        "id": "x5BaIFvfYdER",
        "outputId": "d3f17f2e-b420-485c-ee86-339e02317a96"
      },
      "execution_count": 54,
      "outputs": [
        {
          "output_type": "execute_result",
          "data": {
            "text/plain": [
              "True"
            ]
          },
          "metadata": {},
          "execution_count": 54
        }
      ]
    },
    {
      "cell_type": "code",
      "source": [
        "calculate_stego_metrics(\"lsb_only.png\")"
      ],
      "metadata": {
        "colab": {
          "base_uri": "https://localhost:8080/"
        },
        "id": "y0NqvggPYecK",
        "outputId": "daddb80f-8863-47dd-aa3a-f644eab89716"
      },
      "execution_count": 67,
      "outputs": [
        {
          "output_type": "stream",
          "name": "stdout",
          "text": [
            "Metrics between original (ori-image/lena.png) and stego image (lsb_only.png):\n",
            "MSE: 0.0009028116861979166\n",
            "PSNR: 78.57483188820159\n",
            "SSIM: 0.9999987952461553\n"
          ]
        },
        {
          "output_type": "execute_result",
          "data": {
            "text/plain": [
              "(0.0009028116861979166, 78.57483188820159, 0.9999987952461553)"
            ]
          },
          "metadata": {},
          "execution_count": 67
        }
      ]
    },
    {
      "cell_type": "markdown",
      "source": [
        "# LSB with ECC"
      ],
      "metadata": {
        "id": "B-z7XRTrYjmr"
      }
    },
    {
      "cell_type": "code",
      "source": [
        "ciphertext"
      ],
      "metadata": {
        "colab": {
          "base_uri": "https://localhost:8080/"
        },
        "id": "YmG2mbzMYlEF",
        "outputId": "420c748c-a77b-4c87-d0e1-b1b4ef5fe98d"
      },
      "execution_count": 25,
      "outputs": [
        {
          "output_type": "execute_result",
          "data": {
            "text/plain": [
              "b\"\\x04k\\xd0\\xf0\\xa8\\xd4t\\x91\\xfa\\x9a\\xf1\\x9e;\\xa1\\xba(e|\\x93\\xd0s\\xdf\\x00\\xd4}n3\\xfb\\x00\\xc1\\xd7\\xdb\\xe9\\xec\\xee~\\x04\\xc7\\x95\\x04}9\\xa5\\x9f\\t\\xdc\\x12\\x9c\\x9b\\xbe\\xc7\\xb8\\x03\\xe0x\\x15\\xedgmz\\x17\\x88\\x1c\\xdb\\xc7\\xb1\\xa23X\\xfb2\\x87\\xd6\\x07\\r\\xbef\\xc1\\x08\\xe0\\xdb\\xc0\\n\\xf9\\xa8\\xb4v\\x80\\x870\\x1c\\xde P(g\\x8b\\xe1\\x9d\\xc0\\x07a#}\\xc1\\xf3\\xa9\\xdbY\\xd8\\xb7\\x8e[v\\x08^\\xba\\x9d\\xc4a\\x9a\\xf7\\xb0\\x9d04\\xa3DG\\xdfe\\x9e\\x85@\\x91\\xe4/\\xd8`\\x03\\x8e?e\\xf5\\xd9\\xfa5\\xf3\\x1f\\xa8q@\\x18(2LC*\\xa8n1\\xc3\\xc5\\x89\\xed\\x11\\x85$\\x1e\\xc4\\xea\\xa15\\xdbA\\x00\\xcc\\x0ef\\xd4\\x86E\\xec3U'\\xdf\\x92\\x9b\\x87\\x1dD\\xe6_1_!\\x0c\\xa8\\xc6[\\xab\\x86\\x04xnx\\xf7\\xb2\\xf3\\xf2\\xf3\\xf23\\x1c~\\xacy\\xdb)\\xf7\\x9dzrM]D`\\xe2\\x8e8o\\xba\\x12'\\x94\\x14\\x85\\x0b\\x95!v\\x9b\\xb1\\xcaym\\x9aA\\xbe\\x82\\xc9C\\xc5\\xd4!f\\x13\\xe2i0\\x9f\\xe06\\xa6\\x01\\x90\\xb3\\xc03\\xe7\\xd2}\\x00\""
            ]
          },
          "metadata": {},
          "execution_count": 25
        }
      ]
    },
    {
      "cell_type": "code",
      "source": [
        "embed_lsb(\"lsb_w_ECC.png\", ciphertext.hex())"
      ],
      "metadata": {
        "id": "8DYsVjyuYmPL"
      },
      "execution_count": 26,
      "outputs": []
    },
    {
      "cell_type": "code",
      "source": [
        "extracted_data = extract_lsb(\"lsb_w_ECC.png\")\n",
        "extracted_data"
      ],
      "metadata": {
        "colab": {
          "base_uri": "https://localhost:8080/",
          "height": 87
        },
        "id": "JqcI2wmcYocy",
        "outputId": "8391b4b6-e263-4f22-eddf-5230497d5ac0"
      },
      "execution_count": 27,
      "outputs": [
        {
          "output_type": "execute_result",
          "data": {
            "text/plain": [
              "'046bd0f0a8d47491fa9af19e3ba1ba28657c93d073df00d47d6e33fb00c1d7dbe9ecee7e04c795047d39a59f09dc129c9bbec7b803e07815ed676d7a17881cdbc7b1a23358fb3287d6070dbe66c108e0dbc00af9a8b4768087301cde205028678be19dc00761237dc1f3a9db59d8b78e5b76085eba9dc4619af7b09d3034a34447df659e854091e42fd860038e3f65f5d9fa35f31fa871401828324c432aa86e31c3c589ed1185241ec4eaa135db4100cc0e66d48645ec335527df929b871d44e65f315f210ca8c65bab8604786e78f7b2f3f2f3f2331c7eac79db29f79d7a724d5d4460e28e386fba12279414850b9521769bb1ca796d9a41be82c943c5d4216613e269309fe036a60190b3c033e7d27d00'"
            ],
            "application/vnd.google.colaboratory.intrinsic+json": {
              "type": "string"
            }
          },
          "metadata": {},
          "execution_count": 27
        }
      ]
    },
    {
      "cell_type": "code",
      "source": [
        "calculate_stego_metrics(\"lsb_w_ECC.png\")"
      ],
      "metadata": {
        "colab": {
          "base_uri": "https://localhost:8080/"
        },
        "id": "R3HihyFYZKWH",
        "outputId": "ad9f419e-f631-4421-d565-ce38484fce71"
      },
      "execution_count": 68,
      "outputs": [
        {
          "output_type": "stream",
          "name": "stdout",
          "text": [
            "Metrics between original (ori-image/lena.png) and stego image (lsb_w_ECC.png):\n",
            "MSE: 0.0028025309244791665\n",
            "PSNR: 73.65529947359488\n",
            "SSIM: 0.9999928013838967\n"
          ]
        },
        {
          "output_type": "execute_result",
          "data": {
            "text/plain": [
              "(0.0028025309244791665, 73.65529947359488, 0.9999928013838967)"
            ]
          },
          "metadata": {},
          "execution_count": 68
        }
      ]
    },
    {
      "cell_type": "code",
      "source": [
        "extracted_data == ciphertext.hex()"
      ],
      "metadata": {
        "colab": {
          "base_uri": "https://localhost:8080/"
        },
        "id": "apq_41VCYqUo",
        "outputId": "58bf3ef3-1850-4fa3-bd7a-636029be34bd"
      },
      "execution_count": 28,
      "outputs": [
        {
          "output_type": "execute_result",
          "data": {
            "text/plain": [
              "True"
            ]
          },
          "metadata": {},
          "execution_count": 28
        }
      ]
    },
    {
      "cell_type": "code",
      "source": [
        "extracted_data = bytes.fromhex(extracted_data)\n",
        "extracted_data"
      ],
      "metadata": {
        "colab": {
          "base_uri": "https://localhost:8080/"
        },
        "id": "UWjhqqpuYsnx",
        "outputId": "3d9ce07b-b320-4161-9bf4-8170be61d0cd"
      },
      "execution_count": 30,
      "outputs": [
        {
          "output_type": "execute_result",
          "data": {
            "text/plain": [
              "b\"\\x04k\\xd0\\xf0\\xa8\\xd4t\\x91\\xfa\\x9a\\xf1\\x9e;\\xa1\\xba(e|\\x93\\xd0s\\xdf\\x00\\xd4}n3\\xfb\\x00\\xc1\\xd7\\xdb\\xe9\\xec\\xee~\\x04\\xc7\\x95\\x04}9\\xa5\\x9f\\t\\xdc\\x12\\x9c\\x9b\\xbe\\xc7\\xb8\\x03\\xe0x\\x15\\xedgmz\\x17\\x88\\x1c\\xdb\\xc7\\xb1\\xa23X\\xfb2\\x87\\xd6\\x07\\r\\xbef\\xc1\\x08\\xe0\\xdb\\xc0\\n\\xf9\\xa8\\xb4v\\x80\\x870\\x1c\\xde P(g\\x8b\\xe1\\x9d\\xc0\\x07a#}\\xc1\\xf3\\xa9\\xdbY\\xd8\\xb7\\x8e[v\\x08^\\xba\\x9d\\xc4a\\x9a\\xf7\\xb0\\x9d04\\xa3DG\\xdfe\\x9e\\x85@\\x91\\xe4/\\xd8`\\x03\\x8e?e\\xf5\\xd9\\xfa5\\xf3\\x1f\\xa8q@\\x18(2LC*\\xa8n1\\xc3\\xc5\\x89\\xed\\x11\\x85$\\x1e\\xc4\\xea\\xa15\\xdbA\\x00\\xcc\\x0ef\\xd4\\x86E\\xec3U'\\xdf\\x92\\x9b\\x87\\x1dD\\xe6_1_!\\x0c\\xa8\\xc6[\\xab\\x86\\x04xnx\\xf7\\xb2\\xf3\\xf2\\xf3\\xf23\\x1c~\\xacy\\xdb)\\xf7\\x9dzrM]D`\\xe2\\x8e8o\\xba\\x12'\\x94\\x14\\x85\\x0b\\x95!v\\x9b\\xb1\\xcaym\\x9aA\\xbe\\x82\\xc9C\\xc5\\xd4!f\\x13\\xe2i0\\x9f\\xe06\\xa6\\x01\\x90\\xb3\\xc03\\xe7\\xd2}\\x00\""
            ]
          },
          "metadata": {},
          "execution_count": 30
        }
      ]
    },
    {
      "cell_type": "code",
      "source": [
        "decrypted_message = decrypt(private_key_hex, extracted_data)\n",
        "print(\"Decrypted Message:\", decrypted_message.decode())"
      ],
      "metadata": {
        "colab": {
          "base_uri": "https://localhost:8080/"
        },
        "id": "79qn53NGZBbX",
        "outputId": "ecbc6ff2-fe72-46fd-be89-e16731cdb2d6"
      },
      "execution_count": 31,
      "outputs": [
        {
          "output_type": "stream",
          "name": "stdout",
          "text": [
            "Decrypted Message: 3348610401970005#christofer*derian*budianto#tegal#1997-03-04#laki-laki#b#jl.*pala*22*no.*30#005#017#mejasem*tengah#kramat#katholik#belum*kawin#pelajar/mahasiswa#wni#seumur*hidup\n"
          ]
        }
      ]
    },
    {
      "cell_type": "code",
      "source": [
        "decrypted_message.decode() == CONTENT"
      ],
      "metadata": {
        "colab": {
          "base_uri": "https://localhost:8080/"
        },
        "id": "o-FSsb_eZHhs",
        "outputId": "2cbba72d-c338-4a7d-a4f1-b51a517d04ba"
      },
      "execution_count": 32,
      "outputs": [
        {
          "output_type": "execute_result",
          "data": {
            "text/plain": [
              "True"
            ]
          },
          "metadata": {},
          "execution_count": 32
        }
      ]
    }
  ]
}