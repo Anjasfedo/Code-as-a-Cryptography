{
  "nbformat": 4,
  "nbformat_minor": 0,
  "metadata": {
    "colab": {
      "provenance": [],
      "authorship_tag": "ABX9TyM8fnrwOlwIDg3Hgd+hS02Y",
      "include_colab_link": true
    },
    "kernelspec": {
      "name": "python3",
      "display_name": "Python 3"
    },
    "language_info": {
      "name": "python"
    }
  },
  "cells": [
    {
      "cell_type": "markdown",
      "metadata": {
        "id": "view-in-github",
        "colab_type": "text"
      },
      "source": [
        "<a href=\"https://colab.research.google.com/github/Anjasfedo/Code-as-a-Cryptography/blob/main/run_length_encoding.ipynb\" target=\"_parent\"><img src=\"https://colab.research.google.com/assets/colab-badge.svg\" alt=\"Open In Colab\"/></a>"
      ]
    },
    {
      "cell_type": "code",
      "execution_count": 1,
      "metadata": {
        "id": "qLyIg-9DTqFB"
      },
      "outputs": [],
      "source": [
        "from re import sub\n",
        "\n",
        "def encode(text):\n",
        "    '''\n",
        "    Doctest:\n",
        "        >>> encode('WWWWWWWWWWWWBWWWWWWWWWWWWBBBWWWWWWWWWWWWWWWWWWWWWWWWBWWWWWWWWWWWWWW')\n",
        "        '12W1B12W3B24W1B14W'\n",
        "    '''\n",
        "    return sub(r'(.)\\1*', lambda m: str(len(m.group(0))) + m.group(1),\n",
        "               text)\n",
        "\n",
        "def decode(text):\n",
        "    '''\n",
        "    Doctest:\n",
        "        >>> decode('12W1B12W3B24W1B14W')\n",
        "        'WWWWWWWWWWWWBWWWWWWWWWWWWBBBWWWWWWWWWWWWWWWWWWWWWWWWBWWWWWWWWWWWWWW'\n",
        "    '''\n",
        "    return sub(r'(\\d+)(\\D)', lambda m: m.group(2) * int(m.group(1)),\n",
        "               text)\n",
        "\n",
        "textin = \"WWWWWWWWWWWWBWWWWWWWWWWWWBBBWWWWWWWWWWWWWWWWWWWWWWWWBWWWWWWWWWWWWWW\"\n",
        "assert decode(encode(textin)) == textin"
      ]
    },
    {
      "cell_type": "code",
      "source": [
        "compressed_data = encode(textin)\n",
        "compressed_data"
      ],
      "metadata": {
        "colab": {
          "base_uri": "https://localhost:8080/",
          "height": 35
        },
        "id": "5KnmTmfzTzkF",
        "outputId": "3010dfaa-5e4a-4a3d-98dd-7e2881ff4dea"
      },
      "execution_count": 4,
      "outputs": [
        {
          "output_type": "execute_result",
          "data": {
            "text/plain": [
              "'12W1B12W3B24W1B14W'"
            ],
            "application/vnd.google.colaboratory.intrinsic+json": {
              "type": "string"
            }
          },
          "metadata": {},
          "execution_count": 4
        }
      ]
    },
    {
      "cell_type": "code",
      "source": [
        "decompressed_data = decode(compressed_data)\n",
        "decompressed_data"
      ],
      "metadata": {
        "colab": {
          "base_uri": "https://localhost:8080/",
          "height": 70
        },
        "id": "Po03u2ytT6po",
        "outputId": "67d887f7-1380-4456-db24-dbda162d4092"
      },
      "execution_count": 5,
      "outputs": [
        {
          "output_type": "execute_result",
          "data": {
            "text/plain": [
              "'WWWWWWWWWWWWBWWWWWWWWWWWWBBBWWWWWWWWWWWWWWWWWWWWWWWWBWWWWWWWWWWWWWW'"
            ],
            "application/vnd.google.colaboratory.intrinsic+json": {
              "type": "string"
            }
          },
          "metadata": {},
          "execution_count": 5
        }
      ]
    },
    {
      "cell_type": "code",
      "source": [
        "decompressed_data == textin"
      ],
      "metadata": {
        "colab": {
          "base_uri": "https://localhost:8080/"
        },
        "id": "0uC9XJT3UIe5",
        "outputId": "fc8f58f4-da4c-4534-d5a4-ed5968105e37"
      },
      "execution_count": 6,
      "outputs": [
        {
          "output_type": "execute_result",
          "data": {
            "text/plain": [
              "True"
            ]
          },
          "metadata": {},
          "execution_count": 6
        }
      ]
    }
  ]
}