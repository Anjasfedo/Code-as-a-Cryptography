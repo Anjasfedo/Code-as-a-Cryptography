{
  "nbformat": 4,
  "nbformat_minor": 0,
  "metadata": {
    "colab": {
      "provenance": [],
      "authorship_tag": "ABX9TyOb6O69SiwVr+Jr/HDVHMb/",
      "include_colab_link": true
    },
    "kernelspec": {
      "name": "python3",
      "display_name": "Python 3"
    },
    "language_info": {
      "name": "python"
    }
  },
  "cells": [
    {
      "cell_type": "markdown",
      "metadata": {
        "id": "view-in-github",
        "colab_type": "text"
      },
      "source": [
        "<a href=\"https://colab.research.google.com/github/Anjasfedo/Code-as-a-Cryptography/blob/main/point_integer.ipynb\" target=\"_parent\"><img src=\"https://colab.research.google.com/assets/colab-badge.svg\" alt=\"Open In Colab\"/></a>"
      ]
    },
    {
      "cell_type": "code",
      "execution_count": 2,
      "metadata": {
        "colab": {
          "base_uri": "https://localhost:8080/"
        },
        "id": "o623U0w_tP4c",
        "outputId": "37b9e6ff-d54a-45a1-a33c-0ab76f6a7868"
      },
      "outputs": [
        {
          "output_type": "stream",
          "name": "stdout",
          "text": [
            "Gabungan a dan b menjadi c: 809048709\n",
            "Hasil pemisahan c kembali ke a dan b: 12345 6789\n"
          ]
        }
      ],
      "source": [
        "# Fungsi untuk menggabungkan a dan b menjadi satu nilai c\n",
        "def gabung_ab(a, b):\n",
        "    return (a << 16) | b  # Menggeser a ke kiri 16 bit dan menggabungkan dengan b\n",
        "\n",
        "# Fungsi untuk memisahkan c kembali menjadi a dan b\n",
        "def pisah_ab(c):\n",
        "    a = c >> 16           # Mengambil nilai a dengan menggeser 16 bit ke kanan\n",
        "    b = c & 0xFFFF        # Mengambil nilai b dengan masking 16 bit terakhir\n",
        "    return a, b\n",
        "\n",
        "# Contoh penggunaan\n",
        "a = 12345\n",
        "b = 6789\n",
        "\n",
        "# Gabungkan menjadi c\n",
        "c = gabung_ab(a, b)\n",
        "print(\"Gabungan a dan b menjadi c:\", c)\n",
        "\n",
        "# Pisahkan kembali c menjadi a dan b\n",
        "a_kembali, b_kembali = pisah_ab(c)\n",
        "print(\"Hasil pemisahan c kembali ke a dan b:\", a_kembali, b_kembali)\n"
      ]
    },
    {
      "cell_type": "code",
      "source": [
        "# Fungsi untuk menggabungkan a dan b menjadi satu nilai c dalam rentang 0-255\n",
        "def gabung_ab_terbatas(a, b):\n",
        "    if 0 <= a <= 15 and 0 <= b <= 15:  # Pastikan a dan b ada di rentang 0-15\n",
        "        return (a << 4) | b            # Menggeser a ke kiri 4 bit dan gabungkan dengan b\n",
        "    else:\n",
        "        raise ValueError(\"a dan b harus berada dalam rentang 0-15\")\n",
        "\n",
        "# Fungsi untuk memisahkan c kembali menjadi a dan b\n",
        "def pisah_ab_terbatas(c):\n",
        "    if 0 <= c <= 255:  # Pastikan c ada di rentang ASCII\n",
        "        a = c >> 4     # Mengambil nilai a dengan menggeser 4 bit ke kanan\n",
        "        b = c & 0x0F   # Mengambil nilai b dengan masking 4 bit terakhir\n",
        "        return a, b\n",
        "    else:\n",
        "        raise ValueError(\"c harus berada dalam rentang 0-255\")\n",
        "\n",
        "# Contoh penggunaan\n",
        "a = 14\n",
        "b = 7\n",
        "\n",
        "# Gabungkan menjadi c\n",
        "c = gabung_ab_terbatas(a, b)\n",
        "print(\"Gabungan a dan b menjadi c:\", c)\n",
        "\n",
        "# Pisahkan kembali c menjadi a dan b\n",
        "a_kembali, b_kembali = pisah_ab_terbatas(c)\n",
        "print(\"Hasil pemisahan c kembali ke a dan b:\", a_kembali, b_kembali)\n"
      ],
      "metadata": {
        "colab": {
          "base_uri": "https://localhost:8080/"
        },
        "id": "XnqFkUhguLzM",
        "outputId": "0b977a9b-2751-4782-ccf1-d3fd2b4e283a"
      },
      "execution_count": 5,
      "outputs": [
        {
          "output_type": "stream",
          "name": "stdout",
          "text": [
            "Gabungan a dan b menjadi c: 231\n",
            "Hasil pemisahan c kembali ke a dan b: 14 7\n"
          ]
        }
      ]
    },
    {
      "cell_type": "code",
      "source": [
        "# Fungsi untuk menggabungkan a dan b menjadi satu nilai c menggunakan mod p\n",
        "def gabung_ab_mod(a, b, p):\n",
        "    # Pastikan a dan b ada di dalam rentang [0, p-1]\n",
        "    a = a % p\n",
        "    b = b % p\n",
        "    # Gabungkan menjadi nilai tunggal c menggunakan aturan modulo p\n",
        "    c = (a * p + b) % p**2\n",
        "    return c\n",
        "\n",
        "# Fungsi untuk memisahkan c kembali menjadi a dan b dengan mod p\n",
        "def pisah_ab_mod(c, p):\n",
        "    # Mengambil kembali nilai a dan b dari c dengan operasi mod\n",
        "    a = c // p\n",
        "    b = c % p\n",
        "    return a, b\n",
        "\n",
        "# Contoh penggunaan\n",
        "p = 17  # Bilangan prima sebagai modulus\n",
        "a = 18\n",
        "b = 8\n",
        "\n",
        "# Gabungkan a dan b menjadi c\n",
        "c = gabung_ab_mod(a, b, p)\n",
        "print(\"Gabungan a dan b menjadi c:\", c)\n",
        "\n",
        "# Pisahkan kembali c menjadi a dan b\n",
        "a_kembali, b_kembali = pisah_ab_mod(c, p)\n",
        "print(\"Hasil pemisahan c kembali ke a dan b:\", a_kembali, b_kembali)\n"
      ],
      "metadata": {
        "colab": {
          "base_uri": "https://localhost:8080/"
        },
        "id": "xqekwT15uehW",
        "outputId": "bc6d7221-c9b0-445a-c119-0e3c12a41804"
      },
      "execution_count": 11,
      "outputs": [
        {
          "output_type": "stream",
          "name": "stdout",
          "text": [
            "Gabungan a dan b menjadi c: 25\n",
            "Hasil pemisahan c kembali ke a dan b: 1 8\n"
          ]
        }
      ]
    },
    {
      "cell_type": "code",
      "source": [
        "# Fungsi untuk menggabungkan a dan b menjadi satu nilai c dalam ruang modulo p^2\n",
        "def gabung_ab_modular(a, b, p):\n",
        "    # Pastikan a dan b berada dalam rentang [0, p-1]\n",
        "    a = a % p\n",
        "    b = b % p\n",
        "    # Menggabungkan menjadi nilai tunggal c, dengan ruang modulo p^2\n",
        "    c = (a * p + b) % (p ** 2)\n",
        "    return c\n",
        "\n",
        "# Fungsi untuk memisahkan c kembali menjadi a dan b dengan ruang modulo p^2\n",
        "def pisah_ab_modular(c, p):\n",
        "    # Menguraikan nilai a dan b dari c\n",
        "    a = c // p         # Mendapatkan nilai a\n",
        "    b = c % p          # Mendapatkan nilai b\n",
        "    return a, b\n",
        "\n",
        "# Contoh penggunaan\n",
        "p = 17  # Bilangan prima sebagai modulus\n",
        "a = 25  # Nilai yang lebih besar dari p untuk menguji akurasi\n",
        "b = 30  # Nilai yang lebih besar dari p\n",
        "\n",
        "# Gabungkan a dan b menjadi c\n",
        "c = gabung_ab_modular(a, b, p)\n",
        "print(\"Gabungan a dan b menjadi c:\", c)\n",
        "\n",
        "# Pisahkan kembali c menjadi a dan b\n",
        "a_kembali, b_kembali = pisah_ab_modular(c, p)\n",
        "print(\"Hasil pemisahan c kembali ke a dan b:\", a_kembali, b_kembali)\n"
      ],
      "metadata": {
        "colab": {
          "base_uri": "https://localhost:8080/"
        },
        "id": "z3Casqzsu73U",
        "outputId": "85df4345-e4b7-4de1-ea10-cb0471ac80b1"
      },
      "execution_count": 12,
      "outputs": [
        {
          "output_type": "stream",
          "name": "stdout",
          "text": [
            "Gabungan a dan b menjadi c: 149\n",
            "Hasil pemisahan c kembali ke a dan b: 8 13\n"
          ]
        }
      ]
    },
    {
      "cell_type": "code",
      "source": [
        "# Fungsi untuk menggabungkan a dan b menjadi c tanpa membatasi nilai a dan b ke mod p\n",
        "def gabung_ab_tanpa_mod(a, b, p):\n",
        "    # Pastikan a dan b tetap terwakili dalam c\n",
        "    c = a * p + b\n",
        "    return c\n",
        "\n",
        "# Fungsi untuk memisahkan c kembali menjadi a dan b\n",
        "def pisah_ab_tanpa_mod(c, p):\n",
        "    # Ambil a dengan membagi c dengan p, dan b sebagai sisa bagi\n",
        "    a = c // p\n",
        "    b = c % p\n",
        "    return a, b\n",
        "\n",
        "# Contoh penggunaan\n",
        "p = 17  # Bilangan prima sebagai modulus\n",
        "a = 25  # a lebih besar dari p\n",
        "b = 15   # b lebih kecil dari p\n",
        "\n",
        "# Gabungkan a dan b menjadi c\n",
        "c = gabung_ab_tanpa_mod(a, b, p)\n",
        "print(\"Gabungan a dan b menjadi c:\", c)\n",
        "\n",
        "# Pisahkan kembali c menjadi a dan b\n",
        "a_kembali, b_kembali = pisah_ab_tanpa_mod(c, p)\n",
        "print(\"Hasil pemisahan c kembali ke a dan b:\", a_kembali, b_kembali)\n"
      ],
      "metadata": {
        "colab": {
          "base_uri": "https://localhost:8080/"
        },
        "id": "_zr8h2BavUDM",
        "outputId": "a954cc5e-e935-4727-e4da-a40ea6f3b12d"
      },
      "execution_count": 15,
      "outputs": [
        {
          "output_type": "stream",
          "name": "stdout",
          "text": [
            "Gabungan a dan b menjadi c: 440\n",
            "Hasil pemisahan c kembali ke a dan b: 25 15\n"
          ]
        }
      ]
    },
    {
      "cell_type": "code",
      "source": [
        "# Fungsi untuk menggabungkan a dan b menjadi satu nilai c dengan modulus p^2\n",
        "def gabung_ab_modulus(a, b, p):\n",
        "    if 0 <= a < p and 0 <= b < p:\n",
        "        c = a * p + b  # Menggunakan kombinasi unik a dan b\n",
        "        return c\n",
        "    else:\n",
        "        raise ValueError(\"a dan b harus berada dalam rentang [0, p-1]\")\n",
        "\n",
        "# Fungsi untuk memisahkan c kembali menjadi a dan b\n",
        "def pisah_ab_modulus(c, p):\n",
        "    a = c // p  # Mendapatkan nilai a\n",
        "    b = c % p   # Mendapatkan nilai b\n",
        "    return a, b\n",
        "\n",
        "# Contoh penggunaan\n",
        "p = 17  # Bilangan prima sebagai basis modulus\n",
        "a = 16  # Misalkan a diambil dalam rentang lebih besar, tidak masalah asalkan kurang dari p^2\n",
        "b = 8\n",
        "\n",
        "# Gabungkan a dan b menjadi c\n",
        "c = gabung_ab_modulus(a, b, p)\n",
        "print(\"Gabungan a dan b menjadi c:\", c)\n",
        "\n",
        "# Pisahkan kembali c menjadi a dan b\n",
        "a_kembali, b_kembali = pisah_ab_modulus(c, p)\n",
        "print(\"Hasil pemisahan c kembali ke a dan b:\", a_kembali, b_kembali)\n"
      ],
      "metadata": {
        "colab": {
          "base_uri": "https://localhost:8080/"
        },
        "id": "iSveveZ9wJJ3",
        "outputId": "039d267b-a331-4021-823a-e8405320fe9d"
      },
      "execution_count": 18,
      "outputs": [
        {
          "output_type": "stream",
          "name": "stdout",
          "text": [
            "Gabungan a dan b menjadi c: 280\n",
            "Hasil pemisahan c kembali ke a dan b: 16 8\n"
          ]
        }
      ]
    }
  ]
}