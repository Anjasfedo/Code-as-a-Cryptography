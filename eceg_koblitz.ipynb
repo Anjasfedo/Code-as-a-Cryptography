{
  "nbformat": 4,
  "nbformat_minor": 0,
  "metadata": {
    "colab": {
      "provenance": [],
      "authorship_tag": "ABX9TyOcgpAE1dujcznuqJpNyUZj",
      "include_colab_link": true
    },
    "kernelspec": {
      "name": "python3",
      "display_name": "Python 3"
    },
    "language_info": {
      "name": "python"
    }
  },
  "cells": [
    {
      "cell_type": "markdown",
      "metadata": {
        "id": "view-in-github",
        "colab_type": "text"
      },
      "source": [
        "<a href=\"https://colab.research.google.com/github/Anjasfedo/Code-as-a-Cryptography/blob/main/eceg_koblitz.ipynb\" target=\"_parent\"><img src=\"https://colab.research.google.com/assets/colab-badge.svg\" alt=\"Open In Colab\"/></a>"
      ]
    },
    {
      "cell_type": "markdown",
      "source": [
        "# Elliptic Curve Parameter"
      ],
      "metadata": {
        "id": "ReBv5YcLe7t4"
      }
    },
    {
      "cell_type": "code",
      "source": [
        "# Parameters\n",
        "p = 751  # prime modulus\n",
        "k = 20    # chosen small integer\n",
        "a = -1    # coefficient of x in the elliptic curve\n",
        "b = 188    # constant in the elliptic curve"
      ],
      "metadata": {
        "id": "m9_bpHIPe-zS"
      },
      "execution_count": 750,
      "outputs": []
    },
    {
      "cell_type": "markdown",
      "source": [
        "# Koblitz Method"
      ],
      "metadata": {
        "id": "MHgtN_FRdsSx"
      }
    },
    {
      "cell_type": "markdown",
      "source": [
        "## Char to Num\n",
        "represent 1 - 9 and a = 10 ..... z = 35"
      ],
      "metadata": {
        "id": "hLLc4NmIeJZA"
      }
    },
    {
      "cell_type": "code",
      "source": [
        "# Manually create dictionaries for char-to-num and num-to-char mappings\n",
        "char_to_num_dict = {\n",
        "    '0': 10, '1': 11,\n",
        "    'a': 12, 'b': 13, 'c': 14, 'd': 15, 'e': 16, 'f': 17, 'g': 18, 'h': 19,\n",
        "    'i': 20, 'j': 21, 'k': 22, 'l': 23, 'm': 24, 'n': 25, 'o': 26, 'p': 27,\n",
        "    'q': 28, 'r': 29, 's': 30, 't': 31, 'u': 32, 'v': 33, 'w': 34, 'x': 35\n",
        "}\n",
        "\n",
        "# Reverse dictionary for num-to-char mapping\n",
        "num_to_char_dict = {v: k for k, v in char_to_num_dict.items()}\n",
        "\n",
        "# Function to map char to num\n",
        "def char_to_num(char):\n",
        "    if char in char_to_num_dict:\n",
        "        return char_to_num_dict[char]\n",
        "    else:\n",
        "        raise ValueError(f\"Character '{char}' is not valid. Please use '0-1' or 'a-x'.\")\n",
        "\n",
        "# Function to map num to char\n",
        "def num_to_char(num):\n",
        "    if num in num_to_char_dict:\n",
        "        return num_to_char_dict[num]\n",
        "    else:\n",
        "        raise ValueError(f\"Number '{num}' is not valid. Please use numbers in the range 10-35.\")\n",
        "\n",
        "def message_to_koblitz(message):\n",
        "    # Convert the message to a list of characters\n",
        "    chars = list(message)\n",
        "\n",
        "    koblitz = []\n",
        "    for char in chars:\n",
        "        num = char_to_num(char)\n",
        "        koblitz.append(num)\n",
        "\n",
        "    return koblitz\n",
        "\n",
        "def koblitz_to_message(koblitz):\n",
        "    message = []\n",
        "    for num in koblitz:\n",
        "        char = num_to_char(num)\n",
        "        message.append(char)\n",
        "\n",
        "    return ''.join(message)\n",
        "\n",
        "# Test mapping from char to num\n",
        "chars = '01ax'\n",
        "\n",
        "koblitz_message = message_to_koblitz(chars)\n",
        "print(\"Koblitz Message:\", koblitz_message)\n",
        "\n",
        "message = koblitz_to_message(koblitz_message)\n",
        "print(\"Message:\", message)"
      ],
      "metadata": {
        "colab": {
          "base_uri": "https://localhost:8080/"
        },
        "id": "I6PzvAoceRcg",
        "outputId": "faacc0c9-58fe-4123-e3a7-cac159e8c821"
      },
      "execution_count": 751,
      "outputs": [
        {
          "output_type": "stream",
          "name": "stdout",
          "text": [
            "Koblitz Message: [10, 11, 12, 35]\n",
            "Message: 01ax\n"
          ]
        }
      ]
    },
    {
      "cell_type": "markdown",
      "source": [
        "## Koblitz Encoding"
      ],
      "metadata": {
        "id": "MZqttQERe2Wk"
      }
    },
    {
      "cell_type": "code",
      "execution_count": 752,
      "metadata": {
        "colab": {
          "base_uri": "https://localhost:8080/"
        },
        "id": "PA1VkrRqdl5t",
        "outputId": "6241928a-e16a-478d-d044-bb9547b0f8c2"
      },
      "outputs": [
        {
          "output_type": "stream",
          "name": "stdout",
          "text": [
            "Encoded point for character '10': (201, 5)\n",
            "Encoded point for character '11': (224, 248)\n",
            "Encoded point for character '12': (241, 230)\n",
            "Encoded point for character '35': (701, 203)\n"
          ]
        },
        {
          "output_type": "execute_result",
          "data": {
            "text/plain": [
              "[(201, 5), (224, 248), (241, 230), (701, 203)]"
            ]
          },
          "metadata": {},
          "execution_count": 752
        }
      ],
      "source": [
        "import sympy as sp\n",
        "\n",
        "# Elliptic curve equation: y^2 = x^3 + ax + b mod p\n",
        "def koblitz_encode(m, max_attempts=1000):\n",
        "    num = 1  # Start with x = m * k + 1\n",
        "    attempts = 0\n",
        "\n",
        "    while attempts < max_attempts:\n",
        "        x = m * k + num\n",
        "        rhs = (x**3 + a * x + b) % p  # right-hand side of the elliptic curve equation\n",
        "\n",
        "        # Check if rhs is a quadratic residue modulo p\n",
        "        if sp.is_quad_residue(rhs, p):\n",
        "            y = sp.sqrt_mod(rhs, p)\n",
        "            return (x, y)  # Return the point (x, y) as a tuple\n",
        "\n",
        "        num += 1  # Increment to check next x value\n",
        "        attempts += 1\n",
        "\n",
        "    # If no valid point is found after max_attempts\n",
        "    raise ValueError(f\"No valid point found after {max_attempts} attempts for message {m}.\")\n",
        "\n",
        "def koblitz_encode_message(message):\n",
        "  encoded_points = []\n",
        "  for char in message:\n",
        "    encoded_point = koblitz_encode(char)\n",
        "    encoded_points.append(encoded_point)\n",
        "    print(f\"Encoded point for character '{char}': {encoded_point}\")\n",
        "\n",
        "  return encoded_points\n",
        "\n",
        "encoded_points = koblitz_encode_message(koblitz_message)\n",
        "encoded_points"
      ]
    },
    {
      "cell_type": "markdown",
      "source": [
        "## Koblitz Decoding"
      ],
      "metadata": {
        "id": "RuXzvVpsgw4p"
      }
    },
    {
      "cell_type": "code",
      "source": [
        "# Decoding: m = (x - 1) / k\n",
        "def koblitz_decode(x):\n",
        "    return (x - 1) // k\n",
        "\n",
        "def koblitz_decode_message(points):\n",
        "    decoded_message = []\n",
        "    for point in points:\n",
        "        decoded_num = koblitz_decode(point[0])  # Decode the x-coordinate\n",
        "        decoded_message.append(decoded_num)\n",
        "        print(f\"Decoded character for point {point}: {decoded_num}\")\n",
        "    return decoded_message\n",
        "\n",
        "# Output the result\n",
        "decoded_points = koblitz_decode_message(encoded_points)\n",
        "decoded_points"
      ],
      "metadata": {
        "colab": {
          "base_uri": "https://localhost:8080/"
        },
        "id": "AgplqtYTfH7a",
        "outputId": "d26cd539-7c3f-4b25-cded-738d8eab016b"
      },
      "execution_count": 753,
      "outputs": [
        {
          "output_type": "stream",
          "name": "stdout",
          "text": [
            "Decoded character for point (201, 5): 10\n",
            "Decoded character for point (224, 248): 11\n",
            "Decoded character for point (241, 230): 12\n",
            "Decoded character for point (701, 203): 35\n"
          ]
        },
        {
          "output_type": "execute_result",
          "data": {
            "text/plain": [
              "[10, 11, 12, 35]"
            ]
          },
          "metadata": {},
          "execution_count": 753
        }
      ]
    },
    {
      "cell_type": "markdown",
      "source": [
        "## Represented Integer to Char"
      ],
      "metadata": {
        "id": "YPC_ucoDg6l5"
      }
    },
    {
      "cell_type": "code",
      "source": [
        "message = koblitz_to_message(decoded_points)\n",
        "message"
      ],
      "metadata": {
        "colab": {
          "base_uri": "https://localhost:8080/",
          "height": 35
        },
        "id": "uoSQ2u_dgv3F",
        "outputId": "382c2938-5224-4c45-ced7-7bff4d71c668"
      },
      "execution_count": 754,
      "outputs": [
        {
          "output_type": "execute_result",
          "data": {
            "text/plain": [
              "'01ax'"
            ],
            "application/vnd.google.colaboratory.intrinsic+json": {
              "type": "string"
            }
          },
          "metadata": {},
          "execution_count": 754
        }
      ]
    },
    {
      "cell_type": "markdown",
      "source": [
        "# Elliptic Curve El Gamal Class"
      ],
      "metadata": {
        "id": "Q2Xkcpxiii3T"
      }
    },
    {
      "cell_type": "code",
      "source": [
        "# Parameters\n",
        "p = 11  # prime modulus\n",
        "# k = 20    # chosen small integer\n",
        "a = 1    # coefficient of x in the elliptic curve\n",
        "b = 6    # constant in the elliptic curve\n",
        "# B = (2, 4)"
      ],
      "metadata": {
        "id": "Jbw3QL7Ckg0F"
      },
      "execution_count": 755,
      "outputs": []
    },
    {
      "cell_type": "code",
      "source": [
        "# Parameters\n",
        "p = 751  # prime modulus\n",
        "a = -1    # coefficient of x in the elliptic curve\n",
        "b = 188    # constant in the elliptic curve"
      ],
      "metadata": {
        "id": "ngVMe1lFtH4R"
      },
      "execution_count": 756,
      "outputs": []
    },
    {
      "cell_type": "code",
      "source": [
        "import random\n",
        "import sympy as sp\n",
        "\n",
        "class EllipticCurveElGamal:\n",
        "  def __init__(self, a, b, p, k, B=None):\n",
        "    self.p = p # primer number\n",
        "    self.a = a # alpha\n",
        "    self.b = b # beta\n",
        "\n",
        "    self.k = 24 # max 24\n",
        "    self.PointB = B\n",
        "\n",
        "    self.pointP = None\n",
        "    self.pointQ = None\n",
        "\n",
        "    self.k_koblitz = self.k # chosen small integer\n",
        "\n",
        "    self.char_to_num_dict = {\n",
        "    '0': 0, '1': 1, '2': 2, '3': 3, '4': 4, '5': 5, '6': 6, '7': 7, '8': 8, '9': 9,\n",
        "    'a': 10, 'b': 11, 'c': 12, 'd': 13, 'e': 14, 'f': 15, 'g': 16, 'h': 17,\n",
        "    'i': 18, 'j': 19, 'k': 20, 'l': 21, 'm': 22, 'n': 23, 'o': 24, 'p': 25,\n",
        "    'q': 26, 'r': 27, 's': 28, 't': 29, 'u': 30, 'v': 31, 'w': 32, 'x': 33,\n",
        "    'y': 34, 'z': 35\n",
        "    }\n",
        "\n",
        "    self.num_to_char_dict = {v: k for k, v in self.char_to_num_dict.items()}\n",
        "\n",
        "  def example_function(self):\n",
        "      print(f\"Using persistent k value: {self.k}\")\n",
        "\n",
        "  def elliptic_curve_equation(self, x):\n",
        "    return (x**3 + self.a*x + self.b) % self.p\n",
        "\n",
        "  def is_on_curve(self, x, y):\n",
        "    return self.elliptic_curve_equation(x)  == (y**2) % p\n",
        "\n",
        "  # def generate_random_number(self):\n",
        "  #   self.k = random.randint(1, self.p - 1)\n",
        "  #   return self.k\n",
        "\n",
        "  def generate_random_point(self):\n",
        "    while True:\n",
        "      x = random.randint(1, self.p - 1)\n",
        "      y = random.randint(1, self.p - 1)\n",
        "      if self.is_on_curve(x, y):\n",
        "        return (x, y)\n",
        "\n",
        "  def mod_inverse(self, a, p):\n",
        "      if a == 0:\n",
        "          raise ValueError(\"Inverse does not exist for 0.\")\n",
        "      return pow(a, p - 2, p)\n",
        "\n",
        "  def calculate_slope_mod(self, P, Q):\n",
        "    x1, y1 = P\n",
        "    x2, y2 = Q\n",
        "    if x1 == x2 and y1 == y2:\n",
        "        # Use the formula for point doubling when P == Q\n",
        "        numerator = (3 * x1**2 + self.a) % self.p\n",
        "        denominator = (2 * y1) % self.p\n",
        "    else:\n",
        "        # Use the formula for regular slope when P != Q\n",
        "        numerator = (y2 - y1) % self.p\n",
        "        denominator = (x2 - x1) % self.p\n",
        "\n",
        "    if denominator == 0:\n",
        "        raise ValueError(\"Slope is undefined (denominator is zero).\")\n",
        "\n",
        "    # Compute the slope as (numerator / denominator) % p, which is\n",
        "    # numerator * mod_inverse(denominator, p) % p\n",
        "    slope = (numerator * self.mod_inverse(denominator, self.p)) % self.p\n",
        "    return slope\n",
        "\n",
        "  def calculate_add_xr_mod(self, P, Q, m):\n",
        "    x1, y1 = P\n",
        "    x2, y2 = Q\n",
        "    xr = (m**2 - x1 - x2) % self.p\n",
        "    return xr\n",
        "\n",
        "  def calculate_add_yr_mod(self, P, Q, m, xr):\n",
        "    x1, y1 = P\n",
        "    x2, y2 = Q\n",
        "    yr = (m * (x1 - xr) - y1) % self.p\n",
        "    return yr\n",
        "\n",
        "  def calculate_point_addition(self, P, Q):\n",
        "    m = self.calculate_slope_mod(P, Q)\n",
        "\n",
        "    xr = self.calculate_add_xr_mod(P, Q, m)\n",
        "\n",
        "    yr = self.calculate_add_yr_mod(P, Q, m, xr)\n",
        "\n",
        "    R = (xr, yr)\n",
        "\n",
        "    return R\n",
        "\n",
        "  def calculate_dob_xr_mod(self, P, Q, m):\n",
        "    x1, y1 = P\n",
        "    x2, y2 = Q\n",
        "    xr = (m**2 - (2 * x1)) % self.p\n",
        "    return xr\n",
        "\n",
        "  def calculate_dob_yr_mod(self, P, Q, m, xr):\n",
        "    x1, y1 = P\n",
        "    yr = (m * (x1 - xr) - y1) % self.p\n",
        "    return yr\n",
        "\n",
        "  def calculate_point_doubling(self, P):\n",
        "\n",
        "    m = self.calculate_slope_mod(P, P)\n",
        "\n",
        "    xr = self.calculate_dob_xr_mod(P, P, m)\n",
        "\n",
        "    yr = self.calculate_dob_yr_mod(P, P, m, xr)\n",
        "\n",
        "    R = (xr, yr)\n",
        "\n",
        "    return R\n",
        "\n",
        "  def calculate_point_multiplication(self, P, k):\n",
        "    if k == 0:\n",
        "      return None\n",
        "    elif k == 1:\n",
        "      return P\n",
        "\n",
        "    # Initialize R to be the point at infinity, often represented as None in this context\n",
        "    R = None\n",
        "    Q = P  # Start with Q as P\n",
        "\n",
        "    # Double-and-add method\n",
        "    while k > 0:\n",
        "        if k % 2 == 1:  # If k is odd, add Q to the result\n",
        "            if R is None:\n",
        "                R = Q  # R is the point at infinity initially\n",
        "            else:\n",
        "                R = self.calculate_point_addition(R, Q)\n",
        "        Q = self.calculate_point_addition(Q, Q)  # Double the point Q\n",
        "        k //= 2  # Move to the next bit\n",
        "\n",
        "    return R\n",
        "\n",
        "  def calculate_point_subtract(self, P, Q):\n",
        "    # Find the inverse of point Q (x_Q, y_Q) -> (x_Q, -y_Q mod p)\n",
        "    Q_inv = (Q[0], (-Q[1]) % self.p)\n",
        "\n",
        "    # Subtract P - Q by adding P and Q_inv\n",
        "    R = self.calculate_point_addition(P, Q_inv)\n",
        "\n",
        "    return R\n",
        "\n",
        "  def generate_public_key(self, B, private_key):\n",
        "    public_key = self.calculate_point_multiplication(B, private_key)\n",
        "    return public_key\n",
        "\n",
        "  def enryption(self, M, public_key):\n",
        "    # k = random.randint(1, self.p - 1) # 1 < k < p - 1\n",
        "\n",
        "    C1 = self.calculate_point_multiplication(self.PointB, self.k)\n",
        "    C2 = self.calculate_point_addition(M, self.calculate_point_multiplication(public_key, self.k))\n",
        "\n",
        "    return (C1, C2)\n",
        "\n",
        "  def decryption(self, C, private_key):\n",
        "    C1, C2 = C\n",
        "\n",
        "    _p = self.calculate_point_multiplication(C1, private_key)\n",
        "\n",
        "    plain = self.calculate_point_subtract(C2, _p)\n",
        "\n",
        "    return plain\n",
        "\n",
        "  # Function to map char to num\n",
        "  def char_to_num(self, char):\n",
        "      # Ensure the input is a string; if not, convert it\n",
        "      char = str(char)\n",
        "\n",
        "      # Check if the string exists in the dictionary\n",
        "      if char in self.char_to_num_dict:\n",
        "          return self.char_to_num_dict[char]\n",
        "      else:\n",
        "          raise ValueError(f\"Character '{char}' {type(char)} is not valid. Please use '0-9' or 'a-z'.\")\n",
        "\n",
        "  # Function to map num to char\n",
        "  def num_to_char(self, num):\n",
        "      # Ensure that the input is an integer; if it's a string digit, convert to integer\n",
        "      if isinstance(num, str) and num.isdigit():\n",
        "          num = int(num)\n",
        "\n",
        "      # Now we expect num to be an integer\n",
        "      if isinstance(num, int):\n",
        "          if 0 <= num <= 9:  # Handle digits 0-9 by converting them back to their string representation\n",
        "              return str(num)\n",
        "          elif 10 <= num <= 35:  # Handle letters a-z by converting using the dictionary\n",
        "              return self.num_to_char_dict[num]\n",
        "          else:\n",
        "              raise ValueError(f\"Number '{num}' is out of the valid range (0-35).\")\n",
        "      else:\n",
        "          raise ValueError(f\"Input '{num}' is not valid. Please provide a number in the range 0-35.\")\n",
        "\n",
        "  def message_to_koblitz(self, message):\n",
        "      # Convert the message to a list of characters\n",
        "      chars = list(message)\n",
        "\n",
        "      koblitz = []\n",
        "      for char in chars:\n",
        "          num = self.char_to_num(char)\n",
        "          koblitz.append(num)\n",
        "\n",
        "      return koblitz\n",
        "\n",
        "  def koblitz_to_message(self, koblitz):\n",
        "      message = []\n",
        "      for num in koblitz:\n",
        "          char = self.num_to_char(num)\n",
        "          message.append(char)\n",
        "\n",
        "      return ''.join(message)\n",
        "\n",
        "  def koblitz_encode(self, m, max_attempts=1000):\n",
        "    num = 1  # Start with x = m * k + 1\n",
        "    attempts = 0\n",
        "\n",
        "    while attempts < max_attempts:\n",
        "        x = m * self.k_koblitz + num\n",
        "        rhs = (x**3 + self.a * x + self.b) % self.p  # right-hand side of the elliptic curve equation\n",
        "\n",
        "        # Check if rhs is a quadratic residue modulo p\n",
        "        if sp.is_quad_residue(rhs, self.p):\n",
        "            y = sp.sqrt_mod(rhs, self.p)\n",
        "            return (x, y)  # Return the point (x, y) as a tuple\n",
        "\n",
        "        num += 1  # Increment to check next x value\n",
        "        attempts += 1\n",
        "\n",
        "    # If no valid point is found after max_attempts\n",
        "    raise ValueError(f\"No valid point found after {max_attempts} attempts for message {m}.\")\n",
        "\n",
        "  def koblitz_encode_message(self, message):\n",
        "    encoded_points = []\n",
        "    for char in message:\n",
        "      encoded_point = self.koblitz_encode(char)\n",
        "      encoded_points.append(encoded_point)\n",
        "      # print(f\"Encoded point for character '{char}': {encoded_point}\")\n",
        "\n",
        "    return encoded_points\n",
        "\n",
        "  def koblitz_decode(self, x):\n",
        "    return (x - 1) // self.k\n",
        "\n",
        "  def koblitz_decode_message(self, points):\n",
        "      decoded_message = []\n",
        "      for point in points:\n",
        "          decoded_num = self.koblitz_decode(point[0])  # Decode the x-coordinate\n",
        "          decoded_message.append(decoded_num)\n",
        "          # print(f\"Decoded character for point {point}: {decoded_num}\")\n",
        "      return decoded_message\n",
        "\n",
        "  def encrypt_message(self, message, public_key):\n",
        "        # Encode the message into Koblitz points\n",
        "        koblitz_message = self.message_to_koblitz(message)\n",
        "        encoded_message = self.koblitz_encode_message(koblitz_message)\n",
        "        encrypted_message = []\n",
        "\n",
        "        # Encrypt each Koblitz point\n",
        "        for point in encoded_message:\n",
        "            encrypted_point = self.enryption(point, public_key)\n",
        "            encrypted_message.append(encrypted_point)\n",
        "\n",
        "        return encrypted_message\n",
        "\n",
        "  def decrypt_message(self, encrypted_message, private_key):\n",
        "        decrypted_message = []\n",
        "\n",
        "        # Decrypt each point\n",
        "        for point in encrypted_message:\n",
        "            decrypted_point = self.decryption(point, private_key)\n",
        "            decrypted_message.append(decrypted_point)\n",
        "\n",
        "        # Decode the Koblitz points into the original message\n",
        "        decoded_message = self.koblitz_decode_message(decrypted_message)\n",
        "\n",
        "        return decoded_message"
      ],
      "metadata": {
        "id": "RFrNMjWlikqF"
      },
      "execution_count": 789,
      "outputs": []
    },
    {
      "cell_type": "code",
      "source": [
        "random_num = random.randint(1, p - 1)\n",
        "print(f'random number: {random_num}')\n",
        "\n",
        "elliptic1 = EllipticCurveElGamal(a, b, p, random_num)\n",
        "\n",
        "# k = elliptic1.generate_random_number()\n",
        "# print(f'k: {k}')\n",
        "\n",
        "basis = elliptic1.generate_random_point()\n",
        "print(f'basis: {basis}')\n",
        "\n",
        "elliptic1.PointB = basis\n",
        "\n",
        "print(f'is basis on curve: {elliptic1.is_on_curve(basis[0], basis[1])}')"
      ],
      "metadata": {
        "colab": {
          "base_uri": "https://localhost:8080/"
        },
        "id": "kiRnC-vbjQbA",
        "outputId": "69d88fae-02f0-4e22-8be9-4ade16d046bd"
      },
      "execution_count": 790,
      "outputs": [
        {
          "output_type": "stream",
          "name": "stdout",
          "text": [
            "random number: 563\n",
            "basis: (538, 77)\n",
            "is basis on curve: True\n"
          ]
        }
      ]
    },
    {
      "cell_type": "code",
      "source": [
        "elliptic1.example_function()\n",
        "elliptic1.example_function()"
      ],
      "metadata": {
        "colab": {
          "base_uri": "https://localhost:8080/"
        },
        "id": "RTXu4bowzFhw",
        "outputId": "7603849b-3bcd-42af-cc5c-2b7f8b3a387a"
      },
      "execution_count": 791,
      "outputs": [
        {
          "output_type": "stream",
          "name": "stdout",
          "text": [
            "Using persistent k value: 24\n",
            "Using persistent k value: 24\n"
          ]
        }
      ]
    },
    {
      "cell_type": "code",
      "source": [
        "elliptic1.generate_random_point()"
      ],
      "metadata": {
        "colab": {
          "base_uri": "https://localhost:8080/"
        },
        "id": "sSOHP6B-tL1k",
        "outputId": "48e5ce22-a49e-4c9f-c36d-c2b41639ca2a"
      },
      "execution_count": 792,
      "outputs": [
        {
          "output_type": "execute_result",
          "data": {
            "text/plain": [
              "(44, 439)"
            ]
          },
          "metadata": {},
          "execution_count": 792
        }
      ]
    },
    {
      "cell_type": "code",
      "source": [
        "elliptic1.calculate_slope_mod((2, 4), (5, 9))"
      ],
      "metadata": {
        "colab": {
          "base_uri": "https://localhost:8080/"
        },
        "id": "rTdDoG-dmPbW",
        "outputId": "d88f3ca3-d201-4dad-ba7b-f3a653f3f336"
      },
      "execution_count": 793,
      "outputs": [
        {
          "output_type": "execute_result",
          "data": {
            "text/plain": [
              "252"
            ]
          },
          "metadata": {},
          "execution_count": 793
        }
      ]
    },
    {
      "cell_type": "code",
      "source": [
        "elliptic1.calculate_point_addition((2, 4), (5, 9))"
      ],
      "metadata": {
        "colab": {
          "base_uri": "https://localhost:8080/"
        },
        "id": "_8_ilRjbnL3w",
        "outputId": "25e18872-46c2-4eca-b5c1-9e95a0973304"
      },
      "execution_count": 794,
      "outputs": [
        {
          "output_type": "execute_result",
          "data": {
            "text/plain": [
              "(413, 62)"
            ]
          },
          "metadata": {},
          "execution_count": 794
        }
      ]
    },
    {
      "cell_type": "code",
      "source": [
        "elliptic1.calculate_point_doubling((2, 4))"
      ],
      "metadata": {
        "colab": {
          "base_uri": "https://localhost:8080/"
        },
        "id": "dKP-QXtlnzCP",
        "outputId": "e77e3b2d-9d63-4eae-f640-16d3df1d77cf"
      },
      "execution_count": 795,
      "outputs": [
        {
          "output_type": "execute_result",
          "data": {
            "text/plain": [
              "(479, 185)"
            ]
          },
          "metadata": {},
          "execution_count": 795
        }
      ]
    },
    {
      "cell_type": "code",
      "source": [
        "elliptic1.calculate_point_multiplication((2, 4), 5)"
      ],
      "metadata": {
        "colab": {
          "base_uri": "https://localhost:8080/"
        },
        "id": "2RQsH92ko5O_",
        "outputId": "6b5b1448-167c-4944-8436-930ccb86bdba"
      },
      "execution_count": 796,
      "outputs": [
        {
          "output_type": "execute_result",
          "data": {
            "text/plain": [
              "(659, 616)"
            ]
          },
          "metadata": {},
          "execution_count": 796
        }
      ]
    },
    {
      "cell_type": "code",
      "source": [
        "private_key = 200000\n",
        "public_key = elliptic1.generate_public_key(basis, private_key)\n",
        "\n",
        "print(f'private key: {private_key}')\n",
        "print(f'public key: {public_key}')"
      ],
      "metadata": {
        "colab": {
          "base_uri": "https://localhost:8080/"
        },
        "id": "GDJtADXLpIvx",
        "outputId": "a2c2101f-f767-4f00-f0ba-6a4c888a7e64"
      },
      "execution_count": 797,
      "outputs": [
        {
          "output_type": "stream",
          "name": "stdout",
          "text": [
            "private key: 200000\n",
            "public key: (395, 610)\n"
          ]
        }
      ]
    },
    {
      "cell_type": "code",
      "source": [
        "message = (385, 423)\n",
        "\n",
        "cipher = elliptic1.enryption(message, public_key)\n",
        "\n",
        "decrypted_message = elliptic1.decryption(cipher, private_key)\n",
        "\n",
        "print(f'message: {message}')\n",
        "print(f'cipher: {cipher}')\n",
        "print(f'decrypted message: {decrypted_message}')"
      ],
      "metadata": {
        "colab": {
          "base_uri": "https://localhost:8080/"
        },
        "id": "F22RAbB7qXQr",
        "outputId": "8f4ed1f7-9f8e-4bf2-bf68-17df82164157"
      },
      "execution_count": 798,
      "outputs": [
        {
          "output_type": "stream",
          "name": "stdout",
          "text": [
            "message: (385, 423)\n",
            "cipher: ((63, 62), (389, 605))\n",
            "decrypted message: (385, 423)\n"
          ]
        }
      ]
    },
    {
      "cell_type": "code",
      "source": [
        "message_to_koblitz = elliptic1.message_to_koblitz(\"012345678910\")\n",
        "print(message_to_koblitz)"
      ],
      "metadata": {
        "colab": {
          "base_uri": "https://localhost:8080/"
        },
        "id": "EBu7uJI9p5Hk",
        "outputId": "d757fc3b-48ad-41af-9492-e780e235754e"
      },
      "execution_count": 799,
      "outputs": [
        {
          "output_type": "stream",
          "name": "stdout",
          "text": [
            "[0, 1, 2, 3, 4, 5, 6, 7, 8, 9, 1, 0]\n"
          ]
        }
      ]
    },
    {
      "cell_type": "code",
      "source": [
        "message_point = elliptic1.koblitz_encode_message(message_to_koblitz)\n",
        "print(message_point)"
      ],
      "metadata": {
        "colab": {
          "base_uri": "https://localhost:8080/"
        },
        "id": "trcM1FRRsKjx",
        "outputId": "15a1730b-4408-42b6-a615-d6ec38faa234"
      },
      "execution_count": 800,
      "outputs": [
        {
          "output_type": "stream",
          "name": "stdout",
          "text": [
            "[(1, 375), (26, 312), (50, 136), (74, 199), (97, 284), (121, 39), (147, 175), (169, 132), (195, 57), (217, 247), (26, 312), (1, 375)]\n"
          ]
        }
      ]
    },
    {
      "cell_type": "code",
      "source": [
        "point_message = elliptic1.koblitz_decode_message(message_point)\n",
        "print(point_message)"
      ],
      "metadata": {
        "colab": {
          "base_uri": "https://localhost:8080/"
        },
        "id": "5HxClzGBswJH",
        "outputId": "f65d1113-47de-4aae-cce1-77603e59df4c"
      },
      "execution_count": 801,
      "outputs": [
        {
          "output_type": "stream",
          "name": "stdout",
          "text": [
            "[0, 1, 2, 3, 4, 5, 6, 7, 8, 9, 1, 0]\n"
          ]
        }
      ]
    },
    {
      "cell_type": "code",
      "source": [
        "koblitz_to_message = elliptic1.koblitz_to_message(point_message)\n",
        "print(koblitz_to_message)"
      ],
      "metadata": {
        "colab": {
          "base_uri": "https://localhost:8080/"
        },
        "id": "R7MA12p4qCEM",
        "outputId": "c944ef24-0d52-4436-b85b-b1f61ee0c398"
      },
      "execution_count": 802,
      "outputs": [
        {
          "output_type": "stream",
          "name": "stdout",
          "text": [
            "012345678910\n"
          ]
        }
      ]
    },
    {
      "cell_type": "markdown",
      "source": [],
      "metadata": {
        "id": "o2OfpLAFtEiv"
      }
    },
    {
      "cell_type": "code",
      "source": [
        "plaintexts = \"loremipsum\"\n",
        "\n",
        "ciphertexts = elliptic1.encrypt_message(plaintexts, public_key)\n",
        "print(ciphertexts)\n",
        "\n",
        "decrypted_message = elliptic1.decrypt_message(ciphertexts, private_key)\n",
        "print(decrypted_message)\n",
        "\n",
        "decoded_dec_msg = elliptic1.koblitz_to_message(decrypted_message)\n",
        "print(decoded_dec_msg)"
      ],
      "metadata": {
        "colab": {
          "base_uri": "https://localhost:8080/"
        },
        "id": "FalHxWlQtE5j",
        "outputId": "956a4be2-317e-447f-f01d-e747b646e188"
      },
      "execution_count": 803,
      "outputs": [
        {
          "output_type": "stream",
          "name": "stdout",
          "text": [
            "[((63, 62), (666, 666)), ((63, 62), (13, 129)), ((63, 62), (254, 504)), ((63, 62), (64, 738)), ((63, 62), (45, 654)), ((63, 62), (238, 696)), ((63, 62), (246, 698)), ((63, 62), (317, 181)), ((63, 62), (354, 153)), ((63, 62), (45, 654))]\n",
            "[21, 24, 27, 14, 22, 18, 25, 28, 30, 22]\n",
            "loremipsum\n"
          ]
        }
      ]
    }
  ]
}