{
  "nbformat": 4,
  "nbformat_minor": 0,
  "metadata": {
    "colab": {
      "provenance": [],
      "authorship_tag": "ABX9TyNb4lAeydcGNYf0swdPpgwn",
      "include_colab_link": true
    },
    "kernelspec": {
      "name": "python3",
      "display_name": "Python 3"
    },
    "language_info": {
      "name": "python"
    }
  },
  "cells": [
    {
      "cell_type": "markdown",
      "metadata": {
        "id": "view-in-github",
        "colab_type": "text"
      },
      "source": [
        "<a href=\"https://colab.research.google.com/github/Anjasfedo/Code-as-a-Cryptography/blob/main/eceg_koblitz.ipynb\" target=\"_parent\"><img src=\"https://colab.research.google.com/assets/colab-badge.svg\" alt=\"Open In Colab\"/></a>"
      ]
    },
    {
      "cell_type": "markdown",
      "source": [
        "# Elliptic Curve Parameter"
      ],
      "metadata": {
        "id": "ReBv5YcLe7t4"
      }
    },
    {
      "cell_type": "code",
      "source": [
        "# Parameters\n",
        "p = 751  # prime modulus\n",
        "k = 20    # chosen small integer\n",
        "a = -1    # coefficient of x in the elliptic curve\n",
        "b = 188    # constant in the elliptic curve"
      ],
      "metadata": {
        "id": "m9_bpHIPe-zS"
      },
      "execution_count": null,
      "outputs": []
    },
    {
      "cell_type": "markdown",
      "source": [
        "# Koblitz Method"
      ],
      "metadata": {
        "id": "MHgtN_FRdsSx"
      }
    },
    {
      "cell_type": "markdown",
      "source": [
        "## Char to Num\n",
        "represent 1 - 9 and a = 10 ..... z = 35"
      ],
      "metadata": {
        "id": "hLLc4NmIeJZA"
      }
    },
    {
      "cell_type": "code",
      "source": [
        "# Manually create dictionaries for char-to-num and num-to-char mappings\n",
        "char_to_num_dict = {\n",
        "    '0': 10, '1': 11,\n",
        "    'a': 12, 'b': 13, 'c': 14, 'd': 15, 'e': 16, 'f': 17, 'g': 18, 'h': 19,\n",
        "    'i': 20, 'j': 21, 'k': 22, 'l': 23, 'm': 24, 'n': 25, 'o': 26, 'p': 27,\n",
        "    'q': 28, 'r': 29, 's': 30, 't': 31, 'u': 32, 'v': 33, 'w': 34, 'x': 35\n",
        "}\n",
        "\n",
        "# Reverse dictionary for num-to-char mapping\n",
        "num_to_char_dict = {v: k for k, v in char_to_num_dict.items()}\n",
        "\n",
        "# Function to map char to num\n",
        "def char_to_num(char):\n",
        "    if char in char_to_num_dict:\n",
        "        return char_to_num_dict[char]\n",
        "    else:\n",
        "        raise ValueError(f\"Character '{char}' is not valid. Please use '0-1' or 'a-x'.\")\n",
        "\n",
        "# Function to map num to char\n",
        "def num_to_char(num):\n",
        "    if num in num_to_char_dict:\n",
        "        return num_to_char_dict[num]\n",
        "    else:\n",
        "        raise ValueError(f\"Number '{num}' is not valid. Please use numbers in the range 10-35.\")\n",
        "\n",
        "def message_to_koblitz(message):\n",
        "    # Convert the message to a list of characters\n",
        "    chars = list(message)\n",
        "\n",
        "    koblitz = []\n",
        "    for char in chars:\n",
        "        num = char_to_num(char)\n",
        "        koblitz.append(num)\n",
        "\n",
        "    return koblitz\n",
        "\n",
        "def koblitz_to_message(koblitz):\n",
        "    message = []\n",
        "    for num in koblitz:\n",
        "        char = num_to_char(num)\n",
        "        message.append(char)\n",
        "\n",
        "    return ''.join(message)\n",
        "\n",
        "# Test mapping from char to num\n",
        "chars = '01ax'\n",
        "\n",
        "koblitz_message = message_to_koblitz(chars)\n",
        "print(\"Koblitz Message:\", koblitz_message)\n",
        "\n",
        "message = koblitz_to_message(koblitz_message)\n",
        "print(\"Message:\", message)"
      ],
      "metadata": {
        "colab": {
          "base_uri": "https://localhost:8080/"
        },
        "id": "I6PzvAoceRcg",
        "outputId": "8cac385a-a3c1-4f90-cd66-91a5c06b8db6"
      },
      "execution_count": null,
      "outputs": [
        {
          "output_type": "stream",
          "name": "stdout",
          "text": [
            "Koblitz Message: [10, 11, 12, 35]\n",
            "Message: 01ax\n"
          ]
        }
      ]
    },
    {
      "cell_type": "markdown",
      "source": [
        "## Koblitz Encoding"
      ],
      "metadata": {
        "id": "MZqttQERe2Wk"
      }
    },
    {
      "cell_type": "code",
      "execution_count": null,
      "metadata": {
        "colab": {
          "base_uri": "https://localhost:8080/"
        },
        "id": "PA1VkrRqdl5t",
        "outputId": "485e0db0-0cce-4014-951a-8b1d4af8e35a"
      },
      "outputs": [
        {
          "output_type": "stream",
          "name": "stdout",
          "text": [
            "Encoded point for character '10': (201, 5)\n",
            "Encoded point for character '11': (224, 248)\n",
            "Encoded point for character '12': (241, 230)\n",
            "Encoded point for character '35': (701, 203)\n"
          ]
        },
        {
          "output_type": "execute_result",
          "data": {
            "text/plain": [
              "[(201, 5), (224, 248), (241, 230), (701, 203)]"
            ]
          },
          "metadata": {},
          "execution_count": 1602
        }
      ],
      "source": [
        "import sympy as sp\n",
        "\n",
        "# Elliptic curve equation: y^2 = x^3 + ax + b mod p\n",
        "def koblitz_encode(m, max_attempts=1000):\n",
        "    num = 1  # Start with x = m * k + 1\n",
        "    attempts = 0\n",
        "\n",
        "    while attempts < max_attempts:\n",
        "        x = m * k + num\n",
        "        rhs = (x**3 + a * x + b) % p  # right-hand side of the elliptic curve equation\n",
        "\n",
        "        # Check if rhs is a quadratic residue modulo p\n",
        "        if sp.is_quad_residue(rhs, p):\n",
        "            y = sp.sqrt_mod(rhs, p)\n",
        "            return (x, y)  # Return the point (x, y) as a tuple\n",
        "\n",
        "        num += 1  # Increment to check next x value\n",
        "        attempts += 1\n",
        "\n",
        "    # If no valid point is found after max_attempts\n",
        "    raise ValueError(f\"No valid point found after {max_attempts} attempts for message {m}.\")\n",
        "\n",
        "def koblitz_encode_message(message):\n",
        "  encoded_points = []\n",
        "  for char in message:\n",
        "    encoded_point = koblitz_encode(char)\n",
        "    encoded_points.append(encoded_point)\n",
        "    print(f\"Encoded point for character '{char}': {encoded_point}\")\n",
        "\n",
        "  return encoded_points\n",
        "\n",
        "encoded_points = koblitz_encode_message(koblitz_message)\n",
        "encoded_points"
      ]
    },
    {
      "cell_type": "markdown",
      "source": [
        "## Koblitz Decoding"
      ],
      "metadata": {
        "id": "RuXzvVpsgw4p"
      }
    },
    {
      "cell_type": "code",
      "source": [
        "# Decoding: m = (x - 1) / k\n",
        "def koblitz_decode(x):\n",
        "    return (x - 1) // k\n",
        "\n",
        "def koblitz_decode_message(points):\n",
        "    decoded_message = []\n",
        "    for point in points:\n",
        "        decoded_num = koblitz_decode(point[0])  # Decode the x-coordinate\n",
        "        decoded_message.append(decoded_num)\n",
        "        print(f\"Decoded character for point {point}: {decoded_num}\")\n",
        "    return decoded_message\n",
        "\n",
        "# Output the result\n",
        "decoded_points = koblitz_decode_message(encoded_points)\n",
        "decoded_points"
      ],
      "metadata": {
        "colab": {
          "base_uri": "https://localhost:8080/"
        },
        "id": "AgplqtYTfH7a",
        "outputId": "fb8324df-9485-4c67-ce8b-a8a10526476a"
      },
      "execution_count": null,
      "outputs": [
        {
          "output_type": "stream",
          "name": "stdout",
          "text": [
            "Decoded character for point (201, 5): 10\n",
            "Decoded character for point (224, 248): 11\n",
            "Decoded character for point (241, 230): 12\n",
            "Decoded character for point (701, 203): 35\n"
          ]
        },
        {
          "output_type": "execute_result",
          "data": {
            "text/plain": [
              "[10, 11, 12, 35]"
            ]
          },
          "metadata": {},
          "execution_count": 1603
        }
      ]
    },
    {
      "cell_type": "markdown",
      "source": [
        "## Represented Integer to Char"
      ],
      "metadata": {
        "id": "YPC_ucoDg6l5"
      }
    },
    {
      "cell_type": "code",
      "source": [
        "message = koblitz_to_message(decoded_points)\n",
        "message"
      ],
      "metadata": {
        "colab": {
          "base_uri": "https://localhost:8080/",
          "height": 35
        },
        "id": "uoSQ2u_dgv3F",
        "outputId": "b9543f69-0c36-4792-ef74-bc117b4f7d88"
      },
      "execution_count": null,
      "outputs": [
        {
          "output_type": "execute_result",
          "data": {
            "text/plain": [
              "'01ax'"
            ],
            "application/vnd.google.colaboratory.intrinsic+json": {
              "type": "string"
            }
          },
          "metadata": {},
          "execution_count": 1604
        }
      ]
    },
    {
      "cell_type": "markdown",
      "source": [
        "# Elliptic Curve El Gamal Class"
      ],
      "metadata": {
        "id": "Q2Xkcpxiii3T"
      }
    },
    {
      "cell_type": "code",
      "source": [
        "# Parameters\n",
        "p = 11  # prime modulus\n",
        "# k = 20    # chosen small integer\n",
        "a = 1    # coefficient of x in the elliptic curve\n",
        "b = 6    # constant in the elliptic curve\n",
        "# B = (2, 4)"
      ],
      "metadata": {
        "id": "Jbw3QL7Ckg0F"
      },
      "execution_count": null,
      "outputs": []
    },
    {
      "cell_type": "code",
      "source": [
        "# Parameters\n",
        "p = 751  # prime modulus\n",
        "a = -1    # coefficient of x in the elliptic curve\n",
        "b = 188    # constant in the elliptic curve"
      ],
      "metadata": {
        "id": "ngVMe1lFtH4R"
      },
      "execution_count": null,
      "outputs": []
    },
    {
      "cell_type": "code",
      "source": [
        "import random\n",
        "import sympy as sp\n",
        "import json\n",
        "import base64\n",
        "\n",
        "class EllipticCurveElGamal:\n",
        "  def __init__(self, a, b, p, k, B=None):\n",
        "    self.p = p # primer number\n",
        "    self.a = a # alpha\n",
        "    self.b = b # beta\n",
        "\n",
        "    self.k = k\n",
        "    self.PointB = B\n",
        "\n",
        "    self.pointP = None\n",
        "    self.pointQ = None\n",
        "\n",
        "\n",
        "    self.char_to_num_dict = {\n",
        "    '0': 0, '1': 1, '2': 2, '3': 3, '4': 4, '5': 5, '6': 6, '7': 7, '8': 8, '9': 9,\n",
        "    'a': 10, 'b': 11, 'c': 12, 'd': 13, 'e': 14, 'f': 15, 'g': 16, 'h': 17,\n",
        "    'i': 18, 'j': 19, 'k': 20, 'l': 21, 'm': 22, 'n': 23, 'o': 24, 'p': 25,\n",
        "    'q': 26, 'r': 27, 's': 28, 't': 29, 'u': 30, 'v': 31, 'w': 32, 'x': 33,\n",
        "    'y': 34, 'z': 35, '.': 36, '#': 37, '*': 38, '/': 39, '-': 40\n",
        "    }\n",
        "\n",
        "    self.num_to_char_dict = {v: k for k, v in self.char_to_num_dict.items()}\n",
        "\n",
        "    self.k_koblitz = max(self.char_to_num_dict.values()) + 1  # max 24 for 35 char\n",
        "\n",
        "  def example_function(self):\n",
        "      print(f\"Using persistent k value: {self.k}\")\n",
        "\n",
        "  def elliptic_curve_equation(self, x):\n",
        "    return (x**3 + self.a*x + self.b) % self.p\n",
        "\n",
        "  def is_on_curve(self, x, y):\n",
        "    return self.elliptic_curve_equation(x)  == (y**2) % p\n",
        "\n",
        "  # def generate_random_number(self):\n",
        "  #   self.k = random.randint(1, self.p - 1)\n",
        "  #   return self.k\n",
        "\n",
        "  def generate_random_point(self):\n",
        "    while True:\n",
        "      x = random.randint(1, self.p - 1)\n",
        "      y = random.randint(1, self.p - 1)\n",
        "      if self.is_on_curve(x, y):\n",
        "        return (x, y)\n",
        "\n",
        "  def mod_inverse(self, a, p):\n",
        "      if a == 0:\n",
        "          raise ValueError(\"Inverse does not exist for 0.\")\n",
        "      return pow(a, p - 2, p)\n",
        "\n",
        "  def calculate_slope_mod(self, P, Q):\n",
        "    x1, y1 = P\n",
        "    x2, y2 = Q\n",
        "    if x1 == x2 and y1 == y2:\n",
        "        # Use the formula for point doubling when P == Q\n",
        "        numerator = (3 * x1**2 + self.a) % self.p\n",
        "        denominator = (2 * y1) % self.p\n",
        "    else:\n",
        "        # Use the formula for regular slope when P != Q\n",
        "        numerator = (y2 - y1) % self.p\n",
        "        denominator = (x2 - x1) % self.p\n",
        "\n",
        "    if denominator == 0:\n",
        "        raise ValueError(\"Slope is undefined (denominator is zero).\")\n",
        "\n",
        "    # Compute the slope as (numerator / denominator) % p, which is\n",
        "    # numerator * mod_inverse(denominator, p) % p\n",
        "    slope = (numerator * self.mod_inverse(denominator, self.p)) % self.p\n",
        "    return slope\n",
        "\n",
        "  def calculate_add_xr_mod(self, P, Q, m):\n",
        "    x1, y1 = P\n",
        "    x2, y2 = Q\n",
        "    xr = (m**2 - x1 - x2) % self.p\n",
        "    return xr\n",
        "\n",
        "  def calculate_add_yr_mod(self, P, Q, m, xr):\n",
        "    x1, y1 = P\n",
        "    x2, y2 = Q\n",
        "    yr = (m * (x1 - xr) - y1) % self.p\n",
        "    return yr\n",
        "\n",
        "  def calculate_point_addition(self, P, Q):\n",
        "    m = self.calculate_slope_mod(P, Q)\n",
        "\n",
        "    xr = self.calculate_add_xr_mod(P, Q, m)\n",
        "\n",
        "    yr = self.calculate_add_yr_mod(P, Q, m, xr)\n",
        "\n",
        "    R = (xr, yr)\n",
        "\n",
        "    return R\n",
        "\n",
        "  def calculate_dob_xr_mod(self, P, Q, m):\n",
        "    x1, y1 = P\n",
        "    x2, y2 = Q\n",
        "    xr = (m**2 - (2 * x1)) % self.p\n",
        "    return xr\n",
        "\n",
        "  def calculate_dob_yr_mod(self, P, Q, m, xr):\n",
        "    x1, y1 = P\n",
        "    yr = (m * (x1 - xr) - y1) % self.p\n",
        "    return yr\n",
        "\n",
        "  def calculate_point_doubling(self, P):\n",
        "\n",
        "    m = self.calculate_slope_mod(P, P)\n",
        "\n",
        "    xr = self.calculate_dob_xr_mod(P, P, m)\n",
        "\n",
        "    yr = self.calculate_dob_yr_mod(P, P, m, xr)\n",
        "\n",
        "    R = (xr, yr)\n",
        "\n",
        "    return R\n",
        "\n",
        "  def calculate_point_multiplication(self, P, k):\n",
        "    if k == 0:\n",
        "      return None\n",
        "    elif k == 1:\n",
        "      return P\n",
        "\n",
        "    # Initialize R to be the point at infinity, often represented as None in this context\n",
        "    R = None\n",
        "    Q = P  # Start with Q as P\n",
        "\n",
        "    # Double-and-add method\n",
        "    while k > 0:\n",
        "        if k % 2 == 1:  # If k is odd, add Q to the result\n",
        "            if R is None:\n",
        "                R = Q  # R is the point at infinity initially\n",
        "            else:\n",
        "                R = self.calculate_point_addition(R, Q)\n",
        "        Q = self.calculate_point_addition(Q, Q)  # Double the point Q\n",
        "        k //= 2  # Move to the next bit\n",
        "\n",
        "    return R\n",
        "\n",
        "  def calculate_point_subtract(self, P, Q):\n",
        "    # Find the inverse of point Q (x_Q, y_Q) -> (x_Q, -y_Q mod p)\n",
        "    Q_inv = (Q[0], (-Q[1]) % self.p)\n",
        "\n",
        "    # Subtract P - Q by adding P and Q_inv\n",
        "    R = self.calculate_point_addition(P, Q_inv)\n",
        "\n",
        "    return R\n",
        "\n",
        "  def generate_public_key(self, B, private_key):\n",
        "    public_key = self.calculate_point_multiplication(B, private_key)\n",
        "    return public_key\n",
        "\n",
        "  def enryption(self, M, public_key):\n",
        "    # k = random.randint(1, self.p - 1) # 1 < k < p - 1\n",
        "\n",
        "    C1 = self.calculate_point_multiplication(self.PointB, self.k)\n",
        "    C2 = self.calculate_point_addition(M, self.calculate_point_multiplication(public_key, self.k))\n",
        "\n",
        "    return (C1, C2)\n",
        "\n",
        "  def decryption(self, C, private_key):\n",
        "    C1, C2 = C\n",
        "\n",
        "    _p = self.calculate_point_multiplication(C1, private_key)\n",
        "\n",
        "    plain = self.calculate_point_subtract(C2, _p)\n",
        "\n",
        "    return plain\n",
        "\n",
        "  # Function to map char to num\n",
        "  def char_to_num(self, char):\n",
        "      # Ensure the input is a string; if not, convert it\n",
        "      char = str(char)\n",
        "\n",
        "      # Check if the string exists in the dictionary\n",
        "      if char in self.char_to_num_dict:\n",
        "          return self.char_to_num_dict[char]\n",
        "      else:\n",
        "          # Handle the expanded character set (0-40)\n",
        "          raise ValueError(f\"Character '{char}' is not valid. Please use '0-9', 'a-z', or other valid characters.\")\n",
        "\n",
        "\n",
        "  # Function to map num to char\n",
        "  def num_to_char(self, num):\n",
        "      # Ensure that the input is an integer; if it's a string digit, convert to integer\n",
        "      if isinstance(num, str) and num.isdigit():\n",
        "          num = int(num)\n",
        "\n",
        "      # Now we expect num to be an integer\n",
        "      if isinstance(num, int):\n",
        "          if num in self.num_to_char_dict:  # Handle numbers 0-40 by converting them using the dictionary\n",
        "              return self.num_to_char_dict[num]\n",
        "          else:\n",
        "              raise ValueError(f\"Number '{num}' is out of the valid range (0-40).\")\n",
        "      else:\n",
        "          raise ValueError(f\"Input '{num}' is not valid. Please provide a valid number.\")\n",
        "\n",
        "\n",
        "  def message_to_koblitz(self, message):\n",
        "      # Convert the message to a list of characters\n",
        "      chars = list(message)\n",
        "\n",
        "      koblitz = []\n",
        "      for char in chars:\n",
        "          num = self.char_to_num(char)\n",
        "          koblitz.append(num)\n",
        "\n",
        "      return koblitz\n",
        "\n",
        "  def koblitz_to_message(self, koblitz):\n",
        "      message = []\n",
        "      for num in koblitz:\n",
        "          char = self.num_to_char(num)\n",
        "          message.append(char)\n",
        "\n",
        "      return ''.join(message)\n",
        "\n",
        "  def koblitz_encode(self, m, max_attempts=1000):\n",
        "        m = m % self.k_koblitz  # Ensure the number is always within the valid range [0, k_koblitz)\n",
        "        num = 1  # Start with x = m * k_koblitz + 1\n",
        "        attempts = 0\n",
        "\n",
        "        while attempts < max_attempts:\n",
        "            x = m * self.k_koblitz + num\n",
        "            rhs = (x ** 3 + self.a * x + self.b) % self.p  # Right-hand side of the elliptic curve equation\n",
        "\n",
        "            # Check if rhs is a quadratic residue modulo p\n",
        "            if sp.is_quad_residue(rhs, self.p):\n",
        "                y = sp.sqrt_mod(rhs, self.p)\n",
        "                return (x, y)  # Return the point (x, y) as a tuple\n",
        "\n",
        "            num += 1  # Increment to check the next x value\n",
        "            attempts += 1\n",
        "\n",
        "        # If no valid point is found after max_attempts\n",
        "        raise ValueError(f\"No valid point found after {max_attempts} attempts for message {m}.\")\n",
        "\n",
        "  def koblitz_encode_message(self, message):\n",
        "    encoded_points = []\n",
        "    for char in message:\n",
        "      encoded_point = self.koblitz_encode(char)\n",
        "      encoded_points.append(encoded_point)\n",
        "      # print(f\"Encoded point for character '{char}': {encoded_point}\")\n",
        "\n",
        "    return encoded_points\n",
        "\n",
        "  def koblitz_decode(self, x):\n",
        "        m = (x - 1) // self.k_koblitz\n",
        "        m = m % self.k_koblitz  # Ensure decoded number is within the valid range\n",
        "        return m\n",
        "\n",
        "  def koblitz_decode_message(self, points):\n",
        "      decoded_message = []\n",
        "      for point in points:\n",
        "          decoded_num = self.koblitz_decode(point[0])  # Decode the x-coordinate\n",
        "          decoded_message.append(decoded_num)\n",
        "          # print(f\"Decoded character for point {point}: {decoded_num}\")\n",
        "      return decoded_message\n",
        "\n",
        "  def split_number(self, number):\n",
        "        \"\"\"Split a large number into chunks within the range 0-40\"\"\"\n",
        "        chunks = []\n",
        "        while number > 0:\n",
        "            chunks.append(number % self.k_koblitz)  # Split off the last digit in base k_koblitz (41)\n",
        "            number //= self.k_koblitz  # Shift to the next chunk\n",
        "        return chunks[::-1]  # Return chunks in reverse order (most significant first)\n",
        "\n",
        "  def combine_chunks(self, chunks):\n",
        "        \"\"\"Combine chunks back into the original number\"\"\"\n",
        "        number = 0\n",
        "        for chunk in chunks:\n",
        "            number = number * self.k_koblitz + chunk  # Combine chunks back using base k_koblitz (41)\n",
        "        return number\n",
        "\n",
        "  def encrypt_message(self, message, public_key):\n",
        "        # Step 1: Convert the message into Koblitz points\n",
        "        koblitz_message = self.message_to_koblitz(message)\n",
        "        encoded_message = self.koblitz_encode_message(koblitz_message)\n",
        "\n",
        "        encrypted_points = []\n",
        "\n",
        "        # Step 2: Encrypt each Koblitz point using elliptic curve encryption\n",
        "        for point in encoded_message:\n",
        "            encrypted_point = self.enryption(point, public_key)\n",
        "            print(encrypted_point)\n",
        "            # Use only the x-coordinate of C2 for encryption (C2 is the second point in the encryption tuple)\n",
        "            encrypted_x_coord = encrypted_point[1][0]  # C2's x-coordinate\n",
        "\n",
        "            # Step 3: Split the x-coordinate into smaller chunks (if it's a large number)\n",
        "            split_chunks = self.split_number(encrypted_x_coord)\n",
        "\n",
        "            # Step 4: Convert each chunk to characters and append to encrypted_points\n",
        "            encrypted_points.extend([self.num_to_char(chunk) for chunk in split_chunks])\n",
        "        # Step 5: Join all encrypted characters into a single string and return it as ciphertext\n",
        "        return ''.join(encrypted_points)\n",
        "\n",
        "  def decrypt_message(self, encrypted_message, private_key):\n",
        "    # Step 1: Convert the encrypted message (characters) back to individual numbers\n",
        "    encrypted_numbers = [self.char_to_num(char) for char in encrypted_message]\n",
        "    print(encrypted_numbers)\n",
        "\n",
        "    # Step 2: Group numbers into chunks and combine them back into x-coordinates\n",
        "    combined_numbers = []  # This will store combined x-coordinates\n",
        "    for i in range(0, len(encrypted_numbers), 2):  # Assuming 2 chunks per x-coordinate\n",
        "        combined_number = self.combine_chunks(encrypted_numbers[i:i+2])  # Combine chunks back into the number\n",
        "        combined_numbers.append(combined_number)\n",
        "\n",
        "    print(combined_numbers)\n",
        "\n",
        "    points = []\n",
        "    for num in combined_numbers:\n",
        "        try:\n",
        "            point = self.koblitz_encode(num)  # Recover the original point using Koblitz encoding\n",
        "            points.append(point)\n",
        "        except ValueError as e:\n",
        "            print(f\"Error decoding point: {e}\")\n",
        "\n",
        "    decrypted_points = []\n",
        "\n",
        "    # Step 3: Decrypt each Koblitz point using elliptic curve decryption\n",
        "    for point in points:\n",
        "        decrypted_point = self.decryption(point, private_key)\n",
        "        decrypted_points.append(decrypted_point)\n",
        "\n",
        "    # Step 4: Decode the decrypted Koblitz points into the original numeric values\n",
        "    decoded_koblitz_points = self.koblitz_decode_message(decrypted_points)\n",
        "\n",
        "    # Step 5: Convert the numeric Koblitz points back to characters and return the original message\n",
        "    return self.koblitz_to_message(decoded_koblitz_points)\n"
      ],
      "metadata": {
        "id": "RFrNMjWlikqF"
      },
      "execution_count": null,
      "outputs": []
    },
    {
      "cell_type": "code",
      "source": [
        "random_num = random.randint(1, p - 1)\n",
        "print(f'random number: {random_num}')\n",
        "\n",
        "elliptic1 = EllipticCurveElGamal(a, b, p, random_num)\n",
        "\n",
        "# k = elliptic1.generate_random_number()\n",
        "# print(f'k: {k}')\n",
        "\n",
        "basis = elliptic1.generate_random_point()\n",
        "print(f'basis: {basis}')\n",
        "\n",
        "elliptic1.PointB = basis\n",
        "\n",
        "print(f'is basis on curve: {elliptic1.is_on_curve(basis[0], basis[1])}')"
      ],
      "metadata": {
        "colab": {
          "base_uri": "https://localhost:8080/"
        },
        "id": "kiRnC-vbjQbA",
        "outputId": "299be2e6-c94e-4553-e278-17d4ca7ba703"
      },
      "execution_count": null,
      "outputs": [
        {
          "output_type": "stream",
          "name": "stdout",
          "text": [
            "random number: 629\n",
            "basis: (367, 122)\n",
            "is basis on curve: True\n"
          ]
        }
      ]
    },
    {
      "cell_type": "code",
      "source": [
        "private_key = random.randint(1, p - 1)\n",
        "public_key = elliptic1.generate_public_key(basis, private_key)\n",
        "\n",
        "print(f'private key: {private_key}')\n",
        "print(f'public key: {public_key}')"
      ],
      "metadata": {
        "colab": {
          "base_uri": "https://localhost:8080/"
        },
        "id": "GDJtADXLpIvx",
        "outputId": "a14c82de-e14a-4cbd-a9f8-c3181e73eb53"
      },
      "execution_count": null,
      "outputs": [
        {
          "output_type": "stream",
          "name": "stdout",
          "text": [
            "private key: 498\n",
            "public key: (24, 686)\n"
          ]
        }
      ]
    },
    {
      "cell_type": "code",
      "source": [
        "message = (385, 423)\n",
        "\n",
        "cipher = elliptic1.enryption(message, public_key)\n",
        "\n",
        "decrypted_message = elliptic1.decryption(cipher, private_key)\n",
        "\n",
        "print(f'message: {message}')\n",
        "print(f'cipher: {cipher}')\n",
        "print(f'decrypted message: {decrypted_message}')"
      ],
      "metadata": {
        "colab": {
          "base_uri": "https://localhost:8080/"
        },
        "id": "F22RAbB7qXQr",
        "outputId": "c255988a-724c-464c-d351-9f562a7006f6"
      },
      "execution_count": null,
      "outputs": [
        {
          "output_type": "stream",
          "name": "stdout",
          "text": [
            "message: (385, 423)\n",
            "cipher: ((486, 355), (635, 242))\n",
            "decrypted message: (385, 423)\n"
          ]
        }
      ]
    },
    {
      "cell_type": "markdown",
      "source": [
        "## Testing"
      ],
      "metadata": {
        "id": "o2OfpLAFtEiv"
      }
    },
    {
      "cell_type": "code",
      "source": [
        "CONTENT = \"3348610401970005#christofer*derian*budianto#tegal#1997-03-04#laki-laki#b#jl.*pala*22*no.*30#005#017#mejasem*tengah#kramat#katholik#belum*kawin#pelajar/mahasiswa#wni#seumur*hidup\""
      ],
      "metadata": {
        "id": "mBplpIwgJI9L"
      },
      "execution_count": null,
      "outputs": []
    },
    {
      "cell_type": "code",
      "source": [
        "elliptic1.k_koblitz = 18 # max 18 if add \"-#./*\"\n",
        "\n",
        "# plaintexts = \"-#./*\"\n",
        "plaintext = \"lorem.#-/*\"\n",
        "# plaintexts = CONTENT\n",
        "print(f'Plaintext: {plaintext}')\n",
        "\n",
        "ciphertext = elliptic1.encrypt_message(plaintext, public_key)\n",
        "print(f\"Ciphertext: {ciphertext}\")\n",
        "\n",
        "# Decrypt the ciphertext back to the original message\n",
        "decrypted_message = elliptic1.decrypt_message(ciphertext, private_key)\n",
        "print(f\"Decrypted message: {decrypted_message}\")"
      ],
      "metadata": {
        "colab": {
          "base_uri": "https://localhost:8080/",
          "height": 582
        },
        "id": "FalHxWlQtE5j",
        "outputId": "f7b4abd8-c757-4980-a905-54a6e5d7f555"
      },
      "execution_count": null,
      "outputs": [
        {
          "output_type": "stream",
          "name": "stdout",
          "text": [
            "Plaintext: lorem.#-/*\n",
            "((486, 355), (1, 375))\n",
            "((486, 355), (2, 378))\n",
            "((486, 355), (47, 335))\n",
            "((486, 355), (423, 135))\n",
            "((486, 355), (196, 113))\n",
            "((486, 355), (629, 206))\n",
            "((486, 355), (364, 354))\n",
            "((486, 355), (196, 113))\n",
            "((486, 355), (1, 375))\n",
            "((486, 355), (225, 634))\n",
            "Ciphertext: 122b159ag1gh124ag1c9\n",
            "[1, 2, 2, 11, 1, 5, 9, 10, 16, 1, 16, 17, 1, 2, 4, 10, 16, 1, 12, 9]\n",
            "[20, 47, 23, 172, 289, 305, 20, 82, 289, 225]\n"
          ]
        },
        {
          "output_type": "error",
          "ename": "TypeError",
          "evalue": "cannot unpack non-iterable int object",
          "traceback": [
            "\u001b[0;31m---------------------------------------------------------------------------\u001b[0m",
            "\u001b[0;31mTypeError\u001b[0m                                 Traceback (most recent call last)",
            "\u001b[0;32m<ipython-input-1772-51d2c90df821>\u001b[0m in \u001b[0;36m<cell line: 12>\u001b[0;34m()\u001b[0m\n\u001b[1;32m     10\u001b[0m \u001b[0;34m\u001b[0m\u001b[0m\n\u001b[1;32m     11\u001b[0m \u001b[0;31m# Decrypt the ciphertext back to the original message\u001b[0m\u001b[0;34m\u001b[0m\u001b[0;34m\u001b[0m\u001b[0m\n\u001b[0;32m---> 12\u001b[0;31m \u001b[0mdecrypted_message\u001b[0m \u001b[0;34m=\u001b[0m \u001b[0melliptic1\u001b[0m\u001b[0;34m.\u001b[0m\u001b[0mdecrypt_message\u001b[0m\u001b[0;34m(\u001b[0m\u001b[0mciphertext\u001b[0m\u001b[0;34m,\u001b[0m \u001b[0mprivate_key\u001b[0m\u001b[0;34m)\u001b[0m\u001b[0;34m\u001b[0m\u001b[0;34m\u001b[0m\u001b[0m\n\u001b[0m\u001b[1;32m     13\u001b[0m \u001b[0mprint\u001b[0m\u001b[0;34m(\u001b[0m\u001b[0;34mf\"Decrypted message: {decrypted_message}\"\u001b[0m\u001b[0;34m)\u001b[0m\u001b[0;34m\u001b[0m\u001b[0;34m\u001b[0m\u001b[0m\n",
            "\u001b[0;32m<ipython-input-1767-7556f4b4aaf5>\u001b[0m in \u001b[0;36mdecrypt_message\u001b[0;34m(self, encrypted_message, private_key)\u001b[0m\n\u001b[1;32m    324\u001b[0m     \u001b[0;31m# Step 3: Decrypt each Koblitz point using elliptic curve decryption\u001b[0m\u001b[0;34m\u001b[0m\u001b[0;34m\u001b[0m\u001b[0m\n\u001b[1;32m    325\u001b[0m     \u001b[0;32mfor\u001b[0m \u001b[0mpoint\u001b[0m \u001b[0;32min\u001b[0m \u001b[0mpoints\u001b[0m\u001b[0;34m:\u001b[0m\u001b[0;34m\u001b[0m\u001b[0;34m\u001b[0m\u001b[0m\n\u001b[0;32m--> 326\u001b[0;31m         \u001b[0mdecrypted_point\u001b[0m \u001b[0;34m=\u001b[0m \u001b[0mself\u001b[0m\u001b[0;34m.\u001b[0m\u001b[0mdecryption\u001b[0m\u001b[0;34m(\u001b[0m\u001b[0mpoint\u001b[0m\u001b[0;34m,\u001b[0m \u001b[0mprivate_key\u001b[0m\u001b[0;34m)\u001b[0m\u001b[0;34m\u001b[0m\u001b[0;34m\u001b[0m\u001b[0m\n\u001b[0m\u001b[1;32m    327\u001b[0m         \u001b[0mdecrypted_points\u001b[0m\u001b[0;34m.\u001b[0m\u001b[0mappend\u001b[0m\u001b[0;34m(\u001b[0m\u001b[0mdecrypted_point\u001b[0m\u001b[0;34m)\u001b[0m\u001b[0;34m\u001b[0m\u001b[0;34m\u001b[0m\u001b[0m\n\u001b[1;32m    328\u001b[0m \u001b[0;34m\u001b[0m\u001b[0m\n",
            "\u001b[0;32m<ipython-input-1767-7556f4b4aaf5>\u001b[0m in \u001b[0;36mdecryption\u001b[0;34m(self, C, private_key)\u001b[0m\n\u001b[1;32m    166\u001b[0m     \u001b[0mC1\u001b[0m\u001b[0;34m,\u001b[0m \u001b[0mC2\u001b[0m \u001b[0;34m=\u001b[0m \u001b[0mC\u001b[0m\u001b[0;34m\u001b[0m\u001b[0;34m\u001b[0m\u001b[0m\n\u001b[1;32m    167\u001b[0m \u001b[0;34m\u001b[0m\u001b[0m\n\u001b[0;32m--> 168\u001b[0;31m     \u001b[0m_p\u001b[0m \u001b[0;34m=\u001b[0m \u001b[0mself\u001b[0m\u001b[0;34m.\u001b[0m\u001b[0mcalculate_point_multiplication\u001b[0m\u001b[0;34m(\u001b[0m\u001b[0mC1\u001b[0m\u001b[0;34m,\u001b[0m \u001b[0mprivate_key\u001b[0m\u001b[0;34m)\u001b[0m\u001b[0;34m\u001b[0m\u001b[0;34m\u001b[0m\u001b[0m\n\u001b[0m\u001b[1;32m    169\u001b[0m \u001b[0;34m\u001b[0m\u001b[0m\n\u001b[1;32m    170\u001b[0m     \u001b[0mplain\u001b[0m \u001b[0;34m=\u001b[0m \u001b[0mself\u001b[0m\u001b[0;34m.\u001b[0m\u001b[0mcalculate_point_subtract\u001b[0m\u001b[0;34m(\u001b[0m\u001b[0mC2\u001b[0m\u001b[0;34m,\u001b[0m \u001b[0m_p\u001b[0m\u001b[0;34m)\u001b[0m\u001b[0;34m\u001b[0m\u001b[0;34m\u001b[0m\u001b[0m\n",
            "\u001b[0;32m<ipython-input-1767-7556f4b4aaf5>\u001b[0m in \u001b[0;36mcalculate_point_multiplication\u001b[0;34m(self, P, k)\u001b[0m\n\u001b[1;32m    137\u001b[0m             \u001b[0;32melse\u001b[0m\u001b[0;34m:\u001b[0m\u001b[0;34m\u001b[0m\u001b[0;34m\u001b[0m\u001b[0m\n\u001b[1;32m    138\u001b[0m                 \u001b[0mR\u001b[0m \u001b[0;34m=\u001b[0m \u001b[0mself\u001b[0m\u001b[0;34m.\u001b[0m\u001b[0mcalculate_point_addition\u001b[0m\u001b[0;34m(\u001b[0m\u001b[0mR\u001b[0m\u001b[0;34m,\u001b[0m \u001b[0mQ\u001b[0m\u001b[0;34m)\u001b[0m\u001b[0;34m\u001b[0m\u001b[0;34m\u001b[0m\u001b[0m\n\u001b[0;32m--> 139\u001b[0;31m         \u001b[0mQ\u001b[0m \u001b[0;34m=\u001b[0m \u001b[0mself\u001b[0m\u001b[0;34m.\u001b[0m\u001b[0mcalculate_point_addition\u001b[0m\u001b[0;34m(\u001b[0m\u001b[0mQ\u001b[0m\u001b[0;34m,\u001b[0m \u001b[0mQ\u001b[0m\u001b[0;34m)\u001b[0m  \u001b[0;31m# Double the point Q\u001b[0m\u001b[0;34m\u001b[0m\u001b[0;34m\u001b[0m\u001b[0m\n\u001b[0m\u001b[1;32m    140\u001b[0m         \u001b[0mk\u001b[0m \u001b[0;34m//=\u001b[0m \u001b[0;36m2\u001b[0m  \u001b[0;31m# Move to the next bit\u001b[0m\u001b[0;34m\u001b[0m\u001b[0;34m\u001b[0m\u001b[0m\n\u001b[1;32m    141\u001b[0m \u001b[0;34m\u001b[0m\u001b[0m\n",
            "\u001b[0;32m<ipython-input-1767-7556f4b4aaf5>\u001b[0m in \u001b[0;36mcalculate_point_addition\u001b[0;34m(self, P, Q)\u001b[0m\n\u001b[1;32m     87\u001b[0m \u001b[0;34m\u001b[0m\u001b[0m\n\u001b[1;32m     88\u001b[0m   \u001b[0;32mdef\u001b[0m \u001b[0mcalculate_point_addition\u001b[0m\u001b[0;34m(\u001b[0m\u001b[0mself\u001b[0m\u001b[0;34m,\u001b[0m \u001b[0mP\u001b[0m\u001b[0;34m,\u001b[0m \u001b[0mQ\u001b[0m\u001b[0;34m)\u001b[0m\u001b[0;34m:\u001b[0m\u001b[0;34m\u001b[0m\u001b[0;34m\u001b[0m\u001b[0m\n\u001b[0;32m---> 89\u001b[0;31m     \u001b[0mm\u001b[0m \u001b[0;34m=\u001b[0m \u001b[0mself\u001b[0m\u001b[0;34m.\u001b[0m\u001b[0mcalculate_slope_mod\u001b[0m\u001b[0;34m(\u001b[0m\u001b[0mP\u001b[0m\u001b[0;34m,\u001b[0m \u001b[0mQ\u001b[0m\u001b[0;34m)\u001b[0m\u001b[0;34m\u001b[0m\u001b[0;34m\u001b[0m\u001b[0m\n\u001b[0m\u001b[1;32m     90\u001b[0m \u001b[0;34m\u001b[0m\u001b[0m\n\u001b[1;32m     91\u001b[0m     \u001b[0mxr\u001b[0m \u001b[0;34m=\u001b[0m \u001b[0mself\u001b[0m\u001b[0;34m.\u001b[0m\u001b[0mcalculate_add_xr_mod\u001b[0m\u001b[0;34m(\u001b[0m\u001b[0mP\u001b[0m\u001b[0;34m,\u001b[0m \u001b[0mQ\u001b[0m\u001b[0;34m,\u001b[0m \u001b[0mm\u001b[0m\u001b[0;34m)\u001b[0m\u001b[0;34m\u001b[0m\u001b[0;34m\u001b[0m\u001b[0m\n",
            "\u001b[0;32m<ipython-input-1767-7556f4b4aaf5>\u001b[0m in \u001b[0;36mcalculate_slope_mod\u001b[0;34m(self, P, Q)\u001b[0m\n\u001b[1;32m     55\u001b[0m \u001b[0;34m\u001b[0m\u001b[0m\n\u001b[1;32m     56\u001b[0m   \u001b[0;32mdef\u001b[0m \u001b[0mcalculate_slope_mod\u001b[0m\u001b[0;34m(\u001b[0m\u001b[0mself\u001b[0m\u001b[0;34m,\u001b[0m \u001b[0mP\u001b[0m\u001b[0;34m,\u001b[0m \u001b[0mQ\u001b[0m\u001b[0;34m)\u001b[0m\u001b[0;34m:\u001b[0m\u001b[0;34m\u001b[0m\u001b[0;34m\u001b[0m\u001b[0m\n\u001b[0;32m---> 57\u001b[0;31m     \u001b[0mx1\u001b[0m\u001b[0;34m,\u001b[0m \u001b[0my1\u001b[0m \u001b[0;34m=\u001b[0m \u001b[0mP\u001b[0m\u001b[0;34m\u001b[0m\u001b[0;34m\u001b[0m\u001b[0m\n\u001b[0m\u001b[1;32m     58\u001b[0m     \u001b[0mx2\u001b[0m\u001b[0;34m,\u001b[0m \u001b[0my2\u001b[0m \u001b[0;34m=\u001b[0m \u001b[0mQ\u001b[0m\u001b[0;34m\u001b[0m\u001b[0;34m\u001b[0m\u001b[0m\n\u001b[1;32m     59\u001b[0m     \u001b[0;32mif\u001b[0m \u001b[0mx1\u001b[0m \u001b[0;34m==\u001b[0m \u001b[0mx2\u001b[0m \u001b[0;32mand\u001b[0m \u001b[0my1\u001b[0m \u001b[0;34m==\u001b[0m \u001b[0my2\u001b[0m\u001b[0;34m:\u001b[0m\u001b[0;34m\u001b[0m\u001b[0;34m\u001b[0m\u001b[0m\n",
            "\u001b[0;31mTypeError\u001b[0m: cannot unpack non-iterable int object"
          ]
        }
      ]
    },
    {
      "cell_type": "code",
      "source": [
        "ciphertext"
      ],
      "metadata": {
        "id": "4H2Ew9gOHDAg"
      },
      "execution_count": null,
      "outputs": []
    },
    {
      "cell_type": "markdown",
      "source": [],
      "metadata": {
        "id": "_ZIQtRi4JcKc"
      }
    },
    {
      "cell_type": "code",
      "source": [
        "class EllipticCurve:\n",
        "    def __init__(self, a, b, p, k, B=None):\n",
        "        self.p = p  # Prime number\n",
        "        self.a = a  # Alpha\n",
        "        self.b = b  # Beta\n",
        "        self.k = k\n",
        "        self.PointB = B\n",
        "\n",
        "        self.char_to_num_dict = {\n",
        "            '0': 0, '1': 1, '2': 2, '3': 3, '4': 4, '5': 5, '6': 6, '7': 7, '8': 8, '9': 9,\n",
        "            'a': 10, 'b': 11, 'c': 12, 'd': 13, 'e': 14, 'f': 15, 'g': 16, 'h': 17,\n",
        "            'i': 18, 'j': 19, 'k': 20, 'l': 21, 'm': 22, 'n': 23, 'o': 24, 'p': 25,\n",
        "            'q': 26, 'r': 27, 's': 28, 't': 29, 'u': 30, 'v': 31, 'w': 32, 'x': 33,\n",
        "            'y': 34, 'z': 35, '.': 36, '#': 37, '*': 38, '/': 39, '-': 40\n",
        "        }\n",
        "\n",
        "        self.num_to_char_dict = {v: k for k, v in self.char_to_num_dict.items()}\n",
        "\n",
        "        # Dynamically set k_koblitz based on the size of the character set\n",
        "        self.k_koblitz = max(self.char_to_num_dict.values()) + 1  # This will be 41.\n",
        "\n",
        "    def split_number(self, number):\n",
        "        \"\"\"Split a large number into chunks within the range 0-40\"\"\"\n",
        "        chunks = []\n",
        "        while number > 0:\n",
        "            chunks.append(number % self.k_koblitz)  # Split off the last digit in base k_koblitz (41)\n",
        "            number //= self.k_koblitz  # Shift to the next chunk\n",
        "        return chunks[::-1]  # Return chunks in reverse order (most significant first)\n",
        "\n",
        "    def combine_chunks(self, chunks):\n",
        "        \"\"\"Combine chunks back into the original number\"\"\"\n",
        "        number = 0\n",
        "        for chunk in chunks:\n",
        "            number = number * self.k_koblitz + chunk  # Combine chunks back using base k_koblitz (41)\n",
        "        return number\n",
        "\n",
        "    def number_to_chars(self, number):\n",
        "        \"\"\"Convert a large number into characters\"\"\"\n",
        "        chunks = self.split_number(number)  # Split the number into valid chunks\n",
        "        chars = ''.join([self.num_to_char_dict[chunk] for chunk in chunks])  # Convert each chunk to a character\n",
        "        return chars\n",
        "\n",
        "    def chars_to_number(self, chars):\n",
        "        \"\"\"Convert characters back into the original number\"\"\"\n",
        "        chunks = [self.char_to_num_dict[char] for char in chars]  # Convert each character back to a number\n",
        "        number = self.combine_chunks(chunks)  # Combine the chunks back into the original number\n",
        "        return number\n",
        "\n",
        "    def encode_number_as_chars(self, number):\n",
        "        \"\"\"Encode the number as characters and print the result\"\"\"\n",
        "        char_representation = self.number_to_chars(number)\n",
        "        print(f\"Character representation of {number}: {char_representation}\")\n",
        "        return char_representation\n",
        "\n",
        "    def decode_chars_to_number(self, chars):\n",
        "        \"\"\"Decode characters back into the original number and print the result\"\"\"\n",
        "        number_representation = self.chars_to_number(chars)\n",
        "        print(f\"Number representation of {chars}: {number_representation}\")\n",
        "        return number_representation\n",
        "\n",
        "    def encode_and_decode(self, number):\n",
        "        \"\"\"Encode a number to chars and then decode it back to the number\"\"\"\n",
        "        # Encode the number to characters\n",
        "        encoded_chars = self.encode_number_as_chars(number)\n",
        "\n",
        "        # Decode the characters back to the original number\n",
        "        decoded_number = self.decode_chars_to_number(encoded_chars)\n",
        "\n",
        "        return encoded_chars, decoded_number\n"
      ],
      "metadata": {
        "id": "vBEz7xdhN-DL"
      },
      "execution_count": null,
      "outputs": []
    },
    {
      "cell_type": "code",
      "source": [
        "# Instantiate the class with elliptic curve parameters\n",
        "elliptic_curve = EllipticCurve(a=2, b=3, p=17, k=24)\n",
        "\n",
        "# Example number to test the encode > decode cycle\n",
        "test_number = 621  # Example number to encode and decode\n",
        "\n",
        "# Perform the process: Encode number -> Decode chars back to number\n",
        "encoded_chars, decoded_number = elliptic_curve.encode_and_decode(test_number)\n",
        "print(f\"Final encoded chars: {encoded_chars}\")\n",
        "print(f\"Final decoded number: {decoded_number}\")"
      ],
      "metadata": {
        "id": "i0GHyvbyOBrT"
      },
      "execution_count": null,
      "outputs": []
    },
    {
      "cell_type": "code",
      "source": [
        "# Define the custom character set\n",
        "char_set = \"0123456789abcdefghijklmnopqrstuvwxyzABCDEFGHIJKLMNOPQRSTUVWXYZ*-&_##@:;\"\n",
        "base = len(char_set)  # Base is 72 because there are 72 characters in the set\n",
        "\n",
        "# Convert a number to custom base-72 using the provided character set\n",
        "def convert_to_custom_base(num, char_set):\n",
        "    base = len(char_set)\n",
        "    encoded_string = []\n",
        "    while num > 0:\n",
        "        remainder = num % base\n",
        "        encoded_string.append(char_set[remainder])\n",
        "        num //= base\n",
        "    return ''.join(reversed(encoded_string))\n",
        "\n",
        "# Convert a base-72 encoded string back to an integer\n",
        "def convert_from_custom_base(encoded_string, char_set):\n",
        "    base = len(char_set)\n",
        "    decoded_num = 0\n",
        "    for char in encoded_string:\n",
        "        decoded_num = decoded_num * base + char_set.index(char)\n",
        "    return decoded_num\n",
        "\n",
        "# Chunk a string into chunks of size 2\n",
        "def chunk_string(s, chunk_size=2):\n",
        "    return [s[i:i+chunk_size] for i in range(0, len(s), chunk_size)]\n",
        "\n",
        "# Join a list of 2-character chunks into a single string\n",
        "def join_chunks(chunks):\n",
        "    return ''.join(chunks)\n",
        "\n",
        "# Encode two large integers x and y as a string of 2-character chunks\n",
        "def encode_cipher(x, y, char_set):\n",
        "    # Convert both x and y into base-72 encoded strings\n",
        "    encoded_x = convert_to_custom_base(x, char_set)\n",
        "    encoded_y = convert_to_custom_base(y, char_set)\n",
        "\n",
        "    # Combine both encoded strings\n",
        "    combined_encoded = encoded_x + encoded_y\n",
        "\n",
        "    # Chunk the combined string into 2-character blocks\n",
        "    cipher_chunks = chunk_string(combined_encoded, 2)\n",
        "\n",
        "    # Join the chunks into a final ciphertext string\n",
        "    return join_chunks(cipher_chunks)\n",
        "\n",
        "# Decode the 2-character chunked ciphertext back into the original integers x and y\n",
        "def decode_cipher(ciphertext, char_set):\n",
        "    # Chunk the ciphertext into 2-character blocks\n",
        "    chunks = chunk_string(ciphertext, 2)\n",
        "\n",
        "    # Join the chunks into a single string\n",
        "    encoded_string = join_chunks(chunks)\n",
        "\n",
        "    # Let's assume we know where x and y were separated in the original encoding\n",
        "    # For simplicity, let's split in the middle:\n",
        "    mid_index = len(encoded_string) // 2\n",
        "    encoded_x = encoded_string[:mid_index]\n",
        "    encoded_y = encoded_string[mid_index:]\n",
        "\n",
        "    # Convert the base-72 encoded strings back to integers\n",
        "    x = convert_from_custom_base(encoded_x, char_set)\n",
        "    y = convert_from_custom_base(encoded_y, char_set)\n",
        "\n",
        "    return x, y\n",
        "\n",
        "# Example usage without using a main block\n",
        "# Example large integers for x and y (this would come from ElGamal encryption)\n",
        "x = 1234567890987654321\n",
        "y = 9876543210123456789\n",
        "\n",
        "# Encoding\n",
        "encoded_cipher = encode_cipher(x, y, char_set)\n",
        "print(\"Encoded Ciphertext:\", encoded_cipher)\n",
        "\n",
        "# Decoding\n",
        "decoded_x, decoded_y = decode_cipher(encoded_cipher, char_set)\n",
        "print(\"Decoded x:\", decoded_x)\n",
        "print(\"Decoded y:\", decoded_y)"
      ],
      "metadata": {
        "colab": {
          "base_uri": "https://localhost:8080/"
        },
        "id": "-iqbyep2Vhvm",
        "outputId": "58d54d8e-29ae-423e-9e30-6208ffdb4ddb"
      },
      "execution_count": 1,
      "outputs": [
        {
          "output_type": "stream",
          "name": "stdout",
          "text": [
            "Encoded Ciphertext: q_WF@DM@PL32tGQq38ZDe\n",
            "Decoded x: 1234567890987654321\n",
            "Decoded y: 9876543210123456789\n"
          ]
        }
      ]
    }
  ]
}