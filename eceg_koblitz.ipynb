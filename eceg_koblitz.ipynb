{
  "nbformat": 4,
  "nbformat_minor": 0,
  "metadata": {
    "colab": {
      "provenance": [],
      "authorship_tag": "ABX9TyMcLqN7EpHVABGuriFy1SN9",
      "include_colab_link": true
    },
    "kernelspec": {
      "name": "python3",
      "display_name": "Python 3"
    },
    "language_info": {
      "name": "python"
    }
  },
  "cells": [
    {
      "cell_type": "markdown",
      "metadata": {
        "id": "view-in-github",
        "colab_type": "text"
      },
      "source": [
        "<a href=\"https://colab.research.google.com/github/Anjasfedo/Code-as-a-Cryptography/blob/main/eceg_koblitz.ipynb\" target=\"_parent\"><img src=\"https://colab.research.google.com/assets/colab-badge.svg\" alt=\"Open In Colab\"/></a>"
      ]
    },
    {
      "cell_type": "markdown",
      "source": [
        "# Elliptic Curve Parameter"
      ],
      "metadata": {
        "id": "ReBv5YcLe7t4"
      }
    },
    {
      "cell_type": "code",
      "source": [
        "# Parameters\n",
        "p = 751  # prime modulus\n",
        "k = 20    # chosen small integer\n",
        "a = -1    # coefficient of x in the elliptic curve\n",
        "b = 188    # constant in the elliptic curve"
      ],
      "metadata": {
        "id": "m9_bpHIPe-zS"
      },
      "execution_count": 31,
      "outputs": []
    },
    {
      "cell_type": "markdown",
      "source": [
        "# Koblitz Method"
      ],
      "metadata": {
        "id": "MHgtN_FRdsSx"
      }
    },
    {
      "cell_type": "markdown",
      "source": [
        "## Char to Num\n",
        "represent 1 - 9 and a = 10 ..... z = 35"
      ],
      "metadata": {
        "id": "hLLc4NmIeJZA"
      }
    },
    {
      "cell_type": "code",
      "source": [
        "# Manually create dictionaries for char-to-num and num-to-char mappings\n",
        "char_to_num_dict = {\n",
        "    '0': 10, '1': 11,\n",
        "    'a': 12, 'b': 13, 'c': 14, 'd': 15, 'e': 16, 'f': 17, 'g': 18, 'h': 19,\n",
        "    'i': 20, 'j': 21, 'k': 22, 'l': 23, 'm': 24, 'n': 25, 'o': 26, 'p': 27,\n",
        "    'q': 28, 'r': 29, 's': 30, 't': 31, 'u': 32, 'v': 33, 'w': 34, 'x': 35\n",
        "}\n",
        "\n",
        "# Reverse dictionary for num-to-char mapping\n",
        "num_to_char_dict = {v: k for k, v in char_to_num_dict.items()}\n",
        "\n",
        "# Function to map char to num\n",
        "def char_to_num(char):\n",
        "    if char in char_to_num_dict:\n",
        "        return char_to_num_dict[char]\n",
        "    else:\n",
        "        raise ValueError(f\"Character '{char}' is not valid. Please use '0-1' or 'a-x'.\")\n",
        "\n",
        "# Function to map num to char\n",
        "def num_to_char(num):\n",
        "    if num in num_to_char_dict:\n",
        "        return num_to_char_dict[num]\n",
        "    else:\n",
        "        raise ValueError(f\"Number '{num}' is not valid. Please use numbers in the range 10-35.\")\n",
        "\n",
        "def message_to_koblitz(message):\n",
        "    # Convert the message to a list of characters\n",
        "    chars = list(message)\n",
        "\n",
        "    koblitz = []\n",
        "    for char in chars:\n",
        "        num = char_to_num(char)\n",
        "        koblitz.append(num)\n",
        "\n",
        "    return koblitz\n",
        "\n",
        "def koblitz_to_message(koblitz):\n",
        "    message = []\n",
        "    for num in koblitz:\n",
        "        char = num_to_char(num)\n",
        "        message.append(char)\n",
        "\n",
        "    return ''.join(message)\n",
        "\n",
        "# Test mapping from char to num\n",
        "chars = '01ax'\n",
        "\n",
        "koblitz_message = message_to_koblitz(chars)\n",
        "print(\"Koblitz Message:\", koblitz_message)\n",
        "\n",
        "message = koblitz_to_message(koblitz_message)\n",
        "print(\"Message:\", message)"
      ],
      "metadata": {
        "colab": {
          "base_uri": "https://localhost:8080/"
        },
        "id": "I6PzvAoceRcg",
        "outputId": "ce6b791e-143e-4be8-f7de-4eadfd34dc75"
      },
      "execution_count": 32,
      "outputs": [
        {
          "output_type": "stream",
          "name": "stdout",
          "text": [
            "Koblitz Message: [10, 11, 12, 35]\n",
            "Message: 01ax\n"
          ]
        }
      ]
    },
    {
      "cell_type": "markdown",
      "source": [
        "## Koblitz Encoding"
      ],
      "metadata": {
        "id": "MZqttQERe2Wk"
      }
    },
    {
      "cell_type": "code",
      "execution_count": 33,
      "metadata": {
        "colab": {
          "base_uri": "https://localhost:8080/"
        },
        "id": "PA1VkrRqdl5t",
        "outputId": "08906fb3-ce8a-45c3-bf3f-354825a4ae26"
      },
      "outputs": [
        {
          "output_type": "stream",
          "name": "stdout",
          "text": [
            "Encoded point for character '10': (201, 5)\n",
            "Encoded point for character '11': (224, 248)\n",
            "Encoded point for character '12': (241, 230)\n",
            "Encoded point for character '35': (701, 203)\n"
          ]
        },
        {
          "output_type": "execute_result",
          "data": {
            "text/plain": [
              "[(201, 5), (224, 248), (241, 230), (701, 203)]"
            ]
          },
          "metadata": {},
          "execution_count": 33
        }
      ],
      "source": [
        "import sympy as sp\n",
        "\n",
        "# Elliptic curve equation: y^2 = x^3 + ax + b mod p\n",
        "def koblitz_encode(m, max_attempts=1000):\n",
        "    num = 1  # Start with x = m * k + 1\n",
        "    attempts = 0\n",
        "\n",
        "    while attempts < max_attempts:\n",
        "        x = m * k + num\n",
        "        rhs = (x**3 + a * x + b) % p  # right-hand side of the elliptic curve equation\n",
        "\n",
        "        # Check if rhs is a quadratic residue modulo p\n",
        "        if sp.is_quad_residue(rhs, p):\n",
        "            y = sp.sqrt_mod(rhs, p)\n",
        "            return (x, y)  # Return the point (x, y) as a tuple\n",
        "\n",
        "        num += 1  # Increment to check next x value\n",
        "        attempts += 1\n",
        "\n",
        "    # If no valid point is found after max_attempts\n",
        "    raise ValueError(f\"No valid point found after {max_attempts} attempts for message {m}.\")\n",
        "\n",
        "def koblitz_encode_message(message):\n",
        "  encoded_points = []\n",
        "  for char in message:\n",
        "    encoded_point = koblitz_encode(char)\n",
        "    encoded_points.append(encoded_point)\n",
        "    print(f\"Encoded point for character '{char}': {encoded_point}\")\n",
        "\n",
        "  return encoded_points\n",
        "\n",
        "encoded_points = koblitz_encode_message(koblitz_message)\n",
        "encoded_points"
      ]
    },
    {
      "cell_type": "markdown",
      "source": [
        "## Koblitz Decoding"
      ],
      "metadata": {
        "id": "RuXzvVpsgw4p"
      }
    },
    {
      "cell_type": "code",
      "source": [
        "# Decoding: m = (x - 1) / k\n",
        "def koblitz_decode(x):\n",
        "    return (x - 1) // k\n",
        "\n",
        "def koblitz_decode_message(points):\n",
        "    decoded_message = []\n",
        "    for point in points:\n",
        "        decoded_num = koblitz_decode(point[0])  # Decode the x-coordinate\n",
        "        decoded_message.append(decoded_num)\n",
        "        print(f\"Decoded character for point {point}: {decoded_num}\")\n",
        "    return decoded_message\n",
        "\n",
        "# Output the result\n",
        "decoded_points = koblitz_decode_message(encoded_points)\n",
        "decoded_points"
      ],
      "metadata": {
        "colab": {
          "base_uri": "https://localhost:8080/"
        },
        "id": "AgplqtYTfH7a",
        "outputId": "9d3a3b87-210b-47f0-dc14-cf7568fb6655"
      },
      "execution_count": 34,
      "outputs": [
        {
          "output_type": "stream",
          "name": "stdout",
          "text": [
            "Decoded character for point (201, 5): 10\n",
            "Decoded character for point (224, 248): 11\n",
            "Decoded character for point (241, 230): 12\n",
            "Decoded character for point (701, 203): 35\n"
          ]
        },
        {
          "output_type": "execute_result",
          "data": {
            "text/plain": [
              "[10, 11, 12, 35]"
            ]
          },
          "metadata": {},
          "execution_count": 34
        }
      ]
    },
    {
      "cell_type": "markdown",
      "source": [
        "## Represented Integer to Char"
      ],
      "metadata": {
        "id": "YPC_ucoDg6l5"
      }
    },
    {
      "cell_type": "code",
      "source": [
        "message = koblitz_to_message(decoded_points)\n",
        "message"
      ],
      "metadata": {
        "colab": {
          "base_uri": "https://localhost:8080/",
          "height": 35
        },
        "id": "uoSQ2u_dgv3F",
        "outputId": "2c2292db-059f-4d5f-cf40-34f197fa16fc"
      },
      "execution_count": 35,
      "outputs": [
        {
          "output_type": "execute_result",
          "data": {
            "text/plain": [
              "'01ax'"
            ],
            "application/vnd.google.colaboratory.intrinsic+json": {
              "type": "string"
            }
          },
          "metadata": {},
          "execution_count": 35
        }
      ]
    },
    {
      "cell_type": "markdown",
      "source": [
        "# Elliptic Curve El Gamal Class"
      ],
      "metadata": {
        "id": "Q2Xkcpxiii3T"
      }
    },
    {
      "cell_type": "code",
      "source": [
        "# Parameters\n",
        "p = 11  # prime modulus\n",
        "# k = 20    # chosen small integer\n",
        "a = 1    # coefficient of x in the elliptic curve\n",
        "b = 6    # constant in the elliptic curve\n",
        "# B = (2, 4)"
      ],
      "metadata": {
        "id": "Jbw3QL7Ckg0F"
      },
      "execution_count": 36,
      "outputs": []
    },
    {
      "cell_type": "code",
      "source": [
        "# Parameters\n",
        "p = 751  # prime modulus\n",
        "a = -1    # coefficient of x in the elliptic curve\n",
        "b = 188    # constant in the elliptic curve"
      ],
      "metadata": {
        "id": "ngVMe1lFtH4R"
      },
      "execution_count": 37,
      "outputs": []
    },
    {
      "cell_type": "code",
      "source": [
        "import random\n",
        "import sympy as sp\n",
        "\n",
        "class EllipticCurveElGamal:\n",
        "  def __init__(self, a, b, p, B=None):\n",
        "    self.p = p # primer number\n",
        "    self.a = a # alpha\n",
        "    self.b = b # beta\n",
        "\n",
        "    self.k = random.randint(1, self.p - 1)\n",
        "    self.PointB = B\n",
        "\n",
        "    self.pointP = None\n",
        "    self.pointQ = None\n",
        "\n",
        "    self.char_to_num_dict = {\n",
        "    '0': 0, '1': 1, '2': 2, '3': 3, '4': 4, '5': 5, '6': 6, '7': 7, '8': 8, '9': 9,\n",
        "    'a': 10, 'b': 11, 'c': 12, 'd': 13, 'e': 14, 'f': 15, 'g': 16, 'h': 17,\n",
        "    'i': 18, 'j': 19, 'k': 20, 'l': 21, 'm': 22, 'n': 23, 'o': 24, 'p': 25,\n",
        "    'q': 26, 'r': 27, 's': 28, 't': 29, 'u': 30, 'v': 31, 'w': 32, 'x': 33,\n",
        "    'y': 34, 'z': 35\n",
        "    }\n",
        "\n",
        "    self.num_to_char_dict = {v: k for k, v in self.char_to_num_dict.items()}\n",
        "\n",
        "  def elliptic_curve_equation(self, x):\n",
        "    return (x**3 + self.a*x + self.b) % self.p\n",
        "\n",
        "  def is_on_curve(self, x, y):\n",
        "    return self.elliptic_curve_equation(x)  == (y**2) % p\n",
        "\n",
        "  def generate_random_point(self):\n",
        "    while True:\n",
        "      x = random.randint(1, self.p - 1)\n",
        "      y = random.randint(1, self.p - 1)\n",
        "      if self.is_on_curve(x, y):\n",
        "        return (x, y)\n",
        "\n",
        "  def mod_inverse(self, a, p):\n",
        "      if a == 0:\n",
        "          raise ValueError(\"Inverse does not exist for 0.\")\n",
        "      return pow(a, p - 2, p)\n",
        "\n",
        "  def calculate_slope_mod(self, P, Q):\n",
        "    x1, y1 = P\n",
        "    x2, y2 = Q\n",
        "    if x1 == x2 and y1 == y2:\n",
        "        # Use the formula for point doubling when P == Q\n",
        "        numerator = (3 * x1**2 + self.a) % self.p\n",
        "        denominator = (2 * y1) % self.p\n",
        "    else:\n",
        "        # Use the formula for regular slope when P != Q\n",
        "        numerator = (y2 - y1) % self.p\n",
        "        denominator = (x2 - x1) % self.p\n",
        "\n",
        "    if denominator == 0:\n",
        "        raise ValueError(\"Slope is undefined (denominator is zero).\")\n",
        "\n",
        "    # Compute the slope as (numerator / denominator) % p, which is\n",
        "    # numerator * mod_inverse(denominator, p) % p\n",
        "    slope = (numerator * self.mod_inverse(denominator, self.p)) % self.p\n",
        "    return slope\n",
        "\n",
        "  def calculate_add_xr_mod(self, P, Q, m):\n",
        "    x1, y1 = P\n",
        "    x2, y2 = Q\n",
        "    xr = (m**2 - x1 - x2) % self.p\n",
        "    return xr\n",
        "\n",
        "  def calculate_add_yr_mod(self, P, Q, m, xr):\n",
        "    x1, y1 = P\n",
        "    x2, y2 = Q\n",
        "    yr = (m * (x1 - xr) - y1) % self.p\n",
        "    return yr\n",
        "\n",
        "  def calculate_point_addition(self, P, Q):\n",
        "    m = self.calculate_slope_mod(P, Q)\n",
        "\n",
        "    xr = self.calculate_add_xr_mod(P, Q, m)\n",
        "\n",
        "    yr = self.calculate_add_yr_mod(P, Q, m, xr)\n",
        "\n",
        "    R = (xr, yr)\n",
        "\n",
        "    return R\n",
        "\n",
        "  def calculate_dob_xr_mod(self, P, Q, m):\n",
        "    x1, y1 = P\n",
        "    x2, y2 = Q\n",
        "    xr = (m**2 - (2 * x1)) % self.p\n",
        "    return xr\n",
        "\n",
        "  def calculate_dob_yr_mod(self, P, Q, m, xr):\n",
        "    x1, y1 = P\n",
        "    yr = (m * (x1 - xr) - y1) % self.p\n",
        "    return yr\n",
        "\n",
        "  def calculate_point_doubling(self, P):\n",
        "\n",
        "    m = self.calculate_slope_mod(P, P)\n",
        "\n",
        "    xr = self.calculate_dob_xr_mod(P, P, m)\n",
        "\n",
        "    yr = self.calculate_dob_yr_mod(P, P, m, xr)\n",
        "\n",
        "    R = (xr, yr)\n",
        "\n",
        "    return R\n",
        "\n",
        "  def calculate_point_multiplication(self, P, k):\n",
        "    if k == 0:\n",
        "      return None\n",
        "    elif k == 1:\n",
        "      return P\n",
        "\n",
        "    # Initialize R to be the point at infinity, often represented as None in this context\n",
        "    R = None\n",
        "    Q = P  # Start with Q as P\n",
        "\n",
        "    # Double-and-add method\n",
        "    while k > 0:\n",
        "        if k % 2 == 1:  # If k is odd, add Q to the result\n",
        "            if R is None:\n",
        "                R = Q  # R is the point at infinity initially\n",
        "            else:\n",
        "                R = self.calculate_point_addition(R, Q)\n",
        "        Q = self.calculate_point_addition(Q, Q)  # Double the point Q\n",
        "        k //= 2  # Move to the next bit\n",
        "\n",
        "    return R\n",
        "\n",
        "  def calculate_point_subtract(self, P, Q):\n",
        "    # Find the inverse of point Q (x_Q, y_Q) -> (x_Q, -y_Q mod p)\n",
        "    Q_inv = (Q[0], (-Q[1]) % self.p)\n",
        "\n",
        "    # Subtract P - Q by adding P and Q_inv\n",
        "    R = self.calculate_point_addition(P, Q_inv)\n",
        "\n",
        "    return R\n",
        "\n",
        "  def generate_public_key(self, B, private_key):\n",
        "    public_key = self.calculate_point_multiplication(B, private_key)\n",
        "    return public_key\n",
        "\n",
        "  def enryption(self, M, public_key):\n",
        "    # k = random.randint(1, self.p - 1) # 1 < k < p - 1\n",
        "\n",
        "    C1 = self.calculate_point_multiplication(self.PointB, self.k)\n",
        "    C2 = self.calculate_point_addition(M, self.calculate_point_multiplication(public_key, k))\n",
        "\n",
        "    return (C1, C2)\n",
        "\n",
        "  def decryption(self, C, private_key):\n",
        "    C1, C2 = C\n",
        "\n",
        "    _p = self.calculate_point_multiplication(C1, private_key)\n",
        "\n",
        "    plain = self.calculate_point_subtract(C2, _p)\n",
        "\n",
        "    return plain\n",
        "\n",
        "  # Function to map char to num\n",
        "  def char_to_num(self, char):\n",
        "      if char in self.char_to_num_dict:\n",
        "          return self.char_to_num_dict[char]\n",
        "      else:\n",
        "          raise ValueError(f\"Character '{char}' is not valid. Please use '0-1' or 'a-x'.\")\n",
        "\n",
        "  # Function to map num to char\n",
        "  def num_to_char(self, num):\n",
        "      if num in self.num_to_char_dict:\n",
        "          return self.num_to_char_dict[num]\n",
        "      else:\n",
        "          raise ValueError(f\"Number '{num}' is not valid. Please use numbers in the range 10-35.\")\n",
        "\n",
        "  def message_to_koblitz(self, message):\n",
        "      # Convert the message to a list of characters\n",
        "      chars = list(message)\n",
        "\n",
        "      koblitz = []\n",
        "      for char in chars:\n",
        "          num = char_to_num(char)\n",
        "          koblitz.append(num)\n",
        "\n",
        "      return koblitz\n",
        "\n",
        "  def koblitz_to_message(self, koblitz):\n",
        "      message = []\n",
        "      for num in koblitz:\n",
        "          char = num_to_char(num)\n",
        "          message.append(char)\n",
        "\n",
        "      return ''.join(message)\n",
        "\n",
        "  def koblitz_encode(self, m, max_attempts=1000):\n",
        "    num = 1  # Start with x = m * k + 1\n",
        "    attempts = 0\n",
        "\n",
        "    while attempts < max_attempts:\n",
        "        x = m * self.k + num\n",
        "        rhs = (x**3 + self.a * x + self.b) % self.p  # right-hand side of the elliptic curve equation\n",
        "\n",
        "        # Check if rhs is a quadratic residue modulo p\n",
        "        if sp.is_quad_residue(rhs, self.p):\n",
        "            y = sp.sqrt_mod(rhs, self.p)\n",
        "            return (x, y)  # Return the point (x, y) as a tuple\n",
        "\n",
        "        num += 1  # Increment to check next x value\n",
        "        attempts += 1\n",
        "\n",
        "    # If no valid point is found after max_attempts\n",
        "    raise ValueError(f\"No valid point found after {max_attempts} attempts for message {m}.\")\n",
        "\n",
        "  def koblitz_encode_message(self, message):\n",
        "    encoded_points = []\n",
        "    for char in message:\n",
        "      encoded_point = koblitz_encode(char)\n",
        "      encoded_points.append(encoded_point)\n",
        "      # print(f\"Encoded point for character '{char}': {encoded_point}\")\n",
        "\n",
        "    return encoded_points\n",
        "\n",
        "  def koblitz_decode(self, x):\n",
        "    return (x - 1) // self.k\n",
        "\n",
        "  def koblitz_decode_message(self, points):\n",
        "      decoded_message = []\n",
        "      for point in points:\n",
        "          decoded_num = koblitz_decode(point[0])  # Decode the x-coordinate\n",
        "          decoded_message.append(decoded_num)\n",
        "          # print(f\"Decoded character for point {point}: {decoded_num}\")\n",
        "      return decoded_message"
      ],
      "metadata": {
        "id": "RFrNMjWlikqF"
      },
      "execution_count": 50,
      "outputs": []
    },
    {
      "cell_type": "code",
      "source": [
        "elliptic1 = EllipticCurveElGamal(a, b, p)\n",
        "\n",
        "basis = elliptic1.generate_random_point()\n",
        "print(f'basis: {basis}')\n",
        "\n",
        "elliptic1.PointB = basis\n",
        "\n",
        "print(f'is basis on curve: {elliptic1.is_on_curve(basis[0], basis[1])}')"
      ],
      "metadata": {
        "colab": {
          "base_uri": "https://localhost:8080/"
        },
        "id": "kiRnC-vbjQbA",
        "outputId": "d4dbf5d3-8f69-44c5-e5de-b782b897611e"
      },
      "execution_count": 51,
      "outputs": [
        {
          "output_type": "stream",
          "name": "stdout",
          "text": [
            "basis: (406, 194)\n",
            "is basis on curve: True\n"
          ]
        }
      ]
    },
    {
      "cell_type": "code",
      "source": [
        "elliptic1.generate_random_point()"
      ],
      "metadata": {
        "colab": {
          "base_uri": "https://localhost:8080/"
        },
        "id": "sSOHP6B-tL1k",
        "outputId": "e70edc73-b9ec-4184-a639-8c519a4a4247"
      },
      "execution_count": 40,
      "outputs": [
        {
          "output_type": "execute_result",
          "data": {
            "text/plain": [
              "(169, 619)"
            ]
          },
          "metadata": {},
          "execution_count": 40
        }
      ]
    },
    {
      "cell_type": "code",
      "source": [
        "elliptic1.calculate_slope_mod((2, 4), (5, 9))"
      ],
      "metadata": {
        "colab": {
          "base_uri": "https://localhost:8080/"
        },
        "id": "rTdDoG-dmPbW",
        "outputId": "a6c30869-b9bb-4315-981b-4903e98680c7"
      },
      "execution_count": 41,
      "outputs": [
        {
          "output_type": "execute_result",
          "data": {
            "text/plain": [
              "252"
            ]
          },
          "metadata": {},
          "execution_count": 41
        }
      ]
    },
    {
      "cell_type": "code",
      "source": [
        "elliptic1.calculate_point_addition((2, 4), (5, 9))"
      ],
      "metadata": {
        "colab": {
          "base_uri": "https://localhost:8080/"
        },
        "id": "_8_ilRjbnL3w",
        "outputId": "d37b50ee-b8f0-4a1b-9b0e-dc20fcb61547"
      },
      "execution_count": 42,
      "outputs": [
        {
          "output_type": "execute_result",
          "data": {
            "text/plain": [
              "(413, 62)"
            ]
          },
          "metadata": {},
          "execution_count": 42
        }
      ]
    },
    {
      "cell_type": "code",
      "source": [
        "elliptic1.calculate_point_doubling((2, 4))"
      ],
      "metadata": {
        "colab": {
          "base_uri": "https://localhost:8080/"
        },
        "id": "dKP-QXtlnzCP",
        "outputId": "75e37253-9834-4f3f-cdea-084959dcf152"
      },
      "execution_count": 43,
      "outputs": [
        {
          "output_type": "execute_result",
          "data": {
            "text/plain": [
              "(479, 185)"
            ]
          },
          "metadata": {},
          "execution_count": 43
        }
      ]
    },
    {
      "cell_type": "code",
      "source": [
        "elliptic1.calculate_point_multiplication((2, 4), 5)"
      ],
      "metadata": {
        "colab": {
          "base_uri": "https://localhost:8080/"
        },
        "id": "2RQsH92ko5O_",
        "outputId": "92ad2453-c3b0-4779-9587-609fbcd72681"
      },
      "execution_count": 44,
      "outputs": [
        {
          "output_type": "execute_result",
          "data": {
            "text/plain": [
              "(659, 616)"
            ]
          },
          "metadata": {},
          "execution_count": 44
        }
      ]
    },
    {
      "cell_type": "code",
      "source": [
        "private_key = 200000\n",
        "public_key = elliptic1.generate_public_key(basis, private_key)\n",
        "\n",
        "print(f'private key: {private_key}')\n",
        "print(f'public key: {public_key}')"
      ],
      "metadata": {
        "colab": {
          "base_uri": "https://localhost:8080/"
        },
        "id": "GDJtADXLpIvx",
        "outputId": "c1501d9a-688b-4dff-d0db-a9455bd55744"
      },
      "execution_count": 45,
      "outputs": [
        {
          "output_type": "stream",
          "name": "stdout",
          "text": [
            "private key: 200000\n",
            "public key: (721, 241)\n"
          ]
        }
      ]
    },
    {
      "cell_type": "code",
      "source": [
        "message = (233, 495)\n",
        "\n",
        "cipher = elliptic1.enryption(message, public_key)\n",
        "\n",
        "decrypted_message = elliptic1.decryption(cipher, private_key)\n",
        "\n",
        "print(f'message: {message}')\n",
        "print(f'cipher: {cipher}')\n",
        "print(f'decrypted message: {decrypted_message}')"
      ],
      "metadata": {
        "colab": {
          "base_uri": "https://localhost:8080/"
        },
        "id": "F22RAbB7qXQr",
        "outputId": "cc94153a-0afc-40e1-e93f-82381489f603"
      },
      "execution_count": 46,
      "outputs": [
        {
          "output_type": "stream",
          "name": "stdout",
          "text": [
            "message: (233, 495)\n",
            "cipher: ((743, 154), (39, 349))\n",
            "decrypted message: (367, 629)\n"
          ]
        }
      ]
    },
    {
      "cell_type": "code",
      "source": [
        "message_to_koblitz = elliptic1.message_to_koblitz(\"lorem\")\n",
        "print(message_to_koblitz)"
      ],
      "metadata": {
        "colab": {
          "base_uri": "https://localhost:8080/"
        },
        "id": "EBu7uJI9p5Hk",
        "outputId": "70871682-061d-4497-b6fe-f8d3b236d9ed"
      },
      "execution_count": 52,
      "outputs": [
        {
          "output_type": "stream",
          "name": "stdout",
          "text": [
            "[23, 26, 29, 16, 24]\n"
          ]
        }
      ]
    },
    {
      "cell_type": "code",
      "source": [
        "message_point = elliptic1.koblitz_encode_message(message_to_koblitz)\n",
        "print(message_point)"
      ],
      "metadata": {
        "colab": {
          "base_uri": "https://localhost:8080/"
        },
        "id": "trcM1FRRsKjx",
        "outputId": "ea2d8ff3-87fc-4a42-e06d-a10975b85ad9"
      },
      "execution_count": 53,
      "outputs": [
        {
          "output_type": "stream",
          "name": "stdout",
          "text": [
            "[(461, 92), (522, 282), (581, 20), (324, 7), (484, 161)]\n"
          ]
        }
      ]
    },
    {
      "cell_type": "code",
      "source": [
        "point_message = elliptic1.koblitz_decode_message(message_point)\n",
        "print(point_message)"
      ],
      "metadata": {
        "colab": {
          "base_uri": "https://localhost:8080/"
        },
        "id": "5HxClzGBswJH",
        "outputId": "077148bf-f251-4f54-b950-b76c0727dc8e"
      },
      "execution_count": 54,
      "outputs": [
        {
          "output_type": "stream",
          "name": "stdout",
          "text": [
            "[23, 26, 29, 16, 24]\n"
          ]
        }
      ]
    },
    {
      "cell_type": "code",
      "source": [
        "koblitz_to_message = elliptic1.koblitz_to_message(point_message)\n",
        "print(koblitz_to_message)"
      ],
      "metadata": {
        "colab": {
          "base_uri": "https://localhost:8080/"
        },
        "id": "R7MA12p4qCEM",
        "outputId": "51c6f7ae-deb3-4c28-de5e-909ded71db47"
      },
      "execution_count": 55,
      "outputs": [
        {
          "output_type": "stream",
          "name": "stdout",
          "text": [
            "lorem\n"
          ]
        }
      ]
    }
  ]
}