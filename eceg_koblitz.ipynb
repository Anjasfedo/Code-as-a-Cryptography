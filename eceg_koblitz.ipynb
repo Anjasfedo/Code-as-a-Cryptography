{
  "nbformat": 4,
  "nbformat_minor": 0,
  "metadata": {
    "colab": {
      "provenance": [],
      "authorship_tag": "ABX9TyMYWbwz4ay5iF0p+1c0/ZcO",
      "include_colab_link": true
    },
    "kernelspec": {
      "name": "python3",
      "display_name": "Python 3"
    },
    "language_info": {
      "name": "python"
    }
  },
  "cells": [
    {
      "cell_type": "markdown",
      "metadata": {
        "id": "view-in-github",
        "colab_type": "text"
      },
      "source": [
        "<a href=\"https://colab.research.google.com/github/Anjasfedo/Code-as-a-Cryptography/blob/main/eceg_koblitz.ipynb\" target=\"_parent\"><img src=\"https://colab.research.google.com/assets/colab-badge.svg\" alt=\"Open In Colab\"/></a>"
      ]
    },
    {
      "cell_type": "markdown",
      "source": [
        "# Elliptic Curve Parameter"
      ],
      "metadata": {
        "id": "ReBv5YcLe7t4"
      }
    },
    {
      "cell_type": "code",
      "source": [
        "# Parameters\n",
        "p = 751  # prime modulus\n",
        "k = 20    # chosen small integer\n",
        "a = -1    # coefficient of x in the elliptic curve\n",
        "b = 188    # constant in the elliptic curve"
      ],
      "metadata": {
        "id": "m9_bpHIPe-zS"
      },
      "execution_count": 8,
      "outputs": []
    },
    {
      "cell_type": "markdown",
      "source": [
        "# Koblitz Method"
      ],
      "metadata": {
        "id": "MHgtN_FRdsSx"
      }
    },
    {
      "cell_type": "markdown",
      "source": [
        "## Char to Num\n",
        "represent 1 - 9 and a = 10 ..... z = 35"
      ],
      "metadata": {
        "id": "hLLc4NmIeJZA"
      }
    },
    {
      "cell_type": "code",
      "source": [
        "# Manually create dictionaries for char-to-num and num-to-char mappings\n",
        "char_to_num_dict = {\n",
        "    '0': 10, '1': 11,\n",
        "    'a': 12, 'b': 13, 'c': 14, 'd': 15, 'e': 16, 'f': 17, 'g': 18, 'h': 19,\n",
        "    'i': 20, 'j': 21, 'k': 22, 'l': 23, 'm': 24, 'n': 25, 'o': 26, 'p': 27,\n",
        "    'q': 28, 'r': 29, 's': 30, 't': 31, 'u': 32, 'v': 33, 'w': 34, 'x': 35\n",
        "}\n",
        "\n",
        "# Reverse dictionary for num-to-char mapping\n",
        "num_to_char_dict = {v: k for k, v in char_to_num_dict.items()}\n",
        "\n",
        "# Function to map char to num\n",
        "def char_to_num(char):\n",
        "    if char in char_to_num_dict:\n",
        "        return char_to_num_dict[char]\n",
        "    else:\n",
        "        raise ValueError(f\"Character '{char}' is not valid. Please use '0-1' or 'a-x'.\")\n",
        "\n",
        "# Function to map num to char\n",
        "def num_to_char(num):\n",
        "    if num in num_to_char_dict:\n",
        "        return num_to_char_dict[num]\n",
        "    else:\n",
        "        raise ValueError(f\"Number '{num}' is not valid. Please use numbers in the range 10-35.\")\n",
        "\n",
        "def message_to_koblitz(message):\n",
        "    # Convert the message to a list of characters\n",
        "    chars = list(message)\n",
        "\n",
        "    koblitz = []\n",
        "    for char in chars:\n",
        "        num = char_to_num(char)\n",
        "        koblitz.append(num)\n",
        "\n",
        "    return koblitz\n",
        "\n",
        "def koblitz_to_message(koblitz):\n",
        "    message = []\n",
        "    for num in koblitz:\n",
        "        char = num_to_char(num)\n",
        "        message.append(char)\n",
        "\n",
        "    return ''.join(message)\n",
        "\n",
        "# Test mapping from char to num\n",
        "chars = '01ax'\n",
        "\n",
        "koblitz_message = message_to_koblitz(chars)\n",
        "print(\"Koblitz Message:\", koblitz_message)\n",
        "\n",
        "message = koblitz_to_message(koblitz_message)\n",
        "print(\"Message:\", message)"
      ],
      "metadata": {
        "colab": {
          "base_uri": "https://localhost:8080/"
        },
        "id": "I6PzvAoceRcg",
        "outputId": "78440539-9494-401d-dbd9-b195f6abcdb9"
      },
      "execution_count": 42,
      "outputs": [
        {
          "output_type": "stream",
          "name": "stdout",
          "text": [
            "Koblitz Message: [10, 11, 12, 35]\n",
            "Message: 01ax\n"
          ]
        }
      ]
    },
    {
      "cell_type": "markdown",
      "source": [
        "## Koblitz Encoding"
      ],
      "metadata": {
        "id": "MZqttQERe2Wk"
      }
    },
    {
      "cell_type": "code",
      "execution_count": 43,
      "metadata": {
        "colab": {
          "base_uri": "https://localhost:8080/"
        },
        "id": "PA1VkrRqdl5t",
        "outputId": "61e8a05d-3d59-4111-b58e-7c67d2f32221"
      },
      "outputs": [
        {
          "output_type": "stream",
          "name": "stdout",
          "text": [
            "Encoded point for character '10': (201, 5)\n",
            "Encoded point for character '11': (224, 248)\n",
            "Encoded point for character '12': (241, 230)\n",
            "Encoded point for character '35': (701, 203)\n"
          ]
        },
        {
          "output_type": "execute_result",
          "data": {
            "text/plain": [
              "[(201, 5), (224, 248), (241, 230), (701, 203)]"
            ]
          },
          "metadata": {},
          "execution_count": 43
        }
      ],
      "source": [
        "import sympy as sp\n",
        "\n",
        "# Elliptic curve equation: y^2 = x^3 + ax + b mod p\n",
        "def koblitz_encode(m, max_attempts=1000):\n",
        "    num = 1  # Start with x = m * k + 1\n",
        "    attempts = 0\n",
        "\n",
        "    while attempts < max_attempts:\n",
        "        x = m * k + num\n",
        "        rhs = (x**3 + a * x + b) % p  # right-hand side of the elliptic curve equation\n",
        "\n",
        "        # Check if rhs is a quadratic residue modulo p\n",
        "        if sp.is_quad_residue(rhs, p):\n",
        "            y = sp.sqrt_mod(rhs, p)\n",
        "            return (x, y)  # Return the point (x, y) as a tuple\n",
        "\n",
        "        num += 1  # Increment to check next x value\n",
        "        attempts += 1\n",
        "\n",
        "    # If no valid point is found after max_attempts\n",
        "    raise ValueError(f\"No valid point found after {max_attempts} attempts for message {m}.\")\n",
        "\n",
        "def koblitz_encode_message(message):\n",
        "  encoded_points = []\n",
        "  for char in message:\n",
        "    encoded_point = koblitz_encode(char)\n",
        "    encoded_points.append(encoded_point)\n",
        "    print(f\"Encoded point for character '{char}': {encoded_point}\")\n",
        "\n",
        "  return encoded_points\n",
        "\n",
        "encoded_points = koblitz_encode_message(koblitz_message)\n",
        "encoded_points"
      ]
    },
    {
      "cell_type": "markdown",
      "source": [
        "## Koblitz Decoding"
      ],
      "metadata": {
        "id": "RuXzvVpsgw4p"
      }
    },
    {
      "cell_type": "code",
      "source": [
        "# Decoding: m = (x - 1) / k\n",
        "def koblitz_decode(x):\n",
        "    return (x - 1) // k\n",
        "\n",
        "def koblitz_decode_message(points):\n",
        "    decoded_message = []\n",
        "    for point in points:\n",
        "        decoded_num = koblitz_decode(point[0])  # Decode the x-coordinate\n",
        "        decoded_message.append(decoded_num)\n",
        "        print(f\"Decoded character for point {point}: {decoded_num}\")\n",
        "    return decoded_message\n",
        "\n",
        "# Output the result\n",
        "decoded_points = koblitz_decode_message(encoded_points)\n",
        "decoded_points"
      ],
      "metadata": {
        "colab": {
          "base_uri": "https://localhost:8080/"
        },
        "id": "AgplqtYTfH7a",
        "outputId": "dea2c926-6f1a-4a6c-cccf-c7dcdceebf08"
      },
      "execution_count": 44,
      "outputs": [
        {
          "output_type": "stream",
          "name": "stdout",
          "text": [
            "Decoded character for point (201, 5): 10\n",
            "Decoded character for point (224, 248): 11\n",
            "Decoded character for point (241, 230): 12\n",
            "Decoded character for point (701, 203): 35\n"
          ]
        },
        {
          "output_type": "execute_result",
          "data": {
            "text/plain": [
              "[10, 11, 12, 35]"
            ]
          },
          "metadata": {},
          "execution_count": 44
        }
      ]
    },
    {
      "cell_type": "markdown",
      "source": [
        "## Represented Integer to Char"
      ],
      "metadata": {
        "id": "YPC_ucoDg6l5"
      }
    },
    {
      "cell_type": "code",
      "source": [
        "message = koblitz_to_message(decoded_points)\n",
        "message"
      ],
      "metadata": {
        "colab": {
          "base_uri": "https://localhost:8080/",
          "height": 35
        },
        "id": "uoSQ2u_dgv3F",
        "outputId": "6347e177-c825-44a8-fc4f-89d2d712b9e5"
      },
      "execution_count": 46,
      "outputs": [
        {
          "output_type": "execute_result",
          "data": {
            "text/plain": [
              "'01ax'"
            ],
            "application/vnd.google.colaboratory.intrinsic+json": {
              "type": "string"
            }
          },
          "metadata": {},
          "execution_count": 46
        }
      ]
    },
    {
      "cell_type": "markdown",
      "source": [
        "# Elliptic Curve El Gamal"
      ],
      "metadata": {
        "id": "Q2Xkcpxiii3T"
      }
    },
    {
      "cell_type": "code",
      "source": [
        "# Parameters\n",
        "p = 11  # prime modulus\n",
        "# k = 20    # chosen small integer\n",
        "a = 1    # coefficient of x in the elliptic curve\n",
        "b = 6    # constant in the elliptic curve\n",
        "B = (2, 4)"
      ],
      "metadata": {
        "id": "Jbw3QL7Ckg0F"
      },
      "execution_count": 73,
      "outputs": []
    },
    {
      "cell_type": "code",
      "source": [
        "class EllipticCurveElGamal:\n",
        "  def __init__(self, a, b, p, B):\n",
        "    self.p = p # primer number\n",
        "    self.a = a # alpha\n",
        "    self.b = b # beta\n",
        "\n",
        "    self.PointB = B\n",
        "\n",
        "    # self.k = k # random\n",
        "    self.pointP = None\n",
        "    self.pointQ = None\n",
        "\n",
        "  def elliptic_curve_equation(self, x):\n",
        "    return (x**3 + self.a*x + self.b) % self.p\n",
        "\n",
        "  def is_on_curve(self, x, y):\n",
        "    return self.elliptic_curve_equation(x)  == (y**2) % p"
      ],
      "metadata": {
        "id": "RFrNMjWlikqF"
      },
      "execution_count": 74,
      "outputs": []
    },
    {
      "cell_type": "code",
      "source": [
        "elliptic1 = EllipticCurveElGamal(a, b, p, B)\n",
        "elliptic1.is_on_curve(10, 9)"
      ],
      "metadata": {
        "colab": {
          "base_uri": "https://localhost:8080/"
        },
        "id": "kiRnC-vbjQbA",
        "outputId": "6333c90a-b8be-456a-bcbe-c76119c51f54"
      },
      "execution_count": 76,
      "outputs": [
        {
          "output_type": "execute_result",
          "data": {
            "text/plain": [
              "True"
            ]
          },
          "metadata": {},
          "execution_count": 76
        }
      ]
    }
  ]
}