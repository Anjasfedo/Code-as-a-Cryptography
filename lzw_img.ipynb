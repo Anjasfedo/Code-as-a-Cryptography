{
  "nbformat": 4,
  "nbformat_minor": 0,
  "metadata": {
    "colab": {
      "provenance": [],
      "authorship_tag": "ABX9TyM6kptShmjcqSrM3fxNDsO5",
      "include_colab_link": true
    },
    "kernelspec": {
      "name": "python3",
      "display_name": "Python 3"
    },
    "language_info": {
      "name": "python"
    }
  },
  "cells": [
    {
      "cell_type": "markdown",
      "metadata": {
        "id": "view-in-github",
        "colab_type": "text"
      },
      "source": [
        "<a href=\"https://colab.research.google.com/github/Anjasfedo/Code-as-a-Cryptography/blob/main/lzw_img.ipynb\" target=\"_parent\"><img src=\"https://colab.research.google.com/assets/colab-badge.svg\" alt=\"Open In Colab\"/></a>"
      ]
    },
    {
      "cell_type": "code",
      "execution_count": 1,
      "metadata": {
        "colab": {
          "base_uri": "https://localhost:8080/"
        },
        "id": "tTJPPk_Fp9kl",
        "outputId": "d109903f-9e2f-4138-9735-6b26a4ca7dea"
      },
      "outputs": [
        {
          "output_type": "stream",
          "name": "stdout",
          "text": [
            "Data terkompresi telah disimpan sebagai 'compressed_lena_image.bin'\n",
            "Gambar hasil dekompresi telah disimpan sebagai 'decompressed_lena_image.jpg'\n"
          ]
        }
      ],
      "source": [
        "import requests\n",
        "from PIL import Image\n",
        "from io import BytesIO\n",
        "import numpy as np\n",
        "import pickle\n",
        "\n",
        "# Fungsi untuk mengompresi menggunakan algoritma LZW\n",
        "def lzw_compress(uncompressed):\n",
        "    dict_size = 256\n",
        "    dictionary = {chr(i): i for i in range(dict_size)}\n",
        "\n",
        "    w = \"\"\n",
        "    compressed_data = []\n",
        "\n",
        "    for c in uncompressed:\n",
        "        wc = w + c\n",
        "        if wc in dictionary:\n",
        "            w = wc\n",
        "        else:\n",
        "            compressed_data.append(dictionary[w])\n",
        "            dictionary[wc] = dict_size\n",
        "            dict_size += 1\n",
        "            w = c\n",
        "\n",
        "    if w:\n",
        "        compressed_data.append(dictionary[w])\n",
        "\n",
        "    return compressed_data\n",
        "\n",
        "# Fungsi untuk dekompresi menggunakan algoritma LZW\n",
        "def lzw_decompress(compressed):\n",
        "    dict_size = 256\n",
        "    dictionary = {i: chr(i) for i in range(dict_size)}\n",
        "\n",
        "    result = []\n",
        "\n",
        "    w = chr(compressed.pop(0))\n",
        "    result.append(w)\n",
        "\n",
        "    for k in compressed:\n",
        "        if k in dictionary:\n",
        "            entry = dictionary[k]\n",
        "        elif k == dict_size:\n",
        "            entry = w + w[0]\n",
        "        else:\n",
        "            raise ValueError(\"Bad compressed k: %s\" % k)\n",
        "\n",
        "        result.append(entry)\n",
        "        dictionary[dict_size] = w + entry[0]\n",
        "        dict_size += 1\n",
        "        w = entry\n",
        "\n",
        "    return ''.join(result)\n",
        "\n",
        "# Mengunduh gambar Lena dari URL\n",
        "lena_url = \"https://upload.wikimedia.org/wikipedia/en/7/7d/Lenna_%28test_image%29.png\"\n",
        "response = requests.get(lena_url)\n",
        "img = Image.open(BytesIO(response.content))\n",
        "\n",
        "# Simpan gambar yang diunduh sebagai file lokal (misal: 'lena_image.png')\n",
        "img.save(\"lena_image.png\")\n",
        "img = img.convert(\"L\")  # Konversi ke grayscale\n",
        "\n",
        "# Konversi gambar menjadi urutan byte\n",
        "img_data = np.array(img).flatten()\n",
        "img_string = ''.join([chr(pixel) for pixel in img_data])\n",
        "\n",
        "# Kompresi menggunakan LZW\n",
        "compressed_data = lzw_compress(img_string)\n",
        "\n",
        "# Simpan data terkompresi ke file binari\n",
        "with open('compressed_lena_image.bin', 'wb') as f:\n",
        "    pickle.dump(compressed_data, f)\n",
        "\n",
        "print(\"Data terkompresi telah disimpan sebagai 'compressed_lena_image.bin'\")\n",
        "\n",
        "# Dekompresi\n",
        "with open('compressed_lena_image.bin', 'rb') as f:\n",
        "    loaded_compressed_data = pickle.load(f)\n",
        "\n",
        "decompressed_data = lzw_decompress(loaded_compressed_data)\n",
        "\n",
        "# Konversi kembali ke array numpy\n",
        "decompressed_img_data = np.array([ord(char) for char in decompressed_data], dtype=np.uint8)\n",
        "decompressed_img = decompressed_img_data.reshape(img.size[1], img.size[0])\n",
        "\n",
        "# Simpan hasil dekompresi sebagai gambar\n",
        "decompressed_img_pil = Image.fromarray(decompressed_img)\n",
        "decompressed_img_pil.save('decompressed_lena_image.jpg')\n",
        "\n",
        "print(\"Gambar hasil dekompresi telah disimpan sebagai 'decompressed_lena_image.jpg'\")"
      ]
    }
  ]
}